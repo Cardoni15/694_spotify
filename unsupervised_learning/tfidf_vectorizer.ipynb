{
 "cells": [
  {
   "cell_type": "code",
   "execution_count": 6,
   "metadata": {},
   "outputs": [],
   "source": [
    "\n",
    "from collections import Counter\n",
    "from scipy.sparse import csr_matrix, hstack\n",
    "from sklearn.dummy import DummyClassifier\n",
    "from sklearn.feature_extraction.text import TfidfVectorizer\n",
    "from sklearn.metrics import f1_score\n",
    "from sklearn.metrics.pairwise import euclidean_distances\n",
    "from sklearn.model_selection import GridSearchCV\n",
    "from sklearn.linear_model import LogisticRegression\n",
    "from sklearn.ensemble import RandomForestClassifier\n",
    "from sklearn.decomposition import PCA\n",
    "from sklearn.pipeline import make_pipeline\n",
    "from sklearn.preprocessing import StandardScaler\n",
    "import matplotlib.pyplot as plt\n",
    "import warnings\n",
    "warnings.filterwarnings(\"ignore\")\n",
    "\n",
    "import pandas as pd\n",
    "import numpy as np"
   ]
  },
  {
   "cell_type": "markdown",
   "metadata": {},
   "source": [
    "Term Frequency Inverse Document Frequency (TFIDF) Vectorizer Implementation"
   ]
  },
  {
   "cell_type": "code",
   "execution_count": 17,
   "metadata": {},
   "outputs": [],
   "source": [
    "# apply a TFIDF vectorizer to the lyrics.\n",
    "def train_tfidf_vectorizer(train, test, random_val = 42):\n",
    "    \"\"\"\n",
    "    read in a train and test set\n",
    "    return train and test in vectorizer form\n",
    "    \"\"\"\n",
    "    X_train = train['lyric_raw']\n",
    "    y_train = train['genre'].values\n",
    "    X_test = test['lyric_raw'].fillna(value=' ')\n",
    "    X_train.fillna(value=' ', inplace=True)\n",
    "    vectorizer = TfidfVectorizer(min_df=50, stop_words='english', ngram_range=(1,2))\n",
    "    X_train = vectorizer.fit_transform(X_train)\n",
    "    X_test = vectorizer.transform(X_test)\n",
    "    y_test = test['genre'].values\n",
    "    return X_train, y_train, X_test, y_test\n",
    "\n",
    "def lyrics_random_forest(X_train, y_train, random_state=42):\n",
    "    \"\"\"\n",
    "    read in X_train and y_train\n",
    "    return clf\n",
    "    \"\"\"\n",
    "    clf = RandomForestClassifier(n_estimators=1000, random_state=random_state, max_features=30, max_depth=125)\n",
    "    clf.fit(X_train, y_train)\n",
    "    return clf\n",
    "\n",
    "def lyrics_logistic_reg(X_train, y_train, random_val=42):\n",
    "    \"\"\"\n",
    "    train a logistic regression classifier\n",
    "    return clf\n",
    "    \"\"\"\n",
    "    clf = LogisticRegression(random_state=random_val, solver = 'newton-cg', multi_class='multinomial', max_iter=1000)\n",
    "    clf.fit(X_train, y_train)\n",
    "    return clf\n",
    "def evaluate_lyrics_clf(clf, X_test, y_test):\n",
    "    \"\"\"\n",
    "    predict X_test\n",
    "    return F1 score\n",
    "    \"\"\"\n",
    "    preds = clf.predict(X_test)\n",
    "    return f1_score(y_test, preds, average='macro')\n",
    "\n",
    "def generate_train_test(tracks_df, random_val=42, split_ratio=0.8):\n",
    "    \"\"\"\n",
    "    inputs:\n",
    "        a dataframe containing song attributes and genre.\n",
    "        random val for repeatability\n",
    "        split_ratio = decimal pct of samples to use for training.\n",
    "    returns:\n",
    "        two dataframes train_df and test_df\n",
    "    \"\"\"\n",
    "    # step 1 shuffle the df\n",
    "    temp_df = tracks_df.sample(random_state=random_val, frac=1.0)\n",
    "    temp_df.reset_index(inplace=True, drop=True)\n",
    "    # establish a number to split the frame at.\n",
    "    num_train_samples = int(split_ratio*len(tracks_df))\n",
    "    # split the DF into two sets train and test\n",
    "    return np.split(temp_df, [num_train_samples])\n"
   ]
  },
  {
   "cell_type": "markdown",
   "metadata": {},
   "source": [
    "Evaluate TFIDF Model Random Forest Performance"
   ]
  },
  {
   "cell_type": "code",
   "execution_count": 18,
   "metadata": {},
   "outputs": [
    {
     "data": {
      "text/plain": [
       "0.6373242811123655"
      ]
     },
     "execution_count": 18,
     "metadata": {},
     "output_type": "execute_result"
    }
   ],
   "source": [
    "lyrics_df = pd.read_csv('../raw_spotify_data/pure_genre_data_w_clean_lyrics.csv')\n",
    "lyrics_df = lyrics_df[['lyric_raw', 'genre']]\n",
    "#lyrics_df = lyrics_df[lyrics_df['genre']!='classical']\n",
    "#lyrics_df = lyrics_df[lyrics_df['genre']!='edm']\n",
    "train, test = generate_train_test(lyrics_df)\n",
    "X_train, y_train, X_test, y_test = train_tfidf_vectorizer(train, test)\n",
    "lyrics_forest_clf = lyrics_random_forest(X_train, y_train)\n",
    "evaluate_lyrics_clf(lyrics_forest_clf, X_test, y_test)"
   ]
  },
  {
   "cell_type": "markdown",
   "metadata": {},
   "source": [
    "Train a Model with Track Features and Lyrical Content"
   ]
  },
  {
   "cell_type": "code",
   "execution_count": 19,
   "metadata": {},
   "outputs": [],
   "source": [
    "# the goal of this cell is to train a model using lyrics AND using song attributes\n",
    "def lyric_attribute_train_test(all_df):\n",
    "    \"\"\"\n",
    "    read in a dataframe\n",
    "    return train and test data\n",
    "    \"\"\"\n",
    "    # list of columns to throw away\n",
    "    blacklist = ['artist_name_y', 'track_name_y','artist_name_x', 'artist_id', \n",
    "                'track_name_x','track_id', 'uri', 'track_href', 'analysis_url', \n",
    "                'type', 'lyric_clean']\n",
    "    all_df = all_df[[col for col in all_df.columns if col not in blacklist]]\n",
    "    train, test = generate_train_test(all_df)\n",
    "    # get vectorized lyrics:\n",
    "    X_train, y_train, X_test, y_test = train_tfidf_vectorizer(train, test)\n",
    "    # remove raw lyrics\n",
    "    del train['lyric_raw'] \n",
    "    del test['lyric_raw']\n",
    "    del train['genre']\n",
    "    del test['genre']\n",
    "    # add feature columns to the lyric vectors\n",
    "    X_train = hstack([X_train, train.values])\n",
    "    X_test = hstack([X_test, test.values])\n",
    "    return X_train, y_train, X_test, y_test"
   ]
  },
  {
   "cell_type": "markdown",
   "metadata": {},
   "source": [
    "Evaluate Model Performance with Both Track Features and Lyric Vectors"
   ]
  },
  {
   "cell_type": "code",
   "execution_count": 20,
   "metadata": {},
   "outputs": [
    {
     "data": {
      "text/plain": [
       "0.8205925516196133"
      ]
     },
     "execution_count": 20,
     "metadata": {},
     "output_type": "execute_result"
    }
   ],
   "source": [
    "all_df = pd.read_csv('../raw_spotify_data/pure_genre_data_w_clean_lyrics.csv')\n",
    "#all_df = all_df[all_df['genre']!='alt-rock']\n",
    "X_train, y_train, X_test, y_test = lyric_attribute_train_test(all_df)\n",
    "lyrics_forest_clf = lyrics_random_forest(X_train, y_train)\n",
    "evaluate_lyrics_clf(lyrics_forest_clf, X_test, y_test)"
   ]
  },
  {
   "cell_type": "markdown",
   "metadata": {},
   "source": [
    "Hyperparameter Tuning TFIDF Vectorizer Random Forest"
   ]
  },
  {
   "cell_type": "code",
   "execution_count": 21,
   "metadata": {},
   "outputs": [],
   "source": [
    "# start grid search for model tuning for lyrics too.\n",
    "temp_clf = RandomForestClassifier(random_state=42, n_jobs=-1)\n",
    "param_grid = {\n",
    "    'max_depth' : [100, 125, 150, 200],\n",
    "    'n_estimators' : [1000],\n",
    "    'criterion' : ['gini', 'entropy'],\n",
    "    'max_features' : [30],\n",
    "}\n",
    "gSearch = GridSearchCV(temp_clf, param_grid=param_grid, scoring='accuracy', n_jobs=-1, verbose=1, cv=2)"
   ]
  },
  {
   "cell_type": "code",
   "execution_count": 22,
   "metadata": {},
   "outputs": [
    {
     "name": "stdout",
     "output_type": "stream",
     "text": [
      "Fitting 2 folds for each of 8 candidates, totalling 16 fits\n"
     ]
    },
    {
     "data": {
      "text/plain": [
       "GridSearchCV(cv=2, estimator=RandomForestClassifier(n_jobs=-1, random_state=42),\n",
       "             n_jobs=-1,\n",
       "             param_grid={'criterion': ['gini', 'entropy'],\n",
       "                         'max_depth': [100, 125, 150, 200],\n",
       "                         'max_features': [30], 'n_estimators': [1000]},\n",
       "             scoring='accuracy', verbose=1)"
      ]
     },
     "execution_count": 22,
     "metadata": {},
     "output_type": "execute_result"
    }
   ],
   "source": [
    "lyrics_df = pd.read_csv('../raw_spotify_data/pure_genre_data_w_clean_lyrics.csv')\n",
    "lyrics_df = lyrics_df[['lyric_raw', 'genre']]\n",
    "train, test = generate_train_test(lyrics_df)\n",
    "X_train, y_train, X_test, y_test = train_tfidf_vectorizer(train, test)\n",
    "gSearch.fit(X_train, y_train)"
   ]
  },
  {
   "cell_type": "code",
   "execution_count": 23,
   "metadata": {},
   "outputs": [
    {
     "data": {
      "text/plain": [
       "{'criterion': 'gini',\n",
       " 'max_depth': 125,\n",
       " 'max_features': 30,\n",
       " 'n_estimators': 1000}"
      ]
     },
     "execution_count": 23,
     "metadata": {},
     "output_type": "execute_result"
    }
   ],
   "source": [
    "# extract best parameters for random forest\n",
    "gSearch.best_estimator_\n",
    "gSearch.best_params_"
   ]
  },
  {
   "cell_type": "markdown",
   "metadata": {},
   "source": [
    "Failure Analysis using Tracks and Lyrics Random Forest"
   ]
  },
  {
   "cell_type": "code",
   "execution_count": 24,
   "metadata": {},
   "outputs": [],
   "source": [
    "all_df = pd.read_csv('../raw_spotify_data/pure_genre_data_w_clean_lyrics.csv')\n",
    "#all_df = all_df[all_df['genre']!='alt-rock']\n",
    "X_train, y_train, X_test, y_test = lyric_attribute_train_test(all_df)\n",
    "rf_clf = lyrics_random_forest(X_train, y_train)\n",
    "# train models\n",
    "# predict\n",
    "y_pred_rf = rf_clf.predict(X_test)\n",
    "failure_df = pd.DataFrame()\n",
    "failure_df['true_y'] = y_test\n",
    "failure_df['pred_y'] = y_pred_rf"
   ]
  },
  {
   "cell_type": "code",
   "execution_count": 25,
   "metadata": {},
   "outputs": [
    {
     "name": "stdout",
     "output_type": "stream",
     "text": [
      "['alt-rock']\n",
      "81 105\n",
      "['classical']\n",
      "0 191\n",
      "['country']\n",
      "25 178\n",
      "['edm']\n",
      "68 143\n",
      "['heavy-metal']\n",
      "28 174\n",
      "['hip-hop']\n",
      "25 184\n",
      "['latin']\n",
      "21 187\n"
     ]
    },
    {
     "data": {
      "text/plain": [
       "(1162, 248)"
      ]
     },
     "execution_count": 25,
     "metadata": {},
     "output_type": "execute_result"
    }
   ],
   "source": [
    "genres_to_collect = ('alt-rock','classical', 'country',\n",
    "                       'edm', 'heavy-metal',  'hip-hop',\n",
    "                       'latin')\n",
    "required_cols = ['danceability', 'energy', 'key', 'loudness', 'mode', \n",
    "                'speechiness', 'acousticness', 'instrumentalness', \n",
    "                'liveness', 'valence', 'tempo',\n",
    "                'duration_ms'\n",
    "            ]\n",
    "# create a new dataframe column that tells the user if the model\n",
    "# predicted the genre correctly or not\n",
    "failure_df['results'] = (failure_df['pred_y'] == failure_df['true_y'])\n",
    "for genre in genres_to_collect:\n",
    "    tempDF = failure_df[failure_df['true_y']==genre]\n",
    "    sim_results = tempDF['results'].values\n",
    "    # calculate number of failures per genre\n",
    "    failures = [status for status in sim_results if status == False]\n",
    "    passes = [status for status in sim_results if status == True]\n",
    "    # print number of passes, fails for each genre\n",
    "    print([genre])\n",
    "    print(len(failures), len(passes))\n",
    "len(failure_df[failure_df['results']==True]), len(failure_df[failure_df['results']==False])"
   ]
  }
 ],
 "metadata": {
  "interpreter": {
   "hash": "5edc29c2ed010d6458d71a83433b383a96a8cbd3efe8531bc90c4b8a5b8bcec9"
  },
  "kernelspec": {
   "display_name": "Python 3.8.2 64-bit",
   "language": "python",
   "name": "python3"
  },
  "language_info": {
   "codemirror_mode": {
    "name": "ipython",
    "version": 3
   },
   "file_extension": ".py",
   "mimetype": "text/x-python",
   "name": "python",
   "nbconvert_exporter": "python",
   "pygments_lexer": "ipython3",
   "version": "3.8.2"
  },
  "orig_nbformat": 4
 },
 "nbformat": 4,
 "nbformat_minor": 2
}
