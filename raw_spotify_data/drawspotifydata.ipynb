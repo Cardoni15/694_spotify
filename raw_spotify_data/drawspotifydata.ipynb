{
 "cells": [
  {
   "cell_type": "markdown",
   "source": "### Spotify Data Pull from Spotipy API",
   "metadata": {
    "cell_id": "e7aea6e110394dcfacf43788df058e4a",
    "tags": [],
    "deepnote_cell_type": "markdown",
    "deepnote_cell_height": 61.96875
   }
  },
  {
   "cell_type": "code",
   "metadata": {
    "tags": [],
    "cell_id": "ff391e43-ab9f-4711-8525-13d4510945aa",
    "deepnote_to_be_reexecuted": false,
    "source_hash": "f4cdacb3",
    "execution_start": 1652379179838,
    "execution_millis": 3180,
    "deepnote_cell_type": "code",
    "deepnote_cell_height": 406.21875
   },
   "source": "!pip install spotipy\nimport pandas as pd\nimport spotipy\nfrom spotipy.oauth2 import SpotifyClientCredentials\n",
   "execution_count": null,
   "outputs": [
    {
     "name": "stdout",
     "text": "Collecting spotipy\n  Downloading spotipy-2.19.0-py3-none-any.whl (27 kB)\nRequirement already satisfied: requests>=2.25.0 in /shared-libs/python3.7/py/lib/python3.7/site-packages (from spotipy) (2.27.1)\nRequirement already satisfied: urllib3>=1.26.0 in /shared-libs/python3.7/py/lib/python3.7/site-packages (from spotipy) (1.26.9)\nRequirement already satisfied: six>=1.15.0 in /shared-libs/python3.7/py-core/lib/python3.7/site-packages (from spotipy) (1.16.0)\nRequirement already satisfied: charset-normalizer~=2.0.0; python_version >= \"3\" in /shared-libs/python3.7/py-core/lib/python3.7/site-packages (from requests>=2.25.0->spotipy) (2.0.12)\nRequirement already satisfied: certifi>=2017.4.17 in /shared-libs/python3.7/py/lib/python3.7/site-packages (from requests>=2.25.0->spotipy) (2021.10.8)\nRequirement already satisfied: idna<4,>=2.5; python_version >= \"3\" in /shared-libs/python3.7/py-core/lib/python3.7/site-packages (from requests>=2.25.0->spotipy) (3.3)\nInstalling collected packages: spotipy\nSuccessfully installed spotipy-2.19.0\n\u001b[33mWARNING: You are using pip version 20.1.1; however, version 22.1 is available.\nYou should consider upgrading via the '/root/venv/bin/python -m pip install --upgrade pip' command.\u001b[0m\n",
     "output_type": "stream"
    }
   ]
  },
  {
   "cell_type": "code",
   "metadata": {
    "cell_id": "0d64051892e34eb3bd3625b20aa84ab8",
    "tags": [],
    "deepnote_to_be_reexecuted": false,
    "source_hash": "97ca3de1",
    "execution_start": 1652379183018,
    "execution_millis": 3,
    "is_code_hidden": true,
    "deepnote_cell_type": "code",
    "deepnote_cell_height": 74.75
   },
   "source": "cid = '64f7bbb21d4e48fc80757bd14f524298'\nsecret = '8863fd4e13854c8db3c0474c4f2e2c6c'",
   "execution_count": null,
   "outputs": []
  },
  {
   "cell_type": "code",
   "metadata": {
    "cell_id": "f6c8d8fe7a8b457c91992d76b07435c5",
    "tags": [],
    "deepnote_to_be_reexecuted": false,
    "source_hash": "ccbca8a8",
    "execution_start": 1652379183026,
    "execution_millis": 3,
    "deepnote_cell_type": "code",
    "deepnote_cell_height": 98.96875
   },
   "source": "client_credentials_manager = SpotifyClientCredentials(client_id=cid, client_secret=secret)\nsp = spotipy.Spotify(client_credentials_manager = client_credentials_manager)",
   "execution_count": null,
   "outputs": []
  },
  {
   "cell_type": "code",
   "metadata": {
    "cell_id": "e3d63195f32a4cfdbd72cbec81cfdd41",
    "tags": [],
    "deepnote_to_be_reexecuted": false,
    "source_hash": "7099cfed",
    "execution_start": 1652379183077,
    "execution_millis": 2,
    "deepnote_cell_type": "code",
    "deepnote_cell_height": 666.53125,
    "deepnote_output_heights": [
     155.578125
    ]
   },
   "source": "link = 'https://open.spotify.com/playlist/37i9dQZF1DX2WkIBRaChxW' #RnB\nlink2 = 'https://open.spotify.com/playlist/37i9dQZF1DX0XUsuxWHRQd' #Rap\nlink3 = 'https://open.spotify.com/playlist/37i9dQZF1EQpj7X7UK8OOF' #Rock\nlink4 = 'https://open.spotify.com/playlist/37i9dQZF1DWWEcRhUVtL8n' #IndiePop\nlink5 = 'https://open.spotify.com/playlist/37i9dQZF1DX1lVhptIYRda' #Country\nlink6 = 'https://open.spotify.com/playlist/37i9dQZF1DX8tZsk68tuDw' #EDM\nlink7 = 'https://open.spotify.com/playlist/37i9dQZF1DXbLMw3ry7d7k' #Latin\n\nplaylist_uri = ['https://open.spotify.com/playlist/37i9dQZF1DX2WkIBRaChxW?si=0f28df77dd0345bb',\n                'https://open.spotify.com/playlist/37i9dQZF1DX0XUsuxWHRQd?si=152d9f4c96c74814',\n                'https://open.spotify.com/playlist/37i9dQZF1EQpj7X7UK8OOF?si=ec761786dc594d1f',\n                'https://open.spotify.com/playlist/37i9dQZF1DWWEcRhUVtL8n?si=f87769aa44e34841',\n                'https://open.spotify.com/playlist/37i9dQZF1DX1lVhptIYRda?si=971cb6fd7e05466a',\n                'https://open.spotify.com/playlist/37i9dQZF1DX8tZsk68tuDw?si=c4abac836b714292',\n                'https://open.spotify.com/playlist/37i9dQZF1DXbLMw3ry7d7k?si=32cd85bb9c554be6',\n                \"https://open.spotify.com/playlist/6UeSakyzhiEt4NB3UAd6NQ?si=e9a0161221134478\"]\n\nfinal_plays = []\n\nfor play in playlist_uri:\n    playlist_URI = play.split(\"/\")[-1].split(\"?\")[0]\n    final_plays.append(playlist_URI)\n\nfinal_plays",
   "execution_count": null,
   "outputs": [
    {
     "output_type": "execute_result",
     "execution_count": 5,
     "data": {
      "text/plain": "['37i9dQZF1DX2WkIBRaChxW',\n '37i9dQZF1DX0XUsuxWHRQd',\n '37i9dQZF1EQpj7X7UK8OOF',\n '37i9dQZF1DWWEcRhUVtL8n',\n '37i9dQZF1DX1lVhptIYRda',\n '37i9dQZF1DX8tZsk68tuDw',\n '37i9dQZF1DXbLMw3ry7d7k',\n '6UeSakyzhiEt4NB3UAd6NQ']"
     },
     "metadata": {}
    }
   ]
  },
  {
   "cell_type": "code",
   "metadata": {
    "cell_id": "4652c76332914178a44e0a5989496f1d",
    "tags": [],
    "deepnote_to_be_reexecuted": false,
    "source_hash": "76c2b6c8",
    "execution_start": 1652379183942,
    "execution_millis": 3,
    "deepnote_cell_type": "code",
    "deepnote_cell_height": 152.96875
   },
   "source": "track_uri = []\ntrack_name = []\nartist_name = []\nartist_genres = []\ntrack_features = []",
   "execution_count": null,
   "outputs": []
  },
  {
   "cell_type": "code",
   "metadata": {
    "cell_id": "47aa9deb840d4b0bb147703c5406f40a",
    "tags": [],
    "deepnote_to_be_reexecuted": false,
    "source_hash": "920cd945",
    "execution_start": 1652379184709,
    "execution_millis": 83493,
    "deepnote_cell_type": "code",
    "deepnote_cell_height": 314.96875,
    "deepnote_output_heights": [
     597.171875
    ]
   },
   "source": "for play in final_plays:\n    for track in sp.playlist_tracks(play)[\"items\"]:\n        #URI\n        track_uri.append(track[\"track\"][\"uri\"])\n        #Track name\n        track_name.append(track[\"track\"][\"name\"])\n        artist_uri = track[\"track\"][\"artists\"][0][\"uri\"]\n        artist_info = sp.artist(artist_uri)\n        \n        #Name, popularity, genre\n        artist_genres.append(tuple(artist_info[\"genres\"]))\n        #Name, popularity, genre\n        artist_name.append(track[\"track\"][\"artists\"][0][\"name\"])\n        ",
   "execution_count": null,
   "outputs": []
  },
  {
   "cell_type": "code",
   "metadata": {
    "cell_id": "1d4213650ae94c0cba1104395d431296",
    "tags": [],
    "deepnote_to_be_reexecuted": false,
    "source_hash": "9bec2c6a",
    "execution_start": 1652379268201,
    "execution_millis": 1,
    "deepnote_cell_type": "code",
    "deepnote_cell_height": 80.96875
   },
   "source": "track_df = pd.DataFrame({'track_uri':track_uri, 'track_name': track_name, 'artist_name': artist_name, 'artist_genres':artist_genres})",
   "execution_count": null,
   "outputs": []
  },
  {
   "cell_type": "code",
   "metadata": {
    "cell_id": "80bc90f9731f476d9b5270e23ace837c",
    "tags": [],
    "deepnote_to_be_reexecuted": false,
    "source_hash": "610fecfb",
    "execution_start": 1652379268221,
    "execution_millis": 21,
    "deepnote_table_state": {
     "pageSize": 100,
     "pageIndex": 0,
     "filters": [],
     "sortBy": []
    },
    "deepnote_table_loading": false,
    "deepnote_cell_type": "code",
    "deepnote_cell_height": 602.875,
    "deepnote_output_heights": [
     176.953125
    ]
   },
   "source": "track_df.head()",
   "execution_count": null,
   "outputs": [
    {
     "output_type": "execute_result",
     "execution_count": 11,
     "data": {
      "text/plain": "                              track_uri                       track_name  \\\n0  spotify:track:59nOXPmaKlBfGMDeOVGrIK  WAIT FOR U (feat. Drake & Tems)   \n1  spotify:track:2KdKh9vHbKW0tZLqtpxxI0       Honest (feat. Don Toliver)   \n2  spotify:track:6LL5S3DGrUJ6cZRuDefguP                        Lie Again   \n3  spotify:track:6w93UfN5MeXXQTrVIf5V6x          How (feat. Roddy Ricch)   \n4  spotify:track:6pyM30WDpG70VTfwoQg4m2                       everything   \n\n     artist_name                                      artist_genres  \n0         Future         (atl hip hop, rap, southern hip hop, trap)  \n1  Justin Bieber                                (canadian pop, pop)  \n2         Giveon                                         (pop, r&b)  \n3       Ella Mai  (dance pop, pop, pop rap, r&b, uk contemporary...  \n4        Kehlani    (alternative r&b, dance pop, pop, pop rap, r&b)  ",
      "text/html": "<div>\n<style scoped>\n    .dataframe tbody tr th:only-of-type {\n        vertical-align: middle;\n    }\n\n    .dataframe tbody tr th {\n        vertical-align: top;\n    }\n\n    .dataframe thead th {\n        text-align: right;\n    }\n</style>\n<table border=\"1\" class=\"dataframe\">\n  <thead>\n    <tr style=\"text-align: right;\">\n      <th></th>\n      <th>track_uri</th>\n      <th>track_name</th>\n      <th>artist_name</th>\n      <th>artist_genres</th>\n    </tr>\n  </thead>\n  <tbody>\n    <tr>\n      <th>0</th>\n      <td>spotify:track:59nOXPmaKlBfGMDeOVGrIK</td>\n      <td>WAIT FOR U (feat. Drake &amp; Tems)</td>\n      <td>Future</td>\n      <td>(atl hip hop, rap, southern hip hop, trap)</td>\n    </tr>\n    <tr>\n      <th>1</th>\n      <td>spotify:track:2KdKh9vHbKW0tZLqtpxxI0</td>\n      <td>Honest (feat. Don Toliver)</td>\n      <td>Justin Bieber</td>\n      <td>(canadian pop, pop)</td>\n    </tr>\n    <tr>\n      <th>2</th>\n      <td>spotify:track:6LL5S3DGrUJ6cZRuDefguP</td>\n      <td>Lie Again</td>\n      <td>Giveon</td>\n      <td>(pop, r&amp;b)</td>\n    </tr>\n    <tr>\n      <th>3</th>\n      <td>spotify:track:6w93UfN5MeXXQTrVIf5V6x</td>\n      <td>How (feat. Roddy Ricch)</td>\n      <td>Ella Mai</td>\n      <td>(dance pop, pop, pop rap, r&amp;b, uk contemporary...</td>\n    </tr>\n    <tr>\n      <th>4</th>\n      <td>spotify:track:6pyM30WDpG70VTfwoQg4m2</td>\n      <td>everything</td>\n      <td>Kehlani</td>\n      <td>(alternative r&amp;b, dance pop, pop, pop rap, r&amp;b)</td>\n    </tr>\n  </tbody>\n</table>\n</div>"
     },
     "metadata": {}
    },
    {
     "output_type": "execute_result",
     "execution_count": 9,
     "data": {
      "application/vnd.deepnote.dataframe.v3+json": {
       "column_count": 4,
       "row_count": 5,
       "columns": [
        {
         "name": "track_uri",
         "dtype": "object",
         "stats": {
          "unique_count": 5,
          "nan_count": 0,
          "categories": [
           {
            "name": "spotify:track:59nOXPmaKlBfGMDeOVGrIK",
            "count": 1
           },
           {
            "name": "spotify:track:2KdKh9vHbKW0tZLqtpxxI0",
            "count": 1
           },
           {
            "name": "3 others",
            "count": 3
           }
          ]
         }
        },
        {
         "name": "track_name",
         "dtype": "object",
         "stats": {
          "unique_count": 5,
          "nan_count": 0,
          "categories": [
           {
            "name": "WAIT FOR U (feat. Drake & Tems)",
            "count": 1
           },
           {
            "name": "Honest (feat. Don Toliver)",
            "count": 1
           },
           {
            "name": "3 others",
            "count": 3
           }
          ]
         }
        },
        {
         "name": "artist_name",
         "dtype": "object",
         "stats": {
          "unique_count": 5,
          "nan_count": 0,
          "categories": [
           {
            "name": "Future",
            "count": 1
           },
           {
            "name": "Justin Bieber",
            "count": 1
           },
           {
            "name": "3 others",
            "count": 3
           }
          ]
         }
        },
        {
         "name": "artist_genres",
         "dtype": "object",
         "stats": {
          "unique_count": 5,
          "nan_count": 0,
          "categories": [
           {
            "name": "('atl hip hop', 'rap', 'southern hip hop', 'trap')",
            "count": 1
           },
           {
            "name": "('canadian pop', 'pop')",
            "count": 1
           },
           {
            "name": "3 others",
            "count": 3
           }
          ]
         }
        },
        {
         "name": "_deepnote_index_column",
         "dtype": "int64"
        }
       ],
       "rows": [
        {
         "track_uri": "spotify:track:59nOXPmaKlBfGMDeOVGrIK",
         "track_name": "WAIT FOR U (feat. Drake & Tems)",
         "artist_name": "Future",
         "artist_genres": "('atl hip hop', 'rap', 'southern hip hop', 'trap')",
         "_deepnote_index_column": 0
        },
        {
         "track_uri": "spotify:track:2KdKh9vHbKW0tZLqtpxxI0",
         "track_name": "Honest (feat. Don Toliver)",
         "artist_name": "Justin Bieber",
         "artist_genres": "('canadian pop', 'pop')",
         "_deepnote_index_column": 1
        },
        {
         "track_uri": "spotify:track:6LL5S3DGrUJ6cZRuDefguP",
         "track_name": "Lie Again",
         "artist_name": "Giveon",
         "artist_genres": "('pop', 'r&b')",
         "_deepnote_index_column": 2
        },
        {
         "track_uri": "spotify:track:6w93UfN5MeXXQTrVIf5V6x",
         "track_name": "How (feat. Roddy Ricch)",
         "artist_name": "Ella Mai",
         "artist_genres": "('dance pop', 'pop', 'pop rap', 'r&b', 'uk contemporary r&b', 'urban contemporary')",
         "_deepnote_index_column": 3
        },
        {
         "track_uri": "spotify:track:6pyM30WDpG70VTfwoQg4m2",
         "track_name": "everything",
         "artist_name": "Kehlani",
         "artist_genres": "('alternative r&b', 'dance pop', 'pop', 'pop rap', 'r&b')",
         "_deepnote_index_column": 4
        }
       ]
      },
      "text/plain": "                              track_uri                       track_name  \\\n0  spotify:track:59nOXPmaKlBfGMDeOVGrIK  WAIT FOR U (feat. Drake & Tems)   \n1  spotify:track:2KdKh9vHbKW0tZLqtpxxI0       Honest (feat. Don Toliver)   \n2  spotify:track:6LL5S3DGrUJ6cZRuDefguP                        Lie Again   \n3  spotify:track:6w93UfN5MeXXQTrVIf5V6x          How (feat. Roddy Ricch)   \n4  spotify:track:6pyM30WDpG70VTfwoQg4m2                       everything   \n\n     artist_name                                      artist_genres  \n0         Future         (atl hip hop, rap, southern hip hop, trap)  \n1  Justin Bieber                                (canadian pop, pop)  \n2         Giveon                                         (pop, r&b)  \n3       Ella Mai  (dance pop, pop, pop rap, r&b, uk contemporary...  \n4        Kehlani    (alternative r&b, dance pop, pop, pop rap, r&b)  ",
      "text/html": "<div>\n<style scoped>\n    .dataframe tbody tr th:only-of-type {\n        vertical-align: middle;\n    }\n\n    .dataframe tbody tr th {\n        vertical-align: top;\n    }\n\n    .dataframe thead th {\n        text-align: right;\n    }\n</style>\n<table border=\"1\" class=\"dataframe\">\n  <thead>\n    <tr style=\"text-align: right;\">\n      <th></th>\n      <th>track_uri</th>\n      <th>track_name</th>\n      <th>artist_name</th>\n      <th>artist_genres</th>\n    </tr>\n  </thead>\n  <tbody>\n    <tr>\n      <th>0</th>\n      <td>spotify:track:59nOXPmaKlBfGMDeOVGrIK</td>\n      <td>WAIT FOR U (feat. Drake &amp; Tems)</td>\n      <td>Future</td>\n      <td>(atl hip hop, rap, southern hip hop, trap)</td>\n    </tr>\n    <tr>\n      <th>1</th>\n      <td>spotify:track:2KdKh9vHbKW0tZLqtpxxI0</td>\n      <td>Honest (feat. Don Toliver)</td>\n      <td>Justin Bieber</td>\n      <td>(canadian pop, pop)</td>\n    </tr>\n    <tr>\n      <th>2</th>\n      <td>spotify:track:6LL5S3DGrUJ6cZRuDefguP</td>\n      <td>Lie Again</td>\n      <td>Giveon</td>\n      <td>(pop, r&amp;b)</td>\n    </tr>\n    <tr>\n      <th>3</th>\n      <td>spotify:track:6w93UfN5MeXXQTrVIf5V6x</td>\n      <td>How (feat. Roddy Ricch)</td>\n      <td>Ella Mai</td>\n      <td>(dance pop, pop, pop rap, r&amp;b, uk contemporary...</td>\n    </tr>\n    <tr>\n      <th>4</th>\n      <td>spotify:track:6pyM30WDpG70VTfwoQg4m2</td>\n      <td>everything</td>\n      <td>Kehlani</td>\n      <td>(alternative r&amp;b, dance pop, pop, pop rap, r&amp;b)</td>\n    </tr>\n  </tbody>\n</table>\n</div>"
     },
     "metadata": {}
    }
   ]
  },
  {
   "cell_type": "code",
   "metadata": {
    "cell_id": "ea12fa29d4b84ef0a23848c1137d1d31",
    "tags": [],
    "deepnote_to_be_reexecuted": false,
    "source_hash": "7357dc31",
    "execution_start": 1652379268224,
    "execution_millis": 36099,
    "deepnote_cell_type": "code",
    "deepnote_cell_height": 116.96875
   },
   "source": "for track in track_uri:\n    track_features.append(sp.audio_features(track)[0])\n",
   "execution_count": null,
   "outputs": []
  },
  {
   "cell_type": "code",
   "metadata": {
    "cell_id": "25f245ea917946e8b276aa441bea407a",
    "tags": [],
    "deepnote_to_be_reexecuted": false,
    "source_hash": "1d02d05e",
    "execution_start": 1652379304348,
    "execution_millis": 291,
    "deepnote_cell_type": "code",
    "deepnote_cell_height": 1349.953125,
    "deepnote_output_heights": [
     611,
     611
    ]
   },
   "source": "track_features",
   "execution_count": null,
   "outputs": [
    {
     "output_type": "execute_result",
     "execution_count": 14,
     "data": {
      "text/plain": "[{'danceability': 0.463,\n  'energy': 0.642,\n  'key': 1,\n  'loudness': -4.474,\n  'mode': 1,\n  'speechiness': 0.34,\n  'acousticness': 0.314,\n  'instrumentalness': 0,\n  'liveness': 0.0686,\n  'valence': 0.339,\n  'tempo': 83.389,\n  'type': 'audio_features',\n  'id': '59nOXPmaKlBfGMDeOVGrIK',\n  'uri': 'spotify:track:59nOXPmaKlBfGMDeOVGrIK',\n  'track_href': 'https://api.spotify.com/v1/tracks/59nOXPmaKlBfGMDeOVGrIK',\n  'analysis_url': 'https://api.spotify.com/v1/audio-analysis/59nOXPmaKlBfGMDeOVGrIK',\n  'duration_ms': 189893,\n  'time_signature': 4},\n {'danceability': 0.81,\n  'energy': 0.655,\n  'key': 8,\n  'loudness': -6.779,\n  'mode': 0,\n  'speechiness': 0.0698,\n  'acousticness': 0.127,\n  'instrumentalness': 8.16e-05,\n  'liveness': 0.105,\n  'valence': 0.809,\n  'tempo': 150.002,\n  'type': 'audio_features',\n  'id': '2KdKh9vHbKW0tZLqtpxxI0',\n  'uri': 'spotify:track:2KdKh9vHbKW0tZLqtpxxI0',\n  'track_href': 'https://api.spotify.com/v1/tracks/2KdKh9vHbKW0tZLqtpxxI0',\n  'analysis_url': 'https://api.spotify.com/v1/audio-analysis/2KdKh9vHbKW0tZLqtpxxI0',\n  'duration_ms': 193322,\n  'time_signature': 4},\n {'danceability': 0.431,\n  'energy': 0.349,\n  'key': 7,\n  'loudness': -9.426,\n  'mode': 1,\n  'speechiness': 0.0325,\n  'acousticness': 0.434,\n  'instrumentalness': 7.02e-05,\n  'liveness': 0.241,\n  'valence': 0.165,\n  'tempo': 62.627,\n  'type': 'audio_features',\n  'id': '6LL5S3DGrUJ6cZRuDefguP',\n  'uri': 'spotify:track:6LL5S3DGrUJ6cZRuDefguP',\n  'track_href': 'https://api.spotify.com/v1/tracks/6LL5S3DGrUJ6cZRuDefguP',\n  'analysis_url': 'https://api.spotify.com/v1/audio-analysis/6LL5S3DGrUJ6cZRuDefguP',\n  'duration_ms': 187027,\n  'time_signature': 3},\n {'danceability': 0.464,\n  'energy': 0.445,\n  'key': 4,\n  'loudness': -8.507,\n  'mode': 0,\n  'speechiness': 0.238,\n  'acousticness': 0.215,\n  'instrumentalness': 0,\n  'liveness': 0.495,\n  'valence': 0.181,\n  'tempo': 94.14,\n  'type': 'audio_features',\n  'id': '6w93UfN5MeXXQTrVIf5V6x',\n  'uri': 'spotify:track:6w93UfN5MeXXQTrVIf5V6x',\n  'track_href': 'https://api.spotify.com/v1/tracks/6w93UfN5MeXXQTrVIf5V6x',\n  'analysis_url': 'https://api.spotify.com/v1/audio-analysis/6w93UfN5MeXXQTrVIf5V6x',\n  'duration_ms': 218320,\n  'time_signature': 4},\n {'danceability': 0.388,\n  'energy': 0.448,\n  'key': 8,\n  'loudness': -5.221,\n  'mode': 0,\n  'speechiness': 0.0341,\n  'acousticness': 0.851,\n  'instrumentalness': 0,\n  'liveness': 0.302,\n  'valence': 0.397,\n  'tempo': 142.342,\n  'type': 'audio_features',\n  'id': '6pyM30WDpG70VTfwoQg4m2',\n  'uri': 'spotify:track:6pyM30WDpG70VTfwoQg4m2',\n  'track_href': 'https://api.spotify.com/v1/tracks/6pyM30WDpG70VTfwoQg4m2',\n  'analysis_url': 'https://api.spotify.com/v1/audio-analysis/6pyM30WDpG70VTfwoQg4m2',\n  'duration_ms': 207551,\n  'time_signature': 5},\n {'danceability': 0.67,\n  'energy': 0.41,\n  'key': 1,\n  'loudness': -13.444,\n  'mode': 1,\n  'speechiness': 0.0381,\n  'acousticness': 0.241,\n  'instrumentalness': 8.55e-06,\n  'liveness': 0.167,\n  'valence': 0.46,\n  'tempo': 127.972,\n  'type': 'audio_features',\n  'id': '5uXO1sjZ7VbNKexKaFRna3',\n  'uri': 'spotify:track:5uXO1sjZ7VbNKexKaFRna3',\n  'track_href': 'https://api.spotify.com/v1/tracks/5uXO1sjZ7VbNKexKaFRna3',\n  'analysis_url': 'https://api.spotify.com/v1/audio-analysis/5uXO1sjZ7VbNKexKaFRna3',\n  'duration_ms': 240938,\n  'time_signature': 4},\n {'danceability': 0.77,\n  'energy': 0.581,\n  'key': 11,\n  'loudness': -5.307,\n  'mode': 0,\n  'speechiness': 0.0908,\n  'acousticness': 0.452,\n  'instrumentalness': 0,\n  'liveness': 0.128,\n  'valence': 0.284,\n  'tempo': 120.019,\n  'type': 'audio_features',\n  'id': '0R3BfnrLdW13mopXeKOTQZ',\n  'uri': 'spotify:track:0R3BfnrLdW13mopXeKOTQZ',\n  'track_href': 'https://api.spotify.com/v1/tracks/0R3BfnrLdW13mopXeKOTQZ',\n  'analysis_url': 'https://api.spotify.com/v1/audio-analysis/0R3BfnrLdW13mopXeKOTQZ',\n  'duration_ms': 152175,\n  'time_signature': 4},\n {'danceability': 0.619,\n  'energy': 0.452,\n  'key': 11,\n  'loudness': -9.079,\n  'mode': 0,\n  'speechiness': 0.205,\n  'acousticness': 0.232,\n  'instrumentalness': 1.23e-06,\n  'liveness': 0.259,\n  'valence': 0.195,\n  'tempo': 127.897,\n  'type': 'audio_features',\n  'id': '6itJR6bgCqET35rCJFnULf',\n  'uri': 'spotify:track:6itJR6bgCqET35rCJFnULf',\n  'track_href': 'https://api.spotify.com/v1/tracks/6itJR6bgCqET35rCJFnULf',\n  'analysis_url': 'https://api.spotify.com/v1/audio-analysis/6itJR6bgCqET35rCJFnULf',\n  'duration_ms': 164544,\n  'time_signature': 4},\n {'danceability': 0.688,\n  'energy': 0.59,\n  'key': 9,\n  'loudness': -7.535,\n  'mode': 0,\n  'speechiness': 0.329,\n  'acousticness': 0.329,\n  'instrumentalness': 0,\n  'liveness': 0.105,\n  'valence': 0.316,\n  'tempo': 96.975,\n  'type': 'audio_features',\n  'id': '5qidBQqsjdwewlQaw16o3L',\n  'uri': 'spotify:track:5qidBQqsjdwewlQaw16o3L',\n  'track_href': 'https://api.spotify.com/v1/tracks/5qidBQqsjdwewlQaw16o3L',\n  'analysis_url': 'https://api.spotify.com/v1/audio-analysis/5qidBQqsjdwewlQaw16o3L',\n  'duration_ms': 273794,\n  'time_signature': 4},\n {'danceability': 0.756,\n  'energy': 0.484,\n  'key': 4,\n  'loudness': -9.727,\n  'mode': 0,\n  'speechiness': 0.0497,\n  'acousticness': 0.311,\n  'instrumentalness': 0,\n  'liveness': 0.11,\n  'valence': 0.414,\n  'tempo': 92.056,\n  'type': 'audio_features',\n  'id': '5ChrCVSERccPyn3p2Clsum',\n  'uri': 'spotify:track:5ChrCVSERccPyn3p2Clsum',\n  'track_href': 'https://api.spotify.com/v1/tracks/5ChrCVSERccPyn3p2Clsum',\n  'analysis_url': 'https://api.spotify.com/v1/audio-analysis/5ChrCVSERccPyn3p2Clsum',\n  'duration_ms': 188133,\n  'time_signature': 4},\n {'danceability': 0.722,\n  'energy': 0.613,\n  'key': 1,\n  'loudness': -4.996,\n  'mode': 0,\n  'speechiness': 0.116,\n  'acousticness': 0.192,\n  'instrumentalness': 0,\n  'liveness': 0.192,\n  'valence': 0.607,\n  'tempo': 133.937,\n  'type': 'audio_features',\n  'id': '0IMUFRaM2W3wKNM1CSQ4Zm',\n  'uri': 'spotify:track:0IMUFRaM2W3wKNM1CSQ4Zm',\n  'track_href': 'https://api.spotify.com/v1/tracks/0IMUFRaM2W3wKNM1CSQ4Zm',\n  'analysis_url': 'https://api.spotify.com/v1/audio-analysis/0IMUFRaM2W3wKNM1CSQ4Zm',\n  'duration_ms': 276214,\n  'time_signature': 4},\n {'danceability': 0.663,\n  'energy': 0.649,\n  'key': 3,\n  'loudness': -4.524,\n  'mode': 0,\n  'speechiness': 0.0594,\n  'acousticness': 0.07,\n  'instrumentalness': 0,\n  'liveness': 0.114,\n  'valence': 0.504,\n  'tempo': 114.948,\n  'type': 'audio_features',\n  'id': '63QC7HvgJXgH8udcfPqW7q',\n  'uri': 'spotify:track:63QC7HvgJXgH8udcfPqW7q',\n  'track_href': 'https://api.spotify.com/v1/tracks/63QC7HvgJXgH8udcfPqW7q',\n  'analysis_url': 'https://api.spotify.com/v1/audio-analysis/63QC7HvgJXgH8udcfPqW7q',\n  'duration_ms': 209136,\n  'time_signature': 4},\n {'danceability': 0.685,\n  'energy': 0.577,\n  'key': 7,\n  'loudness': -4.655,\n  'mode': 0,\n  'speechiness': 0.108,\n  'acousticness': 0.66,\n  'instrumentalness': 2.69e-06,\n  'liveness': 0.109,\n  'valence': 0.371,\n  'tempo': 110.326,\n  'type': 'audio_features',\n  'id': '0hZIaQMGqu41dozEwqVa1b',\n  'uri': 'spotify:track:0hZIaQMGqu41dozEwqVa1b',\n  'track_href': 'https://api.spotify.com/v1/tracks/0hZIaQMGqu41dozEwqVa1b',\n  'analysis_url': 'https://api.spotify.com/v1/audio-analysis/0hZIaQMGqu41dozEwqVa1b',\n  'duration_ms': 130982,\n  'time_signature': 4},\n {'danceability': 0.742,\n  'energy': 0.599,\n  'key': 1,\n  'loudness': -8.796,\n  'mode': 1,\n  'speechiness': 0.297,\n  'acousticness': 0.0962,\n  'instrumentalness': 0.000578,\n  'liveness': 0.0981,\n  'valence': 0.573,\n  'tempo': 108.283,\n  'type': 'audio_features',\n  'id': '4Rrj1QxDqsj28gv9SiHQRA',\n  'uri': 'spotify:track:4Rrj1QxDqsj28gv9SiHQRA',\n  'track_href': 'https://api.spotify.com/v1/tracks/4Rrj1QxDqsj28gv9SiHQRA',\n  'analysis_url': 'https://api.spotify.com/v1/audio-analysis/4Rrj1QxDqsj28gv9SiHQRA',\n  'duration_ms': 275556,\n  'time_signature': 4},\n {'danceability': 0.836,\n  'energy': 0.743,\n  'key': 10,\n  'loudness': -6.305,\n  'mode': 0,\n  'speechiness': 0.0656,\n  'acousticness': 0.0995,\n  'instrumentalness': 0,\n  'liveness': 0.335,\n  'valence': 0.722,\n  'tempo': 108.966,\n  'type': 'audio_features',\n  'id': '1PckUlxKqWQs3RlWXVBLw3',\n  'uri': 'spotify:track:1PckUlxKqWQs3RlWXVBLw3',\n  'track_href': 'https://api.spotify.com/v1/tracks/1PckUlxKqWQs3RlWXVBLw3',\n  'analysis_url': 'https://api.spotify.com/v1/audio-analysis/1PckUlxKqWQs3RlWXVBLw3',\n  'duration_ms': 191822,\n  'time_signature': 4},\n {'danceability': 0.771,\n  'energy': 0.724,\n  'key': 9,\n  'loudness': -5.372,\n  'mode': 0,\n  'speechiness': 0.0422,\n  'acousticness': 0.209,\n  'instrumentalness': 3.51e-06,\n  'liveness': 0.281,\n  'valence': 0.77,\n  'tempo': 102.991,\n  'type': 'audio_features',\n  'id': '6zrZ7mVcznNd2Q6qB0iBrq',\n  'uri': 'spotify:track:6zrZ7mVcznNd2Q6qB0iBrq',\n  'track_href': 'https://api.spotify.com/v1/tracks/6zrZ7mVcznNd2Q6qB0iBrq',\n  'analysis_url': 'https://api.spotify.com/v1/audio-analysis/6zrZ7mVcznNd2Q6qB0iBrq',\n  'duration_ms': 155308,\n  'time_signature': 4},\n {'danceability': 0.563,\n  'energy': 0.756,\n  'key': 0,\n  'loudness': -3.852,\n  'mode': 0,\n  'speechiness': 0.0579,\n  'acousticness': 0.196,\n  'instrumentalness': 0,\n  'liveness': 0.245,\n  'valence': 0.234,\n  'tempo': 100.012,\n  'type': 'audio_features',\n  'id': '4WghJOMjDpGdlk3b8aJIgy',\n  'uri': 'spotify:track:4WghJOMjDpGdlk3b8aJIgy',\n  'track_href': 'https://api.spotify.com/v1/tracks/4WghJOMjDpGdlk3b8aJIgy',\n  'analysis_url': 'https://api.spotify.com/v1/audio-analysis/4WghJOMjDpGdlk3b8aJIgy',\n  'duration_ms': 182227,\n  'time_signature': 4},\n {'danceability': 0.53,\n  'energy': 0.937,\n  'key': 0,\n  'loudness': -2.757,\n  'mode': 1,\n  'speechiness': 0.321,\n  'acousticness': 0.0457,\n  'instrumentalness': 0,\n  'liveness': 0.151,\n  'valence': 0.46,\n  'tempo': 92.916,\n  'type': 'audio_features',\n  'id': '6VYBCG9nCZwUUImVqZQVet',\n  'uri': 'spotify:track:6VYBCG9nCZwUUImVqZQVet',\n  'track_href': 'https://api.spotify.com/v1/tracks/6VYBCG9nCZwUUImVqZQVet',\n  'analysis_url': 'https://api.spotify.com/v1/audio-analysis/6VYBCG9nCZwUUImVqZQVet',\n  'duration_ms': 176851,\n  'time_signature': 4},\n {'danceability': 0.814,\n  'energy': 0.56,\n  'key': 5,\n  'loudness': -6.431,\n  'mode': 1,\n  'speechiness': 0.11,\n  'acousticness': 0.141,\n  'instrumentalness': 0,\n  'liveness': 0.111,\n  'valence': 0.651,\n  'tempo': 166.025,\n  'type': 'audio_features',\n  'id': '5lI6k5j7a25q3IrtAEe0JF',\n  'uri': 'spotify:track:5lI6k5j7a25q3IrtAEe0JF',\n  'track_href': 'https://api.spotify.com/v1/tracks/5lI6k5j7a25q3IrtAEe0JF',\n  'analysis_url': 'https://api.spotify.com/v1/audio-analysis/5lI6k5j7a25q3IrtAEe0JF',\n  'duration_ms': 212391,\n  'time_signature': 4},\n {'danceability': 0.449,\n  'energy': 0.324,\n  'key': 5,\n  'loudness': -10.343,\n  'mode': 1,\n  'speechiness': 0.0901,\n  'acousticness': 0.855,\n  'instrumentalness': 0,\n  'liveness': 0.108,\n  'valence': 0.223,\n  'tempo': 82.835,\n  'type': 'audio_features',\n  'id': '4R3WUzM7xXAIzT5HhH1DDw',\n  'uri': 'spotify:track:4R3WUzM7xXAIzT5HhH1DDw',\n  'track_href': 'https://api.spotify.com/v1/tracks/4R3WUzM7xXAIzT5HhH1DDw',\n  'analysis_url': 'https://api.spotify.com/v1/audio-analysis/4R3WUzM7xXAIzT5HhH1DDw',\n  'duration_ms': 202381,\n  'time_signature': 3},\n {'danceability': 0.621,\n  'energy': 0.624,\n  'key': 5,\n  'loudness': -7.66,\n  'mode': 0,\n  'speechiness': 0.193,\n  'acousticness': 0.0782,\n  'instrumentalness': 0.000105,\n  'liveness': 0.187,\n  'valence': 0.653,\n  'tempo': 148.728,\n  'type': 'audio_features',\n  'id': '5F9F0SxcAM9bCVyi00tL0W',\n  'uri': 'spotify:track:5F9F0SxcAM9bCVyi00tL0W',\n  'track_href': 'https://api.spotify.com/v1/tracks/5F9F0SxcAM9bCVyi00tL0W',\n  'analysis_url': 'https://api.spotify.com/v1/audio-analysis/5F9F0SxcAM9bCVyi00tL0W',\n  'duration_ms': 179885,\n  'time_signature': 3},\n {'danceability': 0.538,\n  'energy': 0.363,\n  'key': 3,\n  'loudness': -12.245,\n  'mode': 0,\n  'speechiness': 0.0517,\n  'acousticness': 0.207,\n  'instrumentalness': 0.0161,\n  'liveness': 0.145,\n  'valence': 0.395,\n  'tempo': 138.454,\n  'type': 'audio_features',\n  'id': '56cPHHY51YpcD4OwU42GS3',\n  'uri': 'spotify:track:56cPHHY51YpcD4OwU42GS3',\n  'track_href': 'https://api.spotify.com/v1/tracks/56cPHHY51YpcD4OwU42GS3',\n  'analysis_url': 'https://api.spotify.com/v1/audio-analysis/56cPHHY51YpcD4OwU42GS3',\n  'duration_ms': 151133,\n  'time_signature': 3},\n {'danceability': 0.529,\n  'energy': 0.435,\n  'key': 5,\n  'loudness': -8.728,\n  'mode': 1,\n  'speechiness': 0.102,\n  'acousticness': 0.702,\n  'instrumentalness': 0,\n  'liveness': 0.144,\n  'valence': 0.532,\n  'tempo': 63.981,\n  'type': 'audio_features',\n  'id': '4BMhlUG6LpQhcpvRuvfQRM',\n  'uri': 'spotify:track:4BMhlUG6LpQhcpvRuvfQRM',\n  'track_href': 'https://api.spotify.com/v1/tracks/4BMhlUG6LpQhcpvRuvfQRM',\n  'analysis_url': 'https://api.spotify.com/v1/audio-analysis/4BMhlUG6LpQhcpvRuvfQRM',\n  'duration_ms': 181823,\n  'time_signature': 4},\n {'danceability': 0.636,\n  'energy': 0.567,\n  'key': 1,\n  'loudness': -7.344,\n  'mode': 1,\n  'speechiness': 0.0745,\n  'acousticness': 0.568,\n  'instrumentalness': 1.4e-05,\n  'liveness': 0.131,\n  'valence': 0.282,\n  'tempo': 125.457,\n  'type': 'audio_features',\n  'id': '1VI7GQmBBgdslV3tQRvsRD',\n  'uri': 'spotify:track:1VI7GQmBBgdslV3tQRvsRD',\n  'track_href': 'https://api.spotify.com/v1/tracks/1VI7GQmBBgdslV3tQRvsRD',\n  'analysis_url': 'https://api.spotify.com/v1/audio-analysis/1VI7GQmBBgdslV3tQRvsRD',\n  'duration_ms': 228562,\n  'time_signature': 4},\n {'danceability': 0.553,\n  'energy': 0.727,\n  'key': 5,\n  'loudness': -6.905,\n  'mode': 1,\n  'speechiness': 0.0348,\n  'acousticness': 0.0254,\n  'instrumentalness': 0.0113,\n  'liveness': 0.107,\n  'valence': 0.286,\n  'tempo': 173.972,\n  'type': 'audio_features',\n  'id': '7k0wVBW3cvV6Xmb87JikIf',\n  'uri': 'spotify:track:7k0wVBW3cvV6Xmb87JikIf',\n  'track_href': 'https://api.spotify.com/v1/tracks/7k0wVBW3cvV6Xmb87JikIf',\n  'analysis_url': 'https://api.spotify.com/v1/audio-analysis/7k0wVBW3cvV6Xmb87JikIf',\n  'duration_ms': 191376,\n  'time_signature': 4},\n {'danceability': 0.708,\n  'energy': 0.793,\n  'key': 7,\n  'loudness': -2.518,\n  'mode': 0,\n  'speechiness': 0.0417,\n  'acousticness': 0.0442,\n  'instrumentalness': 2.62e-06,\n  'liveness': 0.0362,\n  'valence': 0.503,\n  'tempo': 94.005,\n  'type': 'audio_features',\n  'id': '2ZCu2xskiEBCV3y0eu0zJG',\n  'uri': 'spotify:track:2ZCu2xskiEBCV3y0eu0zJG',\n  'track_href': 'https://api.spotify.com/v1/tracks/2ZCu2xskiEBCV3y0eu0zJG',\n  'analysis_url': 'https://api.spotify.com/v1/audio-analysis/2ZCu2xskiEBCV3y0eu0zJG',\n  'duration_ms': 149866,\n  'time_signature': 4},\n {'danceability': 0.721,\n  'energy': 0.364,\n  'key': 5,\n  'loudness': -7.81,\n  'mode': 0,\n  'speechiness': 0.0483,\n  'acousticness': 0.673,\n  'instrumentalness': 5.4e-05,\n  'liveness': 0.105,\n  'valence': 0.4,\n  'tempo': 94.098,\n  'type': 'audio_features',\n  'id': '1SlGaBvTqX0gb24ouXonOo',\n  'uri': 'spotify:track:1SlGaBvTqX0gb24ouXonOo',\n  'track_href': 'https://api.spotify.com/v1/tracks/1SlGaBvTqX0gb24ouXonOo',\n  'analysis_url': 'https://api.spotify.com/v1/audio-analysis/1SlGaBvTqX0gb24ouXonOo',\n  'duration_ms': 184013,\n  'time_signature': 4},\n {'danceability': 0.59,\n  'energy': 0.622,\n  'key': 10,\n  'loudness': -7.537,\n  'mode': 1,\n  'speechiness': 0.0803,\n  'acousticness': 0.654,\n  'instrumentalness': 0,\n  'liveness': 0.425,\n  'valence': 0.311,\n  'tempo': 89.909,\n  'type': 'audio_features',\n  'id': '1MRvZ3PMsd86Kul6xINAze',\n  'uri': 'spotify:track:1MRvZ3PMsd86Kul6xINAze',\n  'track_href': 'https://api.spotify.com/v1/tracks/1MRvZ3PMsd86Kul6xINAze',\n  'analysis_url': 'https://api.spotify.com/v1/audio-analysis/1MRvZ3PMsd86Kul6xINAze',\n  'duration_ms': 172947,\n  'time_signature': 4},\n {'danceability': 0.523,\n  'energy': 0.759,\n  'key': 2,\n  'loudness': -4.583,\n  'mode': 1,\n  'speechiness': 0.129,\n  'acousticness': 0.0564,\n  'instrumentalness': 0,\n  'liveness': 0.327,\n  'valence': 0.287,\n  'tempo': 89.906,\n  'type': 'audio_features',\n  'id': '3P12TuXblmoguQGSukKvQm',\n  'uri': 'spotify:track:3P12TuXblmoguQGSukKvQm',\n  'track_href': 'https://api.spotify.com/v1/tracks/3P12TuXblmoguQGSukKvQm',\n  'analysis_url': 'https://api.spotify.com/v1/audio-analysis/3P12TuXblmoguQGSukKvQm',\n  'duration_ms': 190000,\n  'time_signature': 4},\n {'danceability': 0.698,\n  'energy': 0.603,\n  'key': 5,\n  'loudness': -6.508,\n  'mode': 0,\n  'speechiness': 0.106,\n  'acousticness': 0.11,\n  'instrumentalness': 0,\n  'liveness': 0.0786,\n  'valence': 0.91,\n  'tempo': 86.998,\n  'type': 'audio_features',\n  'id': '7rTzmiwE6lmBG8vQvBzNg7',\n  'uri': 'spotify:track:7rTzmiwE6lmBG8vQvBzNg7',\n  'track_href': 'https://api.spotify.com/v1/tracks/7rTzmiwE6lmBG8vQvBzNg7',\n  'analysis_url': 'https://api.spotify.com/v1/audio-analysis/7rTzmiwE6lmBG8vQvBzNg7',\n  'duration_ms': 234967,\n  'time_signature': 4},\n {'danceability': 0.563,\n  'energy': 0.515,\n  'key': 1,\n  'loudness': -9.085,\n  'mode': 1,\n  'speechiness': 0.285,\n  'acousticness': 0.0658,\n  'instrumentalness': 0,\n  'liveness': 0.107,\n  'valence': 0.38,\n  'tempo': 160.187,\n  'type': 'audio_features',\n  'id': '6K8qwbuUweQOdaErsNbdRc',\n  'uri': 'spotify:track:6K8qwbuUweQOdaErsNbdRc',\n  'track_href': 'https://api.spotify.com/v1/tracks/6K8qwbuUweQOdaErsNbdRc',\n  'analysis_url': 'https://api.spotify.com/v1/audio-analysis/6K8qwbuUweQOdaErsNbdRc',\n  'duration_ms': 186000,\n  'time_signature': 4},\n {'danceability': 0.565,\n  'energy': 0.364,\n  'key': 6,\n  'loudness': -9.512,\n  'mode': 1,\n  'speechiness': 0.2,\n  'acousticness': 0.328,\n  'instrumentalness': 0,\n  'liveness': 0.108,\n  'valence': 0.527,\n  'tempo': 155.705,\n  'type': 'audio_features',\n  'id': '0P11qKeHWhUy0rDPeY8dyB',\n  'uri': 'spotify:track:0P11qKeHWhUy0rDPeY8dyB',\n  'track_href': 'https://api.spotify.com/v1/tracks/0P11qKeHWhUy0rDPeY8dyB',\n  'analysis_url': 'https://api.spotify.com/v1/audio-analysis/0P11qKeHWhUy0rDPeY8dyB',\n  'duration_ms': 203037,\n  'time_signature': 3},\n {'danceability': 0.475,\n  'energy': 0.332,\n  'key': 0,\n  'loudness': -11.807,\n  'mode': 1,\n  'speechiness': 0.0563,\n  'acousticness': 0.755,\n  'instrumentalness': 1.16e-05,\n  'liveness': 0.114,\n  'valence': 0.506,\n  'tempo': 111.614,\n  'type': 'audio_features',\n  'id': '0QZnyONVa7pEq115ZjkFNV',\n  'uri': 'spotify:track:0QZnyONVa7pEq115ZjkFNV',\n  'track_href': 'https://api.spotify.com/v1/tracks/0QZnyONVa7pEq115ZjkFNV',\n  'analysis_url': 'https://api.spotify.com/v1/audio-analysis/0QZnyONVa7pEq115ZjkFNV',\n  'duration_ms': 189652,\n  'time_signature': 4},\n {'danceability': 0.549,\n  'energy': 0.689,\n  'key': 9,\n  'loudness': -6.667,\n  'mode': 0,\n  'speechiness': 0.118,\n  'acousticness': 0.306,\n  'instrumentalness': 0,\n  'liveness': 0.0785,\n  'valence': 0.268,\n  'tempo': 108.643,\n  'type': 'audio_features',\n  'id': '0aMOalD335v1hsSXmLURzz',\n  'uri': 'spotify:track:0aMOalD335v1hsSXmLURzz',\n  'track_href': 'https://api.spotify.com/v1/tracks/0aMOalD335v1hsSXmLURzz',\n  'analysis_url': 'https://api.spotify.com/v1/audio-analysis/0aMOalD335v1hsSXmLURzz',\n  'duration_ms': 230722,\n  'time_signature': 4},\n {'danceability': 0.799,\n  'energy': 0.653,\n  'key': 2,\n  'loudness': -5.453,\n  'mode': 0,\n  'speechiness': 0.037,\n  'acousticness': 0.019,\n  'instrumentalness': 0,\n  'liveness': 0.0935,\n  'valence': 0.236,\n  'tempo': 104.019,\n  'type': 'audio_features',\n  'id': '3vySEUpD0tc801F2WZDLYw',\n  'uri': 'spotify:track:3vySEUpD0tc801F2WZDLYw',\n  'track_href': 'https://api.spotify.com/v1/tracks/3vySEUpD0tc801F2WZDLYw',\n  'analysis_url': 'https://api.spotify.com/v1/audio-analysis/3vySEUpD0tc801F2WZDLYw',\n  'duration_ms': 215281,\n  'time_signature': 4},\n {'danceability': 0.836,\n  'energy': 0.698,\n  'key': 6,\n  'loudness': -5.801,\n  'mode': 1,\n  'speechiness': 0.118,\n  'acousticness': 0.124,\n  'instrumentalness': 3.28e-05,\n  'liveness': 0.152,\n  'valence': 0.88,\n  'tempo': 110.981,\n  'type': 'audio_features',\n  'id': '1j4hUdpOJd5qIXN3LJeHjj',\n  'uri': 'spotify:track:1j4hUdpOJd5qIXN3LJeHjj',\n  'track_href': 'https://api.spotify.com/v1/tracks/1j4hUdpOJd5qIXN3LJeHjj',\n  'analysis_url': 'https://api.spotify.com/v1/audio-analysis/1j4hUdpOJd5qIXN3LJeHjj',\n  'duration_ms': 168873,\n  'time_signature': 4},\n {'danceability': 0.838,\n  'energy': 0.629,\n  'key': 0,\n  'loudness': -4.48,\n  'mode': 1,\n  'speechiness': 0.0776,\n  'acousticness': 0.0418,\n  'instrumentalness': 0.0104,\n  'liveness': 0.1,\n  'valence': 0.83,\n  'tempo': 109.031,\n  'type': 'audio_features',\n  'id': '2Hyaggl5zUVCwGSbJmkOs3',\n  'uri': 'spotify:track:2Hyaggl5zUVCwGSbJmkOs3',\n  'track_href': 'https://api.spotify.com/v1/tracks/2Hyaggl5zUVCwGSbJmkOs3',\n  'analysis_url': 'https://api.spotify.com/v1/audio-analysis/2Hyaggl5zUVCwGSbJmkOs3',\n  'duration_ms': 209493,\n  'time_signature': 4},\n {'danceability': 0.861,\n  'energy': 0.537,\n  'key': 1,\n  'loudness': -8.199,\n  'mode': 0,\n  'speechiness': 0.159,\n  'acousticness': 0.504,\n  'instrumentalness': 0,\n  'liveness': 0.289,\n  'valence': 0.769,\n  'tempo': 102.014,\n  'type': 'audio_features',\n  'id': '3UqcIgObI7zZk8e7nvqmfc',\n  'uri': 'spotify:track:3UqcIgObI7zZk8e7nvqmfc',\n  'track_href': 'https://api.spotify.com/v1/tracks/3UqcIgObI7zZk8e7nvqmfc',\n  'analysis_url': 'https://api.spotify.com/v1/audio-analysis/3UqcIgObI7zZk8e7nvqmfc',\n  'duration_ms': 151765,\n  'time_signature': 4},\n {'danceability': 0.718,\n  'energy': 0.537,\n  'key': 1,\n  'loudness': -7.788,\n  'mode': 0,\n  'speechiness': 0.0772,\n  'acousticness': 0.246,\n  'instrumentalness': 0.0266,\n  'liveness': 0.113,\n  'valence': 0.602,\n  'tempo': 100.247,\n  'type': 'audio_features',\n  'id': '1nIhLChEGB8Y2dP7CHt3PN',\n  'uri': 'spotify:track:1nIhLChEGB8Y2dP7CHt3PN',\n  'track_href': 'https://api.spotify.com/v1/tracks/1nIhLChEGB8Y2dP7CHt3PN',\n  'analysis_url': 'https://api.spotify.com/v1/audio-analysis/1nIhLChEGB8Y2dP7CHt3PN',\n  'duration_ms': 234385,\n  'time_signature': 4},\n {'danceability': 0.813,\n  'energy': 0.6,\n  'key': 9,\n  'loudness': -6.769,\n  'mode': 0,\n  'speechiness': 0.0602,\n  'acousticness': 0.115,\n  'instrumentalness': 1.34e-05,\n  'liveness': 0.159,\n  'valence': 0.622,\n  'tempo': 125.981,\n  'type': 'audio_features',\n  'id': '3p2HpO3ZgvFs97L15hGZOn',\n  'uri': 'spotify:track:3p2HpO3ZgvFs97L15hGZOn',\n  'track_href': 'https://api.spotify.com/v1/tracks/3p2HpO3ZgvFs97L15hGZOn',\n  'analysis_url': 'https://api.spotify.com/v1/audio-analysis/3p2HpO3ZgvFs97L15hGZOn',\n  'duration_ms': 156944,\n  'time_signature': 4},\n {'danceability': 0.678,\n  'energy': 0.527,\n  'key': 4,\n  'loudness': -9.038,\n  'mode': 0,\n  'speechiness': 0.301,\n  'acousticness': 0.3,\n  'instrumentalness': 0,\n  'liveness': 0.119,\n  'valence': 0.583,\n  'tempo': 76.847,\n  'type': 'audio_features',\n  'id': '6oOJL3xj8zRz6URS0SwlXC',\n  'uri': 'spotify:track:6oOJL3xj8zRz6URS0SwlXC',\n  'track_href': 'https://api.spotify.com/v1/tracks/6oOJL3xj8zRz6URS0SwlXC',\n  'analysis_url': 'https://api.spotify.com/v1/audio-analysis/6oOJL3xj8zRz6URS0SwlXC',\n  'duration_ms': 212077,\n  'time_signature': 4},\n {'danceability': 0.662,\n  'energy': 0.655,\n  'key': 2,\n  'loudness': -5.44,\n  'mode': 1,\n  'speechiness': 0.26,\n  'acousticness': 0.462,\n  'instrumentalness': 0,\n  'liveness': 0.124,\n  'valence': 0.356,\n  'tempo': 82.079,\n  'type': 'audio_features',\n  'id': '3pEINn37iH5fx8TpXYNGIO',\n  'uri': 'spotify:track:3pEINn37iH5fx8TpXYNGIO',\n  'track_href': 'https://api.spotify.com/v1/tracks/3pEINn37iH5fx8TpXYNGIO',\n  'analysis_url': 'https://api.spotify.com/v1/audio-analysis/3pEINn37iH5fx8TpXYNGIO',\n  'duration_ms': 226374,\n  'time_signature': 4},\n {'danceability': 0.793,\n  'energy': 0.607,\n  'key': 2,\n  'loudness': -7.141,\n  'mode': 1,\n  'speechiness': 0.192,\n  'acousticness': 0.489,\n  'instrumentalness': 0,\n  'liveness': 0.259,\n  'valence': 0.569,\n  'tempo': 91.992,\n  'type': 'audio_features',\n  'id': '4WLdlAi4KBDNRxaq3GnRYH',\n  'uri': 'spotify:track:4WLdlAi4KBDNRxaq3GnRYH',\n  'track_href': 'https://api.spotify.com/v1/tracks/4WLdlAi4KBDNRxaq3GnRYH',\n  'analysis_url': 'https://api.spotify.com/v1/audio-analysis/4WLdlAi4KBDNRxaq3GnRYH',\n  'duration_ms': 179348,\n  'time_signature': 4},\n {'danceability': 0.647,\n  'energy': 0.766,\n  'key': 6,\n  'loudness': -4.803,\n  'mode': 1,\n  'speechiness': 0.0389,\n  'acousticness': 0.00702,\n  'instrumentalness': 0,\n  'liveness': 0.096,\n  'valence': 0.55,\n  'tempo': 95.016,\n  'type': 'audio_features',\n  'id': '57Hk0AE5OhgXrPWZOhipHt',\n  'uri': 'spotify:track:57Hk0AE5OhgXrPWZOhipHt',\n  'track_href': 'https://api.spotify.com/v1/tracks/57Hk0AE5OhgXrPWZOhipHt',\n  'analysis_url': 'https://api.spotify.com/v1/audio-analysis/57Hk0AE5OhgXrPWZOhipHt',\n  'duration_ms': 165216,\n  'time_signature': 4},\n {'danceability': 0.872,\n  'energy': 0.497,\n  'key': 0,\n  'loudness': -7.733,\n  'mode': 1,\n  'speechiness': 0.0708,\n  'acousticness': 0.289,\n  'instrumentalness': 0,\n  'liveness': 0.101,\n  'valence': 0.648,\n  'tempo': 120.015,\n  'type': 'audio_features',\n  'id': '0rLfMI04PHRfoaGLcCh816',\n  'uri': 'spotify:track:0rLfMI04PHRfoaGLcCh816',\n  'track_href': 'https://api.spotify.com/v1/tracks/0rLfMI04PHRfoaGLcCh816',\n  'analysis_url': 'https://api.spotify.com/v1/audio-analysis/0rLfMI04PHRfoaGLcCh816',\n  'duration_ms': 193456,\n  'time_signature': 4},\n {'danceability': 0.817,\n  'energy': 0.72,\n  'key': 5,\n  'loudness': -8.134,\n  'mode': 0,\n  'speechiness': 0.0809,\n  'acousticness': 0.172,\n  'instrumentalness': 0.000726,\n  'liveness': 0.109,\n  'valence': 0.384,\n  'tempo': 119.989,\n  'type': 'audio_features',\n  'id': '6tTeRmhhuwDl5Y4UiJdHuO',\n  'uri': 'spotify:track:6tTeRmhhuwDl5Y4UiJdHuO',\n  'track_href': 'https://api.spotify.com/v1/tracks/6tTeRmhhuwDl5Y4UiJdHuO',\n  'analysis_url': 'https://api.spotify.com/v1/audio-analysis/6tTeRmhhuwDl5Y4UiJdHuO',\n  'duration_ms': 180563,\n  'time_signature': 4},\n {'danceability': 0.691,\n  'energy': 0.501,\n  'key': 1,\n  'loudness': -9.089,\n  'mode': 0,\n  'speechiness': 0.045,\n  'acousticness': 0.0499,\n  'instrumentalness': 0.00011,\n  'liveness': 0.131,\n  'valence': 0.332,\n  'tempo': 126.93,\n  'type': 'audio_features',\n  'id': '1VcORtwbt560HNpnDMyCCu',\n  'uri': 'spotify:track:1VcORtwbt560HNpnDMyCCu',\n  'track_href': 'https://api.spotify.com/v1/tracks/1VcORtwbt560HNpnDMyCCu',\n  'analysis_url': 'https://api.spotify.com/v1/audio-analysis/1VcORtwbt560HNpnDMyCCu',\n  'duration_ms': 227947,\n  'time_signature': 4},\n {'danceability': 0.612,\n  'energy': 0.42,\n  'key': 11,\n  'loudness': -8.964,\n  'mode': 1,\n  'speechiness': 0.0838,\n  'acousticness': 0.135,\n  'instrumentalness': 0,\n  'liveness': 0.109,\n  'valence': 0.265,\n  'tempo': 124.633,\n  'type': 'audio_features',\n  'id': '7J9UCy56nirwKuf1IMYtE1',\n  'uri': 'spotify:track:7J9UCy56nirwKuf1IMYtE1',\n  'track_href': 'https://api.spotify.com/v1/tracks/7J9UCy56nirwKuf1IMYtE1',\n  'analysis_url': 'https://api.spotify.com/v1/audio-analysis/7J9UCy56nirwKuf1IMYtE1',\n  'duration_ms': 223161,\n  'time_signature': 4},\n {'danceability': 0.569,\n  'energy': 0.325,\n  'key': 7,\n  'loudness': -9.66,\n  'mode': 0,\n  'speechiness': 0.0376,\n  'acousticness': 0.67,\n  'instrumentalness': 0,\n  'liveness': 0.141,\n  'valence': 0.274,\n  'tempo': 122.051,\n  'type': 'audio_features',\n  'id': '4qgMPzf9QOETWQFUcFkHD4',\n  'uri': 'spotify:track:4qgMPzf9QOETWQFUcFkHD4',\n  'track_href': 'https://api.spotify.com/v1/tracks/4qgMPzf9QOETWQFUcFkHD4',\n  'analysis_url': 'https://api.spotify.com/v1/audio-analysis/4qgMPzf9QOETWQFUcFkHD4',\n  'duration_ms': 207547,\n  'time_signature': 3},\n {'danceability': 0.615,\n  'energy': 0.322,\n  'key': 1,\n  'loudness': -10.408,\n  'mode': 1,\n  'speechiness': 0.0282,\n  'acousticness': 0.77,\n  'instrumentalness': 3.39e-05,\n  'liveness': 0.11,\n  'valence': 0.256,\n  'tempo': 113.064,\n  'type': 'audio_features',\n  'id': '4Nk5iJrw4u7vJ6nGXosuxk',\n  'uri': 'spotify:track:4Nk5iJrw4u7vJ6nGXosuxk',\n  'track_href': 'https://api.spotify.com/v1/tracks/4Nk5iJrw4u7vJ6nGXosuxk',\n  'analysis_url': 'https://api.spotify.com/v1/audio-analysis/4Nk5iJrw4u7vJ6nGXosuxk',\n  'duration_ms': 195368,\n  'time_signature': 4},\n {'danceability': 0.956,\n  'energy': 0.417,\n  'key': 7,\n  'loudness': -7.892,\n  'mode': 0,\n  'speechiness': 0.0926,\n  'acousticness': 0.572,\n  'instrumentalness': 0.00071,\n  'liveness': 0.0782,\n  'valence': 0.714,\n  'tempo': 108.015,\n  'type': 'audio_features',\n  'id': '4hJhHbkhZFnxmWbAkZRoe0',\n  'uri': 'spotify:track:4hJhHbkhZFnxmWbAkZRoe0',\n  'track_href': 'https://api.spotify.com/v1/tracks/4hJhHbkhZFnxmWbAkZRoe0',\n  'analysis_url': 'https://api.spotify.com/v1/audio-analysis/4hJhHbkhZFnxmWbAkZRoe0',\n  'duration_ms': 187111,\n  'time_signature': 4},\n {'danceability': 0.731,\n  'energy': 0.622,\n  'key': 11,\n  'loudness': -7.704,\n  'mode': 1,\n  'speechiness': 0.0823,\n  'acousticness': 0.0662,\n  'instrumentalness': 0.000153,\n  'liveness': 0.0558,\n  'valence': 0.501,\n  'tempo': 103.949,\n  'type': 'audio_features',\n  'id': '6kmXHLDDK7RQXTjHooTCzH',\n  'uri': 'spotify:track:6kmXHLDDK7RQXTjHooTCzH',\n  'track_href': 'https://api.spotify.com/v1/tracks/6kmXHLDDK7RQXTjHooTCzH',\n  'analysis_url': 'https://api.spotify.com/v1/audio-analysis/6kmXHLDDK7RQXTjHooTCzH',\n  'duration_ms': 205385,\n  'time_signature': 4},\n {'danceability': 0.692,\n  'energy': 0.642,\n  'key': 6,\n  'loudness': -6.68,\n  'mode': 1,\n  'speechiness': 0.0702,\n  'acousticness': 0.337,\n  'instrumentalness': 0,\n  'liveness': 0.107,\n  'valence': 0.702,\n  'tempo': 98.096,\n  'type': 'audio_features',\n  'id': '4ZB2yAZyPHI6SHdFPPT9sa',\n  'uri': 'spotify:track:4ZB2yAZyPHI6SHdFPPT9sa',\n  'track_href': 'https://api.spotify.com/v1/tracks/4ZB2yAZyPHI6SHdFPPT9sa',\n  'analysis_url': 'https://api.spotify.com/v1/audio-analysis/4ZB2yAZyPHI6SHdFPPT9sa',\n  'duration_ms': 161164,\n  'time_signature': 4},\n {'danceability': 0.79,\n  'energy': 0.526,\n  'key': 6,\n  'loudness': -5.311,\n  'mode': 0,\n  'speechiness': 0.231,\n  'acousticness': 0.367,\n  'instrumentalness': 9.89e-05,\n  'liveness': 0.076,\n  'valence': 0.953,\n  'tempo': 98.241,\n  'type': 'audio_features',\n  'id': '7BglTfVmbUUOCQUNof4RBF',\n  'uri': 'spotify:track:7BglTfVmbUUOCQUNof4RBF',\n  'track_href': 'https://api.spotify.com/v1/tracks/7BglTfVmbUUOCQUNof4RBF',\n  'analysis_url': 'https://api.spotify.com/v1/audio-analysis/7BglTfVmbUUOCQUNof4RBF',\n  'duration_ms': 160800,\n  'time_signature': 4},\n {'danceability': 0.861,\n  'energy': 0.27,\n  'key': 6,\n  'loudness': -9.515,\n  'mode': 0,\n  'speechiness': 0.0616,\n  'acousticness': 0.301,\n  'instrumentalness': 0.00288,\n  'liveness': 0.124,\n  'valence': 0.608,\n  'tempo': 84.004,\n  'type': 'audio_features',\n  'id': '1vghSeMBb7AIMT3JaMrlHO',\n  'uri': 'spotify:track:1vghSeMBb7AIMT3JaMrlHO',\n  'track_href': 'https://api.spotify.com/v1/tracks/1vghSeMBb7AIMT3JaMrlHO',\n  'analysis_url': 'https://api.spotify.com/v1/audio-analysis/1vghSeMBb7AIMT3JaMrlHO',\n  'duration_ms': 165320,\n  'time_signature': 4},\n {'danceability': 0.767,\n  'energy': 0.438,\n  'key': 7,\n  'loudness': -8.726,\n  'mode': 0,\n  'speechiness': 0.29,\n  'acousticness': 0.181,\n  'instrumentalness': 0,\n  'liveness': 0.142,\n  'valence': 0.381,\n  'tempo': 86.975,\n  'type': 'audio_features',\n  'id': '37Nqx7iavZpotJSDXZWbJ3',\n  'uri': 'spotify:track:37Nqx7iavZpotJSDXZWbJ3',\n  'track_href': 'https://api.spotify.com/v1/tracks/37Nqx7iavZpotJSDXZWbJ3',\n  'analysis_url': 'https://api.spotify.com/v1/audio-analysis/37Nqx7iavZpotJSDXZWbJ3',\n  'duration_ms': 221980,\n  'time_signature': 4},\n {'danceability': 0.47,\n  'energy': 0.551,\n  'key': 2,\n  'loudness': -6.43,\n  'mode': 0,\n  'speechiness': 0.373,\n  'acousticness': 0.385,\n  'instrumentalness': 0,\n  'liveness': 0.0852,\n  'valence': 0.716,\n  'tempo': 165.84,\n  'type': 'audio_features',\n  'id': '0IRTa7DehMM1eyrwx98DJ7',\n  'uri': 'spotify:track:0IRTa7DehMM1eyrwx98DJ7',\n  'track_href': 'https://api.spotify.com/v1/tracks/0IRTa7DehMM1eyrwx98DJ7',\n  'analysis_url': 'https://api.spotify.com/v1/audio-analysis/0IRTa7DehMM1eyrwx98DJ7',\n  'duration_ms': 175329,\n  'time_signature': 4},\n {'danceability': 0.535,\n  'energy': 0.388,\n  'key': 7,\n  'loudness': -9.805,\n  'mode': 0,\n  'speechiness': 0.155,\n  'acousticness': 0.507,\n  'instrumentalness': 0,\n  'liveness': 0.11,\n  'valence': 0.412,\n  'tempo': 106.703,\n  'type': 'audio_features',\n  'id': '5dXWFMwD7I7zXsInONVl0H',\n  'uri': 'spotify:track:5dXWFMwD7I7zXsInONVl0H',\n  'track_href': 'https://api.spotify.com/v1/tracks/5dXWFMwD7I7zXsInONVl0H',\n  'analysis_url': 'https://api.spotify.com/v1/audio-analysis/5dXWFMwD7I7zXsInONVl0H',\n  'duration_ms': 174000,\n  'time_signature': 5},\n {'danceability': 0.602,\n  'energy': 0.696,\n  'key': 5,\n  'loudness': -4.381,\n  'mode': 0,\n  'speechiness': 0.0745,\n  'acousticness': 0.724,\n  'instrumentalness': 0,\n  'liveness': 0.184,\n  'valence': 0.576,\n  'tempo': 119.385,\n  'type': 'audio_features',\n  'id': '4Akv7im73zdPuVKwsiqhQS',\n  'uri': 'spotify:track:4Akv7im73zdPuVKwsiqhQS',\n  'track_href': 'https://api.spotify.com/v1/tracks/4Akv7im73zdPuVKwsiqhQS',\n  'analysis_url': 'https://api.spotify.com/v1/audio-analysis/4Akv7im73zdPuVKwsiqhQS',\n  'duration_ms': 184216,\n  'time_signature': 4},\n {'danceability': 0.621,\n  'energy': 0.763,\n  'key': 0,\n  'loudness': -5.511,\n  'mode': 1,\n  'speechiness': 0.0684,\n  'acousticness': 0.0286,\n  'instrumentalness': 0,\n  'liveness': 0.529,\n  'valence': 0.45,\n  'tempo': 139.994,\n  'type': 'audio_features',\n  'id': '3S4gq91XRuohTTfJZAiGVK',\n  'uri': 'spotify:track:3S4gq91XRuohTTfJZAiGVK',\n  'track_href': 'https://api.spotify.com/v1/tracks/3S4gq91XRuohTTfJZAiGVK',\n  'analysis_url': 'https://api.spotify.com/v1/audio-analysis/3S4gq91XRuohTTfJZAiGVK',\n  'duration_ms': 164566,\n  'time_signature': 4},\n {'danceability': 0.367,\n  'energy': 0.142,\n  'key': 6,\n  'loudness': -12.717,\n  'mode': 0,\n  'speechiness': 0.0319,\n  'acousticness': 0.913,\n  'instrumentalness': 0.00367,\n  'liveness': 0.107,\n  'valence': 0.1,\n  'tempo': 69.827,\n  'type': 'audio_features',\n  'id': '3FImu2LpSuH6gDHBuFgIbS',\n  'uri': 'spotify:track:3FImu2LpSuH6gDHBuFgIbS',\n  'track_href': 'https://api.spotify.com/v1/tracks/3FImu2LpSuH6gDHBuFgIbS',\n  'analysis_url': 'https://api.spotify.com/v1/audio-analysis/3FImu2LpSuH6gDHBuFgIbS',\n  'duration_ms': 189463,\n  'time_signature': 4},\n {'danceability': 0.895,\n  'energy': 0.488,\n  'key': 3,\n  'loudness': -5.142,\n  'mode': 0,\n  'speechiness': 0.0874,\n  'acousticness': 0.0912,\n  'instrumentalness': 0,\n  'liveness': 0.111,\n  'valence': 0.77,\n  'tempo': 136.108,\n  'type': 'audio_features',\n  'id': '1hze2kmg5hKQjGOcHCE5OM',\n  'uri': 'spotify:track:1hze2kmg5hKQjGOcHCE5OM',\n  'track_href': 'https://api.spotify.com/v1/tracks/1hze2kmg5hKQjGOcHCE5OM',\n  'analysis_url': 'https://api.spotify.com/v1/audio-analysis/1hze2kmg5hKQjGOcHCE5OM',\n  'duration_ms': 153396,\n  'time_signature': 4},\n {'danceability': 0.809,\n  'energy': 0.59,\n  'key': 2,\n  'loudness': -5.586,\n  'mode': 1,\n  'speechiness': 0.143,\n  'acousticness': 0.168,\n  'instrumentalness': 0.00097,\n  'liveness': 0.119,\n  'valence': 0.47,\n  'tempo': 101.964,\n  'type': 'audio_features',\n  'id': '13ikSMNMyLUSqkzbqEHzdu',\n  'uri': 'spotify:track:13ikSMNMyLUSqkzbqEHzdu',\n  'track_href': 'https://api.spotify.com/v1/tracks/13ikSMNMyLUSqkzbqEHzdu',\n  'analysis_url': 'https://api.spotify.com/v1/audio-analysis/13ikSMNMyLUSqkzbqEHzdu',\n  'duration_ms': 237480,\n  'time_signature': 4},\n {'danceability': 0.626,\n  'energy': 0.445,\n  'key': 10,\n  'loudness': -5.143,\n  'mode': 0,\n  'speechiness': 0.0507,\n  'acousticness': 0.285,\n  'instrumentalness': 7.76e-06,\n  'liveness': 0.0999,\n  'valence': 0.25,\n  'tempo': 71.352,\n  'type': 'audio_features',\n  'id': '7BAreLM0Yif723pgS8Kydl',\n  'uri': 'spotify:track:7BAreLM0Yif723pgS8Kydl',\n  'track_href': 'https://api.spotify.com/v1/tracks/7BAreLM0Yif723pgS8Kydl',\n  'analysis_url': 'https://api.spotify.com/v1/audio-analysis/7BAreLM0Yif723pgS8Kydl',\n  'duration_ms': 190112,\n  'time_signature': 4},\n {'danceability': 0.627,\n  'energy': 0.618,\n  'key': 2,\n  'loudness': -8.529,\n  'mode': 1,\n  'speechiness': 0.0437,\n  'acousticness': 0.0558,\n  'instrumentalness': 0,\n  'liveness': 0.351,\n  'valence': 0.848,\n  'tempo': 82.03,\n  'type': 'audio_features',\n  'id': '4iN16F8JtVxG2UTzp3avGl',\n  'uri': 'spotify:track:4iN16F8JtVxG2UTzp3avGl',\n  'track_href': 'https://api.spotify.com/v1/tracks/4iN16F8JtVxG2UTzp3avGl',\n  'analysis_url': 'https://api.spotify.com/v1/audio-analysis/4iN16F8JtVxG2UTzp3avGl',\n  'duration_ms': 197443,\n  'time_signature': 4},\n {'danceability': 0.62,\n  'energy': 0.63,\n  'key': 10,\n  'loudness': -5.578,\n  'mode': 0,\n  'speechiness': 0.198,\n  'acousticness': 0.171,\n  'instrumentalness': 0,\n  'liveness': 0.0824,\n  'valence': 0.543,\n  'tempo': 85.42,\n  'type': 'audio_features',\n  'id': '2nQF3xgFXtXVUlaQNiUARI',\n  'uri': 'spotify:track:2nQF3xgFXtXVUlaQNiUARI',\n  'track_href': 'https://api.spotify.com/v1/tracks/2nQF3xgFXtXVUlaQNiUARI',\n  'analysis_url': 'https://api.spotify.com/v1/audio-analysis/2nQF3xgFXtXVUlaQNiUARI',\n  'duration_ms': 194821,\n  'time_signature': 4},\n {'danceability': 0.822,\n  'energy': 0.627,\n  'key': 7,\n  'loudness': -5.826,\n  'mode': 0,\n  'speechiness': 0.126,\n  'acousticness': 0.143,\n  'instrumentalness': 0,\n  'liveness': 0.146,\n  'valence': 0.5,\n  'tempo': 120.057,\n  'type': 'audio_features',\n  'id': '5MA0iU2dyAFwWUzfyrk2di',\n  'uri': 'spotify:track:5MA0iU2dyAFwWUzfyrk2di',\n  'track_href': 'https://api.spotify.com/v1/tracks/5MA0iU2dyAFwWUzfyrk2di',\n  'analysis_url': 'https://api.spotify.com/v1/audio-analysis/5MA0iU2dyAFwWUzfyrk2di',\n  'duration_ms': 216707,\n  'time_signature': 4},\n {'danceability': 0.738,\n  'energy': 0.75,\n  'key': 11,\n  'loudness': -3.654,\n  'mode': 0,\n  'speechiness': 0.219,\n  'acousticness': 0.0167,\n  'instrumentalness': 0.00976,\n  'liveness': 0.174,\n  'valence': 0.342,\n  'tempo': 112.009,\n  'type': 'audio_features',\n  'id': '1jBKtzlwTVtCrScpiiHiKT',\n  'uri': 'spotify:track:1jBKtzlwTVtCrScpiiHiKT',\n  'track_href': 'https://api.spotify.com/v1/tracks/1jBKtzlwTVtCrScpiiHiKT',\n  'analysis_url': 'https://api.spotify.com/v1/audio-analysis/1jBKtzlwTVtCrScpiiHiKT',\n  'duration_ms': 207840,\n  'time_signature': 4},\n {'danceability': 0.821,\n  'energy': 0.412,\n  'key': 7,\n  'loudness': -7.795,\n  'mode': 1,\n  'speechiness': 0.0341,\n  'acousticness': 0.625,\n  'instrumentalness': 1.64e-05,\n  'liveness': 0.0985,\n  'valence': 0.333,\n  'tempo': 109.977,\n  'type': 'audio_features',\n  'id': '0GGfGINoVYiSFXPOjg3RHj',\n  'uri': 'spotify:track:0GGfGINoVYiSFXPOjg3RHj',\n  'track_href': 'https://api.spotify.com/v1/tracks/0GGfGINoVYiSFXPOjg3RHj',\n  'analysis_url': 'https://api.spotify.com/v1/audio-analysis/0GGfGINoVYiSFXPOjg3RHj',\n  'duration_ms': 209454,\n  'time_signature': 4},\n {'danceability': 0.873,\n  'energy': 0.658,\n  'key': 4,\n  'loudness': -8.031,\n  'mode': 0,\n  'speechiness': 0.108,\n  'acousticness': 0.00858,\n  'instrumentalness': 0.0061,\n  'liveness': 0.0999,\n  'valence': 0.483,\n  'tempo': 104.033,\n  'type': 'audio_features',\n  'id': '3ketN3dth18vSJ1T3HIztN',\n  'uri': 'spotify:track:3ketN3dth18vSJ1T3HIztN',\n  'track_href': 'https://api.spotify.com/v1/tracks/3ketN3dth18vSJ1T3HIztN',\n  'analysis_url': 'https://api.spotify.com/v1/audio-analysis/3ketN3dth18vSJ1T3HIztN',\n  'duration_ms': 189800,\n  'time_signature': 4},\n {'danceability': 0.763,\n  'energy': 0.667,\n  'key': 2,\n  'loudness': -6.285,\n  'mode': 1,\n  'speechiness': 0.085,\n  'acousticness': 0.021,\n  'instrumentalness': 2.4e-05,\n  'liveness': 0.0715,\n  'valence': 0.75,\n  'tempo': 95.864,\n  'type': 'audio_features',\n  'id': '2lBExcAjBgX7Jb480goU9B',\n  'uri': 'spotify:track:2lBExcAjBgX7Jb480goU9B',\n  'track_href': 'https://api.spotify.com/v1/tracks/2lBExcAjBgX7Jb480goU9B',\n  'analysis_url': 'https://api.spotify.com/v1/audio-analysis/2lBExcAjBgX7Jb480goU9B',\n  'duration_ms': 260520,\n  'time_signature': 4},\n {'danceability': 0.547,\n  'energy': 0.619,\n  'key': 3,\n  'loudness': -6.485,\n  'mode': 0,\n  'speechiness': 0.132,\n  'acousticness': 0.0951,\n  'instrumentalness': 2.62e-06,\n  'liveness': 0.0716,\n  'valence': 0.519,\n  'tempo': 76.285,\n  'type': 'audio_features',\n  'id': '0tkgmjBMU6qSxolAKB3f2H',\n  'uri': 'spotify:track:0tkgmjBMU6qSxolAKB3f2H',\n  'track_href': 'https://api.spotify.com/v1/tracks/0tkgmjBMU6qSxolAKB3f2H',\n  'analysis_url': 'https://api.spotify.com/v1/audio-analysis/0tkgmjBMU6qSxolAKB3f2H',\n  'duration_ms': 233070,\n  'time_signature': 4},\n {'danceability': 0.447,\n  'energy': 0.42,\n  'key': 1,\n  'loudness': -7.915,\n  'mode': 1,\n  'speechiness': 0.0726,\n  'acousticness': 0.617,\n  'instrumentalness': 0,\n  'liveness': 0.116,\n  'valence': 0.15,\n  'tempo': 135.91,\n  'type': 'audio_features',\n  'id': '4dmNBu6IEQahPJDlQQOY69',\n  'uri': 'spotify:track:4dmNBu6IEQahPJDlQQOY69',\n  'track_href': 'https://api.spotify.com/v1/tracks/4dmNBu6IEQahPJDlQQOY69',\n  'analysis_url': 'https://api.spotify.com/v1/audio-analysis/4dmNBu6IEQahPJDlQQOY69',\n  'duration_ms': 214053,\n  'time_signature': 5},\n {'danceability': 0.668,\n  'energy': 0.511,\n  'key': 9,\n  'loudness': -7.221,\n  'mode': 0,\n  'speechiness': 0.229,\n  'acousticness': 0.365,\n  'instrumentalness': 8.23e-06,\n  'liveness': 0.0944,\n  'valence': 0.45,\n  'tempo': 140.977,\n  'type': 'audio_features',\n  'id': '3iiHEQZV80feJ0RDzc1n6b',\n  'uri': 'spotify:track:3iiHEQZV80feJ0RDzc1n6b',\n  'track_href': 'https://api.spotify.com/v1/tracks/3iiHEQZV80feJ0RDzc1n6b',\n  'analysis_url': 'https://api.spotify.com/v1/audio-analysis/3iiHEQZV80feJ0RDzc1n6b',\n  'duration_ms': 209853,\n  'time_signature': 4},\n {'danceability': 0.664,\n  'energy': 0.45,\n  'key': 8,\n  'loudness': -9.125,\n  'mode': 1,\n  'speechiness': 0.166,\n  'acousticness': 0.204,\n  'instrumentalness': 4.45e-06,\n  'liveness': 0.171,\n  'valence': 0.254,\n  'tempo': 90.991,\n  'type': 'audio_features',\n  'id': '74CjepodJooOCQkrGCwE4C',\n  'uri': 'spotify:track:74CjepodJooOCQkrGCwE4C',\n  'track_href': 'https://api.spotify.com/v1/tracks/74CjepodJooOCQkrGCwE4C',\n  'analysis_url': 'https://api.spotify.com/v1/audio-analysis/74CjepodJooOCQkrGCwE4C',\n  'duration_ms': 222168,\n  'time_signature': 4},\n {'danceability': 0.807,\n  'energy': 0.481,\n  'key': 8,\n  'loudness': -7.362,\n  'mode': 0,\n  'speechiness': 0.0713,\n  'acousticness': 0.0264,\n  'instrumentalness': 1.28e-06,\n  'liveness': 0.112,\n  'valence': 0.748,\n  'tempo': 91.005,\n  'type': 'audio_features',\n  'id': '1IjeGPU5hqHlJpm00zObN7',\n  'uri': 'spotify:track:1IjeGPU5hqHlJpm00zObN7',\n  'track_href': 'https://api.spotify.com/v1/tracks/1IjeGPU5hqHlJpm00zObN7',\n  'analysis_url': 'https://api.spotify.com/v1/audio-analysis/1IjeGPU5hqHlJpm00zObN7',\n  'duration_ms': 175319,\n  'time_signature': 4},\n {'danceability': 0.769,\n  'energy': 0.815,\n  'key': 8,\n  'loudness': -6.918,\n  'mode': 0,\n  'speechiness': 0.325,\n  'acousticness': 0.157,\n  'instrumentalness': 0,\n  'liveness': 0.0657,\n  'valence': 0.774,\n  'tempo': 97.911,\n  'type': 'audio_features',\n  'id': '5MMW4CZsZiZt2iuqAXzzWC',\n  'uri': 'spotify:track:5MMW4CZsZiZt2iuqAXzzWC',\n  'track_href': 'https://api.spotify.com/v1/tracks/5MMW4CZsZiZt2iuqAXzzWC',\n  'analysis_url': 'https://api.spotify.com/v1/audio-analysis/5MMW4CZsZiZt2iuqAXzzWC',\n  'duration_ms': 332362,\n  'time_signature': 4},\n {'danceability': 0.71,\n  'energy': 0.522,\n  'key': 11,\n  'loudness': -9.102,\n  'mode': 1,\n  'speechiness': 0.36,\n  'acousticness': 0.615,\n  'instrumentalness': 0,\n  'liveness': 0.11,\n  'valence': 0.37,\n  'tempo': 96.448,\n  'type': 'audio_features',\n  'id': '3EMp20j5E42MxfFbsEsIvD',\n  'uri': 'spotify:track:3EMp20j5E42MxfFbsEsIvD',\n  'track_href': 'https://api.spotify.com/v1/tracks/3EMp20j5E42MxfFbsEsIvD',\n  'analysis_url': 'https://api.spotify.com/v1/audio-analysis/3EMp20j5E42MxfFbsEsIvD',\n  'duration_ms': 309327,\n  'time_signature': 4},\n {'danceability': 0.883,\n  'energy': 0.657,\n  'key': 8,\n  'loudness': -5.748,\n  'mode': 1,\n  'speechiness': 0.305,\n  'acousticness': 0.0603,\n  'instrumentalness': 0,\n  'liveness': 0.128,\n  'valence': 0.284,\n  'tempo': 124.992,\n  'type': 'audio_features',\n  'id': '5qgFgsrrxOjyPmX5YCuK2E',\n  'uri': 'spotify:track:5qgFgsrrxOjyPmX5YCuK2E',\n  'track_href': 'https://api.spotify.com/v1/tracks/5qgFgsrrxOjyPmX5YCuK2E',\n  'analysis_url': 'https://api.spotify.com/v1/audio-analysis/5qgFgsrrxOjyPmX5YCuK2E',\n  'duration_ms': 172933,\n  'time_signature': 4},\n {'danceability': 0.535,\n  'energy': 0.618,\n  'key': 2,\n  'loudness': -5.668,\n  'mode': 1,\n  'speechiness': 0.382,\n  'acousticness': 0.0245,\n  'instrumentalness': 0,\n  'liveness': 0.103,\n  'valence': 0.211,\n  'tempo': 165.991,\n  'type': 'audio_features',\n  'id': '6ws54n2IzyrIxxyzlG2bVJ',\n  'uri': 'spotify:track:6ws54n2IzyrIxxyzlG2bVJ',\n  'track_href': 'https://api.spotify.com/v1/tracks/6ws54n2IzyrIxxyzlG2bVJ',\n  'analysis_url': 'https://api.spotify.com/v1/audio-analysis/6ws54n2IzyrIxxyzlG2bVJ',\n  'duration_ms': 213976,\n  'time_signature': 4},\n {'danceability': 0.727,\n  'energy': 0.616,\n  'key': 8,\n  'loudness': -8.487,\n  'mode': 1,\n  'speechiness': 0.338,\n  'acousticness': 0.542,\n  'instrumentalness': 4.47e-06,\n  'liveness': 0.482,\n  'valence': 0.392,\n  'tempo': 140.014,\n  'type': 'audio_features',\n  'id': '7IBLt4Qarf4JDLxIQDv2O5',\n  'uri': 'spotify:track:7IBLt4Qarf4JDLxIQDv2O5',\n  'track_href': 'https://api.spotify.com/v1/tracks/7IBLt4Qarf4JDLxIQDv2O5',\n  'analysis_url': 'https://api.spotify.com/v1/audio-analysis/7IBLt4Qarf4JDLxIQDv2O5',\n  'duration_ms': 291612,\n  'time_signature': 4},\n {'danceability': 0.833,\n  'energy': 0.652,\n  'key': 11,\n  'loudness': -6.942,\n  'mode': 1,\n  'speechiness': 0.0762,\n  'acousticness': 0.00161,\n  'instrumentalness': 0.0985,\n  'liveness': 0.106,\n  'valence': 0.405,\n  'tempo': 158.022,\n  'type': 'audio_features',\n  'id': '0LnS7aOdOdI1dNKZqdOLz4',\n  'uri': 'spotify:track:0LnS7aOdOdI1dNKZqdOLz4',\n  'track_href': 'https://api.spotify.com/v1/tracks/0LnS7aOdOdI1dNKZqdOLz4',\n  'analysis_url': 'https://api.spotify.com/v1/audio-analysis/0LnS7aOdOdI1dNKZqdOLz4',\n  'duration_ms': 135053,\n  'time_signature': 4},\n {'danceability': 0.863,\n  'energy': 0.499,\n  'key': 7,\n  'loudness': -8.602,\n  'mode': 0,\n  'speechiness': 0.514,\n  'acousticness': 0.0758,\n  'instrumentalness': 0,\n  'liveness': 0.104,\n  'valence': 0.76,\n  'tempo': 80.073,\n  'type': 'audio_features',\n  'id': '1NVp7VnSVUJalgIBCIkh0w',\n  'uri': 'spotify:track:1NVp7VnSVUJalgIBCIkh0w',\n  'track_href': 'https://api.spotify.com/v1/tracks/1NVp7VnSVUJalgIBCIkh0w',\n  'analysis_url': 'https://api.spotify.com/v1/audio-analysis/1NVp7VnSVUJalgIBCIkh0w',\n  'duration_ms': 156996,\n  'time_signature': 4},\n {'danceability': 0.825,\n  'energy': 0.234,\n  'key': 9,\n  'loudness': -14.202,\n  'mode': 1,\n  'speechiness': 0.495,\n  'acousticness': 0.235,\n  'instrumentalness': 9.54e-06,\n  'liveness': 0.0696,\n  'valence': 0.18,\n  'tempo': 77.487,\n  'type': 'audio_features',\n  'id': '5mt882Eqx22RwFOTE01jS8',\n  'uri': 'spotify:track:5mt882Eqx22RwFOTE01jS8',\n  'track_href': 'https://api.spotify.com/v1/tracks/5mt882Eqx22RwFOTE01jS8',\n  'analysis_url': 'https://api.spotify.com/v1/audio-analysis/5mt882Eqx22RwFOTE01jS8',\n  'duration_ms': 111484,\n  'time_signature': 4},\n {'danceability': 0.773,\n  'energy': 0.707,\n  'key': 11,\n  'loudness': -5.71,\n  'mode': 1,\n  'speechiness': 0.0568,\n  'acousticness': 0.0103,\n  'instrumentalness': 1.04e-05,\n  'liveness': 0.296,\n  'valence': 0.113,\n  'tempo': 76.977,\n  'type': 'audio_features',\n  'id': '6wyhUr4Xw8z5uSy0AhoZfU',\n  'uri': 'spotify:track:6wyhUr4Xw8z5uSy0AhoZfU',\n  'track_href': 'https://api.spotify.com/v1/tracks/6wyhUr4Xw8z5uSy0AhoZfU',\n  'analysis_url': 'https://api.spotify.com/v1/audio-analysis/6wyhUr4Xw8z5uSy0AhoZfU',\n  'duration_ms': 236187,\n  'time_signature': 4},\n {'danceability': 0.609,\n  'energy': 0.799,\n  'key': 9,\n  'loudness': -6.883,\n  'mode': 1,\n  'speechiness': 0.24,\n  'acousticness': 0.33,\n  'instrumentalness': 0,\n  'liveness': 0.108,\n  'valence': 0.582,\n  'tempo': 157.74,\n  'type': 'audio_features',\n  'id': '2Fw5S2gaOSZzdN5dFoC2dj',\n  'uri': 'spotify:track:2Fw5S2gaOSZzdN5dFoC2dj',\n  'track_href': 'https://api.spotify.com/v1/tracks/2Fw5S2gaOSZzdN5dFoC2dj',\n  'analysis_url': 'https://api.spotify.com/v1/audio-analysis/2Fw5S2gaOSZzdN5dFoC2dj',\n  'duration_ms': 215509,\n  'time_signature': 4},\n {'danceability': 0.643,\n  'energy': 0.605,\n  'key': 4,\n  'loudness': -5.968,\n  'mode': 0,\n  'speechiness': 0.297,\n  'acousticness': 0.0336,\n  'instrumentalness': 0,\n  'liveness': 0.112,\n  'valence': 0.145,\n  'tempo': 84.216,\n  'type': 'audio_features',\n  'id': '3ihIZrJreMJPjQdNLrEXnP',\n  'uri': 'spotify:track:3ihIZrJreMJPjQdNLrEXnP',\n  'track_href': 'https://api.spotify.com/v1/tracks/3ihIZrJreMJPjQdNLrEXnP',\n  'analysis_url': 'https://api.spotify.com/v1/audio-analysis/3ihIZrJreMJPjQdNLrEXnP',\n  'duration_ms': 200471,\n  'time_signature': 4},\n {'danceability': 0.905,\n  'energy': 0.563,\n  'key': 8,\n  'loudness': -6.135,\n  'mode': 1,\n  'speechiness': 0.102,\n  'acousticness': 0.0254,\n  'instrumentalness': 9.71e-06,\n  'liveness': 0.113,\n  'valence': 0.324,\n  'tempo': 106.998,\n  'type': 'audio_features',\n  'id': '1rDQ4oMwGJI7B4tovsBOxc',\n  'uri': 'spotify:track:1rDQ4oMwGJI7B4tovsBOxc',\n  'track_href': 'https://api.spotify.com/v1/tracks/1rDQ4oMwGJI7B4tovsBOxc',\n  'analysis_url': 'https://api.spotify.com/v1/audio-analysis/1rDQ4oMwGJI7B4tovsBOxc',\n  'duration_ms': 173948,\n  'time_signature': 4},\n {'danceability': 0.664,\n  'energy': 0.559,\n  'key': 6,\n  'loudness': -7.568,\n  'mode': 0,\n  'speechiness': 0.075,\n  'acousticness': 0.139,\n  'instrumentalness': 0,\n  'liveness': 0.303,\n  'valence': 0.548,\n  'tempo': 153.95,\n  'type': 'audio_features',\n  'id': '31xA2Iti4kb3aMiX75e8Y5',\n  'uri': 'spotify:track:31xA2Iti4kb3aMiX75e8Y5',\n  'track_href': 'https://api.spotify.com/v1/tracks/31xA2Iti4kb3aMiX75e8Y5',\n  'analysis_url': 'https://api.spotify.com/v1/audio-analysis/31xA2Iti4kb3aMiX75e8Y5',\n  'duration_ms': 149611,\n  'time_signature': 4},\n {'danceability': 0.732,\n  'energy': 0.672,\n  'key': 10,\n  'loudness': -8.462,\n  'mode': 0,\n  'speechiness': 0.148,\n  'acousticness': 0.0642,\n  'instrumentalness': 0,\n  'liveness': 0.121,\n  'valence': 0.16,\n  'tempo': 137.03,\n  'type': 'audio_features',\n  'id': '1wNdGz7BlB9kH5lDc1eLLb',\n  'uri': 'spotify:track:1wNdGz7BlB9kH5lDc1eLLb',\n  'track_href': 'https://api.spotify.com/v1/tracks/1wNdGz7BlB9kH5lDc1eLLb',\n  'analysis_url': 'https://api.spotify.com/v1/audio-analysis/1wNdGz7BlB9kH5lDc1eLLb',\n  'duration_ms': 140601,\n  'time_signature': 4},\n {'danceability': 0.741,\n  'energy': 0.788,\n  'key': 2,\n  'loudness': -6.403,\n  'mode': 1,\n  'speechiness': 0.2,\n  'acousticness': 0.00119,\n  'instrumentalness': 0,\n  'liveness': 0.0957,\n  'valence': 0.307,\n  'tempo': 160.03,\n  'type': 'audio_features',\n  'id': '3gOL6mYIq19Oq8raxIntrV',\n  'uri': 'spotify:track:3gOL6mYIq19Oq8raxIntrV',\n  'track_href': 'https://api.spotify.com/v1/tracks/3gOL6mYIq19Oq8raxIntrV',\n  'analysis_url': 'https://api.spotify.com/v1/audio-analysis/3gOL6mYIq19Oq8raxIntrV',\n  'duration_ms': 132987,\n  'time_signature': 4},\n {'danceability': 0.594,\n  'energy': 0.679,\n  'key': 7,\n  'loudness': -3.702,\n  'mode': 1,\n  'speechiness': 0.345,\n  'acousticness': 0.484,\n  'instrumentalness': 7.83e-06,\n  'liveness': 0.114,\n  'valence': 0.66,\n  'tempo': 106.726,\n  'type': 'audio_features',\n  'id': '1dp8aQANyTRKssDeAYPiZe',\n  'uri': 'spotify:track:1dp8aQANyTRKssDeAYPiZe',\n  'track_href': 'https://api.spotify.com/v1/tracks/1dp8aQANyTRKssDeAYPiZe',\n  'analysis_url': 'https://api.spotify.com/v1/audio-analysis/1dp8aQANyTRKssDeAYPiZe',\n  'duration_ms': 152613,\n  'time_signature': 5},\n {'danceability': 0.514,\n  'energy': 0.65,\n  'key': 6,\n  'loudness': -8.867,\n  'mode': 1,\n  'speechiness': 0.499,\n  'acousticness': 0.138,\n  'instrumentalness': 0,\n  'liveness': 0.103,\n  'valence': 0.236,\n  'tempo': 127.428,\n  'type': 'audio_features',\n  'id': '19n0UZuW8AArMVWNztoXu9',\n  'uri': 'spotify:track:19n0UZuW8AArMVWNztoXu9',\n  'track_href': 'https://api.spotify.com/v1/tracks/19n0UZuW8AArMVWNztoXu9',\n  'analysis_url': 'https://api.spotify.com/v1/audio-analysis/19n0UZuW8AArMVWNztoXu9',\n  'duration_ms': 179149,\n  'time_signature': 5},\n {'danceability': 0.795,\n  'energy': 0.526,\n  'key': 6,\n  'loudness': -9.086,\n  'mode': 0,\n  'speechiness': 0.204,\n  'acousticness': 0.067,\n  'instrumentalness': 2e-06,\n  'liveness': 0.134,\n  'valence': 0.194,\n  'tempo': 140.037,\n  'type': 'audio_features',\n  'id': '7ohROa13QK43JBRqfCmz4P',\n  'uri': 'spotify:track:7ohROa13QK43JBRqfCmz4P',\n  'track_href': 'https://api.spotify.com/v1/tracks/7ohROa13QK43JBRqfCmz4P',\n  'analysis_url': 'https://api.spotify.com/v1/audio-analysis/7ohROa13QK43JBRqfCmz4P',\n  'duration_ms': 181393,\n  'time_signature': 4},\n {'danceability': 0.752,\n  'energy': 0.617,\n  'key': 7,\n  'loudness': -5.68,\n  'mode': 1,\n  'speechiness': 0.0544,\n  'acousticness': 0.0319,\n  'instrumentalness': 0,\n  'liveness': 0.261,\n  'valence': 0.137,\n  'tempo': 144.006,\n  'type': 'audio_features',\n  'id': '5KcZNsrl7PMIxJ2xBbTwH3',\n  'uri': 'spotify:track:5KcZNsrl7PMIxJ2xBbTwH3',\n  'track_href': 'https://api.spotify.com/v1/tracks/5KcZNsrl7PMIxJ2xBbTwH3',\n  'analysis_url': 'https://api.spotify.com/v1/audio-analysis/5KcZNsrl7PMIxJ2xBbTwH3',\n  'duration_ms': 188967,\n  'time_signature': 4},\n {'danceability': 0.793,\n  'energy': 0.308,\n  'key': 0,\n  'loudness': -10.414,\n  'mode': 0,\n  'speechiness': 0.0466,\n  'acousticness': 0.613,\n  'instrumentalness': 1.68e-05,\n  'liveness': 0.0953,\n  'valence': 0.46,\n  'tempo': 135.143,\n  'type': 'audio_features',\n  'id': '7Fege3yv4dvehB3NdRBGwI',\n  'uri': 'spotify:track:7Fege3yv4dvehB3NdRBGwI',\n  'track_href': 'https://api.spotify.com/v1/tracks/7Fege3yv4dvehB3NdRBGwI',\n  'analysis_url': 'https://api.spotify.com/v1/audio-analysis/7Fege3yv4dvehB3NdRBGwI',\n  'duration_ms': 200000,\n  'time_signature': 4},\n {'danceability': 0.905,\n  'energy': 0.724,\n  'key': 0,\n  'loudness': -6.255,\n  'mode': 1,\n  'speechiness': 0.237,\n  'acousticness': 0.00813,\n  'instrumentalness': 0,\n  'liveness': 0.329,\n  'valence': 0.361,\n  'tempo': 136.982,\n  'type': 'audio_features',\n  'id': '3p4YmRsO7aOu8PUbwdN3OB',\n  'uri': 'spotify:track:3p4YmRsO7aOu8PUbwdN3OB',\n  'track_href': 'https://api.spotify.com/v1/tracks/3p4YmRsO7aOu8PUbwdN3OB',\n  'analysis_url': 'https://api.spotify.com/v1/audio-analysis/3p4YmRsO7aOu8PUbwdN3OB',\n  'duration_ms': 193480,\n  'time_signature': 4},\n {'danceability': 0.807,\n  'energy': 0.625,\n  'key': 0,\n  'loudness': -6.67,\n  'mode': 1,\n  'speechiness': 0.351,\n  'acousticness': 0.0741,\n  'instrumentalness': 0,\n  'liveness': 0.487,\n  'valence': 0.871,\n  'tempo': 146.031,\n  'type': 'audio_features',\n  'id': '6r9xnueU24r4eoG3HXC87E',\n  'uri': 'spotify:track:6r9xnueU24r4eoG3HXC87E',\n  'track_href': 'https://api.spotify.com/v1/tracks/6r9xnueU24r4eoG3HXC87E',\n  'analysis_url': 'https://api.spotify.com/v1/audio-analysis/6r9xnueU24r4eoG3HXC87E',\n  'duration_ms': 111971,\n  'time_signature': 4},\n {'danceability': 0.776,\n  'energy': 0.671,\n  'key': 9,\n  'loudness': -5.791,\n  'mode': 0,\n  'speechiness': 0.255,\n  'acousticness': 0.123,\n  'instrumentalness': 0,\n  'liveness': 0.0913,\n  'valence': 0.456,\n  'tempo': 147.06,\n  'type': 'audio_features',\n  'id': '2pqu2XTbal0GehjBj2BDkv',\n  'uri': 'spotify:track:2pqu2XTbal0GehjBj2BDkv',\n  'track_href': 'https://api.spotify.com/v1/tracks/2pqu2XTbal0GehjBj2BDkv',\n  'analysis_url': 'https://api.spotify.com/v1/audio-analysis/2pqu2XTbal0GehjBj2BDkv',\n  'duration_ms': 215510,\n  'time_signature': 5},\n {'danceability': 0.684,\n  'energy': 0.545,\n  'key': 1,\n  'loudness': -6.885,\n  'mode': 1,\n  'speechiness': 0.121,\n  'acousticness': 0.159,\n  'instrumentalness': 0,\n  'liveness': 0.102,\n  'valence': 0.407,\n  'tempo': 143.049,\n  'type': 'audio_features',\n  'id': '1HvTxgCj0mTzQlEo0zLvFb',\n  'uri': 'spotify:track:1HvTxgCj0mTzQlEo0zLvFb',\n  'track_href': 'https://api.spotify.com/v1/tracks/1HvTxgCj0mTzQlEo0zLvFb',\n  'analysis_url': 'https://api.spotify.com/v1/audio-analysis/1HvTxgCj0mTzQlEo0zLvFb',\n  'duration_ms': 135264,\n  'time_signature': 4},\n {'danceability': 0.6,\n  'energy': 0.617,\n  'key': 3,\n  'loudness': -6.794,\n  'mode': 0,\n  'speechiness': 0.117,\n  'acousticness': 0.0277,\n  'instrumentalness': 0,\n  'liveness': 0.253,\n  'valence': 0.168,\n  'tempo': 145.805,\n  'type': 'audio_features',\n  'id': '0aJMggmjMva3QFnAbmM2U9',\n  'uri': 'spotify:track:0aJMggmjMva3QFnAbmM2U9',\n  'track_href': 'https://api.spotify.com/v1/tracks/0aJMggmjMva3QFnAbmM2U9',\n  'analysis_url': 'https://api.spotify.com/v1/audio-analysis/0aJMggmjMva3QFnAbmM2U9',\n  'duration_ms': 241644,\n  'time_signature': 4},\n {'danceability': 0.826,\n  'energy': 0.583,\n  'key': 2,\n  'loudness': -5.186,\n  'mode': 0,\n  'speechiness': 0.0626,\n  'acousticness': 0.441,\n  'instrumentalness': 0,\n  'liveness': 0.155,\n  'valence': 0.539,\n  'tempo': 140.039,\n  'type': 'audio_features',\n  'id': '6g6FfeozIEkVUXecpSq16Q',\n  'uri': 'spotify:track:6g6FfeozIEkVUXecpSq16Q',\n  'track_href': 'https://api.spotify.com/v1/tracks/6g6FfeozIEkVUXecpSq16Q',\n  'analysis_url': 'https://api.spotify.com/v1/audio-analysis/6g6FfeozIEkVUXecpSq16Q',\n  'duration_ms': 205759,\n  'time_signature': 4},\n {'danceability': 0.824,\n  'energy': 0.577,\n  'key': 2,\n  'loudness': -9.443,\n  'mode': 1,\n  'speechiness': 0.357,\n  'acousticness': 0.0109,\n  'instrumentalness': 0,\n  'liveness': 0.107,\n  'valence': 0.442,\n  'tempo': 154.081,\n  'type': 'audio_features',\n  'id': '0VlpgNPHWCyh8xxLcaK2fp',\n  'uri': 'spotify:track:0VlpgNPHWCyh8xxLcaK2fp',\n  'track_href': 'https://api.spotify.com/v1/tracks/0VlpgNPHWCyh8xxLcaK2fp',\n  'analysis_url': 'https://api.spotify.com/v1/audio-analysis/0VlpgNPHWCyh8xxLcaK2fp',\n  'duration_ms': 159927,\n  'time_signature': 4},\n {'danceability': 0.677,\n  'energy': 0.558,\n  'key': 8,\n  'loudness': -7.681,\n  'mode': 1,\n  'speechiness': 0.177,\n  'acousticness': 0.167,\n  'instrumentalness': 0,\n  'liveness': 0.365,\n  'valence': 0.384,\n  'tempo': 144.485,\n  'type': 'audio_features',\n  'id': '02WDt2eCNOU2mt0DF5w678',\n  'uri': 'spotify:track:02WDt2eCNOU2mt0DF5w678',\n  'track_href': 'https://api.spotify.com/v1/tracks/02WDt2eCNOU2mt0DF5w678',\n  'analysis_url': 'https://api.spotify.com/v1/audio-analysis/02WDt2eCNOU2mt0DF5w678',\n  'duration_ms': 200426,\n  'time_signature': 4},\n {'danceability': 0.688,\n  'energy': 0.842,\n  'key': 2,\n  'loudness': -4.211,\n  'mode': 1,\n  'speechiness': 0.264,\n  'acousticness': 0.0499,\n  'instrumentalness': 0,\n  'liveness': 0.241,\n  'valence': 0.416,\n  'tempo': 159.897,\n  'type': 'audio_features',\n  'id': '0P2P1AxcRYhiZvoF5MyRmM',\n  'uri': 'spotify:track:0P2P1AxcRYhiZvoF5MyRmM',\n  'track_href': 'https://api.spotify.com/v1/tracks/0P2P1AxcRYhiZvoF5MyRmM',\n  'analysis_url': 'https://api.spotify.com/v1/audio-analysis/0P2P1AxcRYhiZvoF5MyRmM',\n  'duration_ms': 185856,\n  'time_signature': 4},\n {'danceability': 0.744,\n  'energy': 0.608,\n  'key': 2,\n  'loudness': -6.386,\n  'mode': 1,\n  'speechiness': 0.0442,\n  'acousticness': 0.0295,\n  'instrumentalness': 0,\n  'liveness': 0.397,\n  'valence': 0.0692,\n  'tempo': 130.045,\n  'type': 'audio_features',\n  'id': '6OrTKLtcF7EBayOV2QqkSK',\n  'uri': 'spotify:track:6OrTKLtcF7EBayOV2QqkSK',\n  'track_href': 'https://api.spotify.com/v1/tracks/6OrTKLtcF7EBayOV2QqkSK',\n  'analysis_url': 'https://api.spotify.com/v1/audio-analysis/6OrTKLtcF7EBayOV2QqkSK',\n  'duration_ms': 221538,\n  'time_signature': 4},\n {'danceability': 0.711,\n  'energy': 0.64,\n  'key': 6,\n  'loudness': -6.605,\n  'mode': 0,\n  'speechiness': 0.173,\n  'acousticness': 0.133,\n  'instrumentalness': 0,\n  'liveness': 0.125,\n  'valence': 0.579,\n  'tempo': 138.114,\n  'type': 'audio_features',\n  'id': '4CJbchKHZEboLnqQqPszoN',\n  'uri': 'spotify:track:4CJbchKHZEboLnqQqPszoN',\n  'track_href': 'https://api.spotify.com/v1/tracks/4CJbchKHZEboLnqQqPszoN',\n  'analysis_url': 'https://api.spotify.com/v1/audio-analysis/4CJbchKHZEboLnqQqPszoN',\n  'duration_ms': 180870,\n  'time_signature': 4},\n {'danceability': 0.719,\n  'energy': 0.611,\n  'key': 5,\n  'loudness': -7.325,\n  'mode': 0,\n  'speechiness': 0.207,\n  'acousticness': 0.00222,\n  'instrumentalness': 1.3e-06,\n  'liveness': 0.336,\n  'valence': 0.503,\n  'tempo': 144.929,\n  'type': 'audio_features',\n  'id': '4XAQVDjEXZriZR9pe2tdQQ',\n  'uri': 'spotify:track:4XAQVDjEXZriZR9pe2tdQQ',\n  'track_href': 'https://api.spotify.com/v1/tracks/4XAQVDjEXZriZR9pe2tdQQ',\n  'analysis_url': 'https://api.spotify.com/v1/audio-analysis/4XAQVDjEXZriZR9pe2tdQQ',\n  'duration_ms': 226362,\n  'time_signature': 4},\n {'danceability': 0.625,\n  'energy': 0.542,\n  'key': 9,\n  'loudness': -4.365,\n  'mode': 1,\n  'speechiness': 0.266,\n  'acousticness': 0.0223,\n  'instrumentalness': 0,\n  'liveness': 0.377,\n  'valence': 0.328,\n  'tempo': 152.403,\n  'type': 'audio_features',\n  'id': '5QNW6Vx14N4OfJ7D0eDg0d',\n  'uri': 'spotify:track:5QNW6Vx14N4OfJ7D0eDg0d',\n  'track_href': 'https://api.spotify.com/v1/tracks/5QNW6Vx14N4OfJ7D0eDg0d',\n  'analysis_url': 'https://api.spotify.com/v1/audio-analysis/5QNW6Vx14N4OfJ7D0eDg0d',\n  'duration_ms': 209315,\n  'time_signature': 4},\n {'danceability': 0.801,\n  'energy': 0.794,\n  'key': 6,\n  'loudness': -4.674,\n  'mode': 0,\n  'speechiness': 0.315,\n  'acousticness': 0.0771,\n  'instrumentalness': 0,\n  'liveness': 0.204,\n  'valence': 0.757,\n  'tempo': 119.044,\n  'type': 'audio_features',\n  'id': '3KNxJvz0dM6aPb6bVJdyKi',\n  'uri': 'spotify:track:3KNxJvz0dM6aPb6bVJdyKi',\n  'track_href': 'https://api.spotify.com/v1/tracks/3KNxJvz0dM6aPb6bVJdyKi',\n  'analysis_url': 'https://api.spotify.com/v1/audio-analysis/3KNxJvz0dM6aPb6bVJdyKi',\n  'duration_ms': 217815,\n  'time_signature': 4},\n {'danceability': 0.676,\n  'energy': 0.61,\n  'key': 1,\n  'loudness': -9.185,\n  'mode': 1,\n  'speechiness': 0.273,\n  'acousticness': 0.000114,\n  'instrumentalness': 1.73e-06,\n  'liveness': 0.191,\n  'valence': 0.519,\n  'tempo': 156.005,\n  'type': 'audio_features',\n  'id': '54VFhe501kUbDYj2OrueMp',\n  'uri': 'spotify:track:54VFhe501kUbDYj2OrueMp',\n  'track_href': 'https://api.spotify.com/v1/tracks/54VFhe501kUbDYj2OrueMp',\n  'analysis_url': 'https://api.spotify.com/v1/audio-analysis/54VFhe501kUbDYj2OrueMp',\n  'duration_ms': 186538,\n  'time_signature': 4},\n {'danceability': 0.834,\n  'energy': 0.574,\n  'key': 10,\n  'loudness': -6.207,\n  'mode': 0,\n  'speechiness': 0.0716,\n  'acousticness': 0.11,\n  'instrumentalness': 0,\n  'liveness': 0.131,\n  'valence': 0.544,\n  'tempo': 96.999,\n  'type': 'audio_features',\n  'id': '34617Qo6OTu44BEEg2f9uG',\n  'uri': 'spotify:track:34617Qo6OTu44BEEg2f9uG',\n  'track_href': 'https://api.spotify.com/v1/tracks/34617Qo6OTu44BEEg2f9uG',\n  'analysis_url': 'https://api.spotify.com/v1/audio-analysis/34617Qo6OTu44BEEg2f9uG',\n  'duration_ms': 160257,\n  'time_signature': 4},\n {'danceability': 0.895,\n  'energy': 0.468,\n  'key': 0,\n  'loudness': -5.777,\n  'mode': 0,\n  'speechiness': 0.378,\n  'acousticness': 0.342,\n  'instrumentalness': 0,\n  'liveness': 0.213,\n  'valence': 0.428,\n  'tempo': 118.019,\n  'type': 'audio_features',\n  'id': '08hYZJIjLZwUVDiMzzeu0q',\n  'uri': 'spotify:track:08hYZJIjLZwUVDiMzzeu0q',\n  'track_href': 'https://api.spotify.com/v1/tracks/08hYZJIjLZwUVDiMzzeu0q',\n  'analysis_url': 'https://api.spotify.com/v1/audio-analysis/08hYZJIjLZwUVDiMzzeu0q',\n  'duration_ms': 174915,\n  'time_signature': 4},\n {'danceability': 0.862,\n  'energy': 0.547,\n  'key': 8,\n  'loudness': -9.557,\n  'mode': 1,\n  'speechiness': 0.333,\n  'acousticness': 0.144,\n  'instrumentalness': 0,\n  'liveness': 0.0691,\n  'valence': 0.645,\n  'tempo': 145.191,\n  'type': 'audio_features',\n  'id': '70jjParnrP2X3mOVkoljGE',\n  'uri': 'spotify:track:70jjParnrP2X3mOVkoljGE',\n  'track_href': 'https://api.spotify.com/v1/tracks/70jjParnrP2X3mOVkoljGE',\n  'analysis_url': 'https://api.spotify.com/v1/audio-analysis/70jjParnrP2X3mOVkoljGE',\n  'duration_ms': 226759,\n  'time_signature': 4},\n {'danceability': 0.787,\n  'energy': 0.522,\n  'key': 8,\n  'loudness': -5.872,\n  'mode': 1,\n  'speechiness': 0.463,\n  'acousticness': 0.0668,\n  'instrumentalness': 0,\n  'liveness': 0.108,\n  'valence': 0.666,\n  'tempo': 170.439,\n  'type': 'audio_features',\n  'id': '2PljnVsnl2PRwCvfhbdQup',\n  'uri': 'spotify:track:2PljnVsnl2PRwCvfhbdQup',\n  'track_href': 'https://api.spotify.com/v1/tracks/2PljnVsnl2PRwCvfhbdQup',\n  'analysis_url': 'https://api.spotify.com/v1/audio-analysis/2PljnVsnl2PRwCvfhbdQup',\n  'duration_ms': 163765,\n  'time_signature': 4},\n {'danceability': 0.644,\n  'energy': 0.671,\n  'key': 11,\n  'loudness': -5.156,\n  'mode': 0,\n  'speechiness': 0.315,\n  'acousticness': 0.0225,\n  'instrumentalness': 0,\n  'liveness': 0.0855,\n  'valence': 0.563,\n  'tempo': 132.001,\n  'type': 'audio_features',\n  'id': '5vhrsx08dHh2QcVh1Rsiwt',\n  'uri': 'spotify:track:5vhrsx08dHh2QcVh1Rsiwt',\n  'track_href': 'https://api.spotify.com/v1/tracks/5vhrsx08dHh2QcVh1Rsiwt',\n  'analysis_url': 'https://api.spotify.com/v1/audio-analysis/5vhrsx08dHh2QcVh1Rsiwt',\n  'duration_ms': 250723,\n  'time_signature': 4},\n {'danceability': 0.911,\n  'energy': 0.667,\n  'key': 1,\n  'loudness': -6.606,\n  'mode': 1,\n  'speechiness': 0.277,\n  'acousticness': 0.0313,\n  'instrumentalness': 0,\n  'liveness': 0.0854,\n  'valence': 0.78,\n  'tempo': 147.976,\n  'type': 'audio_features',\n  'id': '2BxboWjnfktO1E9HGfPXq1',\n  'uri': 'spotify:track:2BxboWjnfktO1E9HGfPXq1',\n  'track_href': 'https://api.spotify.com/v1/tracks/2BxboWjnfktO1E9HGfPXq1',\n  'analysis_url': 'https://api.spotify.com/v1/audio-analysis/2BxboWjnfktO1E9HGfPXq1',\n  'duration_ms': 170270,\n  'time_signature': 4},\n {'danceability': 0.916,\n  'energy': 0.824,\n  'key': 8,\n  'loudness': -4.444,\n  'mode': 0,\n  'speechiness': 0.422,\n  'acousticness': 0.222,\n  'instrumentalness': 0.00108,\n  'liveness': 0.0661,\n  'valence': 0.87,\n  'tempo': 139.926,\n  'type': 'audio_features',\n  'id': '7LczcBaamU9pTkV4Cl9NyX',\n  'uri': 'spotify:track:7LczcBaamU9pTkV4Cl9NyX',\n  'track_href': 'https://api.spotify.com/v1/tracks/7LczcBaamU9pTkV4Cl9NyX',\n  'analysis_url': 'https://api.spotify.com/v1/audio-analysis/7LczcBaamU9pTkV4Cl9NyX',\n  'duration_ms': 178413,\n  'time_signature': 4},\n {'danceability': 0.747,\n  'energy': 0.665,\n  'key': 5,\n  'loudness': -7.197,\n  'mode': 0,\n  'speechiness': 0.167,\n  'acousticness': 0.0783,\n  'instrumentalness': 1.58e-06,\n  'liveness': 0.786,\n  'valence': 0.76,\n  'tempo': 144.013,\n  'type': 'audio_features',\n  'id': '3z8OCUCuwJop3DB4tIMsRX',\n  'uri': 'spotify:track:3z8OCUCuwJop3DB4tIMsRX',\n  'track_href': 'https://api.spotify.com/v1/tracks/3z8OCUCuwJop3DB4tIMsRX',\n  'analysis_url': 'https://api.spotify.com/v1/audio-analysis/3z8OCUCuwJop3DB4tIMsRX',\n  'duration_ms': 154881,\n  'time_signature': 4},\n {'danceability': 0.941,\n  'energy': 0.514,\n  'key': 1,\n  'loudness': -6.778,\n  'mode': 1,\n  'speechiness': 0.329,\n  'acousticness': 0.153,\n  'instrumentalness': 1.82e-06,\n  'liveness': 0.104,\n  'valence': 0.573,\n  'tempo': 126.046,\n  'type': 'audio_features',\n  'id': '41jxlPqpPqiky977DkJrpY',\n  'uri': 'spotify:track:41jxlPqpPqiky977DkJrpY',\n  'track_href': 'https://api.spotify.com/v1/tracks/41jxlPqpPqiky977DkJrpY',\n  'analysis_url': 'https://api.spotify.com/v1/audio-analysis/41jxlPqpPqiky977DkJrpY',\n  'duration_ms': 185213,\n  'time_signature': 4},\n {'danceability': 0.87,\n  'energy': 0.835,\n  'key': 1,\n  'loudness': -5.875,\n  'mode': 1,\n  'speechiness': 0.311,\n  'acousticness': 0.0353,\n  'instrumentalness': 0,\n  'liveness': 0.142,\n  'valence': 0.901,\n  'tempo': 140.051,\n  'type': 'audio_features',\n  'id': '0RkCnqwF8Tfl2QGPZwopyk',\n  'uri': 'spotify:track:0RkCnqwF8Tfl2QGPZwopyk',\n  'track_href': 'https://api.spotify.com/v1/tracks/0RkCnqwF8Tfl2QGPZwopyk',\n  'analysis_url': 'https://api.spotify.com/v1/audio-analysis/0RkCnqwF8Tfl2QGPZwopyk',\n  'duration_ms': 118249,\n  'time_signature': 4},\n {'danceability': 0.883,\n  'energy': 0.507,\n  'key': 1,\n  'loudness': -7.188,\n  'mode': 0,\n  'speechiness': 0.244,\n  'acousticness': 0.366,\n  'instrumentalness': 0,\n  'liveness': 0.136,\n  'valence': 0.294,\n  'tempo': 138.008,\n  'type': 'audio_features',\n  'id': '4wJKTG3bAleqUXmylh83Id',\n  'uri': 'spotify:track:4wJKTG3bAleqUXmylh83Id',\n  'track_href': 'https://api.spotify.com/v1/tracks/4wJKTG3bAleqUXmylh83Id',\n  'analysis_url': 'https://api.spotify.com/v1/audio-analysis/4wJKTG3bAleqUXmylh83Id',\n  'duration_ms': 157777,\n  'time_signature': 4},\n {'danceability': 0.707,\n  'energy': 0.909,\n  'key': 2,\n  'loudness': -3.501,\n  'mode': 1,\n  'speechiness': 0.261,\n  'acousticness': 0.413,\n  'instrumentalness': 0,\n  'liveness': 0.305,\n  'valence': 0.703,\n  'tempo': 145.014,\n  'type': 'audio_features',\n  'id': '3zQ61IRdlSbEyYQlwQZZxS',\n  'uri': 'spotify:track:3zQ61IRdlSbEyYQlwQZZxS',\n  'track_href': 'https://api.spotify.com/v1/tracks/3zQ61IRdlSbEyYQlwQZZxS',\n  'analysis_url': 'https://api.spotify.com/v1/audio-analysis/3zQ61IRdlSbEyYQlwQZZxS',\n  'duration_ms': 255189,\n  'time_signature': 4},\n {'danceability': 0.693,\n  'energy': 0.575,\n  'key': 2,\n  'loudness': -7.633,\n  'mode': 1,\n  'speechiness': 0.0906,\n  'acousticness': 0.121,\n  'instrumentalness': 0,\n  'liveness': 0.104,\n  'valence': 0.353,\n  'tempo': 138.016,\n  'type': 'audio_features',\n  'id': '7BbaIYAdi3pg4MGl6PHwPv',\n  'uri': 'spotify:track:7BbaIYAdi3pg4MGl6PHwPv',\n  'track_href': 'https://api.spotify.com/v1/tracks/7BbaIYAdi3pg4MGl6PHwPv',\n  'analysis_url': 'https://api.spotify.com/v1/audio-analysis/7BbaIYAdi3pg4MGl6PHwPv',\n  'duration_ms': 160052,\n  'time_signature': 4},\n {'danceability': 0.593,\n  'energy': 0.818,\n  'key': 11,\n  'loudness': -5.332,\n  'mode': 1,\n  'speechiness': 0.306,\n  'acousticness': 0.00207,\n  'instrumentalness': 7.57e-06,\n  'liveness': 0.291,\n  'valence': 0.385,\n  'tempo': 162.036,\n  'type': 'audio_features',\n  'id': '6ZjP85QdIaiTojLrKixvbT',\n  'uri': 'spotify:track:6ZjP85QdIaiTojLrKixvbT',\n  'track_href': 'https://api.spotify.com/v1/tracks/6ZjP85QdIaiTojLrKixvbT',\n  'analysis_url': 'https://api.spotify.com/v1/audio-analysis/6ZjP85QdIaiTojLrKixvbT',\n  'duration_ms': 141934,\n  'time_signature': 4},\n {'danceability': 0.671,\n  'energy': 0.857,\n  'key': 7,\n  'loudness': -5.435,\n  'mode': 1,\n  'speechiness': 0.292,\n  'acousticness': 0.266,\n  'instrumentalness': 0,\n  'liveness': 0.668,\n  'valence': 0.597,\n  'tempo': 118.574,\n  'type': 'audio_features',\n  'id': '1BzXvBpIFWJgu0P8P6xmP4',\n  'uri': 'spotify:track:1BzXvBpIFWJgu0P8P6xmP4',\n  'track_href': 'https://api.spotify.com/v1/tracks/1BzXvBpIFWJgu0P8P6xmP4',\n  'analysis_url': 'https://api.spotify.com/v1/audio-analysis/1BzXvBpIFWJgu0P8P6xmP4',\n  'duration_ms': 309323,\n  'time_signature': 4},\n {'danceability': 0.732,\n  'energy': 0.734,\n  'key': 11,\n  'loudness': -7.968,\n  'mode': 1,\n  'speechiness': 0.0974,\n  'acousticness': 0.136,\n  'instrumentalness': 0.000901,\n  'liveness': 0.165,\n  'valence': 0.488,\n  'tempo': 145.722,\n  'type': 'audio_features',\n  'id': '6f44p3Kc4ayD9VtbC9Clkr',\n  'uri': 'spotify:track:6f44p3Kc4ayD9VtbC9Clkr',\n  'track_href': 'https://api.spotify.com/v1/tracks/6f44p3Kc4ayD9VtbC9Clkr',\n  'analysis_url': 'https://api.spotify.com/v1/audio-analysis/6f44p3Kc4ayD9VtbC9Clkr',\n  'duration_ms': 199500,\n  'time_signature': 4},\n {'danceability': 0.654,\n  'energy': 0.929,\n  'key': 1,\n  'loudness': -5.906,\n  'mode': 1,\n  'speechiness': 0.0998,\n  'acousticness': 0.0468,\n  'instrumentalness': 0,\n  'liveness': 0.0539,\n  'valence': 0.902,\n  'tempo': 144.774,\n  'type': 'audio_features',\n  'id': '6KTv0Z8BmVqM7DPxbGzpVC',\n  'uri': 'spotify:track:6KTv0Z8BmVqM7DPxbGzpVC',\n  'track_href': 'https://api.spotify.com/v1/tracks/6KTv0Z8BmVqM7DPxbGzpVC',\n  'analysis_url': 'https://api.spotify.com/v1/audio-analysis/6KTv0Z8BmVqM7DPxbGzpVC',\n  'duration_ms': 168840,\n  'time_signature': 4},\n {'danceability': 0.315,\n  'energy': 0.715,\n  'key': 11,\n  'loudness': -8.072,\n  'mode': 0,\n  'speechiness': 0.0362,\n  'acousticness': 0.00125,\n  'instrumentalness': 7.97e-06,\n  'liveness': 0.0942,\n  'valence': 0.497,\n  'tempo': 155.925,\n  'type': 'audio_features',\n  'id': '6Qyc6fS4DsZjB2mRW9DsQs',\n  'uri': 'spotify:track:6Qyc6fS4DsZjB2mRW9DsQs',\n  'track_href': 'https://api.spotify.com/v1/tracks/6Qyc6fS4DsZjB2mRW9DsQs',\n  'analysis_url': 'https://api.spotify.com/v1/audio-analysis/6Qyc6fS4DsZjB2mRW9DsQs',\n  'duration_ms': 289533,\n  'time_signature': 3},\n {'danceability': 0.625,\n  'energy': 0.939,\n  'key': 4,\n  'loudness': -3.115,\n  'mode': 0,\n  'speechiness': 0.0669,\n  'acousticness': 0.00138,\n  'instrumentalness': 0,\n  'liveness': 0.424,\n  'valence': 0.644,\n  'tempo': 102.999,\n  'type': 'audio_features',\n  'id': '776AftMmFFAWUIEAb3lHhw',\n  'uri': 'spotify:track:776AftMmFFAWUIEAb3lHhw',\n  'track_href': 'https://api.spotify.com/v1/tracks/776AftMmFFAWUIEAb3lHhw',\n  'analysis_url': 'https://api.spotify.com/v1/audio-analysis/776AftMmFFAWUIEAb3lHhw',\n  'duration_ms': 194787,\n  'time_signature': 4},\n {'danceability': 0.574,\n  'energy': 0.913,\n  'key': 6,\n  'loudness': -4.793,\n  'mode': 0,\n  'speechiness': 0.133,\n  'acousticness': 0.061,\n  'instrumentalness': 0.00158,\n  'liveness': 0.156,\n  'valence': 0.423,\n  'tempo': 115.728,\n  'type': 'audio_features',\n  'id': '2zYzyRzz6pRmhPzyfMEC8s',\n  'uri': 'spotify:track:2zYzyRzz6pRmhPzyfMEC8s',\n  'track_href': 'https://api.spotify.com/v1/tracks/2zYzyRzz6pRmhPzyfMEC8s',\n  'analysis_url': 'https://api.spotify.com/v1/audio-analysis/2zYzyRzz6pRmhPzyfMEC8s',\n  'duration_ms': 208400,\n  'time_signature': 4},\n {'danceability': 0.489,\n  'energy': 0.918,\n  'key': 1,\n  'loudness': -4.502,\n  'mode': 1,\n  'speechiness': 0.0554,\n  'acousticness': 3.53e-05,\n  'instrumentalness': 7.64e-05,\n  'liveness': 0.0908,\n  'valence': 0.691,\n  'tempo': 116.731,\n  'type': 'audio_features',\n  'id': '0gucTLf7trAf37Ua1uAyAu',\n  'uri': 'spotify:track:0gucTLf7trAf37Ua1uAyAu',\n  'track_href': 'https://api.spotify.com/v1/tracks/0gucTLf7trAf37Ua1uAyAu',\n  'analysis_url': 'https://api.spotify.com/v1/audio-analysis/0gucTLf7trAf37Ua1uAyAu',\n  'duration_ms': 300893,\n  'time_signature': 4},\n {'danceability': 0.743,\n  'energy': 0.446,\n  'key': 4,\n  'loudness': -7.807,\n  'mode': 0,\n  'speechiness': 0.0683,\n  'acousticness': 0.0039,\n  'instrumentalness': 0.118,\n  'liveness': 0.337,\n  'valence': 0.278,\n  'tempo': 123.596,\n  'type': 'audio_features',\n  'id': '3dPQuX8Gs42Y7b454ybpMR',\n  'uri': 'spotify:track:3dPQuX8Gs42Y7b454ybpMR',\n  'track_href': 'https://api.spotify.com/v1/tracks/3dPQuX8Gs42Y7b454ybpMR',\n  'analysis_url': 'https://api.spotify.com/v1/audio-analysis/3dPQuX8Gs42Y7b454ybpMR',\n  'duration_ms': 232107,\n  'time_signature': 4},\n {'danceability': 0.255,\n  'energy': 0.393,\n  'key': 5,\n  'loudness': -10.654,\n  'mode': 1,\n  'speechiness': 0.0278,\n  'acousticness': 0.0577,\n  'instrumentalness': 0.00361,\n  'liveness': 0.113,\n  'valence': 0.118,\n  'tempo': 76.426,\n  'type': 'audio_features',\n  'id': '10nyNJ6zNy2YVYLrcwLccB',\n  'uri': 'spotify:track:10nyNJ6zNy2YVYLrcwLccB',\n  'track_href': 'https://api.spotify.com/v1/tracks/10nyNJ6zNy2YVYLrcwLccB',\n  'analysis_url': 'https://api.spotify.com/v1/audio-analysis/10nyNJ6zNy2YVYLrcwLccB',\n  'duration_ms': 229120,\n  'time_signature': 4},\n {'danceability': 0.331,\n  'energy': 0.55,\n  'key': 0,\n  'loudness': -6.483,\n  'mode': 1,\n  'speechiness': 0.0272,\n  'acousticness': 0.605,\n  'instrumentalness': 3.96e-06,\n  'liveness': 0.192,\n  'valence': 0.429,\n  'tempo': 177.734,\n  'type': 'audio_features',\n  'id': '70C4NyhjD5OZUMzvWZ3njJ',\n  'uri': 'spotify:track:70C4NyhjD5OZUMzvWZ3njJ',\n  'track_href': 'https://api.spotify.com/v1/tracks/70C4NyhjD5OZUMzvWZ3njJ',\n  'analysis_url': 'https://api.spotify.com/v1/audio-analysis/70C4NyhjD5OZUMzvWZ3njJ',\n  'duration_ms': 339000,\n  'time_signature': 3},\n {'danceability': 0.82,\n  'energy': 0.452,\n  'key': 1,\n  'loudness': -9.796,\n  'mode': 1,\n  'speechiness': 0.0348,\n  'acousticness': 0.543,\n  'instrumentalness': 0.00294,\n  'liveness': 0.0714,\n  'valence': 0.74,\n  'tempo': 117.401,\n  'type': 'audio_features',\n  'id': '1JSTJqkT5qHq8MDJnJbRE1',\n  'uri': 'spotify:track:1JSTJqkT5qHq8MDJnJbRE1',\n  'track_href': 'https://api.spotify.com/v1/tracks/1JSTJqkT5qHq8MDJnJbRE1',\n  'analysis_url': 'https://api.spotify.com/v1/audio-analysis/1JSTJqkT5qHq8MDJnJbRE1',\n  'duration_ms': 253920,\n  'time_signature': 4},\n {'danceability': 0.743,\n  'energy': 0.836,\n  'key': 2,\n  'loudness': -6.465,\n  'mode': 1,\n  'speechiness': 0.116,\n  'acousticness': 0.0804,\n  'instrumentalness': 0,\n  'liveness': 0.384,\n  'valence': 0.82,\n  'tempo': 113.375,\n  'type': 'audio_features',\n  'id': '39shmbIHICJ2Wxnk1fPSdz',\n  'uri': 'spotify:track:39shmbIHICJ2Wxnk1fPSdz',\n  'track_href': 'https://api.spotify.com/v1/tracks/39shmbIHICJ2Wxnk1fPSdz',\n  'analysis_url': 'https://api.spotify.com/v1/audio-analysis/39shmbIHICJ2Wxnk1fPSdz',\n  'duration_ms': 188987,\n  'time_signature': 4},\n {'danceability': 0.338,\n  'energy': 0.34,\n  'key': 9,\n  'loudness': -12.049,\n  'mode': 0,\n  'speechiness': 0.0339,\n  'acousticness': 0.58,\n  'instrumentalness': 0.0032,\n  'liveness': 0.116,\n  'valence': 0.197,\n  'tempo': 82.433,\n  'type': 'audio_features',\n  'id': '5CQ30WqJwcep0pYcV4AMNc',\n  'uri': 'spotify:track:5CQ30WqJwcep0pYcV4AMNc',\n  'track_href': 'https://api.spotify.com/v1/tracks/5CQ30WqJwcep0pYcV4AMNc',\n  'analysis_url': 'https://api.spotify.com/v1/audio-analysis/5CQ30WqJwcep0pYcV4AMNc',\n  'duration_ms': 482830,\n  'time_signature': 4},\n {'danceability': 0.256,\n  'energy': 0.641,\n  'key': 1,\n  'loudness': -10.283,\n  'mode': 1,\n  'speechiness': 0.0552,\n  'acousticness': 0.199,\n  'instrumentalness': 0.0329,\n  'liveness': 0.0853,\n  'valence': 0.382,\n  'tempo': 203.006,\n  'type': 'audio_features',\n  'id': '11LmqTE2naFULdEP94AUBa',\n  'uri': 'spotify:track:11LmqTE2naFULdEP94AUBa',\n  'track_href': 'https://api.spotify.com/v1/tracks/11LmqTE2naFULdEP94AUBa',\n  'analysis_url': 'https://api.spotify.com/v1/audio-analysis/11LmqTE2naFULdEP94AUBa',\n  'duration_ms': 281160,\n  'time_signature': 4},\n {'danceability': 0.532,\n  'energy': 0.887,\n  'key': 0,\n  'loudness': -3.757,\n  'mode': 1,\n  'speechiness': 0.0335,\n  'acousticness': 0.0778,\n  'instrumentalness': 0.000214,\n  'liveness': 0.294,\n  'valence': 0.795,\n  'tempo': 122.511,\n  'type': 'audio_features',\n  'id': '37ZJ0p5Jm13JPevGcx4SkF',\n  'uri': 'spotify:track:37ZJ0p5Jm13JPevGcx4SkF',\n  'track_href': 'https://api.spotify.com/v1/tracks/37ZJ0p5Jm13JPevGcx4SkF',\n  'analysis_url': 'https://api.spotify.com/v1/audio-analysis/37ZJ0p5Jm13JPevGcx4SkF',\n  'duration_ms': 249293,\n  'time_signature': 4},\n {'danceability': 0.532,\n  'energy': 0.767,\n  'key': 7,\n  'loudness': -5.509,\n  'mode': 1,\n  'speechiness': 0.0574,\n  'acousticness': 0.00287,\n  'instrumentalness': 0.000513,\n  'liveness': 0.39,\n  'valence': 0.755,\n  'tempo': 127.361,\n  'type': 'audio_features',\n  'id': '2SiXAy7TuUkycRVbbWDEpo',\n  'uri': 'spotify:track:2SiXAy7TuUkycRVbbWDEpo',\n  'track_href': 'https://api.spotify.com/v1/tracks/2SiXAy7TuUkycRVbbWDEpo',\n  'analysis_url': 'https://api.spotify.com/v1/audio-analysis/2SiXAy7TuUkycRVbbWDEpo',\n  'duration_ms': 210173,\n  'time_signature': 4},\n {'danceability': 0.5,\n  'energy': 0.748,\n  'key': 4,\n  'loudness': -9.072,\n  'mode': 1,\n  'speechiness': 0.0363,\n  'acousticness': 0.127,\n  'instrumentalness': 0,\n  'liveness': 0.447,\n  'valence': 0.514,\n  'tempo': 118.852,\n  'type': 'audio_features',\n  'id': '4bHsxqR3GMrXTxEPLuK5ue',\n  'uri': 'spotify:track:4bHsxqR3GMrXTxEPLuK5ue',\n  'track_href': 'https://api.spotify.com/v1/tracks/4bHsxqR3GMrXTxEPLuK5ue',\n  'analysis_url': 'https://api.spotify.com/v1/audio-analysis/4bHsxqR3GMrXTxEPLuK5ue',\n  'duration_ms': 250987,\n  'time_signature': 4},\n {'danceability': 0.414,\n  'energy': 0.404,\n  'key': 0,\n  'loudness': -9.928,\n  'mode': 0,\n  'speechiness': 0.0499,\n  'acousticness': 0.271,\n  'instrumentalness': 0,\n  'liveness': 0.3,\n  'valence': 0.224,\n  'tempo': 71.105,\n  'type': 'audio_features',\n  'id': '4u7EnebtmKWzUH433cf5Qv',\n  'uri': 'spotify:track:4u7EnebtmKWzUH433cf5Qv',\n  'track_href': 'https://api.spotify.com/v1/tracks/4u7EnebtmKWzUH433cf5Qv',\n  'analysis_url': 'https://api.spotify.com/v1/audio-analysis/4u7EnebtmKWzUH433cf5Qv',\n  'duration_ms': 354320,\n  'time_signature': 4},\n {'danceability': 0.533,\n  'energy': 0.376,\n  'key': 9,\n  'loudness': -11.913,\n  'mode': 0,\n  'speechiness': 0.0393,\n  'acousticness': 0.0302,\n  'instrumentalness': 0.248,\n  'liveness': 0.0926,\n  'valence': 0.187,\n  'tempo': 165.007,\n  'type': 'audio_features',\n  'id': '2EqlS6tkEnglzr7tkKAAYD',\n  'uri': 'spotify:track:2EqlS6tkEnglzr7tkKAAYD',\n  'track_href': 'https://api.spotify.com/v1/tracks/2EqlS6tkEnglzr7tkKAAYD',\n  'analysis_url': 'https://api.spotify.com/v1/audio-analysis/2EqlS6tkEnglzr7tkKAAYD',\n  'duration_ms': 259947,\n  'time_signature': 4},\n {'danceability': 0.273,\n  'energy': 0.952,\n  'key': 11,\n  'loudness': -8.762,\n  'mode': 1,\n  'speechiness': 0.0843,\n  'acousticness': 0.0169,\n  'instrumentalness': 0.0111,\n  'liveness': 0.142,\n  'valence': 0.472,\n  'tempo': 100.271,\n  'type': 'audio_features',\n  'id': '3YBZIN3rekqsKxbJc9FZko',\n  'uri': 'spotify:track:3YBZIN3rekqsKxbJc9FZko',\n  'track_href': 'https://api.spotify.com/v1/tracks/3YBZIN3rekqsKxbJc9FZko',\n  'analysis_url': 'https://api.spotify.com/v1/audio-analysis/3YBZIN3rekqsKxbJc9FZko',\n  'duration_ms': 405640,\n  'time_signature': 4},\n {'danceability': 0.572,\n  'energy': 0.835,\n  'key': 0,\n  'loudness': -6.219,\n  'mode': 1,\n  'speechiness': 0.0317,\n  'acousticness': 0.171,\n  'instrumentalness': 0.000377,\n  'liveness': 0.0702,\n  'valence': 0.795,\n  'tempo': 129.981,\n  'type': 'audio_features',\n  'id': '7N3PAbqfTjSEU1edb2tY8j',\n  'uri': 'spotify:track:7N3PAbqfTjSEU1edb2tY8j',\n  'track_href': 'https://api.spotify.com/v1/tracks/7N3PAbqfTjSEU1edb2tY8j',\n  'analysis_url': 'https://api.spotify.com/v1/audio-analysis/7N3PAbqfTjSEU1edb2tY8j',\n  'duration_ms': 241600,\n  'time_signature': 4},\n {'danceability': 0.768,\n  'energy': 0.852,\n  'key': 4,\n  'loudness': -6.215,\n  'mode': 1,\n  'speechiness': 0.038,\n  'acousticness': 0.214,\n  'instrumentalness': 7.36e-05,\n  'liveness': 0.0723,\n  'valence': 0.867,\n  'tempo': 128.373,\n  'type': 'audio_features',\n  'id': '07q0QVgO56EorrSGHC48y3',\n  'uri': 'spotify:track:07q0QVgO56EorrSGHC48y3',\n  'track_href': 'https://api.spotify.com/v1/tracks/07q0QVgO56EorrSGHC48y3',\n  'analysis_url': 'https://api.spotify.com/v1/audio-analysis/07q0QVgO56EorrSGHC48y3',\n  'duration_ms': 271240,\n  'time_signature': 4},\n {'danceability': 0.541,\n  'energy': 0.907,\n  'key': 4,\n  'loudness': -4.512,\n  'mode': 1,\n  'speechiness': 0.0642,\n  'acousticness': 0.0158,\n  'instrumentalness': 0.000185,\n  'liveness': 0.34,\n  'valence': 0.434,\n  'tempo': 80.029,\n  'type': 'audio_features',\n  'id': '3IyCL4Em1GOpNGDf451Hg1',\n  'uri': 'spotify:track:3IyCL4Em1GOpNGDf451Hg1',\n  'track_href': 'https://api.spotify.com/v1/tracks/3IyCL4Em1GOpNGDf451Hg1',\n  'analysis_url': 'https://api.spotify.com/v1/audio-analysis/3IyCL4Em1GOpNGDf451Hg1',\n  'duration_ms': 187653,\n  'time_signature': 4},\n {'danceability': 0.454,\n  'energy': 0.913,\n  'key': 9,\n  'loudness': -4.008,\n  'mode': 1,\n  'speechiness': 0.107,\n  'acousticness': 0.408,\n  'instrumentalness': 0.000271,\n  'liveness': 0.248,\n  'valence': 0.521,\n  'tempo': 137.688,\n  'type': 'audio_features',\n  'id': '7ACxUo21jtTHzy7ZEV56vU',\n  'uri': 'spotify:track:7ACxUo21jtTHzy7ZEV56vU',\n  'track_href': 'https://api.spotify.com/v1/tracks/7ACxUo21jtTHzy7ZEV56vU',\n  'analysis_url': 'https://api.spotify.com/v1/audio-analysis/7ACxUo21jtTHzy7ZEV56vU',\n  'duration_ms': 293183,\n  'time_signature': 4},\n {'danceability': 0.496,\n  'energy': 0.863,\n  'key': 9,\n  'loudness': -4.153,\n  'mode': 1,\n  'speechiness': 0.0381,\n  'acousticness': 0.0046,\n  'instrumentalness': 0,\n  'liveness': 0.639,\n  'valence': 0.243,\n  'tempo': 110.018,\n  'type': 'audio_features',\n  'id': '2nLtzopw4rPReszdYBJU6h',\n  'uri': 'spotify:track:2nLtzopw4rPReszdYBJU6h',\n  'track_href': 'https://api.spotify.com/v1/tracks/2nLtzopw4rPReszdYBJU6h',\n  'analysis_url': 'https://api.spotify.com/v1/audio-analysis/2nLtzopw4rPReszdYBJU6h',\n  'duration_ms': 185587,\n  'time_signature': 4},\n {'danceability': 0.462,\n  'energy': 0.836,\n  'key': 11,\n  'loudness': -5.766,\n  'mode': 0,\n  'speechiness': 0.0621,\n  'acousticness': 0.00517,\n  'instrumentalness': 0,\n  'liveness': 0.18,\n  'valence': 0.671,\n  'tempo': 168.766,\n  'type': 'audio_features',\n  'id': '1QFh8OH1e78dGd3VyJZCAC',\n  'uri': 'spotify:track:1QFh8OH1e78dGd3VyJZCAC',\n  'track_href': 'https://api.spotify.com/v1/tracks/1QFh8OH1e78dGd3VyJZCAC',\n  'analysis_url': 'https://api.spotify.com/v1/audio-analysis/1QFh8OH1e78dGd3VyJZCAC',\n  'duration_ms': 155973,\n  'time_signature': 4},\n {'danceability': 0.393,\n  'energy': 0.433,\n  'key': 5,\n  'loudness': -10.045,\n  'mode': 0,\n  'speechiness': 0.0255,\n  'acousticness': 0.39,\n  'instrumentalness': 8.41e-05,\n  'liveness': 0.234,\n  'valence': 0.238,\n  'tempo': 79.588,\n  'type': 'audio_features',\n  'id': '3tAQNhm1o0kzldsI5QkrB1',\n  'uri': 'spotify:track:3tAQNhm1o0kzldsI5QkrB1',\n  'track_href': 'https://api.spotify.com/v1/tracks/3tAQNhm1o0kzldsI5QkrB1',\n  'analysis_url': 'https://api.spotify.com/v1/audio-analysis/3tAQNhm1o0kzldsI5QkrB1',\n  'duration_ms': 267307,\n  'time_signature': 4},\n {'danceability': 0.519,\n  'energy': 0.441,\n  'key': 4,\n  'loudness': -14.178,\n  'mode': 1,\n  'speechiness': 0.0353,\n  'acousticness': 0.0204,\n  'instrumentalness': 0.000453,\n  'liveness': 0.076,\n  'valence': 0.25,\n  'tempo': 81.334,\n  'type': 'audio_features',\n  'id': '7wCmS9TTVUcIhRalDYFgPy',\n  'uri': 'spotify:track:7wCmS9TTVUcIhRalDYFgPy',\n  'track_href': 'https://api.spotify.com/v1/tracks/7wCmS9TTVUcIhRalDYFgPy',\n  'analysis_url': 'https://api.spotify.com/v1/audio-analysis/7wCmS9TTVUcIhRalDYFgPy',\n  'duration_ms': 234973,\n  'time_signature': 4},\n {'danceability': 0.542,\n  'energy': 0.905,\n  'key': 9,\n  'loudness': -5.653,\n  'mode': 1,\n  'speechiness': 0.054,\n  'acousticness': 0.00172,\n  'instrumentalness': 0.0104,\n  'liveness': 0.136,\n  'valence': 0.374,\n  'tempo': 153.398,\n  'type': 'audio_features',\n  'id': '0ntQJM78wzOLVeCUAW7Y45',\n  'uri': 'spotify:track:0ntQJM78wzOLVeCUAW7Y45',\n  'track_href': 'https://api.spotify.com/v1/tracks/0ntQJM78wzOLVeCUAW7Y45',\n  'analysis_url': 'https://api.spotify.com/v1/audio-analysis/0ntQJM78wzOLVeCUAW7Y45',\n  'duration_ms': 203347,\n  'time_signature': 4},\n {'danceability': 0.387,\n  'energy': 0.929,\n  'key': 7,\n  'loudness': -4.825,\n  'mode': 0,\n  'speechiness': 0.161,\n  'acousticness': 0.00238,\n  'instrumentalness': 7.22e-06,\n  'liveness': 0.314,\n  'valence': 0.591,\n  'tempo': 180.359,\n  'type': 'audio_features',\n  'id': '40i81AcCCxiVEFUWElcjZC',\n  'uri': 'spotify:track:40i81AcCCxiVEFUWElcjZC',\n  'track_href': 'https://api.spotify.com/v1/tracks/40i81AcCCxiVEFUWElcjZC',\n  'analysis_url': 'https://api.spotify.com/v1/audio-analysis/40i81AcCCxiVEFUWElcjZC',\n  'duration_ms': 198080,\n  'time_signature': 4},\n {'danceability': 0.733,\n  'energy': 0.794,\n  'key': 5,\n  'loudness': -10.023,\n  'mode': 1,\n  'speechiness': 0.0307,\n  'acousticness': 0.0614,\n  'instrumentalness': 0.0367,\n  'liveness': 0.33,\n  'valence': 0.931,\n  'tempo': 148.174,\n  'type': 'audio_features',\n  'id': '37Tmv4NnfQeb0ZgUC4fOJj',\n  'uri': 'spotify:track:37Tmv4NnfQeb0ZgUC4fOJj',\n  'track_href': 'https://api.spotify.com/v1/tracks/37Tmv4NnfQeb0ZgUC4fOJj',\n  'analysis_url': 'https://api.spotify.com/v1/audio-analysis/37Tmv4NnfQeb0ZgUC4fOJj',\n  'duration_ms': 348624,\n  'time_signature': 4},\n {'danceability': 0.541,\n  'energy': 0.96,\n  'key': 0,\n  'loudness': -2.947,\n  'mode': 0,\n  'speechiness': 0.0505,\n  'acousticness': 0.0663,\n  'instrumentalness': 2.25e-06,\n  'liveness': 0.344,\n  'valence': 0.812,\n  'tempo': 122.803,\n  'type': 'audio_features',\n  'id': '0rmGAIH9LNJewFw7nKzZnc',\n  'uri': 'spotify:track:0rmGAIH9LNJewFw7nKzZnc',\n  'track_href': 'https://api.spotify.com/v1/tracks/0rmGAIH9LNJewFw7nKzZnc',\n  'analysis_url': 'https://api.spotify.com/v1/audio-analysis/0rmGAIH9LNJewFw7nKzZnc',\n  'duration_ms': 222707,\n  'time_signature': 4},\n {'danceability': 0.679,\n  'energy': 0.866,\n  'key': 0,\n  'loudness': -6.053,\n  'mode': 1,\n  'speechiness': 0.0635,\n  'acousticness': 0.00376,\n  'instrumentalness': 3.1e-05,\n  'liveness': 0.312,\n  'valence': 0.785,\n  'tempo': 124.324,\n  'type': 'audio_features',\n  'id': '1brpdmqkx3kSxyqzqXfW7J',\n  'uri': 'spotify:track:1brpdmqkx3kSxyqzqXfW7J',\n  'track_href': 'https://api.spotify.com/v1/tracks/1brpdmqkx3kSxyqzqXfW7J',\n  'analysis_url': 'https://api.spotify.com/v1/audio-analysis/1brpdmqkx3kSxyqzqXfW7J',\n  'duration_ms': 201400,\n  'time_signature': 4},\n {'danceability': 0.447,\n  'energy': 0.954,\n  'key': 8,\n  'loudness': -8.069,\n  'mode': 1,\n  'speechiness': 0.0751,\n  'acousticness': 0.0235,\n  'instrumentalness': 0.403,\n  'liveness': 0.298,\n  'valence': 0.331,\n  'tempo': 123.453,\n  'type': 'audio_features',\n  'id': '0bVtevEgtDIeRjCJbK3Lmv',\n  'uri': 'spotify:track:0bVtevEgtDIeRjCJbK3Lmv',\n  'track_href': 'https://api.spotify.com/v1/tracks/0bVtevEgtDIeRjCJbK3Lmv',\n  'analysis_url': 'https://api.spotify.com/v1/audio-analysis/0bVtevEgtDIeRjCJbK3Lmv',\n  'duration_ms': 272027,\n  'time_signature': 4},\n {'danceability': 0.473,\n  'energy': 0.898,\n  'key': 6,\n  'loudness': -4.797,\n  'mode': 0,\n  'speechiness': 0.0561,\n  'acousticness': 0.00783,\n  'instrumentalness': 0.0618,\n  'liveness': 0.173,\n  'valence': 0.808,\n  'tempo': 96.556,\n  'type': 'audio_features',\n  'id': '4aVuWgvD0X63hcOCnZtNFA',\n  'uri': 'spotify:track:4aVuWgvD0X63hcOCnZtNFA',\n  'track_href': 'https://api.spotify.com/v1/tracks/4aVuWgvD0X63hcOCnZtNFA',\n  'analysis_url': 'https://api.spotify.com/v1/audio-analysis/4aVuWgvD0X63hcOCnZtNFA',\n  'duration_ms': 235547,\n  'time_signature': 4},\n {'danceability': 0.795,\n  'energy': 0.435,\n  'key': 4,\n  'loudness': -8.927,\n  'mode': 1,\n  'speechiness': 0.0324,\n  'acousticness': 0.0841,\n  'instrumentalness': 0.00026,\n  'liveness': 0.0763,\n  'valence': 0.596,\n  'tempo': 108.95,\n  'type': 'audio_features',\n  'id': '2AkmdLbVKS1steeZdy8H1l',\n  'uri': 'spotify:track:2AkmdLbVKS1steeZdy8H1l',\n  'track_href': 'https://api.spotify.com/v1/tracks/2AkmdLbVKS1steeZdy8H1l',\n  'analysis_url': 'https://api.spotify.com/v1/audio-analysis/2AkmdLbVKS1steeZdy8H1l',\n  'duration_ms': 258013,\n  'time_signature': 4},\n {'danceability': 0.668,\n  'energy': 0.921,\n  'key': 7,\n  'loudness': -3.727,\n  'mode': 1,\n  'speechiness': 0.0439,\n  'acousticness': 0.0492,\n  'instrumentalness': 0.00517,\n  'liveness': 0.0877,\n  'valence': 0.782,\n  'tempo': 120.0,\n  'type': 'audio_features',\n  'id': '3lPr8ghNDBLc2uZovNyLs9',\n  'uri': 'spotify:track:3lPr8ghNDBLc2uZovNyLs9',\n  'track_href': 'https://api.spotify.com/v1/tracks/3lPr8ghNDBLc2uZovNyLs9',\n  'analysis_url': 'https://api.spotify.com/v1/audio-analysis/3lPr8ghNDBLc2uZovNyLs9',\n  'duration_ms': 212440,\n  'time_signature': 4},\n {'danceability': 0.535,\n  'energy': 0.716,\n  'key': 4,\n  'loudness': -5.025,\n  'mode': 1,\n  'speechiness': 0.0431,\n  'acousticness': 0.326,\n  'instrumentalness': 0,\n  'liveness': 0.659,\n  'valence': 0.901,\n  'tempo': 94.379,\n  'type': 'audio_features',\n  'id': '2Cdvbe2G4hZsnhNMKyGrie',\n  'uri': 'spotify:track:2Cdvbe2G4hZsnhNMKyGrie',\n  'track_href': 'https://api.spotify.com/v1/tracks/2Cdvbe2G4hZsnhNMKyGrie',\n  'analysis_url': 'https://api.spotify.com/v1/audio-analysis/2Cdvbe2G4hZsnhNMKyGrie',\n  'duration_ms': 175173,\n  'time_signature': 4},\n {'danceability': 0.754,\n  'energy': 0.759,\n  'key': 9,\n  'loudness': -5.218,\n  'mode': 1,\n  'speechiness': 0.302,\n  'acousticness': 0.153,\n  'instrumentalness': 0.000108,\n  'liveness': 0.101,\n  'valence': 0.435,\n  'tempo': 126.366,\n  'type': 'audio_features',\n  'id': '7LRMbd3LEoV5wZJvXT1Lwb',\n  'uri': 'spotify:track:7LRMbd3LEoV5wZJvXT1Lwb',\n  'track_href': 'https://api.spotify.com/v1/tracks/7LRMbd3LEoV5wZJvXT1Lwb',\n  'analysis_url': 'https://api.spotify.com/v1/audio-analysis/7LRMbd3LEoV5wZJvXT1Lwb',\n  'duration_ms': 214667,\n  'time_signature': 4},\n {'danceability': 0.352,\n  'energy': 0.911,\n  'key': 1,\n  'loudness': -5.23,\n  'mode': 1,\n  'speechiness': 0.0747,\n  'acousticness': 0.00121,\n  'instrumentalness': 0,\n  'liveness': 0.0995,\n  'valence': 0.236,\n  'tempo': 148.033,\n  'type': 'audio_features',\n  'id': '003vvx7Niy0yvhvHt4a68B',\n  'uri': 'spotify:track:003vvx7Niy0yvhvHt4a68B',\n  'track_href': 'https://api.spotify.com/v1/tracks/003vvx7Niy0yvhvHt4a68B',\n  'analysis_url': 'https://api.spotify.com/v1/audio-analysis/003vvx7Niy0yvhvHt4a68B',\n  'duration_ms': 222973,\n  'time_signature': 4},\n {'danceability': 0.361,\n  'energy': 0.98,\n  'key': 7,\n  'loudness': -3.635,\n  'mode': 0,\n  'speechiness': 0.33,\n  'acousticness': 0.00141,\n  'instrumentalness': 0.00268,\n  'liveness': 0.294,\n  'valence': 0.238,\n  'tempo': 179.138,\n  'type': 'audio_features',\n  'id': '1RQwcsdHIW5p86cx8zuf1I',\n  'uri': 'spotify:track:1RQwcsdHIW5p86cx8zuf1I',\n  'track_href': 'https://api.spotify.com/v1/tracks/1RQwcsdHIW5p86cx8zuf1I',\n  'analysis_url': 'https://api.spotify.com/v1/audio-analysis/1RQwcsdHIW5p86cx8zuf1I',\n  'duration_ms': 282709,\n  'time_signature': 4},\n {'danceability': 0.693,\n  'energy': 0.394,\n  'key': 0,\n  'loudness': -15.882,\n  'mode': 1,\n  'speechiness': 0.0428,\n  'acousticness': 0.0782,\n  'instrumentalness': 0.000694,\n  'liveness': 0.247,\n  'valence': 0.721,\n  'tempo': 104.114,\n  'type': 'audio_features',\n  'id': '4gMgiXfqyzZLMhsksGmbQV',\n  'uri': 'spotify:track:4gMgiXfqyzZLMhsksGmbQV',\n  'track_href': 'https://api.spotify.com/v1/tracks/4gMgiXfqyzZLMhsksGmbQV',\n  'analysis_url': 'https://api.spotify.com/v1/audio-analysis/4gMgiXfqyzZLMhsksGmbQV',\n  'duration_ms': 238747,\n  'time_signature': 4},\n {'danceability': 0.438,\n  'energy': 0.805,\n  'key': 8,\n  'loudness': -6.237,\n  'mode': 1,\n  'speechiness': 0.0624,\n  'acousticness': 0.00255,\n  'instrumentalness': 5.69e-05,\n  'liveness': 0.0842,\n  'valence': 0.564,\n  'tempo': 113.253,\n  'type': 'audio_features',\n  'id': '2aoo2jlRnM3A0NyLQqMN2f',\n  'uri': 'spotify:track:2aoo2jlRnM3A0NyLQqMN2f',\n  'track_href': 'https://api.spotify.com/v1/tracks/2aoo2jlRnM3A0NyLQqMN2f',\n  'analysis_url': 'https://api.spotify.com/v1/audio-analysis/2aoo2jlRnM3A0NyLQqMN2f',\n  'duration_ms': 240800,\n  'time_signature': 4},\n {'danceability': 0.466,\n  'energy': 0.833,\n  'key': 7,\n  'loudness': -4.215,\n  'mode': 1,\n  'speechiness': 0.304,\n  'acousticness': 0.0266,\n  'instrumentalness': 0,\n  'liveness': 0.0327,\n  'valence': 0.661,\n  'tempo': 88.785,\n  'type': 'audio_features',\n  'id': '59WN2psjkt1tyaxjspN8fp',\n  'uri': 'spotify:track:59WN2psjkt1tyaxjspN8fp',\n  'track_href': 'https://api.spotify.com/v1/tracks/59WN2psjkt1tyaxjspN8fp',\n  'analysis_url': 'https://api.spotify.com/v1/audio-analysis/59WN2psjkt1tyaxjspN8fp',\n  'duration_ms': 313573,\n  'time_signature': 4},\n {'danceability': 0.529,\n  'energy': 0.843,\n  'key': 6,\n  'loudness': -6.908,\n  'mode': 0,\n  'speechiness': 0.0616,\n  'acousticness': 0.0628,\n  'instrumentalness': 0.000827,\n  'liveness': 0.0608,\n  'valence': 0.188,\n  'tempo': 117.662,\n  'type': 'audio_features',\n  'id': '3MrRksHupTVEQ7YbA0FsZK',\n  'uri': 'spotify:track:3MrRksHupTVEQ7YbA0FsZK',\n  'track_href': 'https://api.spotify.com/v1/tracks/3MrRksHupTVEQ7YbA0FsZK',\n  'analysis_url': 'https://api.spotify.com/v1/audio-analysis/3MrRksHupTVEQ7YbA0FsZK',\n  'duration_ms': 310333,\n  'time_signature': 4},\n {'danceability': 0.557,\n  'energy': 0.54,\n  'key': 9,\n  'loudness': -10.484,\n  'mode': 1,\n  'speechiness': 0.0347,\n  'acousticness': 0.0339,\n  'instrumentalness': 0.00248,\n  'liveness': 0.179,\n  'valence': 0.394,\n  'tempo': 129.171,\n  'type': 'audio_features',\n  'id': '6dGnYIeXmHdcikdzNNDMm2',\n  'uri': 'spotify:track:6dGnYIeXmHdcikdzNNDMm2',\n  'track_href': 'https://api.spotify.com/v1/tracks/6dGnYIeXmHdcikdzNNDMm2',\n  'analysis_url': 'https://api.spotify.com/v1/audio-analysis/6dGnYIeXmHdcikdzNNDMm2',\n  'duration_ms': 185733,\n  'time_signature': 4},\n {'danceability': 0.616,\n  'energy': 0.91,\n  'key': 0,\n  'loudness': -3.004,\n  'mode': 1,\n  'speechiness': 0.0386,\n  'acousticness': 0.0459,\n  'instrumentalness': 0,\n  'liveness': 0.343,\n  'valence': 0.693,\n  'tempo': 144.072,\n  'type': 'audio_features',\n  'id': '3RlsVPIIs5KFhLFhxZ4iDF',\n  'uri': 'spotify:track:3RlsVPIIs5KFhLFhxZ4iDF',\n  'track_href': 'https://api.spotify.com/v1/tracks/3RlsVPIIs5KFhLFhxZ4iDF',\n  'analysis_url': 'https://api.spotify.com/v1/audio-analysis/3RlsVPIIs5KFhLFhxZ4iDF',\n  'duration_ms': 252040,\n  'time_signature': 4},\n {'danceability': 0.509,\n  'energy': 0.874,\n  'key': 4,\n  'loudness': -4.7,\n  'mode': 0,\n  'speechiness': 0.0396,\n  'acousticness': 0.000229,\n  'instrumentalness': 0.00638,\n  'liveness': 0.0988,\n  'valence': 0.406,\n  'tempo': 120.082,\n  'type': 'audio_features',\n  'id': '5AEOqLsRJFAoSS4ay4Jzao',\n  'uri': 'spotify:track:5AEOqLsRJFAoSS4ay4Jzao',\n  'track_href': 'https://api.spotify.com/v1/tracks/5AEOqLsRJFAoSS4ay4Jzao',\n  'analysis_url': 'https://api.spotify.com/v1/audio-analysis/5AEOqLsRJFAoSS4ay4Jzao',\n  'duration_ms': 218920,\n  'time_signature': 4},\n {'danceability': 0.671,\n  'energy': 0.712,\n  'key': 2,\n  'loudness': -7.815,\n  'mode': 1,\n  'speechiness': 0.0476,\n  'acousticness': 0.429,\n  'instrumentalness': 0,\n  'liveness': 0.103,\n  'valence': 0.462,\n  'tempo': 113.805,\n  'type': 'audio_features',\n  'id': '2fuCquhmrzHpu5xcA1ci9x',\n  'uri': 'spotify:track:2fuCquhmrzHpu5xcA1ci9x',\n  'track_href': 'https://api.spotify.com/v1/tracks/2fuCquhmrzHpu5xcA1ci9x',\n  'analysis_url': 'https://api.spotify.com/v1/audio-analysis/2fuCquhmrzHpu5xcA1ci9x',\n  'duration_ms': 248440,\n  'time_signature': 4},\n {'danceability': 0.331,\n  'energy': 0.943,\n  'key': 4,\n  'loudness': -3.188,\n  'mode': 0,\n  'speechiness': 0.0698,\n  'acousticness': 0.00721,\n  'instrumentalness': 2.06e-06,\n  'liveness': 0.242,\n  'valence': 0.296,\n  'tempo': 94.612,\n  'type': 'audio_features',\n  'id': '0COqiPhxzoWICwFCS4eZcp',\n  'uri': 'spotify:track:0COqiPhxzoWICwFCS4eZcp',\n  'track_href': 'https://api.spotify.com/v1/tracks/0COqiPhxzoWICwFCS4eZcp',\n  'analysis_url': 'https://api.spotify.com/v1/audio-analysis/0COqiPhxzoWICwFCS4eZcp',\n  'duration_ms': 235893,\n  'time_signature': 4},\n {'danceability': 0.551,\n  'energy': 0.913,\n  'key': 0,\n  'loudness': -4.063,\n  'mode': 0,\n  'speechiness': 0.0466,\n  'acousticness': 0.0263,\n  'instrumentalness': 1.35e-05,\n  'liveness': 0.347,\n  'valence': 0.544,\n  'tempo': 119.992,\n  'type': 'audio_features',\n  'id': '0v1XpBHnsbkCn7iJ9Ucr1l',\n  'uri': 'spotify:track:0v1XpBHnsbkCn7iJ9Ucr1l',\n  'track_href': 'https://api.spotify.com/v1/tracks/0v1XpBHnsbkCn7iJ9Ucr1l',\n  'analysis_url': 'https://api.spotify.com/v1/audio-analysis/0v1XpBHnsbkCn7iJ9Ucr1l',\n  'duration_ms': 224493,\n  'time_signature': 4},\n {'danceability': 0.508,\n  'energy': 0.774,\n  'key': 2,\n  'loudness': -5.973,\n  'mode': 1,\n  'speechiness': 0.0321,\n  'acousticness': 0.0586,\n  'instrumentalness': 4.87e-06,\n  'liveness': 0.063,\n  'valence': 0.942,\n  'tempo': 178.946,\n  'type': 'audio_features',\n  'id': '20OFwXhEXf12DzwXmaV7fj',\n  'uri': 'spotify:track:20OFwXhEXf12DzwXmaV7fj',\n  'track_href': 'https://api.spotify.com/v1/tracks/20OFwXhEXf12DzwXmaV7fj',\n  'analysis_url': 'https://api.spotify.com/v1/audio-analysis/20OFwXhEXf12DzwXmaV7fj',\n  'duration_ms': 141600,\n  'time_signature': 4},\n {'danceability': 0.269,\n  'energy': 0.764,\n  'key': 7,\n  'loudness': -3.735,\n  'mode': 1,\n  'speechiness': 0.0534,\n  'acousticness': 0.132,\n  'instrumentalness': 0,\n  'liveness': 0.0723,\n  'valence': 0.15,\n  'tempo': 181.299,\n  'type': 'audio_features',\n  'id': '4f1KkbXHnfIVZ9vmIExByJ',\n  'uri': 'spotify:track:4f1KkbXHnfIVZ9vmIExByJ',\n  'track_href': 'https://api.spotify.com/v1/tracks/4f1KkbXHnfIVZ9vmIExByJ',\n  'analysis_url': 'https://api.spotify.com/v1/audio-analysis/4f1KkbXHnfIVZ9vmIExByJ',\n  'duration_ms': 252760,\n  'time_signature': 4},\n {'danceability': 0.671,\n  'energy': 0.818,\n  'key': 6,\n  'loudness': -4.89,\n  'mode': 1,\n  'speechiness': 0.03,\n  'acousticness': 0.00288,\n  'instrumentalness': 0.00132,\n  'liveness': 0.0368,\n  'valence': 0.85,\n  'tempo': 119.021,\n  'type': 'audio_features',\n  'id': '6oHXQQLzea4keyHSbFUxtS',\n  'uri': 'spotify:track:6oHXQQLzea4keyHSbFUxtS',\n  'track_href': 'https://api.spotify.com/v1/tracks/6oHXQQLzea4keyHSbFUxtS',\n  'analysis_url': 'https://api.spotify.com/v1/audio-analysis/6oHXQQLzea4keyHSbFUxtS',\n  'duration_ms': 156907,\n  'time_signature': 4},\n {'danceability': 0.622,\n  'energy': 0.565,\n  'key': 3,\n  'loudness': -6.92,\n  'mode': 1,\n  'speechiness': 0.122,\n  'acousticness': 0.536,\n  'instrumentalness': 0,\n  'liveness': 0.205,\n  'valence': 0.5,\n  'tempo': 131.037,\n  'type': 'audio_features',\n  'id': '5CXCo9MJFpjFLkEFKaMz19',\n  'uri': 'spotify:track:5CXCo9MJFpjFLkEFKaMz19',\n  'track_href': 'https://api.spotify.com/v1/tracks/5CXCo9MJFpjFLkEFKaMz19',\n  'analysis_url': 'https://api.spotify.com/v1/audio-analysis/5CXCo9MJFpjFLkEFKaMz19',\n  'duration_ms': 142830,\n  'time_signature': 3},\n {'danceability': 0.683,\n  'energy': 0.66,\n  'key': 10,\n  'loudness': -8.481,\n  'mode': 1,\n  'speechiness': 0.0279,\n  'acousticness': 0.664,\n  'instrumentalness': 0.000924,\n  'liveness': 0.359,\n  'valence': 0.529,\n  'tempo': 112.973,\n  'type': 'audio_features',\n  'id': '2CeXJdvqhKyewp74pU674J',\n  'uri': 'spotify:track:2CeXJdvqhKyewp74pU674J',\n  'track_href': 'https://api.spotify.com/v1/tracks/2CeXJdvqhKyewp74pU674J',\n  'analysis_url': 'https://api.spotify.com/v1/audio-analysis/2CeXJdvqhKyewp74pU674J',\n  'duration_ms': 167929,\n  'time_signature': 4},\n {'danceability': 0.54,\n  'energy': 0.11,\n  'key': 8,\n  'loudness': -19.885,\n  'mode': 1,\n  'speechiness': 0.0328,\n  'acousticness': 0.498,\n  'instrumentalness': 0.000614,\n  'liveness': 0.0781,\n  'valence': 0.172,\n  'tempo': 76.068,\n  'type': 'audio_features',\n  'id': '7LNm1oWd6PniO9wRYpNY5o',\n  'uri': 'spotify:track:7LNm1oWd6PniO9wRYpNY5o',\n  'track_href': 'https://api.spotify.com/v1/tracks/7LNm1oWd6PniO9wRYpNY5o',\n  'analysis_url': 'https://api.spotify.com/v1/audio-analysis/7LNm1oWd6PniO9wRYpNY5o',\n  'duration_ms': 290132,\n  'time_signature': 4},\n {'danceability': 0.781,\n  'energy': 0.726,\n  'key': 8,\n  'loudness': -5.794,\n  'mode': 1,\n  'speechiness': 0.0526,\n  'acousticness': 0.0149,\n  'instrumentalness': 1.88e-05,\n  'liveness': 0.205,\n  'valence': 0.605,\n  'tempo': 100.043,\n  'type': 'audio_features',\n  'id': '5F1TZVziCp4TuXIMCsIxwM',\n  'uri': 'spotify:track:5F1TZVziCp4TuXIMCsIxwM',\n  'track_href': 'https://api.spotify.com/v1/tracks/5F1TZVziCp4TuXIMCsIxwM',\n  'analysis_url': 'https://api.spotify.com/v1/audio-analysis/5F1TZVziCp4TuXIMCsIxwM',\n  'duration_ms': 216188,\n  'time_signature': 4},\n {'danceability': 0.52,\n  'energy': 0.614,\n  'key': 10,\n  'loudness': -7.587,\n  'mode': 1,\n  'speechiness': 0.0277,\n  'acousticness': 0.0413,\n  'instrumentalness': 0.00199,\n  'liveness': 0.146,\n  'valence': 0.436,\n  'tempo': 143.008,\n  'type': 'audio_features',\n  'id': '6hPY9GJkHWjeIyGWGV9dyN',\n  'uri': 'spotify:track:6hPY9GJkHWjeIyGWGV9dyN',\n  'track_href': 'https://api.spotify.com/v1/tracks/6hPY9GJkHWjeIyGWGV9dyN',\n  'analysis_url': 'https://api.spotify.com/v1/audio-analysis/6hPY9GJkHWjeIyGWGV9dyN',\n  'duration_ms': 164404,\n  'time_signature': 4},\n {'danceability': 0.53,\n  'energy': 0.593,\n  'key': 5,\n  'loudness': -7.286,\n  'mode': 1,\n  'speechiness': 0.0545,\n  'acousticness': 0.385,\n  'instrumentalness': 0,\n  'liveness': 0.314,\n  'valence': 0.538,\n  'tempo': 125.723,\n  'type': 'audio_features',\n  'id': '4JeOesjcWWlprTAvucDSJX',\n  'uri': 'spotify:track:4JeOesjcWWlprTAvucDSJX',\n  'track_href': 'https://api.spotify.com/v1/tracks/4JeOesjcWWlprTAvucDSJX',\n  'analysis_url': 'https://api.spotify.com/v1/audio-analysis/4JeOesjcWWlprTAvucDSJX',\n  'duration_ms': 158537,\n  'time_signature': 4},\n {'danceability': 0.788,\n  'energy': 0.545,\n  'key': 3,\n  'loudness': -7.647,\n  'mode': 1,\n  'speechiness': 0.0487,\n  'acousticness': 0.475,\n  'instrumentalness': 0.0138,\n  'liveness': 0.134,\n  'valence': 0.583,\n  'tempo': 119.948,\n  'type': 'audio_features',\n  'id': '08ZFO4ONTelCXs1Q5YRMcW',\n  'uri': 'spotify:track:08ZFO4ONTelCXs1Q5YRMcW',\n  'track_href': 'https://api.spotify.com/v1/tracks/08ZFO4ONTelCXs1Q5YRMcW',\n  'analysis_url': 'https://api.spotify.com/v1/audio-analysis/08ZFO4ONTelCXs1Q5YRMcW',\n  'duration_ms': 170000,\n  'time_signature': 4},\n {'danceability': 0.771,\n  'energy': 0.704,\n  'key': 1,\n  'loudness': -5.098,\n  'mode': 1,\n  'speechiness': 0.0315,\n  'acousticness': 0.0835,\n  'instrumentalness': 0,\n  'liveness': 0.0935,\n  'valence': 0.55,\n  'tempo': 118.01,\n  'type': 'audio_features',\n  'id': '74oXlQPr6x05HDrGVaiYXZ',\n  'uri': 'spotify:track:74oXlQPr6x05HDrGVaiYXZ',\n  'track_href': 'https://api.spotify.com/v1/tracks/74oXlQPr6x05HDrGVaiYXZ',\n  'analysis_url': 'https://api.spotify.com/v1/audio-analysis/74oXlQPr6x05HDrGVaiYXZ',\n  'duration_ms': 211058,\n  'time_signature': 4},\n {'danceability': 0.507,\n  'energy': 0.252,\n  'key': 10,\n  'loudness': -12.625,\n  'mode': 0,\n  'speechiness': 0.0616,\n  'acousticness': 0.869,\n  'instrumentalness': 0.000293,\n  'liveness': 0.0819,\n  'valence': 0.307,\n  'tempo': 137.314,\n  'type': 'audio_features',\n  'id': '3QEX5O23KVp1yg1tj6Hycp',\n  'uri': 'spotify:track:3QEX5O23KVp1yg1tj6Hycp',\n  'track_href': 'https://api.spotify.com/v1/tracks/3QEX5O23KVp1yg1tj6Hycp',\n  'analysis_url': 'https://api.spotify.com/v1/audio-analysis/3QEX5O23KVp1yg1tj6Hycp',\n  'duration_ms': 156798,\n  'time_signature': 3},\n {'danceability': 0.583,\n  'energy': 0.59,\n  'key': 11,\n  'loudness': -7.759,\n  'mode': 0,\n  'speechiness': 0.0352,\n  'acousticness': 0.458,\n  'instrumentalness': 1.86e-05,\n  'liveness': 0.355,\n  'valence': 0.303,\n  'tempo': 156.007,\n  'type': 'audio_features',\n  'id': '1hWIeur5Q8BJ9hUrDyTI8W',\n  'uri': 'spotify:track:1hWIeur5Q8BJ9hUrDyTI8W',\n  'track_href': 'https://api.spotify.com/v1/tracks/1hWIeur5Q8BJ9hUrDyTI8W',\n  'analysis_url': 'https://api.spotify.com/v1/audio-analysis/1hWIeur5Q8BJ9hUrDyTI8W',\n  'duration_ms': 179714,\n  'time_signature': 4},\n {'danceability': 0.631,\n  'energy': 0.67,\n  'key': 6,\n  'loudness': -6.175,\n  'mode': 1,\n  'speechiness': 0.052,\n  'acousticness': 0.0776,\n  'instrumentalness': 0.112,\n  'liveness': 0.086,\n  'valence': 0.746,\n  'tempo': 108.973,\n  'type': 'audio_features',\n  'id': '4M6XHrTc4RtdgKN9gzEAM6',\n  'uri': 'spotify:track:4M6XHrTc4RtdgKN9gzEAM6',\n  'track_href': 'https://api.spotify.com/v1/tracks/4M6XHrTc4RtdgKN9gzEAM6',\n  'analysis_url': 'https://api.spotify.com/v1/audio-analysis/4M6XHrTc4RtdgKN9gzEAM6',\n  'duration_ms': 206373,\n  'time_signature': 4},\n {'danceability': 0.612,\n  'energy': 0.727,\n  'key': 4,\n  'loudness': -5.141,\n  'mode': 1,\n  'speechiness': 0.0492,\n  'acousticness': 0.173,\n  'instrumentalness': 5.61e-05,\n  'liveness': 0.273,\n  'valence': 0.677,\n  'tempo': 119.907,\n  'type': 'audio_features',\n  'id': '0cH6s5bw1BS4hL06hmUO6F',\n  'uri': 'spotify:track:0cH6s5bw1BS4hL06hmUO6F',\n  'track_href': 'https://api.spotify.com/v1/tracks/0cH6s5bw1BS4hL06hmUO6F',\n  'analysis_url': 'https://api.spotify.com/v1/audio-analysis/0cH6s5bw1BS4hL06hmUO6F',\n  'duration_ms': 201946,\n  'time_signature': 4},\n {'danceability': 0.797,\n  'energy': 0.615,\n  'key': 2,\n  'loudness': -6.062,\n  'mode': 1,\n  'speechiness': 0.0322,\n  'acousticness': 0.128,\n  'instrumentalness': 0.000467,\n  'liveness': 0.237,\n  'valence': 0.508,\n  'tempo': 120.985,\n  'type': 'audio_features',\n  'id': '7Ck7GSPoBIDwNwcas05Sz1',\n  'uri': 'spotify:track:7Ck7GSPoBIDwNwcas05Sz1',\n  'track_href': 'https://api.spotify.com/v1/tracks/7Ck7GSPoBIDwNwcas05Sz1',\n  'analysis_url': 'https://api.spotify.com/v1/audio-analysis/7Ck7GSPoBIDwNwcas05Sz1',\n  'duration_ms': 161157,\n  'time_signature': 4},\n {'danceability': 0.915,\n  'energy': 0.552,\n  'key': 3,\n  'loudness': -5.071,\n  'mode': 1,\n  'speechiness': 0.0539,\n  'acousticness': 0.303,\n  'instrumentalness': 0.766,\n  'liveness': 0.119,\n  'valence': 0.56,\n  'tempo': 125.035,\n  'type': 'audio_features',\n  'id': '3M94jcrpYyJpMDkvoriPYC',\n  'uri': 'spotify:track:3M94jcrpYyJpMDkvoriPYC',\n  'track_href': 'https://api.spotify.com/v1/tracks/3M94jcrpYyJpMDkvoriPYC',\n  'analysis_url': 'https://api.spotify.com/v1/audio-analysis/3M94jcrpYyJpMDkvoriPYC',\n  'duration_ms': 155653,\n  'time_signature': 4},\n {'danceability': 0.708,\n  'energy': 0.477,\n  'key': 8,\n  'loudness': -7.297,\n  'mode': 1,\n  'speechiness': 0.0565,\n  'acousticness': 0.292,\n  'instrumentalness': 1.75e-06,\n  'liveness': 0.255,\n  'valence': 0.733,\n  'tempo': 149.929,\n  'type': 'audio_features',\n  'id': '0ioTTk5l0Zz7Oh48qEocgj',\n  'uri': 'spotify:track:0ioTTk5l0Zz7Oh48qEocgj',\n  'track_href': 'https://api.spotify.com/v1/tracks/0ioTTk5l0Zz7Oh48qEocgj',\n  'analysis_url': 'https://api.spotify.com/v1/audio-analysis/0ioTTk5l0Zz7Oh48qEocgj',\n  'duration_ms': 183000,\n  'time_signature': 4},\n {'danceability': 0.685,\n  'energy': 0.919,\n  'key': 6,\n  'loudness': -5.132,\n  'mode': 1,\n  'speechiness': 0.0632,\n  'acousticness': 0.00372,\n  'instrumentalness': 0.00194,\n  'liveness': 0.0746,\n  'valence': 0.899,\n  'tempo': 140.021,\n  'type': 'audio_features',\n  'id': '5omCnPHQc8bNztSrjlxdtu',\n  'uri': 'spotify:track:5omCnPHQc8bNztSrjlxdtu',\n  'track_href': 'https://api.spotify.com/v1/tracks/5omCnPHQc8bNztSrjlxdtu',\n  'analysis_url': 'https://api.spotify.com/v1/audio-analysis/5omCnPHQc8bNztSrjlxdtu',\n  'duration_ms': 196560,\n  'time_signature': 4},\n {'danceability': 0.509,\n  'energy': 0.498,\n  'key': 2,\n  'loudness': -6.94,\n  'mode': 1,\n  'speechiness': 0.0315,\n  'acousticness': 0.413,\n  'instrumentalness': 0,\n  'liveness': 0.0674,\n  'valence': 0.283,\n  'tempo': 99.729,\n  'type': 'audio_features',\n  'id': '2769RhOZs0ezRncRW1vryp',\n  'uri': 'spotify:track:2769RhOZs0ezRncRW1vryp',\n  'track_href': 'https://api.spotify.com/v1/tracks/2769RhOZs0ezRncRW1vryp',\n  'analysis_url': 'https://api.spotify.com/v1/audio-analysis/2769RhOZs0ezRncRW1vryp',\n  'duration_ms': 222861,\n  'time_signature': 4},\n {'danceability': 0.622,\n  'energy': 0.736,\n  'key': 8,\n  'loudness': -6.219,\n  'mode': 1,\n  'speechiness': 0.0444,\n  'acousticness': 0.0156,\n  'instrumentalness': 0,\n  'liveness': 0.112,\n  'valence': 0.432,\n  'tempo': 97.006,\n  'type': 'audio_features',\n  'id': '0BLY78hYpsH9NqP6X0N8CX',\n  'uri': 'spotify:track:0BLY78hYpsH9NqP6X0N8CX',\n  'track_href': 'https://api.spotify.com/v1/tracks/0BLY78hYpsH9NqP6X0N8CX',\n  'analysis_url': 'https://api.spotify.com/v1/audio-analysis/0BLY78hYpsH9NqP6X0N8CX',\n  'duration_ms': 206587,\n  'time_signature': 4},\n {'danceability': 0.64,\n  'energy': 0.292,\n  'key': 3,\n  'loudness': -11.706,\n  'mode': 1,\n  'speechiness': 0.0468,\n  'acousticness': 0.336,\n  'instrumentalness': 0.000628,\n  'liveness': 0.436,\n  'valence': 0.491,\n  'tempo': 155.074,\n  'type': 'audio_features',\n  'id': '65LMre3AmSBiaHhdw7l57l',\n  'uri': 'spotify:track:65LMre3AmSBiaHhdw7l57l',\n  'track_href': 'https://api.spotify.com/v1/tracks/65LMre3AmSBiaHhdw7l57l',\n  'analysis_url': 'https://api.spotify.com/v1/audio-analysis/65LMre3AmSBiaHhdw7l57l',\n  'duration_ms': 197032,\n  'time_signature': 4},\n {'danceability': 0.515,\n  'energy': 0.771,\n  'key': 2,\n  'loudness': -5.081,\n  'mode': 1,\n  'speechiness': 0.0394,\n  'acousticness': 0.0339,\n  'instrumentalness': 1.81e-05,\n  'liveness': 0.0945,\n  'valence': 0.552,\n  'tempo': 104.995,\n  'type': 'audio_features',\n  'id': '7yfLvK7r1w5bql3G0Uha5w',\n  'uri': 'spotify:track:7yfLvK7r1w5bql3G0Uha5w',\n  'track_href': 'https://api.spotify.com/v1/tracks/7yfLvK7r1w5bql3G0Uha5w',\n  'analysis_url': 'https://api.spotify.com/v1/audio-analysis/7yfLvK7r1w5bql3G0Uha5w',\n  'duration_ms': 253849,\n  'time_signature': 4},\n {'danceability': 0.875,\n  'energy': 0.649,\n  'key': 6,\n  'loudness': -5.754,\n  'mode': 1,\n  'speechiness': 0.0433,\n  'acousticness': 0.429,\n  'instrumentalness': 0.00237,\n  'liveness': 0.0704,\n  'valence': 0.833,\n  'tempo': 140.031,\n  'type': 'audio_features',\n  'id': '4ReJJcpW8HtVnqzhf6DwNV',\n  'uri': 'spotify:track:4ReJJcpW8HtVnqzhf6DwNV',\n  'track_href': 'https://api.spotify.com/v1/tracks/4ReJJcpW8HtVnqzhf6DwNV',\n  'analysis_url': 'https://api.spotify.com/v1/audio-analysis/4ReJJcpW8HtVnqzhf6DwNV',\n  'duration_ms': 194693,\n  'time_signature': 4},\n {'danceability': 0.756,\n  'energy': 0.673,\n  'key': 2,\n  'loudness': -6.336,\n  'mode': 1,\n  'speechiness': 0.0899,\n  'acousticness': 0.516,\n  'instrumentalness': 0,\n  'liveness': 0.109,\n  'valence': 0.402,\n  'tempo': 125.055,\n  'type': 'audio_features',\n  'id': '2D2lazsae9o1UoVPUAdxyT',\n  'uri': 'spotify:track:2D2lazsae9o1UoVPUAdxyT',\n  'track_href': 'https://api.spotify.com/v1/tracks/2D2lazsae9o1UoVPUAdxyT',\n  'analysis_url': 'https://api.spotify.com/v1/audio-analysis/2D2lazsae9o1UoVPUAdxyT',\n  'duration_ms': 185173,\n  'time_signature': 4},\n {'danceability': 0.652,\n  'energy': 0.764,\n  'key': 2,\n  'loudness': -6.082,\n  'mode': 1,\n  'speechiness': 0.0502,\n  'acousticness': 0.0862,\n  'instrumentalness': 0.0493,\n  'liveness': 0.103,\n  'valence': 0.734,\n  'tempo': 74.993,\n  'type': 'audio_features',\n  'id': '09MZIpr7ciaUZyxHKb37Mz',\n  'uri': 'spotify:track:09MZIpr7ciaUZyxHKb37Mz',\n  'track_href': 'https://api.spotify.com/v1/tracks/09MZIpr7ciaUZyxHKb37Mz',\n  'analysis_url': 'https://api.spotify.com/v1/audio-analysis/09MZIpr7ciaUZyxHKb37Mz',\n  'duration_ms': 189512,\n  'time_signature': 4},\n {'danceability': 0.512,\n  'energy': 0.483,\n  'key': 0,\n  'loudness': -7.798,\n  'mode': 1,\n  'speechiness': 0.0298,\n  'acousticness': 0.00304,\n  'instrumentalness': 0.0011,\n  'liveness': 0.12,\n  'valence': 0.367,\n  'tempo': 160.009,\n  'type': 'audio_features',\n  'id': '0VF7YLIxSQKyNiFL3X6MmN',\n  'uri': 'spotify:track:0VF7YLIxSQKyNiFL3X6MmN',\n  'track_href': 'https://api.spotify.com/v1/tracks/0VF7YLIxSQKyNiFL3X6MmN',\n  'analysis_url': 'https://api.spotify.com/v1/audio-analysis/0VF7YLIxSQKyNiFL3X6MmN',\n  'duration_ms': 217027,\n  'time_signature': 4},\n {'danceability': 0.713,\n  'energy': 0.804,\n  'key': 2,\n  'loudness': -4.971,\n  'mode': 1,\n  'speechiness': 0.15,\n  'acousticness': 0.258,\n  'instrumentalness': 0,\n  'liveness': 0.346,\n  'valence': 0.703,\n  'tempo': 103.881,\n  'type': 'audio_features',\n  'id': '0dN3cttUifpkm1Oja79zJr',\n  'uri': 'spotify:track:0dN3cttUifpkm1Oja79zJr',\n  'track_href': 'https://api.spotify.com/v1/tracks/0dN3cttUifpkm1Oja79zJr',\n  'analysis_url': 'https://api.spotify.com/v1/audio-analysis/0dN3cttUifpkm1Oja79zJr',\n  'duration_ms': 229659,\n  'time_signature': 4},\n {'danceability': 0.913,\n  'energy': 0.459,\n  'key': 5,\n  'loudness': -7.528,\n  'mode': 1,\n  'speechiness': 0.0446,\n  'acousticness': 0.469,\n  'instrumentalness': 0.000889,\n  'liveness': 0.0891,\n  'valence': 0.848,\n  'tempo': 114.996,\n  'type': 'audio_features',\n  'id': '2F9DCIJ7ZXHhNkiIlIIOkw',\n  'uri': 'spotify:track:2F9DCIJ7ZXHhNkiIlIIOkw',\n  'track_href': 'https://api.spotify.com/v1/tracks/2F9DCIJ7ZXHhNkiIlIIOkw',\n  'analysis_url': 'https://api.spotify.com/v1/audio-analysis/2F9DCIJ7ZXHhNkiIlIIOkw',\n  'duration_ms': 215385,\n  'time_signature': 4},\n {'danceability': 0.672,\n  'energy': 0.681,\n  'key': 1,\n  'loudness': -7.281,\n  'mode': 1,\n  'speechiness': 0.161,\n  'acousticness': 0.137,\n  'instrumentalness': 0,\n  'liveness': 0.0893,\n  'valence': 0.38,\n  'tempo': 115.048,\n  'type': 'audio_features',\n  'id': '07s5wOe2qlyWWsf5I5gRxd',\n  'uri': 'spotify:track:07s5wOe2qlyWWsf5I5gRxd',\n  'track_href': 'https://api.spotify.com/v1/tracks/07s5wOe2qlyWWsf5I5gRxd',\n  'analysis_url': 'https://api.spotify.com/v1/audio-analysis/07s5wOe2qlyWWsf5I5gRxd',\n  'duration_ms': 187800,\n  'time_signature': 4},\n {'danceability': 0.749,\n  'energy': 0.589,\n  'key': 1,\n  'loudness': -8.258,\n  'mode': 1,\n  'speechiness': 0.0454,\n  'acousticness': 0.456,\n  'instrumentalness': 0.000107,\n  'liveness': 0.0978,\n  'valence': 0.957,\n  'tempo': 152.945,\n  'type': 'audio_features',\n  'id': '0kJkiYAvGPwxcMgVznuS8T',\n  'uri': 'spotify:track:0kJkiYAvGPwxcMgVznuS8T',\n  'track_href': 'https://api.spotify.com/v1/tracks/0kJkiYAvGPwxcMgVznuS8T',\n  'analysis_url': 'https://api.spotify.com/v1/audio-analysis/0kJkiYAvGPwxcMgVznuS8T',\n  'duration_ms': 141029,\n  'time_signature': 4},\n {'danceability': 0.707,\n  'energy': 0.735,\n  'key': 1,\n  'loudness': -5.237,\n  'mode': 1,\n  'speechiness': 0.0362,\n  'acousticness': 0.00896,\n  'instrumentalness': 4.78e-05,\n  'liveness': 0.0433,\n  'valence': 0.762,\n  'tempo': 129.965,\n  'type': 'audio_features',\n  'id': '3Gplr4iOpewQ9ynbZujzlu',\n  'uri': 'spotify:track:3Gplr4iOpewQ9ynbZujzlu',\n  'track_href': 'https://api.spotify.com/v1/tracks/3Gplr4iOpewQ9ynbZujzlu',\n  'analysis_url': 'https://api.spotify.com/v1/audio-analysis/3Gplr4iOpewQ9ynbZujzlu',\n  'duration_ms': 158240,\n  'time_signature': 4},\n {'danceability': 0.472,\n  'energy': 0.683,\n  'key': 1,\n  'loudness': -6.007,\n  'mode': 1,\n  'speechiness': 0.0694,\n  'acousticness': 0.0243,\n  'instrumentalness': 0,\n  'liveness': 0.163,\n  'valence': 0.197,\n  'tempo': 85.045,\n  'type': 'audio_features',\n  'id': '6vs83ufnw4IVbotV0qv6C8',\n  'uri': 'spotify:track:6vs83ufnw4IVbotV0qv6C8',\n  'track_href': 'https://api.spotify.com/v1/tracks/6vs83ufnw4IVbotV0qv6C8',\n  'analysis_url': 'https://api.spotify.com/v1/audio-analysis/6vs83ufnw4IVbotV0qv6C8',\n  'duration_ms': 215621,\n  'time_signature': 4},\n {'danceability': 0.57,\n  'energy': 0.439,\n  'key': 8,\n  'loudness': -6.124,\n  'mode': 1,\n  'speechiness': 0.0978,\n  'acousticness': 0.712,\n  'instrumentalness': 0.000738,\n  'liveness': 0.137,\n  'valence': 0.234,\n  'tempo': 170.078,\n  'type': 'audio_features',\n  'id': '6F3ZGAp9M9Nub4cSCpY5tW',\n  'uri': 'spotify:track:6F3ZGAp9M9Nub4cSCpY5tW',\n  'track_href': 'https://api.spotify.com/v1/tracks/6F3ZGAp9M9Nub4cSCpY5tW',\n  'analysis_url': 'https://api.spotify.com/v1/audio-analysis/6F3ZGAp9M9Nub4cSCpY5tW',\n  'duration_ms': 154000,\n  'time_signature': 4},\n {'danceability': 0.619,\n  'energy': 0.653,\n  'key': 2,\n  'loudness': -7.642,\n  'mode': 1,\n  'speechiness': 0.0688,\n  'acousticness': 0.17,\n  'instrumentalness': 8.71e-06,\n  'liveness': 0.0862,\n  'valence': 0.469,\n  'tempo': 143.05,\n  'type': 'audio_features',\n  'id': '61HHWViQkXFwVRYAFWmqhk',\n  'uri': 'spotify:track:61HHWViQkXFwVRYAFWmqhk',\n  'track_href': 'https://api.spotify.com/v1/tracks/61HHWViQkXFwVRYAFWmqhk',\n  'analysis_url': 'https://api.spotify.com/v1/audio-analysis/61HHWViQkXFwVRYAFWmqhk',\n  'duration_ms': 196227,\n  'time_signature': 4},\n {'danceability': 0.771,\n  'energy': 0.611,\n  'key': 2,\n  'loudness': -7.279,\n  'mode': 1,\n  'speechiness': 0.0286,\n  'acousticness': 0.629,\n  'instrumentalness': 0.557,\n  'liveness': 0.142,\n  'valence': 0.861,\n  'tempo': 109.999,\n  'type': 'audio_features',\n  'id': '3pBVQynngYmTMnAsXnFXcF',\n  'uri': 'spotify:track:3pBVQynngYmTMnAsXnFXcF',\n  'track_href': 'https://api.spotify.com/v1/tracks/3pBVQynngYmTMnAsXnFXcF',\n  'analysis_url': 'https://api.spotify.com/v1/audio-analysis/3pBVQynngYmTMnAsXnFXcF',\n  'duration_ms': 198818,\n  'time_signature': 4},\n {'danceability': 0.471,\n  'energy': 0.335,\n  'key': 4,\n  'loudness': -8.767,\n  'mode': 0,\n  'speechiness': 0.0273,\n  'acousticness': 0.593,\n  'instrumentalness': 2.11e-05,\n  'liveness': 0.297,\n  'valence': 0.111,\n  'tempo': 145.252,\n  'type': 'audio_features',\n  'id': '0KmgJyW4GDgonqsoyx0CZ3',\n  'uri': 'spotify:track:0KmgJyW4GDgonqsoyx0CZ3',\n  'track_href': 'https://api.spotify.com/v1/tracks/0KmgJyW4GDgonqsoyx0CZ3',\n  'analysis_url': 'https://api.spotify.com/v1/audio-analysis/0KmgJyW4GDgonqsoyx0CZ3',\n  'duration_ms': 243907,\n  'time_signature': 3},\n {'danceability': 0.683,\n  'energy': 0.515,\n  'key': 4,\n  'loudness': -7.4,\n  'mode': 1,\n  'speechiness': 0.169,\n  'acousticness': 0.731,\n  'instrumentalness': 0.000273,\n  'liveness': 0.186,\n  'valence': 0.252,\n  'tempo': 131.809,\n  'type': 'audio_features',\n  'id': '29Imzv96MvmWE2iAxejskH',\n  'uri': 'spotify:track:29Imzv96MvmWE2iAxejskH',\n  'track_href': 'https://api.spotify.com/v1/tracks/29Imzv96MvmWE2iAxejskH',\n  'analysis_url': 'https://api.spotify.com/v1/audio-analysis/29Imzv96MvmWE2iAxejskH',\n  'duration_ms': 175603,\n  'time_signature': 4},\n {'danceability': 0.825,\n  'energy': 0.572,\n  'key': 11,\n  'loudness': -8.573,\n  'mode': 0,\n  'speechiness': 0.0918,\n  'acousticness': 0.0286,\n  'instrumentalness': 1.78e-05,\n  'liveness': 0.112,\n  'valence': 0.885,\n  'tempo': 110.012,\n  'type': 'audio_features',\n  'id': '5K09SsCBHoecbMq3fUN7BW',\n  'uri': 'spotify:track:5K09SsCBHoecbMq3fUN7BW',\n  'track_href': 'https://api.spotify.com/v1/tracks/5K09SsCBHoecbMq3fUN7BW',\n  'analysis_url': 'https://api.spotify.com/v1/audio-analysis/5K09SsCBHoecbMq3fUN7BW',\n  'duration_ms': 132625,\n  'time_signature': 4},\n {'danceability': 0.57,\n  'energy': 0.688,\n  'key': 0,\n  'loudness': -7.48,\n  'mode': 1,\n  'speechiness': 0.032,\n  'acousticness': 0.308,\n  'instrumentalness': 1.96e-05,\n  'liveness': 0.151,\n  'valence': 0.749,\n  'tempo': 111.993,\n  'type': 'audio_features',\n  'id': '3X91uoqAVtHmqv1bvZbNog',\n  'uri': 'spotify:track:3X91uoqAVtHmqv1bvZbNog',\n  'track_href': 'https://api.spotify.com/v1/tracks/3X91uoqAVtHmqv1bvZbNog',\n  'analysis_url': 'https://api.spotify.com/v1/audio-analysis/3X91uoqAVtHmqv1bvZbNog',\n  'duration_ms': 213716,\n  'time_signature': 4},\n {'danceability': 0.415,\n  'energy': 0.585,\n  'key': 9,\n  'loudness': -8.958,\n  'mode': 1,\n  'speechiness': 0.0761,\n  'acousticness': 0.0384,\n  'instrumentalness': 3.5e-05,\n  'liveness': 0.328,\n  'valence': 0.554,\n  'tempo': 160.292,\n  'type': 'audio_features',\n  'id': '5C0fWU1j3pa4vvAZuYyisq',\n  'uri': 'spotify:track:5C0fWU1j3pa4vvAZuYyisq',\n  'track_href': 'https://api.spotify.com/v1/tracks/5C0fWU1j3pa4vvAZuYyisq',\n  'analysis_url': 'https://api.spotify.com/v1/audio-analysis/5C0fWU1j3pa4vvAZuYyisq',\n  'duration_ms': 164349,\n  'time_signature': 3},\n {'danceability': 0.544,\n  'energy': 0.716,\n  'key': 9,\n  'loudness': -6.182,\n  'mode': 1,\n  'speechiness': 0.0458,\n  'acousticness': 0.214,\n  'instrumentalness': 1.62e-06,\n  'liveness': 0.114,\n  'valence': 0.784,\n  'tempo': 183.977,\n  'type': 'audio_features',\n  'id': '22uD6yBefgzRTLrohe4IZs',\n  'uri': 'spotify:track:22uD6yBefgzRTLrohe4IZs',\n  'track_href': 'https://api.spotify.com/v1/tracks/22uD6yBefgzRTLrohe4IZs',\n  'analysis_url': 'https://api.spotify.com/v1/audio-analysis/22uD6yBefgzRTLrohe4IZs',\n  'duration_ms': 210609,\n  'time_signature': 4},\n {'danceability': 0.682,\n  'energy': 0.609,\n  'key': 7,\n  'loudness': -6.372,\n  'mode': 0,\n  'speechiness': 0.139,\n  'acousticness': 0.000928,\n  'instrumentalness': 0.000201,\n  'liveness': 0.142,\n  'valence': 0.723,\n  'tempo': 111.991,\n  'type': 'audio_features',\n  'id': '4nLTOnpSCBwRlul92HLIyW',\n  'uri': 'spotify:track:4nLTOnpSCBwRlul92HLIyW',\n  'track_href': 'https://api.spotify.com/v1/tracks/4nLTOnpSCBwRlul92HLIyW',\n  'analysis_url': 'https://api.spotify.com/v1/audio-analysis/4nLTOnpSCBwRlul92HLIyW',\n  'duration_ms': 184315,\n  'time_signature': 4},\n {'danceability': 0.434,\n  'energy': 0.42,\n  'key': 0,\n  'loudness': -8.513,\n  'mode': 1,\n  'speechiness': 0.0485,\n  'acousticness': 0.616,\n  'instrumentalness': 0.000125,\n  'liveness': 0.0937,\n  'valence': 0.174,\n  'tempo': 204.561,\n  'type': 'audio_features',\n  'id': '2zxe1bIcH0mHSMwuc9Fh1k',\n  'uri': 'spotify:track:2zxe1bIcH0mHSMwuc9Fh1k',\n  'track_href': 'https://api.spotify.com/v1/tracks/2zxe1bIcH0mHSMwuc9Fh1k',\n  'analysis_url': 'https://api.spotify.com/v1/audio-analysis/2zxe1bIcH0mHSMwuc9Fh1k',\n  'duration_ms': 209013,\n  'time_signature': 3},\n {'danceability': 0.49,\n  'energy': 0.821,\n  'key': 7,\n  'loudness': -7.711,\n  'mode': 1,\n  'speechiness': 0.0848,\n  'acousticness': 0.348,\n  'instrumentalness': 0.000841,\n  'liveness': 0.198,\n  'valence': 0.642,\n  'tempo': 195.128,\n  'type': 'audio_features',\n  'id': '3wJAk2rKEEoYlXSLpLVrkU',\n  'uri': 'spotify:track:3wJAk2rKEEoYlXSLpLVrkU',\n  'track_href': 'https://api.spotify.com/v1/tracks/3wJAk2rKEEoYlXSLpLVrkU',\n  'analysis_url': 'https://api.spotify.com/v1/audio-analysis/3wJAk2rKEEoYlXSLpLVrkU',\n  'duration_ms': 232076,\n  'time_signature': 3},\n {'danceability': 0.765,\n  'energy': 0.582,\n  'key': 0,\n  'loudness': -4.528,\n  'mode': 1,\n  'speechiness': 0.12,\n  'acousticness': 0.245,\n  'instrumentalness': 8.21e-05,\n  'liveness': 0.154,\n  'valence': 0.36,\n  'tempo': 132.992,\n  'type': 'audio_features',\n  'id': '0PLhwCmQ7cC3ThRGPn3HxF',\n  'uri': 'spotify:track:0PLhwCmQ7cC3ThRGPn3HxF',\n  'track_href': 'https://api.spotify.com/v1/tracks/0PLhwCmQ7cC3ThRGPn3HxF',\n  'analysis_url': 'https://api.spotify.com/v1/audio-analysis/0PLhwCmQ7cC3ThRGPn3HxF',\n  'duration_ms': 171280,\n  'time_signature': 4},\n {'danceability': 0.883,\n  'energy': 0.431,\n  'key': 2,\n  'loudness': -10.128,\n  'mode': 1,\n  'speechiness': 0.0434,\n  'acousticness': 0.591,\n  'instrumentalness': 0.00039,\n  'liveness': 0.104,\n  'valence': 0.768,\n  'tempo': 127.949,\n  'type': 'audio_features',\n  'id': '1UpFb9izAOYlcxWTOQzGf6',\n  'uri': 'spotify:track:1UpFb9izAOYlcxWTOQzGf6',\n  'track_href': 'https://api.spotify.com/v1/tracks/1UpFb9izAOYlcxWTOQzGf6',\n  'analysis_url': 'https://api.spotify.com/v1/audio-analysis/1UpFb9izAOYlcxWTOQzGf6',\n  'duration_ms': 219720,\n  'time_signature': 4},\n {'danceability': 0.312,\n  'energy': 0.479,\n  'key': 0,\n  'loudness': -7.119,\n  'mode': 1,\n  'speechiness': 0.044,\n  'acousticness': 0.464,\n  'instrumentalness': 1.67e-05,\n  'liveness': 0.503,\n  'valence': 0.0823,\n  'tempo': 159.21,\n  'type': 'audio_features',\n  'id': '4AXS0kSzmuhAAYJtVKbZDq',\n  'uri': 'spotify:track:4AXS0kSzmuhAAYJtVKbZDq',\n  'track_href': 'https://api.spotify.com/v1/tracks/4AXS0kSzmuhAAYJtVKbZDq',\n  'analysis_url': 'https://api.spotify.com/v1/audio-analysis/4AXS0kSzmuhAAYJtVKbZDq',\n  'duration_ms': 166137,\n  'time_signature': 4},\n {'danceability': 0.619,\n  'energy': 0.736,\n  'key': 11,\n  'loudness': -7.651,\n  'mode': 1,\n  'speechiness': 0.0425,\n  'acousticness': 0.0328,\n  'instrumentalness': 0,\n  'liveness': 0.0864,\n  'valence': 0.299,\n  'tempo': 93.993,\n  'type': 'audio_features',\n  'id': '0ohcCrxZkBfFbkuRPOZQZX',\n  'uri': 'spotify:track:0ohcCrxZkBfFbkuRPOZQZX',\n  'track_href': 'https://api.spotify.com/v1/tracks/0ohcCrxZkBfFbkuRPOZQZX',\n  'analysis_url': 'https://api.spotify.com/v1/audio-analysis/0ohcCrxZkBfFbkuRPOZQZX',\n  'duration_ms': 208600,\n  'time_signature': 4},\n {'danceability': 0.7,\n  'energy': 0.625,\n  'key': 1,\n  'loudness': -6.845,\n  'mode': 1,\n  'speechiness': 0.0327,\n  'acousticness': 0.0213,\n  'instrumentalness': 0.000453,\n  'liveness': 0.124,\n  'valence': 0.641,\n  'tempo': 128.048,\n  'type': 'audio_features',\n  'id': '2AmVGGu8jIgS7Kn3j6rB0K',\n  'uri': 'spotify:track:2AmVGGu8jIgS7Kn3j6rB0K',\n  'track_href': 'https://api.spotify.com/v1/tracks/2AmVGGu8jIgS7Kn3j6rB0K',\n  'analysis_url': 'https://api.spotify.com/v1/audio-analysis/2AmVGGu8jIgS7Kn3j6rB0K',\n  'duration_ms': 188844,\n  'time_signature': 4},\n {'danceability': 0.86,\n  'energy': 0.422,\n  'key': 1,\n  'loudness': -9.785,\n  'mode': 1,\n  'speechiness': 0.0296,\n  'acousticness': 0.541,\n  'instrumentalness': 0.00449,\n  'liveness': 0.139,\n  'valence': 0.523,\n  'tempo': 99.958,\n  'type': 'audio_features',\n  'id': '5o9iQVktO08gIlRAHqqxtj',\n  'uri': 'spotify:track:5o9iQVktO08gIlRAHqqxtj',\n  'track_href': 'https://api.spotify.com/v1/tracks/5o9iQVktO08gIlRAHqqxtj',\n  'analysis_url': 'https://api.spotify.com/v1/audio-analysis/5o9iQVktO08gIlRAHqqxtj',\n  'duration_ms': 106800,\n  'time_signature': 4},\n {'danceability': 0.701,\n  'energy': 0.666,\n  'key': 2,\n  'loudness': -6.134,\n  'mode': 1,\n  'speechiness': 0.0328,\n  'acousticness': 0.112,\n  'instrumentalness': 0.000828,\n  'liveness': 0.19,\n  'valence': 0.734,\n  'tempo': 112.003,\n  'type': 'audio_features',\n  'id': '5O7TgofxqSQh31TiRcKXzo',\n  'uri': 'spotify:track:5O7TgofxqSQh31TiRcKXzo',\n  'track_href': 'https://api.spotify.com/v1/tracks/5O7TgofxqSQh31TiRcKXzo',\n  'analysis_url': 'https://api.spotify.com/v1/audio-analysis/5O7TgofxqSQh31TiRcKXzo',\n  'duration_ms': 190053,\n  'time_signature': 4},\n {'danceability': 0.743,\n  'energy': 0.443,\n  'key': 4,\n  'loudness': -6.968,\n  'mode': 1,\n  'speechiness': 0.0382,\n  'acousticness': 0.0225,\n  'instrumentalness': 6.76e-06,\n  'liveness': 0.099,\n  'valence': 0.37,\n  'tempo': 119.984,\n  'type': 'audio_features',\n  'id': '4LK36kV9w3KBD2GYL26ZBq',\n  'uri': 'spotify:track:4LK36kV9w3KBD2GYL26ZBq',\n  'track_href': 'https://api.spotify.com/v1/tracks/4LK36kV9w3KBD2GYL26ZBq',\n  'analysis_url': 'https://api.spotify.com/v1/audio-analysis/4LK36kV9w3KBD2GYL26ZBq',\n  'duration_ms': 179573,\n  'time_signature': 4},\n {'danceability': 0.58,\n  'energy': 0.788,\n  'key': 2,\n  'loudness': -4.714,\n  'mode': 1,\n  'speechiness': 0.259,\n  'acousticness': 0.0123,\n  'instrumentalness': 1.84e-05,\n  'liveness': 0.368,\n  'valence': 0.72,\n  'tempo': 148.992,\n  'type': 'audio_features',\n  'id': '1q2Zb0v5ZGxKDktEz7wSPb',\n  'uri': 'spotify:track:1q2Zb0v5ZGxKDktEz7wSPb',\n  'track_href': 'https://api.spotify.com/v1/tracks/1q2Zb0v5ZGxKDktEz7wSPb',\n  'analysis_url': 'https://api.spotify.com/v1/audio-analysis/1q2Zb0v5ZGxKDktEz7wSPb',\n  'duration_ms': 182426,\n  'time_signature': 4},\n {'danceability': 0.622,\n  'energy': 0.392,\n  'key': 9,\n  'loudness': -12.572,\n  'mode': 1,\n  'speechiness': 0.0405,\n  'acousticness': 0.336,\n  'instrumentalness': 0.00962,\n  'liveness': 0.073,\n  'valence': 0.413,\n  'tempo': 79.977,\n  'type': 'audio_features',\n  'id': '287p7lbcw95SrINpsNJTzk',\n  'uri': 'spotify:track:287p7lbcw95SrINpsNJTzk',\n  'track_href': 'https://api.spotify.com/v1/tracks/287p7lbcw95SrINpsNJTzk',\n  'analysis_url': 'https://api.spotify.com/v1/audio-analysis/287p7lbcw95SrINpsNJTzk',\n  'duration_ms': 268528,\n  'time_signature': 4},\n {'danceability': 0.681,\n  'energy': 0.453,\n  'key': 7,\n  'loudness': -8.389,\n  'mode': 1,\n  'speechiness': 0.0358,\n  'acousticness': 0.594,\n  'instrumentalness': 0.00012,\n  'liveness': 0.145,\n  'valence': 0.234,\n  'tempo': 87.995,\n  'type': 'audio_features',\n  'id': '0NVxFntUSEYwPn27lX2J7r',\n  'uri': 'spotify:track:0NVxFntUSEYwPn27lX2J7r',\n  'track_href': 'https://api.spotify.com/v1/tracks/0NVxFntUSEYwPn27lX2J7r',\n  'analysis_url': 'https://api.spotify.com/v1/audio-analysis/0NVxFntUSEYwPn27lX2J7r',\n  'duration_ms': 203685,\n  'time_signature': 4},\n {'danceability': 0.615,\n  'energy': 0.619,\n  'key': 0,\n  'loudness': -4.84,\n  'mode': 1,\n  'speechiness': 0.0533,\n  'acousticness': 0.00897,\n  'instrumentalness': 1.11e-06,\n  'liveness': 0.0839,\n  'valence': 0.797,\n  'tempo': 150.11,\n  'type': 'audio_features',\n  'id': '5k3bwPbg6Kiz4bz76vRnyZ',\n  'uri': 'spotify:track:5k3bwPbg6Kiz4bz76vRnyZ',\n  'track_href': 'https://api.spotify.com/v1/tracks/5k3bwPbg6Kiz4bz76vRnyZ',\n  'analysis_url': 'https://api.spotify.com/v1/audio-analysis/5k3bwPbg6Kiz4bz76vRnyZ',\n  'duration_ms': 195982,\n  'time_signature': 3},\n {'danceability': 0.796,\n  'energy': 0.727,\n  'key': 1,\n  'loudness': -4.726,\n  'mode': 1,\n  'speechiness': 0.04,\n  'acousticness': 0.793,\n  'instrumentalness': 2.49e-05,\n  'liveness': 0.0858,\n  'valence': 0.818,\n  'tempo': 104.98,\n  'type': 'audio_features',\n  'id': '5MG69A9XyXDbBbeOxdR3Tl',\n  'uri': 'spotify:track:5MG69A9XyXDbBbeOxdR3Tl',\n  'track_href': 'https://api.spotify.com/v1/tracks/5MG69A9XyXDbBbeOxdR3Tl',\n  'analysis_url': 'https://api.spotify.com/v1/audio-analysis/5MG69A9XyXDbBbeOxdR3Tl',\n  'duration_ms': 123950,\n  'time_signature': 4},\n {'danceability': 0.502,\n  'energy': 0.666,\n  'key': 2,\n  'loudness': -8.319,\n  'mode': 1,\n  'speechiness': 0.0505,\n  'acousticness': 0.33,\n  'instrumentalness': 0.00638,\n  'liveness': 0.0961,\n  'valence': 0.148,\n  'tempo': 171.957,\n  'type': 'audio_features',\n  'id': '7pJAND8bggxN2rEVYGpPfA',\n  'uri': 'spotify:track:7pJAND8bggxN2rEVYGpPfA',\n  'track_href': 'https://api.spotify.com/v1/tracks/7pJAND8bggxN2rEVYGpPfA',\n  'analysis_url': 'https://api.spotify.com/v1/audio-analysis/7pJAND8bggxN2rEVYGpPfA',\n  'duration_ms': 251269,\n  'time_signature': 4},\n {'danceability': 0.854,\n  'energy': 0.563,\n  'key': 7,\n  'loudness': -5.219,\n  'mode': 0,\n  'speechiness': 0.0305,\n  'acousticness': 0.78,\n  'instrumentalness': 3.91e-05,\n  'liveness': 0.105,\n  'valence': 0.479,\n  'tempo': 103.26,\n  'type': 'audio_features',\n  'id': '1VhnwVLbrEynUIo8VdyBT9',\n  'uri': 'spotify:track:1VhnwVLbrEynUIo8VdyBT9',\n  'track_href': 'https://api.spotify.com/v1/tracks/1VhnwVLbrEynUIo8VdyBT9',\n  'analysis_url': 'https://api.spotify.com/v1/audio-analysis/1VhnwVLbrEynUIo8VdyBT9',\n  'duration_ms': 208373,\n  'time_signature': 4},\n {'danceability': 0.439,\n  'energy': 0.771,\n  'key': 3,\n  'loudness': -4.737,\n  'mode': 1,\n  'speechiness': 0.0467,\n  'acousticness': 0.14,\n  'instrumentalness': 0.0014,\n  'liveness': 0.621,\n  'valence': 0.268,\n  'tempo': 119.943,\n  'type': 'audio_features',\n  'id': '7gJNP36MQMaE3HyyKkwgAO',\n  'uri': 'spotify:track:7gJNP36MQMaE3HyyKkwgAO',\n  'track_href': 'https://api.spotify.com/v1/tracks/7gJNP36MQMaE3HyyKkwgAO',\n  'analysis_url': 'https://api.spotify.com/v1/audio-analysis/7gJNP36MQMaE3HyyKkwgAO',\n  'duration_ms': 223800,\n  'time_signature': 4},\n {'danceability': 0.71,\n  'energy': 0.342,\n  'key': 6,\n  'loudness': -7.222,\n  'mode': 1,\n  'speechiness': 0.0651,\n  'acousticness': 0.321,\n  'instrumentalness': 0.599,\n  'liveness': 0.139,\n  'valence': 0.456,\n  'tempo': 173.05,\n  'type': 'audio_features',\n  'id': '13795WBWdWvQHCXeOPLCWQ',\n  'uri': 'spotify:track:13795WBWdWvQHCXeOPLCWQ',\n  'track_href': 'https://api.spotify.com/v1/tracks/13795WBWdWvQHCXeOPLCWQ',\n  'analysis_url': 'https://api.spotify.com/v1/audio-analysis/13795WBWdWvQHCXeOPLCWQ',\n  'duration_ms': 177415,\n  'time_signature': 4},\n {'danceability': 0.424,\n  'energy': 0.943,\n  'key': 6,\n  'loudness': -5.435,\n  'mode': 1,\n  'speechiness': 0.08,\n  'acousticness': 0.00108,\n  'instrumentalness': 0,\n  'liveness': 0.279,\n  'valence': 0.521,\n  'tempo': 163.937,\n  'type': 'audio_features',\n  'id': '3OSgKpb2c1VbFqDOqiz8tZ',\n  'uri': 'spotify:track:3OSgKpb2c1VbFqDOqiz8tZ',\n  'track_href': 'https://api.spotify.com/v1/tracks/3OSgKpb2c1VbFqDOqiz8tZ',\n  'analysis_url': 'https://api.spotify.com/v1/audio-analysis/3OSgKpb2c1VbFqDOqiz8tZ',\n  'duration_ms': 186147,\n  'time_signature': 4},\n {'danceability': 0.395,\n  'energy': 0.495,\n  'key': 3,\n  'loudness': -9.087,\n  'mode': 1,\n  'speechiness': 0.0329,\n  'acousticness': 0.496,\n  'instrumentalness': 0.0378,\n  'liveness': 0.12,\n  'valence': 0.517,\n  'tempo': 168.01,\n  'type': 'audio_features',\n  'id': '7CS9hRKJNmBGWUowSjhedb',\n  'uri': 'spotify:track:7CS9hRKJNmBGWUowSjhedb',\n  'track_href': 'https://api.spotify.com/v1/tracks/7CS9hRKJNmBGWUowSjhedb',\n  'analysis_url': 'https://api.spotify.com/v1/audio-analysis/7CS9hRKJNmBGWUowSjhedb',\n  'duration_ms': 188044,\n  'time_signature': 4},\n {'danceability': 0.654,\n  'energy': 0.717,\n  'key': 4,\n  'loudness': -6.564,\n  'mode': 1,\n  'speechiness': 0.0416,\n  'acousticness': 0.089,\n  'instrumentalness': 0.00148,\n  'liveness': 0.0596,\n  'valence': 0.961,\n  'tempo': 159.963,\n  'type': 'audio_features',\n  'id': '4S7misxIYuUVypO0NwDwuW',\n  'uri': 'spotify:track:4S7misxIYuUVypO0NwDwuW',\n  'track_href': 'https://api.spotify.com/v1/tracks/4S7misxIYuUVypO0NwDwuW',\n  'analysis_url': 'https://api.spotify.com/v1/audio-analysis/4S7misxIYuUVypO0NwDwuW',\n  'duration_ms': 178150,\n  'time_signature': 4},\n {'danceability': 0.617,\n  'energy': 0.71,\n  'key': 0,\n  'loudness': -10.114,\n  'mode': 1,\n  'speechiness': 0.0326,\n  'acousticness': 0.185,\n  'instrumentalness': 0.378,\n  'liveness': 0.117,\n  'valence': 0.692,\n  'tempo': 97.019,\n  'type': 'audio_features',\n  'id': '2DGdgztVbE3pFmqoF1rHzp',\n  'uri': 'spotify:track:2DGdgztVbE3pFmqoF1rHzp',\n  'track_href': 'https://api.spotify.com/v1/tracks/2DGdgztVbE3pFmqoF1rHzp',\n  'analysis_url': 'https://api.spotify.com/v1/audio-analysis/2DGdgztVbE3pFmqoF1rHzp',\n  'duration_ms': 206857,\n  'time_signature': 4},\n {'danceability': 0.618,\n  'energy': 0.63,\n  'key': 1,\n  'loudness': -7.244,\n  'mode': 1,\n  'speechiness': 0.0406,\n  'acousticness': 0.209,\n  'instrumentalness': 1.71e-05,\n  'liveness': 0.0622,\n  'valence': 0.592,\n  'tempo': 155.035,\n  'type': 'audio_features',\n  'id': '0JVd3a4OYQCFg6MPKDtQTx',\n  'uri': 'spotify:track:0JVd3a4OYQCFg6MPKDtQTx',\n  'track_href': 'https://api.spotify.com/v1/tracks/0JVd3a4OYQCFg6MPKDtQTx',\n  'analysis_url': 'https://api.spotify.com/v1/audio-analysis/0JVd3a4OYQCFg6MPKDtQTx',\n  'duration_ms': 191087,\n  'time_signature': 4},\n {'danceability': 0.509,\n  'energy': 0.894,\n  'key': 4,\n  'loudness': -1.136,\n  'mode': 0,\n  'speechiness': 0.083,\n  'acousticness': 0.1,\n  'instrumentalness': 0,\n  'liveness': 0.258,\n  'valence': 0.319,\n  'tempo': 91.881,\n  'type': 'audio_features',\n  'id': '52ewMn6BRCU9hAPysg8TLm',\n  'uri': 'spotify:track:52ewMn6BRCU9hAPysg8TLm',\n  'track_href': 'https://api.spotify.com/v1/tracks/52ewMn6BRCU9hAPysg8TLm',\n  'analysis_url': 'https://api.spotify.com/v1/audio-analysis/52ewMn6BRCU9hAPysg8TLm',\n  'duration_ms': 213502,\n  'time_signature': 4},\n {'danceability': 0.617,\n  'energy': 0.649,\n  'key': 2,\n  'loudness': -8.149,\n  'mode': 1,\n  'speechiness': 0.0374,\n  'acousticness': 0.319,\n  'instrumentalness': 0.00343,\n  'liveness': 0.0917,\n  'valence': 0.598,\n  'tempo': 140.913,\n  'type': 'audio_features',\n  'id': '1Zj4Z2gQP0jgQMqxdi8gcr',\n  'uri': 'spotify:track:1Zj4Z2gQP0jgQMqxdi8gcr',\n  'track_href': 'https://api.spotify.com/v1/tracks/1Zj4Z2gQP0jgQMqxdi8gcr',\n  'analysis_url': 'https://api.spotify.com/v1/audio-analysis/1Zj4Z2gQP0jgQMqxdi8gcr',\n  'duration_ms': 143668,\n  'time_signature': 4},\n {'danceability': 0.439,\n  'energy': 0.61,\n  'key': 9,\n  'loudness': -7.236,\n  'mode': 1,\n  'speechiness': 0.116,\n  'acousticness': 0.593,\n  'instrumentalness': 1.07e-05,\n  'liveness': 0.341,\n  'valence': 0.172,\n  'tempo': 181.088,\n  'type': 'audio_features',\n  'id': '61KpQadow081I2AsbeLcsb',\n  'uri': 'spotify:track:61KpQadow081I2AsbeLcsb',\n  'track_href': 'https://api.spotify.com/v1/tracks/61KpQadow081I2AsbeLcsb',\n  'analysis_url': 'https://api.spotify.com/v1/audio-analysis/61KpQadow081I2AsbeLcsb',\n  'duration_ms': 215508,\n  'time_signature': 4},\n {'danceability': 0.636,\n  'energy': 0.527,\n  'key': 10,\n  'loudness': -7.472,\n  'mode': 1,\n  'speechiness': 0.0414,\n  'acousticness': 0.771,\n  'instrumentalness': 1.3e-06,\n  'liveness': 0.126,\n  'valence': 0.222,\n  'tempo': 127.999,\n  'type': 'audio_features',\n  'id': '7AX1eCw6qcX54PrDylynJr',\n  'uri': 'spotify:track:7AX1eCw6qcX54PrDylynJr',\n  'track_href': 'https://api.spotify.com/v1/tracks/7AX1eCw6qcX54PrDylynJr',\n  'analysis_url': 'https://api.spotify.com/v1/audio-analysis/7AX1eCw6qcX54PrDylynJr',\n  'duration_ms': 249494,\n  'time_signature': 4},\n {'danceability': 0.599,\n  'energy': 0.76,\n  'key': 7,\n  'loudness': -4.935,\n  'mode': 1,\n  'speechiness': 0.0331,\n  'acousticness': 0.00401,\n  'instrumentalness': 0.155,\n  'liveness': 0.133,\n  'valence': 0.251,\n  'tempo': 128.047,\n  'type': 'audio_features',\n  'id': '0JYR0lyLlDinGYd2XDMXmO',\n  'uri': 'spotify:track:0JYR0lyLlDinGYd2XDMXmO',\n  'track_href': 'https://api.spotify.com/v1/tracks/0JYR0lyLlDinGYd2XDMXmO',\n  'analysis_url': 'https://api.spotify.com/v1/audio-analysis/0JYR0lyLlDinGYd2XDMXmO',\n  'duration_ms': 281027,\n  'time_signature': 4},\n {'danceability': 0.68,\n  'energy': 0.736,\n  'key': 0,\n  'loudness': -3.211,\n  'mode': 1,\n  'speechiness': 0.0451,\n  'acousticness': 0.024,\n  'instrumentalness': 0,\n  'liveness': 0.257,\n  'valence': 0.77,\n  'tempo': 109.979,\n  'type': 'audio_features',\n  'id': '4LXuSaMzY515ubvtGnCvBi',\n  'uri': 'spotify:track:4LXuSaMzY515ubvtGnCvBi',\n  'track_href': 'https://api.spotify.com/v1/tracks/4LXuSaMzY515ubvtGnCvBi',\n  'analysis_url': 'https://api.spotify.com/v1/audio-analysis/4LXuSaMzY515ubvtGnCvBi',\n  'duration_ms': 181799,\n  'time_signature': 4},\n {'danceability': 0.605,\n  'energy': 0.702,\n  'key': 1,\n  'loudness': -6.587,\n  'mode': 1,\n  'speechiness': 0.0496,\n  'acousticness': 0.0312,\n  'instrumentalness': 0,\n  'liveness': 0.0596,\n  'valence': 0.631,\n  'tempo': 94.949,\n  'type': 'audio_features',\n  'id': '1H2HqAQw4sDHQiZQDvsAYd',\n  'uri': 'spotify:track:1H2HqAQw4sDHQiZQDvsAYd',\n  'track_href': 'https://api.spotify.com/v1/tracks/1H2HqAQw4sDHQiZQDvsAYd',\n  'analysis_url': 'https://api.spotify.com/v1/audio-analysis/1H2HqAQw4sDHQiZQDvsAYd',\n  'duration_ms': 148778,\n  'time_signature': 4},\n {'danceability': 0.628,\n  'energy': 0.504,\n  'key': 11,\n  'loudness': -10.092,\n  'mode': 1,\n  'speechiness': 0.0482,\n  'acousticness': 0.345,\n  'instrumentalness': 1.71e-05,\n  'liveness': 0.334,\n  'valence': 0.375,\n  'tempo': 126.083,\n  'type': 'audio_features',\n  'id': '3bHeVMbA84wmuHr5p2POrp',\n  'uri': 'spotify:track:3bHeVMbA84wmuHr5p2POrp',\n  'track_href': 'https://api.spotify.com/v1/tracks/3bHeVMbA84wmuHr5p2POrp',\n  'analysis_url': 'https://api.spotify.com/v1/audio-analysis/3bHeVMbA84wmuHr5p2POrp',\n  'duration_ms': 244369,\n  'time_signature': 4},\n {'danceability': 0.722,\n  'energy': 0.817,\n  'key': 0,\n  'loudness': -2.872,\n  'mode': 0,\n  'speechiness': 0.0488,\n  'acousticness': 0.0401,\n  'instrumentalness': 5.57e-05,\n  'liveness': 0.255,\n  'valence': 0.785,\n  'tempo': 130.014,\n  'type': 'audio_features',\n  'id': '6Yw8OzTprQU3pqwnBRodi3',\n  'uri': 'spotify:track:6Yw8OzTprQU3pqwnBRodi3',\n  'track_href': 'https://api.spotify.com/v1/tracks/6Yw8OzTprQU3pqwnBRodi3',\n  'analysis_url': 'https://api.spotify.com/v1/audio-analysis/6Yw8OzTprQU3pqwnBRodi3',\n  'duration_ms': 156462,\n  'time_signature': 4},\n {'danceability': 0.641,\n  'energy': 0.776,\n  'key': 0,\n  'loudness': -5.171,\n  'mode': 1,\n  'speechiness': 0.0684,\n  'acousticness': 0.0017,\n  'instrumentalness': 0.00021,\n  'liveness': 0.127,\n  'valence': 0.554,\n  'tempo': 114.679,\n  'type': 'audio_features',\n  'id': '32JZt8EmiioCGTU6UIXJ4E',\n  'uri': 'spotify:track:32JZt8EmiioCGTU6UIXJ4E',\n  'track_href': 'https://api.spotify.com/v1/tracks/32JZt8EmiioCGTU6UIXJ4E',\n  'analysis_url': 'https://api.spotify.com/v1/audio-analysis/32JZt8EmiioCGTU6UIXJ4E',\n  'duration_ms': 213025,\n  'time_signature': 4},\n {'danceability': 0.763,\n  'energy': 0.599,\n  'key': 6,\n  'loudness': -6.194,\n  'mode': 1,\n  'speechiness': 0.12,\n  'acousticness': 0.519,\n  'instrumentalness': 1.08e-06,\n  'liveness': 0.148,\n  'valence': 0.614,\n  'tempo': 122.802,\n  'type': 'audio_features',\n  'id': '29CDTN3TfjGr4f1yRQqAtV',\n  'uri': 'spotify:track:29CDTN3TfjGr4f1yRQqAtV',\n  'track_href': 'https://api.spotify.com/v1/tracks/29CDTN3TfjGr4f1yRQqAtV',\n  'analysis_url': 'https://api.spotify.com/v1/audio-analysis/29CDTN3TfjGr4f1yRQqAtV',\n  'duration_ms': 220840,\n  'time_signature': 4},\n {'danceability': 0.716,\n  'energy': 0.42,\n  'key': 9,\n  'loudness': -7.229,\n  'mode': 1,\n  'speechiness': 0.031,\n  'acousticness': 0.541,\n  'instrumentalness': 0,\n  'liveness': 0.135,\n  'valence': 0.538,\n  'tempo': 79.868,\n  'type': 'audio_features',\n  'id': '3hf7tTSZ6jgIdLIiT9Kgq0',\n  'uri': 'spotify:track:3hf7tTSZ6jgIdLIiT9Kgq0',\n  'track_href': 'https://api.spotify.com/v1/tracks/3hf7tTSZ6jgIdLIiT9Kgq0',\n  'analysis_url': 'https://api.spotify.com/v1/audio-analysis/3hf7tTSZ6jgIdLIiT9Kgq0',\n  'duration_ms': 163800,\n  'time_signature': 4},\n {'danceability': 0.639,\n  'energy': 0.569,\n  'key': 0,\n  'loudness': -7.236,\n  'mode': 0,\n  'speechiness': 0.0487,\n  'acousticness': 0.0581,\n  'instrumentalness': 0.000169,\n  'liveness': 0.108,\n  'valence': 0.616,\n  'tempo': 142.967,\n  'type': 'audio_features',\n  'id': '3gwoz4xZuye0agjYgrC2je',\n  'uri': 'spotify:track:3gwoz4xZuye0agjYgrC2je',\n  'track_href': 'https://api.spotify.com/v1/tracks/3gwoz4xZuye0agjYgrC2je',\n  'analysis_url': 'https://api.spotify.com/v1/audio-analysis/3gwoz4xZuye0agjYgrC2je',\n  'duration_ms': 226781,\n  'time_signature': 4},\n {'danceability': 0.689,\n  'energy': 0.299,\n  'key': 4,\n  'loudness': -9.203,\n  'mode': 1,\n  'speechiness': 0.0324,\n  'acousticness': 0.825,\n  'instrumentalness': 7.75e-06,\n  'liveness': 0.469,\n  'valence': 0.605,\n  'tempo': 93.991,\n  'type': 'audio_features',\n  'id': '3Dg3AZOd8xL6hQ3CHRB83h',\n  'uri': 'spotify:track:3Dg3AZOd8xL6hQ3CHRB83h',\n  'track_href': 'https://api.spotify.com/v1/tracks/3Dg3AZOd8xL6hQ3CHRB83h',\n  'analysis_url': 'https://api.spotify.com/v1/audio-analysis/3Dg3AZOd8xL6hQ3CHRB83h',\n  'duration_ms': 195231,\n  'time_signature': 4},\n {'danceability': 0.541,\n  'energy': 0.862,\n  'key': 2,\n  'loudness': -6.674,\n  'mode': 1,\n  'speechiness': 0.0329,\n  'acousticness': 0.00572,\n  'instrumentalness': 0.000106,\n  'liveness': 0.644,\n  'valence': 0.472,\n  'tempo': 145.013,\n  'type': 'audio_features',\n  'id': '5GIsnSmSyFM8dI3e4dP1G5',\n  'uri': 'spotify:track:5GIsnSmSyFM8dI3e4dP1G5',\n  'track_href': 'https://api.spotify.com/v1/tracks/5GIsnSmSyFM8dI3e4dP1G5',\n  'analysis_url': 'https://api.spotify.com/v1/audio-analysis/5GIsnSmSyFM8dI3e4dP1G5',\n  'duration_ms': 175312,\n  'time_signature': 4},\n {'danceability': 0.665,\n  'energy': 0.652,\n  'key': 2,\n  'loudness': -6.242,\n  'mode': 1,\n  'speechiness': 0.0727,\n  'acousticness': 0.029,\n  'instrumentalness': 0.0295,\n  'liveness': 0.127,\n  'valence': 0.809,\n  'tempo': 155.999,\n  'type': 'audio_features',\n  'id': '4KrwobI2xa03a24kPDQIvh',\n  'uri': 'spotify:track:4KrwobI2xa03a24kPDQIvh',\n  'track_href': 'https://api.spotify.com/v1/tracks/4KrwobI2xa03a24kPDQIvh',\n  'analysis_url': 'https://api.spotify.com/v1/audio-analysis/4KrwobI2xa03a24kPDQIvh',\n  'duration_ms': 167722,\n  'time_signature': 4},\n {'danceability': 0.839,\n  'energy': 0.525,\n  'key': 2,\n  'loudness': -4.873,\n  'mode': 1,\n  'speechiness': 0.131,\n  'acousticness': 0.0303,\n  'instrumentalness': 0,\n  'liveness': 0.302,\n  'valence': 0.831,\n  'tempo': 135.996,\n  'type': 'audio_features',\n  'id': '5nsMKSAJwcr1pA9I6PW429',\n  'uri': 'spotify:track:5nsMKSAJwcr1pA9I6PW429',\n  'track_href': 'https://api.spotify.com/v1/tracks/5nsMKSAJwcr1pA9I6PW429',\n  'analysis_url': 'https://api.spotify.com/v1/audio-analysis/5nsMKSAJwcr1pA9I6PW429',\n  'duration_ms': 133897,\n  'time_signature': 4},\n {'danceability': 0.534,\n  'energy': 0.649,\n  'key': 5,\n  'loudness': -7.531,\n  'mode': 1,\n  'speechiness': 0.0435,\n  'acousticness': 0.00712,\n  'instrumentalness': 6.22e-06,\n  'liveness': 0.137,\n  'valence': 0.358,\n  'tempo': 161.828,\n  'type': 'audio_features',\n  'id': '59zrASvoFolvYcBSewxuT4',\n  'uri': 'spotify:track:59zrASvoFolvYcBSewxuT4',\n  'track_href': 'https://api.spotify.com/v1/tracks/59zrASvoFolvYcBSewxuT4',\n  'analysis_url': 'https://api.spotify.com/v1/audio-analysis/59zrASvoFolvYcBSewxuT4',\n  'duration_ms': 174279,\n  'time_signature': 4},\n {'danceability': 0.621,\n  'energy': 0.766,\n  'key': 1,\n  'loudness': -1.73,\n  'mode': 0,\n  'speechiness': 0.0392,\n  'acousticness': 0.433,\n  'instrumentalness': 9.2e-06,\n  'liveness': 0.323,\n  'valence': 0.612,\n  'tempo': 138.974,\n  'type': 'audio_features',\n  'id': '68LD7fYCVnACJtnLKHd3Q9',\n  'uri': 'spotify:track:68LD7fYCVnACJtnLKHd3Q9',\n  'track_href': 'https://api.spotify.com/v1/tracks/68LD7fYCVnACJtnLKHd3Q9',\n  'analysis_url': 'https://api.spotify.com/v1/audio-analysis/68LD7fYCVnACJtnLKHd3Q9',\n  'duration_ms': 153784,\n  'time_signature': 4},\n {'danceability': 0.662,\n  'energy': 0.715,\n  'key': 9,\n  'loudness': -5.132,\n  'mode': 0,\n  'speechiness': 0.0474,\n  'acousticness': 0.000213,\n  'instrumentalness': 0.0966,\n  'liveness': 0.138,\n  'valence': 0.708,\n  'tempo': 125.022,\n  'type': 'audio_features',\n  'id': '2OZJWIhTXHL3UKJmhG5kxq',\n  'uri': 'spotify:track:2OZJWIhTXHL3UKJmhG5kxq',\n  'track_href': 'https://api.spotify.com/v1/tracks/2OZJWIhTXHL3UKJmhG5kxq',\n  'analysis_url': 'https://api.spotify.com/v1/audio-analysis/2OZJWIhTXHL3UKJmhG5kxq',\n  'duration_ms': 214747,\n  'time_signature': 4},\n {'danceability': 0.674,\n  'energy': 0.366,\n  'key': 4,\n  'loudness': -6.539,\n  'mode': 1,\n  'speechiness': 0.0381,\n  'acousticness': 0.341,\n  'instrumentalness': 7.3e-06,\n  'liveness': 0.125,\n  'valence': 0.346,\n  'tempo': 126.994,\n  'type': 'audio_features',\n  'id': '7xW3rU5rzv4ghw0h8APxuH',\n  'uri': 'spotify:track:7xW3rU5rzv4ghw0h8APxuH',\n  'track_href': 'https://api.spotify.com/v1/tracks/7xW3rU5rzv4ghw0h8APxuH',\n  'analysis_url': 'https://api.spotify.com/v1/audio-analysis/7xW3rU5rzv4ghw0h8APxuH',\n  'duration_ms': 168543,\n  'time_signature': 3},\n {'danceability': 0.682,\n  'energy': 0.683,\n  'key': 8,\n  'loudness': -6.444,\n  'mode': 0,\n  'speechiness': 0.0287,\n  'acousticness': 0.156,\n  'instrumentalness': 2.32e-05,\n  'liveness': 0.273,\n  'valence': 0.64,\n  'tempo': 120.023,\n  'type': 'audio_features',\n  'id': '57RA3JGafJm5zRtKJiKPIm',\n  'uri': 'spotify:track:57RA3JGafJm5zRtKJiKPIm',\n  'track_href': 'https://api.spotify.com/v1/tracks/57RA3JGafJm5zRtKJiKPIm',\n  'analysis_url': 'https://api.spotify.com/v1/audio-analysis/57RA3JGafJm5zRtKJiKPIm',\n  'duration_ms': 178000,\n  'time_signature': 4},\n {'danceability': 0.738,\n  'energy': 0.638,\n  'key': 6,\n  'loudness': -8.753,\n  'mode': 0,\n  'speechiness': 0.12,\n  'acousticness': 0.444,\n  'instrumentalness': 0.0138,\n  'liveness': 0.312,\n  'valence': 0.64,\n  'tempo': 84.8,\n  'type': 'audio_features',\n  'id': '0YY1xpXpPYL2N8tVwXBITr',\n  'uri': 'spotify:track:0YY1xpXpPYL2N8tVwXBITr',\n  'track_href': 'https://api.spotify.com/v1/tracks/0YY1xpXpPYL2N8tVwXBITr',\n  'analysis_url': 'https://api.spotify.com/v1/audio-analysis/0YY1xpXpPYL2N8tVwXBITr',\n  'duration_ms': 147997,\n  'time_signature': 4},\n {'danceability': 0.509,\n  'energy': 0.636,\n  'key': 2,\n  'loudness': -5.811,\n  'mode': 1,\n  'speechiness': 0.0453,\n  'acousticness': 0.635,\n  'instrumentalness': 0.000127,\n  'liveness': 0.613,\n  'valence': 0.302,\n  'tempo': 94.135,\n  'type': 'audio_features',\n  'id': '1uE4onkFvDXyBjIGsu9PZ5',\n  'uri': 'spotify:track:1uE4onkFvDXyBjIGsu9PZ5',\n  'track_href': 'https://api.spotify.com/v1/tracks/1uE4onkFvDXyBjIGsu9PZ5',\n  'analysis_url': 'https://api.spotify.com/v1/audio-analysis/1uE4onkFvDXyBjIGsu9PZ5',\n  'duration_ms': 200702,\n  'time_signature': 4},\n {'danceability': 0.589,\n  'energy': 0.631,\n  'key': 3,\n  'loudness': -7.566,\n  'mode': 1,\n  'speechiness': 0.0389,\n  'acousticness': 0.0988,\n  'instrumentalness': 0.00317,\n  'liveness': 0.17,\n  'valence': 0.773,\n  'tempo': 158.988,\n  'type': 'audio_features',\n  'id': '5VDmaEUjH0SGBDDjYgoxHW',\n  'uri': 'spotify:track:5VDmaEUjH0SGBDDjYgoxHW',\n  'track_href': 'https://api.spotify.com/v1/tracks/5VDmaEUjH0SGBDDjYgoxHW',\n  'analysis_url': 'https://api.spotify.com/v1/audio-analysis/5VDmaEUjH0SGBDDjYgoxHW',\n  'duration_ms': 161749,\n  'time_signature': 4},\n {'danceability': 0.629,\n  'energy': 0.629,\n  'key': 8,\n  'loudness': -5.379,\n  'mode': 1,\n  'speechiness': 0.0263,\n  'acousticness': 0.00198,\n  'instrumentalness': 0,\n  'liveness': 0.093,\n  'valence': 0.578,\n  'tempo': 92.969,\n  'type': 'audio_features',\n  'id': '4jhcEBwfAl4n6nAG1F4QT3',\n  'uri': 'spotify:track:4jhcEBwfAl4n6nAG1F4QT3',\n  'track_href': 'https://api.spotify.com/v1/tracks/4jhcEBwfAl4n6nAG1F4QT3',\n  'analysis_url': 'https://api.spotify.com/v1/audio-analysis/4jhcEBwfAl4n6nAG1F4QT3',\n  'duration_ms': 146640,\n  'time_signature': 4},\n {'danceability': 0.744,\n  'energy': 0.619,\n  'key': 0,\n  'loudness': -9.805,\n  'mode': 1,\n  'speechiness': 0.039,\n  'acousticness': 0.598,\n  'instrumentalness': 0.00372,\n  'liveness': 0.231,\n  'valence': 0.641,\n  'tempo': 112.997,\n  'type': 'audio_features',\n  'id': '7B3z0ySL9Rr0XvZEAjWZzM',\n  'uri': 'spotify:track:7B3z0ySL9Rr0XvZEAjWZzM',\n  'track_href': 'https://api.spotify.com/v1/tracks/7B3z0ySL9Rr0XvZEAjWZzM',\n  'analysis_url': 'https://api.spotify.com/v1/audio-analysis/7B3z0ySL9Rr0XvZEAjWZzM',\n  'duration_ms': 188387,\n  'time_signature': 4},\n {'danceability': 0.866,\n  'energy': 0.754,\n  'key': 0,\n  'loudness': -5.531,\n  'mode': 1,\n  'speechiness': 0.0356,\n  'acousticness': 0.0364,\n  'instrumentalness': 0.00181,\n  'liveness': 0.0801,\n  'valence': 0.962,\n  'tempo': 115.034,\n  'type': 'audio_features',\n  'id': '0CWvHfEwbeBVN0RViTybvL',\n  'uri': 'spotify:track:0CWvHfEwbeBVN0RViTybvL',\n  'track_href': 'https://api.spotify.com/v1/tracks/0CWvHfEwbeBVN0RViTybvL',\n  'analysis_url': 'https://api.spotify.com/v1/audio-analysis/0CWvHfEwbeBVN0RViTybvL',\n  'duration_ms': 229173,\n  'time_signature': 4},\n {'danceability': 0.895,\n  'energy': 0.407,\n  'key': 1,\n  'loudness': -8.331,\n  'mode': 1,\n  'speechiness': 0.109,\n  'acousticness': 0.37,\n  'instrumentalness': 0,\n  'liveness': 0.0553,\n  'valence': 0.964,\n  'tempo': 127.071,\n  'type': 'audio_features',\n  'id': '0ODp4fhCOXpxdUMD6ghM3V',\n  'uri': 'spotify:track:0ODp4fhCOXpxdUMD6ghM3V',\n  'track_href': 'https://api.spotify.com/v1/tracks/0ODp4fhCOXpxdUMD6ghM3V',\n  'analysis_url': 'https://api.spotify.com/v1/audio-analysis/0ODp4fhCOXpxdUMD6ghM3V',\n  'duration_ms': 97293,\n  'time_signature': 3},\n {'danceability': 0.538,\n  'energy': 0.61,\n  'key': 2,\n  'loudness': -6.103,\n  'mode': 1,\n  'speechiness': 0.0329,\n  'acousticness': 0.105,\n  'instrumentalness': 5.88e-06,\n  'liveness': 0.22,\n  'valence': 0.187,\n  'tempo': 120.051,\n  'type': 'audio_features',\n  'id': '1cKWyEiGWLXAUTz6jI1d7c',\n  'uri': 'spotify:track:1cKWyEiGWLXAUTz6jI1d7c',\n  'track_href': 'https://api.spotify.com/v1/tracks/1cKWyEiGWLXAUTz6jI1d7c',\n  'analysis_url': 'https://api.spotify.com/v1/audio-analysis/1cKWyEiGWLXAUTz6jI1d7c',\n  'duration_ms': 213293,\n  'time_signature': 4},\n {'danceability': 0.729,\n  'energy': 0.525,\n  'key': 8,\n  'loudness': -7.241,\n  'mode': 1,\n  'speechiness': 0.0995,\n  'acousticness': 0.228,\n  'instrumentalness': 4.36e-05,\n  'liveness': 0.309,\n  'valence': 0.782,\n  'tempo': 110.012,\n  'type': 'audio_features',\n  'id': '3qOcLXQaamgc5R7pDQKQQp',\n  'uri': 'spotify:track:3qOcLXQaamgc5R7pDQKQQp',\n  'track_href': 'https://api.spotify.com/v1/tracks/3qOcLXQaamgc5R7pDQKQQp',\n  'analysis_url': 'https://api.spotify.com/v1/audio-analysis/3qOcLXQaamgc5R7pDQKQQp',\n  'duration_ms': 176481,\n  'time_signature': 4},\n {'danceability': 0.639,\n  'energy': 0.63,\n  'key': 2,\n  'loudness': -6.1,\n  'mode': 1,\n  'speechiness': 0.0325,\n  'acousticness': 0.0151,\n  'instrumentalness': 0.0374,\n  'liveness': 0.0959,\n  'valence': 0.218,\n  'tempo': 125.648,\n  'type': 'audio_features',\n  'id': '1n4vgMWmmNlXrvyxQFhUEl',\n  'uri': 'spotify:track:1n4vgMWmmNlXrvyxQFhUEl',\n  'track_href': 'https://api.spotify.com/v1/tracks/1n4vgMWmmNlXrvyxQFhUEl',\n  'analysis_url': 'https://api.spotify.com/v1/audio-analysis/1n4vgMWmmNlXrvyxQFhUEl',\n  'duration_ms': 319371,\n  'time_signature': 4},\n {'danceability': 0.891,\n  'energy': 0.627,\n  'key': 4,\n  'loudness': -8.458,\n  'mode': 1,\n  'speechiness': 0.0566,\n  'acousticness': 0.435,\n  'instrumentalness': 0,\n  'liveness': 0.266,\n  'valence': 0.922,\n  'tempo': 136.024,\n  'type': 'audio_features',\n  'id': '1SdItcSOTD14tvIo8UzA6k',\n  'uri': 'spotify:track:1SdItcSOTD14tvIo8UzA6k',\n  'track_href': 'https://api.spotify.com/v1/tracks/1SdItcSOTD14tvIo8UzA6k',\n  'analysis_url': 'https://api.spotify.com/v1/audio-analysis/1SdItcSOTD14tvIo8UzA6k',\n  'duration_ms': 200293,\n  'time_signature': 4},\n {'danceability': 0.512,\n  'energy': 0.77,\n  'key': 7,\n  'loudness': -5.796,\n  'mode': 1,\n  'speechiness': 0.0368,\n  'acousticness': 0.001,\n  'instrumentalness': 0,\n  'liveness': 0.118,\n  'valence': 0.551,\n  'tempo': 87.856,\n  'type': 'audio_features',\n  'id': '2DhYQXK6ZkOTB1665GTagQ',\n  'uri': 'spotify:track:2DhYQXK6ZkOTB1665GTagQ',\n  'track_href': 'https://api.spotify.com/v1/tracks/2DhYQXK6ZkOTB1665GTagQ',\n  'analysis_url': 'https://api.spotify.com/v1/audio-analysis/2DhYQXK6ZkOTB1665GTagQ',\n  'duration_ms': 174552,\n  'time_signature': 4},\n {'danceability': 0.485,\n  'energy': 0.883,\n  'key': 5,\n  'loudness': -4.906,\n  'mode': 1,\n  'speechiness': 0.0403,\n  'acousticness': 0.00177,\n  'instrumentalness': 6.38e-06,\n  'liveness': 0.37,\n  'valence': 0.604,\n  'tempo': 129.021,\n  'type': 'audio_features',\n  'id': '5GZpFMMargJUqhbLoI94Tz',\n  'uri': 'spotify:track:5GZpFMMargJUqhbLoI94Tz',\n  'track_href': 'https://api.spotify.com/v1/tracks/5GZpFMMargJUqhbLoI94Tz',\n  'analysis_url': 'https://api.spotify.com/v1/audio-analysis/5GZpFMMargJUqhbLoI94Tz',\n  'duration_ms': 188400,\n  'time_signature': 4},\n {'danceability': 0.501,\n  'energy': 0.815,\n  'key': 1,\n  'loudness': -4.865,\n  'mode': 1,\n  'speechiness': 0.0436,\n  'acousticness': 0.0513,\n  'instrumentalness': 0,\n  'liveness': 0.106,\n  'valence': 0.46,\n  'tempo': 160.087,\n  'type': 'audio_features',\n  'id': '4k3lPl8YTKuY8c1HelVnm3',\n  'uri': 'spotify:track:4k3lPl8YTKuY8c1HelVnm3',\n  'track_href': 'https://api.spotify.com/v1/tracks/4k3lPl8YTKuY8c1HelVnm3',\n  'analysis_url': 'https://api.spotify.com/v1/audio-analysis/4k3lPl8YTKuY8c1HelVnm3',\n  'duration_ms': 224213,\n  'time_signature': 4},\n {'danceability': 0.463,\n  'energy': 0.76,\n  'key': 2,\n  'loudness': -5.958,\n  'mode': 1,\n  'speechiness': 0.11,\n  'acousticness': 0.0379,\n  'instrumentalness': 0,\n  'liveness': 0.115,\n  'valence': 0.65,\n  'tempo': 123.899,\n  'type': 'audio_features',\n  'id': '0ODaBMQ3tbTefbmbMWTwdT',\n  'uri': 'spotify:track:0ODaBMQ3tbTefbmbMWTwdT',\n  'track_href': 'https://api.spotify.com/v1/tracks/0ODaBMQ3tbTefbmbMWTwdT',\n  'analysis_url': 'https://api.spotify.com/v1/audio-analysis/0ODaBMQ3tbTefbmbMWTwdT',\n  'duration_ms': 164347,\n  'time_signature': 4},\n {'danceability': 0.607,\n  'energy': 0.912,\n  'key': 8,\n  'loudness': -3.449,\n  'mode': 1,\n  'speechiness': 0.0611,\n  'acousticness': 0.124,\n  'instrumentalness': 0,\n  'liveness': 0.332,\n  'valence': 0.722,\n  'tempo': 134.944,\n  'type': 'audio_features',\n  'id': '200x8ONbPfFzByUr3fVz46',\n  'uri': 'spotify:track:200x8ONbPfFzByUr3fVz46',\n  'track_href': 'https://api.spotify.com/v1/tracks/200x8ONbPfFzByUr3fVz46',\n  'analysis_url': 'https://api.spotify.com/v1/audio-analysis/200x8ONbPfFzByUr3fVz46',\n  'duration_ms': 206107,\n  'time_signature': 4},\n {'danceability': 0.614,\n  'energy': 0.837,\n  'key': 1,\n  'loudness': -3.967,\n  'mode': 1,\n  'speechiness': 0.0255,\n  'acousticness': 0.45,\n  'instrumentalness': 2.49e-05,\n  'liveness': 0.115,\n  'valence': 0.862,\n  'tempo': 96.977,\n  'type': 'audio_features',\n  'id': '2kEhQe0BVtY8IIaFE5ALA0',\n  'uri': 'spotify:track:2kEhQe0BVtY8IIaFE5ALA0',\n  'track_href': 'https://api.spotify.com/v1/tracks/2kEhQe0BVtY8IIaFE5ALA0',\n  'analysis_url': 'https://api.spotify.com/v1/audio-analysis/2kEhQe0BVtY8IIaFE5ALA0',\n  'duration_ms': 168448,\n  'time_signature': 5},\n {'danceability': 0.702,\n  'energy': 0.778,\n  'key': 6,\n  'loudness': -4.25,\n  'mode': 1,\n  'speechiness': 0.0287,\n  'acousticness': 0.302,\n  'instrumentalness': 0,\n  'liveness': 0.126,\n  'valence': 0.879,\n  'tempo': 91.014,\n  'type': 'audio_features',\n  'id': '55M9eKCXJFCpid6WBVyEct',\n  'uri': 'spotify:track:55M9eKCXJFCpid6WBVyEct',\n  'track_href': 'https://api.spotify.com/v1/tracks/55M9eKCXJFCpid6WBVyEct',\n  'analysis_url': 'https://api.spotify.com/v1/audio-analysis/55M9eKCXJFCpid6WBVyEct',\n  'duration_ms': 174111,\n  'time_signature': 4},\n {'danceability': 0.464,\n  'energy': 0.755,\n  'key': 4,\n  'loudness': -5.707,\n  'mode': 1,\n  'speechiness': 0.0354,\n  'acousticness': 0.00838,\n  'instrumentalness': 0,\n  'liveness': 0.0989,\n  'valence': 0.449,\n  'tempo': 155.973,\n  'type': 'audio_features',\n  'id': '1fff5nZGyRJtFLkOrSSwOU',\n  'uri': 'spotify:track:1fff5nZGyRJtFLkOrSSwOU',\n  'track_href': 'https://api.spotify.com/v1/tracks/1fff5nZGyRJtFLkOrSSwOU',\n  'analysis_url': 'https://api.spotify.com/v1/audio-analysis/1fff5nZGyRJtFLkOrSSwOU',\n  'duration_ms': 216764,\n  'time_signature': 4},\n {'danceability': 0.662,\n  'energy': 0.855,\n  'key': 0,\n  'loudness': -3.742,\n  'mode': 1,\n  'speechiness': 0.0457,\n  'acousticness': 0.021,\n  'instrumentalness': 0,\n  'liveness': 0.228,\n  'valence': 0.84,\n  'tempo': 120.079,\n  'type': 'audio_features',\n  'id': '1S55d7hhptRt8PS6nC1fSY',\n  'uri': 'spotify:track:1S55d7hhptRt8PS6nC1fSY',\n  'track_href': 'https://api.spotify.com/v1/tracks/1S55d7hhptRt8PS6nC1fSY',\n  'analysis_url': 'https://api.spotify.com/v1/audio-analysis/1S55d7hhptRt8PS6nC1fSY',\n  'duration_ms': 187017,\n  'time_signature': 4},\n {'danceability': 0.54,\n  'energy': 0.87,\n  'key': 8,\n  'loudness': -4.635,\n  'mode': 1,\n  'speechiness': 0.0487,\n  'acousticness': 0.0678,\n  'instrumentalness': 0,\n  'liveness': 0.12,\n  'valence': 0.494,\n  'tempo': 97.991,\n  'type': 'audio_features',\n  'id': '5gTQD1FjKMqUisgSD0uyb1',\n  'uri': 'spotify:track:5gTQD1FjKMqUisgSD0uyb1',\n  'track_href': 'https://api.spotify.com/v1/tracks/5gTQD1FjKMqUisgSD0uyb1',\n  'analysis_url': 'https://api.spotify.com/v1/audio-analysis/5gTQD1FjKMqUisgSD0uyb1',\n  'duration_ms': 165921,\n  'time_signature': 4},\n {'danceability': 0.505,\n  'energy': 0.657,\n  'key': 11,\n  'loudness': -5.24,\n  'mode': 0,\n  'speechiness': 0.0318,\n  'acousticness': 0.373,\n  'instrumentalness': 0.00107,\n  'liveness': 0.126,\n  'valence': 0.252,\n  'tempo': 196.0,\n  'type': 'audio_features',\n  'id': '3cBsEDNhFI9E82vPj3kvi3',\n  'uri': 'spotify:track:3cBsEDNhFI9E82vPj3kvi3',\n  'track_href': 'https://api.spotify.com/v1/tracks/3cBsEDNhFI9E82vPj3kvi3',\n  'analysis_url': 'https://api.spotify.com/v1/audio-analysis/3cBsEDNhFI9E82vPj3kvi3',\n  'duration_ms': 178520,\n  'time_signature': 3},\n {'danceability': 0.63,\n  'energy': 0.544,\n  'key': 0,\n  'loudness': -7.252,\n  'mode': 1,\n  'speechiness': 0.0287,\n  'acousticness': 0.0282,\n  'instrumentalness': 0,\n  'liveness': 0.199,\n  'valence': 0.389,\n  'tempo': 112.942,\n  'type': 'audio_features',\n  'id': '3fA0FKdkPmBa62MSxwewKE',\n  'uri': 'spotify:track:3fA0FKdkPmBa62MSxwewKE',\n  'track_href': 'https://api.spotify.com/v1/tracks/3fA0FKdkPmBa62MSxwewKE',\n  'analysis_url': 'https://api.spotify.com/v1/audio-analysis/3fA0FKdkPmBa62MSxwewKE',\n  'duration_ms': 189443,\n  'time_signature': 4},\n {'danceability': 0.369,\n  'energy': 0.192,\n  'key': 4,\n  'loudness': -12.151,\n  'mode': 0,\n  'speechiness': 0.04,\n  'acousticness': 0.555,\n  'instrumentalness': 8.35e-06,\n  'liveness': 0.0954,\n  'valence': 0.148,\n  'tempo': 175.212,\n  'type': 'audio_features',\n  'id': '3WMj8moIAXJhHsyLaqIIHI',\n  'uri': 'spotify:track:3WMj8moIAXJhHsyLaqIIHI',\n  'track_href': 'https://api.spotify.com/v1/tracks/3WMj8moIAXJhHsyLaqIIHI',\n  'analysis_url': 'https://api.spotify.com/v1/audio-analysis/3WMj8moIAXJhHsyLaqIIHI',\n  'duration_ms': 228013,\n  'time_signature': 3},\n {'danceability': 0.553,\n  'energy': 0.609,\n  'key': 1,\n  'loudness': -6.436,\n  'mode': 1,\n  'speechiness': 0.0469,\n  'acousticness': 0.151,\n  'instrumentalness': 0,\n  'liveness': 0.112,\n  'valence': 0.471,\n  'tempo': 73.903,\n  'type': 'audio_features',\n  'id': '3TuMOIzXkhKFDNHyQ7Mo8J',\n  'uri': 'spotify:track:3TuMOIzXkhKFDNHyQ7Mo8J',\n  'track_href': 'https://api.spotify.com/v1/tracks/3TuMOIzXkhKFDNHyQ7Mo8J',\n  'analysis_url': 'https://api.spotify.com/v1/audio-analysis/3TuMOIzXkhKFDNHyQ7Mo8J',\n  'duration_ms': 214416,\n  'time_signature': 4},\n {'danceability': 0.514,\n  'energy': 0.693,\n  'key': 1,\n  'loudness': -6.428,\n  'mode': 1,\n  'speechiness': 0.0528,\n  'acousticness': 0.0961,\n  'instrumentalness': 0,\n  'liveness': 0.071,\n  'valence': 0.46,\n  'tempo': 156.039,\n  'type': 'audio_features',\n  'id': '6OSa9hgEvituO2SaaYBiwD',\n  'uri': 'spotify:track:6OSa9hgEvituO2SaaYBiwD',\n  'track_href': 'https://api.spotify.com/v1/tracks/6OSa9hgEvituO2SaaYBiwD',\n  'analysis_url': 'https://api.spotify.com/v1/audio-analysis/6OSa9hgEvituO2SaaYBiwD',\n  'duration_ms': 176573,\n  'time_signature': 4},\n {'danceability': 0.542,\n  'energy': 0.82,\n  'key': 8,\n  'loudness': -6.073,\n  'mode': 1,\n  'speechiness': 0.0432,\n  'acousticness': 0.000682,\n  'instrumentalness': 0.000136,\n  'liveness': 0.0561,\n  'valence': 0.702,\n  'tempo': 124.85,\n  'type': 'audio_features',\n  'id': '3j1xkzTW8owIphkWV51V9s',\n  'uri': 'spotify:track:3j1xkzTW8owIphkWV51V9s',\n  'track_href': 'https://api.spotify.com/v1/tracks/3j1xkzTW8owIphkWV51V9s',\n  'analysis_url': 'https://api.spotify.com/v1/audio-analysis/3j1xkzTW8owIphkWV51V9s',\n  'duration_ms': 234341,\n  'time_signature': 4},\n {'danceability': 0.789,\n  'energy': 0.642,\n  'key': 11,\n  'loudness': -8.304,\n  'mode': 1,\n  'speechiness': 0.0352,\n  'acousticness': 0.357,\n  'instrumentalness': 0,\n  'liveness': 0.0985,\n  'valence': 0.755,\n  'tempo': 121.003,\n  'type': 'audio_features',\n  'id': '3vCUelLOtiuNF78p9LNWZF',\n  'uri': 'spotify:track:3vCUelLOtiuNF78p9LNWZF',\n  'track_href': 'https://api.spotify.com/v1/tracks/3vCUelLOtiuNF78p9LNWZF',\n  'analysis_url': 'https://api.spotify.com/v1/audio-analysis/3vCUelLOtiuNF78p9LNWZF',\n  'duration_ms': 167680,\n  'time_signature': 4},\n {'danceability': 0.502,\n  'energy': 0.662,\n  'key': 9,\n  'loudness': -4.041,\n  'mode': 1,\n  'speechiness': 0.0293,\n  'acousticness': 0.00322,\n  'instrumentalness': 0.00274,\n  'liveness': 0.119,\n  'valence': 0.4,\n  'tempo': 110.917,\n  'type': 'audio_features',\n  'id': '0XxNamjHxu0ercIQmWNkRT',\n  'uri': 'spotify:track:0XxNamjHxu0ercIQmWNkRT',\n  'track_href': 'https://api.spotify.com/v1/tracks/0XxNamjHxu0ercIQmWNkRT',\n  'analysis_url': 'https://api.spotify.com/v1/audio-analysis/0XxNamjHxu0ercIQmWNkRT',\n  'duration_ms': 251293,\n  'time_signature': 4},\n {'danceability': 0.617,\n  'energy': 0.84,\n  'key': 2,\n  'loudness': -6.936,\n  'mode': 1,\n  'speechiness': 0.0802,\n  'acousticness': 0.0914,\n  'instrumentalness': 1.36e-06,\n  'liveness': 0.0451,\n  'valence': 0.721,\n  'tempo': 85.998,\n  'type': 'audio_features',\n  'id': '7GMXESVLghURYtnMXl7Ngn',\n  'uri': 'spotify:track:7GMXESVLghURYtnMXl7Ngn',\n  'track_href': 'https://api.spotify.com/v1/tracks/7GMXESVLghURYtnMXl7Ngn',\n  'analysis_url': 'https://api.spotify.com/v1/audio-analysis/7GMXESVLghURYtnMXl7Ngn',\n  'duration_ms': 194667,\n  'time_signature': 4},\n {'danceability': 0.492,\n  'energy': 0.708,\n  'key': 10,\n  'loudness': -4.639,\n  'mode': 1,\n  'speechiness': 0.0334,\n  'acousticness': 0.0975,\n  'instrumentalness': 0,\n  'liveness': 0.12,\n  'valence': 0.697,\n  'tempo': 161.989,\n  'type': 'audio_features',\n  'id': '4Qum1kECNQrpREev5fvAQ4',\n  'uri': 'spotify:track:4Qum1kECNQrpREev5fvAQ4',\n  'track_href': 'https://api.spotify.com/v1/tracks/4Qum1kECNQrpREev5fvAQ4',\n  'analysis_url': 'https://api.spotify.com/v1/audio-analysis/4Qum1kECNQrpREev5fvAQ4',\n  'duration_ms': 203037,\n  'time_signature': 4},\n {'danceability': 0.591,\n  'energy': 0.814,\n  'key': 4,\n  'loudness': -4.986,\n  'mode': 1,\n  'speechiness': 0.0468,\n  'acousticness': 0.015,\n  'instrumentalness': 0,\n  'liveness': 0.117,\n  'valence': 0.815,\n  'tempo': 149.9,\n  'type': 'audio_features',\n  'id': '13G5xv1wUKvJYbK0wYmioN',\n  'uri': 'spotify:track:13G5xv1wUKvJYbK0wYmioN',\n  'track_href': 'https://api.spotify.com/v1/tracks/13G5xv1wUKvJYbK0wYmioN',\n  'analysis_url': 'https://api.spotify.com/v1/audio-analysis/13G5xv1wUKvJYbK0wYmioN',\n  'duration_ms': 195760,\n  'time_signature': 4},\n {'danceability': 0.602,\n  'energy': 0.928,\n  'key': 1,\n  'loudness': -3.601,\n  'mode': 1,\n  'speechiness': 0.0859,\n  'acousticness': 0.016,\n  'instrumentalness': 0,\n  'liveness': 0.105,\n  'valence': 0.429,\n  'tempo': 123.121,\n  'type': 'audio_features',\n  'id': '6Wy1WU6nkioVn681Rom3SP',\n  'uri': 'spotify:track:6Wy1WU6nkioVn681Rom3SP',\n  'track_href': 'https://api.spotify.com/v1/tracks/6Wy1WU6nkioVn681Rom3SP',\n  'analysis_url': 'https://api.spotify.com/v1/audio-analysis/6Wy1WU6nkioVn681Rom3SP',\n  'duration_ms': 201147,\n  'time_signature': 4},\n {'danceability': 0.497,\n  'energy': 0.726,\n  'key': 0,\n  'loudness': -6.018,\n  'mode': 1,\n  'speechiness': 0.0363,\n  'acousticness': 0.00331,\n  'instrumentalness': 0,\n  'liveness': 0.103,\n  'valence': 0.418,\n  'tempo': 147.91,\n  'type': 'audio_features',\n  'id': '7FEu6U2jXAs2URjx93AyTm',\n  'uri': 'spotify:track:7FEu6U2jXAs2URjx93AyTm',\n  'track_href': 'https://api.spotify.com/v1/tracks/7FEu6U2jXAs2URjx93AyTm',\n  'analysis_url': 'https://api.spotify.com/v1/audio-analysis/7FEu6U2jXAs2URjx93AyTm',\n  'duration_ms': 201639,\n  'time_signature': 4},\n {'danceability': 0.575,\n  'energy': 0.644,\n  'key': 6,\n  'loudness': -5.68,\n  'mode': 0,\n  'speechiness': 0.0309,\n  'acousticness': 0.271,\n  'instrumentalness': 0,\n  'liveness': 0.131,\n  'valence': 0.626,\n  'tempo': 80.07,\n  'type': 'audio_features',\n  'id': '6F7UOC6fPWOkPqybOWBHSv',\n  'uri': 'spotify:track:6F7UOC6fPWOkPqybOWBHSv',\n  'track_href': 'https://api.spotify.com/v1/tracks/6F7UOC6fPWOkPqybOWBHSv',\n  'analysis_url': 'https://api.spotify.com/v1/audio-analysis/6F7UOC6fPWOkPqybOWBHSv',\n  'duration_ms': 195013,\n  'time_signature': 4},\n {'danceability': 0.59,\n  'energy': 0.846,\n  'key': 4,\n  'loudness': -4.251,\n  'mode': 1,\n  'speechiness': 0.0396,\n  'acousticness': 0.182,\n  'instrumentalness': 0,\n  'liveness': 0.53,\n  'valence': 0.733,\n  'tempo': 146.028,\n  'type': 'audio_features',\n  'id': '19ZzEzb4BVK1wVO4brrmZz',\n  'uri': 'spotify:track:19ZzEzb4BVK1wVO4brrmZz',\n  'track_href': 'https://api.spotify.com/v1/tracks/19ZzEzb4BVK1wVO4brrmZz',\n  'analysis_url': 'https://api.spotify.com/v1/audio-analysis/19ZzEzb4BVK1wVO4brrmZz',\n  'duration_ms': 174681,\n  'time_signature': 4},\n {'danceability': 0.593,\n  'energy': 0.552,\n  'key': 1,\n  'loudness': -5.838,\n  'mode': 1,\n  'speechiness': 0.028,\n  'acousticness': 0.18,\n  'instrumentalness': 1.71e-05,\n  'liveness': 0.11,\n  'valence': 0.39,\n  'tempo': 115.0,\n  'type': 'audio_features',\n  'id': '4GyD3o5hWoyCuYpdlzZlRL',\n  'uri': 'spotify:track:4GyD3o5hWoyCuYpdlzZlRL',\n  'track_href': 'https://api.spotify.com/v1/tracks/4GyD3o5hWoyCuYpdlzZlRL',\n  'analysis_url': 'https://api.spotify.com/v1/audio-analysis/4GyD3o5hWoyCuYpdlzZlRL',\n  'duration_ms': 254181,\n  'time_signature': 4},\n {'danceability': 0.678,\n  'energy': 0.528,\n  'key': 10,\n  'loudness': -7.317,\n  'mode': 1,\n  'speechiness': 0.0551,\n  'acousticness': 0.289,\n  'instrumentalness': 0,\n  'liveness': 0.0734,\n  'valence': 0.614,\n  'tempo': 79.018,\n  'type': 'audio_features',\n  'id': '3HGnIIdHYIbkowzLk8UHbE',\n  'uri': 'spotify:track:3HGnIIdHYIbkowzLk8UHbE',\n  'track_href': 'https://api.spotify.com/v1/tracks/3HGnIIdHYIbkowzLk8UHbE',\n  'analysis_url': 'https://api.spotify.com/v1/audio-analysis/3HGnIIdHYIbkowzLk8UHbE',\n  'duration_ms': 194545,\n  'time_signature': 4},\n {'danceability': 0.619,\n  'energy': 0.916,\n  'key': 10,\n  'loudness': -2.752,\n  'mode': 0,\n  'speechiness': 0.0468,\n  'acousticness': 0.0483,\n  'instrumentalness': 4.88e-06,\n  'liveness': 0.246,\n  'valence': 0.785,\n  'tempo': 114.019,\n  'type': 'audio_features',\n  'id': '7ivOkXLuP1182ZtzA54Vbw',\n  'uri': 'spotify:track:7ivOkXLuP1182ZtzA54Vbw',\n  'track_href': 'https://api.spotify.com/v1/tracks/7ivOkXLuP1182ZtzA54Vbw',\n  'analysis_url': 'https://api.spotify.com/v1/audio-analysis/7ivOkXLuP1182ZtzA54Vbw',\n  'duration_ms': 211987,\n  'time_signature': 4},\n {'danceability': 0.714,\n  'energy': 0.766,\n  'key': 6,\n  'loudness': -4.42,\n  'mode': 1,\n  'speechiness': 0.0365,\n  'acousticness': 0.0957,\n  'instrumentalness': 0.00183,\n  'liveness': 0.0595,\n  'valence': 0.665,\n  'tempo': 114.964,\n  'type': 'audio_features',\n  'id': '6JSH36hKFusIabTu1egYO5',\n  'uri': 'spotify:track:6JSH36hKFusIabTu1egYO5',\n  'track_href': 'https://api.spotify.com/v1/tracks/6JSH36hKFusIabTu1egYO5',\n  'analysis_url': 'https://api.spotify.com/v1/audio-analysis/6JSH36hKFusIabTu1egYO5',\n  'duration_ms': 147694,\n  'time_signature': 4},\n {'danceability': 0.663,\n  'energy': 0.502,\n  'key': 5,\n  'loudness': -7.07,\n  'mode': 1,\n  'speechiness': 0.0285,\n  'acousticness': 0.791,\n  'instrumentalness': 0,\n  'liveness': 0.105,\n  'valence': 0.371,\n  'tempo': 143.969,\n  'type': 'audio_features',\n  'id': '4q9NEq8kUmSZwtNsxL2KJN',\n  'uri': 'spotify:track:4q9NEq8kUmSZwtNsxL2KJN',\n  'track_href': 'https://api.spotify.com/v1/tracks/4q9NEq8kUmSZwtNsxL2KJN',\n  'analysis_url': 'https://api.spotify.com/v1/audio-analysis/4q9NEq8kUmSZwtNsxL2KJN',\n  'duration_ms': 183087,\n  'time_signature': 4},\n {'danceability': 0.516,\n  'energy': 0.481,\n  'key': 6,\n  'loudness': -6.587,\n  'mode': 1,\n  'speechiness': 0.0254,\n  'acousticness': 0.00865,\n  'instrumentalness': 1.18e-05,\n  'liveness': 0.226,\n  'valence': 0.196,\n  'tempo': 144.097,\n  'type': 'audio_features',\n  'id': '4QakuMSCrvw79FQV55xx6T',\n  'uri': 'spotify:track:4QakuMSCrvw79FQV55xx6T',\n  'track_href': 'https://api.spotify.com/v1/tracks/4QakuMSCrvw79FQV55xx6T',\n  'analysis_url': 'https://api.spotify.com/v1/audio-analysis/4QakuMSCrvw79FQV55xx6T',\n  'duration_ms': 213207,\n  'time_signature': 4},\n {'danceability': 0.527,\n  'energy': 0.461,\n  'key': 7,\n  'loudness': -5.908,\n  'mode': 1,\n  'speechiness': 0.0269,\n  'acousticness': 0.118,\n  'instrumentalness': 0,\n  'liveness': 0.0831,\n  'valence': 0.227,\n  'tempo': 128.153,\n  'type': 'audio_features',\n  'id': '2ccuOtUjIyx3tPcsnpeBzJ',\n  'uri': 'spotify:track:2ccuOtUjIyx3tPcsnpeBzJ',\n  'track_href': 'https://api.spotify.com/v1/tracks/2ccuOtUjIyx3tPcsnpeBzJ',\n  'analysis_url': 'https://api.spotify.com/v1/audio-analysis/2ccuOtUjIyx3tPcsnpeBzJ',\n  'duration_ms': 214405,\n  'time_signature': 3},\n {'danceability': 0.534,\n  'energy': 0.632,\n  'key': 3,\n  'loudness': -5.833,\n  'mode': 1,\n  'speechiness': 0.03,\n  'acousticness': 0.515,\n  'instrumentalness': 0,\n  'liveness': 0.0922,\n  'valence': 0.227,\n  'tempo': 143.866,\n  'type': 'audio_features',\n  'id': '3u6YTdxBfx3dzIC5qJ9Afu',\n  'uri': 'spotify:track:3u6YTdxBfx3dzIC5qJ9Afu',\n  'track_href': 'https://api.spotify.com/v1/tracks/3u6YTdxBfx3dzIC5qJ9Afu',\n  'analysis_url': 'https://api.spotify.com/v1/audio-analysis/3u6YTdxBfx3dzIC5qJ9Afu',\n  'duration_ms': 212667,\n  'time_signature': 4},\n {'danceability': 0.79,\n  'energy': 0.325,\n  'key': 4,\n  'loudness': -11.689,\n  'mode': 1,\n  'speechiness': 0.127,\n  'acousticness': 0.509,\n  'instrumentalness': 0,\n  'liveness': 0.155,\n  'valence': 0.539,\n  'tempo': 126.877,\n  'type': 'audio_features',\n  'id': '6VVqPBFZIbcmv14zNfOc13',\n  'uri': 'spotify:track:6VVqPBFZIbcmv14zNfOc13',\n  'track_href': 'https://api.spotify.com/v1/tracks/6VVqPBFZIbcmv14zNfOc13',\n  'analysis_url': 'https://api.spotify.com/v1/audio-analysis/6VVqPBFZIbcmv14zNfOc13',\n  'duration_ms': 163311,\n  'time_signature': 4},\n {'danceability': 0.636,\n  'energy': 0.866,\n  'key': 4,\n  'loudness': -5.796,\n  'mode': 1,\n  'speechiness': 0.0553,\n  'acousticness': 0.243,\n  'instrumentalness': 5.42e-06,\n  'liveness': 0.371,\n  'valence': 0.963,\n  'tempo': 85.004,\n  'type': 'audio_features',\n  'id': '3YaycOQk7PoQpl7YdvmWdX',\n  'uri': 'spotify:track:3YaycOQk7PoQpl7YdvmWdX',\n  'track_href': 'https://api.spotify.com/v1/tracks/3YaycOQk7PoQpl7YdvmWdX',\n  'analysis_url': 'https://api.spotify.com/v1/audio-analysis/3YaycOQk7PoQpl7YdvmWdX',\n  'duration_ms': 191360,\n  'time_signature': 4},\n {'danceability': 0.479,\n  'energy': 0.742,\n  'key': 7,\n  'loudness': -5.587,\n  'mode': 1,\n  'speechiness': 0.0539,\n  'acousticness': 0.0069,\n  'instrumentalness': 0.000834,\n  'liveness': 0.278,\n  'valence': 0.454,\n  'tempo': 142.909,\n  'type': 'audio_features',\n  'id': '2FGOg7uYBfnspkPOISXTFY',\n  'uri': 'spotify:track:2FGOg7uYBfnspkPOISXTFY',\n  'track_href': 'https://api.spotify.com/v1/tracks/2FGOg7uYBfnspkPOISXTFY',\n  'analysis_url': 'https://api.spotify.com/v1/audio-analysis/2FGOg7uYBfnspkPOISXTFY',\n  'duration_ms': 181400,\n  'time_signature': 3},\n {'danceability': 0.478,\n  'energy': 0.516,\n  'key': 5,\n  'loudness': -7.276,\n  'mode': 1,\n  'speechiness': 0.0267,\n  'acousticness': 0.403,\n  'instrumentalness': 0,\n  'liveness': 0.0823,\n  'valence': 0.376,\n  'tempo': 80.09,\n  'type': 'audio_features',\n  'id': '5n4kMW5dn7MHFhXQuJb9zG',\n  'uri': 'spotify:track:5n4kMW5dn7MHFhXQuJb9zG',\n  'track_href': 'https://api.spotify.com/v1/tracks/5n4kMW5dn7MHFhXQuJb9zG',\n  'analysis_url': 'https://api.spotify.com/v1/audio-analysis/5n4kMW5dn7MHFhXQuJb9zG',\n  'duration_ms': 196008,\n  'time_signature': 4},\n {'danceability': 0.447,\n  'energy': 0.538,\n  'key': 5,\n  'loudness': -7.258,\n  'mode': 1,\n  'speechiness': 0.0338,\n  'acousticness': 0.119,\n  'instrumentalness': 0,\n  'liveness': 0.188,\n  'valence': 0.453,\n  'tempo': 123.746,\n  'type': 'audio_features',\n  'id': '5J8AKBaUq1WHrzrm9YWlP3',\n  'uri': 'spotify:track:5J8AKBaUq1WHrzrm9YWlP3',\n  'track_href': 'https://api.spotify.com/v1/tracks/5J8AKBaUq1WHrzrm9YWlP3',\n  'analysis_url': 'https://api.spotify.com/v1/audio-analysis/5J8AKBaUq1WHrzrm9YWlP3',\n  'duration_ms': 214239,\n  'time_signature': 3},\n {'danceability': 0.472,\n  'energy': 0.701,\n  'key': 2,\n  'loudness': -4.563,\n  'mode': 1,\n  'speechiness': 0.0369,\n  'acousticness': 0.0387,\n  'instrumentalness': 0,\n  'liveness': 0.107,\n  'valence': 0.515,\n  'tempo': 79.805,\n  'type': 'audio_features',\n  'id': '7xNYZeFtrB05pi9tc6lEeb',\n  'uri': 'spotify:track:7xNYZeFtrB05pi9tc6lEeb',\n  'track_href': 'https://api.spotify.com/v1/tracks/7xNYZeFtrB05pi9tc6lEeb',\n  'analysis_url': 'https://api.spotify.com/v1/audio-analysis/7xNYZeFtrB05pi9tc6lEeb',\n  'duration_ms': 169440,\n  'time_signature': 4},\n {'danceability': 0.599,\n  'energy': 0.899,\n  'key': 4,\n  'loudness': -3.574,\n  'mode': 1,\n  'speechiness': 0.0492,\n  'acousticness': 0.129,\n  'instrumentalness': 0,\n  'liveness': 0.333,\n  'valence': 0.792,\n  'tempo': 91.036,\n  'type': 'audio_features',\n  'id': '2CqfyB7PQznYxHNSmmF6lE',\n  'uri': 'spotify:track:2CqfyB7PQznYxHNSmmF6lE',\n  'track_href': 'https://api.spotify.com/v1/tracks/2CqfyB7PQznYxHNSmmF6lE',\n  'analysis_url': 'https://api.spotify.com/v1/audio-analysis/2CqfyB7PQznYxHNSmmF6lE',\n  'duration_ms': 179173,\n  'time_signature': 4},\n {'danceability': 0.56,\n  'energy': 0.802,\n  'key': 11,\n  'loudness': -5.428,\n  'mode': 1,\n  'speechiness': 0.0373,\n  'acousticness': 0.0863,\n  'instrumentalness': 0,\n  'liveness': 0.116,\n  'valence': 0.423,\n  'tempo': 103.059,\n  'type': 'audio_features',\n  'id': '5fjoMV6IwPKFsmm0LQuv0m',\n  'uri': 'spotify:track:5fjoMV6IwPKFsmm0LQuv0m',\n  'track_href': 'https://api.spotify.com/v1/tracks/5fjoMV6IwPKFsmm0LQuv0m',\n  'analysis_url': 'https://api.spotify.com/v1/audio-analysis/5fjoMV6IwPKFsmm0LQuv0m',\n  'duration_ms': 157213,\n  'time_signature': 3},\n {'danceability': 0.635,\n  'energy': 0.747,\n  'key': 4,\n  'loudness': -6.227,\n  'mode': 1,\n  'speechiness': 0.0293,\n  'acousticness': 0.00313,\n  'instrumentalness': 0,\n  'liveness': 0.346,\n  'valence': 0.753,\n  'tempo': 104.027,\n  'type': 'audio_features',\n  'id': '77oKig47u34qCCFWKMfu1e',\n  'uri': 'spotify:track:77oKig47u34qCCFWKMfu1e',\n  'track_href': 'https://api.spotify.com/v1/tracks/77oKig47u34qCCFWKMfu1e',\n  'analysis_url': 'https://api.spotify.com/v1/audio-analysis/77oKig47u34qCCFWKMfu1e',\n  'duration_ms': 189560,\n  'time_signature': 4},\n {'danceability': 0.533,\n  'energy': 0.663,\n  'key': 0,\n  'loudness': -4.189,\n  'mode': 1,\n  'speechiness': 0.0333,\n  'acousticness': 0.0628,\n  'instrumentalness': 0,\n  'liveness': 0.108,\n  'valence': 0.83,\n  'tempo': 175.878,\n  'type': 'audio_features',\n  'id': '0zpaxKLpHw3zCmiYcvn9OV',\n  'uri': 'spotify:track:0zpaxKLpHw3zCmiYcvn9OV',\n  'track_href': 'https://api.spotify.com/v1/tracks/0zpaxKLpHw3zCmiYcvn9OV',\n  'analysis_url': 'https://api.spotify.com/v1/audio-analysis/0zpaxKLpHw3zCmiYcvn9OV',\n  'duration_ms': 146520,\n  'time_signature': 4},\n {'danceability': 0.584,\n  'energy': 0.821,\n  'key': 9,\n  'loudness': -3.628,\n  'mode': 1,\n  'speechiness': 0.0305,\n  'acousticness': 0.01,\n  'instrumentalness': 0,\n  'liveness': 0.196,\n  'valence': 0.571,\n  'tempo': 146.0,\n  'type': 'audio_features',\n  'id': '6iai8D40xiwuktWrxcInt1',\n  'uri': 'spotify:track:6iai8D40xiwuktWrxcInt1',\n  'track_href': 'https://api.spotify.com/v1/tracks/6iai8D40xiwuktWrxcInt1',\n  'analysis_url': 'https://api.spotify.com/v1/audio-analysis/6iai8D40xiwuktWrxcInt1',\n  'duration_ms': 201733,\n  'time_signature': 4},\n {'danceability': 0.523,\n  'energy': 0.64,\n  'key': 4,\n  'loudness': -6.15,\n  'mode': 1,\n  'speechiness': 0.0295,\n  'acousticness': 0.0512,\n  'instrumentalness': 5.52e-05,\n  'liveness': 0.0675,\n  'valence': 0.48,\n  'tempo': 144.022,\n  'type': 'audio_features',\n  'id': '4jp9FimhP2bQ93vR0A5r7b',\n  'uri': 'spotify:track:4jp9FimhP2bQ93vR0A5r7b',\n  'track_href': 'https://api.spotify.com/v1/tracks/4jp9FimhP2bQ93vR0A5r7b',\n  'analysis_url': 'https://api.spotify.com/v1/audio-analysis/4jp9FimhP2bQ93vR0A5r7b',\n  'duration_ms': 230227,\n  'time_signature': 4},\n {'danceability': 0.7,\n  'energy': 0.616,\n  'key': 2,\n  'loudness': -5.82,\n  'mode': 1,\n  'speechiness': 0.0282,\n  'acousticness': 0.0176,\n  'instrumentalness': 0,\n  'liveness': 0.463,\n  'valence': 0.466,\n  'tempo': 110.059,\n  'type': 'audio_features',\n  'id': '3NIMPlnySYOfVF5Vxr4Ae1',\n  'uri': 'spotify:track:3NIMPlnySYOfVF5Vxr4Ae1',\n  'track_href': 'https://api.spotify.com/v1/tracks/3NIMPlnySYOfVF5Vxr4Ae1',\n  'analysis_url': 'https://api.spotify.com/v1/audio-analysis/3NIMPlnySYOfVF5Vxr4Ae1',\n  'duration_ms': 167533,\n  'time_signature': 4},\n {'danceability': 0.526,\n  'energy': 0.729,\n  'key': 5,\n  'loudness': -4.363,\n  'mode': 1,\n  'speechiness': 0.0333,\n  'acousticness': 0.147,\n  'instrumentalness': 0,\n  'liveness': 0.103,\n  'valence': 0.543,\n  'tempo': 140.978,\n  'type': 'audio_features',\n  'id': '4G644pINN0ZYIxyqeyuT4b',\n  'uri': 'spotify:track:4G644pINN0ZYIxyqeyuT4b',\n  'track_href': 'https://api.spotify.com/v1/tracks/4G644pINN0ZYIxyqeyuT4b',\n  'analysis_url': 'https://api.spotify.com/v1/audio-analysis/4G644pINN0ZYIxyqeyuT4b',\n  'duration_ms': 195460,\n  'time_signature': 4},\n {'danceability': 0.646,\n  'energy': 0.816,\n  'key': 6,\n  'loudness': -2.65,\n  'mode': 1,\n  'speechiness': 0.0269,\n  'acousticness': 0.00496,\n  'instrumentalness': 0,\n  'liveness': 0.179,\n  'valence': 0.865,\n  'tempo': 102.972,\n  'type': 'audio_features',\n  'id': '3SeeaIXnrCfT88vHVCRWHl',\n  'uri': 'spotify:track:3SeeaIXnrCfT88vHVCRWHl',\n  'track_href': 'https://api.spotify.com/v1/tracks/3SeeaIXnrCfT88vHVCRWHl',\n  'analysis_url': 'https://api.spotify.com/v1/audio-analysis/3SeeaIXnrCfT88vHVCRWHl',\n  'duration_ms': 181991,\n  'time_signature': 4},\n {'danceability': 0.524,\n  'energy': 0.643,\n  'key': 9,\n  'loudness': -6.055,\n  'mode': 1,\n  'speechiness': 0.0297,\n  'acousticness': 0.451,\n  'instrumentalness': 0,\n  'liveness': 0.221,\n  'valence': 0.397,\n  'tempo': 135.962,\n  'type': 'audio_features',\n  'id': '5gVCfYmQRPy1QJifP8f5gg',\n  'uri': 'spotify:track:5gVCfYmQRPy1QJifP8f5gg',\n  'track_href': 'https://api.spotify.com/v1/tracks/5gVCfYmQRPy1QJifP8f5gg',\n  'analysis_url': 'https://api.spotify.com/v1/audio-analysis/5gVCfYmQRPy1QJifP8f5gg',\n  'duration_ms': 232059,\n  'time_signature': 4},\n {'danceability': 0.796,\n  'energy': 0.621,\n  'key': 2,\n  'loudness': -6.129,\n  'mode': 1,\n  'speechiness': 0.0346,\n  'acousticness': 0.175,\n  'instrumentalness': 0,\n  'liveness': 0.274,\n  'valence': 0.808,\n  'tempo': 121.904,\n  'type': 'audio_features',\n  'id': '3zAOcNGOFq5Q1OsN0tcxA0',\n  'uri': 'spotify:track:3zAOcNGOFq5Q1OsN0tcxA0',\n  'track_href': 'https://api.spotify.com/v1/tracks/3zAOcNGOFq5Q1OsN0tcxA0',\n  'analysis_url': 'https://api.spotify.com/v1/audio-analysis/3zAOcNGOFq5Q1OsN0tcxA0',\n  'duration_ms': 151973,\n  'time_signature': 4},\n {'danceability': 0.455,\n  'energy': 0.451,\n  'key': 0,\n  'loudness': -7.544,\n  'mode': 1,\n  'speechiness': 0.0452,\n  'acousticness': 0.749,\n  'instrumentalness': 0,\n  'liveness': 0.0776,\n  'valence': 0.27,\n  'tempo': 104.662,\n  'type': 'audio_features',\n  'id': '55lJN2gIzJM9SCfwzxAEjf',\n  'uri': 'spotify:track:55lJN2gIzJM9SCfwzxAEjf',\n  'track_href': 'https://api.spotify.com/v1/tracks/55lJN2gIzJM9SCfwzxAEjf',\n  'analysis_url': 'https://api.spotify.com/v1/audio-analysis/55lJN2gIzJM9SCfwzxAEjf',\n  'duration_ms': 201294,\n  'time_signature': 4},\n {'danceability': 0.62,\n  'energy': 0.571,\n  'key': 2,\n  'loudness': -6.439,\n  'mode': 1,\n  'speechiness': 0.0339,\n  'acousticness': 0.202,\n  'instrumentalness': 0,\n  'liveness': 0.268,\n  'valence': 0.321,\n  'tempo': 149.833,\n  'type': 'audio_features',\n  'id': '1Gp7GfpmFy7DTYAWZ5wERJ',\n  'uri': 'spotify:track:1Gp7GfpmFy7DTYAWZ5wERJ',\n  'track_href': 'https://api.spotify.com/v1/tracks/1Gp7GfpmFy7DTYAWZ5wERJ',\n  'analysis_url': 'https://api.spotify.com/v1/audio-analysis/1Gp7GfpmFy7DTYAWZ5wERJ',\n  'duration_ms': 157133,\n  'time_signature': 4},\n {'danceability': 0.826,\n  'energy': 0.603,\n  'key': 1,\n  'loudness': -7.659,\n  'mode': 0,\n  'speechiness': 0.0737,\n  'acousticness': 0.0474,\n  'instrumentalness': 0,\n  'liveness': 0.0831,\n  'valence': 0.681,\n  'tempo': 107.494,\n  'type': 'audio_features',\n  'id': '4ELynSlkV4OHcBCFenFJ7U',\n  'uri': 'spotify:track:4ELynSlkV4OHcBCFenFJ7U',\n  'track_href': 'https://api.spotify.com/v1/tracks/4ELynSlkV4OHcBCFenFJ7U',\n  'analysis_url': 'https://api.spotify.com/v1/audio-analysis/4ELynSlkV4OHcBCFenFJ7U',\n  'duration_ms': 160290,\n  'time_signature': 4},\n {'danceability': 0.582,\n  'energy': 0.797,\n  'key': 5,\n  'loudness': -4.926,\n  'mode': 1,\n  'speechiness': 0.0334,\n  'acousticness': 0.23,\n  'instrumentalness': 0,\n  'liveness': 0.132,\n  'valence': 0.595,\n  'tempo': 135.973,\n  'type': 'audio_features',\n  'id': '4lSNyiHil3tuiwtvEpN1qq',\n  'uri': 'spotify:track:4lSNyiHil3tuiwtvEpN1qq',\n  'track_href': 'https://api.spotify.com/v1/tracks/4lSNyiHil3tuiwtvEpN1qq',\n  'analysis_url': 'https://api.spotify.com/v1/audio-analysis/4lSNyiHil3tuiwtvEpN1qq',\n  'duration_ms': 196027,\n  'time_signature': 4},\n {'danceability': 0.788,\n  'energy': 0.96,\n  'key': 7,\n  'loudness': -4.684,\n  'mode': 1,\n  'speechiness': 0.0499,\n  'acousticness': 0.00629,\n  'instrumentalness': 0.00673,\n  'liveness': 0.0878,\n  'valence': 0.8,\n  'tempo': 123.99,\n  'type': 'audio_features',\n  'id': '5Q4MxA344M8VyFieIC4YTk',\n  'uri': 'spotify:track:5Q4MxA344M8VyFieIC4YTk',\n  'track_href': 'https://api.spotify.com/v1/tracks/5Q4MxA344M8VyFieIC4YTk',\n  'analysis_url': 'https://api.spotify.com/v1/audio-analysis/5Q4MxA344M8VyFieIC4YTk',\n  'duration_ms': 151284,\n  'time_signature': 4},\n {'danceability': 0.681,\n  'energy': 0.851,\n  'key': 5,\n  'loudness': -4.96,\n  'mode': 0,\n  'speechiness': 0.0635,\n  'acousticness': 0.0315,\n  'instrumentalness': 0.0868,\n  'liveness': 0.443,\n  'valence': 0.221,\n  'tempo': 125.981,\n  'type': 'audio_features',\n  'id': '5FCzMiHrGRayOu12J65Syp',\n  'uri': 'spotify:track:5FCzMiHrGRayOu12J65Syp',\n  'track_href': 'https://api.spotify.com/v1/tracks/5FCzMiHrGRayOu12J65Syp',\n  'analysis_url': 'https://api.spotify.com/v1/audio-analysis/5FCzMiHrGRayOu12J65Syp',\n  'duration_ms': 224549,\n  'time_signature': 4},\n {'danceability': 0.745,\n  'energy': 0.873,\n  'key': 1,\n  'loudness': -7.619,\n  'mode': 0,\n  'speechiness': 0.0448,\n  'acousticness': 0.0367,\n  'instrumentalness': 0.298,\n  'liveness': 0.315,\n  'valence': 0.718,\n  'tempo': 125.982,\n  'type': 'audio_features',\n  'id': '5HYOVRe3chMbHoFnGxdxWC',\n  'uri': 'spotify:track:5HYOVRe3chMbHoFnGxdxWC',\n  'track_href': 'https://api.spotify.com/v1/tracks/5HYOVRe3chMbHoFnGxdxWC',\n  'analysis_url': 'https://api.spotify.com/v1/audio-analysis/5HYOVRe3chMbHoFnGxdxWC',\n  'duration_ms': 215303,\n  'time_signature': 4},\n {'danceability': 0.633,\n  'energy': 0.916,\n  'key': 7,\n  'loudness': -6.699,\n  'mode': 0,\n  'speechiness': 0.0357,\n  'acousticness': 0.0127,\n  'instrumentalness': 0.35,\n  'liveness': 0.13,\n  'valence': 0.095,\n  'tempo': 121.99,\n  'type': 'audio_features',\n  'id': '1eKSPMRzGdglxelX3kyrqc',\n  'uri': 'spotify:track:1eKSPMRzGdglxelX3kyrqc',\n  'track_href': 'https://api.spotify.com/v1/tracks/1eKSPMRzGdglxelX3kyrqc',\n  'analysis_url': 'https://api.spotify.com/v1/audio-analysis/1eKSPMRzGdglxelX3kyrqc',\n  'duration_ms': 208375,\n  'time_signature': 4},\n {'danceability': 0.644,\n  'energy': 0.887,\n  'key': 11,\n  'loudness': -6.043,\n  'mode': 0,\n  'speechiness': 0.0348,\n  'acousticness': 0.000342,\n  'instrumentalness': 0.826,\n  'liveness': 0.0956,\n  'valence': 0.277,\n  'tempo': 129.99,\n  'type': 'audio_features',\n  'id': '4aFUd8Kilk401OLNMugJDg',\n  'uri': 'spotify:track:4aFUd8Kilk401OLNMugJDg',\n  'track_href': 'https://api.spotify.com/v1/tracks/4aFUd8Kilk401OLNMugJDg',\n  'analysis_url': 'https://api.spotify.com/v1/audio-analysis/4aFUd8Kilk401OLNMugJDg',\n  'duration_ms': 275077,\n  'time_signature': 4},\n {'danceability': 0.606,\n  'energy': 0.956,\n  'key': 3,\n  'loudness': -5.087,\n  'mode': 0,\n  'speechiness': 0.062,\n  'acousticness': 0.00145,\n  'instrumentalness': 0.721,\n  'liveness': 0.266,\n  'valence': 0.368,\n  'tempo': 135.008,\n  'type': 'audio_features',\n  'id': '5Gz4ahf3fZ8j21qGGfGjot',\n  'uri': 'spotify:track:5Gz4ahf3fZ8j21qGGfGjot',\n  'track_href': 'https://api.spotify.com/v1/tracks/5Gz4ahf3fZ8j21qGGfGjot',\n  'analysis_url': 'https://api.spotify.com/v1/audio-analysis/5Gz4ahf3fZ8j21qGGfGjot',\n  'duration_ms': 136000,\n  'time_signature': 4},\n {'danceability': 0.728,\n  'energy': 0.882,\n  'key': 6,\n  'loudness': -8.083,\n  'mode': 0,\n  'speechiness': 0.0508,\n  'acousticness': 0.257,\n  'instrumentalness': 0.441,\n  'liveness': 0.111,\n  'valence': 0.211,\n  'tempo': 125.005,\n  'type': 'audio_features',\n  'id': '4PZunWMdRDz63eZHAzoeD2',\n  'uri': 'spotify:track:4PZunWMdRDz63eZHAzoeD2',\n  'track_href': 'https://api.spotify.com/v1/tracks/4PZunWMdRDz63eZHAzoeD2',\n  'analysis_url': 'https://api.spotify.com/v1/audio-analysis/4PZunWMdRDz63eZHAzoeD2',\n  'duration_ms': 199680,\n  'time_signature': 4},\n {'danceability': 0.746,\n  'energy': 0.923,\n  'key': 0,\n  'loudness': -5.035,\n  'mode': 1,\n  'speechiness': 0.0424,\n  'acousticness': 0.000415,\n  'instrumentalness': 0.254,\n  'liveness': 0.1,\n  'valence': 0.472,\n  'tempo': 124.989,\n  'type': 'audio_features',\n  'id': '2bo8HF4dpbfJrxD6gaW3BJ',\n  'uri': 'spotify:track:2bo8HF4dpbfJrxD6gaW3BJ',\n  'track_href': 'https://api.spotify.com/v1/tracks/2bo8HF4dpbfJrxD6gaW3BJ',\n  'analysis_url': 'https://api.spotify.com/v1/audio-analysis/2bo8HF4dpbfJrxD6gaW3BJ',\n  'duration_ms': 172431,\n  'time_signature': 4},\n {'danceability': 0.806,\n  'energy': 0.795,\n  'key': 11,\n  'loudness': -6.608,\n  'mode': 0,\n  'speechiness': 0.0701,\n  'acousticness': 0.000728,\n  'instrumentalness': 0.695,\n  'liveness': 0.0763,\n  'valence': 0.78,\n  'tempo': 126.007,\n  'type': 'audio_features',\n  'id': '5DbvVp3W55HN5igEic72Xs',\n  'uri': 'spotify:track:5DbvVp3W55HN5igEic72Xs',\n  'track_href': 'https://api.spotify.com/v1/tracks/5DbvVp3W55HN5igEic72Xs',\n  'analysis_url': 'https://api.spotify.com/v1/audio-analysis/5DbvVp3W55HN5igEic72Xs',\n  'duration_ms': 154286,\n  'time_signature': 4},\n {'danceability': 0.688,\n  'energy': 0.907,\n  'key': 6,\n  'loudness': -6.927,\n  'mode': 0,\n  'speechiness': 0.0463,\n  'acousticness': 0.358,\n  'instrumentalness': 0.853,\n  'liveness': 0.149,\n  'valence': 0.151,\n  'tempo': 130.001,\n  'type': 'audio_features',\n  'id': '6Kv4u43WIqxp6eBTXaaCiM',\n  'uri': 'spotify:track:6Kv4u43WIqxp6eBTXaaCiM',\n  'track_href': 'https://api.spotify.com/v1/tracks/6Kv4u43WIqxp6eBTXaaCiM',\n  'analysis_url': 'https://api.spotify.com/v1/audio-analysis/6Kv4u43WIqxp6eBTXaaCiM',\n  'duration_ms': 211385,\n  'time_signature': 4},\n {'danceability': 0.912,\n  'energy': 0.629,\n  'key': 1,\n  'loudness': -11.573,\n  'mode': 0,\n  'speechiness': 0.221,\n  'acousticness': 0.0179,\n  'instrumentalness': 0.559,\n  'liveness': 0.101,\n  'valence': 0.618,\n  'tempo': 128.016,\n  'type': 'audio_features',\n  'id': '6DgKCYTAQno5ITP7WvE6XW',\n  'uri': 'spotify:track:6DgKCYTAQno5ITP7WvE6XW',\n  'track_href': 'https://api.spotify.com/v1/tracks/6DgKCYTAQno5ITP7WvE6XW',\n  'analysis_url': 'https://api.spotify.com/v1/audio-analysis/6DgKCYTAQno5ITP7WvE6XW',\n  'duration_ms': 211538,\n  'time_signature': 4},\n {'danceability': 0.626,\n  'energy': 0.672,\n  'key': 1,\n  'loudness': -6.806,\n  'mode': 1,\n  'speechiness': 0.0689,\n  'acousticness': 0.0704,\n  'instrumentalness': 0.463,\n  'liveness': 0.131,\n  'valence': 0.0389,\n  'tempo': 173.958,\n  'type': 'audio_features',\n  'id': '1xeOJfKycH2GR5UDwDNjzu',\n  'uri': 'spotify:track:1xeOJfKycH2GR5UDwDNjzu',\n  'track_href': 'https://api.spotify.com/v1/tracks/1xeOJfKycH2GR5UDwDNjzu',\n  'analysis_url': 'https://api.spotify.com/v1/audio-analysis/1xeOJfKycH2GR5UDwDNjzu',\n  'duration_ms': 148297,\n  'time_signature': 4},\n {'danceability': 0.732,\n  'energy': 0.806,\n  'key': 3,\n  'loudness': -4.757,\n  'mode': 0,\n  'speechiness': 0.0671,\n  'acousticness': 0.0685,\n  'instrumentalness': 6.78e-06,\n  'liveness': 0.182,\n  'valence': 0.251,\n  'tempo': 87.487,\n  'type': 'audio_features',\n  'id': '1DcFYXbOSWr18OHlfp7Qng',\n  'uri': 'spotify:track:1DcFYXbOSWr18OHlfp7Qng',\n  'track_href': 'https://api.spotify.com/v1/tracks/1DcFYXbOSWr18OHlfp7Qng',\n  'analysis_url': 'https://api.spotify.com/v1/audio-analysis/1DcFYXbOSWr18OHlfp7Qng',\n  'duration_ms': 187400,\n  'time_signature': 4},\n {'danceability': 0.34,\n  'energy': 0.928,\n  'key': 0,\n  'loudness': -3.172,\n  'mode': 0,\n  'speechiness': 0.0623,\n  'acousticness': 0.000138,\n  'instrumentalness': 0.0143,\n  'liveness': 0.11,\n  'valence': 0.0673,\n  'tempo': 173.943,\n  'type': 'audio_features',\n  'id': '4yJmqZJmrXOiY3i8eWoxxq',\n  'uri': 'spotify:track:4yJmqZJmrXOiY3i8eWoxxq',\n  'track_href': 'https://api.spotify.com/v1/tracks/4yJmqZJmrXOiY3i8eWoxxq',\n  'analysis_url': 'https://api.spotify.com/v1/audio-analysis/4yJmqZJmrXOiY3i8eWoxxq',\n  'duration_ms': 226896,\n  'time_signature': 4},\n {'danceability': 0.602,\n  'energy': 0.862,\n  'key': 9,\n  'loudness': -7.527,\n  'mode': 0,\n  'speechiness': 0.0297,\n  'acousticness': 0.0107,\n  'instrumentalness': 0.00519,\n  'liveness': 0.139,\n  'valence': 0.287,\n  'tempo': 118.001,\n  'type': 'audio_features',\n  'id': '053bbGyTwKCwmSzE78G2Us',\n  'uri': 'spotify:track:053bbGyTwKCwmSzE78G2Us',\n  'track_href': 'https://api.spotify.com/v1/tracks/053bbGyTwKCwmSzE78G2Us',\n  'analysis_url': 'https://api.spotify.com/v1/audio-analysis/053bbGyTwKCwmSzE78G2Us',\n  'duration_ms': 185697,\n  'time_signature': 4},\n {'danceability': 0.773,\n  'energy': 0.81,\n  'key': 5,\n  'loudness': -6.794,\n  'mode': 0,\n  'speechiness': 0.0371,\n  'acousticness': 0.000943,\n  'instrumentalness': 0.0541,\n  'liveness': 0.379,\n  'valence': 0.343,\n  'tempo': 123.991,\n  'type': 'audio_features',\n  'id': '2kpOZP2szJea4TExBH2DJu',\n  'uri': 'spotify:track:2kpOZP2szJea4TExBH2DJu',\n  'track_href': 'https://api.spotify.com/v1/tracks/2kpOZP2szJea4TExBH2DJu',\n  'analysis_url': 'https://api.spotify.com/v1/audio-analysis/2kpOZP2szJea4TExBH2DJu',\n  'duration_ms': 193548,\n  'time_signature': 4},\n {'danceability': 0.717,\n  'energy': 0.763,\n  'key': 2,\n  'loudness': -5.178,\n  'mode': 1,\n  'speechiness': 0.0559,\n  'acousticness': 0.0437,\n  'instrumentalness': 6.02e-05,\n  'liveness': 0.154,\n  'valence': 0.741,\n  'tempo': 126.002,\n  'type': 'audio_features',\n  'id': '49yvk8qS9L7I5aDeIMSutb',\n  'uri': 'spotify:track:49yvk8qS9L7I5aDeIMSutb',\n  'track_href': 'https://api.spotify.com/v1/tracks/49yvk8qS9L7I5aDeIMSutb',\n  'analysis_url': 'https://api.spotify.com/v1/audio-analysis/49yvk8qS9L7I5aDeIMSutb',\n  'duration_ms': 223283,\n  'time_signature': 4},\n {'danceability': 0.879,\n  'energy': 0.769,\n  'key': 9,\n  'loudness': -3.59,\n  'mode': 1,\n  'speechiness': 0.0859,\n  'acousticness': 0.0285,\n  'instrumentalness': 0.00171,\n  'liveness': 0.116,\n  'valence': 0.751,\n  'tempo': 120.023,\n  'type': 'audio_features',\n  'id': '2SDG2dYcoW5ksPGsiFGt7V',\n  'uri': 'spotify:track:2SDG2dYcoW5ksPGsiFGt7V',\n  'track_href': 'https://api.spotify.com/v1/tracks/2SDG2dYcoW5ksPGsiFGt7V',\n  'analysis_url': 'https://api.spotify.com/v1/audio-analysis/2SDG2dYcoW5ksPGsiFGt7V',\n  'duration_ms': 139616,\n  'time_signature': 4},\n {'danceability': 0.666,\n  'energy': 0.906,\n  'key': 0,\n  'loudness': -4.938,\n  'mode': 1,\n  'speechiness': 0.0446,\n  'acousticness': 0.0196,\n  'instrumentalness': 0.000346,\n  'liveness': 0.0947,\n  'valence': 0.659,\n  'tempo': 120.94,\n  'type': 'audio_features',\n  'id': '2KN5wY5R4gXbka8wB2kXh8',\n  'uri': 'spotify:track:2KN5wY5R4gXbka8wB2kXh8',\n  'track_href': 'https://api.spotify.com/v1/tracks/2KN5wY5R4gXbka8wB2kXh8',\n  'analysis_url': 'https://api.spotify.com/v1/audio-analysis/2KN5wY5R4gXbka8wB2kXh8',\n  'duration_ms': 142335,\n  'time_signature': 4},\n {'danceability': 0.66,\n  'energy': 0.835,\n  'key': 1,\n  'loudness': -7.018,\n  'mode': 1,\n  'speechiness': 0.0787,\n  'acousticness': 0.102,\n  'instrumentalness': 0.00662,\n  'liveness': 0.0751,\n  'valence': 0.488,\n  'tempo': 121.971,\n  'type': 'audio_features',\n  'id': '06e5O2EVUkUIRrDGGXsegJ',\n  'uri': 'spotify:track:06e5O2EVUkUIRrDGGXsegJ',\n  'track_href': 'https://api.spotify.com/v1/tracks/06e5O2EVUkUIRrDGGXsegJ',\n  'analysis_url': 'https://api.spotify.com/v1/audio-analysis/06e5O2EVUkUIRrDGGXsegJ',\n  'duration_ms': 196721,\n  'time_signature': 4},\n {'danceability': 0.754,\n  'energy': 0.72,\n  'key': 10,\n  'loudness': -5.041,\n  'mode': 0,\n  'speechiness': 0.109,\n  'acousticness': 0.0522,\n  'instrumentalness': 0,\n  'liveness': 0.219,\n  'valence': 0.811,\n  'tempo': 121.967,\n  'type': 'audio_features',\n  'id': '6uMw8SDp0npgOKO0pbmmPZ',\n  'uri': 'spotify:track:6uMw8SDp0npgOKO0pbmmPZ',\n  'track_href': 'https://api.spotify.com/v1/tracks/6uMw8SDp0npgOKO0pbmmPZ',\n  'analysis_url': 'https://api.spotify.com/v1/audio-analysis/6uMw8SDp0npgOKO0pbmmPZ',\n  'duration_ms': 146066,\n  'time_signature': 4},\n {'danceability': 0.543,\n  'energy': 0.844,\n  'key': 1,\n  'loudness': -4.07,\n  'mode': 0,\n  'speechiness': 0.0482,\n  'acousticness': 0.00685,\n  'instrumentalness': 0.00507,\n  'liveness': 0.831,\n  'valence': 0.207,\n  'tempo': 119.959,\n  'type': 'audio_features',\n  'id': '25lRM5gnPkkOt92N0TZHfX',\n  'uri': 'spotify:track:25lRM5gnPkkOt92N0TZHfX',\n  'track_href': 'https://api.spotify.com/v1/tracks/25lRM5gnPkkOt92N0TZHfX',\n  'analysis_url': 'https://api.spotify.com/v1/audio-analysis/25lRM5gnPkkOt92N0TZHfX',\n  'duration_ms': 180594,\n  'time_signature': 4},\n {'danceability': 0.741,\n  'energy': 0.826,\n  'key': 5,\n  'loudness': -5.147,\n  'mode': 0,\n  'speechiness': 0.0529,\n  'acousticness': 0.0749,\n  'instrumentalness': 0.000623,\n  'liveness': 0.142,\n  'valence': 0.549,\n  'tempo': 123.998,\n  'type': 'audio_features',\n  'id': '4HgPdfsZJa23uioLcQOefo',\n  'uri': 'spotify:track:4HgPdfsZJa23uioLcQOefo',\n  'track_href': 'https://api.spotify.com/v1/tracks/4HgPdfsZJa23uioLcQOefo',\n  'analysis_url': 'https://api.spotify.com/v1/audio-analysis/4HgPdfsZJa23uioLcQOefo',\n  'duration_ms': 166466,\n  'time_signature': 4},\n {'danceability': 0.612,\n  'energy': 0.925,\n  'key': 1,\n  'loudness': -9.586,\n  'mode': 1,\n  'speechiness': 0.0367,\n  'acousticness': 0.00443,\n  'instrumentalness': 0.604,\n  'liveness': 0.138,\n  'valence': 0.0397,\n  'tempo': 123.999,\n  'type': 'audio_features',\n  'id': '3YEofHNLCwtG0Xg6e9AfC6',\n  'uri': 'spotify:track:3YEofHNLCwtG0Xg6e9AfC6',\n  'track_href': 'https://api.spotify.com/v1/tracks/3YEofHNLCwtG0Xg6e9AfC6',\n  'analysis_url': 'https://api.spotify.com/v1/audio-analysis/3YEofHNLCwtG0Xg6e9AfC6',\n  'duration_ms': 278710,\n  'time_signature': 4},\n {'danceability': 0.834,\n  'energy': 0.63,\n  'key': 1,\n  'loudness': -5.727,\n  'mode': 1,\n  'speechiness': 0.0422,\n  'acousticness': 0.00838,\n  'instrumentalness': 0.00254,\n  'liveness': 0.0963,\n  'valence': 0.416,\n  'tempo': 120.004,\n  'type': 'audio_features',\n  'id': '5nz5inh9IXoP7wwi2hi8kO',\n  'uri': 'spotify:track:5nz5inh9IXoP7wwi2hi8kO',\n  'track_href': 'https://api.spotify.com/v1/tracks/5nz5inh9IXoP7wwi2hi8kO',\n  'analysis_url': 'https://api.spotify.com/v1/audio-analysis/5nz5inh9IXoP7wwi2hi8kO',\n  'duration_ms': 192614,\n  'time_signature': 4},\n {'danceability': 0.705,\n  'energy': 0.759,\n  'key': 11,\n  'loudness': -4.547,\n  'mode': 0,\n  'speechiness': 0.156,\n  'acousticness': 0.0686,\n  'instrumentalness': 0.000246,\n  'liveness': 0.375,\n  'valence': 0.625,\n  'tempo': 118.019,\n  'type': 'audio_features',\n  'id': '57Zhe3iZ0PGDXm5qpeoXIh',\n  'uri': 'spotify:track:57Zhe3iZ0PGDXm5qpeoXIh',\n  'track_href': 'https://api.spotify.com/v1/tracks/57Zhe3iZ0PGDXm5qpeoXIh',\n  'analysis_url': 'https://api.spotify.com/v1/audio-analysis/57Zhe3iZ0PGDXm5qpeoXIh',\n  'duration_ms': 166780,\n  'time_signature': 4},\n {'danceability': 0.848,\n  'energy': 0.744,\n  'key': 0,\n  'loudness': -4.316,\n  'mode': 1,\n  'speechiness': 0.3,\n  'acousticness': 0.0846,\n  'instrumentalness': 0,\n  'liveness': 0.142,\n  'valence': 0.957,\n  'tempo': 112.037,\n  'type': 'audio_features',\n  'id': '7dSQHfnJSK0SzmPpiuNrlC',\n  'uri': 'spotify:track:7dSQHfnJSK0SzmPpiuNrlC',\n  'track_href': 'https://api.spotify.com/v1/tracks/7dSQHfnJSK0SzmPpiuNrlC',\n  'analysis_url': 'https://api.spotify.com/v1/audio-analysis/7dSQHfnJSK0SzmPpiuNrlC',\n  'duration_ms': 159107,\n  'time_signature': 4},\n {'danceability': 0.868,\n  'energy': 0.746,\n  'key': 0,\n  'loudness': -7.54,\n  'mode': 0,\n  'speechiness': 0.099,\n  'acousticness': 0.0373,\n  'instrumentalness': 0.153,\n  'liveness': 0.11,\n  'valence': 0.113,\n  'tempo': 122.015,\n  'type': 'audio_features',\n  'id': '4gYwnkWNrORyaDgBj5V8ri',\n  'uri': 'spotify:track:4gYwnkWNrORyaDgBj5V8ri',\n  'track_href': 'https://api.spotify.com/v1/tracks/4gYwnkWNrORyaDgBj5V8ri',\n  'analysis_url': 'https://api.spotify.com/v1/audio-analysis/4gYwnkWNrORyaDgBj5V8ri',\n  'duration_ms': 159137,\n  'time_signature': 4},\n {'danceability': 0.666,\n  'energy': 0.776,\n  'key': 4,\n  'loudness': -9.025,\n  'mode': 0,\n  'speechiness': 0.0391,\n  'acousticness': 0.265,\n  'instrumentalness': 0.0298,\n  'liveness': 0.379,\n  'valence': 0.442,\n  'tempo': 126.989,\n  'type': 'audio_features',\n  'id': '1pz4k8r1OPeNBeAGmi9gL9',\n  'uri': 'spotify:track:1pz4k8r1OPeNBeAGmi9gL9',\n  'track_href': 'https://api.spotify.com/v1/tracks/1pz4k8r1OPeNBeAGmi9gL9',\n  'analysis_url': 'https://api.spotify.com/v1/audio-analysis/1pz4k8r1OPeNBeAGmi9gL9',\n  'duration_ms': 186541,\n  'time_signature': 4},\n {'danceability': 0.627,\n  'energy': 0.902,\n  'key': 6,\n  'loudness': -5.149,\n  'mode': 0,\n  'speechiness': 0.0384,\n  'acousticness': 0.0105,\n  'instrumentalness': 0.952,\n  'liveness': 0.0997,\n  'valence': 0.135,\n  'tempo': 128.021,\n  'type': 'audio_features',\n  'id': '7cmpWAZsamIlIiyU1aMGZD',\n  'uri': 'spotify:track:7cmpWAZsamIlIiyU1aMGZD',\n  'track_href': 'https://api.spotify.com/v1/tracks/7cmpWAZsamIlIiyU1aMGZD',\n  'analysis_url': 'https://api.spotify.com/v1/audio-analysis/7cmpWAZsamIlIiyU1aMGZD',\n  'duration_ms': 178594,\n  'time_signature': 4},\n {'danceability': 0.693,\n  'energy': 0.845,\n  'key': 9,\n  'loudness': -3.27,\n  'mode': 1,\n  'speechiness': 0.0348,\n  'acousticness': 0.0127,\n  'instrumentalness': 1.84e-06,\n  'liveness': 0.169,\n  'valence': 0.498,\n  'tempo': 125.009,\n  'type': 'audio_features',\n  'id': '1h4zfNDe8UapUvTuaDsTuM',\n  'uri': 'spotify:track:1h4zfNDe8UapUvTuaDsTuM',\n  'track_href': 'https://api.spotify.com/v1/tracks/1h4zfNDe8UapUvTuaDsTuM',\n  'analysis_url': 'https://api.spotify.com/v1/audio-analysis/1h4zfNDe8UapUvTuaDsTuM',\n  'duration_ms': 169440,\n  'time_signature': 4},\n {'danceability': 0.779,\n  'energy': 0.833,\n  'key': 9,\n  'loudness': -5.978,\n  'mode': 0,\n  'speechiness': 0.043,\n  'acousticness': 0.0128,\n  'instrumentalness': 0.0299,\n  'liveness': 0.0633,\n  'valence': 0.687,\n  'tempo': 125.005,\n  'type': 'audio_features',\n  'id': '7IPdXJf4DEisUUL0WqTcKL',\n  'uri': 'spotify:track:7IPdXJf4DEisUUL0WqTcKL',\n  'track_href': 'https://api.spotify.com/v1/tracks/7IPdXJf4DEisUUL0WqTcKL',\n  'analysis_url': 'https://api.spotify.com/v1/audio-analysis/7IPdXJf4DEisUUL0WqTcKL',\n  'duration_ms': 186265,\n  'time_signature': 4},\n {'danceability': 0.561,\n  'energy': 0.957,\n  'key': 11,\n  'loudness': -5.926,\n  'mode': 0,\n  'speechiness': 0.0362,\n  'acousticness': 0.000589,\n  'instrumentalness': 0.322,\n  'liveness': 0.417,\n  'valence': 0.13,\n  'tempo': 123.976,\n  'type': 'audio_features',\n  'id': '4HcOBdrcaCmh29ogaEiE5n',\n  'uri': 'spotify:track:4HcOBdrcaCmh29ogaEiE5n',\n  'track_href': 'https://api.spotify.com/v1/tracks/4HcOBdrcaCmh29ogaEiE5n',\n  'analysis_url': 'https://api.spotify.com/v1/audio-analysis/4HcOBdrcaCmh29ogaEiE5n',\n  'duration_ms': 210000,\n  'time_signature': 4},\n {'danceability': 0.764,\n  'energy': 0.595,\n  'key': 1,\n  'loudness': -9.233,\n  'mode': 0,\n  'speechiness': 0.0441,\n  'acousticness': 0.0224,\n  'instrumentalness': 0.00178,\n  'liveness': 0.109,\n  'valence': 0.371,\n  'tempo': 121.018,\n  'type': 'audio_features',\n  'id': '5WnnOy3qXPS8qOwl3U5KWX',\n  'uri': 'spotify:track:5WnnOy3qXPS8qOwl3U5KWX',\n  'track_href': 'https://api.spotify.com/v1/tracks/5WnnOy3qXPS8qOwl3U5KWX',\n  'analysis_url': 'https://api.spotify.com/v1/audio-analysis/5WnnOy3qXPS8qOwl3U5KWX',\n  'duration_ms': 208264,\n  'time_signature': 4},\n {'danceability': 0.779,\n  'energy': 0.801,\n  'key': 6,\n  'loudness': -7.774,\n  'mode': 0,\n  'speechiness': 0.0541,\n  'acousticness': 9.23e-05,\n  'instrumentalness': 0.412,\n  'liveness': 0.0533,\n  'valence': 0.637,\n  'tempo': 123.984,\n  'type': 'audio_features',\n  'id': '60LqGQ9H0edzxwy2xhH5Sr',\n  'uri': 'spotify:track:60LqGQ9H0edzxwy2xhH5Sr',\n  'track_href': 'https://api.spotify.com/v1/tracks/60LqGQ9H0edzxwy2xhH5Sr',\n  'analysis_url': 'https://api.spotify.com/v1/audio-analysis/60LqGQ9H0edzxwy2xhH5Sr',\n  'duration_ms': 164747,\n  'time_signature': 4},\n {'danceability': 0.745,\n  'energy': 0.881,\n  'key': 5,\n  'loudness': -6.228,\n  'mode': 0,\n  'speechiness': 0.089,\n  'acousticness': 0.0396,\n  'instrumentalness': 0.255,\n  'liveness': 0.0704,\n  'valence': 0.626,\n  'tempo': 123.0,\n  'type': 'audio_features',\n  'id': '1Xxa1bDLOyCK5ck8gu8hpg',\n  'uri': 'spotify:track:1Xxa1bDLOyCK5ck8gu8hpg',\n  'track_href': 'https://api.spotify.com/v1/tracks/1Xxa1bDLOyCK5ck8gu8hpg',\n  'analysis_url': 'https://api.spotify.com/v1/audio-analysis/1Xxa1bDLOyCK5ck8gu8hpg',\n  'duration_ms': 158074,\n  'time_signature': 4},\n {'danceability': 0.857,\n  'energy': 0.919,\n  'key': 7,\n  'loudness': -5.293,\n  'mode': 0,\n  'speechiness': 0.11,\n  'acousticness': 0.0216,\n  'instrumentalness': 0.000878,\n  'liveness': 0.373,\n  'valence': 0.89,\n  'tempo': 124.979,\n  'type': 'audio_features',\n  'id': '6r6hSnqlIvtpPFZMiM0LEy',\n  'uri': 'spotify:track:6r6hSnqlIvtpPFZMiM0LEy',\n  'track_href': 'https://api.spotify.com/v1/tracks/6r6hSnqlIvtpPFZMiM0LEy',\n  'analysis_url': 'https://api.spotify.com/v1/audio-analysis/6r6hSnqlIvtpPFZMiM0LEy',\n  'duration_ms': 220967,\n  'time_signature': 4},\n {'danceability': 0.76,\n  'energy': 0.558,\n  'key': 0,\n  'loudness': -5.495,\n  'mode': 0,\n  'speechiness': 0.0563,\n  'acousticness': 0.00107,\n  'instrumentalness': 0.905,\n  'liveness': 0.292,\n  'valence': 0.0717,\n  'tempo': 127.026,\n  'type': 'audio_features',\n  'id': '5b58AS0u6Xr4vaxWnY2C1n',\n  'uri': 'spotify:track:5b58AS0u6Xr4vaxWnY2C1n',\n  'track_href': 'https://api.spotify.com/v1/tracks/5b58AS0u6Xr4vaxWnY2C1n',\n  'analysis_url': 'https://api.spotify.com/v1/audio-analysis/5b58AS0u6Xr4vaxWnY2C1n',\n  'duration_ms': 195118,\n  'time_signature': 4},\n {'danceability': 0.667,\n  'energy': 0.676,\n  'key': 9,\n  'loudness': -4.811,\n  'mode': 0,\n  'speechiness': 0.0651,\n  'acousticness': 0.0275,\n  'instrumentalness': 5.69e-05,\n  'liveness': 0.224,\n  'valence': 0.407,\n  'tempo': 126.036,\n  'type': 'audio_features',\n  'id': '2AAMkITmFcCL9MtTKFui2k',\n  'uri': 'spotify:track:2AAMkITmFcCL9MtTKFui2k',\n  'track_href': 'https://api.spotify.com/v1/tracks/2AAMkITmFcCL9MtTKFui2k',\n  'analysis_url': 'https://api.spotify.com/v1/audio-analysis/2AAMkITmFcCL9MtTKFui2k',\n  'duration_ms': 163832,\n  'time_signature': 4},\n {'danceability': 0.673,\n  'energy': 0.837,\n  'key': 6,\n  'loudness': -5.324,\n  'mode': 1,\n  'speechiness': 0.0983,\n  'acousticness': 0.0469,\n  'instrumentalness': 1.69e-05,\n  'liveness': 0.109,\n  'valence': 0.446,\n  'tempo': 124.985,\n  'type': 'audio_features',\n  'id': '27cOULnIkVv1nFDmTZECkE',\n  'uri': 'spotify:track:27cOULnIkVv1nFDmTZECkE',\n  'track_href': 'https://api.spotify.com/v1/tracks/27cOULnIkVv1nFDmTZECkE',\n  'analysis_url': 'https://api.spotify.com/v1/audio-analysis/27cOULnIkVv1nFDmTZECkE',\n  'duration_ms': 168990,\n  'time_signature': 3},\n {'danceability': 0.804,\n  'energy': 0.803,\n  'key': 1,\n  'loudness': -8.237,\n  'mode': 1,\n  'speechiness': 0.0501,\n  'acousticness': 0.000732,\n  'instrumentalness': 0.877,\n  'liveness': 0.0932,\n  'valence': 0.0721,\n  'tempo': 119.998,\n  'type': 'audio_features',\n  'id': '6iNhl5IcRJfm3F42plOPA4',\n  'uri': 'spotify:track:6iNhl5IcRJfm3F42plOPA4',\n  'track_href': 'https://api.spotify.com/v1/tracks/6iNhl5IcRJfm3F42plOPA4',\n  'analysis_url': 'https://api.spotify.com/v1/audio-analysis/6iNhl5IcRJfm3F42plOPA4',\n  'duration_ms': 546472,\n  'time_signature': 4},\n {'danceability': 0.613,\n  'energy': 0.845,\n  'key': 7,\n  'loudness': -6.731,\n  'mode': 1,\n  'speechiness': 0.0369,\n  'acousticness': 0.0156,\n  'instrumentalness': 0.309,\n  'liveness': 0.375,\n  'valence': 0.29,\n  'tempo': 124.986,\n  'type': 'audio_features',\n  'id': '65d4aua5FrYn9CyKfmABR4',\n  'uri': 'spotify:track:65d4aua5FrYn9CyKfmABR4',\n  'track_href': 'https://api.spotify.com/v1/tracks/65d4aua5FrYn9CyKfmABR4',\n  'analysis_url': 'https://api.spotify.com/v1/audio-analysis/65d4aua5FrYn9CyKfmABR4',\n  'duration_ms': 217080,\n  'time_signature': 4},\n {'danceability': 0.831,\n  'energy': 0.707,\n  'key': 6,\n  'loudness': -8.263,\n  'mode': 0,\n  'speechiness': 0.0567,\n  'acousticness': 0.0309,\n  'instrumentalness': 0.815,\n  'liveness': 0.948,\n  'valence': 0.848,\n  'tempo': 126.015,\n  'type': 'audio_features',\n  'id': '0NUhccl4bo79EUsmFyAMHi',\n  'uri': 'spotify:track:0NUhccl4bo79EUsmFyAMHi',\n  'track_href': 'https://api.spotify.com/v1/tracks/0NUhccl4bo79EUsmFyAMHi',\n  'analysis_url': 'https://api.spotify.com/v1/audio-analysis/0NUhccl4bo79EUsmFyAMHi',\n  'duration_ms': 188968,\n  'time_signature': 4},\n {'danceability': 0.707,\n  'energy': 0.815,\n  'key': 7,\n  'loudness': -6.2,\n  'mode': 1,\n  'speechiness': 0.147,\n  'acousticness': 0.00499,\n  'instrumentalness': 0.828,\n  'liveness': 0.0874,\n  'valence': 0.148,\n  'tempo': 133.024,\n  'type': 'audio_features',\n  'id': '7K3OyIuvYF1qcwr4xqILeu',\n  'uri': 'spotify:track:7K3OyIuvYF1qcwr4xqILeu',\n  'track_href': 'https://api.spotify.com/v1/tracks/7K3OyIuvYF1qcwr4xqILeu',\n  'analysis_url': 'https://api.spotify.com/v1/audio-analysis/7K3OyIuvYF1qcwr4xqILeu',\n  'duration_ms': 206626,\n  'time_signature': 4},\n {'danceability': 0.738,\n  'energy': 0.91,\n  'key': 9,\n  'loudness': -8.938,\n  'mode': 0,\n  'speechiness': 0.107,\n  'acousticness': 0.00118,\n  'instrumentalness': 0.874,\n  'liveness': 0.0939,\n  'valence': 0.124,\n  'tempo': 137.022,\n  'type': 'audio_features',\n  'id': '6cKTcheUC3OHDMI8QMKp08',\n  'uri': 'spotify:track:6cKTcheUC3OHDMI8QMKp08',\n  'track_href': 'https://api.spotify.com/v1/tracks/6cKTcheUC3OHDMI8QMKp08',\n  'analysis_url': 'https://api.spotify.com/v1/audio-analysis/6cKTcheUC3OHDMI8QMKp08',\n  'duration_ms': 400625,\n  'time_signature': 4},\n {'danceability': 0.725,\n  'energy': 0.904,\n  'key': 7,\n  'loudness': -5.065,\n  'mode': 1,\n  'speechiness': 0.0466,\n  'acousticness': 0.0113,\n  'instrumentalness': 0.0129,\n  'liveness': 0.244,\n  'valence': 0.601,\n  'tempo': 125.958,\n  'type': 'audio_features',\n  'id': '50HnUVr7bXyCKsvxQ3kGwh',\n  'uri': 'spotify:track:50HnUVr7bXyCKsvxQ3kGwh',\n  'track_href': 'https://api.spotify.com/v1/tracks/50HnUVr7bXyCKsvxQ3kGwh',\n  'analysis_url': 'https://api.spotify.com/v1/audio-analysis/50HnUVr7bXyCKsvxQ3kGwh',\n  'duration_ms': 144762,\n  'time_signature': 4},\n {'danceability': 0.474,\n  'energy': 0.571,\n  'key': 8,\n  'loudness': -6.671,\n  'mode': 1,\n  'speechiness': 0.0397,\n  'acousticness': 0.174,\n  'instrumentalness': 0,\n  'liveness': 0.142,\n  'valence': 0.152,\n  'tempo': 132.108,\n  'type': 'audio_features',\n  'id': '0ow0OPJOJKhvFvWyLqcHFJ',\n  'uri': 'spotify:track:0ow0OPJOJKhvFvWyLqcHFJ',\n  'track_href': 'https://api.spotify.com/v1/tracks/0ow0OPJOJKhvFvWyLqcHFJ',\n  'analysis_url': 'https://api.spotify.com/v1/audio-analysis/0ow0OPJOJKhvFvWyLqcHFJ',\n  'duration_ms': 383636,\n  'time_signature': 4},\n {'danceability': 0.714,\n  'energy': 0.625,\n  'key': 10,\n  'loudness': -11.517,\n  'mode': 0,\n  'speechiness': 0.0458,\n  'acousticness': 0.227,\n  'instrumentalness': 0.743,\n  'liveness': 0.131,\n  'valence': 0.294,\n  'tempo': 127.977,\n  'type': 'audio_features',\n  'id': '0ZGTKMUfj3pbKbTjMCCuEQ',\n  'uri': 'spotify:track:0ZGTKMUfj3pbKbTjMCCuEQ',\n  'track_href': 'https://api.spotify.com/v1/tracks/0ZGTKMUfj3pbKbTjMCCuEQ',\n  'analysis_url': 'https://api.spotify.com/v1/audio-analysis/0ZGTKMUfj3pbKbTjMCCuEQ',\n  'duration_ms': 230547,\n  'time_signature': 4},\n {'danceability': 0.701,\n  'energy': 0.843,\n  'key': 11,\n  'loudness': -8.227,\n  'mode': 0,\n  'speechiness': 0.0504,\n  'acousticness': 0.0201,\n  'instrumentalness': 0.568,\n  'liveness': 0.0309,\n  'valence': 0.88,\n  'tempo': 136.984,\n  'type': 'audio_features',\n  'id': '4SXZvIjujIcmMtWbjnSwZT',\n  'uri': 'spotify:track:4SXZvIjujIcmMtWbjnSwZT',\n  'track_href': 'https://api.spotify.com/v1/tracks/4SXZvIjujIcmMtWbjnSwZT',\n  'analysis_url': 'https://api.spotify.com/v1/audio-analysis/4SXZvIjujIcmMtWbjnSwZT',\n  'duration_ms': 231241,\n  'time_signature': 4},\n {'danceability': 0.688,\n  'energy': 0.907,\n  'key': 10,\n  'loudness': -8.06,\n  'mode': 0,\n  'speechiness': 0.0618,\n  'acousticness': 0.0293,\n  'instrumentalness': 0.844,\n  'liveness': 0.0767,\n  'valence': 0.214,\n  'tempo': 132.022,\n  'type': 'audio_features',\n  'id': '79ixYcSOhGVaG69GHfVOXJ',\n  'uri': 'spotify:track:79ixYcSOhGVaG69GHfVOXJ',\n  'track_href': 'https://api.spotify.com/v1/tracks/79ixYcSOhGVaG69GHfVOXJ',\n  'analysis_url': 'https://api.spotify.com/v1/audio-analysis/79ixYcSOhGVaG69GHfVOXJ',\n  'duration_ms': 240322,\n  'time_signature': 4},\n {'danceability': 0.742,\n  'energy': 0.842,\n  'key': 1,\n  'loudness': -10.248,\n  'mode': 1,\n  'speechiness': 0.0399,\n  'acousticness': 0.0174,\n  'instrumentalness': 0.45,\n  'liveness': 0.0936,\n  'valence': 0.744,\n  'tempo': 126.985,\n  'type': 'audio_features',\n  'id': '6EZAn1Xsd6x15qvEcGI1oE',\n  'uri': 'spotify:track:6EZAn1Xsd6x15qvEcGI1oE',\n  'track_href': 'https://api.spotify.com/v1/tracks/6EZAn1Xsd6x15qvEcGI1oE',\n  'analysis_url': 'https://api.spotify.com/v1/audio-analysis/6EZAn1Xsd6x15qvEcGI1oE',\n  'duration_ms': 358720,\n  'time_signature': 4},\n {'danceability': 0.501,\n  'energy': 0.791,\n  'key': 0,\n  'loudness': -5.101,\n  'mode': 1,\n  'speechiness': 0.0701,\n  'acousticness': 0.019,\n  'instrumentalness': 0.00124,\n  'liveness': 0.108,\n  'valence': 0.448,\n  'tempo': 123.966,\n  'type': 'audio_features',\n  'id': '7hJ0U5j781H44oYJaaYFMa',\n  'uri': 'spotify:track:7hJ0U5j781H44oYJaaYFMa',\n  'track_href': 'https://api.spotify.com/v1/tracks/7hJ0U5j781H44oYJaaYFMa',\n  'analysis_url': 'https://api.spotify.com/v1/audio-analysis/7hJ0U5j781H44oYJaaYFMa',\n  'duration_ms': 210000,\n  'time_signature': 4},\n {'danceability': 0.607,\n  'energy': 0.985,\n  'key': 10,\n  'loudness': -3.002,\n  'mode': 0,\n  'speechiness': 0.0422,\n  'acousticness': 0.0924,\n  'instrumentalness': 0.76,\n  'liveness': 0.123,\n  'valence': 0.846,\n  'tempo': 127.019,\n  'type': 'audio_features',\n  'id': '6zRBMIDHnuuvWyaumNNcQF',\n  'uri': 'spotify:track:6zRBMIDHnuuvWyaumNNcQF',\n  'track_href': 'https://api.spotify.com/v1/tracks/6zRBMIDHnuuvWyaumNNcQF',\n  'analysis_url': 'https://api.spotify.com/v1/audio-analysis/6zRBMIDHnuuvWyaumNNcQF',\n  'duration_ms': 202205,\n  'time_signature': 4},\n {'danceability': 0.807,\n  'energy': 0.888,\n  'key': 9,\n  'loudness': -4.937,\n  'mode': 0,\n  'speechiness': 0.0449,\n  'acousticness': 0.0808,\n  'instrumentalness': 0.000881,\n  'liveness': 0.158,\n  'valence': 0.549,\n  'tempo': 122.023,\n  'type': 'audio_features',\n  'id': '0Q4DIuuJWNTAcm5GAqN1GU',\n  'uri': 'spotify:track:0Q4DIuuJWNTAcm5GAqN1GU',\n  'track_href': 'https://api.spotify.com/v1/tracks/0Q4DIuuJWNTAcm5GAqN1GU',\n  'analysis_url': 'https://api.spotify.com/v1/audio-analysis/0Q4DIuuJWNTAcm5GAqN1GU',\n  'duration_ms': 149722,\n  'time_signature': 4},\n {'danceability': 0.719,\n  'energy': 0.928,\n  'key': 9,\n  'loudness': -1.553,\n  'mode': 0,\n  'speechiness': 0.0473,\n  'acousticness': 0.128,\n  'instrumentalness': 0.0413,\n  'liveness': 0.396,\n  'valence': 0.407,\n  'tempo': 105.063,\n  'type': 'audio_features',\n  'id': '6TokZjKiCwAFSmA7pdWTaK',\n  'uri': 'spotify:track:6TokZjKiCwAFSmA7pdWTaK',\n  'track_href': 'https://api.spotify.com/v1/tracks/6TokZjKiCwAFSmA7pdWTaK',\n  'analysis_url': 'https://api.spotify.com/v1/audio-analysis/6TokZjKiCwAFSmA7pdWTaK',\n  'duration_ms': 164843,\n  'time_signature': 4},\n {'danceability': 0.815,\n  'energy': 0.705,\n  'key': 11,\n  'loudness': -4.934,\n  'mode': 0,\n  'speechiness': 0.135,\n  'acousticness': 0.0294,\n  'instrumentalness': 1.62e-06,\n  'liveness': 0.173,\n  'valence': 0.516,\n  'tempo': 123.981,\n  'type': 'audio_features',\n  'id': '33oQaDZex8PFThfgpCpOdH',\n  'uri': 'spotify:track:33oQaDZex8PFThfgpCpOdH',\n  'track_href': 'https://api.spotify.com/v1/tracks/33oQaDZex8PFThfgpCpOdH',\n  'analysis_url': 'https://api.spotify.com/v1/audio-analysis/33oQaDZex8PFThfgpCpOdH',\n  'duration_ms': 166004,\n  'time_signature': 4},\n {'danceability': 0.777,\n  'energy': 0.738,\n  'key': 11,\n  'loudness': -5.861,\n  'mode': 0,\n  'speechiness': 0.0352,\n  'acousticness': 0.0411,\n  'instrumentalness': 0.37,\n  'liveness': 0.0265,\n  'valence': 0.887,\n  'tempo': 123.991,\n  'type': 'audio_features',\n  'id': '3rh495Z2rIRwD316blea4f',\n  'uri': 'spotify:track:3rh495Z2rIRwD316blea4f',\n  'track_href': 'https://api.spotify.com/v1/tracks/3rh495Z2rIRwD316blea4f',\n  'analysis_url': 'https://api.spotify.com/v1/audio-analysis/3rh495Z2rIRwD316blea4f',\n  'duration_ms': 232625,\n  'time_signature': 4},\n {'danceability': 0.586,\n  'energy': 0.893,\n  'key': 10,\n  'loudness': -8.8,\n  'mode': 0,\n  'speechiness': 0.0359,\n  'acousticness': 0.00483,\n  'instrumentalness': 0.0945,\n  'liveness': 0.373,\n  'valence': 0.233,\n  'tempo': 125.996,\n  'type': 'audio_features',\n  'id': '3J8CjJWVaDbM9oE2XDyncj',\n  'uri': 'spotify:track:3J8CjJWVaDbM9oE2XDyncj',\n  'track_href': 'https://api.spotify.com/v1/tracks/3J8CjJWVaDbM9oE2XDyncj',\n  'analysis_url': 'https://api.spotify.com/v1/audio-analysis/3J8CjJWVaDbM9oE2XDyncj',\n  'duration_ms': 288358,\n  'time_signature': 4},\n {'danceability': 0.392,\n  'energy': 0.723,\n  'key': 1,\n  'loudness': -4.418,\n  'mode': 1,\n  'speechiness': 0.0319,\n  'acousticness': 0.0132,\n  'instrumentalness': 0,\n  'liveness': 0.0843,\n  'valence': 0.27,\n  'tempo': 174.012,\n  'type': 'audio_features',\n  'id': '1sWWOV3HQuvJ3N2z6dtu2W',\n  'uri': 'spotify:track:1sWWOV3HQuvJ3N2z6dtu2W',\n  'track_href': 'https://api.spotify.com/v1/tracks/1sWWOV3HQuvJ3N2z6dtu2W',\n  'analysis_url': 'https://api.spotify.com/v1/audio-analysis/1sWWOV3HQuvJ3N2z6dtu2W',\n  'duration_ms': 230345,\n  'time_signature': 4},\n {'danceability': 0.79,\n  'energy': 0.652,\n  'key': 6,\n  'loudness': -8.655,\n  'mode': 0,\n  'speechiness': 0.0562,\n  'acousticness': 0.022,\n  'instrumentalness': 0.822,\n  'liveness': 0.0845,\n  'valence': 0.352,\n  'tempo': 128.979,\n  'type': 'audio_features',\n  'id': '2ZhZ76JnLYcjFmcExTdxNF',\n  'uri': 'spotify:track:2ZhZ76JnLYcjFmcExTdxNF',\n  'track_href': 'https://api.spotify.com/v1/tracks/2ZhZ76JnLYcjFmcExTdxNF',\n  'analysis_url': 'https://api.spotify.com/v1/audio-analysis/2ZhZ76JnLYcjFmcExTdxNF',\n  'duration_ms': 204651,\n  'time_signature': 4},\n {'danceability': 0.831,\n  'energy': 0.952,\n  'key': 6,\n  'loudness': -6.595,\n  'mode': 0,\n  'speechiness': 0.055,\n  'acousticness': 0.012,\n  'instrumentalness': 0.16,\n  'liveness': 0.13,\n  'valence': 0.721,\n  'tempo': 125.991,\n  'type': 'audio_features',\n  'id': '6DW9Z2nMpoiZoPJdZniXnr',\n  'uri': 'spotify:track:6DW9Z2nMpoiZoPJdZniXnr',\n  'track_href': 'https://api.spotify.com/v1/tracks/6DW9Z2nMpoiZoPJdZniXnr',\n  'analysis_url': 'https://api.spotify.com/v1/audio-analysis/6DW9Z2nMpoiZoPJdZniXnr',\n  'duration_ms': 189524,\n  'time_signature': 4},\n {'danceability': 0.78,\n  'energy': 0.735,\n  'key': 10,\n  'loudness': -8.43,\n  'mode': 1,\n  'speechiness': 0.0636,\n  'acousticness': 0.0808,\n  'instrumentalness': 3.03e-05,\n  'liveness': 0.171,\n  'valence': 0.645,\n  'tempo': 123.995,\n  'type': 'audio_features',\n  'id': '4lJG3byxSnynXXfjfvegg2',\n  'uri': 'spotify:track:4lJG3byxSnynXXfjfvegg2',\n  'track_href': 'https://api.spotify.com/v1/tracks/4lJG3byxSnynXXfjfvegg2',\n  'analysis_url': 'https://api.spotify.com/v1/audio-analysis/4lJG3byxSnynXXfjfvegg2',\n  'duration_ms': 160645,\n  'time_signature': 4},\n {'danceability': 0.612,\n  'energy': 0.741,\n  'key': 4,\n  'loudness': -7.002,\n  'mode': 0,\n  'speechiness': 0.0359,\n  'acousticness': 0.0759,\n  'instrumentalness': 0.000416,\n  'liveness': 0.121,\n  'valence': 0.0672,\n  'tempo': 122.001,\n  'type': 'audio_features',\n  'id': '56pKxbJR1QFD8fmcqNI4R5',\n  'uri': 'spotify:track:56pKxbJR1QFD8fmcqNI4R5',\n  'track_href': 'https://api.spotify.com/v1/tracks/56pKxbJR1QFD8fmcqNI4R5',\n  'analysis_url': 'https://api.spotify.com/v1/audio-analysis/56pKxbJR1QFD8fmcqNI4R5',\n  'duration_ms': 252058,\n  'time_signature': 4},\n {'danceability': 0.883,\n  'energy': 0.878,\n  'key': 11,\n  'loudness': -7.692,\n  'mode': 0,\n  'speechiness': 0.156,\n  'acousticness': 0.0461,\n  'instrumentalness': 0.000726,\n  'liveness': 0.163,\n  'valence': 0.553,\n  'tempo': 125.994,\n  'type': 'audio_features',\n  'id': '5WJp4hlT4lI14Wv9U2BKvC',\n  'uri': 'spotify:track:5WJp4hlT4lI14Wv9U2BKvC',\n  'track_href': 'https://api.spotify.com/v1/tracks/5WJp4hlT4lI14Wv9U2BKvC',\n  'analysis_url': 'https://api.spotify.com/v1/audio-analysis/5WJp4hlT4lI14Wv9U2BKvC',\n  'duration_ms': 147126,\n  'time_signature': 4},\n {'danceability': 0.656,\n  'energy': 0.826,\n  'key': 8,\n  'loudness': -7.006,\n  'mode': 0,\n  'speechiness': 0.0474,\n  'acousticness': 0.00881,\n  'instrumentalness': 0.00234,\n  'liveness': 0.237,\n  'valence': 0.26,\n  'tempo': 121.936,\n  'type': 'audio_features',\n  'id': '6QGHCildW0p2nnrxE4BHsy',\n  'uri': 'spotify:track:6QGHCildW0p2nnrxE4BHsy',\n  'track_href': 'https://api.spotify.com/v1/tracks/6QGHCildW0p2nnrxE4BHsy',\n  'analysis_url': 'https://api.spotify.com/v1/audio-analysis/6QGHCildW0p2nnrxE4BHsy',\n  'duration_ms': 165246,\n  'time_signature': 4},\n {'danceability': 0.579,\n  'energy': 0.987,\n  'key': 9,\n  'loudness': -4.069,\n  'mode': 0,\n  'speechiness': 0.0706,\n  'acousticness': 0.000243,\n  'instrumentalness': 0.744,\n  'liveness': 0.129,\n  'valence': 0.343,\n  'tempo': 125.021,\n  'type': 'audio_features',\n  'id': '6EJuJAg1Ydjkoj9SCwMUyN',\n  'uri': 'spotify:track:6EJuJAg1Ydjkoj9SCwMUyN',\n  'track_href': 'https://api.spotify.com/v1/tracks/6EJuJAg1Ydjkoj9SCwMUyN',\n  'analysis_url': 'https://api.spotify.com/v1/audio-analysis/6EJuJAg1Ydjkoj9SCwMUyN',\n  'duration_ms': 174600,\n  'time_signature': 4},\n {'danceability': 0.558,\n  'energy': 0.973,\n  'key': 2,\n  'loudness': -6.845,\n  'mode': 1,\n  'speechiness': 0.039,\n  'acousticness': 0.0109,\n  'instrumentalness': 0.779,\n  'liveness': 0.41,\n  'valence': 0.0679,\n  'tempo': 124.018,\n  'type': 'audio_features',\n  'id': '2nsuUT8ey4AhPkkyM74shh',\n  'uri': 'spotify:track:2nsuUT8ey4AhPkkyM74shh',\n  'track_href': 'https://api.spotify.com/v1/tracks/2nsuUT8ey4AhPkkyM74shh',\n  'analysis_url': 'https://api.spotify.com/v1/audio-analysis/2nsuUT8ey4AhPkkyM74shh',\n  'duration_ms': 261312,\n  'time_signature': 4},\n {'danceability': 0.679,\n  'energy': 0.915,\n  'key': 0,\n  'loudness': -10.554,\n  'mode': 1,\n  'speechiness': 0.0458,\n  'acousticness': 0.00992,\n  'instrumentalness': 0.795,\n  'liveness': 0.0925,\n  'valence': 0.106,\n  'tempo': 124.005,\n  'type': 'audio_features',\n  'id': '46OIVHWlExMXlqYRCpkEYd',\n  'uri': 'spotify:track:46OIVHWlExMXlqYRCpkEYd',\n  'track_href': 'https://api.spotify.com/v1/tracks/46OIVHWlExMXlqYRCpkEYd',\n  'analysis_url': 'https://api.spotify.com/v1/audio-analysis/46OIVHWlExMXlqYRCpkEYd',\n  'duration_ms': 389801,\n  'time_signature': 4},\n {'danceability': 0.777,\n  'energy': 0.941,\n  'key': 4,\n  'loudness': -5.581,\n  'mode': 0,\n  'speechiness': 0.0473,\n  'acousticness': 0.00499,\n  'instrumentalness': 0.371,\n  'liveness': 0.0776,\n  'valence': 0.936,\n  'tempo': 127.015,\n  'type': 'audio_features',\n  'id': '4z5KUXHyHzrmUduxTzhpzS',\n  'uri': 'spotify:track:4z5KUXHyHzrmUduxTzhpzS',\n  'track_href': 'https://api.spotify.com/v1/tracks/4z5KUXHyHzrmUduxTzhpzS',\n  'analysis_url': 'https://api.spotify.com/v1/audio-analysis/4z5KUXHyHzrmUduxTzhpzS',\n  'duration_ms': 201850,\n  'time_signature': 4},\n {'danceability': 0.643,\n  'energy': 0.887,\n  'key': 6,\n  'loudness': -10.206,\n  'mode': 1,\n  'speechiness': 0.0407,\n  'acousticness': 0.000254,\n  'instrumentalness': 0.394,\n  'liveness': 0.0557,\n  'valence': 0.662,\n  'tempo': 123.958,\n  'type': 'audio_features',\n  'id': '1u00EMt2762l5buwd6uQAK',\n  'uri': 'spotify:track:1u00EMt2762l5buwd6uQAK',\n  'track_href': 'https://api.spotify.com/v1/tracks/1u00EMt2762l5buwd6uQAK',\n  'analysis_url': 'https://api.spotify.com/v1/audio-analysis/1u00EMt2762l5buwd6uQAK',\n  'duration_ms': 186964,\n  'time_signature': 4},\n {'danceability': 0.805,\n  'energy': 0.78,\n  'key': 0,\n  'loudness': -6.366,\n  'mode': 1,\n  'speechiness': 0.0729,\n  'acousticness': 0.00261,\n  'instrumentalness': 0.896,\n  'liveness': 0.0636,\n  'valence': 0.604,\n  'tempo': 125.03,\n  'type': 'audio_features',\n  'id': '5DgCDCuuevkqBmyFMjhbUc',\n  'uri': 'spotify:track:5DgCDCuuevkqBmyFMjhbUc',\n  'track_href': 'https://api.spotify.com/v1/tracks/5DgCDCuuevkqBmyFMjhbUc',\n  'analysis_url': 'https://api.spotify.com/v1/audio-analysis/5DgCDCuuevkqBmyFMjhbUc',\n  'duration_ms': 234293,\n  'time_signature': 4},\n {'danceability': 0.713,\n  'energy': 0.81,\n  'key': 0,\n  'loudness': -5.108,\n  'mode': 1,\n  'speechiness': 0.0457,\n  'acousticness': 0.115,\n  'instrumentalness': 0,\n  'liveness': 0.0527,\n  'valence': 0.747,\n  'tempo': 124.036,\n  'type': 'audio_features',\n  'id': '7kG1Lv9NFFtvvUeyYHLG7R',\n  'uri': 'spotify:track:7kG1Lv9NFFtvvUeyYHLG7R',\n  'track_href': 'https://api.spotify.com/v1/tracks/7kG1Lv9NFFtvvUeyYHLG7R',\n  'analysis_url': 'https://api.spotify.com/v1/audio-analysis/7kG1Lv9NFFtvvUeyYHLG7R',\n  'duration_ms': 182653,\n  'time_signature': 4},\n {'danceability': 0.79,\n  'energy': 0.827,\n  'key': 9,\n  'loudness': -6.286,\n  'mode': 0,\n  'speechiness': 0.0517,\n  'acousticness': 0.0112,\n  'instrumentalness': 0.0289,\n  'liveness': 0.077,\n  'valence': 0.774,\n  'tempo': 123.996,\n  'type': 'audio_features',\n  'id': '3aeqEyOCo9AaKboo37Wr8B',\n  'uri': 'spotify:track:3aeqEyOCo9AaKboo37Wr8B',\n  'track_href': 'https://api.spotify.com/v1/tracks/3aeqEyOCo9AaKboo37Wr8B',\n  'analysis_url': 'https://api.spotify.com/v1/audio-analysis/3aeqEyOCo9AaKboo37Wr8B',\n  'duration_ms': 191625,\n  'time_signature': 4},\n {'danceability': 0.674,\n  'energy': 0.866,\n  'key': 6,\n  'loudness': -4.902,\n  'mode': 0,\n  'speechiness': 0.0482,\n  'acousticness': 0.321,\n  'instrumentalness': 0.0128,\n  'liveness': 0.12,\n  'valence': 0.563,\n  'tempo': 123.992,\n  'type': 'audio_features',\n  'id': '2hMto0hWs4hULLbySN6E9o',\n  'uri': 'spotify:track:2hMto0hWs4hULLbySN6E9o',\n  'track_href': 'https://api.spotify.com/v1/tracks/2hMto0hWs4hULLbySN6E9o',\n  'analysis_url': 'https://api.spotify.com/v1/audio-analysis/2hMto0hWs4hULLbySN6E9o',\n  'duration_ms': 177898,\n  'time_signature': 4},\n {'danceability': 0.73,\n  'energy': 0.887,\n  'key': 7,\n  'loudness': -4.968,\n  'mode': 1,\n  'speechiness': 0.0432,\n  'acousticness': 0.0106,\n  'instrumentalness': 0.11,\n  'liveness': 0.336,\n  'valence': 0.137,\n  'tempo': 129.009,\n  'type': 'audio_features',\n  'id': '40xhB0wBh7Kjyn2O1ZCxYM',\n  'uri': 'spotify:track:40xhB0wBh7Kjyn2O1ZCxYM',\n  'track_href': 'https://api.spotify.com/v1/tracks/40xhB0wBh7Kjyn2O1ZCxYM',\n  'analysis_url': 'https://api.spotify.com/v1/audio-analysis/40xhB0wBh7Kjyn2O1ZCxYM',\n  'duration_ms': 218630,\n  'time_signature': 4},\n {'danceability': 0.429,\n  'energy': 0.811,\n  'key': 9,\n  'loudness': -7.91,\n  'mode': 1,\n  'speechiness': 0.0468,\n  'acousticness': 0.00145,\n  'instrumentalness': 0.13,\n  'liveness': 0.502,\n  'valence': 0.101,\n  'tempo': 139.962,\n  'type': 'audio_features',\n  'id': '3Nn6tQg6gYqCMZR0IpiiFJ',\n  'uri': 'spotify:track:3Nn6tQg6gYqCMZR0IpiiFJ',\n  'track_href': 'https://api.spotify.com/v1/tracks/3Nn6tQg6gYqCMZR0IpiiFJ',\n  'analysis_url': 'https://api.spotify.com/v1/audio-analysis/3Nn6tQg6gYqCMZR0IpiiFJ',\n  'duration_ms': 387160,\n  'time_signature': 4},\n {'danceability': 0.631,\n  'energy': 0.841,\n  'key': 5,\n  'loudness': -4.284,\n  'mode': 1,\n  'speechiness': 0.0434,\n  'acousticness': 0.0306,\n  'instrumentalness': 0.00049,\n  'liveness': 0.157,\n  'valence': 0.366,\n  'tempo': 124.998,\n  'type': 'audio_features',\n  'id': '5Yg3kRGlB8UB6Sa8Fq4njc',\n  'uri': 'spotify:track:5Yg3kRGlB8UB6Sa8Fq4njc',\n  'track_href': 'https://api.spotify.com/v1/tracks/5Yg3kRGlB8UB6Sa8Fq4njc',\n  'analysis_url': 'https://api.spotify.com/v1/audio-analysis/5Yg3kRGlB8UB6Sa8Fq4njc',\n  'duration_ms': 146513,\n  'time_signature': 4},\n {'danceability': 0.66,\n  'energy': 0.956,\n  'key': 5,\n  'loudness': -7.227,\n  'mode': 1,\n  'speechiness': 0.0499,\n  'acousticness': 0.00249,\n  'instrumentalness': 0.706,\n  'liveness': 0.385,\n  'valence': 0.752,\n  'tempo': 122.998,\n  'type': 'audio_features',\n  'id': '2I5faAdg3IZbd6HEn6Blfz',\n  'uri': 'spotify:track:2I5faAdg3IZbd6HEn6Blfz',\n  'track_href': 'https://api.spotify.com/v1/tracks/2I5faAdg3IZbd6HEn6Blfz',\n  'analysis_url': 'https://api.spotify.com/v1/audio-analysis/2I5faAdg3IZbd6HEn6Blfz',\n  'duration_ms': 168781,\n  'time_signature': 4},\n {'danceability': 0.493,\n  'energy': 0.68,\n  'key': 10,\n  'loudness': -5.87,\n  'mode': 1,\n  'speechiness': 0.0365,\n  'acousticness': 0.165,\n  'instrumentalness': 0.00247,\n  'liveness': 0.11,\n  'valence': 0.103,\n  'tempo': 94.082,\n  'type': 'audio_features',\n  'id': '0B9aBa926M7kus4kDZyLEd',\n  'uri': 'spotify:track:0B9aBa926M7kus4kDZyLEd',\n  'track_href': 'https://api.spotify.com/v1/tracks/0B9aBa926M7kus4kDZyLEd',\n  'analysis_url': 'https://api.spotify.com/v1/audio-analysis/0B9aBa926M7kus4kDZyLEd',\n  'duration_ms': 158480,\n  'time_signature': 4},\n {'danceability': 0.611,\n  'energy': 0.618,\n  'key': 9,\n  'loudness': -6.573,\n  'mode': 0,\n  'speechiness': 0.0655,\n  'acousticness': 0.0029,\n  'instrumentalness': 0.000757,\n  'liveness': 0.24,\n  'valence': 0.515,\n  'tempo': 99.999,\n  'type': 'audio_features',\n  'id': '1nkpXkr1Qacmp2BPd6mgct',\n  'uri': 'spotify:track:1nkpXkr1Qacmp2BPd6mgct',\n  'track_href': 'https://api.spotify.com/v1/tracks/1nkpXkr1Qacmp2BPd6mgct',\n  'analysis_url': 'https://api.spotify.com/v1/audio-analysis/1nkpXkr1Qacmp2BPd6mgct',\n  'duration_ms': 168073,\n  'time_signature': 4},\n {'danceability': 0.826,\n  'energy': 0.401,\n  'key': 2,\n  'loudness': -11.684,\n  'mode': 1,\n  'speechiness': 0.117,\n  'acousticness': 0.0154,\n  'instrumentalness': 0.795,\n  'liveness': 0.0999,\n  'valence': 0.0561,\n  'tempo': 122.017,\n  'type': 'audio_features',\n  'id': '1vdYudatKL5iRIM7i6vkvG',\n  'uri': 'spotify:track:1vdYudatKL5iRIM7i6vkvG',\n  'track_href': 'https://api.spotify.com/v1/tracks/1vdYudatKL5iRIM7i6vkvG',\n  'analysis_url': 'https://api.spotify.com/v1/audio-analysis/1vdYudatKL5iRIM7i6vkvG',\n  'duration_ms': 328781,\n  'time_signature': 4},\n {'danceability': 0.685,\n  'energy': 0.873,\n  'key': 4,\n  'loudness': -5.774,\n  'mode': 0,\n  'speechiness': 0.0433,\n  'acousticness': 0.00292,\n  'instrumentalness': 0.0105,\n  'liveness': 0.0752,\n  'valence': 0.727,\n  'tempo': 125.01,\n  'type': 'audio_features',\n  'id': '6V8UEh7aSmuh1qxe1HnNnE',\n  'uri': 'spotify:track:6V8UEh7aSmuh1qxe1HnNnE',\n  'track_href': 'https://api.spotify.com/v1/tracks/6V8UEh7aSmuh1qxe1HnNnE',\n  'analysis_url': 'https://api.spotify.com/v1/audio-analysis/6V8UEh7aSmuh1qxe1HnNnE',\n  'duration_ms': 142677,\n  'time_signature': 4},\n {'danceability': 0.808,\n  'energy': 0.847,\n  'key': 6,\n  'loudness': -6.788,\n  'mode': 0,\n  'speechiness': 0.0619,\n  'acousticness': 0.0115,\n  'instrumentalness': 0.863,\n  'liveness': 0.16,\n  'valence': 0.82,\n  'tempo': 129.998,\n  'type': 'audio_features',\n  'id': '0Rv3tutzgSak1pTMXiV9p8',\n  'uri': 'spotify:track:0Rv3tutzgSak1pTMXiV9p8',\n  'track_href': 'https://api.spotify.com/v1/tracks/0Rv3tutzgSak1pTMXiV9p8',\n  'analysis_url': 'https://api.spotify.com/v1/audio-analysis/0Rv3tutzgSak1pTMXiV9p8',\n  'duration_ms': 240570,\n  'time_signature': 4},\n {'danceability': 0.533,\n  'energy': 0.785,\n  'key': 6,\n  'loudness': -4.836,\n  'mode': 1,\n  'speechiness': 0.314,\n  'acousticness': 0.0814,\n  'instrumentalness': 1.04e-05,\n  'liveness': 0.157,\n  'valence': 0.439,\n  'tempo': 172.064,\n  'type': 'audio_features',\n  'id': '2dLU5EMUxumBWWdzDCL7Lc',\n  'uri': 'spotify:track:2dLU5EMUxumBWWdzDCL7Lc',\n  'track_href': 'https://api.spotify.com/v1/tracks/2dLU5EMUxumBWWdzDCL7Lc',\n  'analysis_url': 'https://api.spotify.com/v1/audio-analysis/2dLU5EMUxumBWWdzDCL7Lc',\n  'duration_ms': 189793,\n  'time_signature': 4},\n {'danceability': 0.694,\n  'energy': 0.955,\n  'key': 11,\n  'loudness': -3.436,\n  'mode': 0,\n  'speechiness': 0.0816,\n  'acousticness': 0.0034,\n  'instrumentalness': 0.676,\n  'liveness': 0.387,\n  'valence': 0.748,\n  'tempo': 121.961,\n  'type': 'audio_features',\n  'id': '6aVk0HYYYJKcIDeh16kOvk',\n  'uri': 'spotify:track:6aVk0HYYYJKcIDeh16kOvk',\n  'track_href': 'https://api.spotify.com/v1/tracks/6aVk0HYYYJKcIDeh16kOvk',\n  'analysis_url': 'https://api.spotify.com/v1/audio-analysis/6aVk0HYYYJKcIDeh16kOvk',\n  'duration_ms': 224287,\n  'time_signature': 4},\n {'danceability': 0.664,\n  'energy': 0.874,\n  'key': 4,\n  'loudness': -5.918,\n  'mode': 0,\n  'speechiness': 0.0378,\n  'acousticness': 0.00999,\n  'instrumentalness': 0.256,\n  'liveness': 0.189,\n  'valence': 0.729,\n  'tempo': 127.971,\n  'type': 'audio_features',\n  'id': '77uXlUY5qtAxiN1UCtAcyF',\n  'uri': 'spotify:track:77uXlUY5qtAxiN1UCtAcyF',\n  'track_href': 'https://api.spotify.com/v1/tracks/77uXlUY5qtAxiN1UCtAcyF',\n  'analysis_url': 'https://api.spotify.com/v1/audio-analysis/77uXlUY5qtAxiN1UCtAcyF',\n  'duration_ms': 215645,\n  'time_signature': 4},\n {'danceability': 0.402,\n  'energy': 0.884,\n  'key': 4,\n  'loudness': -5.409,\n  'mode': 0,\n  'speechiness': 0.0532,\n  'acousticness': 0.00537,\n  'instrumentalness': 0.0502,\n  'liveness': 0.481,\n  'valence': 0.101,\n  'tempo': 173.93,\n  'type': 'audio_features',\n  'id': '7oDizfJpMCEvjMxkT5NgiL',\n  'uri': 'spotify:track:7oDizfJpMCEvjMxkT5NgiL',\n  'track_href': 'https://api.spotify.com/v1/tracks/7oDizfJpMCEvjMxkT5NgiL',\n  'analysis_url': 'https://api.spotify.com/v1/audio-analysis/7oDizfJpMCEvjMxkT5NgiL',\n  'duration_ms': 283980,\n  'time_signature': 4},\n {'danceability': 0.701,\n  'energy': 0.589,\n  'key': 7,\n  'loudness': -10.028,\n  'mode': 1,\n  'speechiness': 0.0666,\n  'acousticness': 0.0897,\n  'instrumentalness': 0.873,\n  'liveness': 0.101,\n  'valence': 0.0326,\n  'tempo': 124.011,\n  'type': 'audio_features',\n  'id': '41rjAEQbD85oUdFX9uPGqG',\n  'uri': 'spotify:track:41rjAEQbD85oUdFX9uPGqG',\n  'track_href': 'https://api.spotify.com/v1/tracks/41rjAEQbD85oUdFX9uPGqG',\n  'analysis_url': 'https://api.spotify.com/v1/audio-analysis/41rjAEQbD85oUdFX9uPGqG',\n  'duration_ms': 309677,\n  'time_signature': 4},\n {'danceability': 0.886,\n  'energy': 0.823,\n  'key': 1,\n  'loudness': -3.73,\n  'mode': 1,\n  'speechiness': 0.0804,\n  'acousticness': 0.0173,\n  'instrumentalness': 0.000763,\n  'liveness': 0.0438,\n  'valence': 0.683,\n  'tempo': 125.985,\n  'type': 'audio_features',\n  'id': '02teKCLbOxKUIVg7DPoWCE',\n  'uri': 'spotify:track:02teKCLbOxKUIVg7DPoWCE',\n  'track_href': 'https://api.spotify.com/v1/tracks/02teKCLbOxKUIVg7DPoWCE',\n  'analysis_url': 'https://api.spotify.com/v1/audio-analysis/02teKCLbOxKUIVg7DPoWCE',\n  'duration_ms': 159569,\n  'time_signature': 4},\n {'danceability': 0.776,\n  'energy': 0.951,\n  'key': 10,\n  'loudness': -8.6,\n  'mode': 0,\n  'speechiness': 0.0631,\n  'acousticness': 0.00388,\n  'instrumentalness': 0.72,\n  'liveness': 0.635,\n  'valence': 0.885,\n  'tempo': 128.016,\n  'type': 'audio_features',\n  'id': '32MHis9ga5UmCo2hivlkEs',\n  'uri': 'spotify:track:32MHis9ga5UmCo2hivlkEs',\n  'track_href': 'https://api.spotify.com/v1/tracks/32MHis9ga5UmCo2hivlkEs',\n  'analysis_url': 'https://api.spotify.com/v1/audio-analysis/32MHis9ga5UmCo2hivlkEs',\n  'duration_ms': 244687,\n  'time_signature': 4},\n {'danceability': 0.696,\n  'energy': 0.488,\n  'key': 1,\n  'loudness': -7.508,\n  'mode': 1,\n  'speechiness': 0.0403,\n  'acousticness': 0.196,\n  'instrumentalness': 0.836,\n  'liveness': 0.2,\n  'valence': 0.202,\n  'tempo': 95.064,\n  'type': 'audio_features',\n  'id': '5EhnuLMer8qAXEDwmLtyrW',\n  'uri': 'spotify:track:5EhnuLMer8qAXEDwmLtyrW',\n  'track_href': 'https://api.spotify.com/v1/tracks/5EhnuLMer8qAXEDwmLtyrW',\n  'analysis_url': 'https://api.spotify.com/v1/audio-analysis/5EhnuLMer8qAXEDwmLtyrW',\n  'duration_ms': 212211,\n  'time_signature': 4},\n {'danceability': 0.658,\n  'energy': 0.941,\n  'key': 4,\n  'loudness': -4.26,\n  'mode': 0,\n  'speechiness': 0.119,\n  'acousticness': 0.0239,\n  'instrumentalness': 0.852,\n  'liveness': 0.364,\n  'valence': 0.296,\n  'tempo': 125.003,\n  'type': 'audio_features',\n  'id': '5hM4F7T6hEJUHdoVgukAiq',\n  'uri': 'spotify:track:5hM4F7T6hEJUHdoVgukAiq',\n  'track_href': 'https://api.spotify.com/v1/tracks/5hM4F7T6hEJUHdoVgukAiq',\n  'analysis_url': 'https://api.spotify.com/v1/audio-analysis/5hM4F7T6hEJUHdoVgukAiq',\n  'duration_ms': 189120,\n  'time_signature': 4},\n {'danceability': 0.561,\n  'energy': 0.651,\n  'key': 4,\n  'loudness': -2.725,\n  'mode': 0,\n  'speechiness': 0.031,\n  'acousticness': 0.322,\n  'instrumentalness': 0,\n  'liveness': 0.1,\n  'valence': 0.162,\n  'tempo': 105.047,\n  'type': 'audio_features',\n  'id': '1AJ4HIL7Aj9hXjl1plAkJk',\n  'uri': 'spotify:track:1AJ4HIL7Aj9hXjl1plAkJk',\n  'track_href': 'https://api.spotify.com/v1/tracks/1AJ4HIL7Aj9hXjl1plAkJk',\n  'analysis_url': 'https://api.spotify.com/v1/audio-analysis/1AJ4HIL7Aj9hXjl1plAkJk',\n  'duration_ms': 232000,\n  'time_signature': 4},\n {'danceability': 0.542,\n  'energy': 0.912,\n  'key': 5,\n  'loudness': -5.407,\n  'mode': 0,\n  'speechiness': 0.0666,\n  'acousticness': 0.015,\n  'instrumentalness': 0.0168,\n  'liveness': 0.17,\n  'valence': 0.38,\n  'tempo': 172.012,\n  'type': 'audio_features',\n  'id': '0H9UmjbppU6pek59n7kKXM',\n  'uri': 'spotify:track:0H9UmjbppU6pek59n7kKXM',\n  'track_href': 'https://api.spotify.com/v1/tracks/0H9UmjbppU6pek59n7kKXM',\n  'analysis_url': 'https://api.spotify.com/v1/audio-analysis/0H9UmjbppU6pek59n7kKXM',\n  'duration_ms': 319114,\n  'time_signature': 4},\n {'danceability': 0.827,\n  'energy': 0.821,\n  'key': 9,\n  'loudness': -6.498,\n  'mode': 1,\n  'speechiness': 0.26,\n  'acousticness': 0.00629,\n  'instrumentalness': 0.000645,\n  'liveness': 0.0709,\n  'valence': 0.357,\n  'tempo': 127.968,\n  'type': 'audio_features',\n  'id': '2F9lnTfWTZCvaHWSVTefUY',\n  'uri': 'spotify:track:2F9lnTfWTZCvaHWSVTefUY',\n  'track_href': 'https://api.spotify.com/v1/tracks/2F9lnTfWTZCvaHWSVTefUY',\n  'analysis_url': 'https://api.spotify.com/v1/audio-analysis/2F9lnTfWTZCvaHWSVTefUY',\n  'duration_ms': 170764,\n  'time_signature': 4},\n {'danceability': 0.722,\n  'energy': 0.848,\n  'key': 7,\n  'loudness': -6.164,\n  'mode': 1,\n  'speechiness': 0.0451,\n  'acousticness': 0.00041,\n  'instrumentalness': 0.26,\n  'liveness': 0.0723,\n  'valence': 0.359,\n  'tempo': 126.005,\n  'type': 'audio_features',\n  'id': '5r5MjmaLklyNOzKXY6Fqm5',\n  'uri': 'spotify:track:5r5MjmaLklyNOzKXY6Fqm5',\n  'track_href': 'https://api.spotify.com/v1/tracks/5r5MjmaLklyNOzKXY6Fqm5',\n  'analysis_url': 'https://api.spotify.com/v1/audio-analysis/5r5MjmaLklyNOzKXY6Fqm5',\n  'duration_ms': 208570,\n  'time_signature': 4},\n {'danceability': 0.704,\n  'energy': 0.759,\n  'key': 11,\n  'loudness': -6.714,\n  'mode': 1,\n  'speechiness': 0.0428,\n  'acousticness': 0.547,\n  'instrumentalness': 8.6e-05,\n  'liveness': 0.104,\n  'valence': 0.676,\n  'tempo': 130.045,\n  'type': 'audio_features',\n  'id': '2L3d9zBy8Iq8mKIde7cwmJ',\n  'uri': 'spotify:track:2L3d9zBy8Iq8mKIde7cwmJ',\n  'track_href': 'https://api.spotify.com/v1/tracks/2L3d9zBy8Iq8mKIde7cwmJ',\n  'analysis_url': 'https://api.spotify.com/v1/audio-analysis/2L3d9zBy8Iq8mKIde7cwmJ',\n  'duration_ms': 203213,\n  'time_signature': 4},\n {'danceability': 0.71,\n  'energy': 0.774,\n  'key': 8,\n  'loudness': -6.025,\n  'mode': 0,\n  'speechiness': 0.0344,\n  'acousticness': 0.134,\n  'instrumentalness': 0,\n  'liveness': 0.206,\n  'valence': 0.709,\n  'tempo': 124.009,\n  'type': 'audio_features',\n  'id': '5or0ryC6EUT7kS92UEGqxd',\n  'uri': 'spotify:track:5or0ryC6EUT7kS92UEGqxd',\n  'track_href': 'https://api.spotify.com/v1/tracks/5or0ryC6EUT7kS92UEGqxd',\n  'analysis_url': 'https://api.spotify.com/v1/audio-analysis/5or0ryC6EUT7kS92UEGqxd',\n  'duration_ms': 176382,\n  'time_signature': 4},\n {'danceability': 0.703,\n  'energy': 0.571,\n  'key': 0,\n  'loudness': -8.119,\n  'mode': 0,\n  'speechiness': 0.05,\n  'acousticness': 0.067,\n  'instrumentalness': 0.214,\n  'liveness': 0.123,\n  'valence': 0.735,\n  'tempo': 124.039,\n  'type': 'audio_features',\n  'id': '5z3Qr6kEyJiZhB0WHJSmCQ',\n  'uri': 'spotify:track:5z3Qr6kEyJiZhB0WHJSmCQ',\n  'track_href': 'https://api.spotify.com/v1/tracks/5z3Qr6kEyJiZhB0WHJSmCQ',\n  'analysis_url': 'https://api.spotify.com/v1/audio-analysis/5z3Qr6kEyJiZhB0WHJSmCQ',\n  'duration_ms': 224827,\n  'time_signature': 4},\n {'danceability': 0.796,\n  'energy': 0.927,\n  'key': 8,\n  'loudness': -7.498,\n  'mode': 0,\n  'speechiness': 0.0521,\n  'acousticness': 0.0114,\n  'instrumentalness': 0.925,\n  'liveness': 0.105,\n  'valence': 0.828,\n  'tempo': 127.003,\n  'type': 'audio_features',\n  'id': '6iwUBX2iTWRjHtBAGdqS0M',\n  'uri': 'spotify:track:6iwUBX2iTWRjHtBAGdqS0M',\n  'track_href': 'https://api.spotify.com/v1/tracks/6iwUBX2iTWRjHtBAGdqS0M',\n  'analysis_url': 'https://api.spotify.com/v1/audio-analysis/6iwUBX2iTWRjHtBAGdqS0M',\n  'duration_ms': 230551,\n  'time_signature': 4},\n {'danceability': 0.725,\n  'energy': 0.86,\n  'key': 1,\n  'loudness': -3.726,\n  'mode': 1,\n  'speechiness': 0.182,\n  'acousticness': 0.422,\n  'instrumentalness': 0.000284,\n  'liveness': 0.0674,\n  'valence': 0.791,\n  'tempo': 175.896,\n  'type': 'audio_features',\n  'id': '2vmfvSoZBFAt9hhRoEByLi',\n  'uri': 'spotify:track:2vmfvSoZBFAt9hhRoEByLi',\n  'track_href': 'https://api.spotify.com/v1/tracks/2vmfvSoZBFAt9hhRoEByLi',\n  'analysis_url': 'https://api.spotify.com/v1/audio-analysis/2vmfvSoZBFAt9hhRoEByLi',\n  'duration_ms': 230125,\n  'time_signature': 4},\n {'danceability': 0.78,\n  'energy': 0.718,\n  'key': 3,\n  'loudness': -3.605,\n  'mode': 0,\n  'speechiness': 0.0506,\n  'acousticness': 0.31,\n  'instrumentalness': 0.000163,\n  'liveness': 0.0932,\n  'valence': 0.342,\n  'tempo': 127.949,\n  'type': 'audio_features',\n  'id': '4fSIb4hdOQ151TILNsSEaF',\n  'uri': 'spotify:track:4fSIb4hdOQ151TILNsSEaF',\n  'track_href': 'https://api.spotify.com/v1/tracks/4fSIb4hdOQ151TILNsSEaF',\n  'analysis_url': 'https://api.spotify.com/v1/audio-analysis/4fSIb4hdOQ151TILNsSEaF',\n  'duration_ms': 199604,\n  'time_signature': 4},\n {'danceability': 0.871,\n  'energy': 0.815,\n  'key': 4,\n  'loudness': -4.439,\n  'mode': 1,\n  'speechiness': 0.0477,\n  'acousticness': 0.127,\n  'instrumentalness': 6.18e-06,\n  'liveness': 0.094,\n  'valence': 0.823,\n  'tempo': 122.959,\n  'type': 'audio_features',\n  'id': '0IqCoZ168iRc9LqfrYgpZy',\n  'uri': 'spotify:track:0IqCoZ168iRc9LqfrYgpZy',\n  'track_href': 'https://api.spotify.com/v1/tracks/0IqCoZ168iRc9LqfrYgpZy',\n  'analysis_url': 'https://api.spotify.com/v1/audio-analysis/0IqCoZ168iRc9LqfrYgpZy',\n  'duration_ms': 176575,\n  'time_signature': 4},\n {'danceability': 0.715,\n  'energy': 0.622,\n  'key': 4,\n  'loudness': -5.102,\n  'mode': 0,\n  'speechiness': 0.046,\n  'acousticness': 0.163,\n  'instrumentalness': 0,\n  'liveness': 0.0948,\n  'valence': 0.808,\n  'tempo': 80.015,\n  'type': 'audio_features',\n  'id': '2rCbl9naJYhaxjLsfx88uM',\n  'uri': 'spotify:track:2rCbl9naJYhaxjLsfx88uM',\n  'track_href': 'https://api.spotify.com/v1/tracks/2rCbl9naJYhaxjLsfx88uM',\n  'analysis_url': 'https://api.spotify.com/v1/audio-analysis/2rCbl9naJYhaxjLsfx88uM',\n  'duration_ms': 195053,\n  'time_signature': 4},\n {'danceability': 0.8,\n  'energy': 0.837,\n  'key': 6,\n  'loudness': -2.807,\n  'mode': 0,\n  'speechiness': 0.0491,\n  'acousticness': 0.00406,\n  'instrumentalness': 0.00313,\n  'liveness': 0.0904,\n  'valence': 0.702,\n  'tempo': 100.015,\n  'type': 'audio_features',\n  'id': '6IPNp9PfaEqrzotY47TIWy',\n  'uri': 'spotify:track:6IPNp9PfaEqrzotY47TIWy',\n  'track_href': 'https://api.spotify.com/v1/tracks/6IPNp9PfaEqrzotY47TIWy',\n  'analysis_url': 'https://api.spotify.com/v1/audio-analysis/6IPNp9PfaEqrzotY47TIWy',\n  'duration_ms': 225600,\n  'time_signature': 4},\n {'danceability': 0.644,\n  'energy': 0.648,\n  'key': 1,\n  'loudness': -4.601,\n  'mode': 1,\n  'speechiness': 0.118,\n  'acousticness': 0.276,\n  'instrumentalness': 0,\n  'liveness': 0.135,\n  'valence': 0.44,\n  'tempo': 179.951,\n  'type': 'audio_features',\n  'id': '2JPLbjOn0wPCngEot2STUS',\n  'uri': 'spotify:track:2JPLbjOn0wPCngEot2STUS',\n  'track_href': 'https://api.spotify.com/v1/tracks/2JPLbjOn0wPCngEot2STUS',\n  'analysis_url': 'https://api.spotify.com/v1/audio-analysis/2JPLbjOn0wPCngEot2STUS',\n  'duration_ms': 206710,\n  'time_signature': 4},\n {'danceability': 0.75,\n  'energy': 0.522,\n  'key': 9,\n  'loudness': -7.018,\n  'mode': 1,\n  'speechiness': 0.0293,\n  'acousticness': 0.282,\n  'instrumentalness': 0,\n  'liveness': 0.0743,\n  'valence': 0.601,\n  'tempo': 110.427,\n  'type': 'audio_features',\n  'id': '4OwhwvKESFtuu06dTgct7i',\n  'uri': 'spotify:track:4OwhwvKESFtuu06dTgct7i',\n  'track_href': 'https://api.spotify.com/v1/tracks/4OwhwvKESFtuu06dTgct7i',\n  'analysis_url': 'https://api.spotify.com/v1/audio-analysis/4OwhwvKESFtuu06dTgct7i',\n  'duration_ms': 321556,\n  'time_signature': 4},\n {'danceability': 0.762,\n  'energy': 0.77,\n  'key': 5,\n  'loudness': -2.758,\n  'mode': 1,\n  'speechiness': 0.223,\n  'acousticness': 0.138,\n  'instrumentalness': 0,\n  'liveness': 0.15,\n  'valence': 0.631,\n  'tempo': 177.998,\n  'type': 'audio_features',\n  'id': '4HzqWEdAbzcVFDv0pvxV4w',\n  'uri': 'spotify:track:4HzqWEdAbzcVFDv0pvxV4w',\n  'track_href': 'https://api.spotify.com/v1/tracks/4HzqWEdAbzcVFDv0pvxV4w',\n  'analysis_url': 'https://api.spotify.com/v1/audio-analysis/4HzqWEdAbzcVFDv0pvxV4w',\n  'duration_ms': 201181,\n  'time_signature': 4},\n {'danceability': 0.762,\n  'energy': 0.766,\n  'key': 7,\n  'loudness': -3.955,\n  'mode': 1,\n  'speechiness': 0.0343,\n  'acousticness': 0.00776,\n  'instrumentalness': 6.98e-05,\n  'liveness': 0.128,\n  'valence': 0.442,\n  'tempo': 130.001,\n  'type': 'audio_features',\n  'id': '5fwSHlTEWpluwOM0Sxnh5k',\n  'uri': 'spotify:track:5fwSHlTEWpluwOM0Sxnh5k',\n  'track_href': 'https://api.spotify.com/v1/tracks/5fwSHlTEWpluwOM0Sxnh5k',\n  'analysis_url': 'https://api.spotify.com/v1/audio-analysis/5fwSHlTEWpluwOM0Sxnh5k',\n  'duration_ms': 287120,\n  'time_signature': 4},\n {'danceability': 0.77,\n  'energy': 0.899,\n  'key': 8,\n  'loudness': -2.981,\n  'mode': 1,\n  'speechiness': 0.0494,\n  'acousticness': 0.222,\n  'instrumentalness': 1.14e-06,\n  'liveness': 0.0894,\n  'valence': 0.851,\n  'tempo': 128.05,\n  'type': 'audio_features',\n  'id': '6PDlkWmrq2ZKiUuFt2aQsH',\n  'uri': 'spotify:track:6PDlkWmrq2ZKiUuFt2aQsH',\n  'track_href': 'https://api.spotify.com/v1/tracks/6PDlkWmrq2ZKiUuFt2aQsH',\n  'analysis_url': 'https://api.spotify.com/v1/audio-analysis/6PDlkWmrq2ZKiUuFt2aQsH',\n  'duration_ms': 231604,\n  'time_signature': 4},\n {'danceability': 0.54,\n  'energy': 0.455,\n  'key': 3,\n  'loudness': -5.988,\n  'mode': 1,\n  'speechiness': 0.224,\n  'acousticness': 0.675,\n  'instrumentalness': 1.08e-05,\n  'liveness': 0.12,\n  'valence': 0.432,\n  'tempo': 83.876,\n  'type': 'audio_features',\n  'id': '71R8HJxQk5qMiRstrlXN9t',\n  'uri': 'spotify:track:71R8HJxQk5qMiRstrlXN9t',\n  'track_href': 'https://api.spotify.com/v1/tracks/71R8HJxQk5qMiRstrlXN9t',\n  'analysis_url': 'https://api.spotify.com/v1/audio-analysis/71R8HJxQk5qMiRstrlXN9t',\n  'duration_ms': 212032,\n  'time_signature': 4},\n {'danceability': 0.759,\n  'energy': 0.636,\n  'key': 6,\n  'loudness': -5.585,\n  'mode': 1,\n  'speechiness': 0.0369,\n  'acousticness': 0.0224,\n  'instrumentalness': 0.000143,\n  'liveness': 0.166,\n  'valence': 0.536,\n  'tempo': 109.976,\n  'type': 'audio_features',\n  'id': '5cpJFiNwYyWwFLH0V6B3N8',\n  'uri': 'spotify:track:5cpJFiNwYyWwFLH0V6B3N8',\n  'track_href': 'https://api.spotify.com/v1/tracks/5cpJFiNwYyWwFLH0V6B3N8',\n  'analysis_url': 'https://api.spotify.com/v1/audio-analysis/5cpJFiNwYyWwFLH0V6B3N8',\n  'duration_ms': 214507,\n  'time_signature': 4},\n {'danceability': 0.503,\n  'energy': 0.548,\n  'key': 0,\n  'loudness': -7.564,\n  'mode': 0,\n  'speechiness': 0.164,\n  'acousticness': 0.0751,\n  'instrumentalness': 0.000234,\n  'liveness': 0.145,\n  'valence': 0.441,\n  'tempo': 94.036,\n  'type': 'audio_features',\n  'id': '2CdTLdDjwZdVcm0bresVWx',\n  'uri': 'spotify:track:2CdTLdDjwZdVcm0bresVWx',\n  'track_href': 'https://api.spotify.com/v1/tracks/2CdTLdDjwZdVcm0bresVWx',\n  'analysis_url': 'https://api.spotify.com/v1/audio-analysis/2CdTLdDjwZdVcm0bresVWx',\n  'duration_ms': 228920,\n  'time_signature': 4},\n {'danceability': 0.856,\n  'energy': 0.618,\n  'key': 7,\n  'loudness': -4.892,\n  'mode': 1,\n  'speechiness': 0.286,\n  'acousticness': 0.0303,\n  'instrumentalness': 0,\n  'liveness': 0.0866,\n  'valence': 0.391,\n  'tempo': 81.993,\n  'type': 'audio_features',\n  'id': '2XIc1pqjXV3Cr2BQUGNBck',\n  'uri': 'spotify:track:2XIc1pqjXV3Cr2BQUGNBck',\n  'track_href': 'https://api.spotify.com/v1/tracks/2XIc1pqjXV3Cr2BQUGNBck',\n  'analysis_url': 'https://api.spotify.com/v1/audio-analysis/2XIc1pqjXV3Cr2BQUGNBck',\n  'duration_ms': 203201,\n  'time_signature': 4},\n {'danceability': 0.85,\n  'energy': 0.541,\n  'key': 2,\n  'loudness': -4.522,\n  'mode': 1,\n  'speechiness': 0.0674,\n  'acousticness': 0.161,\n  'instrumentalness': 5.01e-06,\n  'liveness': 0.286,\n  'valence': 0.916,\n  'tempo': 92.003,\n  'type': 'audio_features',\n  'id': '0cOa970mzTWAxKtltpkpLc',\n  'uri': 'spotify:track:0cOa970mzTWAxKtltpkpLc',\n  'track_href': 'https://api.spotify.com/v1/tracks/0cOa970mzTWAxKtltpkpLc',\n  'analysis_url': 'https://api.spotify.com/v1/audio-analysis/0cOa970mzTWAxKtltpkpLc',\n  'duration_ms': 165275,\n  'time_signature': 4},\n {'danceability': 0.57,\n  'energy': 0.455,\n  'key': 1,\n  'loudness': -5.748,\n  'mode': 0,\n  'speechiness': 0.0996,\n  'acousticness': 0.441,\n  'instrumentalness': 0.000746,\n  'liveness': 0.0654,\n  'valence': 0.399,\n  'tempo': 167.933,\n  'type': 'audio_features',\n  'id': '4bF2y8rR7GUjrd5LNEvej3',\n  'uri': 'spotify:track:4bF2y8rR7GUjrd5LNEvej3',\n  'track_href': 'https://api.spotify.com/v1/tracks/4bF2y8rR7GUjrd5LNEvej3',\n  'analysis_url': 'https://api.spotify.com/v1/audio-analysis/4bF2y8rR7GUjrd5LNEvej3',\n  'duration_ms': 151429,\n  'time_signature': 4},\n {'danceability': 0.781,\n  'energy': 0.748,\n  'key': 1,\n  'loudness': -4.604,\n  'mode': 1,\n  'speechiness': 0.242,\n  'acousticness': 0.105,\n  'instrumentalness': 0,\n  'liveness': 0.156,\n  'valence': 0.788,\n  'tempo': 149.819,\n  'type': 'audio_features',\n  'id': '0EtuSDTRJYUwlPf4y6coIz',\n  'uri': 'spotify:track:0EtuSDTRJYUwlPf4y6coIz',\n  'track_href': 'https://api.spotify.com/v1/tracks/0EtuSDTRJYUwlPf4y6coIz',\n  'analysis_url': 'https://api.spotify.com/v1/audio-analysis/0EtuSDTRJYUwlPf4y6coIz',\n  'duration_ms': 224168,\n  'time_signature': 4},\n {'danceability': 0.635,\n  'energy': 0.706,\n  'key': 5,\n  'loudness': -3.224,\n  'mode': 0,\n  'speechiness': 0.125,\n  'acousticness': 0.256,\n  'instrumentalness': 0,\n  'liveness': 0.108,\n  'valence': 0.443,\n  'tempo': 88.863,\n  'type': 'audio_features',\n  'id': '2FSGUA0gFgGeQdprjtGM2M',\n  'uri': 'spotify:track:2FSGUA0gFgGeQdprjtGM2M',\n  'track_href': 'https://api.spotify.com/v1/tracks/2FSGUA0gFgGeQdprjtGM2M',\n  'analysis_url': 'https://api.spotify.com/v1/audio-analysis/2FSGUA0gFgGeQdprjtGM2M',\n  'duration_ms': 209160,\n  'time_signature': 4},\n {'danceability': 0.86,\n  'energy': 0.516,\n  'key': 6,\n  'loudness': -5.518,\n  'mode': 0,\n  'speechiness': 0.145,\n  'acousticness': 0.0616,\n  'instrumentalness': 0,\n  'liveness': 0.0791,\n  'valence': 0.591,\n  'tempo': 98.005,\n  'type': 'audio_features',\n  'id': '1wcE84DVQUF16xudVFzezL',\n  'uri': 'spotify:track:1wcE84DVQUF16xudVFzezL',\n  'track_href': 'https://api.spotify.com/v1/tracks/1wcE84DVQUF16xudVFzezL',\n  'analysis_url': 'https://api.spotify.com/v1/audio-analysis/1wcE84DVQUF16xudVFzezL',\n  'duration_ms': 190406,\n  'time_signature': 4},\n {'danceability': 0.659,\n  'energy': 0.688,\n  'key': 6,\n  'loudness': -4.649,\n  'mode': 1,\n  'speechiness': 0.0673,\n  'acousticness': 0.207,\n  'instrumentalness': 0,\n  'liveness': 0.113,\n  'valence': 0.632,\n  'tempo': 153.979,\n  'type': 'audio_features',\n  'id': '0G2zPzWqVjR68iNPmx2TBe',\n  'uri': 'spotify:track:0G2zPzWqVjR68iNPmx2TBe',\n  'track_href': 'https://api.spotify.com/v1/tracks/0G2zPzWqVjR68iNPmx2TBe',\n  'analysis_url': 'https://api.spotify.com/v1/audio-analysis/0G2zPzWqVjR68iNPmx2TBe',\n  'duration_ms': 273474,\n  'time_signature': 4},\n {'danceability': 0.807,\n  'energy': 0.712,\n  'key': 1,\n  'loudness': -5.757,\n  'mode': 1,\n  'speechiness': 0.1,\n  'acousticness': 0.532,\n  'instrumentalness': 2.37e-05,\n  'liveness': 0.163,\n  'valence': 0.792,\n  'tempo': 100.004,\n  'type': 'audio_features',\n  'id': '5RAIMjdrCEjpjaR5tBATXU',\n  'uri': 'spotify:track:5RAIMjdrCEjpjaR5tBATXU',\n  'track_href': 'https://api.spotify.com/v1/tracks/5RAIMjdrCEjpjaR5tBATXU',\n  'analysis_url': 'https://api.spotify.com/v1/audio-analysis/5RAIMjdrCEjpjaR5tBATXU',\n  'duration_ms': 241659,\n  'time_signature': 4},\n {'danceability': 0.731,\n  'energy': 0.573,\n  'key': 4,\n  'loudness': -10.059,\n  'mode': 0,\n  'speechiness': 0.0544,\n  'acousticness': 0.401,\n  'instrumentalness': 5.22e-05,\n  'liveness': 0.113,\n  'valence': 0.145,\n  'tempo': 109.928,\n  'type': 'audio_features',\n  'id': '47EiUVwUp4C9fGccaPuUCS',\n  'uri': 'spotify:track:47EiUVwUp4C9fGccaPuUCS',\n  'track_href': 'https://api.spotify.com/v1/tracks/47EiUVwUp4C9fGccaPuUCS',\n  'analysis_url': 'https://api.spotify.com/v1/audio-analysis/47EiUVwUp4C9fGccaPuUCS',\n  'duration_ms': 205090,\n  'time_signature': 4},\n {'danceability': 0.759,\n  'energy': 0.842,\n  'key': 8,\n  'loudness': -3.758,\n  'mode': 1,\n  'speechiness': 0.096,\n  'acousticness': 0.101,\n  'instrumentalness': 0,\n  'liveness': 0.134,\n  'valence': 0.584,\n  'tempo': 105.059,\n  'type': 'audio_features',\n  'id': '3JCaq3KDSROg3TXhdiDa9n',\n  'uri': 'spotify:track:3JCaq3KDSROg3TXhdiDa9n',\n  'track_href': 'https://api.spotify.com/v1/tracks/3JCaq3KDSROg3TXhdiDa9n',\n  'analysis_url': 'https://api.spotify.com/v1/audio-analysis/3JCaq3KDSROg3TXhdiDa9n',\n  'duration_ms': 263253,\n  'time_signature': 4},\n {'danceability': 0.852,\n  'energy': 0.593,\n  'key': 6,\n  'loudness': -5.892,\n  'mode': 1,\n  'speechiness': 0.0702,\n  'acousticness': 0.386,\n  'instrumentalness': 0.168,\n  'liveness': 0.154,\n  'valence': 0.87,\n  'tempo': 90.002,\n  'type': 'audio_features',\n  'id': '66S2z95FN3nUAr9S1gUIsp',\n  'uri': 'spotify:track:66S2z95FN3nUAr9S1gUIsp',\n  'track_href': 'https://api.spotify.com/v1/tracks/66S2z95FN3nUAr9S1gUIsp',\n  'analysis_url': 'https://api.spotify.com/v1/audio-analysis/66S2z95FN3nUAr9S1gUIsp',\n  'duration_ms': 221407,\n  'time_signature': 4},\n {'danceability': 0.863,\n  'energy': 0.666,\n  'key': 1,\n  'loudness': -4.158,\n  'mode': 0,\n  'speechiness': 0.152,\n  'acousticness': 0.212,\n  'instrumentalness': 0.000493,\n  'liveness': 0.103,\n  'valence': 0.838,\n  'tempo': 163.908,\n  'type': 'audio_features',\n  'id': '7vrJn5hDSXRmdXoR30KgF1',\n  'uri': 'spotify:track:7vrJn5hDSXRmdXoR30KgF1',\n  'track_href': 'https://api.spotify.com/v1/tracks/7vrJn5hDSXRmdXoR30KgF1',\n  'analysis_url': 'https://api.spotify.com/v1/audio-analysis/7vrJn5hDSXRmdXoR30KgF1',\n  'duration_ms': 178947,\n  'time_signature': 4},\n {'danceability': 0.573,\n  'energy': 0.691,\n  'key': 10,\n  'loudness': -5.142,\n  'mode': 0,\n  'speechiness': 0.0601,\n  'acousticness': 0.123,\n  'instrumentalness': 0,\n  'liveness': 0.0746,\n  'valence': 0.93,\n  'tempo': 129.946,\n  'type': 'audio_features',\n  'id': '30oZjF87SHCd0CE0ttGm5U',\n  'uri': 'spotify:track:30oZjF87SHCd0CE0ttGm5U',\n  'track_href': 'https://api.spotify.com/v1/tracks/30oZjF87SHCd0CE0ttGm5U',\n  'analysis_url': 'https://api.spotify.com/v1/audio-analysis/30oZjF87SHCd0CE0ttGm5U',\n  'duration_ms': 191209,\n  'time_signature': 4},\n {'danceability': 0.787,\n  'energy': 0.728,\n  'key': 6,\n  'loudness': -3.455,\n  'mode': 0,\n  'speechiness': 0.389,\n  'acousticness': 0.189,\n  'instrumentalness': 2.29e-05,\n  'liveness': 0.0629,\n  'valence': 0.545,\n  'tempo': 180.066,\n  'type': 'audio_features',\n  'id': '4uoR6qeWeuL4Qeu2qJzkuG',\n  'uri': 'spotify:track:4uoR6qeWeuL4Qeu2qJzkuG',\n  'track_href': 'https://api.spotify.com/v1/tracks/4uoR6qeWeuL4Qeu2qJzkuG',\n  'analysis_url': 'https://api.spotify.com/v1/audio-analysis/4uoR6qeWeuL4Qeu2qJzkuG',\n  'duration_ms': 200198,\n  'time_signature': 4},\n {'danceability': 0.571,\n  'energy': 0.693,\n  'key': 6,\n  'loudness': -8.234,\n  'mode': 0,\n  'speechiness': 0.0545,\n  'acousticness': 0.00536,\n  'instrumentalness': 0,\n  'liveness': 0.173,\n  'valence': 0.393,\n  'tempo': 168.169,\n  'type': 'audio_features',\n  'id': '0EhpEsp4L0oRGM0vmeaN5e',\n  'uri': 'spotify:track:0EhpEsp4L0oRGM0vmeaN5e',\n  'track_href': 'https://api.spotify.com/v1/tracks/0EhpEsp4L0oRGM0vmeaN5e',\n  'analysis_url': 'https://api.spotify.com/v1/audio-analysis/0EhpEsp4L0oRGM0vmeaN5e',\n  'duration_ms': 232253,\n  'time_signature': 4},\n {'danceability': 0.89,\n  'energy': 0.666,\n  'key': 7,\n  'loudness': -4.361,\n  'mode': 1,\n  'speechiness': 0.129,\n  'acousticness': 0.0606,\n  'instrumentalness': 6.54e-05,\n  'liveness': 0.11,\n  'valence': 0.269,\n  'tempo': 98.018,\n  'type': 'audio_features',\n  'id': '5cy2dREJqJAyf3CNr509W7',\n  'uri': 'spotify:track:5cy2dREJqJAyf3CNr509W7',\n  'track_href': 'https://api.spotify.com/v1/tracks/5cy2dREJqJAyf3CNr509W7',\n  'analysis_url': 'https://api.spotify.com/v1/audio-analysis/5cy2dREJqJAyf3CNr509W7',\n  'duration_ms': 165360,\n  'time_signature': 4},\n {'danceability': 0.826,\n  'energy': 0.74,\n  'key': 1,\n  'loudness': -4.45,\n  'mode': 0,\n  'speechiness': 0.0368,\n  'acousticness': 0.142,\n  'instrumentalness': 2.59e-05,\n  'liveness': 0.175,\n  'valence': 0.733,\n  'tempo': 130.025,\n  'type': 'audio_features',\n  'id': '5xiAfKzE3mbxYbOkUZPR11',\n  'uri': 'spotify:track:5xiAfKzE3mbxYbOkUZPR11',\n  'track_href': 'https://api.spotify.com/v1/tracks/5xiAfKzE3mbxYbOkUZPR11',\n  'analysis_url': 'https://api.spotify.com/v1/audio-analysis/5xiAfKzE3mbxYbOkUZPR11',\n  'duration_ms': 239925,\n  'time_signature': 4},\n {'danceability': 0.862,\n  'energy': 0.72,\n  'key': 4,\n  'loudness': -4.048,\n  'mode': 1,\n  'speechiness': 0.0379,\n  'acousticness': 0.487,\n  'instrumentalness': 1.19e-06,\n  'liveness': 0.0604,\n  'valence': 0.965,\n  'tempo': 129.972,\n  'type': 'audio_features',\n  'id': '7D7EH7MGyNHWSkqrszerI1',\n  'uri': 'spotify:track:7D7EH7MGyNHWSkqrszerI1',\n  'track_href': 'https://api.spotify.com/v1/tracks/7D7EH7MGyNHWSkqrszerI1',\n  'analysis_url': 'https://api.spotify.com/v1/audio-analysis/7D7EH7MGyNHWSkqrszerI1',\n  'duration_ms': 198707,\n  'time_signature': 4},\n {'danceability': 0.79,\n  'energy': 0.766,\n  'key': 6,\n  'loudness': -3.497,\n  'mode': 0,\n  'speechiness': 0.111,\n  'acousticness': 0.324,\n  'instrumentalness': 0,\n  'liveness': 0.0832,\n  'valence': 0.825,\n  'tempo': 82.026,\n  'type': 'audio_features',\n  'id': '6GPBXtnSepHovJi1uD1Ggj',\n  'uri': 'spotify:track:6GPBXtnSepHovJi1uD1Ggj',\n  'track_href': 'https://api.spotify.com/v1/tracks/6GPBXtnSepHovJi1uD1Ggj',\n  'analysis_url': 'https://api.spotify.com/v1/audio-analysis/6GPBXtnSepHovJi1uD1Ggj',\n  'duration_ms': 226010,\n  'time_signature': 4},\n {'danceability': 0.714,\n  'energy': 0.761,\n  'key': 5,\n  'loudness': -4.596,\n  'mode': 0,\n  'speechiness': 0.0427,\n  'acousticness': 0.139,\n  'instrumentalness': 0.00035,\n  'liveness': 0.241,\n  'valence': 0.906,\n  'tempo': 168.022,\n  'type': 'audio_features',\n  'id': '5y7DaS3jAc9eZzcSOoUIwU',\n  'uri': 'spotify:track:5y7DaS3jAc9eZzcSOoUIwU',\n  'track_href': 'https://api.spotify.com/v1/tracks/5y7DaS3jAc9eZzcSOoUIwU',\n  'analysis_url': 'https://api.spotify.com/v1/audio-analysis/5y7DaS3jAc9eZzcSOoUIwU',\n  'duration_ms': 230693,\n  'time_signature': 4},\n {'danceability': 0.725,\n  'energy': 0.756,\n  'key': 4,\n  'loudness': -5.013,\n  'mode': 1,\n  'speechiness': 0.0572,\n  'acousticness': 0.362,\n  'instrumentalness': 0.000685,\n  'liveness': 0.103,\n  'valence': 0.828,\n  'tempo': 100.07,\n  'type': 'audio_features',\n  'id': '3VvA1wSxukMLsvXoXtlwWx',\n  'uri': 'spotify:track:3VvA1wSxukMLsvXoXtlwWx',\n  'track_href': 'https://api.spotify.com/v1/tracks/3VvA1wSxukMLsvXoXtlwWx',\n  'analysis_url': 'https://api.spotify.com/v1/audio-analysis/3VvA1wSxukMLsvXoXtlwWx',\n  'duration_ms': 186133,\n  'time_signature': 4},\n {'danceability': 0.684,\n  'energy': 0.808,\n  'key': 0,\n  'loudness': -2.737,\n  'mode': 1,\n  'speechiness': 0.061,\n  'acousticness': 0.0518,\n  'instrumentalness': 1.02e-05,\n  'liveness': 0.0858,\n  'valence': 0.712,\n  'tempo': 173.905,\n  'type': 'audio_features',\n  'id': '4K8cyoCDovlc4FvtUr2Hfx',\n  'uri': 'spotify:track:4K8cyoCDovlc4FvtUr2Hfx',\n  'track_href': 'https://api.spotify.com/v1/tracks/4K8cyoCDovlc4FvtUr2Hfx',\n  'analysis_url': 'https://api.spotify.com/v1/audio-analysis/4K8cyoCDovlc4FvtUr2Hfx',\n  'duration_ms': 174027,\n  'time_signature': 4},\n {'danceability': 0.839,\n  'energy': 0.711,\n  'key': 6,\n  'loudness': -4.733,\n  'mode': 0,\n  'speechiness': 0.0473,\n  'acousticness': 0.398,\n  'instrumentalness': 2.02e-06,\n  'liveness': 0.118,\n  'valence': 0.573,\n  'tempo': 97.99,\n  'type': 'audio_features',\n  'id': '43qcs9NpJhDxtG91zxFkj7',\n  'uri': 'spotify:track:43qcs9NpJhDxtG91zxFkj7',\n  'track_href': 'https://api.spotify.com/v1/tracks/43qcs9NpJhDxtG91zxFkj7',\n  'analysis_url': 'https://api.spotify.com/v1/audio-analysis/43qcs9NpJhDxtG91zxFkj7',\n  'duration_ms': 349547,\n  'time_signature': 4},\n {'danceability': 0.823,\n  'energy': 0.544,\n  'key': 5,\n  'loudness': -7.132,\n  'mode': 1,\n  'speechiness': 0.0715,\n  'acousticness': 0.0215,\n  'instrumentalness': 0.00315,\n  'liveness': 0.0966,\n  'valence': 0.664,\n  'tempo': 149.903,\n  'type': 'audio_features',\n  'id': '079Ey5uxL04AKPQgVQwx5h',\n  'uri': 'spotify:track:079Ey5uxL04AKPQgVQwx5h',\n  'track_href': 'https://api.spotify.com/v1/tracks/079Ey5uxL04AKPQgVQwx5h',\n  'analysis_url': 'https://api.spotify.com/v1/audio-analysis/079Ey5uxL04AKPQgVQwx5h',\n  'duration_ms': 186088,\n  'time_signature': 4},\n {'danceability': 0.656,\n  'energy': 0.823,\n  'key': 1,\n  'loudness': -3.059,\n  'mode': 0,\n  'speechiness': 0.315,\n  'acousticness': 0.47,\n  'instrumentalness': 0,\n  'liveness': 0.103,\n  'valence': 0.755,\n  'tempo': 96.474,\n  'type': 'audio_features',\n  'id': '2Gq636OOGgxCTqEuzCZhsa',\n  'uri': 'spotify:track:2Gq636OOGgxCTqEuzCZhsa',\n  'track_href': 'https://api.spotify.com/v1/tracks/2Gq636OOGgxCTqEuzCZhsa',\n  'analysis_url': 'https://api.spotify.com/v1/audio-analysis/2Gq636OOGgxCTqEuzCZhsa',\n  'duration_ms': 160000,\n  'time_signature': 4},\n {'danceability': 0.793,\n  'energy': 0.771,\n  'key': 5,\n  'loudness': -3.417,\n  'mode': 1,\n  'speechiness': 0.0959,\n  'acousticness': 0.0337,\n  'instrumentalness': 1.51e-06,\n  'liveness': 0.284,\n  'valence': 0.835,\n  'tempo': 171.943,\n  'type': 'audio_features',\n  'id': '35UUpTmrcFXNIVIN26ujXl',\n  'uri': 'spotify:track:35UUpTmrcFXNIVIN26ujXl',\n  'track_href': 'https://api.spotify.com/v1/tracks/35UUpTmrcFXNIVIN26ujXl',\n  'analysis_url': 'https://api.spotify.com/v1/audio-analysis/35UUpTmrcFXNIVIN26ujXl',\n  'duration_ms': 247308,\n  'time_signature': 4},\n {'danceability': 0.965,\n  'energy': 0.485,\n  'key': 2,\n  'loudness': -8.784,\n  'mode': 1,\n  'speechiness': 0.191,\n  'acousticness': 0.0206,\n  'instrumentalness': 0.0237,\n  'liveness': 0.0655,\n  'valence': 0.312,\n  'tempo': 124.025,\n  'type': 'audio_features',\n  'id': '1zLBsSVxETQOfINOLYvT5m',\n  'uri': 'spotify:track:1zLBsSVxETQOfINOLYvT5m',\n  'track_href': 'https://api.spotify.com/v1/tracks/1zLBsSVxETQOfINOLYvT5m',\n  'analysis_url': 'https://api.spotify.com/v1/audio-analysis/1zLBsSVxETQOfINOLYvT5m',\n  'duration_ms': 222523,\n  'time_signature': 4},\n {'danceability': 0.704,\n  'energy': 0.698,\n  'key': 0,\n  'loudness': -4.679,\n  'mode': 0,\n  'speechiness': 0.306,\n  'acousticness': 0.238,\n  'instrumentalness': 0,\n  'liveness': 0.109,\n  'valence': 0.61,\n  'tempo': 177.867,\n  'type': 'audio_features',\n  'id': '1ycIhjQ4fQp2WqNFpSDEcX',\n  'uri': 'spotify:track:1ycIhjQ4fQp2WqNFpSDEcX',\n  'track_href': 'https://api.spotify.com/v1/tracks/1ycIhjQ4fQp2WqNFpSDEcX',\n  'analysis_url': 'https://api.spotify.com/v1/audio-analysis/1ycIhjQ4fQp2WqNFpSDEcX',\n  'duration_ms': 211436,\n  'time_signature': 4},\n {'danceability': 0.574,\n  'energy': 0.891,\n  'key': 0,\n  'loudness': -3.665,\n  'mode': 0,\n  'speechiness': 0.157,\n  'acousticness': 0.0847,\n  'instrumentalness': 0,\n  'liveness': 0.16,\n  'valence': 0.707,\n  'tempo': 100.978,\n  'type': 'audio_features',\n  'id': '21N4Buj4xsyLb218lYle61',\n  'uri': 'spotify:track:21N4Buj4xsyLb218lYle61',\n  'track_href': 'https://api.spotify.com/v1/tracks/21N4Buj4xsyLb218lYle61',\n  'analysis_url': 'https://api.spotify.com/v1/audio-analysis/21N4Buj4xsyLb218lYle61',\n  'duration_ms': 183240,\n  'time_signature': 4},\n {'danceability': 0.702,\n  'energy': 0.758,\n  'key': 9,\n  'loudness': -4.405,\n  'mode': 1,\n  'speechiness': 0.278,\n  'acousticness': 0.14,\n  'instrumentalness': 0,\n  'liveness': 0.111,\n  'valence': 0.837,\n  'tempo': 167.915,\n  'type': 'audio_features',\n  'id': '1ZN2Dat0KrO0xqr9t8QP9r',\n  'uri': 'spotify:track:1ZN2Dat0KrO0xqr9t8QP9r',\n  'track_href': 'https://api.spotify.com/v1/tracks/1ZN2Dat0KrO0xqr9t8QP9r',\n  'analysis_url': 'https://api.spotify.com/v1/audio-analysis/1ZN2Dat0KrO0xqr9t8QP9r',\n  'duration_ms': 188598,\n  'time_signature': 4},\n {'danceability': 0.665,\n  'energy': 0.94,\n  'key': 5,\n  'loudness': -3.606,\n  'mode': 1,\n  'speechiness': 0.0553,\n  'acousticness': 0.434,\n  'instrumentalness': 0,\n  'liveness': 0.0914,\n  'valence': 0.752,\n  'tempo': 93.725,\n  'type': 'audio_features',\n  'id': '7AUhck1sPy11OExQmDDx4P',\n  'uri': 'spotify:track:7AUhck1sPy11OExQmDDx4P',\n  'track_href': 'https://api.spotify.com/v1/tracks/7AUhck1sPy11OExQmDDx4P',\n  'analysis_url': 'https://api.spotify.com/v1/audio-analysis/7AUhck1sPy11OExQmDDx4P',\n  'duration_ms': 231593,\n  'time_signature': 4},\n {'danceability': 0.915,\n  'energy': 0.72,\n  'key': 8,\n  'loudness': -3.126,\n  'mode': 1,\n  'speechiness': 0.0459,\n  'acousticness': 0.025,\n  'instrumentalness': 1.42e-05,\n  'liveness': 0.0942,\n  'valence': 0.631,\n  'tempo': 126.986,\n  'type': 'audio_features',\n  'id': '63aj87TQG6F3RVO5nbG2VQ',\n  'uri': 'spotify:track:63aj87TQG6F3RVO5nbG2VQ',\n  'track_href': 'https://api.spotify.com/v1/tracks/63aj87TQG6F3RVO5nbG2VQ',\n  'analysis_url': 'https://api.spotify.com/v1/audio-analysis/63aj87TQG6F3RVO5nbG2VQ',\n  'duration_ms': 131067,\n  'time_signature': 4},\n {'danceability': 0.823,\n  'energy': 0.537,\n  'key': 8,\n  'loudness': -2.639,\n  'mode': 1,\n  'speechiness': 0.209,\n  'acousticness': 0.176,\n  'instrumentalness': 3.98e-06,\n  'liveness': 0.123,\n  'valence': 0.615,\n  'tempo': 175.946,\n  'type': 'audio_features',\n  'id': '7r9ZhitdQBONTFOiJW5mr8',\n  'uri': 'spotify:track:7r9ZhitdQBONTFOiJW5mr8',\n  'track_href': 'https://api.spotify.com/v1/tracks/7r9ZhitdQBONTFOiJW5mr8',\n  'analysis_url': 'https://api.spotify.com/v1/audio-analysis/7r9ZhitdQBONTFOiJW5mr8',\n  'duration_ms': 231595,\n  'time_signature': 4},\n {'danceability': 0.718,\n  'energy': 0.712,\n  'key': 11,\n  'loudness': -4.366,\n  'mode': 1,\n  'speechiness': 0.174,\n  'acousticness': 0.512,\n  'instrumentalness': 0.00121,\n  'liveness': 0.104,\n  'valence': 0.531,\n  'tempo': 180.034,\n  'type': 'audio_features',\n  'id': '7x4ASXYEKfQBCewcZhK776',\n  'uri': 'spotify:track:7x4ASXYEKfQBCewcZhK776',\n  'track_href': 'https://api.spotify.com/v1/tracks/7x4ASXYEKfQBCewcZhK776',\n  'analysis_url': 'https://api.spotify.com/v1/audio-analysis/7x4ASXYEKfQBCewcZhK776',\n  'duration_ms': 189653,\n  'time_signature': 4},\n {'danceability': 0.743,\n  'energy': 0.674,\n  'key': 2,\n  'loudness': -4.201,\n  'mode': 1,\n  'speechiness': 0.129,\n  'acousticness': 0.15,\n  'instrumentalness': 0,\n  'liveness': 0.0986,\n  'valence': 0.932,\n  'tempo': 174.024,\n  'type': 'audio_features',\n  'id': '4WkEH0PgystZUaN6QU6Z0B',\n  'uri': 'spotify:track:4WkEH0PgystZUaN6QU6Z0B',\n  'track_href': 'https://api.spotify.com/v1/tracks/4WkEH0PgystZUaN6QU6Z0B',\n  'analysis_url': 'https://api.spotify.com/v1/audio-analysis/4WkEH0PgystZUaN6QU6Z0B',\n  'duration_ms': 190345,\n  'time_signature': 4},\n {'danceability': 0.786,\n  'energy': 0.899,\n  'key': 10,\n  'loudness': -0.515,\n  'mode': 1,\n  'speechiness': 0.127,\n  'acousticness': 0.192,\n  'instrumentalness': 0.000189,\n  'liveness': 0.299,\n  'valence': 0.813,\n  'tempo': 90.025,\n  'type': 'audio_features',\n  'id': '5u7twkeask1VIyDeNTElSU',\n  'uri': 'spotify:track:5u7twkeask1VIyDeNTElSU',\n  'track_href': 'https://api.spotify.com/v1/tracks/5u7twkeask1VIyDeNTElSU',\n  'analysis_url': 'https://api.spotify.com/v1/audio-analysis/5u7twkeask1VIyDeNTElSU',\n  'duration_ms': 216510,\n  'time_signature': 4},\n {'danceability': 0.9,\n  'energy': 0.603,\n  'key': 2,\n  'loudness': -5.313,\n  'mode': 1,\n  'speechiness': 0.0646,\n  'acousticness': 0.402,\n  'instrumentalness': 4.81e-06,\n  'liveness': 0.134,\n  'valence': 0.824,\n  'tempo': 129.928,\n  'type': 'audio_features',\n  'id': '41wtwzCZkXwpnakmwJ239F',\n  'uri': 'spotify:track:41wtwzCZkXwpnakmwJ239F',\n  'track_href': 'https://api.spotify.com/v1/tracks/41wtwzCZkXwpnakmwJ239F',\n  'analysis_url': 'https://api.spotify.com/v1/audio-analysis/41wtwzCZkXwpnakmwJ239F',\n  'duration_ms': 170972,\n  'time_signature': 4},\n {'danceability': 0.823,\n  'energy': 0.821,\n  'key': 8,\n  'loudness': -3.402,\n  'mode': 0,\n  'speechiness': 0.166,\n  'acousticness': 0.31,\n  'instrumentalness': 4.28e-06,\n  'liveness': 0.143,\n  'valence': 0.791,\n  'tempo': 99.999,\n  'type': 'audio_features',\n  'id': '2bgcUk2A3jjKbCJ7KPquTi',\n  'uri': 'spotify:track:2bgcUk2A3jjKbCJ7KPquTi',\n  'track_href': 'https://api.spotify.com/v1/tracks/2bgcUk2A3jjKbCJ7KPquTi',\n  'analysis_url': 'https://api.spotify.com/v1/audio-analysis/2bgcUk2A3jjKbCJ7KPquTi',\n  'duration_ms': 213314,\n  'time_signature': 4},\n {'danceability': 0.823,\n  'energy': 0.772,\n  'key': 0,\n  'loudness': -4.935,\n  'mode': 1,\n  'speechiness': 0.0591,\n  'acousticness': 0.243,\n  'instrumentalness': 0,\n  'liveness': 0.118,\n  'valence': 0.582,\n  'tempo': 96.001,\n  'type': 'audio_features',\n  'id': '70uX4beGHc1nQikXveOknp',\n  'uri': 'spotify:track:70uX4beGHc1nQikXveOknp',\n  'track_href': 'https://api.spotify.com/v1/tracks/70uX4beGHc1nQikXveOknp',\n  'analysis_url': 'https://api.spotify.com/v1/audio-analysis/70uX4beGHc1nQikXveOknp',\n  'duration_ms': 230728,\n  'time_signature': 4},\n {'danceability': 0.729,\n  'energy': 0.513,\n  'key': 5,\n  'loudness': -6.345,\n  'mode': 0,\n  'speechiness': 0.0455,\n  'acousticness': 0.494,\n  'instrumentalness': 1.1e-06,\n  'liveness': 0.137,\n  'valence': 0.789,\n  'tempo': 170.064,\n  'type': 'audio_features',\n  'id': '6w8yBI2vthyN9UnwO4UBWb',\n  'uri': 'spotify:track:6w8yBI2vthyN9UnwO4UBWb',\n  'track_href': 'https://api.spotify.com/v1/tracks/6w8yBI2vthyN9UnwO4UBWb',\n  'analysis_url': 'https://api.spotify.com/v1/audio-analysis/6w8yBI2vthyN9UnwO4UBWb',\n  'duration_ms': 192353,\n  'time_signature': 3},\n {'danceability': 0.854,\n  'energy': 0.525,\n  'key': 1,\n  'loudness': -4.426,\n  'mode': 1,\n  'speechiness': 0.214,\n  'acousticness': 0.819,\n  'instrumentalness': 0,\n  'liveness': 0.146,\n  'valence': 0.63,\n  'tempo': 97.054,\n  'type': 'audio_features',\n  'id': '6fmQjRuo7XvRFCK2qex5hQ',\n  'uri': 'spotify:track:6fmQjRuo7XvRFCK2qex5hQ',\n  'track_href': 'https://api.spotify.com/v1/tracks/6fmQjRuo7XvRFCK2qex5hQ',\n  'analysis_url': 'https://api.spotify.com/v1/audio-analysis/6fmQjRuo7XvRFCK2qex5hQ',\n  'duration_ms': 197587,\n  'time_signature': 4},\n {'danceability': 0.744,\n  'energy': 0.679,\n  'key': 5,\n  'loudness': -3.51,\n  'mode': 1,\n  'speechiness': 0.0791,\n  'acousticness': 0.0654,\n  'instrumentalness': 0.00429,\n  'liveness': 0.0966,\n  'valence': 0.866,\n  'tempo': 176.024,\n  'type': 'audio_features',\n  'id': '20ChN6ZWJ2yhuXcE6SKHDM',\n  'uri': 'spotify:track:20ChN6ZWJ2yhuXcE6SKHDM',\n  'track_href': 'https://api.spotify.com/v1/tracks/20ChN6ZWJ2yhuXcE6SKHDM',\n  'analysis_url': 'https://api.spotify.com/v1/audio-analysis/20ChN6ZWJ2yhuXcE6SKHDM',\n  'duration_ms': 199773,\n  'time_signature': 4},\n {'danceability': 0.824,\n  'energy': 0.457,\n  'key': 6,\n  'loudness': -5.428,\n  'mode': 1,\n  'speechiness': 0.0543,\n  'acousticness': 0.167,\n  'instrumentalness': 0,\n  'liveness': 0.041,\n  'valence': 0.95,\n  'tempo': 87.977,\n  'type': 'audio_features',\n  'id': '73nAK3HgQK8dak83Y2WQ8F',\n  'uri': 'spotify:track:73nAK3HgQK8dak83Y2WQ8F',\n  'track_href': 'https://api.spotify.com/v1/tracks/73nAK3HgQK8dak83Y2WQ8F',\n  'analysis_url': 'https://api.spotify.com/v1/audio-analysis/73nAK3HgQK8dak83Y2WQ8F',\n  'duration_ms': 187427,\n  'time_signature': 4},\n {'danceability': 0.803,\n  'energy': 0.715,\n  'key': 2,\n  'loudness': -3.28,\n  'mode': 1,\n  'speechiness': 0.298,\n  'acousticness': 0.295,\n  'instrumentalness': 0.000134,\n  'liveness': 0.0574,\n  'valence': 0.574,\n  'tempo': 101.085,\n  'type': 'audio_features',\n  'id': '7k4t7uLgtOxPwTpFmtJNTY',\n  'uri': 'spotify:track:7k4t7uLgtOxPwTpFmtJNTY',\n  'track_href': 'https://api.spotify.com/v1/tracks/7k4t7uLgtOxPwTpFmtJNTY',\n  'analysis_url': 'https://api.spotify.com/v1/audio-analysis/7k4t7uLgtOxPwTpFmtJNTY',\n  'duration_ms': 200960,\n  'time_signature': 4},\n {'danceability': 0.86,\n  'energy': 0.758,\n  'key': 11,\n  'loudness': -5.16,\n  'mode': 1,\n  'speechiness': 0.0695,\n  'acousticness': 0.021,\n  'instrumentalness': 6.54e-05,\n  'liveness': 0.344,\n  'valence': 0.453,\n  'tempo': 97.014,\n  'type': 'audio_features',\n  'id': '0SqqAgdovOE24BzxIClpjw',\n  'uri': 'spotify:track:0SqqAgdovOE24BzxIClpjw',\n  'track_href': 'https://api.spotify.com/v1/tracks/0SqqAgdovOE24BzxIClpjw',\n  'analysis_url': 'https://api.spotify.com/v1/audio-analysis/0SqqAgdovOE24BzxIClpjw',\n  'duration_ms': 172127,\n  'time_signature': 4},\n {'danceability': 0.816,\n  'energy': 0.72,\n  'key': 1,\n  'loudness': -4.454,\n  'mode': 1,\n  'speechiness': 0.0684,\n  'acousticness': 0.206,\n  'instrumentalness': 0,\n  'liveness': 0.277,\n  'valence': 0.78,\n  'tempo': 94.004,\n  'type': 'audio_features',\n  'id': '0A37XY67wSdGqkGjtfW6aV',\n  'uri': 'spotify:track:0A37XY67wSdGqkGjtfW6aV',\n  'track_href': 'https://api.spotify.com/v1/tracks/0A37XY67wSdGqkGjtfW6aV',\n  'analysis_url': 'https://api.spotify.com/v1/audio-analysis/0A37XY67wSdGqkGjtfW6aV',\n  'duration_ms': 267242,\n  'time_signature': 4},\n {'danceability': 0.653,\n  'energy': 0.524,\n  'key': 11,\n  'loudness': -9.016,\n  'mode': 0,\n  'speechiness': 0.0502,\n  'acousticness': 0.112,\n  'instrumentalness': 0,\n  'liveness': 0.203,\n  'valence': 0.553,\n  'tempo': 83.97,\n  'type': 'audio_features',\n  'id': '6tDDoYIxWvMLTdKpjFkc1B',\n  'uri': 'spotify:track:6tDDoYIxWvMLTdKpjFkc1B',\n  'track_href': 'https://api.spotify.com/v1/tracks/6tDDoYIxWvMLTdKpjFkc1B',\n  'analysis_url': 'https://api.spotify.com/v1/audio-analysis/6tDDoYIxWvMLTdKpjFkc1B',\n  'duration_ms': 160191,\n  'time_signature': 4},\n {'danceability': 0.793,\n  'energy': 0.782,\n  'key': 4,\n  'loudness': -3.945,\n  'mode': 1,\n  'speechiness': 0.0582,\n  'acousticness': 0.447,\n  'instrumentalness': 0,\n  'liveness': 0.124,\n  'valence': 0.81,\n  'tempo': 143.86,\n  'type': 'audio_features',\n  'id': '34LI7rwi9H8w2S5KTHnv1M',\n  'uri': 'spotify:track:34LI7rwi9H8w2S5KTHnv1M',\n  'track_href': 'https://api.spotify.com/v1/tracks/34LI7rwi9H8w2S5KTHnv1M',\n  'analysis_url': 'https://api.spotify.com/v1/audio-analysis/34LI7rwi9H8w2S5KTHnv1M',\n  'duration_ms': 191945,\n  'time_signature': 4},\n {'danceability': 0.905,\n  'energy': 0.686,\n  'key': 0,\n  'loudness': -3.152,\n  'mode': 1,\n  'speechiness': 0.0664,\n  'acousticness': 0.0907,\n  'instrumentalness': 0,\n  'liveness': 0.266,\n  'valence': 0.963,\n  'tempo': 103.013,\n  'type': 'audio_features',\n  'id': '11EnQRgRMJwMAesfkB5pnu',\n  'uri': 'spotify:track:11EnQRgRMJwMAesfkB5pnu',\n  'track_href': 'https://api.spotify.com/v1/tracks/11EnQRgRMJwMAesfkB5pnu',\n  'analysis_url': 'https://api.spotify.com/v1/audio-analysis/11EnQRgRMJwMAesfkB5pnu',\n  'duration_ms': 155825,\n  'time_signature': 4},\n {'danceability': 0.685,\n  'energy': 0.848,\n  'key': 8,\n  'loudness': -4.561,\n  'mode': 0,\n  'speechiness': 0.0858,\n  'acousticness': 0.0861,\n  'instrumentalness': 7.14e-06,\n  'liveness': 0.0783,\n  'valence': 0.761,\n  'tempo': 179.87,\n  'type': 'audio_features',\n  'id': '6NfrH0ANGmgBXyxgV2PeXt',\n  'uri': 'spotify:track:6NfrH0ANGmgBXyxgV2PeXt',\n  'track_href': 'https://api.spotify.com/v1/tracks/6NfrH0ANGmgBXyxgV2PeXt',\n  'analysis_url': 'https://api.spotify.com/v1/audio-analysis/6NfrH0ANGmgBXyxgV2PeXt',\n  'duration_ms': 163084,\n  'time_signature': 4},\n {'danceability': 0.772,\n  'energy': 0.758,\n  'key': 9,\n  'loudness': -3.891,\n  'mode': 1,\n  'speechiness': 0.0482,\n  'acousticness': 0.0433,\n  'instrumentalness': 0,\n  'liveness': 0.295,\n  'valence': 0.654,\n  'tempo': 115.977,\n  'type': 'audio_features',\n  'id': '5Km4r87BoX2qqtoprYS1gh',\n  'uri': 'spotify:track:5Km4r87BoX2qqtoprYS1gh',\n  'track_href': 'https://api.spotify.com/v1/tracks/5Km4r87BoX2qqtoprYS1gh',\n  'analysis_url': 'https://api.spotify.com/v1/audio-analysis/5Km4r87BoX2qqtoprYS1gh',\n  'duration_ms': 265240,\n  'time_signature': 4},\n {'danceability': 0.86,\n  'energy': 0.762,\n  'key': 9,\n  'loudness': -2.343,\n  'mode': 0,\n  'speechiness': 0.0447,\n  'acousticness': 0.286,\n  'instrumentalness': 0.000148,\n  'liveness': 0.0697,\n  'valence': 0.763,\n  'tempo': 139.992,\n  'type': 'audio_features',\n  'id': '4agLM5EfiWR2AKMq7gFwcM',\n  'uri': 'spotify:track:4agLM5EfiWR2AKMq7gFwcM',\n  'track_href': 'https://api.spotify.com/v1/tracks/4agLM5EfiWR2AKMq7gFwcM',\n  'analysis_url': 'https://api.spotify.com/v1/audio-analysis/4agLM5EfiWR2AKMq7gFwcM',\n  'duration_ms': 230027,\n  'time_signature': 4},\n {'danceability': 0.739,\n  'energy': 0.788,\n  'key': 1,\n  'loudness': -5.198,\n  'mode': 1,\n  'speechiness': 0.0731,\n  'acousticness': 0.0513,\n  'instrumentalness': 0,\n  'liveness': 0.282,\n  'valence': 0.473,\n  'tempo': 175.996,\n  'type': 'audio_features',\n  'id': '0VWLId2RwPCno9s1cJm2Vy',\n  'uri': 'spotify:track:0VWLId2RwPCno9s1cJm2Vy',\n  'track_href': 'https://api.spotify.com/v1/tracks/0VWLId2RwPCno9s1cJm2Vy',\n  'analysis_url': 'https://api.spotify.com/v1/audio-analysis/0VWLId2RwPCno9s1cJm2Vy',\n  'duration_ms': 324426,\n  'time_signature': 4},\n {'danceability': 0.659,\n  'energy': 0.701,\n  'key': 9,\n  'loudness': -4.107,\n  'mode': 1,\n  'speechiness': 0.164,\n  'acousticness': 0.0882,\n  'instrumentalness': 0,\n  'liveness': 0.0866,\n  'valence': 0.623,\n  'tempo': 91.97,\n  'type': 'audio_features',\n  'id': '15OjBeqNX3bShsGYQbteRv',\n  'uri': 'spotify:track:15OjBeqNX3bShsGYQbteRv',\n  'track_href': 'https://api.spotify.com/v1/tracks/15OjBeqNX3bShsGYQbteRv',\n  'analysis_url': 'https://api.spotify.com/v1/audio-analysis/15OjBeqNX3bShsGYQbteRv',\n  'duration_ms': 180520,\n  'time_signature': 4},\n {'danceability': 0.85,\n  'energy': 0.536,\n  'key': 1,\n  'loudness': -5.161,\n  'mode': 1,\n  'speechiness': 0.0599,\n  'acousticness': 0.267,\n  'instrumentalness': 3.89e-05,\n  'liveness': 0.0996,\n  'valence': 0.505,\n  'tempo': 96.029,\n  'type': 'audio_features',\n  'id': '38RIEav39FGi86jppxO0du',\n  'uri': 'spotify:track:38RIEav39FGi86jppxO0du',\n  'track_href': 'https://api.spotify.com/v1/tracks/38RIEav39FGi86jppxO0du',\n  'analysis_url': 'https://api.spotify.com/v1/audio-analysis/38RIEav39FGi86jppxO0du',\n  'duration_ms': 210607,\n  'time_signature': 4},\n {'danceability': 0.812,\n  'energy': 0.747,\n  'key': 4,\n  'loudness': -4.611,\n  'mode': 0,\n  'speechiness': 0.15,\n  'acousticness': 0.31,\n  'instrumentalness': 0.00412,\n  'liveness': 0.1,\n  'valence': 0.488,\n  'tempo': 168.025,\n  'type': 'audio_features',\n  'id': '0XinBYhf1X3kdvKQHOX971',\n  'uri': 'spotify:track:0XinBYhf1X3kdvKQHOX971',\n  'track_href': 'https://api.spotify.com/v1/tracks/0XinBYhf1X3kdvKQHOX971',\n  'analysis_url': 'https://api.spotify.com/v1/audio-analysis/0XinBYhf1X3kdvKQHOX971',\n  'duration_ms': 198500,\n  'time_signature': 4},\n {'danceability': 0.707,\n  'energy': 0.876,\n  'key': 1,\n  'loudness': -1.887,\n  'mode': 1,\n  'speechiness': 0.0787,\n  'acousticness': 0.173,\n  'instrumentalness': 9.36e-06,\n  'liveness': 0.932,\n  'valence': 0.853,\n  'tempo': 176.068,\n  'type': 'audio_features',\n  'id': '1g4cZvi0nLeeIycd0Rkljj',\n  'uri': 'spotify:track:1g4cZvi0nLeeIycd0Rkljj',\n  'track_href': 'https://api.spotify.com/v1/tracks/1g4cZvi0nLeeIycd0Rkljj',\n  'analysis_url': 'https://api.spotify.com/v1/audio-analysis/1g4cZvi0nLeeIycd0Rkljj',\n  'duration_ms': 204414,\n  'time_signature': 4},\n {'danceability': 0.733,\n  'energy': 0.591,\n  'key': 9,\n  'loudness': -4.046,\n  'mode': 1,\n  'speechiness': 0.148,\n  'acousticness': 0.217,\n  'instrumentalness': 0,\n  'liveness': 0.0986,\n  'valence': 0.549,\n  'tempo': 169.905,\n  'type': 'audio_features',\n  'id': '3wBKCNw7BFIalnqe4VXzdK',\n  'uri': 'spotify:track:3wBKCNw7BFIalnqe4VXzdK',\n  'track_href': 'https://api.spotify.com/v1/tracks/3wBKCNw7BFIalnqe4VXzdK',\n  'analysis_url': 'https://api.spotify.com/v1/audio-analysis/3wBKCNw7BFIalnqe4VXzdK',\n  'duration_ms': 185263,\n  'time_signature': 4},\n {'danceability': 0.703,\n  'energy': 0.73,\n  'key': 0,\n  'loudness': -6.634,\n  'mode': 1,\n  'speechiness': 0.247,\n  'acousticness': 0.371,\n  'instrumentalness': 0,\n  'liveness': 0.143,\n  'valence': 0.76,\n  'tempo': 93.94,\n  'type': 'audio_features',\n  'id': '0xfmcMetmQwClfYRarKtyY',\n  'uri': 'spotify:track:0xfmcMetmQwClfYRarKtyY',\n  'track_href': 'https://api.spotify.com/v1/tracks/0xfmcMetmQwClfYRarKtyY',\n  'analysis_url': 'https://api.spotify.com/v1/audio-analysis/0xfmcMetmQwClfYRarKtyY',\n  'duration_ms': 202027,\n  'time_signature': 4},\n {'danceability': 0.843,\n  'energy': 0.836,\n  'key': 11,\n  'loudness': -2.474,\n  'mode': 0,\n  'speechiness': 0.0695,\n  'acousticness': 0.0816,\n  'instrumentalness': 0.00138,\n  'liveness': 0.0532,\n  'valence': 0.65,\n  'tempo': 94.018,\n  'type': 'audio_features',\n  'id': '2lCkncy6bIB0LTMT7kvrD1',\n  'uri': 'spotify:track:2lCkncy6bIB0LTMT7kvrD1',\n  'track_href': 'https://api.spotify.com/v1/tracks/2lCkncy6bIB0LTMT7kvrD1',\n  'analysis_url': 'https://api.spotify.com/v1/audio-analysis/2lCkncy6bIB0LTMT7kvrD1',\n  'duration_ms': 205933,\n  'time_signature': 4},\n {'danceability': 0.578,\n  'energy': 0.634,\n  'key': 8,\n  'loudness': -5.979,\n  'mode': 0,\n  'speechiness': 0.333,\n  'acousticness': 0.00473,\n  'instrumentalness': 0,\n  'liveness': 0.132,\n  'valence': 0.216,\n  'tempo': 183.89,\n  'type': 'audio_features',\n  'id': '56Ta1O7Jxxpjnc6cWdDKUo',\n  'uri': 'spotify:track:56Ta1O7Jxxpjnc6cWdDKUo',\n  'track_href': 'https://api.spotify.com/v1/tracks/56Ta1O7Jxxpjnc6cWdDKUo',\n  'analysis_url': 'https://api.spotify.com/v1/audio-analysis/56Ta1O7Jxxpjnc6cWdDKUo',\n  'duration_ms': 211652,\n  'time_signature': 4},\n {'danceability': 0.607,\n  'energy': 0.829,\n  'key': 2,\n  'loudness': -4.074,\n  'mode': 1,\n  'speechiness': 0.379,\n  'acousticness': 0.0103,\n  'instrumentalness': 0,\n  'liveness': 0.107,\n  'valence': 0.685,\n  'tempo': 96.172,\n  'type': 'audio_features',\n  'id': '2DEZmgHKAvm41k4J3R2E9Y',\n  'uri': 'spotify:track:2DEZmgHKAvm41k4J3R2E9Y',\n  'track_href': 'https://api.spotify.com/v1/tracks/2DEZmgHKAvm41k4J3R2E9Y',\n  'analysis_url': 'https://api.spotify.com/v1/audio-analysis/2DEZmgHKAvm41k4J3R2E9Y',\n  'duration_ms': 295177,\n  'time_signature': 4},\n {'danceability': 0.691,\n  'energy': 0.765,\n  'key': 8,\n  'loudness': -4.727,\n  'mode': 1,\n  'speechiness': 0.111,\n  'acousticness': 0.464,\n  'instrumentalness': 3.29e-06,\n  'liveness': 0.203,\n  'valence': 0.855,\n  'tempo': 174.021,\n  'type': 'audio_features',\n  'id': '06s3QtMJVXw1AJX3UfvZG1',\n  'uri': 'spotify:track:06s3QtMJVXw1AJX3UfvZG1',\n  'track_href': 'https://api.spotify.com/v1/tracks/06s3QtMJVXw1AJX3UfvZG1',\n  'analysis_url': 'https://api.spotify.com/v1/audio-analysis/06s3QtMJVXw1AJX3UfvZG1',\n  'duration_ms': 246000,\n  'time_signature': 4},\n {'danceability': 0.648,\n  'energy': 0.752,\n  'key': 7,\n  'loudness': -4.13,\n  'mode': 1,\n  'speechiness': 0.133,\n  'acousticness': 0.315,\n  'instrumentalness': 0,\n  'liveness': 0.201,\n  'valence': 0.405,\n  'tempo': 178.228,\n  'type': 'audio_features',\n  'id': '2zkVH2daHyjS51g7PRJFDn',\n  'uri': 'spotify:track:2zkVH2daHyjS51g7PRJFDn',\n  'track_href': 'https://api.spotify.com/v1/tracks/2zkVH2daHyjS51g7PRJFDn',\n  'analysis_url': 'https://api.spotify.com/v1/audio-analysis/2zkVH2daHyjS51g7PRJFDn',\n  'duration_ms': 198053,\n  'time_signature': 4},\n {'danceability': 0.567,\n  'energy': 0.686,\n  'key': 6,\n  'loudness': -5.096,\n  'mode': 1,\n  'speechiness': 0.119,\n  'acousticness': 0.147,\n  'instrumentalness': 0,\n  'liveness': 0.118,\n  'valence': 0.427,\n  'tempo': 92.416,\n  'type': 'audio_features',\n  'id': '6DdC4I8ENm7zHH9Jy9pFg4',\n  'uri': 'spotify:track:6DdC4I8ENm7zHH9Jy9pFg4',\n  'track_href': 'https://api.spotify.com/v1/tracks/6DdC4I8ENm7zHH9Jy9pFg4',\n  'analysis_url': 'https://api.spotify.com/v1/audio-analysis/6DdC4I8ENm7zHH9Jy9pFg4',\n  'duration_ms': 186693,\n  'time_signature': 4},\n {'danceability': 0.922,\n  'energy': 0.927,\n  'key': 11,\n  'loudness': -3.025,\n  'mode': 1,\n  'speechiness': 0.105,\n  'acousticness': 0.283,\n  'instrumentalness': 0.00331,\n  'liveness': 0.719,\n  'valence': 0.796,\n  'tempo': 129.978,\n  'type': 'audio_features',\n  'id': '2L95U6syP0bV3fkYYOzmiW',\n  'uri': 'spotify:track:2L95U6syP0bV3fkYYOzmiW',\n  'track_href': 'https://api.spotify.com/v1/tracks/2L95U6syP0bV3fkYYOzmiW',\n  'analysis_url': 'https://api.spotify.com/v1/audio-analysis/2L95U6syP0bV3fkYYOzmiW',\n  'duration_ms': 219000,\n  'time_signature': 4},\n {'danceability': 0.863,\n  'energy': 0.823,\n  'key': 11,\n  'loudness': -4.271,\n  'mode': 1,\n  'speechiness': 0.121,\n  'acousticness': 0.246,\n  'instrumentalness': 0,\n  'liveness': 0.134,\n  'valence': 0.406,\n  'tempo': 98.964,\n  'type': 'audio_features',\n  'id': '0Vd3oU8EfWdZZO1J0W3dBN',\n  'uri': 'spotify:track:0Vd3oU8EfWdZZO1J0W3dBN',\n  'track_href': 'https://api.spotify.com/v1/tracks/0Vd3oU8EfWdZZO1J0W3dBN',\n  'analysis_url': 'https://api.spotify.com/v1/audio-analysis/0Vd3oU8EfWdZZO1J0W3dBN',\n  'duration_ms': 157595,\n  'time_signature': 4},\n {'danceability': 0.598,\n  'energy': 0.734,\n  'key': 10,\n  'loudness': -3.982,\n  'mode': 1,\n  'speechiness': 0.116,\n  'acousticness': 0.208,\n  'instrumentalness': 0,\n  'liveness': 0.272,\n  'valence': 0.621,\n  'tempo': 179.885,\n  'type': 'audio_features',\n  'id': '1GNSWpe2SB30zYGbNTD96b',\n  'uri': 'spotify:track:1GNSWpe2SB30zYGbNTD96b',\n  'track_href': 'https://api.spotify.com/v1/tracks/1GNSWpe2SB30zYGbNTD96b',\n  'analysis_url': 'https://api.spotify.com/v1/audio-analysis/1GNSWpe2SB30zYGbNTD96b',\n  'duration_ms': 180867,\n  'time_signature': 4},\n {'danceability': 0.664,\n  'energy': 0.659,\n  'key': 10,\n  'loudness': -4.232,\n  'mode': 0,\n  'speechiness': 0.0873,\n  'acousticness': 0.0625,\n  'instrumentalness': 0.00024,\n  'liveness': 0.0874,\n  'valence': 0.797,\n  'tempo': 175.826,\n  'type': 'audio_features',\n  'id': '5KFHrrBMyGj5MhVbZMM3ts',\n  'uri': 'spotify:track:5KFHrrBMyGj5MhVbZMM3ts',\n  'track_href': 'https://api.spotify.com/v1/tracks/5KFHrrBMyGj5MhVbZMM3ts',\n  'analysis_url': 'https://api.spotify.com/v1/audio-analysis/5KFHrrBMyGj5MhVbZMM3ts',\n  'duration_ms': 157320,\n  'time_signature': 4},\n {'danceability': 0.585,\n  'energy': 0.611,\n  'key': 6,\n  'loudness': -4.132,\n  'mode': 1,\n  'speechiness': 0.288,\n  'acousticness': 0.39,\n  'instrumentalness': 0,\n  'liveness': 0.649,\n  'valence': 0.962,\n  'tempo': 97.041,\n  'type': 'audio_features',\n  'id': '5YYW3yRktprLRr47WK219Y',\n  'uri': 'spotify:track:5YYW3yRktprLRr47WK219Y',\n  'track_href': 'https://api.spotify.com/v1/tracks/5YYW3yRktprLRr47WK219Y',\n  'analysis_url': 'https://api.spotify.com/v1/audio-analysis/5YYW3yRktprLRr47WK219Y',\n  'duration_ms': 218107,\n  'time_signature': 4},\n {'danceability': 0.728,\n  'energy': 0.806,\n  'key': 6,\n  'loudness': -3.766,\n  'mode': 1,\n  'speechiness': 0.0623,\n  'acousticness': 0.0531,\n  'instrumentalness': 0.000301,\n  'liveness': 0.153,\n  'valence': 0.698,\n  'tempo': 168.084,\n  'type': 'audio_features',\n  'id': '3gD4J3RUHy4OUuZ3qAiaiG',\n  'uri': 'spotify:track:3gD4J3RUHy4OUuZ3qAiaiG',\n  'track_href': 'https://api.spotify.com/v1/tracks/3gD4J3RUHy4OUuZ3qAiaiG',\n  'analysis_url': 'https://api.spotify.com/v1/audio-analysis/3gD4J3RUHy4OUuZ3qAiaiG',\n  'duration_ms': 217547,\n  'time_signature': 4},\n {'danceability': 0.779,\n  'energy': 0.75,\n  'key': 4,\n  'loudness': -2.685,\n  'mode': 0,\n  'speechiness': 0.0634,\n  'acousticness': 0.135,\n  'instrumentalness': 2.07e-06,\n  'liveness': 0.184,\n  'valence': 0.793,\n  'tempo': 95.969,\n  'type': 'audio_features',\n  'id': '2hdhH9YsYQInj4NYU75XZZ',\n  'uri': 'spotify:track:2hdhH9YsYQInj4NYU75XZZ',\n  'track_href': 'https://api.spotify.com/v1/tracks/2hdhH9YsYQInj4NYU75XZZ',\n  'analysis_url': 'https://api.spotify.com/v1/audio-analysis/2hdhH9YsYQInj4NYU75XZZ',\n  'duration_ms': 168168,\n  'time_signature': 4},\n {'danceability': 0.747,\n  'energy': 0.693,\n  'key': 1,\n  'loudness': -2.97,\n  'mode': 0,\n  'speechiness': 0.298,\n  'acousticness': 0.102,\n  'instrumentalness': 2.61e-06,\n  'liveness': 0.0872,\n  'valence': 0.736,\n  'tempo': 175.994,\n  'type': 'audio_features',\n  'id': '4Pu0a2TuHOYtI4CCE3HEXI',\n  'uri': 'spotify:track:4Pu0a2TuHOYtI4CCE3HEXI',\n  'track_href': 'https://api.spotify.com/v1/tracks/4Pu0a2TuHOYtI4CCE3HEXI',\n  'analysis_url': 'https://api.spotify.com/v1/audio-analysis/4Pu0a2TuHOYtI4CCE3HEXI',\n  'duration_ms': 189567,\n  'time_signature': 4},\n {'danceability': 0.67,\n  'energy': 0.659,\n  'key': 9,\n  'loudness': -7.15,\n  'mode': 1,\n  'speechiness': 0.201,\n  'acousticness': 0.208,\n  'instrumentalness': 0,\n  'liveness': 0.223,\n  'valence': 0.538,\n  'tempo': 90.026,\n  'type': 'audio_features',\n  'id': '69dNigIQhkCnL6pr7iRJPA',\n  'uri': 'spotify:track:69dNigIQhkCnL6pr7iRJPA',\n  'track_href': 'https://api.spotify.com/v1/tracks/69dNigIQhkCnL6pr7iRJPA',\n  'analysis_url': 'https://api.spotify.com/v1/audio-analysis/69dNigIQhkCnL6pr7iRJPA',\n  'duration_ms': 199521,\n  'time_signature': 4},\n {'danceability': 0.87,\n  'energy': 0.721,\n  'key': 10,\n  'loudness': -5.311,\n  'mode': 0,\n  'speechiness': 0.11,\n  'acousticness': 0.522,\n  'instrumentalness': 0.648,\n  'liveness': 0.108,\n  'valence': 0.489,\n  'tempo': 92.025,\n  'type': 'audio_features',\n  'id': '2XghxCSGfhpGR2B3ahQXVr',\n  'uri': 'spotify:track:2XghxCSGfhpGR2B3ahQXVr',\n  'track_href': 'https://api.spotify.com/v1/tracks/2XghxCSGfhpGR2B3ahQXVr',\n  'analysis_url': 'https://api.spotify.com/v1/audio-analysis/2XghxCSGfhpGR2B3ahQXVr',\n  'duration_ms': 188910,\n  'time_signature': 4},\n {'danceability': 0.625,\n  'energy': 0.754,\n  'key': 6,\n  'loudness': -4.158,\n  'mode': 0,\n  'speechiness': 0.076,\n  'acousticness': 0.17,\n  'instrumentalness': 3.76e-05,\n  'liveness': 0.109,\n  'valence': 0.746,\n  'tempo': 89.888,\n  'type': 'audio_features',\n  'id': '3fHEwAssCgM4wJYdjT5Ch0',\n  'uri': 'spotify:track:3fHEwAssCgM4wJYdjT5Ch0',\n  'track_href': 'https://api.spotify.com/v1/tracks/3fHEwAssCgM4wJYdjT5Ch0',\n  'analysis_url': 'https://api.spotify.com/v1/audio-analysis/3fHEwAssCgM4wJYdjT5Ch0',\n  'duration_ms': 239797,\n  'time_signature': 4},\n {'danceability': 0.503,\n  'energy': 0.762,\n  'key': 11,\n  'loudness': -4.263,\n  'mode': 1,\n  'speechiness': 0.298,\n  'acousticness': 0.0756,\n  'instrumentalness': 9.84e-06,\n  'liveness': 0.0919,\n  'valence': 0.598,\n  'tempo': 167.936,\n  'type': 'audio_features',\n  'id': '6QSu3mgC8kUYtEDoBBQcJG',\n  'uri': 'spotify:track:6QSu3mgC8kUYtEDoBBQcJG',\n  'track_href': 'https://api.spotify.com/v1/tracks/6QSu3mgC8kUYtEDoBBQcJG',\n  'analysis_url': 'https://api.spotify.com/v1/audio-analysis/6QSu3mgC8kUYtEDoBBQcJG',\n  'duration_ms': 202733,\n  'time_signature': 4},\n {'danceability': 0.611,\n  'energy': 0.851,\n  'key': 9,\n  'loudness': -2.982,\n  'mode': 1,\n  'speechiness': 0.0598,\n  'acousticness': 0.229,\n  'instrumentalness': 0,\n  'liveness': 0.232,\n  'valence': 0.823,\n  'tempo': 178.032,\n  'type': 'audio_features',\n  'id': '0Snbzbd74RLfL0i4nn1vU5',\n  'uri': 'spotify:track:0Snbzbd74RLfL0i4nn1vU5',\n  'track_href': 'https://api.spotify.com/v1/tracks/0Snbzbd74RLfL0i4nn1vU5',\n  'analysis_url': 'https://api.spotify.com/v1/audio-analysis/0Snbzbd74RLfL0i4nn1vU5',\n  'duration_ms': 211613,\n  'time_signature': 4},\n {'danceability': 0.803,\n  'energy': 0.642,\n  'key': 0,\n  'loudness': -3.759,\n  'mode': 1,\n  'speechiness': 0.217,\n  'acousticness': 0.153,\n  'instrumentalness': 1.76e-06,\n  'liveness': 0.14,\n  'valence': 0.856,\n  'tempo': 170.037,\n  'type': 'audio_features',\n  'id': '0P0UtGDZpUMWoFCuDTn78K',\n  'uri': 'spotify:track:0P0UtGDZpUMWoFCuDTn78K',\n  'track_href': 'https://api.spotify.com/v1/tracks/0P0UtGDZpUMWoFCuDTn78K',\n  'analysis_url': 'https://api.spotify.com/v1/audio-analysis/0P0UtGDZpUMWoFCuDTn78K',\n  'duration_ms': 206987,\n  'time_signature': 4},\n {'danceability': 0.862,\n  'energy': 0.779,\n  'key': 8,\n  'loudness': -2.857,\n  'mode': 1,\n  'speechiness': 0.0464,\n  'acousticness': 0.041,\n  'instrumentalness': 0,\n  'liveness': 0.344,\n  'valence': 0.719,\n  'tempo': 136.005,\n  'type': 'audio_features',\n  'id': '6QM3YNDJWPdfHVfbZ2kHvq',\n  'uri': 'spotify:track:6QM3YNDJWPdfHVfbZ2kHvq',\n  'track_href': 'https://api.spotify.com/v1/tracks/6QM3YNDJWPdfHVfbZ2kHvq',\n  'analysis_url': 'https://api.spotify.com/v1/audio-analysis/6QM3YNDJWPdfHVfbZ2kHvq',\n  'duration_ms': 195373,\n  'time_signature': 4},\n {'danceability': 0.801,\n  'energy': 0.745,\n  'key': 6,\n  'loudness': -3.733,\n  'mode': 0,\n  'speechiness': 0.063,\n  'acousticness': 0.398,\n  'instrumentalness': 0.00603,\n  'liveness': 0.153,\n  'valence': 0.245,\n  'tempo': 104.965,\n  'type': 'audio_features',\n  'id': '3JHpk0DOTOzyh0777JFAky',\n  'uri': 'spotify:track:3JHpk0DOTOzyh0777JFAky',\n  'track_href': 'https://api.spotify.com/v1/tracks/3JHpk0DOTOzyh0777JFAky',\n  'analysis_url': 'https://api.spotify.com/v1/audio-analysis/3JHpk0DOTOzyh0777JFAky',\n  'duration_ms': 214013,\n  'time_signature': 4},\n {'danceability': 0.655,\n  'energy': 0.672,\n  'key': 0,\n  'loudness': -5.98,\n  'mode': 0,\n  'speechiness': 0.311,\n  'acousticness': 0.471,\n  'instrumentalness': 0,\n  'liveness': 0.0767,\n  'valence': 0.343,\n  'tempo': 181.877,\n  'type': 'audio_features',\n  'id': '5stPVcRqb4qixbafP9e8lt',\n  'uri': 'spotify:track:5stPVcRqb4qixbafP9e8lt',\n  'track_href': 'https://api.spotify.com/v1/tracks/5stPVcRqb4qixbafP9e8lt',\n  'analysis_url': 'https://api.spotify.com/v1/audio-analysis/5stPVcRqb4qixbafP9e8lt',\n  'duration_ms': 249520,\n  'time_signature': 4},\n {'danceability': 0.736,\n  'energy': 0.585,\n  'key': 7,\n  'loudness': -4.617,\n  'mode': 1,\n  'speechiness': 0.346,\n  'acousticness': 0.273,\n  'instrumentalness': 0,\n  'liveness': 0.106,\n  'valence': 0.363,\n  'tempo': 171.932,\n  'type': 'audio_features',\n  'id': '0x1k6gSTSxaLxe0F2IThaX',\n  'uri': 'spotify:track:0x1k6gSTSxaLxe0F2IThaX',\n  'track_href': 'https://api.spotify.com/v1/tracks/0x1k6gSTSxaLxe0F2IThaX',\n  'analysis_url': 'https://api.spotify.com/v1/audio-analysis/0x1k6gSTSxaLxe0F2IThaX',\n  'duration_ms': 181845,\n  'time_signature': 4},\n {'danceability': 0.658,\n  'energy': 0.453,\n  'key': 9,\n  'loudness': -7.378,\n  'mode': 0,\n  'speechiness': 0.39,\n  'acousticness': 0.131,\n  'instrumentalness': 0.0002,\n  'liveness': 0.0848,\n  'valence': 0.358,\n  'tempo': 126.043,\n  'type': 'audio_features',\n  'id': '3GaGWoU1KfVqgl7vnRHP55',\n  'uri': 'spotify:track:3GaGWoU1KfVqgl7vnRHP55',\n  'track_href': 'https://api.spotify.com/v1/tracks/3GaGWoU1KfVqgl7vnRHP55',\n  'analysis_url': 'https://api.spotify.com/v1/audio-analysis/3GaGWoU1KfVqgl7vnRHP55',\n  'duration_ms': 153960,\n  'time_signature': 4},\n {'danceability': 0.483,\n  'energy': 0.492,\n  'key': 0,\n  'loudness': -6.591,\n  'mode': 0,\n  'speechiness': 0.295,\n  'acousticness': 0.603,\n  'instrumentalness': 0,\n  'liveness': 0.323,\n  'valence': 0.66,\n  'tempo': 144.511,\n  'type': 'audio_features',\n  'id': '5EbtodsuLbxrFDH6j5avVS',\n  'uri': 'spotify:track:5EbtodsuLbxrFDH6j5avVS',\n  'track_href': 'https://api.spotify.com/v1/tracks/5EbtodsuLbxrFDH6j5avVS',\n  'analysis_url': 'https://api.spotify.com/v1/audio-analysis/5EbtodsuLbxrFDH6j5avVS',\n  'duration_ms': 188213,\n  'time_signature': 4},\n {'danceability': 0.733,\n  'energy': 0.708,\n  'key': 6,\n  'loudness': -4.957,\n  'mode': 1,\n  'speechiness': 0.0937,\n  'acousticness': 0.0325,\n  'instrumentalness': 0.000327,\n  'liveness': 0.324,\n  'valence': 0.694,\n  'tempo': 93.021,\n  'type': 'audio_features',\n  'id': '43NqTeL8pgBxKHPMiJKUP5',\n  'uri': 'spotify:track:43NqTeL8pgBxKHPMiJKUP5',\n  'track_href': 'https://api.spotify.com/v1/tracks/43NqTeL8pgBxKHPMiJKUP5',\n  'analysis_url': 'https://api.spotify.com/v1/audio-analysis/43NqTeL8pgBxKHPMiJKUP5',\n  'duration_ms': 186427,\n  'time_signature': 4},\n {'danceability': 0.716,\n  'energy': 0.624,\n  'key': 6,\n  'loudness': -5.398,\n  'mode': 0,\n  'speechiness': 0.0739,\n  'acousticness': 0.238,\n  'instrumentalness': 0,\n  'liveness': 0.128,\n  'valence': 0.783,\n  'tempo': 90.983,\n  'type': 'audio_features',\n  'id': '7BEPdOI0neT6p7PnLViqmH',\n  'uri': 'spotify:track:7BEPdOI0neT6p7PnLViqmH',\n  'track_href': 'https://api.spotify.com/v1/tracks/7BEPdOI0neT6p7PnLViqmH',\n  'analysis_url': 'https://api.spotify.com/v1/audio-analysis/7BEPdOI0neT6p7PnLViqmH',\n  'duration_ms': 157081,\n  'time_signature': 4},\n {'danceability': 0.52,\n  'energy': 0.731,\n  'key': 6,\n  'loudness': -5.338,\n  'mode': 0,\n  'speechiness': 0.0557,\n  'acousticness': 0.342,\n  'instrumentalness': 0.00101,\n  'liveness': 0.311,\n  'valence': 0.662,\n  'tempo': 173.93,\n  'type': 'audio_features',\n  'id': '4LRPiXqCikLlN15c3yImP7',\n  'uri': 'spotify:track:4LRPiXqCikLlN15c3yImP7',\n  'track_href': 'https://api.spotify.com/v1/tracks/4LRPiXqCikLlN15c3yImP7',\n  'analysis_url': 'https://api.spotify.com/v1/audio-analysis/4LRPiXqCikLlN15c3yImP7',\n  'duration_ms': 167303,\n  'time_signature': 4},\n {'danceability': 0.905,\n  'energy': 0.563,\n  'key': 8,\n  'loudness': -6.135,\n  'mode': 1,\n  'speechiness': 0.102,\n  'acousticness': 0.0254,\n  'instrumentalness': 9.71e-06,\n  'liveness': 0.113,\n  'valence': 0.324,\n  'tempo': 106.998,\n  'type': 'audio_features',\n  'id': '1rDQ4oMwGJI7B4tovsBOxc',\n  'uri': 'spotify:track:1rDQ4oMwGJI7B4tovsBOxc',\n  'track_href': 'https://api.spotify.com/v1/tracks/1rDQ4oMwGJI7B4tovsBOxc',\n  'analysis_url': 'https://api.spotify.com/v1/audio-analysis/1rDQ4oMwGJI7B4tovsBOxc',\n  'duration_ms': 173948,\n  'time_signature': 4},\n {'danceability': 0.761,\n  'energy': 0.525,\n  'key': 11,\n  'loudness': -6.9,\n  'mode': 1,\n  'speechiness': 0.0944,\n  'acousticness': 0.44,\n  'instrumentalness': 6.7e-06,\n  'liveness': 0.0921,\n  'valence': 0.531,\n  'tempo': 80.87,\n  'type': 'audio_features',\n  'id': '3USxtqRwSYz57Ewm6wWRMp',\n  'uri': 'spotify:track:3USxtqRwSYz57Ewm6wWRMp',\n  'track_href': 'https://api.spotify.com/v1/tracks/3USxtqRwSYz57Ewm6wWRMp',\n  'analysis_url': 'https://api.spotify.com/v1/audio-analysis/3USxtqRwSYz57Ewm6wWRMp',\n  'duration_ms': 238805,\n  'time_signature': 4},\n {'danceability': 0.935,\n  'energy': 0.807,\n  'key': 11,\n  'loudness': -3.838,\n  'mode': 0,\n  'speechiness': 0.114,\n  'acousticness': 0.0514,\n  'instrumentalness': 0,\n  'liveness': 0.349,\n  'valence': 0.813,\n  'tempo': 106.017,\n  'type': 'audio_features',\n  'id': '6Zu3aw7FfjAF9WA0fA81Oq',\n  'uri': 'spotify:track:6Zu3aw7FfjAF9WA0fA81Oq',\n  'track_href': 'https://api.spotify.com/v1/tracks/6Zu3aw7FfjAF9WA0fA81Oq',\n  'analysis_url': 'https://api.spotify.com/v1/audio-analysis/6Zu3aw7FfjAF9WA0fA81Oq',\n  'duration_ms': 173182,\n  'time_signature': 4},\n {'danceability': 0.728,\n  'energy': 0.783,\n  'key': 11,\n  'loudness': -4.424,\n  'mode': 0,\n  'speechiness': 0.266,\n  'acousticness': 0.237,\n  'instrumentalness': 0,\n  'liveness': 0.434,\n  'valence': 0.555,\n  'tempo': 77.011,\n  'type': 'audio_features',\n  'id': '1r9xUipOqoNwggBpENDsvJ',\n  'uri': 'spotify:track:1r9xUipOqoNwggBpENDsvJ',\n  'track_href': 'https://api.spotify.com/v1/tracks/1r9xUipOqoNwggBpENDsvJ',\n  'analysis_url': 'https://api.spotify.com/v1/audio-analysis/1r9xUipOqoNwggBpENDsvJ',\n  'duration_ms': 173381,\n  'time_signature': 4},\n {'danceability': 0.591,\n  'energy': 0.764,\n  'key': 1,\n  'loudness': -5.484,\n  'mode': 1,\n  'speechiness': 0.0483,\n  'acousticness': 0.0383,\n  'instrumentalness': 0,\n  'liveness': 0.103,\n  'valence': 0.478,\n  'tempo': 169.928,\n  'type': 'audio_features',\n  'id': '5HCyWlXZPP0y6Gqq8TgA20',\n  'uri': 'spotify:track:5HCyWlXZPP0y6Gqq8TgA20',\n  'track_href': 'https://api.spotify.com/v1/tracks/5HCyWlXZPP0y6Gqq8TgA20',\n  'analysis_url': 'https://api.spotify.com/v1/audio-analysis/5HCyWlXZPP0y6Gqq8TgA20',\n  'duration_ms': 141806,\n  'time_signature': 4},\n {'danceability': 0.578,\n  'energy': 0.431,\n  'key': 2,\n  'loudness': -7.034,\n  'mode': 1,\n  'speechiness': 0.0269,\n  'acousticness': 0.469,\n  'instrumentalness': 0,\n  'liveness': 0.137,\n  'valence': 0.21,\n  'tempo': 116.979,\n  'type': 'audio_features',\n  'id': '1TUuhV75FeOF6UObRsABo2',\n  'uri': 'spotify:track:1TUuhV75FeOF6UObRsABo2',\n  'track_href': 'https://api.spotify.com/v1/tracks/1TUuhV75FeOF6UObRsABo2',\n  'analysis_url': 'https://api.spotify.com/v1/audio-analysis/1TUuhV75FeOF6UObRsABo2',\n  'duration_ms': 226975,\n  'time_signature': 3},\n {'danceability': 0.824,\n  'energy': 0.764,\n  'key': 5,\n  'loudness': -4.175,\n  'mode': 0,\n  'speechiness': 0.0854,\n  'acousticness': 0.0888,\n  'instrumentalness': 0.00294,\n  'liveness': 0.117,\n  'valence': 0.881,\n  'tempo': 107.998,\n  'type': 'audio_features',\n  'id': '6Uj1ctrBOjOas8xZXGqKk4',\n  'uri': 'spotify:track:6Uj1ctrBOjOas8xZXGqKk4',\n  'track_href': 'https://api.spotify.com/v1/tracks/6Uj1ctrBOjOas8xZXGqKk4',\n  'analysis_url': 'https://api.spotify.com/v1/audio-analysis/6Uj1ctrBOjOas8xZXGqKk4',\n  'duration_ms': 172627,\n  'time_signature': 4},\n {'danceability': 0.825,\n  'energy': 0.414,\n  'key': 2,\n  'loudness': -6.634,\n  'mode': 1,\n  'speechiness': 0.144,\n  'acousticness': 0.00265,\n  'instrumentalness': 0,\n  'liveness': 0.357,\n  'valence': 0.106,\n  'tempo': 72.993,\n  'type': 'audio_features',\n  'id': '4A8cWXxKfIL3lAyUDzXbCF',\n  'uri': 'spotify:track:4A8cWXxKfIL3lAyUDzXbCF',\n  'track_href': 'https://api.spotify.com/v1/tracks/4A8cWXxKfIL3lAyUDzXbCF',\n  'analysis_url': 'https://api.spotify.com/v1/audio-analysis/4A8cWXxKfIL3lAyUDzXbCF',\n  'duration_ms': 200548,\n  'time_signature': 4},\n {'danceability': 0.601,\n  'energy': 0.741,\n  'key': 2,\n  'loudness': -5.569,\n  'mode': 1,\n  'speechiness': 0.0478,\n  'acousticness': 0.185,\n  'instrumentalness': 2.91e-05,\n  'liveness': 0.415,\n  'valence': 0.441,\n  'tempo': 153.96,\n  'type': 'audio_features',\n  'id': '6I3mqTwhRpn34SLVafSH7G',\n  'uri': 'spotify:track:6I3mqTwhRpn34SLVafSH7G',\n  'track_href': 'https://api.spotify.com/v1/tracks/6I3mqTwhRpn34SLVafSH7G',\n  'analysis_url': 'https://api.spotify.com/v1/audio-analysis/6I3mqTwhRpn34SLVafSH7G',\n  'duration_ms': 153190,\n  'time_signature': 4},\n {'danceability': 0.737,\n  'energy': 0.846,\n  'key': 1,\n  'loudness': -4.51,\n  'mode': 0,\n  'speechiness': 0.22,\n  'acousticness': 0.00614,\n  'instrumentalness': 0,\n  'liveness': 0.0486,\n  'valence': 0.546,\n  'tempo': 87.981,\n  'type': 'audio_features',\n  'id': '0e8nrvls4Qqv5Rfa2UhqmO',\n  'uri': 'spotify:track:0e8nrvls4Qqv5Rfa2UhqmO',\n  'track_href': 'https://api.spotify.com/v1/tracks/0e8nrvls4Qqv5Rfa2UhqmO',\n  'analysis_url': 'https://api.spotify.com/v1/audio-analysis/0e8nrvls4Qqv5Rfa2UhqmO',\n  'duration_ms': 143901,\n  'time_signature': 4},\n {'danceability': 0.808,\n  'energy': 0.897,\n  'key': 11,\n  'loudness': -3.712,\n  'mode': 0,\n  'speechiness': 0.0348,\n  'acousticness': 0.0469,\n  'instrumentalness': 3.14e-05,\n  'liveness': 0.364,\n  'valence': 0.591,\n  'tempo': 126.026,\n  'type': 'audio_features',\n  'id': '6PQ88X9TkUIAUIZJHW2upE',\n  'uri': 'spotify:track:6PQ88X9TkUIAUIZJHW2upE',\n  'track_href': 'https://api.spotify.com/v1/tracks/6PQ88X9TkUIAUIZJHW2upE',\n  'analysis_url': 'https://api.spotify.com/v1/audio-analysis/6PQ88X9TkUIAUIZJHW2upE',\n  'duration_ms': 231041,\n  'time_signature': 4},\n {'danceability': 0.695,\n  'energy': 0.54,\n  'key': 4,\n  'loudness': -5.692,\n  'mode': 1,\n  'speechiness': 0.0493,\n  'acousticness': 0.299,\n  'instrumentalness': 0,\n  'liveness': 0.367,\n  'valence': 0.415,\n  'tempo': 121.932,\n  'type': 'audio_features',\n  'id': '4fouWK6XVHhzl78KzQ1UjL',\n  'uri': 'spotify:track:4fouWK6XVHhzl78KzQ1UjL',\n  'track_href': 'https://api.spotify.com/v1/tracks/4fouWK6XVHhzl78KzQ1UjL',\n  'analysis_url': 'https://api.spotify.com/v1/audio-analysis/4fouWK6XVHhzl78KzQ1UjL',\n  'duration_ms': 168602,\n  'time_signature': 4},\n {'danceability': 0.788,\n  'energy': 0.859,\n  'key': 2,\n  'loudness': -2.724,\n  'mode': 1,\n  'speechiness': 0.0856,\n  'acousticness': 0.281,\n  'instrumentalness': 0,\n  'liveness': 0.0424,\n  'valence': 0.822,\n  'tempo': 141.02,\n  'type': 'audio_features',\n  'id': '75MNhvTCCKsST3YqqUiU9r',\n  'uri': 'spotify:track:75MNhvTCCKsST3YqqUiU9r',\n  'track_href': 'https://api.spotify.com/v1/tracks/75MNhvTCCKsST3YqqUiU9r',\n  'analysis_url': 'https://api.spotify.com/v1/audio-analysis/75MNhvTCCKsST3YqqUiU9r',\n  'duration_ms': 207853,\n  'time_signature': 4},\n {'danceability': 0.796,\n  'energy': 0.798,\n  'key': 1,\n  'loudness': -6.312,\n  'mode': 1,\n  'speechiness': 0.0317,\n  'acousticness': 0.034,\n  'instrumentalness': 4.19e-05,\n  'liveness': 0.0952,\n  'valence': 0.942,\n  'tempo': 116.032,\n  'type': 'audio_features',\n  'id': '6zSpb8dQRaw0M1dK8PBwQz',\n  'uri': 'spotify:track:6zSpb8dQRaw0M1dK8PBwQz',\n  'track_href': 'https://api.spotify.com/v1/tracks/6zSpb8dQRaw0M1dK8PBwQz',\n  'analysis_url': 'https://api.spotify.com/v1/audio-analysis/6zSpb8dQRaw0M1dK8PBwQz',\n  'duration_ms': 202735,\n  'time_signature': 4},\n {'danceability': 0.604,\n  'energy': 0.366,\n  'key': 5,\n  'loudness': -7.519,\n  'mode': 1,\n  'speechiness': 0.0282,\n  'acousticness': 0.578,\n  'instrumentalness': 0,\n  'liveness': 0.133,\n  'valence': 0.13,\n  'tempo': 141.981,\n  'type': 'audio_features',\n  'id': '0gplL1WMoJ6iYaPgMCL0gX',\n  'uri': 'spotify:track:0gplL1WMoJ6iYaPgMCL0gX',\n  'track_href': 'https://api.spotify.com/v1/tracks/0gplL1WMoJ6iYaPgMCL0gX',\n  'analysis_url': 'https://api.spotify.com/v1/audio-analysis/0gplL1WMoJ6iYaPgMCL0gX',\n  'duration_ms': 224695,\n  'time_signature': 4},\n {'danceability': 0.664,\n  'energy': 0.609,\n  'key': 1,\n  'loudness': -6.509,\n  'mode': 1,\n  'speechiness': 0.0707,\n  'acousticness': 0.304,\n  'instrumentalness': 0,\n  'liveness': 0.0926,\n  'valence': 0.194,\n  'tempo': 130.041,\n  'type': 'audio_features',\n  'id': '3Vi5XqYrmQgOYBajMWSvCi',\n  'uri': 'spotify:track:3Vi5XqYrmQgOYBajMWSvCi',\n  'track_href': 'https://api.spotify.com/v1/tracks/3Vi5XqYrmQgOYBajMWSvCi',\n  'analysis_url': 'https://api.spotify.com/v1/audio-analysis/3Vi5XqYrmQgOYBajMWSvCi',\n  'duration_ms': 210560,\n  'time_signature': 4},\n {'danceability': 0.65,\n  'energy': 0.825,\n  'key': 0,\n  'loudness': -4.645,\n  'mode': 1,\n  'speechiness': 0.0325,\n  'acousticness': 0.0215,\n  'instrumentalness': 2.44e-05,\n  'liveness': 0.0936,\n  'valence': 0.593,\n  'tempo': 118.091,\n  'type': 'audio_features',\n  'id': '37BZB0z9T8Xu7U3e65qxFy',\n  'uri': 'spotify:track:37BZB0z9T8Xu7U3e65qxFy',\n  'track_href': 'https://api.spotify.com/v1/tracks/37BZB0z9T8Xu7U3e65qxFy',\n  'analysis_url': 'https://api.spotify.com/v1/audio-analysis/37BZB0z9T8Xu7U3e65qxFy',\n  'duration_ms': 191014,\n  'time_signature': 4},\n {'danceability': 0.687,\n  'energy': 0.781,\n  'key': 1,\n  'loudness': -4.806,\n  'mode': 1,\n  'speechiness': 0.053,\n  'acousticness': 0.0361,\n  'instrumentalness': 0,\n  'liveness': 0.0755,\n  'valence': 0.688,\n  'tempo': 97.014,\n  'type': 'audio_features',\n  'id': '00Blm7zeNqgYLPtW6zg8cj',\n  'uri': 'spotify:track:00Blm7zeNqgYLPtW6zg8cj',\n  'track_href': 'https://api.spotify.com/v1/tracks/00Blm7zeNqgYLPtW6zg8cj',\n  'analysis_url': 'https://api.spotify.com/v1/audio-analysis/00Blm7zeNqgYLPtW6zg8cj',\n  'duration_ms': 193507,\n  'time_signature': 4},\n {'danceability': 0.643,\n  'energy': 0.605,\n  'key': 4,\n  'loudness': -5.968,\n  'mode': 0,\n  'speechiness': 0.297,\n  'acousticness': 0.0336,\n  'instrumentalness': 0,\n  'liveness': 0.112,\n  'valence': 0.145,\n  'tempo': 84.216,\n  'type': 'audio_features',\n  'id': '3ihIZrJreMJPjQdNLrEXnP',\n  'uri': 'spotify:track:3ihIZrJreMJPjQdNLrEXnP',\n  'track_href': 'https://api.spotify.com/v1/tracks/3ihIZrJreMJPjQdNLrEXnP',\n  'analysis_url': 'https://api.spotify.com/v1/audio-analysis/3ihIZrJreMJPjQdNLrEXnP',\n  'duration_ms': 200471,\n  'time_signature': 4},\n {'danceability': 0.695,\n  'energy': 0.884,\n  'key': 6,\n  'loudness': -2.278,\n  'mode': 0,\n  'speechiness': 0.0753,\n  'acousticness': 0.0561,\n  'instrumentalness': 0,\n  'liveness': 0.213,\n  'valence': 0.914,\n  'tempo': 103.014,\n  'type': 'audio_features',\n  'id': '39LLxExYz6ewLAcYrzQQyP',\n  'uri': 'spotify:track:39LLxExYz6ewLAcYrzQQyP',\n  'track_href': 'https://api.spotify.com/v1/tracks/39LLxExYz6ewLAcYrzQQyP',\n  'analysis_url': 'https://api.spotify.com/v1/audio-analysis/39LLxExYz6ewLAcYrzQQyP',\n  'duration_ms': 203808,\n  'time_signature': 4},\n {'danceability': 0.505,\n  'energy': 0.814,\n  'key': 1,\n  'loudness': -4.905,\n  'mode': 1,\n  'speechiness': 0.0439,\n  'acousticness': 0.0566,\n  'instrumentalness': 0,\n  'liveness': 0.106,\n  'valence': 0.503,\n  'tempo': 160.085,\n  'type': 'audio_features',\n  'id': '13rC4iKtfQocWIfzPOJxaT',\n  'uri': 'spotify:track:13rC4iKtfQocWIfzPOJxaT',\n  'track_href': 'https://api.spotify.com/v1/tracks/13rC4iKtfQocWIfzPOJxaT',\n  'analysis_url': 'https://api.spotify.com/v1/audio-analysis/13rC4iKtfQocWIfzPOJxaT',\n  'duration_ms': 224773,\n  'time_signature': 4},\n {'danceability': 0.736,\n  'energy': 0.704,\n  'key': 3,\n  'loudness': -7.409,\n  'mode': 0,\n  'speechiness': 0.0615,\n  'acousticness': 0.0203,\n  'instrumentalness': 0,\n  'liveness': 0.0501,\n  'valence': 0.894,\n  'tempo': 149.995,\n  'type': 'audio_features',\n  'id': '27NovPIUIRrOZoCHxABJwK',\n  'uri': 'spotify:track:27NovPIUIRrOZoCHxABJwK',\n  'track_href': 'https://api.spotify.com/v1/tracks/27NovPIUIRrOZoCHxABJwK',\n  'analysis_url': 'https://api.spotify.com/v1/audio-analysis/27NovPIUIRrOZoCHxABJwK',\n  'duration_ms': 212000,\n  'time_signature': 4},\n {'danceability': 0.843,\n  'energy': 0.7,\n  'key': 4,\n  'loudness': -3.563,\n  'mode': 0,\n  'speechiness': 0.0803,\n  'acousticness': 0.0934,\n  'instrumentalness': 0,\n  'liveness': 0.14,\n  'valence': 0.899,\n  'tempo': 93.991,\n  'type': 'audio_features',\n  'id': '1ri9ZUkBJVFUdgwzCnfcYs',\n  'uri': 'spotify:track:1ri9ZUkBJVFUdgwzCnfcYs',\n  'track_href': 'https://api.spotify.com/v1/tracks/1ri9ZUkBJVFUdgwzCnfcYs',\n  'analysis_url': 'https://api.spotify.com/v1/audio-analysis/1ri9ZUkBJVFUdgwzCnfcYs',\n  'duration_ms': 226088,\n  'time_signature': 4},\n {'danceability': 0.756,\n  'energy': 0.697,\n  'key': 8,\n  'loudness': -6.377,\n  'mode': 1,\n  'speechiness': 0.0401,\n  'acousticness': 0.182,\n  'instrumentalness': 0,\n  'liveness': 0.333,\n  'valence': 0.956,\n  'tempo': 94.996,\n  'type': 'audio_features',\n  'id': '0QBzMgT7NIeoCYy3sJCof1',\n  'uri': 'spotify:track:0QBzMgT7NIeoCYy3sJCof1',\n  'track_href': 'https://api.spotify.com/v1/tracks/0QBzMgT7NIeoCYy3sJCof1',\n  'analysis_url': 'https://api.spotify.com/v1/audio-analysis/0QBzMgT7NIeoCYy3sJCof1',\n  'duration_ms': 206071,\n  'time_signature': 4},\n {'danceability': 0.511,\n  'energy': 0.525,\n  'key': 8,\n  'loudness': -4.595,\n  'mode': 0,\n  'speechiness': 0.183,\n  'acousticness': 0.604,\n  'instrumentalness': 0,\n  'liveness': 0.111,\n  'valence': 0.661,\n  'tempo': 139.885,\n  'type': 'audio_features',\n  'id': '3xRH6FPVtheDyNla3T1FE7',\n  'uri': 'spotify:track:3xRH6FPVtheDyNla3T1FE7',\n  'track_href': 'https://api.spotify.com/v1/tracks/3xRH6FPVtheDyNla3T1FE7',\n  'analysis_url': 'https://api.spotify.com/v1/audio-analysis/3xRH6FPVtheDyNla3T1FE7',\n  'duration_ms': 204317,\n  'time_signature': 3},\n {'danceability': 0.577,\n  'energy': 0.45,\n  'key': 0,\n  'loudness': -8.516,\n  'mode': 0,\n  'speechiness': 0.0834,\n  'acousticness': 0.357,\n  'instrumentalness': 0,\n  'liveness': 0.111,\n  'valence': 0.83,\n  'tempo': 205.863,\n  'type': 'audio_features',\n  'id': '52xJxFP6TqMuO4Yt0eOkMz',\n  'uri': 'spotify:track:52xJxFP6TqMuO4Yt0eOkMz',\n  'track_href': 'https://api.spotify.com/v1/tracks/52xJxFP6TqMuO4Yt0eOkMz',\n  'analysis_url': 'https://api.spotify.com/v1/audio-analysis/52xJxFP6TqMuO4Yt0eOkMz',\n  'duration_ms': 216120,\n  'time_signature': 4},\n {'danceability': 0.535,\n  'energy': 0.618,\n  'key': 2,\n  'loudness': -5.668,\n  'mode': 1,\n  'speechiness': 0.382,\n  'acousticness': 0.0245,\n  'instrumentalness': 0,\n  'liveness': 0.103,\n  'valence': 0.211,\n  'tempo': 165.991,\n  'type': 'audio_features',\n  'id': '6ws54n2IzyrIxxyzlG2bVJ',\n  'uri': 'spotify:track:6ws54n2IzyrIxxyzlG2bVJ',\n  'track_href': 'https://api.spotify.com/v1/tracks/6ws54n2IzyrIxxyzlG2bVJ',\n  'analysis_url': 'https://api.spotify.com/v1/audio-analysis/6ws54n2IzyrIxxyzlG2bVJ',\n  'duration_ms': 213976,\n  'time_signature': 4},\n {'danceability': 0.472,\n  'energy': 0.937,\n  'key': 0,\n  'loudness': -4.028,\n  'mode': 0,\n  'speechiness': 0.0567,\n  'acousticness': 0.00717,\n  'instrumentalness': 0,\n  'liveness': 0.11,\n  'valence': 0.454,\n  'tempo': 140.073,\n  'type': 'audio_features',\n  'id': '03kCiUPjdAV9ur9ugm8PQT',\n  'uri': 'spotify:track:03kCiUPjdAV9ur9ugm8PQT',\n  'track_href': 'https://api.spotify.com/v1/tracks/03kCiUPjdAV9ur9ugm8PQT',\n  'analysis_url': 'https://api.spotify.com/v1/audio-analysis/03kCiUPjdAV9ur9ugm8PQT',\n  'duration_ms': 176147,\n  'time_signature': 4},\n {'danceability': 0.593,\n  'energy': 0.552,\n  'key': 1,\n  'loudness': -5.838,\n  'mode': 1,\n  'speechiness': 0.028,\n  'acousticness': 0.18,\n  'instrumentalness': 1.71e-05,\n  'liveness': 0.11,\n  'valence': 0.39,\n  'tempo': 115.0,\n  'type': 'audio_features',\n  'id': '4GyD3o5hWoyCuYpdlzZlRL',\n  'uri': 'spotify:track:4GyD3o5hWoyCuYpdlzZlRL',\n  'track_href': 'https://api.spotify.com/v1/tracks/4GyD3o5hWoyCuYpdlzZlRL',\n  'analysis_url': 'https://api.spotify.com/v1/audio-analysis/4GyD3o5hWoyCuYpdlzZlRL',\n  'duration_ms': 254181,\n  'time_signature': 4},\n {'danceability': 0.505,\n  'energy': 0.657,\n  'key': 11,\n  'loudness': -5.24,\n  'mode': 0,\n  'speechiness': 0.0318,\n  'acousticness': 0.373,\n  'instrumentalness': 0.00107,\n  'liveness': 0.126,\n  'valence': 0.252,\n  'tempo': 196.0,\n  'type': 'audio_features',\n  'id': '3cBsEDNhFI9E82vPj3kvi3',\n  'uri': 'spotify:track:3cBsEDNhFI9E82vPj3kvi3',\n  'track_href': 'https://api.spotify.com/v1/tracks/3cBsEDNhFI9E82vPj3kvi3',\n  'analysis_url': 'https://api.spotify.com/v1/audio-analysis/3cBsEDNhFI9E82vPj3kvi3',\n  'duration_ms': 178520,\n  'time_signature': 3},\n {'danceability': 0.635,\n  'energy': 0.747,\n  'key': 4,\n  'loudness': -6.227,\n  'mode': 1,\n  'speechiness': 0.0293,\n  'acousticness': 0.00313,\n  'instrumentalness': 0,\n  'liveness': 0.346,\n  'valence': 0.753,\n  'tempo': 104.027,\n  'type': 'audio_features',\n  'id': '77oKig47u34qCCFWKMfu1e',\n  'uri': 'spotify:track:77oKig47u34qCCFWKMfu1e',\n  'track_href': 'https://api.spotify.com/v1/tracks/77oKig47u34qCCFWKMfu1e',\n  'analysis_url': 'https://api.spotify.com/v1/audio-analysis/77oKig47u34qCCFWKMfu1e',\n  'duration_ms': 189560,\n  'time_signature': 4},\n {'danceability': 0.556,\n  'energy': 0.661,\n  'key': 6,\n  'loudness': -5.052,\n  'mode': 0,\n  'speechiness': 0.204,\n  'acousticness': 0.3,\n  'instrumentalness': 0,\n  'liveness': 0.101,\n  'valence': 0.668,\n  'tempo': 168.56,\n  'type': 'audio_features',\n  'id': '6PERP62TejQjgHu81OHxgM',\n  'uri': 'spotify:track:6PERP62TejQjgHu81OHxgM',\n  'track_href': 'https://api.spotify.com/v1/tracks/6PERP62TejQjgHu81OHxgM',\n  'analysis_url': 'https://api.spotify.com/v1/audio-analysis/6PERP62TejQjgHu81OHxgM',\n  'duration_ms': 178148,\n  'time_signature': 4},\n {'danceability': 0.814,\n  'energy': 0.628,\n  'key': 7,\n  'loudness': -7.178,\n  'mode': 1,\n  'speechiness': 0.221,\n  'acousticness': 0.167,\n  'instrumentalness': 0,\n  'liveness': 0.101,\n  'valence': 0.677,\n  'tempo': 123.977,\n  'type': 'audio_features',\n  'id': '7mFj0LlWtEJaEigguaWqYh',\n  'uri': 'spotify:track:7mFj0LlWtEJaEigguaWqYh',\n  'track_href': 'https://api.spotify.com/v1/tracks/7mFj0LlWtEJaEigguaWqYh',\n  'analysis_url': 'https://api.spotify.com/v1/audio-analysis/7mFj0LlWtEJaEigguaWqYh',\n  'duration_ms': 201334,\n  'time_signature': 4},\n {'danceability': 0.603,\n  'energy': 0.473,\n  'key': 5,\n  'loudness': -7.23,\n  'mode': 1,\n  'speechiness': 0.0511,\n  'acousticness': 0.616,\n  'instrumentalness': 0,\n  'liveness': 0.31,\n  'valence': 0.446,\n  'tempo': 109.494,\n  'type': 'audio_features',\n  'id': '5S9Zs5g9lTWnLIboN1pdlU',\n  'uri': 'spotify:track:5S9Zs5g9lTWnLIboN1pdlU',\n  'track_href': 'https://api.spotify.com/v1/tracks/5S9Zs5g9lTWnLIboN1pdlU',\n  'analysis_url': 'https://api.spotify.com/v1/audio-analysis/5S9Zs5g9lTWnLIboN1pdlU',\n  'duration_ms': 175345,\n  'time_signature': 4},\n {'danceability': 0.535,\n  'energy': 0.388,\n  'key': 7,\n  'loudness': -9.805,\n  'mode': 0,\n  'speechiness': 0.155,\n  'acousticness': 0.507,\n  'instrumentalness': 0,\n  'liveness': 0.11,\n  'valence': 0.412,\n  'tempo': 106.703,\n  'type': 'audio_features',\n  'id': '5dXWFMwD7I7zXsInONVl0H',\n  'uri': 'spotify:track:5dXWFMwD7I7zXsInONVl0H',\n  'track_href': 'https://api.spotify.com/v1/tracks/5dXWFMwD7I7zXsInONVl0H',\n  'analysis_url': 'https://api.spotify.com/v1/audio-analysis/5dXWFMwD7I7zXsInONVl0H',\n  'duration_ms': 174000,\n  'time_signature': 5},\n {'danceability': 0.345,\n  'energy': 0.612,\n  'key': 7,\n  'loudness': -6.543,\n  'mode': 0,\n  'speechiness': 0.0608,\n  'acousticness': 0.232,\n  'instrumentalness': 0,\n  'liveness': 0.194,\n  'valence': 0.232,\n  'tempo': 179.773,\n  'type': 'audio_features',\n  'id': '59CfNbkERJ3NoTXDvoURjj',\n  'uri': 'spotify:track:59CfNbkERJ3NoTXDvoURjj',\n  'track_href': 'https://api.spotify.com/v1/tracks/59CfNbkERJ3NoTXDvoURjj',\n  'analysis_url': 'https://api.spotify.com/v1/audio-analysis/59CfNbkERJ3NoTXDvoURjj',\n  'duration_ms': 153000,\n  'time_signature': 3},\n {'danceability': 0.745,\n  'energy': 0.65,\n  'key': 2,\n  'loudness': -11.814,\n  'mode': 1,\n  'speechiness': 0.346,\n  'acousticness': 0.0451,\n  'instrumentalness': 0.00758,\n  'liveness': 0.111,\n  'valence': 0.386,\n  'tempo': 144.047,\n  'type': 'audio_features',\n  'id': '5vUnjhBzRJJIAOJPde6zDx',\n  'uri': 'spotify:track:5vUnjhBzRJJIAOJPde6zDx',\n  'track_href': 'https://api.spotify.com/v1/tracks/5vUnjhBzRJJIAOJPde6zDx',\n  'analysis_url': 'https://api.spotify.com/v1/audio-analysis/5vUnjhBzRJJIAOJPde6zDx',\n  'duration_ms': 152137,\n  'time_signature': 4},\n {'danceability': 0.828,\n  'energy': 0.621,\n  'key': 8,\n  'loudness': -6.414,\n  'mode': 1,\n  'speechiness': 0.0565,\n  'acousticness': 0.0164,\n  'instrumentalness': 0.00233,\n  'liveness': 0.0845,\n  'valence': 0.436,\n  'tempo': 128.986,\n  'type': 'audio_features',\n  'id': '0k4d5YPDr1r7FX77VdqWez',\n  'uri': 'spotify:track:0k4d5YPDr1r7FX77VdqWez',\n  'track_href': 'https://api.spotify.com/v1/tracks/0k4d5YPDr1r7FX77VdqWez',\n  'analysis_url': 'https://api.spotify.com/v1/audio-analysis/0k4d5YPDr1r7FX77VdqWez',\n  'duration_ms': 186173,\n  'time_signature': 4},\n {'danceability': 0.742,\n  'energy': 0.527,\n  'key': 8,\n  'loudness': -6.892,\n  'mode': 0,\n  'speechiness': 0.0769,\n  'acousticness': 0.327,\n  'instrumentalness': 0,\n  'liveness': 0.25,\n  'valence': 0.638,\n  'tempo': 84.974,\n  'type': 'audio_features',\n  'id': '3o9kpgkIcffx0iSwxhuNI2',\n  'uri': 'spotify:track:3o9kpgkIcffx0iSwxhuNI2',\n  'track_href': 'https://api.spotify.com/v1/tracks/3o9kpgkIcffx0iSwxhuNI2',\n  'analysis_url': 'https://api.spotify.com/v1/audio-analysis/3o9kpgkIcffx0iSwxhuNI2',\n  'duration_ms': 169238,\n  'time_signature': 4},\n {'danceability': 0.649,\n  'energy': 0.76,\n  'key': 1,\n  'loudness': -6.487,\n  'mode': 1,\n  'speechiness': 0.0574,\n  'acousticness': 0.114,\n  'instrumentalness': 0,\n  'liveness': 0.317,\n  'valence': 0.843,\n  'tempo': 80.018,\n  'type': 'audio_features',\n  'id': '3ZozFqJJlDBNIm4xqxn2ZD',\n  'uri': 'spotify:track:3ZozFqJJlDBNIm4xqxn2ZD',\n  'track_href': 'https://api.spotify.com/v1/tracks/3ZozFqJJlDBNIm4xqxn2ZD',\n  'analysis_url': 'https://api.spotify.com/v1/audio-analysis/3ZozFqJJlDBNIm4xqxn2ZD',\n  'duration_ms': 161853,\n  'time_signature': 4},\n {'danceability': 0.403,\n  'energy': 0.537,\n  'key': 3,\n  'loudness': -6.628,\n  'mode': 1,\n  'speechiness': 0.031,\n  'acousticness': 0.59,\n  'instrumentalness': 0,\n  'liveness': 0.112,\n  'valence': 0.414,\n  'tempo': 69.877,\n  'type': 'audio_features',\n  'id': '0uRrG2jRR5tuifsYIJHEao',\n  'uri': 'spotify:track:0uRrG2jRR5tuifsYIJHEao',\n  'track_href': 'https://api.spotify.com/v1/tracks/0uRrG2jRR5tuifsYIJHEao',\n  'analysis_url': 'https://api.spotify.com/v1/audio-analysis/0uRrG2jRR5tuifsYIJHEao',\n  'duration_ms': 202133,\n  'time_signature': 4},\n {'danceability': 0.795,\n  'energy': 0.526,\n  'key': 6,\n  'loudness': -9.086,\n  'mode': 0,\n  'speechiness': 0.204,\n  'acousticness': 0.067,\n  'instrumentalness': 2e-06,\n  'liveness': 0.134,\n  'valence': 0.194,\n  'tempo': 140.037,\n  'type': 'audio_features',\n  'id': '74C8vEwsNT5OTg8VQOsoUD',\n  'uri': 'spotify:track:74C8vEwsNT5OTg8VQOsoUD',\n  'track_href': 'https://api.spotify.com/v1/tracks/74C8vEwsNT5OTg8VQOsoUD',\n  'analysis_url': 'https://api.spotify.com/v1/audio-analysis/74C8vEwsNT5OTg8VQOsoUD',\n  'duration_ms': 181393,\n  'time_signature': 4},\n {'danceability': 0.773,\n  'energy': 0.422,\n  'key': 1,\n  'loudness': -4.572,\n  'mode': 0,\n  'speechiness': 0.187,\n  'acousticness': 0.00783,\n  'instrumentalness': 0.00693,\n  'liveness': 0.129,\n  'valence': 0.488,\n  'tempo': 77.502,\n  'type': 'audio_features',\n  'id': '3LnpBazWpD31QMTn6LgVGv',\n  'uri': 'spotify:track:3LnpBazWpD31QMTn6LgVGv',\n  'track_href': 'https://api.spotify.com/v1/tracks/3LnpBazWpD31QMTn6LgVGv',\n  'analysis_url': 'https://api.spotify.com/v1/audio-analysis/3LnpBazWpD31QMTn6LgVGv',\n  'duration_ms': 136267,\n  'time_signature': 1},\n {'danceability': 0.59,\n  'energy': 0.846,\n  'key': 4,\n  'loudness': -4.251,\n  'mode': 1,\n  'speechiness': 0.0396,\n  'acousticness': 0.182,\n  'instrumentalness': 0,\n  'liveness': 0.53,\n  'valence': 0.733,\n  'tempo': 146.028,\n  'type': 'audio_features',\n  'id': '19ZzEzb4BVK1wVO4brrmZz',\n  'uri': 'spotify:track:19ZzEzb4BVK1wVO4brrmZz',\n  'track_href': 'https://api.spotify.com/v1/tracks/19ZzEzb4BVK1wVO4brrmZz',\n  'analysis_url': 'https://api.spotify.com/v1/audio-analysis/19ZzEzb4BVK1wVO4brrmZz',\n  'duration_ms': 174681,\n  'time_signature': 4},\n {'danceability': 0.754,\n  'energy': 0.763,\n  'key': 7,\n  'loudness': -4.627,\n  'mode': 0,\n  'speechiness': 0.0435,\n  'acousticness': 0.0301,\n  'instrumentalness': 2.23e-05,\n  'liveness': 0.0901,\n  'valence': 0.464,\n  'tempo': 117.953,\n  'type': 'audio_features',\n  'id': '18asYwWugKjjsihZ0YvRxO',\n  'uri': 'spotify:track:18asYwWugKjjsihZ0YvRxO',\n  'track_href': 'https://api.spotify.com/v1/tracks/18asYwWugKjjsihZ0YvRxO',\n  'analysis_url': 'https://api.spotify.com/v1/audio-analysis/18asYwWugKjjsihZ0YvRxO',\n  'duration_ms': 164819,\n  'time_signature': 4},\n {'danceability': 0.614,\n  'energy': 0.644,\n  'key': 2,\n  'loudness': -5.372,\n  'mode': 0,\n  'speechiness': 0.0426,\n  'acousticness': 0.0134,\n  'instrumentalness': 7.07e-06,\n  'liveness': 0.117,\n  'valence': 0.651,\n  'tempo': 160.036,\n  'type': 'audio_features',\n  'id': '0IuVhCflrQPMGRrOyoY5RW',\n  'uri': 'spotify:track:0IuVhCflrQPMGRrOyoY5RW',\n  'track_href': 'https://api.spotify.com/v1/tracks/0IuVhCflrQPMGRrOyoY5RW',\n  'analysis_url': 'https://api.spotify.com/v1/audio-analysis/0IuVhCflrQPMGRrOyoY5RW',\n  'duration_ms': 206772,\n  'time_signature': 4},\n {'danceability': 0.603,\n  'energy': 0.691,\n  'key': 5,\n  'loudness': -5.805,\n  'mode': 1,\n  'speechiness': 0.0372,\n  'acousticness': 0.0248,\n  'instrumentalness': 0,\n  'liveness': 0.583,\n  'valence': 0.577,\n  'tempo': 147.148,\n  'type': 'audio_features',\n  'id': '0U1W2LZVUX7qTm7dDpqxh6',\n  'uri': 'spotify:track:0U1W2LZVUX7qTm7dDpqxh6',\n  'track_href': 'https://api.spotify.com/v1/tracks/0U1W2LZVUX7qTm7dDpqxh6',\n  'analysis_url': 'https://api.spotify.com/v1/audio-analysis/0U1W2LZVUX7qTm7dDpqxh6',\n  'duration_ms': 172267,\n  'time_signature': 4},\n {'danceability': 0.586,\n  'energy': 0.559,\n  'key': 4,\n  'loudness': -6.725,\n  'mode': 1,\n  'speechiness': 0.05,\n  'acousticness': 0.639,\n  'instrumentalness': 0,\n  'liveness': 0.0872,\n  'valence': 0.437,\n  'tempo': 177.945,\n  'type': 'audio_features',\n  'id': '69AIpwGNLxr4qS1X5ynx60',\n  'uri': 'spotify:track:69AIpwGNLxr4qS1X5ynx60',\n  'track_href': 'https://api.spotify.com/v1/tracks/69AIpwGNLxr4qS1X5ynx60',\n  'analysis_url': 'https://api.spotify.com/v1/audio-analysis/69AIpwGNLxr4qS1X5ynx60',\n  'duration_ms': 167480,\n  'time_signature': 4},\n {'danceability': 0.836,\n  'energy': 0.743,\n  'key': 10,\n  'loudness': -6.305,\n  'mode': 0,\n  'speechiness': 0.0656,\n  'acousticness': 0.0995,\n  'instrumentalness': 0,\n  'liveness': 0.335,\n  'valence': 0.722,\n  'tempo': 108.966,\n  'type': 'audio_features',\n  'id': '1PckUlxKqWQs3RlWXVBLw3',\n  'uri': 'spotify:track:1PckUlxKqWQs3RlWXVBLw3',\n  'track_href': 'https://api.spotify.com/v1/tracks/1PckUlxKqWQs3RlWXVBLw3',\n  'analysis_url': 'https://api.spotify.com/v1/audio-analysis/1PckUlxKqWQs3RlWXVBLw3',\n  'duration_ms': 191822,\n  'time_signature': 4},\n {'danceability': 0.87,\n  'energy': 0.835,\n  'key': 1,\n  'loudness': -5.875,\n  'mode': 1,\n  'speechiness': 0.311,\n  'acousticness': 0.0353,\n  'instrumentalness': 0,\n  'liveness': 0.142,\n  'valence': 0.901,\n  'tempo': 140.051,\n  'type': 'audio_features',\n  'id': '0RkCnqwF8Tfl2QGPZwopyk',\n  'uri': 'spotify:track:0RkCnqwF8Tfl2QGPZwopyk',\n  'track_href': 'https://api.spotify.com/v1/tracks/0RkCnqwF8Tfl2QGPZwopyk',\n  'analysis_url': 'https://api.spotify.com/v1/audio-analysis/0RkCnqwF8Tfl2QGPZwopyk',\n  'duration_ms': 118249,\n  'time_signature': 4},\n {'danceability': 0.69,\n  'energy': 0.626,\n  'key': 6,\n  'loudness': -5.693,\n  'mode': 1,\n  'speechiness': 0.306,\n  'acousticness': 0.105,\n  'instrumentalness': 0.000335,\n  'liveness': 0.0881,\n  'valence': 0.912,\n  'tempo': 184.009,\n  'type': 'audio_features',\n  'id': '1BSMpVGWs3v5BZKnAQziAc',\n  'uri': 'spotify:track:1BSMpVGWs3v5BZKnAQziAc',\n  'track_href': 'https://api.spotify.com/v1/tracks/1BSMpVGWs3v5BZKnAQziAc',\n  'analysis_url': 'https://api.spotify.com/v1/audio-analysis/1BSMpVGWs3v5BZKnAQziAc',\n  'duration_ms': 185681,\n  'time_signature': 4},\n {'danceability': 0.575,\n  'energy': 0.644,\n  'key': 6,\n  'loudness': -5.68,\n  'mode': 0,\n  'speechiness': 0.0309,\n  'acousticness': 0.271,\n  'instrumentalness': 0,\n  'liveness': 0.131,\n  'valence': 0.626,\n  'tempo': 80.07,\n  'type': 'audio_features',\n  'id': '6F7UOC6fPWOkPqybOWBHSv',\n  'uri': 'spotify:track:6F7UOC6fPWOkPqybOWBHSv',\n  'track_href': 'https://api.spotify.com/v1/tracks/6F7UOC6fPWOkPqybOWBHSv',\n  'analysis_url': 'https://api.spotify.com/v1/audio-analysis/6F7UOC6fPWOkPqybOWBHSv',\n  'duration_ms': 195013,\n  'time_signature': 4},\n {'danceability': 0.956,\n  'energy': 0.417,\n  'key': 7,\n  'loudness': -7.892,\n  'mode': 0,\n  'speechiness': 0.0926,\n  'acousticness': 0.572,\n  'instrumentalness': 0.00071,\n  'liveness': 0.0782,\n  'valence': 0.714,\n  'tempo': 108.015,\n  'type': 'audio_features',\n  'id': '3s1KwrLP0NlFWiWbjz6bfQ',\n  'uri': 'spotify:track:3s1KwrLP0NlFWiWbjz6bfQ',\n  'track_href': 'https://api.spotify.com/v1/tracks/3s1KwrLP0NlFWiWbjz6bfQ',\n  'analysis_url': 'https://api.spotify.com/v1/audio-analysis/3s1KwrLP0NlFWiWbjz6bfQ',\n  'duration_ms': 187111,\n  'time_signature': 4},\n {'danceability': 0.684,\n  'energy': 0.449,\n  'key': 3,\n  'loudness': -9.738,\n  'mode': 1,\n  'speechiness': 0.611,\n  'acousticness': 0.869,\n  'instrumentalness': 0,\n  'liveness': 0.0881,\n  'valence': 0.341,\n  'tempo': 66.165,\n  'type': 'audio_features',\n  'id': '6Z165JvPnS8PYvGW8oLGLc',\n  'uri': 'spotify:track:6Z165JvPnS8PYvGW8oLGLc',\n  'track_href': 'https://api.spotify.com/v1/tracks/6Z165JvPnS8PYvGW8oLGLc',\n  'analysis_url': 'https://api.spotify.com/v1/audio-analysis/6Z165JvPnS8PYvGW8oLGLc',\n  'duration_ms': 157373,\n  'time_signature': 4},\n {'danceability': 0.677,\n  'energy': 0.557,\n  'key': 1,\n  'loudness': -8.409,\n  'mode': 1,\n  'speechiness': 0.0694,\n  'acousticness': 0.00508,\n  'instrumentalness': 8.36e-06,\n  'liveness': 0.0984,\n  'valence': 0.1,\n  'tempo': 150.127,\n  'type': 'audio_features',\n  'id': '62Yo3FDddWY8ydu6PW2wyz',\n  'uri': 'spotify:track:62Yo3FDddWY8ydu6PW2wyz',\n  'track_href': 'https://api.spotify.com/v1/tracks/62Yo3FDddWY8ydu6PW2wyz',\n  'analysis_url': 'https://api.spotify.com/v1/audio-analysis/62Yo3FDddWY8ydu6PW2wyz',\n  'duration_ms': 206385,\n  'time_signature': 4},\n {'danceability': 0.799,\n  'energy': 0.653,\n  'key': 2,\n  'loudness': -5.453,\n  'mode': 0,\n  'speechiness': 0.037,\n  'acousticness': 0.019,\n  'instrumentalness': 0,\n  'liveness': 0.0935,\n  'valence': 0.236,\n  'tempo': 104.019,\n  'type': 'audio_features',\n  'id': '3vySEUpD0tc801F2WZDLYw',\n  'uri': 'spotify:track:3vySEUpD0tc801F2WZDLYw',\n  'track_href': 'https://api.spotify.com/v1/tracks/3vySEUpD0tc801F2WZDLYw',\n  'analysis_url': 'https://api.spotify.com/v1/audio-analysis/3vySEUpD0tc801F2WZDLYw',\n  'duration_ms': 215281,\n  'time_signature': 4},\n {'danceability': 0.641,\n  'energy': 0.78,\n  'key': 3,\n  'loudness': -5.138,\n  'mode': 1,\n  'speechiness': 0.0852,\n  'acousticness': 0.0206,\n  'instrumentalness': 0,\n  'liveness': 0.143,\n  'valence': 0.693,\n  'tempo': 98.004,\n  'type': 'audio_features',\n  'id': '4PuAqZlL1tkidkuxfDlLbF',\n  'uri': 'spotify:track:4PuAqZlL1tkidkuxfDlLbF',\n  'track_href': 'https://api.spotify.com/v1/tracks/4PuAqZlL1tkidkuxfDlLbF',\n  'analysis_url': 'https://api.spotify.com/v1/audio-analysis/4PuAqZlL1tkidkuxfDlLbF',\n  'duration_ms': 179720,\n  'time_signature': 4},\n {'danceability': 0.582,\n  'energy': 0.797,\n  'key': 5,\n  'loudness': -4.926,\n  'mode': 1,\n  'speechiness': 0.0334,\n  'acousticness': 0.23,\n  'instrumentalness': 0,\n  'liveness': 0.132,\n  'valence': 0.595,\n  'tempo': 135.973,\n  'type': 'audio_features',\n  'id': '4lSNyiHil3tuiwtvEpN1qq',\n  'uri': 'spotify:track:4lSNyiHil3tuiwtvEpN1qq',\n  'track_href': 'https://api.spotify.com/v1/tracks/4lSNyiHil3tuiwtvEpN1qq',\n  'analysis_url': 'https://api.spotify.com/v1/audio-analysis/4lSNyiHil3tuiwtvEpN1qq',\n  'duration_ms': 196027,\n  'time_signature': 4},\n {'danceability': 0.659,\n  'energy': 0.745,\n  'key': 10,\n  'loudness': -3.599,\n  'mode': 1,\n  'speechiness': 0.0347,\n  'acousticness': 0.0417,\n  'instrumentalness': 0,\n  'liveness': 0.296,\n  'valence': 0.54,\n  'tempo': 74.967,\n  'type': 'audio_features',\n  'id': '3DZ8dbKg4OTSSqGARvecYd',\n  'uri': 'spotify:track:3DZ8dbKg4OTSSqGARvecYd',\n  'track_href': 'https://api.spotify.com/v1/tracks/3DZ8dbKg4OTSSqGARvecYd',\n  'analysis_url': 'https://api.spotify.com/v1/audio-analysis/3DZ8dbKg4OTSSqGARvecYd',\n  'duration_ms': 185600,\n  'time_signature': 4},\n {'danceability': 0.653,\n  'energy': 0.927,\n  'key': 8,\n  'loudness': -4.699,\n  'mode': 1,\n  'speechiness': 0.0289,\n  'acousticness': 0.0352,\n  'instrumentalness': 4.47e-05,\n  'liveness': 0.0966,\n  'valence': 0.894,\n  'tempo': 119.97,\n  'type': 'audio_features',\n  'id': '0ysCB1Jg4hli0XlEWlipo7',\n  'uri': 'spotify:track:0ysCB1Jg4hli0XlEWlipo7',\n  'track_href': 'https://api.spotify.com/v1/tracks/0ysCB1Jg4hli0XlEWlipo7',\n  'analysis_url': 'https://api.spotify.com/v1/audio-analysis/0ysCB1Jg4hli0XlEWlipo7',\n  'duration_ms': 258800,\n  'time_signature': 4},\n {'danceability': 0.707,\n  'energy': 0.618,\n  'key': 1,\n  'loudness': -5.825,\n  'mode': 0,\n  'speechiness': 0.19,\n  'acousticness': 0.17,\n  'instrumentalness': 0,\n  'liveness': 0.293,\n  'valence': 0.517,\n  'tempo': 133.876,\n  'type': 'audio_features',\n  'id': '08SB2OtZkaliju77WYEKxk',\n  'uri': 'spotify:track:08SB2OtZkaliju77WYEKxk',\n  'track_href': 'https://api.spotify.com/v1/tracks/08SB2OtZkaliju77WYEKxk',\n  'analysis_url': 'https://api.spotify.com/v1/audio-analysis/08SB2OtZkaliju77WYEKxk',\n  'duration_ms': 231498,\n  'time_signature': 4},\n {'danceability': 0.65,\n  'energy': 0.584,\n  'key': 2,\n  'loudness': -8.286,\n  'mode': 1,\n  'speechiness': 0.307,\n  'acousticness': 0.0174,\n  'instrumentalness': 1.54e-06,\n  'liveness': 0.042,\n  'valence': 0.37,\n  'tempo': 180.088,\n  'type': 'audio_features',\n  'id': '760jhRscwGbIIe1m1IIQpU',\n  'uri': 'spotify:track:760jhRscwGbIIe1m1IIQpU',\n  'track_href': 'https://api.spotify.com/v1/tracks/760jhRscwGbIIe1m1IIQpU',\n  'analysis_url': 'https://api.spotify.com/v1/audio-analysis/760jhRscwGbIIe1m1IIQpU',\n  'duration_ms': 202227,\n  'time_signature': 4},\n {'danceability': 0.464,\n  'energy': 0.755,\n  'key': 4,\n  'loudness': -5.707,\n  'mode': 1,\n  'speechiness': 0.0354,\n  'acousticness': 0.00838,\n  'instrumentalness': 0,\n  'liveness': 0.0989,\n  'valence': 0.449,\n  'tempo': 155.973,\n  'type': 'audio_features',\n  'id': '1fff5nZGyRJtFLkOrSSwOU',\n  'uri': 'spotify:track:1fff5nZGyRJtFLkOrSSwOU',\n  'track_href': 'https://api.spotify.com/v1/tracks/1fff5nZGyRJtFLkOrSSwOU',\n  'analysis_url': 'https://api.spotify.com/v1/audio-analysis/1fff5nZGyRJtFLkOrSSwOU',\n  'duration_ms': 216764,\n  'time_signature': 4},\n {'danceability': 0.527,\n  'energy': 0.461,\n  'key': 7,\n  'loudness': -5.908,\n  'mode': 1,\n  'speechiness': 0.0269,\n  'acousticness': 0.118,\n  'instrumentalness': 0,\n  'liveness': 0.0831,\n  'valence': 0.227,\n  'tempo': 128.153,\n  'type': 'audio_features',\n  'id': '2ccuOtUjIyx3tPcsnpeBzJ',\n  'uri': 'spotify:track:2ccuOtUjIyx3tPcsnpeBzJ',\n  'track_href': 'https://api.spotify.com/v1/tracks/2ccuOtUjIyx3tPcsnpeBzJ',\n  'analysis_url': 'https://api.spotify.com/v1/audio-analysis/2ccuOtUjIyx3tPcsnpeBzJ',\n  'duration_ms': 214405,\n  'time_signature': 3},\n {'danceability': 0.553,\n  'energy': 0.609,\n  'key': 1,\n  'loudness': -6.436,\n  'mode': 1,\n  'speechiness': 0.0469,\n  'acousticness': 0.151,\n  'instrumentalness': 0,\n  'liveness': 0.112,\n  'valence': 0.471,\n  'tempo': 73.903,\n  'type': 'audio_features',\n  'id': '3TuMOIzXkhKFDNHyQ7Mo8J',\n  'uri': 'spotify:track:3TuMOIzXkhKFDNHyQ7Mo8J',\n  'track_href': 'https://api.spotify.com/v1/tracks/3TuMOIzXkhKFDNHyQ7Mo8J',\n  'analysis_url': 'https://api.spotify.com/v1/audio-analysis/3TuMOIzXkhKFDNHyQ7Mo8J',\n  'duration_ms': 214416,\n  'time_signature': 4},\n {'danceability': 0.532,\n  'energy': 0.572,\n  'key': 1,\n  'loudness': -6.794,\n  'mode': 1,\n  'speechiness': 0.421,\n  'acousticness': 0.00984,\n  'instrumentalness': 0,\n  'liveness': 0.143,\n  'valence': 0.369,\n  'tempo': 160.517,\n  'type': 'audio_features',\n  'id': '1qlh1WxuWilyIWRwdsKMuJ',\n  'uri': 'spotify:track:1qlh1WxuWilyIWRwdsKMuJ',\n  'track_href': 'https://api.spotify.com/v1/tracks/1qlh1WxuWilyIWRwdsKMuJ',\n  'analysis_url': 'https://api.spotify.com/v1/audio-analysis/1qlh1WxuWilyIWRwdsKMuJ',\n  'duration_ms': 225664,\n  'time_signature': 4},\n {'danceability': 0.676,\n  'energy': 0.61,\n  'key': 1,\n  'loudness': -9.185,\n  'mode': 1,\n  'speechiness': 0.273,\n  'acousticness': 0.000114,\n  'instrumentalness': 1.73e-06,\n  'liveness': 0.191,\n  'valence': 0.519,\n  'tempo': 156.005,\n  'type': 'audio_features',\n  'id': '3NxnbR3bu97hzAbHPInWJm',\n  'uri': 'spotify:track:3NxnbR3bu97hzAbHPInWJm',\n  'track_href': 'https://api.spotify.com/v1/tracks/3NxnbR3bu97hzAbHPInWJm',\n  'analysis_url': 'https://api.spotify.com/v1/audio-analysis/3NxnbR3bu97hzAbHPInWJm',\n  'duration_ms': 186538,\n  'time_signature': 4},\n {'danceability': 0.639,\n  'energy': 0.843,\n  'key': 11,\n  'loudness': -4.975,\n  'mode': 1,\n  'speechiness': 0.0362,\n  'acousticness': 0.0525,\n  'instrumentalness': 0,\n  'liveness': 0.0854,\n  'valence': 0.528,\n  'tempo': 126.047,\n  'type': 'audio_features',\n  'id': '2bVeUlOC5JjTpkQXuUUoYm',\n  'uri': 'spotify:track:2bVeUlOC5JjTpkQXuUUoYm',\n  'track_href': 'https://api.spotify.com/v1/tracks/2bVeUlOC5JjTpkQXuUUoYm',\n  'analysis_url': 'https://api.spotify.com/v1/audio-analysis/2bVeUlOC5JjTpkQXuUUoYm',\n  'duration_ms': 217802,\n  'time_signature': 4},\n {'danceability': 0.891,\n  'energy': 0.62,\n  'key': 8,\n  'loudness': -6.822,\n  'mode': 1,\n  'speechiness': 0.157,\n  'acousticness': 0.176,\n  'instrumentalness': 1.59e-06,\n  'liveness': 0.103,\n  'valence': 0.535,\n  'tempo': 82.035,\n  'type': 'audio_features',\n  'id': '0vp1sk3FzuDBeLMLcRhQdL',\n  'uri': 'spotify:track:0vp1sk3FzuDBeLMLcRhQdL',\n  'track_href': 'https://api.spotify.com/v1/tracks/0vp1sk3FzuDBeLMLcRhQdL',\n  'analysis_url': 'https://api.spotify.com/v1/audio-analysis/0vp1sk3FzuDBeLMLcRhQdL',\n  'duration_ms': 143415,\n  'time_signature': 4},\n {'danceability': 0.812,\n  'energy': 0.736,\n  'key': 4,\n  'loudness': -5.421,\n  'mode': 0,\n  'speechiness': 0.0833,\n  'acousticness': 0.152,\n  'instrumentalness': 0.00254,\n  'liveness': 0.0914,\n  'valence': 0.396,\n  'tempo': 91.993,\n  'type': 'audio_features',\n  'id': '3IAfUEeaXRX9s9UdKOJrFI',\n  'uri': 'spotify:track:3IAfUEeaXRX9s9UdKOJrFI',\n  'track_href': 'https://api.spotify.com/v1/tracks/3IAfUEeaXRX9s9UdKOJrFI',\n  'analysis_url': 'https://api.spotify.com/v1/audio-analysis/3IAfUEeaXRX9s9UdKOJrFI',\n  'duration_ms': 193806,\n  'time_signature': 4},\n {'danceability': 0.842,\n  'energy': 0.505,\n  'key': 1,\n  'loudness': -8.627,\n  'mode': 0,\n  'speechiness': 0.402,\n  'acousticness': 0.472,\n  'instrumentalness': 0.000322,\n  'liveness': 0.117,\n  'valence': 0.538,\n  'tempo': 119.993,\n  'type': 'audio_features',\n  'id': '1PNs0uGru3TcrA94kpyGnc',\n  'uri': 'spotify:track:1PNs0uGru3TcrA94kpyGnc',\n  'track_href': 'https://api.spotify.com/v1/tracks/1PNs0uGru3TcrA94kpyGnc',\n  'analysis_url': 'https://api.spotify.com/v1/audio-analysis/1PNs0uGru3TcrA94kpyGnc',\n  'duration_ms': 207065,\n  'time_signature': 4},\n {'danceability': 0.912,\n  'energy': 0.655,\n  'key': 8,\n  'loudness': -6.029,\n  'mode': 0,\n  'speechiness': 0.162,\n  'acousticness': 0.315,\n  'instrumentalness': 3.39e-05,\n  'liveness': 0.0894,\n  'valence': 0.793,\n  'tempo': 91.942,\n  'type': 'audio_features',\n  'id': '0W6I02J9xcqK8MtSeosEXb',\n  'uri': 'spotify:track:0W6I02J9xcqK8MtSeosEXb',\n  'track_href': 'https://api.spotify.com/v1/tracks/0W6I02J9xcqK8MtSeosEXb',\n  'analysis_url': 'https://api.spotify.com/v1/audio-analysis/0W6I02J9xcqK8MtSeosEXb',\n  'duration_ms': 138293,\n  'time_signature': 4},\n {'danceability': 0.688,\n  'energy': 0.842,\n  'key': 2,\n  'loudness': -4.211,\n  'mode': 1,\n  'speechiness': 0.264,\n  'acousticness': 0.0499,\n  'instrumentalness': 0,\n  'liveness': 0.241,\n  'valence': 0.416,\n  'tempo': 159.897,\n  'type': 'audio_features',\n  'id': '0P2P1AxcRYhiZvoF5MyRmM',\n  'uri': 'spotify:track:0P2P1AxcRYhiZvoF5MyRmM',\n  'track_href': 'https://api.spotify.com/v1/tracks/0P2P1AxcRYhiZvoF5MyRmM',\n  'analysis_url': 'https://api.spotify.com/v1/audio-analysis/0P2P1AxcRYhiZvoF5MyRmM',\n  'duration_ms': 185856,\n  'time_signature': 4},\n {'danceability': 0.559,\n  'energy': 0.66,\n  'key': 7,\n  'loudness': -4.143,\n  'mode': 1,\n  'speechiness': 0.0512,\n  'acousticness': 0.222,\n  'instrumentalness': 0,\n  'liveness': 0.193,\n  'valence': 0.574,\n  'tempo': 163.957,\n  'type': 'audio_features',\n  'id': '2afB4eV1KWBqLqFqME6PTh',\n  'uri': 'spotify:track:2afB4eV1KWBqLqFqME6PTh',\n  'track_href': 'https://api.spotify.com/v1/tracks/2afB4eV1KWBqLqFqME6PTh',\n  'analysis_url': 'https://api.spotify.com/v1/audio-analysis/2afB4eV1KWBqLqFqME6PTh',\n  'duration_ms': 157907,\n  'time_signature': 4},\n {'danceability': 0.523,\n  'energy': 0.64,\n  'key': 4,\n  'loudness': -6.15,\n  'mode': 1,\n  'speechiness': 0.0295,\n  'acousticness': 0.0512,\n  'instrumentalness': 5.52e-05,\n  'liveness': 0.0675,\n  'valence': 0.48,\n  'tempo': 144.022,\n  'type': 'audio_features',\n  'id': '4jp9FimhP2bQ93vR0A5r7b',\n  'uri': 'spotify:track:4jp9FimhP2bQ93vR0A5r7b',\n  'track_href': 'https://api.spotify.com/v1/tracks/4jp9FimhP2bQ93vR0A5r7b',\n  'analysis_url': 'https://api.spotify.com/v1/audio-analysis/4jp9FimhP2bQ93vR0A5r7b',\n  'duration_ms': 230227,\n  'time_signature': 4},\n {'danceability': 0.591,\n  'energy': 0.814,\n  'key': 4,\n  'loudness': -4.986,\n  'mode': 1,\n  'speechiness': 0.0468,\n  'acousticness': 0.015,\n  'instrumentalness': 0,\n  'liveness': 0.117,\n  'valence': 0.815,\n  'tempo': 149.9,\n  'type': 'audio_features',\n  'id': '13G5xv1wUKvJYbK0wYmioN',\n  'uri': 'spotify:track:13G5xv1wUKvJYbK0wYmioN',\n  'track_href': 'https://api.spotify.com/v1/tracks/13G5xv1wUKvJYbK0wYmioN',\n  'analysis_url': 'https://api.spotify.com/v1/audio-analysis/13G5xv1wUKvJYbK0wYmioN',\n  'duration_ms': 195760,\n  'time_signature': 4},\n {'danceability': 0.684,\n  'energy': 0.545,\n  'key': 1,\n  'loudness': -6.885,\n  'mode': 1,\n  'speechiness': 0.121,\n  'acousticness': 0.159,\n  'instrumentalness': 0,\n  'liveness': 0.102,\n  'valence': 0.407,\n  'tempo': 143.049,\n  'type': 'audio_features',\n  'id': '1HvTxgCj0mTzQlEo0zLvFb',\n  'uri': 'spotify:track:1HvTxgCj0mTzQlEo0zLvFb',\n  'track_href': 'https://api.spotify.com/v1/tracks/1HvTxgCj0mTzQlEo0zLvFb',\n  'analysis_url': 'https://api.spotify.com/v1/audio-analysis/1HvTxgCj0mTzQlEo0zLvFb',\n  'duration_ms': 135264,\n  'time_signature': 4},\n {'danceability': 0.912,\n  'energy': 0.722,\n  'key': 9,\n  'loudness': -6.527,\n  'mode': 0,\n  'speechiness': 0.152,\n  'acousticness': 0.125,\n  'instrumentalness': 0,\n  'liveness': 0.0872,\n  'valence': 0.734,\n  'tempo': 105.008,\n  'type': 'audio_features',\n  'id': '6WdfqDzpz3XkvMSlPVc0U8',\n  'uri': 'spotify:track:6WdfqDzpz3XkvMSlPVc0U8',\n  'track_href': 'https://api.spotify.com/v1/tracks/6WdfqDzpz3XkvMSlPVc0U8',\n  'analysis_url': 'https://api.spotify.com/v1/audio-analysis/6WdfqDzpz3XkvMSlPVc0U8',\n  'duration_ms': 160959,\n  'time_signature': 4},\n {'danceability': 0.708,\n  'energy': 0.449,\n  'key': 4,\n  'loudness': -4.369,\n  'mode': 0,\n  'speechiness': 0.0286,\n  'acousticness': 0.451,\n  'instrumentalness': 0,\n  'liveness': 0.111,\n  'valence': 0.63,\n  'tempo': 84.396,\n  'type': 'audio_features',\n  'id': '6HJIZUOiZDE814XMhRGSZN',\n  'uri': 'spotify:track:6HJIZUOiZDE814XMhRGSZN',\n  'track_href': 'https://api.spotify.com/v1/tracks/6HJIZUOiZDE814XMhRGSZN',\n  'analysis_url': 'https://api.spotify.com/v1/audio-analysis/6HJIZUOiZDE814XMhRGSZN',\n  'duration_ms': 214000,\n  'time_signature': 1},\n {'danceability': 0.575,\n  'energy': 0.648,\n  'key': 10,\n  'loudness': -4.891,\n  'mode': 1,\n  'speechiness': 0.0358,\n  'acousticness': 0.583,\n  'instrumentalness': 0,\n  'liveness': 0.115,\n  'valence': 0.466,\n  'tempo': 75.977,\n  'type': 'audio_features',\n  'id': '4SqWKzw0CbA05TGszDgMlc',\n  'uri': 'spotify:track:4SqWKzw0CbA05TGszDgMlc',\n  'track_href': 'https://api.spotify.com/v1/tracks/4SqWKzw0CbA05TGszDgMlc',\n  'analysis_url': 'https://api.spotify.com/v1/audio-analysis/4SqWKzw0CbA05TGszDgMlc',\n  'duration_ms': 160240,\n  'time_signature': 4},\n {'danceability': 0.487,\n  'energy': 0.796,\n  'key': 7,\n  'loudness': -3.9,\n  'mode': 0,\n  'speechiness': 0.0339,\n  'acousticness': 0.0197,\n  'instrumentalness': 0.000192,\n  'liveness': 0.327,\n  'valence': 0.44,\n  'tempo': 76.037,\n  'type': 'audio_features',\n  'id': '5EDtmgwR1lDmDGLZraNpJg',\n  'uri': 'spotify:track:5EDtmgwR1lDmDGLZraNpJg',\n  'track_href': 'https://api.spotify.com/v1/tracks/5EDtmgwR1lDmDGLZraNpJg',\n  'analysis_url': 'https://api.spotify.com/v1/audio-analysis/5EDtmgwR1lDmDGLZraNpJg',\n  'duration_ms': 221693,\n  'time_signature': 4},\n {'danceability': 0.563,\n  'energy': 0.724,\n  'key': 2,\n  'loudness': -4.651,\n  'mode': 1,\n  'speechiness': 0.347,\n  'acousticness': 0.0831,\n  'instrumentalness': 0,\n  'liveness': 0.237,\n  'valence': 0.486,\n  'tempo': 93.006,\n  'type': 'audio_features',\n  'id': '4SCdkCFsbnQD6qnVc9l5Bt',\n  'uri': 'spotify:track:4SCdkCFsbnQD6qnVc9l5Bt',\n  'track_href': 'https://api.spotify.com/v1/tracks/4SCdkCFsbnQD6qnVc9l5Bt',\n  'analysis_url': 'https://api.spotify.com/v1/audio-analysis/4SCdkCFsbnQD6qnVc9l5Bt',\n  'duration_ms': 134845,\n  'time_signature': 4},\n {'danceability': 0.474,\n  'energy': 0.801,\n  'key': 8,\n  'loudness': -5.978,\n  'mode': 0,\n  'speechiness': 0.375,\n  'acousticness': 0.102,\n  'instrumentalness': 0,\n  'liveness': 0.322,\n  'valence': 0.497,\n  'tempo': 147.356,\n  'type': 'audio_features',\n  'id': '4huBDGP4I3S0pYI0EaRN1c',\n  'uri': 'spotify:track:4huBDGP4I3S0pYI0EaRN1c',\n  'track_href': 'https://api.spotify.com/v1/tracks/4huBDGP4I3S0pYI0EaRN1c',\n  'analysis_url': 'https://api.spotify.com/v1/audio-analysis/4huBDGP4I3S0pYI0EaRN1c',\n  'duration_ms': 256000,\n  'time_signature': 4},\n {'danceability': 0.398,\n  'energy': 0.519,\n  'key': 7,\n  'loudness': -6.926,\n  'mode': 1,\n  'speechiness': 0.0315,\n  'acousticness': 0.0573,\n  'instrumentalness': 1.86e-05,\n  'liveness': 0.191,\n  'valence': 0.133,\n  'tempo': 81.377,\n  'type': 'audio_features',\n  'id': '1Y8COP6Oqef3UxIONvzx6I',\n  'uri': 'spotify:track:1Y8COP6Oqef3UxIONvzx6I',\n  'track_href': 'https://api.spotify.com/v1/tracks/1Y8COP6Oqef3UxIONvzx6I',\n  'analysis_url': 'https://api.spotify.com/v1/audio-analysis/1Y8COP6Oqef3UxIONvzx6I',\n  'duration_ms': 206361,\n  'time_signature': 4},\n {'danceability': 0.447,\n  'energy': 0.538,\n  'key': 5,\n  'loudness': -7.258,\n  'mode': 1,\n  'speechiness': 0.0338,\n  'acousticness': 0.119,\n  'instrumentalness': 0,\n  'liveness': 0.188,\n  'valence': 0.453,\n  'tempo': 123.746,\n  'type': 'audio_features',\n  'id': '5J8AKBaUq1WHrzrm9YWlP3',\n  'uri': 'spotify:track:5J8AKBaUq1WHrzrm9YWlP3',\n  'track_href': 'https://api.spotify.com/v1/tracks/5J8AKBaUq1WHrzrm9YWlP3',\n  'analysis_url': 'https://api.spotify.com/v1/audio-analysis/5J8AKBaUq1WHrzrm9YWlP3',\n  'duration_ms': 214239,\n  'time_signature': 3},\n {'danceability': 0.773,\n  'energy': 0.742,\n  'key': 5,\n  'loudness': -3.678,\n  'mode': 0,\n  'speechiness': 0.046,\n  'acousticness': 0.0206,\n  'instrumentalness': 0,\n  'liveness': 0.0754,\n  'valence': 0.571,\n  'tempo': 114.071,\n  'type': 'audio_features',\n  'id': '0HqZX76SFLDz2aW8aiqi7G',\n  'uri': 'spotify:track:0HqZX76SFLDz2aW8aiqi7G',\n  'track_href': 'https://api.spotify.com/v1/tracks/0HqZX76SFLDz2aW8aiqi7G',\n  'analysis_url': 'https://api.spotify.com/v1/audio-analysis/0HqZX76SFLDz2aW8aiqi7G',\n  'duration_ms': 165265,\n  'time_signature': 4},\n {'danceability': 0.793,\n  'energy': 0.308,\n  'key': 0,\n  'loudness': -10.414,\n  'mode': 0,\n  'speechiness': 0.0466,\n  'acousticness': 0.613,\n  'instrumentalness': 1.68e-05,\n  'liveness': 0.0953,\n  'valence': 0.46,\n  'tempo': 135.143,\n  'type': 'audio_features',\n  'id': '7Fege3yv4dvehB3NdRBGwI',\n  'uri': 'spotify:track:7Fege3yv4dvehB3NdRBGwI',\n  'track_href': 'https://api.spotify.com/v1/tracks/7Fege3yv4dvehB3NdRBGwI',\n  'analysis_url': 'https://api.spotify.com/v1/audio-analysis/7Fege3yv4dvehB3NdRBGwI',\n  'duration_ms': 200000,\n  'time_signature': 4},\n {'danceability': 0.79,\n  'energy': 0.325,\n  'key': 4,\n  'loudness': -11.689,\n  'mode': 1,\n  'speechiness': 0.127,\n  'acousticness': 0.509,\n  'instrumentalness': 0,\n  'liveness': 0.155,\n  'valence': 0.539,\n  'tempo': 126.877,\n  'type': 'audio_features',\n  'id': '6VVqPBFZIbcmv14zNfOc13',\n  'uri': 'spotify:track:6VVqPBFZIbcmv14zNfOc13',\n  'track_href': 'https://api.spotify.com/v1/tracks/6VVqPBFZIbcmv14zNfOc13',\n  'analysis_url': 'https://api.spotify.com/v1/audio-analysis/6VVqPBFZIbcmv14zNfOc13',\n  'duration_ms': 163311,\n  'time_signature': 4},\n {'danceability': 0.85,\n  'energy': 0.658,\n  'key': 0,\n  'loudness': -5.558,\n  'mode': 1,\n  'speechiness': 0.221,\n  'acousticness': 0.139,\n  'instrumentalness': 0,\n  'liveness': 0.063,\n  'valence': 0.832,\n  'tempo': 144.445,\n  'type': 'audio_features',\n  'id': '6ElfCM1XppU0YWkkFYh4s2',\n  'uri': 'spotify:track:6ElfCM1XppU0YWkkFYh4s2',\n  'track_href': 'https://api.spotify.com/v1/tracks/6ElfCM1XppU0YWkkFYh4s2',\n  'analysis_url': 'https://api.spotify.com/v1/audio-analysis/6ElfCM1XppU0YWkkFYh4s2',\n  'duration_ms': 193279,\n  'time_signature': 4},\n {'danceability': 0.869,\n  'energy': 0.694,\n  'key': 1,\n  'loudness': -3.35,\n  'mode': 0,\n  'speechiness': 0.0783,\n  'acousticness': 0.356,\n  'instrumentalness': 0.00125,\n  'liveness': 0.0878,\n  'valence': 0.511,\n  'tempo': 90.02,\n  'type': 'audio_features',\n  'id': '6ZOcbKub95XSDESsKKuH41',\n  'uri': 'spotify:track:6ZOcbKub95XSDESsKKuH41',\n  'track_href': 'https://api.spotify.com/v1/tracks/6ZOcbKub95XSDESsKKuH41',\n  'analysis_url': 'https://api.spotify.com/v1/audio-analysis/6ZOcbKub95XSDESsKKuH41',\n  'duration_ms': 224997,\n  'time_signature': 4},\n {'danceability': 0.677,\n  'energy': 0.541,\n  'key': 6,\n  'loudness': -6.057,\n  'mode': 0,\n  'speechiness': 0.0571,\n  'acousticness': 0.48,\n  'instrumentalness': 0,\n  'liveness': 0.125,\n  'valence': 0.379,\n  'tempo': 103.369,\n  'type': 'audio_features',\n  'id': '1DOgkaR5Gqa8JtPEIbQORC',\n  'uri': 'spotify:track:1DOgkaR5Gqa8JtPEIbQORC',\n  'track_href': 'https://api.spotify.com/v1/tracks/1DOgkaR5Gqa8JtPEIbQORC',\n  'analysis_url': 'https://api.spotify.com/v1/audio-analysis/1DOgkaR5Gqa8JtPEIbQORC',\n  'duration_ms': 205276,\n  'time_signature': 4},\n {'danceability': 0.594,\n  'energy': 0.628,\n  'key': 1,\n  'loudness': -6.345,\n  'mode': 1,\n  'speechiness': 0.359,\n  'acousticness': 0.12,\n  'instrumentalness': 0,\n  'liveness': 0.0582,\n  'valence': 0.556,\n  'tempo': 141.391,\n  'type': 'audio_features',\n  'id': '4b1yxSdlumA8N4fEk4UOZp',\n  'uri': 'spotify:track:4b1yxSdlumA8N4fEk4UOZp',\n  'track_href': 'https://api.spotify.com/v1/tracks/4b1yxSdlumA8N4fEk4UOZp',\n  'analysis_url': 'https://api.spotify.com/v1/audio-analysis/4b1yxSdlumA8N4fEk4UOZp',\n  'duration_ms': 257213,\n  'time_signature': 4},\n {'danceability': 0.662,\n  'energy': 0.655,\n  'key': 2,\n  'loudness': -5.44,\n  'mode': 1,\n  'speechiness': 0.26,\n  'acousticness': 0.462,\n  'instrumentalness': 0,\n  'liveness': 0.124,\n  'valence': 0.356,\n  'tempo': 82.079,\n  'type': 'audio_features',\n  'id': '3pEINn37iH5fx8TpXYNGIO',\n  'uri': 'spotify:track:3pEINn37iH5fx8TpXYNGIO',\n  'track_href': 'https://api.spotify.com/v1/tracks/3pEINn37iH5fx8TpXYNGIO',\n  'analysis_url': 'https://api.spotify.com/v1/audio-analysis/3pEINn37iH5fx8TpXYNGIO',\n  'duration_ms': 226374,\n  'time_signature': 4},\n {'danceability': 0.423,\n  'energy': 0.355,\n  'key': 0,\n  'loudness': -10.565,\n  'mode': 1,\n  'speechiness': 0.0454,\n  'acousticness': 0.761,\n  'instrumentalness': 0,\n  'liveness': 0.0915,\n  'valence': 0.465,\n  'tempo': 93.788,\n  'type': 'audio_features',\n  'id': '5rohUzwEoRsUvAA1Bf3DLo',\n  'uri': 'spotify:track:5rohUzwEoRsUvAA1Bf3DLo',\n  'track_href': 'https://api.spotify.com/v1/tracks/5rohUzwEoRsUvAA1Bf3DLo',\n  'analysis_url': 'https://api.spotify.com/v1/audio-analysis/5rohUzwEoRsUvAA1Bf3DLo',\n  'duration_ms': 214613,\n  'time_signature': 4},\n {'danceability': 0.828,\n  'energy': 0.591,\n  'key': 1,\n  'loudness': -6.217,\n  'mode': 1,\n  'speechiness': 0.109,\n  'acousticness': 0.0199,\n  'instrumentalness': 0.000323,\n  'liveness': 0.361,\n  'valence': 0.202,\n  'tempo': 119.251,\n  'type': 'audio_features',\n  'id': '0lEjxUUlKqjqXrVlIHFduD',\n  'uri': 'spotify:track:0lEjxUUlKqjqXrVlIHFduD',\n  'track_href': 'https://api.spotify.com/v1/tracks/0lEjxUUlKqjqXrVlIHFduD',\n  'analysis_url': 'https://api.spotify.com/v1/audio-analysis/0lEjxUUlKqjqXrVlIHFduD',\n  'duration_ms': 193347,\n  'time_signature': 4},\n {'danceability': 0.693,\n  'energy': 0.575,\n  'key': 2,\n  'loudness': -7.633,\n  'mode': 1,\n  'speechiness': 0.0906,\n  'acousticness': 0.121,\n  'instrumentalness': 0,\n  'liveness': 0.104,\n  'valence': 0.353,\n  'tempo': 138.016,\n  'type': 'audio_features',\n  'id': '7BbaIYAdi3pg4MGl6PHwPv',\n  'uri': 'spotify:track:7BbaIYAdi3pg4MGl6PHwPv',\n  'track_href': 'https://api.spotify.com/v1/tracks/7BbaIYAdi3pg4MGl6PHwPv',\n  'analysis_url': 'https://api.spotify.com/v1/audio-analysis/7BbaIYAdi3pg4MGl6PHwPv',\n  'duration_ms': 160052,\n  'time_signature': 4},\n {'danceability': 0.916,\n  'energy': 0.824,\n  'key': 8,\n  'loudness': -4.444,\n  'mode': 0,\n  'speechiness': 0.422,\n  'acousticness': 0.222,\n  'instrumentalness': 0.00108,\n  'liveness': 0.0661,\n  'valence': 0.87,\n  'tempo': 139.926,\n  'type': 'audio_features',\n  'id': '7LczcBaamU9pTkV4Cl9NyX',\n  'uri': 'spotify:track:7LczcBaamU9pTkV4Cl9NyX',\n  'track_href': 'https://api.spotify.com/v1/tracks/7LczcBaamU9pTkV4Cl9NyX',\n  'analysis_url': 'https://api.spotify.com/v1/audio-analysis/7LczcBaamU9pTkV4Cl9NyX',\n  'duration_ms': 178413,\n  'time_signature': 4},\n {'danceability': 0.524,\n  'energy': 0.643,\n  'key': 9,\n  'loudness': -6.055,\n  'mode': 1,\n  'speechiness': 0.0297,\n  'acousticness': 0.451,\n  'instrumentalness': 0,\n  'liveness': 0.221,\n  'valence': 0.397,\n  'tempo': 135.962,\n  'type': 'audio_features',\n  'id': '5gVCfYmQRPy1QJifP8f5gg',\n  'uri': 'spotify:track:5gVCfYmQRPy1QJifP8f5gg',\n  'track_href': 'https://api.spotify.com/v1/tracks/5gVCfYmQRPy1QJifP8f5gg',\n  'analysis_url': 'https://api.spotify.com/v1/audio-analysis/5gVCfYmQRPy1QJifP8f5gg',\n  'duration_ms': 232059,\n  'time_signature': 4},\n {'danceability': 0.812,\n  'energy': 0.855,\n  'key': 7,\n  'loudness': -3.725,\n  'mode': 1,\n  'speechiness': 0.0554,\n  'acousticness': 0.0789,\n  'instrumentalness': 0.000167,\n  'liveness': 0.108,\n  'valence': 0.573,\n  'tempo': 90.04,\n  'type': 'audio_features',\n  'id': '48AJSd42lXpicsGqcgopof',\n  'uri': 'spotify:track:48AJSd42lXpicsGqcgopof',\n  'track_href': 'https://api.spotify.com/v1/tracks/48AJSd42lXpicsGqcgopof',\n  'analysis_url': 'https://api.spotify.com/v1/audio-analysis/48AJSd42lXpicsGqcgopof',\n  'duration_ms': 192477,\n  'time_signature': 4}]"
     },
     "metadata": {}
    },
    {
     "output_type": "execute_result",
     "execution_count": 11,
     "data": {
      "text/plain": "[{'danceability': 0.463,\n  'energy': 0.642,\n  'key': 1,\n  'loudness': -4.474,\n  'mode': 1,\n  'speechiness': 0.34,\n  'acousticness': 0.314,\n  'instrumentalness': 0,\n  'liveness': 0.0686,\n  'valence': 0.339,\n  'tempo': 83.389,\n  'type': 'audio_features',\n  'id': '59nOXPmaKlBfGMDeOVGrIK',\n  'uri': 'spotify:track:59nOXPmaKlBfGMDeOVGrIK',\n  'track_href': 'https://api.spotify.com/v1/tracks/59nOXPmaKlBfGMDeOVGrIK',\n  'analysis_url': 'https://api.spotify.com/v1/audio-analysis/59nOXPmaKlBfGMDeOVGrIK',\n  'duration_ms': 189893,\n  'time_signature': 4},\n {'danceability': 0.81,\n  'energy': 0.655,\n  'key': 8,\n  'loudness': -6.779,\n  'mode': 0,\n  'speechiness': 0.0698,\n  'acousticness': 0.127,\n  'instrumentalness': 8.16e-05,\n  'liveness': 0.105,\n  'valence': 0.809,\n  'tempo': 150.002,\n  'type': 'audio_features',\n  'id': '2KdKh9vHbKW0tZLqtpxxI0',\n  'uri': 'spotify:track:2KdKh9vHbKW0tZLqtpxxI0',\n  'track_href': 'https://api.spotify.com/v1/tracks/2KdKh9vHbKW0tZLqtpxxI0',\n  'analysis_url': 'https://api.spotify.com/v1/audio-analysis/2KdKh9vHbKW0tZLqtpxxI0',\n  'duration_ms': 193322,\n  'time_signature': 4},\n {'danceability': 0.431,\n  'energy': 0.349,\n  'key': 7,\n  'loudness': -9.426,\n  'mode': 1,\n  'speechiness': 0.0325,\n  'acousticness': 0.434,\n  'instrumentalness': 7.02e-05,\n  'liveness': 0.241,\n  'valence': 0.165,\n  'tempo': 62.627,\n  'type': 'audio_features',\n  'id': '6LL5S3DGrUJ6cZRuDefguP',\n  'uri': 'spotify:track:6LL5S3DGrUJ6cZRuDefguP',\n  'track_href': 'https://api.spotify.com/v1/tracks/6LL5S3DGrUJ6cZRuDefguP',\n  'analysis_url': 'https://api.spotify.com/v1/audio-analysis/6LL5S3DGrUJ6cZRuDefguP',\n  'duration_ms': 187027,\n  'time_signature': 3},\n {'danceability': 0.464,\n  'energy': 0.445,\n  'key': 4,\n  'loudness': -8.507,\n  'mode': 0,\n  'speechiness': 0.238,\n  'acousticness': 0.215,\n  'instrumentalness': 0,\n  'liveness': 0.495,\n  'valence': 0.181,\n  'tempo': 94.14,\n  'type': 'audio_features',\n  'id': '6w93UfN5MeXXQTrVIf5V6x',\n  'uri': 'spotify:track:6w93UfN5MeXXQTrVIf5V6x',\n  'track_href': 'https://api.spotify.com/v1/tracks/6w93UfN5MeXXQTrVIf5V6x',\n  'analysis_url': 'https://api.spotify.com/v1/audio-analysis/6w93UfN5MeXXQTrVIf5V6x',\n  'duration_ms': 218320,\n  'time_signature': 4},\n {'danceability': 0.388,\n  'energy': 0.448,\n  'key': 8,\n  'loudness': -5.221,\n  'mode': 0,\n  'speechiness': 0.0341,\n  'acousticness': 0.851,\n  'instrumentalness': 0,\n  'liveness': 0.302,\n  'valence': 0.397,\n  'tempo': 142.342,\n  'type': 'audio_features',\n  'id': '6pyM30WDpG70VTfwoQg4m2',\n  'uri': 'spotify:track:6pyM30WDpG70VTfwoQg4m2',\n  'track_href': 'https://api.spotify.com/v1/tracks/6pyM30WDpG70VTfwoQg4m2',\n  'analysis_url': 'https://api.spotify.com/v1/audio-analysis/6pyM30WDpG70VTfwoQg4m2',\n  'duration_ms': 207551,\n  'time_signature': 5},\n {'danceability': 0.67,\n  'energy': 0.41,\n  'key': 1,\n  'loudness': -13.444,\n  'mode': 1,\n  'speechiness': 0.0381,\n  'acousticness': 0.241,\n  'instrumentalness': 8.55e-06,\n  'liveness': 0.167,\n  'valence': 0.46,\n  'tempo': 127.972,\n  'type': 'audio_features',\n  'id': '5uXO1sjZ7VbNKexKaFRna3',\n  'uri': 'spotify:track:5uXO1sjZ7VbNKexKaFRna3',\n  'track_href': 'https://api.spotify.com/v1/tracks/5uXO1sjZ7VbNKexKaFRna3',\n  'analysis_url': 'https://api.spotify.com/v1/audio-analysis/5uXO1sjZ7VbNKexKaFRna3',\n  'duration_ms': 240938,\n  'time_signature': 4},\n {'danceability': 0.77,\n  'energy': 0.581,\n  'key': 11,\n  'loudness': -5.307,\n  'mode': 0,\n  'speechiness': 0.0908,\n  'acousticness': 0.452,\n  'instrumentalness': 0,\n  'liveness': 0.128,\n  'valence': 0.284,\n  'tempo': 120.019,\n  'type': 'audio_features',\n  'id': '0R3BfnrLdW13mopXeKOTQZ',\n  'uri': 'spotify:track:0R3BfnrLdW13mopXeKOTQZ',\n  'track_href': 'https://api.spotify.com/v1/tracks/0R3BfnrLdW13mopXeKOTQZ',\n  'analysis_url': 'https://api.spotify.com/v1/audio-analysis/0R3BfnrLdW13mopXeKOTQZ',\n  'duration_ms': 152175,\n  'time_signature': 4},\n {'danceability': 0.619,\n  'energy': 0.452,\n  'key': 11,\n  'loudness': -9.079,\n  'mode': 0,\n  'speechiness': 0.205,\n  'acousticness': 0.232,\n  'instrumentalness': 1.23e-06,\n  'liveness': 0.259,\n  'valence': 0.195,\n  'tempo': 127.897,\n  'type': 'audio_features',\n  'id': '6itJR6bgCqET35rCJFnULf',\n  'uri': 'spotify:track:6itJR6bgCqET35rCJFnULf',\n  'track_href': 'https://api.spotify.com/v1/tracks/6itJR6bgCqET35rCJFnULf',\n  'analysis_url': 'https://api.spotify.com/v1/audio-analysis/6itJR6bgCqET35rCJFnULf',\n  'duration_ms': 164544,\n  'time_signature': 4},\n {'danceability': 0.688,\n  'energy': 0.59,\n  'key': 9,\n  'loudness': -7.535,\n  'mode': 0,\n  'speechiness': 0.329,\n  'acousticness': 0.329,\n  'instrumentalness': 0,\n  'liveness': 0.105,\n  'valence': 0.316,\n  'tempo': 96.975,\n  'type': 'audio_features',\n  'id': '5qidBQqsjdwewlQaw16o3L',\n  'uri': 'spotify:track:5qidBQqsjdwewlQaw16o3L',\n  'track_href': 'https://api.spotify.com/v1/tracks/5qidBQqsjdwewlQaw16o3L',\n  'analysis_url': 'https://api.spotify.com/v1/audio-analysis/5qidBQqsjdwewlQaw16o3L',\n  'duration_ms': 273794,\n  'time_signature': 4},\n {'danceability': 0.756,\n  'energy': 0.484,\n  'key': 4,\n  'loudness': -9.727,\n  'mode': 0,\n  'speechiness': 0.0497,\n  'acousticness': 0.311,\n  'instrumentalness': 0,\n  'liveness': 0.11,\n  'valence': 0.414,\n  'tempo': 92.056,\n  'type': 'audio_features',\n  'id': '5ChrCVSERccPyn3p2Clsum',\n  'uri': 'spotify:track:5ChrCVSERccPyn3p2Clsum',\n  'track_href': 'https://api.spotify.com/v1/tracks/5ChrCVSERccPyn3p2Clsum',\n  'analysis_url': 'https://api.spotify.com/v1/audio-analysis/5ChrCVSERccPyn3p2Clsum',\n  'duration_ms': 188133,\n  'time_signature': 4},\n {'danceability': 0.722,\n  'energy': 0.613,\n  'key': 1,\n  'loudness': -4.996,\n  'mode': 0,\n  'speechiness': 0.116,\n  'acousticness': 0.192,\n  'instrumentalness': 0,\n  'liveness': 0.192,\n  'valence': 0.607,\n  'tempo': 133.937,\n  'type': 'audio_features',\n  'id': '0IMUFRaM2W3wKNM1CSQ4Zm',\n  'uri': 'spotify:track:0IMUFRaM2W3wKNM1CSQ4Zm',\n  'track_href': 'https://api.spotify.com/v1/tracks/0IMUFRaM2W3wKNM1CSQ4Zm',\n  'analysis_url': 'https://api.spotify.com/v1/audio-analysis/0IMUFRaM2W3wKNM1CSQ4Zm',\n  'duration_ms': 276214,\n  'time_signature': 4},\n {'danceability': 0.663,\n  'energy': 0.649,\n  'key': 3,\n  'loudness': -4.524,\n  'mode': 0,\n  'speechiness': 0.0594,\n  'acousticness': 0.07,\n  'instrumentalness': 0,\n  'liveness': 0.114,\n  'valence': 0.504,\n  'tempo': 114.948,\n  'type': 'audio_features',\n  'id': '63QC7HvgJXgH8udcfPqW7q',\n  'uri': 'spotify:track:63QC7HvgJXgH8udcfPqW7q',\n  'track_href': 'https://api.spotify.com/v1/tracks/63QC7HvgJXgH8udcfPqW7q',\n  'analysis_url': 'https://api.spotify.com/v1/audio-analysis/63QC7HvgJXgH8udcfPqW7q',\n  'duration_ms': 209136,\n  'time_signature': 4},\n {'danceability': 0.685,\n  'energy': 0.577,\n  'key': 7,\n  'loudness': -4.655,\n  'mode': 0,\n  'speechiness': 0.108,\n  'acousticness': 0.66,\n  'instrumentalness': 2.69e-06,\n  'liveness': 0.109,\n  'valence': 0.371,\n  'tempo': 110.326,\n  'type': 'audio_features',\n  'id': '0hZIaQMGqu41dozEwqVa1b',\n  'uri': 'spotify:track:0hZIaQMGqu41dozEwqVa1b',\n  'track_href': 'https://api.spotify.com/v1/tracks/0hZIaQMGqu41dozEwqVa1b',\n  'analysis_url': 'https://api.spotify.com/v1/audio-analysis/0hZIaQMGqu41dozEwqVa1b',\n  'duration_ms': 130982,\n  'time_signature': 4},\n {'danceability': 0.742,\n  'energy': 0.599,\n  'key': 1,\n  'loudness': -8.796,\n  'mode': 1,\n  'speechiness': 0.297,\n  'acousticness': 0.0962,\n  'instrumentalness': 0.000578,\n  'liveness': 0.0981,\n  'valence': 0.573,\n  'tempo': 108.283,\n  'type': 'audio_features',\n  'id': '4Rrj1QxDqsj28gv9SiHQRA',\n  'uri': 'spotify:track:4Rrj1QxDqsj28gv9SiHQRA',\n  'track_href': 'https://api.spotify.com/v1/tracks/4Rrj1QxDqsj28gv9SiHQRA',\n  'analysis_url': 'https://api.spotify.com/v1/audio-analysis/4Rrj1QxDqsj28gv9SiHQRA',\n  'duration_ms': 275556,\n  'time_signature': 4},\n {'danceability': 0.836,\n  'energy': 0.743,\n  'key': 10,\n  'loudness': -6.305,\n  'mode': 0,\n  'speechiness': 0.0656,\n  'acousticness': 0.0995,\n  'instrumentalness': 0,\n  'liveness': 0.335,\n  'valence': 0.722,\n  'tempo': 108.966,\n  'type': 'audio_features',\n  'id': '1PckUlxKqWQs3RlWXVBLw3',\n  'uri': 'spotify:track:1PckUlxKqWQs3RlWXVBLw3',\n  'track_href': 'https://api.spotify.com/v1/tracks/1PckUlxKqWQs3RlWXVBLw3',\n  'analysis_url': 'https://api.spotify.com/v1/audio-analysis/1PckUlxKqWQs3RlWXVBLw3',\n  'duration_ms': 191822,\n  'time_signature': 4},\n {'danceability': 0.771,\n  'energy': 0.724,\n  'key': 9,\n  'loudness': -5.372,\n  'mode': 0,\n  'speechiness': 0.0422,\n  'acousticness': 0.209,\n  'instrumentalness': 3.51e-06,\n  'liveness': 0.281,\n  'valence': 0.77,\n  'tempo': 102.991,\n  'type': 'audio_features',\n  'id': '6zrZ7mVcznNd2Q6qB0iBrq',\n  'uri': 'spotify:track:6zrZ7mVcznNd2Q6qB0iBrq',\n  'track_href': 'https://api.spotify.com/v1/tracks/6zrZ7mVcznNd2Q6qB0iBrq',\n  'analysis_url': 'https://api.spotify.com/v1/audio-analysis/6zrZ7mVcznNd2Q6qB0iBrq',\n  'duration_ms': 155308,\n  'time_signature': 4},\n {'danceability': 0.563,\n  'energy': 0.756,\n  'key': 0,\n  'loudness': -3.852,\n  'mode': 0,\n  'speechiness': 0.0579,\n  'acousticness': 0.196,\n  'instrumentalness': 0,\n  'liveness': 0.245,\n  'valence': 0.234,\n  'tempo': 100.012,\n  'type': 'audio_features',\n  'id': '4WghJOMjDpGdlk3b8aJIgy',\n  'uri': 'spotify:track:4WghJOMjDpGdlk3b8aJIgy',\n  'track_href': 'https://api.spotify.com/v1/tracks/4WghJOMjDpGdlk3b8aJIgy',\n  'analysis_url': 'https://api.spotify.com/v1/audio-analysis/4WghJOMjDpGdlk3b8aJIgy',\n  'duration_ms': 182227,\n  'time_signature': 4},\n {'danceability': 0.53,\n  'energy': 0.937,\n  'key': 0,\n  'loudness': -2.757,\n  'mode': 1,\n  'speechiness': 0.321,\n  'acousticness': 0.0457,\n  'instrumentalness': 0,\n  'liveness': 0.151,\n  'valence': 0.46,\n  'tempo': 92.916,\n  'type': 'audio_features',\n  'id': '6VYBCG9nCZwUUImVqZQVet',\n  'uri': 'spotify:track:6VYBCG9nCZwUUImVqZQVet',\n  'track_href': 'https://api.spotify.com/v1/tracks/6VYBCG9nCZwUUImVqZQVet',\n  'analysis_url': 'https://api.spotify.com/v1/audio-analysis/6VYBCG9nCZwUUImVqZQVet',\n  'duration_ms': 176851,\n  'time_signature': 4},\n {'danceability': 0.814,\n  'energy': 0.56,\n  'key': 5,\n  'loudness': -6.431,\n  'mode': 1,\n  'speechiness': 0.11,\n  'acousticness': 0.141,\n  'instrumentalness': 0,\n  'liveness': 0.111,\n  'valence': 0.651,\n  'tempo': 166.025,\n  'type': 'audio_features',\n  'id': '5lI6k5j7a25q3IrtAEe0JF',\n  'uri': 'spotify:track:5lI6k5j7a25q3IrtAEe0JF',\n  'track_href': 'https://api.spotify.com/v1/tracks/5lI6k5j7a25q3IrtAEe0JF',\n  'analysis_url': 'https://api.spotify.com/v1/audio-analysis/5lI6k5j7a25q3IrtAEe0JF',\n  'duration_ms': 212391,\n  'time_signature': 4},\n {'danceability': 0.449,\n  'energy': 0.324,\n  'key': 5,\n  'loudness': -10.343,\n  'mode': 1,\n  'speechiness': 0.0901,\n  'acousticness': 0.855,\n  'instrumentalness': 0,\n  'liveness': 0.108,\n  'valence': 0.223,\n  'tempo': 82.835,\n  'type': 'audio_features',\n  'id': '4R3WUzM7xXAIzT5HhH1DDw',\n  'uri': 'spotify:track:4R3WUzM7xXAIzT5HhH1DDw',\n  'track_href': 'https://api.spotify.com/v1/tracks/4R3WUzM7xXAIzT5HhH1DDw',\n  'analysis_url': 'https://api.spotify.com/v1/audio-analysis/4R3WUzM7xXAIzT5HhH1DDw',\n  'duration_ms': 202381,\n  'time_signature': 3},\n {'danceability': 0.621,\n  'energy': 0.624,\n  'key': 5,\n  'loudness': -7.66,\n  'mode': 0,\n  'speechiness': 0.193,\n  'acousticness': 0.0782,\n  'instrumentalness': 0.000105,\n  'liveness': 0.187,\n  'valence': 0.653,\n  'tempo': 148.728,\n  'type': 'audio_features',\n  'id': '5F9F0SxcAM9bCVyi00tL0W',\n  'uri': 'spotify:track:5F9F0SxcAM9bCVyi00tL0W',\n  'track_href': 'https://api.spotify.com/v1/tracks/5F9F0SxcAM9bCVyi00tL0W',\n  'analysis_url': 'https://api.spotify.com/v1/audio-analysis/5F9F0SxcAM9bCVyi00tL0W',\n  'duration_ms': 179885,\n  'time_signature': 3},\n {'danceability': 0.538,\n  'energy': 0.363,\n  'key': 3,\n  'loudness': -12.245,\n  'mode': 0,\n  'speechiness': 0.0517,\n  'acousticness': 0.207,\n  'instrumentalness': 0.0161,\n  'liveness': 0.145,\n  'valence': 0.395,\n  'tempo': 138.454,\n  'type': 'audio_features',\n  'id': '56cPHHY51YpcD4OwU42GS3',\n  'uri': 'spotify:track:56cPHHY51YpcD4OwU42GS3',\n  'track_href': 'https://api.spotify.com/v1/tracks/56cPHHY51YpcD4OwU42GS3',\n  'analysis_url': 'https://api.spotify.com/v1/audio-analysis/56cPHHY51YpcD4OwU42GS3',\n  'duration_ms': 151133,\n  'time_signature': 3},\n {'danceability': 0.529,\n  'energy': 0.435,\n  'key': 5,\n  'loudness': -8.728,\n  'mode': 1,\n  'speechiness': 0.102,\n  'acousticness': 0.702,\n  'instrumentalness': 0,\n  'liveness': 0.144,\n  'valence': 0.532,\n  'tempo': 63.981,\n  'type': 'audio_features',\n  'id': '4BMhlUG6LpQhcpvRuvfQRM',\n  'uri': 'spotify:track:4BMhlUG6LpQhcpvRuvfQRM',\n  'track_href': 'https://api.spotify.com/v1/tracks/4BMhlUG6LpQhcpvRuvfQRM',\n  'analysis_url': 'https://api.spotify.com/v1/audio-analysis/4BMhlUG6LpQhcpvRuvfQRM',\n  'duration_ms': 181823,\n  'time_signature': 4},\n {'danceability': 0.636,\n  'energy': 0.567,\n  'key': 1,\n  'loudness': -7.344,\n  'mode': 1,\n  'speechiness': 0.0745,\n  'acousticness': 0.568,\n  'instrumentalness': 1.4e-05,\n  'liveness': 0.131,\n  'valence': 0.282,\n  'tempo': 125.457,\n  'type': 'audio_features',\n  'id': '1VI7GQmBBgdslV3tQRvsRD',\n  'uri': 'spotify:track:1VI7GQmBBgdslV3tQRvsRD',\n  'track_href': 'https://api.spotify.com/v1/tracks/1VI7GQmBBgdslV3tQRvsRD',\n  'analysis_url': 'https://api.spotify.com/v1/audio-analysis/1VI7GQmBBgdslV3tQRvsRD',\n  'duration_ms': 228562,\n  'time_signature': 4},\n {'danceability': 0.553,\n  'energy': 0.727,\n  'key': 5,\n  'loudness': -6.905,\n  'mode': 1,\n  'speechiness': 0.0348,\n  'acousticness': 0.0254,\n  'instrumentalness': 0.0113,\n  'liveness': 0.107,\n  'valence': 0.286,\n  'tempo': 173.972,\n  'type': 'audio_features',\n  'id': '7k0wVBW3cvV6Xmb87JikIf',\n  'uri': 'spotify:track:7k0wVBW3cvV6Xmb87JikIf',\n  'track_href': 'https://api.spotify.com/v1/tracks/7k0wVBW3cvV6Xmb87JikIf',\n  'analysis_url': 'https://api.spotify.com/v1/audio-analysis/7k0wVBW3cvV6Xmb87JikIf',\n  'duration_ms': 191376,\n  'time_signature': 4},\n {'danceability': 0.708,\n  'energy': 0.793,\n  'key': 7,\n  'loudness': -2.518,\n  'mode': 0,\n  'speechiness': 0.0417,\n  'acousticness': 0.0442,\n  'instrumentalness': 2.62e-06,\n  'liveness': 0.0362,\n  'valence': 0.503,\n  'tempo': 94.005,\n  'type': 'audio_features',\n  'id': '2ZCu2xskiEBCV3y0eu0zJG',\n  'uri': 'spotify:track:2ZCu2xskiEBCV3y0eu0zJG',\n  'track_href': 'https://api.spotify.com/v1/tracks/2ZCu2xskiEBCV3y0eu0zJG',\n  'analysis_url': 'https://api.spotify.com/v1/audio-analysis/2ZCu2xskiEBCV3y0eu0zJG',\n  'duration_ms': 149866,\n  'time_signature': 4},\n {'danceability': 0.721,\n  'energy': 0.364,\n  'key': 5,\n  'loudness': -7.81,\n  'mode': 0,\n  'speechiness': 0.0483,\n  'acousticness': 0.673,\n  'instrumentalness': 5.4e-05,\n  'liveness': 0.105,\n  'valence': 0.4,\n  'tempo': 94.098,\n  'type': 'audio_features',\n  'id': '1SlGaBvTqX0gb24ouXonOo',\n  'uri': 'spotify:track:1SlGaBvTqX0gb24ouXonOo',\n  'track_href': 'https://api.spotify.com/v1/tracks/1SlGaBvTqX0gb24ouXonOo',\n  'analysis_url': 'https://api.spotify.com/v1/audio-analysis/1SlGaBvTqX0gb24ouXonOo',\n  'duration_ms': 184013,\n  'time_signature': 4},\n {'danceability': 0.59,\n  'energy': 0.622,\n  'key': 10,\n  'loudness': -7.537,\n  'mode': 1,\n  'speechiness': 0.0803,\n  'acousticness': 0.654,\n  'instrumentalness': 0,\n  'liveness': 0.425,\n  'valence': 0.311,\n  'tempo': 89.909,\n  'type': 'audio_features',\n  'id': '1MRvZ3PMsd86Kul6xINAze',\n  'uri': 'spotify:track:1MRvZ3PMsd86Kul6xINAze',\n  'track_href': 'https://api.spotify.com/v1/tracks/1MRvZ3PMsd86Kul6xINAze',\n  'analysis_url': 'https://api.spotify.com/v1/audio-analysis/1MRvZ3PMsd86Kul6xINAze',\n  'duration_ms': 172947,\n  'time_signature': 4},\n {'danceability': 0.523,\n  'energy': 0.759,\n  'key': 2,\n  'loudness': -4.583,\n  'mode': 1,\n  'speechiness': 0.129,\n  'acousticness': 0.0564,\n  'instrumentalness': 0,\n  'liveness': 0.327,\n  'valence': 0.287,\n  'tempo': 89.906,\n  'type': 'audio_features',\n  'id': '3P12TuXblmoguQGSukKvQm',\n  'uri': 'spotify:track:3P12TuXblmoguQGSukKvQm',\n  'track_href': 'https://api.spotify.com/v1/tracks/3P12TuXblmoguQGSukKvQm',\n  'analysis_url': 'https://api.spotify.com/v1/audio-analysis/3P12TuXblmoguQGSukKvQm',\n  'duration_ms': 190000,\n  'time_signature': 4},\n {'danceability': 0.698,\n  'energy': 0.603,\n  'key': 5,\n  'loudness': -6.508,\n  'mode': 0,\n  'speechiness': 0.106,\n  'acousticness': 0.11,\n  'instrumentalness': 0,\n  'liveness': 0.0786,\n  'valence': 0.91,\n  'tempo': 86.998,\n  'type': 'audio_features',\n  'id': '7rTzmiwE6lmBG8vQvBzNg7',\n  'uri': 'spotify:track:7rTzmiwE6lmBG8vQvBzNg7',\n  'track_href': 'https://api.spotify.com/v1/tracks/7rTzmiwE6lmBG8vQvBzNg7',\n  'analysis_url': 'https://api.spotify.com/v1/audio-analysis/7rTzmiwE6lmBG8vQvBzNg7',\n  'duration_ms': 234967,\n  'time_signature': 4},\n {'danceability': 0.563,\n  'energy': 0.515,\n  'key': 1,\n  'loudness': -9.085,\n  'mode': 1,\n  'speechiness': 0.285,\n  'acousticness': 0.0658,\n  'instrumentalness': 0,\n  'liveness': 0.107,\n  'valence': 0.38,\n  'tempo': 160.187,\n  'type': 'audio_features',\n  'id': '6K8qwbuUweQOdaErsNbdRc',\n  'uri': 'spotify:track:6K8qwbuUweQOdaErsNbdRc',\n  'track_href': 'https://api.spotify.com/v1/tracks/6K8qwbuUweQOdaErsNbdRc',\n  'analysis_url': 'https://api.spotify.com/v1/audio-analysis/6K8qwbuUweQOdaErsNbdRc',\n  'duration_ms': 186000,\n  'time_signature': 4},\n {'danceability': 0.565,\n  'energy': 0.364,\n  'key': 6,\n  'loudness': -9.512,\n  'mode': 1,\n  'speechiness': 0.2,\n  'acousticness': 0.328,\n  'instrumentalness': 0,\n  'liveness': 0.108,\n  'valence': 0.527,\n  'tempo': 155.705,\n  'type': 'audio_features',\n  'id': '0P11qKeHWhUy0rDPeY8dyB',\n  'uri': 'spotify:track:0P11qKeHWhUy0rDPeY8dyB',\n  'track_href': 'https://api.spotify.com/v1/tracks/0P11qKeHWhUy0rDPeY8dyB',\n  'analysis_url': 'https://api.spotify.com/v1/audio-analysis/0P11qKeHWhUy0rDPeY8dyB',\n  'duration_ms': 203037,\n  'time_signature': 3},\n {'danceability': 0.475,\n  'energy': 0.332,\n  'key': 0,\n  'loudness': -11.807,\n  'mode': 1,\n  'speechiness': 0.0563,\n  'acousticness': 0.755,\n  'instrumentalness': 1.16e-05,\n  'liveness': 0.114,\n  'valence': 0.506,\n  'tempo': 111.614,\n  'type': 'audio_features',\n  'id': '0QZnyONVa7pEq115ZjkFNV',\n  'uri': 'spotify:track:0QZnyONVa7pEq115ZjkFNV',\n  'track_href': 'https://api.spotify.com/v1/tracks/0QZnyONVa7pEq115ZjkFNV',\n  'analysis_url': 'https://api.spotify.com/v1/audio-analysis/0QZnyONVa7pEq115ZjkFNV',\n  'duration_ms': 189652,\n  'time_signature': 4},\n {'danceability': 0.549,\n  'energy': 0.689,\n  'key': 9,\n  'loudness': -6.667,\n  'mode': 0,\n  'speechiness': 0.118,\n  'acousticness': 0.306,\n  'instrumentalness': 0,\n  'liveness': 0.0785,\n  'valence': 0.268,\n  'tempo': 108.643,\n  'type': 'audio_features',\n  'id': '0aMOalD335v1hsSXmLURzz',\n  'uri': 'spotify:track:0aMOalD335v1hsSXmLURzz',\n  'track_href': 'https://api.spotify.com/v1/tracks/0aMOalD335v1hsSXmLURzz',\n  'analysis_url': 'https://api.spotify.com/v1/audio-analysis/0aMOalD335v1hsSXmLURzz',\n  'duration_ms': 230722,\n  'time_signature': 4},\n {'danceability': 0.799,\n  'energy': 0.653,\n  'key': 2,\n  'loudness': -5.453,\n  'mode': 0,\n  'speechiness': 0.037,\n  'acousticness': 0.019,\n  'instrumentalness': 0,\n  'liveness': 0.0935,\n  'valence': 0.236,\n  'tempo': 104.019,\n  'type': 'audio_features',\n  'id': '3vySEUpD0tc801F2WZDLYw',\n  'uri': 'spotify:track:3vySEUpD0tc801F2WZDLYw',\n  'track_href': 'https://api.spotify.com/v1/tracks/3vySEUpD0tc801F2WZDLYw',\n  'analysis_url': 'https://api.spotify.com/v1/audio-analysis/3vySEUpD0tc801F2WZDLYw',\n  'duration_ms': 215281,\n  'time_signature': 4},\n {'danceability': 0.836,\n  'energy': 0.698,\n  'key': 6,\n  'loudness': -5.801,\n  'mode': 1,\n  'speechiness': 0.118,\n  'acousticness': 0.124,\n  'instrumentalness': 3.28e-05,\n  'liveness': 0.152,\n  'valence': 0.88,\n  'tempo': 110.981,\n  'type': 'audio_features',\n  'id': '1j4hUdpOJd5qIXN3LJeHjj',\n  'uri': 'spotify:track:1j4hUdpOJd5qIXN3LJeHjj',\n  'track_href': 'https://api.spotify.com/v1/tracks/1j4hUdpOJd5qIXN3LJeHjj',\n  'analysis_url': 'https://api.spotify.com/v1/audio-analysis/1j4hUdpOJd5qIXN3LJeHjj',\n  'duration_ms': 168873,\n  'time_signature': 4},\n {'danceability': 0.838,\n  'energy': 0.629,\n  'key': 0,\n  'loudness': -4.48,\n  'mode': 1,\n  'speechiness': 0.0776,\n  'acousticness': 0.0418,\n  'instrumentalness': 0.0104,\n  'liveness': 0.1,\n  'valence': 0.83,\n  'tempo': 109.031,\n  'type': 'audio_features',\n  'id': '2Hyaggl5zUVCwGSbJmkOs3',\n  'uri': 'spotify:track:2Hyaggl5zUVCwGSbJmkOs3',\n  'track_href': 'https://api.spotify.com/v1/tracks/2Hyaggl5zUVCwGSbJmkOs3',\n  'analysis_url': 'https://api.spotify.com/v1/audio-analysis/2Hyaggl5zUVCwGSbJmkOs3',\n  'duration_ms': 209493,\n  'time_signature': 4},\n {'danceability': 0.861,\n  'energy': 0.537,\n  'key': 1,\n  'loudness': -8.199,\n  'mode': 0,\n  'speechiness': 0.159,\n  'acousticness': 0.504,\n  'instrumentalness': 0,\n  'liveness': 0.289,\n  'valence': 0.769,\n  'tempo': 102.014,\n  'type': 'audio_features',\n  'id': '3UqcIgObI7zZk8e7nvqmfc',\n  'uri': 'spotify:track:3UqcIgObI7zZk8e7nvqmfc',\n  'track_href': 'https://api.spotify.com/v1/tracks/3UqcIgObI7zZk8e7nvqmfc',\n  'analysis_url': 'https://api.spotify.com/v1/audio-analysis/3UqcIgObI7zZk8e7nvqmfc',\n  'duration_ms': 151765,\n  'time_signature': 4},\n {'danceability': 0.718,\n  'energy': 0.537,\n  'key': 1,\n  'loudness': -7.788,\n  'mode': 0,\n  'speechiness': 0.0772,\n  'acousticness': 0.246,\n  'instrumentalness': 0.0266,\n  'liveness': 0.113,\n  'valence': 0.602,\n  'tempo': 100.247,\n  'type': 'audio_features',\n  'id': '1nIhLChEGB8Y2dP7CHt3PN',\n  'uri': 'spotify:track:1nIhLChEGB8Y2dP7CHt3PN',\n  'track_href': 'https://api.spotify.com/v1/tracks/1nIhLChEGB8Y2dP7CHt3PN',\n  'analysis_url': 'https://api.spotify.com/v1/audio-analysis/1nIhLChEGB8Y2dP7CHt3PN',\n  'duration_ms': 234385,\n  'time_signature': 4},\n {'danceability': 0.813,\n  'energy': 0.6,\n  'key': 9,\n  'loudness': -6.769,\n  'mode': 0,\n  'speechiness': 0.0602,\n  'acousticness': 0.115,\n  'instrumentalness': 1.34e-05,\n  'liveness': 0.159,\n  'valence': 0.622,\n  'tempo': 125.981,\n  'type': 'audio_features',\n  'id': '3p2HpO3ZgvFs97L15hGZOn',\n  'uri': 'spotify:track:3p2HpO3ZgvFs97L15hGZOn',\n  'track_href': 'https://api.spotify.com/v1/tracks/3p2HpO3ZgvFs97L15hGZOn',\n  'analysis_url': 'https://api.spotify.com/v1/audio-analysis/3p2HpO3ZgvFs97L15hGZOn',\n  'duration_ms': 156944,\n  'time_signature': 4},\n {'danceability': 0.678,\n  'energy': 0.527,\n  'key': 4,\n  'loudness': -9.038,\n  'mode': 0,\n  'speechiness': 0.301,\n  'acousticness': 0.3,\n  'instrumentalness': 0,\n  'liveness': 0.119,\n  'valence': 0.583,\n  'tempo': 76.847,\n  'type': 'audio_features',\n  'id': '6oOJL3xj8zRz6URS0SwlXC',\n  'uri': 'spotify:track:6oOJL3xj8zRz6URS0SwlXC',\n  'track_href': 'https://api.spotify.com/v1/tracks/6oOJL3xj8zRz6URS0SwlXC',\n  'analysis_url': 'https://api.spotify.com/v1/audio-analysis/6oOJL3xj8zRz6URS0SwlXC',\n  'duration_ms': 212077,\n  'time_signature': 4},\n {'danceability': 0.662,\n  'energy': 0.655,\n  'key': 2,\n  'loudness': -5.44,\n  'mode': 1,\n  'speechiness': 0.26,\n  'acousticness': 0.462,\n  'instrumentalness': 0,\n  'liveness': 0.124,\n  'valence': 0.356,\n  'tempo': 82.079,\n  'type': 'audio_features',\n  'id': '3pEINn37iH5fx8TpXYNGIO',\n  'uri': 'spotify:track:3pEINn37iH5fx8TpXYNGIO',\n  'track_href': 'https://api.spotify.com/v1/tracks/3pEINn37iH5fx8TpXYNGIO',\n  'analysis_url': 'https://api.spotify.com/v1/audio-analysis/3pEINn37iH5fx8TpXYNGIO',\n  'duration_ms': 226374,\n  'time_signature': 4},\n {'danceability': 0.793,\n  'energy': 0.607,\n  'key': 2,\n  'loudness': -7.141,\n  'mode': 1,\n  'speechiness': 0.192,\n  'acousticness': 0.489,\n  'instrumentalness': 0,\n  'liveness': 0.259,\n  'valence': 0.569,\n  'tempo': 91.992,\n  'type': 'audio_features',\n  'id': '4WLdlAi4KBDNRxaq3GnRYH',\n  'uri': 'spotify:track:4WLdlAi4KBDNRxaq3GnRYH',\n  'track_href': 'https://api.spotify.com/v1/tracks/4WLdlAi4KBDNRxaq3GnRYH',\n  'analysis_url': 'https://api.spotify.com/v1/audio-analysis/4WLdlAi4KBDNRxaq3GnRYH',\n  'duration_ms': 179348,\n  'time_signature': 4},\n {'danceability': 0.647,\n  'energy': 0.766,\n  'key': 6,\n  'loudness': -4.803,\n  'mode': 1,\n  'speechiness': 0.0389,\n  'acousticness': 0.00702,\n  'instrumentalness': 0,\n  'liveness': 0.096,\n  'valence': 0.55,\n  'tempo': 95.016,\n  'type': 'audio_features',\n  'id': '57Hk0AE5OhgXrPWZOhipHt',\n  'uri': 'spotify:track:57Hk0AE5OhgXrPWZOhipHt',\n  'track_href': 'https://api.spotify.com/v1/tracks/57Hk0AE5OhgXrPWZOhipHt',\n  'analysis_url': 'https://api.spotify.com/v1/audio-analysis/57Hk0AE5OhgXrPWZOhipHt',\n  'duration_ms': 165216,\n  'time_signature': 4},\n {'danceability': 0.872,\n  'energy': 0.497,\n  'key': 0,\n  'loudness': -7.733,\n  'mode': 1,\n  'speechiness': 0.0708,\n  'acousticness': 0.289,\n  'instrumentalness': 0,\n  'liveness': 0.101,\n  'valence': 0.648,\n  'tempo': 120.015,\n  'type': 'audio_features',\n  'id': '0rLfMI04PHRfoaGLcCh816',\n  'uri': 'spotify:track:0rLfMI04PHRfoaGLcCh816',\n  'track_href': 'https://api.spotify.com/v1/tracks/0rLfMI04PHRfoaGLcCh816',\n  'analysis_url': 'https://api.spotify.com/v1/audio-analysis/0rLfMI04PHRfoaGLcCh816',\n  'duration_ms': 193456,\n  'time_signature': 4},\n {'danceability': 0.817,\n  'energy': 0.72,\n  'key': 5,\n  'loudness': -8.134,\n  'mode': 0,\n  'speechiness': 0.0809,\n  'acousticness': 0.172,\n  'instrumentalness': 0.000726,\n  'liveness': 0.109,\n  'valence': 0.384,\n  'tempo': 119.989,\n  'type': 'audio_features',\n  'id': '6tTeRmhhuwDl5Y4UiJdHuO',\n  'uri': 'spotify:track:6tTeRmhhuwDl5Y4UiJdHuO',\n  'track_href': 'https://api.spotify.com/v1/tracks/6tTeRmhhuwDl5Y4UiJdHuO',\n  'analysis_url': 'https://api.spotify.com/v1/audio-analysis/6tTeRmhhuwDl5Y4UiJdHuO',\n  'duration_ms': 180563,\n  'time_signature': 4},\n {'danceability': 0.691,\n  'energy': 0.501,\n  'key': 1,\n  'loudness': -9.089,\n  'mode': 0,\n  'speechiness': 0.045,\n  'acousticness': 0.0499,\n  'instrumentalness': 0.00011,\n  'liveness': 0.131,\n  'valence': 0.332,\n  'tempo': 126.93,\n  'type': 'audio_features',\n  'id': '1VcORtwbt560HNpnDMyCCu',\n  'uri': 'spotify:track:1VcORtwbt560HNpnDMyCCu',\n  'track_href': 'https://api.spotify.com/v1/tracks/1VcORtwbt560HNpnDMyCCu',\n  'analysis_url': 'https://api.spotify.com/v1/audio-analysis/1VcORtwbt560HNpnDMyCCu',\n  'duration_ms': 227947,\n  'time_signature': 4},\n {'danceability': 0.612,\n  'energy': 0.42,\n  'key': 11,\n  'loudness': -8.964,\n  'mode': 1,\n  'speechiness': 0.0838,\n  'acousticness': 0.135,\n  'instrumentalness': 0,\n  'liveness': 0.109,\n  'valence': 0.265,\n  'tempo': 124.633,\n  'type': 'audio_features',\n  'id': '7J9UCy56nirwKuf1IMYtE1',\n  'uri': 'spotify:track:7J9UCy56nirwKuf1IMYtE1',\n  'track_href': 'https://api.spotify.com/v1/tracks/7J9UCy56nirwKuf1IMYtE1',\n  'analysis_url': 'https://api.spotify.com/v1/audio-analysis/7J9UCy56nirwKuf1IMYtE1',\n  'duration_ms': 223161,\n  'time_signature': 4},\n {'danceability': 0.569,\n  'energy': 0.325,\n  'key': 7,\n  'loudness': -9.66,\n  'mode': 0,\n  'speechiness': 0.0376,\n  'acousticness': 0.67,\n  'instrumentalness': 0,\n  'liveness': 0.141,\n  'valence': 0.274,\n  'tempo': 122.051,\n  'type': 'audio_features',\n  'id': '4qgMPzf9QOETWQFUcFkHD4',\n  'uri': 'spotify:track:4qgMPzf9QOETWQFUcFkHD4',\n  'track_href': 'https://api.spotify.com/v1/tracks/4qgMPzf9QOETWQFUcFkHD4',\n  'analysis_url': 'https://api.spotify.com/v1/audio-analysis/4qgMPzf9QOETWQFUcFkHD4',\n  'duration_ms': 207547,\n  'time_signature': 3},\n {'danceability': 0.615,\n  'energy': 0.322,\n  'key': 1,\n  'loudness': -10.408,\n  'mode': 1,\n  'speechiness': 0.0282,\n  'acousticness': 0.77,\n  'instrumentalness': 3.39e-05,\n  'liveness': 0.11,\n  'valence': 0.256,\n  'tempo': 113.064,\n  'type': 'audio_features',\n  'id': '4Nk5iJrw4u7vJ6nGXosuxk',\n  'uri': 'spotify:track:4Nk5iJrw4u7vJ6nGXosuxk',\n  'track_href': 'https://api.spotify.com/v1/tracks/4Nk5iJrw4u7vJ6nGXosuxk',\n  'analysis_url': 'https://api.spotify.com/v1/audio-analysis/4Nk5iJrw4u7vJ6nGXosuxk',\n  'duration_ms': 195368,\n  'time_signature': 4},\n {'danceability': 0.956,\n  'energy': 0.417,\n  'key': 7,\n  'loudness': -7.892,\n  'mode': 0,\n  'speechiness': 0.0926,\n  'acousticness': 0.572,\n  'instrumentalness': 0.00071,\n  'liveness': 0.0782,\n  'valence': 0.714,\n  'tempo': 108.015,\n  'type': 'audio_features',\n  'id': '4hJhHbkhZFnxmWbAkZRoe0',\n  'uri': 'spotify:track:4hJhHbkhZFnxmWbAkZRoe0',\n  'track_href': 'https://api.spotify.com/v1/tracks/4hJhHbkhZFnxmWbAkZRoe0',\n  'analysis_url': 'https://api.spotify.com/v1/audio-analysis/4hJhHbkhZFnxmWbAkZRoe0',\n  'duration_ms': 187111,\n  'time_signature': 4},\n {'danceability': 0.731,\n  'energy': 0.622,\n  'key': 11,\n  'loudness': -7.704,\n  'mode': 1,\n  'speechiness': 0.0823,\n  'acousticness': 0.0662,\n  'instrumentalness': 0.000153,\n  'liveness': 0.0558,\n  'valence': 0.501,\n  'tempo': 103.949,\n  'type': 'audio_features',\n  'id': '6kmXHLDDK7RQXTjHooTCzH',\n  'uri': 'spotify:track:6kmXHLDDK7RQXTjHooTCzH',\n  'track_href': 'https://api.spotify.com/v1/tracks/6kmXHLDDK7RQXTjHooTCzH',\n  'analysis_url': 'https://api.spotify.com/v1/audio-analysis/6kmXHLDDK7RQXTjHooTCzH',\n  'duration_ms': 205385,\n  'time_signature': 4},\n {'danceability': 0.692,\n  'energy': 0.642,\n  'key': 6,\n  'loudness': -6.68,\n  'mode': 1,\n  'speechiness': 0.0702,\n  'acousticness': 0.337,\n  'instrumentalness': 0,\n  'liveness': 0.107,\n  'valence': 0.702,\n  'tempo': 98.096,\n  'type': 'audio_features',\n  'id': '4ZB2yAZyPHI6SHdFPPT9sa',\n  'uri': 'spotify:track:4ZB2yAZyPHI6SHdFPPT9sa',\n  'track_href': 'https://api.spotify.com/v1/tracks/4ZB2yAZyPHI6SHdFPPT9sa',\n  'analysis_url': 'https://api.spotify.com/v1/audio-analysis/4ZB2yAZyPHI6SHdFPPT9sa',\n  'duration_ms': 161164,\n  'time_signature': 4},\n {'danceability': 0.79,\n  'energy': 0.526,\n  'key': 6,\n  'loudness': -5.311,\n  'mode': 0,\n  'speechiness': 0.231,\n  'acousticness': 0.367,\n  'instrumentalness': 9.89e-05,\n  'liveness': 0.076,\n  'valence': 0.953,\n  'tempo': 98.241,\n  'type': 'audio_features',\n  'id': '7BglTfVmbUUOCQUNof4RBF',\n  'uri': 'spotify:track:7BglTfVmbUUOCQUNof4RBF',\n  'track_href': 'https://api.spotify.com/v1/tracks/7BglTfVmbUUOCQUNof4RBF',\n  'analysis_url': 'https://api.spotify.com/v1/audio-analysis/7BglTfVmbUUOCQUNof4RBF',\n  'duration_ms': 160800,\n  'time_signature': 4},\n {'danceability': 0.861,\n  'energy': 0.27,\n  'key': 6,\n  'loudness': -9.515,\n  'mode': 0,\n  'speechiness': 0.0616,\n  'acousticness': 0.301,\n  'instrumentalness': 0.00288,\n  'liveness': 0.124,\n  'valence': 0.608,\n  'tempo': 84.004,\n  'type': 'audio_features',\n  'id': '1vghSeMBb7AIMT3JaMrlHO',\n  'uri': 'spotify:track:1vghSeMBb7AIMT3JaMrlHO',\n  'track_href': 'https://api.spotify.com/v1/tracks/1vghSeMBb7AIMT3JaMrlHO',\n  'analysis_url': 'https://api.spotify.com/v1/audio-analysis/1vghSeMBb7AIMT3JaMrlHO',\n  'duration_ms': 165320,\n  'time_signature': 4},\n {'danceability': 0.767,\n  'energy': 0.438,\n  'key': 7,\n  'loudness': -8.726,\n  'mode': 0,\n  'speechiness': 0.29,\n  'acousticness': 0.181,\n  'instrumentalness': 0,\n  'liveness': 0.142,\n  'valence': 0.381,\n  'tempo': 86.975,\n  'type': 'audio_features',\n  'id': '37Nqx7iavZpotJSDXZWbJ3',\n  'uri': 'spotify:track:37Nqx7iavZpotJSDXZWbJ3',\n  'track_href': 'https://api.spotify.com/v1/tracks/37Nqx7iavZpotJSDXZWbJ3',\n  'analysis_url': 'https://api.spotify.com/v1/audio-analysis/37Nqx7iavZpotJSDXZWbJ3',\n  'duration_ms': 221980,\n  'time_signature': 4},\n {'danceability': 0.47,\n  'energy': 0.551,\n  'key': 2,\n  'loudness': -6.43,\n  'mode': 0,\n  'speechiness': 0.373,\n  'acousticness': 0.385,\n  'instrumentalness': 0,\n  'liveness': 0.0852,\n  'valence': 0.716,\n  'tempo': 165.84,\n  'type': 'audio_features',\n  'id': '0IRTa7DehMM1eyrwx98DJ7',\n  'uri': 'spotify:track:0IRTa7DehMM1eyrwx98DJ7',\n  'track_href': 'https://api.spotify.com/v1/tracks/0IRTa7DehMM1eyrwx98DJ7',\n  'analysis_url': 'https://api.spotify.com/v1/audio-analysis/0IRTa7DehMM1eyrwx98DJ7',\n  'duration_ms': 175329,\n  'time_signature': 4},\n {'danceability': 0.535,\n  'energy': 0.388,\n  'key': 7,\n  'loudness': -9.805,\n  'mode': 0,\n  'speechiness': 0.155,\n  'acousticness': 0.507,\n  'instrumentalness': 0,\n  'liveness': 0.11,\n  'valence': 0.412,\n  'tempo': 106.703,\n  'type': 'audio_features',\n  'id': '5dXWFMwD7I7zXsInONVl0H',\n  'uri': 'spotify:track:5dXWFMwD7I7zXsInONVl0H',\n  'track_href': 'https://api.spotify.com/v1/tracks/5dXWFMwD7I7zXsInONVl0H',\n  'analysis_url': 'https://api.spotify.com/v1/audio-analysis/5dXWFMwD7I7zXsInONVl0H',\n  'duration_ms': 174000,\n  'time_signature': 5},\n {'danceability': 0.602,\n  'energy': 0.696,\n  'key': 5,\n  'loudness': -4.381,\n  'mode': 0,\n  'speechiness': 0.0745,\n  'acousticness': 0.724,\n  'instrumentalness': 0,\n  'liveness': 0.184,\n  'valence': 0.576,\n  'tempo': 119.385,\n  'type': 'audio_features',\n  'id': '4Akv7im73zdPuVKwsiqhQS',\n  'uri': 'spotify:track:4Akv7im73zdPuVKwsiqhQS',\n  'track_href': 'https://api.spotify.com/v1/tracks/4Akv7im73zdPuVKwsiqhQS',\n  'analysis_url': 'https://api.spotify.com/v1/audio-analysis/4Akv7im73zdPuVKwsiqhQS',\n  'duration_ms': 184216,\n  'time_signature': 4},\n {'danceability': 0.621,\n  'energy': 0.763,\n  'key': 0,\n  'loudness': -5.511,\n  'mode': 1,\n  'speechiness': 0.0684,\n  'acousticness': 0.0286,\n  'instrumentalness': 0,\n  'liveness': 0.529,\n  'valence': 0.45,\n  'tempo': 139.994,\n  'type': 'audio_features',\n  'id': '3S4gq91XRuohTTfJZAiGVK',\n  'uri': 'spotify:track:3S4gq91XRuohTTfJZAiGVK',\n  'track_href': 'https://api.spotify.com/v1/tracks/3S4gq91XRuohTTfJZAiGVK',\n  'analysis_url': 'https://api.spotify.com/v1/audio-analysis/3S4gq91XRuohTTfJZAiGVK',\n  'duration_ms': 164566,\n  'time_signature': 4},\n {'danceability': 0.367,\n  'energy': 0.142,\n  'key': 6,\n  'loudness': -12.717,\n  'mode': 0,\n  'speechiness': 0.0319,\n  'acousticness': 0.913,\n  'instrumentalness': 0.00367,\n  'liveness': 0.107,\n  'valence': 0.1,\n  'tempo': 69.827,\n  'type': 'audio_features',\n  'id': '3FImu2LpSuH6gDHBuFgIbS',\n  'uri': 'spotify:track:3FImu2LpSuH6gDHBuFgIbS',\n  'track_href': 'https://api.spotify.com/v1/tracks/3FImu2LpSuH6gDHBuFgIbS',\n  'analysis_url': 'https://api.spotify.com/v1/audio-analysis/3FImu2LpSuH6gDHBuFgIbS',\n  'duration_ms': 189463,\n  'time_signature': 4},\n {'danceability': 0.895,\n  'energy': 0.488,\n  'key': 3,\n  'loudness': -5.142,\n  'mode': 0,\n  'speechiness': 0.0874,\n  'acousticness': 0.0912,\n  'instrumentalness': 0,\n  'liveness': 0.111,\n  'valence': 0.77,\n  'tempo': 136.108,\n  'type': 'audio_features',\n  'id': '1hze2kmg5hKQjGOcHCE5OM',\n  'uri': 'spotify:track:1hze2kmg5hKQjGOcHCE5OM',\n  'track_href': 'https://api.spotify.com/v1/tracks/1hze2kmg5hKQjGOcHCE5OM',\n  'analysis_url': 'https://api.spotify.com/v1/audio-analysis/1hze2kmg5hKQjGOcHCE5OM',\n  'duration_ms': 153396,\n  'time_signature': 4},\n {'danceability': 0.809,\n  'energy': 0.59,\n  'key': 2,\n  'loudness': -5.586,\n  'mode': 1,\n  'speechiness': 0.143,\n  'acousticness': 0.168,\n  'instrumentalness': 0.00097,\n  'liveness': 0.119,\n  'valence': 0.47,\n  'tempo': 101.964,\n  'type': 'audio_features',\n  'id': '13ikSMNMyLUSqkzbqEHzdu',\n  'uri': 'spotify:track:13ikSMNMyLUSqkzbqEHzdu',\n  'track_href': 'https://api.spotify.com/v1/tracks/13ikSMNMyLUSqkzbqEHzdu',\n  'analysis_url': 'https://api.spotify.com/v1/audio-analysis/13ikSMNMyLUSqkzbqEHzdu',\n  'duration_ms': 237480,\n  'time_signature': 4},\n {'danceability': 0.626,\n  'energy': 0.445,\n  'key': 10,\n  'loudness': -5.143,\n  'mode': 0,\n  'speechiness': 0.0507,\n  'acousticness': 0.285,\n  'instrumentalness': 7.76e-06,\n  'liveness': 0.0999,\n  'valence': 0.25,\n  'tempo': 71.352,\n  'type': 'audio_features',\n  'id': '7BAreLM0Yif723pgS8Kydl',\n  'uri': 'spotify:track:7BAreLM0Yif723pgS8Kydl',\n  'track_href': 'https://api.spotify.com/v1/tracks/7BAreLM0Yif723pgS8Kydl',\n  'analysis_url': 'https://api.spotify.com/v1/audio-analysis/7BAreLM0Yif723pgS8Kydl',\n  'duration_ms': 190112,\n  'time_signature': 4},\n {'danceability': 0.627,\n  'energy': 0.618,\n  'key': 2,\n  'loudness': -8.529,\n  'mode': 1,\n  'speechiness': 0.0437,\n  'acousticness': 0.0558,\n  'instrumentalness': 0,\n  'liveness': 0.351,\n  'valence': 0.848,\n  'tempo': 82.03,\n  'type': 'audio_features',\n  'id': '4iN16F8JtVxG2UTzp3avGl',\n  'uri': 'spotify:track:4iN16F8JtVxG2UTzp3avGl',\n  'track_href': 'https://api.spotify.com/v1/tracks/4iN16F8JtVxG2UTzp3avGl',\n  'analysis_url': 'https://api.spotify.com/v1/audio-analysis/4iN16F8JtVxG2UTzp3avGl',\n  'duration_ms': 197443,\n  'time_signature': 4},\n {'danceability': 0.62,\n  'energy': 0.63,\n  'key': 10,\n  'loudness': -5.578,\n  'mode': 0,\n  'speechiness': 0.198,\n  'acousticness': 0.171,\n  'instrumentalness': 0,\n  'liveness': 0.0824,\n  'valence': 0.543,\n  'tempo': 85.42,\n  'type': 'audio_features',\n  'id': '2nQF3xgFXtXVUlaQNiUARI',\n  'uri': 'spotify:track:2nQF3xgFXtXVUlaQNiUARI',\n  'track_href': 'https://api.spotify.com/v1/tracks/2nQF3xgFXtXVUlaQNiUARI',\n  'analysis_url': 'https://api.spotify.com/v1/audio-analysis/2nQF3xgFXtXVUlaQNiUARI',\n  'duration_ms': 194821,\n  'time_signature': 4},\n {'danceability': 0.822,\n  'energy': 0.627,\n  'key': 7,\n  'loudness': -5.826,\n  'mode': 0,\n  'speechiness': 0.126,\n  'acousticness': 0.143,\n  'instrumentalness': 0,\n  'liveness': 0.146,\n  'valence': 0.5,\n  'tempo': 120.057,\n  'type': 'audio_features',\n  'id': '5MA0iU2dyAFwWUzfyrk2di',\n  'uri': 'spotify:track:5MA0iU2dyAFwWUzfyrk2di',\n  'track_href': 'https://api.spotify.com/v1/tracks/5MA0iU2dyAFwWUzfyrk2di',\n  'analysis_url': 'https://api.spotify.com/v1/audio-analysis/5MA0iU2dyAFwWUzfyrk2di',\n  'duration_ms': 216707,\n  'time_signature': 4},\n {'danceability': 0.738,\n  'energy': 0.75,\n  'key': 11,\n  'loudness': -3.654,\n  'mode': 0,\n  'speechiness': 0.219,\n  'acousticness': 0.0167,\n  'instrumentalness': 0.00976,\n  'liveness': 0.174,\n  'valence': 0.342,\n  'tempo': 112.009,\n  'type': 'audio_features',\n  'id': '1jBKtzlwTVtCrScpiiHiKT',\n  'uri': 'spotify:track:1jBKtzlwTVtCrScpiiHiKT',\n  'track_href': 'https://api.spotify.com/v1/tracks/1jBKtzlwTVtCrScpiiHiKT',\n  'analysis_url': 'https://api.spotify.com/v1/audio-analysis/1jBKtzlwTVtCrScpiiHiKT',\n  'duration_ms': 207840,\n  'time_signature': 4},\n {'danceability': 0.821,\n  'energy': 0.412,\n  'key': 7,\n  'loudness': -7.795,\n  'mode': 1,\n  'speechiness': 0.0341,\n  'acousticness': 0.625,\n  'instrumentalness': 1.64e-05,\n  'liveness': 0.0985,\n  'valence': 0.333,\n  'tempo': 109.977,\n  'type': 'audio_features',\n  'id': '0GGfGINoVYiSFXPOjg3RHj',\n  'uri': 'spotify:track:0GGfGINoVYiSFXPOjg3RHj',\n  'track_href': 'https://api.spotify.com/v1/tracks/0GGfGINoVYiSFXPOjg3RHj',\n  'analysis_url': 'https://api.spotify.com/v1/audio-analysis/0GGfGINoVYiSFXPOjg3RHj',\n  'duration_ms': 209454,\n  'time_signature': 4},\n {'danceability': 0.873,\n  'energy': 0.658,\n  'key': 4,\n  'loudness': -8.031,\n  'mode': 0,\n  'speechiness': 0.108,\n  'acousticness': 0.00858,\n  'instrumentalness': 0.0061,\n  'liveness': 0.0999,\n  'valence': 0.483,\n  'tempo': 104.033,\n  'type': 'audio_features',\n  'id': '3ketN3dth18vSJ1T3HIztN',\n  'uri': 'spotify:track:3ketN3dth18vSJ1T3HIztN',\n  'track_href': 'https://api.spotify.com/v1/tracks/3ketN3dth18vSJ1T3HIztN',\n  'analysis_url': 'https://api.spotify.com/v1/audio-analysis/3ketN3dth18vSJ1T3HIztN',\n  'duration_ms': 189800,\n  'time_signature': 4},\n {'danceability': 0.763,\n  'energy': 0.667,\n  'key': 2,\n  'loudness': -6.285,\n  'mode': 1,\n  'speechiness': 0.085,\n  'acousticness': 0.021,\n  'instrumentalness': 2.4e-05,\n  'liveness': 0.0715,\n  'valence': 0.75,\n  'tempo': 95.864,\n  'type': 'audio_features',\n  'id': '2lBExcAjBgX7Jb480goU9B',\n  'uri': 'spotify:track:2lBExcAjBgX7Jb480goU9B',\n  'track_href': 'https://api.spotify.com/v1/tracks/2lBExcAjBgX7Jb480goU9B',\n  'analysis_url': 'https://api.spotify.com/v1/audio-analysis/2lBExcAjBgX7Jb480goU9B',\n  'duration_ms': 260520,\n  'time_signature': 4},\n {'danceability': 0.547,\n  'energy': 0.619,\n  'key': 3,\n  'loudness': -6.485,\n  'mode': 0,\n  'speechiness': 0.132,\n  'acousticness': 0.0951,\n  'instrumentalness': 2.62e-06,\n  'liveness': 0.0716,\n  'valence': 0.519,\n  'tempo': 76.285,\n  'type': 'audio_features',\n  'id': '0tkgmjBMU6qSxolAKB3f2H',\n  'uri': 'spotify:track:0tkgmjBMU6qSxolAKB3f2H',\n  'track_href': 'https://api.spotify.com/v1/tracks/0tkgmjBMU6qSxolAKB3f2H',\n  'analysis_url': 'https://api.spotify.com/v1/audio-analysis/0tkgmjBMU6qSxolAKB3f2H',\n  'duration_ms': 233070,\n  'time_signature': 4},\n {'danceability': 0.447,\n  'energy': 0.42,\n  'key': 1,\n  'loudness': -7.915,\n  'mode': 1,\n  'speechiness': 0.0726,\n  'acousticness': 0.617,\n  'instrumentalness': 0,\n  'liveness': 0.116,\n  'valence': 0.15,\n  'tempo': 135.91,\n  'type': 'audio_features',\n  'id': '4dmNBu6IEQahPJDlQQOY69',\n  'uri': 'spotify:track:4dmNBu6IEQahPJDlQQOY69',\n  'track_href': 'https://api.spotify.com/v1/tracks/4dmNBu6IEQahPJDlQQOY69',\n  'analysis_url': 'https://api.spotify.com/v1/audio-analysis/4dmNBu6IEQahPJDlQQOY69',\n  'duration_ms': 214053,\n  'time_signature': 5},\n {'danceability': 0.668,\n  'energy': 0.511,\n  'key': 9,\n  'loudness': -7.221,\n  'mode': 0,\n  'speechiness': 0.229,\n  'acousticness': 0.365,\n  'instrumentalness': 8.23e-06,\n  'liveness': 0.0944,\n  'valence': 0.45,\n  'tempo': 140.977,\n  'type': 'audio_features',\n  'id': '3iiHEQZV80feJ0RDzc1n6b',\n  'uri': 'spotify:track:3iiHEQZV80feJ0RDzc1n6b',\n  'track_href': 'https://api.spotify.com/v1/tracks/3iiHEQZV80feJ0RDzc1n6b',\n  'analysis_url': 'https://api.spotify.com/v1/audio-analysis/3iiHEQZV80feJ0RDzc1n6b',\n  'duration_ms': 209853,\n  'time_signature': 4},\n {'danceability': 0.664,\n  'energy': 0.45,\n  'key': 8,\n  'loudness': -9.125,\n  'mode': 1,\n  'speechiness': 0.166,\n  'acousticness': 0.204,\n  'instrumentalness': 4.45e-06,\n  'liveness': 0.171,\n  'valence': 0.254,\n  'tempo': 90.991,\n  'type': 'audio_features',\n  'id': '74CjepodJooOCQkrGCwE4C',\n  'uri': 'spotify:track:74CjepodJooOCQkrGCwE4C',\n  'track_href': 'https://api.spotify.com/v1/tracks/74CjepodJooOCQkrGCwE4C',\n  'analysis_url': 'https://api.spotify.com/v1/audio-analysis/74CjepodJooOCQkrGCwE4C',\n  'duration_ms': 222168,\n  'time_signature': 4},\n {'danceability': 0.807,\n  'energy': 0.481,\n  'key': 8,\n  'loudness': -7.362,\n  'mode': 0,\n  'speechiness': 0.0713,\n  'acousticness': 0.0264,\n  'instrumentalness': 1.28e-06,\n  'liveness': 0.112,\n  'valence': 0.748,\n  'tempo': 91.005,\n  'type': 'audio_features',\n  'id': '1IjeGPU5hqHlJpm00zObN7',\n  'uri': 'spotify:track:1IjeGPU5hqHlJpm00zObN7',\n  'track_href': 'https://api.spotify.com/v1/tracks/1IjeGPU5hqHlJpm00zObN7',\n  'analysis_url': 'https://api.spotify.com/v1/audio-analysis/1IjeGPU5hqHlJpm00zObN7',\n  'duration_ms': 175319,\n  'time_signature': 4},\n {'danceability': 0.769,\n  'energy': 0.815,\n  'key': 8,\n  'loudness': -6.918,\n  'mode': 0,\n  'speechiness': 0.325,\n  'acousticness': 0.157,\n  'instrumentalness': 0,\n  'liveness': 0.0657,\n  'valence': 0.774,\n  'tempo': 97.911,\n  'type': 'audio_features',\n  'id': '5MMW4CZsZiZt2iuqAXzzWC',\n  'uri': 'spotify:track:5MMW4CZsZiZt2iuqAXzzWC',\n  'track_href': 'https://api.spotify.com/v1/tracks/5MMW4CZsZiZt2iuqAXzzWC',\n  'analysis_url': 'https://api.spotify.com/v1/audio-analysis/5MMW4CZsZiZt2iuqAXzzWC',\n  'duration_ms': 332362,\n  'time_signature': 4},\n {'danceability': 0.71,\n  'energy': 0.522,\n  'key': 11,\n  'loudness': -9.102,\n  'mode': 1,\n  'speechiness': 0.36,\n  'acousticness': 0.615,\n  'instrumentalness': 0,\n  'liveness': 0.11,\n  'valence': 0.37,\n  'tempo': 96.448,\n  'type': 'audio_features',\n  'id': '3EMp20j5E42MxfFbsEsIvD',\n  'uri': 'spotify:track:3EMp20j5E42MxfFbsEsIvD',\n  'track_href': 'https://api.spotify.com/v1/tracks/3EMp20j5E42MxfFbsEsIvD',\n  'analysis_url': 'https://api.spotify.com/v1/audio-analysis/3EMp20j5E42MxfFbsEsIvD',\n  'duration_ms': 309327,\n  'time_signature': 4},\n {'danceability': 0.883,\n  'energy': 0.657,\n  'key': 8,\n  'loudness': -5.748,\n  'mode': 1,\n  'speechiness': 0.305,\n  'acousticness': 0.0603,\n  'instrumentalness': 0,\n  'liveness': 0.128,\n  'valence': 0.284,\n  'tempo': 124.992,\n  'type': 'audio_features',\n  'id': '5qgFgsrrxOjyPmX5YCuK2E',\n  'uri': 'spotify:track:5qgFgsrrxOjyPmX5YCuK2E',\n  'track_href': 'https://api.spotify.com/v1/tracks/5qgFgsrrxOjyPmX5YCuK2E',\n  'analysis_url': 'https://api.spotify.com/v1/audio-analysis/5qgFgsrrxOjyPmX5YCuK2E',\n  'duration_ms': 172933,\n  'time_signature': 4},\n {'danceability': 0.535,\n  'energy': 0.618,\n  'key': 2,\n  'loudness': -5.668,\n  'mode': 1,\n  'speechiness': 0.382,\n  'acousticness': 0.0245,\n  'instrumentalness': 0,\n  'liveness': 0.103,\n  'valence': 0.211,\n  'tempo': 165.991,\n  'type': 'audio_features',\n  'id': '6ws54n2IzyrIxxyzlG2bVJ',\n  'uri': 'spotify:track:6ws54n2IzyrIxxyzlG2bVJ',\n  'track_href': 'https://api.spotify.com/v1/tracks/6ws54n2IzyrIxxyzlG2bVJ',\n  'analysis_url': 'https://api.spotify.com/v1/audio-analysis/6ws54n2IzyrIxxyzlG2bVJ',\n  'duration_ms': 213976,\n  'time_signature': 4},\n {'danceability': 0.727,\n  'energy': 0.616,\n  'key': 8,\n  'loudness': -8.487,\n  'mode': 1,\n  'speechiness': 0.338,\n  'acousticness': 0.542,\n  'instrumentalness': 4.47e-06,\n  'liveness': 0.482,\n  'valence': 0.392,\n  'tempo': 140.014,\n  'type': 'audio_features',\n  'id': '7IBLt4Qarf4JDLxIQDv2O5',\n  'uri': 'spotify:track:7IBLt4Qarf4JDLxIQDv2O5',\n  'track_href': 'https://api.spotify.com/v1/tracks/7IBLt4Qarf4JDLxIQDv2O5',\n  'analysis_url': 'https://api.spotify.com/v1/audio-analysis/7IBLt4Qarf4JDLxIQDv2O5',\n  'duration_ms': 291612,\n  'time_signature': 4},\n {'danceability': 0.833,\n  'energy': 0.652,\n  'key': 11,\n  'loudness': -6.942,\n  'mode': 1,\n  'speechiness': 0.0762,\n  'acousticness': 0.00161,\n  'instrumentalness': 0.0985,\n  'liveness': 0.106,\n  'valence': 0.405,\n  'tempo': 158.022,\n  'type': 'audio_features',\n  'id': '0LnS7aOdOdI1dNKZqdOLz4',\n  'uri': 'spotify:track:0LnS7aOdOdI1dNKZqdOLz4',\n  'track_href': 'https://api.spotify.com/v1/tracks/0LnS7aOdOdI1dNKZqdOLz4',\n  'analysis_url': 'https://api.spotify.com/v1/audio-analysis/0LnS7aOdOdI1dNKZqdOLz4',\n  'duration_ms': 135053,\n  'time_signature': 4},\n {'danceability': 0.863,\n  'energy': 0.499,\n  'key': 7,\n  'loudness': -8.602,\n  'mode': 0,\n  'speechiness': 0.514,\n  'acousticness': 0.0758,\n  'instrumentalness': 0,\n  'liveness': 0.104,\n  'valence': 0.76,\n  'tempo': 80.073,\n  'type': 'audio_features',\n  'id': '1NVp7VnSVUJalgIBCIkh0w',\n  'uri': 'spotify:track:1NVp7VnSVUJalgIBCIkh0w',\n  'track_href': 'https://api.spotify.com/v1/tracks/1NVp7VnSVUJalgIBCIkh0w',\n  'analysis_url': 'https://api.spotify.com/v1/audio-analysis/1NVp7VnSVUJalgIBCIkh0w',\n  'duration_ms': 156996,\n  'time_signature': 4},\n {'danceability': 0.825,\n  'energy': 0.234,\n  'key': 9,\n  'loudness': -14.202,\n  'mode': 1,\n  'speechiness': 0.495,\n  'acousticness': 0.235,\n  'instrumentalness': 9.54e-06,\n  'liveness': 0.0696,\n  'valence': 0.18,\n  'tempo': 77.487,\n  'type': 'audio_features',\n  'id': '5mt882Eqx22RwFOTE01jS8',\n  'uri': 'spotify:track:5mt882Eqx22RwFOTE01jS8',\n  'track_href': 'https://api.spotify.com/v1/tracks/5mt882Eqx22RwFOTE01jS8',\n  'analysis_url': 'https://api.spotify.com/v1/audio-analysis/5mt882Eqx22RwFOTE01jS8',\n  'duration_ms': 111484,\n  'time_signature': 4},\n {'danceability': 0.773,\n  'energy': 0.707,\n  'key': 11,\n  'loudness': -5.71,\n  'mode': 1,\n  'speechiness': 0.0568,\n  'acousticness': 0.0103,\n  'instrumentalness': 1.04e-05,\n  'liveness': 0.296,\n  'valence': 0.113,\n  'tempo': 76.977,\n  'type': 'audio_features',\n  'id': '6wyhUr4Xw8z5uSy0AhoZfU',\n  'uri': 'spotify:track:6wyhUr4Xw8z5uSy0AhoZfU',\n  'track_href': 'https://api.spotify.com/v1/tracks/6wyhUr4Xw8z5uSy0AhoZfU',\n  'analysis_url': 'https://api.spotify.com/v1/audio-analysis/6wyhUr4Xw8z5uSy0AhoZfU',\n  'duration_ms': 236187,\n  'time_signature': 4},\n {'danceability': 0.609,\n  'energy': 0.799,\n  'key': 9,\n  'loudness': -6.883,\n  'mode': 1,\n  'speechiness': 0.24,\n  'acousticness': 0.33,\n  'instrumentalness': 0,\n  'liveness': 0.108,\n  'valence': 0.582,\n  'tempo': 157.74,\n  'type': 'audio_features',\n  'id': '2Fw5S2gaOSZzdN5dFoC2dj',\n  'uri': 'spotify:track:2Fw5S2gaOSZzdN5dFoC2dj',\n  'track_href': 'https://api.spotify.com/v1/tracks/2Fw5S2gaOSZzdN5dFoC2dj',\n  'analysis_url': 'https://api.spotify.com/v1/audio-analysis/2Fw5S2gaOSZzdN5dFoC2dj',\n  'duration_ms': 215509,\n  'time_signature': 4},\n {'danceability': 0.643,\n  'energy': 0.605,\n  'key': 4,\n  'loudness': -5.968,\n  'mode': 0,\n  'speechiness': 0.297,\n  'acousticness': 0.0336,\n  'instrumentalness': 0,\n  'liveness': 0.112,\n  'valence': 0.145,\n  'tempo': 84.216,\n  'type': 'audio_features',\n  'id': '3ihIZrJreMJPjQdNLrEXnP',\n  'uri': 'spotify:track:3ihIZrJreMJPjQdNLrEXnP',\n  'track_href': 'https://api.spotify.com/v1/tracks/3ihIZrJreMJPjQdNLrEXnP',\n  'analysis_url': 'https://api.spotify.com/v1/audio-analysis/3ihIZrJreMJPjQdNLrEXnP',\n  'duration_ms': 200471,\n  'time_signature': 4},\n {'danceability': 0.905,\n  'energy': 0.563,\n  'key': 8,\n  'loudness': -6.135,\n  'mode': 1,\n  'speechiness': 0.102,\n  'acousticness': 0.0254,\n  'instrumentalness': 9.71e-06,\n  'liveness': 0.113,\n  'valence': 0.324,\n  'tempo': 106.998,\n  'type': 'audio_features',\n  'id': '1rDQ4oMwGJI7B4tovsBOxc',\n  'uri': 'spotify:track:1rDQ4oMwGJI7B4tovsBOxc',\n  'track_href': 'https://api.spotify.com/v1/tracks/1rDQ4oMwGJI7B4tovsBOxc',\n  'analysis_url': 'https://api.spotify.com/v1/audio-analysis/1rDQ4oMwGJI7B4tovsBOxc',\n  'duration_ms': 173948,\n  'time_signature': 4},\n {'danceability': 0.664,\n  'energy': 0.559,\n  'key': 6,\n  'loudness': -7.568,\n  'mode': 0,\n  'speechiness': 0.075,\n  'acousticness': 0.139,\n  'instrumentalness': 0,\n  'liveness': 0.303,\n  'valence': 0.548,\n  'tempo': 153.95,\n  'type': 'audio_features',\n  'id': '31xA2Iti4kb3aMiX75e8Y5',\n  'uri': 'spotify:track:31xA2Iti4kb3aMiX75e8Y5',\n  'track_href': 'https://api.spotify.com/v1/tracks/31xA2Iti4kb3aMiX75e8Y5',\n  'analysis_url': 'https://api.spotify.com/v1/audio-analysis/31xA2Iti4kb3aMiX75e8Y5',\n  'duration_ms': 149611,\n  'time_signature': 4},\n {'danceability': 0.732,\n  'energy': 0.672,\n  'key': 10,\n  'loudness': -8.462,\n  'mode': 0,\n  'speechiness': 0.148,\n  'acousticness': 0.0642,\n  'instrumentalness': 0,\n  'liveness': 0.121,\n  'valence': 0.16,\n  'tempo': 137.03,\n  'type': 'audio_features',\n  'id': '1wNdGz7BlB9kH5lDc1eLLb',\n  'uri': 'spotify:track:1wNdGz7BlB9kH5lDc1eLLb',\n  'track_href': 'https://api.spotify.com/v1/tracks/1wNdGz7BlB9kH5lDc1eLLb',\n  'analysis_url': 'https://api.spotify.com/v1/audio-analysis/1wNdGz7BlB9kH5lDc1eLLb',\n  'duration_ms': 140601,\n  'time_signature': 4},\n {'danceability': 0.741,\n  'energy': 0.788,\n  'key': 2,\n  'loudness': -6.403,\n  'mode': 1,\n  'speechiness': 0.2,\n  'acousticness': 0.00119,\n  'instrumentalness': 0,\n  'liveness': 0.0957,\n  'valence': 0.307,\n  'tempo': 160.03,\n  'type': 'audio_features',\n  'id': '3gOL6mYIq19Oq8raxIntrV',\n  'uri': 'spotify:track:3gOL6mYIq19Oq8raxIntrV',\n  'track_href': 'https://api.spotify.com/v1/tracks/3gOL6mYIq19Oq8raxIntrV',\n  'analysis_url': 'https://api.spotify.com/v1/audio-analysis/3gOL6mYIq19Oq8raxIntrV',\n  'duration_ms': 132987,\n  'time_signature': 4},\n {'danceability': 0.594,\n  'energy': 0.679,\n  'key': 7,\n  'loudness': -3.702,\n  'mode': 1,\n  'speechiness': 0.345,\n  'acousticness': 0.484,\n  'instrumentalness': 7.83e-06,\n  'liveness': 0.114,\n  'valence': 0.66,\n  'tempo': 106.726,\n  'type': 'audio_features',\n  'id': '1dp8aQANyTRKssDeAYPiZe',\n  'uri': 'spotify:track:1dp8aQANyTRKssDeAYPiZe',\n  'track_href': 'https://api.spotify.com/v1/tracks/1dp8aQANyTRKssDeAYPiZe',\n  'analysis_url': 'https://api.spotify.com/v1/audio-analysis/1dp8aQANyTRKssDeAYPiZe',\n  'duration_ms': 152613,\n  'time_signature': 5},\n {'danceability': 0.514,\n  'energy': 0.65,\n  'key': 6,\n  'loudness': -8.867,\n  'mode': 1,\n  'speechiness': 0.499,\n  'acousticness': 0.138,\n  'instrumentalness': 0,\n  'liveness': 0.103,\n  'valence': 0.236,\n  'tempo': 127.428,\n  'type': 'audio_features',\n  'id': '19n0UZuW8AArMVWNztoXu9',\n  'uri': 'spotify:track:19n0UZuW8AArMVWNztoXu9',\n  'track_href': 'https://api.spotify.com/v1/tracks/19n0UZuW8AArMVWNztoXu9',\n  'analysis_url': 'https://api.spotify.com/v1/audio-analysis/19n0UZuW8AArMVWNztoXu9',\n  'duration_ms': 179149,\n  'time_signature': 5},\n {'danceability': 0.795,\n  'energy': 0.526,\n  'key': 6,\n  'loudness': -9.086,\n  'mode': 0,\n  'speechiness': 0.204,\n  'acousticness': 0.067,\n  'instrumentalness': 2e-06,\n  'liveness': 0.134,\n  'valence': 0.194,\n  'tempo': 140.037,\n  'type': 'audio_features',\n  'id': '7ohROa13QK43JBRqfCmz4P',\n  'uri': 'spotify:track:7ohROa13QK43JBRqfCmz4P',\n  'track_href': 'https://api.spotify.com/v1/tracks/7ohROa13QK43JBRqfCmz4P',\n  'analysis_url': 'https://api.spotify.com/v1/audio-analysis/7ohROa13QK43JBRqfCmz4P',\n  'duration_ms': 181393,\n  'time_signature': 4},\n {'danceability': 0.752,\n  'energy': 0.617,\n  'key': 7,\n  'loudness': -5.68,\n  'mode': 1,\n  'speechiness': 0.0544,\n  'acousticness': 0.0319,\n  'instrumentalness': 0,\n  'liveness': 0.261,\n  'valence': 0.137,\n  'tempo': 144.006,\n  'type': 'audio_features',\n  'id': '5KcZNsrl7PMIxJ2xBbTwH3',\n  'uri': 'spotify:track:5KcZNsrl7PMIxJ2xBbTwH3',\n  'track_href': 'https://api.spotify.com/v1/tracks/5KcZNsrl7PMIxJ2xBbTwH3',\n  'analysis_url': 'https://api.spotify.com/v1/audio-analysis/5KcZNsrl7PMIxJ2xBbTwH3',\n  'duration_ms': 188967,\n  'time_signature': 4},\n {'danceability': 0.793,\n  'energy': 0.308,\n  'key': 0,\n  'loudness': -10.414,\n  'mode': 0,\n  'speechiness': 0.0466,\n  'acousticness': 0.613,\n  'instrumentalness': 1.68e-05,\n  'liveness': 0.0953,\n  'valence': 0.46,\n  'tempo': 135.143,\n  'type': 'audio_features',\n  'id': '7Fege3yv4dvehB3NdRBGwI',\n  'uri': 'spotify:track:7Fege3yv4dvehB3NdRBGwI',\n  'track_href': 'https://api.spotify.com/v1/tracks/7Fege3yv4dvehB3NdRBGwI',\n  'analysis_url': 'https://api.spotify.com/v1/audio-analysis/7Fege3yv4dvehB3NdRBGwI',\n  'duration_ms': 200000,\n  'time_signature': 4},\n {'danceability': 0.905,\n  'energy': 0.724,\n  'key': 0,\n  'loudness': -6.255,\n  'mode': 1,\n  'speechiness': 0.237,\n  'acousticness': 0.00813,\n  'instrumentalness': 0,\n  'liveness': 0.329,\n  'valence': 0.361,\n  'tempo': 136.982,\n  'type': 'audio_features',\n  'id': '3p4YmRsO7aOu8PUbwdN3OB',\n  'uri': 'spotify:track:3p4YmRsO7aOu8PUbwdN3OB',\n  'track_href': 'https://api.spotify.com/v1/tracks/3p4YmRsO7aOu8PUbwdN3OB',\n  'analysis_url': 'https://api.spotify.com/v1/audio-analysis/3p4YmRsO7aOu8PUbwdN3OB',\n  'duration_ms': 193480,\n  'time_signature': 4},\n {'danceability': 0.807,\n  'energy': 0.625,\n  'key': 0,\n  'loudness': -6.67,\n  'mode': 1,\n  'speechiness': 0.351,\n  'acousticness': 0.0741,\n  'instrumentalness': 0,\n  'liveness': 0.487,\n  'valence': 0.871,\n  'tempo': 146.031,\n  'type': 'audio_features',\n  'id': '6r9xnueU24r4eoG3HXC87E',\n  'uri': 'spotify:track:6r9xnueU24r4eoG3HXC87E',\n  'track_href': 'https://api.spotify.com/v1/tracks/6r9xnueU24r4eoG3HXC87E',\n  'analysis_url': 'https://api.spotify.com/v1/audio-analysis/6r9xnueU24r4eoG3HXC87E',\n  'duration_ms': 111971,\n  'time_signature': 4},\n {'danceability': 0.776,\n  'energy': 0.671,\n  'key': 9,\n  'loudness': -5.791,\n  'mode': 0,\n  'speechiness': 0.255,\n  'acousticness': 0.123,\n  'instrumentalness': 0,\n  'liveness': 0.0913,\n  'valence': 0.456,\n  'tempo': 147.06,\n  'type': 'audio_features',\n  'id': '2pqu2XTbal0GehjBj2BDkv',\n  'uri': 'spotify:track:2pqu2XTbal0GehjBj2BDkv',\n  'track_href': 'https://api.spotify.com/v1/tracks/2pqu2XTbal0GehjBj2BDkv',\n  'analysis_url': 'https://api.spotify.com/v1/audio-analysis/2pqu2XTbal0GehjBj2BDkv',\n  'duration_ms': 215510,\n  'time_signature': 5},\n {'danceability': 0.684,\n  'energy': 0.545,\n  'key': 1,\n  'loudness': -6.885,\n  'mode': 1,\n  'speechiness': 0.121,\n  'acousticness': 0.159,\n  'instrumentalness': 0,\n  'liveness': 0.102,\n  'valence': 0.407,\n  'tempo': 143.049,\n  'type': 'audio_features',\n  'id': '1HvTxgCj0mTzQlEo0zLvFb',\n  'uri': 'spotify:track:1HvTxgCj0mTzQlEo0zLvFb',\n  'track_href': 'https://api.spotify.com/v1/tracks/1HvTxgCj0mTzQlEo0zLvFb',\n  'analysis_url': 'https://api.spotify.com/v1/audio-analysis/1HvTxgCj0mTzQlEo0zLvFb',\n  'duration_ms': 135264,\n  'time_signature': 4},\n {'danceability': 0.6,\n  'energy': 0.617,\n  'key': 3,\n  'loudness': -6.794,\n  'mode': 0,\n  'speechiness': 0.117,\n  'acousticness': 0.0277,\n  'instrumentalness': 0,\n  'liveness': 0.253,\n  'valence': 0.168,\n  'tempo': 145.805,\n  'type': 'audio_features',\n  'id': '0aJMggmjMva3QFnAbmM2U9',\n  'uri': 'spotify:track:0aJMggmjMva3QFnAbmM2U9',\n  'track_href': 'https://api.spotify.com/v1/tracks/0aJMggmjMva3QFnAbmM2U9',\n  'analysis_url': 'https://api.spotify.com/v1/audio-analysis/0aJMggmjMva3QFnAbmM2U9',\n  'duration_ms': 241644,\n  'time_signature': 4},\n {'danceability': 0.826,\n  'energy': 0.583,\n  'key': 2,\n  'loudness': -5.186,\n  'mode': 0,\n  'speechiness': 0.0626,\n  'acousticness': 0.441,\n  'instrumentalness': 0,\n  'liveness': 0.155,\n  'valence': 0.539,\n  'tempo': 140.039,\n  'type': 'audio_features',\n  'id': '6g6FfeozIEkVUXecpSq16Q',\n  'uri': 'spotify:track:6g6FfeozIEkVUXecpSq16Q',\n  'track_href': 'https://api.spotify.com/v1/tracks/6g6FfeozIEkVUXecpSq16Q',\n  'analysis_url': 'https://api.spotify.com/v1/audio-analysis/6g6FfeozIEkVUXecpSq16Q',\n  'duration_ms': 205759,\n  'time_signature': 4},\n {'danceability': 0.824,\n  'energy': 0.577,\n  'key': 2,\n  'loudness': -9.443,\n  'mode': 1,\n  'speechiness': 0.357,\n  'acousticness': 0.0109,\n  'instrumentalness': 0,\n  'liveness': 0.107,\n  'valence': 0.442,\n  'tempo': 154.081,\n  'type': 'audio_features',\n  'id': '0VlpgNPHWCyh8xxLcaK2fp',\n  'uri': 'spotify:track:0VlpgNPHWCyh8xxLcaK2fp',\n  'track_href': 'https://api.spotify.com/v1/tracks/0VlpgNPHWCyh8xxLcaK2fp',\n  'analysis_url': 'https://api.spotify.com/v1/audio-analysis/0VlpgNPHWCyh8xxLcaK2fp',\n  'duration_ms': 159927,\n  'time_signature': 4},\n {'danceability': 0.677,\n  'energy': 0.558,\n  'key': 8,\n  'loudness': -7.681,\n  'mode': 1,\n  'speechiness': 0.177,\n  'acousticness': 0.167,\n  'instrumentalness': 0,\n  'liveness': 0.365,\n  'valence': 0.384,\n  'tempo': 144.485,\n  'type': 'audio_features',\n  'id': '02WDt2eCNOU2mt0DF5w678',\n  'uri': 'spotify:track:02WDt2eCNOU2mt0DF5w678',\n  'track_href': 'https://api.spotify.com/v1/tracks/02WDt2eCNOU2mt0DF5w678',\n  'analysis_url': 'https://api.spotify.com/v1/audio-analysis/02WDt2eCNOU2mt0DF5w678',\n  'duration_ms': 200426,\n  'time_signature': 4},\n {'danceability': 0.688,\n  'energy': 0.842,\n  'key': 2,\n  'loudness': -4.211,\n  'mode': 1,\n  'speechiness': 0.264,\n  'acousticness': 0.0499,\n  'instrumentalness': 0,\n  'liveness': 0.241,\n  'valence': 0.416,\n  'tempo': 159.897,\n  'type': 'audio_features',\n  'id': '0P2P1AxcRYhiZvoF5MyRmM',\n  'uri': 'spotify:track:0P2P1AxcRYhiZvoF5MyRmM',\n  'track_href': 'https://api.spotify.com/v1/tracks/0P2P1AxcRYhiZvoF5MyRmM',\n  'analysis_url': 'https://api.spotify.com/v1/audio-analysis/0P2P1AxcRYhiZvoF5MyRmM',\n  'duration_ms': 185856,\n  'time_signature': 4},\n {'danceability': 0.744,\n  'energy': 0.608,\n  'key': 2,\n  'loudness': -6.386,\n  'mode': 1,\n  'speechiness': 0.0442,\n  'acousticness': 0.0295,\n  'instrumentalness': 0,\n  'liveness': 0.397,\n  'valence': 0.0692,\n  'tempo': 130.045,\n  'type': 'audio_features',\n  'id': '6OrTKLtcF7EBayOV2QqkSK',\n  'uri': 'spotify:track:6OrTKLtcF7EBayOV2QqkSK',\n  'track_href': 'https://api.spotify.com/v1/tracks/6OrTKLtcF7EBayOV2QqkSK',\n  'analysis_url': 'https://api.spotify.com/v1/audio-analysis/6OrTKLtcF7EBayOV2QqkSK',\n  'duration_ms': 221538,\n  'time_signature': 4},\n {'danceability': 0.711,\n  'energy': 0.64,\n  'key': 6,\n  'loudness': -6.605,\n  'mode': 0,\n  'speechiness': 0.173,\n  'acousticness': 0.133,\n  'instrumentalness': 0,\n  'liveness': 0.125,\n  'valence': 0.579,\n  'tempo': 138.114,\n  'type': 'audio_features',\n  'id': '4CJbchKHZEboLnqQqPszoN',\n  'uri': 'spotify:track:4CJbchKHZEboLnqQqPszoN',\n  'track_href': 'https://api.spotify.com/v1/tracks/4CJbchKHZEboLnqQqPszoN',\n  'analysis_url': 'https://api.spotify.com/v1/audio-analysis/4CJbchKHZEboLnqQqPszoN',\n  'duration_ms': 180870,\n  'time_signature': 4},\n {'danceability': 0.719,\n  'energy': 0.611,\n  'key': 5,\n  'loudness': -7.325,\n  'mode': 0,\n  'speechiness': 0.207,\n  'acousticness': 0.00222,\n  'instrumentalness': 1.3e-06,\n  'liveness': 0.336,\n  'valence': 0.503,\n  'tempo': 144.929,\n  'type': 'audio_features',\n  'id': '4XAQVDjEXZriZR9pe2tdQQ',\n  'uri': 'spotify:track:4XAQVDjEXZriZR9pe2tdQQ',\n  'track_href': 'https://api.spotify.com/v1/tracks/4XAQVDjEXZriZR9pe2tdQQ',\n  'analysis_url': 'https://api.spotify.com/v1/audio-analysis/4XAQVDjEXZriZR9pe2tdQQ',\n  'duration_ms': 226362,\n  'time_signature': 4},\n {'danceability': 0.625,\n  'energy': 0.542,\n  'key': 9,\n  'loudness': -4.365,\n  'mode': 1,\n  'speechiness': 0.266,\n  'acousticness': 0.0223,\n  'instrumentalness': 0,\n  'liveness': 0.377,\n  'valence': 0.328,\n  'tempo': 152.403,\n  'type': 'audio_features',\n  'id': '5QNW6Vx14N4OfJ7D0eDg0d',\n  'uri': 'spotify:track:5QNW6Vx14N4OfJ7D0eDg0d',\n  'track_href': 'https://api.spotify.com/v1/tracks/5QNW6Vx14N4OfJ7D0eDg0d',\n  'analysis_url': 'https://api.spotify.com/v1/audio-analysis/5QNW6Vx14N4OfJ7D0eDg0d',\n  'duration_ms': 209315,\n  'time_signature': 4},\n {'danceability': 0.801,\n  'energy': 0.794,\n  'key': 6,\n  'loudness': -4.674,\n  'mode': 0,\n  'speechiness': 0.315,\n  'acousticness': 0.0771,\n  'instrumentalness': 0,\n  'liveness': 0.204,\n  'valence': 0.757,\n  'tempo': 119.044,\n  'type': 'audio_features',\n  'id': '3KNxJvz0dM6aPb6bVJdyKi',\n  'uri': 'spotify:track:3KNxJvz0dM6aPb6bVJdyKi',\n  'track_href': 'https://api.spotify.com/v1/tracks/3KNxJvz0dM6aPb6bVJdyKi',\n  'analysis_url': 'https://api.spotify.com/v1/audio-analysis/3KNxJvz0dM6aPb6bVJdyKi',\n  'duration_ms': 217815,\n  'time_signature': 4},\n {'danceability': 0.676,\n  'energy': 0.61,\n  'key': 1,\n  'loudness': -9.185,\n  'mode': 1,\n  'speechiness': 0.273,\n  'acousticness': 0.000114,\n  'instrumentalness': 1.73e-06,\n  'liveness': 0.191,\n  'valence': 0.519,\n  'tempo': 156.005,\n  'type': 'audio_features',\n  'id': '54VFhe501kUbDYj2OrueMp',\n  'uri': 'spotify:track:54VFhe501kUbDYj2OrueMp',\n  'track_href': 'https://api.spotify.com/v1/tracks/54VFhe501kUbDYj2OrueMp',\n  'analysis_url': 'https://api.spotify.com/v1/audio-analysis/54VFhe501kUbDYj2OrueMp',\n  'duration_ms': 186538,\n  'time_signature': 4},\n {'danceability': 0.834,\n  'energy': 0.574,\n  'key': 10,\n  'loudness': -6.207,\n  'mode': 0,\n  'speechiness': 0.0716,\n  'acousticness': 0.11,\n  'instrumentalness': 0,\n  'liveness': 0.131,\n  'valence': 0.544,\n  'tempo': 96.999,\n  'type': 'audio_features',\n  'id': '34617Qo6OTu44BEEg2f9uG',\n  'uri': 'spotify:track:34617Qo6OTu44BEEg2f9uG',\n  'track_href': 'https://api.spotify.com/v1/tracks/34617Qo6OTu44BEEg2f9uG',\n  'analysis_url': 'https://api.spotify.com/v1/audio-analysis/34617Qo6OTu44BEEg2f9uG',\n  'duration_ms': 160257,\n  'time_signature': 4},\n {'danceability': 0.895,\n  'energy': 0.468,\n  'key': 0,\n  'loudness': -5.777,\n  'mode': 0,\n  'speechiness': 0.378,\n  'acousticness': 0.342,\n  'instrumentalness': 0,\n  'liveness': 0.213,\n  'valence': 0.428,\n  'tempo': 118.019,\n  'type': 'audio_features',\n  'id': '08hYZJIjLZwUVDiMzzeu0q',\n  'uri': 'spotify:track:08hYZJIjLZwUVDiMzzeu0q',\n  'track_href': 'https://api.spotify.com/v1/tracks/08hYZJIjLZwUVDiMzzeu0q',\n  'analysis_url': 'https://api.spotify.com/v1/audio-analysis/08hYZJIjLZwUVDiMzzeu0q',\n  'duration_ms': 174915,\n  'time_signature': 4},\n {'danceability': 0.862,\n  'energy': 0.547,\n  'key': 8,\n  'loudness': -9.557,\n  'mode': 1,\n  'speechiness': 0.333,\n  'acousticness': 0.144,\n  'instrumentalness': 0,\n  'liveness': 0.0691,\n  'valence': 0.645,\n  'tempo': 145.191,\n  'type': 'audio_features',\n  'id': '70jjParnrP2X3mOVkoljGE',\n  'uri': 'spotify:track:70jjParnrP2X3mOVkoljGE',\n  'track_href': 'https://api.spotify.com/v1/tracks/70jjParnrP2X3mOVkoljGE',\n  'analysis_url': 'https://api.spotify.com/v1/audio-analysis/70jjParnrP2X3mOVkoljGE',\n  'duration_ms': 226759,\n  'time_signature': 4},\n {'danceability': 0.787,\n  'energy': 0.522,\n  'key': 8,\n  'loudness': -5.872,\n  'mode': 1,\n  'speechiness': 0.463,\n  'acousticness': 0.0668,\n  'instrumentalness': 0,\n  'liveness': 0.108,\n  'valence': 0.666,\n  'tempo': 170.439,\n  'type': 'audio_features',\n  'id': '2PljnVsnl2PRwCvfhbdQup',\n  'uri': 'spotify:track:2PljnVsnl2PRwCvfhbdQup',\n  'track_href': 'https://api.spotify.com/v1/tracks/2PljnVsnl2PRwCvfhbdQup',\n  'analysis_url': 'https://api.spotify.com/v1/audio-analysis/2PljnVsnl2PRwCvfhbdQup',\n  'duration_ms': 163765,\n  'time_signature': 4},\n {'danceability': 0.644,\n  'energy': 0.671,\n  'key': 11,\n  'loudness': -5.156,\n  'mode': 0,\n  'speechiness': 0.315,\n  'acousticness': 0.0225,\n  'instrumentalness': 0,\n  'liveness': 0.0855,\n  'valence': 0.563,\n  'tempo': 132.001,\n  'type': 'audio_features',\n  'id': '5vhrsx08dHh2QcVh1Rsiwt',\n  'uri': 'spotify:track:5vhrsx08dHh2QcVh1Rsiwt',\n  'track_href': 'https://api.spotify.com/v1/tracks/5vhrsx08dHh2QcVh1Rsiwt',\n  'analysis_url': 'https://api.spotify.com/v1/audio-analysis/5vhrsx08dHh2QcVh1Rsiwt',\n  'duration_ms': 250723,\n  'time_signature': 4},\n {'danceability': 0.911,\n  'energy': 0.667,\n  'key': 1,\n  'loudness': -6.606,\n  'mode': 1,\n  'speechiness': 0.277,\n  'acousticness': 0.0313,\n  'instrumentalness': 0,\n  'liveness': 0.0854,\n  'valence': 0.78,\n  'tempo': 147.976,\n  'type': 'audio_features',\n  'id': '2BxboWjnfktO1E9HGfPXq1',\n  'uri': 'spotify:track:2BxboWjnfktO1E9HGfPXq1',\n  'track_href': 'https://api.spotify.com/v1/tracks/2BxboWjnfktO1E9HGfPXq1',\n  'analysis_url': 'https://api.spotify.com/v1/audio-analysis/2BxboWjnfktO1E9HGfPXq1',\n  'duration_ms': 170270,\n  'time_signature': 4},\n {'danceability': 0.916,\n  'energy': 0.824,\n  'key': 8,\n  'loudness': -4.444,\n  'mode': 0,\n  'speechiness': 0.422,\n  'acousticness': 0.222,\n  'instrumentalness': 0.00108,\n  'liveness': 0.0661,\n  'valence': 0.87,\n  'tempo': 139.926,\n  'type': 'audio_features',\n  'id': '7LczcBaamU9pTkV4Cl9NyX',\n  'uri': 'spotify:track:7LczcBaamU9pTkV4Cl9NyX',\n  'track_href': 'https://api.spotify.com/v1/tracks/7LczcBaamU9pTkV4Cl9NyX',\n  'analysis_url': 'https://api.spotify.com/v1/audio-analysis/7LczcBaamU9pTkV4Cl9NyX',\n  'duration_ms': 178413,\n  'time_signature': 4},\n {'danceability': 0.747,\n  'energy': 0.665,\n  'key': 5,\n  'loudness': -7.197,\n  'mode': 0,\n  'speechiness': 0.167,\n  'acousticness': 0.0783,\n  'instrumentalness': 1.58e-06,\n  'liveness': 0.786,\n  'valence': 0.76,\n  'tempo': 144.013,\n  'type': 'audio_features',\n  'id': '3z8OCUCuwJop3DB4tIMsRX',\n  'uri': 'spotify:track:3z8OCUCuwJop3DB4tIMsRX',\n  'track_href': 'https://api.spotify.com/v1/tracks/3z8OCUCuwJop3DB4tIMsRX',\n  'analysis_url': 'https://api.spotify.com/v1/audio-analysis/3z8OCUCuwJop3DB4tIMsRX',\n  'duration_ms': 154881,\n  'time_signature': 4},\n {'danceability': 0.941,\n  'energy': 0.514,\n  'key': 1,\n  'loudness': -6.778,\n  'mode': 1,\n  'speechiness': 0.329,\n  'acousticness': 0.153,\n  'instrumentalness': 1.82e-06,\n  'liveness': 0.104,\n  'valence': 0.573,\n  'tempo': 126.046,\n  'type': 'audio_features',\n  'id': '41jxlPqpPqiky977DkJrpY',\n  'uri': 'spotify:track:41jxlPqpPqiky977DkJrpY',\n  'track_href': 'https://api.spotify.com/v1/tracks/41jxlPqpPqiky977DkJrpY',\n  'analysis_url': 'https://api.spotify.com/v1/audio-analysis/41jxlPqpPqiky977DkJrpY',\n  'duration_ms': 185213,\n  'time_signature': 4},\n {'danceability': 0.87,\n  'energy': 0.835,\n  'key': 1,\n  'loudness': -5.875,\n  'mode': 1,\n  'speechiness': 0.311,\n  'acousticness': 0.0353,\n  'instrumentalness': 0,\n  'liveness': 0.142,\n  'valence': 0.901,\n  'tempo': 140.051,\n  'type': 'audio_features',\n  'id': '0RkCnqwF8Tfl2QGPZwopyk',\n  'uri': 'spotify:track:0RkCnqwF8Tfl2QGPZwopyk',\n  'track_href': 'https://api.spotify.com/v1/tracks/0RkCnqwF8Tfl2QGPZwopyk',\n  'analysis_url': 'https://api.spotify.com/v1/audio-analysis/0RkCnqwF8Tfl2QGPZwopyk',\n  'duration_ms': 118249,\n  'time_signature': 4},\n {'danceability': 0.883,\n  'energy': 0.507,\n  'key': 1,\n  'loudness': -7.188,\n  'mode': 0,\n  'speechiness': 0.244,\n  'acousticness': 0.366,\n  'instrumentalness': 0,\n  'liveness': 0.136,\n  'valence': 0.294,\n  'tempo': 138.008,\n  'type': 'audio_features',\n  'id': '4wJKTG3bAleqUXmylh83Id',\n  'uri': 'spotify:track:4wJKTG3bAleqUXmylh83Id',\n  'track_href': 'https://api.spotify.com/v1/tracks/4wJKTG3bAleqUXmylh83Id',\n  'analysis_url': 'https://api.spotify.com/v1/audio-analysis/4wJKTG3bAleqUXmylh83Id',\n  'duration_ms': 157777,\n  'time_signature': 4},\n {'danceability': 0.707,\n  'energy': 0.909,\n  'key': 2,\n  'loudness': -3.501,\n  'mode': 1,\n  'speechiness': 0.261,\n  'acousticness': 0.413,\n  'instrumentalness': 0,\n  'liveness': 0.305,\n  'valence': 0.703,\n  'tempo': 145.014,\n  'type': 'audio_features',\n  'id': '3zQ61IRdlSbEyYQlwQZZxS',\n  'uri': 'spotify:track:3zQ61IRdlSbEyYQlwQZZxS',\n  'track_href': 'https://api.spotify.com/v1/tracks/3zQ61IRdlSbEyYQlwQZZxS',\n  'analysis_url': 'https://api.spotify.com/v1/audio-analysis/3zQ61IRdlSbEyYQlwQZZxS',\n  'duration_ms': 255189,\n  'time_signature': 4},\n {'danceability': 0.693,\n  'energy': 0.575,\n  'key': 2,\n  'loudness': -7.633,\n  'mode': 1,\n  'speechiness': 0.0906,\n  'acousticness': 0.121,\n  'instrumentalness': 0,\n  'liveness': 0.104,\n  'valence': 0.353,\n  'tempo': 138.016,\n  'type': 'audio_features',\n  'id': '7BbaIYAdi3pg4MGl6PHwPv',\n  'uri': 'spotify:track:7BbaIYAdi3pg4MGl6PHwPv',\n  'track_href': 'https://api.spotify.com/v1/tracks/7BbaIYAdi3pg4MGl6PHwPv',\n  'analysis_url': 'https://api.spotify.com/v1/audio-analysis/7BbaIYAdi3pg4MGl6PHwPv',\n  'duration_ms': 160052,\n  'time_signature': 4},\n {'danceability': 0.593,\n  'energy': 0.818,\n  'key': 11,\n  'loudness': -5.332,\n  'mode': 1,\n  'speechiness': 0.306,\n  'acousticness': 0.00207,\n  'instrumentalness': 7.57e-06,\n  'liveness': 0.291,\n  'valence': 0.385,\n  'tempo': 162.036,\n  'type': 'audio_features',\n  'id': '6ZjP85QdIaiTojLrKixvbT',\n  'uri': 'spotify:track:6ZjP85QdIaiTojLrKixvbT',\n  'track_href': 'https://api.spotify.com/v1/tracks/6ZjP85QdIaiTojLrKixvbT',\n  'analysis_url': 'https://api.spotify.com/v1/audio-analysis/6ZjP85QdIaiTojLrKixvbT',\n  'duration_ms': 141934,\n  'time_signature': 4},\n {'danceability': 0.671,\n  'energy': 0.857,\n  'key': 7,\n  'loudness': -5.435,\n  'mode': 1,\n  'speechiness': 0.292,\n  'acousticness': 0.266,\n  'instrumentalness': 0,\n  'liveness': 0.668,\n  'valence': 0.597,\n  'tempo': 118.574,\n  'type': 'audio_features',\n  'id': '1BzXvBpIFWJgu0P8P6xmP4',\n  'uri': 'spotify:track:1BzXvBpIFWJgu0P8P6xmP4',\n  'track_href': 'https://api.spotify.com/v1/tracks/1BzXvBpIFWJgu0P8P6xmP4',\n  'analysis_url': 'https://api.spotify.com/v1/audio-analysis/1BzXvBpIFWJgu0P8P6xmP4',\n  'duration_ms': 309323,\n  'time_signature': 4},\n {'danceability': 0.732,\n  'energy': 0.734,\n  'key': 11,\n  'loudness': -7.968,\n  'mode': 1,\n  'speechiness': 0.0974,\n  'acousticness': 0.136,\n  'instrumentalness': 0.000901,\n  'liveness': 0.165,\n  'valence': 0.488,\n  'tempo': 145.722,\n  'type': 'audio_features',\n  'id': '6f44p3Kc4ayD9VtbC9Clkr',\n  'uri': 'spotify:track:6f44p3Kc4ayD9VtbC9Clkr',\n  'track_href': 'https://api.spotify.com/v1/tracks/6f44p3Kc4ayD9VtbC9Clkr',\n  'analysis_url': 'https://api.spotify.com/v1/audio-analysis/6f44p3Kc4ayD9VtbC9Clkr',\n  'duration_ms': 199500,\n  'time_signature': 4},\n {'danceability': 0.654,\n  'energy': 0.929,\n  'key': 1,\n  'loudness': -5.906,\n  'mode': 1,\n  'speechiness': 0.0998,\n  'acousticness': 0.0468,\n  'instrumentalness': 0,\n  'liveness': 0.0539,\n  'valence': 0.902,\n  'tempo': 144.774,\n  'type': 'audio_features',\n  'id': '6KTv0Z8BmVqM7DPxbGzpVC',\n  'uri': 'spotify:track:6KTv0Z8BmVqM7DPxbGzpVC',\n  'track_href': 'https://api.spotify.com/v1/tracks/6KTv0Z8BmVqM7DPxbGzpVC',\n  'analysis_url': 'https://api.spotify.com/v1/audio-analysis/6KTv0Z8BmVqM7DPxbGzpVC',\n  'duration_ms': 168840,\n  'time_signature': 4},\n {'danceability': 0.315,\n  'energy': 0.715,\n  'key': 11,\n  'loudness': -8.072,\n  'mode': 0,\n  'speechiness': 0.0362,\n  'acousticness': 0.00125,\n  'instrumentalness': 7.97e-06,\n  'liveness': 0.0942,\n  'valence': 0.497,\n  'tempo': 155.925,\n  'type': 'audio_features',\n  'id': '6Qyc6fS4DsZjB2mRW9DsQs',\n  'uri': 'spotify:track:6Qyc6fS4DsZjB2mRW9DsQs',\n  'track_href': 'https://api.spotify.com/v1/tracks/6Qyc6fS4DsZjB2mRW9DsQs',\n  'analysis_url': 'https://api.spotify.com/v1/audio-analysis/6Qyc6fS4DsZjB2mRW9DsQs',\n  'duration_ms': 289533,\n  'time_signature': 3},\n {'danceability': 0.625,\n  'energy': 0.939,\n  'key': 4,\n  'loudness': -3.115,\n  'mode': 0,\n  'speechiness': 0.0669,\n  'acousticness': 0.00138,\n  'instrumentalness': 0,\n  'liveness': 0.424,\n  'valence': 0.644,\n  'tempo': 102.999,\n  'type': 'audio_features',\n  'id': '776AftMmFFAWUIEAb3lHhw',\n  'uri': 'spotify:track:776AftMmFFAWUIEAb3lHhw',\n  'track_href': 'https://api.spotify.com/v1/tracks/776AftMmFFAWUIEAb3lHhw',\n  'analysis_url': 'https://api.spotify.com/v1/audio-analysis/776AftMmFFAWUIEAb3lHhw',\n  'duration_ms': 194787,\n  'time_signature': 4},\n {'danceability': 0.574,\n  'energy': 0.913,\n  'key': 6,\n  'loudness': -4.793,\n  'mode': 0,\n  'speechiness': 0.133,\n  'acousticness': 0.061,\n  'instrumentalness': 0.00158,\n  'liveness': 0.156,\n  'valence': 0.423,\n  'tempo': 115.728,\n  'type': 'audio_features',\n  'id': '2zYzyRzz6pRmhPzyfMEC8s',\n  'uri': 'spotify:track:2zYzyRzz6pRmhPzyfMEC8s',\n  'track_href': 'https://api.spotify.com/v1/tracks/2zYzyRzz6pRmhPzyfMEC8s',\n  'analysis_url': 'https://api.spotify.com/v1/audio-analysis/2zYzyRzz6pRmhPzyfMEC8s',\n  'duration_ms': 208400,\n  'time_signature': 4},\n {'danceability': 0.489,\n  'energy': 0.918,\n  'key': 1,\n  'loudness': -4.502,\n  'mode': 1,\n  'speechiness': 0.0554,\n  'acousticness': 3.53e-05,\n  'instrumentalness': 7.64e-05,\n  'liveness': 0.0908,\n  'valence': 0.691,\n  'tempo': 116.731,\n  'type': 'audio_features',\n  'id': '0gucTLf7trAf37Ua1uAyAu',\n  'uri': 'spotify:track:0gucTLf7trAf37Ua1uAyAu',\n  'track_href': 'https://api.spotify.com/v1/tracks/0gucTLf7trAf37Ua1uAyAu',\n  'analysis_url': 'https://api.spotify.com/v1/audio-analysis/0gucTLf7trAf37Ua1uAyAu',\n  'duration_ms': 300893,\n  'time_signature': 4},\n {'danceability': 0.743,\n  'energy': 0.446,\n  'key': 4,\n  'loudness': -7.807,\n  'mode': 0,\n  'speechiness': 0.0683,\n  'acousticness': 0.0039,\n  'instrumentalness': 0.118,\n  'liveness': 0.337,\n  'valence': 0.278,\n  'tempo': 123.596,\n  'type': 'audio_features',\n  'id': '3dPQuX8Gs42Y7b454ybpMR',\n  'uri': 'spotify:track:3dPQuX8Gs42Y7b454ybpMR',\n  'track_href': 'https://api.spotify.com/v1/tracks/3dPQuX8Gs42Y7b454ybpMR',\n  'analysis_url': 'https://api.spotify.com/v1/audio-analysis/3dPQuX8Gs42Y7b454ybpMR',\n  'duration_ms': 232107,\n  'time_signature': 4},\n {'danceability': 0.255,\n  'energy': 0.393,\n  'key': 5,\n  'loudness': -10.654,\n  'mode': 1,\n  'speechiness': 0.0278,\n  'acousticness': 0.0577,\n  'instrumentalness': 0.00361,\n  'liveness': 0.113,\n  'valence': 0.118,\n  'tempo': 76.426,\n  'type': 'audio_features',\n  'id': '10nyNJ6zNy2YVYLrcwLccB',\n  'uri': 'spotify:track:10nyNJ6zNy2YVYLrcwLccB',\n  'track_href': 'https://api.spotify.com/v1/tracks/10nyNJ6zNy2YVYLrcwLccB',\n  'analysis_url': 'https://api.spotify.com/v1/audio-analysis/10nyNJ6zNy2YVYLrcwLccB',\n  'duration_ms': 229120,\n  'time_signature': 4},\n {'danceability': 0.331,\n  'energy': 0.55,\n  'key': 0,\n  'loudness': -6.483,\n  'mode': 1,\n  'speechiness': 0.0272,\n  'acousticness': 0.605,\n  'instrumentalness': 3.96e-06,\n  'liveness': 0.192,\n  'valence': 0.429,\n  'tempo': 177.734,\n  'type': 'audio_features',\n  'id': '70C4NyhjD5OZUMzvWZ3njJ',\n  'uri': 'spotify:track:70C4NyhjD5OZUMzvWZ3njJ',\n  'track_href': 'https://api.spotify.com/v1/tracks/70C4NyhjD5OZUMzvWZ3njJ',\n  'analysis_url': 'https://api.spotify.com/v1/audio-analysis/70C4NyhjD5OZUMzvWZ3njJ',\n  'duration_ms': 339000,\n  'time_signature': 3},\n {'danceability': 0.82,\n  'energy': 0.452,\n  'key': 1,\n  'loudness': -9.796,\n  'mode': 1,\n  'speechiness': 0.0348,\n  'acousticness': 0.543,\n  'instrumentalness': 0.00294,\n  'liveness': 0.0714,\n  'valence': 0.74,\n  'tempo': 117.401,\n  'type': 'audio_features',\n  'id': '1JSTJqkT5qHq8MDJnJbRE1',\n  'uri': 'spotify:track:1JSTJqkT5qHq8MDJnJbRE1',\n  'track_href': 'https://api.spotify.com/v1/tracks/1JSTJqkT5qHq8MDJnJbRE1',\n  'analysis_url': 'https://api.spotify.com/v1/audio-analysis/1JSTJqkT5qHq8MDJnJbRE1',\n  'duration_ms': 253920,\n  'time_signature': 4},\n {'danceability': 0.743,\n  'energy': 0.836,\n  'key': 2,\n  'loudness': -6.465,\n  'mode': 1,\n  'speechiness': 0.116,\n  'acousticness': 0.0804,\n  'instrumentalness': 0,\n  'liveness': 0.384,\n  'valence': 0.82,\n  'tempo': 113.375,\n  'type': 'audio_features',\n  'id': '39shmbIHICJ2Wxnk1fPSdz',\n  'uri': 'spotify:track:39shmbIHICJ2Wxnk1fPSdz',\n  'track_href': 'https://api.spotify.com/v1/tracks/39shmbIHICJ2Wxnk1fPSdz',\n  'analysis_url': 'https://api.spotify.com/v1/audio-analysis/39shmbIHICJ2Wxnk1fPSdz',\n  'duration_ms': 188987,\n  'time_signature': 4},\n {'danceability': 0.338,\n  'energy': 0.34,\n  'key': 9,\n  'loudness': -12.049,\n  'mode': 0,\n  'speechiness': 0.0339,\n  'acousticness': 0.58,\n  'instrumentalness': 0.0032,\n  'liveness': 0.116,\n  'valence': 0.197,\n  'tempo': 82.433,\n  'type': 'audio_features',\n  'id': '5CQ30WqJwcep0pYcV4AMNc',\n  'uri': 'spotify:track:5CQ30WqJwcep0pYcV4AMNc',\n  'track_href': 'https://api.spotify.com/v1/tracks/5CQ30WqJwcep0pYcV4AMNc',\n  'analysis_url': 'https://api.spotify.com/v1/audio-analysis/5CQ30WqJwcep0pYcV4AMNc',\n  'duration_ms': 482830,\n  'time_signature': 4},\n {'danceability': 0.256,\n  'energy': 0.641,\n  'key': 1,\n  'loudness': -10.283,\n  'mode': 1,\n  'speechiness': 0.0552,\n  'acousticness': 0.199,\n  'instrumentalness': 0.0329,\n  'liveness': 0.0853,\n  'valence': 0.382,\n  'tempo': 203.006,\n  'type': 'audio_features',\n  'id': '11LmqTE2naFULdEP94AUBa',\n  'uri': 'spotify:track:11LmqTE2naFULdEP94AUBa',\n  'track_href': 'https://api.spotify.com/v1/tracks/11LmqTE2naFULdEP94AUBa',\n  'analysis_url': 'https://api.spotify.com/v1/audio-analysis/11LmqTE2naFULdEP94AUBa',\n  'duration_ms': 281160,\n  'time_signature': 4},\n {'danceability': 0.532,\n  'energy': 0.887,\n  'key': 0,\n  'loudness': -3.757,\n  'mode': 1,\n  'speechiness': 0.0335,\n  'acousticness': 0.0778,\n  'instrumentalness': 0.000214,\n  'liveness': 0.294,\n  'valence': 0.795,\n  'tempo': 122.511,\n  'type': 'audio_features',\n  'id': '37ZJ0p5Jm13JPevGcx4SkF',\n  'uri': 'spotify:track:37ZJ0p5Jm13JPevGcx4SkF',\n  'track_href': 'https://api.spotify.com/v1/tracks/37ZJ0p5Jm13JPevGcx4SkF',\n  'analysis_url': 'https://api.spotify.com/v1/audio-analysis/37ZJ0p5Jm13JPevGcx4SkF',\n  'duration_ms': 249293,\n  'time_signature': 4},\n {'danceability': 0.532,\n  'energy': 0.767,\n  'key': 7,\n  'loudness': -5.509,\n  'mode': 1,\n  'speechiness': 0.0574,\n  'acousticness': 0.00287,\n  'instrumentalness': 0.000513,\n  'liveness': 0.39,\n  'valence': 0.755,\n  'tempo': 127.361,\n  'type': 'audio_features',\n  'id': '2SiXAy7TuUkycRVbbWDEpo',\n  'uri': 'spotify:track:2SiXAy7TuUkycRVbbWDEpo',\n  'track_href': 'https://api.spotify.com/v1/tracks/2SiXAy7TuUkycRVbbWDEpo',\n  'analysis_url': 'https://api.spotify.com/v1/audio-analysis/2SiXAy7TuUkycRVbbWDEpo',\n  'duration_ms': 210173,\n  'time_signature': 4},\n {'danceability': 0.5,\n  'energy': 0.748,\n  'key': 4,\n  'loudness': -9.072,\n  'mode': 1,\n  'speechiness': 0.0363,\n  'acousticness': 0.127,\n  'instrumentalness': 0,\n  'liveness': 0.447,\n  'valence': 0.514,\n  'tempo': 118.852,\n  'type': 'audio_features',\n  'id': '4bHsxqR3GMrXTxEPLuK5ue',\n  'uri': 'spotify:track:4bHsxqR3GMrXTxEPLuK5ue',\n  'track_href': 'https://api.spotify.com/v1/tracks/4bHsxqR3GMrXTxEPLuK5ue',\n  'analysis_url': 'https://api.spotify.com/v1/audio-analysis/4bHsxqR3GMrXTxEPLuK5ue',\n  'duration_ms': 250987,\n  'time_signature': 4},\n {'danceability': 0.414,\n  'energy': 0.404,\n  'key': 0,\n  'loudness': -9.928,\n  'mode': 0,\n  'speechiness': 0.0499,\n  'acousticness': 0.271,\n  'instrumentalness': 0,\n  'liveness': 0.3,\n  'valence': 0.224,\n  'tempo': 71.105,\n  'type': 'audio_features',\n  'id': '4u7EnebtmKWzUH433cf5Qv',\n  'uri': 'spotify:track:4u7EnebtmKWzUH433cf5Qv',\n  'track_href': 'https://api.spotify.com/v1/tracks/4u7EnebtmKWzUH433cf5Qv',\n  'analysis_url': 'https://api.spotify.com/v1/audio-analysis/4u7EnebtmKWzUH433cf5Qv',\n  'duration_ms': 354320,\n  'time_signature': 4},\n {'danceability': 0.533,\n  'energy': 0.376,\n  'key': 9,\n  'loudness': -11.913,\n  'mode': 0,\n  'speechiness': 0.0393,\n  'acousticness': 0.0302,\n  'instrumentalness': 0.248,\n  'liveness': 0.0926,\n  'valence': 0.187,\n  'tempo': 165.007,\n  'type': 'audio_features',\n  'id': '2EqlS6tkEnglzr7tkKAAYD',\n  'uri': 'spotify:track:2EqlS6tkEnglzr7tkKAAYD',\n  'track_href': 'https://api.spotify.com/v1/tracks/2EqlS6tkEnglzr7tkKAAYD',\n  'analysis_url': 'https://api.spotify.com/v1/audio-analysis/2EqlS6tkEnglzr7tkKAAYD',\n  'duration_ms': 259947,\n  'time_signature': 4},\n {'danceability': 0.273,\n  'energy': 0.952,\n  'key': 11,\n  'loudness': -8.762,\n  'mode': 1,\n  'speechiness': 0.0843,\n  'acousticness': 0.0169,\n  'instrumentalness': 0.0111,\n  'liveness': 0.142,\n  'valence': 0.472,\n  'tempo': 100.271,\n  'type': 'audio_features',\n  'id': '3YBZIN3rekqsKxbJc9FZko',\n  'uri': 'spotify:track:3YBZIN3rekqsKxbJc9FZko',\n  'track_href': 'https://api.spotify.com/v1/tracks/3YBZIN3rekqsKxbJc9FZko',\n  'analysis_url': 'https://api.spotify.com/v1/audio-analysis/3YBZIN3rekqsKxbJc9FZko',\n  'duration_ms': 405640,\n  'time_signature': 4},\n {'danceability': 0.572,\n  'energy': 0.835,\n  'key': 0,\n  'loudness': -6.219,\n  'mode': 1,\n  'speechiness': 0.0317,\n  'acousticness': 0.171,\n  'instrumentalness': 0.000377,\n  'liveness': 0.0702,\n  'valence': 0.795,\n  'tempo': 129.981,\n  'type': 'audio_features',\n  'id': '7N3PAbqfTjSEU1edb2tY8j',\n  'uri': 'spotify:track:7N3PAbqfTjSEU1edb2tY8j',\n  'track_href': 'https://api.spotify.com/v1/tracks/7N3PAbqfTjSEU1edb2tY8j',\n  'analysis_url': 'https://api.spotify.com/v1/audio-analysis/7N3PAbqfTjSEU1edb2tY8j',\n  'duration_ms': 241600,\n  'time_signature': 4},\n {'danceability': 0.768,\n  'energy': 0.852,\n  'key': 4,\n  'loudness': -6.215,\n  'mode': 1,\n  'speechiness': 0.038,\n  'acousticness': 0.214,\n  'instrumentalness': 7.36e-05,\n  'liveness': 0.0723,\n  'valence': 0.867,\n  'tempo': 128.373,\n  'type': 'audio_features',\n  'id': '07q0QVgO56EorrSGHC48y3',\n  'uri': 'spotify:track:07q0QVgO56EorrSGHC48y3',\n  'track_href': 'https://api.spotify.com/v1/tracks/07q0QVgO56EorrSGHC48y3',\n  'analysis_url': 'https://api.spotify.com/v1/audio-analysis/07q0QVgO56EorrSGHC48y3',\n  'duration_ms': 271240,\n  'time_signature': 4},\n {'danceability': 0.541,\n  'energy': 0.907,\n  'key': 4,\n  'loudness': -4.512,\n  'mode': 1,\n  'speechiness': 0.0642,\n  'acousticness': 0.0158,\n  'instrumentalness': 0.000185,\n  'liveness': 0.34,\n  'valence': 0.434,\n  'tempo': 80.029,\n  'type': 'audio_features',\n  'id': '3IyCL4Em1GOpNGDf451Hg1',\n  'uri': 'spotify:track:3IyCL4Em1GOpNGDf451Hg1',\n  'track_href': 'https://api.spotify.com/v1/tracks/3IyCL4Em1GOpNGDf451Hg1',\n  'analysis_url': 'https://api.spotify.com/v1/audio-analysis/3IyCL4Em1GOpNGDf451Hg1',\n  'duration_ms': 187653,\n  'time_signature': 4},\n {'danceability': 0.454,\n  'energy': 0.913,\n  'key': 9,\n  'loudness': -4.008,\n  'mode': 1,\n  'speechiness': 0.107,\n  'acousticness': 0.408,\n  'instrumentalness': 0.000271,\n  'liveness': 0.248,\n  'valence': 0.521,\n  'tempo': 137.688,\n  'type': 'audio_features',\n  'id': '7ACxUo21jtTHzy7ZEV56vU',\n  'uri': 'spotify:track:7ACxUo21jtTHzy7ZEV56vU',\n  'track_href': 'https://api.spotify.com/v1/tracks/7ACxUo21jtTHzy7ZEV56vU',\n  'analysis_url': 'https://api.spotify.com/v1/audio-analysis/7ACxUo21jtTHzy7ZEV56vU',\n  'duration_ms': 293183,\n  'time_signature': 4},\n {'danceability': 0.496,\n  'energy': 0.863,\n  'key': 9,\n  'loudness': -4.153,\n  'mode': 1,\n  'speechiness': 0.0381,\n  'acousticness': 0.0046,\n  'instrumentalness': 0,\n  'liveness': 0.639,\n  'valence': 0.243,\n  'tempo': 110.018,\n  'type': 'audio_features',\n  'id': '2nLtzopw4rPReszdYBJU6h',\n  'uri': 'spotify:track:2nLtzopw4rPReszdYBJU6h',\n  'track_href': 'https://api.spotify.com/v1/tracks/2nLtzopw4rPReszdYBJU6h',\n  'analysis_url': 'https://api.spotify.com/v1/audio-analysis/2nLtzopw4rPReszdYBJU6h',\n  'duration_ms': 185587,\n  'time_signature': 4},\n {'danceability': 0.462,\n  'energy': 0.836,\n  'key': 11,\n  'loudness': -5.766,\n  'mode': 0,\n  'speechiness': 0.0621,\n  'acousticness': 0.00517,\n  'instrumentalness': 0,\n  'liveness': 0.18,\n  'valence': 0.671,\n  'tempo': 168.766,\n  'type': 'audio_features',\n  'id': '1QFh8OH1e78dGd3VyJZCAC',\n  'uri': 'spotify:track:1QFh8OH1e78dGd3VyJZCAC',\n  'track_href': 'https://api.spotify.com/v1/tracks/1QFh8OH1e78dGd3VyJZCAC',\n  'analysis_url': 'https://api.spotify.com/v1/audio-analysis/1QFh8OH1e78dGd3VyJZCAC',\n  'duration_ms': 155973,\n  'time_signature': 4},\n {'danceability': 0.393,\n  'energy': 0.433,\n  'key': 5,\n  'loudness': -10.045,\n  'mode': 0,\n  'speechiness': 0.0255,\n  'acousticness': 0.39,\n  'instrumentalness': 8.41e-05,\n  'liveness': 0.234,\n  'valence': 0.238,\n  'tempo': 79.588,\n  'type': 'audio_features',\n  'id': '3tAQNhm1o0kzldsI5QkrB1',\n  'uri': 'spotify:track:3tAQNhm1o0kzldsI5QkrB1',\n  'track_href': 'https://api.spotify.com/v1/tracks/3tAQNhm1o0kzldsI5QkrB1',\n  'analysis_url': 'https://api.spotify.com/v1/audio-analysis/3tAQNhm1o0kzldsI5QkrB1',\n  'duration_ms': 267307,\n  'time_signature': 4},\n {'danceability': 0.519,\n  'energy': 0.441,\n  'key': 4,\n  'loudness': -14.178,\n  'mode': 1,\n  'speechiness': 0.0353,\n  'acousticness': 0.0204,\n  'instrumentalness': 0.000453,\n  'liveness': 0.076,\n  'valence': 0.25,\n  'tempo': 81.334,\n  'type': 'audio_features',\n  'id': '7wCmS9TTVUcIhRalDYFgPy',\n  'uri': 'spotify:track:7wCmS9TTVUcIhRalDYFgPy',\n  'track_href': 'https://api.spotify.com/v1/tracks/7wCmS9TTVUcIhRalDYFgPy',\n  'analysis_url': 'https://api.spotify.com/v1/audio-analysis/7wCmS9TTVUcIhRalDYFgPy',\n  'duration_ms': 234973,\n  'time_signature': 4},\n {'danceability': 0.542,\n  'energy': 0.905,\n  'key': 9,\n  'loudness': -5.653,\n  'mode': 1,\n  'speechiness': 0.054,\n  'acousticness': 0.00172,\n  'instrumentalness': 0.0104,\n  'liveness': 0.136,\n  'valence': 0.374,\n  'tempo': 153.398,\n  'type': 'audio_features',\n  'id': '0ntQJM78wzOLVeCUAW7Y45',\n  'uri': 'spotify:track:0ntQJM78wzOLVeCUAW7Y45',\n  'track_href': 'https://api.spotify.com/v1/tracks/0ntQJM78wzOLVeCUAW7Y45',\n  'analysis_url': 'https://api.spotify.com/v1/audio-analysis/0ntQJM78wzOLVeCUAW7Y45',\n  'duration_ms': 203347,\n  'time_signature': 4},\n {'danceability': 0.387,\n  'energy': 0.929,\n  'key': 7,\n  'loudness': -4.825,\n  'mode': 0,\n  'speechiness': 0.161,\n  'acousticness': 0.00238,\n  'instrumentalness': 7.22e-06,\n  'liveness': 0.314,\n  'valence': 0.591,\n  'tempo': 180.359,\n  'type': 'audio_features',\n  'id': '40i81AcCCxiVEFUWElcjZC',\n  'uri': 'spotify:track:40i81AcCCxiVEFUWElcjZC',\n  'track_href': 'https://api.spotify.com/v1/tracks/40i81AcCCxiVEFUWElcjZC',\n  'analysis_url': 'https://api.spotify.com/v1/audio-analysis/40i81AcCCxiVEFUWElcjZC',\n  'duration_ms': 198080,\n  'time_signature': 4},\n {'danceability': 0.733,\n  'energy': 0.794,\n  'key': 5,\n  'loudness': -10.023,\n  'mode': 1,\n  'speechiness': 0.0307,\n  'acousticness': 0.0614,\n  'instrumentalness': 0.0367,\n  'liveness': 0.33,\n  'valence': 0.931,\n  'tempo': 148.174,\n  'type': 'audio_features',\n  'id': '37Tmv4NnfQeb0ZgUC4fOJj',\n  'uri': 'spotify:track:37Tmv4NnfQeb0ZgUC4fOJj',\n  'track_href': 'https://api.spotify.com/v1/tracks/37Tmv4NnfQeb0ZgUC4fOJj',\n  'analysis_url': 'https://api.spotify.com/v1/audio-analysis/37Tmv4NnfQeb0ZgUC4fOJj',\n  'duration_ms': 348624,\n  'time_signature': 4},\n {'danceability': 0.541,\n  'energy': 0.96,\n  'key': 0,\n  'loudness': -2.947,\n  'mode': 0,\n  'speechiness': 0.0505,\n  'acousticness': 0.0663,\n  'instrumentalness': 2.25e-06,\n  'liveness': 0.344,\n  'valence': 0.812,\n  'tempo': 122.803,\n  'type': 'audio_features',\n  'id': '0rmGAIH9LNJewFw7nKzZnc',\n  'uri': 'spotify:track:0rmGAIH9LNJewFw7nKzZnc',\n  'track_href': 'https://api.spotify.com/v1/tracks/0rmGAIH9LNJewFw7nKzZnc',\n  'analysis_url': 'https://api.spotify.com/v1/audio-analysis/0rmGAIH9LNJewFw7nKzZnc',\n  'duration_ms': 222707,\n  'time_signature': 4},\n {'danceability': 0.679,\n  'energy': 0.866,\n  'key': 0,\n  'loudness': -6.053,\n  'mode': 1,\n  'speechiness': 0.0635,\n  'acousticness': 0.00376,\n  'instrumentalness': 3.1e-05,\n  'liveness': 0.312,\n  'valence': 0.785,\n  'tempo': 124.324,\n  'type': 'audio_features',\n  'id': '1brpdmqkx3kSxyqzqXfW7J',\n  'uri': 'spotify:track:1brpdmqkx3kSxyqzqXfW7J',\n  'track_href': 'https://api.spotify.com/v1/tracks/1brpdmqkx3kSxyqzqXfW7J',\n  'analysis_url': 'https://api.spotify.com/v1/audio-analysis/1brpdmqkx3kSxyqzqXfW7J',\n  'duration_ms': 201400,\n  'time_signature': 4},\n {'danceability': 0.447,\n  'energy': 0.954,\n  'key': 8,\n  'loudness': -8.069,\n  'mode': 1,\n  'speechiness': 0.0751,\n  'acousticness': 0.0235,\n  'instrumentalness': 0.403,\n  'liveness': 0.298,\n  'valence': 0.331,\n  'tempo': 123.453,\n  'type': 'audio_features',\n  'id': '0bVtevEgtDIeRjCJbK3Lmv',\n  'uri': 'spotify:track:0bVtevEgtDIeRjCJbK3Lmv',\n  'track_href': 'https://api.spotify.com/v1/tracks/0bVtevEgtDIeRjCJbK3Lmv',\n  'analysis_url': 'https://api.spotify.com/v1/audio-analysis/0bVtevEgtDIeRjCJbK3Lmv',\n  'duration_ms': 272027,\n  'time_signature': 4},\n {'danceability': 0.473,\n  'energy': 0.898,\n  'key': 6,\n  'loudness': -4.797,\n  'mode': 0,\n  'speechiness': 0.0561,\n  'acousticness': 0.00783,\n  'instrumentalness': 0.0618,\n  'liveness': 0.173,\n  'valence': 0.808,\n  'tempo': 96.556,\n  'type': 'audio_features',\n  'id': '4aVuWgvD0X63hcOCnZtNFA',\n  'uri': 'spotify:track:4aVuWgvD0X63hcOCnZtNFA',\n  'track_href': 'https://api.spotify.com/v1/tracks/4aVuWgvD0X63hcOCnZtNFA',\n  'analysis_url': 'https://api.spotify.com/v1/audio-analysis/4aVuWgvD0X63hcOCnZtNFA',\n  'duration_ms': 235547,\n  'time_signature': 4},\n {'danceability': 0.795,\n  'energy': 0.435,\n  'key': 4,\n  'loudness': -8.927,\n  'mode': 1,\n  'speechiness': 0.0324,\n  'acousticness': 0.0841,\n  'instrumentalness': 0.00026,\n  'liveness': 0.0763,\n  'valence': 0.596,\n  'tempo': 108.95,\n  'type': 'audio_features',\n  'id': '2AkmdLbVKS1steeZdy8H1l',\n  'uri': 'spotify:track:2AkmdLbVKS1steeZdy8H1l',\n  'track_href': 'https://api.spotify.com/v1/tracks/2AkmdLbVKS1steeZdy8H1l',\n  'analysis_url': 'https://api.spotify.com/v1/audio-analysis/2AkmdLbVKS1steeZdy8H1l',\n  'duration_ms': 258013,\n  'time_signature': 4},\n {'danceability': 0.668,\n  'energy': 0.921,\n  'key': 7,\n  'loudness': -3.727,\n  'mode': 1,\n  'speechiness': 0.0439,\n  'acousticness': 0.0492,\n  'instrumentalness': 0.00517,\n  'liveness': 0.0877,\n  'valence': 0.782,\n  'tempo': 120.0,\n  'type': 'audio_features',\n  'id': '3lPr8ghNDBLc2uZovNyLs9',\n  'uri': 'spotify:track:3lPr8ghNDBLc2uZovNyLs9',\n  'track_href': 'https://api.spotify.com/v1/tracks/3lPr8ghNDBLc2uZovNyLs9',\n  'analysis_url': 'https://api.spotify.com/v1/audio-analysis/3lPr8ghNDBLc2uZovNyLs9',\n  'duration_ms': 212440,\n  'time_signature': 4},\n {'danceability': 0.535,\n  'energy': 0.716,\n  'key': 4,\n  'loudness': -5.025,\n  'mode': 1,\n  'speechiness': 0.0431,\n  'acousticness': 0.326,\n  'instrumentalness': 0,\n  'liveness': 0.659,\n  'valence': 0.901,\n  'tempo': 94.379,\n  'type': 'audio_features',\n  'id': '2Cdvbe2G4hZsnhNMKyGrie',\n  'uri': 'spotify:track:2Cdvbe2G4hZsnhNMKyGrie',\n  'track_href': 'https://api.spotify.com/v1/tracks/2Cdvbe2G4hZsnhNMKyGrie',\n  'analysis_url': 'https://api.spotify.com/v1/audio-analysis/2Cdvbe2G4hZsnhNMKyGrie',\n  'duration_ms': 175173,\n  'time_signature': 4},\n {'danceability': 0.754,\n  'energy': 0.759,\n  'key': 9,\n  'loudness': -5.218,\n  'mode': 1,\n  'speechiness': 0.302,\n  'acousticness': 0.153,\n  'instrumentalness': 0.000108,\n  'liveness': 0.101,\n  'valence': 0.435,\n  'tempo': 126.366,\n  'type': 'audio_features',\n  'id': '7LRMbd3LEoV5wZJvXT1Lwb',\n  'uri': 'spotify:track:7LRMbd3LEoV5wZJvXT1Lwb',\n  'track_href': 'https://api.spotify.com/v1/tracks/7LRMbd3LEoV5wZJvXT1Lwb',\n  'analysis_url': 'https://api.spotify.com/v1/audio-analysis/7LRMbd3LEoV5wZJvXT1Lwb',\n  'duration_ms': 214667,\n  'time_signature': 4},\n {'danceability': 0.352,\n  'energy': 0.911,\n  'key': 1,\n  'loudness': -5.23,\n  'mode': 1,\n  'speechiness': 0.0747,\n  'acousticness': 0.00121,\n  'instrumentalness': 0,\n  'liveness': 0.0995,\n  'valence': 0.236,\n  'tempo': 148.033,\n  'type': 'audio_features',\n  'id': '003vvx7Niy0yvhvHt4a68B',\n  'uri': 'spotify:track:003vvx7Niy0yvhvHt4a68B',\n  'track_href': 'https://api.spotify.com/v1/tracks/003vvx7Niy0yvhvHt4a68B',\n  'analysis_url': 'https://api.spotify.com/v1/audio-analysis/003vvx7Niy0yvhvHt4a68B',\n  'duration_ms': 222973,\n  'time_signature': 4},\n {'danceability': 0.361,\n  'energy': 0.98,\n  'key': 7,\n  'loudness': -3.635,\n  'mode': 0,\n  'speechiness': 0.33,\n  'acousticness': 0.00141,\n  'instrumentalness': 0.00268,\n  'liveness': 0.294,\n  'valence': 0.238,\n  'tempo': 179.138,\n  'type': 'audio_features',\n  'id': '1RQwcsdHIW5p86cx8zuf1I',\n  'uri': 'spotify:track:1RQwcsdHIW5p86cx8zuf1I',\n  'track_href': 'https://api.spotify.com/v1/tracks/1RQwcsdHIW5p86cx8zuf1I',\n  'analysis_url': 'https://api.spotify.com/v1/audio-analysis/1RQwcsdHIW5p86cx8zuf1I',\n  'duration_ms': 282709,\n  'time_signature': 4},\n {'danceability': 0.693,\n  'energy': 0.394,\n  'key': 0,\n  'loudness': -15.882,\n  'mode': 1,\n  'speechiness': 0.0428,\n  'acousticness': 0.0782,\n  'instrumentalness': 0.000694,\n  'liveness': 0.247,\n  'valence': 0.721,\n  'tempo': 104.114,\n  'type': 'audio_features',\n  'id': '4gMgiXfqyzZLMhsksGmbQV',\n  'uri': 'spotify:track:4gMgiXfqyzZLMhsksGmbQV',\n  'track_href': 'https://api.spotify.com/v1/tracks/4gMgiXfqyzZLMhsksGmbQV',\n  'analysis_url': 'https://api.spotify.com/v1/audio-analysis/4gMgiXfqyzZLMhsksGmbQV',\n  'duration_ms': 238747,\n  'time_signature': 4},\n {'danceability': 0.438,\n  'energy': 0.805,\n  'key': 8,\n  'loudness': -6.237,\n  'mode': 1,\n  'speechiness': 0.0624,\n  'acousticness': 0.00255,\n  'instrumentalness': 5.69e-05,\n  'liveness': 0.0842,\n  'valence': 0.564,\n  'tempo': 113.253,\n  'type': 'audio_features',\n  'id': '2aoo2jlRnM3A0NyLQqMN2f',\n  'uri': 'spotify:track:2aoo2jlRnM3A0NyLQqMN2f',\n  'track_href': 'https://api.spotify.com/v1/tracks/2aoo2jlRnM3A0NyLQqMN2f',\n  'analysis_url': 'https://api.spotify.com/v1/audio-analysis/2aoo2jlRnM3A0NyLQqMN2f',\n  'duration_ms': 240800,\n  'time_signature': 4},\n {'danceability': 0.466,\n  'energy': 0.833,\n  'key': 7,\n  'loudness': -4.215,\n  'mode': 1,\n  'speechiness': 0.304,\n  'acousticness': 0.0266,\n  'instrumentalness': 0,\n  'liveness': 0.0327,\n  'valence': 0.661,\n  'tempo': 88.785,\n  'type': 'audio_features',\n  'id': '59WN2psjkt1tyaxjspN8fp',\n  'uri': 'spotify:track:59WN2psjkt1tyaxjspN8fp',\n  'track_href': 'https://api.spotify.com/v1/tracks/59WN2psjkt1tyaxjspN8fp',\n  'analysis_url': 'https://api.spotify.com/v1/audio-analysis/59WN2psjkt1tyaxjspN8fp',\n  'duration_ms': 313573,\n  'time_signature': 4},\n {'danceability': 0.529,\n  'energy': 0.843,\n  'key': 6,\n  'loudness': -6.908,\n  'mode': 0,\n  'speechiness': 0.0616,\n  'acousticness': 0.0628,\n  'instrumentalness': 0.000827,\n  'liveness': 0.0608,\n  'valence': 0.188,\n  'tempo': 117.662,\n  'type': 'audio_features',\n  'id': '3MrRksHupTVEQ7YbA0FsZK',\n  'uri': 'spotify:track:3MrRksHupTVEQ7YbA0FsZK',\n  'track_href': 'https://api.spotify.com/v1/tracks/3MrRksHupTVEQ7YbA0FsZK',\n  'analysis_url': 'https://api.spotify.com/v1/audio-analysis/3MrRksHupTVEQ7YbA0FsZK',\n  'duration_ms': 310333,\n  'time_signature': 4},\n {'danceability': 0.557,\n  'energy': 0.54,\n  'key': 9,\n  'loudness': -10.484,\n  'mode': 1,\n  'speechiness': 0.0347,\n  'acousticness': 0.0339,\n  'instrumentalness': 0.00248,\n  'liveness': 0.179,\n  'valence': 0.394,\n  'tempo': 129.171,\n  'type': 'audio_features',\n  'id': '6dGnYIeXmHdcikdzNNDMm2',\n  'uri': 'spotify:track:6dGnYIeXmHdcikdzNNDMm2',\n  'track_href': 'https://api.spotify.com/v1/tracks/6dGnYIeXmHdcikdzNNDMm2',\n  'analysis_url': 'https://api.spotify.com/v1/audio-analysis/6dGnYIeXmHdcikdzNNDMm2',\n  'duration_ms': 185733,\n  'time_signature': 4},\n {'danceability': 0.616,\n  'energy': 0.91,\n  'key': 0,\n  'loudness': -3.004,\n  'mode': 1,\n  'speechiness': 0.0386,\n  'acousticness': 0.0459,\n  'instrumentalness': 0,\n  'liveness': 0.343,\n  'valence': 0.693,\n  'tempo': 144.072,\n  'type': 'audio_features',\n  'id': '3RlsVPIIs5KFhLFhxZ4iDF',\n  'uri': 'spotify:track:3RlsVPIIs5KFhLFhxZ4iDF',\n  'track_href': 'https://api.spotify.com/v1/tracks/3RlsVPIIs5KFhLFhxZ4iDF',\n  'analysis_url': 'https://api.spotify.com/v1/audio-analysis/3RlsVPIIs5KFhLFhxZ4iDF',\n  'duration_ms': 252040,\n  'time_signature': 4},\n {'danceability': 0.509,\n  'energy': 0.874,\n  'key': 4,\n  'loudness': -4.7,\n  'mode': 0,\n  'speechiness': 0.0396,\n  'acousticness': 0.000229,\n  'instrumentalness': 0.00638,\n  'liveness': 0.0988,\n  'valence': 0.406,\n  'tempo': 120.082,\n  'type': 'audio_features',\n  'id': '5AEOqLsRJFAoSS4ay4Jzao',\n  'uri': 'spotify:track:5AEOqLsRJFAoSS4ay4Jzao',\n  'track_href': 'https://api.spotify.com/v1/tracks/5AEOqLsRJFAoSS4ay4Jzao',\n  'analysis_url': 'https://api.spotify.com/v1/audio-analysis/5AEOqLsRJFAoSS4ay4Jzao',\n  'duration_ms': 218920,\n  'time_signature': 4},\n {'danceability': 0.671,\n  'energy': 0.712,\n  'key': 2,\n  'loudness': -7.815,\n  'mode': 1,\n  'speechiness': 0.0476,\n  'acousticness': 0.429,\n  'instrumentalness': 0,\n  'liveness': 0.103,\n  'valence': 0.462,\n  'tempo': 113.805,\n  'type': 'audio_features',\n  'id': '2fuCquhmrzHpu5xcA1ci9x',\n  'uri': 'spotify:track:2fuCquhmrzHpu5xcA1ci9x',\n  'track_href': 'https://api.spotify.com/v1/tracks/2fuCquhmrzHpu5xcA1ci9x',\n  'analysis_url': 'https://api.spotify.com/v1/audio-analysis/2fuCquhmrzHpu5xcA1ci9x',\n  'duration_ms': 248440,\n  'time_signature': 4},\n {'danceability': 0.331,\n  'energy': 0.943,\n  'key': 4,\n  'loudness': -3.188,\n  'mode': 0,\n  'speechiness': 0.0698,\n  'acousticness': 0.00721,\n  'instrumentalness': 2.06e-06,\n  'liveness': 0.242,\n  'valence': 0.296,\n  'tempo': 94.612,\n  'type': 'audio_features',\n  'id': '0COqiPhxzoWICwFCS4eZcp',\n  'uri': 'spotify:track:0COqiPhxzoWICwFCS4eZcp',\n  'track_href': 'https://api.spotify.com/v1/tracks/0COqiPhxzoWICwFCS4eZcp',\n  'analysis_url': 'https://api.spotify.com/v1/audio-analysis/0COqiPhxzoWICwFCS4eZcp',\n  'duration_ms': 235893,\n  'time_signature': 4},\n {'danceability': 0.551,\n  'energy': 0.913,\n  'key': 0,\n  'loudness': -4.063,\n  'mode': 0,\n  'speechiness': 0.0466,\n  'acousticness': 0.0263,\n  'instrumentalness': 1.35e-05,\n  'liveness': 0.347,\n  'valence': 0.544,\n  'tempo': 119.992,\n  'type': 'audio_features',\n  'id': '0v1XpBHnsbkCn7iJ9Ucr1l',\n  'uri': 'spotify:track:0v1XpBHnsbkCn7iJ9Ucr1l',\n  'track_href': 'https://api.spotify.com/v1/tracks/0v1XpBHnsbkCn7iJ9Ucr1l',\n  'analysis_url': 'https://api.spotify.com/v1/audio-analysis/0v1XpBHnsbkCn7iJ9Ucr1l',\n  'duration_ms': 224493,\n  'time_signature': 4},\n {'danceability': 0.508,\n  'energy': 0.774,\n  'key': 2,\n  'loudness': -5.973,\n  'mode': 1,\n  'speechiness': 0.0321,\n  'acousticness': 0.0586,\n  'instrumentalness': 4.87e-06,\n  'liveness': 0.063,\n  'valence': 0.942,\n  'tempo': 178.946,\n  'type': 'audio_features',\n  'id': '20OFwXhEXf12DzwXmaV7fj',\n  'uri': 'spotify:track:20OFwXhEXf12DzwXmaV7fj',\n  'track_href': 'https://api.spotify.com/v1/tracks/20OFwXhEXf12DzwXmaV7fj',\n  'analysis_url': 'https://api.spotify.com/v1/audio-analysis/20OFwXhEXf12DzwXmaV7fj',\n  'duration_ms': 141600,\n  'time_signature': 4},\n {'danceability': 0.269,\n  'energy': 0.764,\n  'key': 7,\n  'loudness': -3.735,\n  'mode': 1,\n  'speechiness': 0.0534,\n  'acousticness': 0.132,\n  'instrumentalness': 0,\n  'liveness': 0.0723,\n  'valence': 0.15,\n  'tempo': 181.299,\n  'type': 'audio_features',\n  'id': '4f1KkbXHnfIVZ9vmIExByJ',\n  'uri': 'spotify:track:4f1KkbXHnfIVZ9vmIExByJ',\n  'track_href': 'https://api.spotify.com/v1/tracks/4f1KkbXHnfIVZ9vmIExByJ',\n  'analysis_url': 'https://api.spotify.com/v1/audio-analysis/4f1KkbXHnfIVZ9vmIExByJ',\n  'duration_ms': 252760,\n  'time_signature': 4},\n {'danceability': 0.671,\n  'energy': 0.818,\n  'key': 6,\n  'loudness': -4.89,\n  'mode': 1,\n  'speechiness': 0.03,\n  'acousticness': 0.00288,\n  'instrumentalness': 0.00132,\n  'liveness': 0.0368,\n  'valence': 0.85,\n  'tempo': 119.021,\n  'type': 'audio_features',\n  'id': '6oHXQQLzea4keyHSbFUxtS',\n  'uri': 'spotify:track:6oHXQQLzea4keyHSbFUxtS',\n  'track_href': 'https://api.spotify.com/v1/tracks/6oHXQQLzea4keyHSbFUxtS',\n  'analysis_url': 'https://api.spotify.com/v1/audio-analysis/6oHXQQLzea4keyHSbFUxtS',\n  'duration_ms': 156907,\n  'time_signature': 4},\n {'danceability': 0.622,\n  'energy': 0.565,\n  'key': 3,\n  'loudness': -6.92,\n  'mode': 1,\n  'speechiness': 0.122,\n  'acousticness': 0.536,\n  'instrumentalness': 0,\n  'liveness': 0.205,\n  'valence': 0.5,\n  'tempo': 131.037,\n  'type': 'audio_features',\n  'id': '5CXCo9MJFpjFLkEFKaMz19',\n  'uri': 'spotify:track:5CXCo9MJFpjFLkEFKaMz19',\n  'track_href': 'https://api.spotify.com/v1/tracks/5CXCo9MJFpjFLkEFKaMz19',\n  'analysis_url': 'https://api.spotify.com/v1/audio-analysis/5CXCo9MJFpjFLkEFKaMz19',\n  'duration_ms': 142830,\n  'time_signature': 3},\n {'danceability': 0.683,\n  'energy': 0.66,\n  'key': 10,\n  'loudness': -8.481,\n  'mode': 1,\n  'speechiness': 0.0279,\n  'acousticness': 0.664,\n  'instrumentalness': 0.000924,\n  'liveness': 0.359,\n  'valence': 0.529,\n  'tempo': 112.973,\n  'type': 'audio_features',\n  'id': '2CeXJdvqhKyewp74pU674J',\n  'uri': 'spotify:track:2CeXJdvqhKyewp74pU674J',\n  'track_href': 'https://api.spotify.com/v1/tracks/2CeXJdvqhKyewp74pU674J',\n  'analysis_url': 'https://api.spotify.com/v1/audio-analysis/2CeXJdvqhKyewp74pU674J',\n  'duration_ms': 167929,\n  'time_signature': 4},\n {'danceability': 0.54,\n  'energy': 0.11,\n  'key': 8,\n  'loudness': -19.885,\n  'mode': 1,\n  'speechiness': 0.0328,\n  'acousticness': 0.498,\n  'instrumentalness': 0.000614,\n  'liveness': 0.0781,\n  'valence': 0.172,\n  'tempo': 76.068,\n  'type': 'audio_features',\n  'id': '7LNm1oWd6PniO9wRYpNY5o',\n  'uri': 'spotify:track:7LNm1oWd6PniO9wRYpNY5o',\n  'track_href': 'https://api.spotify.com/v1/tracks/7LNm1oWd6PniO9wRYpNY5o',\n  'analysis_url': 'https://api.spotify.com/v1/audio-analysis/7LNm1oWd6PniO9wRYpNY5o',\n  'duration_ms': 290132,\n  'time_signature': 4},\n {'danceability': 0.781,\n  'energy': 0.726,\n  'key': 8,\n  'loudness': -5.794,\n  'mode': 1,\n  'speechiness': 0.0526,\n  'acousticness': 0.0149,\n  'instrumentalness': 1.88e-05,\n  'liveness': 0.205,\n  'valence': 0.605,\n  'tempo': 100.043,\n  'type': 'audio_features',\n  'id': '5F1TZVziCp4TuXIMCsIxwM',\n  'uri': 'spotify:track:5F1TZVziCp4TuXIMCsIxwM',\n  'track_href': 'https://api.spotify.com/v1/tracks/5F1TZVziCp4TuXIMCsIxwM',\n  'analysis_url': 'https://api.spotify.com/v1/audio-analysis/5F1TZVziCp4TuXIMCsIxwM',\n  'duration_ms': 216188,\n  'time_signature': 4},\n {'danceability': 0.52,\n  'energy': 0.614,\n  'key': 10,\n  'loudness': -7.587,\n  'mode': 1,\n  'speechiness': 0.0277,\n  'acousticness': 0.0413,\n  'instrumentalness': 0.00199,\n  'liveness': 0.146,\n  'valence': 0.436,\n  'tempo': 143.008,\n  'type': 'audio_features',\n  'id': '6hPY9GJkHWjeIyGWGV9dyN',\n  'uri': 'spotify:track:6hPY9GJkHWjeIyGWGV9dyN',\n  'track_href': 'https://api.spotify.com/v1/tracks/6hPY9GJkHWjeIyGWGV9dyN',\n  'analysis_url': 'https://api.spotify.com/v1/audio-analysis/6hPY9GJkHWjeIyGWGV9dyN',\n  'duration_ms': 164404,\n  'time_signature': 4},\n {'danceability': 0.53,\n  'energy': 0.593,\n  'key': 5,\n  'loudness': -7.286,\n  'mode': 1,\n  'speechiness': 0.0545,\n  'acousticness': 0.385,\n  'instrumentalness': 0,\n  'liveness': 0.314,\n  'valence': 0.538,\n  'tempo': 125.723,\n  'type': 'audio_features',\n  'id': '4JeOesjcWWlprTAvucDSJX',\n  'uri': 'spotify:track:4JeOesjcWWlprTAvucDSJX',\n  'track_href': 'https://api.spotify.com/v1/tracks/4JeOesjcWWlprTAvucDSJX',\n  'analysis_url': 'https://api.spotify.com/v1/audio-analysis/4JeOesjcWWlprTAvucDSJX',\n  'duration_ms': 158537,\n  'time_signature': 4},\n {'danceability': 0.788,\n  'energy': 0.545,\n  'key': 3,\n  'loudness': -7.647,\n  'mode': 1,\n  'speechiness': 0.0487,\n  'acousticness': 0.475,\n  'instrumentalness': 0.0138,\n  'liveness': 0.134,\n  'valence': 0.583,\n  'tempo': 119.948,\n  'type': 'audio_features',\n  'id': '08ZFO4ONTelCXs1Q5YRMcW',\n  'uri': 'spotify:track:08ZFO4ONTelCXs1Q5YRMcW',\n  'track_href': 'https://api.spotify.com/v1/tracks/08ZFO4ONTelCXs1Q5YRMcW',\n  'analysis_url': 'https://api.spotify.com/v1/audio-analysis/08ZFO4ONTelCXs1Q5YRMcW',\n  'duration_ms': 170000,\n  'time_signature': 4},\n {'danceability': 0.771,\n  'energy': 0.704,\n  'key': 1,\n  'loudness': -5.098,\n  'mode': 1,\n  'speechiness': 0.0315,\n  'acousticness': 0.0835,\n  'instrumentalness': 0,\n  'liveness': 0.0935,\n  'valence': 0.55,\n  'tempo': 118.01,\n  'type': 'audio_features',\n  'id': '74oXlQPr6x05HDrGVaiYXZ',\n  'uri': 'spotify:track:74oXlQPr6x05HDrGVaiYXZ',\n  'track_href': 'https://api.spotify.com/v1/tracks/74oXlQPr6x05HDrGVaiYXZ',\n  'analysis_url': 'https://api.spotify.com/v1/audio-analysis/74oXlQPr6x05HDrGVaiYXZ',\n  'duration_ms': 211058,\n  'time_signature': 4},\n {'danceability': 0.507,\n  'energy': 0.252,\n  'key': 10,\n  'loudness': -12.625,\n  'mode': 0,\n  'speechiness': 0.0616,\n  'acousticness': 0.869,\n  'instrumentalness': 0.000293,\n  'liveness': 0.0819,\n  'valence': 0.307,\n  'tempo': 137.314,\n  'type': 'audio_features',\n  'id': '3QEX5O23KVp1yg1tj6Hycp',\n  'uri': 'spotify:track:3QEX5O23KVp1yg1tj6Hycp',\n  'track_href': 'https://api.spotify.com/v1/tracks/3QEX5O23KVp1yg1tj6Hycp',\n  'analysis_url': 'https://api.spotify.com/v1/audio-analysis/3QEX5O23KVp1yg1tj6Hycp',\n  'duration_ms': 156798,\n  'time_signature': 3},\n {'danceability': 0.583,\n  'energy': 0.59,\n  'key': 11,\n  'loudness': -7.759,\n  'mode': 0,\n  'speechiness': 0.0352,\n  'acousticness': 0.458,\n  'instrumentalness': 1.86e-05,\n  'liveness': 0.355,\n  'valence': 0.303,\n  'tempo': 156.007,\n  'type': 'audio_features',\n  'id': '1hWIeur5Q8BJ9hUrDyTI8W',\n  'uri': 'spotify:track:1hWIeur5Q8BJ9hUrDyTI8W',\n  'track_href': 'https://api.spotify.com/v1/tracks/1hWIeur5Q8BJ9hUrDyTI8W',\n  'analysis_url': 'https://api.spotify.com/v1/audio-analysis/1hWIeur5Q8BJ9hUrDyTI8W',\n  'duration_ms': 179714,\n  'time_signature': 4},\n {'danceability': 0.631,\n  'energy': 0.67,\n  'key': 6,\n  'loudness': -6.175,\n  'mode': 1,\n  'speechiness': 0.052,\n  'acousticness': 0.0776,\n  'instrumentalness': 0.112,\n  'liveness': 0.086,\n  'valence': 0.746,\n  'tempo': 108.973,\n  'type': 'audio_features',\n  'id': '4M6XHrTc4RtdgKN9gzEAM6',\n  'uri': 'spotify:track:4M6XHrTc4RtdgKN9gzEAM6',\n  'track_href': 'https://api.spotify.com/v1/tracks/4M6XHrTc4RtdgKN9gzEAM6',\n  'analysis_url': 'https://api.spotify.com/v1/audio-analysis/4M6XHrTc4RtdgKN9gzEAM6',\n  'duration_ms': 206373,\n  'time_signature': 4},\n {'danceability': 0.612,\n  'energy': 0.727,\n  'key': 4,\n  'loudness': -5.141,\n  'mode': 1,\n  'speechiness': 0.0492,\n  'acousticness': 0.173,\n  'instrumentalness': 5.61e-05,\n  'liveness': 0.273,\n  'valence': 0.677,\n  'tempo': 119.907,\n  'type': 'audio_features',\n  'id': '0cH6s5bw1BS4hL06hmUO6F',\n  'uri': 'spotify:track:0cH6s5bw1BS4hL06hmUO6F',\n  'track_href': 'https://api.spotify.com/v1/tracks/0cH6s5bw1BS4hL06hmUO6F',\n  'analysis_url': 'https://api.spotify.com/v1/audio-analysis/0cH6s5bw1BS4hL06hmUO6F',\n  'duration_ms': 201946,\n  'time_signature': 4},\n {'danceability': 0.797,\n  'energy': 0.615,\n  'key': 2,\n  'loudness': -6.062,\n  'mode': 1,\n  'speechiness': 0.0322,\n  'acousticness': 0.128,\n  'instrumentalness': 0.000467,\n  'liveness': 0.237,\n  'valence': 0.508,\n  'tempo': 120.985,\n  'type': 'audio_features',\n  'id': '7Ck7GSPoBIDwNwcas05Sz1',\n  'uri': 'spotify:track:7Ck7GSPoBIDwNwcas05Sz1',\n  'track_href': 'https://api.spotify.com/v1/tracks/7Ck7GSPoBIDwNwcas05Sz1',\n  'analysis_url': 'https://api.spotify.com/v1/audio-analysis/7Ck7GSPoBIDwNwcas05Sz1',\n  'duration_ms': 161157,\n  'time_signature': 4},\n {'danceability': 0.915,\n  'energy': 0.552,\n  'key': 3,\n  'loudness': -5.071,\n  'mode': 1,\n  'speechiness': 0.0539,\n  'acousticness': 0.303,\n  'instrumentalness': 0.766,\n  'liveness': 0.119,\n  'valence': 0.56,\n  'tempo': 125.035,\n  'type': 'audio_features',\n  'id': '3M94jcrpYyJpMDkvoriPYC',\n  'uri': 'spotify:track:3M94jcrpYyJpMDkvoriPYC',\n  'track_href': 'https://api.spotify.com/v1/tracks/3M94jcrpYyJpMDkvoriPYC',\n  'analysis_url': 'https://api.spotify.com/v1/audio-analysis/3M94jcrpYyJpMDkvoriPYC',\n  'duration_ms': 155653,\n  'time_signature': 4},\n {'danceability': 0.708,\n  'energy': 0.477,\n  'key': 8,\n  'loudness': -7.297,\n  'mode': 1,\n  'speechiness': 0.0565,\n  'acousticness': 0.292,\n  'instrumentalness': 1.75e-06,\n  'liveness': 0.255,\n  'valence': 0.733,\n  'tempo': 149.929,\n  'type': 'audio_features',\n  'id': '0ioTTk5l0Zz7Oh48qEocgj',\n  'uri': 'spotify:track:0ioTTk5l0Zz7Oh48qEocgj',\n  'track_href': 'https://api.spotify.com/v1/tracks/0ioTTk5l0Zz7Oh48qEocgj',\n  'analysis_url': 'https://api.spotify.com/v1/audio-analysis/0ioTTk5l0Zz7Oh48qEocgj',\n  'duration_ms': 183000,\n  'time_signature': 4},\n {'danceability': 0.685,\n  'energy': 0.919,\n  'key': 6,\n  'loudness': -5.132,\n  'mode': 1,\n  'speechiness': 0.0632,\n  'acousticness': 0.00372,\n  'instrumentalness': 0.00194,\n  'liveness': 0.0746,\n  'valence': 0.899,\n  'tempo': 140.021,\n  'type': 'audio_features',\n  'id': '5omCnPHQc8bNztSrjlxdtu',\n  'uri': 'spotify:track:5omCnPHQc8bNztSrjlxdtu',\n  'track_href': 'https://api.spotify.com/v1/tracks/5omCnPHQc8bNztSrjlxdtu',\n  'analysis_url': 'https://api.spotify.com/v1/audio-analysis/5omCnPHQc8bNztSrjlxdtu',\n  'duration_ms': 196560,\n  'time_signature': 4},\n {'danceability': 0.509,\n  'energy': 0.498,\n  'key': 2,\n  'loudness': -6.94,\n  'mode': 1,\n  'speechiness': 0.0315,\n  'acousticness': 0.413,\n  'instrumentalness': 0,\n  'liveness': 0.0674,\n  'valence': 0.283,\n  'tempo': 99.729,\n  'type': 'audio_features',\n  'id': '2769RhOZs0ezRncRW1vryp',\n  'uri': 'spotify:track:2769RhOZs0ezRncRW1vryp',\n  'track_href': 'https://api.spotify.com/v1/tracks/2769RhOZs0ezRncRW1vryp',\n  'analysis_url': 'https://api.spotify.com/v1/audio-analysis/2769RhOZs0ezRncRW1vryp',\n  'duration_ms': 222861,\n  'time_signature': 4},\n {'danceability': 0.622,\n  'energy': 0.736,\n  'key': 8,\n  'loudness': -6.219,\n  'mode': 1,\n  'speechiness': 0.0444,\n  'acousticness': 0.0156,\n  'instrumentalness': 0,\n  'liveness': 0.112,\n  'valence': 0.432,\n  'tempo': 97.006,\n  'type': 'audio_features',\n  'id': '0BLY78hYpsH9NqP6X0N8CX',\n  'uri': 'spotify:track:0BLY78hYpsH9NqP6X0N8CX',\n  'track_href': 'https://api.spotify.com/v1/tracks/0BLY78hYpsH9NqP6X0N8CX',\n  'analysis_url': 'https://api.spotify.com/v1/audio-analysis/0BLY78hYpsH9NqP6X0N8CX',\n  'duration_ms': 206587,\n  'time_signature': 4},\n {'danceability': 0.64,\n  'energy': 0.292,\n  'key': 3,\n  'loudness': -11.706,\n  'mode': 1,\n  'speechiness': 0.0468,\n  'acousticness': 0.336,\n  'instrumentalness': 0.000628,\n  'liveness': 0.436,\n  'valence': 0.491,\n  'tempo': 155.074,\n  'type': 'audio_features',\n  'id': '65LMre3AmSBiaHhdw7l57l',\n  'uri': 'spotify:track:65LMre3AmSBiaHhdw7l57l',\n  'track_href': 'https://api.spotify.com/v1/tracks/65LMre3AmSBiaHhdw7l57l',\n  'analysis_url': 'https://api.spotify.com/v1/audio-analysis/65LMre3AmSBiaHhdw7l57l',\n  'duration_ms': 197032,\n  'time_signature': 4},\n {'danceability': 0.515,\n  'energy': 0.771,\n  'key': 2,\n  'loudness': -5.081,\n  'mode': 1,\n  'speechiness': 0.0394,\n  'acousticness': 0.0339,\n  'instrumentalness': 1.81e-05,\n  'liveness': 0.0945,\n  'valence': 0.552,\n  'tempo': 104.995,\n  'type': 'audio_features',\n  'id': '7yfLvK7r1w5bql3G0Uha5w',\n  'uri': 'spotify:track:7yfLvK7r1w5bql3G0Uha5w',\n  'track_href': 'https://api.spotify.com/v1/tracks/7yfLvK7r1w5bql3G0Uha5w',\n  'analysis_url': 'https://api.spotify.com/v1/audio-analysis/7yfLvK7r1w5bql3G0Uha5w',\n  'duration_ms': 253849,\n  'time_signature': 4},\n {'danceability': 0.875,\n  'energy': 0.649,\n  'key': 6,\n  'loudness': -5.754,\n  'mode': 1,\n  'speechiness': 0.0433,\n  'acousticness': 0.429,\n  'instrumentalness': 0.00237,\n  'liveness': 0.0704,\n  'valence': 0.833,\n  'tempo': 140.031,\n  'type': 'audio_features',\n  'id': '4ReJJcpW8HtVnqzhf6DwNV',\n  'uri': 'spotify:track:4ReJJcpW8HtVnqzhf6DwNV',\n  'track_href': 'https://api.spotify.com/v1/tracks/4ReJJcpW8HtVnqzhf6DwNV',\n  'analysis_url': 'https://api.spotify.com/v1/audio-analysis/4ReJJcpW8HtVnqzhf6DwNV',\n  'duration_ms': 194693,\n  'time_signature': 4},\n {'danceability': 0.756,\n  'energy': 0.673,\n  'key': 2,\n  'loudness': -6.336,\n  'mode': 1,\n  'speechiness': 0.0899,\n  'acousticness': 0.516,\n  'instrumentalness': 0,\n  'liveness': 0.109,\n  'valence': 0.402,\n  'tempo': 125.055,\n  'type': 'audio_features',\n  'id': '2D2lazsae9o1UoVPUAdxyT',\n  'uri': 'spotify:track:2D2lazsae9o1UoVPUAdxyT',\n  'track_href': 'https://api.spotify.com/v1/tracks/2D2lazsae9o1UoVPUAdxyT',\n  'analysis_url': 'https://api.spotify.com/v1/audio-analysis/2D2lazsae9o1UoVPUAdxyT',\n  'duration_ms': 185173,\n  'time_signature': 4},\n {'danceability': 0.652,\n  'energy': 0.764,\n  'key': 2,\n  'loudness': -6.082,\n  'mode': 1,\n  'speechiness': 0.0502,\n  'acousticness': 0.0862,\n  'instrumentalness': 0.0493,\n  'liveness': 0.103,\n  'valence': 0.734,\n  'tempo': 74.993,\n  'type': 'audio_features',\n  'id': '09MZIpr7ciaUZyxHKb37Mz',\n  'uri': 'spotify:track:09MZIpr7ciaUZyxHKb37Mz',\n  'track_href': 'https://api.spotify.com/v1/tracks/09MZIpr7ciaUZyxHKb37Mz',\n  'analysis_url': 'https://api.spotify.com/v1/audio-analysis/09MZIpr7ciaUZyxHKb37Mz',\n  'duration_ms': 189512,\n  'time_signature': 4},\n {'danceability': 0.512,\n  'energy': 0.483,\n  'key': 0,\n  'loudness': -7.798,\n  'mode': 1,\n  'speechiness': 0.0298,\n  'acousticness': 0.00304,\n  'instrumentalness': 0.0011,\n  'liveness': 0.12,\n  'valence': 0.367,\n  'tempo': 160.009,\n  'type': 'audio_features',\n  'id': '0VF7YLIxSQKyNiFL3X6MmN',\n  'uri': 'spotify:track:0VF7YLIxSQKyNiFL3X6MmN',\n  'track_href': 'https://api.spotify.com/v1/tracks/0VF7YLIxSQKyNiFL3X6MmN',\n  'analysis_url': 'https://api.spotify.com/v1/audio-analysis/0VF7YLIxSQKyNiFL3X6MmN',\n  'duration_ms': 217027,\n  'time_signature': 4},\n {'danceability': 0.713,\n  'energy': 0.804,\n  'key': 2,\n  'loudness': -4.971,\n  'mode': 1,\n  'speechiness': 0.15,\n  'acousticness': 0.258,\n  'instrumentalness': 0,\n  'liveness': 0.346,\n  'valence': 0.703,\n  'tempo': 103.881,\n  'type': 'audio_features',\n  'id': '0dN3cttUifpkm1Oja79zJr',\n  'uri': 'spotify:track:0dN3cttUifpkm1Oja79zJr',\n  'track_href': 'https://api.spotify.com/v1/tracks/0dN3cttUifpkm1Oja79zJr',\n  'analysis_url': 'https://api.spotify.com/v1/audio-analysis/0dN3cttUifpkm1Oja79zJr',\n  'duration_ms': 229659,\n  'time_signature': 4},\n {'danceability': 0.913,\n  'energy': 0.459,\n  'key': 5,\n  'loudness': -7.528,\n  'mode': 1,\n  'speechiness': 0.0446,\n  'acousticness': 0.469,\n  'instrumentalness': 0.000889,\n  'liveness': 0.0891,\n  'valence': 0.848,\n  'tempo': 114.996,\n  'type': 'audio_features',\n  'id': '2F9DCIJ7ZXHhNkiIlIIOkw',\n  'uri': 'spotify:track:2F9DCIJ7ZXHhNkiIlIIOkw',\n  'track_href': 'https://api.spotify.com/v1/tracks/2F9DCIJ7ZXHhNkiIlIIOkw',\n  'analysis_url': 'https://api.spotify.com/v1/audio-analysis/2F9DCIJ7ZXHhNkiIlIIOkw',\n  'duration_ms': 215385,\n  'time_signature': 4},\n {'danceability': 0.672,\n  'energy': 0.681,\n  'key': 1,\n  'loudness': -7.281,\n  'mode': 1,\n  'speechiness': 0.161,\n  'acousticness': 0.137,\n  'instrumentalness': 0,\n  'liveness': 0.0893,\n  'valence': 0.38,\n  'tempo': 115.048,\n  'type': 'audio_features',\n  'id': '07s5wOe2qlyWWsf5I5gRxd',\n  'uri': 'spotify:track:07s5wOe2qlyWWsf5I5gRxd',\n  'track_href': 'https://api.spotify.com/v1/tracks/07s5wOe2qlyWWsf5I5gRxd',\n  'analysis_url': 'https://api.spotify.com/v1/audio-analysis/07s5wOe2qlyWWsf5I5gRxd',\n  'duration_ms': 187800,\n  'time_signature': 4},\n {'danceability': 0.749,\n  'energy': 0.589,\n  'key': 1,\n  'loudness': -8.258,\n  'mode': 1,\n  'speechiness': 0.0454,\n  'acousticness': 0.456,\n  'instrumentalness': 0.000107,\n  'liveness': 0.0978,\n  'valence': 0.957,\n  'tempo': 152.945,\n  'type': 'audio_features',\n  'id': '0kJkiYAvGPwxcMgVznuS8T',\n  'uri': 'spotify:track:0kJkiYAvGPwxcMgVznuS8T',\n  'track_href': 'https://api.spotify.com/v1/tracks/0kJkiYAvGPwxcMgVznuS8T',\n  'analysis_url': 'https://api.spotify.com/v1/audio-analysis/0kJkiYAvGPwxcMgVznuS8T',\n  'duration_ms': 141029,\n  'time_signature': 4},\n {'danceability': 0.707,\n  'energy': 0.735,\n  'key': 1,\n  'loudness': -5.237,\n  'mode': 1,\n  'speechiness': 0.0362,\n  'acousticness': 0.00896,\n  'instrumentalness': 4.78e-05,\n  'liveness': 0.0433,\n  'valence': 0.762,\n  'tempo': 129.965,\n  'type': 'audio_features',\n  'id': '3Gplr4iOpewQ9ynbZujzlu',\n  'uri': 'spotify:track:3Gplr4iOpewQ9ynbZujzlu',\n  'track_href': 'https://api.spotify.com/v1/tracks/3Gplr4iOpewQ9ynbZujzlu',\n  'analysis_url': 'https://api.spotify.com/v1/audio-analysis/3Gplr4iOpewQ9ynbZujzlu',\n  'duration_ms': 158240,\n  'time_signature': 4},\n {'danceability': 0.472,\n  'energy': 0.683,\n  'key': 1,\n  'loudness': -6.007,\n  'mode': 1,\n  'speechiness': 0.0694,\n  'acousticness': 0.0243,\n  'instrumentalness': 0,\n  'liveness': 0.163,\n  'valence': 0.197,\n  'tempo': 85.045,\n  'type': 'audio_features',\n  'id': '6vs83ufnw4IVbotV0qv6C8',\n  'uri': 'spotify:track:6vs83ufnw4IVbotV0qv6C8',\n  'track_href': 'https://api.spotify.com/v1/tracks/6vs83ufnw4IVbotV0qv6C8',\n  'analysis_url': 'https://api.spotify.com/v1/audio-analysis/6vs83ufnw4IVbotV0qv6C8',\n  'duration_ms': 215621,\n  'time_signature': 4},\n {'danceability': 0.57,\n  'energy': 0.439,\n  'key': 8,\n  'loudness': -6.124,\n  'mode': 1,\n  'speechiness': 0.0978,\n  'acousticness': 0.712,\n  'instrumentalness': 0.000738,\n  'liveness': 0.137,\n  'valence': 0.234,\n  'tempo': 170.078,\n  'type': 'audio_features',\n  'id': '6F3ZGAp9M9Nub4cSCpY5tW',\n  'uri': 'spotify:track:6F3ZGAp9M9Nub4cSCpY5tW',\n  'track_href': 'https://api.spotify.com/v1/tracks/6F3ZGAp9M9Nub4cSCpY5tW',\n  'analysis_url': 'https://api.spotify.com/v1/audio-analysis/6F3ZGAp9M9Nub4cSCpY5tW',\n  'duration_ms': 154000,\n  'time_signature': 4},\n {'danceability': 0.619,\n  'energy': 0.653,\n  'key': 2,\n  'loudness': -7.642,\n  'mode': 1,\n  'speechiness': 0.0688,\n  'acousticness': 0.17,\n  'instrumentalness': 8.71e-06,\n  'liveness': 0.0862,\n  'valence': 0.469,\n  'tempo': 143.05,\n  'type': 'audio_features',\n  'id': '61HHWViQkXFwVRYAFWmqhk',\n  'uri': 'spotify:track:61HHWViQkXFwVRYAFWmqhk',\n  'track_href': 'https://api.spotify.com/v1/tracks/61HHWViQkXFwVRYAFWmqhk',\n  'analysis_url': 'https://api.spotify.com/v1/audio-analysis/61HHWViQkXFwVRYAFWmqhk',\n  'duration_ms': 196227,\n  'time_signature': 4},\n {'danceability': 0.771,\n  'energy': 0.611,\n  'key': 2,\n  'loudness': -7.279,\n  'mode': 1,\n  'speechiness': 0.0286,\n  'acousticness': 0.629,\n  'instrumentalness': 0.557,\n  'liveness': 0.142,\n  'valence': 0.861,\n  'tempo': 109.999,\n  'type': 'audio_features',\n  'id': '3pBVQynngYmTMnAsXnFXcF',\n  'uri': 'spotify:track:3pBVQynngYmTMnAsXnFXcF',\n  'track_href': 'https://api.spotify.com/v1/tracks/3pBVQynngYmTMnAsXnFXcF',\n  'analysis_url': 'https://api.spotify.com/v1/audio-analysis/3pBVQynngYmTMnAsXnFXcF',\n  'duration_ms': 198818,\n  'time_signature': 4},\n {'danceability': 0.471,\n  'energy': 0.335,\n  'key': 4,\n  'loudness': -8.767,\n  'mode': 0,\n  'speechiness': 0.0273,\n  'acousticness': 0.593,\n  'instrumentalness': 2.11e-05,\n  'liveness': 0.297,\n  'valence': 0.111,\n  'tempo': 145.252,\n  'type': 'audio_features',\n  'id': '0KmgJyW4GDgonqsoyx0CZ3',\n  'uri': 'spotify:track:0KmgJyW4GDgonqsoyx0CZ3',\n  'track_href': 'https://api.spotify.com/v1/tracks/0KmgJyW4GDgonqsoyx0CZ3',\n  'analysis_url': 'https://api.spotify.com/v1/audio-analysis/0KmgJyW4GDgonqsoyx0CZ3',\n  'duration_ms': 243907,\n  'time_signature': 3},\n {'danceability': 0.683,\n  'energy': 0.515,\n  'key': 4,\n  'loudness': -7.4,\n  'mode': 1,\n  'speechiness': 0.169,\n  'acousticness': 0.731,\n  'instrumentalness': 0.000273,\n  'liveness': 0.186,\n  'valence': 0.252,\n  'tempo': 131.809,\n  'type': 'audio_features',\n  'id': '29Imzv96MvmWE2iAxejskH',\n  'uri': 'spotify:track:29Imzv96MvmWE2iAxejskH',\n  'track_href': 'https://api.spotify.com/v1/tracks/29Imzv96MvmWE2iAxejskH',\n  'analysis_url': 'https://api.spotify.com/v1/audio-analysis/29Imzv96MvmWE2iAxejskH',\n  'duration_ms': 175603,\n  'time_signature': 4},\n {'danceability': 0.825,\n  'energy': 0.572,\n  'key': 11,\n  'loudness': -8.573,\n  'mode': 0,\n  'speechiness': 0.0918,\n  'acousticness': 0.0286,\n  'instrumentalness': 1.78e-05,\n  'liveness': 0.112,\n  'valence': 0.885,\n  'tempo': 110.012,\n  'type': 'audio_features',\n  'id': '5K09SsCBHoecbMq3fUN7BW',\n  'uri': 'spotify:track:5K09SsCBHoecbMq3fUN7BW',\n  'track_href': 'https://api.spotify.com/v1/tracks/5K09SsCBHoecbMq3fUN7BW',\n  'analysis_url': 'https://api.spotify.com/v1/audio-analysis/5K09SsCBHoecbMq3fUN7BW',\n  'duration_ms': 132625,\n  'time_signature': 4},\n {'danceability': 0.57,\n  'energy': 0.688,\n  'key': 0,\n  'loudness': -7.48,\n  'mode': 1,\n  'speechiness': 0.032,\n  'acousticness': 0.308,\n  'instrumentalness': 1.96e-05,\n  'liveness': 0.151,\n  'valence': 0.749,\n  'tempo': 111.993,\n  'type': 'audio_features',\n  'id': '3X91uoqAVtHmqv1bvZbNog',\n  'uri': 'spotify:track:3X91uoqAVtHmqv1bvZbNog',\n  'track_href': 'https://api.spotify.com/v1/tracks/3X91uoqAVtHmqv1bvZbNog',\n  'analysis_url': 'https://api.spotify.com/v1/audio-analysis/3X91uoqAVtHmqv1bvZbNog',\n  'duration_ms': 213716,\n  'time_signature': 4},\n {'danceability': 0.415,\n  'energy': 0.585,\n  'key': 9,\n  'loudness': -8.958,\n  'mode': 1,\n  'speechiness': 0.0761,\n  'acousticness': 0.0384,\n  'instrumentalness': 3.5e-05,\n  'liveness': 0.328,\n  'valence': 0.554,\n  'tempo': 160.292,\n  'type': 'audio_features',\n  'id': '5C0fWU1j3pa4vvAZuYyisq',\n  'uri': 'spotify:track:5C0fWU1j3pa4vvAZuYyisq',\n  'track_href': 'https://api.spotify.com/v1/tracks/5C0fWU1j3pa4vvAZuYyisq',\n  'analysis_url': 'https://api.spotify.com/v1/audio-analysis/5C0fWU1j3pa4vvAZuYyisq',\n  'duration_ms': 164349,\n  'time_signature': 3},\n {'danceability': 0.544,\n  'energy': 0.716,\n  'key': 9,\n  'loudness': -6.182,\n  'mode': 1,\n  'speechiness': 0.0458,\n  'acousticness': 0.214,\n  'instrumentalness': 1.62e-06,\n  'liveness': 0.114,\n  'valence': 0.784,\n  'tempo': 183.977,\n  'type': 'audio_features',\n  'id': '22uD6yBefgzRTLrohe4IZs',\n  'uri': 'spotify:track:22uD6yBefgzRTLrohe4IZs',\n  'track_href': 'https://api.spotify.com/v1/tracks/22uD6yBefgzRTLrohe4IZs',\n  'analysis_url': 'https://api.spotify.com/v1/audio-analysis/22uD6yBefgzRTLrohe4IZs',\n  'duration_ms': 210609,\n  'time_signature': 4},\n {'danceability': 0.682,\n  'energy': 0.609,\n  'key': 7,\n  'loudness': -6.372,\n  'mode': 0,\n  'speechiness': 0.139,\n  'acousticness': 0.000928,\n  'instrumentalness': 0.000201,\n  'liveness': 0.142,\n  'valence': 0.723,\n  'tempo': 111.991,\n  'type': 'audio_features',\n  'id': '4nLTOnpSCBwRlul92HLIyW',\n  'uri': 'spotify:track:4nLTOnpSCBwRlul92HLIyW',\n  'track_href': 'https://api.spotify.com/v1/tracks/4nLTOnpSCBwRlul92HLIyW',\n  'analysis_url': 'https://api.spotify.com/v1/audio-analysis/4nLTOnpSCBwRlul92HLIyW',\n  'duration_ms': 184315,\n  'time_signature': 4},\n {'danceability': 0.434,\n  'energy': 0.42,\n  'key': 0,\n  'loudness': -8.513,\n  'mode': 1,\n  'speechiness': 0.0485,\n  'acousticness': 0.616,\n  'instrumentalness': 0.000125,\n  'liveness': 0.0937,\n  'valence': 0.174,\n  'tempo': 204.561,\n  'type': 'audio_features',\n  'id': '2zxe1bIcH0mHSMwuc9Fh1k',\n  'uri': 'spotify:track:2zxe1bIcH0mHSMwuc9Fh1k',\n  'track_href': 'https://api.spotify.com/v1/tracks/2zxe1bIcH0mHSMwuc9Fh1k',\n  'analysis_url': 'https://api.spotify.com/v1/audio-analysis/2zxe1bIcH0mHSMwuc9Fh1k',\n  'duration_ms': 209013,\n  'time_signature': 3},\n {'danceability': 0.49,\n  'energy': 0.821,\n  'key': 7,\n  'loudness': -7.711,\n  'mode': 1,\n  'speechiness': 0.0848,\n  'acousticness': 0.348,\n  'instrumentalness': 0.000841,\n  'liveness': 0.198,\n  'valence': 0.642,\n  'tempo': 195.128,\n  'type': 'audio_features',\n  'id': '3wJAk2rKEEoYlXSLpLVrkU',\n  'uri': 'spotify:track:3wJAk2rKEEoYlXSLpLVrkU',\n  'track_href': 'https://api.spotify.com/v1/tracks/3wJAk2rKEEoYlXSLpLVrkU',\n  'analysis_url': 'https://api.spotify.com/v1/audio-analysis/3wJAk2rKEEoYlXSLpLVrkU',\n  'duration_ms': 232076,\n  'time_signature': 3},\n {'danceability': 0.765,\n  'energy': 0.582,\n  'key': 0,\n  'loudness': -4.528,\n  'mode': 1,\n  'speechiness': 0.12,\n  'acousticness': 0.245,\n  'instrumentalness': 8.21e-05,\n  'liveness': 0.154,\n  'valence': 0.36,\n  'tempo': 132.992,\n  'type': 'audio_features',\n  'id': '0PLhwCmQ7cC3ThRGPn3HxF',\n  'uri': 'spotify:track:0PLhwCmQ7cC3ThRGPn3HxF',\n  'track_href': 'https://api.spotify.com/v1/tracks/0PLhwCmQ7cC3ThRGPn3HxF',\n  'analysis_url': 'https://api.spotify.com/v1/audio-analysis/0PLhwCmQ7cC3ThRGPn3HxF',\n  'duration_ms': 171280,\n  'time_signature': 4},\n {'danceability': 0.883,\n  'energy': 0.431,\n  'key': 2,\n  'loudness': -10.128,\n  'mode': 1,\n  'speechiness': 0.0434,\n  'acousticness': 0.591,\n  'instrumentalness': 0.00039,\n  'liveness': 0.104,\n  'valence': 0.768,\n  'tempo': 127.949,\n  'type': 'audio_features',\n  'id': '1UpFb9izAOYlcxWTOQzGf6',\n  'uri': 'spotify:track:1UpFb9izAOYlcxWTOQzGf6',\n  'track_href': 'https://api.spotify.com/v1/tracks/1UpFb9izAOYlcxWTOQzGf6',\n  'analysis_url': 'https://api.spotify.com/v1/audio-analysis/1UpFb9izAOYlcxWTOQzGf6',\n  'duration_ms': 219720,\n  'time_signature': 4},\n {'danceability': 0.312,\n  'energy': 0.479,\n  'key': 0,\n  'loudness': -7.119,\n  'mode': 1,\n  'speechiness': 0.044,\n  'acousticness': 0.464,\n  'instrumentalness': 1.67e-05,\n  'liveness': 0.503,\n  'valence': 0.0823,\n  'tempo': 159.21,\n  'type': 'audio_features',\n  'id': '4AXS0kSzmuhAAYJtVKbZDq',\n  'uri': 'spotify:track:4AXS0kSzmuhAAYJtVKbZDq',\n  'track_href': 'https://api.spotify.com/v1/tracks/4AXS0kSzmuhAAYJtVKbZDq',\n  'analysis_url': 'https://api.spotify.com/v1/audio-analysis/4AXS0kSzmuhAAYJtVKbZDq',\n  'duration_ms': 166137,\n  'time_signature': 4},\n {'danceability': 0.619,\n  'energy': 0.736,\n  'key': 11,\n  'loudness': -7.651,\n  'mode': 1,\n  'speechiness': 0.0425,\n  'acousticness': 0.0328,\n  'instrumentalness': 0,\n  'liveness': 0.0864,\n  'valence': 0.299,\n  'tempo': 93.993,\n  'type': 'audio_features',\n  'id': '0ohcCrxZkBfFbkuRPOZQZX',\n  'uri': 'spotify:track:0ohcCrxZkBfFbkuRPOZQZX',\n  'track_href': 'https://api.spotify.com/v1/tracks/0ohcCrxZkBfFbkuRPOZQZX',\n  'analysis_url': 'https://api.spotify.com/v1/audio-analysis/0ohcCrxZkBfFbkuRPOZQZX',\n  'duration_ms': 208600,\n  'time_signature': 4},\n {'danceability': 0.7,\n  'energy': 0.625,\n  'key': 1,\n  'loudness': -6.845,\n  'mode': 1,\n  'speechiness': 0.0327,\n  'acousticness': 0.0213,\n  'instrumentalness': 0.000453,\n  'liveness': 0.124,\n  'valence': 0.641,\n  'tempo': 128.048,\n  'type': 'audio_features',\n  'id': '2AmVGGu8jIgS7Kn3j6rB0K',\n  'uri': 'spotify:track:2AmVGGu8jIgS7Kn3j6rB0K',\n  'track_href': 'https://api.spotify.com/v1/tracks/2AmVGGu8jIgS7Kn3j6rB0K',\n  'analysis_url': 'https://api.spotify.com/v1/audio-analysis/2AmVGGu8jIgS7Kn3j6rB0K',\n  'duration_ms': 188844,\n  'time_signature': 4},\n {'danceability': 0.86,\n  'energy': 0.422,\n  'key': 1,\n  'loudness': -9.785,\n  'mode': 1,\n  'speechiness': 0.0296,\n  'acousticness': 0.541,\n  'instrumentalness': 0.00449,\n  'liveness': 0.139,\n  'valence': 0.523,\n  'tempo': 99.958,\n  'type': 'audio_features',\n  'id': '5o9iQVktO08gIlRAHqqxtj',\n  'uri': 'spotify:track:5o9iQVktO08gIlRAHqqxtj',\n  'track_href': 'https://api.spotify.com/v1/tracks/5o9iQVktO08gIlRAHqqxtj',\n  'analysis_url': 'https://api.spotify.com/v1/audio-analysis/5o9iQVktO08gIlRAHqqxtj',\n  'duration_ms': 106800,\n  'time_signature': 4},\n {'danceability': 0.701,\n  'energy': 0.666,\n  'key': 2,\n  'loudness': -6.134,\n  'mode': 1,\n  'speechiness': 0.0328,\n  'acousticness': 0.112,\n  'instrumentalness': 0.000828,\n  'liveness': 0.19,\n  'valence': 0.734,\n  'tempo': 112.003,\n  'type': 'audio_features',\n  'id': '5O7TgofxqSQh31TiRcKXzo',\n  'uri': 'spotify:track:5O7TgofxqSQh31TiRcKXzo',\n  'track_href': 'https://api.spotify.com/v1/tracks/5O7TgofxqSQh31TiRcKXzo',\n  'analysis_url': 'https://api.spotify.com/v1/audio-analysis/5O7TgofxqSQh31TiRcKXzo',\n  'duration_ms': 190053,\n  'time_signature': 4},\n {'danceability': 0.743,\n  'energy': 0.443,\n  'key': 4,\n  'loudness': -6.968,\n  'mode': 1,\n  'speechiness': 0.0382,\n  'acousticness': 0.0225,\n  'instrumentalness': 6.76e-06,\n  'liveness': 0.099,\n  'valence': 0.37,\n  'tempo': 119.984,\n  'type': 'audio_features',\n  'id': '4LK36kV9w3KBD2GYL26ZBq',\n  'uri': 'spotify:track:4LK36kV9w3KBD2GYL26ZBq',\n  'track_href': 'https://api.spotify.com/v1/tracks/4LK36kV9w3KBD2GYL26ZBq',\n  'analysis_url': 'https://api.spotify.com/v1/audio-analysis/4LK36kV9w3KBD2GYL26ZBq',\n  'duration_ms': 179573,\n  'time_signature': 4},\n {'danceability': 0.58,\n  'energy': 0.788,\n  'key': 2,\n  'loudness': -4.714,\n  'mode': 1,\n  'speechiness': 0.259,\n  'acousticness': 0.0123,\n  'instrumentalness': 1.84e-05,\n  'liveness': 0.368,\n  'valence': 0.72,\n  'tempo': 148.992,\n  'type': 'audio_features',\n  'id': '1q2Zb0v5ZGxKDktEz7wSPb',\n  'uri': 'spotify:track:1q2Zb0v5ZGxKDktEz7wSPb',\n  'track_href': 'https://api.spotify.com/v1/tracks/1q2Zb0v5ZGxKDktEz7wSPb',\n  'analysis_url': 'https://api.spotify.com/v1/audio-analysis/1q2Zb0v5ZGxKDktEz7wSPb',\n  'duration_ms': 182426,\n  'time_signature': 4},\n {'danceability': 0.622,\n  'energy': 0.392,\n  'key': 9,\n  'loudness': -12.572,\n  'mode': 1,\n  'speechiness': 0.0405,\n  'acousticness': 0.336,\n  'instrumentalness': 0.00962,\n  'liveness': 0.073,\n  'valence': 0.413,\n  'tempo': 79.977,\n  'type': 'audio_features',\n  'id': '287p7lbcw95SrINpsNJTzk',\n  'uri': 'spotify:track:287p7lbcw95SrINpsNJTzk',\n  'track_href': 'https://api.spotify.com/v1/tracks/287p7lbcw95SrINpsNJTzk',\n  'analysis_url': 'https://api.spotify.com/v1/audio-analysis/287p7lbcw95SrINpsNJTzk',\n  'duration_ms': 268528,\n  'time_signature': 4},\n {'danceability': 0.681,\n  'energy': 0.453,\n  'key': 7,\n  'loudness': -8.389,\n  'mode': 1,\n  'speechiness': 0.0358,\n  'acousticness': 0.594,\n  'instrumentalness': 0.00012,\n  'liveness': 0.145,\n  'valence': 0.234,\n  'tempo': 87.995,\n  'type': 'audio_features',\n  'id': '0NVxFntUSEYwPn27lX2J7r',\n  'uri': 'spotify:track:0NVxFntUSEYwPn27lX2J7r',\n  'track_href': 'https://api.spotify.com/v1/tracks/0NVxFntUSEYwPn27lX2J7r',\n  'analysis_url': 'https://api.spotify.com/v1/audio-analysis/0NVxFntUSEYwPn27lX2J7r',\n  'duration_ms': 203685,\n  'time_signature': 4},\n {'danceability': 0.615,\n  'energy': 0.619,\n  'key': 0,\n  'loudness': -4.84,\n  'mode': 1,\n  'speechiness': 0.0533,\n  'acousticness': 0.00897,\n  'instrumentalness': 1.11e-06,\n  'liveness': 0.0839,\n  'valence': 0.797,\n  'tempo': 150.11,\n  'type': 'audio_features',\n  'id': '5k3bwPbg6Kiz4bz76vRnyZ',\n  'uri': 'spotify:track:5k3bwPbg6Kiz4bz76vRnyZ',\n  'track_href': 'https://api.spotify.com/v1/tracks/5k3bwPbg6Kiz4bz76vRnyZ',\n  'analysis_url': 'https://api.spotify.com/v1/audio-analysis/5k3bwPbg6Kiz4bz76vRnyZ',\n  'duration_ms': 195982,\n  'time_signature': 3},\n {'danceability': 0.796,\n  'energy': 0.727,\n  'key': 1,\n  'loudness': -4.726,\n  'mode': 1,\n  'speechiness': 0.04,\n  'acousticness': 0.793,\n  'instrumentalness': 2.49e-05,\n  'liveness': 0.0858,\n  'valence': 0.818,\n  'tempo': 104.98,\n  'type': 'audio_features',\n  'id': '5MG69A9XyXDbBbeOxdR3Tl',\n  'uri': 'spotify:track:5MG69A9XyXDbBbeOxdR3Tl',\n  'track_href': 'https://api.spotify.com/v1/tracks/5MG69A9XyXDbBbeOxdR3Tl',\n  'analysis_url': 'https://api.spotify.com/v1/audio-analysis/5MG69A9XyXDbBbeOxdR3Tl',\n  'duration_ms': 123950,\n  'time_signature': 4},\n {'danceability': 0.502,\n  'energy': 0.666,\n  'key': 2,\n  'loudness': -8.319,\n  'mode': 1,\n  'speechiness': 0.0505,\n  'acousticness': 0.33,\n  'instrumentalness': 0.00638,\n  'liveness': 0.0961,\n  'valence': 0.148,\n  'tempo': 171.957,\n  'type': 'audio_features',\n  'id': '7pJAND8bggxN2rEVYGpPfA',\n  'uri': 'spotify:track:7pJAND8bggxN2rEVYGpPfA',\n  'track_href': 'https://api.spotify.com/v1/tracks/7pJAND8bggxN2rEVYGpPfA',\n  'analysis_url': 'https://api.spotify.com/v1/audio-analysis/7pJAND8bggxN2rEVYGpPfA',\n  'duration_ms': 251269,\n  'time_signature': 4},\n {'danceability': 0.854,\n  'energy': 0.563,\n  'key': 7,\n  'loudness': -5.219,\n  'mode': 0,\n  'speechiness': 0.0305,\n  'acousticness': 0.78,\n  'instrumentalness': 3.91e-05,\n  'liveness': 0.105,\n  'valence': 0.479,\n  'tempo': 103.26,\n  'type': 'audio_features',\n  'id': '1VhnwVLbrEynUIo8VdyBT9',\n  'uri': 'spotify:track:1VhnwVLbrEynUIo8VdyBT9',\n  'track_href': 'https://api.spotify.com/v1/tracks/1VhnwVLbrEynUIo8VdyBT9',\n  'analysis_url': 'https://api.spotify.com/v1/audio-analysis/1VhnwVLbrEynUIo8VdyBT9',\n  'duration_ms': 208373,\n  'time_signature': 4},\n {'danceability': 0.439,\n  'energy': 0.771,\n  'key': 3,\n  'loudness': -4.737,\n  'mode': 1,\n  'speechiness': 0.0467,\n  'acousticness': 0.14,\n  'instrumentalness': 0.0014,\n  'liveness': 0.621,\n  'valence': 0.268,\n  'tempo': 119.943,\n  'type': 'audio_features',\n  'id': '7gJNP36MQMaE3HyyKkwgAO',\n  'uri': 'spotify:track:7gJNP36MQMaE3HyyKkwgAO',\n  'track_href': 'https://api.spotify.com/v1/tracks/7gJNP36MQMaE3HyyKkwgAO',\n  'analysis_url': 'https://api.spotify.com/v1/audio-analysis/7gJNP36MQMaE3HyyKkwgAO',\n  'duration_ms': 223800,\n  'time_signature': 4},\n {'danceability': 0.71,\n  'energy': 0.342,\n  'key': 6,\n  'loudness': -7.222,\n  'mode': 1,\n  'speechiness': 0.0651,\n  'acousticness': 0.321,\n  'instrumentalness': 0.599,\n  'liveness': 0.139,\n  'valence': 0.456,\n  'tempo': 173.05,\n  'type': 'audio_features',\n  'id': '13795WBWdWvQHCXeOPLCWQ',\n  'uri': 'spotify:track:13795WBWdWvQHCXeOPLCWQ',\n  'track_href': 'https://api.spotify.com/v1/tracks/13795WBWdWvQHCXeOPLCWQ',\n  'analysis_url': 'https://api.spotify.com/v1/audio-analysis/13795WBWdWvQHCXeOPLCWQ',\n  'duration_ms': 177415,\n  'time_signature': 4},\n {'danceability': 0.424,\n  'energy': 0.943,\n  'key': 6,\n  'loudness': -5.435,\n  'mode': 1,\n  'speechiness': 0.08,\n  'acousticness': 0.00108,\n  'instrumentalness': 0,\n  'liveness': 0.279,\n  'valence': 0.521,\n  'tempo': 163.937,\n  'type': 'audio_features',\n  'id': '3OSgKpb2c1VbFqDOqiz8tZ',\n  'uri': 'spotify:track:3OSgKpb2c1VbFqDOqiz8tZ',\n  'track_href': 'https://api.spotify.com/v1/tracks/3OSgKpb2c1VbFqDOqiz8tZ',\n  'analysis_url': 'https://api.spotify.com/v1/audio-analysis/3OSgKpb2c1VbFqDOqiz8tZ',\n  'duration_ms': 186147,\n  'time_signature': 4},\n {'danceability': 0.395,\n  'energy': 0.495,\n  'key': 3,\n  'loudness': -9.087,\n  'mode': 1,\n  'speechiness': 0.0329,\n  'acousticness': 0.496,\n  'instrumentalness': 0.0378,\n  'liveness': 0.12,\n  'valence': 0.517,\n  'tempo': 168.01,\n  'type': 'audio_features',\n  'id': '7CS9hRKJNmBGWUowSjhedb',\n  'uri': 'spotify:track:7CS9hRKJNmBGWUowSjhedb',\n  'track_href': 'https://api.spotify.com/v1/tracks/7CS9hRKJNmBGWUowSjhedb',\n  'analysis_url': 'https://api.spotify.com/v1/audio-analysis/7CS9hRKJNmBGWUowSjhedb',\n  'duration_ms': 188044,\n  'time_signature': 4},\n {'danceability': 0.654,\n  'energy': 0.717,\n  'key': 4,\n  'loudness': -6.564,\n  'mode': 1,\n  'speechiness': 0.0416,\n  'acousticness': 0.089,\n  'instrumentalness': 0.00148,\n  'liveness': 0.0596,\n  'valence': 0.961,\n  'tempo': 159.963,\n  'type': 'audio_features',\n  'id': '4S7misxIYuUVypO0NwDwuW',\n  'uri': 'spotify:track:4S7misxIYuUVypO0NwDwuW',\n  'track_href': 'https://api.spotify.com/v1/tracks/4S7misxIYuUVypO0NwDwuW',\n  'analysis_url': 'https://api.spotify.com/v1/audio-analysis/4S7misxIYuUVypO0NwDwuW',\n  'duration_ms': 178150,\n  'time_signature': 4},\n {'danceability': 0.617,\n  'energy': 0.71,\n  'key': 0,\n  'loudness': -10.114,\n  'mode': 1,\n  'speechiness': 0.0326,\n  'acousticness': 0.185,\n  'instrumentalness': 0.378,\n  'liveness': 0.117,\n  'valence': 0.692,\n  'tempo': 97.019,\n  'type': 'audio_features',\n  'id': '2DGdgztVbE3pFmqoF1rHzp',\n  'uri': 'spotify:track:2DGdgztVbE3pFmqoF1rHzp',\n  'track_href': 'https://api.spotify.com/v1/tracks/2DGdgztVbE3pFmqoF1rHzp',\n  'analysis_url': 'https://api.spotify.com/v1/audio-analysis/2DGdgztVbE3pFmqoF1rHzp',\n  'duration_ms': 206857,\n  'time_signature': 4},\n {'danceability': 0.618,\n  'energy': 0.63,\n  'key': 1,\n  'loudness': -7.244,\n  'mode': 1,\n  'speechiness': 0.0406,\n  'acousticness': 0.209,\n  'instrumentalness': 1.71e-05,\n  'liveness': 0.0622,\n  'valence': 0.592,\n  'tempo': 155.035,\n  'type': 'audio_features',\n  'id': '0JVd3a4OYQCFg6MPKDtQTx',\n  'uri': 'spotify:track:0JVd3a4OYQCFg6MPKDtQTx',\n  'track_href': 'https://api.spotify.com/v1/tracks/0JVd3a4OYQCFg6MPKDtQTx',\n  'analysis_url': 'https://api.spotify.com/v1/audio-analysis/0JVd3a4OYQCFg6MPKDtQTx',\n  'duration_ms': 191087,\n  'time_signature': 4},\n {'danceability': 0.509,\n  'energy': 0.894,\n  'key': 4,\n  'loudness': -1.136,\n  'mode': 0,\n  'speechiness': 0.083,\n  'acousticness': 0.1,\n  'instrumentalness': 0,\n  'liveness': 0.258,\n  'valence': 0.319,\n  'tempo': 91.881,\n  'type': 'audio_features',\n  'id': '52ewMn6BRCU9hAPysg8TLm',\n  'uri': 'spotify:track:52ewMn6BRCU9hAPysg8TLm',\n  'track_href': 'https://api.spotify.com/v1/tracks/52ewMn6BRCU9hAPysg8TLm',\n  'analysis_url': 'https://api.spotify.com/v1/audio-analysis/52ewMn6BRCU9hAPysg8TLm',\n  'duration_ms': 213502,\n  'time_signature': 4},\n {'danceability': 0.617,\n  'energy': 0.649,\n  'key': 2,\n  'loudness': -8.149,\n  'mode': 1,\n  'speechiness': 0.0374,\n  'acousticness': 0.319,\n  'instrumentalness': 0.00343,\n  'liveness': 0.0917,\n  'valence': 0.598,\n  'tempo': 140.913,\n  'type': 'audio_features',\n  'id': '1Zj4Z2gQP0jgQMqxdi8gcr',\n  'uri': 'spotify:track:1Zj4Z2gQP0jgQMqxdi8gcr',\n  'track_href': 'https://api.spotify.com/v1/tracks/1Zj4Z2gQP0jgQMqxdi8gcr',\n  'analysis_url': 'https://api.spotify.com/v1/audio-analysis/1Zj4Z2gQP0jgQMqxdi8gcr',\n  'duration_ms': 143668,\n  'time_signature': 4},\n {'danceability': 0.439,\n  'energy': 0.61,\n  'key': 9,\n  'loudness': -7.236,\n  'mode': 1,\n  'speechiness': 0.116,\n  'acousticness': 0.593,\n  'instrumentalness': 1.07e-05,\n  'liveness': 0.341,\n  'valence': 0.172,\n  'tempo': 181.088,\n  'type': 'audio_features',\n  'id': '61KpQadow081I2AsbeLcsb',\n  'uri': 'spotify:track:61KpQadow081I2AsbeLcsb',\n  'track_href': 'https://api.spotify.com/v1/tracks/61KpQadow081I2AsbeLcsb',\n  'analysis_url': 'https://api.spotify.com/v1/audio-analysis/61KpQadow081I2AsbeLcsb',\n  'duration_ms': 215508,\n  'time_signature': 4},\n {'danceability': 0.636,\n  'energy': 0.527,\n  'key': 10,\n  'loudness': -7.472,\n  'mode': 1,\n  'speechiness': 0.0414,\n  'acousticness': 0.771,\n  'instrumentalness': 1.3e-06,\n  'liveness': 0.126,\n  'valence': 0.222,\n  'tempo': 127.999,\n  'type': 'audio_features',\n  'id': '7AX1eCw6qcX54PrDylynJr',\n  'uri': 'spotify:track:7AX1eCw6qcX54PrDylynJr',\n  'track_href': 'https://api.spotify.com/v1/tracks/7AX1eCw6qcX54PrDylynJr',\n  'analysis_url': 'https://api.spotify.com/v1/audio-analysis/7AX1eCw6qcX54PrDylynJr',\n  'duration_ms': 249494,\n  'time_signature': 4},\n {'danceability': 0.599,\n  'energy': 0.76,\n  'key': 7,\n  'loudness': -4.935,\n  'mode': 1,\n  'speechiness': 0.0331,\n  'acousticness': 0.00401,\n  'instrumentalness': 0.155,\n  'liveness': 0.133,\n  'valence': 0.251,\n  'tempo': 128.047,\n  'type': 'audio_features',\n  'id': '0JYR0lyLlDinGYd2XDMXmO',\n  'uri': 'spotify:track:0JYR0lyLlDinGYd2XDMXmO',\n  'track_href': 'https://api.spotify.com/v1/tracks/0JYR0lyLlDinGYd2XDMXmO',\n  'analysis_url': 'https://api.spotify.com/v1/audio-analysis/0JYR0lyLlDinGYd2XDMXmO',\n  'duration_ms': 281027,\n  'time_signature': 4},\n {'danceability': 0.68,\n  'energy': 0.736,\n  'key': 0,\n  'loudness': -3.211,\n  'mode': 1,\n  'speechiness': 0.0451,\n  'acousticness': 0.024,\n  'instrumentalness': 0,\n  'liveness': 0.257,\n  'valence': 0.77,\n  'tempo': 109.979,\n  'type': 'audio_features',\n  'id': '4LXuSaMzY515ubvtGnCvBi',\n  'uri': 'spotify:track:4LXuSaMzY515ubvtGnCvBi',\n  'track_href': 'https://api.spotify.com/v1/tracks/4LXuSaMzY515ubvtGnCvBi',\n  'analysis_url': 'https://api.spotify.com/v1/audio-analysis/4LXuSaMzY515ubvtGnCvBi',\n  'duration_ms': 181799,\n  'time_signature': 4},\n {'danceability': 0.605,\n  'energy': 0.702,\n  'key': 1,\n  'loudness': -6.587,\n  'mode': 1,\n  'speechiness': 0.0496,\n  'acousticness': 0.0312,\n  'instrumentalness': 0,\n  'liveness': 0.0596,\n  'valence': 0.631,\n  'tempo': 94.949,\n  'type': 'audio_features',\n  'id': '1H2HqAQw4sDHQiZQDvsAYd',\n  'uri': 'spotify:track:1H2HqAQw4sDHQiZQDvsAYd',\n  'track_href': 'https://api.spotify.com/v1/tracks/1H2HqAQw4sDHQiZQDvsAYd',\n  'analysis_url': 'https://api.spotify.com/v1/audio-analysis/1H2HqAQw4sDHQiZQDvsAYd',\n  'duration_ms': 148778,\n  'time_signature': 4},\n {'danceability': 0.628,\n  'energy': 0.504,\n  'key': 11,\n  'loudness': -10.092,\n  'mode': 1,\n  'speechiness': 0.0482,\n  'acousticness': 0.345,\n  'instrumentalness': 1.71e-05,\n  'liveness': 0.334,\n  'valence': 0.375,\n  'tempo': 126.083,\n  'type': 'audio_features',\n  'id': '3bHeVMbA84wmuHr5p2POrp',\n  'uri': 'spotify:track:3bHeVMbA84wmuHr5p2POrp',\n  'track_href': 'https://api.spotify.com/v1/tracks/3bHeVMbA84wmuHr5p2POrp',\n  'analysis_url': 'https://api.spotify.com/v1/audio-analysis/3bHeVMbA84wmuHr5p2POrp',\n  'duration_ms': 244369,\n  'time_signature': 4},\n {'danceability': 0.722,\n  'energy': 0.817,\n  'key': 0,\n  'loudness': -2.872,\n  'mode': 0,\n  'speechiness': 0.0488,\n  'acousticness': 0.0401,\n  'instrumentalness': 5.57e-05,\n  'liveness': 0.255,\n  'valence': 0.785,\n  'tempo': 130.014,\n  'type': 'audio_features',\n  'id': '6Yw8OzTprQU3pqwnBRodi3',\n  'uri': 'spotify:track:6Yw8OzTprQU3pqwnBRodi3',\n  'track_href': 'https://api.spotify.com/v1/tracks/6Yw8OzTprQU3pqwnBRodi3',\n  'analysis_url': 'https://api.spotify.com/v1/audio-analysis/6Yw8OzTprQU3pqwnBRodi3',\n  'duration_ms': 156462,\n  'time_signature': 4},\n {'danceability': 0.641,\n  'energy': 0.776,\n  'key': 0,\n  'loudness': -5.171,\n  'mode': 1,\n  'speechiness': 0.0684,\n  'acousticness': 0.0017,\n  'instrumentalness': 0.00021,\n  'liveness': 0.127,\n  'valence': 0.554,\n  'tempo': 114.679,\n  'type': 'audio_features',\n  'id': '32JZt8EmiioCGTU6UIXJ4E',\n  'uri': 'spotify:track:32JZt8EmiioCGTU6UIXJ4E',\n  'track_href': 'https://api.spotify.com/v1/tracks/32JZt8EmiioCGTU6UIXJ4E',\n  'analysis_url': 'https://api.spotify.com/v1/audio-analysis/32JZt8EmiioCGTU6UIXJ4E',\n  'duration_ms': 213025,\n  'time_signature': 4},\n {'danceability': 0.763,\n  'energy': 0.599,\n  'key': 6,\n  'loudness': -6.194,\n  'mode': 1,\n  'speechiness': 0.12,\n  'acousticness': 0.519,\n  'instrumentalness': 1.08e-06,\n  'liveness': 0.148,\n  'valence': 0.614,\n  'tempo': 122.802,\n  'type': 'audio_features',\n  'id': '29CDTN3TfjGr4f1yRQqAtV',\n  'uri': 'spotify:track:29CDTN3TfjGr4f1yRQqAtV',\n  'track_href': 'https://api.spotify.com/v1/tracks/29CDTN3TfjGr4f1yRQqAtV',\n  'analysis_url': 'https://api.spotify.com/v1/audio-analysis/29CDTN3TfjGr4f1yRQqAtV',\n  'duration_ms': 220840,\n  'time_signature': 4},\n {'danceability': 0.716,\n  'energy': 0.42,\n  'key': 9,\n  'loudness': -7.229,\n  'mode': 1,\n  'speechiness': 0.031,\n  'acousticness': 0.541,\n  'instrumentalness': 0,\n  'liveness': 0.135,\n  'valence': 0.538,\n  'tempo': 79.868,\n  'type': 'audio_features',\n  'id': '3hf7tTSZ6jgIdLIiT9Kgq0',\n  'uri': 'spotify:track:3hf7tTSZ6jgIdLIiT9Kgq0',\n  'track_href': 'https://api.spotify.com/v1/tracks/3hf7tTSZ6jgIdLIiT9Kgq0',\n  'analysis_url': 'https://api.spotify.com/v1/audio-analysis/3hf7tTSZ6jgIdLIiT9Kgq0',\n  'duration_ms': 163800,\n  'time_signature': 4},\n {'danceability': 0.639,\n  'energy': 0.569,\n  'key': 0,\n  'loudness': -7.236,\n  'mode': 0,\n  'speechiness': 0.0487,\n  'acousticness': 0.0581,\n  'instrumentalness': 0.000169,\n  'liveness': 0.108,\n  'valence': 0.616,\n  'tempo': 142.967,\n  'type': 'audio_features',\n  'id': '3gwoz4xZuye0agjYgrC2je',\n  'uri': 'spotify:track:3gwoz4xZuye0agjYgrC2je',\n  'track_href': 'https://api.spotify.com/v1/tracks/3gwoz4xZuye0agjYgrC2je',\n  'analysis_url': 'https://api.spotify.com/v1/audio-analysis/3gwoz4xZuye0agjYgrC2je',\n  'duration_ms': 226781,\n  'time_signature': 4},\n {'danceability': 0.689,\n  'energy': 0.299,\n  'key': 4,\n  'loudness': -9.203,\n  'mode': 1,\n  'speechiness': 0.0324,\n  'acousticness': 0.825,\n  'instrumentalness': 7.75e-06,\n  'liveness': 0.469,\n  'valence': 0.605,\n  'tempo': 93.991,\n  'type': 'audio_features',\n  'id': '3Dg3AZOd8xL6hQ3CHRB83h',\n  'uri': 'spotify:track:3Dg3AZOd8xL6hQ3CHRB83h',\n  'track_href': 'https://api.spotify.com/v1/tracks/3Dg3AZOd8xL6hQ3CHRB83h',\n  'analysis_url': 'https://api.spotify.com/v1/audio-analysis/3Dg3AZOd8xL6hQ3CHRB83h',\n  'duration_ms': 195231,\n  'time_signature': 4},\n {'danceability': 0.541,\n  'energy': 0.862,\n  'key': 2,\n  'loudness': -6.674,\n  'mode': 1,\n  'speechiness': 0.0329,\n  'acousticness': 0.00572,\n  'instrumentalness': 0.000106,\n  'liveness': 0.644,\n  'valence': 0.472,\n  'tempo': 145.013,\n  'type': 'audio_features',\n  'id': '5GIsnSmSyFM8dI3e4dP1G5',\n  'uri': 'spotify:track:5GIsnSmSyFM8dI3e4dP1G5',\n  'track_href': 'https://api.spotify.com/v1/tracks/5GIsnSmSyFM8dI3e4dP1G5',\n  'analysis_url': 'https://api.spotify.com/v1/audio-analysis/5GIsnSmSyFM8dI3e4dP1G5',\n  'duration_ms': 175312,\n  'time_signature': 4},\n {'danceability': 0.665,\n  'energy': 0.652,\n  'key': 2,\n  'loudness': -6.242,\n  'mode': 1,\n  'speechiness': 0.0727,\n  'acousticness': 0.029,\n  'instrumentalness': 0.0295,\n  'liveness': 0.127,\n  'valence': 0.809,\n  'tempo': 155.999,\n  'type': 'audio_features',\n  'id': '4KrwobI2xa03a24kPDQIvh',\n  'uri': 'spotify:track:4KrwobI2xa03a24kPDQIvh',\n  'track_href': 'https://api.spotify.com/v1/tracks/4KrwobI2xa03a24kPDQIvh',\n  'analysis_url': 'https://api.spotify.com/v1/audio-analysis/4KrwobI2xa03a24kPDQIvh',\n  'duration_ms': 167722,\n  'time_signature': 4},\n {'danceability': 0.839,\n  'energy': 0.525,\n  'key': 2,\n  'loudness': -4.873,\n  'mode': 1,\n  'speechiness': 0.131,\n  'acousticness': 0.0303,\n  'instrumentalness': 0,\n  'liveness': 0.302,\n  'valence': 0.831,\n  'tempo': 135.996,\n  'type': 'audio_features',\n  'id': '5nsMKSAJwcr1pA9I6PW429',\n  'uri': 'spotify:track:5nsMKSAJwcr1pA9I6PW429',\n  'track_href': 'https://api.spotify.com/v1/tracks/5nsMKSAJwcr1pA9I6PW429',\n  'analysis_url': 'https://api.spotify.com/v1/audio-analysis/5nsMKSAJwcr1pA9I6PW429',\n  'duration_ms': 133897,\n  'time_signature': 4},\n {'danceability': 0.534,\n  'energy': 0.649,\n  'key': 5,\n  'loudness': -7.531,\n  'mode': 1,\n  'speechiness': 0.0435,\n  'acousticness': 0.00712,\n  'instrumentalness': 6.22e-06,\n  'liveness': 0.137,\n  'valence': 0.358,\n  'tempo': 161.828,\n  'type': 'audio_features',\n  'id': '59zrASvoFolvYcBSewxuT4',\n  'uri': 'spotify:track:59zrASvoFolvYcBSewxuT4',\n  'track_href': 'https://api.spotify.com/v1/tracks/59zrASvoFolvYcBSewxuT4',\n  'analysis_url': 'https://api.spotify.com/v1/audio-analysis/59zrASvoFolvYcBSewxuT4',\n  'duration_ms': 174279,\n  'time_signature': 4},\n {'danceability': 0.621,\n  'energy': 0.766,\n  'key': 1,\n  'loudness': -1.73,\n  'mode': 0,\n  'speechiness': 0.0392,\n  'acousticness': 0.433,\n  'instrumentalness': 9.2e-06,\n  'liveness': 0.323,\n  'valence': 0.612,\n  'tempo': 138.974,\n  'type': 'audio_features',\n  'id': '68LD7fYCVnACJtnLKHd3Q9',\n  'uri': 'spotify:track:68LD7fYCVnACJtnLKHd3Q9',\n  'track_href': 'https://api.spotify.com/v1/tracks/68LD7fYCVnACJtnLKHd3Q9',\n  'analysis_url': 'https://api.spotify.com/v1/audio-analysis/68LD7fYCVnACJtnLKHd3Q9',\n  'duration_ms': 153784,\n  'time_signature': 4},\n {'danceability': 0.662,\n  'energy': 0.715,\n  'key': 9,\n  'loudness': -5.132,\n  'mode': 0,\n  'speechiness': 0.0474,\n  'acousticness': 0.000213,\n  'instrumentalness': 0.0966,\n  'liveness': 0.138,\n  'valence': 0.708,\n  'tempo': 125.022,\n  'type': 'audio_features',\n  'id': '2OZJWIhTXHL3UKJmhG5kxq',\n  'uri': 'spotify:track:2OZJWIhTXHL3UKJmhG5kxq',\n  'track_href': 'https://api.spotify.com/v1/tracks/2OZJWIhTXHL3UKJmhG5kxq',\n  'analysis_url': 'https://api.spotify.com/v1/audio-analysis/2OZJWIhTXHL3UKJmhG5kxq',\n  'duration_ms': 214747,\n  'time_signature': 4},\n {'danceability': 0.674,\n  'energy': 0.366,\n  'key': 4,\n  'loudness': -6.539,\n  'mode': 1,\n  'speechiness': 0.0381,\n  'acousticness': 0.341,\n  'instrumentalness': 7.3e-06,\n  'liveness': 0.125,\n  'valence': 0.346,\n  'tempo': 126.994,\n  'type': 'audio_features',\n  'id': '7xW3rU5rzv4ghw0h8APxuH',\n  'uri': 'spotify:track:7xW3rU5rzv4ghw0h8APxuH',\n  'track_href': 'https://api.spotify.com/v1/tracks/7xW3rU5rzv4ghw0h8APxuH',\n  'analysis_url': 'https://api.spotify.com/v1/audio-analysis/7xW3rU5rzv4ghw0h8APxuH',\n  'duration_ms': 168543,\n  'time_signature': 3},\n {'danceability': 0.682,\n  'energy': 0.683,\n  'key': 8,\n  'loudness': -6.444,\n  'mode': 0,\n  'speechiness': 0.0287,\n  'acousticness': 0.156,\n  'instrumentalness': 2.32e-05,\n  'liveness': 0.273,\n  'valence': 0.64,\n  'tempo': 120.023,\n  'type': 'audio_features',\n  'id': '57RA3JGafJm5zRtKJiKPIm',\n  'uri': 'spotify:track:57RA3JGafJm5zRtKJiKPIm',\n  'track_href': 'https://api.spotify.com/v1/tracks/57RA3JGafJm5zRtKJiKPIm',\n  'analysis_url': 'https://api.spotify.com/v1/audio-analysis/57RA3JGafJm5zRtKJiKPIm',\n  'duration_ms': 178000,\n  'time_signature': 4},\n {'danceability': 0.738,\n  'energy': 0.638,\n  'key': 6,\n  'loudness': -8.753,\n  'mode': 0,\n  'speechiness': 0.12,\n  'acousticness': 0.444,\n  'instrumentalness': 0.0138,\n  'liveness': 0.312,\n  'valence': 0.64,\n  'tempo': 84.8,\n  'type': 'audio_features',\n  'id': '0YY1xpXpPYL2N8tVwXBITr',\n  'uri': 'spotify:track:0YY1xpXpPYL2N8tVwXBITr',\n  'track_href': 'https://api.spotify.com/v1/tracks/0YY1xpXpPYL2N8tVwXBITr',\n  'analysis_url': 'https://api.spotify.com/v1/audio-analysis/0YY1xpXpPYL2N8tVwXBITr',\n  'duration_ms': 147997,\n  'time_signature': 4},\n {'danceability': 0.509,\n  'energy': 0.636,\n  'key': 2,\n  'loudness': -5.811,\n  'mode': 1,\n  'speechiness': 0.0453,\n  'acousticness': 0.635,\n  'instrumentalness': 0.000127,\n  'liveness': 0.613,\n  'valence': 0.302,\n  'tempo': 94.135,\n  'type': 'audio_features',\n  'id': '1uE4onkFvDXyBjIGsu9PZ5',\n  'uri': 'spotify:track:1uE4onkFvDXyBjIGsu9PZ5',\n  'track_href': 'https://api.spotify.com/v1/tracks/1uE4onkFvDXyBjIGsu9PZ5',\n  'analysis_url': 'https://api.spotify.com/v1/audio-analysis/1uE4onkFvDXyBjIGsu9PZ5',\n  'duration_ms': 200702,\n  'time_signature': 4},\n {'danceability': 0.589,\n  'energy': 0.631,\n  'key': 3,\n  'loudness': -7.566,\n  'mode': 1,\n  'speechiness': 0.0389,\n  'acousticness': 0.0988,\n  'instrumentalness': 0.00317,\n  'liveness': 0.17,\n  'valence': 0.773,\n  'tempo': 158.988,\n  'type': 'audio_features',\n  'id': '5VDmaEUjH0SGBDDjYgoxHW',\n  'uri': 'spotify:track:5VDmaEUjH0SGBDDjYgoxHW',\n  'track_href': 'https://api.spotify.com/v1/tracks/5VDmaEUjH0SGBDDjYgoxHW',\n  'analysis_url': 'https://api.spotify.com/v1/audio-analysis/5VDmaEUjH0SGBDDjYgoxHW',\n  'duration_ms': 161749,\n  'time_signature': 4},\n {'danceability': 0.629,\n  'energy': 0.629,\n  'key': 8,\n  'loudness': -5.379,\n  'mode': 1,\n  'speechiness': 0.0263,\n  'acousticness': 0.00198,\n  'instrumentalness': 0,\n  'liveness': 0.093,\n  'valence': 0.578,\n  'tempo': 92.969,\n  'type': 'audio_features',\n  'id': '4jhcEBwfAl4n6nAG1F4QT3',\n  'uri': 'spotify:track:4jhcEBwfAl4n6nAG1F4QT3',\n  'track_href': 'https://api.spotify.com/v1/tracks/4jhcEBwfAl4n6nAG1F4QT3',\n  'analysis_url': 'https://api.spotify.com/v1/audio-analysis/4jhcEBwfAl4n6nAG1F4QT3',\n  'duration_ms': 146640,\n  'time_signature': 4},\n {'danceability': 0.744,\n  'energy': 0.619,\n  'key': 0,\n  'loudness': -9.805,\n  'mode': 1,\n  'speechiness': 0.039,\n  'acousticness': 0.598,\n  'instrumentalness': 0.00372,\n  'liveness': 0.231,\n  'valence': 0.641,\n  'tempo': 112.997,\n  'type': 'audio_features',\n  'id': '7B3z0ySL9Rr0XvZEAjWZzM',\n  'uri': 'spotify:track:7B3z0ySL9Rr0XvZEAjWZzM',\n  'track_href': 'https://api.spotify.com/v1/tracks/7B3z0ySL9Rr0XvZEAjWZzM',\n  'analysis_url': 'https://api.spotify.com/v1/audio-analysis/7B3z0ySL9Rr0XvZEAjWZzM',\n  'duration_ms': 188387,\n  'time_signature': 4},\n {'danceability': 0.866,\n  'energy': 0.754,\n  'key': 0,\n  'loudness': -5.531,\n  'mode': 1,\n  'speechiness': 0.0356,\n  'acousticness': 0.0364,\n  'instrumentalness': 0.00181,\n  'liveness': 0.0801,\n  'valence': 0.962,\n  'tempo': 115.034,\n  'type': 'audio_features',\n  'id': '0CWvHfEwbeBVN0RViTybvL',\n  'uri': 'spotify:track:0CWvHfEwbeBVN0RViTybvL',\n  'track_href': 'https://api.spotify.com/v1/tracks/0CWvHfEwbeBVN0RViTybvL',\n  'analysis_url': 'https://api.spotify.com/v1/audio-analysis/0CWvHfEwbeBVN0RViTybvL',\n  'duration_ms': 229173,\n  'time_signature': 4},\n {'danceability': 0.895,\n  'energy': 0.407,\n  'key': 1,\n  'loudness': -8.331,\n  'mode': 1,\n  'speechiness': 0.109,\n  'acousticness': 0.37,\n  'instrumentalness': 0,\n  'liveness': 0.0553,\n  'valence': 0.964,\n  'tempo': 127.071,\n  'type': 'audio_features',\n  'id': '0ODp4fhCOXpxdUMD6ghM3V',\n  'uri': 'spotify:track:0ODp4fhCOXpxdUMD6ghM3V',\n  'track_href': 'https://api.spotify.com/v1/tracks/0ODp4fhCOXpxdUMD6ghM3V',\n  'analysis_url': 'https://api.spotify.com/v1/audio-analysis/0ODp4fhCOXpxdUMD6ghM3V',\n  'duration_ms': 97293,\n  'time_signature': 3},\n {'danceability': 0.538,\n  'energy': 0.61,\n  'key': 2,\n  'loudness': -6.103,\n  'mode': 1,\n  'speechiness': 0.0329,\n  'acousticness': 0.105,\n  'instrumentalness': 5.88e-06,\n  'liveness': 0.22,\n  'valence': 0.187,\n  'tempo': 120.051,\n  'type': 'audio_features',\n  'id': '1cKWyEiGWLXAUTz6jI1d7c',\n  'uri': 'spotify:track:1cKWyEiGWLXAUTz6jI1d7c',\n  'track_href': 'https://api.spotify.com/v1/tracks/1cKWyEiGWLXAUTz6jI1d7c',\n  'analysis_url': 'https://api.spotify.com/v1/audio-analysis/1cKWyEiGWLXAUTz6jI1d7c',\n  'duration_ms': 213293,\n  'time_signature': 4},\n {'danceability': 0.729,\n  'energy': 0.525,\n  'key': 8,\n  'loudness': -7.241,\n  'mode': 1,\n  'speechiness': 0.0995,\n  'acousticness': 0.228,\n  'instrumentalness': 4.36e-05,\n  'liveness': 0.309,\n  'valence': 0.782,\n  'tempo': 110.012,\n  'type': 'audio_features',\n  'id': '3qOcLXQaamgc5R7pDQKQQp',\n  'uri': 'spotify:track:3qOcLXQaamgc5R7pDQKQQp',\n  'track_href': 'https://api.spotify.com/v1/tracks/3qOcLXQaamgc5R7pDQKQQp',\n  'analysis_url': 'https://api.spotify.com/v1/audio-analysis/3qOcLXQaamgc5R7pDQKQQp',\n  'duration_ms': 176481,\n  'time_signature': 4},\n {'danceability': 0.639,\n  'energy': 0.63,\n  'key': 2,\n  'loudness': -6.1,\n  'mode': 1,\n  'speechiness': 0.0325,\n  'acousticness': 0.0151,\n  'instrumentalness': 0.0374,\n  'liveness': 0.0959,\n  'valence': 0.218,\n  'tempo': 125.648,\n  'type': 'audio_features',\n  'id': '1n4vgMWmmNlXrvyxQFhUEl',\n  'uri': 'spotify:track:1n4vgMWmmNlXrvyxQFhUEl',\n  'track_href': 'https://api.spotify.com/v1/tracks/1n4vgMWmmNlXrvyxQFhUEl',\n  'analysis_url': 'https://api.spotify.com/v1/audio-analysis/1n4vgMWmmNlXrvyxQFhUEl',\n  'duration_ms': 319371,\n  'time_signature': 4},\n {'danceability': 0.891,\n  'energy': 0.627,\n  'key': 4,\n  'loudness': -8.458,\n  'mode': 1,\n  'speechiness': 0.0566,\n  'acousticness': 0.435,\n  'instrumentalness': 0,\n  'liveness': 0.266,\n  'valence': 0.922,\n  'tempo': 136.024,\n  'type': 'audio_features',\n  'id': '1SdItcSOTD14tvIo8UzA6k',\n  'uri': 'spotify:track:1SdItcSOTD14tvIo8UzA6k',\n  'track_href': 'https://api.spotify.com/v1/tracks/1SdItcSOTD14tvIo8UzA6k',\n  'analysis_url': 'https://api.spotify.com/v1/audio-analysis/1SdItcSOTD14tvIo8UzA6k',\n  'duration_ms': 200293,\n  'time_signature': 4},\n {'danceability': 0.512,\n  'energy': 0.77,\n  'key': 7,\n  'loudness': -5.796,\n  'mode': 1,\n  'speechiness': 0.0368,\n  'acousticness': 0.001,\n  'instrumentalness': 0,\n  'liveness': 0.118,\n  'valence': 0.551,\n  'tempo': 87.856,\n  'type': 'audio_features',\n  'id': '2DhYQXK6ZkOTB1665GTagQ',\n  'uri': 'spotify:track:2DhYQXK6ZkOTB1665GTagQ',\n  'track_href': 'https://api.spotify.com/v1/tracks/2DhYQXK6ZkOTB1665GTagQ',\n  'analysis_url': 'https://api.spotify.com/v1/audio-analysis/2DhYQXK6ZkOTB1665GTagQ',\n  'duration_ms': 174552,\n  'time_signature': 4},\n {'danceability': 0.485,\n  'energy': 0.883,\n  'key': 5,\n  'loudness': -4.906,\n  'mode': 1,\n  'speechiness': 0.0403,\n  'acousticness': 0.00177,\n  'instrumentalness': 6.38e-06,\n  'liveness': 0.37,\n  'valence': 0.604,\n  'tempo': 129.021,\n  'type': 'audio_features',\n  'id': '5GZpFMMargJUqhbLoI94Tz',\n  'uri': 'spotify:track:5GZpFMMargJUqhbLoI94Tz',\n  'track_href': 'https://api.spotify.com/v1/tracks/5GZpFMMargJUqhbLoI94Tz',\n  'analysis_url': 'https://api.spotify.com/v1/audio-analysis/5GZpFMMargJUqhbLoI94Tz',\n  'duration_ms': 188400,\n  'time_signature': 4},\n {'danceability': 0.501,\n  'energy': 0.815,\n  'key': 1,\n  'loudness': -4.865,\n  'mode': 1,\n  'speechiness': 0.0436,\n  'acousticness': 0.0513,\n  'instrumentalness': 0,\n  'liveness': 0.106,\n  'valence': 0.46,\n  'tempo': 160.087,\n  'type': 'audio_features',\n  'id': '4k3lPl8YTKuY8c1HelVnm3',\n  'uri': 'spotify:track:4k3lPl8YTKuY8c1HelVnm3',\n  'track_href': 'https://api.spotify.com/v1/tracks/4k3lPl8YTKuY8c1HelVnm3',\n  'analysis_url': 'https://api.spotify.com/v1/audio-analysis/4k3lPl8YTKuY8c1HelVnm3',\n  'duration_ms': 224213,\n  'time_signature': 4},\n {'danceability': 0.463,\n  'energy': 0.76,\n  'key': 2,\n  'loudness': -5.958,\n  'mode': 1,\n  'speechiness': 0.11,\n  'acousticness': 0.0379,\n  'instrumentalness': 0,\n  'liveness': 0.115,\n  'valence': 0.65,\n  'tempo': 123.899,\n  'type': 'audio_features',\n  'id': '0ODaBMQ3tbTefbmbMWTwdT',\n  'uri': 'spotify:track:0ODaBMQ3tbTefbmbMWTwdT',\n  'track_href': 'https://api.spotify.com/v1/tracks/0ODaBMQ3tbTefbmbMWTwdT',\n  'analysis_url': 'https://api.spotify.com/v1/audio-analysis/0ODaBMQ3tbTefbmbMWTwdT',\n  'duration_ms': 164347,\n  'time_signature': 4},\n {'danceability': 0.607,\n  'energy': 0.912,\n  'key': 8,\n  'loudness': -3.449,\n  'mode': 1,\n  'speechiness': 0.0611,\n  'acousticness': 0.124,\n  'instrumentalness': 0,\n  'liveness': 0.332,\n  'valence': 0.722,\n  'tempo': 134.944,\n  'type': 'audio_features',\n  'id': '200x8ONbPfFzByUr3fVz46',\n  'uri': 'spotify:track:200x8ONbPfFzByUr3fVz46',\n  'track_href': 'https://api.spotify.com/v1/tracks/200x8ONbPfFzByUr3fVz46',\n  'analysis_url': 'https://api.spotify.com/v1/audio-analysis/200x8ONbPfFzByUr3fVz46',\n  'duration_ms': 206107,\n  'time_signature': 4},\n {'danceability': 0.614,\n  'energy': 0.837,\n  'key': 1,\n  'loudness': -3.967,\n  'mode': 1,\n  'speechiness': 0.0255,\n  'acousticness': 0.45,\n  'instrumentalness': 2.49e-05,\n  'liveness': 0.115,\n  'valence': 0.862,\n  'tempo': 96.977,\n  'type': 'audio_features',\n  'id': '2kEhQe0BVtY8IIaFE5ALA0',\n  'uri': 'spotify:track:2kEhQe0BVtY8IIaFE5ALA0',\n  'track_href': 'https://api.spotify.com/v1/tracks/2kEhQe0BVtY8IIaFE5ALA0',\n  'analysis_url': 'https://api.spotify.com/v1/audio-analysis/2kEhQe0BVtY8IIaFE5ALA0',\n  'duration_ms': 168448,\n  'time_signature': 5},\n {'danceability': 0.702,\n  'energy': 0.778,\n  'key': 6,\n  'loudness': -4.25,\n  'mode': 1,\n  'speechiness': 0.0287,\n  'acousticness': 0.302,\n  'instrumentalness': 0,\n  'liveness': 0.126,\n  'valence': 0.879,\n  'tempo': 91.014,\n  'type': 'audio_features',\n  'id': '55M9eKCXJFCpid6WBVyEct',\n  'uri': 'spotify:track:55M9eKCXJFCpid6WBVyEct',\n  'track_href': 'https://api.spotify.com/v1/tracks/55M9eKCXJFCpid6WBVyEct',\n  'analysis_url': 'https://api.spotify.com/v1/audio-analysis/55M9eKCXJFCpid6WBVyEct',\n  'duration_ms': 174111,\n  'time_signature': 4},\n {'danceability': 0.464,\n  'energy': 0.755,\n  'key': 4,\n  'loudness': -5.707,\n  'mode': 1,\n  'speechiness': 0.0354,\n  'acousticness': 0.00838,\n  'instrumentalness': 0,\n  'liveness': 0.0989,\n  'valence': 0.449,\n  'tempo': 155.973,\n  'type': 'audio_features',\n  'id': '1fff5nZGyRJtFLkOrSSwOU',\n  'uri': 'spotify:track:1fff5nZGyRJtFLkOrSSwOU',\n  'track_href': 'https://api.spotify.com/v1/tracks/1fff5nZGyRJtFLkOrSSwOU',\n  'analysis_url': 'https://api.spotify.com/v1/audio-analysis/1fff5nZGyRJtFLkOrSSwOU',\n  'duration_ms': 216764,\n  'time_signature': 4},\n {'danceability': 0.662,\n  'energy': 0.855,\n  'key': 0,\n  'loudness': -3.742,\n  'mode': 1,\n  'speechiness': 0.0457,\n  'acousticness': 0.021,\n  'instrumentalness': 0,\n  'liveness': 0.228,\n  'valence': 0.84,\n  'tempo': 120.079,\n  'type': 'audio_features',\n  'id': '1S55d7hhptRt8PS6nC1fSY',\n  'uri': 'spotify:track:1S55d7hhptRt8PS6nC1fSY',\n  'track_href': 'https://api.spotify.com/v1/tracks/1S55d7hhptRt8PS6nC1fSY',\n  'analysis_url': 'https://api.spotify.com/v1/audio-analysis/1S55d7hhptRt8PS6nC1fSY',\n  'duration_ms': 187017,\n  'time_signature': 4},\n {'danceability': 0.54,\n  'energy': 0.87,\n  'key': 8,\n  'loudness': -4.635,\n  'mode': 1,\n  'speechiness': 0.0487,\n  'acousticness': 0.0678,\n  'instrumentalness': 0,\n  'liveness': 0.12,\n  'valence': 0.494,\n  'tempo': 97.991,\n  'type': 'audio_features',\n  'id': '5gTQD1FjKMqUisgSD0uyb1',\n  'uri': 'spotify:track:5gTQD1FjKMqUisgSD0uyb1',\n  'track_href': 'https://api.spotify.com/v1/tracks/5gTQD1FjKMqUisgSD0uyb1',\n  'analysis_url': 'https://api.spotify.com/v1/audio-analysis/5gTQD1FjKMqUisgSD0uyb1',\n  'duration_ms': 165921,\n  'time_signature': 4},\n {'danceability': 0.505,\n  'energy': 0.657,\n  'key': 11,\n  'loudness': -5.24,\n  'mode': 0,\n  'speechiness': 0.0318,\n  'acousticness': 0.373,\n  'instrumentalness': 0.00107,\n  'liveness': 0.126,\n  'valence': 0.252,\n  'tempo': 196.0,\n  'type': 'audio_features',\n  'id': '3cBsEDNhFI9E82vPj3kvi3',\n  'uri': 'spotify:track:3cBsEDNhFI9E82vPj3kvi3',\n  'track_href': 'https://api.spotify.com/v1/tracks/3cBsEDNhFI9E82vPj3kvi3',\n  'analysis_url': 'https://api.spotify.com/v1/audio-analysis/3cBsEDNhFI9E82vPj3kvi3',\n  'duration_ms': 178520,\n  'time_signature': 3},\n {'danceability': 0.63,\n  'energy': 0.544,\n  'key': 0,\n  'loudness': -7.252,\n  'mode': 1,\n  'speechiness': 0.0287,\n  'acousticness': 0.0282,\n  'instrumentalness': 0,\n  'liveness': 0.199,\n  'valence': 0.389,\n  'tempo': 112.942,\n  'type': 'audio_features',\n  'id': '3fA0FKdkPmBa62MSxwewKE',\n  'uri': 'spotify:track:3fA0FKdkPmBa62MSxwewKE',\n  'track_href': 'https://api.spotify.com/v1/tracks/3fA0FKdkPmBa62MSxwewKE',\n  'analysis_url': 'https://api.spotify.com/v1/audio-analysis/3fA0FKdkPmBa62MSxwewKE',\n  'duration_ms': 189443,\n  'time_signature': 4},\n {'danceability': 0.369,\n  'energy': 0.192,\n  'key': 4,\n  'loudness': -12.151,\n  'mode': 0,\n  'speechiness': 0.04,\n  'acousticness': 0.555,\n  'instrumentalness': 8.35e-06,\n  'liveness': 0.0954,\n  'valence': 0.148,\n  'tempo': 175.212,\n  'type': 'audio_features',\n  'id': '3WMj8moIAXJhHsyLaqIIHI',\n  'uri': 'spotify:track:3WMj8moIAXJhHsyLaqIIHI',\n  'track_href': 'https://api.spotify.com/v1/tracks/3WMj8moIAXJhHsyLaqIIHI',\n  'analysis_url': 'https://api.spotify.com/v1/audio-analysis/3WMj8moIAXJhHsyLaqIIHI',\n  'duration_ms': 228013,\n  'time_signature': 3},\n {'danceability': 0.553,\n  'energy': 0.609,\n  'key': 1,\n  'loudness': -6.436,\n  'mode': 1,\n  'speechiness': 0.0469,\n  'acousticness': 0.151,\n  'instrumentalness': 0,\n  'liveness': 0.112,\n  'valence': 0.471,\n  'tempo': 73.903,\n  'type': 'audio_features',\n  'id': '3TuMOIzXkhKFDNHyQ7Mo8J',\n  'uri': 'spotify:track:3TuMOIzXkhKFDNHyQ7Mo8J',\n  'track_href': 'https://api.spotify.com/v1/tracks/3TuMOIzXkhKFDNHyQ7Mo8J',\n  'analysis_url': 'https://api.spotify.com/v1/audio-analysis/3TuMOIzXkhKFDNHyQ7Mo8J',\n  'duration_ms': 214416,\n  'time_signature': 4},\n {'danceability': 0.514,\n  'energy': 0.693,\n  'key': 1,\n  'loudness': -6.428,\n  'mode': 1,\n  'speechiness': 0.0528,\n  'acousticness': 0.0961,\n  'instrumentalness': 0,\n  'liveness': 0.071,\n  'valence': 0.46,\n  'tempo': 156.039,\n  'type': 'audio_features',\n  'id': '6OSa9hgEvituO2SaaYBiwD',\n  'uri': 'spotify:track:6OSa9hgEvituO2SaaYBiwD',\n  'track_href': 'https://api.spotify.com/v1/tracks/6OSa9hgEvituO2SaaYBiwD',\n  'analysis_url': 'https://api.spotify.com/v1/audio-analysis/6OSa9hgEvituO2SaaYBiwD',\n  'duration_ms': 176573,\n  'time_signature': 4},\n {'danceability': 0.542,\n  'energy': 0.82,\n  'key': 8,\n  'loudness': -6.073,\n  'mode': 1,\n  'speechiness': 0.0432,\n  'acousticness': 0.000682,\n  'instrumentalness': 0.000136,\n  'liveness': 0.0561,\n  'valence': 0.702,\n  'tempo': 124.85,\n  'type': 'audio_features',\n  'id': '3j1xkzTW8owIphkWV51V9s',\n  'uri': 'spotify:track:3j1xkzTW8owIphkWV51V9s',\n  'track_href': 'https://api.spotify.com/v1/tracks/3j1xkzTW8owIphkWV51V9s',\n  'analysis_url': 'https://api.spotify.com/v1/audio-analysis/3j1xkzTW8owIphkWV51V9s',\n  'duration_ms': 234341,\n  'time_signature': 4},\n {'danceability': 0.789,\n  'energy': 0.642,\n  'key': 11,\n  'loudness': -8.304,\n  'mode': 1,\n  'speechiness': 0.0352,\n  'acousticness': 0.357,\n  'instrumentalness': 0,\n  'liveness': 0.0985,\n  'valence': 0.755,\n  'tempo': 121.003,\n  'type': 'audio_features',\n  'id': '3vCUelLOtiuNF78p9LNWZF',\n  'uri': 'spotify:track:3vCUelLOtiuNF78p9LNWZF',\n  'track_href': 'https://api.spotify.com/v1/tracks/3vCUelLOtiuNF78p9LNWZF',\n  'analysis_url': 'https://api.spotify.com/v1/audio-analysis/3vCUelLOtiuNF78p9LNWZF',\n  'duration_ms': 167680,\n  'time_signature': 4},\n {'danceability': 0.502,\n  'energy': 0.662,\n  'key': 9,\n  'loudness': -4.041,\n  'mode': 1,\n  'speechiness': 0.0293,\n  'acousticness': 0.00322,\n  'instrumentalness': 0.00274,\n  'liveness': 0.119,\n  'valence': 0.4,\n  'tempo': 110.917,\n  'type': 'audio_features',\n  'id': '0XxNamjHxu0ercIQmWNkRT',\n  'uri': 'spotify:track:0XxNamjHxu0ercIQmWNkRT',\n  'track_href': 'https://api.spotify.com/v1/tracks/0XxNamjHxu0ercIQmWNkRT',\n  'analysis_url': 'https://api.spotify.com/v1/audio-analysis/0XxNamjHxu0ercIQmWNkRT',\n  'duration_ms': 251293,\n  'time_signature': 4},\n {'danceability': 0.617,\n  'energy': 0.84,\n  'key': 2,\n  'loudness': -6.936,\n  'mode': 1,\n  'speechiness': 0.0802,\n  'acousticness': 0.0914,\n  'instrumentalness': 1.36e-06,\n  'liveness': 0.0451,\n  'valence': 0.721,\n  'tempo': 85.998,\n  'type': 'audio_features',\n  'id': '7GMXESVLghURYtnMXl7Ngn',\n  'uri': 'spotify:track:7GMXESVLghURYtnMXl7Ngn',\n  'track_href': 'https://api.spotify.com/v1/tracks/7GMXESVLghURYtnMXl7Ngn',\n  'analysis_url': 'https://api.spotify.com/v1/audio-analysis/7GMXESVLghURYtnMXl7Ngn',\n  'duration_ms': 194667,\n  'time_signature': 4},\n {'danceability': 0.492,\n  'energy': 0.708,\n  'key': 10,\n  'loudness': -4.639,\n  'mode': 1,\n  'speechiness': 0.0334,\n  'acousticness': 0.0975,\n  'instrumentalness': 0,\n  'liveness': 0.12,\n  'valence': 0.697,\n  'tempo': 161.989,\n  'type': 'audio_features',\n  'id': '4Qum1kECNQrpREev5fvAQ4',\n  'uri': 'spotify:track:4Qum1kECNQrpREev5fvAQ4',\n  'track_href': 'https://api.spotify.com/v1/tracks/4Qum1kECNQrpREev5fvAQ4',\n  'analysis_url': 'https://api.spotify.com/v1/audio-analysis/4Qum1kECNQrpREev5fvAQ4',\n  'duration_ms': 203037,\n  'time_signature': 4},\n {'danceability': 0.591,\n  'energy': 0.814,\n  'key': 4,\n  'loudness': -4.986,\n  'mode': 1,\n  'speechiness': 0.0468,\n  'acousticness': 0.015,\n  'instrumentalness': 0,\n  'liveness': 0.117,\n  'valence': 0.815,\n  'tempo': 149.9,\n  'type': 'audio_features',\n  'id': '13G5xv1wUKvJYbK0wYmioN',\n  'uri': 'spotify:track:13G5xv1wUKvJYbK0wYmioN',\n  'track_href': 'https://api.spotify.com/v1/tracks/13G5xv1wUKvJYbK0wYmioN',\n  'analysis_url': 'https://api.spotify.com/v1/audio-analysis/13G5xv1wUKvJYbK0wYmioN',\n  'duration_ms': 195760,\n  'time_signature': 4},\n {'danceability': 0.602,\n  'energy': 0.928,\n  'key': 1,\n  'loudness': -3.601,\n  'mode': 1,\n  'speechiness': 0.0859,\n  'acousticness': 0.016,\n  'instrumentalness': 0,\n  'liveness': 0.105,\n  'valence': 0.429,\n  'tempo': 123.121,\n  'type': 'audio_features',\n  'id': '6Wy1WU6nkioVn681Rom3SP',\n  'uri': 'spotify:track:6Wy1WU6nkioVn681Rom3SP',\n  'track_href': 'https://api.spotify.com/v1/tracks/6Wy1WU6nkioVn681Rom3SP',\n  'analysis_url': 'https://api.spotify.com/v1/audio-analysis/6Wy1WU6nkioVn681Rom3SP',\n  'duration_ms': 201147,\n  'time_signature': 4},\n {'danceability': 0.497,\n  'energy': 0.726,\n  'key': 0,\n  'loudness': -6.018,\n  'mode': 1,\n  'speechiness': 0.0363,\n  'acousticness': 0.00331,\n  'instrumentalness': 0,\n  'liveness': 0.103,\n  'valence': 0.418,\n  'tempo': 147.91,\n  'type': 'audio_features',\n  'id': '7FEu6U2jXAs2URjx93AyTm',\n  'uri': 'spotify:track:7FEu6U2jXAs2URjx93AyTm',\n  'track_href': 'https://api.spotify.com/v1/tracks/7FEu6U2jXAs2URjx93AyTm',\n  'analysis_url': 'https://api.spotify.com/v1/audio-analysis/7FEu6U2jXAs2URjx93AyTm',\n  'duration_ms': 201639,\n  'time_signature': 4},\n {'danceability': 0.575,\n  'energy': 0.644,\n  'key': 6,\n  'loudness': -5.68,\n  'mode': 0,\n  'speechiness': 0.0309,\n  'acousticness': 0.271,\n  'instrumentalness': 0,\n  'liveness': 0.131,\n  'valence': 0.626,\n  'tempo': 80.07,\n  'type': 'audio_features',\n  'id': '6F7UOC6fPWOkPqybOWBHSv',\n  'uri': 'spotify:track:6F7UOC6fPWOkPqybOWBHSv',\n  'track_href': 'https://api.spotify.com/v1/tracks/6F7UOC6fPWOkPqybOWBHSv',\n  'analysis_url': 'https://api.spotify.com/v1/audio-analysis/6F7UOC6fPWOkPqybOWBHSv',\n  'duration_ms': 195013,\n  'time_signature': 4},\n {'danceability': 0.59,\n  'energy': 0.846,\n  'key': 4,\n  'loudness': -4.251,\n  'mode': 1,\n  'speechiness': 0.0396,\n  'acousticness': 0.182,\n  'instrumentalness': 0,\n  'liveness': 0.53,\n  'valence': 0.733,\n  'tempo': 146.028,\n  'type': 'audio_features',\n  'id': '19ZzEzb4BVK1wVO4brrmZz',\n  'uri': 'spotify:track:19ZzEzb4BVK1wVO4brrmZz',\n  'track_href': 'https://api.spotify.com/v1/tracks/19ZzEzb4BVK1wVO4brrmZz',\n  'analysis_url': 'https://api.spotify.com/v1/audio-analysis/19ZzEzb4BVK1wVO4brrmZz',\n  'duration_ms': 174681,\n  'time_signature': 4},\n {'danceability': 0.593,\n  'energy': 0.552,\n  'key': 1,\n  'loudness': -5.838,\n  'mode': 1,\n  'speechiness': 0.028,\n  'acousticness': 0.18,\n  'instrumentalness': 1.71e-05,\n  'liveness': 0.11,\n  'valence': 0.39,\n  'tempo': 115.0,\n  'type': 'audio_features',\n  'id': '4GyD3o5hWoyCuYpdlzZlRL',\n  'uri': 'spotify:track:4GyD3o5hWoyCuYpdlzZlRL',\n  'track_href': 'https://api.spotify.com/v1/tracks/4GyD3o5hWoyCuYpdlzZlRL',\n  'analysis_url': 'https://api.spotify.com/v1/audio-analysis/4GyD3o5hWoyCuYpdlzZlRL',\n  'duration_ms': 254181,\n  'time_signature': 4},\n {'danceability': 0.678,\n  'energy': 0.528,\n  'key': 10,\n  'loudness': -7.317,\n  'mode': 1,\n  'speechiness': 0.0551,\n  'acousticness': 0.289,\n  'instrumentalness': 0,\n  'liveness': 0.0734,\n  'valence': 0.614,\n  'tempo': 79.018,\n  'type': 'audio_features',\n  'id': '3HGnIIdHYIbkowzLk8UHbE',\n  'uri': 'spotify:track:3HGnIIdHYIbkowzLk8UHbE',\n  'track_href': 'https://api.spotify.com/v1/tracks/3HGnIIdHYIbkowzLk8UHbE',\n  'analysis_url': 'https://api.spotify.com/v1/audio-analysis/3HGnIIdHYIbkowzLk8UHbE',\n  'duration_ms': 194545,\n  'time_signature': 4},\n {'danceability': 0.619,\n  'energy': 0.916,\n  'key': 10,\n  'loudness': -2.752,\n  'mode': 0,\n  'speechiness': 0.0468,\n  'acousticness': 0.0483,\n  'instrumentalness': 4.88e-06,\n  'liveness': 0.246,\n  'valence': 0.785,\n  'tempo': 114.019,\n  'type': 'audio_features',\n  'id': '7ivOkXLuP1182ZtzA54Vbw',\n  'uri': 'spotify:track:7ivOkXLuP1182ZtzA54Vbw',\n  'track_href': 'https://api.spotify.com/v1/tracks/7ivOkXLuP1182ZtzA54Vbw',\n  'analysis_url': 'https://api.spotify.com/v1/audio-analysis/7ivOkXLuP1182ZtzA54Vbw',\n  'duration_ms': 211987,\n  'time_signature': 4},\n {'danceability': 0.714,\n  'energy': 0.766,\n  'key': 6,\n  'loudness': -4.42,\n  'mode': 1,\n  'speechiness': 0.0365,\n  'acousticness': 0.0957,\n  'instrumentalness': 0.00183,\n  'liveness': 0.0595,\n  'valence': 0.665,\n  'tempo': 114.964,\n  'type': 'audio_features',\n  'id': '6JSH36hKFusIabTu1egYO5',\n  'uri': 'spotify:track:6JSH36hKFusIabTu1egYO5',\n  'track_href': 'https://api.spotify.com/v1/tracks/6JSH36hKFusIabTu1egYO5',\n  'analysis_url': 'https://api.spotify.com/v1/audio-analysis/6JSH36hKFusIabTu1egYO5',\n  'duration_ms': 147694,\n  'time_signature': 4},\n {'danceability': 0.663,\n  'energy': 0.502,\n  'key': 5,\n  'loudness': -7.07,\n  'mode': 1,\n  'speechiness': 0.0285,\n  'acousticness': 0.791,\n  'instrumentalness': 0,\n  'liveness': 0.105,\n  'valence': 0.371,\n  'tempo': 143.969,\n  'type': 'audio_features',\n  'id': '4q9NEq8kUmSZwtNsxL2KJN',\n  'uri': 'spotify:track:4q9NEq8kUmSZwtNsxL2KJN',\n  'track_href': 'https://api.spotify.com/v1/tracks/4q9NEq8kUmSZwtNsxL2KJN',\n  'analysis_url': 'https://api.spotify.com/v1/audio-analysis/4q9NEq8kUmSZwtNsxL2KJN',\n  'duration_ms': 183087,\n  'time_signature': 4},\n {'danceability': 0.516,\n  'energy': 0.481,\n  'key': 6,\n  'loudness': -6.587,\n  'mode': 1,\n  'speechiness': 0.0254,\n  'acousticness': 0.00865,\n  'instrumentalness': 1.18e-05,\n  'liveness': 0.226,\n  'valence': 0.196,\n  'tempo': 144.097,\n  'type': 'audio_features',\n  'id': '4QakuMSCrvw79FQV55xx6T',\n  'uri': 'spotify:track:4QakuMSCrvw79FQV55xx6T',\n  'track_href': 'https://api.spotify.com/v1/tracks/4QakuMSCrvw79FQV55xx6T',\n  'analysis_url': 'https://api.spotify.com/v1/audio-analysis/4QakuMSCrvw79FQV55xx6T',\n  'duration_ms': 213207,\n  'time_signature': 4},\n {'danceability': 0.527,\n  'energy': 0.461,\n  'key': 7,\n  'loudness': -5.908,\n  'mode': 1,\n  'speechiness': 0.0269,\n  'acousticness': 0.118,\n  'instrumentalness': 0,\n  'liveness': 0.0831,\n  'valence': 0.227,\n  'tempo': 128.153,\n  'type': 'audio_features',\n  'id': '2ccuOtUjIyx3tPcsnpeBzJ',\n  'uri': 'spotify:track:2ccuOtUjIyx3tPcsnpeBzJ',\n  'track_href': 'https://api.spotify.com/v1/tracks/2ccuOtUjIyx3tPcsnpeBzJ',\n  'analysis_url': 'https://api.spotify.com/v1/audio-analysis/2ccuOtUjIyx3tPcsnpeBzJ',\n  'duration_ms': 214405,\n  'time_signature': 3},\n {'danceability': 0.534,\n  'energy': 0.632,\n  'key': 3,\n  'loudness': -5.833,\n  'mode': 1,\n  'speechiness': 0.03,\n  'acousticness': 0.515,\n  'instrumentalness': 0,\n  'liveness': 0.0922,\n  'valence': 0.227,\n  'tempo': 143.866,\n  'type': 'audio_features',\n  'id': '3u6YTdxBfx3dzIC5qJ9Afu',\n  'uri': 'spotify:track:3u6YTdxBfx3dzIC5qJ9Afu',\n  'track_href': 'https://api.spotify.com/v1/tracks/3u6YTdxBfx3dzIC5qJ9Afu',\n  'analysis_url': 'https://api.spotify.com/v1/audio-analysis/3u6YTdxBfx3dzIC5qJ9Afu',\n  'duration_ms': 212667,\n  'time_signature': 4},\n {'danceability': 0.79,\n  'energy': 0.325,\n  'key': 4,\n  'loudness': -11.689,\n  'mode': 1,\n  'speechiness': 0.127,\n  'acousticness': 0.509,\n  'instrumentalness': 0,\n  'liveness': 0.155,\n  'valence': 0.539,\n  'tempo': 126.877,\n  'type': 'audio_features',\n  'id': '6VVqPBFZIbcmv14zNfOc13',\n  'uri': 'spotify:track:6VVqPBFZIbcmv14zNfOc13',\n  'track_href': 'https://api.spotify.com/v1/tracks/6VVqPBFZIbcmv14zNfOc13',\n  'analysis_url': 'https://api.spotify.com/v1/audio-analysis/6VVqPBFZIbcmv14zNfOc13',\n  'duration_ms': 163311,\n  'time_signature': 4},\n {'danceability': 0.636,\n  'energy': 0.866,\n  'key': 4,\n  'loudness': -5.796,\n  'mode': 1,\n  'speechiness': 0.0553,\n  'acousticness': 0.243,\n  'instrumentalness': 5.42e-06,\n  'liveness': 0.371,\n  'valence': 0.963,\n  'tempo': 85.004,\n  'type': 'audio_features',\n  'id': '3YaycOQk7PoQpl7YdvmWdX',\n  'uri': 'spotify:track:3YaycOQk7PoQpl7YdvmWdX',\n  'track_href': 'https://api.spotify.com/v1/tracks/3YaycOQk7PoQpl7YdvmWdX',\n  'analysis_url': 'https://api.spotify.com/v1/audio-analysis/3YaycOQk7PoQpl7YdvmWdX',\n  'duration_ms': 191360,\n  'time_signature': 4},\n {'danceability': 0.479,\n  'energy': 0.742,\n  'key': 7,\n  'loudness': -5.587,\n  'mode': 1,\n  'speechiness': 0.0539,\n  'acousticness': 0.0069,\n  'instrumentalness': 0.000834,\n  'liveness': 0.278,\n  'valence': 0.454,\n  'tempo': 142.909,\n  'type': 'audio_features',\n  'id': '2FGOg7uYBfnspkPOISXTFY',\n  'uri': 'spotify:track:2FGOg7uYBfnspkPOISXTFY',\n  'track_href': 'https://api.spotify.com/v1/tracks/2FGOg7uYBfnspkPOISXTFY',\n  'analysis_url': 'https://api.spotify.com/v1/audio-analysis/2FGOg7uYBfnspkPOISXTFY',\n  'duration_ms': 181400,\n  'time_signature': 3},\n {'danceability': 0.478,\n  'energy': 0.516,\n  'key': 5,\n  'loudness': -7.276,\n  'mode': 1,\n  'speechiness': 0.0267,\n  'acousticness': 0.403,\n  'instrumentalness': 0,\n  'liveness': 0.0823,\n  'valence': 0.376,\n  'tempo': 80.09,\n  'type': 'audio_features',\n  'id': '5n4kMW5dn7MHFhXQuJb9zG',\n  'uri': 'spotify:track:5n4kMW5dn7MHFhXQuJb9zG',\n  'track_href': 'https://api.spotify.com/v1/tracks/5n4kMW5dn7MHFhXQuJb9zG',\n  'analysis_url': 'https://api.spotify.com/v1/audio-analysis/5n4kMW5dn7MHFhXQuJb9zG',\n  'duration_ms': 196008,\n  'time_signature': 4},\n {'danceability': 0.447,\n  'energy': 0.538,\n  'key': 5,\n  'loudness': -7.258,\n  'mode': 1,\n  'speechiness': 0.0338,\n  'acousticness': 0.119,\n  'instrumentalness': 0,\n  'liveness': 0.188,\n  'valence': 0.453,\n  'tempo': 123.746,\n  'type': 'audio_features',\n  'id': '5J8AKBaUq1WHrzrm9YWlP3',\n  'uri': 'spotify:track:5J8AKBaUq1WHrzrm9YWlP3',\n  'track_href': 'https://api.spotify.com/v1/tracks/5J8AKBaUq1WHrzrm9YWlP3',\n  'analysis_url': 'https://api.spotify.com/v1/audio-analysis/5J8AKBaUq1WHrzrm9YWlP3',\n  'duration_ms': 214239,\n  'time_signature': 3},\n {'danceability': 0.472,\n  'energy': 0.701,\n  'key': 2,\n  'loudness': -4.563,\n  'mode': 1,\n  'speechiness': 0.0369,\n  'acousticness': 0.0387,\n  'instrumentalness': 0,\n  'liveness': 0.107,\n  'valence': 0.515,\n  'tempo': 79.805,\n  'type': 'audio_features',\n  'id': '7xNYZeFtrB05pi9tc6lEeb',\n  'uri': 'spotify:track:7xNYZeFtrB05pi9tc6lEeb',\n  'track_href': 'https://api.spotify.com/v1/tracks/7xNYZeFtrB05pi9tc6lEeb',\n  'analysis_url': 'https://api.spotify.com/v1/audio-analysis/7xNYZeFtrB05pi9tc6lEeb',\n  'duration_ms': 169440,\n  'time_signature': 4},\n {'danceability': 0.599,\n  'energy': 0.899,\n  'key': 4,\n  'loudness': -3.574,\n  'mode': 1,\n  'speechiness': 0.0492,\n  'acousticness': 0.129,\n  'instrumentalness': 0,\n  'liveness': 0.333,\n  'valence': 0.792,\n  'tempo': 91.036,\n  'type': 'audio_features',\n  'id': '2CqfyB7PQznYxHNSmmF6lE',\n  'uri': 'spotify:track:2CqfyB7PQznYxHNSmmF6lE',\n  'track_href': 'https://api.spotify.com/v1/tracks/2CqfyB7PQznYxHNSmmF6lE',\n  'analysis_url': 'https://api.spotify.com/v1/audio-analysis/2CqfyB7PQznYxHNSmmF6lE',\n  'duration_ms': 179173,\n  'time_signature': 4},\n {'danceability': 0.56,\n  'energy': 0.802,\n  'key': 11,\n  'loudness': -5.428,\n  'mode': 1,\n  'speechiness': 0.0373,\n  'acousticness': 0.0863,\n  'instrumentalness': 0,\n  'liveness': 0.116,\n  'valence': 0.423,\n  'tempo': 103.059,\n  'type': 'audio_features',\n  'id': '5fjoMV6IwPKFsmm0LQuv0m',\n  'uri': 'spotify:track:5fjoMV6IwPKFsmm0LQuv0m',\n  'track_href': 'https://api.spotify.com/v1/tracks/5fjoMV6IwPKFsmm0LQuv0m',\n  'analysis_url': 'https://api.spotify.com/v1/audio-analysis/5fjoMV6IwPKFsmm0LQuv0m',\n  'duration_ms': 157213,\n  'time_signature': 3},\n {'danceability': 0.635,\n  'energy': 0.747,\n  'key': 4,\n  'loudness': -6.227,\n  'mode': 1,\n  'speechiness': 0.0293,\n  'acousticness': 0.00313,\n  'instrumentalness': 0,\n  'liveness': 0.346,\n  'valence': 0.753,\n  'tempo': 104.027,\n  'type': 'audio_features',\n  'id': '77oKig47u34qCCFWKMfu1e',\n  'uri': 'spotify:track:77oKig47u34qCCFWKMfu1e',\n  'track_href': 'https://api.spotify.com/v1/tracks/77oKig47u34qCCFWKMfu1e',\n  'analysis_url': 'https://api.spotify.com/v1/audio-analysis/77oKig47u34qCCFWKMfu1e',\n  'duration_ms': 189560,\n  'time_signature': 4},\n {'danceability': 0.533,\n  'energy': 0.663,\n  'key': 0,\n  'loudness': -4.189,\n  'mode': 1,\n  'speechiness': 0.0333,\n  'acousticness': 0.0628,\n  'instrumentalness': 0,\n  'liveness': 0.108,\n  'valence': 0.83,\n  'tempo': 175.878,\n  'type': 'audio_features',\n  'id': '0zpaxKLpHw3zCmiYcvn9OV',\n  'uri': 'spotify:track:0zpaxKLpHw3zCmiYcvn9OV',\n  'track_href': 'https://api.spotify.com/v1/tracks/0zpaxKLpHw3zCmiYcvn9OV',\n  'analysis_url': 'https://api.spotify.com/v1/audio-analysis/0zpaxKLpHw3zCmiYcvn9OV',\n  'duration_ms': 146520,\n  'time_signature': 4},\n {'danceability': 0.584,\n  'energy': 0.821,\n  'key': 9,\n  'loudness': -3.628,\n  'mode': 1,\n  'speechiness': 0.0305,\n  'acousticness': 0.01,\n  'instrumentalness': 0,\n  'liveness': 0.196,\n  'valence': 0.571,\n  'tempo': 146.0,\n  'type': 'audio_features',\n  'id': '6iai8D40xiwuktWrxcInt1',\n  'uri': 'spotify:track:6iai8D40xiwuktWrxcInt1',\n  'track_href': 'https://api.spotify.com/v1/tracks/6iai8D40xiwuktWrxcInt1',\n  'analysis_url': 'https://api.spotify.com/v1/audio-analysis/6iai8D40xiwuktWrxcInt1',\n  'duration_ms': 201733,\n  'time_signature': 4},\n {'danceability': 0.523,\n  'energy': 0.64,\n  'key': 4,\n  'loudness': -6.15,\n  'mode': 1,\n  'speechiness': 0.0295,\n  'acousticness': 0.0512,\n  'instrumentalness': 5.52e-05,\n  'liveness': 0.0675,\n  'valence': 0.48,\n  'tempo': 144.022,\n  'type': 'audio_features',\n  'id': '4jp9FimhP2bQ93vR0A5r7b',\n  'uri': 'spotify:track:4jp9FimhP2bQ93vR0A5r7b',\n  'track_href': 'https://api.spotify.com/v1/tracks/4jp9FimhP2bQ93vR0A5r7b',\n  'analysis_url': 'https://api.spotify.com/v1/audio-analysis/4jp9FimhP2bQ93vR0A5r7b',\n  'duration_ms': 230227,\n  'time_signature': 4},\n {'danceability': 0.7,\n  'energy': 0.616,\n  'key': 2,\n  'loudness': -5.82,\n  'mode': 1,\n  'speechiness': 0.0282,\n  'acousticness': 0.0176,\n  'instrumentalness': 0,\n  'liveness': 0.463,\n  'valence': 0.466,\n  'tempo': 110.059,\n  'type': 'audio_features',\n  'id': '3NIMPlnySYOfVF5Vxr4Ae1',\n  'uri': 'spotify:track:3NIMPlnySYOfVF5Vxr4Ae1',\n  'track_href': 'https://api.spotify.com/v1/tracks/3NIMPlnySYOfVF5Vxr4Ae1',\n  'analysis_url': 'https://api.spotify.com/v1/audio-analysis/3NIMPlnySYOfVF5Vxr4Ae1',\n  'duration_ms': 167533,\n  'time_signature': 4},\n {'danceability': 0.526,\n  'energy': 0.729,\n  'key': 5,\n  'loudness': -4.363,\n  'mode': 1,\n  'speechiness': 0.0333,\n  'acousticness': 0.147,\n  'instrumentalness': 0,\n  'liveness': 0.103,\n  'valence': 0.543,\n  'tempo': 140.978,\n  'type': 'audio_features',\n  'id': '4G644pINN0ZYIxyqeyuT4b',\n  'uri': 'spotify:track:4G644pINN0ZYIxyqeyuT4b',\n  'track_href': 'https://api.spotify.com/v1/tracks/4G644pINN0ZYIxyqeyuT4b',\n  'analysis_url': 'https://api.spotify.com/v1/audio-analysis/4G644pINN0ZYIxyqeyuT4b',\n  'duration_ms': 195460,\n  'time_signature': 4},\n {'danceability': 0.646,\n  'energy': 0.816,\n  'key': 6,\n  'loudness': -2.65,\n  'mode': 1,\n  'speechiness': 0.0269,\n  'acousticness': 0.00496,\n  'instrumentalness': 0,\n  'liveness': 0.179,\n  'valence': 0.865,\n  'tempo': 102.972,\n  'type': 'audio_features',\n  'id': '3SeeaIXnrCfT88vHVCRWHl',\n  'uri': 'spotify:track:3SeeaIXnrCfT88vHVCRWHl',\n  'track_href': 'https://api.spotify.com/v1/tracks/3SeeaIXnrCfT88vHVCRWHl',\n  'analysis_url': 'https://api.spotify.com/v1/audio-analysis/3SeeaIXnrCfT88vHVCRWHl',\n  'duration_ms': 181991,\n  'time_signature': 4},\n {'danceability': 0.524,\n  'energy': 0.643,\n  'key': 9,\n  'loudness': -6.055,\n  'mode': 1,\n  'speechiness': 0.0297,\n  'acousticness': 0.451,\n  'instrumentalness': 0,\n  'liveness': 0.221,\n  'valence': 0.397,\n  'tempo': 135.962,\n  'type': 'audio_features',\n  'id': '5gVCfYmQRPy1QJifP8f5gg',\n  'uri': 'spotify:track:5gVCfYmQRPy1QJifP8f5gg',\n  'track_href': 'https://api.spotify.com/v1/tracks/5gVCfYmQRPy1QJifP8f5gg',\n  'analysis_url': 'https://api.spotify.com/v1/audio-analysis/5gVCfYmQRPy1QJifP8f5gg',\n  'duration_ms': 232059,\n  'time_signature': 4},\n {'danceability': 0.796,\n  'energy': 0.621,\n  'key': 2,\n  'loudness': -6.129,\n  'mode': 1,\n  'speechiness': 0.0346,\n  'acousticness': 0.175,\n  'instrumentalness': 0,\n  'liveness': 0.274,\n  'valence': 0.808,\n  'tempo': 121.904,\n  'type': 'audio_features',\n  'id': '3zAOcNGOFq5Q1OsN0tcxA0',\n  'uri': 'spotify:track:3zAOcNGOFq5Q1OsN0tcxA0',\n  'track_href': 'https://api.spotify.com/v1/tracks/3zAOcNGOFq5Q1OsN0tcxA0',\n  'analysis_url': 'https://api.spotify.com/v1/audio-analysis/3zAOcNGOFq5Q1OsN0tcxA0',\n  'duration_ms': 151973,\n  'time_signature': 4},\n {'danceability': 0.455,\n  'energy': 0.451,\n  'key': 0,\n  'loudness': -7.544,\n  'mode': 1,\n  'speechiness': 0.0452,\n  'acousticness': 0.749,\n  'instrumentalness': 0,\n  'liveness': 0.0776,\n  'valence': 0.27,\n  'tempo': 104.662,\n  'type': 'audio_features',\n  'id': '55lJN2gIzJM9SCfwzxAEjf',\n  'uri': 'spotify:track:55lJN2gIzJM9SCfwzxAEjf',\n  'track_href': 'https://api.spotify.com/v1/tracks/55lJN2gIzJM9SCfwzxAEjf',\n  'analysis_url': 'https://api.spotify.com/v1/audio-analysis/55lJN2gIzJM9SCfwzxAEjf',\n  'duration_ms': 201294,\n  'time_signature': 4},\n {'danceability': 0.62,\n  'energy': 0.571,\n  'key': 2,\n  'loudness': -6.439,\n  'mode': 1,\n  'speechiness': 0.0339,\n  'acousticness': 0.202,\n  'instrumentalness': 0,\n  'liveness': 0.268,\n  'valence': 0.321,\n  'tempo': 149.833,\n  'type': 'audio_features',\n  'id': '1Gp7GfpmFy7DTYAWZ5wERJ',\n  'uri': 'spotify:track:1Gp7GfpmFy7DTYAWZ5wERJ',\n  'track_href': 'https://api.spotify.com/v1/tracks/1Gp7GfpmFy7DTYAWZ5wERJ',\n  'analysis_url': 'https://api.spotify.com/v1/audio-analysis/1Gp7GfpmFy7DTYAWZ5wERJ',\n  'duration_ms': 157133,\n  'time_signature': 4},\n {'danceability': 0.826,\n  'energy': 0.603,\n  'key': 1,\n  'loudness': -7.659,\n  'mode': 0,\n  'speechiness': 0.0737,\n  'acousticness': 0.0474,\n  'instrumentalness': 0,\n  'liveness': 0.0831,\n  'valence': 0.681,\n  'tempo': 107.494,\n  'type': 'audio_features',\n  'id': '4ELynSlkV4OHcBCFenFJ7U',\n  'uri': 'spotify:track:4ELynSlkV4OHcBCFenFJ7U',\n  'track_href': 'https://api.spotify.com/v1/tracks/4ELynSlkV4OHcBCFenFJ7U',\n  'analysis_url': 'https://api.spotify.com/v1/audio-analysis/4ELynSlkV4OHcBCFenFJ7U',\n  'duration_ms': 160290,\n  'time_signature': 4},\n {'danceability': 0.582,\n  'energy': 0.797,\n  'key': 5,\n  'loudness': -4.926,\n  'mode': 1,\n  'speechiness': 0.0334,\n  'acousticness': 0.23,\n  'instrumentalness': 0,\n  'liveness': 0.132,\n  'valence': 0.595,\n  'tempo': 135.973,\n  'type': 'audio_features',\n  'id': '4lSNyiHil3tuiwtvEpN1qq',\n  'uri': 'spotify:track:4lSNyiHil3tuiwtvEpN1qq',\n  'track_href': 'https://api.spotify.com/v1/tracks/4lSNyiHil3tuiwtvEpN1qq',\n  'analysis_url': 'https://api.spotify.com/v1/audio-analysis/4lSNyiHil3tuiwtvEpN1qq',\n  'duration_ms': 196027,\n  'time_signature': 4},\n {'danceability': 0.788,\n  'energy': 0.96,\n  'key': 7,\n  'loudness': -4.684,\n  'mode': 1,\n  'speechiness': 0.0499,\n  'acousticness': 0.00629,\n  'instrumentalness': 0.00673,\n  'liveness': 0.0878,\n  'valence': 0.8,\n  'tempo': 123.99,\n  'type': 'audio_features',\n  'id': '5Q4MxA344M8VyFieIC4YTk',\n  'uri': 'spotify:track:5Q4MxA344M8VyFieIC4YTk',\n  'track_href': 'https://api.spotify.com/v1/tracks/5Q4MxA344M8VyFieIC4YTk',\n  'analysis_url': 'https://api.spotify.com/v1/audio-analysis/5Q4MxA344M8VyFieIC4YTk',\n  'duration_ms': 151284,\n  'time_signature': 4},\n {'danceability': 0.681,\n  'energy': 0.851,\n  'key': 5,\n  'loudness': -4.96,\n  'mode': 0,\n  'speechiness': 0.0635,\n  'acousticness': 0.0315,\n  'instrumentalness': 0.0868,\n  'liveness': 0.443,\n  'valence': 0.221,\n  'tempo': 125.981,\n  'type': 'audio_features',\n  'id': '5FCzMiHrGRayOu12J65Syp',\n  'uri': 'spotify:track:5FCzMiHrGRayOu12J65Syp',\n  'track_href': 'https://api.spotify.com/v1/tracks/5FCzMiHrGRayOu12J65Syp',\n  'analysis_url': 'https://api.spotify.com/v1/audio-analysis/5FCzMiHrGRayOu12J65Syp',\n  'duration_ms': 224549,\n  'time_signature': 4},\n {'danceability': 0.745,\n  'energy': 0.873,\n  'key': 1,\n  'loudness': -7.619,\n  'mode': 0,\n  'speechiness': 0.0448,\n  'acousticness': 0.0367,\n  'instrumentalness': 0.298,\n  'liveness': 0.315,\n  'valence': 0.718,\n  'tempo': 125.982,\n  'type': 'audio_features',\n  'id': '5HYOVRe3chMbHoFnGxdxWC',\n  'uri': 'spotify:track:5HYOVRe3chMbHoFnGxdxWC',\n  'track_href': 'https://api.spotify.com/v1/tracks/5HYOVRe3chMbHoFnGxdxWC',\n  'analysis_url': 'https://api.spotify.com/v1/audio-analysis/5HYOVRe3chMbHoFnGxdxWC',\n  'duration_ms': 215303,\n  'time_signature': 4},\n {'danceability': 0.633,\n  'energy': 0.916,\n  'key': 7,\n  'loudness': -6.699,\n  'mode': 0,\n  'speechiness': 0.0357,\n  'acousticness': 0.0127,\n  'instrumentalness': 0.35,\n  'liveness': 0.13,\n  'valence': 0.095,\n  'tempo': 121.99,\n  'type': 'audio_features',\n  'id': '1eKSPMRzGdglxelX3kyrqc',\n  'uri': 'spotify:track:1eKSPMRzGdglxelX3kyrqc',\n  'track_href': 'https://api.spotify.com/v1/tracks/1eKSPMRzGdglxelX3kyrqc',\n  'analysis_url': 'https://api.spotify.com/v1/audio-analysis/1eKSPMRzGdglxelX3kyrqc',\n  'duration_ms': 208375,\n  'time_signature': 4},\n {'danceability': 0.644,\n  'energy': 0.887,\n  'key': 11,\n  'loudness': -6.043,\n  'mode': 0,\n  'speechiness': 0.0348,\n  'acousticness': 0.000342,\n  'instrumentalness': 0.826,\n  'liveness': 0.0956,\n  'valence': 0.277,\n  'tempo': 129.99,\n  'type': 'audio_features',\n  'id': '4aFUd8Kilk401OLNMugJDg',\n  'uri': 'spotify:track:4aFUd8Kilk401OLNMugJDg',\n  'track_href': 'https://api.spotify.com/v1/tracks/4aFUd8Kilk401OLNMugJDg',\n  'analysis_url': 'https://api.spotify.com/v1/audio-analysis/4aFUd8Kilk401OLNMugJDg',\n  'duration_ms': 275077,\n  'time_signature': 4},\n {'danceability': 0.606,\n  'energy': 0.956,\n  'key': 3,\n  'loudness': -5.087,\n  'mode': 0,\n  'speechiness': 0.062,\n  'acousticness': 0.00145,\n  'instrumentalness': 0.721,\n  'liveness': 0.266,\n  'valence': 0.368,\n  'tempo': 135.008,\n  'type': 'audio_features',\n  'id': '5Gz4ahf3fZ8j21qGGfGjot',\n  'uri': 'spotify:track:5Gz4ahf3fZ8j21qGGfGjot',\n  'track_href': 'https://api.spotify.com/v1/tracks/5Gz4ahf3fZ8j21qGGfGjot',\n  'analysis_url': 'https://api.spotify.com/v1/audio-analysis/5Gz4ahf3fZ8j21qGGfGjot',\n  'duration_ms': 136000,\n  'time_signature': 4},\n {'danceability': 0.728,\n  'energy': 0.882,\n  'key': 6,\n  'loudness': -8.083,\n  'mode': 0,\n  'speechiness': 0.0508,\n  'acousticness': 0.257,\n  'instrumentalness': 0.441,\n  'liveness': 0.111,\n  'valence': 0.211,\n  'tempo': 125.005,\n  'type': 'audio_features',\n  'id': '4PZunWMdRDz63eZHAzoeD2',\n  'uri': 'spotify:track:4PZunWMdRDz63eZHAzoeD2',\n  'track_href': 'https://api.spotify.com/v1/tracks/4PZunWMdRDz63eZHAzoeD2',\n  'analysis_url': 'https://api.spotify.com/v1/audio-analysis/4PZunWMdRDz63eZHAzoeD2',\n  'duration_ms': 199680,\n  'time_signature': 4},\n {'danceability': 0.746,\n  'energy': 0.923,\n  'key': 0,\n  'loudness': -5.035,\n  'mode': 1,\n  'speechiness': 0.0424,\n  'acousticness': 0.000415,\n  'instrumentalness': 0.254,\n  'liveness': 0.1,\n  'valence': 0.472,\n  'tempo': 124.989,\n  'type': 'audio_features',\n  'id': '2bo8HF4dpbfJrxD6gaW3BJ',\n  'uri': 'spotify:track:2bo8HF4dpbfJrxD6gaW3BJ',\n  'track_href': 'https://api.spotify.com/v1/tracks/2bo8HF4dpbfJrxD6gaW3BJ',\n  'analysis_url': 'https://api.spotify.com/v1/audio-analysis/2bo8HF4dpbfJrxD6gaW3BJ',\n  'duration_ms': 172431,\n  'time_signature': 4},\n {'danceability': 0.806,\n  'energy': 0.795,\n  'key': 11,\n  'loudness': -6.608,\n  'mode': 0,\n  'speechiness': 0.0701,\n  'acousticness': 0.000728,\n  'instrumentalness': 0.695,\n  'liveness': 0.0763,\n  'valence': 0.78,\n  'tempo': 126.007,\n  'type': 'audio_features',\n  'id': '5DbvVp3W55HN5igEic72Xs',\n  'uri': 'spotify:track:5DbvVp3W55HN5igEic72Xs',\n  'track_href': 'https://api.spotify.com/v1/tracks/5DbvVp3W55HN5igEic72Xs',\n  'analysis_url': 'https://api.spotify.com/v1/audio-analysis/5DbvVp3W55HN5igEic72Xs',\n  'duration_ms': 154286,\n  'time_signature': 4},\n {'danceability': 0.688,\n  'energy': 0.907,\n  'key': 6,\n  'loudness': -6.927,\n  'mode': 0,\n  'speechiness': 0.0463,\n  'acousticness': 0.358,\n  'instrumentalness': 0.853,\n  'liveness': 0.149,\n  'valence': 0.151,\n  'tempo': 130.001,\n  'type': 'audio_features',\n  'id': '6Kv4u43WIqxp6eBTXaaCiM',\n  'uri': 'spotify:track:6Kv4u43WIqxp6eBTXaaCiM',\n  'track_href': 'https://api.spotify.com/v1/tracks/6Kv4u43WIqxp6eBTXaaCiM',\n  'analysis_url': 'https://api.spotify.com/v1/audio-analysis/6Kv4u43WIqxp6eBTXaaCiM',\n  'duration_ms': 211385,\n  'time_signature': 4},\n {'danceability': 0.912,\n  'energy': 0.629,\n  'key': 1,\n  'loudness': -11.573,\n  'mode': 0,\n  'speechiness': 0.221,\n  'acousticness': 0.0179,\n  'instrumentalness': 0.559,\n  'liveness': 0.101,\n  'valence': 0.618,\n  'tempo': 128.016,\n  'type': 'audio_features',\n  'id': '6DgKCYTAQno5ITP7WvE6XW',\n  'uri': 'spotify:track:6DgKCYTAQno5ITP7WvE6XW',\n  'track_href': 'https://api.spotify.com/v1/tracks/6DgKCYTAQno5ITP7WvE6XW',\n  'analysis_url': 'https://api.spotify.com/v1/audio-analysis/6DgKCYTAQno5ITP7WvE6XW',\n  'duration_ms': 211538,\n  'time_signature': 4},\n {'danceability': 0.626,\n  'energy': 0.672,\n  'key': 1,\n  'loudness': -6.806,\n  'mode': 1,\n  'speechiness': 0.0689,\n  'acousticness': 0.0704,\n  'instrumentalness': 0.463,\n  'liveness': 0.131,\n  'valence': 0.0389,\n  'tempo': 173.958,\n  'type': 'audio_features',\n  'id': '1xeOJfKycH2GR5UDwDNjzu',\n  'uri': 'spotify:track:1xeOJfKycH2GR5UDwDNjzu',\n  'track_href': 'https://api.spotify.com/v1/tracks/1xeOJfKycH2GR5UDwDNjzu',\n  'analysis_url': 'https://api.spotify.com/v1/audio-analysis/1xeOJfKycH2GR5UDwDNjzu',\n  'duration_ms': 148297,\n  'time_signature': 4},\n {'danceability': 0.732,\n  'energy': 0.806,\n  'key': 3,\n  'loudness': -4.757,\n  'mode': 0,\n  'speechiness': 0.0671,\n  'acousticness': 0.0685,\n  'instrumentalness': 6.78e-06,\n  'liveness': 0.182,\n  'valence': 0.251,\n  'tempo': 87.487,\n  'type': 'audio_features',\n  'id': '1DcFYXbOSWr18OHlfp7Qng',\n  'uri': 'spotify:track:1DcFYXbOSWr18OHlfp7Qng',\n  'track_href': 'https://api.spotify.com/v1/tracks/1DcFYXbOSWr18OHlfp7Qng',\n  'analysis_url': 'https://api.spotify.com/v1/audio-analysis/1DcFYXbOSWr18OHlfp7Qng',\n  'duration_ms': 187400,\n  'time_signature': 4},\n {'danceability': 0.34,\n  'energy': 0.928,\n  'key': 0,\n  'loudness': -3.172,\n  'mode': 0,\n  'speechiness': 0.0623,\n  'acousticness': 0.000138,\n  'instrumentalness': 0.0143,\n  'liveness': 0.11,\n  'valence': 0.0673,\n  'tempo': 173.943,\n  'type': 'audio_features',\n  'id': '4yJmqZJmrXOiY3i8eWoxxq',\n  'uri': 'spotify:track:4yJmqZJmrXOiY3i8eWoxxq',\n  'track_href': 'https://api.spotify.com/v1/tracks/4yJmqZJmrXOiY3i8eWoxxq',\n  'analysis_url': 'https://api.spotify.com/v1/audio-analysis/4yJmqZJmrXOiY3i8eWoxxq',\n  'duration_ms': 226896,\n  'time_signature': 4},\n {'danceability': 0.602,\n  'energy': 0.862,\n  'key': 9,\n  'loudness': -7.527,\n  'mode': 0,\n  'speechiness': 0.0297,\n  'acousticness': 0.0107,\n  'instrumentalness': 0.00519,\n  'liveness': 0.139,\n  'valence': 0.287,\n  'tempo': 118.001,\n  'type': 'audio_features',\n  'id': '053bbGyTwKCwmSzE78G2Us',\n  'uri': 'spotify:track:053bbGyTwKCwmSzE78G2Us',\n  'track_href': 'https://api.spotify.com/v1/tracks/053bbGyTwKCwmSzE78G2Us',\n  'analysis_url': 'https://api.spotify.com/v1/audio-analysis/053bbGyTwKCwmSzE78G2Us',\n  'duration_ms': 185697,\n  'time_signature': 4},\n {'danceability': 0.773,\n  'energy': 0.81,\n  'key': 5,\n  'loudness': -6.794,\n  'mode': 0,\n  'speechiness': 0.0371,\n  'acousticness': 0.000943,\n  'instrumentalness': 0.0541,\n  'liveness': 0.379,\n  'valence': 0.343,\n  'tempo': 123.991,\n  'type': 'audio_features',\n  'id': '2kpOZP2szJea4TExBH2DJu',\n  'uri': 'spotify:track:2kpOZP2szJea4TExBH2DJu',\n  'track_href': 'https://api.spotify.com/v1/tracks/2kpOZP2szJea4TExBH2DJu',\n  'analysis_url': 'https://api.spotify.com/v1/audio-analysis/2kpOZP2szJea4TExBH2DJu',\n  'duration_ms': 193548,\n  'time_signature': 4},\n {'danceability': 0.717,\n  'energy': 0.763,\n  'key': 2,\n  'loudness': -5.178,\n  'mode': 1,\n  'speechiness': 0.0559,\n  'acousticness': 0.0437,\n  'instrumentalness': 6.02e-05,\n  'liveness': 0.154,\n  'valence': 0.741,\n  'tempo': 126.002,\n  'type': 'audio_features',\n  'id': '49yvk8qS9L7I5aDeIMSutb',\n  'uri': 'spotify:track:49yvk8qS9L7I5aDeIMSutb',\n  'track_href': 'https://api.spotify.com/v1/tracks/49yvk8qS9L7I5aDeIMSutb',\n  'analysis_url': 'https://api.spotify.com/v1/audio-analysis/49yvk8qS9L7I5aDeIMSutb',\n  'duration_ms': 223283,\n  'time_signature': 4},\n {'danceability': 0.879,\n  'energy': 0.769,\n  'key': 9,\n  'loudness': -3.59,\n  'mode': 1,\n  'speechiness': 0.0859,\n  'acousticness': 0.0285,\n  'instrumentalness': 0.00171,\n  'liveness': 0.116,\n  'valence': 0.751,\n  'tempo': 120.023,\n  'type': 'audio_features',\n  'id': '2SDG2dYcoW5ksPGsiFGt7V',\n  'uri': 'spotify:track:2SDG2dYcoW5ksPGsiFGt7V',\n  'track_href': 'https://api.spotify.com/v1/tracks/2SDG2dYcoW5ksPGsiFGt7V',\n  'analysis_url': 'https://api.spotify.com/v1/audio-analysis/2SDG2dYcoW5ksPGsiFGt7V',\n  'duration_ms': 139616,\n  'time_signature': 4},\n {'danceability': 0.666,\n  'energy': 0.906,\n  'key': 0,\n  'loudness': -4.938,\n  'mode': 1,\n  'speechiness': 0.0446,\n  'acousticness': 0.0196,\n  'instrumentalness': 0.000346,\n  'liveness': 0.0947,\n  'valence': 0.659,\n  'tempo': 120.94,\n  'type': 'audio_features',\n  'id': '2KN5wY5R4gXbka8wB2kXh8',\n  'uri': 'spotify:track:2KN5wY5R4gXbka8wB2kXh8',\n  'track_href': 'https://api.spotify.com/v1/tracks/2KN5wY5R4gXbka8wB2kXh8',\n  'analysis_url': 'https://api.spotify.com/v1/audio-analysis/2KN5wY5R4gXbka8wB2kXh8',\n  'duration_ms': 142335,\n  'time_signature': 4},\n {'danceability': 0.66,\n  'energy': 0.835,\n  'key': 1,\n  'loudness': -7.018,\n  'mode': 1,\n  'speechiness': 0.0787,\n  'acousticness': 0.102,\n  'instrumentalness': 0.00662,\n  'liveness': 0.0751,\n  'valence': 0.488,\n  'tempo': 121.971,\n  'type': 'audio_features',\n  'id': '06e5O2EVUkUIRrDGGXsegJ',\n  'uri': 'spotify:track:06e5O2EVUkUIRrDGGXsegJ',\n  'track_href': 'https://api.spotify.com/v1/tracks/06e5O2EVUkUIRrDGGXsegJ',\n  'analysis_url': 'https://api.spotify.com/v1/audio-analysis/06e5O2EVUkUIRrDGGXsegJ',\n  'duration_ms': 196721,\n  'time_signature': 4},\n {'danceability': 0.754,\n  'energy': 0.72,\n  'key': 10,\n  'loudness': -5.041,\n  'mode': 0,\n  'speechiness': 0.109,\n  'acousticness': 0.0522,\n  'instrumentalness': 0,\n  'liveness': 0.219,\n  'valence': 0.811,\n  'tempo': 121.967,\n  'type': 'audio_features',\n  'id': '6uMw8SDp0npgOKO0pbmmPZ',\n  'uri': 'spotify:track:6uMw8SDp0npgOKO0pbmmPZ',\n  'track_href': 'https://api.spotify.com/v1/tracks/6uMw8SDp0npgOKO0pbmmPZ',\n  'analysis_url': 'https://api.spotify.com/v1/audio-analysis/6uMw8SDp0npgOKO0pbmmPZ',\n  'duration_ms': 146066,\n  'time_signature': 4},\n {'danceability': 0.543,\n  'energy': 0.844,\n  'key': 1,\n  'loudness': -4.07,\n  'mode': 0,\n  'speechiness': 0.0482,\n  'acousticness': 0.00685,\n  'instrumentalness': 0.00507,\n  'liveness': 0.831,\n  'valence': 0.207,\n  'tempo': 119.959,\n  'type': 'audio_features',\n  'id': '25lRM5gnPkkOt92N0TZHfX',\n  'uri': 'spotify:track:25lRM5gnPkkOt92N0TZHfX',\n  'track_href': 'https://api.spotify.com/v1/tracks/25lRM5gnPkkOt92N0TZHfX',\n  'analysis_url': 'https://api.spotify.com/v1/audio-analysis/25lRM5gnPkkOt92N0TZHfX',\n  'duration_ms': 180594,\n  'time_signature': 4},\n {'danceability': 0.741,\n  'energy': 0.826,\n  'key': 5,\n  'loudness': -5.147,\n  'mode': 0,\n  'speechiness': 0.0529,\n  'acousticness': 0.0749,\n  'instrumentalness': 0.000623,\n  'liveness': 0.142,\n  'valence': 0.549,\n  'tempo': 123.998,\n  'type': 'audio_features',\n  'id': '4HgPdfsZJa23uioLcQOefo',\n  'uri': 'spotify:track:4HgPdfsZJa23uioLcQOefo',\n  'track_href': 'https://api.spotify.com/v1/tracks/4HgPdfsZJa23uioLcQOefo',\n  'analysis_url': 'https://api.spotify.com/v1/audio-analysis/4HgPdfsZJa23uioLcQOefo',\n  'duration_ms': 166466,\n  'time_signature': 4},\n {'danceability': 0.612,\n  'energy': 0.925,\n  'key': 1,\n  'loudness': -9.586,\n  'mode': 1,\n  'speechiness': 0.0367,\n  'acousticness': 0.00443,\n  'instrumentalness': 0.604,\n  'liveness': 0.138,\n  'valence': 0.0397,\n  'tempo': 123.999,\n  'type': 'audio_features',\n  'id': '3YEofHNLCwtG0Xg6e9AfC6',\n  'uri': 'spotify:track:3YEofHNLCwtG0Xg6e9AfC6',\n  'track_href': 'https://api.spotify.com/v1/tracks/3YEofHNLCwtG0Xg6e9AfC6',\n  'analysis_url': 'https://api.spotify.com/v1/audio-analysis/3YEofHNLCwtG0Xg6e9AfC6',\n  'duration_ms': 278710,\n  'time_signature': 4},\n {'danceability': 0.834,\n  'energy': 0.63,\n  'key': 1,\n  'loudness': -5.727,\n  'mode': 1,\n  'speechiness': 0.0422,\n  'acousticness': 0.00838,\n  'instrumentalness': 0.00254,\n  'liveness': 0.0963,\n  'valence': 0.416,\n  'tempo': 120.004,\n  'type': 'audio_features',\n  'id': '5nz5inh9IXoP7wwi2hi8kO',\n  'uri': 'spotify:track:5nz5inh9IXoP7wwi2hi8kO',\n  'track_href': 'https://api.spotify.com/v1/tracks/5nz5inh9IXoP7wwi2hi8kO',\n  'analysis_url': 'https://api.spotify.com/v1/audio-analysis/5nz5inh9IXoP7wwi2hi8kO',\n  'duration_ms': 192614,\n  'time_signature': 4},\n {'danceability': 0.705,\n  'energy': 0.759,\n  'key': 11,\n  'loudness': -4.547,\n  'mode': 0,\n  'speechiness': 0.156,\n  'acousticness': 0.0686,\n  'instrumentalness': 0.000246,\n  'liveness': 0.375,\n  'valence': 0.625,\n  'tempo': 118.019,\n  'type': 'audio_features',\n  'id': '57Zhe3iZ0PGDXm5qpeoXIh',\n  'uri': 'spotify:track:57Zhe3iZ0PGDXm5qpeoXIh',\n  'track_href': 'https://api.spotify.com/v1/tracks/57Zhe3iZ0PGDXm5qpeoXIh',\n  'analysis_url': 'https://api.spotify.com/v1/audio-analysis/57Zhe3iZ0PGDXm5qpeoXIh',\n  'duration_ms': 166780,\n  'time_signature': 4},\n {'danceability': 0.848,\n  'energy': 0.744,\n  'key': 0,\n  'loudness': -4.316,\n  'mode': 1,\n  'speechiness': 0.3,\n  'acousticness': 0.0846,\n  'instrumentalness': 0,\n  'liveness': 0.142,\n  'valence': 0.957,\n  'tempo': 112.037,\n  'type': 'audio_features',\n  'id': '7dSQHfnJSK0SzmPpiuNrlC',\n  'uri': 'spotify:track:7dSQHfnJSK0SzmPpiuNrlC',\n  'track_href': 'https://api.spotify.com/v1/tracks/7dSQHfnJSK0SzmPpiuNrlC',\n  'analysis_url': 'https://api.spotify.com/v1/audio-analysis/7dSQHfnJSK0SzmPpiuNrlC',\n  'duration_ms': 159107,\n  'time_signature': 4},\n {'danceability': 0.868,\n  'energy': 0.746,\n  'key': 0,\n  'loudness': -7.54,\n  'mode': 0,\n  'speechiness': 0.099,\n  'acousticness': 0.0373,\n  'instrumentalness': 0.153,\n  'liveness': 0.11,\n  'valence': 0.113,\n  'tempo': 122.015,\n  'type': 'audio_features',\n  'id': '4gYwnkWNrORyaDgBj5V8ri',\n  'uri': 'spotify:track:4gYwnkWNrORyaDgBj5V8ri',\n  'track_href': 'https://api.spotify.com/v1/tracks/4gYwnkWNrORyaDgBj5V8ri',\n  'analysis_url': 'https://api.spotify.com/v1/audio-analysis/4gYwnkWNrORyaDgBj5V8ri',\n  'duration_ms': 159137,\n  'time_signature': 4},\n {'danceability': 0.666,\n  'energy': 0.776,\n  'key': 4,\n  'loudness': -9.025,\n  'mode': 0,\n  'speechiness': 0.0391,\n  'acousticness': 0.265,\n  'instrumentalness': 0.0298,\n  'liveness': 0.379,\n  'valence': 0.442,\n  'tempo': 126.989,\n  'type': 'audio_features',\n  'id': '1pz4k8r1OPeNBeAGmi9gL9',\n  'uri': 'spotify:track:1pz4k8r1OPeNBeAGmi9gL9',\n  'track_href': 'https://api.spotify.com/v1/tracks/1pz4k8r1OPeNBeAGmi9gL9',\n  'analysis_url': 'https://api.spotify.com/v1/audio-analysis/1pz4k8r1OPeNBeAGmi9gL9',\n  'duration_ms': 186541,\n  'time_signature': 4},\n {'danceability': 0.627,\n  'energy': 0.902,\n  'key': 6,\n  'loudness': -5.149,\n  'mode': 0,\n  'speechiness': 0.0384,\n  'acousticness': 0.0105,\n  'instrumentalness': 0.952,\n  'liveness': 0.0997,\n  'valence': 0.135,\n  'tempo': 128.021,\n  'type': 'audio_features',\n  'id': '7cmpWAZsamIlIiyU1aMGZD',\n  'uri': 'spotify:track:7cmpWAZsamIlIiyU1aMGZD',\n  'track_href': 'https://api.spotify.com/v1/tracks/7cmpWAZsamIlIiyU1aMGZD',\n  'analysis_url': 'https://api.spotify.com/v1/audio-analysis/7cmpWAZsamIlIiyU1aMGZD',\n  'duration_ms': 178594,\n  'time_signature': 4},\n {'danceability': 0.693,\n  'energy': 0.845,\n  'key': 9,\n  'loudness': -3.27,\n  'mode': 1,\n  'speechiness': 0.0348,\n  'acousticness': 0.0127,\n  'instrumentalness': 1.84e-06,\n  'liveness': 0.169,\n  'valence': 0.498,\n  'tempo': 125.009,\n  'type': 'audio_features',\n  'id': '1h4zfNDe8UapUvTuaDsTuM',\n  'uri': 'spotify:track:1h4zfNDe8UapUvTuaDsTuM',\n  'track_href': 'https://api.spotify.com/v1/tracks/1h4zfNDe8UapUvTuaDsTuM',\n  'analysis_url': 'https://api.spotify.com/v1/audio-analysis/1h4zfNDe8UapUvTuaDsTuM',\n  'duration_ms': 169440,\n  'time_signature': 4},\n {'danceability': 0.779,\n  'energy': 0.833,\n  'key': 9,\n  'loudness': -5.978,\n  'mode': 0,\n  'speechiness': 0.043,\n  'acousticness': 0.0128,\n  'instrumentalness': 0.0299,\n  'liveness': 0.0633,\n  'valence': 0.687,\n  'tempo': 125.005,\n  'type': 'audio_features',\n  'id': '7IPdXJf4DEisUUL0WqTcKL',\n  'uri': 'spotify:track:7IPdXJf4DEisUUL0WqTcKL',\n  'track_href': 'https://api.spotify.com/v1/tracks/7IPdXJf4DEisUUL0WqTcKL',\n  'analysis_url': 'https://api.spotify.com/v1/audio-analysis/7IPdXJf4DEisUUL0WqTcKL',\n  'duration_ms': 186265,\n  'time_signature': 4},\n {'danceability': 0.561,\n  'energy': 0.957,\n  'key': 11,\n  'loudness': -5.926,\n  'mode': 0,\n  'speechiness': 0.0362,\n  'acousticness': 0.000589,\n  'instrumentalness': 0.322,\n  'liveness': 0.417,\n  'valence': 0.13,\n  'tempo': 123.976,\n  'type': 'audio_features',\n  'id': '4HcOBdrcaCmh29ogaEiE5n',\n  'uri': 'spotify:track:4HcOBdrcaCmh29ogaEiE5n',\n  'track_href': 'https://api.spotify.com/v1/tracks/4HcOBdrcaCmh29ogaEiE5n',\n  'analysis_url': 'https://api.spotify.com/v1/audio-analysis/4HcOBdrcaCmh29ogaEiE5n',\n  'duration_ms': 210000,\n  'time_signature': 4},\n {'danceability': 0.764,\n  'energy': 0.595,\n  'key': 1,\n  'loudness': -9.233,\n  'mode': 0,\n  'speechiness': 0.0441,\n  'acousticness': 0.0224,\n  'instrumentalness': 0.00178,\n  'liveness': 0.109,\n  'valence': 0.371,\n  'tempo': 121.018,\n  'type': 'audio_features',\n  'id': '5WnnOy3qXPS8qOwl3U5KWX',\n  'uri': 'spotify:track:5WnnOy3qXPS8qOwl3U5KWX',\n  'track_href': 'https://api.spotify.com/v1/tracks/5WnnOy3qXPS8qOwl3U5KWX',\n  'analysis_url': 'https://api.spotify.com/v1/audio-analysis/5WnnOy3qXPS8qOwl3U5KWX',\n  'duration_ms': 208264,\n  'time_signature': 4},\n {'danceability': 0.779,\n  'energy': 0.801,\n  'key': 6,\n  'loudness': -7.774,\n  'mode': 0,\n  'speechiness': 0.0541,\n  'acousticness': 9.23e-05,\n  'instrumentalness': 0.412,\n  'liveness': 0.0533,\n  'valence': 0.637,\n  'tempo': 123.984,\n  'type': 'audio_features',\n  'id': '60LqGQ9H0edzxwy2xhH5Sr',\n  'uri': 'spotify:track:60LqGQ9H0edzxwy2xhH5Sr',\n  'track_href': 'https://api.spotify.com/v1/tracks/60LqGQ9H0edzxwy2xhH5Sr',\n  'analysis_url': 'https://api.spotify.com/v1/audio-analysis/60LqGQ9H0edzxwy2xhH5Sr',\n  'duration_ms': 164747,\n  'time_signature': 4},\n {'danceability': 0.745,\n  'energy': 0.881,\n  'key': 5,\n  'loudness': -6.228,\n  'mode': 0,\n  'speechiness': 0.089,\n  'acousticness': 0.0396,\n  'instrumentalness': 0.255,\n  'liveness': 0.0704,\n  'valence': 0.626,\n  'tempo': 123.0,\n  'type': 'audio_features',\n  'id': '1Xxa1bDLOyCK5ck8gu8hpg',\n  'uri': 'spotify:track:1Xxa1bDLOyCK5ck8gu8hpg',\n  'track_href': 'https://api.spotify.com/v1/tracks/1Xxa1bDLOyCK5ck8gu8hpg',\n  'analysis_url': 'https://api.spotify.com/v1/audio-analysis/1Xxa1bDLOyCK5ck8gu8hpg',\n  'duration_ms': 158074,\n  'time_signature': 4},\n {'danceability': 0.857,\n  'energy': 0.919,\n  'key': 7,\n  'loudness': -5.293,\n  'mode': 0,\n  'speechiness': 0.11,\n  'acousticness': 0.0216,\n  'instrumentalness': 0.000878,\n  'liveness': 0.373,\n  'valence': 0.89,\n  'tempo': 124.979,\n  'type': 'audio_features',\n  'id': '6r6hSnqlIvtpPFZMiM0LEy',\n  'uri': 'spotify:track:6r6hSnqlIvtpPFZMiM0LEy',\n  'track_href': 'https://api.spotify.com/v1/tracks/6r6hSnqlIvtpPFZMiM0LEy',\n  'analysis_url': 'https://api.spotify.com/v1/audio-analysis/6r6hSnqlIvtpPFZMiM0LEy',\n  'duration_ms': 220967,\n  'time_signature': 4},\n {'danceability': 0.76,\n  'energy': 0.558,\n  'key': 0,\n  'loudness': -5.495,\n  'mode': 0,\n  'speechiness': 0.0563,\n  'acousticness': 0.00107,\n  'instrumentalness': 0.905,\n  'liveness': 0.292,\n  'valence': 0.0717,\n  'tempo': 127.026,\n  'type': 'audio_features',\n  'id': '5b58AS0u6Xr4vaxWnY2C1n',\n  'uri': 'spotify:track:5b58AS0u6Xr4vaxWnY2C1n',\n  'track_href': 'https://api.spotify.com/v1/tracks/5b58AS0u6Xr4vaxWnY2C1n',\n  'analysis_url': 'https://api.spotify.com/v1/audio-analysis/5b58AS0u6Xr4vaxWnY2C1n',\n  'duration_ms': 195118,\n  'time_signature': 4},\n {'danceability': 0.667,\n  'energy': 0.676,\n  'key': 9,\n  'loudness': -4.811,\n  'mode': 0,\n  'speechiness': 0.0651,\n  'acousticness': 0.0275,\n  'instrumentalness': 5.69e-05,\n  'liveness': 0.224,\n  'valence': 0.407,\n  'tempo': 126.036,\n  'type': 'audio_features',\n  'id': '2AAMkITmFcCL9MtTKFui2k',\n  'uri': 'spotify:track:2AAMkITmFcCL9MtTKFui2k',\n  'track_href': 'https://api.spotify.com/v1/tracks/2AAMkITmFcCL9MtTKFui2k',\n  'analysis_url': 'https://api.spotify.com/v1/audio-analysis/2AAMkITmFcCL9MtTKFui2k',\n  'duration_ms': 163832,\n  'time_signature': 4},\n {'danceability': 0.673,\n  'energy': 0.837,\n  'key': 6,\n  'loudness': -5.324,\n  'mode': 1,\n  'speechiness': 0.0983,\n  'acousticness': 0.0469,\n  'instrumentalness': 1.69e-05,\n  'liveness': 0.109,\n  'valence': 0.446,\n  'tempo': 124.985,\n  'type': 'audio_features',\n  'id': '27cOULnIkVv1nFDmTZECkE',\n  'uri': 'spotify:track:27cOULnIkVv1nFDmTZECkE',\n  'track_href': 'https://api.spotify.com/v1/tracks/27cOULnIkVv1nFDmTZECkE',\n  'analysis_url': 'https://api.spotify.com/v1/audio-analysis/27cOULnIkVv1nFDmTZECkE',\n  'duration_ms': 168990,\n  'time_signature': 3},\n {'danceability': 0.804,\n  'energy': 0.803,\n  'key': 1,\n  'loudness': -8.237,\n  'mode': 1,\n  'speechiness': 0.0501,\n  'acousticness': 0.000732,\n  'instrumentalness': 0.877,\n  'liveness': 0.0932,\n  'valence': 0.0721,\n  'tempo': 119.998,\n  'type': 'audio_features',\n  'id': '6iNhl5IcRJfm3F42plOPA4',\n  'uri': 'spotify:track:6iNhl5IcRJfm3F42plOPA4',\n  'track_href': 'https://api.spotify.com/v1/tracks/6iNhl5IcRJfm3F42plOPA4',\n  'analysis_url': 'https://api.spotify.com/v1/audio-analysis/6iNhl5IcRJfm3F42plOPA4',\n  'duration_ms': 546472,\n  'time_signature': 4},\n {'danceability': 0.613,\n  'energy': 0.845,\n  'key': 7,\n  'loudness': -6.731,\n  'mode': 1,\n  'speechiness': 0.0369,\n  'acousticness': 0.0156,\n  'instrumentalness': 0.309,\n  'liveness': 0.375,\n  'valence': 0.29,\n  'tempo': 124.986,\n  'type': 'audio_features',\n  'id': '65d4aua5FrYn9CyKfmABR4',\n  'uri': 'spotify:track:65d4aua5FrYn9CyKfmABR4',\n  'track_href': 'https://api.spotify.com/v1/tracks/65d4aua5FrYn9CyKfmABR4',\n  'analysis_url': 'https://api.spotify.com/v1/audio-analysis/65d4aua5FrYn9CyKfmABR4',\n  'duration_ms': 217080,\n  'time_signature': 4},\n {'danceability': 0.831,\n  'energy': 0.707,\n  'key': 6,\n  'loudness': -8.263,\n  'mode': 0,\n  'speechiness': 0.0567,\n  'acousticness': 0.0309,\n  'instrumentalness': 0.815,\n  'liveness': 0.948,\n  'valence': 0.848,\n  'tempo': 126.015,\n  'type': 'audio_features',\n  'id': '0NUhccl4bo79EUsmFyAMHi',\n  'uri': 'spotify:track:0NUhccl4bo79EUsmFyAMHi',\n  'track_href': 'https://api.spotify.com/v1/tracks/0NUhccl4bo79EUsmFyAMHi',\n  'analysis_url': 'https://api.spotify.com/v1/audio-analysis/0NUhccl4bo79EUsmFyAMHi',\n  'duration_ms': 188968,\n  'time_signature': 4},\n {'danceability': 0.707,\n  'energy': 0.815,\n  'key': 7,\n  'loudness': -6.2,\n  'mode': 1,\n  'speechiness': 0.147,\n  'acousticness': 0.00499,\n  'instrumentalness': 0.828,\n  'liveness': 0.0874,\n  'valence': 0.148,\n  'tempo': 133.024,\n  'type': 'audio_features',\n  'id': '7K3OyIuvYF1qcwr4xqILeu',\n  'uri': 'spotify:track:7K3OyIuvYF1qcwr4xqILeu',\n  'track_href': 'https://api.spotify.com/v1/tracks/7K3OyIuvYF1qcwr4xqILeu',\n  'analysis_url': 'https://api.spotify.com/v1/audio-analysis/7K3OyIuvYF1qcwr4xqILeu',\n  'duration_ms': 206626,\n  'time_signature': 4},\n {'danceability': 0.738,\n  'energy': 0.91,\n  'key': 9,\n  'loudness': -8.938,\n  'mode': 0,\n  'speechiness': 0.107,\n  'acousticness': 0.00118,\n  'instrumentalness': 0.874,\n  'liveness': 0.0939,\n  'valence': 0.124,\n  'tempo': 137.022,\n  'type': 'audio_features',\n  'id': '6cKTcheUC3OHDMI8QMKp08',\n  'uri': 'spotify:track:6cKTcheUC3OHDMI8QMKp08',\n  'track_href': 'https://api.spotify.com/v1/tracks/6cKTcheUC3OHDMI8QMKp08',\n  'analysis_url': 'https://api.spotify.com/v1/audio-analysis/6cKTcheUC3OHDMI8QMKp08',\n  'duration_ms': 400625,\n  'time_signature': 4},\n {'danceability': 0.725,\n  'energy': 0.904,\n  'key': 7,\n  'loudness': -5.065,\n  'mode': 1,\n  'speechiness': 0.0466,\n  'acousticness': 0.0113,\n  'instrumentalness': 0.0129,\n  'liveness': 0.244,\n  'valence': 0.601,\n  'tempo': 125.958,\n  'type': 'audio_features',\n  'id': '50HnUVr7bXyCKsvxQ3kGwh',\n  'uri': 'spotify:track:50HnUVr7bXyCKsvxQ3kGwh',\n  'track_href': 'https://api.spotify.com/v1/tracks/50HnUVr7bXyCKsvxQ3kGwh',\n  'analysis_url': 'https://api.spotify.com/v1/audio-analysis/50HnUVr7bXyCKsvxQ3kGwh',\n  'duration_ms': 144762,\n  'time_signature': 4},\n {'danceability': 0.474,\n  'energy': 0.571,\n  'key': 8,\n  'loudness': -6.671,\n  'mode': 1,\n  'speechiness': 0.0397,\n  'acousticness': 0.174,\n  'instrumentalness': 0,\n  'liveness': 0.142,\n  'valence': 0.152,\n  'tempo': 132.108,\n  'type': 'audio_features',\n  'id': '0ow0OPJOJKhvFvWyLqcHFJ',\n  'uri': 'spotify:track:0ow0OPJOJKhvFvWyLqcHFJ',\n  'track_href': 'https://api.spotify.com/v1/tracks/0ow0OPJOJKhvFvWyLqcHFJ',\n  'analysis_url': 'https://api.spotify.com/v1/audio-analysis/0ow0OPJOJKhvFvWyLqcHFJ',\n  'duration_ms': 383636,\n  'time_signature': 4},\n {'danceability': 0.714,\n  'energy': 0.625,\n  'key': 10,\n  'loudness': -11.517,\n  'mode': 0,\n  'speechiness': 0.0458,\n  'acousticness': 0.227,\n  'instrumentalness': 0.743,\n  'liveness': 0.131,\n  'valence': 0.294,\n  'tempo': 127.977,\n  'type': 'audio_features',\n  'id': '0ZGTKMUfj3pbKbTjMCCuEQ',\n  'uri': 'spotify:track:0ZGTKMUfj3pbKbTjMCCuEQ',\n  'track_href': 'https://api.spotify.com/v1/tracks/0ZGTKMUfj3pbKbTjMCCuEQ',\n  'analysis_url': 'https://api.spotify.com/v1/audio-analysis/0ZGTKMUfj3pbKbTjMCCuEQ',\n  'duration_ms': 230547,\n  'time_signature': 4},\n {'danceability': 0.701,\n  'energy': 0.843,\n  'key': 11,\n  'loudness': -8.227,\n  'mode': 0,\n  'speechiness': 0.0504,\n  'acousticness': 0.0201,\n  'instrumentalness': 0.568,\n  'liveness': 0.0309,\n  'valence': 0.88,\n  'tempo': 136.984,\n  'type': 'audio_features',\n  'id': '4SXZvIjujIcmMtWbjnSwZT',\n  'uri': 'spotify:track:4SXZvIjujIcmMtWbjnSwZT',\n  'track_href': 'https://api.spotify.com/v1/tracks/4SXZvIjujIcmMtWbjnSwZT',\n  'analysis_url': 'https://api.spotify.com/v1/audio-analysis/4SXZvIjujIcmMtWbjnSwZT',\n  'duration_ms': 231241,\n  'time_signature': 4},\n {'danceability': 0.688,\n  'energy': 0.907,\n  'key': 10,\n  'loudness': -8.06,\n  'mode': 0,\n  'speechiness': 0.0618,\n  'acousticness': 0.0293,\n  'instrumentalness': 0.844,\n  'liveness': 0.0767,\n  'valence': 0.214,\n  'tempo': 132.022,\n  'type': 'audio_features',\n  'id': '79ixYcSOhGVaG69GHfVOXJ',\n  'uri': 'spotify:track:79ixYcSOhGVaG69GHfVOXJ',\n  'track_href': 'https://api.spotify.com/v1/tracks/79ixYcSOhGVaG69GHfVOXJ',\n  'analysis_url': 'https://api.spotify.com/v1/audio-analysis/79ixYcSOhGVaG69GHfVOXJ',\n  'duration_ms': 240322,\n  'time_signature': 4},\n {'danceability': 0.742,\n  'energy': 0.842,\n  'key': 1,\n  'loudness': -10.248,\n  'mode': 1,\n  'speechiness': 0.0399,\n  'acousticness': 0.0174,\n  'instrumentalness': 0.45,\n  'liveness': 0.0936,\n  'valence': 0.744,\n  'tempo': 126.985,\n  'type': 'audio_features',\n  'id': '6EZAn1Xsd6x15qvEcGI1oE',\n  'uri': 'spotify:track:6EZAn1Xsd6x15qvEcGI1oE',\n  'track_href': 'https://api.spotify.com/v1/tracks/6EZAn1Xsd6x15qvEcGI1oE',\n  'analysis_url': 'https://api.spotify.com/v1/audio-analysis/6EZAn1Xsd6x15qvEcGI1oE',\n  'duration_ms': 358720,\n  'time_signature': 4},\n {'danceability': 0.501,\n  'energy': 0.791,\n  'key': 0,\n  'loudness': -5.101,\n  'mode': 1,\n  'speechiness': 0.0701,\n  'acousticness': 0.019,\n  'instrumentalness': 0.00124,\n  'liveness': 0.108,\n  'valence': 0.448,\n  'tempo': 123.966,\n  'type': 'audio_features',\n  'id': '7hJ0U5j781H44oYJaaYFMa',\n  'uri': 'spotify:track:7hJ0U5j781H44oYJaaYFMa',\n  'track_href': 'https://api.spotify.com/v1/tracks/7hJ0U5j781H44oYJaaYFMa',\n  'analysis_url': 'https://api.spotify.com/v1/audio-analysis/7hJ0U5j781H44oYJaaYFMa',\n  'duration_ms': 210000,\n  'time_signature': 4},\n {'danceability': 0.607,\n  'energy': 0.985,\n  'key': 10,\n  'loudness': -3.002,\n  'mode': 0,\n  'speechiness': 0.0422,\n  'acousticness': 0.0924,\n  'instrumentalness': 0.76,\n  'liveness': 0.123,\n  'valence': 0.846,\n  'tempo': 127.019,\n  'type': 'audio_features',\n  'id': '6zRBMIDHnuuvWyaumNNcQF',\n  'uri': 'spotify:track:6zRBMIDHnuuvWyaumNNcQF',\n  'track_href': 'https://api.spotify.com/v1/tracks/6zRBMIDHnuuvWyaumNNcQF',\n  'analysis_url': 'https://api.spotify.com/v1/audio-analysis/6zRBMIDHnuuvWyaumNNcQF',\n  'duration_ms': 202205,\n  'time_signature': 4},\n {'danceability': 0.807,\n  'energy': 0.888,\n  'key': 9,\n  'loudness': -4.937,\n  'mode': 0,\n  'speechiness': 0.0449,\n  'acousticness': 0.0808,\n  'instrumentalness': 0.000881,\n  'liveness': 0.158,\n  'valence': 0.549,\n  'tempo': 122.023,\n  'type': 'audio_features',\n  'id': '0Q4DIuuJWNTAcm5GAqN1GU',\n  'uri': 'spotify:track:0Q4DIuuJWNTAcm5GAqN1GU',\n  'track_href': 'https://api.spotify.com/v1/tracks/0Q4DIuuJWNTAcm5GAqN1GU',\n  'analysis_url': 'https://api.spotify.com/v1/audio-analysis/0Q4DIuuJWNTAcm5GAqN1GU',\n  'duration_ms': 149722,\n  'time_signature': 4},\n {'danceability': 0.719,\n  'energy': 0.928,\n  'key': 9,\n  'loudness': -1.553,\n  'mode': 0,\n  'speechiness': 0.0473,\n  'acousticness': 0.128,\n  'instrumentalness': 0.0413,\n  'liveness': 0.396,\n  'valence': 0.407,\n  'tempo': 105.063,\n  'type': 'audio_features',\n  'id': '6TokZjKiCwAFSmA7pdWTaK',\n  'uri': 'spotify:track:6TokZjKiCwAFSmA7pdWTaK',\n  'track_href': 'https://api.spotify.com/v1/tracks/6TokZjKiCwAFSmA7pdWTaK',\n  'analysis_url': 'https://api.spotify.com/v1/audio-analysis/6TokZjKiCwAFSmA7pdWTaK',\n  'duration_ms': 164843,\n  'time_signature': 4},\n {'danceability': 0.815,\n  'energy': 0.705,\n  'key': 11,\n  'loudness': -4.934,\n  'mode': 0,\n  'speechiness': 0.135,\n  'acousticness': 0.0294,\n  'instrumentalness': 1.62e-06,\n  'liveness': 0.173,\n  'valence': 0.516,\n  'tempo': 123.981,\n  'type': 'audio_features',\n  'id': '33oQaDZex8PFThfgpCpOdH',\n  'uri': 'spotify:track:33oQaDZex8PFThfgpCpOdH',\n  'track_href': 'https://api.spotify.com/v1/tracks/33oQaDZex8PFThfgpCpOdH',\n  'analysis_url': 'https://api.spotify.com/v1/audio-analysis/33oQaDZex8PFThfgpCpOdH',\n  'duration_ms': 166004,\n  'time_signature': 4},\n {'danceability': 0.777,\n  'energy': 0.738,\n  'key': 11,\n  'loudness': -5.861,\n  'mode': 0,\n  'speechiness': 0.0352,\n  'acousticness': 0.0411,\n  'instrumentalness': 0.37,\n  'liveness': 0.0265,\n  'valence': 0.887,\n  'tempo': 123.991,\n  'type': 'audio_features',\n  'id': '3rh495Z2rIRwD316blea4f',\n  'uri': 'spotify:track:3rh495Z2rIRwD316blea4f',\n  'track_href': 'https://api.spotify.com/v1/tracks/3rh495Z2rIRwD316blea4f',\n  'analysis_url': 'https://api.spotify.com/v1/audio-analysis/3rh495Z2rIRwD316blea4f',\n  'duration_ms': 232625,\n  'time_signature': 4},\n {'danceability': 0.586,\n  'energy': 0.893,\n  'key': 10,\n  'loudness': -8.8,\n  'mode': 0,\n  'speechiness': 0.0359,\n  'acousticness': 0.00483,\n  'instrumentalness': 0.0945,\n  'liveness': 0.373,\n  'valence': 0.233,\n  'tempo': 125.996,\n  'type': 'audio_features',\n  'id': '3J8CjJWVaDbM9oE2XDyncj',\n  'uri': 'spotify:track:3J8CjJWVaDbM9oE2XDyncj',\n  'track_href': 'https://api.spotify.com/v1/tracks/3J8CjJWVaDbM9oE2XDyncj',\n  'analysis_url': 'https://api.spotify.com/v1/audio-analysis/3J8CjJWVaDbM9oE2XDyncj',\n  'duration_ms': 288358,\n  'time_signature': 4},\n {'danceability': 0.392,\n  'energy': 0.723,\n  'key': 1,\n  'loudness': -4.418,\n  'mode': 1,\n  'speechiness': 0.0319,\n  'acousticness': 0.0132,\n  'instrumentalness': 0,\n  'liveness': 0.0843,\n  'valence': 0.27,\n  'tempo': 174.012,\n  'type': 'audio_features',\n  'id': '1sWWOV3HQuvJ3N2z6dtu2W',\n  'uri': 'spotify:track:1sWWOV3HQuvJ3N2z6dtu2W',\n  'track_href': 'https://api.spotify.com/v1/tracks/1sWWOV3HQuvJ3N2z6dtu2W',\n  'analysis_url': 'https://api.spotify.com/v1/audio-analysis/1sWWOV3HQuvJ3N2z6dtu2W',\n  'duration_ms': 230345,\n  'time_signature': 4},\n {'danceability': 0.79,\n  'energy': 0.652,\n  'key': 6,\n  'loudness': -8.655,\n  'mode': 0,\n  'speechiness': 0.0562,\n  'acousticness': 0.022,\n  'instrumentalness': 0.822,\n  'liveness': 0.0845,\n  'valence': 0.352,\n  'tempo': 128.979,\n  'type': 'audio_features',\n  'id': '2ZhZ76JnLYcjFmcExTdxNF',\n  'uri': 'spotify:track:2ZhZ76JnLYcjFmcExTdxNF',\n  'track_href': 'https://api.spotify.com/v1/tracks/2ZhZ76JnLYcjFmcExTdxNF',\n  'analysis_url': 'https://api.spotify.com/v1/audio-analysis/2ZhZ76JnLYcjFmcExTdxNF',\n  'duration_ms': 204651,\n  'time_signature': 4},\n {'danceability': 0.831,\n  'energy': 0.952,\n  'key': 6,\n  'loudness': -6.595,\n  'mode': 0,\n  'speechiness': 0.055,\n  'acousticness': 0.012,\n  'instrumentalness': 0.16,\n  'liveness': 0.13,\n  'valence': 0.721,\n  'tempo': 125.991,\n  'type': 'audio_features',\n  'id': '6DW9Z2nMpoiZoPJdZniXnr',\n  'uri': 'spotify:track:6DW9Z2nMpoiZoPJdZniXnr',\n  'track_href': 'https://api.spotify.com/v1/tracks/6DW9Z2nMpoiZoPJdZniXnr',\n  'analysis_url': 'https://api.spotify.com/v1/audio-analysis/6DW9Z2nMpoiZoPJdZniXnr',\n  'duration_ms': 189524,\n  'time_signature': 4},\n {'danceability': 0.78,\n  'energy': 0.735,\n  'key': 10,\n  'loudness': -8.43,\n  'mode': 1,\n  'speechiness': 0.0636,\n  'acousticness': 0.0808,\n  'instrumentalness': 3.03e-05,\n  'liveness': 0.171,\n  'valence': 0.645,\n  'tempo': 123.995,\n  'type': 'audio_features',\n  'id': '4lJG3byxSnynXXfjfvegg2',\n  'uri': 'spotify:track:4lJG3byxSnynXXfjfvegg2',\n  'track_href': 'https://api.spotify.com/v1/tracks/4lJG3byxSnynXXfjfvegg2',\n  'analysis_url': 'https://api.spotify.com/v1/audio-analysis/4lJG3byxSnynXXfjfvegg2',\n  'duration_ms': 160645,\n  'time_signature': 4},\n {'danceability': 0.612,\n  'energy': 0.741,\n  'key': 4,\n  'loudness': -7.002,\n  'mode': 0,\n  'speechiness': 0.0359,\n  'acousticness': 0.0759,\n  'instrumentalness': 0.000416,\n  'liveness': 0.121,\n  'valence': 0.0672,\n  'tempo': 122.001,\n  'type': 'audio_features',\n  'id': '56pKxbJR1QFD8fmcqNI4R5',\n  'uri': 'spotify:track:56pKxbJR1QFD8fmcqNI4R5',\n  'track_href': 'https://api.spotify.com/v1/tracks/56pKxbJR1QFD8fmcqNI4R5',\n  'analysis_url': 'https://api.spotify.com/v1/audio-analysis/56pKxbJR1QFD8fmcqNI4R5',\n  'duration_ms': 252058,\n  'time_signature': 4},\n {'danceability': 0.883,\n  'energy': 0.878,\n  'key': 11,\n  'loudness': -7.692,\n  'mode': 0,\n  'speechiness': 0.156,\n  'acousticness': 0.0461,\n  'instrumentalness': 0.000726,\n  'liveness': 0.163,\n  'valence': 0.553,\n  'tempo': 125.994,\n  'type': 'audio_features',\n  'id': '5WJp4hlT4lI14Wv9U2BKvC',\n  'uri': 'spotify:track:5WJp4hlT4lI14Wv9U2BKvC',\n  'track_href': 'https://api.spotify.com/v1/tracks/5WJp4hlT4lI14Wv9U2BKvC',\n  'analysis_url': 'https://api.spotify.com/v1/audio-analysis/5WJp4hlT4lI14Wv9U2BKvC',\n  'duration_ms': 147126,\n  'time_signature': 4},\n {'danceability': 0.656,\n  'energy': 0.826,\n  'key': 8,\n  'loudness': -7.006,\n  'mode': 0,\n  'speechiness': 0.0474,\n  'acousticness': 0.00881,\n  'instrumentalness': 0.00234,\n  'liveness': 0.237,\n  'valence': 0.26,\n  'tempo': 121.936,\n  'type': 'audio_features',\n  'id': '6QGHCildW0p2nnrxE4BHsy',\n  'uri': 'spotify:track:6QGHCildW0p2nnrxE4BHsy',\n  'track_href': 'https://api.spotify.com/v1/tracks/6QGHCildW0p2nnrxE4BHsy',\n  'analysis_url': 'https://api.spotify.com/v1/audio-analysis/6QGHCildW0p2nnrxE4BHsy',\n  'duration_ms': 165246,\n  'time_signature': 4},\n {'danceability': 0.579,\n  'energy': 0.987,\n  'key': 9,\n  'loudness': -4.069,\n  'mode': 0,\n  'speechiness': 0.0706,\n  'acousticness': 0.000243,\n  'instrumentalness': 0.744,\n  'liveness': 0.129,\n  'valence': 0.343,\n  'tempo': 125.021,\n  'type': 'audio_features',\n  'id': '6EJuJAg1Ydjkoj9SCwMUyN',\n  'uri': 'spotify:track:6EJuJAg1Ydjkoj9SCwMUyN',\n  'track_href': 'https://api.spotify.com/v1/tracks/6EJuJAg1Ydjkoj9SCwMUyN',\n  'analysis_url': 'https://api.spotify.com/v1/audio-analysis/6EJuJAg1Ydjkoj9SCwMUyN',\n  'duration_ms': 174600,\n  'time_signature': 4},\n {'danceability': 0.558,\n  'energy': 0.973,\n  'key': 2,\n  'loudness': -6.845,\n  'mode': 1,\n  'speechiness': 0.039,\n  'acousticness': 0.0109,\n  'instrumentalness': 0.779,\n  'liveness': 0.41,\n  'valence': 0.0679,\n  'tempo': 124.018,\n  'type': 'audio_features',\n  'id': '2nsuUT8ey4AhPkkyM74shh',\n  'uri': 'spotify:track:2nsuUT8ey4AhPkkyM74shh',\n  'track_href': 'https://api.spotify.com/v1/tracks/2nsuUT8ey4AhPkkyM74shh',\n  'analysis_url': 'https://api.spotify.com/v1/audio-analysis/2nsuUT8ey4AhPkkyM74shh',\n  'duration_ms': 261312,\n  'time_signature': 4},\n {'danceability': 0.679,\n  'energy': 0.915,\n  'key': 0,\n  'loudness': -10.554,\n  'mode': 1,\n  'speechiness': 0.0458,\n  'acousticness': 0.00992,\n  'instrumentalness': 0.795,\n  'liveness': 0.0925,\n  'valence': 0.106,\n  'tempo': 124.005,\n  'type': 'audio_features',\n  'id': '46OIVHWlExMXlqYRCpkEYd',\n  'uri': 'spotify:track:46OIVHWlExMXlqYRCpkEYd',\n  'track_href': 'https://api.spotify.com/v1/tracks/46OIVHWlExMXlqYRCpkEYd',\n  'analysis_url': 'https://api.spotify.com/v1/audio-analysis/46OIVHWlExMXlqYRCpkEYd',\n  'duration_ms': 389801,\n  'time_signature': 4},\n {'danceability': 0.777,\n  'energy': 0.941,\n  'key': 4,\n  'loudness': -5.581,\n  'mode': 0,\n  'speechiness': 0.0473,\n  'acousticness': 0.00499,\n  'instrumentalness': 0.371,\n  'liveness': 0.0776,\n  'valence': 0.936,\n  'tempo': 127.015,\n  'type': 'audio_features',\n  'id': '4z5KUXHyHzrmUduxTzhpzS',\n  'uri': 'spotify:track:4z5KUXHyHzrmUduxTzhpzS',\n  'track_href': 'https://api.spotify.com/v1/tracks/4z5KUXHyHzrmUduxTzhpzS',\n  'analysis_url': 'https://api.spotify.com/v1/audio-analysis/4z5KUXHyHzrmUduxTzhpzS',\n  'duration_ms': 201850,\n  'time_signature': 4},\n {'danceability': 0.643,\n  'energy': 0.887,\n  'key': 6,\n  'loudness': -10.206,\n  'mode': 1,\n  'speechiness': 0.0407,\n  'acousticness': 0.000254,\n  'instrumentalness': 0.394,\n  'liveness': 0.0557,\n  'valence': 0.662,\n  'tempo': 123.958,\n  'type': 'audio_features',\n  'id': '1u00EMt2762l5buwd6uQAK',\n  'uri': 'spotify:track:1u00EMt2762l5buwd6uQAK',\n  'track_href': 'https://api.spotify.com/v1/tracks/1u00EMt2762l5buwd6uQAK',\n  'analysis_url': 'https://api.spotify.com/v1/audio-analysis/1u00EMt2762l5buwd6uQAK',\n  'duration_ms': 186964,\n  'time_signature': 4},\n {'danceability': 0.805,\n  'energy': 0.78,\n  'key': 0,\n  'loudness': -6.366,\n  'mode': 1,\n  'speechiness': 0.0729,\n  'acousticness': 0.00261,\n  'instrumentalness': 0.896,\n  'liveness': 0.0636,\n  'valence': 0.604,\n  'tempo': 125.03,\n  'type': 'audio_features',\n  'id': '5DgCDCuuevkqBmyFMjhbUc',\n  'uri': 'spotify:track:5DgCDCuuevkqBmyFMjhbUc',\n  'track_href': 'https://api.spotify.com/v1/tracks/5DgCDCuuevkqBmyFMjhbUc',\n  'analysis_url': 'https://api.spotify.com/v1/audio-analysis/5DgCDCuuevkqBmyFMjhbUc',\n  'duration_ms': 234293,\n  'time_signature': 4},\n {'danceability': 0.713,\n  'energy': 0.81,\n  'key': 0,\n  'loudness': -5.108,\n  'mode': 1,\n  'speechiness': 0.0457,\n  'acousticness': 0.115,\n  'instrumentalness': 0,\n  'liveness': 0.0527,\n  'valence': 0.747,\n  'tempo': 124.036,\n  'type': 'audio_features',\n  'id': '7kG1Lv9NFFtvvUeyYHLG7R',\n  'uri': 'spotify:track:7kG1Lv9NFFtvvUeyYHLG7R',\n  'track_href': 'https://api.spotify.com/v1/tracks/7kG1Lv9NFFtvvUeyYHLG7R',\n  'analysis_url': 'https://api.spotify.com/v1/audio-analysis/7kG1Lv9NFFtvvUeyYHLG7R',\n  'duration_ms': 182653,\n  'time_signature': 4},\n {'danceability': 0.79,\n  'energy': 0.827,\n  'key': 9,\n  'loudness': -6.286,\n  'mode': 0,\n  'speechiness': 0.0517,\n  'acousticness': 0.0112,\n  'instrumentalness': 0.0289,\n  'liveness': 0.077,\n  'valence': 0.774,\n  'tempo': 123.996,\n  'type': 'audio_features',\n  'id': '3aeqEyOCo9AaKboo37Wr8B',\n  'uri': 'spotify:track:3aeqEyOCo9AaKboo37Wr8B',\n  'track_href': 'https://api.spotify.com/v1/tracks/3aeqEyOCo9AaKboo37Wr8B',\n  'analysis_url': 'https://api.spotify.com/v1/audio-analysis/3aeqEyOCo9AaKboo37Wr8B',\n  'duration_ms': 191625,\n  'time_signature': 4},\n {'danceability': 0.674,\n  'energy': 0.866,\n  'key': 6,\n  'loudness': -4.902,\n  'mode': 0,\n  'speechiness': 0.0482,\n  'acousticness': 0.321,\n  'instrumentalness': 0.0128,\n  'liveness': 0.12,\n  'valence': 0.563,\n  'tempo': 123.992,\n  'type': 'audio_features',\n  'id': '2hMto0hWs4hULLbySN6E9o',\n  'uri': 'spotify:track:2hMto0hWs4hULLbySN6E9o',\n  'track_href': 'https://api.spotify.com/v1/tracks/2hMto0hWs4hULLbySN6E9o',\n  'analysis_url': 'https://api.spotify.com/v1/audio-analysis/2hMto0hWs4hULLbySN6E9o',\n  'duration_ms': 177898,\n  'time_signature': 4},\n {'danceability': 0.73,\n  'energy': 0.887,\n  'key': 7,\n  'loudness': -4.968,\n  'mode': 1,\n  'speechiness': 0.0432,\n  'acousticness': 0.0106,\n  'instrumentalness': 0.11,\n  'liveness': 0.336,\n  'valence': 0.137,\n  'tempo': 129.009,\n  'type': 'audio_features',\n  'id': '40xhB0wBh7Kjyn2O1ZCxYM',\n  'uri': 'spotify:track:40xhB0wBh7Kjyn2O1ZCxYM',\n  'track_href': 'https://api.spotify.com/v1/tracks/40xhB0wBh7Kjyn2O1ZCxYM',\n  'analysis_url': 'https://api.spotify.com/v1/audio-analysis/40xhB0wBh7Kjyn2O1ZCxYM',\n  'duration_ms': 218630,\n  'time_signature': 4},\n {'danceability': 0.429,\n  'energy': 0.811,\n  'key': 9,\n  'loudness': -7.91,\n  'mode': 1,\n  'speechiness': 0.0468,\n  'acousticness': 0.00145,\n  'instrumentalness': 0.13,\n  'liveness': 0.502,\n  'valence': 0.101,\n  'tempo': 139.962,\n  'type': 'audio_features',\n  'id': '3Nn6tQg6gYqCMZR0IpiiFJ',\n  'uri': 'spotify:track:3Nn6tQg6gYqCMZR0IpiiFJ',\n  'track_href': 'https://api.spotify.com/v1/tracks/3Nn6tQg6gYqCMZR0IpiiFJ',\n  'analysis_url': 'https://api.spotify.com/v1/audio-analysis/3Nn6tQg6gYqCMZR0IpiiFJ',\n  'duration_ms': 387160,\n  'time_signature': 4},\n {'danceability': 0.631,\n  'energy': 0.841,\n  'key': 5,\n  'loudness': -4.284,\n  'mode': 1,\n  'speechiness': 0.0434,\n  'acousticness': 0.0306,\n  'instrumentalness': 0.00049,\n  'liveness': 0.157,\n  'valence': 0.366,\n  'tempo': 124.998,\n  'type': 'audio_features',\n  'id': '5Yg3kRGlB8UB6Sa8Fq4njc',\n  'uri': 'spotify:track:5Yg3kRGlB8UB6Sa8Fq4njc',\n  'track_href': 'https://api.spotify.com/v1/tracks/5Yg3kRGlB8UB6Sa8Fq4njc',\n  'analysis_url': 'https://api.spotify.com/v1/audio-analysis/5Yg3kRGlB8UB6Sa8Fq4njc',\n  'duration_ms': 146513,\n  'time_signature': 4},\n {'danceability': 0.66,\n  'energy': 0.956,\n  'key': 5,\n  'loudness': -7.227,\n  'mode': 1,\n  'speechiness': 0.0499,\n  'acousticness': 0.00249,\n  'instrumentalness': 0.706,\n  'liveness': 0.385,\n  'valence': 0.752,\n  'tempo': 122.998,\n  'type': 'audio_features',\n  'id': '2I5faAdg3IZbd6HEn6Blfz',\n  'uri': 'spotify:track:2I5faAdg3IZbd6HEn6Blfz',\n  'track_href': 'https://api.spotify.com/v1/tracks/2I5faAdg3IZbd6HEn6Blfz',\n  'analysis_url': 'https://api.spotify.com/v1/audio-analysis/2I5faAdg3IZbd6HEn6Blfz',\n  'duration_ms': 168781,\n  'time_signature': 4},\n {'danceability': 0.493,\n  'energy': 0.68,\n  'key': 10,\n  'loudness': -5.87,\n  'mode': 1,\n  'speechiness': 0.0365,\n  'acousticness': 0.165,\n  'instrumentalness': 0.00247,\n  'liveness': 0.11,\n  'valence': 0.103,\n  'tempo': 94.082,\n  'type': 'audio_features',\n  'id': '0B9aBa926M7kus4kDZyLEd',\n  'uri': 'spotify:track:0B9aBa926M7kus4kDZyLEd',\n  'track_href': 'https://api.spotify.com/v1/tracks/0B9aBa926M7kus4kDZyLEd',\n  'analysis_url': 'https://api.spotify.com/v1/audio-analysis/0B9aBa926M7kus4kDZyLEd',\n  'duration_ms': 158480,\n  'time_signature': 4},\n {'danceability': 0.611,\n  'energy': 0.618,\n  'key': 9,\n  'loudness': -6.573,\n  'mode': 0,\n  'speechiness': 0.0655,\n  'acousticness': 0.0029,\n  'instrumentalness': 0.000757,\n  'liveness': 0.24,\n  'valence': 0.515,\n  'tempo': 99.999,\n  'type': 'audio_features',\n  'id': '1nkpXkr1Qacmp2BPd6mgct',\n  'uri': 'spotify:track:1nkpXkr1Qacmp2BPd6mgct',\n  'track_href': 'https://api.spotify.com/v1/tracks/1nkpXkr1Qacmp2BPd6mgct',\n  'analysis_url': 'https://api.spotify.com/v1/audio-analysis/1nkpXkr1Qacmp2BPd6mgct',\n  'duration_ms': 168073,\n  'time_signature': 4},\n {'danceability': 0.826,\n  'energy': 0.401,\n  'key': 2,\n  'loudness': -11.684,\n  'mode': 1,\n  'speechiness': 0.117,\n  'acousticness': 0.0154,\n  'instrumentalness': 0.795,\n  'liveness': 0.0999,\n  'valence': 0.0561,\n  'tempo': 122.017,\n  'type': 'audio_features',\n  'id': '1vdYudatKL5iRIM7i6vkvG',\n  'uri': 'spotify:track:1vdYudatKL5iRIM7i6vkvG',\n  'track_href': 'https://api.spotify.com/v1/tracks/1vdYudatKL5iRIM7i6vkvG',\n  'analysis_url': 'https://api.spotify.com/v1/audio-analysis/1vdYudatKL5iRIM7i6vkvG',\n  'duration_ms': 328781,\n  'time_signature': 4},\n {'danceability': 0.685,\n  'energy': 0.873,\n  'key': 4,\n  'loudness': -5.774,\n  'mode': 0,\n  'speechiness': 0.0433,\n  'acousticness': 0.00292,\n  'instrumentalness': 0.0105,\n  'liveness': 0.0752,\n  'valence': 0.727,\n  'tempo': 125.01,\n  'type': 'audio_features',\n  'id': '6V8UEh7aSmuh1qxe1HnNnE',\n  'uri': 'spotify:track:6V8UEh7aSmuh1qxe1HnNnE',\n  'track_href': 'https://api.spotify.com/v1/tracks/6V8UEh7aSmuh1qxe1HnNnE',\n  'analysis_url': 'https://api.spotify.com/v1/audio-analysis/6V8UEh7aSmuh1qxe1HnNnE',\n  'duration_ms': 142677,\n  'time_signature': 4},\n {'danceability': 0.808,\n  'energy': 0.847,\n  'key': 6,\n  'loudness': -6.788,\n  'mode': 0,\n  'speechiness': 0.0619,\n  'acousticness': 0.0115,\n  'instrumentalness': 0.863,\n  'liveness': 0.16,\n  'valence': 0.82,\n  'tempo': 129.998,\n  'type': 'audio_features',\n  'id': '0Rv3tutzgSak1pTMXiV9p8',\n  'uri': 'spotify:track:0Rv3tutzgSak1pTMXiV9p8',\n  'track_href': 'https://api.spotify.com/v1/tracks/0Rv3tutzgSak1pTMXiV9p8',\n  'analysis_url': 'https://api.spotify.com/v1/audio-analysis/0Rv3tutzgSak1pTMXiV9p8',\n  'duration_ms': 240570,\n  'time_signature': 4},\n {'danceability': 0.533,\n  'energy': 0.785,\n  'key': 6,\n  'loudness': -4.836,\n  'mode': 1,\n  'speechiness': 0.314,\n  'acousticness': 0.0814,\n  'instrumentalness': 1.04e-05,\n  'liveness': 0.157,\n  'valence': 0.439,\n  'tempo': 172.064,\n  'type': 'audio_features',\n  'id': '2dLU5EMUxumBWWdzDCL7Lc',\n  'uri': 'spotify:track:2dLU5EMUxumBWWdzDCL7Lc',\n  'track_href': 'https://api.spotify.com/v1/tracks/2dLU5EMUxumBWWdzDCL7Lc',\n  'analysis_url': 'https://api.spotify.com/v1/audio-analysis/2dLU5EMUxumBWWdzDCL7Lc',\n  'duration_ms': 189793,\n  'time_signature': 4},\n {'danceability': 0.694,\n  'energy': 0.955,\n  'key': 11,\n  'loudness': -3.436,\n  'mode': 0,\n  'speechiness': 0.0816,\n  'acousticness': 0.0034,\n  'instrumentalness': 0.676,\n  'liveness': 0.387,\n  'valence': 0.748,\n  'tempo': 121.961,\n  'type': 'audio_features',\n  'id': '6aVk0HYYYJKcIDeh16kOvk',\n  'uri': 'spotify:track:6aVk0HYYYJKcIDeh16kOvk',\n  'track_href': 'https://api.spotify.com/v1/tracks/6aVk0HYYYJKcIDeh16kOvk',\n  'analysis_url': 'https://api.spotify.com/v1/audio-analysis/6aVk0HYYYJKcIDeh16kOvk',\n  'duration_ms': 224287,\n  'time_signature': 4},\n {'danceability': 0.664,\n  'energy': 0.874,\n  'key': 4,\n  'loudness': -5.918,\n  'mode': 0,\n  'speechiness': 0.0378,\n  'acousticness': 0.00999,\n  'instrumentalness': 0.256,\n  'liveness': 0.189,\n  'valence': 0.729,\n  'tempo': 127.971,\n  'type': 'audio_features',\n  'id': '77uXlUY5qtAxiN1UCtAcyF',\n  'uri': 'spotify:track:77uXlUY5qtAxiN1UCtAcyF',\n  'track_href': 'https://api.spotify.com/v1/tracks/77uXlUY5qtAxiN1UCtAcyF',\n  'analysis_url': 'https://api.spotify.com/v1/audio-analysis/77uXlUY5qtAxiN1UCtAcyF',\n  'duration_ms': 215645,\n  'time_signature': 4},\n {'danceability': 0.402,\n  'energy': 0.884,\n  'key': 4,\n  'loudness': -5.409,\n  'mode': 0,\n  'speechiness': 0.0532,\n  'acousticness': 0.00537,\n  'instrumentalness': 0.0502,\n  'liveness': 0.481,\n  'valence': 0.101,\n  'tempo': 173.93,\n  'type': 'audio_features',\n  'id': '7oDizfJpMCEvjMxkT5NgiL',\n  'uri': 'spotify:track:7oDizfJpMCEvjMxkT5NgiL',\n  'track_href': 'https://api.spotify.com/v1/tracks/7oDizfJpMCEvjMxkT5NgiL',\n  'analysis_url': 'https://api.spotify.com/v1/audio-analysis/7oDizfJpMCEvjMxkT5NgiL',\n  'duration_ms': 283980,\n  'time_signature': 4},\n {'danceability': 0.701,\n  'energy': 0.589,\n  'key': 7,\n  'loudness': -10.028,\n  'mode': 1,\n  'speechiness': 0.0666,\n  'acousticness': 0.0897,\n  'instrumentalness': 0.873,\n  'liveness': 0.101,\n  'valence': 0.0326,\n  'tempo': 124.011,\n  'type': 'audio_features',\n  'id': '41rjAEQbD85oUdFX9uPGqG',\n  'uri': 'spotify:track:41rjAEQbD85oUdFX9uPGqG',\n  'track_href': 'https://api.spotify.com/v1/tracks/41rjAEQbD85oUdFX9uPGqG',\n  'analysis_url': 'https://api.spotify.com/v1/audio-analysis/41rjAEQbD85oUdFX9uPGqG',\n  'duration_ms': 309677,\n  'time_signature': 4},\n {'danceability': 0.886,\n  'energy': 0.823,\n  'key': 1,\n  'loudness': -3.73,\n  'mode': 1,\n  'speechiness': 0.0804,\n  'acousticness': 0.0173,\n  'instrumentalness': 0.000763,\n  'liveness': 0.0438,\n  'valence': 0.683,\n  'tempo': 125.985,\n  'type': 'audio_features',\n  'id': '02teKCLbOxKUIVg7DPoWCE',\n  'uri': 'spotify:track:02teKCLbOxKUIVg7DPoWCE',\n  'track_href': 'https://api.spotify.com/v1/tracks/02teKCLbOxKUIVg7DPoWCE',\n  'analysis_url': 'https://api.spotify.com/v1/audio-analysis/02teKCLbOxKUIVg7DPoWCE',\n  'duration_ms': 159569,\n  'time_signature': 4},\n {'danceability': 0.776,\n  'energy': 0.951,\n  'key': 10,\n  'loudness': -8.6,\n  'mode': 0,\n  'speechiness': 0.0631,\n  'acousticness': 0.00388,\n  'instrumentalness': 0.72,\n  'liveness': 0.635,\n  'valence': 0.885,\n  'tempo': 128.016,\n  'type': 'audio_features',\n  'id': '32MHis9ga5UmCo2hivlkEs',\n  'uri': 'spotify:track:32MHis9ga5UmCo2hivlkEs',\n  'track_href': 'https://api.spotify.com/v1/tracks/32MHis9ga5UmCo2hivlkEs',\n  'analysis_url': 'https://api.spotify.com/v1/audio-analysis/32MHis9ga5UmCo2hivlkEs',\n  'duration_ms': 244687,\n  'time_signature': 4},\n {'danceability': 0.696,\n  'energy': 0.488,\n  'key': 1,\n  'loudness': -7.508,\n  'mode': 1,\n  'speechiness': 0.0403,\n  'acousticness': 0.196,\n  'instrumentalness': 0.836,\n  'liveness': 0.2,\n  'valence': 0.202,\n  'tempo': 95.064,\n  'type': 'audio_features',\n  'id': '5EhnuLMer8qAXEDwmLtyrW',\n  'uri': 'spotify:track:5EhnuLMer8qAXEDwmLtyrW',\n  'track_href': 'https://api.spotify.com/v1/tracks/5EhnuLMer8qAXEDwmLtyrW',\n  'analysis_url': 'https://api.spotify.com/v1/audio-analysis/5EhnuLMer8qAXEDwmLtyrW',\n  'duration_ms': 212211,\n  'time_signature': 4},\n {'danceability': 0.658,\n  'energy': 0.941,\n  'key': 4,\n  'loudness': -4.26,\n  'mode': 0,\n  'speechiness': 0.119,\n  'acousticness': 0.0239,\n  'instrumentalness': 0.852,\n  'liveness': 0.364,\n  'valence': 0.296,\n  'tempo': 125.003,\n  'type': 'audio_features',\n  'id': '5hM4F7T6hEJUHdoVgukAiq',\n  'uri': 'spotify:track:5hM4F7T6hEJUHdoVgukAiq',\n  'track_href': 'https://api.spotify.com/v1/tracks/5hM4F7T6hEJUHdoVgukAiq',\n  'analysis_url': 'https://api.spotify.com/v1/audio-analysis/5hM4F7T6hEJUHdoVgukAiq',\n  'duration_ms': 189120,\n  'time_signature': 4},\n {'danceability': 0.561,\n  'energy': 0.651,\n  'key': 4,\n  'loudness': -2.725,\n  'mode': 0,\n  'speechiness': 0.031,\n  'acousticness': 0.322,\n  'instrumentalness': 0,\n  'liveness': 0.1,\n  'valence': 0.162,\n  'tempo': 105.047,\n  'type': 'audio_features',\n  'id': '1AJ4HIL7Aj9hXjl1plAkJk',\n  'uri': 'spotify:track:1AJ4HIL7Aj9hXjl1plAkJk',\n  'track_href': 'https://api.spotify.com/v1/tracks/1AJ4HIL7Aj9hXjl1plAkJk',\n  'analysis_url': 'https://api.spotify.com/v1/audio-analysis/1AJ4HIL7Aj9hXjl1plAkJk',\n  'duration_ms': 232000,\n  'time_signature': 4},\n {'danceability': 0.542,\n  'energy': 0.912,\n  'key': 5,\n  'loudness': -5.407,\n  'mode': 0,\n  'speechiness': 0.0666,\n  'acousticness': 0.015,\n  'instrumentalness': 0.0168,\n  'liveness': 0.17,\n  'valence': 0.38,\n  'tempo': 172.012,\n  'type': 'audio_features',\n  'id': '0H9UmjbppU6pek59n7kKXM',\n  'uri': 'spotify:track:0H9UmjbppU6pek59n7kKXM',\n  'track_href': 'https://api.spotify.com/v1/tracks/0H9UmjbppU6pek59n7kKXM',\n  'analysis_url': 'https://api.spotify.com/v1/audio-analysis/0H9UmjbppU6pek59n7kKXM',\n  'duration_ms': 319114,\n  'time_signature': 4},\n {'danceability': 0.827,\n  'energy': 0.821,\n  'key': 9,\n  'loudness': -6.498,\n  'mode': 1,\n  'speechiness': 0.26,\n  'acousticness': 0.00629,\n  'instrumentalness': 0.000645,\n  'liveness': 0.0709,\n  'valence': 0.357,\n  'tempo': 127.968,\n  'type': 'audio_features',\n  'id': '2F9lnTfWTZCvaHWSVTefUY',\n  'uri': 'spotify:track:2F9lnTfWTZCvaHWSVTefUY',\n  'track_href': 'https://api.spotify.com/v1/tracks/2F9lnTfWTZCvaHWSVTefUY',\n  'analysis_url': 'https://api.spotify.com/v1/audio-analysis/2F9lnTfWTZCvaHWSVTefUY',\n  'duration_ms': 170764,\n  'time_signature': 4},\n {'danceability': 0.722,\n  'energy': 0.848,\n  'key': 7,\n  'loudness': -6.164,\n  'mode': 1,\n  'speechiness': 0.0451,\n  'acousticness': 0.00041,\n  'instrumentalness': 0.26,\n  'liveness': 0.0723,\n  'valence': 0.359,\n  'tempo': 126.005,\n  'type': 'audio_features',\n  'id': '5r5MjmaLklyNOzKXY6Fqm5',\n  'uri': 'spotify:track:5r5MjmaLklyNOzKXY6Fqm5',\n  'track_href': 'https://api.spotify.com/v1/tracks/5r5MjmaLklyNOzKXY6Fqm5',\n  'analysis_url': 'https://api.spotify.com/v1/audio-analysis/5r5MjmaLklyNOzKXY6Fqm5',\n  'duration_ms': 208570,\n  'time_signature': 4},\n {'danceability': 0.704,\n  'energy': 0.759,\n  'key': 11,\n  'loudness': -6.714,\n  'mode': 1,\n  'speechiness': 0.0428,\n  'acousticness': 0.547,\n  'instrumentalness': 8.6e-05,\n  'liveness': 0.104,\n  'valence': 0.676,\n  'tempo': 130.045,\n  'type': 'audio_features',\n  'id': '2L3d9zBy8Iq8mKIde7cwmJ',\n  'uri': 'spotify:track:2L3d9zBy8Iq8mKIde7cwmJ',\n  'track_href': 'https://api.spotify.com/v1/tracks/2L3d9zBy8Iq8mKIde7cwmJ',\n  'analysis_url': 'https://api.spotify.com/v1/audio-analysis/2L3d9zBy8Iq8mKIde7cwmJ',\n  'duration_ms': 203213,\n  'time_signature': 4},\n {'danceability': 0.71,\n  'energy': 0.774,\n  'key': 8,\n  'loudness': -6.025,\n  'mode': 0,\n  'speechiness': 0.0344,\n  'acousticness': 0.134,\n  'instrumentalness': 0,\n  'liveness': 0.206,\n  'valence': 0.709,\n  'tempo': 124.009,\n  'type': 'audio_features',\n  'id': '5or0ryC6EUT7kS92UEGqxd',\n  'uri': 'spotify:track:5or0ryC6EUT7kS92UEGqxd',\n  'track_href': 'https://api.spotify.com/v1/tracks/5or0ryC6EUT7kS92UEGqxd',\n  'analysis_url': 'https://api.spotify.com/v1/audio-analysis/5or0ryC6EUT7kS92UEGqxd',\n  'duration_ms': 176382,\n  'time_signature': 4},\n {'danceability': 0.703,\n  'energy': 0.571,\n  'key': 0,\n  'loudness': -8.119,\n  'mode': 0,\n  'speechiness': 0.05,\n  'acousticness': 0.067,\n  'instrumentalness': 0.214,\n  'liveness': 0.123,\n  'valence': 0.735,\n  'tempo': 124.039,\n  'type': 'audio_features',\n  'id': '5z3Qr6kEyJiZhB0WHJSmCQ',\n  'uri': 'spotify:track:5z3Qr6kEyJiZhB0WHJSmCQ',\n  'track_href': 'https://api.spotify.com/v1/tracks/5z3Qr6kEyJiZhB0WHJSmCQ',\n  'analysis_url': 'https://api.spotify.com/v1/audio-analysis/5z3Qr6kEyJiZhB0WHJSmCQ',\n  'duration_ms': 224827,\n  'time_signature': 4},\n {'danceability': 0.796,\n  'energy': 0.927,\n  'key': 8,\n  'loudness': -7.498,\n  'mode': 0,\n  'speechiness': 0.0521,\n  'acousticness': 0.0114,\n  'instrumentalness': 0.925,\n  'liveness': 0.105,\n  'valence': 0.828,\n  'tempo': 127.003,\n  'type': 'audio_features',\n  'id': '6iwUBX2iTWRjHtBAGdqS0M',\n  'uri': 'spotify:track:6iwUBX2iTWRjHtBAGdqS0M',\n  'track_href': 'https://api.spotify.com/v1/tracks/6iwUBX2iTWRjHtBAGdqS0M',\n  'analysis_url': 'https://api.spotify.com/v1/audio-analysis/6iwUBX2iTWRjHtBAGdqS0M',\n  'duration_ms': 230551,\n  'time_signature': 4},\n {'danceability': 0.725,\n  'energy': 0.86,\n  'key': 1,\n  'loudness': -3.726,\n  'mode': 1,\n  'speechiness': 0.182,\n  'acousticness': 0.422,\n  'instrumentalness': 0.000284,\n  'liveness': 0.0674,\n  'valence': 0.791,\n  'tempo': 175.896,\n  'type': 'audio_features',\n  'id': '2vmfvSoZBFAt9hhRoEByLi',\n  'uri': 'spotify:track:2vmfvSoZBFAt9hhRoEByLi',\n  'track_href': 'https://api.spotify.com/v1/tracks/2vmfvSoZBFAt9hhRoEByLi',\n  'analysis_url': 'https://api.spotify.com/v1/audio-analysis/2vmfvSoZBFAt9hhRoEByLi',\n  'duration_ms': 230125,\n  'time_signature': 4},\n {'danceability': 0.78,\n  'energy': 0.718,\n  'key': 3,\n  'loudness': -3.605,\n  'mode': 0,\n  'speechiness': 0.0506,\n  'acousticness': 0.31,\n  'instrumentalness': 0.000163,\n  'liveness': 0.0932,\n  'valence': 0.342,\n  'tempo': 127.949,\n  'type': 'audio_features',\n  'id': '4fSIb4hdOQ151TILNsSEaF',\n  'uri': 'spotify:track:4fSIb4hdOQ151TILNsSEaF',\n  'track_href': 'https://api.spotify.com/v1/tracks/4fSIb4hdOQ151TILNsSEaF',\n  'analysis_url': 'https://api.spotify.com/v1/audio-analysis/4fSIb4hdOQ151TILNsSEaF',\n  'duration_ms': 199604,\n  'time_signature': 4},\n {'danceability': 0.871,\n  'energy': 0.815,\n  'key': 4,\n  'loudness': -4.439,\n  'mode': 1,\n  'speechiness': 0.0477,\n  'acousticness': 0.127,\n  'instrumentalness': 6.18e-06,\n  'liveness': 0.094,\n  'valence': 0.823,\n  'tempo': 122.959,\n  'type': 'audio_features',\n  'id': '0IqCoZ168iRc9LqfrYgpZy',\n  'uri': 'spotify:track:0IqCoZ168iRc9LqfrYgpZy',\n  'track_href': 'https://api.spotify.com/v1/tracks/0IqCoZ168iRc9LqfrYgpZy',\n  'analysis_url': 'https://api.spotify.com/v1/audio-analysis/0IqCoZ168iRc9LqfrYgpZy',\n  'duration_ms': 176575,\n  'time_signature': 4},\n {'danceability': 0.715,\n  'energy': 0.622,\n  'key': 4,\n  'loudness': -5.102,\n  'mode': 0,\n  'speechiness': 0.046,\n  'acousticness': 0.163,\n  'instrumentalness': 0,\n  'liveness': 0.0948,\n  'valence': 0.808,\n  'tempo': 80.015,\n  'type': 'audio_features',\n  'id': '2rCbl9naJYhaxjLsfx88uM',\n  'uri': 'spotify:track:2rCbl9naJYhaxjLsfx88uM',\n  'track_href': 'https://api.spotify.com/v1/tracks/2rCbl9naJYhaxjLsfx88uM',\n  'analysis_url': 'https://api.spotify.com/v1/audio-analysis/2rCbl9naJYhaxjLsfx88uM',\n  'duration_ms': 195053,\n  'time_signature': 4},\n {'danceability': 0.8,\n  'energy': 0.837,\n  'key': 6,\n  'loudness': -2.807,\n  'mode': 0,\n  'speechiness': 0.0491,\n  'acousticness': 0.00406,\n  'instrumentalness': 0.00313,\n  'liveness': 0.0904,\n  'valence': 0.702,\n  'tempo': 100.015,\n  'type': 'audio_features',\n  'id': '6IPNp9PfaEqrzotY47TIWy',\n  'uri': 'spotify:track:6IPNp9PfaEqrzotY47TIWy',\n  'track_href': 'https://api.spotify.com/v1/tracks/6IPNp9PfaEqrzotY47TIWy',\n  'analysis_url': 'https://api.spotify.com/v1/audio-analysis/6IPNp9PfaEqrzotY47TIWy',\n  'duration_ms': 225600,\n  'time_signature': 4},\n {'danceability': 0.644,\n  'energy': 0.648,\n  'key': 1,\n  'loudness': -4.601,\n  'mode': 1,\n  'speechiness': 0.118,\n  'acousticness': 0.276,\n  'instrumentalness': 0,\n  'liveness': 0.135,\n  'valence': 0.44,\n  'tempo': 179.951,\n  'type': 'audio_features',\n  'id': '2JPLbjOn0wPCngEot2STUS',\n  'uri': 'spotify:track:2JPLbjOn0wPCngEot2STUS',\n  'track_href': 'https://api.spotify.com/v1/tracks/2JPLbjOn0wPCngEot2STUS',\n  'analysis_url': 'https://api.spotify.com/v1/audio-analysis/2JPLbjOn0wPCngEot2STUS',\n  'duration_ms': 206710,\n  'time_signature': 4},\n {'danceability': 0.75,\n  'energy': 0.522,\n  'key': 9,\n  'loudness': -7.018,\n  'mode': 1,\n  'speechiness': 0.0293,\n  'acousticness': 0.282,\n  'instrumentalness': 0,\n  'liveness': 0.0743,\n  'valence': 0.601,\n  'tempo': 110.427,\n  'type': 'audio_features',\n  'id': '4OwhwvKESFtuu06dTgct7i',\n  'uri': 'spotify:track:4OwhwvKESFtuu06dTgct7i',\n  'track_href': 'https://api.spotify.com/v1/tracks/4OwhwvKESFtuu06dTgct7i',\n  'analysis_url': 'https://api.spotify.com/v1/audio-analysis/4OwhwvKESFtuu06dTgct7i',\n  'duration_ms': 321556,\n  'time_signature': 4},\n {'danceability': 0.762,\n  'energy': 0.77,\n  'key': 5,\n  'loudness': -2.758,\n  'mode': 1,\n  'speechiness': 0.223,\n  'acousticness': 0.138,\n  'instrumentalness': 0,\n  'liveness': 0.15,\n  'valence': 0.631,\n  'tempo': 177.998,\n  'type': 'audio_features',\n  'id': '4HzqWEdAbzcVFDv0pvxV4w',\n  'uri': 'spotify:track:4HzqWEdAbzcVFDv0pvxV4w',\n  'track_href': 'https://api.spotify.com/v1/tracks/4HzqWEdAbzcVFDv0pvxV4w',\n  'analysis_url': 'https://api.spotify.com/v1/audio-analysis/4HzqWEdAbzcVFDv0pvxV4w',\n  'duration_ms': 201181,\n  'time_signature': 4},\n {'danceability': 0.762,\n  'energy': 0.766,\n  'key': 7,\n  'loudness': -3.955,\n  'mode': 1,\n  'speechiness': 0.0343,\n  'acousticness': 0.00776,\n  'instrumentalness': 6.98e-05,\n  'liveness': 0.128,\n  'valence': 0.442,\n  'tempo': 130.001,\n  'type': 'audio_features',\n  'id': '5fwSHlTEWpluwOM0Sxnh5k',\n  'uri': 'spotify:track:5fwSHlTEWpluwOM0Sxnh5k',\n  'track_href': 'https://api.spotify.com/v1/tracks/5fwSHlTEWpluwOM0Sxnh5k',\n  'analysis_url': 'https://api.spotify.com/v1/audio-analysis/5fwSHlTEWpluwOM0Sxnh5k',\n  'duration_ms': 287120,\n  'time_signature': 4},\n {'danceability': 0.77,\n  'energy': 0.899,\n  'key': 8,\n  'loudness': -2.981,\n  'mode': 1,\n  'speechiness': 0.0494,\n  'acousticness': 0.222,\n  'instrumentalness': 1.14e-06,\n  'liveness': 0.0894,\n  'valence': 0.851,\n  'tempo': 128.05,\n  'type': 'audio_features',\n  'id': '6PDlkWmrq2ZKiUuFt2aQsH',\n  'uri': 'spotify:track:6PDlkWmrq2ZKiUuFt2aQsH',\n  'track_href': 'https://api.spotify.com/v1/tracks/6PDlkWmrq2ZKiUuFt2aQsH',\n  'analysis_url': 'https://api.spotify.com/v1/audio-analysis/6PDlkWmrq2ZKiUuFt2aQsH',\n  'duration_ms': 231604,\n  'time_signature': 4},\n {'danceability': 0.54,\n  'energy': 0.455,\n  'key': 3,\n  'loudness': -5.988,\n  'mode': 1,\n  'speechiness': 0.224,\n  'acousticness': 0.675,\n  'instrumentalness': 1.08e-05,\n  'liveness': 0.12,\n  'valence': 0.432,\n  'tempo': 83.876,\n  'type': 'audio_features',\n  'id': '71R8HJxQk5qMiRstrlXN9t',\n  'uri': 'spotify:track:71R8HJxQk5qMiRstrlXN9t',\n  'track_href': 'https://api.spotify.com/v1/tracks/71R8HJxQk5qMiRstrlXN9t',\n  'analysis_url': 'https://api.spotify.com/v1/audio-analysis/71R8HJxQk5qMiRstrlXN9t',\n  'duration_ms': 212032,\n  'time_signature': 4},\n {'danceability': 0.759,\n  'energy': 0.636,\n  'key': 6,\n  'loudness': -5.585,\n  'mode': 1,\n  'speechiness': 0.0369,\n  'acousticness': 0.0224,\n  'instrumentalness': 0.000143,\n  'liveness': 0.166,\n  'valence': 0.536,\n  'tempo': 109.976,\n  'type': 'audio_features',\n  'id': '5cpJFiNwYyWwFLH0V6B3N8',\n  'uri': 'spotify:track:5cpJFiNwYyWwFLH0V6B3N8',\n  'track_href': 'https://api.spotify.com/v1/tracks/5cpJFiNwYyWwFLH0V6B3N8',\n  'analysis_url': 'https://api.spotify.com/v1/audio-analysis/5cpJFiNwYyWwFLH0V6B3N8',\n  'duration_ms': 214507,\n  'time_signature': 4},\n {'danceability': 0.503,\n  'energy': 0.548,\n  'key': 0,\n  'loudness': -7.564,\n  'mode': 0,\n  'speechiness': 0.164,\n  'acousticness': 0.0751,\n  'instrumentalness': 0.000234,\n  'liveness': 0.145,\n  'valence': 0.441,\n  'tempo': 94.036,\n  'type': 'audio_features',\n  'id': '2CdTLdDjwZdVcm0bresVWx',\n  'uri': 'spotify:track:2CdTLdDjwZdVcm0bresVWx',\n  'track_href': 'https://api.spotify.com/v1/tracks/2CdTLdDjwZdVcm0bresVWx',\n  'analysis_url': 'https://api.spotify.com/v1/audio-analysis/2CdTLdDjwZdVcm0bresVWx',\n  'duration_ms': 228920,\n  'time_signature': 4},\n {'danceability': 0.856,\n  'energy': 0.618,\n  'key': 7,\n  'loudness': -4.892,\n  'mode': 1,\n  'speechiness': 0.286,\n  'acousticness': 0.0303,\n  'instrumentalness': 0,\n  'liveness': 0.0866,\n  'valence': 0.391,\n  'tempo': 81.993,\n  'type': 'audio_features',\n  'id': '2XIc1pqjXV3Cr2BQUGNBck',\n  'uri': 'spotify:track:2XIc1pqjXV3Cr2BQUGNBck',\n  'track_href': 'https://api.spotify.com/v1/tracks/2XIc1pqjXV3Cr2BQUGNBck',\n  'analysis_url': 'https://api.spotify.com/v1/audio-analysis/2XIc1pqjXV3Cr2BQUGNBck',\n  'duration_ms': 203201,\n  'time_signature': 4},\n {'danceability': 0.85,\n  'energy': 0.541,\n  'key': 2,\n  'loudness': -4.522,\n  'mode': 1,\n  'speechiness': 0.0674,\n  'acousticness': 0.161,\n  'instrumentalness': 5.01e-06,\n  'liveness': 0.286,\n  'valence': 0.916,\n  'tempo': 92.003,\n  'type': 'audio_features',\n  'id': '0cOa970mzTWAxKtltpkpLc',\n  'uri': 'spotify:track:0cOa970mzTWAxKtltpkpLc',\n  'track_href': 'https://api.spotify.com/v1/tracks/0cOa970mzTWAxKtltpkpLc',\n  'analysis_url': 'https://api.spotify.com/v1/audio-analysis/0cOa970mzTWAxKtltpkpLc',\n  'duration_ms': 165275,\n  'time_signature': 4},\n {'danceability': 0.57,\n  'energy': 0.455,\n  'key': 1,\n  'loudness': -5.748,\n  'mode': 0,\n  'speechiness': 0.0996,\n  'acousticness': 0.441,\n  'instrumentalness': 0.000746,\n  'liveness': 0.0654,\n  'valence': 0.399,\n  'tempo': 167.933,\n  'type': 'audio_features',\n  'id': '4bF2y8rR7GUjrd5LNEvej3',\n  'uri': 'spotify:track:4bF2y8rR7GUjrd5LNEvej3',\n  'track_href': 'https://api.spotify.com/v1/tracks/4bF2y8rR7GUjrd5LNEvej3',\n  'analysis_url': 'https://api.spotify.com/v1/audio-analysis/4bF2y8rR7GUjrd5LNEvej3',\n  'duration_ms': 151429,\n  'time_signature': 4},\n {'danceability': 0.781,\n  'energy': 0.748,\n  'key': 1,\n  'loudness': -4.604,\n  'mode': 1,\n  'speechiness': 0.242,\n  'acousticness': 0.105,\n  'instrumentalness': 0,\n  'liveness': 0.156,\n  'valence': 0.788,\n  'tempo': 149.819,\n  'type': 'audio_features',\n  'id': '0EtuSDTRJYUwlPf4y6coIz',\n  'uri': 'spotify:track:0EtuSDTRJYUwlPf4y6coIz',\n  'track_href': 'https://api.spotify.com/v1/tracks/0EtuSDTRJYUwlPf4y6coIz',\n  'analysis_url': 'https://api.spotify.com/v1/audio-analysis/0EtuSDTRJYUwlPf4y6coIz',\n  'duration_ms': 224168,\n  'time_signature': 4},\n {'danceability': 0.635,\n  'energy': 0.706,\n  'key': 5,\n  'loudness': -3.224,\n  'mode': 0,\n  'speechiness': 0.125,\n  'acousticness': 0.256,\n  'instrumentalness': 0,\n  'liveness': 0.108,\n  'valence': 0.443,\n  'tempo': 88.863,\n  'type': 'audio_features',\n  'id': '2FSGUA0gFgGeQdprjtGM2M',\n  'uri': 'spotify:track:2FSGUA0gFgGeQdprjtGM2M',\n  'track_href': 'https://api.spotify.com/v1/tracks/2FSGUA0gFgGeQdprjtGM2M',\n  'analysis_url': 'https://api.spotify.com/v1/audio-analysis/2FSGUA0gFgGeQdprjtGM2M',\n  'duration_ms': 209160,\n  'time_signature': 4},\n {'danceability': 0.86,\n  'energy': 0.516,\n  'key': 6,\n  'loudness': -5.518,\n  'mode': 0,\n  'speechiness': 0.145,\n  'acousticness': 0.0616,\n  'instrumentalness': 0,\n  'liveness': 0.0791,\n  'valence': 0.591,\n  'tempo': 98.005,\n  'type': 'audio_features',\n  'id': '1wcE84DVQUF16xudVFzezL',\n  'uri': 'spotify:track:1wcE84DVQUF16xudVFzezL',\n  'track_href': 'https://api.spotify.com/v1/tracks/1wcE84DVQUF16xudVFzezL',\n  'analysis_url': 'https://api.spotify.com/v1/audio-analysis/1wcE84DVQUF16xudVFzezL',\n  'duration_ms': 190406,\n  'time_signature': 4},\n {'danceability': 0.659,\n  'energy': 0.688,\n  'key': 6,\n  'loudness': -4.649,\n  'mode': 1,\n  'speechiness': 0.0673,\n  'acousticness': 0.207,\n  'instrumentalness': 0,\n  'liveness': 0.113,\n  'valence': 0.632,\n  'tempo': 153.979,\n  'type': 'audio_features',\n  'id': '0G2zPzWqVjR68iNPmx2TBe',\n  'uri': 'spotify:track:0G2zPzWqVjR68iNPmx2TBe',\n  'track_href': 'https://api.spotify.com/v1/tracks/0G2zPzWqVjR68iNPmx2TBe',\n  'analysis_url': 'https://api.spotify.com/v1/audio-analysis/0G2zPzWqVjR68iNPmx2TBe',\n  'duration_ms': 273474,\n  'time_signature': 4},\n {'danceability': 0.807,\n  'energy': 0.712,\n  'key': 1,\n  'loudness': -5.757,\n  'mode': 1,\n  'speechiness': 0.1,\n  'acousticness': 0.532,\n  'instrumentalness': 2.37e-05,\n  'liveness': 0.163,\n  'valence': 0.792,\n  'tempo': 100.004,\n  'type': 'audio_features',\n  'id': '5RAIMjdrCEjpjaR5tBATXU',\n  'uri': 'spotify:track:5RAIMjdrCEjpjaR5tBATXU',\n  'track_href': 'https://api.spotify.com/v1/tracks/5RAIMjdrCEjpjaR5tBATXU',\n  'analysis_url': 'https://api.spotify.com/v1/audio-analysis/5RAIMjdrCEjpjaR5tBATXU',\n  'duration_ms': 241659,\n  'time_signature': 4},\n {'danceability': 0.731,\n  'energy': 0.573,\n  'key': 4,\n  'loudness': -10.059,\n  'mode': 0,\n  'speechiness': 0.0544,\n  'acousticness': 0.401,\n  'instrumentalness': 5.22e-05,\n  'liveness': 0.113,\n  'valence': 0.145,\n  'tempo': 109.928,\n  'type': 'audio_features',\n  'id': '47EiUVwUp4C9fGccaPuUCS',\n  'uri': 'spotify:track:47EiUVwUp4C9fGccaPuUCS',\n  'track_href': 'https://api.spotify.com/v1/tracks/47EiUVwUp4C9fGccaPuUCS',\n  'analysis_url': 'https://api.spotify.com/v1/audio-analysis/47EiUVwUp4C9fGccaPuUCS',\n  'duration_ms': 205090,\n  'time_signature': 4},\n {'danceability': 0.759,\n  'energy': 0.842,\n  'key': 8,\n  'loudness': -3.758,\n  'mode': 1,\n  'speechiness': 0.096,\n  'acousticness': 0.101,\n  'instrumentalness': 0,\n  'liveness': 0.134,\n  'valence': 0.584,\n  'tempo': 105.059,\n  'type': 'audio_features',\n  'id': '3JCaq3KDSROg3TXhdiDa9n',\n  'uri': 'spotify:track:3JCaq3KDSROg3TXhdiDa9n',\n  'track_href': 'https://api.spotify.com/v1/tracks/3JCaq3KDSROg3TXhdiDa9n',\n  'analysis_url': 'https://api.spotify.com/v1/audio-analysis/3JCaq3KDSROg3TXhdiDa9n',\n  'duration_ms': 263253,\n  'time_signature': 4},\n {'danceability': 0.852,\n  'energy': 0.593,\n  'key': 6,\n  'loudness': -5.892,\n  'mode': 1,\n  'speechiness': 0.0702,\n  'acousticness': 0.386,\n  'instrumentalness': 0.168,\n  'liveness': 0.154,\n  'valence': 0.87,\n  'tempo': 90.002,\n  'type': 'audio_features',\n  'id': '66S2z95FN3nUAr9S1gUIsp',\n  'uri': 'spotify:track:66S2z95FN3nUAr9S1gUIsp',\n  'track_href': 'https://api.spotify.com/v1/tracks/66S2z95FN3nUAr9S1gUIsp',\n  'analysis_url': 'https://api.spotify.com/v1/audio-analysis/66S2z95FN3nUAr9S1gUIsp',\n  'duration_ms': 221407,\n  'time_signature': 4},\n {'danceability': 0.863,\n  'energy': 0.666,\n  'key': 1,\n  'loudness': -4.158,\n  'mode': 0,\n  'speechiness': 0.152,\n  'acousticness': 0.212,\n  'instrumentalness': 0.000493,\n  'liveness': 0.103,\n  'valence': 0.838,\n  'tempo': 163.908,\n  'type': 'audio_features',\n  'id': '7vrJn5hDSXRmdXoR30KgF1',\n  'uri': 'spotify:track:7vrJn5hDSXRmdXoR30KgF1',\n  'track_href': 'https://api.spotify.com/v1/tracks/7vrJn5hDSXRmdXoR30KgF1',\n  'analysis_url': 'https://api.spotify.com/v1/audio-analysis/7vrJn5hDSXRmdXoR30KgF1',\n  'duration_ms': 178947,\n  'time_signature': 4},\n {'danceability': 0.573,\n  'energy': 0.691,\n  'key': 10,\n  'loudness': -5.142,\n  'mode': 0,\n  'speechiness': 0.0601,\n  'acousticness': 0.123,\n  'instrumentalness': 0,\n  'liveness': 0.0746,\n  'valence': 0.93,\n  'tempo': 129.946,\n  'type': 'audio_features',\n  'id': '30oZjF87SHCd0CE0ttGm5U',\n  'uri': 'spotify:track:30oZjF87SHCd0CE0ttGm5U',\n  'track_href': 'https://api.spotify.com/v1/tracks/30oZjF87SHCd0CE0ttGm5U',\n  'analysis_url': 'https://api.spotify.com/v1/audio-analysis/30oZjF87SHCd0CE0ttGm5U',\n  'duration_ms': 191209,\n  'time_signature': 4},\n {'danceability': 0.787,\n  'energy': 0.728,\n  'key': 6,\n  'loudness': -3.455,\n  'mode': 0,\n  'speechiness': 0.389,\n  'acousticness': 0.189,\n  'instrumentalness': 2.29e-05,\n  'liveness': 0.0629,\n  'valence': 0.545,\n  'tempo': 180.066,\n  'type': 'audio_features',\n  'id': '4uoR6qeWeuL4Qeu2qJzkuG',\n  'uri': 'spotify:track:4uoR6qeWeuL4Qeu2qJzkuG',\n  'track_href': 'https://api.spotify.com/v1/tracks/4uoR6qeWeuL4Qeu2qJzkuG',\n  'analysis_url': 'https://api.spotify.com/v1/audio-analysis/4uoR6qeWeuL4Qeu2qJzkuG',\n  'duration_ms': 200198,\n  'time_signature': 4},\n {'danceability': 0.571,\n  'energy': 0.693,\n  'key': 6,\n  'loudness': -8.234,\n  'mode': 0,\n  'speechiness': 0.0545,\n  'acousticness': 0.00536,\n  'instrumentalness': 0,\n  'liveness': 0.173,\n  'valence': 0.393,\n  'tempo': 168.169,\n  'type': 'audio_features',\n  'id': '0EhpEsp4L0oRGM0vmeaN5e',\n  'uri': 'spotify:track:0EhpEsp4L0oRGM0vmeaN5e',\n  'track_href': 'https://api.spotify.com/v1/tracks/0EhpEsp4L0oRGM0vmeaN5e',\n  'analysis_url': 'https://api.spotify.com/v1/audio-analysis/0EhpEsp4L0oRGM0vmeaN5e',\n  'duration_ms': 232253,\n  'time_signature': 4},\n {'danceability': 0.89,\n  'energy': 0.666,\n  'key': 7,\n  'loudness': -4.361,\n  'mode': 1,\n  'speechiness': 0.129,\n  'acousticness': 0.0606,\n  'instrumentalness': 6.54e-05,\n  'liveness': 0.11,\n  'valence': 0.269,\n  'tempo': 98.018,\n  'type': 'audio_features',\n  'id': '5cy2dREJqJAyf3CNr509W7',\n  'uri': 'spotify:track:5cy2dREJqJAyf3CNr509W7',\n  'track_href': 'https://api.spotify.com/v1/tracks/5cy2dREJqJAyf3CNr509W7',\n  'analysis_url': 'https://api.spotify.com/v1/audio-analysis/5cy2dREJqJAyf3CNr509W7',\n  'duration_ms': 165360,\n  'time_signature': 4},\n {'danceability': 0.826,\n  'energy': 0.74,\n  'key': 1,\n  'loudness': -4.45,\n  'mode': 0,\n  'speechiness': 0.0368,\n  'acousticness': 0.142,\n  'instrumentalness': 2.59e-05,\n  'liveness': 0.175,\n  'valence': 0.733,\n  'tempo': 130.025,\n  'type': 'audio_features',\n  'id': '5xiAfKzE3mbxYbOkUZPR11',\n  'uri': 'spotify:track:5xiAfKzE3mbxYbOkUZPR11',\n  'track_href': 'https://api.spotify.com/v1/tracks/5xiAfKzE3mbxYbOkUZPR11',\n  'analysis_url': 'https://api.spotify.com/v1/audio-analysis/5xiAfKzE3mbxYbOkUZPR11',\n  'duration_ms': 239925,\n  'time_signature': 4},\n {'danceability': 0.862,\n  'energy': 0.72,\n  'key': 4,\n  'loudness': -4.048,\n  'mode': 1,\n  'speechiness': 0.0379,\n  'acousticness': 0.487,\n  'instrumentalness': 1.19e-06,\n  'liveness': 0.0604,\n  'valence': 0.965,\n  'tempo': 129.972,\n  'type': 'audio_features',\n  'id': '7D7EH7MGyNHWSkqrszerI1',\n  'uri': 'spotify:track:7D7EH7MGyNHWSkqrszerI1',\n  'track_href': 'https://api.spotify.com/v1/tracks/7D7EH7MGyNHWSkqrszerI1',\n  'analysis_url': 'https://api.spotify.com/v1/audio-analysis/7D7EH7MGyNHWSkqrszerI1',\n  'duration_ms': 198707,\n  'time_signature': 4},\n {'danceability': 0.79,\n  'energy': 0.766,\n  'key': 6,\n  'loudness': -3.497,\n  'mode': 0,\n  'speechiness': 0.111,\n  'acousticness': 0.324,\n  'instrumentalness': 0,\n  'liveness': 0.0832,\n  'valence': 0.825,\n  'tempo': 82.026,\n  'type': 'audio_features',\n  'id': '6GPBXtnSepHovJi1uD1Ggj',\n  'uri': 'spotify:track:6GPBXtnSepHovJi1uD1Ggj',\n  'track_href': 'https://api.spotify.com/v1/tracks/6GPBXtnSepHovJi1uD1Ggj',\n  'analysis_url': 'https://api.spotify.com/v1/audio-analysis/6GPBXtnSepHovJi1uD1Ggj',\n  'duration_ms': 226010,\n  'time_signature': 4},\n {'danceability': 0.714,\n  'energy': 0.761,\n  'key': 5,\n  'loudness': -4.596,\n  'mode': 0,\n  'speechiness': 0.0427,\n  'acousticness': 0.139,\n  'instrumentalness': 0.00035,\n  'liveness': 0.241,\n  'valence': 0.906,\n  'tempo': 168.022,\n  'type': 'audio_features',\n  'id': '5y7DaS3jAc9eZzcSOoUIwU',\n  'uri': 'spotify:track:5y7DaS3jAc9eZzcSOoUIwU',\n  'track_href': 'https://api.spotify.com/v1/tracks/5y7DaS3jAc9eZzcSOoUIwU',\n  'analysis_url': 'https://api.spotify.com/v1/audio-analysis/5y7DaS3jAc9eZzcSOoUIwU',\n  'duration_ms': 230693,\n  'time_signature': 4},\n {'danceability': 0.725,\n  'energy': 0.756,\n  'key': 4,\n  'loudness': -5.013,\n  'mode': 1,\n  'speechiness': 0.0572,\n  'acousticness': 0.362,\n  'instrumentalness': 0.000685,\n  'liveness': 0.103,\n  'valence': 0.828,\n  'tempo': 100.07,\n  'type': 'audio_features',\n  'id': '3VvA1wSxukMLsvXoXtlwWx',\n  'uri': 'spotify:track:3VvA1wSxukMLsvXoXtlwWx',\n  'track_href': 'https://api.spotify.com/v1/tracks/3VvA1wSxukMLsvXoXtlwWx',\n  'analysis_url': 'https://api.spotify.com/v1/audio-analysis/3VvA1wSxukMLsvXoXtlwWx',\n  'duration_ms': 186133,\n  'time_signature': 4},\n {'danceability': 0.684,\n  'energy': 0.808,\n  'key': 0,\n  'loudness': -2.737,\n  'mode': 1,\n  'speechiness': 0.061,\n  'acousticness': 0.0518,\n  'instrumentalness': 1.02e-05,\n  'liveness': 0.0858,\n  'valence': 0.712,\n  'tempo': 173.905,\n  'type': 'audio_features',\n  'id': '4K8cyoCDovlc4FvtUr2Hfx',\n  'uri': 'spotify:track:4K8cyoCDovlc4FvtUr2Hfx',\n  'track_href': 'https://api.spotify.com/v1/tracks/4K8cyoCDovlc4FvtUr2Hfx',\n  'analysis_url': 'https://api.spotify.com/v1/audio-analysis/4K8cyoCDovlc4FvtUr2Hfx',\n  'duration_ms': 174027,\n  'time_signature': 4},\n {'danceability': 0.839,\n  'energy': 0.711,\n  'key': 6,\n  'loudness': -4.733,\n  'mode': 0,\n  'speechiness': 0.0473,\n  'acousticness': 0.398,\n  'instrumentalness': 2.02e-06,\n  'liveness': 0.118,\n  'valence': 0.573,\n  'tempo': 97.99,\n  'type': 'audio_features',\n  'id': '43qcs9NpJhDxtG91zxFkj7',\n  'uri': 'spotify:track:43qcs9NpJhDxtG91zxFkj7',\n  'track_href': 'https://api.spotify.com/v1/tracks/43qcs9NpJhDxtG91zxFkj7',\n  'analysis_url': 'https://api.spotify.com/v1/audio-analysis/43qcs9NpJhDxtG91zxFkj7',\n  'duration_ms': 349547,\n  'time_signature': 4},\n {'danceability': 0.823,\n  'energy': 0.544,\n  'key': 5,\n  'loudness': -7.132,\n  'mode': 1,\n  'speechiness': 0.0715,\n  'acousticness': 0.0215,\n  'instrumentalness': 0.00315,\n  'liveness': 0.0966,\n  'valence': 0.664,\n  'tempo': 149.903,\n  'type': 'audio_features',\n  'id': '079Ey5uxL04AKPQgVQwx5h',\n  'uri': 'spotify:track:079Ey5uxL04AKPQgVQwx5h',\n  'track_href': 'https://api.spotify.com/v1/tracks/079Ey5uxL04AKPQgVQwx5h',\n  'analysis_url': 'https://api.spotify.com/v1/audio-analysis/079Ey5uxL04AKPQgVQwx5h',\n  'duration_ms': 186088,\n  'time_signature': 4},\n {'danceability': 0.656,\n  'energy': 0.823,\n  'key': 1,\n  'loudness': -3.059,\n  'mode': 0,\n  'speechiness': 0.315,\n  'acousticness': 0.47,\n  'instrumentalness': 0,\n  'liveness': 0.103,\n  'valence': 0.755,\n  'tempo': 96.474,\n  'type': 'audio_features',\n  'id': '2Gq636OOGgxCTqEuzCZhsa',\n  'uri': 'spotify:track:2Gq636OOGgxCTqEuzCZhsa',\n  'track_href': 'https://api.spotify.com/v1/tracks/2Gq636OOGgxCTqEuzCZhsa',\n  'analysis_url': 'https://api.spotify.com/v1/audio-analysis/2Gq636OOGgxCTqEuzCZhsa',\n  'duration_ms': 160000,\n  'time_signature': 4},\n {'danceability': 0.793,\n  'energy': 0.771,\n  'key': 5,\n  'loudness': -3.417,\n  'mode': 1,\n  'speechiness': 0.0959,\n  'acousticness': 0.0337,\n  'instrumentalness': 1.51e-06,\n  'liveness': 0.284,\n  'valence': 0.835,\n  'tempo': 171.943,\n  'type': 'audio_features',\n  'id': '35UUpTmrcFXNIVIN26ujXl',\n  'uri': 'spotify:track:35UUpTmrcFXNIVIN26ujXl',\n  'track_href': 'https://api.spotify.com/v1/tracks/35UUpTmrcFXNIVIN26ujXl',\n  'analysis_url': 'https://api.spotify.com/v1/audio-analysis/35UUpTmrcFXNIVIN26ujXl',\n  'duration_ms': 247308,\n  'time_signature': 4},\n {'danceability': 0.965,\n  'energy': 0.485,\n  'key': 2,\n  'loudness': -8.784,\n  'mode': 1,\n  'speechiness': 0.191,\n  'acousticness': 0.0206,\n  'instrumentalness': 0.0237,\n  'liveness': 0.0655,\n  'valence': 0.312,\n  'tempo': 124.025,\n  'type': 'audio_features',\n  'id': '1zLBsSVxETQOfINOLYvT5m',\n  'uri': 'spotify:track:1zLBsSVxETQOfINOLYvT5m',\n  'track_href': 'https://api.spotify.com/v1/tracks/1zLBsSVxETQOfINOLYvT5m',\n  'analysis_url': 'https://api.spotify.com/v1/audio-analysis/1zLBsSVxETQOfINOLYvT5m',\n  'duration_ms': 222523,\n  'time_signature': 4},\n {'danceability': 0.704,\n  'energy': 0.698,\n  'key': 0,\n  'loudness': -4.679,\n  'mode': 0,\n  'speechiness': 0.306,\n  'acousticness': 0.238,\n  'instrumentalness': 0,\n  'liveness': 0.109,\n  'valence': 0.61,\n  'tempo': 177.867,\n  'type': 'audio_features',\n  'id': '1ycIhjQ4fQp2WqNFpSDEcX',\n  'uri': 'spotify:track:1ycIhjQ4fQp2WqNFpSDEcX',\n  'track_href': 'https://api.spotify.com/v1/tracks/1ycIhjQ4fQp2WqNFpSDEcX',\n  'analysis_url': 'https://api.spotify.com/v1/audio-analysis/1ycIhjQ4fQp2WqNFpSDEcX',\n  'duration_ms': 211436,\n  'time_signature': 4},\n {'danceability': 0.574,\n  'energy': 0.891,\n  'key': 0,\n  'loudness': -3.665,\n  'mode': 0,\n  'speechiness': 0.157,\n  'acousticness': 0.0847,\n  'instrumentalness': 0,\n  'liveness': 0.16,\n  'valence': 0.707,\n  'tempo': 100.978,\n  'type': 'audio_features',\n  'id': '21N4Buj4xsyLb218lYle61',\n  'uri': 'spotify:track:21N4Buj4xsyLb218lYle61',\n  'track_href': 'https://api.spotify.com/v1/tracks/21N4Buj4xsyLb218lYle61',\n  'analysis_url': 'https://api.spotify.com/v1/audio-analysis/21N4Buj4xsyLb218lYle61',\n  'duration_ms': 183240,\n  'time_signature': 4},\n {'danceability': 0.702,\n  'energy': 0.758,\n  'key': 9,\n  'loudness': -4.405,\n  'mode': 1,\n  'speechiness': 0.278,\n  'acousticness': 0.14,\n  'instrumentalness': 0,\n  'liveness': 0.111,\n  'valence': 0.837,\n  'tempo': 167.915,\n  'type': 'audio_features',\n  'id': '1ZN2Dat0KrO0xqr9t8QP9r',\n  'uri': 'spotify:track:1ZN2Dat0KrO0xqr9t8QP9r',\n  'track_href': 'https://api.spotify.com/v1/tracks/1ZN2Dat0KrO0xqr9t8QP9r',\n  'analysis_url': 'https://api.spotify.com/v1/audio-analysis/1ZN2Dat0KrO0xqr9t8QP9r',\n  'duration_ms': 188598,\n  'time_signature': 4},\n {'danceability': 0.665,\n  'energy': 0.94,\n  'key': 5,\n  'loudness': -3.606,\n  'mode': 1,\n  'speechiness': 0.0553,\n  'acousticness': 0.434,\n  'instrumentalness': 0,\n  'liveness': 0.0914,\n  'valence': 0.752,\n  'tempo': 93.725,\n  'type': 'audio_features',\n  'id': '7AUhck1sPy11OExQmDDx4P',\n  'uri': 'spotify:track:7AUhck1sPy11OExQmDDx4P',\n  'track_href': 'https://api.spotify.com/v1/tracks/7AUhck1sPy11OExQmDDx4P',\n  'analysis_url': 'https://api.spotify.com/v1/audio-analysis/7AUhck1sPy11OExQmDDx4P',\n  'duration_ms': 231593,\n  'time_signature': 4},\n {'danceability': 0.915,\n  'energy': 0.72,\n  'key': 8,\n  'loudness': -3.126,\n  'mode': 1,\n  'speechiness': 0.0459,\n  'acousticness': 0.025,\n  'instrumentalness': 1.42e-05,\n  'liveness': 0.0942,\n  'valence': 0.631,\n  'tempo': 126.986,\n  'type': 'audio_features',\n  'id': '63aj87TQG6F3RVO5nbG2VQ',\n  'uri': 'spotify:track:63aj87TQG6F3RVO5nbG2VQ',\n  'track_href': 'https://api.spotify.com/v1/tracks/63aj87TQG6F3RVO5nbG2VQ',\n  'analysis_url': 'https://api.spotify.com/v1/audio-analysis/63aj87TQG6F3RVO5nbG2VQ',\n  'duration_ms': 131067,\n  'time_signature': 4},\n {'danceability': 0.823,\n  'energy': 0.537,\n  'key': 8,\n  'loudness': -2.639,\n  'mode': 1,\n  'speechiness': 0.209,\n  'acousticness': 0.176,\n  'instrumentalness': 3.98e-06,\n  'liveness': 0.123,\n  'valence': 0.615,\n  'tempo': 175.946,\n  'type': 'audio_features',\n  'id': '7r9ZhitdQBONTFOiJW5mr8',\n  'uri': 'spotify:track:7r9ZhitdQBONTFOiJW5mr8',\n  'track_href': 'https://api.spotify.com/v1/tracks/7r9ZhitdQBONTFOiJW5mr8',\n  'analysis_url': 'https://api.spotify.com/v1/audio-analysis/7r9ZhitdQBONTFOiJW5mr8',\n  'duration_ms': 231595,\n  'time_signature': 4},\n {'danceability': 0.718,\n  'energy': 0.712,\n  'key': 11,\n  'loudness': -4.366,\n  'mode': 1,\n  'speechiness': 0.174,\n  'acousticness': 0.512,\n  'instrumentalness': 0.00121,\n  'liveness': 0.104,\n  'valence': 0.531,\n  'tempo': 180.034,\n  'type': 'audio_features',\n  'id': '7x4ASXYEKfQBCewcZhK776',\n  'uri': 'spotify:track:7x4ASXYEKfQBCewcZhK776',\n  'track_href': 'https://api.spotify.com/v1/tracks/7x4ASXYEKfQBCewcZhK776',\n  'analysis_url': 'https://api.spotify.com/v1/audio-analysis/7x4ASXYEKfQBCewcZhK776',\n  'duration_ms': 189653,\n  'time_signature': 4},\n {'danceability': 0.743,\n  'energy': 0.674,\n  'key': 2,\n  'loudness': -4.201,\n  'mode': 1,\n  'speechiness': 0.129,\n  'acousticness': 0.15,\n  'instrumentalness': 0,\n  'liveness': 0.0986,\n  'valence': 0.932,\n  'tempo': 174.024,\n  'type': 'audio_features',\n  'id': '4WkEH0PgystZUaN6QU6Z0B',\n  'uri': 'spotify:track:4WkEH0PgystZUaN6QU6Z0B',\n  'track_href': 'https://api.spotify.com/v1/tracks/4WkEH0PgystZUaN6QU6Z0B',\n  'analysis_url': 'https://api.spotify.com/v1/audio-analysis/4WkEH0PgystZUaN6QU6Z0B',\n  'duration_ms': 190345,\n  'time_signature': 4},\n {'danceability': 0.786,\n  'energy': 0.899,\n  'key': 10,\n  'loudness': -0.515,\n  'mode': 1,\n  'speechiness': 0.127,\n  'acousticness': 0.192,\n  'instrumentalness': 0.000189,\n  'liveness': 0.299,\n  'valence': 0.813,\n  'tempo': 90.025,\n  'type': 'audio_features',\n  'id': '5u7twkeask1VIyDeNTElSU',\n  'uri': 'spotify:track:5u7twkeask1VIyDeNTElSU',\n  'track_href': 'https://api.spotify.com/v1/tracks/5u7twkeask1VIyDeNTElSU',\n  'analysis_url': 'https://api.spotify.com/v1/audio-analysis/5u7twkeask1VIyDeNTElSU',\n  'duration_ms': 216510,\n  'time_signature': 4},\n {'danceability': 0.9,\n  'energy': 0.603,\n  'key': 2,\n  'loudness': -5.313,\n  'mode': 1,\n  'speechiness': 0.0646,\n  'acousticness': 0.402,\n  'instrumentalness': 4.81e-06,\n  'liveness': 0.134,\n  'valence': 0.824,\n  'tempo': 129.928,\n  'type': 'audio_features',\n  'id': '41wtwzCZkXwpnakmwJ239F',\n  'uri': 'spotify:track:41wtwzCZkXwpnakmwJ239F',\n  'track_href': 'https://api.spotify.com/v1/tracks/41wtwzCZkXwpnakmwJ239F',\n  'analysis_url': 'https://api.spotify.com/v1/audio-analysis/41wtwzCZkXwpnakmwJ239F',\n  'duration_ms': 170972,\n  'time_signature': 4},\n {'danceability': 0.823,\n  'energy': 0.821,\n  'key': 8,\n  'loudness': -3.402,\n  'mode': 0,\n  'speechiness': 0.166,\n  'acousticness': 0.31,\n  'instrumentalness': 4.28e-06,\n  'liveness': 0.143,\n  'valence': 0.791,\n  'tempo': 99.999,\n  'type': 'audio_features',\n  'id': '2bgcUk2A3jjKbCJ7KPquTi',\n  'uri': 'spotify:track:2bgcUk2A3jjKbCJ7KPquTi',\n  'track_href': 'https://api.spotify.com/v1/tracks/2bgcUk2A3jjKbCJ7KPquTi',\n  'analysis_url': 'https://api.spotify.com/v1/audio-analysis/2bgcUk2A3jjKbCJ7KPquTi',\n  'duration_ms': 213314,\n  'time_signature': 4},\n {'danceability': 0.823,\n  'energy': 0.772,\n  'key': 0,\n  'loudness': -4.935,\n  'mode': 1,\n  'speechiness': 0.0591,\n  'acousticness': 0.243,\n  'instrumentalness': 0,\n  'liveness': 0.118,\n  'valence': 0.582,\n  'tempo': 96.001,\n  'type': 'audio_features',\n  'id': '70uX4beGHc1nQikXveOknp',\n  'uri': 'spotify:track:70uX4beGHc1nQikXveOknp',\n  'track_href': 'https://api.spotify.com/v1/tracks/70uX4beGHc1nQikXveOknp',\n  'analysis_url': 'https://api.spotify.com/v1/audio-analysis/70uX4beGHc1nQikXveOknp',\n  'duration_ms': 230728,\n  'time_signature': 4},\n {'danceability': 0.729,\n  'energy': 0.513,\n  'key': 5,\n  'loudness': -6.345,\n  'mode': 0,\n  'speechiness': 0.0455,\n  'acousticness': 0.494,\n  'instrumentalness': 1.1e-06,\n  'liveness': 0.137,\n  'valence': 0.789,\n  'tempo': 170.064,\n  'type': 'audio_features',\n  'id': '6w8yBI2vthyN9UnwO4UBWb',\n  'uri': 'spotify:track:6w8yBI2vthyN9UnwO4UBWb',\n  'track_href': 'https://api.spotify.com/v1/tracks/6w8yBI2vthyN9UnwO4UBWb',\n  'analysis_url': 'https://api.spotify.com/v1/audio-analysis/6w8yBI2vthyN9UnwO4UBWb',\n  'duration_ms': 192353,\n  'time_signature': 3},\n {'danceability': 0.854,\n  'energy': 0.525,\n  'key': 1,\n  'loudness': -4.426,\n  'mode': 1,\n  'speechiness': 0.214,\n  'acousticness': 0.819,\n  'instrumentalness': 0,\n  'liveness': 0.146,\n  'valence': 0.63,\n  'tempo': 97.054,\n  'type': 'audio_features',\n  'id': '6fmQjRuo7XvRFCK2qex5hQ',\n  'uri': 'spotify:track:6fmQjRuo7XvRFCK2qex5hQ',\n  'track_href': 'https://api.spotify.com/v1/tracks/6fmQjRuo7XvRFCK2qex5hQ',\n  'analysis_url': 'https://api.spotify.com/v1/audio-analysis/6fmQjRuo7XvRFCK2qex5hQ',\n  'duration_ms': 197587,\n  'time_signature': 4},\n {'danceability': 0.744,\n  'energy': 0.679,\n  'key': 5,\n  'loudness': -3.51,\n  'mode': 1,\n  'speechiness': 0.0791,\n  'acousticness': 0.0654,\n  'instrumentalness': 0.00429,\n  'liveness': 0.0966,\n  'valence': 0.866,\n  'tempo': 176.024,\n  'type': 'audio_features',\n  'id': '20ChN6ZWJ2yhuXcE6SKHDM',\n  'uri': 'spotify:track:20ChN6ZWJ2yhuXcE6SKHDM',\n  'track_href': 'https://api.spotify.com/v1/tracks/20ChN6ZWJ2yhuXcE6SKHDM',\n  'analysis_url': 'https://api.spotify.com/v1/audio-analysis/20ChN6ZWJ2yhuXcE6SKHDM',\n  'duration_ms': 199773,\n  'time_signature': 4},\n {'danceability': 0.824,\n  'energy': 0.457,\n  'key': 6,\n  'loudness': -5.428,\n  'mode': 1,\n  'speechiness': 0.0543,\n  'acousticness': 0.167,\n  'instrumentalness': 0,\n  'liveness': 0.041,\n  'valence': 0.95,\n  'tempo': 87.977,\n  'type': 'audio_features',\n  'id': '73nAK3HgQK8dak83Y2WQ8F',\n  'uri': 'spotify:track:73nAK3HgQK8dak83Y2WQ8F',\n  'track_href': 'https://api.spotify.com/v1/tracks/73nAK3HgQK8dak83Y2WQ8F',\n  'analysis_url': 'https://api.spotify.com/v1/audio-analysis/73nAK3HgQK8dak83Y2WQ8F',\n  'duration_ms': 187427,\n  'time_signature': 4},\n {'danceability': 0.803,\n  'energy': 0.715,\n  'key': 2,\n  'loudness': -3.28,\n  'mode': 1,\n  'speechiness': 0.298,\n  'acousticness': 0.295,\n  'instrumentalness': 0.000134,\n  'liveness': 0.0574,\n  'valence': 0.574,\n  'tempo': 101.085,\n  'type': 'audio_features',\n  'id': '7k4t7uLgtOxPwTpFmtJNTY',\n  'uri': 'spotify:track:7k4t7uLgtOxPwTpFmtJNTY',\n  'track_href': 'https://api.spotify.com/v1/tracks/7k4t7uLgtOxPwTpFmtJNTY',\n  'analysis_url': 'https://api.spotify.com/v1/audio-analysis/7k4t7uLgtOxPwTpFmtJNTY',\n  'duration_ms': 200960,\n  'time_signature': 4},\n {'danceability': 0.86,\n  'energy': 0.758,\n  'key': 11,\n  'loudness': -5.16,\n  'mode': 1,\n  'speechiness': 0.0695,\n  'acousticness': 0.021,\n  'instrumentalness': 6.54e-05,\n  'liveness': 0.344,\n  'valence': 0.453,\n  'tempo': 97.014,\n  'type': 'audio_features',\n  'id': '0SqqAgdovOE24BzxIClpjw',\n  'uri': 'spotify:track:0SqqAgdovOE24BzxIClpjw',\n  'track_href': 'https://api.spotify.com/v1/tracks/0SqqAgdovOE24BzxIClpjw',\n  'analysis_url': 'https://api.spotify.com/v1/audio-analysis/0SqqAgdovOE24BzxIClpjw',\n  'duration_ms': 172127,\n  'time_signature': 4},\n {'danceability': 0.816,\n  'energy': 0.72,\n  'key': 1,\n  'loudness': -4.454,\n  'mode': 1,\n  'speechiness': 0.0684,\n  'acousticness': 0.206,\n  'instrumentalness': 0,\n  'liveness': 0.277,\n  'valence': 0.78,\n  'tempo': 94.004,\n  'type': 'audio_features',\n  'id': '0A37XY67wSdGqkGjtfW6aV',\n  'uri': 'spotify:track:0A37XY67wSdGqkGjtfW6aV',\n  'track_href': 'https://api.spotify.com/v1/tracks/0A37XY67wSdGqkGjtfW6aV',\n  'analysis_url': 'https://api.spotify.com/v1/audio-analysis/0A37XY67wSdGqkGjtfW6aV',\n  'duration_ms': 267242,\n  'time_signature': 4},\n {'danceability': 0.653,\n  'energy': 0.524,\n  'key': 11,\n  'loudness': -9.016,\n  'mode': 0,\n  'speechiness': 0.0502,\n  'acousticness': 0.112,\n  'instrumentalness': 0,\n  'liveness': 0.203,\n  'valence': 0.553,\n  'tempo': 83.97,\n  'type': 'audio_features',\n  'id': '6tDDoYIxWvMLTdKpjFkc1B',\n  'uri': 'spotify:track:6tDDoYIxWvMLTdKpjFkc1B',\n  'track_href': 'https://api.spotify.com/v1/tracks/6tDDoYIxWvMLTdKpjFkc1B',\n  'analysis_url': 'https://api.spotify.com/v1/audio-analysis/6tDDoYIxWvMLTdKpjFkc1B',\n  'duration_ms': 160191,\n  'time_signature': 4},\n {'danceability': 0.793,\n  'energy': 0.782,\n  'key': 4,\n  'loudness': -3.945,\n  'mode': 1,\n  'speechiness': 0.0582,\n  'acousticness': 0.447,\n  'instrumentalness': 0,\n  'liveness': 0.124,\n  'valence': 0.81,\n  'tempo': 143.86,\n  'type': 'audio_features',\n  'id': '34LI7rwi9H8w2S5KTHnv1M',\n  'uri': 'spotify:track:34LI7rwi9H8w2S5KTHnv1M',\n  'track_href': 'https://api.spotify.com/v1/tracks/34LI7rwi9H8w2S5KTHnv1M',\n  'analysis_url': 'https://api.spotify.com/v1/audio-analysis/34LI7rwi9H8w2S5KTHnv1M',\n  'duration_ms': 191945,\n  'time_signature': 4},\n {'danceability': 0.905,\n  'energy': 0.686,\n  'key': 0,\n  'loudness': -3.152,\n  'mode': 1,\n  'speechiness': 0.0664,\n  'acousticness': 0.0907,\n  'instrumentalness': 0,\n  'liveness': 0.266,\n  'valence': 0.963,\n  'tempo': 103.013,\n  'type': 'audio_features',\n  'id': '11EnQRgRMJwMAesfkB5pnu',\n  'uri': 'spotify:track:11EnQRgRMJwMAesfkB5pnu',\n  'track_href': 'https://api.spotify.com/v1/tracks/11EnQRgRMJwMAesfkB5pnu',\n  'analysis_url': 'https://api.spotify.com/v1/audio-analysis/11EnQRgRMJwMAesfkB5pnu',\n  'duration_ms': 155825,\n  'time_signature': 4},\n {'danceability': 0.685,\n  'energy': 0.848,\n  'key': 8,\n  'loudness': -4.561,\n  'mode': 0,\n  'speechiness': 0.0858,\n  'acousticness': 0.0861,\n  'instrumentalness': 7.14e-06,\n  'liveness': 0.0783,\n  'valence': 0.761,\n  'tempo': 179.87,\n  'type': 'audio_features',\n  'id': '6NfrH0ANGmgBXyxgV2PeXt',\n  'uri': 'spotify:track:6NfrH0ANGmgBXyxgV2PeXt',\n  'track_href': 'https://api.spotify.com/v1/tracks/6NfrH0ANGmgBXyxgV2PeXt',\n  'analysis_url': 'https://api.spotify.com/v1/audio-analysis/6NfrH0ANGmgBXyxgV2PeXt',\n  'duration_ms': 163084,\n  'time_signature': 4},\n {'danceability': 0.772,\n  'energy': 0.758,\n  'key': 9,\n  'loudness': -3.891,\n  'mode': 1,\n  'speechiness': 0.0482,\n  'acousticness': 0.0433,\n  'instrumentalness': 0,\n  'liveness': 0.295,\n  'valence': 0.654,\n  'tempo': 115.977,\n  'type': 'audio_features',\n  'id': '5Km4r87BoX2qqtoprYS1gh',\n  'uri': 'spotify:track:5Km4r87BoX2qqtoprYS1gh',\n  'track_href': 'https://api.spotify.com/v1/tracks/5Km4r87BoX2qqtoprYS1gh',\n  'analysis_url': 'https://api.spotify.com/v1/audio-analysis/5Km4r87BoX2qqtoprYS1gh',\n  'duration_ms': 265240,\n  'time_signature': 4},\n {'danceability': 0.86,\n  'energy': 0.762,\n  'key': 9,\n  'loudness': -2.343,\n  'mode': 0,\n  'speechiness': 0.0447,\n  'acousticness': 0.286,\n  'instrumentalness': 0.000148,\n  'liveness': 0.0697,\n  'valence': 0.763,\n  'tempo': 139.992,\n  'type': 'audio_features',\n  'id': '4agLM5EfiWR2AKMq7gFwcM',\n  'uri': 'spotify:track:4agLM5EfiWR2AKMq7gFwcM',\n  'track_href': 'https://api.spotify.com/v1/tracks/4agLM5EfiWR2AKMq7gFwcM',\n  'analysis_url': 'https://api.spotify.com/v1/audio-analysis/4agLM5EfiWR2AKMq7gFwcM',\n  'duration_ms': 230027,\n  'time_signature': 4},\n {'danceability': 0.739,\n  'energy': 0.788,\n  'key': 1,\n  'loudness': -5.198,\n  'mode': 1,\n  'speechiness': 0.0731,\n  'acousticness': 0.0513,\n  'instrumentalness': 0,\n  'liveness': 0.282,\n  'valence': 0.473,\n  'tempo': 175.996,\n  'type': 'audio_features',\n  'id': '0VWLId2RwPCno9s1cJm2Vy',\n  'uri': 'spotify:track:0VWLId2RwPCno9s1cJm2Vy',\n  'track_href': 'https://api.spotify.com/v1/tracks/0VWLId2RwPCno9s1cJm2Vy',\n  'analysis_url': 'https://api.spotify.com/v1/audio-analysis/0VWLId2RwPCno9s1cJm2Vy',\n  'duration_ms': 324426,\n  'time_signature': 4},\n {'danceability': 0.659,\n  'energy': 0.701,\n  'key': 9,\n  'loudness': -4.107,\n  'mode': 1,\n  'speechiness': 0.164,\n  'acousticness': 0.0882,\n  'instrumentalness': 0,\n  'liveness': 0.0866,\n  'valence': 0.623,\n  'tempo': 91.97,\n  'type': 'audio_features',\n  'id': '15OjBeqNX3bShsGYQbteRv',\n  'uri': 'spotify:track:15OjBeqNX3bShsGYQbteRv',\n  'track_href': 'https://api.spotify.com/v1/tracks/15OjBeqNX3bShsGYQbteRv',\n  'analysis_url': 'https://api.spotify.com/v1/audio-analysis/15OjBeqNX3bShsGYQbteRv',\n  'duration_ms': 180520,\n  'time_signature': 4},\n {'danceability': 0.85,\n  'energy': 0.536,\n  'key': 1,\n  'loudness': -5.161,\n  'mode': 1,\n  'speechiness': 0.0599,\n  'acousticness': 0.267,\n  'instrumentalness': 3.89e-05,\n  'liveness': 0.0996,\n  'valence': 0.505,\n  'tempo': 96.029,\n  'type': 'audio_features',\n  'id': '38RIEav39FGi86jppxO0du',\n  'uri': 'spotify:track:38RIEav39FGi86jppxO0du',\n  'track_href': 'https://api.spotify.com/v1/tracks/38RIEav39FGi86jppxO0du',\n  'analysis_url': 'https://api.spotify.com/v1/audio-analysis/38RIEav39FGi86jppxO0du',\n  'duration_ms': 210607,\n  'time_signature': 4},\n {'danceability': 0.812,\n  'energy': 0.747,\n  'key': 4,\n  'loudness': -4.611,\n  'mode': 0,\n  'speechiness': 0.15,\n  'acousticness': 0.31,\n  'instrumentalness': 0.00412,\n  'liveness': 0.1,\n  'valence': 0.488,\n  'tempo': 168.025,\n  'type': 'audio_features',\n  'id': '0XinBYhf1X3kdvKQHOX971',\n  'uri': 'spotify:track:0XinBYhf1X3kdvKQHOX971',\n  'track_href': 'https://api.spotify.com/v1/tracks/0XinBYhf1X3kdvKQHOX971',\n  'analysis_url': 'https://api.spotify.com/v1/audio-analysis/0XinBYhf1X3kdvKQHOX971',\n  'duration_ms': 198500,\n  'time_signature': 4},\n {'danceability': 0.707,\n  'energy': 0.876,\n  'key': 1,\n  'loudness': -1.887,\n  'mode': 1,\n  'speechiness': 0.0787,\n  'acousticness': 0.173,\n  'instrumentalness': 9.36e-06,\n  'liveness': 0.932,\n  'valence': 0.853,\n  'tempo': 176.068,\n  'type': 'audio_features',\n  'id': '1g4cZvi0nLeeIycd0Rkljj',\n  'uri': 'spotify:track:1g4cZvi0nLeeIycd0Rkljj',\n  'track_href': 'https://api.spotify.com/v1/tracks/1g4cZvi0nLeeIycd0Rkljj',\n  'analysis_url': 'https://api.spotify.com/v1/audio-analysis/1g4cZvi0nLeeIycd0Rkljj',\n  'duration_ms': 204414,\n  'time_signature': 4},\n {'danceability': 0.733,\n  'energy': 0.591,\n  'key': 9,\n  'loudness': -4.046,\n  'mode': 1,\n  'speechiness': 0.148,\n  'acousticness': 0.217,\n  'instrumentalness': 0,\n  'liveness': 0.0986,\n  'valence': 0.549,\n  'tempo': 169.905,\n  'type': 'audio_features',\n  'id': '3wBKCNw7BFIalnqe4VXzdK',\n  'uri': 'spotify:track:3wBKCNw7BFIalnqe4VXzdK',\n  'track_href': 'https://api.spotify.com/v1/tracks/3wBKCNw7BFIalnqe4VXzdK',\n  'analysis_url': 'https://api.spotify.com/v1/audio-analysis/3wBKCNw7BFIalnqe4VXzdK',\n  'duration_ms': 185263,\n  'time_signature': 4},\n {'danceability': 0.703,\n  'energy': 0.73,\n  'key': 0,\n  'loudness': -6.634,\n  'mode': 1,\n  'speechiness': 0.247,\n  'acousticness': 0.371,\n  'instrumentalness': 0,\n  'liveness': 0.143,\n  'valence': 0.76,\n  'tempo': 93.94,\n  'type': 'audio_features',\n  'id': '0xfmcMetmQwClfYRarKtyY',\n  'uri': 'spotify:track:0xfmcMetmQwClfYRarKtyY',\n  'track_href': 'https://api.spotify.com/v1/tracks/0xfmcMetmQwClfYRarKtyY',\n  'analysis_url': 'https://api.spotify.com/v1/audio-analysis/0xfmcMetmQwClfYRarKtyY',\n  'duration_ms': 202027,\n  'time_signature': 4},\n {'danceability': 0.843,\n  'energy': 0.836,\n  'key': 11,\n  'loudness': -2.474,\n  'mode': 0,\n  'speechiness': 0.0695,\n  'acousticness': 0.0816,\n  'instrumentalness': 0.00138,\n  'liveness': 0.0532,\n  'valence': 0.65,\n  'tempo': 94.018,\n  'type': 'audio_features',\n  'id': '2lCkncy6bIB0LTMT7kvrD1',\n  'uri': 'spotify:track:2lCkncy6bIB0LTMT7kvrD1',\n  'track_href': 'https://api.spotify.com/v1/tracks/2lCkncy6bIB0LTMT7kvrD1',\n  'analysis_url': 'https://api.spotify.com/v1/audio-analysis/2lCkncy6bIB0LTMT7kvrD1',\n  'duration_ms': 205933,\n  'time_signature': 4},\n {'danceability': 0.578,\n  'energy': 0.634,\n  'key': 8,\n  'loudness': -5.979,\n  'mode': 0,\n  'speechiness': 0.333,\n  'acousticness': 0.00473,\n  'instrumentalness': 0,\n  'liveness': 0.132,\n  'valence': 0.216,\n  'tempo': 183.89,\n  'type': 'audio_features',\n  'id': '56Ta1O7Jxxpjnc6cWdDKUo',\n  'uri': 'spotify:track:56Ta1O7Jxxpjnc6cWdDKUo',\n  'track_href': 'https://api.spotify.com/v1/tracks/56Ta1O7Jxxpjnc6cWdDKUo',\n  'analysis_url': 'https://api.spotify.com/v1/audio-analysis/56Ta1O7Jxxpjnc6cWdDKUo',\n  'duration_ms': 211652,\n  'time_signature': 4},\n {'danceability': 0.607,\n  'energy': 0.829,\n  'key': 2,\n  'loudness': -4.074,\n  'mode': 1,\n  'speechiness': 0.379,\n  'acousticness': 0.0103,\n  'instrumentalness': 0,\n  'liveness': 0.107,\n  'valence': 0.685,\n  'tempo': 96.172,\n  'type': 'audio_features',\n  'id': '2DEZmgHKAvm41k4J3R2E9Y',\n  'uri': 'spotify:track:2DEZmgHKAvm41k4J3R2E9Y',\n  'track_href': 'https://api.spotify.com/v1/tracks/2DEZmgHKAvm41k4J3R2E9Y',\n  'analysis_url': 'https://api.spotify.com/v1/audio-analysis/2DEZmgHKAvm41k4J3R2E9Y',\n  'duration_ms': 295177,\n  'time_signature': 4},\n {'danceability': 0.691,\n  'energy': 0.765,\n  'key': 8,\n  'loudness': -4.727,\n  'mode': 1,\n  'speechiness': 0.111,\n  'acousticness': 0.464,\n  'instrumentalness': 3.29e-06,\n  'liveness': 0.203,\n  'valence': 0.855,\n  'tempo': 174.021,\n  'type': 'audio_features',\n  'id': '06s3QtMJVXw1AJX3UfvZG1',\n  'uri': 'spotify:track:06s3QtMJVXw1AJX3UfvZG1',\n  'track_href': 'https://api.spotify.com/v1/tracks/06s3QtMJVXw1AJX3UfvZG1',\n  'analysis_url': 'https://api.spotify.com/v1/audio-analysis/06s3QtMJVXw1AJX3UfvZG1',\n  'duration_ms': 246000,\n  'time_signature': 4},\n {'danceability': 0.648,\n  'energy': 0.752,\n  'key': 7,\n  'loudness': -4.13,\n  'mode': 1,\n  'speechiness': 0.133,\n  'acousticness': 0.315,\n  'instrumentalness': 0,\n  'liveness': 0.201,\n  'valence': 0.405,\n  'tempo': 178.228,\n  'type': 'audio_features',\n  'id': '2zkVH2daHyjS51g7PRJFDn',\n  'uri': 'spotify:track:2zkVH2daHyjS51g7PRJFDn',\n  'track_href': 'https://api.spotify.com/v1/tracks/2zkVH2daHyjS51g7PRJFDn',\n  'analysis_url': 'https://api.spotify.com/v1/audio-analysis/2zkVH2daHyjS51g7PRJFDn',\n  'duration_ms': 198053,\n  'time_signature': 4},\n {'danceability': 0.567,\n  'energy': 0.686,\n  'key': 6,\n  'loudness': -5.096,\n  'mode': 1,\n  'speechiness': 0.119,\n  'acousticness': 0.147,\n  'instrumentalness': 0,\n  'liveness': 0.118,\n  'valence': 0.427,\n  'tempo': 92.416,\n  'type': 'audio_features',\n  'id': '6DdC4I8ENm7zHH9Jy9pFg4',\n  'uri': 'spotify:track:6DdC4I8ENm7zHH9Jy9pFg4',\n  'track_href': 'https://api.spotify.com/v1/tracks/6DdC4I8ENm7zHH9Jy9pFg4',\n  'analysis_url': 'https://api.spotify.com/v1/audio-analysis/6DdC4I8ENm7zHH9Jy9pFg4',\n  'duration_ms': 186693,\n  'time_signature': 4},\n {'danceability': 0.922,\n  'energy': 0.927,\n  'key': 11,\n  'loudness': -3.025,\n  'mode': 1,\n  'speechiness': 0.105,\n  'acousticness': 0.283,\n  'instrumentalness': 0.00331,\n  'liveness': 0.719,\n  'valence': 0.796,\n  'tempo': 129.978,\n  'type': 'audio_features',\n  'id': '2L95U6syP0bV3fkYYOzmiW',\n  'uri': 'spotify:track:2L95U6syP0bV3fkYYOzmiW',\n  'track_href': 'https://api.spotify.com/v1/tracks/2L95U6syP0bV3fkYYOzmiW',\n  'analysis_url': 'https://api.spotify.com/v1/audio-analysis/2L95U6syP0bV3fkYYOzmiW',\n  'duration_ms': 219000,\n  'time_signature': 4},\n {'danceability': 0.863,\n  'energy': 0.823,\n  'key': 11,\n  'loudness': -4.271,\n  'mode': 1,\n  'speechiness': 0.121,\n  'acousticness': 0.246,\n  'instrumentalness': 0,\n  'liveness': 0.134,\n  'valence': 0.406,\n  'tempo': 98.964,\n  'type': 'audio_features',\n  'id': '0Vd3oU8EfWdZZO1J0W3dBN',\n  'uri': 'spotify:track:0Vd3oU8EfWdZZO1J0W3dBN',\n  'track_href': 'https://api.spotify.com/v1/tracks/0Vd3oU8EfWdZZO1J0W3dBN',\n  'analysis_url': 'https://api.spotify.com/v1/audio-analysis/0Vd3oU8EfWdZZO1J0W3dBN',\n  'duration_ms': 157595,\n  'time_signature': 4},\n {'danceability': 0.598,\n  'energy': 0.734,\n  'key': 10,\n  'loudness': -3.982,\n  'mode': 1,\n  'speechiness': 0.116,\n  'acousticness': 0.208,\n  'instrumentalness': 0,\n  'liveness': 0.272,\n  'valence': 0.621,\n  'tempo': 179.885,\n  'type': 'audio_features',\n  'id': '1GNSWpe2SB30zYGbNTD96b',\n  'uri': 'spotify:track:1GNSWpe2SB30zYGbNTD96b',\n  'track_href': 'https://api.spotify.com/v1/tracks/1GNSWpe2SB30zYGbNTD96b',\n  'analysis_url': 'https://api.spotify.com/v1/audio-analysis/1GNSWpe2SB30zYGbNTD96b',\n  'duration_ms': 180867,\n  'time_signature': 4},\n {'danceability': 0.664,\n  'energy': 0.659,\n  'key': 10,\n  'loudness': -4.232,\n  'mode': 0,\n  'speechiness': 0.0873,\n  'acousticness': 0.0625,\n  'instrumentalness': 0.00024,\n  'liveness': 0.0874,\n  'valence': 0.797,\n  'tempo': 175.826,\n  'type': 'audio_features',\n  'id': '5KFHrrBMyGj5MhVbZMM3ts',\n  'uri': 'spotify:track:5KFHrrBMyGj5MhVbZMM3ts',\n  'track_href': 'https://api.spotify.com/v1/tracks/5KFHrrBMyGj5MhVbZMM3ts',\n  'analysis_url': 'https://api.spotify.com/v1/audio-analysis/5KFHrrBMyGj5MhVbZMM3ts',\n  'duration_ms': 157320,\n  'time_signature': 4},\n {'danceability': 0.585,\n  'energy': 0.611,\n  'key': 6,\n  'loudness': -4.132,\n  'mode': 1,\n  'speechiness': 0.288,\n  'acousticness': 0.39,\n  'instrumentalness': 0,\n  'liveness': 0.649,\n  'valence': 0.962,\n  'tempo': 97.041,\n  'type': 'audio_features',\n  'id': '5YYW3yRktprLRr47WK219Y',\n  'uri': 'spotify:track:5YYW3yRktprLRr47WK219Y',\n  'track_href': 'https://api.spotify.com/v1/tracks/5YYW3yRktprLRr47WK219Y',\n  'analysis_url': 'https://api.spotify.com/v1/audio-analysis/5YYW3yRktprLRr47WK219Y',\n  'duration_ms': 218107,\n  'time_signature': 4},\n {'danceability': 0.728,\n  'energy': 0.806,\n  'key': 6,\n  'loudness': -3.766,\n  'mode': 1,\n  'speechiness': 0.0623,\n  'acousticness': 0.0531,\n  'instrumentalness': 0.000301,\n  'liveness': 0.153,\n  'valence': 0.698,\n  'tempo': 168.084,\n  'type': 'audio_features',\n  'id': '3gD4J3RUHy4OUuZ3qAiaiG',\n  'uri': 'spotify:track:3gD4J3RUHy4OUuZ3qAiaiG',\n  'track_href': 'https://api.spotify.com/v1/tracks/3gD4J3RUHy4OUuZ3qAiaiG',\n  'analysis_url': 'https://api.spotify.com/v1/audio-analysis/3gD4J3RUHy4OUuZ3qAiaiG',\n  'duration_ms': 217547,\n  'time_signature': 4},\n {'danceability': 0.779,\n  'energy': 0.75,\n  'key': 4,\n  'loudness': -2.685,\n  'mode': 0,\n  'speechiness': 0.0634,\n  'acousticness': 0.135,\n  'instrumentalness': 2.07e-06,\n  'liveness': 0.184,\n  'valence': 0.793,\n  'tempo': 95.969,\n  'type': 'audio_features',\n  'id': '2hdhH9YsYQInj4NYU75XZZ',\n  'uri': 'spotify:track:2hdhH9YsYQInj4NYU75XZZ',\n  'track_href': 'https://api.spotify.com/v1/tracks/2hdhH9YsYQInj4NYU75XZZ',\n  'analysis_url': 'https://api.spotify.com/v1/audio-analysis/2hdhH9YsYQInj4NYU75XZZ',\n  'duration_ms': 168168,\n  'time_signature': 4},\n {'danceability': 0.747,\n  'energy': 0.693,\n  'key': 1,\n  'loudness': -2.97,\n  'mode': 0,\n  'speechiness': 0.298,\n  'acousticness': 0.102,\n  'instrumentalness': 2.61e-06,\n  'liveness': 0.0872,\n  'valence': 0.736,\n  'tempo': 175.994,\n  'type': 'audio_features',\n  'id': '4Pu0a2TuHOYtI4CCE3HEXI',\n  'uri': 'spotify:track:4Pu0a2TuHOYtI4CCE3HEXI',\n  'track_href': 'https://api.spotify.com/v1/tracks/4Pu0a2TuHOYtI4CCE3HEXI',\n  'analysis_url': 'https://api.spotify.com/v1/audio-analysis/4Pu0a2TuHOYtI4CCE3HEXI',\n  'duration_ms': 189567,\n  'time_signature': 4},\n {'danceability': 0.67,\n  'energy': 0.659,\n  'key': 9,\n  'loudness': -7.15,\n  'mode': 1,\n  'speechiness': 0.201,\n  'acousticness': 0.208,\n  'instrumentalness': 0,\n  'liveness': 0.223,\n  'valence': 0.538,\n  'tempo': 90.026,\n  'type': 'audio_features',\n  'id': '69dNigIQhkCnL6pr7iRJPA',\n  'uri': 'spotify:track:69dNigIQhkCnL6pr7iRJPA',\n  'track_href': 'https://api.spotify.com/v1/tracks/69dNigIQhkCnL6pr7iRJPA',\n  'analysis_url': 'https://api.spotify.com/v1/audio-analysis/69dNigIQhkCnL6pr7iRJPA',\n  'duration_ms': 199521,\n  'time_signature': 4},\n {'danceability': 0.87,\n  'energy': 0.721,\n  'key': 10,\n  'loudness': -5.311,\n  'mode': 0,\n  'speechiness': 0.11,\n  'acousticness': 0.522,\n  'instrumentalness': 0.648,\n  'liveness': 0.108,\n  'valence': 0.489,\n  'tempo': 92.025,\n  'type': 'audio_features',\n  'id': '2XghxCSGfhpGR2B3ahQXVr',\n  'uri': 'spotify:track:2XghxCSGfhpGR2B3ahQXVr',\n  'track_href': 'https://api.spotify.com/v1/tracks/2XghxCSGfhpGR2B3ahQXVr',\n  'analysis_url': 'https://api.spotify.com/v1/audio-analysis/2XghxCSGfhpGR2B3ahQXVr',\n  'duration_ms': 188910,\n  'time_signature': 4},\n {'danceability': 0.625,\n  'energy': 0.754,\n  'key': 6,\n  'loudness': -4.158,\n  'mode': 0,\n  'speechiness': 0.076,\n  'acousticness': 0.17,\n  'instrumentalness': 3.76e-05,\n  'liveness': 0.109,\n  'valence': 0.746,\n  'tempo': 89.888,\n  'type': 'audio_features',\n  'id': '3fHEwAssCgM4wJYdjT5Ch0',\n  'uri': 'spotify:track:3fHEwAssCgM4wJYdjT5Ch0',\n  'track_href': 'https://api.spotify.com/v1/tracks/3fHEwAssCgM4wJYdjT5Ch0',\n  'analysis_url': 'https://api.spotify.com/v1/audio-analysis/3fHEwAssCgM4wJYdjT5Ch0',\n  'duration_ms': 239797,\n  'time_signature': 4},\n {'danceability': 0.503,\n  'energy': 0.762,\n  'key': 11,\n  'loudness': -4.263,\n  'mode': 1,\n  'speechiness': 0.298,\n  'acousticness': 0.0756,\n  'instrumentalness': 9.84e-06,\n  'liveness': 0.0919,\n  'valence': 0.598,\n  'tempo': 167.936,\n  'type': 'audio_features',\n  'id': '6QSu3mgC8kUYtEDoBBQcJG',\n  'uri': 'spotify:track:6QSu3mgC8kUYtEDoBBQcJG',\n  'track_href': 'https://api.spotify.com/v1/tracks/6QSu3mgC8kUYtEDoBBQcJG',\n  'analysis_url': 'https://api.spotify.com/v1/audio-analysis/6QSu3mgC8kUYtEDoBBQcJG',\n  'duration_ms': 202733,\n  'time_signature': 4},\n {'danceability': 0.611,\n  'energy': 0.851,\n  'key': 9,\n  'loudness': -2.982,\n  'mode': 1,\n  'speechiness': 0.0598,\n  'acousticness': 0.229,\n  'instrumentalness': 0,\n  'liveness': 0.232,\n  'valence': 0.823,\n  'tempo': 178.032,\n  'type': 'audio_features',\n  'id': '0Snbzbd74RLfL0i4nn1vU5',\n  'uri': 'spotify:track:0Snbzbd74RLfL0i4nn1vU5',\n  'track_href': 'https://api.spotify.com/v1/tracks/0Snbzbd74RLfL0i4nn1vU5',\n  'analysis_url': 'https://api.spotify.com/v1/audio-analysis/0Snbzbd74RLfL0i4nn1vU5',\n  'duration_ms': 211613,\n  'time_signature': 4},\n {'danceability': 0.803,\n  'energy': 0.642,\n  'key': 0,\n  'loudness': -3.759,\n  'mode': 1,\n  'speechiness': 0.217,\n  'acousticness': 0.153,\n  'instrumentalness': 1.76e-06,\n  'liveness': 0.14,\n  'valence': 0.856,\n  'tempo': 170.037,\n  'type': 'audio_features',\n  'id': '0P0UtGDZpUMWoFCuDTn78K',\n  'uri': 'spotify:track:0P0UtGDZpUMWoFCuDTn78K',\n  'track_href': 'https://api.spotify.com/v1/tracks/0P0UtGDZpUMWoFCuDTn78K',\n  'analysis_url': 'https://api.spotify.com/v1/audio-analysis/0P0UtGDZpUMWoFCuDTn78K',\n  'duration_ms': 206987,\n  'time_signature': 4},\n {'danceability': 0.862,\n  'energy': 0.779,\n  'key': 8,\n  'loudness': -2.857,\n  'mode': 1,\n  'speechiness': 0.0464,\n  'acousticness': 0.041,\n  'instrumentalness': 0,\n  'liveness': 0.344,\n  'valence': 0.719,\n  'tempo': 136.005,\n  'type': 'audio_features',\n  'id': '6QM3YNDJWPdfHVfbZ2kHvq',\n  'uri': 'spotify:track:6QM3YNDJWPdfHVfbZ2kHvq',\n  'track_href': 'https://api.spotify.com/v1/tracks/6QM3YNDJWPdfHVfbZ2kHvq',\n  'analysis_url': 'https://api.spotify.com/v1/audio-analysis/6QM3YNDJWPdfHVfbZ2kHvq',\n  'duration_ms': 195373,\n  'time_signature': 4},\n {'danceability': 0.801,\n  'energy': 0.745,\n  'key': 6,\n  'loudness': -3.733,\n  'mode': 0,\n  'speechiness': 0.063,\n  'acousticness': 0.398,\n  'instrumentalness': 0.00603,\n  'liveness': 0.153,\n  'valence': 0.245,\n  'tempo': 104.965,\n  'type': 'audio_features',\n  'id': '3JHpk0DOTOzyh0777JFAky',\n  'uri': 'spotify:track:3JHpk0DOTOzyh0777JFAky',\n  'track_href': 'https://api.spotify.com/v1/tracks/3JHpk0DOTOzyh0777JFAky',\n  'analysis_url': 'https://api.spotify.com/v1/audio-analysis/3JHpk0DOTOzyh0777JFAky',\n  'duration_ms': 214013,\n  'time_signature': 4},\n {'danceability': 0.655,\n  'energy': 0.672,\n  'key': 0,\n  'loudness': -5.98,\n  'mode': 0,\n  'speechiness': 0.311,\n  'acousticness': 0.471,\n  'instrumentalness': 0,\n  'liveness': 0.0767,\n  'valence': 0.343,\n  'tempo': 181.877,\n  'type': 'audio_features',\n  'id': '5stPVcRqb4qixbafP9e8lt',\n  'uri': 'spotify:track:5stPVcRqb4qixbafP9e8lt',\n  'track_href': 'https://api.spotify.com/v1/tracks/5stPVcRqb4qixbafP9e8lt',\n  'analysis_url': 'https://api.spotify.com/v1/audio-analysis/5stPVcRqb4qixbafP9e8lt',\n  'duration_ms': 249520,\n  'time_signature': 4},\n {'danceability': 0.736,\n  'energy': 0.585,\n  'key': 7,\n  'loudness': -4.617,\n  'mode': 1,\n  'speechiness': 0.346,\n  'acousticness': 0.273,\n  'instrumentalness': 0,\n  'liveness': 0.106,\n  'valence': 0.363,\n  'tempo': 171.932,\n  'type': 'audio_features',\n  'id': '0x1k6gSTSxaLxe0F2IThaX',\n  'uri': 'spotify:track:0x1k6gSTSxaLxe0F2IThaX',\n  'track_href': 'https://api.spotify.com/v1/tracks/0x1k6gSTSxaLxe0F2IThaX',\n  'analysis_url': 'https://api.spotify.com/v1/audio-analysis/0x1k6gSTSxaLxe0F2IThaX',\n  'duration_ms': 181845,\n  'time_signature': 4},\n {'danceability': 0.658,\n  'energy': 0.453,\n  'key': 9,\n  'loudness': -7.378,\n  'mode': 0,\n  'speechiness': 0.39,\n  'acousticness': 0.131,\n  'instrumentalness': 0.0002,\n  'liveness': 0.0848,\n  'valence': 0.358,\n  'tempo': 126.043,\n  'type': 'audio_features',\n  'id': '3GaGWoU1KfVqgl7vnRHP55',\n  'uri': 'spotify:track:3GaGWoU1KfVqgl7vnRHP55',\n  'track_href': 'https://api.spotify.com/v1/tracks/3GaGWoU1KfVqgl7vnRHP55',\n  'analysis_url': 'https://api.spotify.com/v1/audio-analysis/3GaGWoU1KfVqgl7vnRHP55',\n  'duration_ms': 153960,\n  'time_signature': 4},\n {'danceability': 0.483,\n  'energy': 0.492,\n  'key': 0,\n  'loudness': -6.591,\n  'mode': 0,\n  'speechiness': 0.295,\n  'acousticness': 0.603,\n  'instrumentalness': 0,\n  'liveness': 0.323,\n  'valence': 0.66,\n  'tempo': 144.511,\n  'type': 'audio_features',\n  'id': '5EbtodsuLbxrFDH6j5avVS',\n  'uri': 'spotify:track:5EbtodsuLbxrFDH6j5avVS',\n  'track_href': 'https://api.spotify.com/v1/tracks/5EbtodsuLbxrFDH6j5avVS',\n  'analysis_url': 'https://api.spotify.com/v1/audio-analysis/5EbtodsuLbxrFDH6j5avVS',\n  'duration_ms': 188213,\n  'time_signature': 4},\n {'danceability': 0.733,\n  'energy': 0.708,\n  'key': 6,\n  'loudness': -4.957,\n  'mode': 1,\n  'speechiness': 0.0937,\n  'acousticness': 0.0325,\n  'instrumentalness': 0.000327,\n  'liveness': 0.324,\n  'valence': 0.694,\n  'tempo': 93.021,\n  'type': 'audio_features',\n  'id': '43NqTeL8pgBxKHPMiJKUP5',\n  'uri': 'spotify:track:43NqTeL8pgBxKHPMiJKUP5',\n  'track_href': 'https://api.spotify.com/v1/tracks/43NqTeL8pgBxKHPMiJKUP5',\n  'analysis_url': 'https://api.spotify.com/v1/audio-analysis/43NqTeL8pgBxKHPMiJKUP5',\n  'duration_ms': 186427,\n  'time_signature': 4},\n {'danceability': 0.716,\n  'energy': 0.624,\n  'key': 6,\n  'loudness': -5.398,\n  'mode': 0,\n  'speechiness': 0.0739,\n  'acousticness': 0.238,\n  'instrumentalness': 0,\n  'liveness': 0.128,\n  'valence': 0.783,\n  'tempo': 90.983,\n  'type': 'audio_features',\n  'id': '7BEPdOI0neT6p7PnLViqmH',\n  'uri': 'spotify:track:7BEPdOI0neT6p7PnLViqmH',\n  'track_href': 'https://api.spotify.com/v1/tracks/7BEPdOI0neT6p7PnLViqmH',\n  'analysis_url': 'https://api.spotify.com/v1/audio-analysis/7BEPdOI0neT6p7PnLViqmH',\n  'duration_ms': 157081,\n  'time_signature': 4},\n {'danceability': 0.52,\n  'energy': 0.731,\n  'key': 6,\n  'loudness': -5.338,\n  'mode': 0,\n  'speechiness': 0.0557,\n  'acousticness': 0.342,\n  'instrumentalness': 0.00101,\n  'liveness': 0.311,\n  'valence': 0.662,\n  'tempo': 173.93,\n  'type': 'audio_features',\n  'id': '4LRPiXqCikLlN15c3yImP7',\n  'uri': 'spotify:track:4LRPiXqCikLlN15c3yImP7',\n  'track_href': 'https://api.spotify.com/v1/tracks/4LRPiXqCikLlN15c3yImP7',\n  'analysis_url': 'https://api.spotify.com/v1/audio-analysis/4LRPiXqCikLlN15c3yImP7',\n  'duration_ms': 167303,\n  'time_signature': 4},\n {'danceability': 0.905,\n  'energy': 0.563,\n  'key': 8,\n  'loudness': -6.135,\n  'mode': 1,\n  'speechiness': 0.102,\n  'acousticness': 0.0254,\n  'instrumentalness': 9.71e-06,\n  'liveness': 0.113,\n  'valence': 0.324,\n  'tempo': 106.998,\n  'type': 'audio_features',\n  'id': '1rDQ4oMwGJI7B4tovsBOxc',\n  'uri': 'spotify:track:1rDQ4oMwGJI7B4tovsBOxc',\n  'track_href': 'https://api.spotify.com/v1/tracks/1rDQ4oMwGJI7B4tovsBOxc',\n  'analysis_url': 'https://api.spotify.com/v1/audio-analysis/1rDQ4oMwGJI7B4tovsBOxc',\n  'duration_ms': 173948,\n  'time_signature': 4},\n {'danceability': 0.761,\n  'energy': 0.525,\n  'key': 11,\n  'loudness': -6.9,\n  'mode': 1,\n  'speechiness': 0.0944,\n  'acousticness': 0.44,\n  'instrumentalness': 6.7e-06,\n  'liveness': 0.0921,\n  'valence': 0.531,\n  'tempo': 80.87,\n  'type': 'audio_features',\n  'id': '3USxtqRwSYz57Ewm6wWRMp',\n  'uri': 'spotify:track:3USxtqRwSYz57Ewm6wWRMp',\n  'track_href': 'https://api.spotify.com/v1/tracks/3USxtqRwSYz57Ewm6wWRMp',\n  'analysis_url': 'https://api.spotify.com/v1/audio-analysis/3USxtqRwSYz57Ewm6wWRMp',\n  'duration_ms': 238805,\n  'time_signature': 4},\n {'danceability': 0.935,\n  'energy': 0.807,\n  'key': 11,\n  'loudness': -3.838,\n  'mode': 0,\n  'speechiness': 0.114,\n  'acousticness': 0.0514,\n  'instrumentalness': 0,\n  'liveness': 0.349,\n  'valence': 0.813,\n  'tempo': 106.017,\n  'type': 'audio_features',\n  'id': '6Zu3aw7FfjAF9WA0fA81Oq',\n  'uri': 'spotify:track:6Zu3aw7FfjAF9WA0fA81Oq',\n  'track_href': 'https://api.spotify.com/v1/tracks/6Zu3aw7FfjAF9WA0fA81Oq',\n  'analysis_url': 'https://api.spotify.com/v1/audio-analysis/6Zu3aw7FfjAF9WA0fA81Oq',\n  'duration_ms': 173182,\n  'time_signature': 4},\n {'danceability': 0.728,\n  'energy': 0.783,\n  'key': 11,\n  'loudness': -4.424,\n  'mode': 0,\n  'speechiness': 0.266,\n  'acousticness': 0.237,\n  'instrumentalness': 0,\n  'liveness': 0.434,\n  'valence': 0.555,\n  'tempo': 77.011,\n  'type': 'audio_features',\n  'id': '1r9xUipOqoNwggBpENDsvJ',\n  'uri': 'spotify:track:1r9xUipOqoNwggBpENDsvJ',\n  'track_href': 'https://api.spotify.com/v1/tracks/1r9xUipOqoNwggBpENDsvJ',\n  'analysis_url': 'https://api.spotify.com/v1/audio-analysis/1r9xUipOqoNwggBpENDsvJ',\n  'duration_ms': 173381,\n  'time_signature': 4},\n {'danceability': 0.591,\n  'energy': 0.764,\n  'key': 1,\n  'loudness': -5.484,\n  'mode': 1,\n  'speechiness': 0.0483,\n  'acousticness': 0.0383,\n  'instrumentalness': 0,\n  'liveness': 0.103,\n  'valence': 0.478,\n  'tempo': 169.928,\n  'type': 'audio_features',\n  'id': '5HCyWlXZPP0y6Gqq8TgA20',\n  'uri': 'spotify:track:5HCyWlXZPP0y6Gqq8TgA20',\n  'track_href': 'https://api.spotify.com/v1/tracks/5HCyWlXZPP0y6Gqq8TgA20',\n  'analysis_url': 'https://api.spotify.com/v1/audio-analysis/5HCyWlXZPP0y6Gqq8TgA20',\n  'duration_ms': 141806,\n  'time_signature': 4},\n {'danceability': 0.578,\n  'energy': 0.431,\n  'key': 2,\n  'loudness': -7.034,\n  'mode': 1,\n  'speechiness': 0.0269,\n  'acousticness': 0.469,\n  'instrumentalness': 0,\n  'liveness': 0.137,\n  'valence': 0.21,\n  'tempo': 116.979,\n  'type': 'audio_features',\n  'id': '1TUuhV75FeOF6UObRsABo2',\n  'uri': 'spotify:track:1TUuhV75FeOF6UObRsABo2',\n  'track_href': 'https://api.spotify.com/v1/tracks/1TUuhV75FeOF6UObRsABo2',\n  'analysis_url': 'https://api.spotify.com/v1/audio-analysis/1TUuhV75FeOF6UObRsABo2',\n  'duration_ms': 226975,\n  'time_signature': 3},\n {'danceability': 0.824,\n  'energy': 0.764,\n  'key': 5,\n  'loudness': -4.175,\n  'mode': 0,\n  'speechiness': 0.0854,\n  'acousticness': 0.0888,\n  'instrumentalness': 0.00294,\n  'liveness': 0.117,\n  'valence': 0.881,\n  'tempo': 107.998,\n  'type': 'audio_features',\n  'id': '6Uj1ctrBOjOas8xZXGqKk4',\n  'uri': 'spotify:track:6Uj1ctrBOjOas8xZXGqKk4',\n  'track_href': 'https://api.spotify.com/v1/tracks/6Uj1ctrBOjOas8xZXGqKk4',\n  'analysis_url': 'https://api.spotify.com/v1/audio-analysis/6Uj1ctrBOjOas8xZXGqKk4',\n  'duration_ms': 172627,\n  'time_signature': 4},\n {'danceability': 0.825,\n  'energy': 0.414,\n  'key': 2,\n  'loudness': -6.634,\n  'mode': 1,\n  'speechiness': 0.144,\n  'acousticness': 0.00265,\n  'instrumentalness': 0,\n  'liveness': 0.357,\n  'valence': 0.106,\n  'tempo': 72.993,\n  'type': 'audio_features',\n  'id': '4A8cWXxKfIL3lAyUDzXbCF',\n  'uri': 'spotify:track:4A8cWXxKfIL3lAyUDzXbCF',\n  'track_href': 'https://api.spotify.com/v1/tracks/4A8cWXxKfIL3lAyUDzXbCF',\n  'analysis_url': 'https://api.spotify.com/v1/audio-analysis/4A8cWXxKfIL3lAyUDzXbCF',\n  'duration_ms': 200548,\n  'time_signature': 4},\n {'danceability': 0.601,\n  'energy': 0.741,\n  'key': 2,\n  'loudness': -5.569,\n  'mode': 1,\n  'speechiness': 0.0478,\n  'acousticness': 0.185,\n  'instrumentalness': 2.91e-05,\n  'liveness': 0.415,\n  'valence': 0.441,\n  'tempo': 153.96,\n  'type': 'audio_features',\n  'id': '6I3mqTwhRpn34SLVafSH7G',\n  'uri': 'spotify:track:6I3mqTwhRpn34SLVafSH7G',\n  'track_href': 'https://api.spotify.com/v1/tracks/6I3mqTwhRpn34SLVafSH7G',\n  'analysis_url': 'https://api.spotify.com/v1/audio-analysis/6I3mqTwhRpn34SLVafSH7G',\n  'duration_ms': 153190,\n  'time_signature': 4},\n {'danceability': 0.737,\n  'energy': 0.846,\n  'key': 1,\n  'loudness': -4.51,\n  'mode': 0,\n  'speechiness': 0.22,\n  'acousticness': 0.00614,\n  'instrumentalness': 0,\n  'liveness': 0.0486,\n  'valence': 0.546,\n  'tempo': 87.981,\n  'type': 'audio_features',\n  'id': '0e8nrvls4Qqv5Rfa2UhqmO',\n  'uri': 'spotify:track:0e8nrvls4Qqv5Rfa2UhqmO',\n  'track_href': 'https://api.spotify.com/v1/tracks/0e8nrvls4Qqv5Rfa2UhqmO',\n  'analysis_url': 'https://api.spotify.com/v1/audio-analysis/0e8nrvls4Qqv5Rfa2UhqmO',\n  'duration_ms': 143901,\n  'time_signature': 4},\n {'danceability': 0.808,\n  'energy': 0.897,\n  'key': 11,\n  'loudness': -3.712,\n  'mode': 0,\n  'speechiness': 0.0348,\n  'acousticness': 0.0469,\n  'instrumentalness': 3.14e-05,\n  'liveness': 0.364,\n  'valence': 0.591,\n  'tempo': 126.026,\n  'type': 'audio_features',\n  'id': '6PQ88X9TkUIAUIZJHW2upE',\n  'uri': 'spotify:track:6PQ88X9TkUIAUIZJHW2upE',\n  'track_href': 'https://api.spotify.com/v1/tracks/6PQ88X9TkUIAUIZJHW2upE',\n  'analysis_url': 'https://api.spotify.com/v1/audio-analysis/6PQ88X9TkUIAUIZJHW2upE',\n  'duration_ms': 231041,\n  'time_signature': 4},\n {'danceability': 0.695,\n  'energy': 0.54,\n  'key': 4,\n  'loudness': -5.692,\n  'mode': 1,\n  'speechiness': 0.0493,\n  'acousticness': 0.299,\n  'instrumentalness': 0,\n  'liveness': 0.367,\n  'valence': 0.415,\n  'tempo': 121.932,\n  'type': 'audio_features',\n  'id': '4fouWK6XVHhzl78KzQ1UjL',\n  'uri': 'spotify:track:4fouWK6XVHhzl78KzQ1UjL',\n  'track_href': 'https://api.spotify.com/v1/tracks/4fouWK6XVHhzl78KzQ1UjL',\n  'analysis_url': 'https://api.spotify.com/v1/audio-analysis/4fouWK6XVHhzl78KzQ1UjL',\n  'duration_ms': 168602,\n  'time_signature': 4},\n {'danceability': 0.788,\n  'energy': 0.859,\n  'key': 2,\n  'loudness': -2.724,\n  'mode': 1,\n  'speechiness': 0.0856,\n  'acousticness': 0.281,\n  'instrumentalness': 0,\n  'liveness': 0.0424,\n  'valence': 0.822,\n  'tempo': 141.02,\n  'type': 'audio_features',\n  'id': '75MNhvTCCKsST3YqqUiU9r',\n  'uri': 'spotify:track:75MNhvTCCKsST3YqqUiU9r',\n  'track_href': 'https://api.spotify.com/v1/tracks/75MNhvTCCKsST3YqqUiU9r',\n  'analysis_url': 'https://api.spotify.com/v1/audio-analysis/75MNhvTCCKsST3YqqUiU9r',\n  'duration_ms': 207853,\n  'time_signature': 4},\n {'danceability': 0.796,\n  'energy': 0.798,\n  'key': 1,\n  'loudness': -6.312,\n  'mode': 1,\n  'speechiness': 0.0317,\n  'acousticness': 0.034,\n  'instrumentalness': 4.19e-05,\n  'liveness': 0.0952,\n  'valence': 0.942,\n  'tempo': 116.032,\n  'type': 'audio_features',\n  'id': '6zSpb8dQRaw0M1dK8PBwQz',\n  'uri': 'spotify:track:6zSpb8dQRaw0M1dK8PBwQz',\n  'track_href': 'https://api.spotify.com/v1/tracks/6zSpb8dQRaw0M1dK8PBwQz',\n  'analysis_url': 'https://api.spotify.com/v1/audio-analysis/6zSpb8dQRaw0M1dK8PBwQz',\n  'duration_ms': 202735,\n  'time_signature': 4},\n {'danceability': 0.604,\n  'energy': 0.366,\n  'key': 5,\n  'loudness': -7.519,\n  'mode': 1,\n  'speechiness': 0.0282,\n  'acousticness': 0.578,\n  'instrumentalness': 0,\n  'liveness': 0.133,\n  'valence': 0.13,\n  'tempo': 141.981,\n  'type': 'audio_features',\n  'id': '0gplL1WMoJ6iYaPgMCL0gX',\n  'uri': 'spotify:track:0gplL1WMoJ6iYaPgMCL0gX',\n  'track_href': 'https://api.spotify.com/v1/tracks/0gplL1WMoJ6iYaPgMCL0gX',\n  'analysis_url': 'https://api.spotify.com/v1/audio-analysis/0gplL1WMoJ6iYaPgMCL0gX',\n  'duration_ms': 224695,\n  'time_signature': 4},\n {'danceability': 0.664,\n  'energy': 0.609,\n  'key': 1,\n  'loudness': -6.509,\n  'mode': 1,\n  'speechiness': 0.0707,\n  'acousticness': 0.304,\n  'instrumentalness': 0,\n  'liveness': 0.0926,\n  'valence': 0.194,\n  'tempo': 130.041,\n  'type': 'audio_features',\n  'id': '3Vi5XqYrmQgOYBajMWSvCi',\n  'uri': 'spotify:track:3Vi5XqYrmQgOYBajMWSvCi',\n  'track_href': 'https://api.spotify.com/v1/tracks/3Vi5XqYrmQgOYBajMWSvCi',\n  'analysis_url': 'https://api.spotify.com/v1/audio-analysis/3Vi5XqYrmQgOYBajMWSvCi',\n  'duration_ms': 210560,\n  'time_signature': 4},\n {'danceability': 0.65,\n  'energy': 0.825,\n  'key': 0,\n  'loudness': -4.645,\n  'mode': 1,\n  'speechiness': 0.0325,\n  'acousticness': 0.0215,\n  'instrumentalness': 2.44e-05,\n  'liveness': 0.0936,\n  'valence': 0.593,\n  'tempo': 118.091,\n  'type': 'audio_features',\n  'id': '37BZB0z9T8Xu7U3e65qxFy',\n  'uri': 'spotify:track:37BZB0z9T8Xu7U3e65qxFy',\n  'track_href': 'https://api.spotify.com/v1/tracks/37BZB0z9T8Xu7U3e65qxFy',\n  'analysis_url': 'https://api.spotify.com/v1/audio-analysis/37BZB0z9T8Xu7U3e65qxFy',\n  'duration_ms': 191014,\n  'time_signature': 4},\n {'danceability': 0.687,\n  'energy': 0.781,\n  'key': 1,\n  'loudness': -4.806,\n  'mode': 1,\n  'speechiness': 0.053,\n  'acousticness': 0.0361,\n  'instrumentalness': 0,\n  'liveness': 0.0755,\n  'valence': 0.688,\n  'tempo': 97.014,\n  'type': 'audio_features',\n  'id': '00Blm7zeNqgYLPtW6zg8cj',\n  'uri': 'spotify:track:00Blm7zeNqgYLPtW6zg8cj',\n  'track_href': 'https://api.spotify.com/v1/tracks/00Blm7zeNqgYLPtW6zg8cj',\n  'analysis_url': 'https://api.spotify.com/v1/audio-analysis/00Blm7zeNqgYLPtW6zg8cj',\n  'duration_ms': 193507,\n  'time_signature': 4},\n {'danceability': 0.643,\n  'energy': 0.605,\n  'key': 4,\n  'loudness': -5.968,\n  'mode': 0,\n  'speechiness': 0.297,\n  'acousticness': 0.0336,\n  'instrumentalness': 0,\n  'liveness': 0.112,\n  'valence': 0.145,\n  'tempo': 84.216,\n  'type': 'audio_features',\n  'id': '3ihIZrJreMJPjQdNLrEXnP',\n  'uri': 'spotify:track:3ihIZrJreMJPjQdNLrEXnP',\n  'track_href': 'https://api.spotify.com/v1/tracks/3ihIZrJreMJPjQdNLrEXnP',\n  'analysis_url': 'https://api.spotify.com/v1/audio-analysis/3ihIZrJreMJPjQdNLrEXnP',\n  'duration_ms': 200471,\n  'time_signature': 4},\n {'danceability': 0.695,\n  'energy': 0.884,\n  'key': 6,\n  'loudness': -2.278,\n  'mode': 0,\n  'speechiness': 0.0753,\n  'acousticness': 0.0561,\n  'instrumentalness': 0,\n  'liveness': 0.213,\n  'valence': 0.914,\n  'tempo': 103.014,\n  'type': 'audio_features',\n  'id': '39LLxExYz6ewLAcYrzQQyP',\n  'uri': 'spotify:track:39LLxExYz6ewLAcYrzQQyP',\n  'track_href': 'https://api.spotify.com/v1/tracks/39LLxExYz6ewLAcYrzQQyP',\n  'analysis_url': 'https://api.spotify.com/v1/audio-analysis/39LLxExYz6ewLAcYrzQQyP',\n  'duration_ms': 203808,\n  'time_signature': 4},\n {'danceability': 0.505,\n  'energy': 0.814,\n  'key': 1,\n  'loudness': -4.905,\n  'mode': 1,\n  'speechiness': 0.0439,\n  'acousticness': 0.0566,\n  'instrumentalness': 0,\n  'liveness': 0.106,\n  'valence': 0.503,\n  'tempo': 160.085,\n  'type': 'audio_features',\n  'id': '13rC4iKtfQocWIfzPOJxaT',\n  'uri': 'spotify:track:13rC4iKtfQocWIfzPOJxaT',\n  'track_href': 'https://api.spotify.com/v1/tracks/13rC4iKtfQocWIfzPOJxaT',\n  'analysis_url': 'https://api.spotify.com/v1/audio-analysis/13rC4iKtfQocWIfzPOJxaT',\n  'duration_ms': 224773,\n  'time_signature': 4},\n {'danceability': 0.736,\n  'energy': 0.704,\n  'key': 3,\n  'loudness': -7.409,\n  'mode': 0,\n  'speechiness': 0.0615,\n  'acousticness': 0.0203,\n  'instrumentalness': 0,\n  'liveness': 0.0501,\n  'valence': 0.894,\n  'tempo': 149.995,\n  'type': 'audio_features',\n  'id': '27NovPIUIRrOZoCHxABJwK',\n  'uri': 'spotify:track:27NovPIUIRrOZoCHxABJwK',\n  'track_href': 'https://api.spotify.com/v1/tracks/27NovPIUIRrOZoCHxABJwK',\n  'analysis_url': 'https://api.spotify.com/v1/audio-analysis/27NovPIUIRrOZoCHxABJwK',\n  'duration_ms': 212000,\n  'time_signature': 4},\n {'danceability': 0.843,\n  'energy': 0.7,\n  'key': 4,\n  'loudness': -3.563,\n  'mode': 0,\n  'speechiness': 0.0803,\n  'acousticness': 0.0934,\n  'instrumentalness': 0,\n  'liveness': 0.14,\n  'valence': 0.899,\n  'tempo': 93.991,\n  'type': 'audio_features',\n  'id': '1ri9ZUkBJVFUdgwzCnfcYs',\n  'uri': 'spotify:track:1ri9ZUkBJVFUdgwzCnfcYs',\n  'track_href': 'https://api.spotify.com/v1/tracks/1ri9ZUkBJVFUdgwzCnfcYs',\n  'analysis_url': 'https://api.spotify.com/v1/audio-analysis/1ri9ZUkBJVFUdgwzCnfcYs',\n  'duration_ms': 226088,\n  'time_signature': 4},\n {'danceability': 0.756,\n  'energy': 0.697,\n  'key': 8,\n  'loudness': -6.377,\n  'mode': 1,\n  'speechiness': 0.0401,\n  'acousticness': 0.182,\n  'instrumentalness': 0,\n  'liveness': 0.333,\n  'valence': 0.956,\n  'tempo': 94.996,\n  'type': 'audio_features',\n  'id': '0QBzMgT7NIeoCYy3sJCof1',\n  'uri': 'spotify:track:0QBzMgT7NIeoCYy3sJCof1',\n  'track_href': 'https://api.spotify.com/v1/tracks/0QBzMgT7NIeoCYy3sJCof1',\n  'analysis_url': 'https://api.spotify.com/v1/audio-analysis/0QBzMgT7NIeoCYy3sJCof1',\n  'duration_ms': 206071,\n  'time_signature': 4},\n {'danceability': 0.511,\n  'energy': 0.525,\n  'key': 8,\n  'loudness': -4.595,\n  'mode': 0,\n  'speechiness': 0.183,\n  'acousticness': 0.604,\n  'instrumentalness': 0,\n  'liveness': 0.111,\n  'valence': 0.661,\n  'tempo': 139.885,\n  'type': 'audio_features',\n  'id': '3xRH6FPVtheDyNla3T1FE7',\n  'uri': 'spotify:track:3xRH6FPVtheDyNla3T1FE7',\n  'track_href': 'https://api.spotify.com/v1/tracks/3xRH6FPVtheDyNla3T1FE7',\n  'analysis_url': 'https://api.spotify.com/v1/audio-analysis/3xRH6FPVtheDyNla3T1FE7',\n  'duration_ms': 204317,\n  'time_signature': 3},\n {'danceability': 0.577,\n  'energy': 0.45,\n  'key': 0,\n  'loudness': -8.516,\n  'mode': 0,\n  'speechiness': 0.0834,\n  'acousticness': 0.357,\n  'instrumentalness': 0,\n  'liveness': 0.111,\n  'valence': 0.83,\n  'tempo': 205.863,\n  'type': 'audio_features',\n  'id': '52xJxFP6TqMuO4Yt0eOkMz',\n  'uri': 'spotify:track:52xJxFP6TqMuO4Yt0eOkMz',\n  'track_href': 'https://api.spotify.com/v1/tracks/52xJxFP6TqMuO4Yt0eOkMz',\n  'analysis_url': 'https://api.spotify.com/v1/audio-analysis/52xJxFP6TqMuO4Yt0eOkMz',\n  'duration_ms': 216120,\n  'time_signature': 4},\n {'danceability': 0.535,\n  'energy': 0.618,\n  'key': 2,\n  'loudness': -5.668,\n  'mode': 1,\n  'speechiness': 0.382,\n  'acousticness': 0.0245,\n  'instrumentalness': 0,\n  'liveness': 0.103,\n  'valence': 0.211,\n  'tempo': 165.991,\n  'type': 'audio_features',\n  'id': '6ws54n2IzyrIxxyzlG2bVJ',\n  'uri': 'spotify:track:6ws54n2IzyrIxxyzlG2bVJ',\n  'track_href': 'https://api.spotify.com/v1/tracks/6ws54n2IzyrIxxyzlG2bVJ',\n  'analysis_url': 'https://api.spotify.com/v1/audio-analysis/6ws54n2IzyrIxxyzlG2bVJ',\n  'duration_ms': 213976,\n  'time_signature': 4},\n {'danceability': 0.472,\n  'energy': 0.937,\n  'key': 0,\n  'loudness': -4.028,\n  'mode': 0,\n  'speechiness': 0.0567,\n  'acousticness': 0.00717,\n  'instrumentalness': 0,\n  'liveness': 0.11,\n  'valence': 0.454,\n  'tempo': 140.073,\n  'type': 'audio_features',\n  'id': '03kCiUPjdAV9ur9ugm8PQT',\n  'uri': 'spotify:track:03kCiUPjdAV9ur9ugm8PQT',\n  'track_href': 'https://api.spotify.com/v1/tracks/03kCiUPjdAV9ur9ugm8PQT',\n  'analysis_url': 'https://api.spotify.com/v1/audio-analysis/03kCiUPjdAV9ur9ugm8PQT',\n  'duration_ms': 176147,\n  'time_signature': 4},\n {'danceability': 0.593,\n  'energy': 0.552,\n  'key': 1,\n  'loudness': -5.838,\n  'mode': 1,\n  'speechiness': 0.028,\n  'acousticness': 0.18,\n  'instrumentalness': 1.71e-05,\n  'liveness': 0.11,\n  'valence': 0.39,\n  'tempo': 115.0,\n  'type': 'audio_features',\n  'id': '4GyD3o5hWoyCuYpdlzZlRL',\n  'uri': 'spotify:track:4GyD3o5hWoyCuYpdlzZlRL',\n  'track_href': 'https://api.spotify.com/v1/tracks/4GyD3o5hWoyCuYpdlzZlRL',\n  'analysis_url': 'https://api.spotify.com/v1/audio-analysis/4GyD3o5hWoyCuYpdlzZlRL',\n  'duration_ms': 254181,\n  'time_signature': 4},\n {'danceability': 0.505,\n  'energy': 0.657,\n  'key': 11,\n  'loudness': -5.24,\n  'mode': 0,\n  'speechiness': 0.0318,\n  'acousticness': 0.373,\n  'instrumentalness': 0.00107,\n  'liveness': 0.126,\n  'valence': 0.252,\n  'tempo': 196.0,\n  'type': 'audio_features',\n  'id': '3cBsEDNhFI9E82vPj3kvi3',\n  'uri': 'spotify:track:3cBsEDNhFI9E82vPj3kvi3',\n  'track_href': 'https://api.spotify.com/v1/tracks/3cBsEDNhFI9E82vPj3kvi3',\n  'analysis_url': 'https://api.spotify.com/v1/audio-analysis/3cBsEDNhFI9E82vPj3kvi3',\n  'duration_ms': 178520,\n  'time_signature': 3},\n {'danceability': 0.635,\n  'energy': 0.747,\n  'key': 4,\n  'loudness': -6.227,\n  'mode': 1,\n  'speechiness': 0.0293,\n  'acousticness': 0.00313,\n  'instrumentalness': 0,\n  'liveness': 0.346,\n  'valence': 0.753,\n  'tempo': 104.027,\n  'type': 'audio_features',\n  'id': '77oKig47u34qCCFWKMfu1e',\n  'uri': 'spotify:track:77oKig47u34qCCFWKMfu1e',\n  'track_href': 'https://api.spotify.com/v1/tracks/77oKig47u34qCCFWKMfu1e',\n  'analysis_url': 'https://api.spotify.com/v1/audio-analysis/77oKig47u34qCCFWKMfu1e',\n  'duration_ms': 189560,\n  'time_signature': 4},\n {'danceability': 0.556,\n  'energy': 0.661,\n  'key': 6,\n  'loudness': -5.052,\n  'mode': 0,\n  'speechiness': 0.204,\n  'acousticness': 0.3,\n  'instrumentalness': 0,\n  'liveness': 0.101,\n  'valence': 0.668,\n  'tempo': 168.56,\n  'type': 'audio_features',\n  'id': '6PERP62TejQjgHu81OHxgM',\n  'uri': 'spotify:track:6PERP62TejQjgHu81OHxgM',\n  'track_href': 'https://api.spotify.com/v1/tracks/6PERP62TejQjgHu81OHxgM',\n  'analysis_url': 'https://api.spotify.com/v1/audio-analysis/6PERP62TejQjgHu81OHxgM',\n  'duration_ms': 178148,\n  'time_signature': 4},\n {'danceability': 0.814,\n  'energy': 0.628,\n  'key': 7,\n  'loudness': -7.178,\n  'mode': 1,\n  'speechiness': 0.221,\n  'acousticness': 0.167,\n  'instrumentalness': 0,\n  'liveness': 0.101,\n  'valence': 0.677,\n  'tempo': 123.977,\n  'type': 'audio_features',\n  'id': '7mFj0LlWtEJaEigguaWqYh',\n  'uri': 'spotify:track:7mFj0LlWtEJaEigguaWqYh',\n  'track_href': 'https://api.spotify.com/v1/tracks/7mFj0LlWtEJaEigguaWqYh',\n  'analysis_url': 'https://api.spotify.com/v1/audio-analysis/7mFj0LlWtEJaEigguaWqYh',\n  'duration_ms': 201334,\n  'time_signature': 4},\n {'danceability': 0.603,\n  'energy': 0.473,\n  'key': 5,\n  'loudness': -7.23,\n  'mode': 1,\n  'speechiness': 0.0511,\n  'acousticness': 0.616,\n  'instrumentalness': 0,\n  'liveness': 0.31,\n  'valence': 0.446,\n  'tempo': 109.494,\n  'type': 'audio_features',\n  'id': '5S9Zs5g9lTWnLIboN1pdlU',\n  'uri': 'spotify:track:5S9Zs5g9lTWnLIboN1pdlU',\n  'track_href': 'https://api.spotify.com/v1/tracks/5S9Zs5g9lTWnLIboN1pdlU',\n  'analysis_url': 'https://api.spotify.com/v1/audio-analysis/5S9Zs5g9lTWnLIboN1pdlU',\n  'duration_ms': 175345,\n  'time_signature': 4},\n {'danceability': 0.535,\n  'energy': 0.388,\n  'key': 7,\n  'loudness': -9.805,\n  'mode': 0,\n  'speechiness': 0.155,\n  'acousticness': 0.507,\n  'instrumentalness': 0,\n  'liveness': 0.11,\n  'valence': 0.412,\n  'tempo': 106.703,\n  'type': 'audio_features',\n  'id': '5dXWFMwD7I7zXsInONVl0H',\n  'uri': 'spotify:track:5dXWFMwD7I7zXsInONVl0H',\n  'track_href': 'https://api.spotify.com/v1/tracks/5dXWFMwD7I7zXsInONVl0H',\n  'analysis_url': 'https://api.spotify.com/v1/audio-analysis/5dXWFMwD7I7zXsInONVl0H',\n  'duration_ms': 174000,\n  'time_signature': 5},\n {'danceability': 0.345,\n  'energy': 0.612,\n  'key': 7,\n  'loudness': -6.543,\n  'mode': 0,\n  'speechiness': 0.0608,\n  'acousticness': 0.232,\n  'instrumentalness': 0,\n  'liveness': 0.194,\n  'valence': 0.232,\n  'tempo': 179.773,\n  'type': 'audio_features',\n  'id': '59CfNbkERJ3NoTXDvoURjj',\n  'uri': 'spotify:track:59CfNbkERJ3NoTXDvoURjj',\n  'track_href': 'https://api.spotify.com/v1/tracks/59CfNbkERJ3NoTXDvoURjj',\n  'analysis_url': 'https://api.spotify.com/v1/audio-analysis/59CfNbkERJ3NoTXDvoURjj',\n  'duration_ms': 153000,\n  'time_signature': 3},\n {'danceability': 0.745,\n  'energy': 0.65,\n  'key': 2,\n  'loudness': -11.814,\n  'mode': 1,\n  'speechiness': 0.346,\n  'acousticness': 0.0451,\n  'instrumentalness': 0.00758,\n  'liveness': 0.111,\n  'valence': 0.386,\n  'tempo': 144.047,\n  'type': 'audio_features',\n  'id': '5vUnjhBzRJJIAOJPde6zDx',\n  'uri': 'spotify:track:5vUnjhBzRJJIAOJPde6zDx',\n  'track_href': 'https://api.spotify.com/v1/tracks/5vUnjhBzRJJIAOJPde6zDx',\n  'analysis_url': 'https://api.spotify.com/v1/audio-analysis/5vUnjhBzRJJIAOJPde6zDx',\n  'duration_ms': 152137,\n  'time_signature': 4},\n {'danceability': 0.828,\n  'energy': 0.621,\n  'key': 8,\n  'loudness': -6.414,\n  'mode': 1,\n  'speechiness': 0.0565,\n  'acousticness': 0.0164,\n  'instrumentalness': 0.00233,\n  'liveness': 0.0845,\n  'valence': 0.436,\n  'tempo': 128.986,\n  'type': 'audio_features',\n  'id': '0k4d5YPDr1r7FX77VdqWez',\n  'uri': 'spotify:track:0k4d5YPDr1r7FX77VdqWez',\n  'track_href': 'https://api.spotify.com/v1/tracks/0k4d5YPDr1r7FX77VdqWez',\n  'analysis_url': 'https://api.spotify.com/v1/audio-analysis/0k4d5YPDr1r7FX77VdqWez',\n  'duration_ms': 186173,\n  'time_signature': 4},\n {'danceability': 0.742,\n  'energy': 0.527,\n  'key': 8,\n  'loudness': -6.892,\n  'mode': 0,\n  'speechiness': 0.0769,\n  'acousticness': 0.327,\n  'instrumentalness': 0,\n  'liveness': 0.25,\n  'valence': 0.638,\n  'tempo': 84.974,\n  'type': 'audio_features',\n  'id': '3o9kpgkIcffx0iSwxhuNI2',\n  'uri': 'spotify:track:3o9kpgkIcffx0iSwxhuNI2',\n  'track_href': 'https://api.spotify.com/v1/tracks/3o9kpgkIcffx0iSwxhuNI2',\n  'analysis_url': 'https://api.spotify.com/v1/audio-analysis/3o9kpgkIcffx0iSwxhuNI2',\n  'duration_ms': 169238,\n  'time_signature': 4},\n {'danceability': 0.649,\n  'energy': 0.76,\n  'key': 1,\n  'loudness': -6.487,\n  'mode': 1,\n  'speechiness': 0.0574,\n  'acousticness': 0.114,\n  'instrumentalness': 0,\n  'liveness': 0.317,\n  'valence': 0.843,\n  'tempo': 80.018,\n  'type': 'audio_features',\n  'id': '3ZozFqJJlDBNIm4xqxn2ZD',\n  'uri': 'spotify:track:3ZozFqJJlDBNIm4xqxn2ZD',\n  'track_href': 'https://api.spotify.com/v1/tracks/3ZozFqJJlDBNIm4xqxn2ZD',\n  'analysis_url': 'https://api.spotify.com/v1/audio-analysis/3ZozFqJJlDBNIm4xqxn2ZD',\n  'duration_ms': 161853,\n  'time_signature': 4},\n {'danceability': 0.403,\n  'energy': 0.537,\n  'key': 3,\n  'loudness': -6.628,\n  'mode': 1,\n  'speechiness': 0.031,\n  'acousticness': 0.59,\n  'instrumentalness': 0,\n  'liveness': 0.112,\n  'valence': 0.414,\n  'tempo': 69.877,\n  'type': 'audio_features',\n  'id': '0uRrG2jRR5tuifsYIJHEao',\n  'uri': 'spotify:track:0uRrG2jRR5tuifsYIJHEao',\n  'track_href': 'https://api.spotify.com/v1/tracks/0uRrG2jRR5tuifsYIJHEao',\n  'analysis_url': 'https://api.spotify.com/v1/audio-analysis/0uRrG2jRR5tuifsYIJHEao',\n  'duration_ms': 202133,\n  'time_signature': 4},\n {'danceability': 0.795,\n  'energy': 0.526,\n  'key': 6,\n  'loudness': -9.086,\n  'mode': 0,\n  'speechiness': 0.204,\n  'acousticness': 0.067,\n  'instrumentalness': 2e-06,\n  'liveness': 0.134,\n  'valence': 0.194,\n  'tempo': 140.037,\n  'type': 'audio_features',\n  'id': '74C8vEwsNT5OTg8VQOsoUD',\n  'uri': 'spotify:track:74C8vEwsNT5OTg8VQOsoUD',\n  'track_href': 'https://api.spotify.com/v1/tracks/74C8vEwsNT5OTg8VQOsoUD',\n  'analysis_url': 'https://api.spotify.com/v1/audio-analysis/74C8vEwsNT5OTg8VQOsoUD',\n  'duration_ms': 181393,\n  'time_signature': 4},\n {'danceability': 0.773,\n  'energy': 0.422,\n  'key': 1,\n  'loudness': -4.572,\n  'mode': 0,\n  'speechiness': 0.187,\n  'acousticness': 0.00783,\n  'instrumentalness': 0.00693,\n  'liveness': 0.129,\n  'valence': 0.488,\n  'tempo': 77.502,\n  'type': 'audio_features',\n  'id': '3LnpBazWpD31QMTn6LgVGv',\n  'uri': 'spotify:track:3LnpBazWpD31QMTn6LgVGv',\n  'track_href': 'https://api.spotify.com/v1/tracks/3LnpBazWpD31QMTn6LgVGv',\n  'analysis_url': 'https://api.spotify.com/v1/audio-analysis/3LnpBazWpD31QMTn6LgVGv',\n  'duration_ms': 136267,\n  'time_signature': 1},\n {'danceability': 0.59,\n  'energy': 0.846,\n  'key': 4,\n  'loudness': -4.251,\n  'mode': 1,\n  'speechiness': 0.0396,\n  'acousticness': 0.182,\n  'instrumentalness': 0,\n  'liveness': 0.53,\n  'valence': 0.733,\n  'tempo': 146.028,\n  'type': 'audio_features',\n  'id': '19ZzEzb4BVK1wVO4brrmZz',\n  'uri': 'spotify:track:19ZzEzb4BVK1wVO4brrmZz',\n  'track_href': 'https://api.spotify.com/v1/tracks/19ZzEzb4BVK1wVO4brrmZz',\n  'analysis_url': 'https://api.spotify.com/v1/audio-analysis/19ZzEzb4BVK1wVO4brrmZz',\n  'duration_ms': 174681,\n  'time_signature': 4},\n {'danceability': 0.754,\n  'energy': 0.763,\n  'key': 7,\n  'loudness': -4.627,\n  'mode': 0,\n  'speechiness': 0.0435,\n  'acousticness': 0.0301,\n  'instrumentalness': 2.23e-05,\n  'liveness': 0.0901,\n  'valence': 0.464,\n  'tempo': 117.953,\n  'type': 'audio_features',\n  'id': '18asYwWugKjjsihZ0YvRxO',\n  'uri': 'spotify:track:18asYwWugKjjsihZ0YvRxO',\n  'track_href': 'https://api.spotify.com/v1/tracks/18asYwWugKjjsihZ0YvRxO',\n  'analysis_url': 'https://api.spotify.com/v1/audio-analysis/18asYwWugKjjsihZ0YvRxO',\n  'duration_ms': 164819,\n  'time_signature': 4},\n {'danceability': 0.614,\n  'energy': 0.644,\n  'key': 2,\n  'loudness': -5.372,\n  'mode': 0,\n  'speechiness': 0.0426,\n  'acousticness': 0.0134,\n  'instrumentalness': 7.07e-06,\n  'liveness': 0.117,\n  'valence': 0.651,\n  'tempo': 160.036,\n  'type': 'audio_features',\n  'id': '0IuVhCflrQPMGRrOyoY5RW',\n  'uri': 'spotify:track:0IuVhCflrQPMGRrOyoY5RW',\n  'track_href': 'https://api.spotify.com/v1/tracks/0IuVhCflrQPMGRrOyoY5RW',\n  'analysis_url': 'https://api.spotify.com/v1/audio-analysis/0IuVhCflrQPMGRrOyoY5RW',\n  'duration_ms': 206772,\n  'time_signature': 4},\n {'danceability': 0.603,\n  'energy': 0.691,\n  'key': 5,\n  'loudness': -5.805,\n  'mode': 1,\n  'speechiness': 0.0372,\n  'acousticness': 0.0248,\n  'instrumentalness': 0,\n  'liveness': 0.583,\n  'valence': 0.577,\n  'tempo': 147.148,\n  'type': 'audio_features',\n  'id': '0U1W2LZVUX7qTm7dDpqxh6',\n  'uri': 'spotify:track:0U1W2LZVUX7qTm7dDpqxh6',\n  'track_href': 'https://api.spotify.com/v1/tracks/0U1W2LZVUX7qTm7dDpqxh6',\n  'analysis_url': 'https://api.spotify.com/v1/audio-analysis/0U1W2LZVUX7qTm7dDpqxh6',\n  'duration_ms': 172267,\n  'time_signature': 4},\n {'danceability': 0.586,\n  'energy': 0.559,\n  'key': 4,\n  'loudness': -6.725,\n  'mode': 1,\n  'speechiness': 0.05,\n  'acousticness': 0.639,\n  'instrumentalness': 0,\n  'liveness': 0.0872,\n  'valence': 0.437,\n  'tempo': 177.945,\n  'type': 'audio_features',\n  'id': '69AIpwGNLxr4qS1X5ynx60',\n  'uri': 'spotify:track:69AIpwGNLxr4qS1X5ynx60',\n  'track_href': 'https://api.spotify.com/v1/tracks/69AIpwGNLxr4qS1X5ynx60',\n  'analysis_url': 'https://api.spotify.com/v1/audio-analysis/69AIpwGNLxr4qS1X5ynx60',\n  'duration_ms': 167480,\n  'time_signature': 4},\n {'danceability': 0.836,\n  'energy': 0.743,\n  'key': 10,\n  'loudness': -6.305,\n  'mode': 0,\n  'speechiness': 0.0656,\n  'acousticness': 0.0995,\n  'instrumentalness': 0,\n  'liveness': 0.335,\n  'valence': 0.722,\n  'tempo': 108.966,\n  'type': 'audio_features',\n  'id': '1PckUlxKqWQs3RlWXVBLw3',\n  'uri': 'spotify:track:1PckUlxKqWQs3RlWXVBLw3',\n  'track_href': 'https://api.spotify.com/v1/tracks/1PckUlxKqWQs3RlWXVBLw3',\n  'analysis_url': 'https://api.spotify.com/v1/audio-analysis/1PckUlxKqWQs3RlWXVBLw3',\n  'duration_ms': 191822,\n  'time_signature': 4},\n {'danceability': 0.87,\n  'energy': 0.835,\n  'key': 1,\n  'loudness': -5.875,\n  'mode': 1,\n  'speechiness': 0.311,\n  'acousticness': 0.0353,\n  'instrumentalness': 0,\n  'liveness': 0.142,\n  'valence': 0.901,\n  'tempo': 140.051,\n  'type': 'audio_features',\n  'id': '0RkCnqwF8Tfl2QGPZwopyk',\n  'uri': 'spotify:track:0RkCnqwF8Tfl2QGPZwopyk',\n  'track_href': 'https://api.spotify.com/v1/tracks/0RkCnqwF8Tfl2QGPZwopyk',\n  'analysis_url': 'https://api.spotify.com/v1/audio-analysis/0RkCnqwF8Tfl2QGPZwopyk',\n  'duration_ms': 118249,\n  'time_signature': 4},\n {'danceability': 0.69,\n  'energy': 0.626,\n  'key': 6,\n  'loudness': -5.693,\n  'mode': 1,\n  'speechiness': 0.306,\n  'acousticness': 0.105,\n  'instrumentalness': 0.000335,\n  'liveness': 0.0881,\n  'valence': 0.912,\n  'tempo': 184.009,\n  'type': 'audio_features',\n  'id': '1BSMpVGWs3v5BZKnAQziAc',\n  'uri': 'spotify:track:1BSMpVGWs3v5BZKnAQziAc',\n  'track_href': 'https://api.spotify.com/v1/tracks/1BSMpVGWs3v5BZKnAQziAc',\n  'analysis_url': 'https://api.spotify.com/v1/audio-analysis/1BSMpVGWs3v5BZKnAQziAc',\n  'duration_ms': 185681,\n  'time_signature': 4},\n {'danceability': 0.575,\n  'energy': 0.644,\n  'key': 6,\n  'loudness': -5.68,\n  'mode': 0,\n  'speechiness': 0.0309,\n  'acousticness': 0.271,\n  'instrumentalness': 0,\n  'liveness': 0.131,\n  'valence': 0.626,\n  'tempo': 80.07,\n  'type': 'audio_features',\n  'id': '6F7UOC6fPWOkPqybOWBHSv',\n  'uri': 'spotify:track:6F7UOC6fPWOkPqybOWBHSv',\n  'track_href': 'https://api.spotify.com/v1/tracks/6F7UOC6fPWOkPqybOWBHSv',\n  'analysis_url': 'https://api.spotify.com/v1/audio-analysis/6F7UOC6fPWOkPqybOWBHSv',\n  'duration_ms': 195013,\n  'time_signature': 4},\n {'danceability': 0.956,\n  'energy': 0.417,\n  'key': 7,\n  'loudness': -7.892,\n  'mode': 0,\n  'speechiness': 0.0926,\n  'acousticness': 0.572,\n  'instrumentalness': 0.00071,\n  'liveness': 0.0782,\n  'valence': 0.714,\n  'tempo': 108.015,\n  'type': 'audio_features',\n  'id': '3s1KwrLP0NlFWiWbjz6bfQ',\n  'uri': 'spotify:track:3s1KwrLP0NlFWiWbjz6bfQ',\n  'track_href': 'https://api.spotify.com/v1/tracks/3s1KwrLP0NlFWiWbjz6bfQ',\n  'analysis_url': 'https://api.spotify.com/v1/audio-analysis/3s1KwrLP0NlFWiWbjz6bfQ',\n  'duration_ms': 187111,\n  'time_signature': 4},\n {'danceability': 0.684,\n  'energy': 0.449,\n  'key': 3,\n  'loudness': -9.738,\n  'mode': 1,\n  'speechiness': 0.611,\n  'acousticness': 0.869,\n  'instrumentalness': 0,\n  'liveness': 0.0881,\n  'valence': 0.341,\n  'tempo': 66.165,\n  'type': 'audio_features',\n  'id': '6Z165JvPnS8PYvGW8oLGLc',\n  'uri': 'spotify:track:6Z165JvPnS8PYvGW8oLGLc',\n  'track_href': 'https://api.spotify.com/v1/tracks/6Z165JvPnS8PYvGW8oLGLc',\n  'analysis_url': 'https://api.spotify.com/v1/audio-analysis/6Z165JvPnS8PYvGW8oLGLc',\n  'duration_ms': 157373,\n  'time_signature': 4},\n {'danceability': 0.677,\n  'energy': 0.557,\n  'key': 1,\n  'loudness': -8.409,\n  'mode': 1,\n  'speechiness': 0.0694,\n  'acousticness': 0.00508,\n  'instrumentalness': 8.36e-06,\n  'liveness': 0.0984,\n  'valence': 0.1,\n  'tempo': 150.127,\n  'type': 'audio_features',\n  'id': '62Yo3FDddWY8ydu6PW2wyz',\n  'uri': 'spotify:track:62Yo3FDddWY8ydu6PW2wyz',\n  'track_href': 'https://api.spotify.com/v1/tracks/62Yo3FDddWY8ydu6PW2wyz',\n  'analysis_url': 'https://api.spotify.com/v1/audio-analysis/62Yo3FDddWY8ydu6PW2wyz',\n  'duration_ms': 206385,\n  'time_signature': 4},\n {'danceability': 0.799,\n  'energy': 0.653,\n  'key': 2,\n  'loudness': -5.453,\n  'mode': 0,\n  'speechiness': 0.037,\n  'acousticness': 0.019,\n  'instrumentalness': 0,\n  'liveness': 0.0935,\n  'valence': 0.236,\n  'tempo': 104.019,\n  'type': 'audio_features',\n  'id': '3vySEUpD0tc801F2WZDLYw',\n  'uri': 'spotify:track:3vySEUpD0tc801F2WZDLYw',\n  'track_href': 'https://api.spotify.com/v1/tracks/3vySEUpD0tc801F2WZDLYw',\n  'analysis_url': 'https://api.spotify.com/v1/audio-analysis/3vySEUpD0tc801F2WZDLYw',\n  'duration_ms': 215281,\n  'time_signature': 4},\n {'danceability': 0.641,\n  'energy': 0.78,\n  'key': 3,\n  'loudness': -5.138,\n  'mode': 1,\n  'speechiness': 0.0852,\n  'acousticness': 0.0206,\n  'instrumentalness': 0,\n  'liveness': 0.143,\n  'valence': 0.693,\n  'tempo': 98.004,\n  'type': 'audio_features',\n  'id': '4PuAqZlL1tkidkuxfDlLbF',\n  'uri': 'spotify:track:4PuAqZlL1tkidkuxfDlLbF',\n  'track_href': 'https://api.spotify.com/v1/tracks/4PuAqZlL1tkidkuxfDlLbF',\n  'analysis_url': 'https://api.spotify.com/v1/audio-analysis/4PuAqZlL1tkidkuxfDlLbF',\n  'duration_ms': 179720,\n  'time_signature': 4},\n {'danceability': 0.582,\n  'energy': 0.797,\n  'key': 5,\n  'loudness': -4.926,\n  'mode': 1,\n  'speechiness': 0.0334,\n  'acousticness': 0.23,\n  'instrumentalness': 0,\n  'liveness': 0.132,\n  'valence': 0.595,\n  'tempo': 135.973,\n  'type': 'audio_features',\n  'id': '4lSNyiHil3tuiwtvEpN1qq',\n  'uri': 'spotify:track:4lSNyiHil3tuiwtvEpN1qq',\n  'track_href': 'https://api.spotify.com/v1/tracks/4lSNyiHil3tuiwtvEpN1qq',\n  'analysis_url': 'https://api.spotify.com/v1/audio-analysis/4lSNyiHil3tuiwtvEpN1qq',\n  'duration_ms': 196027,\n  'time_signature': 4},\n {'danceability': 0.659,\n  'energy': 0.745,\n  'key': 10,\n  'loudness': -3.599,\n  'mode': 1,\n  'speechiness': 0.0347,\n  'acousticness': 0.0417,\n  'instrumentalness': 0,\n  'liveness': 0.296,\n  'valence': 0.54,\n  'tempo': 74.967,\n  'type': 'audio_features',\n  'id': '3DZ8dbKg4OTSSqGARvecYd',\n  'uri': 'spotify:track:3DZ8dbKg4OTSSqGARvecYd',\n  'track_href': 'https://api.spotify.com/v1/tracks/3DZ8dbKg4OTSSqGARvecYd',\n  'analysis_url': 'https://api.spotify.com/v1/audio-analysis/3DZ8dbKg4OTSSqGARvecYd',\n  'duration_ms': 185600,\n  'time_signature': 4},\n {'danceability': 0.653,\n  'energy': 0.927,\n  'key': 8,\n  'loudness': -4.699,\n  'mode': 1,\n  'speechiness': 0.0289,\n  'acousticness': 0.0352,\n  'instrumentalness': 4.47e-05,\n  'liveness': 0.0966,\n  'valence': 0.894,\n  'tempo': 119.97,\n  'type': 'audio_features',\n  'id': '0ysCB1Jg4hli0XlEWlipo7',\n  'uri': 'spotify:track:0ysCB1Jg4hli0XlEWlipo7',\n  'track_href': 'https://api.spotify.com/v1/tracks/0ysCB1Jg4hli0XlEWlipo7',\n  'analysis_url': 'https://api.spotify.com/v1/audio-analysis/0ysCB1Jg4hli0XlEWlipo7',\n  'duration_ms': 258800,\n  'time_signature': 4},\n {'danceability': 0.707,\n  'energy': 0.618,\n  'key': 1,\n  'loudness': -5.825,\n  'mode': 0,\n  'speechiness': 0.19,\n  'acousticness': 0.17,\n  'instrumentalness': 0,\n  'liveness': 0.293,\n  'valence': 0.517,\n  'tempo': 133.876,\n  'type': 'audio_features',\n  'id': '08SB2OtZkaliju77WYEKxk',\n  'uri': 'spotify:track:08SB2OtZkaliju77WYEKxk',\n  'track_href': 'https://api.spotify.com/v1/tracks/08SB2OtZkaliju77WYEKxk',\n  'analysis_url': 'https://api.spotify.com/v1/audio-analysis/08SB2OtZkaliju77WYEKxk',\n  'duration_ms': 231498,\n  'time_signature': 4},\n {'danceability': 0.65,\n  'energy': 0.584,\n  'key': 2,\n  'loudness': -8.286,\n  'mode': 1,\n  'speechiness': 0.307,\n  'acousticness': 0.0174,\n  'instrumentalness': 1.54e-06,\n  'liveness': 0.042,\n  'valence': 0.37,\n  'tempo': 180.088,\n  'type': 'audio_features',\n  'id': '760jhRscwGbIIe1m1IIQpU',\n  'uri': 'spotify:track:760jhRscwGbIIe1m1IIQpU',\n  'track_href': 'https://api.spotify.com/v1/tracks/760jhRscwGbIIe1m1IIQpU',\n  'analysis_url': 'https://api.spotify.com/v1/audio-analysis/760jhRscwGbIIe1m1IIQpU',\n  'duration_ms': 202227,\n  'time_signature': 4},\n {'danceability': 0.464,\n  'energy': 0.755,\n  'key': 4,\n  'loudness': -5.707,\n  'mode': 1,\n  'speechiness': 0.0354,\n  'acousticness': 0.00838,\n  'instrumentalness': 0,\n  'liveness': 0.0989,\n  'valence': 0.449,\n  'tempo': 155.973,\n  'type': 'audio_features',\n  'id': '1fff5nZGyRJtFLkOrSSwOU',\n  'uri': 'spotify:track:1fff5nZGyRJtFLkOrSSwOU',\n  'track_href': 'https://api.spotify.com/v1/tracks/1fff5nZGyRJtFLkOrSSwOU',\n  'analysis_url': 'https://api.spotify.com/v1/audio-analysis/1fff5nZGyRJtFLkOrSSwOU',\n  'duration_ms': 216764,\n  'time_signature': 4},\n {'danceability': 0.527,\n  'energy': 0.461,\n  'key': 7,\n  'loudness': -5.908,\n  'mode': 1,\n  'speechiness': 0.0269,\n  'acousticness': 0.118,\n  'instrumentalness': 0,\n  'liveness': 0.0831,\n  'valence': 0.227,\n  'tempo': 128.153,\n  'type': 'audio_features',\n  'id': '2ccuOtUjIyx3tPcsnpeBzJ',\n  'uri': 'spotify:track:2ccuOtUjIyx3tPcsnpeBzJ',\n  'track_href': 'https://api.spotify.com/v1/tracks/2ccuOtUjIyx3tPcsnpeBzJ',\n  'analysis_url': 'https://api.spotify.com/v1/audio-analysis/2ccuOtUjIyx3tPcsnpeBzJ',\n  'duration_ms': 214405,\n  'time_signature': 3},\n {'danceability': 0.553,\n  'energy': 0.609,\n  'key': 1,\n  'loudness': -6.436,\n  'mode': 1,\n  'speechiness': 0.0469,\n  'acousticness': 0.151,\n  'instrumentalness': 0,\n  'liveness': 0.112,\n  'valence': 0.471,\n  'tempo': 73.903,\n  'type': 'audio_features',\n  'id': '3TuMOIzXkhKFDNHyQ7Mo8J',\n  'uri': 'spotify:track:3TuMOIzXkhKFDNHyQ7Mo8J',\n  'track_href': 'https://api.spotify.com/v1/tracks/3TuMOIzXkhKFDNHyQ7Mo8J',\n  'analysis_url': 'https://api.spotify.com/v1/audio-analysis/3TuMOIzXkhKFDNHyQ7Mo8J',\n  'duration_ms': 214416,\n  'time_signature': 4},\n {'danceability': 0.532,\n  'energy': 0.572,\n  'key': 1,\n  'loudness': -6.794,\n  'mode': 1,\n  'speechiness': 0.421,\n  'acousticness': 0.00984,\n  'instrumentalness': 0,\n  'liveness': 0.143,\n  'valence': 0.369,\n  'tempo': 160.517,\n  'type': 'audio_features',\n  'id': '1qlh1WxuWilyIWRwdsKMuJ',\n  'uri': 'spotify:track:1qlh1WxuWilyIWRwdsKMuJ',\n  'track_href': 'https://api.spotify.com/v1/tracks/1qlh1WxuWilyIWRwdsKMuJ',\n  'analysis_url': 'https://api.spotify.com/v1/audio-analysis/1qlh1WxuWilyIWRwdsKMuJ',\n  'duration_ms': 225664,\n  'time_signature': 4},\n {'danceability': 0.676,\n  'energy': 0.61,\n  'key': 1,\n  'loudness': -9.185,\n  'mode': 1,\n  'speechiness': 0.273,\n  'acousticness': 0.000114,\n  'instrumentalness': 1.73e-06,\n  'liveness': 0.191,\n  'valence': 0.519,\n  'tempo': 156.005,\n  'type': 'audio_features',\n  'id': '3NxnbR3bu97hzAbHPInWJm',\n  'uri': 'spotify:track:3NxnbR3bu97hzAbHPInWJm',\n  'track_href': 'https://api.spotify.com/v1/tracks/3NxnbR3bu97hzAbHPInWJm',\n  'analysis_url': 'https://api.spotify.com/v1/audio-analysis/3NxnbR3bu97hzAbHPInWJm',\n  'duration_ms': 186538,\n  'time_signature': 4},\n {'danceability': 0.639,\n  'energy': 0.843,\n  'key': 11,\n  'loudness': -4.975,\n  'mode': 1,\n  'speechiness': 0.0362,\n  'acousticness': 0.0525,\n  'instrumentalness': 0,\n  'liveness': 0.0854,\n  'valence': 0.528,\n  'tempo': 126.047,\n  'type': 'audio_features',\n  'id': '2bVeUlOC5JjTpkQXuUUoYm',\n  'uri': 'spotify:track:2bVeUlOC5JjTpkQXuUUoYm',\n  'track_href': 'https://api.spotify.com/v1/tracks/2bVeUlOC5JjTpkQXuUUoYm',\n  'analysis_url': 'https://api.spotify.com/v1/audio-analysis/2bVeUlOC5JjTpkQXuUUoYm',\n  'duration_ms': 217802,\n  'time_signature': 4},\n {'danceability': 0.891,\n  'energy': 0.62,\n  'key': 8,\n  'loudness': -6.822,\n  'mode': 1,\n  'speechiness': 0.157,\n  'acousticness': 0.176,\n  'instrumentalness': 1.59e-06,\n  'liveness': 0.103,\n  'valence': 0.535,\n  'tempo': 82.035,\n  'type': 'audio_features',\n  'id': '0vp1sk3FzuDBeLMLcRhQdL',\n  'uri': 'spotify:track:0vp1sk3FzuDBeLMLcRhQdL',\n  'track_href': 'https://api.spotify.com/v1/tracks/0vp1sk3FzuDBeLMLcRhQdL',\n  'analysis_url': 'https://api.spotify.com/v1/audio-analysis/0vp1sk3FzuDBeLMLcRhQdL',\n  'duration_ms': 143415,\n  'time_signature': 4},\n {'danceability': 0.812,\n  'energy': 0.736,\n  'key': 4,\n  'loudness': -5.421,\n  'mode': 0,\n  'speechiness': 0.0833,\n  'acousticness': 0.152,\n  'instrumentalness': 0.00254,\n  'liveness': 0.0914,\n  'valence': 0.396,\n  'tempo': 91.993,\n  'type': 'audio_features',\n  'id': '3IAfUEeaXRX9s9UdKOJrFI',\n  'uri': 'spotify:track:3IAfUEeaXRX9s9UdKOJrFI',\n  'track_href': 'https://api.spotify.com/v1/tracks/3IAfUEeaXRX9s9UdKOJrFI',\n  'analysis_url': 'https://api.spotify.com/v1/audio-analysis/3IAfUEeaXRX9s9UdKOJrFI',\n  'duration_ms': 193806,\n  'time_signature': 4},\n {'danceability': 0.842,\n  'energy': 0.505,\n  'key': 1,\n  'loudness': -8.627,\n  'mode': 0,\n  'speechiness': 0.402,\n  'acousticness': 0.472,\n  'instrumentalness': 0.000322,\n  'liveness': 0.117,\n  'valence': 0.538,\n  'tempo': 119.993,\n  'type': 'audio_features',\n  'id': '1PNs0uGru3TcrA94kpyGnc',\n  'uri': 'spotify:track:1PNs0uGru3TcrA94kpyGnc',\n  'track_href': 'https://api.spotify.com/v1/tracks/1PNs0uGru3TcrA94kpyGnc',\n  'analysis_url': 'https://api.spotify.com/v1/audio-analysis/1PNs0uGru3TcrA94kpyGnc',\n  'duration_ms': 207065,\n  'time_signature': 4},\n {'danceability': 0.912,\n  'energy': 0.655,\n  'key': 8,\n  'loudness': -6.029,\n  'mode': 0,\n  'speechiness': 0.162,\n  'acousticness': 0.315,\n  'instrumentalness': 3.39e-05,\n  'liveness': 0.0894,\n  'valence': 0.793,\n  'tempo': 91.942,\n  'type': 'audio_features',\n  'id': '0W6I02J9xcqK8MtSeosEXb',\n  'uri': 'spotify:track:0W6I02J9xcqK8MtSeosEXb',\n  'track_href': 'https://api.spotify.com/v1/tracks/0W6I02J9xcqK8MtSeosEXb',\n  'analysis_url': 'https://api.spotify.com/v1/audio-analysis/0W6I02J9xcqK8MtSeosEXb',\n  'duration_ms': 138293,\n  'time_signature': 4},\n {'danceability': 0.688,\n  'energy': 0.842,\n  'key': 2,\n  'loudness': -4.211,\n  'mode': 1,\n  'speechiness': 0.264,\n  'acousticness': 0.0499,\n  'instrumentalness': 0,\n  'liveness': 0.241,\n  'valence': 0.416,\n  'tempo': 159.897,\n  'type': 'audio_features',\n  'id': '0P2P1AxcRYhiZvoF5MyRmM',\n  'uri': 'spotify:track:0P2P1AxcRYhiZvoF5MyRmM',\n  'track_href': 'https://api.spotify.com/v1/tracks/0P2P1AxcRYhiZvoF5MyRmM',\n  'analysis_url': 'https://api.spotify.com/v1/audio-analysis/0P2P1AxcRYhiZvoF5MyRmM',\n  'duration_ms': 185856,\n  'time_signature': 4},\n {'danceability': 0.559,\n  'energy': 0.66,\n  'key': 7,\n  'loudness': -4.143,\n  'mode': 1,\n  'speechiness': 0.0512,\n  'acousticness': 0.222,\n  'instrumentalness': 0,\n  'liveness': 0.193,\n  'valence': 0.574,\n  'tempo': 163.957,\n  'type': 'audio_features',\n  'id': '2afB4eV1KWBqLqFqME6PTh',\n  'uri': 'spotify:track:2afB4eV1KWBqLqFqME6PTh',\n  'track_href': 'https://api.spotify.com/v1/tracks/2afB4eV1KWBqLqFqME6PTh',\n  'analysis_url': 'https://api.spotify.com/v1/audio-analysis/2afB4eV1KWBqLqFqME6PTh',\n  'duration_ms': 157907,\n  'time_signature': 4},\n {'danceability': 0.523,\n  'energy': 0.64,\n  'key': 4,\n  'loudness': -6.15,\n  'mode': 1,\n  'speechiness': 0.0295,\n  'acousticness': 0.0512,\n  'instrumentalness': 5.52e-05,\n  'liveness': 0.0675,\n  'valence': 0.48,\n  'tempo': 144.022,\n  'type': 'audio_features',\n  'id': '4jp9FimhP2bQ93vR0A5r7b',\n  'uri': 'spotify:track:4jp9FimhP2bQ93vR0A5r7b',\n  'track_href': 'https://api.spotify.com/v1/tracks/4jp9FimhP2bQ93vR0A5r7b',\n  'analysis_url': 'https://api.spotify.com/v1/audio-analysis/4jp9FimhP2bQ93vR0A5r7b',\n  'duration_ms': 230227,\n  'time_signature': 4},\n {'danceability': 0.591,\n  'energy': 0.814,\n  'key': 4,\n  'loudness': -4.986,\n  'mode': 1,\n  'speechiness': 0.0468,\n  'acousticness': 0.015,\n  'instrumentalness': 0,\n  'liveness': 0.117,\n  'valence': 0.815,\n  'tempo': 149.9,\n  'type': 'audio_features',\n  'id': '13G5xv1wUKvJYbK0wYmioN',\n  'uri': 'spotify:track:13G5xv1wUKvJYbK0wYmioN',\n  'track_href': 'https://api.spotify.com/v1/tracks/13G5xv1wUKvJYbK0wYmioN',\n  'analysis_url': 'https://api.spotify.com/v1/audio-analysis/13G5xv1wUKvJYbK0wYmioN',\n  'duration_ms': 195760,\n  'time_signature': 4},\n {'danceability': 0.684,\n  'energy': 0.545,\n  'key': 1,\n  'loudness': -6.885,\n  'mode': 1,\n  'speechiness': 0.121,\n  'acousticness': 0.159,\n  'instrumentalness': 0,\n  'liveness': 0.102,\n  'valence': 0.407,\n  'tempo': 143.049,\n  'type': 'audio_features',\n  'id': '1HvTxgCj0mTzQlEo0zLvFb',\n  'uri': 'spotify:track:1HvTxgCj0mTzQlEo0zLvFb',\n  'track_href': 'https://api.spotify.com/v1/tracks/1HvTxgCj0mTzQlEo0zLvFb',\n  'analysis_url': 'https://api.spotify.com/v1/audio-analysis/1HvTxgCj0mTzQlEo0zLvFb',\n  'duration_ms': 135264,\n  'time_signature': 4},\n {'danceability': 0.912,\n  'energy': 0.722,\n  'key': 9,\n  'loudness': -6.527,\n  'mode': 0,\n  'speechiness': 0.152,\n  'acousticness': 0.125,\n  'instrumentalness': 0,\n  'liveness': 0.0872,\n  'valence': 0.734,\n  'tempo': 105.008,\n  'type': 'audio_features',\n  'id': '6WdfqDzpz3XkvMSlPVc0U8',\n  'uri': 'spotify:track:6WdfqDzpz3XkvMSlPVc0U8',\n  'track_href': 'https://api.spotify.com/v1/tracks/6WdfqDzpz3XkvMSlPVc0U8',\n  'analysis_url': 'https://api.spotify.com/v1/audio-analysis/6WdfqDzpz3XkvMSlPVc0U8',\n  'duration_ms': 160959,\n  'time_signature': 4},\n {'danceability': 0.708,\n  'energy': 0.449,\n  'key': 4,\n  'loudness': -4.369,\n  'mode': 0,\n  'speechiness': 0.0286,\n  'acousticness': 0.451,\n  'instrumentalness': 0,\n  'liveness': 0.111,\n  'valence': 0.63,\n  'tempo': 84.396,\n  'type': 'audio_features',\n  'id': '6HJIZUOiZDE814XMhRGSZN',\n  'uri': 'spotify:track:6HJIZUOiZDE814XMhRGSZN',\n  'track_href': 'https://api.spotify.com/v1/tracks/6HJIZUOiZDE814XMhRGSZN',\n  'analysis_url': 'https://api.spotify.com/v1/audio-analysis/6HJIZUOiZDE814XMhRGSZN',\n  'duration_ms': 214000,\n  'time_signature': 1},\n {'danceability': 0.575,\n  'energy': 0.648,\n  'key': 10,\n  'loudness': -4.891,\n  'mode': 1,\n  'speechiness': 0.0358,\n  'acousticness': 0.583,\n  'instrumentalness': 0,\n  'liveness': 0.115,\n  'valence': 0.466,\n  'tempo': 75.977,\n  'type': 'audio_features',\n  'id': '4SqWKzw0CbA05TGszDgMlc',\n  'uri': 'spotify:track:4SqWKzw0CbA05TGszDgMlc',\n  'track_href': 'https://api.spotify.com/v1/tracks/4SqWKzw0CbA05TGszDgMlc',\n  'analysis_url': 'https://api.spotify.com/v1/audio-analysis/4SqWKzw0CbA05TGszDgMlc',\n  'duration_ms': 160240,\n  'time_signature': 4},\n {'danceability': 0.487,\n  'energy': 0.796,\n  'key': 7,\n  'loudness': -3.9,\n  'mode': 0,\n  'speechiness': 0.0339,\n  'acousticness': 0.0197,\n  'instrumentalness': 0.000192,\n  'liveness': 0.327,\n  'valence': 0.44,\n  'tempo': 76.037,\n  'type': 'audio_features',\n  'id': '5EDtmgwR1lDmDGLZraNpJg',\n  'uri': 'spotify:track:5EDtmgwR1lDmDGLZraNpJg',\n  'track_href': 'https://api.spotify.com/v1/tracks/5EDtmgwR1lDmDGLZraNpJg',\n  'analysis_url': 'https://api.spotify.com/v1/audio-analysis/5EDtmgwR1lDmDGLZraNpJg',\n  'duration_ms': 221693,\n  'time_signature': 4},\n {'danceability': 0.563,\n  'energy': 0.724,\n  'key': 2,\n  'loudness': -4.651,\n  'mode': 1,\n  'speechiness': 0.347,\n  'acousticness': 0.0831,\n  'instrumentalness': 0,\n  'liveness': 0.237,\n  'valence': 0.486,\n  'tempo': 93.006,\n  'type': 'audio_features',\n  'id': '4SCdkCFsbnQD6qnVc9l5Bt',\n  'uri': 'spotify:track:4SCdkCFsbnQD6qnVc9l5Bt',\n  'track_href': 'https://api.spotify.com/v1/tracks/4SCdkCFsbnQD6qnVc9l5Bt',\n  'analysis_url': 'https://api.spotify.com/v1/audio-analysis/4SCdkCFsbnQD6qnVc9l5Bt',\n  'duration_ms': 134845,\n  'time_signature': 4},\n {'danceability': 0.474,\n  'energy': 0.801,\n  'key': 8,\n  'loudness': -5.978,\n  'mode': 0,\n  'speechiness': 0.375,\n  'acousticness': 0.102,\n  'instrumentalness': 0,\n  'liveness': 0.322,\n  'valence': 0.497,\n  'tempo': 147.356,\n  'type': 'audio_features',\n  'id': '4huBDGP4I3S0pYI0EaRN1c',\n  'uri': 'spotify:track:4huBDGP4I3S0pYI0EaRN1c',\n  'track_href': 'https://api.spotify.com/v1/tracks/4huBDGP4I3S0pYI0EaRN1c',\n  'analysis_url': 'https://api.spotify.com/v1/audio-analysis/4huBDGP4I3S0pYI0EaRN1c',\n  'duration_ms': 256000,\n  'time_signature': 4},\n {'danceability': 0.398,\n  'energy': 0.519,\n  'key': 7,\n  'loudness': -6.926,\n  'mode': 1,\n  'speechiness': 0.0315,\n  'acousticness': 0.0573,\n  'instrumentalness': 1.86e-05,\n  'liveness': 0.191,\n  'valence': 0.133,\n  'tempo': 81.377,\n  'type': 'audio_features',\n  'id': '1Y8COP6Oqef3UxIONvzx6I',\n  'uri': 'spotify:track:1Y8COP6Oqef3UxIONvzx6I',\n  'track_href': 'https://api.spotify.com/v1/tracks/1Y8COP6Oqef3UxIONvzx6I',\n  'analysis_url': 'https://api.spotify.com/v1/audio-analysis/1Y8COP6Oqef3UxIONvzx6I',\n  'duration_ms': 206361,\n  'time_signature': 4},\n {'danceability': 0.447,\n  'energy': 0.538,\n  'key': 5,\n  'loudness': -7.258,\n  'mode': 1,\n  'speechiness': 0.0338,\n  'acousticness': 0.119,\n  'instrumentalness': 0,\n  'liveness': 0.188,\n  'valence': 0.453,\n  'tempo': 123.746,\n  'type': 'audio_features',\n  'id': '5J8AKBaUq1WHrzrm9YWlP3',\n  'uri': 'spotify:track:5J8AKBaUq1WHrzrm9YWlP3',\n  'track_href': 'https://api.spotify.com/v1/tracks/5J8AKBaUq1WHrzrm9YWlP3',\n  'analysis_url': 'https://api.spotify.com/v1/audio-analysis/5J8AKBaUq1WHrzrm9YWlP3',\n  'duration_ms': 214239,\n  'time_signature': 3},\n {'danceability': 0.773,\n  'energy': 0.742,\n  'key': 5,\n  'loudness': -3.678,\n  'mode': 0,\n  'speechiness': 0.046,\n  'acousticness': 0.0206,\n  'instrumentalness': 0,\n  'liveness': 0.0754,\n  'valence': 0.571,\n  'tempo': 114.071,\n  'type': 'audio_features',\n  'id': '0HqZX76SFLDz2aW8aiqi7G',\n  'uri': 'spotify:track:0HqZX76SFLDz2aW8aiqi7G',\n  'track_href': 'https://api.spotify.com/v1/tracks/0HqZX76SFLDz2aW8aiqi7G',\n  'analysis_url': 'https://api.spotify.com/v1/audio-analysis/0HqZX76SFLDz2aW8aiqi7G',\n  'duration_ms': 165265,\n  'time_signature': 4},\n {'danceability': 0.793,\n  'energy': 0.308,\n  'key': 0,\n  'loudness': -10.414,\n  'mode': 0,\n  'speechiness': 0.0466,\n  'acousticness': 0.613,\n  'instrumentalness': 1.68e-05,\n  'liveness': 0.0953,\n  'valence': 0.46,\n  'tempo': 135.143,\n  'type': 'audio_features',\n  'id': '7Fege3yv4dvehB3NdRBGwI',\n  'uri': 'spotify:track:7Fege3yv4dvehB3NdRBGwI',\n  'track_href': 'https://api.spotify.com/v1/tracks/7Fege3yv4dvehB3NdRBGwI',\n  'analysis_url': 'https://api.spotify.com/v1/audio-analysis/7Fege3yv4dvehB3NdRBGwI',\n  'duration_ms': 200000,\n  'time_signature': 4},\n {'danceability': 0.79,\n  'energy': 0.325,\n  'key': 4,\n  'loudness': -11.689,\n  'mode': 1,\n  'speechiness': 0.127,\n  'acousticness': 0.509,\n  'instrumentalness': 0,\n  'liveness': 0.155,\n  'valence': 0.539,\n  'tempo': 126.877,\n  'type': 'audio_features',\n  'id': '6VVqPBFZIbcmv14zNfOc13',\n  'uri': 'spotify:track:6VVqPBFZIbcmv14zNfOc13',\n  'track_href': 'https://api.spotify.com/v1/tracks/6VVqPBFZIbcmv14zNfOc13',\n  'analysis_url': 'https://api.spotify.com/v1/audio-analysis/6VVqPBFZIbcmv14zNfOc13',\n  'duration_ms': 163311,\n  'time_signature': 4},\n {'danceability': 0.85,\n  'energy': 0.658,\n  'key': 0,\n  'loudness': -5.558,\n  'mode': 1,\n  'speechiness': 0.221,\n  'acousticness': 0.139,\n  'instrumentalness': 0,\n  'liveness': 0.063,\n  'valence': 0.832,\n  'tempo': 144.445,\n  'type': 'audio_features',\n  'id': '6ElfCM1XppU0YWkkFYh4s2',\n  'uri': 'spotify:track:6ElfCM1XppU0YWkkFYh4s2',\n  'track_href': 'https://api.spotify.com/v1/tracks/6ElfCM1XppU0YWkkFYh4s2',\n  'analysis_url': 'https://api.spotify.com/v1/audio-analysis/6ElfCM1XppU0YWkkFYh4s2',\n  'duration_ms': 193279,\n  'time_signature': 4},\n {'danceability': 0.869,\n  'energy': 0.694,\n  'key': 1,\n  'loudness': -3.35,\n  'mode': 0,\n  'speechiness': 0.0783,\n  'acousticness': 0.356,\n  'instrumentalness': 0.00125,\n  'liveness': 0.0878,\n  'valence': 0.511,\n  'tempo': 90.02,\n  'type': 'audio_features',\n  'id': '6ZOcbKub95XSDESsKKuH41',\n  'uri': 'spotify:track:6ZOcbKub95XSDESsKKuH41',\n  'track_href': 'https://api.spotify.com/v1/tracks/6ZOcbKub95XSDESsKKuH41',\n  'analysis_url': 'https://api.spotify.com/v1/audio-analysis/6ZOcbKub95XSDESsKKuH41',\n  'duration_ms': 224997,\n  'time_signature': 4},\n {'danceability': 0.677,\n  'energy': 0.541,\n  'key': 6,\n  'loudness': -6.057,\n  'mode': 0,\n  'speechiness': 0.0571,\n  'acousticness': 0.48,\n  'instrumentalness': 0,\n  'liveness': 0.125,\n  'valence': 0.379,\n  'tempo': 103.369,\n  'type': 'audio_features',\n  'id': '1DOgkaR5Gqa8JtPEIbQORC',\n  'uri': 'spotify:track:1DOgkaR5Gqa8JtPEIbQORC',\n  'track_href': 'https://api.spotify.com/v1/tracks/1DOgkaR5Gqa8JtPEIbQORC',\n  'analysis_url': 'https://api.spotify.com/v1/audio-analysis/1DOgkaR5Gqa8JtPEIbQORC',\n  'duration_ms': 205276,\n  'time_signature': 4},\n {'danceability': 0.594,\n  'energy': 0.628,\n  'key': 1,\n  'loudness': -6.345,\n  'mode': 1,\n  'speechiness': 0.359,\n  'acousticness': 0.12,\n  'instrumentalness': 0,\n  'liveness': 0.0582,\n  'valence': 0.556,\n  'tempo': 141.391,\n  'type': 'audio_features',\n  'id': '4b1yxSdlumA8N4fEk4UOZp',\n  'uri': 'spotify:track:4b1yxSdlumA8N4fEk4UOZp',\n  'track_href': 'https://api.spotify.com/v1/tracks/4b1yxSdlumA8N4fEk4UOZp',\n  'analysis_url': 'https://api.spotify.com/v1/audio-analysis/4b1yxSdlumA8N4fEk4UOZp',\n  'duration_ms': 257213,\n  'time_signature': 4},\n {'danceability': 0.662,\n  'energy': 0.655,\n  'key': 2,\n  'loudness': -5.44,\n  'mode': 1,\n  'speechiness': 0.26,\n  'acousticness': 0.462,\n  'instrumentalness': 0,\n  'liveness': 0.124,\n  'valence': 0.356,\n  'tempo': 82.079,\n  'type': 'audio_features',\n  'id': '3pEINn37iH5fx8TpXYNGIO',\n  'uri': 'spotify:track:3pEINn37iH5fx8TpXYNGIO',\n  'track_href': 'https://api.spotify.com/v1/tracks/3pEINn37iH5fx8TpXYNGIO',\n  'analysis_url': 'https://api.spotify.com/v1/audio-analysis/3pEINn37iH5fx8TpXYNGIO',\n  'duration_ms': 226374,\n  'time_signature': 4},\n {'danceability': 0.423,\n  'energy': 0.355,\n  'key': 0,\n  'loudness': -10.565,\n  'mode': 1,\n  'speechiness': 0.0454,\n  'acousticness': 0.761,\n  'instrumentalness': 0,\n  'liveness': 0.0915,\n  'valence': 0.465,\n  'tempo': 93.788,\n  'type': 'audio_features',\n  'id': '5rohUzwEoRsUvAA1Bf3DLo',\n  'uri': 'spotify:track:5rohUzwEoRsUvAA1Bf3DLo',\n  'track_href': 'https://api.spotify.com/v1/tracks/5rohUzwEoRsUvAA1Bf3DLo',\n  'analysis_url': 'https://api.spotify.com/v1/audio-analysis/5rohUzwEoRsUvAA1Bf3DLo',\n  'duration_ms': 214613,\n  'time_signature': 4},\n {'danceability': 0.828,\n  'energy': 0.591,\n  'key': 1,\n  'loudness': -6.217,\n  'mode': 1,\n  'speechiness': 0.109,\n  'acousticness': 0.0199,\n  'instrumentalness': 0.000323,\n  'liveness': 0.361,\n  'valence': 0.202,\n  'tempo': 119.251,\n  'type': 'audio_features',\n  'id': '0lEjxUUlKqjqXrVlIHFduD',\n  'uri': 'spotify:track:0lEjxUUlKqjqXrVlIHFduD',\n  'track_href': 'https://api.spotify.com/v1/tracks/0lEjxUUlKqjqXrVlIHFduD',\n  'analysis_url': 'https://api.spotify.com/v1/audio-analysis/0lEjxUUlKqjqXrVlIHFduD',\n  'duration_ms': 193347,\n  'time_signature': 4},\n {'danceability': 0.693,\n  'energy': 0.575,\n  'key': 2,\n  'loudness': -7.633,\n  'mode': 1,\n  'speechiness': 0.0906,\n  'acousticness': 0.121,\n  'instrumentalness': 0,\n  'liveness': 0.104,\n  'valence': 0.353,\n  'tempo': 138.016,\n  'type': 'audio_features',\n  'id': '7BbaIYAdi3pg4MGl6PHwPv',\n  'uri': 'spotify:track:7BbaIYAdi3pg4MGl6PHwPv',\n  'track_href': 'https://api.spotify.com/v1/tracks/7BbaIYAdi3pg4MGl6PHwPv',\n  'analysis_url': 'https://api.spotify.com/v1/audio-analysis/7BbaIYAdi3pg4MGl6PHwPv',\n  'duration_ms': 160052,\n  'time_signature': 4},\n {'danceability': 0.916,\n  'energy': 0.824,\n  'key': 8,\n  'loudness': -4.444,\n  'mode': 0,\n  'speechiness': 0.422,\n  'acousticness': 0.222,\n  'instrumentalness': 0.00108,\n  'liveness': 0.0661,\n  'valence': 0.87,\n  'tempo': 139.926,\n  'type': 'audio_features',\n  'id': '7LczcBaamU9pTkV4Cl9NyX',\n  'uri': 'spotify:track:7LczcBaamU9pTkV4Cl9NyX',\n  'track_href': 'https://api.spotify.com/v1/tracks/7LczcBaamU9pTkV4Cl9NyX',\n  'analysis_url': 'https://api.spotify.com/v1/audio-analysis/7LczcBaamU9pTkV4Cl9NyX',\n  'duration_ms': 178413,\n  'time_signature': 4},\n {'danceability': 0.524,\n  'energy': 0.643,\n  'key': 9,\n  'loudness': -6.055,\n  'mode': 1,\n  'speechiness': 0.0297,\n  'acousticness': 0.451,\n  'instrumentalness': 0,\n  'liveness': 0.221,\n  'valence': 0.397,\n  'tempo': 135.962,\n  'type': 'audio_features',\n  'id': '5gVCfYmQRPy1QJifP8f5gg',\n  'uri': 'spotify:track:5gVCfYmQRPy1QJifP8f5gg',\n  'track_href': 'https://api.spotify.com/v1/tracks/5gVCfYmQRPy1QJifP8f5gg',\n  'analysis_url': 'https://api.spotify.com/v1/audio-analysis/5gVCfYmQRPy1QJifP8f5gg',\n  'duration_ms': 232059,\n  'time_signature': 4},\n {'danceability': 0.812,\n  'energy': 0.855,\n  'key': 7,\n  'loudness': -3.725,\n  'mode': 1,\n  'speechiness': 0.0554,\n  'acousticness': 0.0789,\n  'instrumentalness': 0.000167,\n  'liveness': 0.108,\n  'valence': 0.573,\n  'tempo': 90.04,\n  'type': 'audio_features',\n  'id': '48AJSd42lXpicsGqcgopof',\n  'uri': 'spotify:track:48AJSd42lXpicsGqcgopof',\n  'track_href': 'https://api.spotify.com/v1/tracks/48AJSd42lXpicsGqcgopof',\n  'analysis_url': 'https://api.spotify.com/v1/audio-analysis/48AJSd42lXpicsGqcgopof',\n  'duration_ms': 192477,\n  'time_signature': 4}]"
     },
     "metadata": {}
    }
   ]
  },
  {
   "cell_type": "code",
   "metadata": {
    "cell_id": "7396aa9ffbe24d77bb33ec61ad24e25e",
    "tags": [],
    "deepnote_to_be_reexecuted": false,
    "source_hash": "19d93ce8",
    "execution_start": 1652379304635,
    "execution_millis": 53,
    "deepnote_cell_type": "code",
    "deepnote_cell_height": 639.625,
    "deepnote_output_heights": [
     176.953125
    ]
   },
   "source": "att_df = pd.DataFrame.from_records(track_features)\natt_df.head()",
   "execution_count": null,
   "outputs": [
    {
     "output_type": "execute_result",
     "execution_count": 16,
     "data": {
      "text/plain": "   danceability  energy  key  loudness  mode  speechiness  acousticness  \\\n0         0.463   0.642    1    -4.474     1       0.3400         0.314   \n1         0.810   0.655    8    -6.779     0       0.0698         0.127   \n2         0.431   0.349    7    -9.426     1       0.0325         0.434   \n3         0.464   0.445    4    -8.507     0       0.2380         0.215   \n4         0.388   0.448    8    -5.221     0       0.0341         0.851   \n\n   instrumentalness  liveness  valence    tempo            type  \\\n0          0.000000    0.0686    0.339   83.389  audio_features   \n1          0.000082    0.1050    0.809  150.002  audio_features   \n2          0.000070    0.2410    0.165   62.627  audio_features   \n3          0.000000    0.4950    0.181   94.140  audio_features   \n4          0.000000    0.3020    0.397  142.342  audio_features   \n\n                       id                                   uri  \\\n0  59nOXPmaKlBfGMDeOVGrIK  spotify:track:59nOXPmaKlBfGMDeOVGrIK   \n1  2KdKh9vHbKW0tZLqtpxxI0  spotify:track:2KdKh9vHbKW0tZLqtpxxI0   \n2  6LL5S3DGrUJ6cZRuDefguP  spotify:track:6LL5S3DGrUJ6cZRuDefguP   \n3  6w93UfN5MeXXQTrVIf5V6x  spotify:track:6w93UfN5MeXXQTrVIf5V6x   \n4  6pyM30WDpG70VTfwoQg4m2  spotify:track:6pyM30WDpG70VTfwoQg4m2   \n\n                                          track_href  \\\n0  https://api.spotify.com/v1/tracks/59nOXPmaKlBf...   \n1  https://api.spotify.com/v1/tracks/2KdKh9vHbKW0...   \n2  https://api.spotify.com/v1/tracks/6LL5S3DGrUJ6...   \n3  https://api.spotify.com/v1/tracks/6w93UfN5MeXX...   \n4  https://api.spotify.com/v1/tracks/6pyM30WDpG70...   \n\n                                        analysis_url  duration_ms  \\\n0  https://api.spotify.com/v1/audio-analysis/59nO...       189893   \n1  https://api.spotify.com/v1/audio-analysis/2KdK...       193322   \n2  https://api.spotify.com/v1/audio-analysis/6LL5...       187027   \n3  https://api.spotify.com/v1/audio-analysis/6w93...       218320   \n4  https://api.spotify.com/v1/audio-analysis/6pyM...       207551   \n\n   time_signature  \n0               4  \n1               4  \n2               3  \n3               4  \n4               5  ",
      "text/html": "<div>\n<style scoped>\n    .dataframe tbody tr th:only-of-type {\n        vertical-align: middle;\n    }\n\n    .dataframe tbody tr th {\n        vertical-align: top;\n    }\n\n    .dataframe thead th {\n        text-align: right;\n    }\n</style>\n<table border=\"1\" class=\"dataframe\">\n  <thead>\n    <tr style=\"text-align: right;\">\n      <th></th>\n      <th>danceability</th>\n      <th>energy</th>\n      <th>key</th>\n      <th>loudness</th>\n      <th>mode</th>\n      <th>speechiness</th>\n      <th>acousticness</th>\n      <th>instrumentalness</th>\n      <th>liveness</th>\n      <th>valence</th>\n      <th>tempo</th>\n      <th>type</th>\n      <th>id</th>\n      <th>uri</th>\n      <th>track_href</th>\n      <th>analysis_url</th>\n      <th>duration_ms</th>\n      <th>time_signature</th>\n    </tr>\n  </thead>\n  <tbody>\n    <tr>\n      <th>0</th>\n      <td>0.463</td>\n      <td>0.642</td>\n      <td>1</td>\n      <td>-4.474</td>\n      <td>1</td>\n      <td>0.3400</td>\n      <td>0.314</td>\n      <td>0.000000</td>\n      <td>0.0686</td>\n      <td>0.339</td>\n      <td>83.389</td>\n      <td>audio_features</td>\n      <td>59nOXPmaKlBfGMDeOVGrIK</td>\n      <td>spotify:track:59nOXPmaKlBfGMDeOVGrIK</td>\n      <td>https://api.spotify.com/v1/tracks/59nOXPmaKlBf...</td>\n      <td>https://api.spotify.com/v1/audio-analysis/59nO...</td>\n      <td>189893</td>\n      <td>4</td>\n    </tr>\n    <tr>\n      <th>1</th>\n      <td>0.810</td>\n      <td>0.655</td>\n      <td>8</td>\n      <td>-6.779</td>\n      <td>0</td>\n      <td>0.0698</td>\n      <td>0.127</td>\n      <td>0.000082</td>\n      <td>0.1050</td>\n      <td>0.809</td>\n      <td>150.002</td>\n      <td>audio_features</td>\n      <td>2KdKh9vHbKW0tZLqtpxxI0</td>\n      <td>spotify:track:2KdKh9vHbKW0tZLqtpxxI0</td>\n      <td>https://api.spotify.com/v1/tracks/2KdKh9vHbKW0...</td>\n      <td>https://api.spotify.com/v1/audio-analysis/2KdK...</td>\n      <td>193322</td>\n      <td>4</td>\n    </tr>\n    <tr>\n      <th>2</th>\n      <td>0.431</td>\n      <td>0.349</td>\n      <td>7</td>\n      <td>-9.426</td>\n      <td>1</td>\n      <td>0.0325</td>\n      <td>0.434</td>\n      <td>0.000070</td>\n      <td>0.2410</td>\n      <td>0.165</td>\n      <td>62.627</td>\n      <td>audio_features</td>\n      <td>6LL5S3DGrUJ6cZRuDefguP</td>\n      <td>spotify:track:6LL5S3DGrUJ6cZRuDefguP</td>\n      <td>https://api.spotify.com/v1/tracks/6LL5S3DGrUJ6...</td>\n      <td>https://api.spotify.com/v1/audio-analysis/6LL5...</td>\n      <td>187027</td>\n      <td>3</td>\n    </tr>\n    <tr>\n      <th>3</th>\n      <td>0.464</td>\n      <td>0.445</td>\n      <td>4</td>\n      <td>-8.507</td>\n      <td>0</td>\n      <td>0.2380</td>\n      <td>0.215</td>\n      <td>0.000000</td>\n      <td>0.4950</td>\n      <td>0.181</td>\n      <td>94.140</td>\n      <td>audio_features</td>\n      <td>6w93UfN5MeXXQTrVIf5V6x</td>\n      <td>spotify:track:6w93UfN5MeXXQTrVIf5V6x</td>\n      <td>https://api.spotify.com/v1/tracks/6w93UfN5MeXX...</td>\n      <td>https://api.spotify.com/v1/audio-analysis/6w93...</td>\n      <td>218320</td>\n      <td>4</td>\n    </tr>\n    <tr>\n      <th>4</th>\n      <td>0.388</td>\n      <td>0.448</td>\n      <td>8</td>\n      <td>-5.221</td>\n      <td>0</td>\n      <td>0.0341</td>\n      <td>0.851</td>\n      <td>0.000000</td>\n      <td>0.3020</td>\n      <td>0.397</td>\n      <td>142.342</td>\n      <td>audio_features</td>\n      <td>6pyM30WDpG70VTfwoQg4m2</td>\n      <td>spotify:track:6pyM30WDpG70VTfwoQg4m2</td>\n      <td>https://api.spotify.com/v1/tracks/6pyM30WDpG70...</td>\n      <td>https://api.spotify.com/v1/audio-analysis/6pyM...</td>\n      <td>207551</td>\n      <td>5</td>\n    </tr>\n  </tbody>\n</table>\n</div>"
     },
     "metadata": {}
    },
    {
     "output_type": "execute_result",
     "execution_count": 12,
     "data": {
      "application/vnd.deepnote.dataframe.v3+json": {
       "column_count": 18,
       "row_count": 5,
       "columns": [
        {
         "name": "danceability",
         "dtype": "float64",
         "stats": {
          "unique_count": 5,
          "nan_count": 0,
          "min": "0.388",
          "max": "0.81",
          "histogram": [
           {
            "bin_start": 0.388,
            "bin_end": 0.4302,
            "count": 1
           },
           {
            "bin_start": 0.4302,
            "bin_end": 0.47240000000000004,
            "count": 3
           },
           {
            "bin_start": 0.47240000000000004,
            "bin_end": 0.5146,
            "count": 0
           },
           {
            "bin_start": 0.5146,
            "bin_end": 0.5568,
            "count": 0
           },
           {
            "bin_start": 0.5568,
            "bin_end": 0.599,
            "count": 0
           },
           {
            "bin_start": 0.599,
            "bin_end": 0.6412,
            "count": 0
           },
           {
            "bin_start": 0.6412,
            "bin_end": 0.6834,
            "count": 0
           },
           {
            "bin_start": 0.6834,
            "bin_end": 0.7256,
            "count": 0
           },
           {
            "bin_start": 0.7256,
            "bin_end": 0.7678,
            "count": 0
           },
           {
            "bin_start": 0.7678,
            "bin_end": 0.81,
            "count": 1
           }
          ]
         }
        },
        {
         "name": "energy",
         "dtype": "float64",
         "stats": {
          "unique_count": 5,
          "nan_count": 0,
          "min": "0.349",
          "max": "0.655",
          "histogram": [
           {
            "bin_start": 0.349,
            "bin_end": 0.3796,
            "count": 1
           },
           {
            "bin_start": 0.3796,
            "bin_end": 0.4102,
            "count": 0
           },
           {
            "bin_start": 0.4102,
            "bin_end": 0.44079999999999997,
            "count": 0
           },
           {
            "bin_start": 0.44079999999999997,
            "bin_end": 0.4714,
            "count": 2
           },
           {
            "bin_start": 0.4714,
            "bin_end": 0.502,
            "count": 0
           },
           {
            "bin_start": 0.502,
            "bin_end": 0.5326,
            "count": 0
           },
           {
            "bin_start": 0.5326,
            "bin_end": 0.5632,
            "count": 0
           },
           {
            "bin_start": 0.5632,
            "bin_end": 0.5938,
            "count": 0
           },
           {
            "bin_start": 0.5938,
            "bin_end": 0.6244000000000001,
            "count": 0
           },
           {
            "bin_start": 0.6244000000000001,
            "bin_end": 0.655,
            "count": 2
           }
          ]
         }
        },
        {
         "name": "key",
         "dtype": "int64",
         "stats": {
          "unique_count": 4,
          "nan_count": 0,
          "min": "1",
          "max": "8",
          "histogram": [
           {
            "bin_start": 1,
            "bin_end": 1.7,
            "count": 1
           },
           {
            "bin_start": 1.7,
            "bin_end": 2.4,
            "count": 0
           },
           {
            "bin_start": 2.4,
            "bin_end": 3.0999999999999996,
            "count": 0
           },
           {
            "bin_start": 3.0999999999999996,
            "bin_end": 3.8,
            "count": 0
           },
           {
            "bin_start": 3.8,
            "bin_end": 4.5,
            "count": 1
           },
           {
            "bin_start": 4.5,
            "bin_end": 5.199999999999999,
            "count": 0
           },
           {
            "bin_start": 5.199999999999999,
            "bin_end": 5.8999999999999995,
            "count": 0
           },
           {
            "bin_start": 5.8999999999999995,
            "bin_end": 6.6,
            "count": 0
           },
           {
            "bin_start": 6.6,
            "bin_end": 7.3,
            "count": 1
           },
           {
            "bin_start": 7.3,
            "bin_end": 8,
            "count": 2
           }
          ]
         }
        },
        {
         "name": "loudness",
         "dtype": "float64",
         "stats": {
          "unique_count": 5,
          "nan_count": 0,
          "min": "-9.426",
          "max": "-4.474",
          "histogram": [
           {
            "bin_start": -9.426,
            "bin_end": -8.9308,
            "count": 1
           },
           {
            "bin_start": -8.9308,
            "bin_end": -8.4356,
            "count": 1
           },
           {
            "bin_start": -8.4356,
            "bin_end": -7.9404,
            "count": 0
           },
           {
            "bin_start": -7.9404,
            "bin_end": -7.4452,
            "count": 0
           },
           {
            "bin_start": -7.4452,
            "bin_end": -6.95,
            "count": 0
           },
           {
            "bin_start": -6.95,
            "bin_end": -6.4548000000000005,
            "count": 1
           },
           {
            "bin_start": -6.4548000000000005,
            "bin_end": -5.9596,
            "count": 0
           },
           {
            "bin_start": -5.9596,
            "bin_end": -5.4644,
            "count": 0
           },
           {
            "bin_start": -5.4644,
            "bin_end": -4.969200000000001,
            "count": 1
           },
           {
            "bin_start": -4.969200000000001,
            "bin_end": -4.474,
            "count": 1
           }
          ]
         }
        },
        {
         "name": "mode",
         "dtype": "int64",
         "stats": {
          "unique_count": 2,
          "nan_count": 0,
          "min": "0",
          "max": "1",
          "histogram": [
           {
            "bin_start": 0,
            "bin_end": 0.1,
            "count": 3
           },
           {
            "bin_start": 0.1,
            "bin_end": 0.2,
            "count": 0
           },
           {
            "bin_start": 0.2,
            "bin_end": 0.30000000000000004,
            "count": 0
           },
           {
            "bin_start": 0.30000000000000004,
            "bin_end": 0.4,
            "count": 0
           },
           {
            "bin_start": 0.4,
            "bin_end": 0.5,
            "count": 0
           },
           {
            "bin_start": 0.5,
            "bin_end": 0.6000000000000001,
            "count": 0
           },
           {
            "bin_start": 0.6000000000000001,
            "bin_end": 0.7000000000000001,
            "count": 0
           },
           {
            "bin_start": 0.7000000000000001,
            "bin_end": 0.8,
            "count": 0
           },
           {
            "bin_start": 0.8,
            "bin_end": 0.9,
            "count": 0
           },
           {
            "bin_start": 0.9,
            "bin_end": 1,
            "count": 2
           }
          ]
         }
        },
        {
         "name": "speechiness",
         "dtype": "float64",
         "stats": {
          "unique_count": 5,
          "nan_count": 0,
          "min": "0.0325",
          "max": "0.34",
          "histogram": [
           {
            "bin_start": 0.0325,
            "bin_end": 0.06325,
            "count": 2
           },
           {
            "bin_start": 0.06325,
            "bin_end": 0.094,
            "count": 1
           },
           {
            "bin_start": 0.094,
            "bin_end": 0.12475,
            "count": 0
           },
           {
            "bin_start": 0.12475,
            "bin_end": 0.1555,
            "count": 0
           },
           {
            "bin_start": 0.1555,
            "bin_end": 0.18625,
            "count": 0
           },
           {
            "bin_start": 0.18625,
            "bin_end": 0.217,
            "count": 0
           },
           {
            "bin_start": 0.217,
            "bin_end": 0.24775,
            "count": 1
           },
           {
            "bin_start": 0.24775,
            "bin_end": 0.27849999999999997,
            "count": 0
           },
           {
            "bin_start": 0.27849999999999997,
            "bin_end": 0.30925,
            "count": 0
           },
           {
            "bin_start": 0.30925,
            "bin_end": 0.34,
            "count": 1
           }
          ]
         }
        },
        {
         "name": "acousticness",
         "dtype": "float64",
         "stats": {
          "unique_count": 5,
          "nan_count": 0,
          "min": "0.127",
          "max": "0.851",
          "histogram": [
           {
            "bin_start": 0.127,
            "bin_end": 0.1994,
            "count": 1
           },
           {
            "bin_start": 0.1994,
            "bin_end": 0.2718,
            "count": 1
           },
           {
            "bin_start": 0.2718,
            "bin_end": 0.34419999999999995,
            "count": 1
           },
           {
            "bin_start": 0.34419999999999995,
            "bin_end": 0.41659999999999997,
            "count": 0
           },
           {
            "bin_start": 0.41659999999999997,
            "bin_end": 0.489,
            "count": 1
           },
           {
            "bin_start": 0.489,
            "bin_end": 0.5613999999999999,
            "count": 0
           },
           {
            "bin_start": 0.5613999999999999,
            "bin_end": 0.6337999999999999,
            "count": 0
           },
           {
            "bin_start": 0.6337999999999999,
            "bin_end": 0.7061999999999999,
            "count": 0
           },
           {
            "bin_start": 0.7061999999999999,
            "bin_end": 0.7786,
            "count": 0
           },
           {
            "bin_start": 0.7786,
            "bin_end": 0.851,
            "count": 1
           }
          ]
         }
        },
        {
         "name": "instrumentalness",
         "dtype": "float64",
         "stats": {
          "unique_count": 3,
          "nan_count": 0,
          "min": "0.0",
          "max": "8.16e-05",
          "histogram": [
           {
            "bin_start": 0,
            "bin_end": 0.00000816,
            "count": 3
           },
           {
            "bin_start": 0.00000816,
            "bin_end": 0.00001632,
            "count": 0
           },
           {
            "bin_start": 0.00001632,
            "bin_end": 0.00002448,
            "count": 0
           },
           {
            "bin_start": 0.00002448,
            "bin_end": 0.00003264,
            "count": 0
           },
           {
            "bin_start": 0.00003264,
            "bin_end": 0.0000408,
            "count": 0
           },
           {
            "bin_start": 0.0000408,
            "bin_end": 0.00004896,
            "count": 0
           },
           {
            "bin_start": 0.00004896,
            "bin_end": 0.000057119999999999995,
            "count": 0
           },
           {
            "bin_start": 0.000057119999999999995,
            "bin_end": 0.00006528,
            "count": 0
           },
           {
            "bin_start": 0.00006528,
            "bin_end": 0.00007344,
            "count": 1
           },
           {
            "bin_start": 0.00007344,
            "bin_end": 0.0000816,
            "count": 1
           }
          ]
         }
        },
        {
         "name": "liveness",
         "dtype": "float64",
         "stats": {
          "unique_count": 5,
          "nan_count": 0,
          "min": "0.0686",
          "max": "0.495",
          "histogram": [
           {
            "bin_start": 0.0686,
            "bin_end": 0.11123999999999999,
            "count": 2
           },
           {
            "bin_start": 0.11123999999999999,
            "bin_end": 0.15388,
            "count": 0
           },
           {
            "bin_start": 0.15388,
            "bin_end": 0.19651999999999997,
            "count": 0
           },
           {
            "bin_start": 0.19651999999999997,
            "bin_end": 0.23915999999999998,
            "count": 0
           },
           {
            "bin_start": 0.23915999999999998,
            "bin_end": 0.2818,
            "count": 1
           },
           {
            "bin_start": 0.2818,
            "bin_end": 0.32443999999999995,
            "count": 1
           },
           {
            "bin_start": 0.32443999999999995,
            "bin_end": 0.36707999999999996,
            "count": 0
           },
           {
            "bin_start": 0.36707999999999996,
            "bin_end": 0.40972,
            "count": 0
           },
           {
            "bin_start": 0.40972,
            "bin_end": 0.45236,
            "count": 0
           },
           {
            "bin_start": 0.45236,
            "bin_end": 0.495,
            "count": 1
           }
          ]
         }
        },
        {
         "name": "valence",
         "dtype": "float64",
         "stats": {
          "unique_count": 5,
          "nan_count": 0,
          "min": "0.165",
          "max": "0.809",
          "histogram": [
           {
            "bin_start": 0.165,
            "bin_end": 0.2294,
            "count": 2
           },
           {
            "bin_start": 0.2294,
            "bin_end": 0.2938,
            "count": 0
           },
           {
            "bin_start": 0.2938,
            "bin_end": 0.35819999999999996,
            "count": 1
           },
           {
            "bin_start": 0.35819999999999996,
            "bin_end": 0.4226,
            "count": 1
           },
           {
            "bin_start": 0.4226,
            "bin_end": 0.487,
            "count": 0
           },
           {
            "bin_start": 0.487,
            "bin_end": 0.5514,
            "count": 0
           },
           {
            "bin_start": 0.5514,
            "bin_end": 0.6158,
            "count": 0
           },
           {
            "bin_start": 0.6158,
            "bin_end": 0.6802,
            "count": 0
           },
           {
            "bin_start": 0.6802,
            "bin_end": 0.7446,
            "count": 0
           },
           {
            "bin_start": 0.7446,
            "bin_end": 0.809,
            "count": 1
           }
          ]
         }
        },
        {
         "name": "tempo",
         "dtype": "float64",
         "stats": {
          "unique_count": 5,
          "nan_count": 0,
          "min": "62.627",
          "max": "150.002",
          "histogram": [
           {
            "bin_start": 62.627,
            "bin_end": 71.3645,
            "count": 1
           },
           {
            "bin_start": 71.3645,
            "bin_end": 80.102,
            "count": 0
           },
           {
            "bin_start": 80.102,
            "bin_end": 88.8395,
            "count": 1
           },
           {
            "bin_start": 88.8395,
            "bin_end": 97.577,
            "count": 1
           },
           {
            "bin_start": 97.577,
            "bin_end": 106.31450000000001,
            "count": 0
           },
           {
            "bin_start": 106.31450000000001,
            "bin_end": 115.052,
            "count": 0
           },
           {
            "bin_start": 115.052,
            "bin_end": 123.7895,
            "count": 0
           },
           {
            "bin_start": 123.7895,
            "bin_end": 132.52700000000002,
            "count": 0
           },
           {
            "bin_start": 132.52700000000002,
            "bin_end": 141.2645,
            "count": 0
           },
           {
            "bin_start": 141.2645,
            "bin_end": 150.002,
            "count": 2
           }
          ]
         }
        },
        {
         "name": "type",
         "dtype": "object",
         "stats": {
          "unique_count": 1,
          "nan_count": 0,
          "categories": [
           {
            "name": "audio_features",
            "count": 5
           }
          ]
         }
        },
        {
         "name": "id",
         "dtype": "object",
         "stats": {
          "unique_count": 5,
          "nan_count": 0,
          "categories": [
           {
            "name": "59nOXPmaKlBfGMDeOVGrIK",
            "count": 1
           },
           {
            "name": "2KdKh9vHbKW0tZLqtpxxI0",
            "count": 1
           },
           {
            "name": "3 others",
            "count": 3
           }
          ]
         }
        },
        {
         "name": "uri",
         "dtype": "object",
         "stats": {
          "unique_count": 5,
          "nan_count": 0,
          "categories": [
           {
            "name": "spotify:track:59nOXPmaKlBfGMDeOVGrIK",
            "count": 1
           },
           {
            "name": "spotify:track:2KdKh9vHbKW0tZLqtpxxI0",
            "count": 1
           },
           {
            "name": "3 others",
            "count": 3
           }
          ]
         }
        },
        {
         "name": "track_href",
         "dtype": "object",
         "stats": {
          "unique_count": 5,
          "nan_count": 0,
          "categories": [
           {
            "name": "https://api.spotify.com/v1/tracks/59nOXPmaKlBfGMDeOVGrIK",
            "count": 1
           },
           {
            "name": "https://api.spotify.com/v1/tracks/2KdKh9vHbKW0tZLqtpxxI0",
            "count": 1
           },
           {
            "name": "3 others",
            "count": 3
           }
          ]
         }
        },
        {
         "name": "analysis_url",
         "dtype": "object",
         "stats": {
          "unique_count": 5,
          "nan_count": 0,
          "categories": [
           {
            "name": "https://api.spotify.com/v1/audio-analysis/59nOXPmaKlBfGMDeOVGrIK",
            "count": 1
           },
           {
            "name": "https://api.spotify.com/v1/audio-analysis/2KdKh9vHbKW0tZLqtpxxI0",
            "count": 1
           },
           {
            "name": "3 others",
            "count": 3
           }
          ]
         }
        },
        {
         "name": "duration_ms",
         "dtype": "int64",
         "stats": {
          "unique_count": 5,
          "nan_count": 0,
          "min": "187027",
          "max": "218320",
          "histogram": [
           {
            "bin_start": 187027,
            "bin_end": 190156.3,
            "count": 2
           },
           {
            "bin_start": 190156.3,
            "bin_end": 193285.6,
            "count": 0
           },
           {
            "bin_start": 193285.6,
            "bin_end": 196414.9,
            "count": 1
           },
           {
            "bin_start": 196414.9,
            "bin_end": 199544.2,
            "count": 0
           },
           {
            "bin_start": 199544.2,
            "bin_end": 202673.5,
            "count": 0
           },
           {
            "bin_start": 202673.5,
            "bin_end": 205802.8,
            "count": 0
           },
           {
            "bin_start": 205802.8,
            "bin_end": 208932.1,
            "count": 1
           },
           {
            "bin_start": 208932.1,
            "bin_end": 212061.4,
            "count": 0
           },
           {
            "bin_start": 212061.4,
            "bin_end": 215190.7,
            "count": 0
           },
           {
            "bin_start": 215190.7,
            "bin_end": 218320,
            "count": 1
           }
          ]
         }
        },
        {
         "name": "time_signature",
         "dtype": "int64",
         "stats": {
          "unique_count": 3,
          "nan_count": 0,
          "min": "3",
          "max": "5",
          "histogram": [
           {
            "bin_start": 3,
            "bin_end": 3.2,
            "count": 1
           },
           {
            "bin_start": 3.2,
            "bin_end": 3.4,
            "count": 0
           },
           {
            "bin_start": 3.4,
            "bin_end": 3.6,
            "count": 0
           },
           {
            "bin_start": 3.6,
            "bin_end": 3.8,
            "count": 0
           },
           {
            "bin_start": 3.8,
            "bin_end": 4,
            "count": 0
           },
           {
            "bin_start": 4,
            "bin_end": 4.2,
            "count": 3
           },
           {
            "bin_start": 4.2,
            "bin_end": 4.4,
            "count": 0
           },
           {
            "bin_start": 4.4,
            "bin_end": 4.6,
            "count": 0
           },
           {
            "bin_start": 4.6,
            "bin_end": 4.8,
            "count": 0
           },
           {
            "bin_start": 4.8,
            "bin_end": 5,
            "count": 1
           }
          ]
         }
        },
        {
         "name": "_deepnote_index_column",
         "dtype": "int64"
        }
       ],
       "rows": [
        {
         "danceability": 0.463,
         "energy": 0.642,
         "key": 1,
         "loudness": -4.474,
         "mode": 1,
         "speechiness": 0.34,
         "acousticness": 0.314,
         "instrumentalness": 0,
         "liveness": 0.0686,
         "valence": 0.339,
         "tempo": 83.389,
         "type": "audio_features",
         "id": "59nOXPmaKlBfGMDeOVGrIK",
         "uri": "spotify:track:59nOXPmaKlBfGMDeOVGrIK",
         "track_href": "https://api.spotify.com/v1/tracks/59nOXPmaKlBfGMDeOVGrIK",
         "analysis_url": "https://api.spotify.com/v1/audio-analysis/59nOXPmaKlBfGMDeOVGrIK",
         "duration_ms": 189893,
         "time_signature": 4,
         "_deepnote_index_column": 0
        },
        {
         "danceability": 0.81,
         "energy": 0.655,
         "key": 8,
         "loudness": -6.779,
         "mode": 0,
         "speechiness": 0.0698,
         "acousticness": 0.127,
         "instrumentalness": 0.0000816,
         "liveness": 0.105,
         "valence": 0.809,
         "tempo": 150.002,
         "type": "audio_features",
         "id": "2KdKh9vHbKW0tZLqtpxxI0",
         "uri": "spotify:track:2KdKh9vHbKW0tZLqtpxxI0",
         "track_href": "https://api.spotify.com/v1/tracks/2KdKh9vHbKW0tZLqtpxxI0",
         "analysis_url": "https://api.spotify.com/v1/audio-analysis/2KdKh9vHbKW0tZLqtpxxI0",
         "duration_ms": 193322,
         "time_signature": 4,
         "_deepnote_index_column": 1
        },
        {
         "danceability": 0.431,
         "energy": 0.349,
         "key": 7,
         "loudness": -9.426,
         "mode": 1,
         "speechiness": 0.0325,
         "acousticness": 0.434,
         "instrumentalness": 0.0000702,
         "liveness": 0.241,
         "valence": 0.165,
         "tempo": 62.627,
         "type": "audio_features",
         "id": "6LL5S3DGrUJ6cZRuDefguP",
         "uri": "spotify:track:6LL5S3DGrUJ6cZRuDefguP",
         "track_href": "https://api.spotify.com/v1/tracks/6LL5S3DGrUJ6cZRuDefguP",
         "analysis_url": "https://api.spotify.com/v1/audio-analysis/6LL5S3DGrUJ6cZRuDefguP",
         "duration_ms": 187027,
         "time_signature": 3,
         "_deepnote_index_column": 2
        },
        {
         "danceability": 0.464,
         "energy": 0.445,
         "key": 4,
         "loudness": -8.507,
         "mode": 0,
         "speechiness": 0.238,
         "acousticness": 0.215,
         "instrumentalness": 0,
         "liveness": 0.495,
         "valence": 0.181,
         "tempo": 94.14,
         "type": "audio_features",
         "id": "6w93UfN5MeXXQTrVIf5V6x",
         "uri": "spotify:track:6w93UfN5MeXXQTrVIf5V6x",
         "track_href": "https://api.spotify.com/v1/tracks/6w93UfN5MeXXQTrVIf5V6x",
         "analysis_url": "https://api.spotify.com/v1/audio-analysis/6w93UfN5MeXXQTrVIf5V6x",
         "duration_ms": 218320,
         "time_signature": 4,
         "_deepnote_index_column": 3
        },
        {
         "danceability": 0.388,
         "energy": 0.448,
         "key": 8,
         "loudness": -5.221,
         "mode": 0,
         "speechiness": 0.0341,
         "acousticness": 0.851,
         "instrumentalness": 0,
         "liveness": 0.302,
         "valence": 0.397,
         "tempo": 142.342,
         "type": "audio_features",
         "id": "6pyM30WDpG70VTfwoQg4m2",
         "uri": "spotify:track:6pyM30WDpG70VTfwoQg4m2",
         "track_href": "https://api.spotify.com/v1/tracks/6pyM30WDpG70VTfwoQg4m2",
         "analysis_url": "https://api.spotify.com/v1/audio-analysis/6pyM30WDpG70VTfwoQg4m2",
         "duration_ms": 207551,
         "time_signature": 5,
         "_deepnote_index_column": 4
        }
       ]
      },
      "text/plain": "   danceability  energy  key  loudness  mode  speechiness  acousticness  \\\n0         0.463   0.642    1    -4.474     1       0.3400         0.314   \n1         0.810   0.655    8    -6.779     0       0.0698         0.127   \n2         0.431   0.349    7    -9.426     1       0.0325         0.434   \n3         0.464   0.445    4    -8.507     0       0.2380         0.215   \n4         0.388   0.448    8    -5.221     0       0.0341         0.851   \n\n   instrumentalness  liveness  valence    tempo            type  \\\n0          0.000000    0.0686    0.339   83.389  audio_features   \n1          0.000082    0.1050    0.809  150.002  audio_features   \n2          0.000070    0.2410    0.165   62.627  audio_features   \n3          0.000000    0.4950    0.181   94.140  audio_features   \n4          0.000000    0.3020    0.397  142.342  audio_features   \n\n                       id                                   uri  \\\n0  59nOXPmaKlBfGMDeOVGrIK  spotify:track:59nOXPmaKlBfGMDeOVGrIK   \n1  2KdKh9vHbKW0tZLqtpxxI0  spotify:track:2KdKh9vHbKW0tZLqtpxxI0   \n2  6LL5S3DGrUJ6cZRuDefguP  spotify:track:6LL5S3DGrUJ6cZRuDefguP   \n3  6w93UfN5MeXXQTrVIf5V6x  spotify:track:6w93UfN5MeXXQTrVIf5V6x   \n4  6pyM30WDpG70VTfwoQg4m2  spotify:track:6pyM30WDpG70VTfwoQg4m2   \n\n                                          track_href  \\\n0  https://api.spotify.com/v1/tracks/59nOXPmaKlBf...   \n1  https://api.spotify.com/v1/tracks/2KdKh9vHbKW0...   \n2  https://api.spotify.com/v1/tracks/6LL5S3DGrUJ6...   \n3  https://api.spotify.com/v1/tracks/6w93UfN5MeXX...   \n4  https://api.spotify.com/v1/tracks/6pyM30WDpG70...   \n\n                                        analysis_url  duration_ms  \\\n0  https://api.spotify.com/v1/audio-analysis/59nO...       189893   \n1  https://api.spotify.com/v1/audio-analysis/2KdK...       193322   \n2  https://api.spotify.com/v1/audio-analysis/6LL5...       187027   \n3  https://api.spotify.com/v1/audio-analysis/6w93...       218320   \n4  https://api.spotify.com/v1/audio-analysis/6pyM...       207551   \n\n   time_signature  \n0               4  \n1               4  \n2               3  \n3               4  \n4               5  ",
      "text/html": "<div>\n<style scoped>\n    .dataframe tbody tr th:only-of-type {\n        vertical-align: middle;\n    }\n\n    .dataframe tbody tr th {\n        vertical-align: top;\n    }\n\n    .dataframe thead th {\n        text-align: right;\n    }\n</style>\n<table border=\"1\" class=\"dataframe\">\n  <thead>\n    <tr style=\"text-align: right;\">\n      <th></th>\n      <th>danceability</th>\n      <th>energy</th>\n      <th>key</th>\n      <th>loudness</th>\n      <th>mode</th>\n      <th>speechiness</th>\n      <th>acousticness</th>\n      <th>instrumentalness</th>\n      <th>liveness</th>\n      <th>valence</th>\n      <th>tempo</th>\n      <th>type</th>\n      <th>id</th>\n      <th>uri</th>\n      <th>track_href</th>\n      <th>analysis_url</th>\n      <th>duration_ms</th>\n      <th>time_signature</th>\n    </tr>\n  </thead>\n  <tbody>\n    <tr>\n      <th>0</th>\n      <td>0.463</td>\n      <td>0.642</td>\n      <td>1</td>\n      <td>-4.474</td>\n      <td>1</td>\n      <td>0.3400</td>\n      <td>0.314</td>\n      <td>0.000000</td>\n      <td>0.0686</td>\n      <td>0.339</td>\n      <td>83.389</td>\n      <td>audio_features</td>\n      <td>59nOXPmaKlBfGMDeOVGrIK</td>\n      <td>spotify:track:59nOXPmaKlBfGMDeOVGrIK</td>\n      <td>https://api.spotify.com/v1/tracks/59nOXPmaKlBf...</td>\n      <td>https://api.spotify.com/v1/audio-analysis/59nO...</td>\n      <td>189893</td>\n      <td>4</td>\n    </tr>\n    <tr>\n      <th>1</th>\n      <td>0.810</td>\n      <td>0.655</td>\n      <td>8</td>\n      <td>-6.779</td>\n      <td>0</td>\n      <td>0.0698</td>\n      <td>0.127</td>\n      <td>0.000082</td>\n      <td>0.1050</td>\n      <td>0.809</td>\n      <td>150.002</td>\n      <td>audio_features</td>\n      <td>2KdKh9vHbKW0tZLqtpxxI0</td>\n      <td>spotify:track:2KdKh9vHbKW0tZLqtpxxI0</td>\n      <td>https://api.spotify.com/v1/tracks/2KdKh9vHbKW0...</td>\n      <td>https://api.spotify.com/v1/audio-analysis/2KdK...</td>\n      <td>193322</td>\n      <td>4</td>\n    </tr>\n    <tr>\n      <th>2</th>\n      <td>0.431</td>\n      <td>0.349</td>\n      <td>7</td>\n      <td>-9.426</td>\n      <td>1</td>\n      <td>0.0325</td>\n      <td>0.434</td>\n      <td>0.000070</td>\n      <td>0.2410</td>\n      <td>0.165</td>\n      <td>62.627</td>\n      <td>audio_features</td>\n      <td>6LL5S3DGrUJ6cZRuDefguP</td>\n      <td>spotify:track:6LL5S3DGrUJ6cZRuDefguP</td>\n      <td>https://api.spotify.com/v1/tracks/6LL5S3DGrUJ6...</td>\n      <td>https://api.spotify.com/v1/audio-analysis/6LL5...</td>\n      <td>187027</td>\n      <td>3</td>\n    </tr>\n    <tr>\n      <th>3</th>\n      <td>0.464</td>\n      <td>0.445</td>\n      <td>4</td>\n      <td>-8.507</td>\n      <td>0</td>\n      <td>0.2380</td>\n      <td>0.215</td>\n      <td>0.000000</td>\n      <td>0.4950</td>\n      <td>0.181</td>\n      <td>94.140</td>\n      <td>audio_features</td>\n      <td>6w93UfN5MeXXQTrVIf5V6x</td>\n      <td>spotify:track:6w93UfN5MeXXQTrVIf5V6x</td>\n      <td>https://api.spotify.com/v1/tracks/6w93UfN5MeXX...</td>\n      <td>https://api.spotify.com/v1/audio-analysis/6w93...</td>\n      <td>218320</td>\n      <td>4</td>\n    </tr>\n    <tr>\n      <th>4</th>\n      <td>0.388</td>\n      <td>0.448</td>\n      <td>8</td>\n      <td>-5.221</td>\n      <td>0</td>\n      <td>0.0341</td>\n      <td>0.851</td>\n      <td>0.000000</td>\n      <td>0.3020</td>\n      <td>0.397</td>\n      <td>142.342</td>\n      <td>audio_features</td>\n      <td>6pyM30WDpG70VTfwoQg4m2</td>\n      <td>spotify:track:6pyM30WDpG70VTfwoQg4m2</td>\n      <td>https://api.spotify.com/v1/tracks/6pyM30WDpG70...</td>\n      <td>https://api.spotify.com/v1/audio-analysis/6pyM...</td>\n      <td>207551</td>\n      <td>5</td>\n    </tr>\n  </tbody>\n</table>\n</div>"
     },
     "metadata": {}
    }
   ]
  },
  {
   "cell_type": "code",
   "metadata": {
    "cell_id": "db845346cb434f87adfddde6054f27bc",
    "tags": [],
    "deepnote_to_be_reexecuted": false,
    "source_hash": "97de5d38",
    "execution_start": 1652379304690,
    "execution_millis": 68,
    "deepnote_cell_type": "code",
    "deepnote_cell_height": 657.625,
    "deepnote_output_heights": [
     176.953125
    ]
   },
   "source": "att_df.rename(columns = {\"uri\": \"track_uri\"}, \n          inplace = True)\natt_df.head()",
   "execution_count": null,
   "outputs": [
    {
     "output_type": "execute_result",
     "execution_count": 17,
     "data": {
      "text/plain": "   danceability  energy  key  loudness  mode  speechiness  acousticness  \\\n0         0.463   0.642    1    -4.474     1       0.3400         0.314   \n1         0.810   0.655    8    -6.779     0       0.0698         0.127   \n2         0.431   0.349    7    -9.426     1       0.0325         0.434   \n3         0.464   0.445    4    -8.507     0       0.2380         0.215   \n4         0.388   0.448    8    -5.221     0       0.0341         0.851   \n\n   instrumentalness  liveness  valence    tempo            type  \\\n0          0.000000    0.0686    0.339   83.389  audio_features   \n1          0.000082    0.1050    0.809  150.002  audio_features   \n2          0.000070    0.2410    0.165   62.627  audio_features   \n3          0.000000    0.4950    0.181   94.140  audio_features   \n4          0.000000    0.3020    0.397  142.342  audio_features   \n\n                       id                             track_uri  \\\n0  59nOXPmaKlBfGMDeOVGrIK  spotify:track:59nOXPmaKlBfGMDeOVGrIK   \n1  2KdKh9vHbKW0tZLqtpxxI0  spotify:track:2KdKh9vHbKW0tZLqtpxxI0   \n2  6LL5S3DGrUJ6cZRuDefguP  spotify:track:6LL5S3DGrUJ6cZRuDefguP   \n3  6w93UfN5MeXXQTrVIf5V6x  spotify:track:6w93UfN5MeXXQTrVIf5V6x   \n4  6pyM30WDpG70VTfwoQg4m2  spotify:track:6pyM30WDpG70VTfwoQg4m2   \n\n                                          track_href  \\\n0  https://api.spotify.com/v1/tracks/59nOXPmaKlBf...   \n1  https://api.spotify.com/v1/tracks/2KdKh9vHbKW0...   \n2  https://api.spotify.com/v1/tracks/6LL5S3DGrUJ6...   \n3  https://api.spotify.com/v1/tracks/6w93UfN5MeXX...   \n4  https://api.spotify.com/v1/tracks/6pyM30WDpG70...   \n\n                                        analysis_url  duration_ms  \\\n0  https://api.spotify.com/v1/audio-analysis/59nO...       189893   \n1  https://api.spotify.com/v1/audio-analysis/2KdK...       193322   \n2  https://api.spotify.com/v1/audio-analysis/6LL5...       187027   \n3  https://api.spotify.com/v1/audio-analysis/6w93...       218320   \n4  https://api.spotify.com/v1/audio-analysis/6pyM...       207551   \n\n   time_signature  \n0               4  \n1               4  \n2               3  \n3               4  \n4               5  ",
      "text/html": "<div>\n<style scoped>\n    .dataframe tbody tr th:only-of-type {\n        vertical-align: middle;\n    }\n\n    .dataframe tbody tr th {\n        vertical-align: top;\n    }\n\n    .dataframe thead th {\n        text-align: right;\n    }\n</style>\n<table border=\"1\" class=\"dataframe\">\n  <thead>\n    <tr style=\"text-align: right;\">\n      <th></th>\n      <th>danceability</th>\n      <th>energy</th>\n      <th>key</th>\n      <th>loudness</th>\n      <th>mode</th>\n      <th>speechiness</th>\n      <th>acousticness</th>\n      <th>instrumentalness</th>\n      <th>liveness</th>\n      <th>valence</th>\n      <th>tempo</th>\n      <th>type</th>\n      <th>id</th>\n      <th>track_uri</th>\n      <th>track_href</th>\n      <th>analysis_url</th>\n      <th>duration_ms</th>\n      <th>time_signature</th>\n    </tr>\n  </thead>\n  <tbody>\n    <tr>\n      <th>0</th>\n      <td>0.463</td>\n      <td>0.642</td>\n      <td>1</td>\n      <td>-4.474</td>\n      <td>1</td>\n      <td>0.3400</td>\n      <td>0.314</td>\n      <td>0.000000</td>\n      <td>0.0686</td>\n      <td>0.339</td>\n      <td>83.389</td>\n      <td>audio_features</td>\n      <td>59nOXPmaKlBfGMDeOVGrIK</td>\n      <td>spotify:track:59nOXPmaKlBfGMDeOVGrIK</td>\n      <td>https://api.spotify.com/v1/tracks/59nOXPmaKlBf...</td>\n      <td>https://api.spotify.com/v1/audio-analysis/59nO...</td>\n      <td>189893</td>\n      <td>4</td>\n    </tr>\n    <tr>\n      <th>1</th>\n      <td>0.810</td>\n      <td>0.655</td>\n      <td>8</td>\n      <td>-6.779</td>\n      <td>0</td>\n      <td>0.0698</td>\n      <td>0.127</td>\n      <td>0.000082</td>\n      <td>0.1050</td>\n      <td>0.809</td>\n      <td>150.002</td>\n      <td>audio_features</td>\n      <td>2KdKh9vHbKW0tZLqtpxxI0</td>\n      <td>spotify:track:2KdKh9vHbKW0tZLqtpxxI0</td>\n      <td>https://api.spotify.com/v1/tracks/2KdKh9vHbKW0...</td>\n      <td>https://api.spotify.com/v1/audio-analysis/2KdK...</td>\n      <td>193322</td>\n      <td>4</td>\n    </tr>\n    <tr>\n      <th>2</th>\n      <td>0.431</td>\n      <td>0.349</td>\n      <td>7</td>\n      <td>-9.426</td>\n      <td>1</td>\n      <td>0.0325</td>\n      <td>0.434</td>\n      <td>0.000070</td>\n      <td>0.2410</td>\n      <td>0.165</td>\n      <td>62.627</td>\n      <td>audio_features</td>\n      <td>6LL5S3DGrUJ6cZRuDefguP</td>\n      <td>spotify:track:6LL5S3DGrUJ6cZRuDefguP</td>\n      <td>https://api.spotify.com/v1/tracks/6LL5S3DGrUJ6...</td>\n      <td>https://api.spotify.com/v1/audio-analysis/6LL5...</td>\n      <td>187027</td>\n      <td>3</td>\n    </tr>\n    <tr>\n      <th>3</th>\n      <td>0.464</td>\n      <td>0.445</td>\n      <td>4</td>\n      <td>-8.507</td>\n      <td>0</td>\n      <td>0.2380</td>\n      <td>0.215</td>\n      <td>0.000000</td>\n      <td>0.4950</td>\n      <td>0.181</td>\n      <td>94.140</td>\n      <td>audio_features</td>\n      <td>6w93UfN5MeXXQTrVIf5V6x</td>\n      <td>spotify:track:6w93UfN5MeXXQTrVIf5V6x</td>\n      <td>https://api.spotify.com/v1/tracks/6w93UfN5MeXX...</td>\n      <td>https://api.spotify.com/v1/audio-analysis/6w93...</td>\n      <td>218320</td>\n      <td>4</td>\n    </tr>\n    <tr>\n      <th>4</th>\n      <td>0.388</td>\n      <td>0.448</td>\n      <td>8</td>\n      <td>-5.221</td>\n      <td>0</td>\n      <td>0.0341</td>\n      <td>0.851</td>\n      <td>0.000000</td>\n      <td>0.3020</td>\n      <td>0.397</td>\n      <td>142.342</td>\n      <td>audio_features</td>\n      <td>6pyM30WDpG70VTfwoQg4m2</td>\n      <td>spotify:track:6pyM30WDpG70VTfwoQg4m2</td>\n      <td>https://api.spotify.com/v1/tracks/6pyM30WDpG70...</td>\n      <td>https://api.spotify.com/v1/audio-analysis/6pyM...</td>\n      <td>207551</td>\n      <td>5</td>\n    </tr>\n  </tbody>\n</table>\n</div>"
     },
     "metadata": {}
    },
    {
     "output_type": "execute_result",
     "execution_count": 13,
     "data": {
      "application/vnd.deepnote.dataframe.v3+json": {
       "column_count": 18,
       "row_count": 5,
       "columns": [
        {
         "name": "danceability",
         "dtype": "float64",
         "stats": {
          "unique_count": 5,
          "nan_count": 0,
          "min": "0.388",
          "max": "0.81",
          "histogram": [
           {
            "bin_start": 0.388,
            "bin_end": 0.4302,
            "count": 1
           },
           {
            "bin_start": 0.4302,
            "bin_end": 0.47240000000000004,
            "count": 3
           },
           {
            "bin_start": 0.47240000000000004,
            "bin_end": 0.5146,
            "count": 0
           },
           {
            "bin_start": 0.5146,
            "bin_end": 0.5568,
            "count": 0
           },
           {
            "bin_start": 0.5568,
            "bin_end": 0.599,
            "count": 0
           },
           {
            "bin_start": 0.599,
            "bin_end": 0.6412,
            "count": 0
           },
           {
            "bin_start": 0.6412,
            "bin_end": 0.6834,
            "count": 0
           },
           {
            "bin_start": 0.6834,
            "bin_end": 0.7256,
            "count": 0
           },
           {
            "bin_start": 0.7256,
            "bin_end": 0.7678,
            "count": 0
           },
           {
            "bin_start": 0.7678,
            "bin_end": 0.81,
            "count": 1
           }
          ]
         }
        },
        {
         "name": "energy",
         "dtype": "float64",
         "stats": {
          "unique_count": 5,
          "nan_count": 0,
          "min": "0.349",
          "max": "0.655",
          "histogram": [
           {
            "bin_start": 0.349,
            "bin_end": 0.3796,
            "count": 1
           },
           {
            "bin_start": 0.3796,
            "bin_end": 0.4102,
            "count": 0
           },
           {
            "bin_start": 0.4102,
            "bin_end": 0.44079999999999997,
            "count": 0
           },
           {
            "bin_start": 0.44079999999999997,
            "bin_end": 0.4714,
            "count": 2
           },
           {
            "bin_start": 0.4714,
            "bin_end": 0.502,
            "count": 0
           },
           {
            "bin_start": 0.502,
            "bin_end": 0.5326,
            "count": 0
           },
           {
            "bin_start": 0.5326,
            "bin_end": 0.5632,
            "count": 0
           },
           {
            "bin_start": 0.5632,
            "bin_end": 0.5938,
            "count": 0
           },
           {
            "bin_start": 0.5938,
            "bin_end": 0.6244000000000001,
            "count": 0
           },
           {
            "bin_start": 0.6244000000000001,
            "bin_end": 0.655,
            "count": 2
           }
          ]
         }
        },
        {
         "name": "key",
         "dtype": "int64",
         "stats": {
          "unique_count": 4,
          "nan_count": 0,
          "min": "1",
          "max": "8",
          "histogram": [
           {
            "bin_start": 1,
            "bin_end": 1.7,
            "count": 1
           },
           {
            "bin_start": 1.7,
            "bin_end": 2.4,
            "count": 0
           },
           {
            "bin_start": 2.4,
            "bin_end": 3.0999999999999996,
            "count": 0
           },
           {
            "bin_start": 3.0999999999999996,
            "bin_end": 3.8,
            "count": 0
           },
           {
            "bin_start": 3.8,
            "bin_end": 4.5,
            "count": 1
           },
           {
            "bin_start": 4.5,
            "bin_end": 5.199999999999999,
            "count": 0
           },
           {
            "bin_start": 5.199999999999999,
            "bin_end": 5.8999999999999995,
            "count": 0
           },
           {
            "bin_start": 5.8999999999999995,
            "bin_end": 6.6,
            "count": 0
           },
           {
            "bin_start": 6.6,
            "bin_end": 7.3,
            "count": 1
           },
           {
            "bin_start": 7.3,
            "bin_end": 8,
            "count": 2
           }
          ]
         }
        },
        {
         "name": "loudness",
         "dtype": "float64",
         "stats": {
          "unique_count": 5,
          "nan_count": 0,
          "min": "-9.426",
          "max": "-4.474",
          "histogram": [
           {
            "bin_start": -9.426,
            "bin_end": -8.9308,
            "count": 1
           },
           {
            "bin_start": -8.9308,
            "bin_end": -8.4356,
            "count": 1
           },
           {
            "bin_start": -8.4356,
            "bin_end": -7.9404,
            "count": 0
           },
           {
            "bin_start": -7.9404,
            "bin_end": -7.4452,
            "count": 0
           },
           {
            "bin_start": -7.4452,
            "bin_end": -6.95,
            "count": 0
           },
           {
            "bin_start": -6.95,
            "bin_end": -6.4548000000000005,
            "count": 1
           },
           {
            "bin_start": -6.4548000000000005,
            "bin_end": -5.9596,
            "count": 0
           },
           {
            "bin_start": -5.9596,
            "bin_end": -5.4644,
            "count": 0
           },
           {
            "bin_start": -5.4644,
            "bin_end": -4.969200000000001,
            "count": 1
           },
           {
            "bin_start": -4.969200000000001,
            "bin_end": -4.474,
            "count": 1
           }
          ]
         }
        },
        {
         "name": "mode",
         "dtype": "int64",
         "stats": {
          "unique_count": 2,
          "nan_count": 0,
          "min": "0",
          "max": "1",
          "histogram": [
           {
            "bin_start": 0,
            "bin_end": 0.1,
            "count": 3
           },
           {
            "bin_start": 0.1,
            "bin_end": 0.2,
            "count": 0
           },
           {
            "bin_start": 0.2,
            "bin_end": 0.30000000000000004,
            "count": 0
           },
           {
            "bin_start": 0.30000000000000004,
            "bin_end": 0.4,
            "count": 0
           },
           {
            "bin_start": 0.4,
            "bin_end": 0.5,
            "count": 0
           },
           {
            "bin_start": 0.5,
            "bin_end": 0.6000000000000001,
            "count": 0
           },
           {
            "bin_start": 0.6000000000000001,
            "bin_end": 0.7000000000000001,
            "count": 0
           },
           {
            "bin_start": 0.7000000000000001,
            "bin_end": 0.8,
            "count": 0
           },
           {
            "bin_start": 0.8,
            "bin_end": 0.9,
            "count": 0
           },
           {
            "bin_start": 0.9,
            "bin_end": 1,
            "count": 2
           }
          ]
         }
        },
        {
         "name": "speechiness",
         "dtype": "float64",
         "stats": {
          "unique_count": 5,
          "nan_count": 0,
          "min": "0.0325",
          "max": "0.34",
          "histogram": [
           {
            "bin_start": 0.0325,
            "bin_end": 0.06325,
            "count": 2
           },
           {
            "bin_start": 0.06325,
            "bin_end": 0.094,
            "count": 1
           },
           {
            "bin_start": 0.094,
            "bin_end": 0.12475,
            "count": 0
           },
           {
            "bin_start": 0.12475,
            "bin_end": 0.1555,
            "count": 0
           },
           {
            "bin_start": 0.1555,
            "bin_end": 0.18625,
            "count": 0
           },
           {
            "bin_start": 0.18625,
            "bin_end": 0.217,
            "count": 0
           },
           {
            "bin_start": 0.217,
            "bin_end": 0.24775,
            "count": 1
           },
           {
            "bin_start": 0.24775,
            "bin_end": 0.27849999999999997,
            "count": 0
           },
           {
            "bin_start": 0.27849999999999997,
            "bin_end": 0.30925,
            "count": 0
           },
           {
            "bin_start": 0.30925,
            "bin_end": 0.34,
            "count": 1
           }
          ]
         }
        },
        {
         "name": "acousticness",
         "dtype": "float64",
         "stats": {
          "unique_count": 5,
          "nan_count": 0,
          "min": "0.127",
          "max": "0.851",
          "histogram": [
           {
            "bin_start": 0.127,
            "bin_end": 0.1994,
            "count": 1
           },
           {
            "bin_start": 0.1994,
            "bin_end": 0.2718,
            "count": 1
           },
           {
            "bin_start": 0.2718,
            "bin_end": 0.34419999999999995,
            "count": 1
           },
           {
            "bin_start": 0.34419999999999995,
            "bin_end": 0.41659999999999997,
            "count": 0
           },
           {
            "bin_start": 0.41659999999999997,
            "bin_end": 0.489,
            "count": 1
           },
           {
            "bin_start": 0.489,
            "bin_end": 0.5613999999999999,
            "count": 0
           },
           {
            "bin_start": 0.5613999999999999,
            "bin_end": 0.6337999999999999,
            "count": 0
           },
           {
            "bin_start": 0.6337999999999999,
            "bin_end": 0.7061999999999999,
            "count": 0
           },
           {
            "bin_start": 0.7061999999999999,
            "bin_end": 0.7786,
            "count": 0
           },
           {
            "bin_start": 0.7786,
            "bin_end": 0.851,
            "count": 1
           }
          ]
         }
        },
        {
         "name": "instrumentalness",
         "dtype": "float64",
         "stats": {
          "unique_count": 3,
          "nan_count": 0,
          "min": "0.0",
          "max": "8.16e-05",
          "histogram": [
           {
            "bin_start": 0,
            "bin_end": 0.00000816,
            "count": 3
           },
           {
            "bin_start": 0.00000816,
            "bin_end": 0.00001632,
            "count": 0
           },
           {
            "bin_start": 0.00001632,
            "bin_end": 0.00002448,
            "count": 0
           },
           {
            "bin_start": 0.00002448,
            "bin_end": 0.00003264,
            "count": 0
           },
           {
            "bin_start": 0.00003264,
            "bin_end": 0.0000408,
            "count": 0
           },
           {
            "bin_start": 0.0000408,
            "bin_end": 0.00004896,
            "count": 0
           },
           {
            "bin_start": 0.00004896,
            "bin_end": 0.000057119999999999995,
            "count": 0
           },
           {
            "bin_start": 0.000057119999999999995,
            "bin_end": 0.00006528,
            "count": 0
           },
           {
            "bin_start": 0.00006528,
            "bin_end": 0.00007344,
            "count": 1
           },
           {
            "bin_start": 0.00007344,
            "bin_end": 0.0000816,
            "count": 1
           }
          ]
         }
        },
        {
         "name": "liveness",
         "dtype": "float64",
         "stats": {
          "unique_count": 5,
          "nan_count": 0,
          "min": "0.0686",
          "max": "0.495",
          "histogram": [
           {
            "bin_start": 0.0686,
            "bin_end": 0.11123999999999999,
            "count": 2
           },
           {
            "bin_start": 0.11123999999999999,
            "bin_end": 0.15388,
            "count": 0
           },
           {
            "bin_start": 0.15388,
            "bin_end": 0.19651999999999997,
            "count": 0
           },
           {
            "bin_start": 0.19651999999999997,
            "bin_end": 0.23915999999999998,
            "count": 0
           },
           {
            "bin_start": 0.23915999999999998,
            "bin_end": 0.2818,
            "count": 1
           },
           {
            "bin_start": 0.2818,
            "bin_end": 0.32443999999999995,
            "count": 1
           },
           {
            "bin_start": 0.32443999999999995,
            "bin_end": 0.36707999999999996,
            "count": 0
           },
           {
            "bin_start": 0.36707999999999996,
            "bin_end": 0.40972,
            "count": 0
           },
           {
            "bin_start": 0.40972,
            "bin_end": 0.45236,
            "count": 0
           },
           {
            "bin_start": 0.45236,
            "bin_end": 0.495,
            "count": 1
           }
          ]
         }
        },
        {
         "name": "valence",
         "dtype": "float64",
         "stats": {
          "unique_count": 5,
          "nan_count": 0,
          "min": "0.165",
          "max": "0.809",
          "histogram": [
           {
            "bin_start": 0.165,
            "bin_end": 0.2294,
            "count": 2
           },
           {
            "bin_start": 0.2294,
            "bin_end": 0.2938,
            "count": 0
           },
           {
            "bin_start": 0.2938,
            "bin_end": 0.35819999999999996,
            "count": 1
           },
           {
            "bin_start": 0.35819999999999996,
            "bin_end": 0.4226,
            "count": 1
           },
           {
            "bin_start": 0.4226,
            "bin_end": 0.487,
            "count": 0
           },
           {
            "bin_start": 0.487,
            "bin_end": 0.5514,
            "count": 0
           },
           {
            "bin_start": 0.5514,
            "bin_end": 0.6158,
            "count": 0
           },
           {
            "bin_start": 0.6158,
            "bin_end": 0.6802,
            "count": 0
           },
           {
            "bin_start": 0.6802,
            "bin_end": 0.7446,
            "count": 0
           },
           {
            "bin_start": 0.7446,
            "bin_end": 0.809,
            "count": 1
           }
          ]
         }
        },
        {
         "name": "tempo",
         "dtype": "float64",
         "stats": {
          "unique_count": 5,
          "nan_count": 0,
          "min": "62.627",
          "max": "150.002",
          "histogram": [
           {
            "bin_start": 62.627,
            "bin_end": 71.3645,
            "count": 1
           },
           {
            "bin_start": 71.3645,
            "bin_end": 80.102,
            "count": 0
           },
           {
            "bin_start": 80.102,
            "bin_end": 88.8395,
            "count": 1
           },
           {
            "bin_start": 88.8395,
            "bin_end": 97.577,
            "count": 1
           },
           {
            "bin_start": 97.577,
            "bin_end": 106.31450000000001,
            "count": 0
           },
           {
            "bin_start": 106.31450000000001,
            "bin_end": 115.052,
            "count": 0
           },
           {
            "bin_start": 115.052,
            "bin_end": 123.7895,
            "count": 0
           },
           {
            "bin_start": 123.7895,
            "bin_end": 132.52700000000002,
            "count": 0
           },
           {
            "bin_start": 132.52700000000002,
            "bin_end": 141.2645,
            "count": 0
           },
           {
            "bin_start": 141.2645,
            "bin_end": 150.002,
            "count": 2
           }
          ]
         }
        },
        {
         "name": "type",
         "dtype": "object",
         "stats": {
          "unique_count": 1,
          "nan_count": 0,
          "categories": [
           {
            "name": "audio_features",
            "count": 5
           }
          ]
         }
        },
        {
         "name": "id",
         "dtype": "object",
         "stats": {
          "unique_count": 5,
          "nan_count": 0,
          "categories": [
           {
            "name": "59nOXPmaKlBfGMDeOVGrIK",
            "count": 1
           },
           {
            "name": "2KdKh9vHbKW0tZLqtpxxI0",
            "count": 1
           },
           {
            "name": "3 others",
            "count": 3
           }
          ]
         }
        },
        {
         "name": "track_uri",
         "dtype": "object",
         "stats": {
          "unique_count": 5,
          "nan_count": 0,
          "categories": [
           {
            "name": "spotify:track:59nOXPmaKlBfGMDeOVGrIK",
            "count": 1
           },
           {
            "name": "spotify:track:2KdKh9vHbKW0tZLqtpxxI0",
            "count": 1
           },
           {
            "name": "3 others",
            "count": 3
           }
          ]
         }
        },
        {
         "name": "track_href",
         "dtype": "object",
         "stats": {
          "unique_count": 5,
          "nan_count": 0,
          "categories": [
           {
            "name": "https://api.spotify.com/v1/tracks/59nOXPmaKlBfGMDeOVGrIK",
            "count": 1
           },
           {
            "name": "https://api.spotify.com/v1/tracks/2KdKh9vHbKW0tZLqtpxxI0",
            "count": 1
           },
           {
            "name": "3 others",
            "count": 3
           }
          ]
         }
        },
        {
         "name": "analysis_url",
         "dtype": "object",
         "stats": {
          "unique_count": 5,
          "nan_count": 0,
          "categories": [
           {
            "name": "https://api.spotify.com/v1/audio-analysis/59nOXPmaKlBfGMDeOVGrIK",
            "count": 1
           },
           {
            "name": "https://api.spotify.com/v1/audio-analysis/2KdKh9vHbKW0tZLqtpxxI0",
            "count": 1
           },
           {
            "name": "3 others",
            "count": 3
           }
          ]
         }
        },
        {
         "name": "duration_ms",
         "dtype": "int64",
         "stats": {
          "unique_count": 5,
          "nan_count": 0,
          "min": "187027",
          "max": "218320",
          "histogram": [
           {
            "bin_start": 187027,
            "bin_end": 190156.3,
            "count": 2
           },
           {
            "bin_start": 190156.3,
            "bin_end": 193285.6,
            "count": 0
           },
           {
            "bin_start": 193285.6,
            "bin_end": 196414.9,
            "count": 1
           },
           {
            "bin_start": 196414.9,
            "bin_end": 199544.2,
            "count": 0
           },
           {
            "bin_start": 199544.2,
            "bin_end": 202673.5,
            "count": 0
           },
           {
            "bin_start": 202673.5,
            "bin_end": 205802.8,
            "count": 0
           },
           {
            "bin_start": 205802.8,
            "bin_end": 208932.1,
            "count": 1
           },
           {
            "bin_start": 208932.1,
            "bin_end": 212061.4,
            "count": 0
           },
           {
            "bin_start": 212061.4,
            "bin_end": 215190.7,
            "count": 0
           },
           {
            "bin_start": 215190.7,
            "bin_end": 218320,
            "count": 1
           }
          ]
         }
        },
        {
         "name": "time_signature",
         "dtype": "int64",
         "stats": {
          "unique_count": 3,
          "nan_count": 0,
          "min": "3",
          "max": "5",
          "histogram": [
           {
            "bin_start": 3,
            "bin_end": 3.2,
            "count": 1
           },
           {
            "bin_start": 3.2,
            "bin_end": 3.4,
            "count": 0
           },
           {
            "bin_start": 3.4,
            "bin_end": 3.6,
            "count": 0
           },
           {
            "bin_start": 3.6,
            "bin_end": 3.8,
            "count": 0
           },
           {
            "bin_start": 3.8,
            "bin_end": 4,
            "count": 0
           },
           {
            "bin_start": 4,
            "bin_end": 4.2,
            "count": 3
           },
           {
            "bin_start": 4.2,
            "bin_end": 4.4,
            "count": 0
           },
           {
            "bin_start": 4.4,
            "bin_end": 4.6,
            "count": 0
           },
           {
            "bin_start": 4.6,
            "bin_end": 4.8,
            "count": 0
           },
           {
            "bin_start": 4.8,
            "bin_end": 5,
            "count": 1
           }
          ]
         }
        },
        {
         "name": "_deepnote_index_column",
         "dtype": "int64"
        }
       ],
       "rows": [
        {
         "danceability": 0.463,
         "energy": 0.642,
         "key": 1,
         "loudness": -4.474,
         "mode": 1,
         "speechiness": 0.34,
         "acousticness": 0.314,
         "instrumentalness": 0,
         "liveness": 0.0686,
         "valence": 0.339,
         "tempo": 83.389,
         "type": "audio_features",
         "id": "59nOXPmaKlBfGMDeOVGrIK",
         "track_uri": "spotify:track:59nOXPmaKlBfGMDeOVGrIK",
         "track_href": "https://api.spotify.com/v1/tracks/59nOXPmaKlBfGMDeOVGrIK",
         "analysis_url": "https://api.spotify.com/v1/audio-analysis/59nOXPmaKlBfGMDeOVGrIK",
         "duration_ms": 189893,
         "time_signature": 4,
         "_deepnote_index_column": 0
        },
        {
         "danceability": 0.81,
         "energy": 0.655,
         "key": 8,
         "loudness": -6.779,
         "mode": 0,
         "speechiness": 0.0698,
         "acousticness": 0.127,
         "instrumentalness": 0.0000816,
         "liveness": 0.105,
         "valence": 0.809,
         "tempo": 150.002,
         "type": "audio_features",
         "id": "2KdKh9vHbKW0tZLqtpxxI0",
         "track_uri": "spotify:track:2KdKh9vHbKW0tZLqtpxxI0",
         "track_href": "https://api.spotify.com/v1/tracks/2KdKh9vHbKW0tZLqtpxxI0",
         "analysis_url": "https://api.spotify.com/v1/audio-analysis/2KdKh9vHbKW0tZLqtpxxI0",
         "duration_ms": 193322,
         "time_signature": 4,
         "_deepnote_index_column": 1
        },
        {
         "danceability": 0.431,
         "energy": 0.349,
         "key": 7,
         "loudness": -9.426,
         "mode": 1,
         "speechiness": 0.0325,
         "acousticness": 0.434,
         "instrumentalness": 0.0000702,
         "liveness": 0.241,
         "valence": 0.165,
         "tempo": 62.627,
         "type": "audio_features",
         "id": "6LL5S3DGrUJ6cZRuDefguP",
         "track_uri": "spotify:track:6LL5S3DGrUJ6cZRuDefguP",
         "track_href": "https://api.spotify.com/v1/tracks/6LL5S3DGrUJ6cZRuDefguP",
         "analysis_url": "https://api.spotify.com/v1/audio-analysis/6LL5S3DGrUJ6cZRuDefguP",
         "duration_ms": 187027,
         "time_signature": 3,
         "_deepnote_index_column": 2
        },
        {
         "danceability": 0.464,
         "energy": 0.445,
         "key": 4,
         "loudness": -8.507,
         "mode": 0,
         "speechiness": 0.238,
         "acousticness": 0.215,
         "instrumentalness": 0,
         "liveness": 0.495,
         "valence": 0.181,
         "tempo": 94.14,
         "type": "audio_features",
         "id": "6w93UfN5MeXXQTrVIf5V6x",
         "track_uri": "spotify:track:6w93UfN5MeXXQTrVIf5V6x",
         "track_href": "https://api.spotify.com/v1/tracks/6w93UfN5MeXXQTrVIf5V6x",
         "analysis_url": "https://api.spotify.com/v1/audio-analysis/6w93UfN5MeXXQTrVIf5V6x",
         "duration_ms": 218320,
         "time_signature": 4,
         "_deepnote_index_column": 3
        },
        {
         "danceability": 0.388,
         "energy": 0.448,
         "key": 8,
         "loudness": -5.221,
         "mode": 0,
         "speechiness": 0.0341,
         "acousticness": 0.851,
         "instrumentalness": 0,
         "liveness": 0.302,
         "valence": 0.397,
         "tempo": 142.342,
         "type": "audio_features",
         "id": "6pyM30WDpG70VTfwoQg4m2",
         "track_uri": "spotify:track:6pyM30WDpG70VTfwoQg4m2",
         "track_href": "https://api.spotify.com/v1/tracks/6pyM30WDpG70VTfwoQg4m2",
         "analysis_url": "https://api.spotify.com/v1/audio-analysis/6pyM30WDpG70VTfwoQg4m2",
         "duration_ms": 207551,
         "time_signature": 5,
         "_deepnote_index_column": 4
        }
       ]
      },
      "text/plain": "   danceability  energy  key  loudness  mode  speechiness  acousticness  \\\n0         0.463   0.642    1    -4.474     1       0.3400         0.314   \n1         0.810   0.655    8    -6.779     0       0.0698         0.127   \n2         0.431   0.349    7    -9.426     1       0.0325         0.434   \n3         0.464   0.445    4    -8.507     0       0.2380         0.215   \n4         0.388   0.448    8    -5.221     0       0.0341         0.851   \n\n   instrumentalness  liveness  valence    tempo            type  \\\n0          0.000000    0.0686    0.339   83.389  audio_features   \n1          0.000082    0.1050    0.809  150.002  audio_features   \n2          0.000070    0.2410    0.165   62.627  audio_features   \n3          0.000000    0.4950    0.181   94.140  audio_features   \n4          0.000000    0.3020    0.397  142.342  audio_features   \n\n                       id                             track_uri  \\\n0  59nOXPmaKlBfGMDeOVGrIK  spotify:track:59nOXPmaKlBfGMDeOVGrIK   \n1  2KdKh9vHbKW0tZLqtpxxI0  spotify:track:2KdKh9vHbKW0tZLqtpxxI0   \n2  6LL5S3DGrUJ6cZRuDefguP  spotify:track:6LL5S3DGrUJ6cZRuDefguP   \n3  6w93UfN5MeXXQTrVIf5V6x  spotify:track:6w93UfN5MeXXQTrVIf5V6x   \n4  6pyM30WDpG70VTfwoQg4m2  spotify:track:6pyM30WDpG70VTfwoQg4m2   \n\n                                          track_href  \\\n0  https://api.spotify.com/v1/tracks/59nOXPmaKlBf...   \n1  https://api.spotify.com/v1/tracks/2KdKh9vHbKW0...   \n2  https://api.spotify.com/v1/tracks/6LL5S3DGrUJ6...   \n3  https://api.spotify.com/v1/tracks/6w93UfN5MeXX...   \n4  https://api.spotify.com/v1/tracks/6pyM30WDpG70...   \n\n                                        analysis_url  duration_ms  \\\n0  https://api.spotify.com/v1/audio-analysis/59nO...       189893   \n1  https://api.spotify.com/v1/audio-analysis/2KdK...       193322   \n2  https://api.spotify.com/v1/audio-analysis/6LL5...       187027   \n3  https://api.spotify.com/v1/audio-analysis/6w93...       218320   \n4  https://api.spotify.com/v1/audio-analysis/6pyM...       207551   \n\n   time_signature  \n0               4  \n1               4  \n2               3  \n3               4  \n4               5  ",
      "text/html": "<div>\n<style scoped>\n    .dataframe tbody tr th:only-of-type {\n        vertical-align: middle;\n    }\n\n    .dataframe tbody tr th {\n        vertical-align: top;\n    }\n\n    .dataframe thead th {\n        text-align: right;\n    }\n</style>\n<table border=\"1\" class=\"dataframe\">\n  <thead>\n    <tr style=\"text-align: right;\">\n      <th></th>\n      <th>danceability</th>\n      <th>energy</th>\n      <th>key</th>\n      <th>loudness</th>\n      <th>mode</th>\n      <th>speechiness</th>\n      <th>acousticness</th>\n      <th>instrumentalness</th>\n      <th>liveness</th>\n      <th>valence</th>\n      <th>tempo</th>\n      <th>type</th>\n      <th>id</th>\n      <th>track_uri</th>\n      <th>track_href</th>\n      <th>analysis_url</th>\n      <th>duration_ms</th>\n      <th>time_signature</th>\n    </tr>\n  </thead>\n  <tbody>\n    <tr>\n      <th>0</th>\n      <td>0.463</td>\n      <td>0.642</td>\n      <td>1</td>\n      <td>-4.474</td>\n      <td>1</td>\n      <td>0.3400</td>\n      <td>0.314</td>\n      <td>0.000000</td>\n      <td>0.0686</td>\n      <td>0.339</td>\n      <td>83.389</td>\n      <td>audio_features</td>\n      <td>59nOXPmaKlBfGMDeOVGrIK</td>\n      <td>spotify:track:59nOXPmaKlBfGMDeOVGrIK</td>\n      <td>https://api.spotify.com/v1/tracks/59nOXPmaKlBf...</td>\n      <td>https://api.spotify.com/v1/audio-analysis/59nO...</td>\n      <td>189893</td>\n      <td>4</td>\n    </tr>\n    <tr>\n      <th>1</th>\n      <td>0.810</td>\n      <td>0.655</td>\n      <td>8</td>\n      <td>-6.779</td>\n      <td>0</td>\n      <td>0.0698</td>\n      <td>0.127</td>\n      <td>0.000082</td>\n      <td>0.1050</td>\n      <td>0.809</td>\n      <td>150.002</td>\n      <td>audio_features</td>\n      <td>2KdKh9vHbKW0tZLqtpxxI0</td>\n      <td>spotify:track:2KdKh9vHbKW0tZLqtpxxI0</td>\n      <td>https://api.spotify.com/v1/tracks/2KdKh9vHbKW0...</td>\n      <td>https://api.spotify.com/v1/audio-analysis/2KdK...</td>\n      <td>193322</td>\n      <td>4</td>\n    </tr>\n    <tr>\n      <th>2</th>\n      <td>0.431</td>\n      <td>0.349</td>\n      <td>7</td>\n      <td>-9.426</td>\n      <td>1</td>\n      <td>0.0325</td>\n      <td>0.434</td>\n      <td>0.000070</td>\n      <td>0.2410</td>\n      <td>0.165</td>\n      <td>62.627</td>\n      <td>audio_features</td>\n      <td>6LL5S3DGrUJ6cZRuDefguP</td>\n      <td>spotify:track:6LL5S3DGrUJ6cZRuDefguP</td>\n      <td>https://api.spotify.com/v1/tracks/6LL5S3DGrUJ6...</td>\n      <td>https://api.spotify.com/v1/audio-analysis/6LL5...</td>\n      <td>187027</td>\n      <td>3</td>\n    </tr>\n    <tr>\n      <th>3</th>\n      <td>0.464</td>\n      <td>0.445</td>\n      <td>4</td>\n      <td>-8.507</td>\n      <td>0</td>\n      <td>0.2380</td>\n      <td>0.215</td>\n      <td>0.000000</td>\n      <td>0.4950</td>\n      <td>0.181</td>\n      <td>94.140</td>\n      <td>audio_features</td>\n      <td>6w93UfN5MeXXQTrVIf5V6x</td>\n      <td>spotify:track:6w93UfN5MeXXQTrVIf5V6x</td>\n      <td>https://api.spotify.com/v1/tracks/6w93UfN5MeXX...</td>\n      <td>https://api.spotify.com/v1/audio-analysis/6w93...</td>\n      <td>218320</td>\n      <td>4</td>\n    </tr>\n    <tr>\n      <th>4</th>\n      <td>0.388</td>\n      <td>0.448</td>\n      <td>8</td>\n      <td>-5.221</td>\n      <td>0</td>\n      <td>0.0341</td>\n      <td>0.851</td>\n      <td>0.000000</td>\n      <td>0.3020</td>\n      <td>0.397</td>\n      <td>142.342</td>\n      <td>audio_features</td>\n      <td>6pyM30WDpG70VTfwoQg4m2</td>\n      <td>spotify:track:6pyM30WDpG70VTfwoQg4m2</td>\n      <td>https://api.spotify.com/v1/tracks/6pyM30WDpG70...</td>\n      <td>https://api.spotify.com/v1/audio-analysis/6pyM...</td>\n      <td>207551</td>\n      <td>5</td>\n    </tr>\n  </tbody>\n</table>\n</div>"
     },
     "metadata": {}
    }
   ]
  },
  {
   "cell_type": "code",
   "metadata": {
    "cell_id": "9a72c8d377d8468eac8a914c18348d8d",
    "tags": [],
    "deepnote_to_be_reexecuted": false,
    "source_hash": "d7fdcc6a",
    "execution_start": 1652379304759,
    "execution_millis": 109,
    "deepnote_table_state": {
     "pageSize": 10,
     "pageIndex": 0,
     "filters": [],
     "sortBy": []
    },
    "deepnote_table_loading": false,
    "deepnote_cell_type": "code",
    "deepnote_cell_height": 1067.75,
    "deepnote_output_heights": [
     382.109375
    ]
   },
   "source": "final_df = pd.merge(track_df, att_df, on = 'track_uri')\n\nfinal_df",
   "execution_count": null,
   "outputs": [
    {
     "output_type": "execute_result",
     "execution_count": 19,
     "data": {
      "text/plain": "                                track_uri                       track_name  \\\n0    spotify:track:59nOXPmaKlBfGMDeOVGrIK  WAIT FOR U (feat. Drake & Tems)   \n1    spotify:track:2KdKh9vHbKW0tZLqtpxxI0       Honest (feat. Don Toliver)   \n2    spotify:track:6LL5S3DGrUJ6cZRuDefguP                        Lie Again   \n3    spotify:track:6w93UfN5MeXXQTrVIf5V6x          How (feat. Roddy Ricch)   \n4    spotify:track:6pyM30WDpG70VTfwoQg4m2                       everything   \n..                                    ...                              ...   \n679  spotify:track:1DOgkaR5Gqa8JtPEIbQORC                             Over   \n680  spotify:track:4b1yxSdlumA8N4fEk4UOZp              The Family Madrigal   \n681  spotify:track:5rohUzwEoRsUvAA1Bf3DLo                    Dos Oruguitas   \n682  spotify:track:0lEjxUUlKqjqXrVlIHFduD            P power (feat. Drake)   \n683  spotify:track:48AJSd42lXpicsGqcgopof                     X ÚLTIMA VEZ   \n\n           artist_name                                      artist_genres  \\\n0               Future         (atl hip hop, rap, southern hip hop, trap)   \n1        Justin Bieber                                (canadian pop, pop)   \n2               Giveon                                         (pop, r&b)   \n3             Ella Mai  (dance pop, pop, pop rap, r&b, uk contemporary...   \n4              Kehlani    (alternative r&b, dance pop, pop, pop rap, r&b)   \n..                 ...                                                ...   \n679         Lucky Daye  (alternative r&b, chill r&b, indie r&b, pop, r&b)   \n680  Stephanie Beatriz                                                 ()   \n681    Sebastian Yatra       (colombian pop, latin, reggaeton colombiano)   \n682              Gunna              (atl hip hop, melodic rap, rap, trap)   \n683       Daddy Yankee     (latin, latin hip hop, reggaeton, trap latino)   \n\n     danceability  energy  key  loudness  mode  speechiness  ...  \\\n0           0.463   0.642    1    -4.474     1       0.3400  ...   \n1           0.810   0.655    8    -6.779     0       0.0698  ...   \n2           0.431   0.349    7    -9.426     1       0.0325  ...   \n3           0.464   0.445    4    -8.507     0       0.2380  ...   \n4           0.388   0.448    8    -5.221     0       0.0341  ...   \n..            ...     ...  ...       ...   ...          ...  ...   \n679         0.677   0.541    6    -6.057     0       0.0571  ...   \n680         0.594   0.628    1    -6.345     1       0.3590  ...   \n681         0.423   0.355    0   -10.565     1       0.0454  ...   \n682         0.828   0.591    1    -6.217     1       0.1090  ...   \n683         0.812   0.855    7    -3.725     1       0.0554  ...   \n\n     instrumentalness  liveness  valence    tempo            type  \\\n0            0.000000    0.0686    0.339   83.389  audio_features   \n1            0.000082    0.1050    0.809  150.002  audio_features   \n2            0.000070    0.2410    0.165   62.627  audio_features   \n3            0.000000    0.4950    0.181   94.140  audio_features   \n4            0.000000    0.3020    0.397  142.342  audio_features   \n..                ...       ...      ...      ...             ...   \n679          0.000000    0.1250    0.379  103.369  audio_features   \n680          0.000000    0.0582    0.556  141.391  audio_features   \n681          0.000000    0.0915    0.465   93.788  audio_features   \n682          0.000323    0.3610    0.202  119.251  audio_features   \n683          0.000167    0.1080    0.573   90.040  audio_features   \n\n                         id  \\\n0    59nOXPmaKlBfGMDeOVGrIK   \n1    2KdKh9vHbKW0tZLqtpxxI0   \n2    6LL5S3DGrUJ6cZRuDefguP   \n3    6w93UfN5MeXXQTrVIf5V6x   \n4    6pyM30WDpG70VTfwoQg4m2   \n..                      ...   \n679  1DOgkaR5Gqa8JtPEIbQORC   \n680  4b1yxSdlumA8N4fEk4UOZp   \n681  5rohUzwEoRsUvAA1Bf3DLo   \n682  0lEjxUUlKqjqXrVlIHFduD   \n683  48AJSd42lXpicsGqcgopof   \n\n                                            track_href  \\\n0    https://api.spotify.com/v1/tracks/59nOXPmaKlBf...   \n1    https://api.spotify.com/v1/tracks/2KdKh9vHbKW0...   \n2    https://api.spotify.com/v1/tracks/6LL5S3DGrUJ6...   \n3    https://api.spotify.com/v1/tracks/6w93UfN5MeXX...   \n4    https://api.spotify.com/v1/tracks/6pyM30WDpG70...   \n..                                                 ...   \n679  https://api.spotify.com/v1/tracks/1DOgkaR5Gqa8...   \n680  https://api.spotify.com/v1/tracks/4b1yxSdlumA8...   \n681  https://api.spotify.com/v1/tracks/5rohUzwEoRsU...   \n682  https://api.spotify.com/v1/tracks/0lEjxUUlKqjq...   \n683  https://api.spotify.com/v1/tracks/48AJSd42lXpi...   \n\n                                          analysis_url duration_ms  \\\n0    https://api.spotify.com/v1/audio-analysis/59nO...      189893   \n1    https://api.spotify.com/v1/audio-analysis/2KdK...      193322   \n2    https://api.spotify.com/v1/audio-analysis/6LL5...      187027   \n3    https://api.spotify.com/v1/audio-analysis/6w93...      218320   \n4    https://api.spotify.com/v1/audio-analysis/6pyM...      207551   \n..                                                 ...         ...   \n679  https://api.spotify.com/v1/audio-analysis/1DOg...      205276   \n680  https://api.spotify.com/v1/audio-analysis/4b1y...      257213   \n681  https://api.spotify.com/v1/audio-analysis/5roh...      214613   \n682  https://api.spotify.com/v1/audio-analysis/0lEj...      193347   \n683  https://api.spotify.com/v1/audio-analysis/48AJ...      192477   \n\n     time_signature  \n0                 4  \n1                 4  \n2                 3  \n3                 4  \n4                 5  \n..              ...  \n679               4  \n680               4  \n681               4  \n682               4  \n683               4  \n\n[684 rows x 21 columns]",
      "text/html": "<div>\n<style scoped>\n    .dataframe tbody tr th:only-of-type {\n        vertical-align: middle;\n    }\n\n    .dataframe tbody tr th {\n        vertical-align: top;\n    }\n\n    .dataframe thead th {\n        text-align: right;\n    }\n</style>\n<table border=\"1\" class=\"dataframe\">\n  <thead>\n    <tr style=\"text-align: right;\">\n      <th></th>\n      <th>track_uri</th>\n      <th>track_name</th>\n      <th>artist_name</th>\n      <th>artist_genres</th>\n      <th>danceability</th>\n      <th>energy</th>\n      <th>key</th>\n      <th>loudness</th>\n      <th>mode</th>\n      <th>speechiness</th>\n      <th>...</th>\n      <th>instrumentalness</th>\n      <th>liveness</th>\n      <th>valence</th>\n      <th>tempo</th>\n      <th>type</th>\n      <th>id</th>\n      <th>track_href</th>\n      <th>analysis_url</th>\n      <th>duration_ms</th>\n      <th>time_signature</th>\n    </tr>\n  </thead>\n  <tbody>\n    <tr>\n      <th>0</th>\n      <td>spotify:track:59nOXPmaKlBfGMDeOVGrIK</td>\n      <td>WAIT FOR U (feat. Drake &amp; Tems)</td>\n      <td>Future</td>\n      <td>(atl hip hop, rap, southern hip hop, trap)</td>\n      <td>0.463</td>\n      <td>0.642</td>\n      <td>1</td>\n      <td>-4.474</td>\n      <td>1</td>\n      <td>0.3400</td>\n      <td>...</td>\n      <td>0.000000</td>\n      <td>0.0686</td>\n      <td>0.339</td>\n      <td>83.389</td>\n      <td>audio_features</td>\n      <td>59nOXPmaKlBfGMDeOVGrIK</td>\n      <td>https://api.spotify.com/v1/tracks/59nOXPmaKlBf...</td>\n      <td>https://api.spotify.com/v1/audio-analysis/59nO...</td>\n      <td>189893</td>\n      <td>4</td>\n    </tr>\n    <tr>\n      <th>1</th>\n      <td>spotify:track:2KdKh9vHbKW0tZLqtpxxI0</td>\n      <td>Honest (feat. Don Toliver)</td>\n      <td>Justin Bieber</td>\n      <td>(canadian pop, pop)</td>\n      <td>0.810</td>\n      <td>0.655</td>\n      <td>8</td>\n      <td>-6.779</td>\n      <td>0</td>\n      <td>0.0698</td>\n      <td>...</td>\n      <td>0.000082</td>\n      <td>0.1050</td>\n      <td>0.809</td>\n      <td>150.002</td>\n      <td>audio_features</td>\n      <td>2KdKh9vHbKW0tZLqtpxxI0</td>\n      <td>https://api.spotify.com/v1/tracks/2KdKh9vHbKW0...</td>\n      <td>https://api.spotify.com/v1/audio-analysis/2KdK...</td>\n      <td>193322</td>\n      <td>4</td>\n    </tr>\n    <tr>\n      <th>2</th>\n      <td>spotify:track:6LL5S3DGrUJ6cZRuDefguP</td>\n      <td>Lie Again</td>\n      <td>Giveon</td>\n      <td>(pop, r&amp;b)</td>\n      <td>0.431</td>\n      <td>0.349</td>\n      <td>7</td>\n      <td>-9.426</td>\n      <td>1</td>\n      <td>0.0325</td>\n      <td>...</td>\n      <td>0.000070</td>\n      <td>0.2410</td>\n      <td>0.165</td>\n      <td>62.627</td>\n      <td>audio_features</td>\n      <td>6LL5S3DGrUJ6cZRuDefguP</td>\n      <td>https://api.spotify.com/v1/tracks/6LL5S3DGrUJ6...</td>\n      <td>https://api.spotify.com/v1/audio-analysis/6LL5...</td>\n      <td>187027</td>\n      <td>3</td>\n    </tr>\n    <tr>\n      <th>3</th>\n      <td>spotify:track:6w93UfN5MeXXQTrVIf5V6x</td>\n      <td>How (feat. Roddy Ricch)</td>\n      <td>Ella Mai</td>\n      <td>(dance pop, pop, pop rap, r&amp;b, uk contemporary...</td>\n      <td>0.464</td>\n      <td>0.445</td>\n      <td>4</td>\n      <td>-8.507</td>\n      <td>0</td>\n      <td>0.2380</td>\n      <td>...</td>\n      <td>0.000000</td>\n      <td>0.4950</td>\n      <td>0.181</td>\n      <td>94.140</td>\n      <td>audio_features</td>\n      <td>6w93UfN5MeXXQTrVIf5V6x</td>\n      <td>https://api.spotify.com/v1/tracks/6w93UfN5MeXX...</td>\n      <td>https://api.spotify.com/v1/audio-analysis/6w93...</td>\n      <td>218320</td>\n      <td>4</td>\n    </tr>\n    <tr>\n      <th>4</th>\n      <td>spotify:track:6pyM30WDpG70VTfwoQg4m2</td>\n      <td>everything</td>\n      <td>Kehlani</td>\n      <td>(alternative r&amp;b, dance pop, pop, pop rap, r&amp;b)</td>\n      <td>0.388</td>\n      <td>0.448</td>\n      <td>8</td>\n      <td>-5.221</td>\n      <td>0</td>\n      <td>0.0341</td>\n      <td>...</td>\n      <td>0.000000</td>\n      <td>0.3020</td>\n      <td>0.397</td>\n      <td>142.342</td>\n      <td>audio_features</td>\n      <td>6pyM30WDpG70VTfwoQg4m2</td>\n      <td>https://api.spotify.com/v1/tracks/6pyM30WDpG70...</td>\n      <td>https://api.spotify.com/v1/audio-analysis/6pyM...</td>\n      <td>207551</td>\n      <td>5</td>\n    </tr>\n    <tr>\n      <th>...</th>\n      <td>...</td>\n      <td>...</td>\n      <td>...</td>\n      <td>...</td>\n      <td>...</td>\n      <td>...</td>\n      <td>...</td>\n      <td>...</td>\n      <td>...</td>\n      <td>...</td>\n      <td>...</td>\n      <td>...</td>\n      <td>...</td>\n      <td>...</td>\n      <td>...</td>\n      <td>...</td>\n      <td>...</td>\n      <td>...</td>\n      <td>...</td>\n      <td>...</td>\n      <td>...</td>\n    </tr>\n    <tr>\n      <th>679</th>\n      <td>spotify:track:1DOgkaR5Gqa8JtPEIbQORC</td>\n      <td>Over</td>\n      <td>Lucky Daye</td>\n      <td>(alternative r&amp;b, chill r&amp;b, indie r&amp;b, pop, r&amp;b)</td>\n      <td>0.677</td>\n      <td>0.541</td>\n      <td>6</td>\n      <td>-6.057</td>\n      <td>0</td>\n      <td>0.0571</td>\n      <td>...</td>\n      <td>0.000000</td>\n      <td>0.1250</td>\n      <td>0.379</td>\n      <td>103.369</td>\n      <td>audio_features</td>\n      <td>1DOgkaR5Gqa8JtPEIbQORC</td>\n      <td>https://api.spotify.com/v1/tracks/1DOgkaR5Gqa8...</td>\n      <td>https://api.spotify.com/v1/audio-analysis/1DOg...</td>\n      <td>205276</td>\n      <td>4</td>\n    </tr>\n    <tr>\n      <th>680</th>\n      <td>spotify:track:4b1yxSdlumA8N4fEk4UOZp</td>\n      <td>The Family Madrigal</td>\n      <td>Stephanie Beatriz</td>\n      <td>()</td>\n      <td>0.594</td>\n      <td>0.628</td>\n      <td>1</td>\n      <td>-6.345</td>\n      <td>1</td>\n      <td>0.3590</td>\n      <td>...</td>\n      <td>0.000000</td>\n      <td>0.0582</td>\n      <td>0.556</td>\n      <td>141.391</td>\n      <td>audio_features</td>\n      <td>4b1yxSdlumA8N4fEk4UOZp</td>\n      <td>https://api.spotify.com/v1/tracks/4b1yxSdlumA8...</td>\n      <td>https://api.spotify.com/v1/audio-analysis/4b1y...</td>\n      <td>257213</td>\n      <td>4</td>\n    </tr>\n    <tr>\n      <th>681</th>\n      <td>spotify:track:5rohUzwEoRsUvAA1Bf3DLo</td>\n      <td>Dos Oruguitas</td>\n      <td>Sebastian Yatra</td>\n      <td>(colombian pop, latin, reggaeton colombiano)</td>\n      <td>0.423</td>\n      <td>0.355</td>\n      <td>0</td>\n      <td>-10.565</td>\n      <td>1</td>\n      <td>0.0454</td>\n      <td>...</td>\n      <td>0.000000</td>\n      <td>0.0915</td>\n      <td>0.465</td>\n      <td>93.788</td>\n      <td>audio_features</td>\n      <td>5rohUzwEoRsUvAA1Bf3DLo</td>\n      <td>https://api.spotify.com/v1/tracks/5rohUzwEoRsU...</td>\n      <td>https://api.spotify.com/v1/audio-analysis/5roh...</td>\n      <td>214613</td>\n      <td>4</td>\n    </tr>\n    <tr>\n      <th>682</th>\n      <td>spotify:track:0lEjxUUlKqjqXrVlIHFduD</td>\n      <td>P power (feat. Drake)</td>\n      <td>Gunna</td>\n      <td>(atl hip hop, melodic rap, rap, trap)</td>\n      <td>0.828</td>\n      <td>0.591</td>\n      <td>1</td>\n      <td>-6.217</td>\n      <td>1</td>\n      <td>0.1090</td>\n      <td>...</td>\n      <td>0.000323</td>\n      <td>0.3610</td>\n      <td>0.202</td>\n      <td>119.251</td>\n      <td>audio_features</td>\n      <td>0lEjxUUlKqjqXrVlIHFduD</td>\n      <td>https://api.spotify.com/v1/tracks/0lEjxUUlKqjq...</td>\n      <td>https://api.spotify.com/v1/audio-analysis/0lEj...</td>\n      <td>193347</td>\n      <td>4</td>\n    </tr>\n    <tr>\n      <th>683</th>\n      <td>spotify:track:48AJSd42lXpicsGqcgopof</td>\n      <td>X ÚLTIMA VEZ</td>\n      <td>Daddy Yankee</td>\n      <td>(latin, latin hip hop, reggaeton, trap latino)</td>\n      <td>0.812</td>\n      <td>0.855</td>\n      <td>7</td>\n      <td>-3.725</td>\n      <td>1</td>\n      <td>0.0554</td>\n      <td>...</td>\n      <td>0.000167</td>\n      <td>0.1080</td>\n      <td>0.573</td>\n      <td>90.040</td>\n      <td>audio_features</td>\n      <td>48AJSd42lXpicsGqcgopof</td>\n      <td>https://api.spotify.com/v1/tracks/48AJSd42lXpi...</td>\n      <td>https://api.spotify.com/v1/audio-analysis/48AJ...</td>\n      <td>192477</td>\n      <td>4</td>\n    </tr>\n  </tbody>\n</table>\n<p>684 rows × 21 columns</p>\n</div>"
     },
     "metadata": {}
    },
    {
     "output_type": "execute_result",
     "execution_count": 14,
     "data": {
      "application/vnd.deepnote.dataframe.v3+json": {
       "column_count": 21,
       "row_count": 684,
       "columns": [
        {
         "name": "track_uri",
         "dtype": "object",
         "stats": {
          "unique_count": 603,
          "nan_count": 0,
          "categories": [
           {
            "name": "spotify:track:1PckUlxKqWQs3RlWXVBLw3",
            "count": 4
           },
           {
            "name": "spotify:track:3vySEUpD0tc801F2WZDLYw",
            "count": 4
           },
           {
            "name": "601 others",
            "count": 676
           }
          ]
         }
        },
        {
         "name": "track_name",
         "dtype": "object",
         "stats": {
          "unique_count": 598,
          "nan_count": 0,
          "categories": [
           {
            "name": "Leave You Alone",
            "count": 5
           },
           {
            "name": "About Damn Time",
            "count": 4
           },
           {
            "name": "596 others",
            "count": 675
           }
          ]
         }
        },
        {
         "name": "artist_name",
         "dtype": "object",
         "stats": {
          "unique_count": 464,
          "nan_count": 0,
          "categories": [
           {
            "name": "Lil Baby",
            "count": 9
           },
           {
            "name": "Bad Bunny",
            "count": 8
           },
           {
            "name": "462 others",
            "count": 667
           }
          ]
         }
        },
        {
         "name": "artist_genres",
         "dtype": "object",
         "stats": {
          "unique_count": 359,
          "nan_count": 0,
          "categories": [
           {
            "name": "()",
            "count": 44
           },
           {
            "name": "('contemporary country', 'country', 'country road', 'modern country rock')",
            "count": 25
           },
           {
            "name": "357 others",
            "count": 615
           }
          ]
         }
        },
        {
         "name": "danceability",
         "dtype": "float64",
         "stats": {
          "unique_count": 346,
          "nan_count": 0,
          "min": "0.255",
          "max": "0.965",
          "histogram": [
           {
            "bin_start": 0.255,
            "bin_end": 0.326,
            "count": 6
           },
           {
            "bin_start": 0.326,
            "bin_end": 0.397,
            "count": 14
           },
           {
            "bin_start": 0.397,
            "bin_end": 0.46799999999999997,
            "count": 31
           },
           {
            "bin_start": 0.46799999999999997,
            "bin_end": 0.5389999999999999,
            "count": 85
           },
           {
            "bin_start": 0.5389999999999999,
            "bin_end": 0.61,
            "count": 94
           },
           {
            "bin_start": 0.61,
            "bin_end": 0.6809999999999999,
            "count": 123
           },
           {
            "bin_start": 0.6809999999999999,
            "bin_end": 0.752,
            "count": 126
           },
           {
            "bin_start": 0.752,
            "bin_end": 0.823,
            "count": 103
           },
           {
            "bin_start": 0.823,
            "bin_end": 0.8939999999999999,
            "count": 75
           },
           {
            "bin_start": 0.8939999999999999,
            "bin_end": 0.965,
            "count": 27
           }
          ]
         }
        },
        {
         "name": "energy",
         "dtype": "float64",
         "stats": {
          "unique_count": 369,
          "nan_count": 0,
          "min": "0.11",
          "max": "0.987",
          "histogram": [
           {
            "bin_start": 0.11,
            "bin_end": 0.1977,
            "count": 3
           },
           {
            "bin_start": 0.1977,
            "bin_end": 0.2854,
            "count": 3
           },
           {
            "bin_start": 0.2854,
            "bin_end": 0.3731,
            "count": 24
           },
           {
            "bin_start": 0.3731,
            "bin_end": 0.4608,
            "count": 48
           },
           {
            "bin_start": 0.4608,
            "bin_end": 0.5485,
            "count": 72
           },
           {
            "bin_start": 0.5485,
            "bin_end": 0.6362,
            "count": 122
           },
           {
            "bin_start": 0.6362,
            "bin_end": 0.7239,
            "count": 126
           },
           {
            "bin_start": 0.7239,
            "bin_end": 0.8116,
            "count": 126
           },
           {
            "bin_start": 0.8116,
            "bin_end": 0.8993,
            "count": 105
           },
           {
            "bin_start": 0.8993,
            "bin_end": 0.987,
            "count": 55
           }
          ]
         }
        },
        {
         "name": "key",
         "dtype": "int64",
         "stats": {
          "unique_count": 12,
          "nan_count": 0,
          "min": "0",
          "max": "11",
          "histogram": [
           {
            "bin_start": 0,
            "bin_end": 1.1,
            "count": 162
           },
           {
            "bin_start": 1.1,
            "bin_end": 2.2,
            "count": 76
           },
           {
            "bin_start": 2.2,
            "bin_end": 3.3000000000000003,
            "count": 21
           },
           {
            "bin_start": 3.3000000000000003,
            "bin_end": 4.4,
            "count": 75
           },
           {
            "bin_start": 4.4,
            "bin_end": 5.5,
            "count": 49
           },
           {
            "bin_start": 5.5,
            "bin_end": 6.6000000000000005,
            "count": 66
           },
           {
            "bin_start": 6.6000000000000005,
            "bin_end": 7.700000000000001,
            "count": 55
           },
           {
            "bin_start": 7.700000000000001,
            "bin_end": 8.8,
            "count": 52
           },
           {
            "bin_start": 8.8,
            "bin_end": 9.9,
            "count": 51
           },
           {
            "bin_start": 9.9,
            "bin_end": 11,
            "count": 77
           }
          ]
         }
        },
        {
         "name": "loudness",
         "dtype": "float64",
         "stats": {
          "unique_count": 578,
          "nan_count": 0,
          "min": "-19.885",
          "max": "-0.515",
          "histogram": [
           {
            "bin_start": -19.885,
            "bin_end": -17.948,
            "count": 1
           },
           {
            "bin_start": -17.948,
            "bin_end": -16.011000000000003,
            "count": 0
           },
           {
            "bin_start": -16.011000000000003,
            "bin_end": -14.074000000000002,
            "count": 3
           },
           {
            "bin_start": -14.074000000000002,
            "bin_end": -12.137,
            "count": 6
           },
           {
            "bin_start": -12.137,
            "bin_end": -10.200000000000001,
            "count": 25
           },
           {
            "bin_start": -10.200000000000001,
            "bin_end": -8.263000000000002,
            "count": 73
           },
           {
            "bin_start": -8.263000000000002,
            "bin_end": -6.3260000000000005,
            "count": 174
           },
           {
            "bin_start": -6.3260000000000005,
            "bin_end": -4.389000000000001,
            "count": 281
           },
           {
            "bin_start": -4.389000000000001,
            "bin_end": -2.4520000000000017,
            "count": 114
           },
           {
            "bin_start": -2.4520000000000017,
            "bin_end": -0.515,
            "count": 7
           }
          ]
         }
        },
        {
         "name": "mode",
         "dtype": "int64",
         "stats": {
          "unique_count": 2,
          "nan_count": 0,
          "min": "0",
          "max": "1",
          "histogram": [
           {
            "bin_start": 0,
            "bin_end": 0.1,
            "count": 251
           },
           {
            "bin_start": 0.1,
            "bin_end": 0.2,
            "count": 0
           },
           {
            "bin_start": 0.2,
            "bin_end": 0.30000000000000004,
            "count": 0
           },
           {
            "bin_start": 0.30000000000000004,
            "bin_end": 0.4,
            "count": 0
           },
           {
            "bin_start": 0.4,
            "bin_end": 0.5,
            "count": 0
           },
           {
            "bin_start": 0.5,
            "bin_end": 0.6000000000000001,
            "count": 0
           },
           {
            "bin_start": 0.6000000000000001,
            "bin_end": 0.7000000000000001,
            "count": 0
           },
           {
            "bin_start": 0.7000000000000001,
            "bin_end": 0.8,
            "count": 0
           },
           {
            "bin_start": 0.8,
            "bin_end": 0.9,
            "count": 0
           },
           {
            "bin_start": 0.9,
            "bin_end": 1,
            "count": 433
           }
          ]
         }
        },
        {
         "name": "speechiness",
         "dtype": "float64",
         "stats": {
          "unique_count": 436,
          "nan_count": 0,
          "min": "0.0254",
          "max": "0.611",
          "histogram": [
           {
            "bin_start": 0.0254,
            "bin_end": 0.08396,
            "count": 440
           },
           {
            "bin_start": 0.08396,
            "bin_end": 0.14252,
            "count": 91
           },
           {
            "bin_start": 0.14252,
            "bin_end": 0.20108,
            "count": 42
           },
           {
            "bin_start": 0.20108,
            "bin_end": 0.25964,
            "count": 25
           },
           {
            "bin_start": 0.25964,
            "bin_end": 0.3182,
            "count": 48
           },
           {
            "bin_start": 0.3182,
            "bin_end": 0.37676,
            "count": 19
           },
           {
            "bin_start": 0.37676,
            "bin_end": 0.43532,
            "count": 14
           },
           {
            "bin_start": 0.43532,
            "bin_end": 0.49388,
            "count": 1
           },
           {
            "bin_start": 0.49388,
            "bin_end": 0.5524399999999999,
            "count": 3
           },
           {
            "bin_start": 0.5524399999999999,
            "bin_end": 0.611,
            "count": 1
           }
          ]
         }
        },
        {
         "name": "acousticness",
         "dtype": "float64",
         "stats": {
          "unique_count": 504,
          "nan_count": 0,
          "min": "3.53e-05",
          "max": "0.913",
          "histogram": [
           {
            "bin_start": 0.0000353,
            "bin_end": 0.09133177,
            "count": 322
           },
           {
            "bin_start": 0.09133177,
            "bin_end": 0.18262824,
            "count": 117
           },
           {
            "bin_start": 0.18262824,
            "bin_end": 0.27392471,
            "count": 59
           },
           {
            "bin_start": 0.27392471,
            "bin_end": 0.36522118000000003,
            "count": 51
           },
           {
            "bin_start": 0.36522118000000003,
            "bin_end": 0.45651765000000005,
            "count": 41
           },
           {
            "bin_start": 0.45651765000000005,
            "bin_end": 0.54781412,
            "count": 41
           },
           {
            "bin_start": 0.54781412,
            "bin_end": 0.63911059,
            "count": 28
           },
           {
            "bin_start": 0.63911059,
            "bin_end": 0.73040706,
            "count": 9
           },
           {
            "bin_start": 0.73040706,
            "bin_end": 0.82170353,
            "count": 10
           },
           {
            "bin_start": 0.82170353,
            "bin_end": 0.913,
            "count": 6
           }
          ]
         }
        },
        {
         "name": "instrumentalness",
         "dtype": "float64",
         "stats": {
          "unique_count": 337,
          "nan_count": 0,
          "min": "0.0",
          "max": "0.952",
          "histogram": [
           {
            "bin_start": 0,
            "bin_end": 0.09519999999999999,
            "count": 621
           },
           {
            "bin_start": 0.09519999999999999,
            "bin_end": 0.19039999999999999,
            "count": 10
           },
           {
            "bin_start": 0.19039999999999999,
            "bin_end": 0.28559999999999997,
            "count": 6
           },
           {
            "bin_start": 0.28559999999999997,
            "bin_end": 0.38079999999999997,
            "count": 7
           },
           {
            "bin_start": 0.38079999999999997,
            "bin_end": 0.476,
            "count": 6
           },
           {
            "bin_start": 0.476,
            "bin_end": 0.5711999999999999,
            "count": 3
           },
           {
            "bin_start": 0.5711999999999999,
            "bin_end": 0.6664,
            "count": 3
           },
           {
            "bin_start": 0.6664,
            "bin_end": 0.7615999999999999,
            "count": 8
           },
           {
            "bin_start": 0.7615999999999999,
            "bin_end": 0.8567999999999999,
            "count": 12
           },
           {
            "bin_start": 0.8567999999999999,
            "bin_end": 0.952,
            "count": 8
           }
          ]
         }
        },
        {
         "name": "liveness",
         "dtype": "float64",
         "stats": {
          "unique_count": 368,
          "nan_count": 0,
          "min": "0.0265",
          "max": "0.948",
          "histogram": [
           {
            "bin_start": 0.0265,
            "bin_end": 0.11864999999999999,
            "count": 336
           },
           {
            "bin_start": 0.11864999999999999,
            "bin_end": 0.2108,
            "count": 173
           },
           {
            "bin_start": 0.2108,
            "bin_end": 0.30295,
            "count": 70
           },
           {
            "bin_start": 0.30295,
            "bin_end": 0.3951,
            "count": 67
           },
           {
            "bin_start": 0.3951,
            "bin_end": 0.48725,
            "count": 16
           },
           {
            "bin_start": 0.48725,
            "bin_end": 0.5793999999999999,
            "count": 8
           },
           {
            "bin_start": 0.5793999999999999,
            "bin_end": 0.67155,
            "count": 9
           },
           {
            "bin_start": 0.67155,
            "bin_end": 0.7636999999999999,
            "count": 1
           },
           {
            "bin_start": 0.7636999999999999,
            "bin_end": 0.8558499999999999,
            "count": 2
           },
           {
            "bin_start": 0.8558499999999999,
            "bin_end": 0.948,
            "count": 2
           }
          ]
         }
        },
        {
         "name": "valence",
         "dtype": "float64",
         "stats": {
          "unique_count": 426,
          "nan_count": 0,
          "min": "0.0326",
          "max": "0.965",
          "histogram": [
           {
            "bin_start": 0.0326,
            "bin_end": 0.12584,
            "count": 24
           },
           {
            "bin_start": 0.12584,
            "bin_end": 0.21908,
            "count": 49
           },
           {
            "bin_start": 0.21908,
            "bin_end": 0.31232000000000004,
            "count": 64
           },
           {
            "bin_start": 0.31232000000000004,
            "bin_end": 0.40556000000000003,
            "count": 80
           },
           {
            "bin_start": 0.40556000000000003,
            "bin_end": 0.4988,
            "count": 103
           },
           {
            "bin_start": 0.4988,
            "bin_end": 0.59204,
            "count": 87
           },
           {
            "bin_start": 0.59204,
            "bin_end": 0.68528,
            "count": 75
           },
           {
            "bin_start": 0.68528,
            "bin_end": 0.77852,
            "count": 81
           },
           {
            "bin_start": 0.77852,
            "bin_end": 0.87176,
            "count": 79
           },
           {
            "bin_start": 0.87176,
            "bin_end": 0.965,
            "count": 42
           }
          ]
         }
        },
        {
         "name": "tempo",
         "dtype": "float64",
         "stats": {
          "unique_count": 586,
          "nan_count": 0,
          "min": "62.627",
          "max": "205.863",
          "histogram": [
           {
            "bin_start": 62.627,
            "bin_end": 76.95060000000001,
            "count": 20
           },
           {
            "bin_start": 76.95060000000001,
            "bin_end": 91.27420000000001,
            "count": 68
           },
           {
            "bin_start": 91.27420000000001,
            "bin_end": 105.5978,
            "count": 102
           },
           {
            "bin_start": 105.5978,
            "bin_end": 119.9214,
            "count": 82
           },
           {
            "bin_start": 119.9214,
            "bin_end": 134.245,
            "count": 175
           },
           {
            "bin_start": 134.245,
            "bin_end": 148.5686,
            "count": 103
           },
           {
            "bin_start": 148.5686,
            "bin_end": 162.8922,
            "count": 54
           },
           {
            "bin_start": 162.8922,
            "bin_end": 177.2158,
            "count": 50
           },
           {
            "bin_start": 177.2158,
            "bin_end": 191.5394,
            "count": 22
           },
           {
            "bin_start": 191.5394,
            "bin_end": 205.863,
            "count": 8
           }
          ]
         }
        },
        {
         "name": "type",
         "dtype": "object",
         "stats": {
          "unique_count": 1,
          "nan_count": 0,
          "categories": [
           {
            "name": "audio_features",
            "count": 684
           }
          ]
         }
        },
        {
         "name": "id",
         "dtype": "object",
         "stats": {
          "unique_count": 603,
          "nan_count": 0,
          "categories": [
           {
            "name": "1PckUlxKqWQs3RlWXVBLw3",
            "count": 4
           },
           {
            "name": "3vySEUpD0tc801F2WZDLYw",
            "count": 4
           },
           {
            "name": "601 others",
            "count": 676
           }
          ]
         }
        },
        {
         "name": "track_href",
         "dtype": "object",
         "stats": {
          "unique_count": 603,
          "nan_count": 0,
          "categories": [
           {
            "name": "https://api.spotify.com/v1/tracks/1PckUlxKqWQs3RlWXVBLw3",
            "count": 4
           },
           {
            "name": "https://api.spotify.com/v1/tracks/3vySEUpD0tc801F2WZDLYw",
            "count": 4
           },
           {
            "name": "601 others",
            "count": 676
           }
          ]
         }
        },
        {
         "name": "analysis_url",
         "dtype": "object",
         "stats": {
          "unique_count": 603,
          "nan_count": 0,
          "categories": [
           {
            "name": "https://api.spotify.com/v1/audio-analysis/1PckUlxKqWQs3RlWXVBLw3",
            "count": 4
           },
           {
            "name": "https://api.spotify.com/v1/audio-analysis/3vySEUpD0tc801F2WZDLYw",
            "count": 4
           },
           {
            "name": "601 others",
            "count": 676
           }
          ]
         }
        },
        {
         "name": "duration_ms",
         "dtype": "int64",
         "stats": {
          "unique_count": 597,
          "nan_count": 0,
          "min": "97293",
          "max": "546472",
          "histogram": [
           {
            "bin_start": 97293,
            "bin_end": 142210.9,
            "count": 29
           },
           {
            "bin_start": 142210.9,
            "bin_end": 187128.8,
            "count": 235
           },
           {
            "bin_start": 187128.8,
            "bin_end": 232046.7,
            "count": 313
           },
           {
            "bin_start": 232046.7,
            "bin_end": 276964.6,
            "count": 71
           },
           {
            "bin_start": 276964.6,
            "bin_end": 321882.5,
            "count": 21
           },
           {
            "bin_start": 321882.5,
            "bin_end": 366800.4,
            "count": 8
           },
           {
            "bin_start": 366800.4,
            "bin_end": 411718.3,
            "count": 5
           },
           {
            "bin_start": 411718.3,
            "bin_end": 456636.2,
            "count": 0
           },
           {
            "bin_start": 456636.2,
            "bin_end": 501554.10000000003,
            "count": 1
           },
           {
            "bin_start": 501554.10000000003,
            "bin_end": 546472,
            "count": 1
           }
          ]
         }
        },
        {
         "name": "time_signature",
         "dtype": "int64",
         "stats": {
          "unique_count": 4,
          "nan_count": 0,
          "min": "1",
          "max": "5",
          "histogram": [
           {
            "bin_start": 1,
            "bin_end": 1.4,
            "count": 2
           },
           {
            "bin_start": 1.4,
            "bin_end": 1.8,
            "count": 0
           },
           {
            "bin_start": 1.8,
            "bin_end": 2.2,
            "count": 0
           },
           {
            "bin_start": 2.2,
            "bin_end": 2.6,
            "count": 0
           },
           {
            "bin_start": 2.6,
            "bin_end": 3,
            "count": 0
           },
           {
            "bin_start": 3,
            "bin_end": 3.4000000000000004,
            "count": 37
           },
           {
            "bin_start": 3.4000000000000004,
            "bin_end": 3.8000000000000003,
            "count": 0
           },
           {
            "bin_start": 3.8000000000000003,
            "bin_end": 4.2,
            "count": 635
           },
           {
            "bin_start": 4.2,
            "bin_end": 4.6,
            "count": 0
           },
           {
            "bin_start": 4.6,
            "bin_end": 5,
            "count": 10
           }
          ]
         }
        },
        {
         "name": "_deepnote_index_column",
         "dtype": "int64"
        }
       ],
       "rows": [
        {
         "track_uri": "spotify:track:59nOXPmaKlBfGMDeOVGrIK",
         "track_name": "WAIT FOR U (feat. Drake & Tems)",
         "artist_name": "Future",
         "artist_genres": "('atl hip hop', 'rap', 'southern hip hop', 'trap')",
         "danceability": 0.463,
         "energy": 0.642,
         "key": 1,
         "loudness": -4.474,
         "mode": 1,
         "speechiness": 0.34,
         "acousticness": 0.314,
         "instrumentalness": 0,
         "liveness": 0.0686,
         "valence": 0.339,
         "tempo": 83.389,
         "type": "audio_features",
         "id": "59nOXPmaKlBfGMDeOVGrIK",
         "track_href": "https://api.spotify.com/v1/tracks/59nOXPmaKlBfGMDeOVGrIK",
         "analysis_url": "https://api.spotify.com/v1/audio-analysis/59nOXPmaKlBfGMDeOVGrIK",
         "duration_ms": 189893,
         "time_signature": 4,
         "_deepnote_index_column": 0
        },
        {
         "track_uri": "spotify:track:2KdKh9vHbKW0tZLqtpxxI0",
         "track_name": "Honest (feat. Don Toliver)",
         "artist_name": "Justin Bieber",
         "artist_genres": "('canadian pop', 'pop')",
         "danceability": 0.81,
         "energy": 0.655,
         "key": 8,
         "loudness": -6.779,
         "mode": 0,
         "speechiness": 0.0698,
         "acousticness": 0.127,
         "instrumentalness": 0.0000816,
         "liveness": 0.105,
         "valence": 0.809,
         "tempo": 150.002,
         "type": "audio_features",
         "id": "2KdKh9vHbKW0tZLqtpxxI0",
         "track_href": "https://api.spotify.com/v1/tracks/2KdKh9vHbKW0tZLqtpxxI0",
         "analysis_url": "https://api.spotify.com/v1/audio-analysis/2KdKh9vHbKW0tZLqtpxxI0",
         "duration_ms": 193322,
         "time_signature": 4,
         "_deepnote_index_column": 1
        },
        {
         "track_uri": "spotify:track:6LL5S3DGrUJ6cZRuDefguP",
         "track_name": "Lie Again",
         "artist_name": "Giveon",
         "artist_genres": "('pop', 'r&b')",
         "danceability": 0.431,
         "energy": 0.349,
         "key": 7,
         "loudness": -9.426,
         "mode": 1,
         "speechiness": 0.0325,
         "acousticness": 0.434,
         "instrumentalness": 0.0000702,
         "liveness": 0.241,
         "valence": 0.165,
         "tempo": 62.627,
         "type": "audio_features",
         "id": "6LL5S3DGrUJ6cZRuDefguP",
         "track_href": "https://api.spotify.com/v1/tracks/6LL5S3DGrUJ6cZRuDefguP",
         "analysis_url": "https://api.spotify.com/v1/audio-analysis/6LL5S3DGrUJ6cZRuDefguP",
         "duration_ms": 187027,
         "time_signature": 3,
         "_deepnote_index_column": 2
        },
        {
         "track_uri": "spotify:track:6w93UfN5MeXXQTrVIf5V6x",
         "track_name": "How (feat. Roddy Ricch)",
         "artist_name": "Ella Mai",
         "artist_genres": "('dance pop', 'pop', 'pop rap', 'r&b', 'uk contemporary r&b', 'urban contemporary')",
         "danceability": 0.464,
         "energy": 0.445,
         "key": 4,
         "loudness": -8.507,
         "mode": 0,
         "speechiness": 0.238,
         "acousticness": 0.215,
         "instrumentalness": 0,
         "liveness": 0.495,
         "valence": 0.181,
         "tempo": 94.14,
         "type": "audio_features",
         "id": "6w93UfN5MeXXQTrVIf5V6x",
         "track_href": "https://api.spotify.com/v1/tracks/6w93UfN5MeXXQTrVIf5V6x",
         "analysis_url": "https://api.spotify.com/v1/audio-analysis/6w93UfN5MeXXQTrVIf5V6x",
         "duration_ms": 218320,
         "time_signature": 4,
         "_deepnote_index_column": 3
        },
        {
         "track_uri": "spotify:track:6pyM30WDpG70VTfwoQg4m2",
         "track_name": "everything",
         "artist_name": "Kehlani",
         "artist_genres": "('alternative r&b', 'dance pop', 'pop', 'pop rap', 'r&b')",
         "danceability": 0.388,
         "energy": 0.448,
         "key": 8,
         "loudness": -5.221,
         "mode": 0,
         "speechiness": 0.0341,
         "acousticness": 0.851,
         "instrumentalness": 0,
         "liveness": 0.302,
         "valence": 0.397,
         "tempo": 142.342,
         "type": "audio_features",
         "id": "6pyM30WDpG70VTfwoQg4m2",
         "track_href": "https://api.spotify.com/v1/tracks/6pyM30WDpG70VTfwoQg4m2",
         "analysis_url": "https://api.spotify.com/v1/audio-analysis/6pyM30WDpG70VTfwoQg4m2",
         "duration_ms": 207551,
         "time_signature": 5,
         "_deepnote_index_column": 4
        },
        {
         "track_uri": "spotify:track:5uXO1sjZ7VbNKexKaFRna3",
         "track_name": "Please Do Not Lean (feat. BADBADNOTGOOD)",
         "artist_name": "Daniel Caesar",
         "artist_genres": "('canadian contemporary r&b', 'pop', 'r&b')",
         "danceability": 0.67,
         "energy": 0.41,
         "key": 1,
         "loudness": -13.444,
         "mode": 1,
         "speechiness": 0.0381,
         "acousticness": 0.241,
         "instrumentalness": 0.00000855,
         "liveness": 0.167,
         "valence": 0.46,
         "tempo": 127.972,
         "type": "audio_features",
         "id": "5uXO1sjZ7VbNKexKaFRna3",
         "track_href": "https://api.spotify.com/v1/tracks/5uXO1sjZ7VbNKexKaFRna3",
         "analysis_url": "https://api.spotify.com/v1/audio-analysis/5uXO1sjZ7VbNKexKaFRna3",
         "duration_ms": 240938,
         "time_signature": 4,
         "_deepnote_index_column": 5
        },
        {
         "track_uri": "spotify:track:0R3BfnrLdW13mopXeKOTQZ",
         "track_name": "Another",
         "artist_name": "Muni Long",
         "artist_genres": "('indie r&b', 'pop', 'pop r&b', 'pop rap', 'r&b')",
         "danceability": 0.77,
         "energy": 0.581,
         "key": 11,
         "loudness": -5.307,
         "mode": 0,
         "speechiness": 0.0908,
         "acousticness": 0.452,
         "instrumentalness": 0,
         "liveness": 0.128,
         "valence": 0.284,
         "tempo": 120.019,
         "type": "audio_features",
         "id": "0R3BfnrLdW13mopXeKOTQZ",
         "track_href": "https://api.spotify.com/v1/tracks/0R3BfnrLdW13mopXeKOTQZ",
         "analysis_url": "https://api.spotify.com/v1/audio-analysis/0R3BfnrLdW13mopXeKOTQZ",
         "duration_ms": 152175,
         "time_signature": 4,
         "_deepnote_index_column": 6
        },
        {
         "track_uri": "spotify:track:6itJR6bgCqET35rCJFnULf",
         "track_name": "Cater",
         "artist_name": "Tink",
         "artist_genres": "('chicago rap', 'drill', 'pop', 'pop r&b', 'pop rap', 'r&b', 'trap queen')",
         "danceability": 0.619,
         "energy": 0.452,
         "key": 11,
         "loudness": -9.079,
         "mode": 0,
         "speechiness": 0.205,
         "acousticness": 0.232,
         "instrumentalness": 0.00000123,
         "liveness": 0.259,
         "valence": 0.195,
         "tempo": 127.897,
         "type": "audio_features",
         "id": "6itJR6bgCqET35rCJFnULf",
         "track_href": "https://api.spotify.com/v1/tracks/6itJR6bgCqET35rCJFnULf",
         "analysis_url": "https://api.spotify.com/v1/audio-analysis/6itJR6bgCqET35rCJFnULf",
         "duration_ms": 164544,
         "time_signature": 4,
         "_deepnote_index_column": 7
        },
        {
         "track_uri": "spotify:track:5qidBQqsjdwewlQaw16o3L",
         "track_name": "Tough Love (feat. Moneybagg Yo)",
         "artist_name": "Mary J. Blige",
         "artist_genres": "('dance pop', 'hip pop', 'neo soul', 'r&b', 'urban contemporary')",
         "danceability": 0.688,
         "energy": 0.59,
         "key": 9,
         "loudness": -7.535,
         "mode": 0,
         "speechiness": 0.329,
         "acousticness": 0.329,
         "instrumentalness": 0,
         "liveness": 0.105,
         "valence": 0.316,
         "tempo": 96.975,
         "type": "audio_features",
         "id": "5qidBQqsjdwewlQaw16o3L",
         "track_href": "https://api.spotify.com/v1/tracks/5qidBQqsjdwewlQaw16o3L",
         "analysis_url": "https://api.spotify.com/v1/audio-analysis/5qidBQqsjdwewlQaw16o3L",
         "duration_ms": 273794,
         "time_signature": 4,
         "_deepnote_index_column": 8
        },
        {
         "track_uri": "spotify:track:5ChrCVSERccPyn3p2Clsum",
         "track_name": "Insecure",
         "artist_name": "Roy Woods",
         "artist_genres": "('canadian contemporary r&b', 'canadian hip hop', 'pop rap', 'r&b', 'trap', 'trap soul')",
         "danceability": 0.756,
         "energy": 0.484,
         "key": 4,
         "loudness": -9.727,
         "mode": 0,
         "speechiness": 0.0497,
         "acousticness": 0.311,
         "instrumentalness": 0,
         "liveness": 0.11,
         "valence": 0.414,
         "tempo": 92.056,
         "type": "audio_features",
         "id": "5ChrCVSERccPyn3p2Clsum",
         "track_href": "https://api.spotify.com/v1/tracks/5ChrCVSERccPyn3p2Clsum",
         "analysis_url": "https://api.spotify.com/v1/audio-analysis/5ChrCVSERccPyn3p2Clsum",
         "duration_ms": 188133,
         "time_signature": 4,
         "_deepnote_index_column": 9
        }
       ]
      },
      "text/plain": "                                track_uri                       track_name  \\\n0    spotify:track:59nOXPmaKlBfGMDeOVGrIK  WAIT FOR U (feat. Drake & Tems)   \n1    spotify:track:2KdKh9vHbKW0tZLqtpxxI0       Honest (feat. Don Toliver)   \n2    spotify:track:6LL5S3DGrUJ6cZRuDefguP                        Lie Again   \n3    spotify:track:6w93UfN5MeXXQTrVIf5V6x          How (feat. Roddy Ricch)   \n4    spotify:track:6pyM30WDpG70VTfwoQg4m2                       everything   \n..                                    ...                              ...   \n679  spotify:track:1DOgkaR5Gqa8JtPEIbQORC                             Over   \n680  spotify:track:4b1yxSdlumA8N4fEk4UOZp              The Family Madrigal   \n681  spotify:track:5rohUzwEoRsUvAA1Bf3DLo                    Dos Oruguitas   \n682  spotify:track:0lEjxUUlKqjqXrVlIHFduD            P power (feat. Drake)   \n683  spotify:track:48AJSd42lXpicsGqcgopof                     X ÚLTIMA VEZ   \n\n           artist_name                                      artist_genres  \\\n0               Future         (atl hip hop, rap, southern hip hop, trap)   \n1        Justin Bieber                                (canadian pop, pop)   \n2               Giveon                                         (pop, r&b)   \n3             Ella Mai  (dance pop, pop, pop rap, r&b, uk contemporary...   \n4              Kehlani    (alternative r&b, dance pop, pop, pop rap, r&b)   \n..                 ...                                                ...   \n679         Lucky Daye  (alternative r&b, chill r&b, indie r&b, pop, r&b)   \n680  Stephanie Beatriz                                                 ()   \n681    Sebastian Yatra       (colombian pop, latin, reggaeton colombiano)   \n682              Gunna              (atl hip hop, melodic rap, rap, trap)   \n683       Daddy Yankee     (latin, latin hip hop, reggaeton, trap latino)   \n\n     danceability  energy  key  loudness  mode  speechiness  ...  \\\n0           0.463   0.642    1    -4.474     1       0.3400  ...   \n1           0.810   0.655    8    -6.779     0       0.0698  ...   \n2           0.431   0.349    7    -9.426     1       0.0325  ...   \n3           0.464   0.445    4    -8.507     0       0.2380  ...   \n4           0.388   0.448    8    -5.221     0       0.0341  ...   \n..            ...     ...  ...       ...   ...          ...  ...   \n679         0.677   0.541    6    -6.057     0       0.0571  ...   \n680         0.594   0.628    1    -6.345     1       0.3590  ...   \n681         0.423   0.355    0   -10.565     1       0.0454  ...   \n682         0.828   0.591    1    -6.217     1       0.1090  ...   \n683         0.812   0.855    7    -3.725     1       0.0554  ...   \n\n     instrumentalness  liveness  valence    tempo            type  \\\n0            0.000000    0.0686    0.339   83.389  audio_features   \n1            0.000082    0.1050    0.809  150.002  audio_features   \n2            0.000070    0.2410    0.165   62.627  audio_features   \n3            0.000000    0.4950    0.181   94.140  audio_features   \n4            0.000000    0.3020    0.397  142.342  audio_features   \n..                ...       ...      ...      ...             ...   \n679          0.000000    0.1250    0.379  103.369  audio_features   \n680          0.000000    0.0582    0.556  141.391  audio_features   \n681          0.000000    0.0915    0.465   93.788  audio_features   \n682          0.000323    0.3610    0.202  119.251  audio_features   \n683          0.000167    0.1080    0.573   90.040  audio_features   \n\n                         id  \\\n0    59nOXPmaKlBfGMDeOVGrIK   \n1    2KdKh9vHbKW0tZLqtpxxI0   \n2    6LL5S3DGrUJ6cZRuDefguP   \n3    6w93UfN5MeXXQTrVIf5V6x   \n4    6pyM30WDpG70VTfwoQg4m2   \n..                      ...   \n679  1DOgkaR5Gqa8JtPEIbQORC   \n680  4b1yxSdlumA8N4fEk4UOZp   \n681  5rohUzwEoRsUvAA1Bf3DLo   \n682  0lEjxUUlKqjqXrVlIHFduD   \n683  48AJSd42lXpicsGqcgopof   \n\n                                            track_href  \\\n0    https://api.spotify.com/v1/tracks/59nOXPmaKlBf...   \n1    https://api.spotify.com/v1/tracks/2KdKh9vHbKW0...   \n2    https://api.spotify.com/v1/tracks/6LL5S3DGrUJ6...   \n3    https://api.spotify.com/v1/tracks/6w93UfN5MeXX...   \n4    https://api.spotify.com/v1/tracks/6pyM30WDpG70...   \n..                                                 ...   \n679  https://api.spotify.com/v1/tracks/1DOgkaR5Gqa8...   \n680  https://api.spotify.com/v1/tracks/4b1yxSdlumA8...   \n681  https://api.spotify.com/v1/tracks/5rohUzwEoRsU...   \n682  https://api.spotify.com/v1/tracks/0lEjxUUlKqjq...   \n683  https://api.spotify.com/v1/tracks/48AJSd42lXpi...   \n\n                                          analysis_url duration_ms  \\\n0    https://api.spotify.com/v1/audio-analysis/59nO...      189893   \n1    https://api.spotify.com/v1/audio-analysis/2KdK...      193322   \n2    https://api.spotify.com/v1/audio-analysis/6LL5...      187027   \n3    https://api.spotify.com/v1/audio-analysis/6w93...      218320   \n4    https://api.spotify.com/v1/audio-analysis/6pyM...      207551   \n..                                                 ...         ...   \n679  https://api.spotify.com/v1/audio-analysis/1DOg...      205276   \n680  https://api.spotify.com/v1/audio-analysis/4b1y...      257213   \n681  https://api.spotify.com/v1/audio-analysis/5roh...      214613   \n682  https://api.spotify.com/v1/audio-analysis/0lEj...      193347   \n683  https://api.spotify.com/v1/audio-analysis/48AJ...      192477   \n\n     time_signature  \n0                 4  \n1                 4  \n2                 3  \n3                 4  \n4                 5  \n..              ...  \n679               4  \n680               4  \n681               4  \n682               4  \n683               4  \n\n[684 rows x 21 columns]",
      "text/html": "<div>\n<style scoped>\n    .dataframe tbody tr th:only-of-type {\n        vertical-align: middle;\n    }\n\n    .dataframe tbody tr th {\n        vertical-align: top;\n    }\n\n    .dataframe thead th {\n        text-align: right;\n    }\n</style>\n<table border=\"1\" class=\"dataframe\">\n  <thead>\n    <tr style=\"text-align: right;\">\n      <th></th>\n      <th>track_uri</th>\n      <th>track_name</th>\n      <th>artist_name</th>\n      <th>artist_genres</th>\n      <th>danceability</th>\n      <th>energy</th>\n      <th>key</th>\n      <th>loudness</th>\n      <th>mode</th>\n      <th>speechiness</th>\n      <th>...</th>\n      <th>instrumentalness</th>\n      <th>liveness</th>\n      <th>valence</th>\n      <th>tempo</th>\n      <th>type</th>\n      <th>id</th>\n      <th>track_href</th>\n      <th>analysis_url</th>\n      <th>duration_ms</th>\n      <th>time_signature</th>\n    </tr>\n  </thead>\n  <tbody>\n    <tr>\n      <th>0</th>\n      <td>spotify:track:59nOXPmaKlBfGMDeOVGrIK</td>\n      <td>WAIT FOR U (feat. Drake &amp; Tems)</td>\n      <td>Future</td>\n      <td>(atl hip hop, rap, southern hip hop, trap)</td>\n      <td>0.463</td>\n      <td>0.642</td>\n      <td>1</td>\n      <td>-4.474</td>\n      <td>1</td>\n      <td>0.3400</td>\n      <td>...</td>\n      <td>0.000000</td>\n      <td>0.0686</td>\n      <td>0.339</td>\n      <td>83.389</td>\n      <td>audio_features</td>\n      <td>59nOXPmaKlBfGMDeOVGrIK</td>\n      <td>https://api.spotify.com/v1/tracks/59nOXPmaKlBf...</td>\n      <td>https://api.spotify.com/v1/audio-analysis/59nO...</td>\n      <td>189893</td>\n      <td>4</td>\n    </tr>\n    <tr>\n      <th>1</th>\n      <td>spotify:track:2KdKh9vHbKW0tZLqtpxxI0</td>\n      <td>Honest (feat. Don Toliver)</td>\n      <td>Justin Bieber</td>\n      <td>(canadian pop, pop)</td>\n      <td>0.810</td>\n      <td>0.655</td>\n      <td>8</td>\n      <td>-6.779</td>\n      <td>0</td>\n      <td>0.0698</td>\n      <td>...</td>\n      <td>0.000082</td>\n      <td>0.1050</td>\n      <td>0.809</td>\n      <td>150.002</td>\n      <td>audio_features</td>\n      <td>2KdKh9vHbKW0tZLqtpxxI0</td>\n      <td>https://api.spotify.com/v1/tracks/2KdKh9vHbKW0...</td>\n      <td>https://api.spotify.com/v1/audio-analysis/2KdK...</td>\n      <td>193322</td>\n      <td>4</td>\n    </tr>\n    <tr>\n      <th>2</th>\n      <td>spotify:track:6LL5S3DGrUJ6cZRuDefguP</td>\n      <td>Lie Again</td>\n      <td>Giveon</td>\n      <td>(pop, r&amp;b)</td>\n      <td>0.431</td>\n      <td>0.349</td>\n      <td>7</td>\n      <td>-9.426</td>\n      <td>1</td>\n      <td>0.0325</td>\n      <td>...</td>\n      <td>0.000070</td>\n      <td>0.2410</td>\n      <td>0.165</td>\n      <td>62.627</td>\n      <td>audio_features</td>\n      <td>6LL5S3DGrUJ6cZRuDefguP</td>\n      <td>https://api.spotify.com/v1/tracks/6LL5S3DGrUJ6...</td>\n      <td>https://api.spotify.com/v1/audio-analysis/6LL5...</td>\n      <td>187027</td>\n      <td>3</td>\n    </tr>\n    <tr>\n      <th>3</th>\n      <td>spotify:track:6w93UfN5MeXXQTrVIf5V6x</td>\n      <td>How (feat. Roddy Ricch)</td>\n      <td>Ella Mai</td>\n      <td>(dance pop, pop, pop rap, r&amp;b, uk contemporary...</td>\n      <td>0.464</td>\n      <td>0.445</td>\n      <td>4</td>\n      <td>-8.507</td>\n      <td>0</td>\n      <td>0.2380</td>\n      <td>...</td>\n      <td>0.000000</td>\n      <td>0.4950</td>\n      <td>0.181</td>\n      <td>94.140</td>\n      <td>audio_features</td>\n      <td>6w93UfN5MeXXQTrVIf5V6x</td>\n      <td>https://api.spotify.com/v1/tracks/6w93UfN5MeXX...</td>\n      <td>https://api.spotify.com/v1/audio-analysis/6w93...</td>\n      <td>218320</td>\n      <td>4</td>\n    </tr>\n    <tr>\n      <th>4</th>\n      <td>spotify:track:6pyM30WDpG70VTfwoQg4m2</td>\n      <td>everything</td>\n      <td>Kehlani</td>\n      <td>(alternative r&amp;b, dance pop, pop, pop rap, r&amp;b)</td>\n      <td>0.388</td>\n      <td>0.448</td>\n      <td>8</td>\n      <td>-5.221</td>\n      <td>0</td>\n      <td>0.0341</td>\n      <td>...</td>\n      <td>0.000000</td>\n      <td>0.3020</td>\n      <td>0.397</td>\n      <td>142.342</td>\n      <td>audio_features</td>\n      <td>6pyM30WDpG70VTfwoQg4m2</td>\n      <td>https://api.spotify.com/v1/tracks/6pyM30WDpG70...</td>\n      <td>https://api.spotify.com/v1/audio-analysis/6pyM...</td>\n      <td>207551</td>\n      <td>5</td>\n    </tr>\n    <tr>\n      <th>...</th>\n      <td>...</td>\n      <td>...</td>\n      <td>...</td>\n      <td>...</td>\n      <td>...</td>\n      <td>...</td>\n      <td>...</td>\n      <td>...</td>\n      <td>...</td>\n      <td>...</td>\n      <td>...</td>\n      <td>...</td>\n      <td>...</td>\n      <td>...</td>\n      <td>...</td>\n      <td>...</td>\n      <td>...</td>\n      <td>...</td>\n      <td>...</td>\n      <td>...</td>\n      <td>...</td>\n    </tr>\n    <tr>\n      <th>679</th>\n      <td>spotify:track:1DOgkaR5Gqa8JtPEIbQORC</td>\n      <td>Over</td>\n      <td>Lucky Daye</td>\n      <td>(alternative r&amp;b, chill r&amp;b, indie r&amp;b, pop, r&amp;b)</td>\n      <td>0.677</td>\n      <td>0.541</td>\n      <td>6</td>\n      <td>-6.057</td>\n      <td>0</td>\n      <td>0.0571</td>\n      <td>...</td>\n      <td>0.000000</td>\n      <td>0.1250</td>\n      <td>0.379</td>\n      <td>103.369</td>\n      <td>audio_features</td>\n      <td>1DOgkaR5Gqa8JtPEIbQORC</td>\n      <td>https://api.spotify.com/v1/tracks/1DOgkaR5Gqa8...</td>\n      <td>https://api.spotify.com/v1/audio-analysis/1DOg...</td>\n      <td>205276</td>\n      <td>4</td>\n    </tr>\n    <tr>\n      <th>680</th>\n      <td>spotify:track:4b1yxSdlumA8N4fEk4UOZp</td>\n      <td>The Family Madrigal</td>\n      <td>Stephanie Beatriz</td>\n      <td>()</td>\n      <td>0.594</td>\n      <td>0.628</td>\n      <td>1</td>\n      <td>-6.345</td>\n      <td>1</td>\n      <td>0.3590</td>\n      <td>...</td>\n      <td>0.000000</td>\n      <td>0.0582</td>\n      <td>0.556</td>\n      <td>141.391</td>\n      <td>audio_features</td>\n      <td>4b1yxSdlumA8N4fEk4UOZp</td>\n      <td>https://api.spotify.com/v1/tracks/4b1yxSdlumA8...</td>\n      <td>https://api.spotify.com/v1/audio-analysis/4b1y...</td>\n      <td>257213</td>\n      <td>4</td>\n    </tr>\n    <tr>\n      <th>681</th>\n      <td>spotify:track:5rohUzwEoRsUvAA1Bf3DLo</td>\n      <td>Dos Oruguitas</td>\n      <td>Sebastian Yatra</td>\n      <td>(colombian pop, latin, reggaeton colombiano)</td>\n      <td>0.423</td>\n      <td>0.355</td>\n      <td>0</td>\n      <td>-10.565</td>\n      <td>1</td>\n      <td>0.0454</td>\n      <td>...</td>\n      <td>0.000000</td>\n      <td>0.0915</td>\n      <td>0.465</td>\n      <td>93.788</td>\n      <td>audio_features</td>\n      <td>5rohUzwEoRsUvAA1Bf3DLo</td>\n      <td>https://api.spotify.com/v1/tracks/5rohUzwEoRsU...</td>\n      <td>https://api.spotify.com/v1/audio-analysis/5roh...</td>\n      <td>214613</td>\n      <td>4</td>\n    </tr>\n    <tr>\n      <th>682</th>\n      <td>spotify:track:0lEjxUUlKqjqXrVlIHFduD</td>\n      <td>P power (feat. Drake)</td>\n      <td>Gunna</td>\n      <td>(atl hip hop, melodic rap, rap, trap)</td>\n      <td>0.828</td>\n      <td>0.591</td>\n      <td>1</td>\n      <td>-6.217</td>\n      <td>1</td>\n      <td>0.1090</td>\n      <td>...</td>\n      <td>0.000323</td>\n      <td>0.3610</td>\n      <td>0.202</td>\n      <td>119.251</td>\n      <td>audio_features</td>\n      <td>0lEjxUUlKqjqXrVlIHFduD</td>\n      <td>https://api.spotify.com/v1/tracks/0lEjxUUlKqjq...</td>\n      <td>https://api.spotify.com/v1/audio-analysis/0lEj...</td>\n      <td>193347</td>\n      <td>4</td>\n    </tr>\n    <tr>\n      <th>683</th>\n      <td>spotify:track:48AJSd42lXpicsGqcgopof</td>\n      <td>X ÚLTIMA VEZ</td>\n      <td>Daddy Yankee</td>\n      <td>(latin, latin hip hop, reggaeton, trap latino)</td>\n      <td>0.812</td>\n      <td>0.855</td>\n      <td>7</td>\n      <td>-3.725</td>\n      <td>1</td>\n      <td>0.0554</td>\n      <td>...</td>\n      <td>0.000167</td>\n      <td>0.1080</td>\n      <td>0.573</td>\n      <td>90.040</td>\n      <td>audio_features</td>\n      <td>48AJSd42lXpicsGqcgopof</td>\n      <td>https://api.spotify.com/v1/tracks/48AJSd42lXpi...</td>\n      <td>https://api.spotify.com/v1/audio-analysis/48AJ...</td>\n      <td>192477</td>\n      <td>4</td>\n    </tr>\n  </tbody>\n</table>\n<p>684 rows × 21 columns</p>\n</div>"
     },
     "metadata": {}
    }
   ]
  },
  {
   "cell_type": "code",
   "metadata": {
    "cell_id": "df5f839935464266b8aa56a58074700c",
    "tags": [],
    "deepnote_to_be_reexecuted": false,
    "source_hash": "4c1e7a74",
    "execution_start": 1652379304909,
    "execution_millis": 1,
    "deepnote_cell_type": "code",
    "deepnote_cell_height": 80.96875
   },
   "source": "final_df.to_csv('raw_spotify_data.csv')  ",
   "execution_count": null,
   "outputs": []
  },
  {
   "cell_type": "markdown",
   "source": "## Add in lyric data from lyricgenius API",
   "metadata": {
    "cell_id": "41d8b5bcc4f1414fbe91ceb95611f4cd",
    "tags": [],
    "deepnote_to_be_reexecuted": false,
    "source_hash": "73581b23",
    "execution_start": 1652216621515,
    "execution_millis": 411,
    "deepnote_cell_type": "markdown",
    "deepnote_cell_height": 69.96875,
    "deepnote_output_heights": [
     21.1875
    ]
   }
  },
  {
   "cell_type": "code",
   "metadata": {
    "cell_id": "4b31319f68444fe9a263956c17cfb7eb",
    "tags": [],
    "deepnote_to_be_reexecuted": false,
    "source_hash": "7116c864",
    "execution_start": 1652289188909,
    "execution_millis": 6884,
    "deepnote_cell_type": "code",
    "deepnote_cell_height": 409.859375
   },
   "source": "# Import necessary libraries\n!pip install lyricsgenius\nimport lyricsgenius",
   "execution_count": null,
   "outputs": [
    {
     "name": "stdout",
     "text": "Requirement already satisfied: lyricsgenius in /root/venv/lib/python3.7/site-packages (3.0.1)\nRequirement already satisfied: requests>=2.20.0 in /shared-libs/python3.7/py/lib/python3.7/site-packages (from lyricsgenius) (2.27.1)\nRequirement already satisfied: beautifulsoup4>=4.6.0 in /shared-libs/python3.7/py/lib/python3.7/site-packages (from lyricsgenius) (4.11.1)\nRequirement already satisfied: idna<4,>=2.5; python_version >= \"3\" in /shared-libs/python3.7/py-core/lib/python3.7/site-packages (from requests>=2.20.0->lyricsgenius) (3.3)\nRequirement already satisfied: certifi>=2017.4.17 in /shared-libs/python3.7/py/lib/python3.7/site-packages (from requests>=2.20.0->lyricsgenius) (2021.10.8)\nRequirement already satisfied: charset-normalizer~=2.0.0; python_version >= \"3\" in /shared-libs/python3.7/py-core/lib/python3.7/site-packages (from requests>=2.20.0->lyricsgenius) (2.0.12)\nRequirement already satisfied: urllib3<1.27,>=1.21.1 in /shared-libs/python3.7/py/lib/python3.7/site-packages (from requests>=2.20.0->lyricsgenius) (1.26.9)\nRequirement already satisfied: soupsieve>1.2 in /shared-libs/python3.7/py/lib/python3.7/site-packages (from beautifulsoup4>=4.6.0->lyricsgenius) (2.3.2.post1)\n\u001b[33mWARNING: You are using pip version 20.1.1; however, version 22.0.4 is available.\nYou should consider upgrading via the '/root/venv/bin/python -m pip install --upgrade pip' command.\u001b[0m\n",
     "output_type": "stream"
    }
   ]
  },
  {
   "cell_type": "code",
   "metadata": {
    "cell_id": "697bca7d00fb4d58ac02c69da4b71363",
    "tags": [],
    "deepnote_to_be_reexecuted": false,
    "source_hash": "62c5a5be",
    "execution_start": 1652289195815,
    "execution_millis": 5,
    "deepnote_cell_type": "code",
    "deepnote_cell_height": 170.96875
   },
   "source": "# Gain access to the api\naccess_token = \"me-MXmuCTyJWDZ1MmERAAyivlY61EvPSD7KX2lBynV60vCOlEheYc6HVfPGlQ0ru\"\ngenius = lyricsgenius.Genius(access_token)\n\n# And we'll remove the section headers\ngenius.remove_section_headers = True",
   "execution_count": null,
   "outputs": []
  },
  {
   "cell_type": "code",
   "metadata": {
    "cell_id": "38930331cd4e4a2382a56573c70b1951",
    "tags": [],
    "deepnote_to_be_reexecuted": false,
    "source_hash": "573e7f7",
    "execution_start": 1652289195833,
    "execution_millis": 1935938,
    "deepnote_cell_type": "code",
    "deepnote_cell_height": 278.96875
   },
   "source": "# Define a function that returns the lyrics of a particular song\ndef grab_lyric(row):\n\n    # Grab the lyrics\n    lyr = genius.search_song(row['track_name'], row['artist_name'])\n\n    try: \n        lyr = lyr.lyrics\n    except:\n        pass\n\n    return lyr",
   "execution_count": null,
   "outputs": []
  },
  {
   "cell_type": "code",
   "metadata": {
    "cell_id": "c4bdaf60469f4e529ca976c01c76d9bc",
    "tags": [],
    "deepnote_to_be_reexecuted": false,
    "source_hash": "aa9362d9",
    "execution_start": 1652289195901,
    "execution_millis": 178025,
    "deepnote_cell_type": "code",
    "deepnote_cell_height": 797.125
   },
   "source": "# Apply the function above to our dataset\nfinal_df['lyric_raw'] = final_df.apply(grab_lyric, axis = 1)",
   "execution_count": null,
   "outputs": [
    {
     "name": "stdout",
     "text": "Searching for \"As It Was\" by Harry Styles...\nDone.\nSearching for \"First Class\" by Jack Harlow...\nDone.\nSearching for \"Heat Waves\" by Glass Animals...\nDone.\nSearching for \"Big Energy\" by Latto...\nDone.\nSearching for \"Enemy (with JID) - from the series Arcane League of Legends\" by Imagine Dragons...\nDone.\nSearching for \"STAY (with Justin Bieber)\" by The Kid LAROI...\nDone.\nSearching for \"Don't Think Jesus\" by Morgan Wallen...\nDone.\nSearching for \"Woman\" by Doja Cat...\nDone.\nSearching for \"Super Gremlin\" by Kodak Black...\nDone.\nSearching for \"Ghost\" by Justin Bieber...\nDone.\nSearching for \"THATS WHAT I WANT\" by Lil Nas X...\nDone.\nSearching for \"Bad Habits\" by Ed Sheeran...\nDone.\nSearching for \"abcdefu\" by GAYLE...\nDone.\nSearching for \"Shivers\" by Ed Sheeran...\nDone.\nSearching for \"Cold Heart - PNAU Remix\" by Elton John...\nDone.\nSearching for \"Easy On Me\" by Adele...\nDone.\nSearching for \"Need to Know\" by Doja Cat...\nDone.\nSearching for \"Save Your Tears (with Ariana Grande) (Remix)\" by The Weeknd...\nDone.\nSearching for \"One Right Now (with The Weeknd)\" by Post Malone...\nDone.\nSearching for \"In A Minute\" by Lil Baby...\nDone.\nSearching for \"Levitating\" by Dua Lipa...\nDone.\nSearching for \"'Til You Can't\" by Cody Johnson...\nDone.\nSearching for \"INDUSTRY BABY (feat. Jack Harlow)\" by Lil Nas X...\nDone.\nSearching for \"MAMIII\" by Becky G...\nDone.\nSearching for \"Bam Bam (feat. Ed Sheeran)\" by Camila Cabello...\nDone.\nSearching for \"Hrs and Hrs\" by Muni Long...\nDone.\nSearching for \"We Don't Talk About Bruno\" by Carolina Gaitán - La Gaita...\nNo results found for: 'We Don't Talk About Bruno Carolina Gaitán - La Gaita'\nSearching for \"Right On\" by Lil Baby...\nDone.\nSearching for \"Never Say Never (with Lainey Wilson)\" by Cole Swindell...\nDone.\nSearching for \"Doin' This\" by Luke Combs...\nDone.\nSearching for \"Wasted On You\" by Morgan Wallen...\nDone.\nSearching for \"AA\" by Walker Hayes...\nDone.\nSearching for \"good 4 u\" by Olivia Rodrigo...\nDone.\nSearching for \"Sweetest Pie\" by Megan Thee Stallion...\nDone.\nSearching for \"Fingers Crossed\" by Lauren Spencer-Smith...\nDone.\nSearching for \"I Hate U\" by SZA...\nDone.\nSearching for \"Boyfriend\" by Dove Cameron...\nDone.\nSearching for \"TO THE MOON\" by Jnr Choi...\nDone.\nSearching for \"You Right\" by Doja Cat...\nDone.\nSearching for \"Numb Little Bug\" by Em Beihold...\nDone.\nSearching for \"Fancy Like\" by Walker Hayes...\nDone.\nSearching for \"Sand In My Boots\" by Morgan Wallen...\nDone.\nSearching for \"What Happened To Virgil (feat. Gunna)\" by Lil Durk...\nDone.\nSearching for \"pushin P (feat. Young Thug)\" by Gunna...\nDone.\nSearching for \"Beers On Me\" by Dierks Bentley...\nDone.\nSearching for \"The Motto\" by Tiësto...\nDone.\nSearching for \"she's all i wanna be\" by Tate McRae...\nDone.\nSearching for \"When You're Gone\" by Shawn Mendes...\nDone.\nSearching for \"Buy Dirt\" by Jordan Davis...\nDone.\nSearching for \"About Damn Time\" by Lizzo...\nDone.\nSearching for \"Shake It (feat. Cardi B, Dougie B & Bory300)\" by Kay Flock...\nDone.\nSearching for \"Light Switch\" by Charlie Puth...\nDone.\nSearching for \"If I Was a Cowboy\" by Miranda Lambert...\nDone.\nSearching for \"Peru\" by Fireboy DML...\nDone.\nSearching for \"Flowers\" by Lauren Spencer-Smith...\nDone.\nSearching for \"Nail Tech\" by Jack Harlow...\nDone.\nSearching for \"Freaky Deaky\" by Tyga...\nDone.\nSearching for \"23\" by Sam Hunt...\nDone.\nSearching for \"Trouble With A Heartbreak\" by Jason Aldean...\nDone.\nSearching for \"Broadway Girls (feat. Morgan Wallen)\" by Lil Durk...\nDone.\nSearching for \"Heart On Fire\" by Eric Church...\nDone.\nSearching for \"No Love (with SZA)\" by Summer Walker...\nDone.\nSearching for \"Surface Pressure\" by Jessica Darrow...\nDone.\nSearching for \"Slow Down Summer\" by Thomas Rhett...\nDone.\nSearching for \"Flower Shops (feat. Morgan Wallen)\" by ERNEST...\nDone.\nSearching for \"Never Wanted To Be That Girl\" by Carly Pearce...\nDone.\nSearching for \"Me or Sum (feat. Future & Lil Baby)\" by Nardo Wick...\nDone.\nSearching for \"AHHH HA\" by Lil Durk...\nDone.\nSearching for \"GIVE HEAVEN SOME HELL\" by HARDY...\nDone.\nSearching for \"HANDSOMER (Remix) (Feat. Ktlyn)\" by Russ...\nDone.\nSearching for \"Envolver\" by Anitta...\nDone.\nSearching for \"Do We Have A Problem?\" by Nicki Minaj...\nDone.\nSearching for \"Get Into It (Yuh)\" by Doja Cat...\nDone.\nSearching for \"Rumors (feat. Lil Durk)\" by Gucci Mane...\nDone.\nSearching for \"Take My Name\" by Parmalee...\nDone.\nSearching for \"Damn Strait\" by Scotty McCreery...\nDone.\nSearching for \"Circles Around This Town\" by Maren Morris...\nDone.\nSearching for \"In My Head\" by Lil Tjay...\nDone.\nSearching for \"Nobody Like U - From \"Turning Red\"\" by 4*TOWN (From Disney and Pixar’s Turning Red)...\nNo results found for: 'Nobody Like U - From \"Turning Red\" 4*TOWN (From Disney and Pixar’s Turning Red)'\nSearching for \"Soy El Unico\" by Yahritza Y Su Esencia...\nDone.\nSearching for \"I Love You So\" by The Walters...\nDone.\nSearching for \"Come Back As A Country Boy\" by Blake Shelton...\nDone.\nSearching for \"GINÉ\" by 6ix9ine...\nDone.\nSearching for \"City of Gods\" by Fivio Foreign...\nDone.\nSearching for \"COMPLETE MESS\" by 5 Seconds of Summer...\nDone.\nSearching for \"Leave You Alone\" by Kane Brown...\nDone.\nSearching for \"Bones\" by Imagine Dragons...\nDone.\nSearching for \"Banking On Me\" by Gunna...\nDone.\nSearching for \"She Likes It (feat. Jake Scott)\" by Russell Dickerson...\nDone.\nSearching for \"Pressure\" by Ari Lennox...\nDone.\nSearching for \"Desesperados\" by Rauw Alejandro...\nDone.\nSearching for \"Over\" by Lucky Daye...\nDone.\nSearching for \"The Family Madrigal\" by Stephanie Beatriz...\nDone.\nSearching for \"Hate Our Love (with Big Sean)\" by Queen Naija...\nDone.\nSearching for \"Dos Oruguitas\" by Sebastian Yatra...\nDone.\nSearching for \"P power (feat. Drake)\" by Gunna...\nDone.\nSearching for \"Monëy so big\" by Yeat...\nDone.\nSearching for \"Blick Blick (with Nicki Minaj)\" by Coi Leray...\nDone.\nSearching for \"Fall In Love\" by Bailey Zimmerman...\nDone.\nSearching for \"X ÚLTIMA VEZ\" by Daddy Yankee...\nDone.\n",
     "output_type": "stream"
    }
   ]
  },
  {
   "cell_type": "code",
   "metadata": {
    "cell_id": "42f1d36fed4b45bc8e904cb9fec0b664",
    "tags": [],
    "deepnote_to_be_reexecuted": false,
    "source_hash": "2a8f16c0",
    "execution_start": 1652289373663,
    "execution_millis": 308,
    "deepnote_cell_type": "code",
    "deepnote_cell_height": 618.65625
   },
   "source": "final_df",
   "execution_count": null,
   "outputs": [
    {
     "output_type": "execute_result",
     "execution_count": 18,
     "data": {
      "application/vnd.deepnote.dataframe.v3+json": {
       "column_count": 22,
       "row_count": 100,
       "columns": [
        {
         "name": "track_uri",
         "dtype": "object",
         "stats": {
          "unique_count": 100,
          "nan_count": 0,
          "categories": [
           {
            "name": "spotify:track:4LRPiXqCikLlN15c3yImP7",
            "count": 1
           },
           {
            "name": "spotify:track:1rDQ4oMwGJI7B4tovsBOxc",
            "count": 1
           },
           {
            "name": "98 others",
            "count": 98
           }
          ]
         }
        },
        {
         "name": "track_name",
         "dtype": "object",
         "stats": {
          "unique_count": 100,
          "nan_count": 0,
          "categories": [
           {
            "name": "As It Was",
            "count": 1
           },
           {
            "name": "First Class",
            "count": 1
           },
           {
            "name": "98 others",
            "count": 98
           }
          ]
         }
        },
        {
         "name": "artist_name",
         "dtype": "object",
         "stats": {
          "unique_count": 84,
          "nan_count": 0,
          "categories": [
           {
            "name": "Doja Cat",
            "count": 4
           },
           {
            "name": "Morgan Wallen",
            "count": 3
           },
           {
            "name": "82 others",
            "count": 93
           }
          ]
         }
        },
        {
         "name": "artist_genres",
         "dtype": "object",
         "stats": {
          "unique_count": 68,
          "nan_count": 0,
          "categories": [
           {
            "name": "('contemporary country', 'country', 'country road', 'modern country rock')",
            "count": 7
           },
           {
            "name": "('contemporary country',)",
            "count": 6
           },
           {
            "name": "66 others",
            "count": 87
           }
          ]
         }
        },
        {
         "name": "danceability",
         "dtype": "float64",
         "stats": {
          "unique_count": 87,
          "nan_count": 0,
          "min": "0.345",
          "max": "0.956",
          "histogram": [
           {
            "bin_start": 0.345,
            "bin_end": 0.40609999999999996,
            "count": 3
           },
           {
            "bin_start": 0.40609999999999996,
            "bin_end": 0.46719999999999995,
            "count": 3
           },
           {
            "bin_start": 0.46719999999999995,
            "bin_end": 0.5283,
            "count": 10
           },
           {
            "bin_start": 0.5283,
            "bin_end": 0.5893999999999999,
            "count": 13
           },
           {
            "bin_start": 0.5893999999999999,
            "bin_end": 0.6505,
            "count": 17
           },
           {
            "bin_start": 0.6505,
            "bin_end": 0.7116,
            "count": 17
           },
           {
            "bin_start": 0.7116,
            "bin_end": 0.7726999999999999,
            "count": 8
           },
           {
            "bin_start": 0.7726999999999999,
            "bin_end": 0.8338,
            "count": 16
           },
           {
            "bin_start": 0.8338,
            "bin_end": 0.8949,
            "count": 7
           },
           {
            "bin_start": 0.8949,
            "bin_end": 0.956,
            "count": 6
           }
          ]
         }
        },
        {
         "name": "energy",
         "dtype": "float64",
         "stats": {
          "unique_count": 90,
          "nan_count": 0,
          "min": "0.308",
          "max": "0.937",
          "histogram": [
           {
            "bin_start": 0.308,
            "bin_end": 0.3709,
            "count": 4
           },
           {
            "bin_start": 0.3709,
            "bin_end": 0.43379999999999996,
            "count": 5
           },
           {
            "bin_start": 0.43379999999999996,
            "bin_end": 0.4967,
            "count": 5
           },
           {
            "bin_start": 0.4967,
            "bin_end": 0.5596,
            "count": 14
           },
           {
            "bin_start": 0.5596,
            "bin_end": 0.6225,
            "count": 14
           },
           {
            "bin_start": 0.6225,
            "bin_end": 0.6854,
            "count": 16
           },
           {
            "bin_start": 0.6854,
            "bin_end": 0.7483,
            "count": 14
           },
           {
            "bin_start": 0.7483,
            "bin_end": 0.8111999999999999,
            "count": 13
           },
           {
            "bin_start": 0.8111999999999999,
            "bin_end": 0.8740999999999999,
            "count": 11
           },
           {
            "bin_start": 0.8740999999999999,
            "bin_end": 0.937,
            "count": 4
           }
          ]
         }
        },
        {
         "name": "key",
         "dtype": "int64",
         "stats": {
          "unique_count": 12,
          "nan_count": 0,
          "min": "0",
          "max": "11",
          "histogram": [
           {
            "bin_start": 0,
            "bin_end": 1.1,
            "count": 26
           },
           {
            "bin_start": 1.1,
            "bin_end": 2.2,
            "count": 13
           },
           {
            "bin_start": 2.2,
            "bin_end": 3.3000000000000003,
            "count": 4
           },
           {
            "bin_start": 3.3000000000000003,
            "bin_end": 4.4,
            "count": 12
           },
           {
            "bin_start": 4.4,
            "bin_end": 5.5,
            "count": 7
           },
           {
            "bin_start": 5.5,
            "bin_end": 6.6000000000000005,
            "count": 7
           },
           {
            "bin_start": 6.6000000000000005,
            "bin_end": 7.700000000000001,
            "count": 10
           },
           {
            "bin_start": 7.700000000000001,
            "bin_end": 8.8,
            "count": 10
           },
           {
            "bin_start": 8.8,
            "bin_end": 9.9,
            "count": 2
           },
           {
            "bin_start": 9.9,
            "bin_end": 11,
            "count": 9
           }
          ]
         }
        },
        {
         "name": "loudness",
         "dtype": "float64",
         "stats": {
          "unique_count": 100,
          "nan_count": 0,
          "min": "-11.814",
          "max": "-2.278",
          "histogram": [
           {
            "bin_start": -11.814,
            "bin_end": -10.8604,
            "count": 2
           },
           {
            "bin_start": -10.8604,
            "bin_end": -9.9068,
            "count": 2
           },
           {
            "bin_start": -9.9068,
            "bin_end": -8.953199999999999,
            "count": 4
           },
           {
            "bin_start": -8.953199999999999,
            "bin_end": -7.9996,
            "count": 4
           },
           {
            "bin_start": -7.9996,
            "bin_end": -7.046,
            "count": 7
           },
           {
            "bin_start": -7.046,
            "bin_end": -6.0924,
            "count": 24
           },
           {
            "bin_start": -6.0924,
            "bin_end": -5.1388,
            "count": 24
           },
           {
            "bin_start": -5.1388,
            "bin_end": -4.1852,
            "count": 20
           },
           {
            "bin_start": -4.1852,
            "bin_end": -3.2316000000000003,
            "count": 11
           },
           {
            "bin_start": -3.2316000000000003,
            "bin_end": -2.278,
            "count": 2
           }
          ]
         }
        },
        {
         "name": "mode",
         "dtype": "int64",
         "stats": {
          "unique_count": 2,
          "nan_count": 0,
          "min": "0",
          "max": "1",
          "histogram": [
           {
            "bin_start": 0,
            "bin_end": 0.1,
            "count": 39
           },
           {
            "bin_start": 0.1,
            "bin_end": 0.2,
            "count": 0
           },
           {
            "bin_start": 0.2,
            "bin_end": 0.30000000000000004,
            "count": 0
           },
           {
            "bin_start": 0.30000000000000004,
            "bin_end": 0.4,
            "count": 0
           },
           {
            "bin_start": 0.4,
            "bin_end": 0.5,
            "count": 0
           },
           {
            "bin_start": 0.5,
            "bin_end": 0.6000000000000001,
            "count": 0
           },
           {
            "bin_start": 0.6000000000000001,
            "bin_end": 0.7000000000000001,
            "count": 0
           },
           {
            "bin_start": 0.7000000000000001,
            "bin_end": 0.8,
            "count": 0
           },
           {
            "bin_start": 0.8,
            "bin_end": 0.9,
            "count": 0
           },
           {
            "bin_start": 0.9,
            "bin_end": 1,
            "count": 61
           }
          ]
         }
        },
        {
         "name": "speechiness",
         "dtype": "float64",
         "stats": {
          "unique_count": 97,
          "nan_count": 0,
          "min": "0.0269",
          "max": "0.611",
          "histogram": [
           {
            "bin_start": 0.0269,
            "bin_end": 0.08531,
            "count": 60
           },
           {
            "bin_start": 0.08531,
            "bin_end": 0.14372,
            "count": 10
           },
           {
            "bin_start": 0.14372,
            "bin_end": 0.20213,
            "count": 8
           },
           {
            "bin_start": 0.20213,
            "bin_end": 0.26054,
            "count": 6
           },
           {
            "bin_start": 0.26054,
            "bin_end": 0.31894999999999996,
            "count": 7
           },
           {
            "bin_start": 0.31894999999999996,
            "bin_end": 0.37736,
            "count": 4
           },
           {
            "bin_start": 0.37736,
            "bin_end": 0.43576999999999994,
            "count": 4
           },
           {
            "bin_start": 0.43576999999999994,
            "bin_end": 0.49417999999999995,
            "count": 0
           },
           {
            "bin_start": 0.49417999999999995,
            "bin_end": 0.55259,
            "count": 0
           },
           {
            "bin_start": 0.55259,
            "bin_end": 0.611,
            "count": 1
           }
          ]
         }
        },
        {
         "name": "acousticness",
         "dtype": "float64",
         "stats": {
          "unique_count": 96,
          "nan_count": 0,
          "min": "0.000114",
          "max": "0.869",
          "histogram": [
           {
            "bin_start": 0.000114,
            "bin_end": 0.08700260000000001,
            "count": 43
           },
           {
            "bin_start": 0.08700260000000001,
            "bin_end": 0.17389120000000002,
            "count": 17
           },
           {
            "bin_start": 0.17389120000000002,
            "bin_end": 0.26077980000000006,
            "count": 10
           },
           {
            "bin_start": 0.26077980000000006,
            "bin_end": 0.34766840000000004,
            "count": 8
           },
           {
            "bin_start": 0.34766840000000004,
            "bin_end": 0.434557,
            "count": 3
           },
           {
            "bin_start": 0.434557,
            "bin_end": 0.5214456000000001,
            "count": 9
           },
           {
            "bin_start": 0.5214456000000001,
            "bin_end": 0.6083342,
            "count": 5
           },
           {
            "bin_start": 0.6083342,
            "bin_end": 0.6952228,
            "count": 3
           },
           {
            "bin_start": 0.6952228,
            "bin_end": 0.7821114,
            "count": 1
           },
           {
            "bin_start": 0.7821114,
            "bin_end": 0.869,
            "count": 1
           }
          ]
         }
        },
        {
         "name": "instrumentalness",
         "dtype": "float64",
         "stats": {
          "unique_count": 35,
          "nan_count": 0,
          "min": "0.0",
          "max": "0.00758",
          "histogram": [
           {
            "bin_start": 0,
            "bin_end": 0.000758,
            "count": 91
           },
           {
            "bin_start": 0.000758,
            "bin_end": 0.001516,
            "count": 4
           },
           {
            "bin_start": 0.001516,
            "bin_end": 0.002274,
            "count": 0
           },
           {
            "bin_start": 0.002274,
            "bin_end": 0.003032,
            "count": 3
           },
           {
            "bin_start": 0.003032,
            "bin_end": 0.00379,
            "count": 0
           },
           {
            "bin_start": 0.00379,
            "bin_end": 0.004548,
            "count": 0
           },
           {
            "bin_start": 0.004548,
            "bin_end": 0.005306,
            "count": 0
           },
           {
            "bin_start": 0.005306,
            "bin_end": 0.006064,
            "count": 0
           },
           {
            "bin_start": 0.006064,
            "bin_end": 0.006822,
            "count": 0
           },
           {
            "bin_start": 0.006822,
            "bin_end": 0.00758,
            "count": 2
           }
          ]
         }
        },
        {
         "name": "liveness",
         "dtype": "float64",
         "stats": {
          "unique_count": 83,
          "nan_count": 0,
          "min": "0.042",
          "max": "0.583",
          "histogram": [
           {
            "bin_start": 0.042,
            "bin_end": 0.09609999999999999,
            "count": 29
           },
           {
            "bin_start": 0.09609999999999999,
            "bin_end": 0.1502,
            "count": 41
           },
           {
            "bin_start": 0.1502,
            "bin_end": 0.2043,
            "count": 6
           },
           {
            "bin_start": 0.2043,
            "bin_end": 0.25839999999999996,
            "count": 5
           },
           {
            "bin_start": 0.25839999999999996,
            "bin_end": 0.31249999999999994,
            "count": 4
           },
           {
            "bin_start": 0.31249999999999994,
            "bin_end": 0.3666,
            "count": 10
           },
           {
            "bin_start": 0.3666,
            "bin_end": 0.42069999999999996,
            "count": 2
           },
           {
            "bin_start": 0.42069999999999996,
            "bin_end": 0.47479999999999994,
            "count": 1
           },
           {
            "bin_start": 0.47479999999999994,
            "bin_end": 0.5288999999999999,
            "count": 0
           },
           {
            "bin_start": 0.5288999999999999,
            "bin_end": 0.583,
            "count": 2
           }
          ]
         }
        },
        {
         "name": "valence",
         "dtype": "float64",
         "stats": {
          "unique_count": 98,
          "nan_count": 0,
          "min": "0.1",
          "max": "0.956",
          "histogram": [
           {
            "bin_start": 0.1,
            "bin_end": 0.1856,
            "count": 5
           },
           {
            "bin_start": 0.1856,
            "bin_end": 0.2712,
            "count": 9
           },
           {
            "bin_start": 0.2712,
            "bin_end": 0.3568,
            "count": 4
           },
           {
            "bin_start": 0.3568,
            "bin_end": 0.4424,
            "count": 16
           },
           {
            "bin_start": 0.4424,
            "bin_end": 0.528,
            "count": 18
           },
           {
            "bin_start": 0.528,
            "bin_end": 0.6135999999999999,
            "count": 16
           },
           {
            "bin_start": 0.6135999999999999,
            "bin_end": 0.6991999999999999,
            "count": 10
           },
           {
            "bin_start": 0.6991999999999999,
            "bin_end": 0.7847999999999999,
            "count": 5
           },
           {
            "bin_start": 0.7847999999999999,
            "bin_end": 0.8704,
            "count": 8
           },
           {
            "bin_start": 0.8704,
            "bin_end": 0.956,
            "count": 9
           }
          ]
         }
        },
        {
         "name": "tempo",
         "dtype": "float64",
         "stats": {
          "unique_count": 100,
          "nan_count": 0,
          "min": "66.165",
          "max": "205.863",
          "histogram": [
           {
            "bin_start": 66.165,
            "bin_end": 80.1348,
            "count": 11
           },
           {
            "bin_start": 80.1348,
            "bin_end": 94.1046,
            "count": 15
           },
           {
            "bin_start": 94.1046,
            "bin_end": 108.0744,
            "count": 13
           },
           {
            "bin_start": 108.0744,
            "bin_end": 122.04419999999999,
            "count": 12
           },
           {
            "bin_start": 122.04419999999999,
            "bin_end": 136.014,
            "count": 12
           },
           {
            "bin_start": 136.014,
            "bin_end": 149.98379999999997,
            "count": 17
           },
           {
            "bin_start": 149.98379999999997,
            "bin_end": 163.9536,
            "count": 9
           },
           {
            "bin_start": 163.9536,
            "bin_end": 177.9234,
            "count": 5
           },
           {
            "bin_start": 177.9234,
            "bin_end": 191.89319999999998,
            "count": 4
           },
           {
            "bin_start": 191.89319999999998,
            "bin_end": 205.863,
            "count": 2
           }
          ]
         }
        },
        {
         "name": "type",
         "dtype": "object",
         "stats": {
          "unique_count": 1,
          "nan_count": 0,
          "categories": [
           {
            "name": "audio_features",
            "count": 100
           }
          ]
         }
        },
        {
         "name": "id",
         "dtype": "object",
         "stats": {
          "unique_count": 100,
          "nan_count": 0,
          "categories": [
           {
            "name": "4LRPiXqCikLlN15c3yImP7",
            "count": 1
           },
           {
            "name": "1rDQ4oMwGJI7B4tovsBOxc",
            "count": 1
           },
           {
            "name": "98 others",
            "count": 98
           }
          ]
         }
        },
        {
         "name": "track_href",
         "dtype": "object",
         "stats": {
          "unique_count": 100,
          "nan_count": 0,
          "categories": [
           {
            "name": "https://api.spotify.com/v1/tracks/4LRPiXqCikLlN15c3yImP7",
            "count": 1
           },
           {
            "name": "https://api.spotify.com/v1/tracks/1rDQ4oMwGJI7B4tovsBOxc",
            "count": 1
           },
           {
            "name": "98 others",
            "count": 98
           }
          ]
         }
        },
        {
         "name": "analysis_url",
         "dtype": "object",
         "stats": {
          "unique_count": 100,
          "nan_count": 0,
          "categories": [
           {
            "name": "https://api.spotify.com/v1/audio-analysis/4LRPiXqCikLlN15c3yImP7",
            "count": 1
           },
           {
            "name": "https://api.spotify.com/v1/audio-analysis/1rDQ4oMwGJI7B4tovsBOxc",
            "count": 1
           },
           {
            "name": "98 others",
            "count": 98
           }
          ]
         }
        },
        {
         "name": "duration_ms",
         "dtype": "int64",
         "stats": {
          "unique_count": 100,
          "nan_count": 0,
          "min": "118249",
          "max": "258800",
          "histogram": [
           {
            "bin_start": 118249,
            "bin_end": 132304.1,
            "count": 1
           },
           {
            "bin_start": 132304.1,
            "bin_end": 146359.2,
            "count": 7
           },
           {
            "bin_start": 146359.2,
            "bin_end": 160414.3,
            "count": 7
           },
           {
            "bin_start": 160414.3,
            "bin_end": 174469.4,
            "count": 15
           },
           {
            "bin_start": 174469.4,
            "bin_end": 188524.5,
            "count": 14
           },
           {
            "bin_start": 188524.5,
            "bin_end": 202579.6,
            "count": 17
           },
           {
            "bin_start": 202579.6,
            "bin_end": 216634.7,
            "count": 20
           },
           {
            "bin_start": 216634.7,
            "bin_end": 230689.8,
            "count": 11
           },
           {
            "bin_start": 230689.8,
            "bin_end": 244744.90000000002,
            "count": 4
           },
           {
            "bin_start": 244744.90000000002,
            "bin_end": 258800,
            "count": 4
           }
          ]
         }
        },
        {
         "name": "time_signature",
         "dtype": "int64",
         "stats": {
          "unique_count": 4,
          "nan_count": 0,
          "min": "1",
          "max": "5",
          "histogram": [
           {
            "bin_start": 1,
            "bin_end": 1.4,
            "count": 2
           },
           {
            "bin_start": 1.4,
            "bin_end": 1.8,
            "count": 0
           },
           {
            "bin_start": 1.8,
            "bin_end": 2.2,
            "count": 0
           },
           {
            "bin_start": 2.2,
            "bin_end": 2.6,
            "count": 0
           },
           {
            "bin_start": 2.6,
            "bin_end": 3,
            "count": 0
           },
           {
            "bin_start": 3,
            "bin_end": 3.4000000000000004,
            "count": 6
           },
           {
            "bin_start": 3.4000000000000004,
            "bin_end": 3.8000000000000003,
            "count": 0
           },
           {
            "bin_start": 3.8000000000000003,
            "bin_end": 4.2,
            "count": 91
           },
           {
            "bin_start": 4.2,
            "bin_end": 4.6,
            "count": 0
           },
           {
            "bin_start": 4.6,
            "bin_end": 5,
            "count": 1
           }
          ]
         }
        },
        {
         "name": "lyric_raw",
         "dtype": "object",
         "stats": {
          "unique_count": 97,
          "nan_count": 2,
          "categories": [
           {
            "name": "This Is Lil Durk Lyrics1. Drake- Laugh Now Cry Later (feat. Lil Durk)\n2. Pooh Shiesty- Back In Blood (feat. Lil Durk)\n3. DJ Khaled- EVERY CHANCE I GET (feat. Lil Baby & Lil Durk)\n4. Lil Durk & King Von- Still Trappin'\n5. Only The Family & Lil Durk- Hellcats & Trackhawks\n6. Lil Durk- 3 Headed Goat (feat. Lil Baby & Polo G)\n7. Lil Durk- Finesse Out The Gang Way (feat. Lil Baby)\n8. Coi Leray- No More Parties (feat. Lil Durk) \n9. Lil Tecca & Polo G- When You Down (feat. Lil Durk)\n10. Moneybagg Yo, Polo G & Lil Durk- Free Promo\n11. Lil Durk- Should've Ducked (feat. Pooh Shiesty)\n12. Lil Tjay- Brothers (feat. Lil Durk) \n13. Fredo Bang- Top (feat. Lil Durk) \n14. Lil Durk- Internet Sensation\n15. Only The Family- No Auto Durk (feat. Lil Durk)\n16. King Von- All These Niggas (feat. Lil Durk)\n17. Megan Thee Stallion- Movie (feat. Lil Durk)\n18. Lil Skies- Havin My Way (feat. Lil Durk)\n19. King Von- Crazy Story (feat. Lil Durk) \n20. Lil Durk- When We Shoot\n21. Lil Durk- Bora Bora\n22. Lil Durk, King Von & Booka600- JUMP (feat. Memo600)\n23. Lil Baby & Gunna- Off White VLONE (feat. Lil Durk & NAV)\n24. King Von- Twin Nem (feat. Lil Durk)\n25. Lil Durk- Kanye Krazy\n26. Lil Durk- Home Body (feat. Gunna & TK Kravitz)\n27. Lil Durk, 6LACK & Young Thug- Stay Down\n28. Only The Family & Lil Durk- Career Day (feat. Polo G)\n29. Lil Durk- When I'm Lonely\n30. Lil Durk- Refugee\n31. Lil Durk- India\n32. King Von & Lil Durk- Down Me\n33. King Von & Prince Dre- Back Again (feat. Lil Durk)\n34. Lil Durk- Switched Up\n35. Lil Durk- Watch Yo Homie\n36. Lil Durk- Neighborhood Hero\n37. Lil Durk- Green Light\n38. Tee Grizzley- White Lows Off Designer (feat. Lil Durk)\n39. Lil Durk- Redman\n40. Lil Durk- No Label\n41. Lil Durk- Die Slow (feat. 21 Savage)\n42. Lil Durk- My Beyoncé (feat. DeJ Loaf)\n43. Lil Durk, King Von & Booka600- Out the Roof\n44. Lil Uzi Vert- No Auto (feat. Lil Durk)\n45. Lil Durk- Skrubs\n46. Calboy- Chariot (feat. Meek Mill, Lil Durk & Young Thug)\n47. Lil Durk- Backdoor\n48. Roddy Ricch- Moonwalkin (feat. Lil Durk)\n49. Lil Durk- The Voice\n50. Lil Durk- Spin The Block (feat. Future)\n51. Lil Durk - What Happened To Virgil (feat. Gunna)\n52. Lil Durk - Petty Too (feat. Future)\n53. Drake - In The Bible (feat. Lil Durk & Giveon)\n54. Lil Durk - Broadway Girls (feat. Morgan Wallen)\n55. Lil Baby & Lil Durk - Hats Off (feat. Travis Scott)\n56. Polo G - No Return (feat. The Kid LAROI & Lil Durk)\n57. Trippie Redd - Rich MF (feat. Polo G & Lil Durk)\n58. Lil Durk - AHHH HAEmbed",
            "count": 2
           },
           {
            "name": "96 others",
            "count": 96
           },
           {
            "name": "Missing",
            "count": 2
           }
          ]
         }
        },
        {
         "name": "_deepnote_index_column",
         "dtype": "int64"
        }
       ],
       "rows": [
        {
         "track_uri": "spotify:track:4LRPiXqCikLlN15c3yImP7",
         "track_name": "As It Was",
         "artist_name": "Harry Styles",
         "artist_genres": "('pop',)",
         "danceability": 0.52,
         "energy": 0.731,
         "key": 6,
         "loudness": -5.338,
         "mode": 0,
         "speechiness": 0.0557,
         "acousticness": 0.342,
         "instrumentalness": 0.00101,
         "liveness": 0.311,
         "valence": 0.662,
         "tempo": 173.93,
         "type": "audio_features",
         "id": "4LRPiXqCikLlN15c3yImP7",
         "track_href": "https://api.spotify.com/v1/tracks/4LRPiXqCikLlN15c3yImP7",
         "analysis_url": "https://api.spotify.com/v1/audio-analysis/4LRPiXqCikLlN15c3yImP7",
         "duration_ms": 167303,
         "time_signature": 4,
         "lyric_raw": "As It Was Lyrics\nCome on, Harry, we wanna say goodnight to you\n\nHoldin' me back\nGravity's holdin' me back\nI want you to hold out the palm of your hand\nWhy don't we leave it at that?\nNothin' to say\nWhen everything gets in the way\nSeems you cannot be replaced\nAnd I'm the one who will stay, oh-oh-oh\n\nIn this world, it's just us\nYou know it's not the same as it was\nIn this world, it's just us\nYou know it's not the same as it was\nAs it was, as it was\nYou know it's not the same\nAnswer the phone\n\"Harry, you're no good alone\nWhy are you sitting at home on the floor?\nWhat kind of pills are you on?\"\nRingin' the bell\nAnd nobody's coming to help\nYour daddy lives by himself\nHe just wants to know that you're well, oh-oh-oh\n\nIn this world, it's just us\nYou know it's not the same as it was\nIn this world, it's just us\nYou know it's not the same as it was\nAs it was, as it was\nYou know it's not the same\n\nGo home, get ahead, light-speed internet\nI don't wanna talk about the way that it was\nLeave America,…",
         "_deepnote_index_column": 0
        },
        {
         "track_uri": "spotify:track:1rDQ4oMwGJI7B4tovsBOxc",
         "track_name": "First Class",
         "artist_name": "Jack Harlow",
         "artist_genres": "('deep underground hip hop', 'kentucky hip hop', 'rap')",
         "danceability": 0.905,
         "energy": 0.563,
         "key": 8,
         "loudness": -6.135,
         "mode": 1,
         "speechiness": 0.102,
         "acousticness": 0.0254,
         "instrumentalness": 0.00000971,
         "liveness": 0.113,
         "valence": 0.324,
         "tempo": 106.998,
         "type": "audio_features",
         "id": "1rDQ4oMwGJI7B4tovsBOxc",
         "track_href": "https://api.spotify.com/v1/tracks/1rDQ4oMwGJI7B4tovsBOxc",
         "analysis_url": "https://api.spotify.com/v1/audio-analysis/1rDQ4oMwGJI7B4tovsBOxc",
         "duration_ms": 173948,
         "time_signature": 4,
         "lyric_raw": "First Class Lyrics\nMm\n\nI been a (G), throw up the (L), sex in the (A.M.), uh-huh\n(O-R-O-U-S, yeah)\nAnd I can put you in (First class, up in the sky)\nI can put you in (First class, up in the s—, up-up in the s—)\nI been a (G), throw up the (L), sex in the (A.M.), uh-huh\n(O-R-O-U-S, yeah)\nAnd I can put you in (First class, up in the sky), mm, mm\nI can put you in (First class, up in the s—, up-up in the s—)\n\nI can see the whole city from this balcony\nBack in 2019, I was outside freely, but now they got it out for me\nI don't care what frat that you was in, you can't alpha me, keep dreamin'\nPineapple juice, I give her sweet, sweet, sweet semen\nI know what they like so I just keep cheesin'\nHard drive full of heat seekin'\nTryna come the same day as Jack? Rethink it\nYou don't need Givenchy, you need Jesus\nWhy do y'all sleep on me? I need reasons\nUh, I got plaques in thе mail, peak season\nShout out to my UPS workers makin' surе I receive 'em\nYou can do it too, believe it\nI been a (G), throw up …",
         "_deepnote_index_column": 1
        },
        {
         "track_uri": "spotify:track:3USxtqRwSYz57Ewm6wWRMp",
         "track_name": "Heat Waves",
         "artist_name": "Glass Animals",
         "artist_genres": "('gauze pop', 'indietronica', 'shiver pop')",
         "danceability": 0.761,
         "energy": 0.525,
         "key": 11,
         "loudness": -6.9,
         "mode": 1,
         "speechiness": 0.0944,
         "acousticness": 0.44,
         "instrumentalness": 0.0000067,
         "liveness": 0.0921,
         "valence": 0.531,
         "tempo": 80.87,
         "type": "audio_features",
         "id": "3USxtqRwSYz57Ewm6wWRMp",
         "track_href": "https://api.spotify.com/v1/tracks/3USxtqRwSYz57Ewm6wWRMp",
         "analysis_url": "https://api.spotify.com/v1/audio-analysis/3USxtqRwSYz57Ewm6wWRMp",
         "duration_ms": 238805,
         "time_signature": 4,
         "lyric_raw": "Heat Waves Lyrics\n(Last night, all I think about is you)\n(Don't stop, baby, you can walk through)\n(Don't want, baby, think about you)\n(You know that I'm never gonna lose)\nRoad shimmer wigglin' the vision\nHeat, heat waves, I'm swimmin' in a mirror\nRoad shimmer wigglin' the vision\nHeat, heat waves, I'm swimmin' in a—\n\nSometimes, all I think about is you\nLate nights in the middle of June\nHeat waves been fakin' me out\nCan't make you happier now\nSometimes, all I think about is you\nLate nights in the middle of June\nHeat waves been fakin' me out\nCan't make you happier now\nUsually, I put somethin' on TV\nSo we never think about you and me\nBut today, I see our reflections clearly\nIn Hollywood, layin' on the screen\nYou just need a better life than this\nYou need somethin' I can never give\nFake water all across the road\nIt's gone now, the night has come, but\n\nSometimes, all I think about is you\nLate nights in the middle of June\nHeat waves been fakin' me out\nCan't make you happier now\n\nYou can't fi…",
         "_deepnote_index_column": 2
        },
        {
         "track_uri": "spotify:track:6Zu3aw7FfjAF9WA0fA81Oq",
         "track_name": "Big Energy",
         "artist_name": "Latto",
         "artist_genres": "('pop', 'r&b', 'trap queen')",
         "danceability": 0.935,
         "energy": 0.807,
         "key": 11,
         "loudness": -3.838,
         "mode": 0,
         "speechiness": 0.114,
         "acousticness": 0.0514,
         "instrumentalness": 0,
         "liveness": 0.349,
         "valence": 0.813,
         "tempo": 106.017,
         "type": "audio_features",
         "id": "6Zu3aw7FfjAF9WA0fA81Oq",
         "track_href": "https://api.spotify.com/v1/tracks/6Zu3aw7FfjAF9WA0fA81Oq",
         "analysis_url": "https://api.spotify.com/v1/audio-analysis/6Zu3aw7FfjAF9WA0fA81Oq",
         "duration_ms": 173182,
         "time_signature": 4,
         "lyric_raw": "Big Energy Lyrics\nI got that big, big energy\nGot that real big energy\nHey, daddy\nWhen you gon' stop playin'?\n\nBad bitch, I could be your fantasy (Yeah)\nI can tell you got big dick energy (Uh-huh)\nIt ain't too many niggas that can handle me (Yeah)\nBut I might let you try it off the Hennessy (Uh)\nMake 'em sing to this pussy like a melody (Make 'em sang)\nAnd if your bitch ain't right, I got the remedy (Ooh)\nIt ain't too many niggas that can handle me (Ayy)\nBad bitch, I could be your fantasy (Ayy, ayy)\nTell me how you want it (Huh?)\nThree, two, one and I'm on it (On it)\nFeel good, don't it? (Don't it?)\nHood bitch, fuck you in a bonnet (Yeah)\nI'ma bust it on a pole like Onyx (Ooh)\nI'm just bein' honest (Uh-huh)\nPussy juicy, Minute Maid (Oh)\nBut can't do it one minutе, man (Hell no)\nNot a side or a main\nI'm the only bitch hе entertain (Yeah)\nSpendin' his mine in the bank (In the bank)\nI like what I see (Yeah)\nA boss like you need a boss like me (Uh-huh)\nDaddy from the street, so he move low…",
         "_deepnote_index_column": 3
        },
        {
         "track_uri": "spotify:track:1r9xUipOqoNwggBpENDsvJ",
         "track_name": "Enemy (with JID) - from the series Arcane League of Legends",
         "artist_name": "Imagine Dragons",
         "artist_genres": "('modern rock', 'rock')",
         "danceability": 0.728,
         "energy": 0.783,
         "key": 11,
         "loudness": -4.424,
         "mode": 0,
         "speechiness": 0.266,
         "acousticness": 0.237,
         "instrumentalness": 0,
         "liveness": 0.434,
         "valence": 0.555,
         "tempo": 77.011,
         "type": "audio_features",
         "id": "1r9xUipOqoNwggBpENDsvJ",
         "track_href": "https://api.spotify.com/v1/tracks/1r9xUipOqoNwggBpENDsvJ",
         "analysis_url": "https://api.spotify.com/v1/audio-analysis/1r9xUipOqoNwggBpENDsvJ",
         "duration_ms": 173381,
         "time_signature": 4,
         "lyric_raw": "New Music Friday 10/30/21 LyricsEd Sheeran - Overpass Graffiti\nMyke Towers - Oh Na Na\nMegan Thee Stallion - Eat It\nLil Uzi Vert - Demon High\nConan Gray - Telepath\nEd Sheeran - 2step\nBig Sean - Loyal To A Fault (feat. Bryson Tiller, Lil Durk)\nA$AP Rocky - Sandman\nMEDUZA - Tell It To My Heart\nSueco - Sober/Hungover (feat. Arizona Zervas)\nA$AP Ferg - Green Juice (feat. Pharrell Williams)\nImagine Dragons - Enemy (with JID) - from the series Arcane League of Legends\nEd Sheeran - First Times\nBENEE - Doesn't Matter\nAminé - Charmander\nFlo Milli - Ice Baby\nJoyner Lucas - Duck Duck Goose\nBobby Shmurda - Cartier Lens\nDavid Guetta - Family (feat. Bebe Rexha, Ty Dolla $ign & A Boogie Wit da Hoodie)\nGryffin - After You (feat. Calle Lehmann)\nAlicia Keys - Best Of Me (Originals)\nSnoh Aalegra - DO 4 LOVE\nThe Marías - DÁKITI – Spotify Singles\nLuke Wild - Pack a Punch 🕒\nLIL DUSTY G - Preached\nJoel Corry - I Wish (feat. Mabel)\nFrench Montana - I Don't Really Care\nMacklemore - Next Year (feat. Windser)\nNi…",
         "_deepnote_index_column": 4
        },
        {
         "track_uri": "spotify:track:5HCyWlXZPP0y6Gqq8TgA20",
         "track_name": "STAY (with Justin Bieber)",
         "artist_name": "The Kid LAROI",
         "artist_genres": "('australian hip hop',)",
         "danceability": 0.591,
         "energy": 0.764,
         "key": 1,
         "loudness": -5.484,
         "mode": 1,
         "speechiness": 0.0483,
         "acousticness": 0.0383,
         "instrumentalness": 0,
         "liveness": 0.103,
         "valence": 0.478,
         "tempo": 169.928,
         "type": "audio_features",
         "id": "5HCyWlXZPP0y6Gqq8TgA20",
         "track_href": "https://api.spotify.com/v1/tracks/5HCyWlXZPP0y6Gqq8TgA20",
         "analysis_url": "https://api.spotify.com/v1/audio-analysis/5HCyWlXZPP0y6Gqq8TgA20",
         "duration_ms": 141806,
         "time_signature": 4,
         "lyric_raw": "New Music Friday 7/9/21 LyricsBTS - Permission to Dance\nPost Malone - Motley Crew\nBillie Eilish - NDA\nThe Kid LAROI - Stay (with Justin Bieber)\nMaluma - Sobrio\nBIA - WHOLE LOTTA MONEY (feat. Nicki Minaj) - Remix\nKane Brown - Memory\nJungle - Romeo (feat. Bas)\nYung Bleu - Way More Close (Stuck In A Box) (feat. Big Sean)\nNathy Peluso - MAFIOSA\nZoe Wees - you broke me first - Spotify Singles\nOmar Apollo - Go Away\nBad Bunny - De Museo\nVince Staples - ARE YOU WITH THAT?\nSnoh Aalegra - NEON PEACH feat. Tyler, The Creator\nJennifer Lopez - Cambia el Paso\nJohn Legend - Crowd Go Crazy\nIDK - Keto\nBas - Thе Jackie (with J. Cole & Lil Tjay)\nMasked Wolf - Say So\nglaivе - fuck this town\nClaire Rosinkranz - Hotel\nAURORA - Cure For Me\nTkay Maidza - Onto Me (with UMI)\nDave - Clash (feat. Stormzy)\ncarolesdaughter - please put me in a medically induced coma\nCamylio - love and hate\nJoy Oladokun - judas\nAnt Clemons - Section (feat. Kehlani)\nLogic - Get Up\nLittle Simz - I Love You, I Hate You\nPeggy Gou - I G…",
         "_deepnote_index_column": 5
        },
        {
         "track_uri": "spotify:track:1TUuhV75FeOF6UObRsABo2",
         "track_name": "Don't Think Jesus",
         "artist_name": "Morgan Wallen",
         "artist_genres": "('contemporary country',)",
         "danceability": 0.578,
         "energy": 0.431,
         "key": 2,
         "loudness": -7.034,
         "mode": 1,
         "speechiness": 0.0269,
         "acousticness": 0.469,
         "instrumentalness": 0,
         "liveness": 0.137,
         "valence": 0.21,
         "tempo": 116.979,
         "type": "audio_features",
         "id": "1TUuhV75FeOF6UObRsABo2",
         "track_href": "https://api.spotify.com/v1/tracks/1TUuhV75FeOF6UObRsABo2",
         "analysis_url": "https://api.spotify.com/v1/audio-analysis/1TUuhV75FeOF6UObRsABo2",
         "duration_ms": 226975,
         "time_signature": 3,
         "lyric_raw": "Don’t Think Jesus Lyrics\nBoy gets a guitar and starts writin' songs\n'Bout whiskey and women and gettin' too stoned\nHe got all three at the first show he played\nHometown said, \"I don't think Jesus done it that way\"\n\nBoy moves to city, lives fast and goes hard\nStarts chasin' the devil through honky-tonk bars\nIgnorin' the voices in his head that say\n\"I don't think Jesus done it this way\"\n\nIf I was Him I'd say, \"To hell with you, ain't no helpin' you”\nFind someone else to give Heaven to, I'm tellin' you\nI'd shame me, I'd blame me, I'd make me pay for my mistakes\nBut I don't think Jesus does it that way\nBoy's all alone, got no one to turn to\nHe figures he'll pray 'cause what else could he do?\nHe said, \"I wish You would've woke me up an easier way\"\nBut I don't think Jesus does it that way\n\nIf I was Him I'd say, \"To hell with you, ain't no helpin' you”\nFind someone else to give Heaven to, I'm tellin' you\nI'd shame me, I'd blame me, I'd make me pay for my mistakes\nBut I don't think Jesus does…",
         "_deepnote_index_column": 6
        },
        {
         "track_uri": "spotify:track:6Uj1ctrBOjOas8xZXGqKk4",
         "track_name": "Woman",
         "artist_name": "Doja Cat",
         "artist_genres": "('dance pop', 'pop')",
         "danceability": 0.824,
         "energy": 0.764,
         "key": 5,
         "loudness": -4.175,
         "mode": 0,
         "speechiness": 0.0854,
         "acousticness": 0.0888,
         "instrumentalness": 0.00294,
         "liveness": 0.117,
         "valence": 0.881,
         "tempo": 107.998,
         "type": "audio_features",
         "id": "6Uj1ctrBOjOas8xZXGqKk4",
         "track_href": "https://api.spotify.com/v1/tracks/6Uj1ctrBOjOas8xZXGqKk4",
         "analysis_url": "https://api.spotify.com/v1/audio-analysis/6Uj1ctrBOjOas8xZXGqKk4",
         "duration_ms": 172627,
         "time_signature": 4,
         "lyric_raw": "Woman Lyrics\nHey, woman\nHey, woman\n\nWoman\nLet me be your woman\nWoman, woman, woman (Ayy)\nI can be your woman\nWoman, woman, woman (Ayy)\nLet me be your woman\nWoman, woman, woman (Ayy)\nI can be your woman\nWoman, woman, woman (Ayy)\n\nWhat you need?\nShe give tenfold, come here, papa, plant your seed\nShe can grow right from her womb a family\nProvide lovin' overlooked and unappreciated, you see (Yeah)\nYou can reciprocate\nI got delicious taste, you need a woman's touch in your place\nJust protect her and keep her safe\nBaby, worship my hips and waist\nSo feminine with grace\nI touch your soul when you hear me say, \"Boy\"\nLet me be your woman\nWoman\nLеt me be your woman\nWoman, woman, woman\nI can be your woman\nWoman, woman, woman\nLеt me be your woman\nWoman, woman, woman (Ayy)\nI can be your woman\nWoman, woman, woman\n\nI can be your lady, I'm a woman\nI'm a motherfucker, but they got a problem\nPut some babies in your life and take away the drama\nPut the paper in a picture like a diorama\nGotta face a lot o…",
         "_deepnote_index_column": 7
        },
        {
         "track_uri": "spotify:track:4A8cWXxKfIL3lAyUDzXbCF",
         "track_name": "Super Gremlin",
         "artist_name": "Kodak Black",
         "artist_genres": "('florida rap', 'hip hop', 'melodic rap', 'miami hip hop', 'rap', 'trap')",
         "danceability": 0.825,
         "energy": 0.414,
         "key": 2,
         "loudness": -6.634,
         "mode": 1,
         "speechiness": 0.144,
         "acousticness": 0.00265,
         "instrumentalness": 0,
         "liveness": 0.357,
         "valence": 0.106,
         "tempo": 72.993,
         "type": "audio_features",
         "id": "4A8cWXxKfIL3lAyUDzXbCF",
         "track_href": "https://api.spotify.com/v1/tracks/4A8cWXxKfIL3lAyUDzXbCF",
         "analysis_url": "https://api.spotify.com/v1/audio-analysis/4A8cWXxKfIL3lAyUDzXbCF",
         "duration_ms": 200548,
         "time_signature": 4,
         "lyric_raw": "Super Gremlin Lyrics\nYeah, we could be superstars\nWe been rather wreckin' cars (Ayy bro, is that Jambo?)\nWhat is at stakes for us?\nKickin' off power mirrors\nYeah, we could be superstars\nBut I'm pretty sure our time is up\nAnd so we fell off the spinning tops\nDon't know, maybe for trial (ATL Jacob, ATL Jacob)\nBut way more error (Huh)\n\nSay you my nigga, I'ma be your killer\nNobody gon' play with you when I'm with you\nGo against any nigga, like, fuck this glitter\nSkeet off third, I'm busy\nI put it in for you, I spin for you\nWhatever you with, I'm with it\nHow you gon' cross a nigga that was rockin' with you? I got you lit in the city\nI been multitaskin', rappin' and bein' a daddy to my lil' children\nI been standin' on business, and spinnin' and spinnin' and spinnin' until I'm dizzy\nI do all the smackin', you ain't never stepped or helped with none of this killin'\nYou doin' lot of cappin', watch when I catch you, I'ma whack you in front thе witness\nDamn, my nigga, you trippin'\nWe could've be…",
         "_deepnote_index_column": 8
        },
        {
         "track_uri": "spotify:track:6I3mqTwhRpn34SLVafSH7G",
         "track_name": "Ghost",
         "artist_name": "Justin Bieber",
         "artist_genres": "('canadian pop', 'pop')",
         "danceability": 0.601,
         "energy": 0.741,
         "key": 2,
         "loudness": -5.569,
         "mode": 1,
         "speechiness": 0.0478,
         "acousticness": 0.185,
         "instrumentalness": 0.0000291,
         "liveness": 0.415,
         "valence": 0.441,
         "tempo": 153.96,
         "type": "audio_features",
         "id": "6I3mqTwhRpn34SLVafSH7G",
         "track_href": "https://api.spotify.com/v1/tracks/6I3mqTwhRpn34SLVafSH7G",
         "analysis_url": "https://api.spotify.com/v1/audio-analysis/6I3mqTwhRpn34SLVafSH7G",
         "duration_ms": 153190,
         "time_signature": 4,
         "lyric_raw": "Ghost Lyrics\nYoungblood thinks there's always tomorrow\nI miss your touch some nights when I'm hollow\nI know you crossed a bridge that I can't follow\nSince the love that you left is all that I get, I want you to know\n\nThat if I can't be close to you, I'll settle for the ghost of you\nI miss you more than life (More than life)\nAnd if you can't be next to me, your memory is ecstasy\nI miss you more than life, I miss you more than life\n\nYoungblood thinks there's always tomorrow\nI need more time, but time can't be borrowed\nI'd leave it all behind if I could follow\nSince the love that you left is all that I get, I want you to know\nThat if I can't be close to you, I'll settle for the ghost of you\nI miss you more than life (Yeah)\nAnd if you can't be next to me, your memory is ecstasy (Oh)\nI miss you more than life, I miss you more than life\n\nWoah-oh-oh-oh\nNa-na-na\nMore than life (Oh)\n\nSo if I can't get close to you, I'll settle for the ghost of you\nI miss you more than life\nAnd if you can't be …",
         "_deepnote_index_column": 9
        }
       ]
      },
      "text/plain": "                               track_uri  \\\n0   spotify:track:4LRPiXqCikLlN15c3yImP7   \n1   spotify:track:1rDQ4oMwGJI7B4tovsBOxc   \n2   spotify:track:3USxtqRwSYz57Ewm6wWRMp   \n3   spotify:track:6Zu3aw7FfjAF9WA0fA81Oq   \n4   spotify:track:1r9xUipOqoNwggBpENDsvJ   \n..                                   ...   \n95  spotify:track:0lEjxUUlKqjqXrVlIHFduD   \n96  spotify:track:7BbaIYAdi3pg4MGl6PHwPv   \n97  spotify:track:7LczcBaamU9pTkV4Cl9NyX   \n98  spotify:track:5gVCfYmQRPy1QJifP8f5gg   \n99  spotify:track:48AJSd42lXpicsGqcgopof   \n\n                                           track_name       artist_name  \\\n0                                           As It Was      Harry Styles   \n1                                         First Class       Jack Harlow   \n2                                          Heat Waves     Glass Animals   \n3                                          Big Energy             Latto   \n4   Enemy (with JID) - from the series Arcane Leag...   Imagine Dragons   \n..                                                ...               ...   \n95                              P power (feat. Drake)             Gunna   \n96                                       Monëy so big              Yeat   \n97                     Blick Blick (with Nicki Minaj)         Coi Leray   \n98                                       Fall In Love  Bailey Zimmerman   \n99                                       X ÚLTIMA VEZ      Daddy Yankee   \n\n                                        artist_genres  danceability  energy  \\\n0                                              (pop,)         0.520   0.731   \n1   (deep underground hip hop, kentucky hip hop, rap)         0.905   0.563   \n2               (gauze pop, indietronica, shiver pop)         0.761   0.525   \n3                              (pop, r&b, trap queen)         0.935   0.807   \n4                                 (modern rock, rock)         0.728   0.783   \n..                                                ...           ...     ...   \n95              (atl hip hop, melodic rap, rap, trap)         0.828   0.591   \n96                                         (pluggnb,)         0.693   0.575   \n97  (new jersey underground rap, pop rap, r&b, tra...         0.916   0.824   \n98                                                 ()         0.524   0.643   \n99     (latin, latin hip hop, reggaeton, trap latino)         0.812   0.855   \n\n    key  loudness  mode  speechiness  ...  liveness  valence    tempo  \\\n0     6    -5.338     0       0.0557  ...    0.3110    0.662  173.930   \n1     8    -6.135     1       0.1020  ...    0.1130    0.324  106.998   \n2    11    -6.900     1       0.0944  ...    0.0921    0.531   80.870   \n3    11    -3.838     0       0.1140  ...    0.3490    0.813  106.017   \n4    11    -4.424     0       0.2660  ...    0.4340    0.555   77.011   \n..  ...       ...   ...          ...  ...       ...      ...      ...   \n95    1    -6.217     1       0.1090  ...    0.3610    0.202  119.251   \n96    2    -7.633     1       0.0906  ...    0.1040    0.353  138.016   \n97    8    -4.444     0       0.4220  ...    0.0661    0.870  139.926   \n98    9    -6.055     1       0.0297  ...    0.2210    0.397  135.962   \n99    7    -3.725     1       0.0554  ...    0.1080    0.573   90.040   \n\n              type                      id  \\\n0   audio_features  4LRPiXqCikLlN15c3yImP7   \n1   audio_features  1rDQ4oMwGJI7B4tovsBOxc   \n2   audio_features  3USxtqRwSYz57Ewm6wWRMp   \n3   audio_features  6Zu3aw7FfjAF9WA0fA81Oq   \n4   audio_features  1r9xUipOqoNwggBpENDsvJ   \n..             ...                     ...   \n95  audio_features  0lEjxUUlKqjqXrVlIHFduD   \n96  audio_features  7BbaIYAdi3pg4MGl6PHwPv   \n97  audio_features  7LczcBaamU9pTkV4Cl9NyX   \n98  audio_features  5gVCfYmQRPy1QJifP8f5gg   \n99  audio_features  48AJSd42lXpicsGqcgopof   \n\n                                           track_href  \\\n0   https://api.spotify.com/v1/tracks/4LRPiXqCikLl...   \n1   https://api.spotify.com/v1/tracks/1rDQ4oMwGJI7...   \n2   https://api.spotify.com/v1/tracks/3USxtqRwSYz5...   \n3   https://api.spotify.com/v1/tracks/6Zu3aw7FfjAF...   \n4   https://api.spotify.com/v1/tracks/1r9xUipOqoNw...   \n..                                                ...   \n95  https://api.spotify.com/v1/tracks/0lEjxUUlKqjq...   \n96  https://api.spotify.com/v1/tracks/7BbaIYAdi3pg...   \n97  https://api.spotify.com/v1/tracks/7LczcBaamU9p...   \n98  https://api.spotify.com/v1/tracks/5gVCfYmQRPy1...   \n99  https://api.spotify.com/v1/tracks/48AJSd42lXpi...   \n\n                                         analysis_url duration_ms  \\\n0   https://api.spotify.com/v1/audio-analysis/4LRP...      167303   \n1   https://api.spotify.com/v1/audio-analysis/1rDQ...      173948   \n2   https://api.spotify.com/v1/audio-analysis/3USx...      238805   \n3   https://api.spotify.com/v1/audio-analysis/6Zu3...      173182   \n4   https://api.spotify.com/v1/audio-analysis/1r9x...      173381   \n..                                                ...         ...   \n95  https://api.spotify.com/v1/audio-analysis/0lEj...      193347   \n96  https://api.spotify.com/v1/audio-analysis/7Bba...      160052   \n97  https://api.spotify.com/v1/audio-analysis/7Lcz...      178413   \n98  https://api.spotify.com/v1/audio-analysis/5gVC...      232059   \n99  https://api.spotify.com/v1/audio-analysis/48AJ...      192477   \n\n   time_signature                                          lyric_raw  \n0               4  As It Was Lyrics\\nCome on, Harry, we wanna say...  \n1               4  First Class Lyrics\\nMm\\n\\nI been a (G), throw ...  \n2               4  Heat Waves Lyrics\\n(Last night, all I think ab...  \n3               4  Big Energy Lyrics\\nI got that big, big energy\\...  \n4               4  New Music Friday 10/30/21 LyricsEd Sheeran - O...  \n..            ...                                                ...  \n95              4  New Music Friday 01/14/22 LyricsGunna - P powe...  \n96              4  Monëy so big Lyrics\\nYeah, my money big body, ...  \n97              4  New Music Friday 03/18/22 LyricsJuice WRLD - S...  \n98              4  Fall In Love Lyrics\\nHeard you moved out to So...  \n99              4  X ÚLTIMA VEZ Lyrics\\n\\nDY\\nYeah-yeah-yeah-yeah...  \n\n[100 rows x 22 columns]",
      "text/html": "<div>\n<style scoped>\n    .dataframe tbody tr th:only-of-type {\n        vertical-align: middle;\n    }\n\n    .dataframe tbody tr th {\n        vertical-align: top;\n    }\n\n    .dataframe thead th {\n        text-align: right;\n    }\n</style>\n<table border=\"1\" class=\"dataframe\">\n  <thead>\n    <tr style=\"text-align: right;\">\n      <th></th>\n      <th>track_uri</th>\n      <th>track_name</th>\n      <th>artist_name</th>\n      <th>artist_genres</th>\n      <th>danceability</th>\n      <th>energy</th>\n      <th>key</th>\n      <th>loudness</th>\n      <th>mode</th>\n      <th>speechiness</th>\n      <th>...</th>\n      <th>liveness</th>\n      <th>valence</th>\n      <th>tempo</th>\n      <th>type</th>\n      <th>id</th>\n      <th>track_href</th>\n      <th>analysis_url</th>\n      <th>duration_ms</th>\n      <th>time_signature</th>\n      <th>lyric_raw</th>\n    </tr>\n  </thead>\n  <tbody>\n    <tr>\n      <th>0</th>\n      <td>spotify:track:4LRPiXqCikLlN15c3yImP7</td>\n      <td>As It Was</td>\n      <td>Harry Styles</td>\n      <td>(pop,)</td>\n      <td>0.520</td>\n      <td>0.731</td>\n      <td>6</td>\n      <td>-5.338</td>\n      <td>0</td>\n      <td>0.0557</td>\n      <td>...</td>\n      <td>0.3110</td>\n      <td>0.662</td>\n      <td>173.930</td>\n      <td>audio_features</td>\n      <td>4LRPiXqCikLlN15c3yImP7</td>\n      <td>https://api.spotify.com/v1/tracks/4LRPiXqCikLl...</td>\n      <td>https://api.spotify.com/v1/audio-analysis/4LRP...</td>\n      <td>167303</td>\n      <td>4</td>\n      <td>As It Was Lyrics\\nCome on, Harry, we wanna say...</td>\n    </tr>\n    <tr>\n      <th>1</th>\n      <td>spotify:track:1rDQ4oMwGJI7B4tovsBOxc</td>\n      <td>First Class</td>\n      <td>Jack Harlow</td>\n      <td>(deep underground hip hop, kentucky hip hop, rap)</td>\n      <td>0.905</td>\n      <td>0.563</td>\n      <td>8</td>\n      <td>-6.135</td>\n      <td>1</td>\n      <td>0.1020</td>\n      <td>...</td>\n      <td>0.1130</td>\n      <td>0.324</td>\n      <td>106.998</td>\n      <td>audio_features</td>\n      <td>1rDQ4oMwGJI7B4tovsBOxc</td>\n      <td>https://api.spotify.com/v1/tracks/1rDQ4oMwGJI7...</td>\n      <td>https://api.spotify.com/v1/audio-analysis/1rDQ...</td>\n      <td>173948</td>\n      <td>4</td>\n      <td>First Class Lyrics\\nMm\\n\\nI been a (G), throw ...</td>\n    </tr>\n    <tr>\n      <th>2</th>\n      <td>spotify:track:3USxtqRwSYz57Ewm6wWRMp</td>\n      <td>Heat Waves</td>\n      <td>Glass Animals</td>\n      <td>(gauze pop, indietronica, shiver pop)</td>\n      <td>0.761</td>\n      <td>0.525</td>\n      <td>11</td>\n      <td>-6.900</td>\n      <td>1</td>\n      <td>0.0944</td>\n      <td>...</td>\n      <td>0.0921</td>\n      <td>0.531</td>\n      <td>80.870</td>\n      <td>audio_features</td>\n      <td>3USxtqRwSYz57Ewm6wWRMp</td>\n      <td>https://api.spotify.com/v1/tracks/3USxtqRwSYz5...</td>\n      <td>https://api.spotify.com/v1/audio-analysis/3USx...</td>\n      <td>238805</td>\n      <td>4</td>\n      <td>Heat Waves Lyrics\\n(Last night, all I think ab...</td>\n    </tr>\n    <tr>\n      <th>3</th>\n      <td>spotify:track:6Zu3aw7FfjAF9WA0fA81Oq</td>\n      <td>Big Energy</td>\n      <td>Latto</td>\n      <td>(pop, r&amp;b, trap queen)</td>\n      <td>0.935</td>\n      <td>0.807</td>\n      <td>11</td>\n      <td>-3.838</td>\n      <td>0</td>\n      <td>0.1140</td>\n      <td>...</td>\n      <td>0.3490</td>\n      <td>0.813</td>\n      <td>106.017</td>\n      <td>audio_features</td>\n      <td>6Zu3aw7FfjAF9WA0fA81Oq</td>\n      <td>https://api.spotify.com/v1/tracks/6Zu3aw7FfjAF...</td>\n      <td>https://api.spotify.com/v1/audio-analysis/6Zu3...</td>\n      <td>173182</td>\n      <td>4</td>\n      <td>Big Energy Lyrics\\nI got that big, big energy\\...</td>\n    </tr>\n    <tr>\n      <th>4</th>\n      <td>spotify:track:1r9xUipOqoNwggBpENDsvJ</td>\n      <td>Enemy (with JID) - from the series Arcane Leag...</td>\n      <td>Imagine Dragons</td>\n      <td>(modern rock, rock)</td>\n      <td>0.728</td>\n      <td>0.783</td>\n      <td>11</td>\n      <td>-4.424</td>\n      <td>0</td>\n      <td>0.2660</td>\n      <td>...</td>\n      <td>0.4340</td>\n      <td>0.555</td>\n      <td>77.011</td>\n      <td>audio_features</td>\n      <td>1r9xUipOqoNwggBpENDsvJ</td>\n      <td>https://api.spotify.com/v1/tracks/1r9xUipOqoNw...</td>\n      <td>https://api.spotify.com/v1/audio-analysis/1r9x...</td>\n      <td>173381</td>\n      <td>4</td>\n      <td>New Music Friday 10/30/21 LyricsEd Sheeran - O...</td>\n    </tr>\n    <tr>\n      <th>...</th>\n      <td>...</td>\n      <td>...</td>\n      <td>...</td>\n      <td>...</td>\n      <td>...</td>\n      <td>...</td>\n      <td>...</td>\n      <td>...</td>\n      <td>...</td>\n      <td>...</td>\n      <td>...</td>\n      <td>...</td>\n      <td>...</td>\n      <td>...</td>\n      <td>...</td>\n      <td>...</td>\n      <td>...</td>\n      <td>...</td>\n      <td>...</td>\n      <td>...</td>\n      <td>...</td>\n    </tr>\n    <tr>\n      <th>95</th>\n      <td>spotify:track:0lEjxUUlKqjqXrVlIHFduD</td>\n      <td>P power (feat. Drake)</td>\n      <td>Gunna</td>\n      <td>(atl hip hop, melodic rap, rap, trap)</td>\n      <td>0.828</td>\n      <td>0.591</td>\n      <td>1</td>\n      <td>-6.217</td>\n      <td>1</td>\n      <td>0.1090</td>\n      <td>...</td>\n      <td>0.3610</td>\n      <td>0.202</td>\n      <td>119.251</td>\n      <td>audio_features</td>\n      <td>0lEjxUUlKqjqXrVlIHFduD</td>\n      <td>https://api.spotify.com/v1/tracks/0lEjxUUlKqjq...</td>\n      <td>https://api.spotify.com/v1/audio-analysis/0lEj...</td>\n      <td>193347</td>\n      <td>4</td>\n      <td>New Music Friday 01/14/22 LyricsGunna - P powe...</td>\n    </tr>\n    <tr>\n      <th>96</th>\n      <td>spotify:track:7BbaIYAdi3pg4MGl6PHwPv</td>\n      <td>Monëy so big</td>\n      <td>Yeat</td>\n      <td>(pluggnb,)</td>\n      <td>0.693</td>\n      <td>0.575</td>\n      <td>2</td>\n      <td>-7.633</td>\n      <td>1</td>\n      <td>0.0906</td>\n      <td>...</td>\n      <td>0.1040</td>\n      <td>0.353</td>\n      <td>138.016</td>\n      <td>audio_features</td>\n      <td>7BbaIYAdi3pg4MGl6PHwPv</td>\n      <td>https://api.spotify.com/v1/tracks/7BbaIYAdi3pg...</td>\n      <td>https://api.spotify.com/v1/audio-analysis/7Bba...</td>\n      <td>160052</td>\n      <td>4</td>\n      <td>Monëy so big Lyrics\\nYeah, my money big body, ...</td>\n    </tr>\n    <tr>\n      <th>97</th>\n      <td>spotify:track:7LczcBaamU9pTkV4Cl9NyX</td>\n      <td>Blick Blick (with Nicki Minaj)</td>\n      <td>Coi Leray</td>\n      <td>(new jersey underground rap, pop rap, r&amp;b, tra...</td>\n      <td>0.916</td>\n      <td>0.824</td>\n      <td>8</td>\n      <td>-4.444</td>\n      <td>0</td>\n      <td>0.4220</td>\n      <td>...</td>\n      <td>0.0661</td>\n      <td>0.870</td>\n      <td>139.926</td>\n      <td>audio_features</td>\n      <td>7LczcBaamU9pTkV4Cl9NyX</td>\n      <td>https://api.spotify.com/v1/tracks/7LczcBaamU9p...</td>\n      <td>https://api.spotify.com/v1/audio-analysis/7Lcz...</td>\n      <td>178413</td>\n      <td>4</td>\n      <td>New Music Friday 03/18/22 LyricsJuice WRLD - S...</td>\n    </tr>\n    <tr>\n      <th>98</th>\n      <td>spotify:track:5gVCfYmQRPy1QJifP8f5gg</td>\n      <td>Fall In Love</td>\n      <td>Bailey Zimmerman</td>\n      <td>()</td>\n      <td>0.524</td>\n      <td>0.643</td>\n      <td>9</td>\n      <td>-6.055</td>\n      <td>1</td>\n      <td>0.0297</td>\n      <td>...</td>\n      <td>0.2210</td>\n      <td>0.397</td>\n      <td>135.962</td>\n      <td>audio_features</td>\n      <td>5gVCfYmQRPy1QJifP8f5gg</td>\n      <td>https://api.spotify.com/v1/tracks/5gVCfYmQRPy1...</td>\n      <td>https://api.spotify.com/v1/audio-analysis/5gVC...</td>\n      <td>232059</td>\n      <td>4</td>\n      <td>Fall In Love Lyrics\\nHeard you moved out to So...</td>\n    </tr>\n    <tr>\n      <th>99</th>\n      <td>spotify:track:48AJSd42lXpicsGqcgopof</td>\n      <td>X ÚLTIMA VEZ</td>\n      <td>Daddy Yankee</td>\n      <td>(latin, latin hip hop, reggaeton, trap latino)</td>\n      <td>0.812</td>\n      <td>0.855</td>\n      <td>7</td>\n      <td>-3.725</td>\n      <td>1</td>\n      <td>0.0554</td>\n      <td>...</td>\n      <td>0.1080</td>\n      <td>0.573</td>\n      <td>90.040</td>\n      <td>audio_features</td>\n      <td>48AJSd42lXpicsGqcgopof</td>\n      <td>https://api.spotify.com/v1/tracks/48AJSd42lXpi...</td>\n      <td>https://api.spotify.com/v1/audio-analysis/48AJ...</td>\n      <td>192477</td>\n      <td>4</td>\n      <td>X ÚLTIMA VEZ Lyrics\\n\\nDY\\nYeah-yeah-yeah-yeah...</td>\n    </tr>\n  </tbody>\n</table>\n<p>100 rows × 22 columns</p>\n</div>"
     },
     "metadata": {}
    }
   ]
  },
  {
   "cell_type": "markdown",
   "source": "# Clean up the lyric data",
   "metadata": {
    "cell_id": "546350c4e4954dca856400a47fdc5ca4",
    "tags": [],
    "deepnote_cell_type": "markdown",
    "deepnote_cell_height": 81.96875
   }
  },
  {
   "cell_type": "code",
   "metadata": {
    "cell_id": "e191c19f960a4ffebdd84538227271d1",
    "tags": [],
    "deepnote_to_be_reexecuted": false,
    "source_hash": "a1e156be",
    "execution_start": 1652290991706,
    "execution_millis": 4,
    "deepnote_cell_type": "code",
    "deepnote_cell_height": 477.234375
   },
   "source": "# Various imports needed for cleaning process\nimport nltk\nfrom nltk.corpus import stopwords\nimport string\nimport re\nfrom nltk.tokenize import word_tokenize\nnltk.download('punkt')\nfrom nltk.stem.porter import PorterStemmer\n\n# Configure stopwords\nnltk.download('stopwords')\nstop_words = set(stopwords.words('english'))\n\n# Configure punctuation set\npunct = set(string.punctuation)\n\n# Configure the stemmer\nstemmer = PorterStemmer()",
   "execution_count": null,
   "outputs": [
    {
     "name": "stderr",
     "text": "[nltk_data] Downloading package punkt to /root/nltk_data...\n[nltk_data]   Package punkt is already up-to-date!\n[nltk_data] Downloading package stopwords to /root/nltk_data...\n[nltk_data]   Package stopwords is already up-to-date!\n",
     "output_type": "stream"
    }
   ]
  },
  {
   "cell_type": "code",
   "metadata": {
    "cell_id": "5e883a69e3584b2da0f6739458fc7013",
    "tags": [],
    "deepnote_to_be_reexecuted": false,
    "source_hash": "341080fe",
    "execution_start": 1652291646464,
    "execution_millis": 5,
    "deepnote_cell_type": "code",
    "deepnote_cell_height": 674.96875
   },
   "source": "# Define a function that passes in a raw lyric and outputs a cleaned list of stems\ndef clean_lyrics(lyric):\n\n    try:\n        # Convert to all lowercase\n        lyric_int_1 = lyric.lower()\n\n        # Remove punctuation\n        lyric_int_2 = ''.join([ch for ch in lyric_int_1 if ch not in punct])\n\n        # Remove all newline characters\n        lyric_int_3 = re.sub('\\n', ' ', lyric_int_2)\n\n        # Split long string into list of words (bundled characters)\n        lyric_int_4 = word_tokenize(lyric_int_3)\n\n        # Remove stopwords\n        lyric_int_5 = [word for word in lyric_int_4 if word not in stop_words]\n\n        # Stem the list of words\n        lyric_int_6 = [stemmer.stem(word) for word in lyric_int_5]\n\n        # Finally, remove first line (title); we do this by finding first instance \n        # of 'lyric' stem in list above and only pulling list directly after this index\n        \n        # We also remove the very last word since it appears that there's some sort of\n        # embedding code attached to it, and the omission of one word shouldn't affect\n        # the modelling.\n        lyric_final = lyric_int_6[lyric_int_6.index('lyric')+1:-2]\n\n        return lyric_final\n\n    except:\n        pass",
   "execution_count": null,
   "outputs": []
  },
  {
   "cell_type": "code",
   "metadata": {
    "cell_id": "3e8204e05d944c16af8f0bf4441612d3",
    "tags": [],
    "deepnote_to_be_reexecuted": false,
    "source_hash": "7474ae2d",
    "execution_start": 1652291647776,
    "execution_millis": 932,
    "deepnote_cell_type": "code",
    "deepnote_cell_height": 98.96875
   },
   "source": "# Apply the function above to the lyrics field\nfinal_df['lyric_clean'] = final_df['lyric_raw'].apply(clean_lyrics)",
   "execution_count": null,
   "outputs": []
  },
  {
   "cell_type": "code",
   "metadata": {
    "cell_id": "0524eea4fcc14d20865579f55314eea9",
    "tags": [],
    "deepnote_to_be_reexecuted": false,
    "source_hash": "1f2ae399",
    "execution_start": 1652291648716,
    "execution_millis": 5,
    "owner_user_id": "cfcd2942-01a4-4c3a-82bd-b3edb2344fb4",
    "deepnote_cell_type": "code",
    "deepnote_cell_height": 808.953125
   },
   "source": "song = 11\n\nraw = final_df.iloc[song, -2]\nclean = final_df.iloc[song, -1]\n\nprint(raw)\nprint(clean)",
   "execution_count": null,
   "outputs": [
    {
     "name": "stdout",
     "text": "Bad Habits Lyrics\n(One, two, three, four)\nOoh, ooh\n\nEvery time you come around, you know I can't say no\nEvery time the sun goes down, I let you take control\nI can feel the paradise before my world implodes\nAnd tonight had something wonderful\n\nMy bad habits lead to late nights endin' alone\nConversations with a stranger I barely know\nSwearin' this'll be the last, but it probably won't\nI got nothin' left to lose, or use, or do\nMy bad habits lead to wide eyes starin' at space\nAnd I know I lose control of the things that I say\nYeah, I was lookin' for a way out, now I can't escape\nNothin' happens after two, it's truе, it's true\nMy bad habits lead to you\nOoh-ooh, ooh-ooh\nMy bad habits lead to you\nOoh-ooh, ooh-ooh\nMy bad habits lеad to you\n\nEvery pure intention ends when the good times start\nFallin' over everything to reach the first time's spark\nIt started under neon lights and then it all got dark\nI only know how to go too far\n\nMy bad habits lead to late nights endin' alone\nConversations with a stranger I barely know\nSwearin' this'll be the last, but it probably won't\nI got nothin' left to lose, or use, or do\nMy bad habits lead to wide eyes starin' at space\nAnd I know I lose control of the things that I say\nYeah, I was lookin' for a way out, now I can't escape\nNothin' happens after two, it's true, it's true\nMy bad habits lead to you\n\nOoh-ooh, ooh-ooh\nMy bad habits lead to you\nOoh-ooh, ooh-ooh\nWe took the long way 'round\nAnd burned 'til the fun ran out, now\n\nMy bad habits lead to late nights endin' alone\nConversations with a stranger I barely know\nSwearin' this'll be the last, but it probably won't\nI got nothin' left to lose, or use, or do\nMy bad habits lead to wide eyes starin' at space\nAnd I know I lose control of the things that I say\nYeah, I was lookin' for a way out, now I can't escape\nNothin' happens after two, it's true, it's true\nMy bad habits lead to you\n\nOoh-ooh, ooh-ooh\nMy bad habits lead to you\nOoh-ooh, ooh-ooh\nMy bad habits lead to you56Embed\n['one', 'two', 'three', 'four', 'ooh', 'ooh', 'everi', 'time', 'come', 'around', 'know', 'cant', 'say', 'everi', 'time', 'sun', 'goe', 'let', 'take', 'control', 'feel', 'paradis', 'world', 'implod', 'tonight', 'someth', 'wonder', 'bad', 'habit', 'lead', 'late', 'night', 'endin', 'alon', 'convers', 'stranger', 'bare', 'know', 'swearin', 'thisll', 'last', 'probabl', 'wont', 'got', 'nothin', 'left', 'lose', 'use', 'bad', 'habit', 'lead', 'wide', 'eye', 'starin', 'space', 'know', 'lose', 'control', 'thing', 'say', 'yeah', 'lookin', 'way', 'cant', 'escap', 'nothin', 'happen', 'two', 'truе', 'true', 'bad', 'habit', 'lead', 'oohooh', 'oohooh', 'bad', 'habit', 'lead', 'oohooh', 'oohooh', 'bad', 'habit', 'lеad', 'everi', 'pure', 'intent', 'end', 'good', 'time', 'start', 'fallin', 'everyth', 'reach', 'first', 'time', 'spark', 'start', 'neon', 'light', 'got', 'dark', 'know', 'go', 'far', 'bad', 'habit', 'lead', 'late', 'night', 'endin', 'alon', 'convers', 'stranger', 'bare', 'know', 'swearin', 'thisll', 'last', 'probabl', 'wont', 'got', 'nothin', 'left', 'lose', 'use', 'bad', 'habit', 'lead', 'wide', 'eye', 'starin', 'space', 'know', 'lose', 'control', 'thing', 'say', 'yeah', 'lookin', 'way', 'cant', 'escap', 'nothin', 'happen', 'two', 'true', 'true', 'bad', 'habit', 'lead', 'oohooh', 'oohooh', 'bad', 'habit', 'lead', 'oohooh', 'oohooh', 'took', 'long', 'way', 'round', 'burn', 'til', 'fun', 'ran', 'bad', 'habit', 'lead', 'late', 'night', 'endin', 'alon', 'convers', 'stranger', 'bare', 'know', 'swearin', 'thisll', 'last', 'probabl', 'wont', 'got', 'nothin', 'left', 'lose', 'use', 'bad', 'habit', 'lead', 'wide', 'eye', 'starin', 'space', 'know', 'lose', 'control', 'thing', 'say', 'yeah', 'lookin', 'way', 'cant', 'escap', 'nothin', 'happen', 'two', 'true', 'true', 'bad', 'habit', 'lead', 'oohooh', 'oohooh', 'bad', 'habit', 'lead', 'oohooh', 'oohooh', 'bad', 'habit']\n",
     "output_type": "stream"
    }
   ]
  },
  {
   "cell_type": "markdown",
   "source": "<a style='text-decoration:none;line-height:16px;display:flex;color:#5B5B62;padding:10px;justify-content:end;' href='https://deepnote.com?utm_source=created-in-deepnote-cell&projectId=659c715d-e2b5-478e-9116-4d32a5174810' target=\"_blank\">\n<img alt='Created in deepnote.com' style='display:inline;max-height:16px;margin:0px;margin-right:7.5px;' src='data:image/svg+xml;base64,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' > </img>\nCreated in <span style='font-weight:600;margin-left:4px;'>Deepnote</span></a>",
   "metadata": {
    "tags": [],
    "created_in_deepnote_cell": true,
    "deepnote_cell_type": "markdown"
   }
  }
 ],
 "nbformat": 4,
 "nbformat_minor": 2,
 "metadata": {
  "orig_nbformat": 2,
  "deepnote": {},
  "deepnote_notebook_id": "df6f8e3b-d7c4-43c6-8dfa-6b605a6ac90a",
  "deepnote_execution_queue": []
 }
}