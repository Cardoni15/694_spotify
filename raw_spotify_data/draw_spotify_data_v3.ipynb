{
 "cells": [
  {
   "cell_type": "code",
   "metadata": {
    "cell_id": "36420e28-9579-4b68-8db6-a2134dd1784d",
    "owner_user_id": "cfcd2942-01a4-4c3a-82bd-b3edb2344fb4",
    "deepnote_cell_type": "code",
    "deepnote_cell_height": 245.96875
   },
   "source": "import numpy as np\nimport pandas as pd\nimport random\nimport spotipy\nfrom spotipy.oauth2 import SpotifyClientCredentials\nfrom tqdm import tqdm\nSPOTIPY_CLIENT_ID='4f89cd57785747e1b1d7ee0b95e61985'\nsecret = '61708a8ace7647ba888be760fbc822d1'\ngenres_to_collect = ('alt-rock','classical', 'country',\n                       'edm', 'heavy-metal',  'hip-hop',\n                       'latin')",
   "execution_count": null,
   "outputs": []
  },
  {
   "cell_type": "code",
   "metadata": {
    "cell_id": "00001-849d639a-ffae-4005-a917-b35e452b1fc9",
    "deepnote_cell_type": "code",
    "deepnote_cell_height": 191.96875
   },
   "source": "# newest approach is to only search for genre and not let the spotify rec system provide tracks.\ndef create_credentials_obj():\n    \"\"\"\n    return a spotipy object\n    \"\"\"\n    client_credentials_manager = SpotifyClientCredentials(client_id=SPOTIPY_CLIENT_ID, client_secret=secret)\n    sp = spotipy.Spotify(client_credentials_manager=client_credentials_manager)\n    return sp",
   "execution_count": null,
   "outputs": []
  },
  {
   "cell_type": "code",
   "metadata": {
    "cell_id": "00002-a700b1ba-7530-4222-83f3-d8e2caf46ddd",
    "deepnote_cell_type": "code",
    "deepnote_cell_height": 605.96875
   },
   "source": "def collect_artist_track_using_search(sp, genres_to_collect):\n    \"\"\"\n    provide spotipy creds and list of genres\n\n    return a dataframe of track artist name and id\n    return 1k examples of each genre\n    \"\"\"\n    # define some search criteria. This could be expanded in a better version of the function\n    # for example iterate through each decade for each genre.\n    year = '2000-2022'\n    type = 'track'\n    market = 'US'\n    limit = 50\n    num_batches = 20\n\n    # initialize a df to store everything\n    artist_genre_id_df = pd.DataFrame(columns=['artist_name', 'artist_id', 'track_name', 'track_id', 'genre'])\n\n    for genre in tqdm(genres_to_collect):\n        offset = 0\n        for i in range(num_batches):\n            temp_search = sp.search(q=f'genre:{genre} AND year:{year}', type=type, market=market, limit=limit, offset=offset)\n            for result in temp_search['tracks']['items']:\n                temp_artist = result['artists'][0]['name']\n                temp_a_id = result['artists'][0]['id']\n                temp_track = result['name']\n                temp_t_id = result['id']\n                artist_genre_id_df.loc[len(artist_genre_id_df.index)] = [temp_artist, temp_a_id, temp_track, temp_t_id, genre]\n            offset = offset + 50\n    return artist_genre_id_df\n",
   "execution_count": null,
   "outputs": []
  },
  {
   "cell_type": "code",
   "metadata": {
    "cell_id": "00003-cd91ae17-62b1-44df-b123-a39927a38046",
    "deepnote_cell_type": "code",
    "deepnote_cell_height": 515.96875
   },
   "source": "def collect_track_attributes(sp, artist_track_df, logging=False, write_results=False):\n    \"\"\"\n    provide a dataframe containing track_id\n    return a merged df containing both features and artist info\n    \"\"\"\n    num_tracks = len(artist_track_df)\n    num_groups = int(num_tracks/95)\n    track_features_df = pd.DataFrame()\n    subDFs = np.array_split(artist_track_df, num_groups)\n    for df in tqdm(subDFs):\n        try:\n            temp_features_list = sp.audio_features(df['track_id'].values)\n            temp_features_list = [track for track in temp_features_list if track != None]\n            temp_features_df = pd.DataFrame(temp_features_list)\n            temp_features_df.rename(columns={'id': 'track_id'}, inplace=True)\n            track_features_df = pd.concat([track_features_df, temp_features_df])\n            # save the csv incase it gets stuck along the way.\n            if logging:\n                track_features_df.to_csv('iterative_features.csv')\n        except:\n            print('failure to load track values')\n    result_df = pd.merge(track_features_df, artist_track_df, how='inner', on='track_id')\n    result_df = result_df.drop_duplicates()\n    if write_results:\n        result_df.to_csv('pure_genre_data.csv', index=False)\n    return result_df",
   "execution_count": null,
   "outputs": []
  },
  {
   "cell_type": "code",
   "metadata": {
    "cell_id": "00004-ff02ef02-ffc9-4725-b20d-6a9d9c32e53b",
    "deepnote_cell_type": "code",
    "deepnote_cell_height": 149.59375
   },
   "source": "sp = create_credentials_obj()\nartist_track_df = collect_artist_track_using_search(sp, genres_to_collect)",
   "execution_count": null,
   "outputs": [
    {
     "name": "stderr",
     "output_type": "stream",
     "text": "100%|██████████| 7/7 [00:42<00:00,  6.14s/it]\n100%|██████████| 73/73 [00:12<00:00,  5.62it/s]\n"
    }
   ]
  },
  {
   "cell_type": "code",
   "metadata": {
    "cell_id": "00005-0b622ad8-8f45-4f3e-ad7b-869609a031bc",
    "owner_user_id": "7cc5a0be-055b-40bf-ac0a-3dbaf638d522",
    "deepnote_cell_type": "code",
    "deepnote_cell_height": 111.765625
   },
   "source": "track_features_df = collect_track_attributes(sp, artist_track_df, write_results=False)",
   "execution_count": null,
   "outputs": [
    {
     "name": "stderr",
     "output_type": "stream",
     "text": "100%|██████████| 73/73 [00:13<00:00,  5.55it/s]\n"
    }
   ]
  },
  {
   "cell_type": "code",
   "metadata": {
    "cell_id": "00006-c7a08494-3d88-40db-ad7e-079711269bc9",
    "deepnote_cell_type": "code",
    "deepnote_cell_height": 117.96875
   },
   "source": "",
   "execution_count": null,
   "outputs": [
    {
     "data": {
      "text/plain": "7000"
     },
     "execution_count": 38,
     "metadata": {},
     "output_type": "execute_result"
    }
   ]
  },
  {
   "cell_type": "markdown",
   "source": "<a style='text-decoration:none;line-height:16px;display:flex;color:#5B5B62;padding:10px;justify-content:end;' href='https://deepnote.com?utm_source=created-in-deepnote-cell&projectId=659c715d-e2b5-478e-9116-4d32a5174810' target=\"_blank\">\n<img alt='Created in deepnote.com' style='display:inline;max-height:16px;margin:0px;margin-right:7.5px;' src='data:image/svg+xml;base64,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' > </img>\nCreated in <span style='font-weight:600;margin-left:4px;'>Deepnote</span></a>",
   "metadata": {
    "tags": [],
    "created_in_deepnote_cell": true,
    "deepnote_cell_type": "markdown"
   }
  }
 ],
 "nbformat": 4,
 "nbformat_minor": 2,
 "metadata": {
  "interpreter": {
   "hash": "5edc29c2ed010d6458d71a83433b383a96a8cbd3efe8531bc90c4b8a5b8bcec9"
  },
  "kernelspec": {
   "display_name": "Python 3.8.2 64-bit",
   "language": "python",
   "name": "python3"
  },
  "language_info": {
   "codemirror_mode": {
    "name": "ipython",
    "version": 3
   },
   "file_extension": ".py",
   "mimetype": "text/x-python",
   "name": "python",
   "nbconvert_exporter": "python",
   "pygments_lexer": "ipython3",
   "version": "3.8.2"
  },
  "orig_nbformat": 4,
  "deepnote_notebook_id": "5edd14c3-176f-4373-92c1-072db3f82ca0",
  "deepnote": {},
  "deepnote_execution_queue": []
 }
}