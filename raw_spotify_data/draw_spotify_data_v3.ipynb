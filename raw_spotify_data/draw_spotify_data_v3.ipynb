{
 "cells": [
  {
   "cell_type": "code",
   "execution_count": 1,
   "metadata": {},
   "outputs": [],
   "source": [
    "import numpy as np\n",
    "import pandas as pd\n",
    "import random\n",
    "import spotipy\n",
    "from spotipy.oauth2 import SpotifyClientCredentials\n",
    "from tqdm import tqdm\n",
    "SPOTIPY_CLIENT_ID='4f89cd57785747e1b1d7ee0b95e61985'\n",
    "secret = '61708a8ace7647ba888be760fbc822d1'\n",
    "genres_to_collect = ('alt-rock','classical', 'country',\n",
    "                       'edm', 'heavy-metal',  'hip-hop',\n",
    "                       'latin')"
   ]
  },
  {
   "cell_type": "code",
   "execution_count": 3,
   "metadata": {},
   "outputs": [],
   "source": [
    "# newest approach is to only search for genre and not let the spotify rec system provide tracks.\n",
    "def create_credentials_obj():\n",
    "    \"\"\"\n",
    "    return a spotipy object\n",
    "    \"\"\"\n",
    "    client_credentials_manager = SpotifyClientCredentials(client_id=SPOTIPY_CLIENT_ID, client_secret=secret)\n",
    "    sp = spotipy.Spotify(client_credentials_manager=client_credentials_manager)\n",
    "    return sp"
   ]
  },
  {
   "cell_type": "code",
   "execution_count": 25,
   "metadata": {},
   "outputs": [],
   "source": [
    "def collect_artist_track_using_search(sp, genres_to_collect):\n",
    "    \"\"\"\n",
    "    provide spotipy creds and list of genres\n",
    "\n",
    "    return a dataframe of track artist name and id\n",
    "    return 1k examples of each genre\n",
    "    \"\"\"\n",
    "    # define some search criteria. This could be expanded in a better version of the function\n",
    "    # for example iterate through each decade for each genre.\n",
    "    year = '2000-2022'\n",
    "    type = 'track'\n",
    "    market = 'US'\n",
    "    limit = 50\n",
    "    num_batches = 20\n",
    "\n",
    "    # initialize a df to store everything\n",
    "    artist_genre_id_df = pd.DataFrame(columns=['artist_name', 'artist_id', 'track_name', 'track_id', 'genre'])\n",
    "\n",
    "    for genre in tqdm(genres_to_collect):\n",
    "        offset = 0\n",
    "        for i in range(num_batches):\n",
    "            temp_search = sp.search(q=f'genre:{genre} AND year:{year}', type=type, market=market, limit=limit, offset=offset)\n",
    "            for result in temp_search['tracks']['items']:\n",
    "                temp_artist = result['artists'][0]['name']\n",
    "                temp_a_id = result['artists'][0]['id']\n",
    "                temp_track = result['name']\n",
    "                temp_t_id = result['id']\n",
    "                artist_genre_id_df.loc[len(artist_genre_id_df.index)] = [temp_artist, temp_a_id, temp_track, temp_t_id, genre]\n",
    "            offset = offset + 50\n",
    "    return artist_genre_id_df\n"
   ]
  },
  {
   "cell_type": "code",
   "execution_count": 36,
   "metadata": {},
   "outputs": [],
   "source": [
    "def collect_track_attributes(sp, artist_track_df, logging=False, write_results=False):\n",
    "    \"\"\"\n",
    "    provide a dataframe containing track_id\n",
    "    return a merged df containing both features and artist info\n",
    "    \"\"\"\n",
    "    num_tracks = len(artist_track_df)\n",
    "    num_groups = int(num_tracks/95)\n",
    "    track_features_df = pd.DataFrame()\n",
    "    subDFs = np.array_split(artist_track_df, num_groups)\n",
    "    for df in tqdm(subDFs):\n",
    "        try:\n",
    "            temp_features_list = sp.audio_features(df['track_id'].values)\n",
    "            temp_features_list = [track for track in temp_features_list if track != None]\n",
    "            temp_features_df = pd.DataFrame(temp_features_list)\n",
    "            temp_features_df.rename(columns={'id': 'track_id'}, inplace=True)\n",
    "            track_features_df = pd.concat([track_features_df, temp_features_df])\n",
    "            # save the csv incase it gets stuck along the way.\n",
    "            if logging:\n",
    "                track_features_df.to_csv('iterative_features.csv')\n",
    "        except:\n",
    "            print('failure to load track values')\n",
    "    result_df = pd.merge(track_features_df, artist_track_df, how='inner', on='track_id')\n",
    "    result_df = result_df.drop_duplicates()\n",
    "    if write_results:\n",
    "        result_df.to_csv('pure_genre_data.csv', index=False)\n",
    "    return result_df"
   ]
  },
  {
   "cell_type": "code",
   "execution_count": 29,
   "metadata": {},
   "outputs": [
    {
     "name": "stderr",
     "output_type": "stream",
     "text": [
      "100%|██████████| 7/7 [00:42<00:00,  6.14s/it]\n",
      "100%|██████████| 73/73 [00:12<00:00,  5.62it/s]\n"
     ]
    }
   ],
   "source": [
    "sp = create_credentials_obj()\n",
    "artist_track_df = collect_artist_track_using_search(sp, genres_to_collect)"
   ]
  },
  {
   "cell_type": "code",
   "execution_count": 37,
   "metadata": {},
   "outputs": [
    {
     "name": "stderr",
     "output_type": "stream",
     "text": [
      "100%|██████████| 73/73 [00:13<00:00,  5.55it/s]\n"
     ]
    }
   ],
   "source": [
    "track_features_df = collect_track_attributes(sp, artist_track_df, write_results=True)"
   ]
  },
  {
   "cell_type": "code",
   "execution_count": 38,
   "metadata": {},
   "outputs": [
    {
     "data": {
      "text/plain": [
       "7000"
      ]
     },
     "execution_count": 38,
     "metadata": {},
     "output_type": "execute_result"
    }
   ],
   "source": []
  }
 ],
 "metadata": {
  "interpreter": {
   "hash": "5edc29c2ed010d6458d71a83433b383a96a8cbd3efe8531bc90c4b8a5b8bcec9"
  },
  "kernelspec": {
   "display_name": "Python 3.8.2 64-bit",
   "language": "python",
   "name": "python3"
  },
  "language_info": {
   "codemirror_mode": {
    "name": "ipython",
    "version": 3
   },
   "file_extension": ".py",
   "mimetype": "text/x-python",
   "name": "python",
   "nbconvert_exporter": "python",
   "pygments_lexer": "ipython3",
   "version": "3.8.2"
  },
  "orig_nbformat": 4
 },
 "nbformat": 4,
 "nbformat_minor": 2
}
