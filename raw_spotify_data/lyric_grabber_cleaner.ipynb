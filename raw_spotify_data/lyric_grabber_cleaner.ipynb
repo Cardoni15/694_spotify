{
 "cells": [
  {
   "cell_type": "markdown",
   "source": "### Input song attribute data",
   "metadata": {
    "cell_id": "59d3d25e55a943aa83f925fe4a246741",
    "tags": [],
    "deepnote_cell_type": "markdown",
    "deepnote_cell_height": 62
   }
  },
  {
   "cell_type": "code",
   "metadata": {
    "cell_id": "0318d3fe73db499d8ecc0e4728c6d952",
    "tags": [],
    "deepnote_to_be_reexecuted": false,
    "source_hash": "42a38bbb",
    "execution_start": 1652830434702,
    "execution_millis": 164,
    "deepnote_cell_type": "code",
    "deepnote_cell_height": 520
   },
   "source": "import pandas as pd\nimport numpy as np\nfrom tqdm import tqdm\n\ndf = pd.read_csv(\"pure_genre_data.csv\")\n\ndf.head()",
   "execution_count": 1,
   "outputs": [
    {
     "output_type": "execute_result",
     "execution_count": 1,
     "data": {
      "application/vnd.deepnote.dataframe.v3+json": {
       "column_count": 22,
       "row_count": 5,
       "columns": [
        {
         "name": "danceability",
         "dtype": "float64",
         "stats": {
          "unique_count": 5,
          "nan_count": 0,
          "min": "0.471",
          "max": "0.612",
          "histogram": [
           {
            "bin_start": 0.471,
            "bin_end": 0.4851,
            "count": 1
           },
           {
            "bin_start": 0.4851,
            "bin_end": 0.4992,
            "count": 0
           },
           {
            "bin_start": 0.4992,
            "bin_end": 0.5133,
            "count": 0
           },
           {
            "bin_start": 0.5133,
            "bin_end": 0.5274,
            "count": 0
           },
           {
            "bin_start": 0.5274,
            "bin_end": 0.5415,
            "count": 0
           },
           {
            "bin_start": 0.5415,
            "bin_end": 0.5556,
            "count": 1
           },
           {
            "bin_start": 0.5556,
            "bin_end": 0.5697,
            "count": 0
           },
           {
            "bin_start": 0.5697,
            "bin_end": 0.5838,
            "count": 1
           },
           {
            "bin_start": 0.5838,
            "bin_end": 0.5979,
            "count": 1
           },
           {
            "bin_start": 0.5979,
            "bin_end": 0.612,
            "count": 1
           }
          ]
         }
        },
        {
         "name": "energy",
         "dtype": "float64",
         "stats": {
          "unique_count": 5,
          "nan_count": 0,
          "min": "0.521",
          "max": "0.924",
          "histogram": [
           {
            "bin_start": 0.521,
            "bin_end": 0.5613,
            "count": 1
           },
           {
            "bin_start": 0.5613,
            "bin_end": 0.6016,
            "count": 1
           },
           {
            "bin_start": 0.6016,
            "bin_end": 0.6419,
            "count": 0
           },
           {
            "bin_start": 0.6419,
            "bin_end": 0.6822,
            "count": 0
           },
           {
            "bin_start": 0.6822,
            "bin_end": 0.7225,
            "count": 0
           },
           {
            "bin_start": 0.7225,
            "bin_end": 0.7628,
            "count": 0
           },
           {
            "bin_start": 0.7628,
            "bin_end": 0.8031,
            "count": 0
           },
           {
            "bin_start": 0.8031,
            "bin_end": 0.8434,
            "count": 1
           },
           {
            "bin_start": 0.8434,
            "bin_end": 0.8837,
            "count": 1
           },
           {
            "bin_start": 0.8837,
            "bin_end": 0.924,
            "count": 1
           }
          ]
         }
        },
        {
         "name": "key",
         "dtype": "int64",
         "stats": {
          "unique_count": 4,
          "nan_count": 0,
          "min": "7",
          "max": "10",
          "histogram": [
           {
            "bin_start": 7,
            "bin_end": 7.3,
            "count": 1
           },
           {
            "bin_start": 7.3,
            "bin_end": 7.6,
            "count": 0
           },
           {
            "bin_start": 7.6,
            "bin_end": 7.9,
            "count": 0
           },
           {
            "bin_start": 7.9,
            "bin_end": 8.2,
            "count": 1
           },
           {
            "bin_start": 8.2,
            "bin_end": 8.5,
            "count": 0
           },
           {
            "bin_start": 8.5,
            "bin_end": 8.8,
            "count": 0
           },
           {
            "bin_start": 8.8,
            "bin_end": 9.1,
            "count": 1
           },
           {
            "bin_start": 9.1,
            "bin_end": 9.4,
            "count": 0
           },
           {
            "bin_start": 9.4,
            "bin_end": 9.7,
            "count": 0
           },
           {
            "bin_start": 9.7,
            "bin_end": 10,
            "count": 2
           }
          ]
         }
        },
        {
         "name": "loudness",
         "dtype": "float64",
         "stats": {
          "unique_count": 5,
          "nan_count": 0,
          "min": "-9.461",
          "max": "-2.81",
          "histogram": [
           {
            "bin_start": -9.461,
            "bin_end": -8.7959,
            "count": 1
           },
           {
            "bin_start": -8.7959,
            "bin_end": -8.1308,
            "count": 0
           },
           {
            "bin_start": -8.1308,
            "bin_end": -7.4657,
            "count": 0
           },
           {
            "bin_start": -7.4657,
            "bin_end": -6.8006,
            "count": 0
           },
           {
            "bin_start": -6.8006,
            "bin_end": -6.1355,
            "count": 0
           },
           {
            "bin_start": -6.1355,
            "bin_end": -5.4704,
            "count": 2
           },
           {
            "bin_start": -5.4704,
            "bin_end": -4.8053,
            "count": 0
           },
           {
            "bin_start": -4.8053,
            "bin_end": -4.1402,
            "count": 0
           },
           {
            "bin_start": -4.1402,
            "bin_end": -3.4751000000000003,
            "count": 1
           },
           {
            "bin_start": -3.4751000000000003,
            "bin_end": -2.81,
            "count": 1
           }
          ]
         }
        },
        {
         "name": "mode",
         "dtype": "int64",
         "stats": {
          "unique_count": 2,
          "nan_count": 0,
          "min": "0",
          "max": "1",
          "histogram": [
           {
            "bin_start": 0,
            "bin_end": 0.1,
            "count": 2
           },
           {
            "bin_start": 0.1,
            "bin_end": 0.2,
            "count": 0
           },
           {
            "bin_start": 0.2,
            "bin_end": 0.30000000000000004,
            "count": 0
           },
           {
            "bin_start": 0.30000000000000004,
            "bin_end": 0.4,
            "count": 0
           },
           {
            "bin_start": 0.4,
            "bin_end": 0.5,
            "count": 0
           },
           {
            "bin_start": 0.5,
            "bin_end": 0.6000000000000001,
            "count": 0
           },
           {
            "bin_start": 0.6000000000000001,
            "bin_end": 0.7000000000000001,
            "count": 0
           },
           {
            "bin_start": 0.7000000000000001,
            "bin_end": 0.8,
            "count": 0
           },
           {
            "bin_start": 0.8,
            "bin_end": 0.9,
            "count": 0
           },
           {
            "bin_start": 0.9,
            "bin_end": 1,
            "count": 3
           }
          ]
         }
        },
        {
         "name": "speechiness",
         "dtype": "float64",
         "stats": {
          "unique_count": 5,
          "nan_count": 0,
          "min": "0.03",
          "max": "0.0586",
          "histogram": [
           {
            "bin_start": 0.03,
            "bin_end": 0.03286,
            "count": 1
           },
           {
            "bin_start": 0.03286,
            "bin_end": 0.03572,
            "count": 2
           },
           {
            "bin_start": 0.03572,
            "bin_end": 0.03858,
            "count": 0
           },
           {
            "bin_start": 0.03858,
            "bin_end": 0.04144,
            "count": 0
           },
           {
            "bin_start": 0.04144,
            "bin_end": 0.0443,
            "count": 0
           },
           {
            "bin_start": 0.0443,
            "bin_end": 0.04716,
            "count": 0
           },
           {
            "bin_start": 0.04716,
            "bin_end": 0.050019999999999995,
            "count": 0
           },
           {
            "bin_start": 0.050019999999999995,
            "bin_end": 0.052879999999999996,
            "count": 0
           },
           {
            "bin_start": 0.052879999999999996,
            "bin_end": 0.05574,
            "count": 1
           },
           {
            "bin_start": 0.05574,
            "bin_end": 0.0586,
            "count": 1
           }
          ]
         }
        },
        {
         "name": "acousticness",
         "dtype": "float64",
         "stats": {
          "unique_count": 5,
          "nan_count": 0,
          "min": "0.00301",
          "max": "0.186",
          "histogram": [
           {
            "bin_start": 0.00301,
            "bin_end": 0.021308999999999998,
            "count": 1
           },
           {
            "bin_start": 0.021308999999999998,
            "bin_end": 0.039608,
            "count": 0
           },
           {
            "bin_start": 0.039608,
            "bin_end": 0.057907,
            "count": 2
           },
           {
            "bin_start": 0.057907,
            "bin_end": 0.076206,
            "count": 1
           },
           {
            "bin_start": 0.076206,
            "bin_end": 0.09450499999999999,
            "count": 0
           },
           {
            "bin_start": 0.09450499999999999,
            "bin_end": 0.112804,
            "count": 0
           },
           {
            "bin_start": 0.112804,
            "bin_end": 0.131103,
            "count": 0
           },
           {
            "bin_start": 0.131103,
            "bin_end": 0.149402,
            "count": 0
           },
           {
            "bin_start": 0.149402,
            "bin_end": 0.16770100000000002,
            "count": 0
           },
           {
            "bin_start": 0.16770100000000002,
            "bin_end": 0.186,
            "count": 1
           }
          ]
         }
        },
        {
         "name": "instrumentalness",
         "dtype": "float64",
         "stats": {
          "unique_count": 5,
          "nan_count": 0,
          "min": "0.0",
          "max": "0.149",
          "histogram": [
           {
            "bin_start": 0,
            "bin_end": 0.0149,
            "count": 2
           },
           {
            "bin_start": 0.0149,
            "bin_end": 0.0298,
            "count": 1
           },
           {
            "bin_start": 0.0298,
            "bin_end": 0.044700000000000004,
            "count": 0
           },
           {
            "bin_start": 0.044700000000000004,
            "bin_end": 0.0596,
            "count": 0
           },
           {
            "bin_start": 0.0596,
            "bin_end": 0.0745,
            "count": 0
           },
           {
            "bin_start": 0.0745,
            "bin_end": 0.08940000000000001,
            "count": 1
           },
           {
            "bin_start": 0.08940000000000001,
            "bin_end": 0.1043,
            "count": 0
           },
           {
            "bin_start": 0.1043,
            "bin_end": 0.1192,
            "count": 0
           },
           {
            "bin_start": 0.1192,
            "bin_end": 0.1341,
            "count": 0
           },
           {
            "bin_start": 0.1341,
            "bin_end": 0.149,
            "count": 1
           }
          ]
         }
        },
        {
         "name": "liveness",
         "dtype": "float64",
         "stats": {
          "unique_count": 5,
          "nan_count": 0,
          "min": "0.101",
          "max": "0.313",
          "histogram": [
           {
            "bin_start": 0.101,
            "bin_end": 0.1222,
            "count": 1
           },
           {
            "bin_start": 0.1222,
            "bin_end": 0.1434,
            "count": 1
           },
           {
            "bin_start": 0.1434,
            "bin_end": 0.16460000000000002,
            "count": 1
           },
           {
            "bin_start": 0.16460000000000002,
            "bin_end": 0.18580000000000002,
            "count": 0
           },
           {
            "bin_start": 0.18580000000000002,
            "bin_end": 0.20700000000000002,
            "count": 0
           },
           {
            "bin_start": 0.20700000000000002,
            "bin_end": 0.22820000000000001,
            "count": 0
           },
           {
            "bin_start": 0.22820000000000001,
            "bin_end": 0.2494,
            "count": 0
           },
           {
            "bin_start": 0.2494,
            "bin_end": 0.2706,
            "count": 0
           },
           {
            "bin_start": 0.2706,
            "bin_end": 0.2918,
            "count": 1
           },
           {
            "bin_start": 0.2918,
            "bin_end": 0.313,
            "count": 1
           }
          ]
         }
        },
        {
         "name": "valence",
         "dtype": "float64",
         "stats": {
          "unique_count": 5,
          "nan_count": 0,
          "min": "0.337",
          "max": "0.725",
          "histogram": [
           {
            "bin_start": 0.337,
            "bin_end": 0.3758,
            "count": 2
           },
           {
            "bin_start": 0.3758,
            "bin_end": 0.4146,
            "count": 2
           },
           {
            "bin_start": 0.4146,
            "bin_end": 0.4534,
            "count": 0
           },
           {
            "bin_start": 0.4534,
            "bin_end": 0.49219999999999997,
            "count": 0
           },
           {
            "bin_start": 0.49219999999999997,
            "bin_end": 0.531,
            "count": 0
           },
           {
            "bin_start": 0.531,
            "bin_end": 0.5698,
            "count": 0
           },
           {
            "bin_start": 0.5698,
            "bin_end": 0.6086,
            "count": 0
           },
           {
            "bin_start": 0.6086,
            "bin_end": 0.6474,
            "count": 0
           },
           {
            "bin_start": 0.6474,
            "bin_end": 0.6861999999999999,
            "count": 0
           },
           {
            "bin_start": 0.6861999999999999,
            "bin_end": 0.725,
            "count": 1
           }
          ]
         }
        },
        {
         "name": "tempo",
         "dtype": "float64",
         "stats": {
          "unique_count": 5,
          "nan_count": 0,
          "min": "85.012",
          "max": "154.961",
          "histogram": [
           {
            "bin_start": 85.012,
            "bin_end": 92.0069,
            "count": 2
           },
           {
            "bin_start": 92.0069,
            "bin_end": 99.0018,
            "count": 1
           },
           {
            "bin_start": 99.0018,
            "bin_end": 105.9967,
            "count": 0
           },
           {
            "bin_start": 105.9967,
            "bin_end": 112.9916,
            "count": 0
           },
           {
            "bin_start": 112.9916,
            "bin_end": 119.9865,
            "count": 0
           },
           {
            "bin_start": 119.9865,
            "bin_end": 126.98140000000001,
            "count": 1
           },
           {
            "bin_start": 126.98140000000001,
            "bin_end": 133.9763,
            "count": 0
           },
           {
            "bin_start": 133.9763,
            "bin_end": 140.9712,
            "count": 0
           },
           {
            "bin_start": 140.9712,
            "bin_end": 147.9661,
            "count": 0
           },
           {
            "bin_start": 147.9661,
            "bin_end": 154.961,
            "count": 1
           }
          ]
         }
        },
        {
         "name": "type",
         "dtype": "object",
         "stats": {
          "unique_count": 1,
          "nan_count": 0,
          "categories": [
           {
            "name": "audio_features",
            "count": 5
           }
          ]
         }
        },
        {
         "name": "track_id",
         "dtype": "object",
         "stats": {
          "unique_count": 5,
          "nan_count": 0,
          "categories": [
           {
            "name": "2QjOHCTQ1Jl3zawyYOpxh6",
            "count": 1
           },
           {
            "name": "2K7xn816oNHJZ0aVqdQsha",
            "count": 1
           },
           {
            "name": "3 others",
            "count": 3
           }
          ]
         }
        },
        {
         "name": "uri",
         "dtype": "object",
         "stats": {
          "unique_count": 5,
          "nan_count": 0,
          "categories": [
           {
            "name": "spotify:track:2QjOHCTQ1Jl3zawyYOpxh6",
            "count": 1
           },
           {
            "name": "spotify:track:2K7xn816oNHJZ0aVqdQsha",
            "count": 1
           },
           {
            "name": "3 others",
            "count": 3
           }
          ]
         }
        },
        {
         "name": "track_href",
         "dtype": "object",
         "stats": {
          "unique_count": 5,
          "nan_count": 0,
          "categories": [
           {
            "name": "https://api.spotify.com/v1/tracks/2QjOHCTQ1Jl3zawyYOpxh6",
            "count": 1
           },
           {
            "name": "https://api.spotify.com/v1/tracks/2K7xn816oNHJZ0aVqdQsha",
            "count": 1
           },
           {
            "name": "3 others",
            "count": 3
           }
          ]
         }
        },
        {
         "name": "analysis_url",
         "dtype": "object",
         "stats": {
          "unique_count": 5,
          "nan_count": 0,
          "categories": [
           {
            "name": "https://api.spotify.com/v1/audio-analysis/2QjOHCTQ1Jl3zawyYOpxh6",
            "count": 1
           },
           {
            "name": "https://api.spotify.com/v1/audio-analysis/2K7xn816oNHJZ0aVqdQsha",
            "count": 1
           },
           {
            "name": "3 others",
            "count": 3
           }
          ]
         }
        },
        {
         "name": "duration_ms",
         "dtype": "int64",
         "stats": {
          "unique_count": 5,
          "nan_count": 0,
          "min": "153000",
          "max": "260173",
          "histogram": [
           {
            "bin_start": 153000,
            "bin_end": 163717.3,
            "count": 1
           },
           {
            "bin_start": 163717.3,
            "bin_end": 174434.6,
            "count": 0
           },
           {
            "bin_start": 174434.6,
            "bin_end": 185151.9,
            "count": 1
           },
           {
            "bin_start": 185151.9,
            "bin_end": 195869.2,
            "count": 0
           },
           {
            "bin_start": 195869.2,
            "bin_end": 206586.5,
            "count": 1
           },
           {
            "bin_start": 206586.5,
            "bin_end": 217303.8,
            "count": 0
           },
           {
            "bin_start": 217303.8,
            "bin_end": 228021.09999999998,
            "count": 0
           },
           {
            "bin_start": 228021.09999999998,
            "bin_end": 238738.4,
            "count": 0
           },
           {
            "bin_start": 238738.4,
            "bin_end": 249455.7,
            "count": 1
           },
           {
            "bin_start": 249455.7,
            "bin_end": 260173,
            "count": 1
           }
          ]
         }
        },
        {
         "name": "time_signature",
         "dtype": "int64",
         "stats": {
          "unique_count": 1,
          "nan_count": 0,
          "min": "4",
          "max": "4",
          "histogram": [
           {
            "bin_start": 3.5,
            "bin_end": 3.6,
            "count": 0
           },
           {
            "bin_start": 3.6,
            "bin_end": 3.7,
            "count": 0
           },
           {
            "bin_start": 3.7,
            "bin_end": 3.8,
            "count": 0
           },
           {
            "bin_start": 3.8,
            "bin_end": 3.9,
            "count": 0
           },
           {
            "bin_start": 3.9,
            "bin_end": 4,
            "count": 0
           },
           {
            "bin_start": 4,
            "bin_end": 4.1,
            "count": 5
           },
           {
            "bin_start": 4.1,
            "bin_end": 4.2,
            "count": 0
           },
           {
            "bin_start": 4.2,
            "bin_end": 4.3,
            "count": 0
           },
           {
            "bin_start": 4.3,
            "bin_end": 4.4,
            "count": 0
           },
           {
            "bin_start": 4.4,
            "bin_end": 4.5,
            "count": 0
           }
          ]
         }
        },
        {
         "name": "artist_name",
         "dtype": "object",
         "stats": {
          "unique_count": 2,
          "nan_count": 0,
          "categories": [
           {
            "name": "The Neighbourhood",
            "count": 4
           },
           {
            "name": "Neon Trees",
            "count": 1
           }
          ]
         }
        },
        {
         "name": "artist_id",
         "dtype": "object",
         "stats": {
          "unique_count": 2,
          "nan_count": 0,
          "categories": [
           {
            "name": "77SW9BnxLY8rJ0RciFqkHh",
            "count": 4
           },
           {
            "name": "0RpddSzUHfncUWNJXKOsjy",
            "count": 1
           }
          ]
         }
        },
        {
         "name": "track_name",
         "dtype": "object",
         "stats": {
          "unique_count": 5,
          "nan_count": 0,
          "categories": [
           {
            "name": "Sweater Weather",
            "count": 1
           },
           {
            "name": "Softcore",
            "count": 1
           },
           {
            "name": "3 others",
            "count": 3
           }
          ]
         }
        },
        {
         "name": "genre",
         "dtype": "object",
         "stats": {
          "unique_count": 1,
          "nan_count": 0,
          "categories": [
           {
            "name": "alt-rock",
            "count": 5
           }
          ]
         }
        },
        {
         "name": "_deepnote_index_column",
         "dtype": "int64"
        }
       ],
       "rows": [
        {
         "danceability": 0.612,
         "energy": 0.807,
         "key": 10,
         "loudness": -2.81,
         "mode": 1,
         "speechiness": 0.0336,
         "acousticness": 0.0495,
         "instrumentalness": 0.0177,
         "liveness": 0.101,
         "valence": 0.398,
         "tempo": 124.053,
         "type": "audio_features",
         "track_id": "2QjOHCTQ1Jl3zawyYOpxh6",
         "uri": "spotify:track:2QjOHCTQ1Jl3zawyYOpxh6",
         "track_href": "https://api.spotify.com/v1/tracks/2QjOHCTQ1Jl3zawyYOpxh6",
         "analysis_url": "https://api.spotify.com/v1/audio-analysis/2QjOHCTQ1Jl3zawyYOpxh6",
         "duration_ms": 240400,
         "time_signature": 4,
         "artist_name": "The Neighbourhood",
         "artist_id": "77SW9BnxLY8rJ0RciFqkHh",
         "track_name": "Sweater Weather",
         "genre": "alt-rock",
         "_deepnote_index_column": 0
        },
        {
         "danceability": 0.575,
         "energy": 0.568,
         "key": 9,
         "loudness": -5.509,
         "mode": 0,
         "speechiness": 0.03,
         "acousticness": 0.0484,
         "instrumentalness": 0.000417,
         "liveness": 0.286,
         "valence": 0.37,
         "tempo": 93.986,
         "type": "audio_features",
         "track_id": "2K7xn816oNHJZ0aVqdQsha",
         "uri": "spotify:track:2K7xn816oNHJZ0aVqdQsha",
         "track_href": "https://api.spotify.com/v1/tracks/2K7xn816oNHJZ0aVqdQsha",
         "analysis_url": "https://api.spotify.com/v1/audio-analysis/2K7xn816oNHJZ0aVqdQsha",
         "duration_ms": 206280,
         "time_signature": 4,
         "artist_name": "The Neighbourhood",
         "artist_id": "77SW9BnxLY8rJ0RciFqkHh",
         "track_name": "Softcore",
         "genre": "alt-rock",
         "_deepnote_index_column": 1
        },
        {
         "danceability": 0.588,
         "energy": 0.521,
         "key": 10,
         "loudness": -9.461,
         "mode": 1,
         "speechiness": 0.0329,
         "acousticness": 0.0678,
         "instrumentalness": 0.149,
         "liveness": 0.123,
         "valence": 0.337,
         "tempo": 85.012,
         "type": "audio_features",
         "track_id": "5E30LdtzQTGqRvNd7l6kG5",
         "uri": "spotify:track:5E30LdtzQTGqRvNd7l6kG5",
         "track_href": "https://api.spotify.com/v1/tracks/5E30LdtzQTGqRvNd7l6kG5",
         "analysis_url": "https://api.spotify.com/v1/audio-analysis/5E30LdtzQTGqRvNd7l6kG5",
         "duration_ms": 260173,
         "time_signature": 4,
         "artist_name": "The Neighbourhood",
         "artist_id": "77SW9BnxLY8rJ0RciFqkHh",
         "track_name": "Daddy Issues",
         "genre": "alt-rock",
         "_deepnote_index_column": 2
        },
        {
         "danceability": 0.471,
         "energy": 0.924,
         "key": 8,
         "loudness": -3.906,
         "mode": 1,
         "speechiness": 0.0586,
         "acousticness": 0.00301,
         "instrumentalness": 0,
         "liveness": 0.313,
         "valence": 0.725,
         "tempo": 154.961,
         "type": "audio_features",
         "track_id": "2iUmqdfGZcHIhS3b9E9EWq",
         "uri": "spotify:track:2iUmqdfGZcHIhS3b9E9EWq",
         "track_href": "https://api.spotify.com/v1/tracks/2iUmqdfGZcHIhS3b9E9EWq",
         "analysis_url": "https://api.spotify.com/v1/audio-analysis/2iUmqdfGZcHIhS3b9E9EWq",
         "duration_ms": 177280,
         "time_signature": 4,
         "artist_name": "Neon Trees",
         "artist_id": "0RpddSzUHfncUWNJXKOsjy",
         "track_name": "Everybody Talks",
         "genre": "alt-rock",
         "_deepnote_index_column": 3
        },
        {
         "danceability": 0.551,
         "energy": 0.881,
         "key": 7,
         "loudness": -6.099,
         "mode": 0,
         "speechiness": 0.0542,
         "acousticness": 0.186,
         "instrumentalness": 0.0791,
         "liveness": 0.152,
         "valence": 0.387,
         "tempo": 88.036,
         "type": "audio_features",
         "track_id": "7zwn1eykZtZ5LODrf7c0tS",
         "uri": "spotify:track:7zwn1eykZtZ5LODrf7c0tS",
         "track_href": "https://api.spotify.com/v1/tracks/7zwn1eykZtZ5LODrf7c0tS",
         "analysis_url": "https://api.spotify.com/v1/audio-analysis/7zwn1eykZtZ5LODrf7c0tS",
         "duration_ms": 153000,
         "time_signature": 4,
         "artist_name": "The Neighbourhood",
         "artist_id": "77SW9BnxLY8rJ0RciFqkHh",
         "track_name": "You Get Me So High",
         "genre": "alt-rock",
         "_deepnote_index_column": 4
        }
       ]
      },
      "text/plain": "   danceability  energy  key  loudness  mode  speechiness  acousticness  \\\n0         0.612   0.807   10    -2.810     1       0.0336       0.04950   \n1         0.575   0.568    9    -5.509     0       0.0300       0.04840   \n2         0.588   0.521   10    -9.461     1       0.0329       0.06780   \n3         0.471   0.924    8    -3.906     1       0.0586       0.00301   \n4         0.551   0.881    7    -6.099     0       0.0542       0.18600   \n\n   instrumentalness  liveness  valence  ...                track_id  \\\n0          0.017700     0.101    0.398  ...  2QjOHCTQ1Jl3zawyYOpxh6   \n1          0.000417     0.286    0.370  ...  2K7xn816oNHJZ0aVqdQsha   \n2          0.149000     0.123    0.337  ...  5E30LdtzQTGqRvNd7l6kG5   \n3          0.000000     0.313    0.725  ...  2iUmqdfGZcHIhS3b9E9EWq   \n4          0.079100     0.152    0.387  ...  7zwn1eykZtZ5LODrf7c0tS   \n\n                                    uri  \\\n0  spotify:track:2QjOHCTQ1Jl3zawyYOpxh6   \n1  spotify:track:2K7xn816oNHJZ0aVqdQsha   \n2  spotify:track:5E30LdtzQTGqRvNd7l6kG5   \n3  spotify:track:2iUmqdfGZcHIhS3b9E9EWq   \n4  spotify:track:7zwn1eykZtZ5LODrf7c0tS   \n\n                                          track_href  \\\n0  https://api.spotify.com/v1/tracks/2QjOHCTQ1Jl3...   \n1  https://api.spotify.com/v1/tracks/2K7xn816oNHJ...   \n2  https://api.spotify.com/v1/tracks/5E30LdtzQTGq...   \n3  https://api.spotify.com/v1/tracks/2iUmqdfGZcHI...   \n4  https://api.spotify.com/v1/tracks/7zwn1eykZtZ5...   \n\n                                        analysis_url duration_ms  \\\n0  https://api.spotify.com/v1/audio-analysis/2QjO...      240400   \n1  https://api.spotify.com/v1/audio-analysis/2K7x...      206280   \n2  https://api.spotify.com/v1/audio-analysis/5E30...      260173   \n3  https://api.spotify.com/v1/audio-analysis/2iUm...      177280   \n4  https://api.spotify.com/v1/audio-analysis/7zwn...      153000   \n\n  time_signature        artist_name               artist_id  \\\n0              4  The Neighbourhood  77SW9BnxLY8rJ0RciFqkHh   \n1              4  The Neighbourhood  77SW9BnxLY8rJ0RciFqkHh   \n2              4  The Neighbourhood  77SW9BnxLY8rJ0RciFqkHh   \n3              4         Neon Trees  0RpddSzUHfncUWNJXKOsjy   \n4              4  The Neighbourhood  77SW9BnxLY8rJ0RciFqkHh   \n\n           track_name     genre  \n0     Sweater Weather  alt-rock  \n1            Softcore  alt-rock  \n2        Daddy Issues  alt-rock  \n3     Everybody Talks  alt-rock  \n4  You Get Me So High  alt-rock  \n\n[5 rows x 22 columns]",
      "text/html": "<div>\n<style scoped>\n    .dataframe tbody tr th:only-of-type {\n        vertical-align: middle;\n    }\n\n    .dataframe tbody tr th {\n        vertical-align: top;\n    }\n\n    .dataframe thead th {\n        text-align: right;\n    }\n</style>\n<table border=\"1\" class=\"dataframe\">\n  <thead>\n    <tr style=\"text-align: right;\">\n      <th></th>\n      <th>danceability</th>\n      <th>energy</th>\n      <th>key</th>\n      <th>loudness</th>\n      <th>mode</th>\n      <th>speechiness</th>\n      <th>acousticness</th>\n      <th>instrumentalness</th>\n      <th>liveness</th>\n      <th>valence</th>\n      <th>...</th>\n      <th>track_id</th>\n      <th>uri</th>\n      <th>track_href</th>\n      <th>analysis_url</th>\n      <th>duration_ms</th>\n      <th>time_signature</th>\n      <th>artist_name</th>\n      <th>artist_id</th>\n      <th>track_name</th>\n      <th>genre</th>\n    </tr>\n  </thead>\n  <tbody>\n    <tr>\n      <th>0</th>\n      <td>0.612</td>\n      <td>0.807</td>\n      <td>10</td>\n      <td>-2.810</td>\n      <td>1</td>\n      <td>0.0336</td>\n      <td>0.04950</td>\n      <td>0.017700</td>\n      <td>0.101</td>\n      <td>0.398</td>\n      <td>...</td>\n      <td>2QjOHCTQ1Jl3zawyYOpxh6</td>\n      <td>spotify:track:2QjOHCTQ1Jl3zawyYOpxh6</td>\n      <td>https://api.spotify.com/v1/tracks/2QjOHCTQ1Jl3...</td>\n      <td>https://api.spotify.com/v1/audio-analysis/2QjO...</td>\n      <td>240400</td>\n      <td>4</td>\n      <td>The Neighbourhood</td>\n      <td>77SW9BnxLY8rJ0RciFqkHh</td>\n      <td>Sweater Weather</td>\n      <td>alt-rock</td>\n    </tr>\n    <tr>\n      <th>1</th>\n      <td>0.575</td>\n      <td>0.568</td>\n      <td>9</td>\n      <td>-5.509</td>\n      <td>0</td>\n      <td>0.0300</td>\n      <td>0.04840</td>\n      <td>0.000417</td>\n      <td>0.286</td>\n      <td>0.370</td>\n      <td>...</td>\n      <td>2K7xn816oNHJZ0aVqdQsha</td>\n      <td>spotify:track:2K7xn816oNHJZ0aVqdQsha</td>\n      <td>https://api.spotify.com/v1/tracks/2K7xn816oNHJ...</td>\n      <td>https://api.spotify.com/v1/audio-analysis/2K7x...</td>\n      <td>206280</td>\n      <td>4</td>\n      <td>The Neighbourhood</td>\n      <td>77SW9BnxLY8rJ0RciFqkHh</td>\n      <td>Softcore</td>\n      <td>alt-rock</td>\n    </tr>\n    <tr>\n      <th>2</th>\n      <td>0.588</td>\n      <td>0.521</td>\n      <td>10</td>\n      <td>-9.461</td>\n      <td>1</td>\n      <td>0.0329</td>\n      <td>0.06780</td>\n      <td>0.149000</td>\n      <td>0.123</td>\n      <td>0.337</td>\n      <td>...</td>\n      <td>5E30LdtzQTGqRvNd7l6kG5</td>\n      <td>spotify:track:5E30LdtzQTGqRvNd7l6kG5</td>\n      <td>https://api.spotify.com/v1/tracks/5E30LdtzQTGq...</td>\n      <td>https://api.spotify.com/v1/audio-analysis/5E30...</td>\n      <td>260173</td>\n      <td>4</td>\n      <td>The Neighbourhood</td>\n      <td>77SW9BnxLY8rJ0RciFqkHh</td>\n      <td>Daddy Issues</td>\n      <td>alt-rock</td>\n    </tr>\n    <tr>\n      <th>3</th>\n      <td>0.471</td>\n      <td>0.924</td>\n      <td>8</td>\n      <td>-3.906</td>\n      <td>1</td>\n      <td>0.0586</td>\n      <td>0.00301</td>\n      <td>0.000000</td>\n      <td>0.313</td>\n      <td>0.725</td>\n      <td>...</td>\n      <td>2iUmqdfGZcHIhS3b9E9EWq</td>\n      <td>spotify:track:2iUmqdfGZcHIhS3b9E9EWq</td>\n      <td>https://api.spotify.com/v1/tracks/2iUmqdfGZcHI...</td>\n      <td>https://api.spotify.com/v1/audio-analysis/2iUm...</td>\n      <td>177280</td>\n      <td>4</td>\n      <td>Neon Trees</td>\n      <td>0RpddSzUHfncUWNJXKOsjy</td>\n      <td>Everybody Talks</td>\n      <td>alt-rock</td>\n    </tr>\n    <tr>\n      <th>4</th>\n      <td>0.551</td>\n      <td>0.881</td>\n      <td>7</td>\n      <td>-6.099</td>\n      <td>0</td>\n      <td>0.0542</td>\n      <td>0.18600</td>\n      <td>0.079100</td>\n      <td>0.152</td>\n      <td>0.387</td>\n      <td>...</td>\n      <td>7zwn1eykZtZ5LODrf7c0tS</td>\n      <td>spotify:track:7zwn1eykZtZ5LODrf7c0tS</td>\n      <td>https://api.spotify.com/v1/tracks/7zwn1eykZtZ5...</td>\n      <td>https://api.spotify.com/v1/audio-analysis/7zwn...</td>\n      <td>153000</td>\n      <td>4</td>\n      <td>The Neighbourhood</td>\n      <td>77SW9BnxLY8rJ0RciFqkHh</td>\n      <td>You Get Me So High</td>\n      <td>alt-rock</td>\n    </tr>\n  </tbody>\n</table>\n<p>5 rows × 22 columns</p>\n</div>"
     },
     "metadata": {}
    }
   ]
  },
  {
   "cell_type": "markdown",
   "source": "### Add in lyric data from lyricgenius API",
   "metadata": {
    "cell_id": "5153259c172e4a5e9311c290bfc48c46",
    "tags": [],
    "deepnote_cell_type": "markdown",
    "deepnote_cell_height": 62
   }
  },
  {
   "cell_type": "code",
   "metadata": {
    "tags": [],
    "cell_id": "4bb7c21d-a895-4647-827e-735e1fabc9dc",
    "deepnote_to_be_reexecuted": false,
    "source_hash": "7116c864",
    "execution_start": 1652830434870,
    "execution_millis": 5410,
    "deepnote_cell_type": "code",
    "deepnote_cell_height": 475.1875
   },
   "source": "# Import necessary libraries\n!pip install lyricsgenius\nimport lyricsgenius",
   "execution_count": 2,
   "outputs": [
    {
     "name": "stdout",
     "text": "Collecting lyricsgenius\n  Downloading lyricsgenius-3.0.1-py3-none-any.whl (59 kB)\n\u001b[K     |████████████████████████████████| 59 kB 8.3 MB/s \n\u001b[?25hRequirement already satisfied: requests>=2.20.0 in /shared-libs/python3.7/py/lib/python3.7/site-packages (from lyricsgenius) (2.27.1)\nCollecting beautifulsoup4>=4.6.0\n  Downloading beautifulsoup4-4.11.1-py3-none-any.whl (128 kB)\n\u001b[K     |████████████████████████████████| 128 kB 37.8 MB/s \n\u001b[?25hRequirement already satisfied: certifi>=2017.4.17 in /shared-libs/python3.7/py/lib/python3.7/site-packages (from requests>=2.20.0->lyricsgenius) (2021.10.8)\nRequirement already satisfied: charset-normalizer~=2.0.0; python_version >= \"3\" in /shared-libs/python3.7/py-core/lib/python3.7/site-packages (from requests>=2.20.0->lyricsgenius) (2.0.12)\nRequirement already satisfied: idna<4,>=2.5; python_version >= \"3\" in /shared-libs/python3.7/py-core/lib/python3.7/site-packages (from requests>=2.20.0->lyricsgenius) (3.3)\nRequirement already satisfied: urllib3<1.27,>=1.21.1 in /shared-libs/python3.7/py/lib/python3.7/site-packages (from requests>=2.20.0->lyricsgenius) (1.26.9)\nCollecting soupsieve>1.2\n  Downloading soupsieve-2.3.2.post1-py3-none-any.whl (37 kB)\nInstalling collected packages: soupsieve, beautifulsoup4, lyricsgenius\nSuccessfully installed beautifulsoup4-4.11.1 lyricsgenius-3.0.1 soupsieve-2.3.2.post1\n\u001b[33mWARNING: You are using pip version 20.1.1; however, version 22.1 is available.\nYou should consider upgrading via the '/root/venv/bin/python -m pip install --upgrade pip' command.\u001b[0m\n",
     "output_type": "stream"
    }
   ]
  },
  {
   "cell_type": "code",
   "metadata": {
    "cell_id": "49e1c4f03c904dfab2b9f0cecaf11794",
    "tags": [],
    "deepnote_to_be_reexecuted": false,
    "source_hash": "62c5a5be",
    "execution_start": 1652830440280,
    "execution_millis": 0,
    "deepnote_cell_type": "code",
    "deepnote_cell_height": 171
   },
   "source": "# Gain access to the api\naccess_token = \"me-MXmuCTyJWDZ1MmERAAyivlY61EvPSD7KX2lBynV60vCOlEheYc6HVfPGlQ0ru\"\ngenius = lyricsgenius.Genius(access_token)\n\n# And we'll remove the section headers\ngenius.remove_section_headers = True",
   "execution_count": 3,
   "outputs": []
  },
  {
   "cell_type": "code",
   "metadata": {
    "cell_id": "3a96cedbc8b6439eb9e89b6a6e5eb1ec",
    "tags": [],
    "deepnote_to_be_reexecuted": false,
    "source_hash": "573e7f7",
    "execution_start": 1652830440281,
    "execution_millis": 0,
    "deepnote_cell_type": "code",
    "deepnote_cell_height": 279
   },
   "source": "# Define a function that returns the lyrics of a particular song\ndef grab_lyric(row):\n\n    # Grab the lyrics\n    lyr = genius.search_song(row['track_name'], row['artist_name'])\n\n    try: \n        lyr = lyr.lyrics\n    except:\n        pass\n\n    return lyr",
   "execution_count": 4,
   "outputs": []
  },
  {
   "cell_type": "code",
   "source": "# Split out the fields we need\nint_df = df[['track_id', 'artist_name', 'track_name']]",
   "metadata": {
    "cell_id": "cbe4aa44c2c84108908179cb46d8bed8",
    "tags": [],
    "deepnote_to_be_reexecuted": false,
    "source_hash": "49a404bc",
    "execution_start": 1652830440281,
    "execution_millis": 1,
    "deepnote_cell_type": "code",
    "deepnote_cell_height": 99
   },
   "outputs": [],
   "execution_count": 5
  },
  {
   "cell_type": "code",
   "metadata": {
    "cell_id": "b7b5e632b6174fe7a48a79a8c85befe9",
    "tags": [],
    "deepnote_to_be_reexecuted": false,
    "source_hash": "32f35696",
    "execution_start": 1652830440282,
    "execution_millis": 4769941,
    "deepnote_cell_type": "code",
    "deepnote_cell_height": 998
   },
   "source": "# Split the dataset into groupings\nnum_groups = round(int_df.shape[0]/40, 0)\nsubDFs = np.array_split(int_df, num_groups)\n\n# Create final data frame that we'll concatenate to\nfinal = pd.DataFrame()\n\n# Loop over the groupings and pull the lyric data\nfor partition in tqdm(subDFs):\n    try:\n        partition['lyric_raw'] = partition.apply(grab_lyric, axis = 1)\n        final = final.append(partition)\n    except:\n        print('failure to load track lyrics')\n",
   "execution_count": 6,
   "outputs": [
    {
     "name": "stderr",
     "text": "Searching for \"AM\" by Nio Garcia...\nDone.\nSearching for \"Pa Mí - Remix\" by Dalex...\nDone.\nSearching for \"Perfecta\" by Reik...\nDone.\nSearching for \"Los Tragos\" by Reik...\nDone.\nSearching for \"Otra vez (feat. J Balvin)\" by Zion & Lennox...\nDone.\nSearching for \"Si Tu Me Busca\" by Anuel AA...\nDone.\nSearching for \"Mi Niña\" by Wisin...\nDone.\nSearching for \"El Efecto\" by Rauw Alejandro...\nDone.\nSearching for \"La Nota\" by Manuel Turizo...\nDone.\nSearching for \"Dura\" by Daddy Yankee...\nDone.\nSearching for \"Fuiste Tú (feat. Gaby Moreno)\" by Ricardo Arjona...\nDone.\nSearching for \"Chambea\" by Bad Bunny...\nDone.\nSearching for \"Borro Cassette\" by Maluma...\nDone.\nSearching for \"Niña Bonita\" by Chino & Nacho...\nDone.\nSearching for \"China\" by Anuel AA...\nDone.\nSearching for \"Amanece\" by Anuel AA...\nDone.\nSearching for \"Ella Me Levanto\" by Daddy Yankee...\nDone.\nSearching for \"Te Boté\" by Darell...\nDone.\nSearching for \"Diosa\" by Myke Towers...\n 93%|█████████▎| 163/175 [1:13:52<05:35, 27.98s/it]Done.\nSearching for \"Quien TV Remix\" by Blessd...\nDone.\nSearching for \"Robarte un Beso\" by Carlos Vives...\nDone.\nSearching for \"Loca - Remix\" by KHEA...\nDone.\nSearching for \"UNA MÁS\" by Tainy...\nDone.\nSearching for \"Ley Seca\" by Jhay Cortez...\nDone.\nSearching for \"Verte Ir\" by DJ Luian...\nDone.\nSearching for \"Linda\" by Tokischa...\nDone.\nSearching for \"Te Espero\" by Prince Royce...\nDone.\nSearching for \"RLNDT\" by Bad Bunny...\nDone.\nSearching for \"MOJAITA\" by J Balvin...\nDone.\nSearching for \"La Modelo\" by Ozuna...\nDone.\nSearching for \"ULTRA SOLO\" by Polimá Westcoast...\nDone.\nSearching for \"La Tortura (feat. Alejandro Sanz)\" by Shakira...\nDone.\nSearching for \"Me Acostumbre (feat. Bad Bunny)\" by Arcangel...\nDone.\nSearching for \"Te Robaré\" by Nicky Jam...\nDone.\nSearching for \"Ya Me Enteré\" by Reik...\nDone.\nSearching for \"Reggaetón Lento (Bailemos)\" by CNCO...\nDone.\nSearching for \"Yo No Sé Mañana\" by Luis Enrique...\nDone.\nSearching for \"Tú\" by maye...\nDone.\nSearching for \"I Know You Want Me (Calle Ocho)\" by Pitbull...\nDone.\nSearching for \"Agua (with J Balvin)\" by Tainy...\nDone.\nSearching for \"TRELLAS\" by Bad Bunny...\nDone.\nSearching for \"La Camisa Negra\" by Juanes...\nDone.\nSearching for \"Mis Ojos Lloran Por Ti\" by Big Boy...\nDone.\nSearching for \"La Ocasión\" by DJ Luian...\nDone.\nSearching for \"Ay Vamos\" by J Balvin...\nDone.\nSearching for \"Andas En Mi Cabeza\" by Chino & Nacho...\nDone.\nSearching for \"Otra Noche Sin Ti\" by J Balvin...\nDone.\nSearching for \"Canción Bonita\" by Carlos Vives...\nDone.\nSearching for \"Medusa\" by Jhay Cortez...\nDone.\nSearching for \"La Bicicleta\" by Carlos Vives...\nDone.\nSearching for \"Despacito - Remix\" by Luis Fonsi...\nDone.\nSearching for \"Suave (Remix)\" by El Alfa...\nDone.\nSearching for \"Otro Trago\" by Sech...\nDone.\nSearching for \"M&M (with Future feat. Lil Baby)\" by Rvssian...\nDone.\nSearching for \"Si Me Dices Que Sí\" by Reik...\nDone.\nSearching for \"Noche De Sexo\" by Wisin & Yandel...\nDone.\nSearching for \"Algo Me Gusta De Ti\" by Wisin & Yandel...\nDone.\nSearching for \"Asesina - Remix\" by Brytiago...\nDone.\nSearching for \"Sin Pijama\" by Becky G...\n 94%|█████████▎| 164/175 [1:14:25<05:22, 29.31s/it]Done.\nSearching for \"Corazón (feat. Nego do Borel)\" by Maluma...\nDone.\nSearching for \"Bandoleros\" by Don Omar...\nDone.\nSearching for \"Flor Pálida\" by Marc Anthony...\nDone.\nSearching for \"Te Vi\" by Piso 21...\nDone.\nSearching for \"Muévelo\" by Nicky Jam...\nDone.\nSearching for \"In Da Getto\" by J Balvin...\nDone.\nSearching for \"Tu No Metes Cabra\" by Bad Bunny...\nDone.\nSearching for \"Darte Remix\" by Alex Rose...\nDone.\nSearching for \"Tenemos Que Hablar\" by Bad Bunny...\nDone.\nSearching for \"Amigos Con Derechos\" by Reik...\nDone.\nSearching for \"badtrip :(\" by Mora...\nDone.\nSearching for \"Down\" by R.K.M & Ken-Y...\nDone.\nSearching for \"Baila Baila Baila\" by Ozuna...\nDone.\nSearching for \"Tú de Qué Vas\" by Franco De Vita...\nDone.\nSearching for \"Explícale (feat. Bad Bunny)\" by Yandel...\nDone.\nSearching for \"Sensacion Del Bloque\" by De La Ghetto...\nDone.\nSearching for \"Hecha Pa' Mi\" by Boza...\nDone.\nSearching for \"Passion Whine\" by Farruko...\nDone.\nSearching for \"Quiere Beber\" by Anuel AA...\nDone.\nSearching for \"100 MILLONES\" by Bad Bunny...\nDone.\nSearching for \"Vente Pa' Ca (feat. Maluma)\" by Ricky Martin...\nDone.\nSearching for \"La Diabla\" by Romeo Santos...\nDone.\nSearching for \"Mientes\" by Camila...\nDone.\nSearching for \"Mexican Radio\" by South Park Mexican...\nDone.\nSearching for \"¿Cual Es Tu Plan?\" by Bad Bunny...\nDone.\nSearching for \"El Amor Que Perdimos\" by Prince Royce...\nDone.\nSearching for \"Si Quieren Frontear\" by Duki...\nDone.\nSearching for \"Abrázame Muy Fuerte\" by Juan Gabriel...\nDone.\nSearching for \"Mi Amigo el de Arriba\" by Los Inquietos Del Norte...\nDone.\nSearching for \"Desnudarte\" by Brytiago...\nDone.\nSearching for \"El Incomprendido\" by Farruko...\nDone.\nSearching for \"Cancioncitas de Amor\" by Romeo Santos...\nDone.\nSearching for \"Tu No Metes Cabra - Remix\" by Bad Bunny...\nDone.\nSearching for \"Hero\" by Enrique Iglesias...\nDone.\nSearching for \"Me Fije\" by Alex Rose...\nDone.\nSearching for \"Carita de Inocente (feat. Myke Towers) - Remix\" by Prince Royce...\nDone.\nSearching for \"Mcgregor\" by Anuel AA...\nDone.\nSearching for \"Ginza\" by J Balvin...\nDone.\nSearching for \"Monastery\" by Ryan Castro...\nDone.\nSearching for \"Bendecido\" by El Alfa...\n 94%|█████████▍| 165/175 [1:14:55<04:56, 29.65s/it]Done.\nSearching for \"Forever My Love\" by J Balvin...\nDone.\nSearching for \"Elegí (feat. Dímelo Flow)\" by Rauw Alejandro...\nDone.\nSearching for \"Guaya Guaya\" by Don Omar...\nDone.\nSearching for \"Llévame Contigo\" by Romeo Santos...\nDone.\nSearching for \"Te Boté - Remix\" by Nio Garcia...\nDone.\nSearching for \"Tu Falta De Querer\" by Mon Laferte...\nDone.\nSearching for \"No Te Veo - Digital Single\" by Casa De Leones...\nNo results found for: 'No Te Veo - Digital Single Casa De Leones'\nSearching for \"Dos Locos\" by Monchy & Alexandra...\nDone.\nSearching for \"Relación\" by Sech...\nDone.\nSearching for \"Suavemente\" by Elvis Crespo...\nDone.\nSearching for \"El Ultimo Adiós - Varios Artistas Version\" by Ricky Martin...\nNo results found for: 'El Ultimo Adiós - Varios Artistas Version Ricky Martin'\nSearching for \"Dile (Homenaje)\" by Jhay Cortez...\nDone.\nSearching for \"Madrid (feat. Myke Towers)\" by Maluma...\nDone.\nSearching for \"Puesto Pa' Guerrial\" by Bad Bunny...\nDone.\nSearching for \"Pineapple\" by KAROL G...\nDone.\nSearching for \"MÁS DE UNA CITA\" by Bad Bunny...\nDone.\nSearching for \"Mi Gente (feat. Beyoncé)\" by J Balvin...\nDone.\nSearching for \"¿Quien Tu Eres?\" by Bad Bunny...\nDone.\nSearching for \"Ahora Es\" by Wisin & Yandel...\nDone.\nSearching for \"Adictiva\" by Daddy Yankee...\nDone.\nSearching for \"G Wagon\" by Ozuna...\nDone.\nSearching for \"LEYENDAS\" by KAROL G...\nDone.\nSearching for \"Tacones Rojos\" by Sebastian Yatra...\nDone.\nSearching for \"La Cartera\" by Farruko...\nDone.\nSearching for \"Pretty Girl\" by NB Ridaz...\nDone.\nSearching for \"Ram Pam Pam\" by Natti Natasha...\nDone.\nSearching for \"A Dios Le Pido\" by Juanes...\nDone.\nSearching for \"Diabla - Official Remix\" by Carbon Fiber Music...\nDone.\nSearching for \"Una Vaina Loca\" by Fuego...\nDone.\nSearching for \"Safari\" by J Balvin...\nDone.\nSearching for \"Pobre Diabla\" by Don Omar...\nDone.\nSearching for \"Poco\" by Reik...\nDone.\nSearching for \"Por un Segundo\" by Aventura...\nDone.\nSearching for \"Follow\" by KAROL G...\nDone.\nSearching for \"Tu Amor Me Hace Bien - Salsa Version\" by Marc Anthony...\nDone.\nSearching for \"Te Lloré Un Río\" by Maná...\nDone.\nSearching for \"El Amante\" by Nicky Jam...\nDone.\nSearching for \"No Me Ame\" by Rvssian...\nDone.\nSearching for \"ESCALOFRÍOS\" by Mora...\nDone.\nSearching for \"DJ No Pare (feat. Zion, Dalex, Lenny Tavárez) - Remix\" by Justin Quiles...\n 95%|█████████▍| 166/175 [1:15:23<04:21, 29.06s/it]Done.\nSearching for \"Parce (feat. Justin Quiles)\" by Maluma...\nDone.\nSearching for \"Yo Quisiera\" by Reik...\nDone.\nSearching for \"Sálvame\" by RBD...\nDone.\nSearching for \"Burbujas de Cristal\" by Cartel De Santa...\nDone.\nSearching for \"Pa' Olvidarme De Ella\" by Piso 21...\nDone.\nSearching for \"Dutty Love\" by Don Omar...\nDone.\nSearching for \"Tonight (I'm Fuckin' You)\" by Enrique Iglesias...\nDone.\nSearching for \"Colorín Colorado\" by Justin Quiles...\nDone.\nSearching for \"MOOD - Remix\" by Omy de Oro...\nDone.\nSearching for \"TU AMIGO\" by Mora...\nDone.\nSearching for \"Conexión\" by Foreign Teck...\nDone.\nSearching for \"Te Olvido\" by Manuel Turizo...\nDone.\nSearching for \"Sin Pijama\" by Becky G...\nDone.\nSearching for \"Summer Nights\" by Lil Rob...\nDone.\nSearching for \"CAMPEÓN\" by Daddy Yankee...\nDone.\nSearching for \"NO SE OLVIDA\" by Wisin & Yandel...\nDone.\nSearching for \"23 (With Ape Drums)\" by Randy...\nDone.\nSearching for \"Pepas - Tiësto Remix\" by Farruko...\nDone.\nSearching for \"Báilame - Remix\" by Nacho...\nDone.\nSearching for \"El verdadero amor perdona - dueto con Prince Royce\" by Maná...\nNo results found for: 'El verdadero amor perdona - dueto con Prince Royce Maná'\nSearching for \"Yo También (feat. Marc Anthony)\" by Romeo Santos...\nDone.\nSearching for \"Soy Peor - Remix\" by Bad Bunny...\nDone.\nSearching for \"Mi Santa (feat. Tomatito)\" by Romeo Santos...\nDone.\nSearching for \"Mi Eterno Amor Secreto\" by Marco Antonio Solís...\nDone.\nSearching for \"¡Corre!\" by Jesse & Joy...\nDone.\nSearching for \"Si Tu Lo Dejas\" by Rvssian...\nDone.\nSearching for \"Promiscuous\" by Nelly Furtado...\nDone.\nSearching for \"Créeme\" by KAROL G...\nDone.\nSearching for \"Dale Don Dale\" by Don Omar...\nDone.\nSearching for \"Si Tú La Ves (feat. Wisin)\" by Nicky Jam...\nDone.\nSearching for \"Noche de Travesura\" by Héctor \"El Father\"...\nDone.\nSearching for \"Pensándote\" by Rauw Alejandro...\nDone.\nSearching for \"Que Tire Pa Lante\" by Daddy Yankee...\nDone.\nSearching for \"TODO O NADA\" by Lunay...\nDone.\nSearching for \"PECADO\" by Mora...\nDone.\nSearching for \"Tacones Rojos - With John Legend\" by Sebastian Yatra...\nDone.\nSearching for \"Ibiza\" by Ozuna...\nDone.\nSearching for \"Incondicional\" by Prince Royce...\nDone.\nSearching for \"Eazt\" by Jay Wheeler...\nDone.\nSearching for \"Sexy Movimiento\" by Wisin & Yandel...\n 95%|█████████▌| 167/175 [1:15:50<03:48, 28.55s/it]Done.\nSearching for \"Estamos Arriba\" by Bad Bunny...\nDone.\nSearching for \"Grandes Ligas\" by Lupillo Rivera...\nDone.\nSearching for \"La Botella\" by Mach & Daddy...\nDone.\nSearching for \"I'm Like A Bird\" by Nelly Furtado...\nDone.\nSearching for \"UNO QUITAO Y OTRO PUESTO\" by Daddy Yankee...\nDone.\nSearching for \"Virtual Diva\" by Don Omar...\nDone.\nSearching for \"Only The Team (with Lil Mosey & Lil Tjay)\" by Rvssian...\nDone.\nSearching for \"Eladio Carrion: Bzrp Music Sessions, Vol. 40\" by Bizarrap...\nDone.\nSearching for \"Dile a El\" by Rauw Alejandro...\nDone.\nSearching for \"Inmortal\" by Aventura...\nDone.\nSearching for \"Culpables\" by KAROL G...\nDone.\nSearching for \"Ser Bichote\" by Bad Bunny...\nDone.\nSearching for \"La Cama - Remix\" by Lunay...\nDone.\nSearching for \"Buzzed\" by ¿Téo?...\nDone.\nSearching for \"La Despedida\" by Daddy Yankee...\nDone.\nSearching for \"Loco\" by Enrique Iglesias...\nDone.\nSearching for \"Hola - Remix\" by Dalex...\nDone.\nSearching for \"Nadie\" by Miky Woodz...\nDone.\nSearching for \"Amor del Bueno\" by Reyli Barba...\nNo results found for: 'Amor del Bueno Reyli Barba'\nSearching for \"Síguelo Bailando\" by Ozuna...\nDone.\nSearching for \"Pasarela\" by Ñejo & Dalmata...\nDone.\nSearching for \"Dame Algo\" by Wisin & Yandel...\nDone.\nSearching for \"Cosa Guapa\" by Rauw Alejandro...\nDone.\nSearching for \"FRIKI\" by Feid...\nDone.\nSearching for \"Don't Stop the Party (feat. TJR)\" by Pitbull...\nDone.\nSearching for \"Chillax (feat. Ky-Mani Marley)\" by Farruko...\nDone.\nSearching for \"Easy\" by DaniLeigh...\nDone.\nSearching for \"Mi Cama Huele a Ti (feat. Zion & Lennox)\" by Tito \"El Bambino\"...\nDone.\nSearching for \"Can't Stop Us Now\" by Pitbull...\nDone.\nSearching for \"NO MIENTEN\" by Becky G...\nDone.\nSearching for \"Me Gustas Tu\" by Manu Chao...\nDone.\nSearching for \"No Se Va\" by Morat...\nDone.\nSearching for \"El Perdedor\" by Enrique Iglesias...\nDone.\nSearching for \"El Sol No Regresa\" by La Quinta Estacion...\nDone.\nSearching for \"Fantasias - Remix\" by Rauw Alejandro...\nDone.\nSearching for \"El Ciclo Sin Fin\" by Alejandro Fernández...\nDone.\nSearching for \"Llamado de Emergencia\" by Daddy Yankee...\nDone.\nSearching for \"Tattoo - Remix with Camilo\" by Rauw Alejandro...\nDone.\nSearching for \"La Vida Es Un Carnaval\" by Celia Cruz...\nDone.\nSearching for \"Por Mujeres Como Tú\" by Pepe Aguilar...\n 96%|█████████▌| 168/175 [1:16:21<03:23, 29.07s/it]Done.\nSearching for \"Perdiendo El Control\" by De La Ghetto...\nDone.\nSearching for \"GUCCI FENDI\" by Justin Quiles...\nDone.\nSearching for \"Bendita Tu Luz\" by Maná...\nDone.\nSearching for \"Mariposa Traicionera\" by Maná...\nDone.\nSearching for \"La Tóxica\" by Farruko...\nDone.\nSearching for \"Yo Quiero\" by Nio Garcia...\nDone.\nSearching for \"FCK U X2\" by Rauw Alejandro...\nDone.\nSearching for \"PLAYA PRIVADA\" by Mora...\nDone.\nSearching for \"Amtrak\" by Los Retros...\nDone.\nSearching for \"Aunque No Sea Conmigo\" by Aitana...\nDone.\nSearching for \"Más De Lo Que Aposté\" by Aitana...\nDone.\nSearching for \"TELÉFONO\" by Aitana...\nDone.\nSearching for \"Me Quedo\" by Aitana...\nDone.\nSearching for \"Weak for Your Love\" by Thee Sacred Souls...\nDone.\nSearching for \"Caraluna\" by Bacilos...\nDone.\nSearching for \"Contigo Siempre\" by Alejandro Fernández...\nDone.\nSearching for \"Que Mas Pues - Remix\" by Sech...\nDone.\nSearching for \"Sigues Con El\" by Arcangel...\nDone.\nSearching for \"Me Hace Tanto Bien\" by Alejandro Fernández...\nDone.\nSearching for \"Estuve\" by Alejandro Fernández...\nDone.\nSearching for \"EL ABUSADOR DEL ABUSADOR\" by Daddy Yankee...\nDone.\nSearching for \"Pareja Del Año\" by Sebastian Yatra...\nDone.\nSearching for \"Nube Viajera - En Vivo Desde El Teatro Real\" by Alejandro Fernández...\nDone.\nSearching for \"El Amante (feat. Ozuna & Bad Bunny) - Remix\" by Nicky Jam...\nDone.\nSearching for \"Ram Pam Pam\" by Natti Natasha...\nDone.\nSearching for \"El Efecto - Remix\" by Rauw Alejandro...\nDone.\nSearching for \"Desenfocao'\" by Rauw Alejandro...\nDone.\nSearching for \"Ella No Es Tuya - Remix\" by Rochy RD...\nDone.\nSearching for \"Te Mando Flores\" by Fonseca...\nDone.\nSearching for \"Abusadora\" by Wisin & Yandel...\nDone.\nSearching for \"El Problema\" by Ricardo Arjona...\nDone.\nSearching for \"LINDOR\" by Mora...\nDone.\nSearching for \"Reggaeton\" by J Balvin...\nDone.\nSearching for \"Mírame - Remix\" by Nio Garcia...\nDone.\nSearching for \"Carita de Inocente\" by Prince Royce...\nDone.\nSearching for \"Try Everything - From \"Zootropolis\"\" by Shakira...\nNo results found for: 'Try Everything - From \"Zootropolis\" Shakira'\nSearching for \"Baloncito Viejo\" by Carlos Vives...\nDone.\nSearching for \"Acércate\" by TINI...\nDone.\nSearching for \"Flores\" by TINI...\nDone.\nSearching for \"Un Beso en Madrid\" by TINI...\n 97%|█████████▋| 169/175 [1:16:46<02:48, 28.10s/it]Done.\nSearching for \"Un Beso en Madrid\" by TINI...\nDone.\nSearching for \"Si Te Vienen a Contar\" by Cartel De Santa...\nDone.\nSearching for \"Like That\" by TINI...\nDone.\nSearching for \"Consejo de Amor\" by TINI...\nDone.\nSearching for \"Se Acabó la Cuarentena\" by Jowell & Randy...\nDone.\nSearching for \"Celoso\" by Lele Pons...\nDone.\nSearching for \"SOLA ES MEJOR\" by KAROL G...\nDone.\nSearching for \"Aventura\" by Lunay...\nDone.\nSearching for \"Yo Perreo Sola - Remix\" by Bad Bunny...\nDone.\nSearching for \"Singapur\" by El Alfa...\nDone.\nSearching for \"Nada de Nada\" by Marc Anthony...\nDone.\nSearching for \"Estoy Enamorado\" by Wisin & Yandel...\nDone.\nSearching for \"Hilito\" by Romeo Santos...\nDone.\nSearching for \"You\" by Romeo Santos...\nDone.\nSearching for \"Tú No Eres Para Mi\" by Fanny Lu...\nDone.\nSearching for \"Amarillo\" by J Balvin...\nDone.\nSearching for \"Noviembre Sin Ti\" by Reik...\nDone.\nSearching for \"Sanguinarios Del M1\" by Los Buitres De Culiacan Sinaloa...\nDone.\nSearching for \"Wasa Wasa\" by Ryan Castro...\nDone.\nSearching for \"Bandido\" by Ana Bárbara...\nDone.\nSearching for \"Dos Locos\" by Monchy & Alexandra...\nDone.\nSearching for \"Mayores\" by Becky G...\nDone.\nSearching for \"Tiago PZK: Bzrp Music Sessions, Vol. 48\" by Bizarrap...\nDone.\nSearching for \"CUIDAO POR AHÍ\" by J Balvin...\nDone.\nSearching for \"Está Rico\" by Marc Anthony...\nDone.\nSearching for \"GATO MALO\" by KAROL G...\nDone.\nSearching for \"Loquita\" by Reik...\nDone.\nSearching for \"Bésame\" by Luis Fonsi...\nDone.\nSearching for \"OJOS COLORAU\" by Mora...\nDone.\nSearching for \"LA OLA\" by Daddy Yankee...\nDone.\nSearching for \"Despacito\" by Luis Fonsi...\nDone.\nSearching for \"ROBERT DE NIRO\" by Mora...\nDone.\nSearching for \"No Me Doy Por Vencido\" by Luis Fonsi...\nDone.\nSearching for \"Despacito\" by Luis Fonsi...\nDone.\nSearching for \"Nuestra Balada\" by Luis Fonsi...\nDone.\nSearching for \"Girasoles\" by Luis Fonsi...\nDone.\nSearching for \"Despacito\" by Luis Fonsi...\nDone.\nSearching for \"Sola\" by Luis Fonsi...\nDone.\nSearching for \"Hooka\" by Don Omar...\nDone.\nSearching for \"PROBLEMA\" by Daddy Yankee...\n 97%|█████████▋| 170/175 [1:17:11<02:15, 27.02s/it]Done.\nSearching for \"Jangueo\" by Alex Rose...\nDone.\nSearching for \"Sigues Con El - Remix\" by Arcangel...\nDone.\nSearching for \"Bloody War\" by South Park Mexican...\nDone.\nSearching for \"Glizzy Walk 2.5\" by YOVNGCHIMI...\nDone.\nSearching for \"Amantes de una Noche\" by Natti Natasha...\nDone.\nSearching for \"Cuaderno\" by Dalex...\nDone.\nSearching for \"La player (Bandolera)\" by Zion & Lennox...\nDone.\nSearching for \"Explícito\" by Myke Towers...\nDone.\nSearching for \"MALA SANTA\" by Becky G...\nDone.\nSearching for \"3 Am\" by Eladio Carrion...\nDone.\nSearching for \"Desconocidos\" by Mau y Ricky...\nDone.\nSearching for \"El Doctorado\" by Tony Dize...\nDone.\nSearching for \"Hola Como Vas\" by Eladio Carrion...\nDone.\nSearching for \"La Nota\" by Manuel Turizo...\nDone.\nSearching for \"0 Sentimientos (Remix) [feat. Noriel, Darkiel, Lyan, Messiah & Baby Rasta]\" by Jon Z...\nDone.\nSearching for \"Un Ratito Mas\" by Bryant Myers...\nDone.\nSearching for \"Krippy Kush\" by Farruko...\nDone.\nSearching for \"Si Supieras\" by Daddy Yankee...\nDone.\nSearching for \"Ahora Dice - Real Hasta La Muerte Remix\" by Chris Jedi...\nDone.\nSearching for \"Tan Bonita\" by Piso 21...\nDone.\nSearching for \"Mal Acostumbrao\" by Mau y Ricky...\nDone.\nSearching for \"Color Esperanza 2020\" by Diego Torres...\nDone.\nSearching for \"VACAXIONES\" by Feid...\nDone.\nSearching for \"Traicionera\" by Sebastian Yatra...\nDone.\nSearching for \"Culo\" by Pitbull...\nDone.\nSearching for \"SI TÚ SUPIERAS - Bonus Track\" by Feid...\nDone.\nSearching for \"Chance\" by Paulo Londra...\nDone.\nSearching for \"El Taxi\" by Pitbull...\nDone.\nSearching for \"La Boda\" by Aventura...\nDone.\nSearching for \"Leve\" by Cartel De Santa...\nDone.\nSearching for \"La Jeepeta - Remix\" by Nio Garcia...\nDone.\nSearching for \"Bella\" by Wolfine...\nDone.\nSearching for \"Caramelo\" by Ozuna...\nDone.\nSearching for \"Échame La Culpa\" by Luis Fonsi...\nDone.\nSearching for \"PAM\" by Justin Quiles...\nDone.\nSearching for \"6 AM\" by J Balvin...\nDone.\nSearching for \"RONCA FREESTYLE\" by Bad Bunny...\nDone.\nSearching for \"Mi Verdad (feat. Shakira)\" by Maná...\nDone.\nSearching for \"Unica\" by Ozuna...\nDone.\nSearching for \"Me llamas (feat. Maluma) - Remix\" by Piso 21...\n 98%|█████████▊| 171/175 [1:17:38<01:48, 27.07s/it]Done.\nSearching for \"Dictadura\" by Anuel AA...\nDone.\nSearching for \"Pa' Olvidarme De Ella\" by Piso 21...\nDone.\nSearching for \"Creo en Ti\" by Reik...\nDone.\nSearching for \"Perreo Pesau'\" by Rauw Alejandro...\nDone.\nSearching for \"Brisa\" by Zion & Lennox...\nDone.\nSearching for \"SI ELLA SALE\" by Bad Bunny...\nDone.\nSearching for \"Hasta Abajo\" by Kevin Roldan...\nDone.\nSearching for \"La Asesina\" by Zacarias Ferreira...\nDone.\nSearching for \"Me Gusta\" by Shakira...\nDone.\nSearching for \"Dueles\" by Jesse & Joy...\nDone.\nSearching for \"Kemba Walker\" by Eladio Carrion...\nDone.\nSearching for \"Señor Juez\" by Ozuna...\nDone.\nSearching for \"Un Nuevo Amor\" by Matisse...\nDone.\nSearching for \"Ponle\" by Rvssian...\nDone.\nSearching for \"WUEPA\" by Rauw Alejandro...\nDone.\nSearching for \"Pa' Que La Pases Bien\" by Arcangel...\nDone.\nSearching for \"Quizas\" by Rich Music LTD...\nDone.\nSearching for \"Suga Suga\" by Baby Bash...\nDone.\nSearching for \"Deja vu\" by Prince Royce...\nDone.\nSearching for \"No Me Dejes Solo\" by Daddy Yankee...\nDone.\nSearching for \"Me Enamoré\" by Jay Wheeler...\nDone.\nSearching for \"Debate De 4\" by Romeo Santos...\nDone.\nSearching for \"Yo Seguiré\" by Toser One...\nDone.\nSearching for \"Hace Mucho Tiempo\" by Arcangel...\nDone.\nSearching for \"La Vaca\" by Mala Fe...\nDone.\nSearching for \"No Te Deseo el Mal\" by Eladio Carrion...\nDone.\nSearching for \"Hay Algo en Ti\" by Luny Tunes...\nDone.\nSearching for \"Chica Ideal\" by Sebastian Yatra...\nDone.\nSearching for \"Narcos\" by Anuel AA...\nDone.\nSearching for \"Bombos y Tarolas\" by Cartel De Santa...\nDone.\nSearching for \"El Perdedor\" by Maluma...\nDone.\nSearching for \"PSL\" by Sech...\nDone.\nSearching for \"La Playa - Remix\" by Myke Towers...\nDone.\nSearching for \"Bachata En Fukuoka\" by Juan Luis Guerra 4.40...\nDone.\nSearching for \"PAPI (feat. Babywine & Alberto Stylee)\" by DJ Nelson...\nNo results found for: 'PAPI (feat. Babywine & Alberto Stylee) DJ Nelson'\nSearching for \"Fan de Tus Fotos\" by Nicky Jam...\nDone.\nSearching for \"A Mí\" by Rels B...\nDone.\nSearching for \"SUBEME LA RADIO (feat. Descemer Bueno & Zion & Lennox)\" by Enrique Iglesias...\nDone.\nSearching for \"Igual Que Ayer\" by R.K.M & Ken-Y...\nDone.\nSearching for \"Encantadora\" by Yandel...\n 98%|█████████▊| 172/175 [1:18:06<01:21, 27.26s/it]Done.\nSearching for \"El Baleado\" by Larry Hernández...\nDone.\nSearching for \"Nada\" by Cazzu...\nDone.\nSearching for \"Despeinada\" by Ozuna...\nDone.\nSearching for \"Say It Right - Sped Up Remix\" by Nelly Furtado...\nSpecified song does not contain lyrics. Rejecting.\nSearching for \"Te Lloré Un Río - Versión Mariacheño\" by Maná...\nDone.\nSearching for \"ENCHULETIAO\" by Daddy Yankee...\nDone.\nSearching for \"PORFA Remix ( Feat. Maluma, Nicky Jam, Sech) - Remix\" by Feid...\nDone.\nSearching for \"23 Preguntas\" by Anuel AA...\nDone.\nSearching for \"¿A Dónde Vamos A Parar?\" by Marco Antonio Solís...\nDone.\nSearching for \"ORO ROSADO\" by Mora...\nDone.\nSearching for \"Labios Compartidos\" by Maná...\nDone.\nSearching for \"Me Niegas\" by Baby Rasta & Gringo...\nDone.\nSearching for \"Ojitos Chiquitos\" by Don Omar...\nDone.\nSearching for \"Tuyo\" by Mora...\nDone.\nSearching for \"Los Lugares\" by Alejandro Sanz...\nDone.\nSearching for \"Mi Persona Favorita\" by Alejandro Sanz...\nDone.\nSearching for \"Vacaciones\" by Luis Fonsi...\nDone.\nSearching for \"Bajo El Mar\" by Alejandro Sanz...\nDone.\nSearching for \"I Feel Good\" by Pitbull...\nDone.\nSearching for \"EL REY DE LO IMPERFECTO\" by Daddy Yankee...\nDone.\nSearching for \"Mares De Miel\" by Alejandro Sanz...\nDone.\nSearching for \"¿Qué Tengo Que Hacer?\" by Daddy Yankee...\nDone.\nSearching for \"MÍRENME AHORA\" by Myke Towers...\nDone.\nSearching for \"Lo Sabe Dios\" by KAROL G...\nDone.\nSearching for \"Our Song\" by Aventura...\nDone.\nSearching for \"Mocca\" by Lalo Ebratt...\nDone.\nSearching for \"Canalla\" by Romeo Santos...\nDone.\nSearching for \"Vaina Loca - Remix\" by Pipe Calderón...\nDone.\nSearching for \"Nena Maldición (feat. Lenny Tavárez)\" by Paulo Londra...\nDone.\nSearching for \"Tu Me Enamoraste - Remix\" by Lary Over...\nDone.\nSearching for \"Loca (feat. El Cata)\" by Shakira...\nDone.\nSearching for \"Creo En Ti\" by Julio Melgar...\nDone.\nSearching for \"Sólo Quédate En Silencio\" by RBD...\nDone.\nSearching for \"Su Veneno\" by Aventura...\nDone.\nSearching for \"Taboo\" by Don Omar...\nDone.\nSearching for \"MIA\" by Bad Bunny...\nDone.\nSearching for \"Ahora Me Llama - Remix\" by KAROL G...\nDone.\nSearching for \"Esta Dejá\" by Jhay Cortez...\nDone.\nSearching for \"Castigo\" by Feid...\nDone.\nSearching for \"Mi Cama - Remix\" by KAROL G...\n 99%|█████████▉| 173/175 [1:18:34<00:55, 27.62s/it]Done.\nSearching for \"Rain Over Me (feat. Marc Anthony)\" by Pitbull...\nDone.\nSearching for \"No Es Justo\" by J Balvin...\nDone.\nSearching for \"Amor Clandestino\" by Maná...\nDone.\nSearching for \"Pam Pam\" by Wisin & Yandel...\nDone.\nSearching for \"La Mordidita (feat. Yotuel)\" by Ricky Martin...\nDone.\nSearching for \"La trampa es ley\" by LIT killah...\nDone.\nSearching for \"UN DIA (ONE DAY)\" by J Balvin...\nDone.\nSearching for \"Al Natural (feat. Yandel)\" by Tego Calderon...\nDone.\nSearching for \"Déjala Que Vuelva (feat. Manuel Turizo)\" by Piso 21...\nDone.\nSearching for \"La trampa es ley\" by LIT killah...\nDone.\nSearching for \"Culón Culito\" by Cartel De Santa...\nDone.\nSearching for \"Si Te Veo\" by Arcangel...\nDone.\nSearching for \"Saturno\" by Pablo Alborán...\nDone.\nSearching for \"Will I See You Again?\" by Thee Sacred Souls...\nDone.\nSearching for \"Pose\" by Daddy Yankee...\nDone.\nSearching for \"Mala Mía\" by Maluma...\nDone.\nSearching for \"Caiga Quien Caiga\" by Los Inquietos Del Norte...\nDone.\nSearching for \"Ay, DiOs Mío!\" by KAROL G...\nDone.\nSearching for \"QSY\" by Mora...\nNo results found for: 'QSY Mora'\nSearching for \"Desnudarte\" by Brytiago...\nDone.\nSearching for \"No Me Doy Por Vencido\" by Luis Fonsi...\nDone.\nSearching for \"Tu Carcel - En Vivo Desde Tijuana, Mexico/2004\" by Los Enanitos Verdes...\nDone.\nSearching for \"Baby, I'm Back\" by Baby Bash...\nDone.\nSearching for \"Besos En Guerra\" by Morat...\nDone.\nSearching for \"Dices Que Te Vas\" by KAROL G...\nDone.\nSearching for \"Nota de Amor (feat. Daddy Yankee)\" by Wisin...\nDone.\nSearching for \"Rabiosa (feat. Pitbull)\" by Shakira...\nDone.\nSearching for \"Tal Vez\" by Paulo Londra...\nDone.\nSearching for \"Solo\" by Amenazzy...\nDone.\nSearching for \"Lloras - Remix\" by Cauty...\nDone.\nSearching for \"Sicaria\" by Brytiago...\nDone.\nSearching for \"Perro Fiel (feat. Nicky Jam)\" by Shakira...\nDone.\nSearching for \"3G (feat. Jon Z, Don Chezina, Chencho Corleone & Myke Towers) - Remix\" by Wisin...\nDone.\nSearching for \"Parecen Viernes\" by Marc Anthony...\nDone.\nSearching for \"M&M\" by Rvssian...\nDone.\nSearching for \"I Know You Want Me (Calle Ocho)\" by Pitbull...\nDone.\nSearching for \"¿A Dónde Vamos A Parar?\" by Marco Antonio Solís...\nDone.\nSearching for \"Inolvidable\" by Reik...\nDone.\nSearching for \"Can I Call You Rose?\" by Thee Sacred Souls...\nDone.\nSearching for \"Quiéreme Mientras Se Pueda\" by Manuel Turizo...\n 99%|█████████▉| 174/175 [1:19:01<00:27, 27.32s/it]Done.\nSearching for \"Darte\" by Alex Rose...\nDone.\nSearching for \"No Querías Lastimarme\" by Gloria Trevi...\nDone.\nSearching for \"Ella\" by Boza...\nDone.\nSearching for \"Loba\" by Shakira...\nDone.\nSearching for \"Detente\" by Mike Bahía...\nDone.\nSearching for \"Tú Me Gustas\" by Río Roma...\nDone.\nSearching for \"BLOKE\" by Daddy Yankee...\nDone.\nSearching for \"Rebota\" by Guaynaa...\nDone.\nSearching for \"Llegaste Tú\" by Luis Fonsi...\nDone.\nSearching for \"DPM (De Pxta Madre)\" by Kany García...\nDone.\nSearching for \"Cuatro Babys (feat. Trap Capos, Noriel, Bryant Myers & Juhn)\" by Maluma...\nDone.\nSearching for \"Ella - Remix\" by Boza...\nDone.\nSearching for \"Que Lloro\" by Sin Bandera...\nDone.\nSearching for \"Sueña\" by Intocable...\nDone.\nSearching for \"Si No Te Hubieras Ido\" by Marco Antonio Solís...\nDone.\nSearching for \"La Venia Bendita\" by Marco Antonio Solís...\nDone.\nSearching for \"Más Que Tu Amigo\" by Marco Antonio Solís...\nDone.\nSearching for \"Si Te Pudiera Mentir\" by Marco Antonio Solís...\nDone.\nSearching for \"Más Que Tu Amigo\" by Marco Antonio Solís...\nDone.\nSearching for \"Me Pones en Tensión\" by The Noise...\nDone.\nSearching for \"Travesuras\" by Nicky Jam...\nDone.\nSearching for \"Te Quiero Igual Que Ayer - Bachata\" by Monchy & Alexandra...\nNo results found for: 'Te Quiero Igual Que Ayer - Bachata Monchy & Alexandra'\nSearching for \"L.A. Vibe\" by King Lil G...\nDone.\nSearching for \"Te Veo Bailar (feat. Brray & Alejandro Armes)\" by DJ Nelson...\nDone.\nSearching for \"Hoy Tengo Ganas De Ti\" by Alejandro Fernández...\nDone.\nSearching for \"DUELE EL CORAZON (feat. Wisin)\" by Enrique Iglesias...\nDone.\nSearching for \"Te Amo\" by Piso 21...\nDone.\nSearching for \"Donde Estan Esos Amigos\" by El Chaval de la Bachata...\nDone.\nSearching for \"Fotografía\" by Juanes...\nDone.\nSearching for \"Ya Te Olvidé\" by Yuridia...\nDone.\nSearching for \"Amárrame\" by Mon Laferte...\nDone.\nSearching for \"Volveré\" by Diego Verdaguer...\nDone.\nSearching for \"Que Vuelva\" by Alex Bueno...\nDone.\nSearching for \"Antes\" by Anuel AA...\nDone.\nSearching for \"Whine Up\" by Nicky Jam...\nDone.\nSearching for \"Hey DJ\" by CNCO...\nDone.\nSearching for \"In My Hood\" by South Park Mexican...\nDone.\nSearching for \"La Funka\" by Ozuna...\nDone.\nSearching for \"Bebé\" by Ozuna...\nDone.\nSearching for \"La Vida Es Así\" by Ivy Queen...\n100%|██████████| 175/175 [1:19:29<00:00, 27.26s/it]Done.\n\n",
     "output_type": "stream"
    }
   ]
  },
  {
   "cell_type": "code",
   "source": "# Join the lyric data back to the original data frame\ndf_w_lyrics = df.merge(final, how = 'left', on = 'track_id')",
   "metadata": {
    "cell_id": "47a16452df0d455d89fa26ca7423e599",
    "tags": [],
    "deepnote_to_be_reexecuted": false,
    "source_hash": "6df8550c",
    "execution_start": 1652836407062,
    "execution_millis": 52,
    "deepnote_cell_type": "code",
    "deepnote_cell_height": 99,
    "deepnote_output_heights": [
     21.1875
    ]
   },
   "outputs": [],
   "execution_count": 13
  },
  {
   "cell_type": "markdown",
   "source": "### Clean up the lyric data",
   "metadata": {
    "cell_id": "881c879fbffe447facb328182c4e630d",
    "tags": [],
    "deepnote_cell_type": "markdown",
    "deepnote_cell_height": 62
   }
  },
  {
   "cell_type": "code",
   "metadata": {
    "cell_id": "303ac86d3919467bb2035a2843379e0a",
    "tags": [],
    "deepnote_to_be_reexecuted": false,
    "source_hash": "a1e156be",
    "execution_start": 1652836411100,
    "execution_millis": 42,
    "deepnote_cell_type": "code",
    "deepnote_cell_height": 478.75
   },
   "source": "# Various imports needed for cleaning process\nimport nltk\nfrom nltk.corpus import stopwords\nimport string\nimport re\nfrom nltk.tokenize import word_tokenize\nnltk.download('punkt')\nfrom nltk.stem.porter import PorterStemmer\n\n# Configure stopwords\nnltk.download('stopwords')\nstop_words = set(stopwords.words('english'))\n\n# Configure punctuation set\npunct = set(string.punctuation)\n\n# Configure the stemmer\nstemmer = PorterStemmer()",
   "execution_count": 14,
   "outputs": [
    {
     "name": "stderr",
     "text": "[nltk_data] Downloading package punkt to /root/nltk_data...\n[nltk_data]   Package punkt is already up-to-date!\n[nltk_data] Downloading package stopwords to /root/nltk_data...\n[nltk_data]   Package stopwords is already up-to-date!\n",
     "output_type": "stream"
    }
   ]
  },
  {
   "cell_type": "code",
   "metadata": {
    "cell_id": "1feecaee6e424b578cb7b13609fc5410",
    "tags": [],
    "deepnote_to_be_reexecuted": false,
    "source_hash": "341080fe",
    "execution_start": 1652836413618,
    "execution_millis": 2,
    "deepnote_cell_type": "code",
    "deepnote_cell_height": 675
   },
   "source": "# Define a function that passes in a raw lyric and outputs a cleaned list of stems\ndef clean_lyrics(lyric):\n\n    try:\n        # Convert to all lowercase\n        lyric_int_1 = lyric.lower()\n\n        # Remove punctuation\n        lyric_int_2 = ''.join([ch for ch in lyric_int_1 if ch not in punct])\n\n        # Remove all newline characters\n        lyric_int_3 = re.sub('\\n', ' ', lyric_int_2)\n\n        # Split long string into list of words (bundled characters)\n        lyric_int_4 = word_tokenize(lyric_int_3)\n\n        # Remove stopwords\n        lyric_int_5 = [word for word in lyric_int_4 if word not in stop_words]\n\n        # Stem the list of words\n        lyric_int_6 = [stemmer.stem(word) for word in lyric_int_5]\n\n        # Finally, remove first line (title); we do this by finding first instance \n        # of 'lyric' stem in list above and only pulling list directly after this index\n        \n        # We also remove the very last word since it appears that there's some sort of\n        # embedding code attached to it, and the omission of one word shouldn't affect\n        # the modelling.\n        lyric_final = lyric_int_6[lyric_int_6.index('lyric')+1:-2]\n\n        return lyric_final\n\n    except:\n        pass",
   "execution_count": 15,
   "outputs": []
  },
  {
   "cell_type": "code",
   "metadata": {
    "cell_id": "c345ff239bfb42ce9f6c8cbf5d348611",
    "tags": [],
    "deepnote_to_be_reexecuted": false,
    "source_hash": "a6edd49b",
    "execution_start": 1652836423714,
    "execution_millis": 85619,
    "deepnote_cell_type": "code",
    "deepnote_cell_height": 99
   },
   "source": "# Apply the function above to the lyrics field\ndf_w_lyrics['lyric_clean'] = df_w_lyrics['lyric_raw'].apply(clean_lyrics)",
   "execution_count": 16,
   "outputs": []
  },
  {
   "cell_type": "code",
   "source": "df_w_lyrics.head()",
   "metadata": {
    "cell_id": "064eefa53e28441f99e379258fe47bb2",
    "tags": [],
    "deepnote_to_be_reexecuted": false,
    "source_hash": "a9b40858",
    "execution_start": 1652836538781,
    "execution_millis": 12,
    "deepnote_cell_type": "code",
    "deepnote_cell_height": 66
   },
   "outputs": [
    {
     "output_type": "execute_result",
     "execution_count": 18,
     "data": {
      "application/vnd.deepnote.dataframe.v3+json": {
       "column_count": 26,
       "row_count": 5,
       "columns": [
        {
         "name": "danceability",
         "dtype": "float64",
         "stats": {
          "unique_count": 5,
          "nan_count": 0,
          "min": "0.471",
          "max": "0.612",
          "histogram": [
           {
            "bin_start": 0.471,
            "bin_end": 0.4851,
            "count": 1
           },
           {
            "bin_start": 0.4851,
            "bin_end": 0.4992,
            "count": 0
           },
           {
            "bin_start": 0.4992,
            "bin_end": 0.5133,
            "count": 0
           },
           {
            "bin_start": 0.5133,
            "bin_end": 0.5274,
            "count": 0
           },
           {
            "bin_start": 0.5274,
            "bin_end": 0.5415,
            "count": 0
           },
           {
            "bin_start": 0.5415,
            "bin_end": 0.5556,
            "count": 1
           },
           {
            "bin_start": 0.5556,
            "bin_end": 0.5697,
            "count": 0
           },
           {
            "bin_start": 0.5697,
            "bin_end": 0.5838,
            "count": 1
           },
           {
            "bin_start": 0.5838,
            "bin_end": 0.5979,
            "count": 1
           },
           {
            "bin_start": 0.5979,
            "bin_end": 0.612,
            "count": 1
           }
          ]
         }
        },
        {
         "name": "energy",
         "dtype": "float64",
         "stats": {
          "unique_count": 5,
          "nan_count": 0,
          "min": "0.521",
          "max": "0.924",
          "histogram": [
           {
            "bin_start": 0.521,
            "bin_end": 0.5613,
            "count": 1
           },
           {
            "bin_start": 0.5613,
            "bin_end": 0.6016,
            "count": 1
           },
           {
            "bin_start": 0.6016,
            "bin_end": 0.6419,
            "count": 0
           },
           {
            "bin_start": 0.6419,
            "bin_end": 0.6822,
            "count": 0
           },
           {
            "bin_start": 0.6822,
            "bin_end": 0.7225,
            "count": 0
           },
           {
            "bin_start": 0.7225,
            "bin_end": 0.7628,
            "count": 0
           },
           {
            "bin_start": 0.7628,
            "bin_end": 0.8031,
            "count": 0
           },
           {
            "bin_start": 0.8031,
            "bin_end": 0.8434,
            "count": 1
           },
           {
            "bin_start": 0.8434,
            "bin_end": 0.8837,
            "count": 1
           },
           {
            "bin_start": 0.8837,
            "bin_end": 0.924,
            "count": 1
           }
          ]
         }
        },
        {
         "name": "key",
         "dtype": "int64",
         "stats": {
          "unique_count": 4,
          "nan_count": 0,
          "min": "7",
          "max": "10",
          "histogram": [
           {
            "bin_start": 7,
            "bin_end": 7.3,
            "count": 1
           },
           {
            "bin_start": 7.3,
            "bin_end": 7.6,
            "count": 0
           },
           {
            "bin_start": 7.6,
            "bin_end": 7.9,
            "count": 0
           },
           {
            "bin_start": 7.9,
            "bin_end": 8.2,
            "count": 1
           },
           {
            "bin_start": 8.2,
            "bin_end": 8.5,
            "count": 0
           },
           {
            "bin_start": 8.5,
            "bin_end": 8.8,
            "count": 0
           },
           {
            "bin_start": 8.8,
            "bin_end": 9.1,
            "count": 1
           },
           {
            "bin_start": 9.1,
            "bin_end": 9.4,
            "count": 0
           },
           {
            "bin_start": 9.4,
            "bin_end": 9.7,
            "count": 0
           },
           {
            "bin_start": 9.7,
            "bin_end": 10,
            "count": 2
           }
          ]
         }
        },
        {
         "name": "loudness",
         "dtype": "float64",
         "stats": {
          "unique_count": 5,
          "nan_count": 0,
          "min": "-9.461",
          "max": "-2.81",
          "histogram": [
           {
            "bin_start": -9.461,
            "bin_end": -8.7959,
            "count": 1
           },
           {
            "bin_start": -8.7959,
            "bin_end": -8.1308,
            "count": 0
           },
           {
            "bin_start": -8.1308,
            "bin_end": -7.4657,
            "count": 0
           },
           {
            "bin_start": -7.4657,
            "bin_end": -6.8006,
            "count": 0
           },
           {
            "bin_start": -6.8006,
            "bin_end": -6.1355,
            "count": 0
           },
           {
            "bin_start": -6.1355,
            "bin_end": -5.4704,
            "count": 2
           },
           {
            "bin_start": -5.4704,
            "bin_end": -4.8053,
            "count": 0
           },
           {
            "bin_start": -4.8053,
            "bin_end": -4.1402,
            "count": 0
           },
           {
            "bin_start": -4.1402,
            "bin_end": -3.4751000000000003,
            "count": 1
           },
           {
            "bin_start": -3.4751000000000003,
            "bin_end": -2.81,
            "count": 1
           }
          ]
         }
        },
        {
         "name": "mode",
         "dtype": "int64",
         "stats": {
          "unique_count": 2,
          "nan_count": 0,
          "min": "0",
          "max": "1",
          "histogram": [
           {
            "bin_start": 0,
            "bin_end": 0.1,
            "count": 2
           },
           {
            "bin_start": 0.1,
            "bin_end": 0.2,
            "count": 0
           },
           {
            "bin_start": 0.2,
            "bin_end": 0.30000000000000004,
            "count": 0
           },
           {
            "bin_start": 0.30000000000000004,
            "bin_end": 0.4,
            "count": 0
           },
           {
            "bin_start": 0.4,
            "bin_end": 0.5,
            "count": 0
           },
           {
            "bin_start": 0.5,
            "bin_end": 0.6000000000000001,
            "count": 0
           },
           {
            "bin_start": 0.6000000000000001,
            "bin_end": 0.7000000000000001,
            "count": 0
           },
           {
            "bin_start": 0.7000000000000001,
            "bin_end": 0.8,
            "count": 0
           },
           {
            "bin_start": 0.8,
            "bin_end": 0.9,
            "count": 0
           },
           {
            "bin_start": 0.9,
            "bin_end": 1,
            "count": 3
           }
          ]
         }
        },
        {
         "name": "speechiness",
         "dtype": "float64",
         "stats": {
          "unique_count": 5,
          "nan_count": 0,
          "min": "0.03",
          "max": "0.0586",
          "histogram": [
           {
            "bin_start": 0.03,
            "bin_end": 0.03286,
            "count": 1
           },
           {
            "bin_start": 0.03286,
            "bin_end": 0.03572,
            "count": 2
           },
           {
            "bin_start": 0.03572,
            "bin_end": 0.03858,
            "count": 0
           },
           {
            "bin_start": 0.03858,
            "bin_end": 0.04144,
            "count": 0
           },
           {
            "bin_start": 0.04144,
            "bin_end": 0.0443,
            "count": 0
           },
           {
            "bin_start": 0.0443,
            "bin_end": 0.04716,
            "count": 0
           },
           {
            "bin_start": 0.04716,
            "bin_end": 0.050019999999999995,
            "count": 0
           },
           {
            "bin_start": 0.050019999999999995,
            "bin_end": 0.052879999999999996,
            "count": 0
           },
           {
            "bin_start": 0.052879999999999996,
            "bin_end": 0.05574,
            "count": 1
           },
           {
            "bin_start": 0.05574,
            "bin_end": 0.0586,
            "count": 1
           }
          ]
         }
        },
        {
         "name": "acousticness",
         "dtype": "float64",
         "stats": {
          "unique_count": 5,
          "nan_count": 0,
          "min": "0.00301",
          "max": "0.186",
          "histogram": [
           {
            "bin_start": 0.00301,
            "bin_end": 0.021308999999999998,
            "count": 1
           },
           {
            "bin_start": 0.021308999999999998,
            "bin_end": 0.039608,
            "count": 0
           },
           {
            "bin_start": 0.039608,
            "bin_end": 0.057907,
            "count": 2
           },
           {
            "bin_start": 0.057907,
            "bin_end": 0.076206,
            "count": 1
           },
           {
            "bin_start": 0.076206,
            "bin_end": 0.09450499999999999,
            "count": 0
           },
           {
            "bin_start": 0.09450499999999999,
            "bin_end": 0.112804,
            "count": 0
           },
           {
            "bin_start": 0.112804,
            "bin_end": 0.131103,
            "count": 0
           },
           {
            "bin_start": 0.131103,
            "bin_end": 0.149402,
            "count": 0
           },
           {
            "bin_start": 0.149402,
            "bin_end": 0.16770100000000002,
            "count": 0
           },
           {
            "bin_start": 0.16770100000000002,
            "bin_end": 0.186,
            "count": 1
           }
          ]
         }
        },
        {
         "name": "instrumentalness",
         "dtype": "float64",
         "stats": {
          "unique_count": 5,
          "nan_count": 0,
          "min": "0.0",
          "max": "0.149",
          "histogram": [
           {
            "bin_start": 0,
            "bin_end": 0.0149,
            "count": 2
           },
           {
            "bin_start": 0.0149,
            "bin_end": 0.0298,
            "count": 1
           },
           {
            "bin_start": 0.0298,
            "bin_end": 0.044700000000000004,
            "count": 0
           },
           {
            "bin_start": 0.044700000000000004,
            "bin_end": 0.0596,
            "count": 0
           },
           {
            "bin_start": 0.0596,
            "bin_end": 0.0745,
            "count": 0
           },
           {
            "bin_start": 0.0745,
            "bin_end": 0.08940000000000001,
            "count": 1
           },
           {
            "bin_start": 0.08940000000000001,
            "bin_end": 0.1043,
            "count": 0
           },
           {
            "bin_start": 0.1043,
            "bin_end": 0.1192,
            "count": 0
           },
           {
            "bin_start": 0.1192,
            "bin_end": 0.1341,
            "count": 0
           },
           {
            "bin_start": 0.1341,
            "bin_end": 0.149,
            "count": 1
           }
          ]
         }
        },
        {
         "name": "liveness",
         "dtype": "float64",
         "stats": {
          "unique_count": 5,
          "nan_count": 0,
          "min": "0.101",
          "max": "0.313",
          "histogram": [
           {
            "bin_start": 0.101,
            "bin_end": 0.1222,
            "count": 1
           },
           {
            "bin_start": 0.1222,
            "bin_end": 0.1434,
            "count": 1
           },
           {
            "bin_start": 0.1434,
            "bin_end": 0.16460000000000002,
            "count": 1
           },
           {
            "bin_start": 0.16460000000000002,
            "bin_end": 0.18580000000000002,
            "count": 0
           },
           {
            "bin_start": 0.18580000000000002,
            "bin_end": 0.20700000000000002,
            "count": 0
           },
           {
            "bin_start": 0.20700000000000002,
            "bin_end": 0.22820000000000001,
            "count": 0
           },
           {
            "bin_start": 0.22820000000000001,
            "bin_end": 0.2494,
            "count": 0
           },
           {
            "bin_start": 0.2494,
            "bin_end": 0.2706,
            "count": 0
           },
           {
            "bin_start": 0.2706,
            "bin_end": 0.2918,
            "count": 1
           },
           {
            "bin_start": 0.2918,
            "bin_end": 0.313,
            "count": 1
           }
          ]
         }
        },
        {
         "name": "valence",
         "dtype": "float64",
         "stats": {
          "unique_count": 5,
          "nan_count": 0,
          "min": "0.337",
          "max": "0.725",
          "histogram": [
           {
            "bin_start": 0.337,
            "bin_end": 0.3758,
            "count": 2
           },
           {
            "bin_start": 0.3758,
            "bin_end": 0.4146,
            "count": 2
           },
           {
            "bin_start": 0.4146,
            "bin_end": 0.4534,
            "count": 0
           },
           {
            "bin_start": 0.4534,
            "bin_end": 0.49219999999999997,
            "count": 0
           },
           {
            "bin_start": 0.49219999999999997,
            "bin_end": 0.531,
            "count": 0
           },
           {
            "bin_start": 0.531,
            "bin_end": 0.5698,
            "count": 0
           },
           {
            "bin_start": 0.5698,
            "bin_end": 0.6086,
            "count": 0
           },
           {
            "bin_start": 0.6086,
            "bin_end": 0.6474,
            "count": 0
           },
           {
            "bin_start": 0.6474,
            "bin_end": 0.6861999999999999,
            "count": 0
           },
           {
            "bin_start": 0.6861999999999999,
            "bin_end": 0.725,
            "count": 1
           }
          ]
         }
        },
        {
         "name": "tempo",
         "dtype": "float64",
         "stats": {
          "unique_count": 5,
          "nan_count": 0,
          "min": "85.012",
          "max": "154.961",
          "histogram": [
           {
            "bin_start": 85.012,
            "bin_end": 92.0069,
            "count": 2
           },
           {
            "bin_start": 92.0069,
            "bin_end": 99.0018,
            "count": 1
           },
           {
            "bin_start": 99.0018,
            "bin_end": 105.9967,
            "count": 0
           },
           {
            "bin_start": 105.9967,
            "bin_end": 112.9916,
            "count": 0
           },
           {
            "bin_start": 112.9916,
            "bin_end": 119.9865,
            "count": 0
           },
           {
            "bin_start": 119.9865,
            "bin_end": 126.98140000000001,
            "count": 1
           },
           {
            "bin_start": 126.98140000000001,
            "bin_end": 133.9763,
            "count": 0
           },
           {
            "bin_start": 133.9763,
            "bin_end": 140.9712,
            "count": 0
           },
           {
            "bin_start": 140.9712,
            "bin_end": 147.9661,
            "count": 0
           },
           {
            "bin_start": 147.9661,
            "bin_end": 154.961,
            "count": 1
           }
          ]
         }
        },
        {
         "name": "type",
         "dtype": "object",
         "stats": {
          "unique_count": 1,
          "nan_count": 0,
          "categories": [
           {
            "name": "audio_features",
            "count": 5
           }
          ]
         }
        },
        {
         "name": "track_id",
         "dtype": "object",
         "stats": {
          "unique_count": 5,
          "nan_count": 0,
          "categories": [
           {
            "name": "2QjOHCTQ1Jl3zawyYOpxh6",
            "count": 1
           },
           {
            "name": "2K7xn816oNHJZ0aVqdQsha",
            "count": 1
           },
           {
            "name": "3 others",
            "count": 3
           }
          ]
         }
        },
        {
         "name": "uri",
         "dtype": "object",
         "stats": {
          "unique_count": 5,
          "nan_count": 0,
          "categories": [
           {
            "name": "spotify:track:2QjOHCTQ1Jl3zawyYOpxh6",
            "count": 1
           },
           {
            "name": "spotify:track:2K7xn816oNHJZ0aVqdQsha",
            "count": 1
           },
           {
            "name": "3 others",
            "count": 3
           }
          ]
         }
        },
        {
         "name": "track_href",
         "dtype": "object",
         "stats": {
          "unique_count": 5,
          "nan_count": 0,
          "categories": [
           {
            "name": "https://api.spotify.com/v1/tracks/2QjOHCTQ1Jl3zawyYOpxh6",
            "count": 1
           },
           {
            "name": "https://api.spotify.com/v1/tracks/2K7xn816oNHJZ0aVqdQsha",
            "count": 1
           },
           {
            "name": "3 others",
            "count": 3
           }
          ]
         }
        },
        {
         "name": "analysis_url",
         "dtype": "object",
         "stats": {
          "unique_count": 5,
          "nan_count": 0,
          "categories": [
           {
            "name": "https://api.spotify.com/v1/audio-analysis/2QjOHCTQ1Jl3zawyYOpxh6",
            "count": 1
           },
           {
            "name": "https://api.spotify.com/v1/audio-analysis/2K7xn816oNHJZ0aVqdQsha",
            "count": 1
           },
           {
            "name": "3 others",
            "count": 3
           }
          ]
         }
        },
        {
         "name": "duration_ms",
         "dtype": "int64",
         "stats": {
          "unique_count": 5,
          "nan_count": 0,
          "min": "153000",
          "max": "260173",
          "histogram": [
           {
            "bin_start": 153000,
            "bin_end": 163717.3,
            "count": 1
           },
           {
            "bin_start": 163717.3,
            "bin_end": 174434.6,
            "count": 0
           },
           {
            "bin_start": 174434.6,
            "bin_end": 185151.9,
            "count": 1
           },
           {
            "bin_start": 185151.9,
            "bin_end": 195869.2,
            "count": 0
           },
           {
            "bin_start": 195869.2,
            "bin_end": 206586.5,
            "count": 1
           },
           {
            "bin_start": 206586.5,
            "bin_end": 217303.8,
            "count": 0
           },
           {
            "bin_start": 217303.8,
            "bin_end": 228021.09999999998,
            "count": 0
           },
           {
            "bin_start": 228021.09999999998,
            "bin_end": 238738.4,
            "count": 0
           },
           {
            "bin_start": 238738.4,
            "bin_end": 249455.7,
            "count": 1
           },
           {
            "bin_start": 249455.7,
            "bin_end": 260173,
            "count": 1
           }
          ]
         }
        },
        {
         "name": "time_signature",
         "dtype": "int64",
         "stats": {
          "unique_count": 1,
          "nan_count": 0,
          "min": "4",
          "max": "4",
          "histogram": [
           {
            "bin_start": 3.5,
            "bin_end": 3.6,
            "count": 0
           },
           {
            "bin_start": 3.6,
            "bin_end": 3.7,
            "count": 0
           },
           {
            "bin_start": 3.7,
            "bin_end": 3.8,
            "count": 0
           },
           {
            "bin_start": 3.8,
            "bin_end": 3.9,
            "count": 0
           },
           {
            "bin_start": 3.9,
            "bin_end": 4,
            "count": 0
           },
           {
            "bin_start": 4,
            "bin_end": 4.1,
            "count": 5
           },
           {
            "bin_start": 4.1,
            "bin_end": 4.2,
            "count": 0
           },
           {
            "bin_start": 4.2,
            "bin_end": 4.3,
            "count": 0
           },
           {
            "bin_start": 4.3,
            "bin_end": 4.4,
            "count": 0
           },
           {
            "bin_start": 4.4,
            "bin_end": 4.5,
            "count": 0
           }
          ]
         }
        },
        {
         "name": "artist_name_x",
         "dtype": "object",
         "stats": {
          "unique_count": 2,
          "nan_count": 0,
          "categories": [
           {
            "name": "The Neighbourhood",
            "count": 4
           },
           {
            "name": "Neon Trees",
            "count": 1
           }
          ]
         }
        },
        {
         "name": "artist_id",
         "dtype": "object",
         "stats": {
          "unique_count": 2,
          "nan_count": 0,
          "categories": [
           {
            "name": "77SW9BnxLY8rJ0RciFqkHh",
            "count": 4
           },
           {
            "name": "0RpddSzUHfncUWNJXKOsjy",
            "count": 1
           }
          ]
         }
        },
        {
         "name": "track_name_x",
         "dtype": "object",
         "stats": {
          "unique_count": 5,
          "nan_count": 0,
          "categories": [
           {
            "name": "Sweater Weather",
            "count": 1
           },
           {
            "name": "Softcore",
            "count": 1
           },
           {
            "name": "3 others",
            "count": 3
           }
          ]
         }
        },
        {
         "name": "genre",
         "dtype": "object",
         "stats": {
          "unique_count": 1,
          "nan_count": 0,
          "categories": [
           {
            "name": "alt-rock",
            "count": 5
           }
          ]
         }
        },
        {
         "name": "artist_name_y",
         "dtype": "object",
         "stats": {
          "unique_count": 0,
          "nan_count": 5,
          "categories": [
           {
            "name": "Missing",
            "count": 5
           }
          ]
         }
        },
        {
         "name": "track_name_y",
         "dtype": "object",
         "stats": {
          "unique_count": 0,
          "nan_count": 5,
          "categories": [
           {
            "name": "Missing",
            "count": 5
           }
          ]
         }
        },
        {
         "name": "lyric_raw",
         "dtype": "object",
         "stats": {
          "unique_count": 0,
          "nan_count": 5,
          "categories": [
           {
            "name": "Missing",
            "count": 5
           }
          ]
         }
        },
        {
         "name": "lyric_clean",
         "dtype": "object",
         "stats": {
          "unique_count": 0,
          "nan_count": 5,
          "categories": [
           {
            "name": "Missing",
            "count": 5
           }
          ]
         }
        },
        {
         "name": "_deepnote_index_column",
         "dtype": "int64"
        }
       ],
       "rows": [
        {
         "danceability": 0.612,
         "energy": 0.807,
         "key": 10,
         "loudness": -2.81,
         "mode": 1,
         "speechiness": 0.0336,
         "acousticness": 0.0495,
         "instrumentalness": 0.0177,
         "liveness": 0.101,
         "valence": 0.398,
         "tempo": 124.053,
         "type": "audio_features",
         "track_id": "2QjOHCTQ1Jl3zawyYOpxh6",
         "uri": "spotify:track:2QjOHCTQ1Jl3zawyYOpxh6",
         "track_href": "https://api.spotify.com/v1/tracks/2QjOHCTQ1Jl3zawyYOpxh6",
         "analysis_url": "https://api.spotify.com/v1/audio-analysis/2QjOHCTQ1Jl3zawyYOpxh6",
         "duration_ms": 240400,
         "time_signature": 4,
         "artist_name_x": "The Neighbourhood",
         "artist_id": "77SW9BnxLY8rJ0RciFqkHh",
         "track_name_x": "Sweater Weather",
         "genre": "alt-rock",
         "artist_name_y": "nan",
         "track_name_y": "nan",
         "lyric_raw": "nan",
         "lyric_clean": "None",
         "_deepnote_index_column": 0
        },
        {
         "danceability": 0.575,
         "energy": 0.568,
         "key": 9,
         "loudness": -5.509,
         "mode": 0,
         "speechiness": 0.03,
         "acousticness": 0.0484,
         "instrumentalness": 0.000417,
         "liveness": 0.286,
         "valence": 0.37,
         "tempo": 93.986,
         "type": "audio_features",
         "track_id": "2K7xn816oNHJZ0aVqdQsha",
         "uri": "spotify:track:2K7xn816oNHJZ0aVqdQsha",
         "track_href": "https://api.spotify.com/v1/tracks/2K7xn816oNHJZ0aVqdQsha",
         "analysis_url": "https://api.spotify.com/v1/audio-analysis/2K7xn816oNHJZ0aVqdQsha",
         "duration_ms": 206280,
         "time_signature": 4,
         "artist_name_x": "The Neighbourhood",
         "artist_id": "77SW9BnxLY8rJ0RciFqkHh",
         "track_name_x": "Softcore",
         "genre": "alt-rock",
         "artist_name_y": "nan",
         "track_name_y": "nan",
         "lyric_raw": "nan",
         "lyric_clean": "None",
         "_deepnote_index_column": 1
        },
        {
         "danceability": 0.588,
         "energy": 0.521,
         "key": 10,
         "loudness": -9.461,
         "mode": 1,
         "speechiness": 0.0329,
         "acousticness": 0.0678,
         "instrumentalness": 0.149,
         "liveness": 0.123,
         "valence": 0.337,
         "tempo": 85.012,
         "type": "audio_features",
         "track_id": "5E30LdtzQTGqRvNd7l6kG5",
         "uri": "spotify:track:5E30LdtzQTGqRvNd7l6kG5",
         "track_href": "https://api.spotify.com/v1/tracks/5E30LdtzQTGqRvNd7l6kG5",
         "analysis_url": "https://api.spotify.com/v1/audio-analysis/5E30LdtzQTGqRvNd7l6kG5",
         "duration_ms": 260173,
         "time_signature": 4,
         "artist_name_x": "The Neighbourhood",
         "artist_id": "77SW9BnxLY8rJ0RciFqkHh",
         "track_name_x": "Daddy Issues",
         "genre": "alt-rock",
         "artist_name_y": "nan",
         "track_name_y": "nan",
         "lyric_raw": "nan",
         "lyric_clean": "None",
         "_deepnote_index_column": 2
        },
        {
         "danceability": 0.471,
         "energy": 0.924,
         "key": 8,
         "loudness": -3.906,
         "mode": 1,
         "speechiness": 0.0586,
         "acousticness": 0.00301,
         "instrumentalness": 0,
         "liveness": 0.313,
         "valence": 0.725,
         "tempo": 154.961,
         "type": "audio_features",
         "track_id": "2iUmqdfGZcHIhS3b9E9EWq",
         "uri": "spotify:track:2iUmqdfGZcHIhS3b9E9EWq",
         "track_href": "https://api.spotify.com/v1/tracks/2iUmqdfGZcHIhS3b9E9EWq",
         "analysis_url": "https://api.spotify.com/v1/audio-analysis/2iUmqdfGZcHIhS3b9E9EWq",
         "duration_ms": 177280,
         "time_signature": 4,
         "artist_name_x": "Neon Trees",
         "artist_id": "0RpddSzUHfncUWNJXKOsjy",
         "track_name_x": "Everybody Talks",
         "genre": "alt-rock",
         "artist_name_y": "nan",
         "track_name_y": "nan",
         "lyric_raw": "nan",
         "lyric_clean": "None",
         "_deepnote_index_column": 3
        },
        {
         "danceability": 0.551,
         "energy": 0.881,
         "key": 7,
         "loudness": -6.099,
         "mode": 0,
         "speechiness": 0.0542,
         "acousticness": 0.186,
         "instrumentalness": 0.0791,
         "liveness": 0.152,
         "valence": 0.387,
         "tempo": 88.036,
         "type": "audio_features",
         "track_id": "7zwn1eykZtZ5LODrf7c0tS",
         "uri": "spotify:track:7zwn1eykZtZ5LODrf7c0tS",
         "track_href": "https://api.spotify.com/v1/tracks/7zwn1eykZtZ5LODrf7c0tS",
         "analysis_url": "https://api.spotify.com/v1/audio-analysis/7zwn1eykZtZ5LODrf7c0tS",
         "duration_ms": 153000,
         "time_signature": 4,
         "artist_name_x": "The Neighbourhood",
         "artist_id": "77SW9BnxLY8rJ0RciFqkHh",
         "track_name_x": "You Get Me So High",
         "genre": "alt-rock",
         "artist_name_y": "nan",
         "track_name_y": "nan",
         "lyric_raw": "nan",
         "lyric_clean": "None",
         "_deepnote_index_column": 4
        }
       ]
      },
      "text/plain": "   danceability  energy  key  loudness  mode  speechiness  acousticness  \\\n0         0.612   0.807   10    -2.810     1       0.0336       0.04950   \n1         0.575   0.568    9    -5.509     0       0.0300       0.04840   \n2         0.588   0.521   10    -9.461     1       0.0329       0.06780   \n3         0.471   0.924    8    -3.906     1       0.0586       0.00301   \n4         0.551   0.881    7    -6.099     0       0.0542       0.18600   \n\n   instrumentalness  liveness  valence  ...  duration_ms time_signature  \\\n0          0.017700     0.101    0.398  ...       240400              4   \n1          0.000417     0.286    0.370  ...       206280              4   \n2          0.149000     0.123    0.337  ...       260173              4   \n3          0.000000     0.313    0.725  ...       177280              4   \n4          0.079100     0.152    0.387  ...       153000              4   \n\n       artist_name_x               artist_id        track_name_x     genre  \\\n0  The Neighbourhood  77SW9BnxLY8rJ0RciFqkHh     Sweater Weather  alt-rock   \n1  The Neighbourhood  77SW9BnxLY8rJ0RciFqkHh            Softcore  alt-rock   \n2  The Neighbourhood  77SW9BnxLY8rJ0RciFqkHh        Daddy Issues  alt-rock   \n3         Neon Trees  0RpddSzUHfncUWNJXKOsjy     Everybody Talks  alt-rock   \n4  The Neighbourhood  77SW9BnxLY8rJ0RciFqkHh  You Get Me So High  alt-rock   \n\n   artist_name_y  track_name_y lyric_raw lyric_clean  \n0            NaN           NaN       NaN        None  \n1            NaN           NaN       NaN        None  \n2            NaN           NaN       NaN        None  \n3            NaN           NaN       NaN        None  \n4            NaN           NaN       NaN        None  \n\n[5 rows x 26 columns]",
      "text/html": "<div>\n<style scoped>\n    .dataframe tbody tr th:only-of-type {\n        vertical-align: middle;\n    }\n\n    .dataframe tbody tr th {\n        vertical-align: top;\n    }\n\n    .dataframe thead th {\n        text-align: right;\n    }\n</style>\n<table border=\"1\" class=\"dataframe\">\n  <thead>\n    <tr style=\"text-align: right;\">\n      <th></th>\n      <th>danceability</th>\n      <th>energy</th>\n      <th>key</th>\n      <th>loudness</th>\n      <th>mode</th>\n      <th>speechiness</th>\n      <th>acousticness</th>\n      <th>instrumentalness</th>\n      <th>liveness</th>\n      <th>valence</th>\n      <th>...</th>\n      <th>duration_ms</th>\n      <th>time_signature</th>\n      <th>artist_name_x</th>\n      <th>artist_id</th>\n      <th>track_name_x</th>\n      <th>genre</th>\n      <th>artist_name_y</th>\n      <th>track_name_y</th>\n      <th>lyric_raw</th>\n      <th>lyric_clean</th>\n    </tr>\n  </thead>\n  <tbody>\n    <tr>\n      <th>0</th>\n      <td>0.612</td>\n      <td>0.807</td>\n      <td>10</td>\n      <td>-2.810</td>\n      <td>1</td>\n      <td>0.0336</td>\n      <td>0.04950</td>\n      <td>0.017700</td>\n      <td>0.101</td>\n      <td>0.398</td>\n      <td>...</td>\n      <td>240400</td>\n      <td>4</td>\n      <td>The Neighbourhood</td>\n      <td>77SW9BnxLY8rJ0RciFqkHh</td>\n      <td>Sweater Weather</td>\n      <td>alt-rock</td>\n      <td>NaN</td>\n      <td>NaN</td>\n      <td>NaN</td>\n      <td>None</td>\n    </tr>\n    <tr>\n      <th>1</th>\n      <td>0.575</td>\n      <td>0.568</td>\n      <td>9</td>\n      <td>-5.509</td>\n      <td>0</td>\n      <td>0.0300</td>\n      <td>0.04840</td>\n      <td>0.000417</td>\n      <td>0.286</td>\n      <td>0.370</td>\n      <td>...</td>\n      <td>206280</td>\n      <td>4</td>\n      <td>The Neighbourhood</td>\n      <td>77SW9BnxLY8rJ0RciFqkHh</td>\n      <td>Softcore</td>\n      <td>alt-rock</td>\n      <td>NaN</td>\n      <td>NaN</td>\n      <td>NaN</td>\n      <td>None</td>\n    </tr>\n    <tr>\n      <th>2</th>\n      <td>0.588</td>\n      <td>0.521</td>\n      <td>10</td>\n      <td>-9.461</td>\n      <td>1</td>\n      <td>0.0329</td>\n      <td>0.06780</td>\n      <td>0.149000</td>\n      <td>0.123</td>\n      <td>0.337</td>\n      <td>...</td>\n      <td>260173</td>\n      <td>4</td>\n      <td>The Neighbourhood</td>\n      <td>77SW9BnxLY8rJ0RciFqkHh</td>\n      <td>Daddy Issues</td>\n      <td>alt-rock</td>\n      <td>NaN</td>\n      <td>NaN</td>\n      <td>NaN</td>\n      <td>None</td>\n    </tr>\n    <tr>\n      <th>3</th>\n      <td>0.471</td>\n      <td>0.924</td>\n      <td>8</td>\n      <td>-3.906</td>\n      <td>1</td>\n      <td>0.0586</td>\n      <td>0.00301</td>\n      <td>0.000000</td>\n      <td>0.313</td>\n      <td>0.725</td>\n      <td>...</td>\n      <td>177280</td>\n      <td>4</td>\n      <td>Neon Trees</td>\n      <td>0RpddSzUHfncUWNJXKOsjy</td>\n      <td>Everybody Talks</td>\n      <td>alt-rock</td>\n      <td>NaN</td>\n      <td>NaN</td>\n      <td>NaN</td>\n      <td>None</td>\n    </tr>\n    <tr>\n      <th>4</th>\n      <td>0.551</td>\n      <td>0.881</td>\n      <td>7</td>\n      <td>-6.099</td>\n      <td>0</td>\n      <td>0.0542</td>\n      <td>0.18600</td>\n      <td>0.079100</td>\n      <td>0.152</td>\n      <td>0.387</td>\n      <td>...</td>\n      <td>153000</td>\n      <td>4</td>\n      <td>The Neighbourhood</td>\n      <td>77SW9BnxLY8rJ0RciFqkHh</td>\n      <td>You Get Me So High</td>\n      <td>alt-rock</td>\n      <td>NaN</td>\n      <td>NaN</td>\n      <td>NaN</td>\n      <td>None</td>\n    </tr>\n  </tbody>\n</table>\n<p>5 rows × 26 columns</p>\n</div>"
     },
     "metadata": {}
    }
   ],
   "execution_count": 18
  },
  {
   "cell_type": "code",
   "metadata": {
    "cell_id": "3400d0f0f0dc4be6a7c755b4ae11557f",
    "tags": [],
    "deepnote_to_be_reexecuted": false,
    "source_hash": "8f0664ac",
    "execution_start": 1652836512476,
    "execution_millis": 8,
    "owner_user_id": "cfcd2942-01a4-4c3a-82bd-b3edb2344fb4",
    "deepnote_cell_type": "code",
    "deepnote_cell_height": 240.375
   },
   "source": "song = 11\n\nraw = df_w_lyrics.iloc[song, -2]\nclean = df_w_lyrics.iloc[song, -1]\n\nprint(raw)\nprint(clean)",
   "execution_count": 17,
   "outputs": [
    {
     "name": "stdout",
     "text": "nan\nNone\n",
     "output_type": "stream"
    }
   ]
  },
  {
   "cell_type": "markdown",
   "source": "### Write results",
   "metadata": {
    "cell_id": "33aa4c869bc4485aac3077dce54c8594",
    "tags": [],
    "deepnote_cell_type": "markdown",
    "deepnote_cell_height": 62
   }
  },
  {
   "cell_type": "code",
   "metadata": {
    "cell_id": "7d34b7f704bb45f1ad4db736b363f6be",
    "tags": [],
    "deepnote_to_be_reexecuted": false,
    "source_hash": "9fee5d80",
    "execution_start": 1652835294075,
    "execution_millis": 894,
    "deepnote_cell_type": "code",
    "deepnote_cell_height": 81
   },
   "source": "df_w_lyrics.to_csv('pure_genre_data_w_clean_lyrics.csv', index = False)",
   "execution_count": 12,
   "outputs": []
  },
  {
   "cell_type": "markdown",
   "source": "<a style='text-decoration:none;line-height:16px;display:flex;color:#5B5B62;padding:10px;justify-content:end;' href='https://deepnote.com?utm_source=created-in-deepnote-cell&projectId=659c715d-e2b5-478e-9116-4d32a5174810' target=\"_blank\">\n<img alt='Created in deepnote.com' style='display:inline;max-height:16px;margin:0px;margin-right:7.5px;' src='data:image/svg+xml;base64,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' > </img>\nCreated in <span style='font-weight:600;margin-left:4px;'>Deepnote</span></a>",
   "metadata": {
    "tags": [],
    "created_in_deepnote_cell": true,
    "deepnote_cell_type": "markdown"
   }
  }
 ],
 "nbformat": 4,
 "nbformat_minor": 2,
 "metadata": {
  "orig_nbformat": 2,
  "deepnote": {},
  "deepnote_notebook_id": "0f715628-e05a-4427-b961-40dff270ece5",
  "deepnote_execution_queue": []
 }
}