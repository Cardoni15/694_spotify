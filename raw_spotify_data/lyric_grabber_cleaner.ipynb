{
 "cells": [
  {
   "cell_type": "markdown",
   "source": "### Input song attribute data",
   "metadata": {
    "cell_id": "59d3d25e55a943aa83f925fe4a246741",
    "tags": [],
    "deepnote_cell_type": "markdown",
    "deepnote_cell_height": 62
   }
  },
  {
   "cell_type": "code",
   "metadata": {
    "cell_id": "0318d3fe73db499d8ecc0e4728c6d952",
    "tags": [],
    "deepnote_to_be_reexecuted": false,
    "source_hash": "42a38bbb",
    "execution_start": 1652910249977,
    "execution_millis": 604,
    "owner_user_id": "cfcd2942-01a4-4c3a-82bd-b3edb2344fb4",
    "deepnote_cell_type": "code",
    "deepnote_cell_height": 520
   },
   "source": "import pandas as pd\nimport numpy as np\nfrom tqdm import tqdm\n\ndf = pd.read_csv(\"pure_genre_data.csv\")\n\ndf.head()",
   "outputs": [
    {
     "output_type": "execute_result",
     "execution_count": 1,
     "data": {
      "application/vnd.deepnote.dataframe.v3+json": {
       "column_count": 22,
       "row_count": 5,
       "columns": [
        {
         "name": "danceability",
         "dtype": "float64",
         "stats": {
          "unique_count": 5,
          "nan_count": 0,
          "min": "0.471",
          "max": "0.612",
          "histogram": [
           {
            "bin_start": 0.471,
            "bin_end": 0.4851,
            "count": 1
           },
           {
            "bin_start": 0.4851,
            "bin_end": 0.4992,
            "count": 0
           },
           {
            "bin_start": 0.4992,
            "bin_end": 0.5133,
            "count": 0
           },
           {
            "bin_start": 0.5133,
            "bin_end": 0.5274,
            "count": 0
           },
           {
            "bin_start": 0.5274,
            "bin_end": 0.5415,
            "count": 0
           },
           {
            "bin_start": 0.5415,
            "bin_end": 0.5556,
            "count": 1
           },
           {
            "bin_start": 0.5556,
            "bin_end": 0.5697,
            "count": 0
           },
           {
            "bin_start": 0.5697,
            "bin_end": 0.5838,
            "count": 1
           },
           {
            "bin_start": 0.5838,
            "bin_end": 0.5979,
            "count": 1
           },
           {
            "bin_start": 0.5979,
            "bin_end": 0.612,
            "count": 1
           }
          ]
         }
        },
        {
         "name": "energy",
         "dtype": "float64",
         "stats": {
          "unique_count": 5,
          "nan_count": 0,
          "min": "0.521",
          "max": "0.924",
          "histogram": [
           {
            "bin_start": 0.521,
            "bin_end": 0.5613,
            "count": 1
           },
           {
            "bin_start": 0.5613,
            "bin_end": 0.6016,
            "count": 1
           },
           {
            "bin_start": 0.6016,
            "bin_end": 0.6419,
            "count": 0
           },
           {
            "bin_start": 0.6419,
            "bin_end": 0.6822,
            "count": 0
           },
           {
            "bin_start": 0.6822,
            "bin_end": 0.7225,
            "count": 0
           },
           {
            "bin_start": 0.7225,
            "bin_end": 0.7628,
            "count": 0
           },
           {
            "bin_start": 0.7628,
            "bin_end": 0.8031,
            "count": 0
           },
           {
            "bin_start": 0.8031,
            "bin_end": 0.8434,
            "count": 1
           },
           {
            "bin_start": 0.8434,
            "bin_end": 0.8837,
            "count": 1
           },
           {
            "bin_start": 0.8837,
            "bin_end": 0.924,
            "count": 1
           }
          ]
         }
        },
        {
         "name": "key",
         "dtype": "int64",
         "stats": {
          "unique_count": 4,
          "nan_count": 0,
          "min": "7",
          "max": "10",
          "histogram": [
           {
            "bin_start": 7,
            "bin_end": 7.3,
            "count": 1
           },
           {
            "bin_start": 7.3,
            "bin_end": 7.6,
            "count": 0
           },
           {
            "bin_start": 7.6,
            "bin_end": 7.9,
            "count": 0
           },
           {
            "bin_start": 7.9,
            "bin_end": 8.2,
            "count": 1
           },
           {
            "bin_start": 8.2,
            "bin_end": 8.5,
            "count": 0
           },
           {
            "bin_start": 8.5,
            "bin_end": 8.8,
            "count": 0
           },
           {
            "bin_start": 8.8,
            "bin_end": 9.1,
            "count": 1
           },
           {
            "bin_start": 9.1,
            "bin_end": 9.4,
            "count": 0
           },
           {
            "bin_start": 9.4,
            "bin_end": 9.7,
            "count": 0
           },
           {
            "bin_start": 9.7,
            "bin_end": 10,
            "count": 2
           }
          ]
         }
        },
        {
         "name": "loudness",
         "dtype": "float64",
         "stats": {
          "unique_count": 5,
          "nan_count": 0,
          "min": "-9.461",
          "max": "-2.81",
          "histogram": [
           {
            "bin_start": -9.461,
            "bin_end": -8.7959,
            "count": 1
           },
           {
            "bin_start": -8.7959,
            "bin_end": -8.1308,
            "count": 0
           },
           {
            "bin_start": -8.1308,
            "bin_end": -7.4657,
            "count": 0
           },
           {
            "bin_start": -7.4657,
            "bin_end": -6.8006,
            "count": 0
           },
           {
            "bin_start": -6.8006,
            "bin_end": -6.1355,
            "count": 0
           },
           {
            "bin_start": -6.1355,
            "bin_end": -5.4704,
            "count": 2
           },
           {
            "bin_start": -5.4704,
            "bin_end": -4.8053,
            "count": 0
           },
           {
            "bin_start": -4.8053,
            "bin_end": -4.1402,
            "count": 0
           },
           {
            "bin_start": -4.1402,
            "bin_end": -3.4751000000000003,
            "count": 1
           },
           {
            "bin_start": -3.4751000000000003,
            "bin_end": -2.81,
            "count": 1
           }
          ]
         }
        },
        {
         "name": "mode",
         "dtype": "int64",
         "stats": {
          "unique_count": 2,
          "nan_count": 0,
          "min": "0",
          "max": "1",
          "histogram": [
           {
            "bin_start": 0,
            "bin_end": 0.1,
            "count": 2
           },
           {
            "bin_start": 0.1,
            "bin_end": 0.2,
            "count": 0
           },
           {
            "bin_start": 0.2,
            "bin_end": 0.30000000000000004,
            "count": 0
           },
           {
            "bin_start": 0.30000000000000004,
            "bin_end": 0.4,
            "count": 0
           },
           {
            "bin_start": 0.4,
            "bin_end": 0.5,
            "count": 0
           },
           {
            "bin_start": 0.5,
            "bin_end": 0.6000000000000001,
            "count": 0
           },
           {
            "bin_start": 0.6000000000000001,
            "bin_end": 0.7000000000000001,
            "count": 0
           },
           {
            "bin_start": 0.7000000000000001,
            "bin_end": 0.8,
            "count": 0
           },
           {
            "bin_start": 0.8,
            "bin_end": 0.9,
            "count": 0
           },
           {
            "bin_start": 0.9,
            "bin_end": 1,
            "count": 3
           }
          ]
         }
        },
        {
         "name": "speechiness",
         "dtype": "float64",
         "stats": {
          "unique_count": 5,
          "nan_count": 0,
          "min": "0.03",
          "max": "0.0586",
          "histogram": [
           {
            "bin_start": 0.03,
            "bin_end": 0.03286,
            "count": 1
           },
           {
            "bin_start": 0.03286,
            "bin_end": 0.03572,
            "count": 2
           },
           {
            "bin_start": 0.03572,
            "bin_end": 0.03858,
            "count": 0
           },
           {
            "bin_start": 0.03858,
            "bin_end": 0.04144,
            "count": 0
           },
           {
            "bin_start": 0.04144,
            "bin_end": 0.0443,
            "count": 0
           },
           {
            "bin_start": 0.0443,
            "bin_end": 0.04716,
            "count": 0
           },
           {
            "bin_start": 0.04716,
            "bin_end": 0.050019999999999995,
            "count": 0
           },
           {
            "bin_start": 0.050019999999999995,
            "bin_end": 0.052879999999999996,
            "count": 0
           },
           {
            "bin_start": 0.052879999999999996,
            "bin_end": 0.05574,
            "count": 1
           },
           {
            "bin_start": 0.05574,
            "bin_end": 0.0586,
            "count": 1
           }
          ]
         }
        },
        {
         "name": "acousticness",
         "dtype": "float64",
         "stats": {
          "unique_count": 5,
          "nan_count": 0,
          "min": "0.00301",
          "max": "0.186",
          "histogram": [
           {
            "bin_start": 0.00301,
            "bin_end": 0.021308999999999998,
            "count": 1
           },
           {
            "bin_start": 0.021308999999999998,
            "bin_end": 0.039608,
            "count": 0
           },
           {
            "bin_start": 0.039608,
            "bin_end": 0.057907,
            "count": 2
           },
           {
            "bin_start": 0.057907,
            "bin_end": 0.076206,
            "count": 1
           },
           {
            "bin_start": 0.076206,
            "bin_end": 0.09450499999999999,
            "count": 0
           },
           {
            "bin_start": 0.09450499999999999,
            "bin_end": 0.112804,
            "count": 0
           },
           {
            "bin_start": 0.112804,
            "bin_end": 0.131103,
            "count": 0
           },
           {
            "bin_start": 0.131103,
            "bin_end": 0.149402,
            "count": 0
           },
           {
            "bin_start": 0.149402,
            "bin_end": 0.16770100000000002,
            "count": 0
           },
           {
            "bin_start": 0.16770100000000002,
            "bin_end": 0.186,
            "count": 1
           }
          ]
         }
        },
        {
         "name": "instrumentalness",
         "dtype": "float64",
         "stats": {
          "unique_count": 5,
          "nan_count": 0,
          "min": "0.0",
          "max": "0.149",
          "histogram": [
           {
            "bin_start": 0,
            "bin_end": 0.0149,
            "count": 2
           },
           {
            "bin_start": 0.0149,
            "bin_end": 0.0298,
            "count": 1
           },
           {
            "bin_start": 0.0298,
            "bin_end": 0.044700000000000004,
            "count": 0
           },
           {
            "bin_start": 0.044700000000000004,
            "bin_end": 0.0596,
            "count": 0
           },
           {
            "bin_start": 0.0596,
            "bin_end": 0.0745,
            "count": 0
           },
           {
            "bin_start": 0.0745,
            "bin_end": 0.08940000000000001,
            "count": 1
           },
           {
            "bin_start": 0.08940000000000001,
            "bin_end": 0.1043,
            "count": 0
           },
           {
            "bin_start": 0.1043,
            "bin_end": 0.1192,
            "count": 0
           },
           {
            "bin_start": 0.1192,
            "bin_end": 0.1341,
            "count": 0
           },
           {
            "bin_start": 0.1341,
            "bin_end": 0.149,
            "count": 1
           }
          ]
         }
        },
        {
         "name": "liveness",
         "dtype": "float64",
         "stats": {
          "unique_count": 5,
          "nan_count": 0,
          "min": "0.101",
          "max": "0.313",
          "histogram": [
           {
            "bin_start": 0.101,
            "bin_end": 0.1222,
            "count": 1
           },
           {
            "bin_start": 0.1222,
            "bin_end": 0.1434,
            "count": 1
           },
           {
            "bin_start": 0.1434,
            "bin_end": 0.16460000000000002,
            "count": 1
           },
           {
            "bin_start": 0.16460000000000002,
            "bin_end": 0.18580000000000002,
            "count": 0
           },
           {
            "bin_start": 0.18580000000000002,
            "bin_end": 0.20700000000000002,
            "count": 0
           },
           {
            "bin_start": 0.20700000000000002,
            "bin_end": 0.22820000000000001,
            "count": 0
           },
           {
            "bin_start": 0.22820000000000001,
            "bin_end": 0.2494,
            "count": 0
           },
           {
            "bin_start": 0.2494,
            "bin_end": 0.2706,
            "count": 0
           },
           {
            "bin_start": 0.2706,
            "bin_end": 0.2918,
            "count": 1
           },
           {
            "bin_start": 0.2918,
            "bin_end": 0.313,
            "count": 1
           }
          ]
         }
        },
        {
         "name": "valence",
         "dtype": "float64",
         "stats": {
          "unique_count": 5,
          "nan_count": 0,
          "min": "0.337",
          "max": "0.725",
          "histogram": [
           {
            "bin_start": 0.337,
            "bin_end": 0.3758,
            "count": 2
           },
           {
            "bin_start": 0.3758,
            "bin_end": 0.4146,
            "count": 2
           },
           {
            "bin_start": 0.4146,
            "bin_end": 0.4534,
            "count": 0
           },
           {
            "bin_start": 0.4534,
            "bin_end": 0.49219999999999997,
            "count": 0
           },
           {
            "bin_start": 0.49219999999999997,
            "bin_end": 0.531,
            "count": 0
           },
           {
            "bin_start": 0.531,
            "bin_end": 0.5698,
            "count": 0
           },
           {
            "bin_start": 0.5698,
            "bin_end": 0.6086,
            "count": 0
           },
           {
            "bin_start": 0.6086,
            "bin_end": 0.6474,
            "count": 0
           },
           {
            "bin_start": 0.6474,
            "bin_end": 0.6861999999999999,
            "count": 0
           },
           {
            "bin_start": 0.6861999999999999,
            "bin_end": 0.725,
            "count": 1
           }
          ]
         }
        },
        {
         "name": "tempo",
         "dtype": "float64",
         "stats": {
          "unique_count": 5,
          "nan_count": 0,
          "min": "85.012",
          "max": "154.961",
          "histogram": [
           {
            "bin_start": 85.012,
            "bin_end": 92.0069,
            "count": 2
           },
           {
            "bin_start": 92.0069,
            "bin_end": 99.0018,
            "count": 1
           },
           {
            "bin_start": 99.0018,
            "bin_end": 105.9967,
            "count": 0
           },
           {
            "bin_start": 105.9967,
            "bin_end": 112.9916,
            "count": 0
           },
           {
            "bin_start": 112.9916,
            "bin_end": 119.9865,
            "count": 0
           },
           {
            "bin_start": 119.9865,
            "bin_end": 126.98140000000001,
            "count": 1
           },
           {
            "bin_start": 126.98140000000001,
            "bin_end": 133.9763,
            "count": 0
           },
           {
            "bin_start": 133.9763,
            "bin_end": 140.9712,
            "count": 0
           },
           {
            "bin_start": 140.9712,
            "bin_end": 147.9661,
            "count": 0
           },
           {
            "bin_start": 147.9661,
            "bin_end": 154.961,
            "count": 1
           }
          ]
         }
        },
        {
         "name": "type",
         "dtype": "object",
         "stats": {
          "unique_count": 1,
          "nan_count": 0,
          "categories": [
           {
            "name": "audio_features",
            "count": 5
           }
          ]
         }
        },
        {
         "name": "track_id",
         "dtype": "object",
         "stats": {
          "unique_count": 5,
          "nan_count": 0,
          "categories": [
           {
            "name": "2QjOHCTQ1Jl3zawyYOpxh6",
            "count": 1
           },
           {
            "name": "2K7xn816oNHJZ0aVqdQsha",
            "count": 1
           },
           {
            "name": "3 others",
            "count": 3
           }
          ]
         }
        },
        {
         "name": "uri",
         "dtype": "object",
         "stats": {
          "unique_count": 5,
          "nan_count": 0,
          "categories": [
           {
            "name": "spotify:track:2QjOHCTQ1Jl3zawyYOpxh6",
            "count": 1
           },
           {
            "name": "spotify:track:2K7xn816oNHJZ0aVqdQsha",
            "count": 1
           },
           {
            "name": "3 others",
            "count": 3
           }
          ]
         }
        },
        {
         "name": "track_href",
         "dtype": "object",
         "stats": {
          "unique_count": 5,
          "nan_count": 0,
          "categories": [
           {
            "name": "https://api.spotify.com/v1/tracks/2QjOHCTQ1Jl3zawyYOpxh6",
            "count": 1
           },
           {
            "name": "https://api.spotify.com/v1/tracks/2K7xn816oNHJZ0aVqdQsha",
            "count": 1
           },
           {
            "name": "3 others",
            "count": 3
           }
          ]
         }
        },
        {
         "name": "analysis_url",
         "dtype": "object",
         "stats": {
          "unique_count": 5,
          "nan_count": 0,
          "categories": [
           {
            "name": "https://api.spotify.com/v1/audio-analysis/2QjOHCTQ1Jl3zawyYOpxh6",
            "count": 1
           },
           {
            "name": "https://api.spotify.com/v1/audio-analysis/2K7xn816oNHJZ0aVqdQsha",
            "count": 1
           },
           {
            "name": "3 others",
            "count": 3
           }
          ]
         }
        },
        {
         "name": "duration_ms",
         "dtype": "int64",
         "stats": {
          "unique_count": 5,
          "nan_count": 0,
          "min": "153000",
          "max": "260173",
          "histogram": [
           {
            "bin_start": 153000,
            "bin_end": 163717.3,
            "count": 1
           },
           {
            "bin_start": 163717.3,
            "bin_end": 174434.6,
            "count": 0
           },
           {
            "bin_start": 174434.6,
            "bin_end": 185151.9,
            "count": 1
           },
           {
            "bin_start": 185151.9,
            "bin_end": 195869.2,
            "count": 0
           },
           {
            "bin_start": 195869.2,
            "bin_end": 206586.5,
            "count": 1
           },
           {
            "bin_start": 206586.5,
            "bin_end": 217303.8,
            "count": 0
           },
           {
            "bin_start": 217303.8,
            "bin_end": 228021.09999999998,
            "count": 0
           },
           {
            "bin_start": 228021.09999999998,
            "bin_end": 238738.4,
            "count": 0
           },
           {
            "bin_start": 238738.4,
            "bin_end": 249455.7,
            "count": 1
           },
           {
            "bin_start": 249455.7,
            "bin_end": 260173,
            "count": 1
           }
          ]
         }
        },
        {
         "name": "time_signature",
         "dtype": "int64",
         "stats": {
          "unique_count": 1,
          "nan_count": 0,
          "min": "4",
          "max": "4",
          "histogram": [
           {
            "bin_start": 3.5,
            "bin_end": 3.6,
            "count": 0
           },
           {
            "bin_start": 3.6,
            "bin_end": 3.7,
            "count": 0
           },
           {
            "bin_start": 3.7,
            "bin_end": 3.8,
            "count": 0
           },
           {
            "bin_start": 3.8,
            "bin_end": 3.9,
            "count": 0
           },
           {
            "bin_start": 3.9,
            "bin_end": 4,
            "count": 0
           },
           {
            "bin_start": 4,
            "bin_end": 4.1,
            "count": 5
           },
           {
            "bin_start": 4.1,
            "bin_end": 4.2,
            "count": 0
           },
           {
            "bin_start": 4.2,
            "bin_end": 4.3,
            "count": 0
           },
           {
            "bin_start": 4.3,
            "bin_end": 4.4,
            "count": 0
           },
           {
            "bin_start": 4.4,
            "bin_end": 4.5,
            "count": 0
           }
          ]
         }
        },
        {
         "name": "artist_name",
         "dtype": "object",
         "stats": {
          "unique_count": 2,
          "nan_count": 0,
          "categories": [
           {
            "name": "The Neighbourhood",
            "count": 4
           },
           {
            "name": "Neon Trees",
            "count": 1
           }
          ]
         }
        },
        {
         "name": "artist_id",
         "dtype": "object",
         "stats": {
          "unique_count": 2,
          "nan_count": 0,
          "categories": [
           {
            "name": "77SW9BnxLY8rJ0RciFqkHh",
            "count": 4
           },
           {
            "name": "0RpddSzUHfncUWNJXKOsjy",
            "count": 1
           }
          ]
         }
        },
        {
         "name": "track_name",
         "dtype": "object",
         "stats": {
          "unique_count": 5,
          "nan_count": 0,
          "categories": [
           {
            "name": "Sweater Weather",
            "count": 1
           },
           {
            "name": "Softcore",
            "count": 1
           },
           {
            "name": "3 others",
            "count": 3
           }
          ]
         }
        },
        {
         "name": "genre",
         "dtype": "object",
         "stats": {
          "unique_count": 1,
          "nan_count": 0,
          "categories": [
           {
            "name": "alt-rock",
            "count": 5
           }
          ]
         }
        },
        {
         "name": "_deepnote_index_column",
         "dtype": "int64"
        }
       ],
       "rows": [
        {
         "danceability": 0.612,
         "energy": 0.807,
         "key": 10,
         "loudness": -2.81,
         "mode": 1,
         "speechiness": 0.0336,
         "acousticness": 0.0495,
         "instrumentalness": 0.0177,
         "liveness": 0.101,
         "valence": 0.398,
         "tempo": 124.053,
         "type": "audio_features",
         "track_id": "2QjOHCTQ1Jl3zawyYOpxh6",
         "uri": "spotify:track:2QjOHCTQ1Jl3zawyYOpxh6",
         "track_href": "https://api.spotify.com/v1/tracks/2QjOHCTQ1Jl3zawyYOpxh6",
         "analysis_url": "https://api.spotify.com/v1/audio-analysis/2QjOHCTQ1Jl3zawyYOpxh6",
         "duration_ms": 240400,
         "time_signature": 4,
         "artist_name": "The Neighbourhood",
         "artist_id": "77SW9BnxLY8rJ0RciFqkHh",
         "track_name": "Sweater Weather",
         "genre": "alt-rock",
         "_deepnote_index_column": 0
        },
        {
         "danceability": 0.575,
         "energy": 0.568,
         "key": 9,
         "loudness": -5.509,
         "mode": 0,
         "speechiness": 0.03,
         "acousticness": 0.0484,
         "instrumentalness": 0.000417,
         "liveness": 0.286,
         "valence": 0.37,
         "tempo": 93.986,
         "type": "audio_features",
         "track_id": "2K7xn816oNHJZ0aVqdQsha",
         "uri": "spotify:track:2K7xn816oNHJZ0aVqdQsha",
         "track_href": "https://api.spotify.com/v1/tracks/2K7xn816oNHJZ0aVqdQsha",
         "analysis_url": "https://api.spotify.com/v1/audio-analysis/2K7xn816oNHJZ0aVqdQsha",
         "duration_ms": 206280,
         "time_signature": 4,
         "artist_name": "The Neighbourhood",
         "artist_id": "77SW9BnxLY8rJ0RciFqkHh",
         "track_name": "Softcore",
         "genre": "alt-rock",
         "_deepnote_index_column": 1
        },
        {
         "danceability": 0.588,
         "energy": 0.521,
         "key": 10,
         "loudness": -9.461,
         "mode": 1,
         "speechiness": 0.0329,
         "acousticness": 0.0678,
         "instrumentalness": 0.149,
         "liveness": 0.123,
         "valence": 0.337,
         "tempo": 85.012,
         "type": "audio_features",
         "track_id": "5E30LdtzQTGqRvNd7l6kG5",
         "uri": "spotify:track:5E30LdtzQTGqRvNd7l6kG5",
         "track_href": "https://api.spotify.com/v1/tracks/5E30LdtzQTGqRvNd7l6kG5",
         "analysis_url": "https://api.spotify.com/v1/audio-analysis/5E30LdtzQTGqRvNd7l6kG5",
         "duration_ms": 260173,
         "time_signature": 4,
         "artist_name": "The Neighbourhood",
         "artist_id": "77SW9BnxLY8rJ0RciFqkHh",
         "track_name": "Daddy Issues",
         "genre": "alt-rock",
         "_deepnote_index_column": 2
        },
        {
         "danceability": 0.471,
         "energy": 0.924,
         "key": 8,
         "loudness": -3.906,
         "mode": 1,
         "speechiness": 0.0586,
         "acousticness": 0.00301,
         "instrumentalness": 0,
         "liveness": 0.313,
         "valence": 0.725,
         "tempo": 154.961,
         "type": "audio_features",
         "track_id": "2iUmqdfGZcHIhS3b9E9EWq",
         "uri": "spotify:track:2iUmqdfGZcHIhS3b9E9EWq",
         "track_href": "https://api.spotify.com/v1/tracks/2iUmqdfGZcHIhS3b9E9EWq",
         "analysis_url": "https://api.spotify.com/v1/audio-analysis/2iUmqdfGZcHIhS3b9E9EWq",
         "duration_ms": 177280,
         "time_signature": 4,
         "artist_name": "Neon Trees",
         "artist_id": "0RpddSzUHfncUWNJXKOsjy",
         "track_name": "Everybody Talks",
         "genre": "alt-rock",
         "_deepnote_index_column": 3
        },
        {
         "danceability": 0.551,
         "energy": 0.881,
         "key": 7,
         "loudness": -6.099,
         "mode": 0,
         "speechiness": 0.0542,
         "acousticness": 0.186,
         "instrumentalness": 0.0791,
         "liveness": 0.152,
         "valence": 0.387,
         "tempo": 88.036,
         "type": "audio_features",
         "track_id": "7zwn1eykZtZ5LODrf7c0tS",
         "uri": "spotify:track:7zwn1eykZtZ5LODrf7c0tS",
         "track_href": "https://api.spotify.com/v1/tracks/7zwn1eykZtZ5LODrf7c0tS",
         "analysis_url": "https://api.spotify.com/v1/audio-analysis/7zwn1eykZtZ5LODrf7c0tS",
         "duration_ms": 153000,
         "time_signature": 4,
         "artist_name": "The Neighbourhood",
         "artist_id": "77SW9BnxLY8rJ0RciFqkHh",
         "track_name": "You Get Me So High",
         "genre": "alt-rock",
         "_deepnote_index_column": 4
        }
       ]
      },
      "text/plain": "   danceability  energy  key  loudness  mode  speechiness  acousticness  \\\n0         0.612   0.807   10    -2.810     1       0.0336       0.04950   \n1         0.575   0.568    9    -5.509     0       0.0300       0.04840   \n2         0.588   0.521   10    -9.461     1       0.0329       0.06780   \n3         0.471   0.924    8    -3.906     1       0.0586       0.00301   \n4         0.551   0.881    7    -6.099     0       0.0542       0.18600   \n\n   instrumentalness  liveness  valence  ...                track_id  \\\n0          0.017700     0.101    0.398  ...  2QjOHCTQ1Jl3zawyYOpxh6   \n1          0.000417     0.286    0.370  ...  2K7xn816oNHJZ0aVqdQsha   \n2          0.149000     0.123    0.337  ...  5E30LdtzQTGqRvNd7l6kG5   \n3          0.000000     0.313    0.725  ...  2iUmqdfGZcHIhS3b9E9EWq   \n4          0.079100     0.152    0.387  ...  7zwn1eykZtZ5LODrf7c0tS   \n\n                                    uri  \\\n0  spotify:track:2QjOHCTQ1Jl3zawyYOpxh6   \n1  spotify:track:2K7xn816oNHJZ0aVqdQsha   \n2  spotify:track:5E30LdtzQTGqRvNd7l6kG5   \n3  spotify:track:2iUmqdfGZcHIhS3b9E9EWq   \n4  spotify:track:7zwn1eykZtZ5LODrf7c0tS   \n\n                                          track_href  \\\n0  https://api.spotify.com/v1/tracks/2QjOHCTQ1Jl3...   \n1  https://api.spotify.com/v1/tracks/2K7xn816oNHJ...   \n2  https://api.spotify.com/v1/tracks/5E30LdtzQTGq...   \n3  https://api.spotify.com/v1/tracks/2iUmqdfGZcHI...   \n4  https://api.spotify.com/v1/tracks/7zwn1eykZtZ5...   \n\n                                        analysis_url duration_ms  \\\n0  https://api.spotify.com/v1/audio-analysis/2QjO...      240400   \n1  https://api.spotify.com/v1/audio-analysis/2K7x...      206280   \n2  https://api.spotify.com/v1/audio-analysis/5E30...      260173   \n3  https://api.spotify.com/v1/audio-analysis/2iUm...      177280   \n4  https://api.spotify.com/v1/audio-analysis/7zwn...      153000   \n\n  time_signature        artist_name               artist_id  \\\n0              4  The Neighbourhood  77SW9BnxLY8rJ0RciFqkHh   \n1              4  The Neighbourhood  77SW9BnxLY8rJ0RciFqkHh   \n2              4  The Neighbourhood  77SW9BnxLY8rJ0RciFqkHh   \n3              4         Neon Trees  0RpddSzUHfncUWNJXKOsjy   \n4              4  The Neighbourhood  77SW9BnxLY8rJ0RciFqkHh   \n\n           track_name     genre  \n0     Sweater Weather  alt-rock  \n1            Softcore  alt-rock  \n2        Daddy Issues  alt-rock  \n3     Everybody Talks  alt-rock  \n4  You Get Me So High  alt-rock  \n\n[5 rows x 22 columns]",
      "text/html": "<div>\n<style scoped>\n    .dataframe tbody tr th:only-of-type {\n        vertical-align: middle;\n    }\n\n    .dataframe tbody tr th {\n        vertical-align: top;\n    }\n\n    .dataframe thead th {\n        text-align: right;\n    }\n</style>\n<table border=\"1\" class=\"dataframe\">\n  <thead>\n    <tr style=\"text-align: right;\">\n      <th></th>\n      <th>danceability</th>\n      <th>energy</th>\n      <th>key</th>\n      <th>loudness</th>\n      <th>mode</th>\n      <th>speechiness</th>\n      <th>acousticness</th>\n      <th>instrumentalness</th>\n      <th>liveness</th>\n      <th>valence</th>\n      <th>...</th>\n      <th>track_id</th>\n      <th>uri</th>\n      <th>track_href</th>\n      <th>analysis_url</th>\n      <th>duration_ms</th>\n      <th>time_signature</th>\n      <th>artist_name</th>\n      <th>artist_id</th>\n      <th>track_name</th>\n      <th>genre</th>\n    </tr>\n  </thead>\n  <tbody>\n    <tr>\n      <th>0</th>\n      <td>0.612</td>\n      <td>0.807</td>\n      <td>10</td>\n      <td>-2.810</td>\n      <td>1</td>\n      <td>0.0336</td>\n      <td>0.04950</td>\n      <td>0.017700</td>\n      <td>0.101</td>\n      <td>0.398</td>\n      <td>...</td>\n      <td>2QjOHCTQ1Jl3zawyYOpxh6</td>\n      <td>spotify:track:2QjOHCTQ1Jl3zawyYOpxh6</td>\n      <td>https://api.spotify.com/v1/tracks/2QjOHCTQ1Jl3...</td>\n      <td>https://api.spotify.com/v1/audio-analysis/2QjO...</td>\n      <td>240400</td>\n      <td>4</td>\n      <td>The Neighbourhood</td>\n      <td>77SW9BnxLY8rJ0RciFqkHh</td>\n      <td>Sweater Weather</td>\n      <td>alt-rock</td>\n    </tr>\n    <tr>\n      <th>1</th>\n      <td>0.575</td>\n      <td>0.568</td>\n      <td>9</td>\n      <td>-5.509</td>\n      <td>0</td>\n      <td>0.0300</td>\n      <td>0.04840</td>\n      <td>0.000417</td>\n      <td>0.286</td>\n      <td>0.370</td>\n      <td>...</td>\n      <td>2K7xn816oNHJZ0aVqdQsha</td>\n      <td>spotify:track:2K7xn816oNHJZ0aVqdQsha</td>\n      <td>https://api.spotify.com/v1/tracks/2K7xn816oNHJ...</td>\n      <td>https://api.spotify.com/v1/audio-analysis/2K7x...</td>\n      <td>206280</td>\n      <td>4</td>\n      <td>The Neighbourhood</td>\n      <td>77SW9BnxLY8rJ0RciFqkHh</td>\n      <td>Softcore</td>\n      <td>alt-rock</td>\n    </tr>\n    <tr>\n      <th>2</th>\n      <td>0.588</td>\n      <td>0.521</td>\n      <td>10</td>\n      <td>-9.461</td>\n      <td>1</td>\n      <td>0.0329</td>\n      <td>0.06780</td>\n      <td>0.149000</td>\n      <td>0.123</td>\n      <td>0.337</td>\n      <td>...</td>\n      <td>5E30LdtzQTGqRvNd7l6kG5</td>\n      <td>spotify:track:5E30LdtzQTGqRvNd7l6kG5</td>\n      <td>https://api.spotify.com/v1/tracks/5E30LdtzQTGq...</td>\n      <td>https://api.spotify.com/v1/audio-analysis/5E30...</td>\n      <td>260173</td>\n      <td>4</td>\n      <td>The Neighbourhood</td>\n      <td>77SW9BnxLY8rJ0RciFqkHh</td>\n      <td>Daddy Issues</td>\n      <td>alt-rock</td>\n    </tr>\n    <tr>\n      <th>3</th>\n      <td>0.471</td>\n      <td>0.924</td>\n      <td>8</td>\n      <td>-3.906</td>\n      <td>1</td>\n      <td>0.0586</td>\n      <td>0.00301</td>\n      <td>0.000000</td>\n      <td>0.313</td>\n      <td>0.725</td>\n      <td>...</td>\n      <td>2iUmqdfGZcHIhS3b9E9EWq</td>\n      <td>spotify:track:2iUmqdfGZcHIhS3b9E9EWq</td>\n      <td>https://api.spotify.com/v1/tracks/2iUmqdfGZcHI...</td>\n      <td>https://api.spotify.com/v1/audio-analysis/2iUm...</td>\n      <td>177280</td>\n      <td>4</td>\n      <td>Neon Trees</td>\n      <td>0RpddSzUHfncUWNJXKOsjy</td>\n      <td>Everybody Talks</td>\n      <td>alt-rock</td>\n    </tr>\n    <tr>\n      <th>4</th>\n      <td>0.551</td>\n      <td>0.881</td>\n      <td>7</td>\n      <td>-6.099</td>\n      <td>0</td>\n      <td>0.0542</td>\n      <td>0.18600</td>\n      <td>0.079100</td>\n      <td>0.152</td>\n      <td>0.387</td>\n      <td>...</td>\n      <td>7zwn1eykZtZ5LODrf7c0tS</td>\n      <td>spotify:track:7zwn1eykZtZ5LODrf7c0tS</td>\n      <td>https://api.spotify.com/v1/tracks/7zwn1eykZtZ5...</td>\n      <td>https://api.spotify.com/v1/audio-analysis/7zwn...</td>\n      <td>153000</td>\n      <td>4</td>\n      <td>The Neighbourhood</td>\n      <td>77SW9BnxLY8rJ0RciFqkHh</td>\n      <td>You Get Me So High</td>\n      <td>alt-rock</td>\n    </tr>\n  </tbody>\n</table>\n<p>5 rows × 22 columns</p>\n</div>"
     },
     "metadata": {}
    }
   ],
   "execution_count": null
  },
  {
   "cell_type": "markdown",
   "source": "### Add in lyric data from lyricgenius API",
   "metadata": {
    "cell_id": "5153259c172e4a5e9311c290bfc48c46",
    "tags": [],
    "deepnote_cell_type": "markdown",
    "deepnote_cell_height": 62
   }
  },
  {
   "cell_type": "code",
   "metadata": {
    "tags": [],
    "cell_id": "4bb7c21d-a895-4647-827e-735e1fabc9dc",
    "deepnote_to_be_reexecuted": false,
    "source_hash": "7116c864",
    "execution_start": 1652883071128,
    "execution_millis": 4018,
    "deepnote_cell_type": "code",
    "deepnote_cell_height": 333.875
   },
   "source": "# Import necessary libraries\n!pip install lyricsgenius\nimport lyricsgenius",
   "outputs": [
    {
     "name": "stdout",
     "text": "Requirement already satisfied: lyricsgenius in /root/venv/lib/python3.7/site-packages (3.0.1)\nRequirement already satisfied: requests>=2.20.0 in /shared-libs/python3.7/py/lib/python3.7/site-packages (from lyricsgenius) (2.27.1)\nRequirement already satisfied: beautifulsoup4>=4.6.0 in /root/venv/lib/python3.7/site-packages (from lyricsgenius) (4.11.1)\nRequirement already satisfied: urllib3<1.27,>=1.21.1 in /shared-libs/python3.7/py/lib/python3.7/site-packages (from requests>=2.20.0->lyricsgenius) (1.26.9)\nRequirement already satisfied: certifi>=2017.4.17 in /shared-libs/python3.7/py/lib/python3.7/site-packages (from requests>=2.20.0->lyricsgenius) (2021.10.8)\nRequirement already satisfied: charset-normalizer~=2.0.0; python_version >= \"3\" in /shared-libs/python3.7/py-core/lib/python3.7/site-packages (from requests>=2.20.0->lyricsgenius) (2.0.12)\nRequirement already satisfied: idna<4,>=2.5; python_version >= \"3\" in /shared-libs/python3.7/py-core/lib/python3.7/site-packages (from requests>=2.20.0->lyricsgenius) (3.3)\nRequirement already satisfied: soupsieve>1.2 in /root/venv/lib/python3.7/site-packages (from beautifulsoup4>=4.6.0->lyricsgenius) (2.3.2.post1)\n\u001b[33mWARNING: You are using pip version 20.1.1; however, version 22.1 is available.\nYou should consider upgrading via the '/root/venv/bin/python -m pip install --upgrade pip' command.\u001b[0m\n",
     "output_type": "stream"
    }
   ],
   "execution_count": null
  },
  {
   "cell_type": "code",
   "metadata": {
    "cell_id": "49e1c4f03c904dfab2b9f0cecaf11794",
    "tags": [],
    "deepnote_to_be_reexecuted": false,
    "source_hash": "62c5a5be",
    "execution_start": 1652883075157,
    "execution_millis": 2,
    "deepnote_cell_type": "code",
    "deepnote_cell_height": 171
   },
   "source": "# Gain access to the api\naccess_token = \"me-MXmuCTyJWDZ1MmERAAyivlY61EvPSD7KX2lBynV60vCOlEheYc6HVfPGlQ0ru\"\ngenius = lyricsgenius.Genius(access_token)\n\n# And we'll remove the section headers\ngenius.remove_section_headers = True",
   "outputs": [],
   "execution_count": null
  },
  {
   "cell_type": "code",
   "metadata": {
    "cell_id": "3a96cedbc8b6439eb9e89b6a6e5eb1ec",
    "tags": [],
    "deepnote_to_be_reexecuted": false,
    "source_hash": "573e7f7",
    "execution_start": 1652883075169,
    "execution_millis": 1,
    "deepnote_cell_type": "code",
    "deepnote_cell_height": 279
   },
   "source": "# Define a function that returns the lyrics of a particular song\ndef grab_lyric(row):\n\n    # Grab the lyrics\n    lyr = genius.search_song(row['track_name'], row['artist_name'])\n\n    try: \n        lyr = lyr.lyrics\n    except:\n        pass\n\n    return lyr",
   "outputs": [],
   "execution_count": null
  },
  {
   "cell_type": "code",
   "metadata": {
    "cell_id": "cbe4aa44c2c84108908179cb46d8bed8",
    "tags": [],
    "deepnote_to_be_reexecuted": false,
    "source_hash": "49a404bc",
    "execution_start": 1652883075177,
    "execution_millis": 6,
    "deepnote_cell_type": "code",
    "deepnote_cell_height": 99
   },
   "source": "# Split out the fields we need\nint_df = df[['track_id', 'artist_name', 'track_name']]",
   "outputs": [],
   "execution_count": null
  },
  {
   "cell_type": "code",
   "metadata": {
    "cell_id": "b7b5e632b6174fe7a48a79a8c85befe9",
    "tags": [],
    "deepnote_to_be_reexecuted": false,
    "source_hash": "ad6e1668",
    "execution_start": 1652883075192,
    "execution_millis": 5394153,
    "deepnote_cell_type": "code",
    "deepnote_cell_height": 998
   },
   "source": "# Split the dataset into groupings\nnum_groups = round(int_df.shape[0]/200, 0)\nsubDFs = np.array_split(int_df, num_groups)\n\n# Create final data frame that we'll concatenate to\nfinal = pd.DataFrame()\n\n# Loop over the groupings and pull the lyric data\nfor partition in tqdm(subDFs):\n    try:\n        partition['lyric_raw'] = partition.apply(grab_lyric, axis = 1)\n        final = final.append(partition)\n    except:\n        print('failure to load track lyrics')\n",
   "outputs": [
    {
     "name": "stderr",
     "text": "Searching for \"AM\" by Nio Garcia...\nDone.\nSearching for \"Pa Mí - Remix\" by Dalex...\nDone.\nSearching for \"Perfecta\" by Reik...\nDone.\nSearching for \"Los Tragos\" by Reik...\nDone.\nSearching for \"Otra vez (feat. J Balvin)\" by Zion & Lennox...\nDone.\nSearching for \"Si Tu Me Busca\" by Anuel AA...\nDone.\nSearching for \"Mi Niña\" by Wisin...\nDone.\nSearching for \"El Efecto\" by Rauw Alejandro...\nDone.\nSearching for \"La Nota\" by Manuel Turizo...\nDone.\nSearching for \"Dura\" by Daddy Yankee...\nDone.\nSearching for \"Fuiste Tú (feat. Gaby Moreno)\" by Ricardo Arjona...\nDone.\nSearching for \"Chambea\" by Bad Bunny...\nDone.\nSearching for \"Borro Cassette\" by Maluma...\nDone.\nSearching for \"Niña Bonita\" by Chino & Nacho...\nDone.\nSearching for \"China\" by Anuel AA...\nDone.\nSearching for \"Amanece\" by Anuel AA...\nDone.\nSearching for \"Ella Me Levanto\" by Daddy Yankee...\nDone.\nSearching for \"Te Boté\" by Darell...\nDone.\nSearching for \"Diosa\" by Myke Towers...\nDone.\nSearching for \"Quien TV Remix\" by Blessd...\nDone.\nSearching for \"Robarte un Beso\" by Carlos Vives...\nDone.\nSearching for \"Loca - Remix\" by KHEA...\nDone.\nSearching for \"UNA MÁS\" by Tainy...\nDone.\nSearching for \"Ley Seca\" by Jhay Cortez...\nDone.\nSearching for \"Verte Ir\" by DJ Luian...\nDone.\nSearching for \"Linda\" by Tokischa...\nDone.\nSearching for \"Te Espero\" by Prince Royce...\nDone.\nSearching for \"RLNDT\" by Bad Bunny...\nDone.\nSearching for \"MOJAITA\" by J Balvin...\nDone.\nSearching for \"La Modelo\" by Ozuna...\nDone.\nSearching for \"ULTRA SOLO\" by Polimá Westcoast...\nDone.\nSearching for \"La Tortura (feat. Alejandro Sanz)\" by Shakira...\nDone.\nSearching for \"Me Acostumbre (feat. Bad Bunny)\" by Arcangel...\nDone.\nSearching for \"Te Robaré\" by Nicky Jam...\nDone.\nSearching for \"Ya Me Enteré\" by Reik...\nDone.\nSearching for \"Reggaetón Lento (Bailemos)\" by CNCO...\nDone.\nSearching for \"Yo No Sé Mañana\" by Luis Enrique...\nDone.\nSearching for \"Tú\" by maye...\nDone.\nSearching for \"I Know You Want Me (Calle Ocho)\" by Pitbull...\nDone.\nSearching for \"Agua (with J Balvin)\" by Tainy...\nDone.\nSearching for \"TRELLAS\" by Bad Bunny...\nDone.\nSearching for \"La Camisa Negra\" by Juanes...\nDone.\nSearching for \"Mis Ojos Lloran Por Ti\" by Big Boy...\nDone.\nSearching for \"La Ocasión\" by DJ Luian...\nDone.\nSearching for \"Ay Vamos\" by J Balvin...\nDone.\nSearching for \"Andas En Mi Cabeza\" by Chino & Nacho...\nDone.\nSearching for \"Otra Noche Sin Ti\" by J Balvin...\nDone.\nSearching for \"Canción Bonita\" by Carlos Vives...\nDone.\nSearching for \"Medusa\" by Jhay Cortez...\nDone.\nSearching for \"La Bicicleta\" by Carlos Vives...\nDone.\nSearching for \"Despacito - Remix\" by Luis Fonsi...\nDone.\nSearching for \"Suave (Remix)\" by El Alfa...\nDone.\nSearching for \"Otro Trago\" by Sech...\nDone.\nSearching for \"M&M (with Future feat. Lil Baby)\" by Rvssian...\nDone.\nSearching for \"Si Me Dices Que Sí\" by Reik...\nDone.\nSearching for \"Noche De Sexo\" by Wisin & Yandel...\nDone.\nSearching for \"Algo Me Gusta De Ti\" by Wisin & Yandel...\nDone.\nSearching for \"Asesina - Remix\" by Brytiago...\nDone.\nSearching for \"Sin Pijama\" by Becky G...\nDone.\nSearching for \"Corazón (feat. Nego do Borel)\" by Maluma...\nDone.\nSearching for \"Bandoleros\" by Don Omar...\nDone.\nSearching for \"Flor Pálida\" by Marc Anthony...\nDone.\nSearching for \"Te Vi\" by Piso 21...\nDone.\nSearching for \"Muévelo\" by Nicky Jam...\nDone.\nSearching for \"In Da Getto\" by J Balvin...\nDone.\nSearching for \"Tu No Metes Cabra\" by Bad Bunny...\nDone.\nSearching for \"Darte Remix\" by Alex Rose...\nDone.\nSearching for \"Tenemos Que Hablar\" by Bad Bunny...\nDone.\nSearching for \"Amigos Con Derechos\" by Reik...\nDone.\nSearching for \"badtrip :(\" by Mora...\nDone.\nSearching for \"Down\" by R.K.M & Ken-Y...\nDone.\nSearching for \"Baila Baila Baila\" by Ozuna...\nDone.\nSearching for \"Tú de Qué Vas\" by Franco De Vita...\nDone.\nSearching for \"Explícale (feat. Bad Bunny)\" by Yandel...\nDone.\nSearching for \"Sensacion Del Bloque\" by De La Ghetto...\nDone.\nSearching for \"Hecha Pa' Mi\" by Boza...\nDone.\nSearching for \"Passion Whine\" by Farruko...\nDone.\nSearching for \"Quiere Beber\" by Anuel AA...\nDone.\nSearching for \"100 MILLONES\" by Bad Bunny...\nDone.\nSearching for \"Vente Pa' Ca (feat. Maluma)\" by Ricky Martin...\nDone.\nSearching for \"La Diabla\" by Romeo Santos...\nDone.\nSearching for \"Mientes\" by Camila...\nDone.\nSearching for \"Mexican Radio\" by South Park Mexican...\nDone.\nSearching for \"¿Cual Es Tu Plan?\" by Bad Bunny...\nDone.\nSearching for \"El Amor Que Perdimos\" by Prince Royce...\nDone.\nSearching for \"Si Quieren Frontear\" by Duki...\nDone.\nSearching for \"Abrázame Muy Fuerte\" by Juan Gabriel...\nDone.\nSearching for \"Mi Amigo el de Arriba\" by Los Inquietos Del Norte...\nDone.\nSearching for \"Desnudarte\" by Brytiago...\nDone.\nSearching for \"El Incomprendido\" by Farruko...\nDone.\nSearching for \"Cancioncitas de Amor\" by Romeo Santos...\nDone.\nSearching for \"Tu No Metes Cabra - Remix\" by Bad Bunny...\nDone.\nSearching for \"Hero\" by Enrique Iglesias...\nDone.\nSearching for \"Me Fije\" by Alex Rose...\nDone.\nSearching for \"Carita de Inocente (feat. Myke Towers) - Remix\" by Prince Royce...\nDone.\nSearching for \"Mcgregor\" by Anuel AA...\nDone.\nSearching for \"Ginza\" by J Balvin...\nDone.\nSearching for \"Monastery\" by Ryan Castro...\nDone.\nSearching for \"Bendecido\" by El Alfa...\n 94%|█████████▍| 33/35 [1:23:56<06:11, 185.82s/it]Done.\nSearching for \"Forever My Love\" by J Balvin...\nDone.\nSearching for \"Elegí (feat. Dímelo Flow)\" by Rauw Alejandro...\nDone.\nSearching for \"Guaya Guaya\" by Don Omar...\nDone.\nSearching for \"Llévame Contigo\" by Romeo Santos...\nDone.\nSearching for \"Te Boté - Remix\" by Nio Garcia...\nDone.\nSearching for \"Tu Falta De Querer\" by Mon Laferte...\nDone.\nSearching for \"No Te Veo - Digital Single\" by Casa De Leones...\nNo results found for: 'No Te Veo - Digital Single Casa De Leones'\nSearching for \"Dos Locos\" by Monchy & Alexandra...\nDone.\nSearching for \"Relación\" by Sech...\nDone.\nSearching for \"Suavemente\" by Elvis Crespo...\nDone.\nSearching for \"El Ultimo Adiós - Varios Artistas Version\" by Ricky Martin...\nNo results found for: 'El Ultimo Adiós - Varios Artistas Version Ricky Martin'\nSearching for \"Dile (Homenaje)\" by Jhay Cortez...\nDone.\nSearching for \"Madrid (feat. Myke Towers)\" by Maluma...\nDone.\nSearching for \"Puesto Pa' Guerrial\" by Bad Bunny...\nDone.\nSearching for \"Pineapple\" by KAROL G...\nDone.\nSearching for \"MÁS DE UNA CITA\" by Bad Bunny...\nDone.\nSearching for \"Mi Gente (feat. Beyoncé)\" by J Balvin...\nDone.\nSearching for \"¿Quien Tu Eres?\" by Bad Bunny...\nDone.\nSearching for \"Ahora Es\" by Wisin & Yandel...\nDone.\nSearching for \"Adictiva\" by Daddy Yankee...\nDone.\nSearching for \"G Wagon\" by Ozuna...\nDone.\nSearching for \"LEYENDAS\" by KAROL G...\nDone.\nSearching for \"Tacones Rojos\" by Sebastian Yatra...\nDone.\nSearching for \"La Cartera\" by Farruko...\nDone.\nSearching for \"Pretty Girl\" by NB Ridaz...\nDone.\nSearching for \"Ram Pam Pam\" by Natti Natasha...\nDone.\nSearching for \"A Dios Le Pido\" by Juanes...\nDone.\nSearching for \"Diabla - Official Remix\" by Carbon Fiber Music...\nDone.\nSearching for \"Una Vaina Loca\" by Fuego...\nDone.\nSearching for \"Safari\" by J Balvin...\nDone.\nSearching for \"Pobre Diabla\" by Don Omar...\nDone.\nSearching for \"Poco\" by Reik...\nDone.\nSearching for \"Por un Segundo\" by Aventura...\nDone.\nSearching for \"Follow\" by KAROL G...\nDone.\nSearching for \"Tu Amor Me Hace Bien - Salsa Version\" by Marc Anthony...\nDone.\nSearching for \"Te Lloré Un Río\" by Maná...\nDone.\nSearching for \"El Amante\" by Nicky Jam...\nDone.\nSearching for \"No Me Ame\" by Rvssian...\nDone.\nSearching for \"ESCALOFRÍOS\" by Mora...\nDone.\nSearching for \"DJ No Pare (feat. Zion, Dalex, Lenny Tavárez) - Remix\" by Justin Quiles...\nDone.\nSearching for \"Parce (feat. Justin Quiles)\" by Maluma...\nDone.\nSearching for \"Yo Quisiera\" by Reik...\nDone.\nSearching for \"Sálvame\" by RBD...\nDone.\nSearching for \"Burbujas de Cristal\" by Cartel De Santa...\nDone.\nSearching for \"Pa' Olvidarme De Ella\" by Piso 21...\nDone.\nSearching for \"Dutty Love\" by Don Omar...\nDone.\nSearching for \"Tonight (I'm Fuckin' You)\" by Enrique Iglesias...\nDone.\nSearching for \"Colorín Colorado\" by Justin Quiles...\nDone.\nSearching for \"MOOD - Remix\" by Omy de Oro...\nDone.\nSearching for \"TU AMIGO\" by Mora...\nDone.\nSearching for \"Conexión\" by Foreign Teck...\nDone.\nSearching for \"Te Olvido\" by Manuel Turizo...\nDone.\nSearching for \"Sin Pijama\" by Becky G...\nDone.\nSearching for \"Summer Nights\" by Lil Rob...\nDone.\nSearching for \"CAMPEÓN\" by Daddy Yankee...\nDone.\nSearching for \"NO SE OLVIDA\" by Wisin & Yandel...\nDone.\nSearching for \"23 (With Ape Drums)\" by Randy...\nDone.\nSearching for \"Pepas - Tiësto Remix\" by Farruko...\nDone.\nSearching for \"Báilame - Remix\" by Nacho...\nDone.\nSearching for \"El verdadero amor perdona - dueto con Prince Royce\" by Maná...\nNo results found for: 'El verdadero amor perdona - dueto con Prince Royce Maná'\nSearching for \"Yo También (feat. Marc Anthony)\" by Romeo Santos...\nDone.\nSearching for \"Soy Peor - Remix\" by Bad Bunny...\nDone.\nSearching for \"Mi Santa (feat. Tomatito)\" by Romeo Santos...\nDone.\nSearching for \"Mi Eterno Amor Secreto\" by Marco Antonio Solís...\nDone.\nSearching for \"¡Corre!\" by Jesse & Joy...\nDone.\nSearching for \"Si Tu Lo Dejas\" by Rvssian...\nDone.\nSearching for \"Promiscuous\" by Nelly Furtado...\nDone.\nSearching for \"Créeme\" by KAROL G...\nDone.\nSearching for \"Dale Don Dale\" by Don Omar...\nDone.\nSearching for \"Si Tú La Ves (feat. Wisin)\" by Nicky Jam...\nDone.\nSearching for \"Noche de Travesura\" by Héctor \"El Father\"...\nDone.\nSearching for \"Pensándote\" by Rauw Alejandro...\nDone.\nSearching for \"Que Tire Pa Lante\" by Daddy Yankee...\nDone.\nSearching for \"TODO O NADA\" by Lunay...\nDone.\nSearching for \"PECADO\" by Mora...\nDone.\nSearching for \"Tacones Rojos - With John Legend\" by Sebastian Yatra...\nDone.\nSearching for \"Ibiza\" by Ozuna...\nDone.\nSearching for \"Incondicional\" by Prince Royce...\nDone.\nSearching for \"Eazt\" by Jay Wheeler...\nDone.\nSearching for \"Sexy Movimiento\" by Wisin & Yandel...\nDone.\nSearching for \"Estamos Arriba\" by Bad Bunny...\nDone.\nSearching for \"Grandes Ligas\" by Lupillo Rivera...\nDone.\nSearching for \"La Botella\" by Mach & Daddy...\nDone.\nSearching for \"I'm Like A Bird\" by Nelly Furtado...\nDone.\nSearching for \"UNO QUITAO Y OTRO PUESTO\" by Daddy Yankee...\nDone.\nSearching for \"Virtual Diva\" by Don Omar...\nDone.\nSearching for \"Only The Team (with Lil Mosey & Lil Tjay)\" by Rvssian...\nDone.\nSearching for \"Eladio Carrion: Bzrp Music Sessions, Vol. 40\" by Bizarrap...\nDone.\nSearching for \"Dile a El\" by Rauw Alejandro...\nDone.\nSearching for \"Inmortal\" by Aventura...\nDone.\nSearching for \"Culpables\" by KAROL G...\nDone.\nSearching for \"Ser Bichote\" by Bad Bunny...\nDone.\nSearching for \"La Cama - Remix\" by Lunay...\nDone.\nSearching for \"Buzzed\" by ¿Téo?...\nDone.\nSearching for \"La Despedida\" by Daddy Yankee...\nDone.\nSearching for \"Loco\" by Enrique Iglesias...\nDone.\nSearching for \"Hola - Remix\" by Dalex...\nDone.\nSearching for \"Nadie\" by Miky Woodz...\nDone.\nSearching for \"Amor del Bueno\" by Reyli Barba...\nNo results found for: 'Amor del Bueno Reyli Barba'\nSearching for \"Síguelo Bailando\" by Ozuna...\nDone.\nSearching for \"Pasarela\" by Ñejo & Dalmata...\nDone.\nSearching for \"Dame Algo\" by Wisin & Yandel...\nDone.\nSearching for \"Cosa Guapa\" by Rauw Alejandro...\nDone.\nSearching for \"FRIKI\" by Feid...\nDone.\nSearching for \"Don't Stop the Party (feat. TJR)\" by Pitbull...\nDone.\nSearching for \"Chillax (feat. Ky-Mani Marley)\" by Farruko...\nDone.\nSearching for \"Easy\" by DaniLeigh...\nDone.\nSearching for \"Mi Cama Huele a Ti (feat. Zion & Lennox)\" by Tito \"El Bambino\"...\nDone.\nSearching for \"Can't Stop Us Now\" by Pitbull...\nDone.\nSearching for \"NO MIENTEN\" by Becky G...\nDone.\nSearching for \"Me Gustas Tu\" by Manu Chao...\nDone.\nSearching for \"No Se Va\" by Morat...\nDone.\nSearching for \"El Perdedor\" by Enrique Iglesias...\nDone.\nSearching for \"El Sol No Regresa\" by La Quinta Estacion...\nDone.\nSearching for \"Fantasias - Remix\" by Rauw Alejandro...\nDone.\nSearching for \"El Ciclo Sin Fin\" by Alejandro Fernández...\nDone.\nSearching for \"Llamado de Emergencia\" by Daddy Yankee...\nDone.\nSearching for \"Tattoo - Remix with Camilo\" by Rauw Alejandro...\nDone.\nSearching for \"La Vida Es Un Carnaval\" by Celia Cruz...\nDone.\nSearching for \"Por Mujeres Como Tú\" by Pepe Aguilar...\nDone.\nSearching for \"Perdiendo El Control\" by De La Ghetto...\nDone.\nSearching for \"GUCCI FENDI\" by Justin Quiles...\nDone.\nSearching for \"Bendita Tu Luz\" by Maná...\nDone.\nSearching for \"Mariposa Traicionera\" by Maná...\nDone.\nSearching for \"La Tóxica\" by Farruko...\nDone.\nSearching for \"Yo Quiero\" by Nio Garcia...\nDone.\nSearching for \"FCK U X2\" by Rauw Alejandro...\nDone.\nSearching for \"PLAYA PRIVADA\" by Mora...\nDone.\nSearching for \"Amtrak\" by Los Retros...\nDone.\nSearching for \"Aunque No Sea Conmigo\" by Aitana...\nDone.\nSearching for \"Más De Lo Que Aposté\" by Aitana...\nDone.\nSearching for \"TELÉFONO\" by Aitana...\nDone.\nSearching for \"Me Quedo\" by Aitana...\nDone.\nSearching for \"Weak for Your Love\" by Thee Sacred Souls...\nDone.\nSearching for \"Caraluna\" by Bacilos...\nDone.\nSearching for \"Contigo Siempre\" by Alejandro Fernández...\nDone.\nSearching for \"Que Mas Pues - Remix\" by Sech...\nDone.\nSearching for \"Sigues Con El\" by Arcangel...\nDone.\nSearching for \"Me Hace Tanto Bien\" by Alejandro Fernández...\nDone.\nSearching for \"Estuve\" by Alejandro Fernández...\nDone.\nSearching for \"EL ABUSADOR DEL ABUSADOR\" by Daddy Yankee...\nDone.\nSearching for \"Pareja Del Año\" by Sebastian Yatra...\nDone.\nSearching for \"Nube Viajera - En Vivo Desde El Teatro Real\" by Alejandro Fernández...\nDone.\nSearching for \"El Amante (feat. Ozuna & Bad Bunny) - Remix\" by Nicky Jam...\nDone.\nSearching for \"Ram Pam Pam\" by Natti Natasha...\nDone.\nSearching for \"El Efecto - Remix\" by Rauw Alejandro...\nDone.\nSearching for \"Desenfocao'\" by Rauw Alejandro...\nDone.\nSearching for \"Ella No Es Tuya - Remix\" by Rochy RD...\nDone.\nSearching for \"Te Mando Flores\" by Fonseca...\nDone.\nSearching for \"Abusadora\" by Wisin & Yandel...\nDone.\nSearching for \"El Problema\" by Ricardo Arjona...\nDone.\nSearching for \"LINDOR\" by Mora...\nDone.\nSearching for \"Reggaeton\" by J Balvin...\nDone.\nSearching for \"Mírame - Remix\" by Nio Garcia...\nDone.\nSearching for \"Carita de Inocente\" by Prince Royce...\nDone.\nSearching for \"Try Everything - From \"Zootropolis\"\" by Shakira...\nNo results found for: 'Try Everything - From \"Zootropolis\" Shakira'\nSearching for \"Baloncito Viejo\" by Carlos Vives...\nDone.\nSearching for \"Acércate\" by TINI...\nDone.\nSearching for \"Flores\" by TINI...\nDone.\nSearching for \"Un Beso en Madrid\" by TINI...\nDone.\nSearching for \"Un Beso en Madrid\" by TINI...\nDone.\nSearching for \"Si Te Vienen a Contar\" by Cartel De Santa...\nDone.\nSearching for \"Like That\" by TINI...\nDone.\nSearching for \"Consejo de Amor\" by TINI...\nDone.\nSearching for \"Se Acabó la Cuarentena\" by Jowell & Randy...\nDone.\nSearching for \"Celoso\" by Lele Pons...\nDone.\nSearching for \"SOLA ES MEJOR\" by KAROL G...\nDone.\nSearching for \"Aventura\" by Lunay...\nDone.\nSearching for \"Yo Perreo Sola - Remix\" by Bad Bunny...\nDone.\nSearching for \"Singapur\" by El Alfa...\nDone.\nSearching for \"Nada de Nada\" by Marc Anthony...\nDone.\nSearching for \"Estoy Enamorado\" by Wisin & Yandel...\nDone.\nSearching for \"Hilito\" by Romeo Santos...\nDone.\nSearching for \"You\" by Romeo Santos...\nDone.\nSearching for \"Tú No Eres Para Mi\" by Fanny Lu...\nDone.\nSearching for \"Amarillo\" by J Balvin...\nDone.\nSearching for \"Noviembre Sin Ti\" by Reik...\nDone.\nSearching for \"Sanguinarios Del M1\" by Los Buitres De Culiacan Sinaloa...\nDone.\nSearching for \"Wasa Wasa\" by Ryan Castro...\nDone.\nSearching for \"Bandido\" by Ana Bárbara...\nDone.\nSearching for \"Dos Locos\" by Monchy & Alexandra...\nDone.\nSearching for \"Mayores\" by Becky G...\nDone.\nSearching for \"Tiago PZK: Bzrp Music Sessions, Vol. 48\" by Bizarrap...\nDone.\nSearching for \"CUIDAO POR AHÍ\" by J Balvin...\nDone.\nSearching for \"Está Rico\" by Marc Anthony...\nDone.\nSearching for \"GATO MALO\" by KAROL G...\nDone.\nSearching for \"Loquita\" by Reik...\nDone.\nSearching for \"Bésame\" by Luis Fonsi...\nDone.\nSearching for \"OJOS COLORAU\" by Mora...\nDone.\nSearching for \"LA OLA\" by Daddy Yankee...\nDone.\nSearching for \"Despacito\" by Luis Fonsi...\nDone.\nSearching for \"ROBERT DE NIRO\" by Mora...\nDone.\nSearching for \"No Me Doy Por Vencido\" by Luis Fonsi...\nDone.\nSearching for \"Despacito\" by Luis Fonsi...\nDone.\nSearching for \"Nuestra Balada\" by Luis Fonsi...\nDone.\nSearching for \"Girasoles\" by Luis Fonsi...\nDone.\nSearching for \"Despacito\" by Luis Fonsi...\nDone.\nSearching for \"Sola\" by Luis Fonsi...\nDone.\nSearching for \"Hooka\" by Don Omar...\nDone.\nSearching for \"PROBLEMA\" by Daddy Yankee...\n 97%|█████████▋| 34/35 [1:26:58<03:04, 184.53s/it]Done.\nSearching for \"Jangueo\" by Alex Rose...\nDone.\nSearching for \"Sigues Con El - Remix\" by Arcangel...\nDone.\nSearching for \"Bloody War\" by South Park Mexican...\nDone.\nSearching for \"Glizzy Walk 2.5\" by YOVNGCHIMI...\nDone.\nSearching for \"Amantes de una Noche\" by Natti Natasha...\nDone.\nSearching for \"Cuaderno\" by Dalex...\nDone.\nSearching for \"La player (Bandolera)\" by Zion & Lennox...\nDone.\nSearching for \"Explícito\" by Myke Towers...\nDone.\nSearching for \"MALA SANTA\" by Becky G...\nDone.\nSearching for \"3 Am\" by Eladio Carrion...\nDone.\nSearching for \"Desconocidos\" by Mau y Ricky...\nDone.\nSearching for \"El Doctorado\" by Tony Dize...\nDone.\nSearching for \"Hola Como Vas\" by Eladio Carrion...\nDone.\nSearching for \"La Nota\" by Manuel Turizo...\nDone.\nSearching for \"0 Sentimientos (Remix) [feat. Noriel, Darkiel, Lyan, Messiah & Baby Rasta]\" by Jon Z...\nDone.\nSearching for \"Un Ratito Mas\" by Bryant Myers...\nDone.\nSearching for \"Krippy Kush\" by Farruko...\nDone.\nSearching for \"Si Supieras\" by Daddy Yankee...\nDone.\nSearching for \"Ahora Dice - Real Hasta La Muerte Remix\" by Chris Jedi...\nDone.\nSearching for \"Tan Bonita\" by Piso 21...\nDone.\nSearching for \"Mal Acostumbrao\" by Mau y Ricky...\nDone.\nSearching for \"Color Esperanza 2020\" by Diego Torres...\nDone.\nSearching for \"VACAXIONES\" by Feid...\nDone.\nSearching for \"Traicionera\" by Sebastian Yatra...\nDone.\nSearching for \"Culo\" by Pitbull...\nDone.\nSearching for \"SI TÚ SUPIERAS - Bonus Track\" by Feid...\nDone.\nSearching for \"Chance\" by Paulo Londra...\nDone.\nSearching for \"El Taxi\" by Pitbull...\nDone.\nSearching for \"La Boda\" by Aventura...\nDone.\nSearching for \"Leve\" by Cartel De Santa...\nDone.\nSearching for \"La Jeepeta - Remix\" by Nio Garcia...\nDone.\nSearching for \"Bella\" by Wolfine...\nDone.\nSearching for \"Caramelo\" by Ozuna...\nDone.\nSearching for \"Échame La Culpa\" by Luis Fonsi...\nDone.\nSearching for \"PAM\" by Justin Quiles...\nDone.\nSearching for \"6 AM\" by J Balvin...\nDone.\nSearching for \"RONCA FREESTYLE\" by Bad Bunny...\nDone.\nSearching for \"Mi Verdad (feat. Shakira)\" by Maná...\nDone.\nSearching for \"Unica\" by Ozuna...\nDone.\nSearching for \"Me llamas (feat. Maluma) - Remix\" by Piso 21...\nDone.\nSearching for \"Dictadura\" by Anuel AA...\nDone.\nSearching for \"Pa' Olvidarme De Ella\" by Piso 21...\nDone.\nSearching for \"Creo en Ti\" by Reik...\nDone.\nSearching for \"Perreo Pesau'\" by Rauw Alejandro...\nDone.\nSearching for \"Brisa\" by Zion & Lennox...\nDone.\nSearching for \"SI ELLA SALE\" by Bad Bunny...\nDone.\nSearching for \"Hasta Abajo\" by Kevin Roldan...\nDone.\nSearching for \"La Asesina\" by Zacarias Ferreira...\nDone.\nSearching for \"Me Gusta\" by Shakira...\nDone.\nSearching for \"Dueles\" by Jesse & Joy...\nDone.\nSearching for \"Kemba Walker\" by Eladio Carrion...\nDone.\nSearching for \"Señor Juez\" by Ozuna...\nDone.\nSearching for \"Un Nuevo Amor\" by Matisse...\nDone.\nSearching for \"Ponle\" by Rvssian...\nDone.\nSearching for \"WUEPA\" by Rauw Alejandro...\nDone.\nSearching for \"Pa' Que La Pases Bien\" by Arcangel...\nDone.\nSearching for \"Quizas\" by Rich Music LTD...\nDone.\nSearching for \"Suga Suga\" by Baby Bash...\nDone.\nSearching for \"Deja vu\" by Prince Royce...\nDone.\nSearching for \"No Me Dejes Solo\" by Daddy Yankee...\nDone.\nSearching for \"Me Enamoré\" by Jay Wheeler...\nDone.\nSearching for \"Debate De 4\" by Romeo Santos...\nDone.\nSearching for \"Yo Seguiré\" by Toser One...\nDone.\nSearching for \"Hace Mucho Tiempo\" by Arcangel...\nDone.\nSearching for \"La Vaca\" by Mala Fe...\nDone.\nSearching for \"No Te Deseo el Mal\" by Eladio Carrion...\nDone.\nSearching for \"Hay Algo en Ti\" by Luny Tunes...\nDone.\nSearching for \"Chica Ideal\" by Sebastian Yatra...\nDone.\nSearching for \"Narcos\" by Anuel AA...\nDone.\nSearching for \"Bombos y Tarolas\" by Cartel De Santa...\nDone.\nSearching for \"El Perdedor\" by Maluma...\nDone.\nSearching for \"PSL\" by Sech...\nDone.\nSearching for \"La Playa - Remix\" by Myke Towers...\nDone.\nSearching for \"Bachata En Fukuoka\" by Juan Luis Guerra 4.40...\nDone.\nSearching for \"PAPI (feat. Babywine & Alberto Stylee)\" by DJ Nelson...\nNo results found for: 'PAPI (feat. Babywine & Alberto Stylee) DJ Nelson'\nSearching for \"Fan de Tus Fotos\" by Nicky Jam...\nDone.\nSearching for \"A Mí\" by Rels B...\nDone.\nSearching for \"SUBEME LA RADIO (feat. Descemer Bueno & Zion & Lennox)\" by Enrique Iglesias...\nDone.\nSearching for \"Igual Que Ayer\" by R.K.M & Ken-Y...\nDone.\nSearching for \"Encantadora\" by Yandel...\nDone.\nSearching for \"El Baleado\" by Larry Hernández...\nDone.\nSearching for \"Nada\" by Cazzu...\nDone.\nSearching for \"Despeinada\" by Ozuna...\nDone.\nSearching for \"Say It Right - Sped Up Remix\" by Nelly Furtado...\nSpecified song does not contain lyrics. Rejecting.\nSearching for \"Te Lloré Un Río - Versión Mariacheño\" by Maná...\nDone.\nSearching for \"ENCHULETIAO\" by Daddy Yankee...\nDone.\nSearching for \"PORFA Remix ( Feat. Maluma, Nicky Jam, Sech) - Remix\" by Feid...\nDone.\nSearching for \"23 Preguntas\" by Anuel AA...\nDone.\nSearching for \"¿A Dónde Vamos A Parar?\" by Marco Antonio Solís...\nDone.\nSearching for \"ORO ROSADO\" by Mora...\nDone.\nSearching for \"Labios Compartidos\" by Maná...\nDone.\nSearching for \"Me Niegas\" by Baby Rasta & Gringo...\nDone.\nSearching for \"Ojitos Chiquitos\" by Don Omar...\nDone.\nSearching for \"Tuyo\" by Mora...\nDone.\nSearching for \"Los Lugares\" by Alejandro Sanz...\nDone.\nSearching for \"Mi Persona Favorita\" by Alejandro Sanz...\nDone.\nSearching for \"Vacaciones\" by Luis Fonsi...\nDone.\nSearching for \"Bajo El Mar\" by Alejandro Sanz...\nDone.\nSearching for \"I Feel Good\" by Pitbull...\nDone.\nSearching for \"EL REY DE LO IMPERFECTO\" by Daddy Yankee...\nDone.\nSearching for \"Mares De Miel\" by Alejandro Sanz...\nDone.\nSearching for \"¿Qué Tengo Que Hacer?\" by Daddy Yankee...\nDone.\nSearching for \"MÍRENME AHORA\" by Myke Towers...\nDone.\nSearching for \"Lo Sabe Dios\" by KAROL G...\nDone.\nSearching for \"Our Song\" by Aventura...\nDone.\nSearching for \"Mocca\" by Lalo Ebratt...\nDone.\nSearching for \"Canalla\" by Romeo Santos...\nDone.\nSearching for \"Vaina Loca - Remix\" by Pipe Calderón...\nDone.\nSearching for \"Nena Maldición (feat. Lenny Tavárez)\" by Paulo Londra...\nDone.\nSearching for \"Tu Me Enamoraste - Remix\" by Lary Over...\nDone.\nSearching for \"Loca (feat. El Cata)\" by Shakira...\nDone.\nSearching for \"Creo En Ti\" by Julio Melgar...\nDone.\nSearching for \"Sólo Quédate En Silencio\" by RBD...\nDone.\nSearching for \"Su Veneno\" by Aventura...\nDone.\nSearching for \"Taboo\" by Don Omar...\nDone.\nSearching for \"MIA\" by Bad Bunny...\nDone.\nSearching for \"Ahora Me Llama - Remix\" by KAROL G...\nDone.\nSearching for \"Esta Dejá\" by Jhay Cortez...\nDone.\nSearching for \"Castigo\" by Feid...\nDone.\nSearching for \"Mi Cama - Remix\" by KAROL G...\nDone.\nSearching for \"Rain Over Me (feat. Marc Anthony)\" by Pitbull...\nDone.\nSearching for \"No Es Justo\" by J Balvin...\nDone.\nSearching for \"Amor Clandestino\" by Maná...\nDone.\nSearching for \"Pam Pam\" by Wisin & Yandel...\nDone.\nSearching for \"La Mordidita (feat. Yotuel)\" by Ricky Martin...\nDone.\nSearching for \"La trampa es ley\" by LIT killah...\nDone.\nSearching for \"UN DIA (ONE DAY)\" by J Balvin...\nDone.\nSearching for \"Al Natural (feat. Yandel)\" by Tego Calderon...\nDone.\nSearching for \"Déjala Que Vuelva (feat. Manuel Turizo)\" by Piso 21...\nDone.\nSearching for \"La trampa es ley\" by LIT killah...\nDone.\nSearching for \"Culón Culito\" by Cartel De Santa...\nDone.\nSearching for \"Si Te Veo\" by Arcangel...\nDone.\nSearching for \"Saturno\" by Pablo Alborán...\nDone.\nSearching for \"Will I See You Again?\" by Thee Sacred Souls...\nDone.\nSearching for \"Pose\" by Daddy Yankee...\nDone.\nSearching for \"Mala Mía\" by Maluma...\nDone.\nSearching for \"Caiga Quien Caiga\" by Los Inquietos Del Norte...\nDone.\nSearching for \"Ay, DiOs Mío!\" by KAROL G...\nDone.\nSearching for \"QSY\" by Mora...\nNo results found for: 'QSY Mora'\nSearching for \"Desnudarte\" by Brytiago...\nDone.\nSearching for \"No Me Doy Por Vencido\" by Luis Fonsi...\nDone.\nSearching for \"Tu Carcel - En Vivo Desde Tijuana, Mexico/2004\" by Los Enanitos Verdes...\nDone.\nSearching for \"Baby, I'm Back\" by Baby Bash...\nDone.\nSearching for \"Besos En Guerra\" by Morat...\nDone.\nSearching for \"Dices Que Te Vas\" by KAROL G...\nDone.\nSearching for \"Nota de Amor (feat. Daddy Yankee)\" by Wisin...\nDone.\nSearching for \"Rabiosa (feat. Pitbull)\" by Shakira...\nDone.\nSearching for \"Tal Vez\" by Paulo Londra...\nDone.\nSearching for \"Solo\" by Amenazzy...\nDone.\nSearching for \"Lloras - Remix\" by Cauty...\nDone.\nSearching for \"Sicaria\" by Brytiago...\nDone.\nSearching for \"Perro Fiel (feat. Nicky Jam)\" by Shakira...\nDone.\nSearching for \"3G (feat. Jon Z, Don Chezina, Chencho Corleone & Myke Towers) - Remix\" by Wisin...\nDone.\nSearching for \"Parecen Viernes\" by Marc Anthony...\nDone.\nSearching for \"M&M\" by Rvssian...\nDone.\nSearching for \"I Know You Want Me (Calle Ocho)\" by Pitbull...\nDone.\nSearching for \"¿A Dónde Vamos A Parar?\" by Marco Antonio Solís...\nDone.\nSearching for \"Inolvidable\" by Reik...\nDone.\nSearching for \"Can I Call You Rose?\" by Thee Sacred Souls...\nDone.\nSearching for \"Quiéreme Mientras Se Pueda\" by Manuel Turizo...\nDone.\nSearching for \"Darte\" by Alex Rose...\nDone.\nSearching for \"No Querías Lastimarme\" by Gloria Trevi...\nDone.\nSearching for \"Ella\" by Boza...\nDone.\nSearching for \"Loba\" by Shakira...\nDone.\nSearching for \"Detente\" by Mike Bahía...\nDone.\nSearching for \"Tú Me Gustas\" by Río Roma...\nDone.\nSearching for \"BLOKE\" by Daddy Yankee...\nDone.\nSearching for \"Rebota\" by Guaynaa...\nDone.\nSearching for \"Llegaste Tú\" by Luis Fonsi...\nDone.\nSearching for \"DPM (De Pxta Madre)\" by Kany García...\nDone.\nSearching for \"Cuatro Babys (feat. Trap Capos, Noriel, Bryant Myers & Juhn)\" by Maluma...\nDone.\nSearching for \"Ella - Remix\" by Boza...\nDone.\nSearching for \"Que Lloro\" by Sin Bandera...\nDone.\nSearching for \"Sueña\" by Intocable...\nDone.\nSearching for \"Si No Te Hubieras Ido\" by Marco Antonio Solís...\nDone.\nSearching for \"La Venia Bendita\" by Marco Antonio Solís...\nDone.\nSearching for \"Más Que Tu Amigo\" by Marco Antonio Solís...\nDone.\nSearching for \"Si Te Pudiera Mentir\" by Marco Antonio Solís...\nDone.\nSearching for \"Más Que Tu Amigo\" by Marco Antonio Solís...\nDone.\nSearching for \"Me Pones en Tensión\" by The Noise...\nDone.\nSearching for \"Travesuras\" by Nicky Jam...\nDone.\nSearching for \"Te Quiero Igual Que Ayer - Bachata\" by Monchy & Alexandra...\nNo results found for: 'Te Quiero Igual Que Ayer - Bachata Monchy & Alexandra'\nSearching for \"L.A. Vibe\" by King Lil G...\nDone.\nSearching for \"Te Veo Bailar (feat. Brray & Alejandro Armes)\" by DJ Nelson...\nDone.\nSearching for \"Hoy Tengo Ganas De Ti\" by Alejandro Fernández...\nDone.\nSearching for \"DUELE EL CORAZON (feat. Wisin)\" by Enrique Iglesias...\nDone.\nSearching for \"Te Amo\" by Piso 21...\nDone.\nSearching for \"Donde Estan Esos Amigos\" by El Chaval de la Bachata...\nDone.\nSearching for \"Fotografía\" by Juanes...\nDone.\nSearching for \"Ya Te Olvidé\" by Yuridia...\nDone.\nSearching for \"Amárrame\" by Mon Laferte...\nDone.\nSearching for \"Volveré\" by Diego Verdaguer...\nDone.\nSearching for \"Que Vuelva\" by Alex Bueno...\nDone.\nSearching for \"Antes\" by Anuel AA...\nDone.\nSearching for \"Whine Up\" by Nicky Jam...\nDone.\nSearching for \"Hey DJ\" by CNCO...\nDone.\nSearching for \"In My Hood\" by South Park Mexican...\nDone.\nSearching for \"La Funka\" by Ozuna...\nDone.\nSearching for \"Bebé\" by Ozuna...\nDone.\nSearching for \"La Vida Es Así\" by Ivy Queen...\n100%|██████████| 35/35 [1:29:54<00:00, 154.12s/it]Done.\n\n",
     "output_type": "stream"
    }
   ],
   "execution_count": null
  },
  {
   "cell_type": "code",
   "source": "display(final)",
   "metadata": {
    "cell_id": "ba4fa64cbca948fdb62cc17fe16f90a9",
    "tags": [],
    "deepnote_to_be_reexecuted": false,
    "source_hash": "6eaeeb07",
    "execution_start": 1652888605780,
    "execution_millis": 120,
    "deepnote_table_state": {
     "pageSize": 25,
     "pageIndex": 0,
     "filters": [],
     "sortBy": []
    },
    "deepnote_table_loading": false,
    "deepnote_table_invalid": false,
    "deepnote_cell_type": "code",
    "deepnote_cell_height": 1215
   },
   "outputs": [
    {
     "data": {
      "application/vnd.deepnote.dataframe.v3+json": {
       "column_count": 4,
       "row_count": 6000,
       "columns": [
        {
         "name": "track_id",
         "dtype": "object",
         "stats": {
          "unique_count": 5975,
          "nan_count": 0,
          "categories": [
           {
            "name": "3lGMtkONrZdJ8kTCg6KIFf",
            "count": 2
           },
           {
            "name": "5reQI13tWWYDLMrGcUF4Mk",
            "count": 2
           },
           {
            "name": "5973 others",
            "count": 5996
           }
          ]
         }
        },
        {
         "name": "artist_name",
         "dtype": "object",
         "stats": {
          "unique_count": 1180,
          "nan_count": 0,
          "categories": [
           {
            "name": "Johann Sebastian Bach",
            "count": 969
           },
           {
            "name": "Bad Bunny",
            "count": 105
           },
           {
            "name": "1178 others",
            "count": 4926
           }
          ]
         }
        },
        {
         "name": "track_name",
         "dtype": "object",
         "stats": {
          "unique_count": 5339,
          "nan_count": 0,
          "categories": [
           {
            "name": "I Wish",
            "count": 13
           },
           {
            "name": "Black Summer",
            "count": 10
           },
           {
            "name": "5337 others",
            "count": 5977
           }
          ]
         }
        },
        {
         "name": "lyric_raw",
         "dtype": "object",
         "stats": {
          "unique_count": 4270,
          "nan_count": 1231,
          "categories": [
           {
            "name": "I Wish Lyrics\nDoo-doo-doo-doo\nDoo-doo, doo-doo-doo\n\nI wish, I wish\nI could hear you say my name\nI wish, I wish\nWe could do it all again\nI wish, I wish\nI didn't have myself to blame\nIt's you I miss, yeah\n\n'Cause when I look back at us\nI know we almost had it all\nBut the time wasn't right\nI should have loved you more\nBut there's no going back\nStill I need you to know that\nI'm not who I was before, no\nI think of you every day, every night\nYou said you needed space\nAnd you needed time\nAnd I want you to know\nWhat I did wasn't right\nWish I could change your mind\nI wish, I wish\n\nI wish, I wish\nI didn't say goodbye so fast\nI wish, I wish\nI could take the moment back\nI wish, I wish\nI cherished everything we had\nBut it's you I miss (I)\n\n'Cause when I look back at us\nI know we almost had it all\nBut the time wasn't right\nI should have loved you more\nBut there's no going back\nStill I need you to know that\nI'm not who I was before, no\nI think of you every day, every night\nYou said you needed space\nAnd you needed time\nAnd I want you to know\nWhat I did wasn't right\nWish I could change your mind\nI wish, I wish\n\nDoo-doo-doo-doo, doo-doo, doo-doo-doo\nDoo-doo-doo-doo-doo-doo\nDoo-doo, doo-doo-doo\nDoo-doo-doo-doo-doo-doo\nDoo-doo, doo-doo-doo\nWish I could change your mind\nI wish, I wish\n\nIt's not much I'm asking, baby (Not much)\nWhat I gotta do for you to believe me?\nIf a second chance sounds crazy\nThen I don't know how I'm gonna be\n\nI think of you every day, every night\nYou said you needed space\nAnd you needed time\nAnd I want you know\nWhat I did wasn't right (It wasn't right)\nWish I could change your mind\nI wish, I wish\nOh-woah, woah-oh, I wish\nDoo-doo-doo-doo, doo-doo, doo-doo-doo (Oh)\nDoo-doo-doo-doo-doo-doo\nDoo-doo, doo-doo-doo\nDoo-doo-doo-doo-doo-doo\nDoo-doo, doo-doo-doo\nWish I could change your mind\nI wish, I wish\n\nI think of you every day, every night\nYou said you needed space\nAnd you needed time (Oh)\nI want you know\nWhat I did wasn't right\nWish I could change your mind\nI wish, I wishEmbed",
            "count": 12
           },
           {
            "name": "4269 others",
            "count": 4757
           },
           {
            "name": "Missing",
            "count": 1231
           }
          ]
         }
        },
        {
         "name": "_deepnote_index_column",
         "dtype": "int64"
        }
       ],
       "rows": [
        {
         "track_id": "2QjOHCTQ1Jl3zawyYOpxh6",
         "artist_name": "The Neighbourhood",
         "track_name": "Sweater Weather",
         "lyric_raw": "Sweater Weather Lyrics\nAnd all I am is a man\nI want the world in my hands\nI hate the beach but I stand\nIn California with my toes in the sand\nUse the sleeves of my sweater\nLet's have an adventure\nHead in the clouds but my gravity's centered\nTouch my neck and I'll touch yours\nYou in those little high waisted shorts, oh\n\nShe knows what I think about\nAnd what I think about\nOne love, two mouths\nOne love, one house\nNo shirt, no blouse\nJust us, you find out\nNothing that I wouldn't wanna tell you about, no\n'Cause it's too cold for you here\nAnd now, so let me hold\nBoth your hands in the holes of my sweater\n\nAnd if I may just take your breath away\nI don't mind if there's not much to say\nSometimes the silence guides a mind\nTo move to a place so far away\nThe goosebumps start to raise\nThe minute that my left hand meets your waist\nAnd then I watch your face\nPut my finger on your tongue\n'Cause you love the taste, yeah\nThese hearts adore\nEveryone the other beats hardest for\nInside this place is warm…",
         "_deepnote_index_column": 0
        },
        {
         "track_id": "2K7xn816oNHJZ0aVqdQsha",
         "artist_name": "The Neighbourhood",
         "track_name": "Softcore",
         "lyric_raw": "Softcore Lyrics\nYou've been my muse for a long time\nYou get me through every dark night\nI'm always gone, out on the go\nI'm on the run and you're home alone\nI'm too consumed with my own life\n\nAre we too young for this?\nFeels like I can't move\n\nSharing my heart\nIt's tearing me apart\nBut I know I'd miss you, baby, if I left right now\nDoing what I can, tryna be a man\nAnd every time I kiss you, baby\nI can hear the sound of breaking down\nI've been confused as of late (Yeah)\nWatching my youth slip away (Yeah)\nYou're like the sun, you wake me up\nBut you drain me out if I get too much\nI might need you or I'll break\n\nAre we too young for this?\nFeels like I can't move\n\nSharing my heart\nIt's tearing me apart\nBut I know I'd miss you, baby, if I left right now\nDoing what I can, tryna be a man\nAnd every time I kiss you, baby\nI can hear the sound of breaking down\n\nBreaking down, breaking down, breaking down\nBreaking down, breaking down, breaking down\nI don't want to play this part\nBut I do, all for y…",
         "_deepnote_index_column": 1
        },
        {
         "track_id": "5E30LdtzQTGqRvNd7l6kG5",
         "artist_name": "The Neighbourhood",
         "track_name": "Daddy Issues",
         "lyric_raw": "Daddy Issues Lyrics\nTake you like a drug\nI taste you on my tongue\n\nYou ask me what I'm thinking about\nI tell you that I'm thinking about\nWhatever you're thinking about (Ah)\nTell me something that I'll forget\nAnd you might have to tell me again\nIt's crazy what you'll do for a friend\n\nGo ahead and cry, little girl\nNobody does it like you do\nI know how much it matters to you\nI know that you got daddy issues\nAnd if you were my little girl\nI'd do whatever I could do\nI'd run away and hide with you\nI know that you got daddy issues, and I do too\nI tried to write your name in the rain\nBut the rain never came\nSo I made with the sun\nThe shade\nAlways comes at the worst time (Ah)\n\nYou ask me what I'm thinking about\nI tell you that I'm thinking about\nWhatever you're thinking about\nTell me something that I'll forget\nAnd you might have to tell me again\nIt's crazy what you'll do for a friend\n\nGo ahead and cry, little girl\nNobody does it like you do\nI know how much it matters to you\nI know that you got…",
         "_deepnote_index_column": 2
        },
        {
         "track_id": "2iUmqdfGZcHIhS3b9E9EWq",
         "artist_name": "Neon Trees",
         "track_name": "Everybody Talks",
         "lyric_raw": "Everybody Talks Lyrics\nAh-ah-ah-ah\nAhem, ahem\n\nHey, baby, won't you look my way?\nI can be your new addiction\nHey, baby, what you got to say?\nAll you're giving me is fiction\nI'm a sorry sucker and this happens all the time\n\nI find out that everybody talks\nEverybody talks, everybody talks\n\nIt started with a whisper\nAnd that was when I kissed her\nAnd then she made my lips hurt\nI can hear the chit-chat\nTake me to your love shack\nMama's always gotta backtrack\nWhen everybody talks back\nHey, honey, you could be my drug\nYou could be my new prescription\nToo much could be an overdose\nAll this trash-talk make me itchin'\n\nOh my, my, shit, everybody talks\nEverybody talks, everybody talks\nEverybody talks too much\n\nIt started with a whisper\nAnd that was when I kissed her\nAnd then she made my lips hurt\nI can hear the chit-chat\nTake me to your love shack\nMama's always got a backtrack\nWhen everybody talks back\n\nNever thought I'd live to see the day (Ah-ah)\nWhen everybody's words got in the way, oh\n\nHey…",
         "_deepnote_index_column": 3
        },
        {
         "track_id": "7zwn1eykZtZ5LODrf7c0tS",
         "artist_name": "The Neighbourhood",
         "track_name": "You Get Me So High",
         "lyric_raw": "You Get Me So High Lyrics\nHope you don't regret it\nI pushed a lot back but I can't forget it\nWe never got the credit\nNobody seemed to hear us but we said it\nNeither of us planned it\nAnd for a long time I took it all for granted\nI really thought we had it\nBut at the time it was more than I could manage, so\n\nIf we can leave it all behind us\nAnd meet in between\nIt would get me so\n\nHigh all the time, high all the time\nI wanna be high all the time\nWould you come with me?\nWish I didn't doubt it\nI wish I never ever told you all about it\nBut I just had to let you know\nI never meant to hurt you, though\nI had all my motives\nI didn't know they wouldn't mix with your emotions\nI just had to reach my goals\nNever knew I'd meet you though, so\n\nIf we can agree to disagree\nAnd keep on reaching\nIt would get you so\n\nHigh all the time, high all the time\nI wanna be high all the time\nWould you come with me?\nHigh all the time, high all the time\nI wanna be high all the time\nWould you come with me?\n\nWe should …",
         "_deepnote_index_column": 4
        },
        {
         "track_id": "0GO8y8jQk1PkHzS31d699N",
         "artist_name": "Grouplove",
         "track_name": "Tongue Tied",
         "lyric_raw": "Tongue Tied Lyrics\nOh!\n\nOoh\nTake me to your best friend's house\nGoin' 'round this roundabout, oh yeah\nOh, take me to your best friend's house\nI loved you then and I love you now, oh yeah\n\nDon't take me tongue-tied\nDon't wave no goodbye\nDon't break\n\nOh, take me to your best friend's house\nMarmalade, we're making out, oh yeah\nOh, take me to your best friend's house\nI loved you then and I love you now\nDon't take me tongue-tied\nDon't wave no goodbye\nDon't break\n\nOne, two, three, four\nDon't leave me tongue-tied\nLet's stay up all night\nI'll get real high\nSlumber party, pillow fight\nMy eyes on your eyes\nLike Peter Pan up in the sky\nMy best friend's house tonight\nLet's bump the beats 'til beddy-bye\n\nDon't take me tongue-tied\nDon't wave no goodbye\nDon't take me tongue-tied\nDon't kiss me goodnight\nDon't, oh\n\nTake me to your best friend's house\nGoin' 'round this roundabout, oh yeah\nOh, take me to your best friend's house\nI loved you then and I love you now\n(All right, all right, all right)\nA-don…",
         "_deepnote_index_column": 5
        },
        {
         "track_id": "7w87IxuO7BDcJ3YUqCyMTT",
         "artist_name": "Foster The People",
         "track_name": "Pumped Up Kicks",
         "lyric_raw": "Pumped Up Kicks Lyrics\nRobert's got a quick hand\nHe'll look around the room, he won't tell you his plan\nHe's got a rolled cigarette\nHanging out his mouth, he's a cowboy kid\nYeah, he found a six-shooter gun\nIn his dad's closet with a box of fun things\nI don't even know what\nBut he's coming for you, yeah, he's coming for you, wait\n\nAll the other kids with the pumped up kicks\nYou better run, better run, outrun my gun\nAll the other kids with the pumped up kicks\nYou better run, better run faster than my bullet\nAll the other kids with the pumped up kicks\nYou better run, better run, outrun my gun\nAll the other kids with the pumped up kicks\nYou better run, better run faster than my bullet\nDaddy works a long day\nHe be coming home late, and he's coming home late\nAnd he's bringing me a surprise\n'Cause dinner's in the kitchen and it's packed in ice\nI've waited for a long time\nYeah, the sleight of my hand is now a quick-pull trigger\nI reason with my cigarette\nAnd say, \"Your hair's on fire, you mus…",
         "_deepnote_index_column": 6
        },
        {
         "track_id": "3dPQuX8Gs42Y7b454ybpMR",
         "artist_name": "The White Stripes",
         "track_name": "Seven Nation Army",
         "lyric_raw": "Seven Nation Army Lyrics\nI'm gonna fight 'em off\nA seven nation army couldn't hold me back\nThey're gonna rip it off\nTaking their time right behind my back\nAnd I'm talking to myself at night\nBecause I can't forget\nBack and forth through my mind\nBehind a cigarette\n\nAnd the message coming from my eyes\nSays \"Leave it alone\"\n\nDon't want to hear about it\nEvery single one's got a story to tell\nEveryone knows about it\nFrom the Queen of England to the Hounds of Hell\nAnd if I catch it coming back my way\nI'm gonna serve it to you\nAnd that ain't what you want to hear\nBut that's what I'll do\n\nAnd the feeling coming from my bones\nSays \"Find a home\"\n\n\n\nI'm going to Wichita\nFar from this opera forevermore\nI'm gonna work the straw\nMake the sweat drip out of every pore\nAnd I'm bleeding, and I'm bleeding, and I'm bleeding\nRight before the Lord\nAll the words are gonna bleed from me\nAnd I will sing no more\nAnd the stains coming from my blood\nTell me \"Go back home\"\nRelated SongsBlack MathThe White StripesW…",
         "_deepnote_index_column": 7
        },
        {
         "track_id": "6GG73Jik4jUlQCkKg9JuGO",
         "artist_name": "Jimmy Eat World",
         "track_name": "The Middle",
         "lyric_raw": "The Middle Lyrics\nHey, don't write yourself off yet\nIt's only in your head, you feel left out\nOr looked down on\nJust try your best, try everything you can\nAnd don't you worry what they tell themselves\nWhen you're away\n\nIt just takes some time\nLittle girl, you're in the middle of the ride\nEverything, everything will be just fine\nEverything, everything will be alright, alright\n\nHey, you know they're all the same\nYou know you're doing better on your own (On your own)\nSo don't buy in\nLive right now, yeah, just be yourself\nIt doesn't matter if it's good enough (Good enough)\nFor someone else\nIt just takes some time\nLittle girl, you're in the middle of the ride\nEverything, everything will be just fine\nEverything, everything will be alright, alright\nIt just takes some time\nLittle girl, you're in the middle of the ride\nEverything, everything will be just fine\nEverything, everything will be alright, alright\nWoo!\n\n\nHey, don't write yourself off yet\nIt's only in your head, you feel left out (Feel…",
         "_deepnote_index_column": 8
        },
        {
         "track_id": "2AYEOC02WLhUiOoaig2SEH",
         "artist_name": "Fitz and The Tantrums",
         "track_name": "Out of My League",
         "lyric_raw": "Out of My League Lyrics\nMore than just a dream\nMore than just a dream\nOoh-ooh-ooh-ooh-ooh-ooh-ooh\nOoh-ooh-ooh-ooh-ooh-ooh-ooh\nOoh-ooh-ooh-ooh-ooh-ooh-ooh\nOoh-ooh-ooh-ooh-ooh-ooh-ooh\n\nForty days and forty nights\nI waited for a girl like you\nTo come and save my life\nAll the days I waited for you\nYou know the ones who said\nI'd never find someone like you\n'Cause you were out of my league\nAll the things I believe\nYou were just the right kind\nYeah, you are more than just a dream\nYou were out of my league\nGot my heartbeat racing\nIf I die don't wake me\n'Cause you are more than just a dream\n\nOoh-ooh-ooh-ooh-ooh-ooh-ooh\nOoh-ooh-ooh-ooh-ooh-ooh-ooh\nOoh-ooh-ooh-ooh-ooh-ooh-ooh\nOoh-ooh-ooh-ooh-ooh-ooh-ooh\n\nFrom time to time I pinch myself\nBecause I think my girl\nMistakes me for somebody else\nAnd every time she takes my hand\nAll the wonders that remain\nBecome a simple fact\n\n'Cause you were out of my league\nAll the things I believe\nYou were just the right kind\nYeah, you are more than just a dream\nYo…",
         "_deepnote_index_column": 9
        },
        {
         "track_id": "7oK9VyNzrYvRFo7nQEYkWN",
         "artist_name": "The Killers",
         "track_name": "Mr. Brightside",
         "lyric_raw": "Mr. Brightside Lyrics\nComing out of my cage and I've been doing just fine\nGotta, gotta be down because I want it all\nIt started out with a kiss; how did it end up like this?\nIt was only a kiss; it was only a kiss\nNow I'm falling asleep and she's calling a cab\nWhile he's having a smoke and she's taking a drag\nNow they're going to bed, and my stomach is sick\nAnd it's all in my head, but she's touching his\n\nChest now, he takes off her\nDress now, let me go\nAnd I just can't look; it's killing me\nThey're taking control\nJealousy, turning saints into the sea\nSwimming through sick lullabies, choking on your alibis\nBut it's just the price I pay, destiny is calling me\nOpen up my eager eyes, 'cause I'm Mr. Brightside\n\nI'm coming out of my cage, and I've been doing just fine\nGotta, gotta be down because I want it all\nIt started out with a kiss; how did it end up like this?\nIt was only a kiss, it was only a kiss\nNow I'm falling asleep and she's calling a cab\nWhile he's having a smoke and she's taki…",
         "_deepnote_index_column": 10
        },
        {
         "track_id": "2Y0iGXY6m6immVb2ktbseM",
         "artist_name": "MGMT",
         "track_name": "Little Dark Age",
         "lyric_raw": "Little Dark Age Lyrics\nBreathing in the dark, lying on its side\nThe ruins of the dead painted with a scar\nAnd the more I straighten out, the less it wants to try\nThe feelings start to rot one wink at a time\n\nOh\nForgiving who you are for what you stand to gain\nJust know that if you hide, it doesn't go away\nWhen you get out of bed, don't end up stranded\nHorrified with each stone on the stage\nMy little dark age\n\nPicking through the cards, knowing what's nearby\nThe carvings on the face say they find it hard\nAnd the engine's failed again, all limits of disguise\nThe humor's not the same, coming from denial\nOh\nI grieve in stereo, the stereo sounds strange\nI know that if you hide, it doesn't go away\nIf you get out of bed and find me standing all alone\nOpen-eyed, burn the page\nMy little dark age\n\nI grieve in stereo, the stereo sounds strange\nYou know that if it hides, it doesn't go away\nIf I get out of bed, you'll see me standing all alone\nHorrified on the stage\nMy little dark age\n\nGiddy with …",
         "_deepnote_index_column": 11
        },
        {
         "track_id": "2DlHlPMa4M17kufBvI2lEN",
         "artist_name": "System Of A Down",
         "track_name": "Chop Suey!",
         "lyric_raw": "Chop Suey! Lyrics\nWe're rolling \"Suicide\"\n\nWake up (Wake up)\nGrab a brush and put a little makeup\nHide your scars to fade away the shakeup (Hide the scars to fade away the shakeup)\nWhy'd you leave the keys upon the table?\nHere you go, create another fable, you wanted to\nGrab a brush and put a little makeup, you wanted to\nHide the scars to fade away the shakeup, you wanted to\nWhy'd you leave the keys upon the table? You wanted to\n\nI don't think you trust\nIn my self-righteous suicide\nI cry when angels deserve to die\nAh! Wake up (Wake up)\nGrab a brush and put a little makeup (A little bit)\nHide the scars to fade away the (Hide the scars to fade away the shakeup)\nWhy'd you leave the keys upon the table?\nHere you go, create another fable, you wanted to\nGrab a brush and put a little makeup, you wanted to\nHide the scars to fade away the shakeup, you wanted to\nWhy'd you leave the keys upon the table? You wanted to\n\nI don't think you trust\nIn my self-righteous suicide\nI cry when angels deserve…",
         "_deepnote_index_column": 12
        },
        {
         "track_id": "2MLHyLy5z5l5YRp7momlgw",
         "artist_name": "Weezer",
         "track_name": "Island In The Sun",
         "lyric_raw": "Island in the Sun Lyrics\nHip hip\nHip hip\nHip hip\nHip hip\n\nWhen you're on a holiday\nYou can't find the words to say\nAll the things that come to you\nAnd I wanna feel it too\n\nOn an island in the sun\nWe'll be playing and having fun\nAnd it makes me feel so fine\nI can't control my brain\nHip hip\nHip hip\n\nWhen you're on a golden sea\nYou don't need no memory\nJust a place to call your own\nAs we drift into the zone\n\nOn an island in the sun\nWe'll be playing and having fun\nAnd it makes me feel so fine\nI can't control my brain\n\nWe'll run away together\nWe'll spend some time forever\nWe'll never feel bad anymore\n\nHip hip\nHip hip\nHip hip\n\nOn an island in the sun\nWe'll be playing and having fun\nAnd it makes me feel so fine\nI can't control my brain\n\nWe'll run away together\nWe'll spend some time forever\nWe'll never feel bad anymore\n\nHip hip\nHip hip (We'll never feel bad anymore)\nHip hip (No, no)\nHip hip\nHip hip (We'll never feel bad anymore)\nHip hip (No, no)\nHip hip (No, no)\nHip hip45Embed",
         "_deepnote_index_column": 13
        },
        {
         "track_id": "4kbj5MwxO1bq9wjT5g9HaA",
         "artist_name": "WALK THE MOON",
         "track_name": "Shut Up and Dance",
         "lyric_raw": "Shut Up and Dance Lyrics\n\n\"Oh, don't you dare look back\nJust keep your eyes on me\"\nI said, \"You're holding back\"\nShe said, \"Shut up and dance with me\"\nThis woman is my destiny\nShe said, \"Ooh hoo\nShut up and dance with me\"\n\nWe were victims of the night\nThe chemical, physical kryptonite\nHelpless to the bass and the fading light\nOh, we were bound to get together\nBound to get together\nShe took my arm\nI don't know how it happened\nWe took the floor and she said\n\n\"Oh, don't you dare look back\nJust keep your eyes on me\"\nI said, \"You're holding back\"\nShe said, \"Shut up and dance with me\"\nThis woman is my destiny\nShe said, \"Ooh hoo\nShut up and dance with me\"\n\nA backless dress and some beat up sneaks\nMy discothèque Juliet, teenage dream\nI felt it in my chest as she looked at me\nI knew we were bound to be together\nBound to be together\nShe took my arm\nI don't know how it happened\nWe took the floor and she said\n\"Oh, don't you dare look back\nJust keep your eyes on me\"\nI said, \"You're holding back\"\nS…",
         "_deepnote_index_column": 14
        },
        {
         "track_id": "6ZOBP3NvffbU4SZcrnt1k6",
         "artist_name": "3 Doors Down",
         "track_name": "Kryptonite",
         "lyric_raw": "Kryptonite Lyrics\nWell, I took a walk around the world to ease my troubled mind\nI left my body lying somewhere in the sands of time\nBut I watched the world float to the dark side of the moon\nI feel there's nothing I can do, yeah\n\nI watched the world float to the dark side of the moon\nAfter all I knew, it had to be something to do with you\nI really don't mind what happens now and then\nAs long as you'll be my friend at the end\n\nIf I go crazy then will you still call me Superman?\nIf I'm alive and well, will you be there and holding my hand?\nI'll keep you by my side with my superhuman might\nKryptonite\nYou called me strong, you called me weak\nBut still your secrets I will keep\nYou took for granted all the times I never let you down\nYou stumbled in and bumped your head\nIf not for me then you'd be dead\nI picked you up and put you back on solid ground\n\nIf I go crazy then will you still call me Superman?\nIf I'm alive and well, will you be there and holding my hand?\nI'll keep you by my side wit…",
         "_deepnote_index_column": 15
        },
        {
         "track_id": "003vvx7Niy0yvhvHt4a68B",
         "artist_name": "The Killers",
         "track_name": "Mr. Brightside",
         "lyric_raw": "Mr. Brightside Lyrics\nComing out of my cage and I've been doing just fine\nGotta, gotta be down because I want it all\nIt started out with a kiss; how did it end up like this?\nIt was only a kiss; it was only a kiss\nNow I'm falling asleep and she's calling a cab\nWhile he's having a smoke and she's taking a drag\nNow they're going to bed, and my stomach is sick\nAnd it's all in my head, but she's touching his\n\nChest now, he takes off her\nDress now, let me go\nAnd I just can't look; it's killing me\nThey're taking control\nJealousy, turning saints into the sea\nSwimming through sick lullabies, choking on your alibis\nBut it's just the price I pay, destiny is calling me\nOpen up my eager eyes, 'cause I'm Mr. Brightside\n\nI'm coming out of my cage, and I've been doing just fine\nGotta, gotta be down because I want it all\nIt started out with a kiss; how did it end up like this?\nIt was only a kiss, it was only a kiss\nNow I'm falling asleep and she's calling a cab\nWhile he's having a smoke and she's taki…",
         "_deepnote_index_column": 16
        },
        {
         "track_id": "5Hroj5K7vLpIG4FNCRIjbP",
         "artist_name": "American Authors",
         "track_name": "Best Day Of My Life",
         "lyric_raw": "Best Day of My Life Lyrics\nI had a dream so big and loud\nI jumped so high, I touched the clouds\n(Wo-o-o-o-o-o-oh, wo-o-o-o-o-o-oh)\nI stretched my hands out to the sky\nWe danced with monsters through the night\n(Wo-o-o-o-o-o-oh, wo-o-o-o-o-o-oh)\n\nI'm never gonna look back, whoa\nI'm never gonna give it up, no\nPlease don't wake me now\n\nThis is gonna be the best day of my life\nMy li-i-i-i-i-i-ife\nThis is gonna be the best day of my life\nMy li-i-i-i-i-i-ife\nI howled at the moon with friends\nAnd then the sun came crashing in\n(Wo-o-o-o-o-o-oh, wo-o-o-o-o-o-oh)\nBut all the possibilities\nNo limits, just epiphanies\n(Wo-o-o-o-o-o-oh, wo-o-o-o-o-o-oh)\n\nI'm never gonna look back, whoa\nI'm never gonna give it up, no\nJust don't wake me now\n\nThis is gonna be the best day of my life\nMy li-i-i-i-i-i-ife\nThis is gonna be the best day of my life\nMy li-i-i-i-i-i-ife\n\nI hear it calling outside my window\nI feel it in my soul (soul)\nThe stars were burning so bright\nThe sun was out 'til midnight\nI say we lose …",
         "_deepnote_index_column": 17
        },
        {
         "track_id": "3FtYbEfBqAlGO46NUDQSAt",
         "artist_name": "MGMT",
         "track_name": "Electric Feel",
         "lyric_raw": "Electric Feel Lyrics\nAll along the Western front\nPeople line up to receive\nShe got the power in her hand\nTo shock you like you won't believe\nSaw her in the Amazon\nWith the voltage running through her skin\nI was standing there with nothing on\nShe gonna teach me how to swim\n\nI said, \"Ooh, girl!\nShock me like an electric eel\nBaby girl\nTurn me on with your electric feel\"\nI said, \"Ooh, girl!\nShock me like an electric eel\nBaby girl\nTurn me on with your electric feel\"\nAll along the Eastern shore\nPut your circuits in the sea\nThis is what the world is for\nMaking electricity\nYou can feel it in your mind\nOh, you can do it all the time\nPlug it in, change the world\nYou are my electric girl\n\nI said, \"Ooh, girl!\nShock me like an electric eel\nBaby girl\nTurn me on with your electric feel\"\nI said, \"Ooh, girl!\nShock me like an electric eel\nBaby girl\nTurn me on with your electric feel\"\n\nDo what you feel now!\nElectric feel now\nDo what you feel now!\nElectric feel now\nDo what you feel now!\nElectric feel now…",
         "_deepnote_index_column": 18
        },
        {
         "track_id": "6TfBA04WJ3X1d1wXhaCFVT",
         "artist_name": "The Offspring",
         "track_name": "You're Gonna Go Far, Kid",
         "lyric_raw": "You’re Gonna Go Far, Kid Lyrics\nShow me how to lie, you're getting better all the time\nAnd turning all against the one is an art that's hard to teach\nAnother clever word sets off an unsuspecting herd\nAnd as you step back into line, a mob jumps to their feet\n\nNow dance, fucker, dance man, he never had a chance\nAnd no one even knew it was really only you\nAnd now you steal away, take him out today\nNice work you did, you're gonna go far, kid\n\nWith a thousand lies and a good disguise\nHit 'em right between the eyes, hit 'em right between the eyes\nWhen you walk away, nothing more to say\nSee the lightning in your eyes, see 'em running for their lives\nSlowly out of line, and drifting closer in your sight\nSo play it out, I'm wide-awake, it's a scene about me\nThere's something in your way and now someone is gonna pay\nAnd if you can't get what you want, well, it's all because of me\n\nNow dance, fucker, dance, man, I never had a chance\nAnd no one even knew, it was really only you\nAnd now you'll lea…",
         "_deepnote_index_column": 19
        },
        {
         "track_id": "5W8YXBz9MTIDyrpYaCg2Ky",
         "artist_name": "Papa Roach",
         "track_name": "Last Resort",
         "lyric_raw": "Last Resort Lyrics\nCut my life into pieces, this is my last resort\nSuffocation, no breathing\nDon't give a fuck, if I cut my arm bleeding\nThis is my last resort\n\nCut my life into pieces\nI've reached my last resort – suffocation, no breathing\nDon't give a fuck, if I cut my arms bleeding\nDo you even care, if I die bleeding?\nWould it be wrong, would it be right\nIf I took my life tonight? Chances are that I might\nMutilation out of sight\nAnd I'm contemplatin' suicide\n'Cause I'm losin' my sight, losin' my mind\nWish somebody would tell me I'm fine\nLosin' my sight, losin' my mind\nWish somebody would tell me I'm fine\n\nI never realized I was spread too thin\n'Til it was too late and I was empty within\nHungry, feeding on chaos and livin' in sin\nDownward spiral, where do I begin?\nIt all started when I lost my mother\nNo love for myself and no love for another\nSearchin' to find a love upon a higher level\nFindin' nothin' but questions and devils\n\n'Cause I'm losin' my sight, losin' my mind\nWish somebod…",
         "_deepnote_index_column": 20
        },
        {
         "track_id": "5ruzrDWcT0vuJIOMW7gMnW",
         "artist_name": "The Strokes",
         "track_name": "The Adults Are Talking",
         "lyric_raw": "The Adults Are Talking Lyrics\nThey've been sayin' you're sophisticated\nThey're complainin', overeducated\nYou are saying all the words I'm dreaming\nSay it after me\nSay it after me\nThey will blame us, crucify and shame us\nWe can't help it if we are a problem\nWe are tryin' hard to get your attention\nI'm climbin' up your wall\nClimbin' up your wall\n\nDon't go there 'cause you'll never return\nI know you think of me when you think of her\nBut then it don't make sense when you're trying hard\nTo do the right thing, but without recompense\nAnd then you did something wrong and you said it was great\nAnd now you don't know how you could ever complain\nBecause you're all confused 'cause you want me to\nBut then you want me to do it the same as you\n\nYou were waitin' for the elevator\nYou were sayin' all the words I'm dreaming\nNo more askin', questions, or excuses\nThe information's here\nHere and everywhere\n\nDon't go there 'cause you'll never return\nI know you think of me when you think of her\nBut then it d…",
         "_deepnote_index_column": 21
        },
        {
         "track_id": "3ZOEytgrvLwQaqXreDs2Jx",
         "artist_name": "Red Hot Chili Peppers",
         "track_name": "Can't Stop",
         "lyric_raw": "Can’t Stop Lyrics\nCan't stop, addicted to the shindig\nChop Top, he says I'm gonna win big\nChoose not a life of imitation\nDistant cousin to the reservation\n\nDefunct, the pistol that you pay for\nThis punk, the feelin' that you stay for\nIn time I want to be your best friend\nEast side love is living on the West End\n\nKnocked out, but, boy, you better come to (Oh, oh-oh)\nDon't die, you know, the truth as some do (Oh-oh)\nGo write your message on the pavement (Oh-oh)\nBurn so bright, I wonder what the wave meant\nWhite heat is screamin' in the jungle (Oh, oh-oh)\nComplete the motion if you stumble (Oh-oh)\nGo ask the dust for any answers (Oh-oh)\nCome back strong with fifty belly dancers\n\nThe world I love, the tears I drop\nTo be part of the wave, can't stop\nEver wonder if it's all for you?\nThe world I love, the trains I hop\nTo be part of the wave, can't stop\nCome and tell me when it's time to\n\nSweetheart is bleeding in the snow cone\nSo smart, she's leadin' me to ozone\nMusic, the great communicator…",
         "_deepnote_index_column": 22
        },
        {
         "track_id": "1fBl642IhJOE5U319Gy2Go",
         "artist_name": "Neon Trees",
         "track_name": "Animal",
         "lyric_raw": "Animal Lyrics\nHere we go again\nI kinda wanna be more than friends\nSo take it easy on me\nI'm afraid you're never satisfied\nHere we go again\nWe're sick like animals, we play pretend\nYou're just a cannibal\nAnd I'm afraid I won't get out alive\nNo, I won't sleep tonight\n\nOh-oh, I want some more\nOh-oh, what are you waiting for?\nTake a bite of my heart tonight\nOh-oh, I want some more\nOh-oh, what are you waiting for?\nWhat are you waiting for?\nSay goodbye to my heart tonight\nHere we are again\nI feel the chemicals kickin' in\nIt's getting heavy and I wanna run and hide\nI wanna run and hide\nI do it every time\nYou're killin' me now\nAnd I won't be denied by you\nThe animal inside of you\n\nOh-oh, I want some more\nOh-oh, what are you waiting for?\nTake a bite of my heart tonight\nOh-oh, I want some more\nOh-oh, what are you waiting for?\nWhat are you waiting for?\nSay goodbye to my heart tonight\n\nHush, hush, the world is quiet\nHush, hush, we both can't fight it\nIt's us that made this mess\nWhy can't you unde…",
         "_deepnote_index_column": 23
        },
        {
         "track_id": "28IEbk5a7twNTbUEvWslUb",
         "artist_name": "Finger Eleven",
         "track_name": "Paralyzer",
         "lyric_raw": "Paralyzer Lyrics\nI hold on so nervously to me and my drink\nI wish it was cooling me\nBut so far has not been good, it's been shitty\nAnd I feel awkward as I should\nThis club has got to be the most pretentious thing\nSince I thought you and me\n\nWell, I am imagining a dark lit place\nOr your place or my place\n\nWell, I'm not paralyzed, but I seem to be struck by you\nI wanna make you move because you're standing still\nIf your body matches what your eyes can do\nYou'll probably move right through me on my way to you\nI hold out for one more drink, before I think\nI'm looking too desperately\nBut so far has not been fun, I should just stay home\nIf one thing really means one\nThis club will hopefully be closed in three weeks\nThat would be cool with me\n\nWell, I'm still imagining a dark lit place\nOr your place or my place\n\nWell, I'm not paralyzed, but I seem to be struck by you\nI wanna make you move because you're standing still\nIf your body matches what your eyes can do\nYou'll probably move right thro…",
         "_deepnote_index_column": 24
        }
       ]
      },
      "text/plain": "                    track_id         artist_name          track_name  \\\n0     2QjOHCTQ1Jl3zawyYOpxh6   The Neighbourhood     Sweater Weather   \n1     2K7xn816oNHJZ0aVqdQsha   The Neighbourhood            Softcore   \n2     5E30LdtzQTGqRvNd7l6kG5   The Neighbourhood        Daddy Issues   \n3     2iUmqdfGZcHIhS3b9E9EWq          Neon Trees     Everybody Talks   \n4     7zwn1eykZtZ5LODrf7c0tS   The Neighbourhood  You Get Me So High   \n...                      ...                 ...                 ...   \n6995  1XgpK29CGGjZnxPYkiRbh4                CNCO              Hey DJ   \n6996  5q2MjTDby29ZOEigCVV28a  South Park Mexican          In My Hood   \n6997  0XpMTExp5q4nLZZZ3msDGn               Ozuna            La Funka   \n6998  0ulsRBiciReng91DhfVT9D               Ozuna                Bebé   \n6999  4zK05ecddIq3vfd08Aqi8y           Ivy Queen      La Vida Es Así   \n\n                                              lyric_raw  \n0     Sweater Weather Lyrics\\nAnd all I am is a man\\...  \n1     Softcore Lyrics\\nYou've been my muse for a lon...  \n2     Daddy Issues Lyrics\\nTake you like a drug\\nI t...  \n3     Everybody Talks Lyrics\\nAh-ah-ah-ah\\nAhem, ahe...  \n4     You Get Me So High Lyrics\\nHope you don't regr...  \n...                                                 ...  \n6995  Hey DJ Lyrics\\n\\n(Eh, eh, eh)\\nSeñoras y señor...  \n6996  In My Hood Lyrics\\nOne, Two buckle that fool\\n...  \n6997  La Funka Lyrics\\n\\nOh-oh-oh-oh\\nJe\\nOzuna\\n\\nA...  \n6998  Bebé Lyrics\\n\\nAmistades que me ven y me pregu...  \n6999  La Vida Es Así Lyrics\\n\\nHe recibido una llama...  \n\n[6000 rows x 4 columns]",
      "text/html": "<div>\n<style scoped>\n    .dataframe tbody tr th:only-of-type {\n        vertical-align: middle;\n    }\n\n    .dataframe tbody tr th {\n        vertical-align: top;\n    }\n\n    .dataframe thead th {\n        text-align: right;\n    }\n</style>\n<table border=\"1\" class=\"dataframe\">\n  <thead>\n    <tr style=\"text-align: right;\">\n      <th></th>\n      <th>track_id</th>\n      <th>artist_name</th>\n      <th>track_name</th>\n      <th>lyric_raw</th>\n    </tr>\n  </thead>\n  <tbody>\n    <tr>\n      <th>0</th>\n      <td>2QjOHCTQ1Jl3zawyYOpxh6</td>\n      <td>The Neighbourhood</td>\n      <td>Sweater Weather</td>\n      <td>Sweater Weather Lyrics\\nAnd all I am is a man\\...</td>\n    </tr>\n    <tr>\n      <th>1</th>\n      <td>2K7xn816oNHJZ0aVqdQsha</td>\n      <td>The Neighbourhood</td>\n      <td>Softcore</td>\n      <td>Softcore Lyrics\\nYou've been my muse for a lon...</td>\n    </tr>\n    <tr>\n      <th>2</th>\n      <td>5E30LdtzQTGqRvNd7l6kG5</td>\n      <td>The Neighbourhood</td>\n      <td>Daddy Issues</td>\n      <td>Daddy Issues Lyrics\\nTake you like a drug\\nI t...</td>\n    </tr>\n    <tr>\n      <th>3</th>\n      <td>2iUmqdfGZcHIhS3b9E9EWq</td>\n      <td>Neon Trees</td>\n      <td>Everybody Talks</td>\n      <td>Everybody Talks Lyrics\\nAh-ah-ah-ah\\nAhem, ahe...</td>\n    </tr>\n    <tr>\n      <th>4</th>\n      <td>7zwn1eykZtZ5LODrf7c0tS</td>\n      <td>The Neighbourhood</td>\n      <td>You Get Me So High</td>\n      <td>You Get Me So High Lyrics\\nHope you don't regr...</td>\n    </tr>\n    <tr>\n      <th>...</th>\n      <td>...</td>\n      <td>...</td>\n      <td>...</td>\n      <td>...</td>\n    </tr>\n    <tr>\n      <th>6995</th>\n      <td>1XgpK29CGGjZnxPYkiRbh4</td>\n      <td>CNCO</td>\n      <td>Hey DJ</td>\n      <td>Hey DJ Lyrics\\n\\n(Eh, eh, eh)\\nSeñoras y señor...</td>\n    </tr>\n    <tr>\n      <th>6996</th>\n      <td>5q2MjTDby29ZOEigCVV28a</td>\n      <td>South Park Mexican</td>\n      <td>In My Hood</td>\n      <td>In My Hood Lyrics\\nOne, Two buckle that fool\\n...</td>\n    </tr>\n    <tr>\n      <th>6997</th>\n      <td>0XpMTExp5q4nLZZZ3msDGn</td>\n      <td>Ozuna</td>\n      <td>La Funka</td>\n      <td>La Funka Lyrics\\n\\nOh-oh-oh-oh\\nJe\\nOzuna\\n\\nA...</td>\n    </tr>\n    <tr>\n      <th>6998</th>\n      <td>0ulsRBiciReng91DhfVT9D</td>\n      <td>Ozuna</td>\n      <td>Bebé</td>\n      <td>Bebé Lyrics\\n\\nAmistades que me ven y me pregu...</td>\n    </tr>\n    <tr>\n      <th>6999</th>\n      <td>4zK05ecddIq3vfd08Aqi8y</td>\n      <td>Ivy Queen</td>\n      <td>La Vida Es Así</td>\n      <td>La Vida Es Así Lyrics\\n\\nHe recibido una llama...</td>\n    </tr>\n  </tbody>\n</table>\n<p>6000 rows × 4 columns</p>\n</div>"
     },
     "metadata": {},
     "output_type": "display_data"
    }
   ],
   "execution_count": null
  },
  {
   "cell_type": "code",
   "metadata": {
    "cell_id": "47a16452df0d455d89fa26ca7423e599",
    "tags": [],
    "deepnote_to_be_reexecuted": false,
    "source_hash": "6df8550c",
    "execution_start": 1652888678150,
    "execution_millis": 0,
    "deepnote_cell_type": "code",
    "deepnote_cell_height": 99
   },
   "source": "# Join the lyric data back to the original data frame\ndf_w_lyrics = df.merge(final, how = 'left', on = 'track_id')",
   "outputs": [],
   "execution_count": null
  },
  {
   "cell_type": "code",
   "source": "df_w_lyrics.shape",
   "metadata": {
    "cell_id": "64b82baf218b4094b399c5e29f7c9bd3",
    "tags": [],
    "deepnote_to_be_reexecuted": false,
    "source_hash": "f1f4c45e",
    "execution_start": 1652890520568,
    "execution_millis": 74,
    "deepnote_table_state": {
     "pageSize": 25,
     "pageIndex": 0,
     "filters": [],
     "sortBy": []
    },
    "deepnote_table_loading": false,
    "deepnote_cell_type": "code",
    "deepnote_cell_height": 118.1875,
    "deepnote_output_heights": [
     21.1875
    ]
   },
   "outputs": [
    {
     "output_type": "execute_result",
     "execution_count": 34,
     "data": {
      "text/plain": "(7050, 26)"
     },
     "metadata": {}
    }
   ],
   "execution_count": null
  },
  {
   "cell_type": "code",
   "source": "new = df_w_lyrics['genre'].isin(['latin', 'alt-rock', 'hip-hop', 'country', 'edm'])\n\ntest3 = df_w_lyrics[new]\n\ntest3.shape",
   "metadata": {
    "cell_id": "4c9e7cbd246d414190bd63982436113c",
    "tags": [],
    "deepnote_to_be_reexecuted": false,
    "source_hash": "da054f2e",
    "execution_start": 1652889534487,
    "execution_millis": 14,
    "deepnote_cell_type": "code",
    "deepnote_cell_height": 190.1875,
    "deepnote_output_heights": [
     21.1875
    ]
   },
   "outputs": [
    {
     "output_type": "execute_result",
     "execution_count": 18,
     "data": {
      "text/plain": "(5050, 25)"
     },
     "metadata": {}
    }
   ],
   "execution_count": null
  },
  {
   "cell_type": "markdown",
   "source": "### Clean up the lyric data",
   "metadata": {
    "cell_id": "881c879fbffe447facb328182c4e630d",
    "tags": [],
    "deepnote_cell_type": "markdown",
    "deepnote_cell_height": 62
   }
  },
  {
   "cell_type": "code",
   "metadata": {
    "cell_id": "303ac86d3919467bb2035a2843379e0a",
    "tags": [],
    "deepnote_to_be_reexecuted": false,
    "source_hash": "a1e156be",
    "execution_start": 1652890193556,
    "execution_millis": 2394,
    "deepnote_cell_type": "code",
    "deepnote_cell_height": 479
   },
   "source": "# Various imports needed for cleaning process\nimport nltk\nfrom nltk.corpus import stopwords\nimport string\nimport re\nfrom nltk.tokenize import word_tokenize\nnltk.download('punkt')\nfrom nltk.stem.porter import PorterStemmer\n\n# Configure stopwords\nnltk.download('stopwords')\nstop_words = set(stopwords.words('english'))\n\n# Configure punctuation set\npunct = set(string.punctuation)\n\n# Configure the stemmer\nstemmer = PorterStemmer()",
   "outputs": [
    {
     "name": "stderr",
     "text": "[nltk_data] Downloading package punkt to /root/nltk_data...\n[nltk_data]   Unzipping tokenizers/punkt.zip.\n[nltk_data] Downloading package stopwords to /root/nltk_data...\n[nltk_data]   Unzipping corpora/stopwords.zip.\n",
     "output_type": "stream"
    }
   ],
   "execution_count": null
  },
  {
   "cell_type": "code",
   "metadata": {
    "cell_id": "1feecaee6e424b578cb7b13609fc5410",
    "tags": [],
    "deepnote_to_be_reexecuted": false,
    "source_hash": "341080fe",
    "execution_start": 1652890201436,
    "execution_millis": 0,
    "deepnote_cell_type": "code",
    "deepnote_cell_height": 675
   },
   "source": "# Define a function that passes in a raw lyric and outputs a cleaned list of stems\ndef clean_lyrics(lyric):\n\n    try:\n        # Convert to all lowercase\n        lyric_int_1 = lyric.lower()\n\n        # Remove punctuation\n        lyric_int_2 = ''.join([ch for ch in lyric_int_1 if ch not in punct])\n\n        # Remove all newline characters\n        lyric_int_3 = re.sub('\\n', ' ', lyric_int_2)\n\n        # Split long string into list of words (bundled characters)\n        lyric_int_4 = word_tokenize(lyric_int_3)\n\n        # Remove stopwords\n        lyric_int_5 = [word for word in lyric_int_4 if word not in stop_words]\n\n        # Stem the list of words\n        lyric_int_6 = [stemmer.stem(word) for word in lyric_int_5]\n\n        # Finally, remove first line (title); we do this by finding first instance \n        # of 'lyric' stem in list above and only pulling list directly after this index\n        \n        # We also remove the very last word since it appears that there's some sort of\n        # embedding code attached to it, and the omission of one word shouldn't affect\n        # the modelling.\n        lyric_final = lyric_int_6[lyric_int_6.index('lyric')+1:-2]\n\n        return lyric_final\n\n    except:\n        pass",
   "outputs": [],
   "execution_count": null
  },
  {
   "cell_type": "code",
   "metadata": {
    "cell_id": "c345ff239bfb42ce9f6c8cbf5d348611",
    "tags": [],
    "deepnote_to_be_reexecuted": false,
    "source_hash": "a6edd49b",
    "execution_start": 1652890207630,
    "execution_millis": 78811,
    "deepnote_cell_type": "code",
    "deepnote_cell_height": 99
   },
   "source": "# Apply the function above to the lyrics field\ndf_w_lyrics['lyric_clean'] = df_w_lyrics['lyric_raw'].apply(clean_lyrics)",
   "outputs": [],
   "execution_count": null
  },
  {
   "cell_type": "code",
   "metadata": {
    "cell_id": "3400d0f0f0dc4be6a7c755b4ae11557f",
    "tags": [],
    "deepnote_to_be_reexecuted": false,
    "source_hash": "8f0664ac",
    "execution_start": 1652890577159,
    "execution_millis": 2,
    "deepnote_cell_type": "code",
    "deepnote_cell_height": 809
   },
   "source": "song = 11\n\nraw = df_w_lyrics.iloc[song, -2]\nclean = df_w_lyrics.iloc[song, -1]\n\nprint(raw)\nprint(clean)",
   "outputs": [
    {
     "name": "stdout",
     "text": "Little Dark Age Lyrics\nBreathing in the dark, lying on its side\nThe ruins of the dead painted with a scar\nAnd the more I straighten out, the less it wants to try\nThe feelings start to rot one wink at a time\n\nOh\nForgiving who you are for what you stand to gain\nJust know that if you hide, it doesn't go away\nWhen you get out of bed, don't end up stranded\nHorrified with each stone on the stage\nMy little dark age\n\nPicking through the cards, knowing what's nearby\nThe carvings on the face say they find it hard\nAnd the engine's failed again, all limits of disguise\nThe humor's not the same, coming from denial\nOh\nI grieve in stereo, the stereo sounds strange\nI know that if you hide, it doesn't go away\nIf you get out of bed and find me standing all alone\nOpen-eyed, burn the page\nMy little dark age\n\nI grieve in stereo, the stereo sounds strange\nYou know that if it hides, it doesn't go away\nIf I get out of bed, you'll see me standing all alone\nHorrified on the stage\nMy little dark age\n\nGiddy with delight, seeing what's to come\nThe image of the dead, dead ends in my mind\n\nPolicemen swear to God, love's seeping from the guns\nI know my friends and I would probably turn and run\nIf you get out of bed, come find us heading for the bridge\nBring a stone, all the rage\nMy little dark age\nI grieve in stereo, the stereo sounds strange\nI know that if you hide, it doesn't go away\nIf you get out of bed and find me standing all alone\nOpen-eyed, burn the page\nMy little dark age\n\nAll alone, open-eyed\nBurn the page, my little dark age91Embed\n['breath', 'dark', 'lie', 'side', 'ruin', 'dead', 'paint', 'scar', 'straighten', 'less', 'want', 'tri', 'feel', 'start', 'rot', 'one', 'wink', 'time', 'oh', 'forgiv', 'stand', 'gain', 'know', 'hide', 'doesnt', 'go', 'away', 'get', 'bed', 'dont', 'end', 'strand', 'horrifi', 'stone', 'stage', 'littl', 'dark', 'age', 'pick', 'card', 'know', 'what', 'nearbi', 'carv', 'face', 'say', 'find', 'hard', 'engin', 'fail', 'limit', 'disguis', 'humor', 'come', 'denial', 'oh', 'griev', 'stereo', 'stereo', 'sound', 'strang', 'know', 'hide', 'doesnt', 'go', 'away', 'get', 'bed', 'find', 'stand', 'alon', 'openey', 'burn', 'page', 'littl', 'dark', 'age', 'griev', 'stereo', 'stereo', 'sound', 'strang', 'know', 'hide', 'doesnt', 'go', 'away', 'get', 'bed', 'youll', 'see', 'stand', 'alon', 'horrifi', 'stage', 'littl', 'dark', 'age', 'giddi', 'delight', 'see', 'what', 'come', 'imag', 'dead', 'dead', 'end', 'mind', 'policemen', 'swear', 'god', 'love', 'seep', 'gun', 'know', 'friend', 'would', 'probabl', 'turn', 'run', 'get', 'bed', 'come', 'find', 'us', 'head', 'bridg', 'bring', 'stone', 'rage', 'littl', 'dark', 'age', 'griev', 'stereo', 'stereo', 'sound', 'strang', 'know', 'hide', 'doesnt', 'go', 'away', 'get', 'bed', 'find', 'stand', 'alon', 'openey', 'burn', 'page', 'littl', 'dark', 'age', 'alon', 'openey', 'burn', 'page', 'littl']\n",
     "output_type": "stream"
    }
   ],
   "execution_count": null
  },
  {
   "cell_type": "markdown",
   "source": "### Write results",
   "metadata": {
    "cell_id": "33aa4c869bc4485aac3077dce54c8594",
    "tags": [],
    "deepnote_cell_type": "markdown",
    "deepnote_cell_height": 62
   }
  },
  {
   "cell_type": "code",
   "metadata": {
    "cell_id": "7d34b7f704bb45f1ad4db736b363f6be",
    "tags": [],
    "deepnote_to_be_reexecuted": false,
    "source_hash": "9fee5d80",
    "execution_start": 1652890587138,
    "execution_millis": 1011,
    "deepnote_cell_type": "code",
    "deepnote_cell_height": 81
   },
   "source": "df_w_lyrics.to_csv('pure_genre_data_w_clean_lyrics.csv', index = False)",
   "outputs": [],
   "execution_count": null
  },
  {
   "cell_type": "markdown",
   "source": "<a style='text-decoration:none;line-height:16px;display:flex;color:#5B5B62;padding:10px;justify-content:end;' href='https://deepnote.com?utm_source=created-in-deepnote-cell&projectId=659c715d-e2b5-478e-9116-4d32a5174810' target=\"_blank\">\n<img alt='Created in deepnote.com' style='display:inline;max-height:16px;margin:0px;margin-right:7.5px;' src='data:image/svg+xml;base64,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' > </img>\nCreated in <span style='font-weight:600;margin-left:4px;'>Deepnote</span></a>",
   "metadata": {
    "tags": [],
    "created_in_deepnote_cell": true,
    "deepnote_cell_type": "markdown"
   }
  }
 ],
 "nbformat": 4,
 "nbformat_minor": 2,
 "metadata": {
  "orig_nbformat": 2,
  "deepnote": {},
  "deepnote_notebook_id": "0f715628-e05a-4427-b961-40dff270ece5",
  "deepnote_execution_queue": []
 }
}