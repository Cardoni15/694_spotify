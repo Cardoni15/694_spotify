{
 "cells": [
  {
   "cell_type": "code",
   "metadata": {
    "cell_id": "87859d4d-5e6e-45ce-91e4-93c4a95d7ba3",
    "deepnote_cell_type": "code"
   },
   "source": "import numpy as np\nimport pandas as pd\nimport random\nimport spotipy\nfrom spotipy.oauth2 import SpotifyClientCredentials\nfrom tqdm import tqdm\nSPOTIPY_CLIENT_ID='4f89cd57785747e1b1d7ee0b95e61985'\nsecret = '61708a8ace7647ba888be760fbc822d1'\ngenres_to_collect = ('alt-rock','classical', 'country',\n                       'edm', 'heavy-metal',  'hip-hop',\n                       'latin')",
   "execution_count": null,
   "outputs": []
  },
  {
   "cell_type": "code",
   "metadata": {
    "cell_id": "00001-45301995-4531-4be7-8f1f-5efdc9472d7b",
    "deepnote_cell_type": "code"
   },
   "source": "def create_credentials_obj():\n    \"\"\"\n    return a spotipy object\n    \"\"\"\n    client_credentials_manager = SpotifyClientCredentials(client_id=SPOTIPY_CLIENT_ID, client_secret=secret)\n    sp = spotipy.Spotify(client_credentials_manager=client_credentials_manager)\n    return sp",
   "execution_count": null,
   "outputs": []
  },
  {
   "cell_type": "code",
   "metadata": {
    "cell_id": "00002-7c13df1b-c7d3-4e75-b6ba-a373c6060060",
    "deepnote_cell_type": "code"
   },
   "source": "def collect_seed_tracks(sp, genre_list, num_tracks_per_genre):\n    \"\"\"\n    provide a genre list, number of tracks per genre\n    return a dataframe of artist, track, genre\n    \"\"\"\n    artist_genre_id_df = pd.DataFrame(columns=['artist_name', 'artist_id', 'track_name', 'track_id', 'genre'])\n    if num_tracks_per_genre > 100:\n        num_iterations = round(num_tracks_per_genre/100)\n        num_tracks_per_genre = 100\n    else:\n        num_iterations = 1\n\n    track_id_list = []\n    for i in tqdm(range(num_iterations)):\n        for genre in genre_list:\n            tempRecs = sp.recommendations(seed_genres=[genre], limit=num_tracks_per_genre, market='US')\n            for track in tempRecs['tracks']:\n                temp_artist = track['artists'][0]['name']\n                temp_artist_id = track['artists'][0]['id']\n                temp_track_name = track['name']\n                temp_track_id = track['id']\n                # only assign track if it is not already in the list \n                # this avoids having tracks assigned to multiple genres\n                if temp_track_id not in set(track_id_list):\n                    track_id_list.append(temp_track_id)\n                    # add row to dataframe\n                    artist_genre_id_df.loc[len(artist_genre_id_df.index)] = [temp_artist, temp_artist_id, temp_track_name, temp_track_id, genre]\n    return artist_genre_id_df\n",
   "execution_count": null,
   "outputs": []
  },
  {
   "cell_type": "code",
   "metadata": {
    "cell_id": "00003-d9629b9f-f926-4fed-bc46-3c80084ea38e",
    "deepnote_cell_type": "code"
   },
   "source": "def collect_track_attributes(sp, artist_track_df):\n    \"\"\"\n    provide a dataframe containing track_id\n    return a merged df containing both features and artist info\n    \"\"\"\n    num_tracks = len(artist_track_df)\n    num_groups = int(num_tracks/95)\n    track_features_df = pd.DataFrame()\n    subDFs = np.array_split(artist_track_df, num_groups)\n    for df in tqdm(subDFs):\n        try:\n            temp_features_list = sp.audio_features(df['track_id'].values)\n            temp_features_list = [track for track in temp_features_list if track != None]\n            temp_features_df = pd.DataFrame(temp_features_list)\n            temp_features_df.rename(columns={'id': 'track_id'}, inplace=True)\n            track_features_df = pd.concat([track_features_df, temp_features_df])\n            # save the csv incase it gets stuck along the way.\n            track_features_df.to_csv('iterative_features.csv')\n        except:\n            print('failure to load track values')\n    result_df = pd.merge(track_features_df, artist_track_df, how='inner', on='track_id')\n    result_df.to_csv('moderate_song_data.csv')\n    return result_df",
   "execution_count": null,
   "outputs": []
  },
  {
   "cell_type": "code",
   "metadata": {
    "cell_id": "00004-1658dceb-7830-41b4-92e6-0b309acb4c6d",
    "deepnote_cell_type": "code"
   },
   "source": "feature_artist_track_df.groupby('genre').count()\nprint(len(feature_artist_track_df))",
   "execution_count": null,
   "outputs": [
    {
     "name": "stdout",
     "output_type": "stream",
     "text": "165116\n"
    }
   ]
  },
  {
   "cell_type": "code",
   "metadata": {
    "cell_id": "00005-51e36109-51c7-49fe-bbbc-abe199189cba",
    "deepnote_cell_type": "code"
   },
   "source": "\n\ndef spotify_data_booster(sp, tracks_df, num_iterations, genre_list):\n    \"\"\"\n    read in a tracks dataframe\n\n    use the tracks to seed more tracks\n\n    return an updated version of the original dataframe.\n    \"\"\"\n\n    track_id_list = list(tracks_df['track_id'].values)\n    for i in tqdm(range(num_iterations)):\n        for genre in genre_list:\n            temp_df = tracks_df[tracks_df['genre']==genre]\n            \n            seed_tracks = list(temp_df['track_id'].sample(3))\n            tempRecs = sp.recommendations(seed_genres=[genre], seed_tracks=seed_tracks, limit=95, market='US')\n            for track in tempRecs['tracks']:\n                temp_artist = track['artists'][0]['name']\n                temp_artist_id = track['artists'][0]['id']\n                temp_track_name = track['name']\n                temp_track_id = track['id']\n                # only assign track if it is not already in the list \n                # this avoids having tracks assigned to multiple genres\n                if temp_track_id not in set(track_id_list):\n                    track_id_list.append(temp_track_id)\n                    # add row to dataframe\n                    tracks_df.loc[len(tracks_df.index)] = [temp_artist, temp_artist_id, temp_track_name, temp_track_id, genre]\n    return tracks_df",
   "execution_count": null,
   "outputs": []
  },
  {
   "cell_type": "code",
   "metadata": {
    "cell_id": "00006-96125155-77dd-4f4c-8159-77734be69ec6",
    "deepnote_cell_type": "code"
   },
   "source": "# integrate the pipeline together\n\n# step 1 create a spotipy instance\nsp_creds = create_credentials_obj()\nartist_track_df = collect_seed_tracks(sp_creds, genres_to_collect, 1000)\nprint(len(artist_track_df))\nartist_track_df = spotify_data_booster(sp_creds, artist_track_df, 100, genres_to_collect)\nprint(len(artist_track_df))\nfeature_artist_track_df = collect_track_attributes(sp_creds, artist_track_df)\n\n\n",
   "execution_count": null,
   "outputs": [
    {
     "name": "stderr",
     "output_type": "stream",
     "text": "100%|██████████| 10/10 [00:38<00:00,  3.82s/it]\n"
    },
    {
     "name": "stdout",
     "output_type": "stream",
     "text": "2715\n"
    },
    {
     "name": "stderr",
     "output_type": "stream",
     "text": "100%|██████████| 100/100 [08:03<00:00,  4.84s/it]\n"
    },
    {
     "name": "stdout",
     "output_type": "stream",
     "text": "30990\n"
    },
    {
     "name": "stderr",
     "output_type": "stream",
     "text": "100%|██████████| 326/326 [02:12<00:00,  2.45it/s]\n"
    }
   ]
  },
  {
   "cell_type": "code",
   "metadata": {
    "cell_id": "00007-dfd1a437-7d81-431f-8e2a-4287e9426e1a",
    "deepnote_cell_type": "code"
   },
   "source": "#artist_track_df.to_csv('track_artist_165k.csv')",
   "execution_count": null,
   "outputs": []
  },
  {
   "cell_type": "code",
   "metadata": {
    "cell_id": "00008-8f763105-4a0e-4115-98cb-34bc9a84df09",
    "deepnote_cell_type": "code"
   },
   "source": "feature_artist_track_df.groupby('genre).count()",
   "execution_count": null,
   "outputs": []
  },
  {
   "cell_type": "markdown",
   "source": "<a style='text-decoration:none;line-height:16px;display:flex;color:#5B5B62;padding:10px;justify-content:end;' href='https://deepnote.com?utm_source=created-in-deepnote-cell&projectId=659c715d-e2b5-478e-9116-4d32a5174810' target=\"_blank\">\n<img alt='Created in deepnote.com' style='display:inline;max-height:16px;margin:0px;margin-right:7.5px;' src='data:image/svg+xml;base64,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' > </img>\nCreated in <span style='font-weight:600;margin-left:4px;'>Deepnote</span></a>",
   "metadata": {
    "tags": [],
    "created_in_deepnote_cell": true,
    "deepnote_cell_type": "markdown"
   }
  }
 ],
 "nbformat": 4,
 "nbformat_minor": 2,
 "metadata": {
  "interpreter": {
   "hash": "5edc29c2ed010d6458d71a83433b383a96a8cbd3efe8531bc90c4b8a5b8bcec9"
  },
  "kernelspec": {
   "display_name": "Python 3.8.2 64-bit",
   "language": "python",
   "name": "python3"
  },
  "language_info": {
   "codemirror_mode": {
    "name": "ipython",
    "version": 3
   },
   "file_extension": ".py",
   "mimetype": "text/x-python",
   "name": "python",
   "nbconvert_exporter": "python",
   "pygments_lexer": "ipython3",
   "version": "3.8.2"
  },
  "orig_nbformat": 4,
  "deepnote_notebook_id": "098d6948-fc48-4f68-9841-edf9ee500569",
  "deepnote": {},
  "deepnote_execution_queue": []
 }
}