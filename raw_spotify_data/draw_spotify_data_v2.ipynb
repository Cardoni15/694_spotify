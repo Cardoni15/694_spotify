{
 "cells": [
  {
   "cell_type": "code",
   "execution_count": 108,
   "metadata": {},
   "outputs": [],
   "source": [
    "import numpy as np\n",
    "import pandas as pd\n",
    "import random\n",
    "import spotipy\n",
    "from spotipy.oauth2 import SpotifyClientCredentials\n",
    "from tqdm import tqdm\n",
    "SPOTIPY_CLIENT_ID='4f89cd57785747e1b1d7ee0b95e61985'\n",
    "secret = '61708a8ace7647ba888be760fbc822d1'\n",
    "genres_to_collect = ('alt-rock','classical', 'country',\n",
    "                       'edm', 'heavy-metal',  'hip-hop',\n",
    "                       'latin')"
   ]
  },
  {
   "cell_type": "code",
   "execution_count": 109,
   "metadata": {},
   "outputs": [],
   "source": [
    "def create_credentials_obj():\n",
    "    \"\"\"\n",
    "    return a spotipy object\n",
    "    \"\"\"\n",
    "    client_credentials_manager = SpotifyClientCredentials(client_id=SPOTIPY_CLIENT_ID, client_secret=secret)\n",
    "    sp = spotipy.Spotify(client_credentials_manager=client_credentials_manager)\n",
    "    return sp"
   ]
  },
  {
   "cell_type": "code",
   "execution_count": 110,
   "metadata": {},
   "outputs": [],
   "source": [
    "def collect_seed_tracks(sp, genre_list, num_tracks_per_genre):\n",
    "    \"\"\"\n",
    "    provide a genre list, number of tracks per genre\n",
    "    return a dataframe of artist, track, genre\n",
    "    \"\"\"\n",
    "    artist_genre_id_df = pd.DataFrame(columns=['artist_name', 'artist_id', 'track_name', 'track_id', 'genre'])\n",
    "    if num_tracks_per_genre > 100:\n",
    "        num_iterations = round(num_tracks_per_genre/100)\n",
    "        num_tracks_per_genre = 100\n",
    "    else:\n",
    "        num_iterations = 1\n",
    "\n",
    "    track_id_list = []\n",
    "    for i in tqdm(range(num_iterations)):\n",
    "        for genre in genre_list:\n",
    "            tempRecs = sp.recommendations(seed_genres=[genre], limit=num_tracks_per_genre, market='US')\n",
    "            for track in tempRecs['tracks']:\n",
    "                temp_artist = track['artists'][0]['name']\n",
    "                temp_artist_id = track['artists'][0]['id']\n",
    "                temp_track_name = track['name']\n",
    "                temp_track_id = track['id']\n",
    "                # only assign track if it is not already in the list \n",
    "                # this avoids having tracks assigned to multiple genres\n",
    "                if temp_track_id not in set(track_id_list):\n",
    "                    track_id_list.append(temp_track_id)\n",
    "                    # add row to dataframe\n",
    "                    artist_genre_id_df.loc[len(artist_genre_id_df.index)] = [temp_artist, temp_artist_id, temp_track_name, temp_track_id, genre]\n",
    "    return artist_genre_id_df\n"
   ]
  },
  {
   "cell_type": "code",
   "execution_count": 111,
   "metadata": {},
   "outputs": [],
   "source": [
    "def collect_track_attributes(sp, artist_track_df):\n",
    "    \"\"\"\n",
    "    provide a dataframe containing track_id\n",
    "    return a merged df containing both features and artist info\n",
    "    \"\"\"\n",
    "    num_tracks = len(artist_track_df)\n",
    "    num_groups = int(num_tracks/95)\n",
    "    track_features_df = pd.DataFrame()\n",
    "    subDFs = np.array_split(artist_track_df, num_groups)\n",
    "    for df in tqdm(subDFs):\n",
    "        try:\n",
    "            temp_features_list = sp.audio_features(df['track_id'].values)\n",
    "            temp_features_list = [track for track in temp_features_list if track != None]\n",
    "            temp_features_df = pd.DataFrame(temp_features_list)\n",
    "            temp_features_df.rename(columns={'id': 'track_id'}, inplace=True)\n",
    "            track_features_df = pd.concat([track_features_df, temp_features_df])\n",
    "            # save the csv incase it gets stuck along the way.\n",
    "            track_features_df.to_csv('iterative_features.csv')\n",
    "        except:\n",
    "            print('failure to load track values')\n",
    "    result_df = pd.merge(track_features_df, artist_track_df, how='inner', on='track_id')\n",
    "    result_df.to_csv('moderate_song_data.csv')\n",
    "    return result_df"
   ]
  },
  {
   "cell_type": "code",
   "execution_count": 112,
   "metadata": {},
   "outputs": [
    {
     "name": "stdout",
     "output_type": "stream",
     "text": [
      "165116\n"
     ]
    }
   ],
   "source": [
    "feature_artist_track_df.groupby('genre').count()\n",
    "print(len(feature_artist_track_df))"
   ]
  },
  {
   "cell_type": "code",
   "execution_count": 113,
   "metadata": {},
   "outputs": [],
   "source": [
    "\n",
    "\n",
    "def spotify_data_booster(sp, tracks_df, num_iterations, genre_list):\n",
    "    \"\"\"\n",
    "    read in a tracks dataframe\n",
    "\n",
    "    use the tracks to seed more tracks\n",
    "\n",
    "    return an updated version of the original dataframe.\n",
    "    \"\"\"\n",
    "\n",
    "    track_id_list = list(tracks_df['track_id'].values)\n",
    "    for i in tqdm(range(num_iterations)):\n",
    "        for genre in genre_list:\n",
    "            temp_df = tracks_df[tracks_df['genre']==genre]\n",
    "            \n",
    "            seed_tracks = list(temp_df['track_id'].sample(3))\n",
    "            tempRecs = sp.recommendations(seed_genres=[genre], seed_tracks=seed_tracks, limit=95, market='US')\n",
    "            for track in tempRecs['tracks']:\n",
    "                temp_artist = track['artists'][0]['name']\n",
    "                temp_artist_id = track['artists'][0]['id']\n",
    "                temp_track_name = track['name']\n",
    "                temp_track_id = track['id']\n",
    "                # only assign track if it is not already in the list \n",
    "                # this avoids having tracks assigned to multiple genres\n",
    "                if temp_track_id not in set(track_id_list):\n",
    "                    track_id_list.append(temp_track_id)\n",
    "                    # add row to dataframe\n",
    "                    tracks_df.loc[len(tracks_df.index)] = [temp_artist, temp_artist_id, temp_track_name, temp_track_id, genre]\n",
    "    return tracks_df"
   ]
  },
  {
   "cell_type": "code",
   "execution_count": 114,
   "metadata": {},
   "outputs": [
    {
     "name": "stderr",
     "output_type": "stream",
     "text": [
      "100%|██████████| 10/10 [00:38<00:00,  3.82s/it]\n"
     ]
    },
    {
     "name": "stdout",
     "output_type": "stream",
     "text": [
      "2715\n"
     ]
    },
    {
     "name": "stderr",
     "output_type": "stream",
     "text": [
      "100%|██████████| 100/100 [08:03<00:00,  4.84s/it]\n"
     ]
    },
    {
     "name": "stdout",
     "output_type": "stream",
     "text": [
      "30990\n"
     ]
    },
    {
     "name": "stderr",
     "output_type": "stream",
     "text": [
      "100%|██████████| 326/326 [02:12<00:00,  2.45it/s]\n"
     ]
    }
   ],
   "source": [
    "# integrate the pipeline together\n",
    "\n",
    "# step 1 create a spotipy instance\n",
    "sp_creds = create_credentials_obj()\n",
    "artist_track_df = collect_seed_tracks(sp_creds, genres_to_collect, 1000)\n",
    "print(len(artist_track_df))\n",
    "artist_track_df = spotify_data_booster(sp_creds, artist_track_df, 100, genres_to_collect)\n",
    "print(len(artist_track_df))\n",
    "feature_artist_track_df = collect_track_attributes(sp_creds, artist_track_df)\n",
    "\n",
    "\n"
   ]
  },
  {
   "cell_type": "code",
   "execution_count": 115,
   "metadata": {},
   "outputs": [],
   "source": [
    "#artist_track_df.to_csv('track_artist_165k.csv')"
   ]
  },
  {
   "cell_type": "code",
   "execution_count": 116,
   "metadata": {},
   "outputs": [],
   "source": [
    "feature_artist_track_df.groupby('genre).count()"
   ]
  }
 ],
 "metadata": {
  "interpreter": {
   "hash": "5edc29c2ed010d6458d71a83433b383a96a8cbd3efe8531bc90c4b8a5b8bcec9"
  },
  "kernelspec": {
   "display_name": "Python 3.8.2 64-bit",
   "language": "python",
   "name": "python3"
  },
  "language_info": {
   "codemirror_mode": {
    "name": "ipython",
    "version": 3
   },
   "file_extension": ".py",
   "mimetype": "text/x-python",
   "name": "python",
   "nbconvert_exporter": "python",
   "pygments_lexer": "ipython3",
   "version": "3.8.2"
  },
  "orig_nbformat": 4
 },
 "nbformat": 4,
 "nbformat_minor": 2
}
