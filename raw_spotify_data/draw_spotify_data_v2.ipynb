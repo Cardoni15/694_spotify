{
 "cells": [
  {
   "cell_type": "code",
   "execution_count": 10,
   "metadata": {},
   "outputs": [],
   "source": [
    "import numpy as np\n",
    "import pandas as pd\n",
    "import random\n",
    "import spotipy\n",
    "from spotipy.oauth2 import SpotifyClientCredentials\n",
    "from tqdm import tqdm\n",
    "SPOTIPY_CLIENT_ID='4f89cd57785747e1b1d7ee0b95e61985'\n",
    "secret = '61708a8ace7647ba888be760fbc822d1'\n",
    "genres_to_collect = ('alt-rock', 'blues', 'classical', 'club', 'country',\n",
    "                       'edm', 'heavy-metal',  'hip-hop', 'indie', 'jazz',\n",
    "                       'latin', 'metal', 'pop', 'punk', 'rock')"
   ]
  },
  {
   "cell_type": "code",
   "execution_count": 7,
   "metadata": {},
   "outputs": [],
   "source": [
    "def create_credentials_obj():\n",
    "    \"\"\"\n",
    "    return a spotipy object\n",
    "    \"\"\"\n",
    "    client_credentials_manager = SpotifyClientCredentials(client_id=SPOTIPY_CLIENT_ID, client_secret=secret)\n",
    "    sp = spotipy.Spotify(client_credentials_manager=client_credentials_manager)\n",
    "    return sp"
   ]
  },
  {
   "cell_type": "code",
   "execution_count": 4,
   "metadata": {},
   "outputs": [],
   "source": [
    "def collect_seed_tracks(sp, genre_list, num_tracks_per_genre):\n",
    "    \"\"\"\n",
    "    provide a genre list, number of tracks per genre\n",
    "    return a dataframe of artist, track, genre\n",
    "    \"\"\"\n",
    "    artist_genre_id_df = pd.DataFrame(columns=['artist_name', 'artist_id', 'track_name', 'track_id', 'genre'])\n",
    "    if num_tracks_per_genre > 100:\n",
    "        num_iterations = round(num_tracks_per_genre/100)\n",
    "        num_tracks_per_genre = 100\n",
    "    else:\n",
    "        num_iterations = 1\n",
    "\n",
    "    track_id_list = []\n",
    "    for i in tqdm(range(num_iterations)):\n",
    "        for genre in genre_list:\n",
    "            tempRecs = sp.recommendations(seed_genres=[genre], limit=num_tracks_per_genre, market='US')\n",
    "            for track in tempRecs['tracks']:\n",
    "                temp_artist = track['artists'][0]['name']\n",
    "                temp_artist_id = track['artists'][0]['id']\n",
    "                temp_artist_id = track['artists'][0]['id']\n",
    "                temp_track_name = track['name']\n",
    "                temp_track_id = track['id']\n",
    "                # only assign track if it is not already in the list \n",
    "                # this avoids having tracks assigned to multiple genres\n",
    "                if temp_track_id not in set(track_id_list):\n",
    "                    track_id_list.append(temp_track_id)\n",
    "                    # add row to dataframe\n",
    "                    artist_genre_id_df.loc[len(artist_genre_id_df.index)] = [temp_artist, temp_artist_id, temp_track_name, temp_track_id, genre]\n",
    "    return artist_genre_id_df\n"
   ]
  },
  {
   "cell_type": "code",
   "execution_count": 13,
   "metadata": {},
   "outputs": [],
   "source": [
    "def collect_track_attributes(sp, artist_track_df):\n",
    "    \"\"\"\n",
    "    provide a dataframe containing track_id\n",
    "    return a merged df containing both features and artist info\n",
    "    \"\"\"\n",
    "    num_tracks = len(artist_genre_id_df)\n",
    "    num_groups = int(num_tracks/95)\n",
    "    track_features_df = pd.DataFrame()\n",
    "    subDFs = np.array_split(artist_track_df, num_groups)\n",
    "    for df in subDFs:\n",
    "        temp_features_df = pd.DataFrame(sp.audio_features(df['track_id'].values))\n",
    "        temp_features_df.rename(columns={'id': 'track_id'})\n",
    "        track_features_df = pd.concat([track_features_df, temp_features_df])\n",
    "        # save the csv incase it gets stuck along the way.\n",
    "        track_features_df.to_csv('iterative_features.csv')\n",
    "    result_df = pd.merge(track_features_df, artist_track_df, how='inner', on='track_id')\n",
    "    result_df.to_csv('track_artist_attributes.csv')\n",
    "    return result_df"
   ]
  },
  {
   "cell_type": "code",
   "execution_count": 14,
   "metadata": {},
   "outputs": [
    {
     "name": "stderr",
     "output_type": "stream",
     "text": [
      "100%|██████████| 1/1 [00:09<00:00,  9.71s/it]\n"
     ]
    },
    {
     "ename": "NameError",
     "evalue": "name 'artist_genre_id_df' is not defined",
     "output_type": "error",
     "traceback": [
      "\u001b[0;31m---------------------------------------------------------------------------\u001b[0m",
      "\u001b[0;31mNameError\u001b[0m                                 Traceback (most recent call last)",
      "\u001b[0;32m/var/folders/6r/kwmwk0wx4yj2ccxtwqdqgb4r0000gn/T/ipykernel_7483/3018549598.py\u001b[0m in \u001b[0;36m<module>\u001b[0;34m\u001b[0m\n\u001b[1;32m      4\u001b[0m \u001b[0msp_creds\u001b[0m \u001b[0;34m=\u001b[0m \u001b[0mcreate_credentials_obj\u001b[0m\u001b[0;34m(\u001b[0m\u001b[0;34m)\u001b[0m\u001b[0;34m\u001b[0m\u001b[0;34m\u001b[0m\u001b[0m\n\u001b[1;32m      5\u001b[0m \u001b[0martist_track_df\u001b[0m \u001b[0;34m=\u001b[0m \u001b[0mcollect_seed_tracks\u001b[0m\u001b[0;34m(\u001b[0m\u001b[0msp_creds\u001b[0m\u001b[0;34m,\u001b[0m \u001b[0mgenres_to_collect\u001b[0m\u001b[0;34m,\u001b[0m \u001b[0;36m100\u001b[0m\u001b[0;34m)\u001b[0m\u001b[0;34m\u001b[0m\u001b[0;34m\u001b[0m\u001b[0m\n\u001b[0;32m----> 6\u001b[0;31m \u001b[0mfeature_artist_track_df\u001b[0m \u001b[0;34m=\u001b[0m \u001b[0mcollect_track_attributes\u001b[0m\u001b[0;34m(\u001b[0m\u001b[0msp_creds\u001b[0m\u001b[0;34m,\u001b[0m \u001b[0martist_track_df\u001b[0m\u001b[0;34m)\u001b[0m\u001b[0;34m\u001b[0m\u001b[0;34m\u001b[0m\u001b[0m\n\u001b[0m\u001b[1;32m      7\u001b[0m \u001b[0;34m\u001b[0m\u001b[0m\n\u001b[1;32m      8\u001b[0m \u001b[0;34m\u001b[0m\u001b[0m\n",
      "\u001b[0;32m/var/folders/6r/kwmwk0wx4yj2ccxtwqdqgb4r0000gn/T/ipykernel_7483/2113219836.py\u001b[0m in \u001b[0;36mcollect_track_attributes\u001b[0;34m(sp, artist_track_df)\u001b[0m\n\u001b[1;32m      4\u001b[0m     \u001b[0;32mreturn\u001b[0m \u001b[0ma\u001b[0m \u001b[0mmerged\u001b[0m \u001b[0mdf\u001b[0m \u001b[0mcontaining\u001b[0m \u001b[0mboth\u001b[0m \u001b[0mfeatures\u001b[0m \u001b[0;32mand\u001b[0m \u001b[0martist\u001b[0m \u001b[0minfo\u001b[0m\u001b[0;34m\u001b[0m\u001b[0;34m\u001b[0m\u001b[0m\n\u001b[1;32m      5\u001b[0m     \"\"\"\n\u001b[0;32m----> 6\u001b[0;31m     \u001b[0mnum_tracks\u001b[0m \u001b[0;34m=\u001b[0m \u001b[0mlen\u001b[0m\u001b[0;34m(\u001b[0m\u001b[0martist_genre_id_df\u001b[0m\u001b[0;34m)\u001b[0m\u001b[0;34m\u001b[0m\u001b[0;34m\u001b[0m\u001b[0m\n\u001b[0m\u001b[1;32m      7\u001b[0m     \u001b[0mnum_groups\u001b[0m \u001b[0;34m=\u001b[0m \u001b[0mint\u001b[0m\u001b[0;34m(\u001b[0m\u001b[0mnum_tracks\u001b[0m\u001b[0;34m/\u001b[0m\u001b[0;36m95\u001b[0m\u001b[0;34m)\u001b[0m\u001b[0;34m\u001b[0m\u001b[0;34m\u001b[0m\u001b[0m\n\u001b[1;32m      8\u001b[0m     \u001b[0mtrack_features_df\u001b[0m \u001b[0;34m=\u001b[0m \u001b[0mpd\u001b[0m\u001b[0;34m.\u001b[0m\u001b[0mDataFrame\u001b[0m\u001b[0;34m(\u001b[0m\u001b[0;34m)\u001b[0m\u001b[0;34m\u001b[0m\u001b[0;34m\u001b[0m\u001b[0m\n",
      "\u001b[0;31mNameError\u001b[0m: name 'artist_genre_id_df' is not defined"
     ]
    }
   ],
   "source": [
    "# integrate the pipeline together\n",
    "\n",
    "# step 1 create a spotipy instance\n",
    "sp_creds = create_credentials_obj()\n",
    "artist_track_df = collect_seed_tracks(sp_creds, genres_to_collect, 100)\n",
    "feature_artist_track_df = collect_track_attributes(sp_creds, artist_track_df)\n",
    "\n",
    "\n"
   ]
  }
 ],
 "metadata": {
  "interpreter": {
   "hash": "5edc29c2ed010d6458d71a83433b383a96a8cbd3efe8531bc90c4b8a5b8bcec9"
  },
  "kernelspec": {
   "display_name": "Python 3.8.2 64-bit",
   "language": "python",
   "name": "python3"
  },
  "language_info": {
   "codemirror_mode": {
    "name": "ipython",
    "version": 3
   },
   "file_extension": ".py",
   "mimetype": "text/x-python",
   "name": "python",
   "nbconvert_exporter": "python",
   "pygments_lexer": "ipython3",
   "version": "3.8.2"
  },
  "orig_nbformat": 4
 },
 "nbformat": 4,
 "nbformat_minor": 2
}
