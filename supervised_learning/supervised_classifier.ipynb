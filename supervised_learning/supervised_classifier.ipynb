{
 "cells": [
  {
   "cell_type": "code",
   "execution_count": 2,
   "metadata": {
    "cell_id": "8c7f1e9f-aa86-4d9e-b35a-de90e3c09586",
    "deepnote_cell_height": 243,
    "deepnote_cell_type": "code",
    "deepnote_to_be_reexecuted": false,
    "execution_millis": 1184,
    "execution_start": 1651706966826,
    "source_hash": "fc719037",
    "tags": []
   },
   "outputs": [],
   "source": [
    "# The goal of this notebook is to lay the foundation\n",
    "# for two types of supervised machine learning classifiers.\n",
    "from collections import Counter\n",
    "from sklearn.dummy import DummyClassifier\n",
    "from sklearn.metrics import f1_score\n",
    "from sklearn.linear_model import LogisticRegression\n",
    "from sklearn.naive_bayes import GaussianNB\n",
    "from sklearn.ensemble import VotingClassifier\n",
    "from sklearn.ensemble import StackingClassifier\n",
    "from sklearn.ensemble import RandomForestClassifier\n",
    "from sklearn.decomposition import PCA\n",
    "from sklearn.neighbors import KNeighborsClassifier\n",
    "from sklearn.pipeline import make_pipeline\n",
    "from sklearn.preprocessing import StandardScaler\n",
    "from sklearn.svm import SVC\n",
    "\n",
    "import ast\n",
    "import pandas as pd\n",
    "import numpy as np\n",
    "\n"
   ]
  },
  {
   "cell_type": "code",
   "execution_count": 3,
   "metadata": {
    "cell_id": "80a86a872f8c4cf3b60d2ae311e9f85d",
    "deepnote_cell_height": 135,
    "deepnote_cell_type": "code",
    "deepnote_to_be_reexecuted": false,
    "execution_millis": 6,
    "execution_start": 1651706968017,
    "source_hash": "61779d5b",
    "tags": []
   },
   "outputs": [],
   "source": [
    "## This pipeline starts from the point we have a pandas dataframe containing song attributes and genre\n",
    "## step 1: break the data into training and test data\n",
    "## step 2: generate a classifier using the training data\n",
    "## step 3: test the performance using the test data"
   ]
  },
  {
   "cell_type": "code",
   "execution_count": 4,
   "metadata": {},
   "outputs": [],
   "source": [
    "## Step 0: Filter Out Unneeded Cols\n",
    "def condition_raw_data(raw_df):\n",
    "    \"\"\"\n",
    "    Consume a dataframe\n",
    "\n",
    "    Return a DF with the musical attributes and genre columns only\n",
    "    \"\"\"\n",
    "    # rename artist genres to be called genre\n",
    "    raw_df.rename(columns={'artist_genres': 'genre'}, inplace=True)\n",
    "    # features and y val cols.\n",
    "    required_cols = ['danceability', 'energy', 'key', 'loudness', 'mode', \n",
    "                'speechiness', 'acousticness', 'instrumentalness', \n",
    "                'liveness', 'valence', 'tempo', 'time_signature',\n",
    "                'duration_ms', 'genre'\n",
    "       ]\n",
    "    # remove unneccessary cols\n",
    "    raw_df = raw_df[required_cols]\n",
    "\n",
    "    \n",
    "\n",
    "    return raw_df\n"
   ]
  },
  {
   "cell_type": "code",
   "execution_count": 5,
   "metadata": {},
   "outputs": [],
   "source": [
    "## Step N: Create a function that will clean the genres.\n",
    "\n",
    "def calculate_popular_genre(track_df, max_num_genres = 10):\n",
    "    \"\"\"\n",
    "    Read a series of genre tuples\n",
    "    Calculate the most frequent genre\n",
    "\n",
    "    return an updated dataframe with one genre\n",
    "    \"\"\"\n",
    "    # create a counter to collect genre names\n",
    "    # remove rows missing genre\n",
    "    track_df = track_df.loc[track_df['genre'].apply(len)>0,:]\n",
    "    genre_counter = Counter()\n",
    "    for genres in track_df['genre']:\n",
    "        for genre in genres:\n",
    "            # split by space to help eliminate sub categories of major genres\n",
    "            split_genre = genre.split(' ')\n",
    "            # fill the counter with the genres\n",
    "            genre_counter.update(split_genre)\n",
    "    # create a list to hold the most popular genre for each artist\n",
    "    top_genres = []\n",
    "    # convert the counter to a dict so that we can look up the score\n",
    "    genre_score = dict(genre_counter)\n",
    "    for genres in track_df['genre']:\n",
    "        # initialize the score and genre to None\n",
    "        temp_score = 0\n",
    "        temp_genre = None\n",
    "        for genre in genres:\n",
    "            genre = genre.split(' ')\n",
    "            for sub_genre in genre:\n",
    "                # calculate score by looking it up in the dictionary\n",
    "                eval_score = genre_score[sub_genre]\n",
    "                if eval_score > temp_score:\n",
    "                    temp_score = eval_score\n",
    "                    temp_genre = sub_genre\n",
    "        top_genres.append(temp_genre)\n",
    "    track_df['genre'] = top_genres\n",
    "    # Create a new counter and filter\n",
    "    filt_genres = Counter(top_genres)\n",
    "    cut_off_genres = filt_genres.most_common(max_num_genres)\n",
    "    included_genres = list(zip(*cut_off_genres))[0]\n",
    "    # filter out low frequency genres\n",
    "    track_df = track_df[track_df['genre'].isin(included_genres)]\n",
    "    return track_df\n",
    "\n"
   ]
  },
  {
   "cell_type": "code",
   "execution_count": 6,
   "metadata": {
    "cell_id": "7449a068dbb14ff5bc0980e4d734328b",
    "deepnote_cell_height": 369,
    "deepnote_cell_type": "code",
    "deepnote_to_be_reexecuted": false,
    "execution_millis": 9,
    "execution_start": 1651706968027,
    "source_hash": "192ce9f9",
    "tags": []
   },
   "outputs": [],
   "source": [
    "## Step 1: Break the data into a training and a test set\n",
    "def generate_train_test(tracks_df, random_val=42, split_ratio=0.8):\n",
    "    \"\"\"\n",
    "    inputs:\n",
    "        a dataframe containing song attributes and genre.\n",
    "        random val for repeatability\n",
    "        split_ratio = decimal pct of samples to use for training.\n",
    "    returns:\n",
    "        two dataframes train_df and test_df\n",
    "    \"\"\"\n",
    "    # step 1 shuffle the df\n",
    "    temp_df = tracks_df.sample(random_state=random_val, frac=1.0)\n",
    "    # establish a number to split the frame at.\n",
    "    num_train_samples = int(split_ratio*len(tracks_df))\n",
    "    # split the DF into two sets train and test\n",
    "    return np.split(temp_df, [num_train_samples])\n"
   ]
  },
  {
   "cell_type": "code",
   "execution_count": 7,
   "metadata": {
    "cell_id": "24fc39936d2c4ca1b0339567b69ebad2",
    "deepnote_cell_height": 423,
    "deepnote_cell_type": "code",
    "deepnote_to_be_reexecuted": false,
    "execution_millis": 8,
    "execution_start": 1651706968043,
    "source_hash": "6c17d69a",
    "tags": []
   },
   "outputs": [],
   "source": [
    "# Step 2: train a classifier using the training set\n",
    "\n",
    "def train_logistic_regression(train_df, random_val=42):\n",
    "    \"\"\"\n",
    "    inputs:\n",
    "        A dataframe of training data\n",
    "        A random value for repeatability\n",
    "\n",
    "    returns:\n",
    "        a trained classifier.\n",
    "    \"\"\"\n",
    "    # Step 1 create X and y\n",
    "    X = train_df[[col for col in train_df.columns if col != 'genre']]\n",
    "    y = train_df['genre']\n",
    "\n",
    "    # Step 2 create the classifier\n",
    "    clf = LogisticRegression(random_state=random_val, solver = 'lbfgs', multi_class='auto', max_iter=100)\n",
    "    \n",
    "    # fit the classifier\n",
    "    return clf.fit(X, y)"
   ]
  },
  {
   "cell_type": "code",
   "execution_count": 8,
   "metadata": {
    "cell_id": "946fec17732c4ecea704229868008c5c",
    "deepnote_cell_height": 390,
    "deepnote_cell_type": "code",
    "tags": []
   },
   "outputs": [],
   "source": [
    "# Step 3: train a random forest classifier\n",
    "def train_random_forest(train_df, random_val=42):\n",
    "    \"\"\"\n",
    "    inputs:\n",
    "        A dataframe of training data\n",
    "        A random value for repeatability\n",
    "\n",
    "    returns:\n",
    "        a trained classifier.\n",
    "    \"\"\"\n",
    "    # Step 1 create X and y\n",
    "    X = train_df[[col for col in train_df.columns if col != 'genre']]\n",
    "    y = train_df['genre']\n",
    "\n",
    "    # Step 2 create the classifier\n",
    "    clf = RandomForestClassifier(random_state=random_val, n_estimators=1000)\n",
    "    \n",
    "    # fit the classifier\n",
    "    return clf.fit(X, y)"
   ]
  },
  {
   "cell_type": "code",
   "execution_count": 9,
   "metadata": {},
   "outputs": [],
   "source": [
    "# implement a support vector machine to assist with the high dimensionality of the data\n",
    "\n",
    "# Step 3: train a SVC classifier\n",
    "def train_svm(train_df, random_val=42):\n",
    "    \"\"\"\n",
    "    inputs:\n",
    "        A dataframe of training data\n",
    "        A random value for repeatability\n",
    "\n",
    "    returns:\n",
    "        a trained classifier.\n",
    "    \"\"\"\n",
    "    # Step 1 create X and y\n",
    "    X = train_df[[col for col in train_df.columns if col != 'genre']]\n",
    "    y = train_df['genre']\n",
    "\n",
    "    # Step 2 create the classifier\n",
    "    clf = make_pipeline(StandardScaler(), SVC(random_state=random_val))\n",
    "    clf.fit(X,y)\n",
    "    \n",
    "    # fit the classifier\n",
    "    return clf.fit(X, y)"
   ]
  },
  {
   "cell_type": "code",
   "execution_count": 10,
   "metadata": {},
   "outputs": [],
   "source": [
    "# implement a KNN model for classification\n",
    "def train_knn(train_df, random_val=42):\n",
    "    \"\"\"\n",
    "    inputs:\n",
    "        A dataframe of training data\n",
    "    \n",
    "    returns:\n",
    "        a trained classifier\n",
    "    \"\"\"\n",
    "    # Step 1 create X and y\n",
    "    X = train_df[[col for col in train_df.columns if col != 'genre']]\n",
    "    y = train_df['genre']\n",
    "\n",
    "    clf = KNeighborsClassifier(n_neighbors=20)\n",
    "    clf.fit(X, y)\n",
    "    return clf"
   ]
  },
  {
   "cell_type": "code",
   "execution_count": 11,
   "metadata": {
    "cell_id": "9473997adc2a4c758e3950c3aa61aa7b",
    "deepnote_cell_height": 405,
    "deepnote_cell_type": "code",
    "deepnote_to_be_reexecuted": false,
    "execution_millis": 32,
    "execution_start": 1651706968057,
    "owner_user_id": "7cc5a0be-055b-40bf-ac0a-3dbaf638d522",
    "source_hash": "d5159fb5",
    "tags": []
   },
   "outputs": [],
   "source": [
    "# Step 4: test the classifiers\n",
    "\n",
    "def test_regression_model(clf, test_df):\n",
    "    \"\"\"\n",
    "    inputs:\n",
    "        testing set\n",
    "        clf\n",
    "    returns:\n",
    "        f1 score\n",
    "    \"\"\"\n",
    "    # step 1 create an X_test and y_test\n",
    "    X_test = test_df[[col for col in test_df.columns if col != 'genre']]\n",
    "    y_test = test_df['genre']\n",
    "\n",
    "    # step 2 predict the genre for the test set\n",
    "    y_pred = clf.predict(X_test)\n",
    "\n",
    "    # step 3 calculate the average F1 score for all classes\n",
    "    return f1_score(y_test, y_pred, average='macro')"
   ]
  },
  {
   "cell_type": "markdown",
   "metadata": {
    "created_in_deepnote_cell": true,
    "deepnote_cell_type": "markdown",
    "tags": []
   },
   "source": [
    "<a style='text-decoration:none;line-height:16px;display:flex;color:#5B5B62;padding:10px;justify-content:end;' href='https://deepnote.com?utm_source=created-in-deepnote-cell&projectId=659c715d-e2b5-478e-9116-4d32a5174810' target=\"_blank\">\n",
    "<img alt='Created in deepnote.com' style='display:inline;max-height:16px;margin:0px;margin-right:7.5px;' src='data:image/svg+xml;base64,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' > </img>\n",
    "Created in <span style='font-weight:600;margin-left:4px;'>Deepnote</span></a>"
   ]
  },
  {
   "cell_type": "code",
   "execution_count": 12,
   "metadata": {},
   "outputs": [],
   "source": [
    "# Create a dummy classifier for comparison\n",
    "\n",
    "def create_dummy(train_df, random_val=42):\n",
    "    \"\"\"\n",
    "    Train a uniform dummy classifier for performance evaluation\n",
    "    \"\"\"\n",
    "    X = train_df[[col for col in train_df.columns if col != 'genre']]\n",
    "    y = train_df['genre']\n",
    "\n",
    "    random_clf = DummyClassifier(strategy='uniform', random_state=random_val)\n",
    "    random_clf.fit(X, y)\n",
    "    return random_clf"
   ]
  },
  {
   "cell_type": "code",
   "execution_count": 13,
   "metadata": {},
   "outputs": [
    {
     "name": "stdout",
     "output_type": "stream",
     "text": [
      "random forest: 0.6520960462960702\n",
      "logistic regression: 0.0962496823110987\n",
      "Support Vector Classifier: 0.5514640837980559\n",
      "knn classifier: 0.2107725060577436\n",
      "dummy classifier: 0.06997919095663456\n"
     ]
    }
   ],
   "source": [
    "# development cell for integrating all functions together.\n",
    "raw_df = pd.read_csv('dev_data_2.csv')\n",
    "train, test = generate_train_test(raw_df, 42, 0.8)\n",
    "lr_clf = train_logistic_regression(train, 42)\n",
    "rf_clf = train_random_forest(train)\n",
    "svc_clf = train_svm(train)\n",
    "knn_clf = train_knn(train)\n",
    "dum_clf = create_dummy(train)\n",
    "lr_score = test_regression_model(lr_clf, test)\n",
    "rf_score = test_regression_model(rf_clf, test)\n",
    "svc_score = test_regression_model(svc_clf, test)\n",
    "knn_score = test_regression_model(knn_clf, test)\n",
    "dum_score = test_regression_model(dum_clf, test)\n",
    "print(f'random forest: {rf_score}')\n",
    "print(f'logistic regression: {lr_score}')\n",
    "print(f'Support Vector Classifier: {svc_score}')\n",
    "print(f'knn classifier: {knn_score}')\n",
    "print(f'dummy classifier: {dum_score}')"
   ]
  },
  {
   "cell_type": "code",
   "execution_count": 14,
   "metadata": {},
   "outputs": [
    {
     "name": "stderr",
     "output_type": "stream",
     "text": [
      "/var/folders/6r/kwmwk0wx4yj2ccxtwqdqgb4r0000gn/T/ipykernel_12935/3750901079.py:37: SettingWithCopyWarning: \n",
      "A value is trying to be set on a copy of a slice from a DataFrame.\n",
      "Try using .loc[row_indexer,col_indexer] = value instead\n",
      "\n",
      "See the caveats in the documentation: https://pandas.pydata.org/pandas-docs/stable/user_guide/indexing.html#returning-a-view-versus-a-copy\n",
      "  track_df['genre'] = top_genres\n"
     ]
    },
    {
     "name": "stdout",
     "output_type": "stream",
     "text": [
      "random forest: 0.5776054082903398\n",
      "logistic regression: 0.14463276836158193\n",
      "Support Vector Classifier: 0.5119731146046936\n",
      "knn classifier: 0.34211688160799353\n",
      "dummy classifier: 0.13917133026572154\n"
     ]
    }
   ],
   "source": [
    "# development cell for evaluating performance with raw api data.\n",
    "raw_df = pd.read_csv('../raw_spotify_data/raw_spotify_data.csv', converters={\"artist_genres\": ast.literal_eval})\n",
    "raw_df = condition_raw_data(raw_df)\n",
    "clean_df = calculate_popular_genre(raw_df, 5)\n",
    "train, test = generate_train_test(clean_df, 42, 0.8)\n",
    "lr_clf = train_logistic_regression(train, 42)\n",
    "rf_clf = train_random_forest(train)\n",
    "svc_clf = train_svm(train)\n",
    "knn_clf = train_knn(train)\n",
    "dum_clf = create_dummy(train)\n",
    "lr_score = test_regression_model(lr_clf, test)\n",
    "rf_score = test_regression_model(rf_clf, test)\n",
    "svc_score = test_regression_model(svc_clf, test)\n",
    "knn_score = test_regression_model(knn_clf, test)\n",
    "dum_score = test_regression_model(dum_clf, test)\n",
    "print(f'random forest: {rf_score}')\n",
    "print(f'logistic regression: {lr_score}')\n",
    "print(f'Support Vector Classifier: {svc_score}')\n",
    "print(f'knn classifier: {knn_score}')\n",
    "print(f'dummy classifier: {dum_score}')"
   ]
  },
  {
   "cell_type": "code",
   "execution_count": 15,
   "metadata": {},
   "outputs": [
    {
     "name": "stdout",
     "output_type": "stream",
     "text": [
      "random forest: 0.7321047458016763\n",
      "logistic regression: 0.22264573037215607\n",
      "Support Vector Classifier: 0.6809962004780671\n",
      "knn classifier: 0.32482164621038045\n",
      "dummy classifier: 0.1348860045008973\n"
     ]
    }
   ],
   "source": [
    "# supervised training using draw_spotify_data_v2\n",
    "# development cell for evaluating performance with raw api data.\n",
    "raw_df = pd.read_csv('../raw_spotify_data/pure_genre_data.csv')\n",
    "clean_df = condition_raw_data(raw_df)\n",
    "train, test = generate_train_test(clean_df, 42, 0.8)\n",
    "lr_clf = train_logistic_regression(train, 42)\n",
    "rf_clf = train_random_forest(train)\n",
    "svc_clf = train_svm(train)\n",
    "knn_clf = train_knn(train)\n",
    "dum_clf = create_dummy(train)\n",
    "lr_score = test_regression_model(lr_clf, test)\n",
    "rf_score = test_regression_model(rf_clf, test)\n",
    "svc_score = test_regression_model(svc_clf, test)\n",
    "knn_score = test_regression_model(knn_clf, test)\n",
    "dum_score = test_regression_model(dum_clf, test)\n",
    "print(f'random forest: {rf_score}')\n",
    "print(f'logistic regression: {lr_score}')\n",
    "print(f'Support Vector Classifier: {svc_score}')\n",
    "print(f'knn classifier: {knn_score}')\n",
    "print(f'dummy classifier: {dum_score}')"
   ]
  },
  {
   "cell_type": "code",
   "execution_count": 71,
   "metadata": {},
   "outputs": [],
   "source": [
    "# PCA\n",
    "# goal apply PCA to the data set. Evaluate impact on F1\n",
    "def apply_pca(train_df, test_df, n_dim = 2):\n",
    "    \"\"\"\n",
    "    read in the training data for a dataframe\n",
    "    apply dimmensionality reduction\n",
    "\n",
    "    return modified train and test sets\n",
    "    \"\"\"\n",
    "    # start off with stock settings\n",
    "    pca = PCA(n_components=n_dim)\n",
    "    train_df.reset_index(inplace=True, drop=True)\n",
    "    test_df.reset_index(inplace=True, drop=True)\n",
    "    X_cols = [col for col in train_df.columns if col != 'genre']\n",
    "    myScaler = StandardScaler()\n",
    "    X_train = myScaler.fit_transform(train_df[X_cols])\n",
    "    X_test = myScaler.transform(test_df[X_cols])\n",
    "    # only use the training data to fit the pca model\n",
    "    pca.fit(X_train)\n",
    "    # lesson learned here you need to reset the index so that pandas merges the labels\n",
    "    # back in correctly\n",
    "    pca_train_df = pd.DataFrame(pca.transform(X_train))\n",
    "    pca_train_df['genre'] = train_df['genre']\n",
    "\n",
    "    pca_test_df = pd.DataFrame(pca.transform(X_test))\n",
    "    pca_test_df['genre'] = test_df['genre']\n",
    "    return pca_train_df, pca_test_df\n"
   ]
  },
  {
   "cell_type": "code",
   "execution_count": 73,
   "metadata": {},
   "outputs": [
    {
     "name": "stdout",
     "output_type": "stream",
     "text": [
      "random forest: 0.4819708948229843\n",
      "logistic regression: 0.4421528377129066\n",
      "Support Vector Classifier: 0.4448244328543542\n",
      "knn classifier: 0.45582279647279955\n",
      "dummy classifier: 0.1348860045008973\n"
     ]
    }
   ],
   "source": [
    "# implement pca function\n",
    "raw_df = pd.read_csv('../raw_spotify_data/pure_genre_data.csv')\n",
    "clean_df = condition_raw_data(raw_df)\n",
    "train, test = generate_train_test(clean_df, 42, 0.8)\n",
    "train, test = apply_pca(train, test, n_dim=2)\n",
    "lr_clf = train_logistic_regression(train, 42)\n",
    "rf_clf = train_random_forest(train)\n",
    "svc_clf = train_svm(train)\n",
    "knn_clf = train_knn(train)\n",
    "dum_clf = create_dummy(train)\n",
    "lr_score = test_regression_model(lr_clf, test)\n",
    "rf_score = test_regression_model(rf_clf, test)\n",
    "svc_score = test_regression_model(svc_clf, test)\n",
    "knn_score = test_regression_model(knn_clf, test)\n",
    "dum_score = test_regression_model(dum_clf, test)\n",
    "print(f'random forest: {rf_score}')\n",
    "print(f'logistic regression: {lr_score}')\n",
    "print(f'Support Vector Classifier: {svc_score}')\n",
    "print(f'knn classifier: {knn_score}')\n",
    "print(f'dummy classifier: {dum_score}')\n"
   ]
  }
 ],
 "metadata": {
  "deepnote": {},
  "deepnote_execution_queue": [],
  "deepnote_notebook_id": "b78c5f28-75f3-4d35-9c8f-11dd9693160f",
  "interpreter": {
   "hash": "5edc29c2ed010d6458d71a83433b383a96a8cbd3efe8531bc90c4b8a5b8bcec9"
  },
  "kernelspec": {
   "display_name": "Python 3.8.2 64-bit",
   "language": "python",
   "name": "python3"
  },
  "language_info": {
   "codemirror_mode": {
    "name": "ipython",
    "version": 3
   },
   "file_extension": ".py",
   "mimetype": "text/x-python",
   "name": "python",
   "nbconvert_exporter": "python",
   "pygments_lexer": "ipython3",
   "version": "3.8.2"
  },
  "orig_nbformat": 2
 },
 "nbformat": 4,
 "nbformat_minor": 2
}
