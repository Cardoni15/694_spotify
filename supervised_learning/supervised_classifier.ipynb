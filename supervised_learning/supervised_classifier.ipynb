{
 "cells": [
  {
   "cell_type": "code",
   "metadata": {
    "tags": [],
    "cell_id": "8c7f1e9f-aa86-4d9e-b35a-de90e3c09586",
    "deepnote_to_be_reexecuted": false,
    "source_hash": "fc719037",
    "execution_start": 1651706966826,
    "execution_millis": 1184,
    "owner_user_id": "7cc5a0be-055b-40bf-ac0a-3dbaf638d522",
    "deepnote_cell_type": "code",
    "deepnote_cell_height": 243
   },
   "source": "# The goal of this notebook is to lay the foundation\n# for two types of supervised machine learning classifiers.\nfrom sklearn.ensemble import RandomForestClassifier\nfrom sklearn.linear_model import LogisticRegression\nfrom sklearn.metrics import f1_score\n\nimport pandas as pd\nimport numpy as np\n\n",
   "execution_count": 1,
   "outputs": []
  },
  {
   "cell_type": "code",
   "metadata": {
    "cell_id": "80a86a872f8c4cf3b60d2ae311e9f85d",
    "tags": [],
    "deepnote_to_be_reexecuted": false,
    "source_hash": "61779d5b",
    "execution_start": 1651706968017,
    "execution_millis": 6,
    "deepnote_cell_type": "code",
    "deepnote_cell_height": 135
   },
   "source": "## This pipeline starts from the point we have a pandas dataframe containing song attributes and genre\n## step 1: break the data into training and test data\n## step 2: generate a classifier using the training data\n## step 3: test the performance using the test data",
   "execution_count": 2,
   "outputs": []
  },
  {
   "cell_type": "code",
   "metadata": {
    "cell_id": "7449a068dbb14ff5bc0980e4d734328b",
    "tags": [],
    "deepnote_to_be_reexecuted": false,
    "source_hash": "192ce9f9",
    "execution_start": 1651706968027,
    "execution_millis": 9,
    "deepnote_cell_type": "code",
    "deepnote_cell_height": 369
   },
   "source": "## Step 1: Break the data into a training and a test set\ndef generate_train_test(tracks_df, random_val=42, split_ratio=0.8):\n    \"\"\"\n    inputs:\n        a dataframe containing song attributes and genre.\n        random val for repeatability\n        split_ratio = decimal pct of samples to use for training.\n    returns:\n        two dataframes train_df and test_df\n    \"\"\"\n    # step 1 shuffle the df\n    temp_df = tracks_df.sample(random_state=random_val, frac=1.0)\n    # establish a number to split the frame at.\n    num_train_samples = int(split_ratio*len(tracks_df))\n    # split the DF into two sets train and test\n    return np.splt(temp_df, [num_train_samples])\n",
   "execution_count": 3,
   "outputs": []
  },
  {
   "cell_type": "code",
   "metadata": {
    "cell_id": "24fc39936d2c4ca1b0339567b69ebad2",
    "tags": [],
    "deepnote_to_be_reexecuted": false,
    "source_hash": "6c17d69a",
    "execution_start": 1651706968043,
    "execution_millis": 8,
    "deepnote_cell_type": "code",
    "deepnote_cell_height": 423
   },
   "source": "# Step 2: train a classifier using the training set\n\ndef train_logistic_regression(train_df, random_val=42):\n    \"\"\"\n    inputs:\n        A dataframe of training data\n        A random value for repeatability\n\n    returns:\n        a trained classifier.\n    \"\"\"\n    # Step 1 create X and y\n    X = train_df[[col for col in train_df.columns if col != 'genre']]\n    y = train_df['genre']\n\n    # Step 2 create the classifier\n    clf = LogisticRegression(random_state=random_val, solver = 'lbfgs', multi_class='auto')\n    \n    # fit the classifier\n    return clf.fit(X, y)",
   "execution_count": 4,
   "outputs": []
  },
  {
   "cell_type": "code",
   "metadata": {
    "cell_id": "9473997adc2a4c758e3950c3aa61aa7b",
    "tags": [],
    "deepnote_to_be_reexecuted": false,
    "source_hash": "d5159fb5",
    "execution_start": 1651706968057,
    "execution_millis": 32,
    "deepnote_cell_type": "code",
    "deepnote_cell_height": 390
   },
   "source": "# Step 3: test the classifier\n\ndef test_logistic_regression(clf, test_df):\n    \"\"\"\n    inputs:\n        testing set\n        clf\n    returns:\n        f1 score\n    \"\"\"\n    # step 1 create an X_test and y_test\n    X_test = test_df[[col for col in train_df.columns if col != 'genre']]\n    y_test = test_df['genre']\n\n    # step 2 predict the genre for the test set\n    y_pred = clf.predict(X_test)\n\n    # step 3 calculate the average F1 score for all classes\n    return f1_score(y_test, y_pred, average='macro')",
   "execution_count": 5,
   "outputs": []
  },
  {
   "cell_type": "markdown",
   "source": "<a style='text-decoration:none;line-height:16px;display:flex;color:#5B5B62;padding:10px;justify-content:end;' href='https://deepnote.com?utm_source=created-in-deepnote-cell&projectId=659c715d-e2b5-478e-9116-4d32a5174810' target=\"_blank\">\n<img alt='Created in deepnote.com' style='display:inline;max-height:16px;margin:0px;margin-right:7.5px;' src='data:image/svg+xml;base64,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' > </img>\nCreated in <span style='font-weight:600;margin-left:4px;'>Deepnote</span></a>",
   "metadata": {
    "tags": [],
    "created_in_deepnote_cell": true,
    "deepnote_cell_type": "markdown"
   }
  }
 ],
 "nbformat": 4,
 "nbformat_minor": 2,
 "metadata": {
  "orig_nbformat": 2,
  "deepnote": {},
  "deepnote_notebook_id": "b78c5f28-75f3-4d35-9c8f-11dd9693160f",
  "deepnote_execution_queue": []
 }
}