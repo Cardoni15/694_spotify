{
 "cells": [
  {
   "cell_type": "code",
   "execution_count": 7,
   "metadata": {
    "cell_id": "8c7f1e9f-aa86-4d9e-b35a-de90e3c09586",
    "deepnote_cell_height": 243,
    "deepnote_cell_type": "code",
    "deepnote_to_be_reexecuted": false,
    "execution_millis": 1184,
    "execution_start": 1651706966826,
    "source_hash": "fc719037",
    "tags": []
   },
   "outputs": [],
   "source": [
    "# The goal of this notebook is to lay the foundation\n",
    "# for two types of supervised machine learning classifiers.\n",
    "from sklearn.dummy import DummyClassifier\n",
    "from sklearn.metrics import f1_score\n",
    "from sklearn.linear_model import LogisticRegression\n",
    "from sklearn.ensemble import RandomForestClassifier\n",
    "\n",
    "import pandas as pd\n",
    "import numpy as np\n",
    "\n"
   ]
  },
  {
   "cell_type": "code",
   "execution_count": null,
   "metadata": {
    "cell_id": "80a86a872f8c4cf3b60d2ae311e9f85d",
    "deepnote_cell_height": 135,
    "deepnote_cell_type": "code",
    "deepnote_to_be_reexecuted": false,
    "execution_millis": 6,
    "execution_start": 1651706968017,
    "source_hash": "61779d5b",
    "tags": []
   },
   "outputs": [],
   "source": [
    "## This pipeline starts from the point we have a pandas dataframe containing song attributes and genre\n",
    "## step 1: break the data into training and test data\n",
    "## step 2: generate a classifier using the training data\n",
    "## step 3: test the performance using the test data"
   ]
  },
  {
   "cell_type": "code",
   "execution_count": 13,
   "metadata": {
    "cell_id": "7449a068dbb14ff5bc0980e4d734328b",
    "deepnote_cell_height": 369,
    "deepnote_cell_type": "code",
    "deepnote_to_be_reexecuted": false,
    "execution_millis": 9,
    "execution_start": 1651706968027,
    "source_hash": "192ce9f9",
    "tags": []
   },
   "outputs": [],
   "source": [
    "## Step 1: Break the data into a training and a test set\n",
    "def generate_train_test(tracks_df, random_val=42, split_ratio=0.8):\n",
    "    \"\"\"\n",
    "    inputs:\n",
    "        a dataframe containing song attributes and genre.\n",
    "        random val for repeatability\n",
    "        split_ratio = decimal pct of samples to use for training.\n",
    "    returns:\n",
    "        two dataframes train_df and test_df\n",
    "    \"\"\"\n",
    "    # step 1 shuffle the df\n",
    "    temp_df = tracks_df.sample(random_state=random_val, frac=1.0)\n",
    "    # establish a number to split the frame at.\n",
    "    num_train_samples = int(split_ratio*len(tracks_df))\n",
    "    # split the DF into two sets train and test\n",
    "    return np.split(temp_df, [num_train_samples])\n"
   ]
  },
  {
   "cell_type": "code",
   "execution_count": 30,
   "metadata": {
    "cell_id": "24fc39936d2c4ca1b0339567b69ebad2",
    "deepnote_cell_height": 423,
    "deepnote_cell_type": "code",
    "deepnote_to_be_reexecuted": false,
    "execution_millis": 8,
    "execution_start": 1651706968043,
    "source_hash": "6c17d69a",
    "tags": []
   },
   "outputs": [],
   "source": [
    "# Step 2: train a classifier using the training set\n",
    "\n",
    "def train_logistic_regression(train_df, random_val=42):\n",
    "    \"\"\"\n",
    "    inputs:\n",
    "        A dataframe of training data\n",
    "        A random value for repeatability\n",
    "\n",
    "    returns:\n",
    "        a trained classifier.\n",
    "    \"\"\"\n",
    "    # Step 1 create X and y\n",
    "    X = train_df[[col for col in train_df.columns if col != 'genre']]\n",
    "    y = train_df['genre']\n",
    "\n",
    "    # Step 2 create the classifier\n",
    "    clf = LogisticRegression(random_state=random_val, solver = 'lbfgs', multi_class='auto', max_iter=5500)\n",
    "    \n",
    "    # fit the classifier\n",
    "    return clf.fit(X, y)"
   ]
  },
  {
   "cell_type": "code",
   "execution_count": 5,
   "metadata": {
    "cell_id": "946fec17732c4ecea704229868008c5c",
    "deepnote_cell_height": 390,
    "deepnote_cell_type": "code",
    "tags": []
   },
   "outputs": [],
   "source": [
    "# Step 3: train a random forest classifier\n",
    "def train_random_forest(train_df, random_val=42):\n",
    "    \"\"\"\n",
    "    inputs:\n",
    "        A dataframe of training data\n",
    "        A random value for repeatability\n",
    "\n",
    "    returns:\n",
    "        a trained classifier.\n",
    "    \"\"\"\n",
    "    # Step 1 create X and y\n",
    "    X = train_df[[col for col in train_df.columns if col != 'genre']]\n",
    "    y = train_df['genre']\n",
    "\n",
    "    # Step 2 create the classifier\n",
    "    clf = RandomForestClassifier(random_state=random_val, n_estimators=50, max_depth=15)\n",
    "    \n",
    "    # fit the classifier\n",
    "    return clf.fit(X, y)"
   ]
  },
  {
   "cell_type": "code",
   "execution_count": 18,
   "metadata": {
    "cell_id": "9473997adc2a4c758e3950c3aa61aa7b",
    "deepnote_cell_height": 405,
    "deepnote_cell_type": "code",
    "deepnote_to_be_reexecuted": false,
    "execution_millis": 32,
    "execution_start": 1651706968057,
    "owner_user_id": "7cc5a0be-055b-40bf-ac0a-3dbaf638d522",
    "source_hash": "d5159fb5",
    "tags": []
   },
   "outputs": [],
   "source": [
    "# Step 4: test the classifiers\n",
    "\n",
    "def test_regression_model(clf, test_df):\n",
    "    \"\"\"\n",
    "    inputs:\n",
    "        testing set\n",
    "        clf\n",
    "    returns:\n",
    "        f1 score\n",
    "    \"\"\"\n",
    "    # step 1 create an X_test and y_test\n",
    "    X_test = test_df[[col for col in test_df.columns if col != 'genre']]\n",
    "    y_test = test_df['genre']\n",
    "\n",
    "    # step 2 predict the genre for the test set\n",
    "    y_pred = clf.predict(X_test)\n",
    "\n",
    "    # step 3 calculate the average F1 score for all classes\n",
    "    return f1_score(y_test, y_pred, average='macro')"
   ]
  },
  {
   "cell_type": "markdown",
   "metadata": {
    "created_in_deepnote_cell": true,
    "deepnote_cell_type": "markdown",
    "tags": []
   },
   "source": [
    "<a style='text-decoration:none;line-height:16px;display:flex;color:#5B5B62;padding:10px;justify-content:end;' href='https://deepnote.com?utm_source=created-in-deepnote-cell&projectId=659c715d-e2b5-478e-9116-4d32a5174810' target=\"_blank\">\n",
    "<img alt='Created in deepnote.com' style='display:inline;max-height:16px;margin:0px;margin-right:7.5px;' src='data:image/svg+xml;base64,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' > </img>\n",
    "Created in <span style='font-weight:600;margin-left:4px;'>Deepnote</span></a>"
   ]
  },
  {
   "cell_type": "code",
   "execution_count": 34,
   "metadata": {},
   "outputs": [],
   "source": [
    "# Create a dummy classifier for comparison\n",
    "\n",
    "def create_dummy(train_df, random_val=42):\n",
    "    \"\"\"\n",
    "    Train a uniform dummy classifier for performance evaluation\n",
    "    \"\"\"\n",
    "    X = train_df[[col for col in train_df.columns if col != 'genre']]\n",
    "    y = train_df['genre']\n",
    "\n",
    "    random_clf = DummyClassifier(strategy='uniform', random_state=random_val)\n",
    "    random_clf.fit(X, y)\n",
    "    return random_clf"
   ]
  },
  {
   "cell_type": "code",
   "execution_count": 33,
   "metadata": {},
   "outputs": [
    {
     "ename": "NameError",
     "evalue": "name 'create_dummy' is not defined",
     "output_type": "error",
     "traceback": [
      "\u001b[0;31m---------------------------------------------------------------------------\u001b[0m",
      "\u001b[0;31mNameError\u001b[0m                                 Traceback (most recent call last)",
      "\u001b[0;32m/var/folders/6r/kwmwk0wx4yj2ccxtwqdqgb4r0000gn/T/ipykernel_4169/157986327.py\u001b[0m in \u001b[0;36m<module>\u001b[0;34m\u001b[0m\n\u001b[1;32m      4\u001b[0m \u001b[0mlr_clf\u001b[0m \u001b[0;34m=\u001b[0m \u001b[0mtrain_logistic_regression\u001b[0m\u001b[0;34m(\u001b[0m\u001b[0mtrain\u001b[0m\u001b[0;34m,\u001b[0m \u001b[0;36m42\u001b[0m\u001b[0;34m)\u001b[0m\u001b[0;34m\u001b[0m\u001b[0;34m\u001b[0m\u001b[0m\n\u001b[1;32m      5\u001b[0m \u001b[0mrf_clf\u001b[0m \u001b[0;34m=\u001b[0m \u001b[0mtrain_random_forest\u001b[0m\u001b[0;34m(\u001b[0m\u001b[0mtrain\u001b[0m\u001b[0;34m)\u001b[0m\u001b[0;34m\u001b[0m\u001b[0;34m\u001b[0m\u001b[0m\n\u001b[0;32m----> 6\u001b[0;31m \u001b[0mdum_clf\u001b[0m \u001b[0;34m=\u001b[0m \u001b[0mcreate_dummy\u001b[0m\u001b[0;34m(\u001b[0m\u001b[0mtrain\u001b[0m\u001b[0;34m)\u001b[0m\u001b[0;34m\u001b[0m\u001b[0;34m\u001b[0m\u001b[0m\n\u001b[0m\u001b[1;32m      7\u001b[0m \u001b[0mrf_score\u001b[0m \u001b[0;34m=\u001b[0m \u001b[0mtest_regression_model\u001b[0m\u001b[0;34m(\u001b[0m\u001b[0mlr_clf\u001b[0m\u001b[0;34m,\u001b[0m \u001b[0mtest\u001b[0m\u001b[0;34m)\u001b[0m\u001b[0;34m\u001b[0m\u001b[0;34m\u001b[0m\u001b[0m\n\u001b[1;32m      8\u001b[0m \u001b[0mlf_score\u001b[0m \u001b[0;34m=\u001b[0m \u001b[0mtest_regression_model\u001b[0m\u001b[0;34m(\u001b[0m\u001b[0mrf_clf\u001b[0m\u001b[0;34m,\u001b[0m \u001b[0mtest\u001b[0m\u001b[0;34m)\u001b[0m\u001b[0;34m\u001b[0m\u001b[0;34m\u001b[0m\u001b[0m\n",
      "\u001b[0;31mNameError\u001b[0m: name 'create_dummy' is not defined"
     ]
    }
   ],
   "source": [
    "# development cell for integrating all functions together.\n",
    "raw_df = pd.read_csv('development_data.csv')\n",
    "train, test = generate_train_test(raw_df, 42, 0.8)\n",
    "lr_clf = train_logistic_regression(train, 42)\n",
    "rf_clf = train_random_forest(train)\n",
    "dum_clf = create_dummy(train)\n",
    "lr_score = test_regression_model(lr_clf, test)\n",
    "rf_score = test_regression_model(rf_clf, test)\n",
    "dum_score = test_regression_model(dum_clf, test)\n",
    "print(f'random forest: {rf_score}')\n",
    "print(f'logistic regression: {lr_score}')\n",
    "print(f'dummy classifier: {dum_score}')"
   ]
  }
 ],
 "metadata": {
  "deepnote": {},
  "deepnote_execution_queue": [],
  "deepnote_notebook_id": "b78c5f28-75f3-4d35-9c8f-11dd9693160f",
  "interpreter": {
   "hash": "aee8b7b246df8f9039afb4144a1f6fd8d2ca17a180786b69acc140d282b71a49"
  },
  "kernelspec": {
   "display_name": "Python 3.9.6 64-bit",
   "language": "python",
   "name": "python3"
  },
  "language_info": {
   "codemirror_mode": {
    "name": "ipython",
    "version": 3
   },
   "file_extension": ".py",
   "mimetype": "text/x-python",
   "name": "python",
   "nbconvert_exporter": "python",
   "pygments_lexer": "ipython3",
   "version": "3.8.2"
  },
  "orig_nbformat": 2
 },
 "nbformat": 4,
 "nbformat_minor": 2
}
