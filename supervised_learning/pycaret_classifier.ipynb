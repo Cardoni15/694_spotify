{
 "cells": [
  {
   "cell_type": "code",
   "metadata": {
    "cell_id": "b631e39a787d460caa24a4504814d0eb",
    "tags": [],
    "deepnote_to_be_reexecuted": false,
    "source_hash": "9b82ee11",
    "execution_start": 1653062781441,
    "execution_millis": 7,
    "deepnote_cell_type": "code",
    "deepnote_cell_height": 81
   },
   "source": "import pandas as pd",
   "execution_count": null,
   "outputs": []
  },
  {
   "cell_type": "markdown",
   "source": "### Attribute Supervised Classification Model",
   "metadata": {
    "cell_id": "a1f0aaad3c6f4a6fa8688e22d393de47",
    "tags": [],
    "deepnote_cell_type": "markdown",
    "deepnote_cell_height": 62
   }
  },
  {
   "cell_type": "code",
   "metadata": {
    "cell_id": "1101101c5d4e4e99bb6956338f92587c",
    "tags": [],
    "deepnote_to_be_reexecuted": false,
    "source_hash": "4d5ee1ab",
    "execution_start": 1653062802577,
    "execution_millis": 518,
    "deepnote_cell_type": "code",
    "deepnote_cell_height": 430
   },
   "source": "# Grab our dataset\nlyrics_df = pd.read_csv('../raw_spotify_data/pure_genre_data_w_clean_lyrics.csv')",
   "execution_count": null,
   "outputs": [
    {
     "output_type": "execute_result",
     "execution_count": 4,
     "data": {
      "application/vnd.deepnote.dataframe.v3+json": {
       "column_count": 26,
       "row_count": 5,
       "columns": [
        {
         "name": "danceability",
         "dtype": "float64",
         "stats": {
          "unique_count": 5,
          "nan_count": 0,
          "min": "0.471",
          "max": "0.612",
          "histogram": [
           {
            "bin_start": 0.471,
            "bin_end": 0.4851,
            "count": 1
           },
           {
            "bin_start": 0.4851,
            "bin_end": 0.4992,
            "count": 0
           },
           {
            "bin_start": 0.4992,
            "bin_end": 0.5133,
            "count": 0
           },
           {
            "bin_start": 0.5133,
            "bin_end": 0.5274,
            "count": 0
           },
           {
            "bin_start": 0.5274,
            "bin_end": 0.5415,
            "count": 0
           },
           {
            "bin_start": 0.5415,
            "bin_end": 0.5556,
            "count": 1
           },
           {
            "bin_start": 0.5556,
            "bin_end": 0.5697,
            "count": 0
           },
           {
            "bin_start": 0.5697,
            "bin_end": 0.5838,
            "count": 1
           },
           {
            "bin_start": 0.5838,
            "bin_end": 0.5979,
            "count": 1
           },
           {
            "bin_start": 0.5979,
            "bin_end": 0.612,
            "count": 1
           }
          ]
         }
        },
        {
         "name": "energy",
         "dtype": "float64",
         "stats": {
          "unique_count": 5,
          "nan_count": 0,
          "min": "0.521",
          "max": "0.924",
          "histogram": [
           {
            "bin_start": 0.521,
            "bin_end": 0.5613,
            "count": 1
           },
           {
            "bin_start": 0.5613,
            "bin_end": 0.6016,
            "count": 1
           },
           {
            "bin_start": 0.6016,
            "bin_end": 0.6419,
            "count": 0
           },
           {
            "bin_start": 0.6419,
            "bin_end": 0.6822,
            "count": 0
           },
           {
            "bin_start": 0.6822,
            "bin_end": 0.7225,
            "count": 0
           },
           {
            "bin_start": 0.7225,
            "bin_end": 0.7628,
            "count": 0
           },
           {
            "bin_start": 0.7628,
            "bin_end": 0.8031,
            "count": 0
           },
           {
            "bin_start": 0.8031,
            "bin_end": 0.8434,
            "count": 1
           },
           {
            "bin_start": 0.8434,
            "bin_end": 0.8837,
            "count": 1
           },
           {
            "bin_start": 0.8837,
            "bin_end": 0.924,
            "count": 1
           }
          ]
         }
        },
        {
         "name": "key",
         "dtype": "int64",
         "stats": {
          "unique_count": 4,
          "nan_count": 0,
          "min": "7",
          "max": "10",
          "histogram": [
           {
            "bin_start": 7,
            "bin_end": 7.3,
            "count": 1
           },
           {
            "bin_start": 7.3,
            "bin_end": 7.6,
            "count": 0
           },
           {
            "bin_start": 7.6,
            "bin_end": 7.9,
            "count": 0
           },
           {
            "bin_start": 7.9,
            "bin_end": 8.2,
            "count": 1
           },
           {
            "bin_start": 8.2,
            "bin_end": 8.5,
            "count": 0
           },
           {
            "bin_start": 8.5,
            "bin_end": 8.8,
            "count": 0
           },
           {
            "bin_start": 8.8,
            "bin_end": 9.1,
            "count": 1
           },
           {
            "bin_start": 9.1,
            "bin_end": 9.4,
            "count": 0
           },
           {
            "bin_start": 9.4,
            "bin_end": 9.7,
            "count": 0
           },
           {
            "bin_start": 9.7,
            "bin_end": 10,
            "count": 2
           }
          ]
         }
        },
        {
         "name": "loudness",
         "dtype": "float64",
         "stats": {
          "unique_count": 5,
          "nan_count": 0,
          "min": "-9.461",
          "max": "-2.81",
          "histogram": [
           {
            "bin_start": -9.461,
            "bin_end": -8.7959,
            "count": 1
           },
           {
            "bin_start": -8.7959,
            "bin_end": -8.1308,
            "count": 0
           },
           {
            "bin_start": -8.1308,
            "bin_end": -7.4657,
            "count": 0
           },
           {
            "bin_start": -7.4657,
            "bin_end": -6.8006,
            "count": 0
           },
           {
            "bin_start": -6.8006,
            "bin_end": -6.1355,
            "count": 0
           },
           {
            "bin_start": -6.1355,
            "bin_end": -5.4704,
            "count": 2
           },
           {
            "bin_start": -5.4704,
            "bin_end": -4.8053,
            "count": 0
           },
           {
            "bin_start": -4.8053,
            "bin_end": -4.1402,
            "count": 0
           },
           {
            "bin_start": -4.1402,
            "bin_end": -3.4751000000000003,
            "count": 1
           },
           {
            "bin_start": -3.4751000000000003,
            "bin_end": -2.81,
            "count": 1
           }
          ]
         }
        },
        {
         "name": "mode",
         "dtype": "int64",
         "stats": {
          "unique_count": 2,
          "nan_count": 0,
          "min": "0",
          "max": "1",
          "histogram": [
           {
            "bin_start": 0,
            "bin_end": 0.1,
            "count": 2
           },
           {
            "bin_start": 0.1,
            "bin_end": 0.2,
            "count": 0
           },
           {
            "bin_start": 0.2,
            "bin_end": 0.30000000000000004,
            "count": 0
           },
           {
            "bin_start": 0.30000000000000004,
            "bin_end": 0.4,
            "count": 0
           },
           {
            "bin_start": 0.4,
            "bin_end": 0.5,
            "count": 0
           },
           {
            "bin_start": 0.5,
            "bin_end": 0.6000000000000001,
            "count": 0
           },
           {
            "bin_start": 0.6000000000000001,
            "bin_end": 0.7000000000000001,
            "count": 0
           },
           {
            "bin_start": 0.7000000000000001,
            "bin_end": 0.8,
            "count": 0
           },
           {
            "bin_start": 0.8,
            "bin_end": 0.9,
            "count": 0
           },
           {
            "bin_start": 0.9,
            "bin_end": 1,
            "count": 3
           }
          ]
         }
        },
        {
         "name": "speechiness",
         "dtype": "float64",
         "stats": {
          "unique_count": 5,
          "nan_count": 0,
          "min": "0.03",
          "max": "0.0586",
          "histogram": [
           {
            "bin_start": 0.03,
            "bin_end": 0.03286,
            "count": 1
           },
           {
            "bin_start": 0.03286,
            "bin_end": 0.03572,
            "count": 2
           },
           {
            "bin_start": 0.03572,
            "bin_end": 0.03858,
            "count": 0
           },
           {
            "bin_start": 0.03858,
            "bin_end": 0.04144,
            "count": 0
           },
           {
            "bin_start": 0.04144,
            "bin_end": 0.0443,
            "count": 0
           },
           {
            "bin_start": 0.0443,
            "bin_end": 0.04716,
            "count": 0
           },
           {
            "bin_start": 0.04716,
            "bin_end": 0.050019999999999995,
            "count": 0
           },
           {
            "bin_start": 0.050019999999999995,
            "bin_end": 0.052879999999999996,
            "count": 0
           },
           {
            "bin_start": 0.052879999999999996,
            "bin_end": 0.05574,
            "count": 1
           },
           {
            "bin_start": 0.05574,
            "bin_end": 0.0586,
            "count": 1
           }
          ]
         }
        },
        {
         "name": "acousticness",
         "dtype": "float64",
         "stats": {
          "unique_count": 5,
          "nan_count": 0,
          "min": "0.00301",
          "max": "0.186",
          "histogram": [
           {
            "bin_start": 0.00301,
            "bin_end": 0.021308999999999998,
            "count": 1
           },
           {
            "bin_start": 0.021308999999999998,
            "bin_end": 0.039608,
            "count": 0
           },
           {
            "bin_start": 0.039608,
            "bin_end": 0.057907,
            "count": 2
           },
           {
            "bin_start": 0.057907,
            "bin_end": 0.076206,
            "count": 1
           },
           {
            "bin_start": 0.076206,
            "bin_end": 0.09450499999999999,
            "count": 0
           },
           {
            "bin_start": 0.09450499999999999,
            "bin_end": 0.112804,
            "count": 0
           },
           {
            "bin_start": 0.112804,
            "bin_end": 0.131103,
            "count": 0
           },
           {
            "bin_start": 0.131103,
            "bin_end": 0.149402,
            "count": 0
           },
           {
            "bin_start": 0.149402,
            "bin_end": 0.16770100000000002,
            "count": 0
           },
           {
            "bin_start": 0.16770100000000002,
            "bin_end": 0.186,
            "count": 1
           }
          ]
         }
        },
        {
         "name": "instrumentalness",
         "dtype": "float64",
         "stats": {
          "unique_count": 5,
          "nan_count": 0,
          "min": "0.0",
          "max": "0.149",
          "histogram": [
           {
            "bin_start": 0,
            "bin_end": 0.0149,
            "count": 2
           },
           {
            "bin_start": 0.0149,
            "bin_end": 0.0298,
            "count": 1
           },
           {
            "bin_start": 0.0298,
            "bin_end": 0.044700000000000004,
            "count": 0
           },
           {
            "bin_start": 0.044700000000000004,
            "bin_end": 0.0596,
            "count": 0
           },
           {
            "bin_start": 0.0596,
            "bin_end": 0.0745,
            "count": 0
           },
           {
            "bin_start": 0.0745,
            "bin_end": 0.08940000000000001,
            "count": 1
           },
           {
            "bin_start": 0.08940000000000001,
            "bin_end": 0.1043,
            "count": 0
           },
           {
            "bin_start": 0.1043,
            "bin_end": 0.1192,
            "count": 0
           },
           {
            "bin_start": 0.1192,
            "bin_end": 0.1341,
            "count": 0
           },
           {
            "bin_start": 0.1341,
            "bin_end": 0.149,
            "count": 1
           }
          ]
         }
        },
        {
         "name": "liveness",
         "dtype": "float64",
         "stats": {
          "unique_count": 5,
          "nan_count": 0,
          "min": "0.101",
          "max": "0.313",
          "histogram": [
           {
            "bin_start": 0.101,
            "bin_end": 0.1222,
            "count": 1
           },
           {
            "bin_start": 0.1222,
            "bin_end": 0.1434,
            "count": 1
           },
           {
            "bin_start": 0.1434,
            "bin_end": 0.16460000000000002,
            "count": 1
           },
           {
            "bin_start": 0.16460000000000002,
            "bin_end": 0.18580000000000002,
            "count": 0
           },
           {
            "bin_start": 0.18580000000000002,
            "bin_end": 0.20700000000000002,
            "count": 0
           },
           {
            "bin_start": 0.20700000000000002,
            "bin_end": 0.22820000000000001,
            "count": 0
           },
           {
            "bin_start": 0.22820000000000001,
            "bin_end": 0.2494,
            "count": 0
           },
           {
            "bin_start": 0.2494,
            "bin_end": 0.2706,
            "count": 0
           },
           {
            "bin_start": 0.2706,
            "bin_end": 0.2918,
            "count": 1
           },
           {
            "bin_start": 0.2918,
            "bin_end": 0.313,
            "count": 1
           }
          ]
         }
        },
        {
         "name": "valence",
         "dtype": "float64",
         "stats": {
          "unique_count": 5,
          "nan_count": 0,
          "min": "0.337",
          "max": "0.725",
          "histogram": [
           {
            "bin_start": 0.337,
            "bin_end": 0.3758,
            "count": 2
           },
           {
            "bin_start": 0.3758,
            "bin_end": 0.4146,
            "count": 2
           },
           {
            "bin_start": 0.4146,
            "bin_end": 0.4534,
            "count": 0
           },
           {
            "bin_start": 0.4534,
            "bin_end": 0.49219999999999997,
            "count": 0
           },
           {
            "bin_start": 0.49219999999999997,
            "bin_end": 0.531,
            "count": 0
           },
           {
            "bin_start": 0.531,
            "bin_end": 0.5698,
            "count": 0
           },
           {
            "bin_start": 0.5698,
            "bin_end": 0.6086,
            "count": 0
           },
           {
            "bin_start": 0.6086,
            "bin_end": 0.6474,
            "count": 0
           },
           {
            "bin_start": 0.6474,
            "bin_end": 0.6861999999999999,
            "count": 0
           },
           {
            "bin_start": 0.6861999999999999,
            "bin_end": 0.725,
            "count": 1
           }
          ]
         }
        },
        {
         "name": "tempo",
         "dtype": "float64",
         "stats": {
          "unique_count": 5,
          "nan_count": 0,
          "min": "85.012",
          "max": "154.961",
          "histogram": [
           {
            "bin_start": 85.012,
            "bin_end": 92.0069,
            "count": 2
           },
           {
            "bin_start": 92.0069,
            "bin_end": 99.0018,
            "count": 1
           },
           {
            "bin_start": 99.0018,
            "bin_end": 105.9967,
            "count": 0
           },
           {
            "bin_start": 105.9967,
            "bin_end": 112.9916,
            "count": 0
           },
           {
            "bin_start": 112.9916,
            "bin_end": 119.9865,
            "count": 0
           },
           {
            "bin_start": 119.9865,
            "bin_end": 126.98140000000001,
            "count": 1
           },
           {
            "bin_start": 126.98140000000001,
            "bin_end": 133.9763,
            "count": 0
           },
           {
            "bin_start": 133.9763,
            "bin_end": 140.9712,
            "count": 0
           },
           {
            "bin_start": 140.9712,
            "bin_end": 147.9661,
            "count": 0
           },
           {
            "bin_start": 147.9661,
            "bin_end": 154.961,
            "count": 1
           }
          ]
         }
        },
        {
         "name": "type",
         "dtype": "object",
         "stats": {
          "unique_count": 1,
          "nan_count": 0,
          "categories": [
           {
            "name": "audio_features",
            "count": 5
           }
          ]
         }
        },
        {
         "name": "track_id",
         "dtype": "object",
         "stats": {
          "unique_count": 5,
          "nan_count": 0,
          "categories": [
           {
            "name": "2QjOHCTQ1Jl3zawyYOpxh6",
            "count": 1
           },
           {
            "name": "2K7xn816oNHJZ0aVqdQsha",
            "count": 1
           },
           {
            "name": "3 others",
            "count": 3
           }
          ]
         }
        },
        {
         "name": "uri",
         "dtype": "object",
         "stats": {
          "unique_count": 5,
          "nan_count": 0,
          "categories": [
           {
            "name": "spotify:track:2QjOHCTQ1Jl3zawyYOpxh6",
            "count": 1
           },
           {
            "name": "spotify:track:2K7xn816oNHJZ0aVqdQsha",
            "count": 1
           },
           {
            "name": "3 others",
            "count": 3
           }
          ]
         }
        },
        {
         "name": "track_href",
         "dtype": "object",
         "stats": {
          "unique_count": 5,
          "nan_count": 0,
          "categories": [
           {
            "name": "https://api.spotify.com/v1/tracks/2QjOHCTQ1Jl3zawyYOpxh6",
            "count": 1
           },
           {
            "name": "https://api.spotify.com/v1/tracks/2K7xn816oNHJZ0aVqdQsha",
            "count": 1
           },
           {
            "name": "3 others",
            "count": 3
           }
          ]
         }
        },
        {
         "name": "analysis_url",
         "dtype": "object",
         "stats": {
          "unique_count": 5,
          "nan_count": 0,
          "categories": [
           {
            "name": "https://api.spotify.com/v1/audio-analysis/2QjOHCTQ1Jl3zawyYOpxh6",
            "count": 1
           },
           {
            "name": "https://api.spotify.com/v1/audio-analysis/2K7xn816oNHJZ0aVqdQsha",
            "count": 1
           },
           {
            "name": "3 others",
            "count": 3
           }
          ]
         }
        },
        {
         "name": "duration_ms",
         "dtype": "int64",
         "stats": {
          "unique_count": 5,
          "nan_count": 0,
          "min": "153000",
          "max": "260173",
          "histogram": [
           {
            "bin_start": 153000,
            "bin_end": 163717.3,
            "count": 1
           },
           {
            "bin_start": 163717.3,
            "bin_end": 174434.6,
            "count": 0
           },
           {
            "bin_start": 174434.6,
            "bin_end": 185151.9,
            "count": 1
           },
           {
            "bin_start": 185151.9,
            "bin_end": 195869.2,
            "count": 0
           },
           {
            "bin_start": 195869.2,
            "bin_end": 206586.5,
            "count": 1
           },
           {
            "bin_start": 206586.5,
            "bin_end": 217303.8,
            "count": 0
           },
           {
            "bin_start": 217303.8,
            "bin_end": 228021.09999999998,
            "count": 0
           },
           {
            "bin_start": 228021.09999999998,
            "bin_end": 238738.4,
            "count": 0
           },
           {
            "bin_start": 238738.4,
            "bin_end": 249455.7,
            "count": 1
           },
           {
            "bin_start": 249455.7,
            "bin_end": 260173,
            "count": 1
           }
          ]
         }
        },
        {
         "name": "time_signature",
         "dtype": "int64",
         "stats": {
          "unique_count": 1,
          "nan_count": 0,
          "min": "4",
          "max": "4",
          "histogram": [
           {
            "bin_start": 3.5,
            "bin_end": 3.6,
            "count": 0
           },
           {
            "bin_start": 3.6,
            "bin_end": 3.7,
            "count": 0
           },
           {
            "bin_start": 3.7,
            "bin_end": 3.8,
            "count": 0
           },
           {
            "bin_start": 3.8,
            "bin_end": 3.9,
            "count": 0
           },
           {
            "bin_start": 3.9,
            "bin_end": 4,
            "count": 0
           },
           {
            "bin_start": 4,
            "bin_end": 4.1,
            "count": 5
           },
           {
            "bin_start": 4.1,
            "bin_end": 4.2,
            "count": 0
           },
           {
            "bin_start": 4.2,
            "bin_end": 4.3,
            "count": 0
           },
           {
            "bin_start": 4.3,
            "bin_end": 4.4,
            "count": 0
           },
           {
            "bin_start": 4.4,
            "bin_end": 4.5,
            "count": 0
           }
          ]
         }
        },
        {
         "name": "artist_name_x",
         "dtype": "object",
         "stats": {
          "unique_count": 2,
          "nan_count": 0,
          "categories": [
           {
            "name": "The Neighbourhood",
            "count": 4
           },
           {
            "name": "Neon Trees",
            "count": 1
           }
          ]
         }
        },
        {
         "name": "artist_id",
         "dtype": "object",
         "stats": {
          "unique_count": 2,
          "nan_count": 0,
          "categories": [
           {
            "name": "77SW9BnxLY8rJ0RciFqkHh",
            "count": 4
           },
           {
            "name": "0RpddSzUHfncUWNJXKOsjy",
            "count": 1
           }
          ]
         }
        },
        {
         "name": "track_name_x",
         "dtype": "object",
         "stats": {
          "unique_count": 5,
          "nan_count": 0,
          "categories": [
           {
            "name": "Sweater Weather",
            "count": 1
           },
           {
            "name": "Softcore",
            "count": 1
           },
           {
            "name": "3 others",
            "count": 3
           }
          ]
         }
        },
        {
         "name": "genre",
         "dtype": "object",
         "stats": {
          "unique_count": 1,
          "nan_count": 0,
          "categories": [
           {
            "name": "alt-rock",
            "count": 5
           }
          ]
         }
        },
        {
         "name": "artist_name_y",
         "dtype": "object",
         "stats": {
          "unique_count": 2,
          "nan_count": 0,
          "categories": [
           {
            "name": "The Neighbourhood",
            "count": 4
           },
           {
            "name": "Neon Trees",
            "count": 1
           }
          ]
         }
        },
        {
         "name": "track_name_y",
         "dtype": "object",
         "stats": {
          "unique_count": 5,
          "nan_count": 0,
          "categories": [
           {
            "name": "Sweater Weather",
            "count": 1
           },
           {
            "name": "Softcore",
            "count": 1
           },
           {
            "name": "3 others",
            "count": 3
           }
          ]
         }
        },
        {
         "name": "lyric_raw",
         "dtype": "object",
         "stats": {
          "unique_count": 5,
          "nan_count": 0,
          "categories": [
           {
            "name": "Sweater Weather Lyrics\nAnd all I am is a man\nI want the world in my hands\nI hate the beach but I stand\nIn California with my toes in the sand\nUse the sleeves of my sweater\nLet's have an adventure\nHead in the clouds but my gravity's centered\nTouch my neck and I'll touch yours\nYou in those little high waisted shorts, oh\n\nShe knows what I think about\nAnd what I think about\nOne love, two mouths\nOne love, one house\nNo shirt, no blouse\nJust us, you find out\nNothing that I wouldn't wanna tell you about, no\n'Cause it's too cold for you here\nAnd now, so let me hold\nBoth your hands in the holes of my sweater\n\nAnd if I may just take your breath away\nI don't mind if there's not much to say\nSometimes the silence guides a mind\nTo move to a place so far away\nThe goosebumps start to raise\nThe minute that my left hand meets your waist\nAnd then I watch your face\nPut my finger on your tongue\n'Cause you love the taste, yeah\nThese hearts adore\nEveryone the other beats hardest for\nInside this place is warm\nOutside it starts to pour\n\nComin' down\nOne love, two mouths\nOne love, one house\nNo shirt, no blouse\nJust us, you find out\nNothing that I wouldn't wanna tell you about\nNo, no, no\nRelated SongsLet It GoThe NeighbourhoodEverybody’s Watching Me (Uh Oh)The NeighbourhoodDaddy IssuesThe Neighbourhood\n'Cause it's too cold for you here\nAnd now, so let me hold\nBoth your hands in the holes of my sweater\n'Cause it's too cold for you here\nAnd now, so let me hold\nBoth your hands in the holes of my sweater, woah\n\nWoah, woah, woah\nWoah, woah, woah, woah\nWoah, woah\nWoah, woah, woah, woah\nWoah, woah\n\n'Cause it's too cold for you here\nAnd now, so let me hold\nBoth your hands in the holes of my sweater\n'Cause it's too cold for you here\nNow, let me hold\nBoth your hands in the holes of my sweater\n\nAnd it's too cold, it's too cold\nThe holes of my sweater500Embed",
            "count": 1
           },
           {
            "name": "Softcore Lyrics\nYou've been my muse for a long time\nYou get me through every dark night\nI'm always gone, out on the go\nI'm on the run and you're home alone\nI'm too consumed with my own life\n\nAre we too young for this?\nFeels like I can't move\n\nSharing my heart\nIt's tearing me apart\nBut I know I'd miss you, baby, if I left right now\nDoing what I can, tryna be a man\nAnd every time I kiss you, baby\nI can hear the sound of breaking down\nI've been confused as of late (Yeah)\nWatching my youth slip away (Yeah)\nYou're like the sun, you wake me up\nBut you drain me out if I get too much\nI might need you or I'll break\n\nAre we too young for this?\nFeels like I can't move\n\nSharing my heart\nIt's tearing me apart\nBut I know I'd miss you, baby, if I left right now\nDoing what I can, tryna be a man\nAnd every time I kiss you, baby\nI can hear the sound of breaking down\n\nBreaking down, breaking down, breaking down\nBreaking down, breaking down, breaking down\nI don't want to play this part\nBut I do, all for you\nI don't want to make this hard\nBut I will 'cause I'm still\nRelated SongsBlueThe NeighbourhoodVoidThe NeighbourhoodSweater WeatherThe Neighbourhood\nSharing my heart\nIt's tearing me apart\nBut I know I'd miss you, baby, if I left right now (I know I would)\nDoing what I can, tryna be a man (Be your man)\nAnd every time I kiss you, baby\nI can hear the sound of breaking down\n\nSharing my bed, uh\nSharing my bread, yeah\nSharing my bread\nSharing my head\n(I'm breaking down)\nSharing my heart\nSharing my, suddenly I'm\n(Breaking down)\nSharing, I'm done\nSharing my life57Embed",
            "count": 1
           },
           {
            "name": "3 others",
            "count": 3
           }
          ]
         }
        },
        {
         "name": "lyric_clean",
         "dtype": "object",
         "stats": {
          "unique_count": 5,
          "nan_count": 0,
          "categories": [
           {
            "name": "['man', 'want', 'world', 'hand', 'hate', 'beach', 'stand', 'california', 'toe', 'sand', 'use', 'sleev', 'sweater', 'let', 'adventur', 'head', 'cloud', 'graviti', 'center', 'touch', 'neck', 'ill', 'touch', 'littl', 'high', 'waist', 'short', 'oh', 'know', 'think', 'think', 'one', 'love', 'two', 'mouth', 'one', 'love', 'one', 'hous', 'shirt', 'blous', 'us', 'find', 'noth', 'wouldnt', 'wan', 'na', 'tell', 'caus', 'cold', 'let', 'hold', 'hand', 'hole', 'sweater', 'may', 'take', 'breath', 'away', 'dont', 'mind', 'there', 'much', 'say', 'sometim', 'silenc', 'guid', 'mind', 'move', 'place', 'far', 'away', 'goosebump', 'start', 'rais', 'minut', 'left', 'hand', 'meet', 'waist', 'watch', 'face', 'put', 'finger', 'tongu', 'caus', 'love', 'tast', 'yeah', 'heart', 'ador', 'everyon', 'beat', 'hardest', 'insid', 'place', 'warm', 'outsid', 'start', 'pour', 'comin', 'one', 'love', 'two', 'mouth', 'one', 'love', 'one', 'hous', 'shirt', 'blous', 'us', 'find', 'noth', 'wouldnt', 'wan', 'na', 'tell', 'relat', 'songslet', 'goth', 'neighbourhoodeverybodi', '’', 'watch', 'uh', 'ohth', 'neighbourhooddaddi', 'issuesth', 'neighbourhood', 'caus', 'cold', 'let', 'hold', 'hand', 'hole', 'sweater', 'caus', 'cold', 'let', 'hold', 'hand', 'hole', 'sweater', 'woah', 'woah', 'woah', 'woah', 'woah', 'woah', 'woah', 'woah', 'woah', 'woah', 'woah', 'woah', 'woah', 'woah', 'woah', 'woah', 'caus', 'cold', 'let', 'hold', 'hand', 'hole', 'sweater', 'caus', 'cold', 'let', 'hold', 'hand', 'hole', 'sweater', 'cold', 'cold']",
            "count": 1
           },
           {
            "name": "['youv', 'muse', 'long', 'time', 'get', 'everi', 'dark', 'night', 'im', 'alway', 'gone', 'go', 'im', 'run', 'your', 'home', 'alon', 'im', 'consum', 'life', 'young', 'feel', 'like', 'cant', 'move', 'share', 'heart', 'tear', 'apart', 'know', 'id', 'miss', 'babi', 'left', 'right', 'tryna', 'man', 'everi', 'time', 'kiss', 'babi', 'hear', 'sound', 'break', 'ive', 'confus', 'late', 'yeah', 'watch', 'youth', 'slip', 'away', 'yeah', 'your', 'like', 'sun', 'wake', 'drain', 'get', 'much', 'might', 'need', 'ill', 'break', 'young', 'feel', 'like', 'cant', 'move', 'share', 'heart', 'tear', 'apart', 'know', 'id', 'miss', 'babi', 'left', 'right', 'tryna', 'man', 'everi', 'time', 'kiss', 'babi', 'hear', 'sound', 'break', 'break', 'break', 'break', 'break', 'break', 'break', 'dont', 'want', 'play', 'part', 'dont', 'want', 'make', 'hard', 'caus', 'im', 'still', 'relat', 'songsblueth', 'neighbourhoodvoidth', 'neighbourhoodsweat', 'weatherth', 'neighbourhood', 'share', 'heart', 'tear', 'apart', 'know', 'id', 'miss', 'babi', 'left', 'right', 'know', 'would', 'tryna', 'man', 'man', 'everi', 'time', 'kiss', 'babi', 'hear', 'sound', 'break', 'share', 'bed', 'uh', 'share', 'bread', 'yeah', 'share', 'bread', 'share', 'head', 'im', 'break', 'share', 'heart', 'share', 'suddenli', 'im', 'break', 'share', 'im', 'done']",
            "count": 1
           },
           {
            "name": "3 others",
            "count": 3
           }
          ]
         }
        },
        {
         "name": "_deepnote_index_column",
         "dtype": "int64"
        }
       ],
       "rows": [
        {
         "danceability": 0.612,
         "energy": 0.807,
         "key": 10,
         "loudness": -2.81,
         "mode": 1,
         "speechiness": 0.0336,
         "acousticness": 0.0495,
         "instrumentalness": 0.0177,
         "liveness": 0.101,
         "valence": 0.398,
         "tempo": 124.053,
         "type": "audio_features",
         "track_id": "2QjOHCTQ1Jl3zawyYOpxh6",
         "uri": "spotify:track:2QjOHCTQ1Jl3zawyYOpxh6",
         "track_href": "https://api.spotify.com/v1/tracks/2QjOHCTQ1Jl3zawyYOpxh6",
         "analysis_url": "https://api.spotify.com/v1/audio-analysis/2QjOHCTQ1Jl3zawyYOpxh6",
         "duration_ms": 240400,
         "time_signature": 4,
         "artist_name_x": "The Neighbourhood",
         "artist_id": "77SW9BnxLY8rJ0RciFqkHh",
         "track_name_x": "Sweater Weather",
         "genre": "alt-rock",
         "artist_name_y": "The Neighbourhood",
         "track_name_y": "Sweater Weather",
         "lyric_raw": "Sweater Weather Lyrics\nAnd all I am is a man\nI want the world in my hands\nI hate the beach but I stand\nIn California with my toes in the sand\nUse the sleeves of my sweater\nLet's have an adventure\nHead in the clouds but my gravity's centered\nTouch my neck and I'll touch yours\nYou in those little high waisted shorts, oh\n\nShe knows what I think about\nAnd what I think about\nOne love, two mouths\nOne love, one house\nNo shirt, no blouse\nJust us, you find out\nNothing that I wouldn't wanna tell you about, no\n'Cause it's too cold for you here\nAnd now, so let me hold\nBoth your hands in the holes of my sweater\n\nAnd if I may just take your breath away\nI don't mind if there's not much to say\nSometimes the silence guides a mind\nTo move to a place so far away\nThe goosebumps start to raise\nThe minute that my left hand meets your waist\nAnd then I watch your face\nPut my finger on your tongue\n'Cause you love the taste, yeah\nThese hearts adore\nEveryone the other beats hardest for\nInside this place is warm…",
         "lyric_clean": "['man', 'want', 'world', 'hand', 'hate', 'beach', 'stand', 'california', 'toe', 'sand', 'use', 'sleev', 'sweater', 'let', 'adventur', 'head', 'cloud', 'graviti', 'center', 'touch', 'neck', 'ill', 'touch', 'littl', 'high', 'waist', 'short', 'oh', 'know', 'think', 'think', 'one', 'love', 'two', 'mouth', 'one', 'love', 'one', 'hous', 'shirt', 'blous', 'us', 'find', 'noth', 'wouldnt', 'wan', 'na', 'tell', 'caus', 'cold', 'let', 'hold', 'hand', 'hole', 'sweater', 'may', 'take', 'breath', 'away', 'dont', 'mind', 'there', 'much', 'say', 'sometim', 'silenc', 'guid', 'mind', 'move', 'place', 'far', 'away', 'goosebump', 'start', 'rais', 'minut', 'left', 'hand', 'meet', 'waist', 'watch', 'face', 'put', 'finger', 'tongu', 'caus', 'love', 'tast', 'yeah', 'heart', 'ador', 'everyon', 'beat', 'hardest', 'insid', 'place', 'warm', 'outsid', 'start', 'pour', 'comin', 'one', 'love', 'two', 'mouth', 'one', 'love', 'one', 'hous', 'shirt', 'blous', 'us', 'find', 'noth', 'wouldnt', 'wan', 'na', 'tell', 'rela…",
         "_deepnote_index_column": 0
        },
        {
         "danceability": 0.575,
         "energy": 0.568,
         "key": 9,
         "loudness": -5.509,
         "mode": 0,
         "speechiness": 0.03,
         "acousticness": 0.0484,
         "instrumentalness": 0.000417,
         "liveness": 0.286,
         "valence": 0.37,
         "tempo": 93.986,
         "type": "audio_features",
         "track_id": "2K7xn816oNHJZ0aVqdQsha",
         "uri": "spotify:track:2K7xn816oNHJZ0aVqdQsha",
         "track_href": "https://api.spotify.com/v1/tracks/2K7xn816oNHJZ0aVqdQsha",
         "analysis_url": "https://api.spotify.com/v1/audio-analysis/2K7xn816oNHJZ0aVqdQsha",
         "duration_ms": 206280,
         "time_signature": 4,
         "artist_name_x": "The Neighbourhood",
         "artist_id": "77SW9BnxLY8rJ0RciFqkHh",
         "track_name_x": "Softcore",
         "genre": "alt-rock",
         "artist_name_y": "The Neighbourhood",
         "track_name_y": "Softcore",
         "lyric_raw": "Softcore Lyrics\nYou've been my muse for a long time\nYou get me through every dark night\nI'm always gone, out on the go\nI'm on the run and you're home alone\nI'm too consumed with my own life\n\nAre we too young for this?\nFeels like I can't move\n\nSharing my heart\nIt's tearing me apart\nBut I know I'd miss you, baby, if I left right now\nDoing what I can, tryna be a man\nAnd every time I kiss you, baby\nI can hear the sound of breaking down\nI've been confused as of late (Yeah)\nWatching my youth slip away (Yeah)\nYou're like the sun, you wake me up\nBut you drain me out if I get too much\nI might need you or I'll break\n\nAre we too young for this?\nFeels like I can't move\n\nSharing my heart\nIt's tearing me apart\nBut I know I'd miss you, baby, if I left right now\nDoing what I can, tryna be a man\nAnd every time I kiss you, baby\nI can hear the sound of breaking down\n\nBreaking down, breaking down, breaking down\nBreaking down, breaking down, breaking down\nI don't want to play this part\nBut I do, all for y…",
         "lyric_clean": "['youv', 'muse', 'long', 'time', 'get', 'everi', 'dark', 'night', 'im', 'alway', 'gone', 'go', 'im', 'run', 'your', 'home', 'alon', 'im', 'consum', 'life', 'young', 'feel', 'like', 'cant', 'move', 'share', 'heart', 'tear', 'apart', 'know', 'id', 'miss', 'babi', 'left', 'right', 'tryna', 'man', 'everi', 'time', 'kiss', 'babi', 'hear', 'sound', 'break', 'ive', 'confus', 'late', 'yeah', 'watch', 'youth', 'slip', 'away', 'yeah', 'your', 'like', 'sun', 'wake', 'drain', 'get', 'much', 'might', 'need', 'ill', 'break', 'young', 'feel', 'like', 'cant', 'move', 'share', 'heart', 'tear', 'apart', 'know', 'id', 'miss', 'babi', 'left', 'right', 'tryna', 'man', 'everi', 'time', 'kiss', 'babi', 'hear', 'sound', 'break', 'break', 'break', 'break', 'break', 'break', 'break', 'dont', 'want', 'play', 'part', 'dont', 'want', 'make', 'hard', 'caus', 'im', 'still', 'relat', 'songsblueth', 'neighbourhoodvoidth', 'neighbourhoodsweat', 'weatherth', 'neighbourhood', 'share', 'heart', 'tear', 'apart', 'know', '…",
         "_deepnote_index_column": 1
        },
        {
         "danceability": 0.588,
         "energy": 0.521,
         "key": 10,
         "loudness": -9.461,
         "mode": 1,
         "speechiness": 0.0329,
         "acousticness": 0.0678,
         "instrumentalness": 0.149,
         "liveness": 0.123,
         "valence": 0.337,
         "tempo": 85.012,
         "type": "audio_features",
         "track_id": "5E30LdtzQTGqRvNd7l6kG5",
         "uri": "spotify:track:5E30LdtzQTGqRvNd7l6kG5",
         "track_href": "https://api.spotify.com/v1/tracks/5E30LdtzQTGqRvNd7l6kG5",
         "analysis_url": "https://api.spotify.com/v1/audio-analysis/5E30LdtzQTGqRvNd7l6kG5",
         "duration_ms": 260173,
         "time_signature": 4,
         "artist_name_x": "The Neighbourhood",
         "artist_id": "77SW9BnxLY8rJ0RciFqkHh",
         "track_name_x": "Daddy Issues",
         "genre": "alt-rock",
         "artist_name_y": "The Neighbourhood",
         "track_name_y": "Daddy Issues",
         "lyric_raw": "Daddy Issues Lyrics\nTake you like a drug\nI taste you on my tongue\n\nYou ask me what I'm thinking about\nI tell you that I'm thinking about\nWhatever you're thinking about (Ah)\nTell me something that I'll forget\nAnd you might have to tell me again\nIt's crazy what you'll do for a friend\n\nGo ahead and cry, little girl\nNobody does it like you do\nI know how much it matters to you\nI know that you got daddy issues\nAnd if you were my little girl\nI'd do whatever I could do\nI'd run away and hide with you\nI know that you got daddy issues, and I do too\nI tried to write your name in the rain\nBut the rain never came\nSo I made with the sun\nThe shade\nAlways comes at the worst time (Ah)\n\nYou ask me what I'm thinking about\nI tell you that I'm thinking about\nWhatever you're thinking about\nTell me something that I'll forget\nAnd you might have to tell me again\nIt's crazy what you'll do for a friend\n\nGo ahead and cry, little girl\nNobody does it like you do\nI know how much it matters to you\nI know that you got…",
         "lyric_clean": "['take', 'like', 'drug', 'tast', 'tongu', 'ask', 'im', 'think', 'tell', 'im', 'think', 'whatev', 'your', 'think', 'ah', 'tell', 'someth', 'ill', 'forget', 'might', 'tell', 'crazi', 'youll', 'friend', 'go', 'ahead', 'cri', 'littl', 'girl', 'nobodi', 'like', 'know', 'much', 'matter', 'know', 'got', 'daddi', 'issu', 'littl', 'girl', 'id', 'whatev', 'could', 'id', 'run', 'away', 'hide', 'know', 'got', 'daddi', 'issu', 'tri', 'write', 'name', 'rain', 'rain', 'never', 'came', 'made', 'sun', 'shade', 'alway', 'come', 'worst', 'time', 'ah', 'ask', 'im', 'think', 'tell', 'im', 'think', 'whatev', 'your', 'think', 'tell', 'someth', 'ill', 'forget', 'might', 'tell', 'crazi', 'youll', 'friend', 'go', 'ahead', 'cri', 'littl', 'girl', 'nobodi', 'like', 'know', 'much', 'matter', 'know', 'got', 'daddi', 'issu', 'littl', 'girl', 'id', 'whatev', 'could', 'id', 'run', 'away', 'hide', 'know', 'got', 'daddi', 'issu', 'keep', 'tri', 'let', 'go', 'im', 'die', 'let', 'know', 'im', 'get', 'didnt', 'cri', 'left…",
         "_deepnote_index_column": 2
        },
        {
         "danceability": 0.471,
         "energy": 0.924,
         "key": 8,
         "loudness": -3.906,
         "mode": 1,
         "speechiness": 0.0586,
         "acousticness": 0.00301,
         "instrumentalness": 0,
         "liveness": 0.313,
         "valence": 0.725,
         "tempo": 154.961,
         "type": "audio_features",
         "track_id": "2iUmqdfGZcHIhS3b9E9EWq",
         "uri": "spotify:track:2iUmqdfGZcHIhS3b9E9EWq",
         "track_href": "https://api.spotify.com/v1/tracks/2iUmqdfGZcHIhS3b9E9EWq",
         "analysis_url": "https://api.spotify.com/v1/audio-analysis/2iUmqdfGZcHIhS3b9E9EWq",
         "duration_ms": 177280,
         "time_signature": 4,
         "artist_name_x": "Neon Trees",
         "artist_id": "0RpddSzUHfncUWNJXKOsjy",
         "track_name_x": "Everybody Talks",
         "genre": "alt-rock",
         "artist_name_y": "Neon Trees",
         "track_name_y": "Everybody Talks",
         "lyric_raw": "Everybody Talks Lyrics\nAh-ah-ah-ah\nAhem, ahem\n\nHey, baby, won't you look my way?\nI can be your new addiction\nHey, baby, what you got to say?\nAll you're giving me is fiction\nI'm a sorry sucker and this happens all the time\n\nI find out that everybody talks\nEverybody talks, everybody talks\n\nIt started with a whisper\nAnd that was when I kissed her\nAnd then she made my lips hurt\nI can hear the chit-chat\nTake me to your love shack\nMama's always gotta backtrack\nWhen everybody talks back\nHey, honey, you could be my drug\nYou could be my new prescription\nToo much could be an overdose\nAll this trash-talk make me itchin'\n\nOh my, my, shit, everybody talks\nEverybody talks, everybody talks\nEverybody talks too much\n\nIt started with a whisper\nAnd that was when I kissed her\nAnd then she made my lips hurt\nI can hear the chit-chat\nTake me to your love shack\nMama's always got a backtrack\nWhen everybody talks back\n\nNever thought I'd live to see the day (Ah-ah)\nWhen everybody's words got in the way, oh\n\nHey…",
         "lyric_clean": "['ahahahah', 'ahem', 'ahem', 'hey', 'babi', 'wont', 'look', 'way', 'new', 'addict', 'hey', 'babi', 'got', 'say', 'your', 'give', 'fiction', 'im', 'sorri', 'sucker', 'happen', 'time', 'find', 'everybodi', 'talk', 'everybodi', 'talk', 'everybodi', 'talk', 'start', 'whisper', 'kiss', 'made', 'lip', 'hurt', 'hear', 'chitchat', 'take', 'love', 'shack', 'mama', 'alway', 'got', 'ta', 'backtrack', 'everybodi', 'talk', 'back', 'hey', 'honey', 'could', 'drug', 'could', 'new', 'prescript', 'much', 'could', 'overdos', 'trashtalk', 'make', 'itchin', 'oh', 'shit', 'everybodi', 'talk', 'everybodi', 'talk', 'everybodi', 'talk', 'everybodi', 'talk', 'much', 'start', 'whisper', 'kiss', 'made', 'lip', 'hurt', 'hear', 'chitchat', 'take', 'love', 'shack', 'mama', 'alway', 'got', 'backtrack', 'everybodi', 'talk', 'back', 'never', 'thought', 'id', 'live', 'see', 'day', 'ahah', 'everybodi', 'word', 'got', 'way', 'oh', 'hey', 'sugar', 'show', 'love', 'your', 'give', 'friction', 'hey', 'sugar', 'got', 'ta', 's…",
         "_deepnote_index_column": 3
        },
        {
         "danceability": 0.551,
         "energy": 0.881,
         "key": 7,
         "loudness": -6.099,
         "mode": 0,
         "speechiness": 0.0542,
         "acousticness": 0.186,
         "instrumentalness": 0.0791,
         "liveness": 0.152,
         "valence": 0.387,
         "tempo": 88.036,
         "type": "audio_features",
         "track_id": "7zwn1eykZtZ5LODrf7c0tS",
         "uri": "spotify:track:7zwn1eykZtZ5LODrf7c0tS",
         "track_href": "https://api.spotify.com/v1/tracks/7zwn1eykZtZ5LODrf7c0tS",
         "analysis_url": "https://api.spotify.com/v1/audio-analysis/7zwn1eykZtZ5LODrf7c0tS",
         "duration_ms": 153000,
         "time_signature": 4,
         "artist_name_x": "The Neighbourhood",
         "artist_id": "77SW9BnxLY8rJ0RciFqkHh",
         "track_name_x": "You Get Me So High",
         "genre": "alt-rock",
         "artist_name_y": "The Neighbourhood",
         "track_name_y": "You Get Me So High",
         "lyric_raw": "You Get Me So High Lyrics\nHope you don't regret it\nI pushed a lot back but I can't forget it\nWe never got the credit\nNobody seemed to hear us but we said it\nNeither of us planned it\nAnd for a long time I took it all for granted\nI really thought we had it\nBut at the time it was more than I could manage, so\n\nIf we can leave it all behind us\nAnd meet in between\nIt would get me so\n\nHigh all the time, high all the time\nI wanna be high all the time\nWould you come with me?\nWish I didn't doubt it\nI wish I never ever told you all about it\nBut I just had to let you know\nI never meant to hurt you, though\nI had all my motives\nI didn't know they wouldn't mix with your emotions\nI just had to reach my goals\nNever knew I'd meet you though, so\n\nIf we can agree to disagree\nAnd keep on reaching\nIt would get you so\n\nHigh all the time, high all the time\nI wanna be high all the time\nWould you come with me?\nHigh all the time, high all the time\nI wanna be high all the time\nWould you come with me?\n\nWe should …",
         "lyric_clean": "['hope', 'dont', 'regret', 'push', 'lot', 'back', 'cant', 'forget', 'never', 'got', 'credit', 'nobodi', 'seem', 'hear', 'us', 'said', 'neither', 'us', 'plan', 'long', 'time', 'took', 'grant', 'realli', 'thought', 'time', 'could', 'manag', 'leav', 'behind', 'us', 'meet', 'would', 'get', 'high', 'time', 'high', 'time', 'wan', 'na', 'high', 'time', 'would', 'come', 'wish', 'didnt', 'doubt', 'wish', 'never', 'ever', 'told', 'let', 'know', 'never', 'meant', 'hurt', 'though', 'motiv', 'didnt', 'know', 'wouldnt', 'mix', 'emot', 'reach', 'goal', 'never', 'knew', 'id', 'meet', 'though', 'agre', 'disagre', 'keep', 'reach', 'would', 'get', 'high', 'time', 'high', 'time', 'wan', 'na', 'high', 'time', 'would', 'come', 'high', 'time', 'high', 'time', 'wan', 'na', 'high', 'time', 'would', 'come', 'stick', 'togeth', 'your', 'best', 'friend', 'ill', 'love', 'forev', 'would', 'come', 'would', 'get', 'could', 'greatest', 'doesnt', 'matter', 'never', 'rich', 'famou', 'would', 'come', 'would', 'get', 'hig…",
         "_deepnote_index_column": 4
        }
       ]
      },
      "text/plain": "   danceability  energy  key  loudness  mode  speechiness  acousticness  \\\n0         0.612   0.807   10    -2.810     1       0.0336       0.04950   \n1         0.575   0.568    9    -5.509     0       0.0300       0.04840   \n2         0.588   0.521   10    -9.461     1       0.0329       0.06780   \n3         0.471   0.924    8    -3.906     1       0.0586       0.00301   \n4         0.551   0.881    7    -6.099     0       0.0542       0.18600   \n\n   instrumentalness  liveness  valence  ...  duration_ms time_signature  \\\n0          0.017700     0.101    0.398  ...       240400              4   \n1          0.000417     0.286    0.370  ...       206280              4   \n2          0.149000     0.123    0.337  ...       260173              4   \n3          0.000000     0.313    0.725  ...       177280              4   \n4          0.079100     0.152    0.387  ...       153000              4   \n\n       artist_name_x               artist_id        track_name_x     genre  \\\n0  The Neighbourhood  77SW9BnxLY8rJ0RciFqkHh     Sweater Weather  alt-rock   \n1  The Neighbourhood  77SW9BnxLY8rJ0RciFqkHh            Softcore  alt-rock   \n2  The Neighbourhood  77SW9BnxLY8rJ0RciFqkHh        Daddy Issues  alt-rock   \n3         Neon Trees  0RpddSzUHfncUWNJXKOsjy     Everybody Talks  alt-rock   \n4  The Neighbourhood  77SW9BnxLY8rJ0RciFqkHh  You Get Me So High  alt-rock   \n\n       artist_name_y        track_name_y  \\\n0  The Neighbourhood     Sweater Weather   \n1  The Neighbourhood            Softcore   \n2  The Neighbourhood        Daddy Issues   \n3         Neon Trees     Everybody Talks   \n4  The Neighbourhood  You Get Me So High   \n\n                                           lyric_raw  \\\n0  Sweater Weather Lyrics\\nAnd all I am is a man\\...   \n1  Softcore Lyrics\\nYou've been my muse for a lon...   \n2  Daddy Issues Lyrics\\nTake you like a drug\\nI t...   \n3  Everybody Talks Lyrics\\nAh-ah-ah-ah\\nAhem, ahe...   \n4  You Get Me So High Lyrics\\nHope you don't regr...   \n\n                                         lyric_clean  \n0  ['man', 'want', 'world', 'hand', 'hate', 'beac...  \n1  ['youv', 'muse', 'long', 'time', 'get', 'everi...  \n2  ['take', 'like', 'drug', 'tast', 'tongu', 'ask...  \n3  ['ahahahah', 'ahem', 'ahem', 'hey', 'babi', 'w...  \n4  ['hope', 'dont', 'regret', 'push', 'lot', 'bac...  \n\n[5 rows x 26 columns]",
      "text/html": "<div>\n<style scoped>\n    .dataframe tbody tr th:only-of-type {\n        vertical-align: middle;\n    }\n\n    .dataframe tbody tr th {\n        vertical-align: top;\n    }\n\n    .dataframe thead th {\n        text-align: right;\n    }\n</style>\n<table border=\"1\" class=\"dataframe\">\n  <thead>\n    <tr style=\"text-align: right;\">\n      <th></th>\n      <th>danceability</th>\n      <th>energy</th>\n      <th>key</th>\n      <th>loudness</th>\n      <th>mode</th>\n      <th>speechiness</th>\n      <th>acousticness</th>\n      <th>instrumentalness</th>\n      <th>liveness</th>\n      <th>valence</th>\n      <th>...</th>\n      <th>duration_ms</th>\n      <th>time_signature</th>\n      <th>artist_name_x</th>\n      <th>artist_id</th>\n      <th>track_name_x</th>\n      <th>genre</th>\n      <th>artist_name_y</th>\n      <th>track_name_y</th>\n      <th>lyric_raw</th>\n      <th>lyric_clean</th>\n    </tr>\n  </thead>\n  <tbody>\n    <tr>\n      <th>0</th>\n      <td>0.612</td>\n      <td>0.807</td>\n      <td>10</td>\n      <td>-2.810</td>\n      <td>1</td>\n      <td>0.0336</td>\n      <td>0.04950</td>\n      <td>0.017700</td>\n      <td>0.101</td>\n      <td>0.398</td>\n      <td>...</td>\n      <td>240400</td>\n      <td>4</td>\n      <td>The Neighbourhood</td>\n      <td>77SW9BnxLY8rJ0RciFqkHh</td>\n      <td>Sweater Weather</td>\n      <td>alt-rock</td>\n      <td>The Neighbourhood</td>\n      <td>Sweater Weather</td>\n      <td>Sweater Weather Lyrics\\nAnd all I am is a man\\...</td>\n      <td>['man', 'want', 'world', 'hand', 'hate', 'beac...</td>\n    </tr>\n    <tr>\n      <th>1</th>\n      <td>0.575</td>\n      <td>0.568</td>\n      <td>9</td>\n      <td>-5.509</td>\n      <td>0</td>\n      <td>0.0300</td>\n      <td>0.04840</td>\n      <td>0.000417</td>\n      <td>0.286</td>\n      <td>0.370</td>\n      <td>...</td>\n      <td>206280</td>\n      <td>4</td>\n      <td>The Neighbourhood</td>\n      <td>77SW9BnxLY8rJ0RciFqkHh</td>\n      <td>Softcore</td>\n      <td>alt-rock</td>\n      <td>The Neighbourhood</td>\n      <td>Softcore</td>\n      <td>Softcore Lyrics\\nYou've been my muse for a lon...</td>\n      <td>['youv', 'muse', 'long', 'time', 'get', 'everi...</td>\n    </tr>\n    <tr>\n      <th>2</th>\n      <td>0.588</td>\n      <td>0.521</td>\n      <td>10</td>\n      <td>-9.461</td>\n      <td>1</td>\n      <td>0.0329</td>\n      <td>0.06780</td>\n      <td>0.149000</td>\n      <td>0.123</td>\n      <td>0.337</td>\n      <td>...</td>\n      <td>260173</td>\n      <td>4</td>\n      <td>The Neighbourhood</td>\n      <td>77SW9BnxLY8rJ0RciFqkHh</td>\n      <td>Daddy Issues</td>\n      <td>alt-rock</td>\n      <td>The Neighbourhood</td>\n      <td>Daddy Issues</td>\n      <td>Daddy Issues Lyrics\\nTake you like a drug\\nI t...</td>\n      <td>['take', 'like', 'drug', 'tast', 'tongu', 'ask...</td>\n    </tr>\n    <tr>\n      <th>3</th>\n      <td>0.471</td>\n      <td>0.924</td>\n      <td>8</td>\n      <td>-3.906</td>\n      <td>1</td>\n      <td>0.0586</td>\n      <td>0.00301</td>\n      <td>0.000000</td>\n      <td>0.313</td>\n      <td>0.725</td>\n      <td>...</td>\n      <td>177280</td>\n      <td>4</td>\n      <td>Neon Trees</td>\n      <td>0RpddSzUHfncUWNJXKOsjy</td>\n      <td>Everybody Talks</td>\n      <td>alt-rock</td>\n      <td>Neon Trees</td>\n      <td>Everybody Talks</td>\n      <td>Everybody Talks Lyrics\\nAh-ah-ah-ah\\nAhem, ahe...</td>\n      <td>['ahahahah', 'ahem', 'ahem', 'hey', 'babi', 'w...</td>\n    </tr>\n    <tr>\n      <th>4</th>\n      <td>0.551</td>\n      <td>0.881</td>\n      <td>7</td>\n      <td>-6.099</td>\n      <td>0</td>\n      <td>0.0542</td>\n      <td>0.18600</td>\n      <td>0.079100</td>\n      <td>0.152</td>\n      <td>0.387</td>\n      <td>...</td>\n      <td>153000</td>\n      <td>4</td>\n      <td>The Neighbourhood</td>\n      <td>77SW9BnxLY8rJ0RciFqkHh</td>\n      <td>You Get Me So High</td>\n      <td>alt-rock</td>\n      <td>The Neighbourhood</td>\n      <td>You Get Me So High</td>\n      <td>You Get Me So High Lyrics\\nHope you don't regr...</td>\n      <td>['hope', 'dont', 'regret', 'push', 'lot', 'bac...</td>\n    </tr>\n  </tbody>\n</table>\n<p>5 rows × 26 columns</p>\n</div>"
     },
     "metadata": {}
    }
   ]
  },
  {
   "cell_type": "code",
   "metadata": {
    "cell_id": "b8d3576108b249838006a5dc15d8f549",
    "tags": [],
    "deepnote_to_be_reexecuted": false,
    "source_hash": "93337964",
    "execution_start": 1653062998369,
    "execution_millis": 7,
    "deepnote_cell_type": "code",
    "deepnote_cell_height": 351
   },
   "source": "# Filter to just the columns we care about\ncols = ['danceability', \n          'energy', \n          'loudness', \n          'mode', \n          'speechiness', \n          'acousticness', \n          'instrumentalness', \n          'liveness', \n          'valence', \n          'tempo', \n          'duration_ms', \n          'time_signature',\n          'genre']\n\ndf = lyrics_df.loc[:, cols]",
   "execution_count": null,
   "outputs": []
  },
  {
   "cell_type": "code",
   "metadata": {
    "cell_id": "39be235be7774c4ca12535201f9c8725",
    "tags": [],
    "deepnote_to_be_reexecuted": false,
    "source_hash": "f14b8d20",
    "execution_start": 1653063344367,
    "execution_millis": 759,
    "deepnote_cell_type": "code",
    "deepnote_cell_height": 81,
    "deepnote_output_heights": [
     611
    ]
   },
   "source": "from pycaret.classification import *",
   "execution_count": null,
   "outputs": []
  },
  {
   "cell_type": "code",
   "metadata": {
    "cell_id": "27980ebf50774fd8bd5c7beb88cd827b",
    "tags": [],
    "deepnote_to_be_reexecuted": false,
    "source_hash": "74be224f",
    "execution_start": 1653063388963,
    "execution_millis": 9471,
    "deepnote_cell_type": "code",
    "deepnote_cell_height": 704,
    "deepnote_output_heights": [
     607,
     83,
     null,
     409
    ]
   },
   "source": "s = setup(df, target = 'genre')",
   "execution_count": null,
   "outputs": [
    {
     "data": {
      "text/plain": "<pandas.io.formats.style.Styler at 0x7f4f37a9e2d0>",
      "text/html": "<style  type=\"text/css\" >\n#T_e9835_row44_col1{\n            background-color:  lightgreen;\n        }</style><table id=\"T_e9835_\" ><thead>    <tr>        <th class=\"blank level0\" ></th>        <th class=\"col_heading level0 col0\" >Description</th>        <th class=\"col_heading level0 col1\" >Value</th>    </tr></thead><tbody>\n                <tr>\n                        <th id=\"T_e9835_level0_row0\" class=\"row_heading level0 row0\" >0</th>\n                        <td id=\"T_e9835_row0_col0\" class=\"data row0 col0\" >session_id</td>\n                        <td id=\"T_e9835_row0_col1\" class=\"data row0 col1\" >6739</td>\n            </tr>\n            <tr>\n                        <th id=\"T_e9835_level0_row1\" class=\"row_heading level0 row1\" >1</th>\n                        <td id=\"T_e9835_row1_col0\" class=\"data row1 col0\" >Target</td>\n                        <td id=\"T_e9835_row1_col1\" class=\"data row1 col1\" >genre</td>\n            </tr>\n            <tr>\n                        <th id=\"T_e9835_level0_row2\" class=\"row_heading level0 row2\" >2</th>\n                        <td id=\"T_e9835_row2_col0\" class=\"data row2 col0\" >Target Type</td>\n                        <td id=\"T_e9835_row2_col1\" class=\"data row2 col1\" >Multiclass</td>\n            </tr>\n            <tr>\n                        <th id=\"T_e9835_level0_row3\" class=\"row_heading level0 row3\" >3</th>\n                        <td id=\"T_e9835_row3_col0\" class=\"data row3 col0\" >Label Encoded</td>\n                        <td id=\"T_e9835_row3_col1\" class=\"data row3 col1\" >alt-rock: 0, classical: 1, country: 2, edm: 3, heavy-metal: 4, hip-hop: 5, latin: 6</td>\n            </tr>\n            <tr>\n                        <th id=\"T_e9835_level0_row4\" class=\"row_heading level0 row4\" >4</th>\n                        <td id=\"T_e9835_row4_col0\" class=\"data row4 col0\" >Original Data</td>\n                        <td id=\"T_e9835_row4_col1\" class=\"data row4 col1\" >(7050, 13)</td>\n            </tr>\n            <tr>\n                        <th id=\"T_e9835_level0_row5\" class=\"row_heading level0 row5\" >5</th>\n                        <td id=\"T_e9835_row5_col0\" class=\"data row5 col0\" >Missing Values</td>\n                        <td id=\"T_e9835_row5_col1\" class=\"data row5 col1\" >False</td>\n            </tr>\n            <tr>\n                        <th id=\"T_e9835_level0_row6\" class=\"row_heading level0 row6\" >6</th>\n                        <td id=\"T_e9835_row6_col0\" class=\"data row6 col0\" >Numeric Features</td>\n                        <td id=\"T_e9835_row6_col1\" class=\"data row6 col1\" >10</td>\n            </tr>\n            <tr>\n                        <th id=\"T_e9835_level0_row7\" class=\"row_heading level0 row7\" >7</th>\n                        <td id=\"T_e9835_row7_col0\" class=\"data row7 col0\" >Categorical Features</td>\n                        <td id=\"T_e9835_row7_col1\" class=\"data row7 col1\" >2</td>\n            </tr>\n            <tr>\n                        <th id=\"T_e9835_level0_row8\" class=\"row_heading level0 row8\" >8</th>\n                        <td id=\"T_e9835_row8_col0\" class=\"data row8 col0\" >Ordinal Features</td>\n                        <td id=\"T_e9835_row8_col1\" class=\"data row8 col1\" >False</td>\n            </tr>\n            <tr>\n                        <th id=\"T_e9835_level0_row9\" class=\"row_heading level0 row9\" >9</th>\n                        <td id=\"T_e9835_row9_col0\" class=\"data row9 col0\" >High Cardinality Features</td>\n                        <td id=\"T_e9835_row9_col1\" class=\"data row9 col1\" >False</td>\n            </tr>\n            <tr>\n                        <th id=\"T_e9835_level0_row10\" class=\"row_heading level0 row10\" >10</th>\n                        <td id=\"T_e9835_row10_col0\" class=\"data row10 col0\" >High Cardinality Method</td>\n                        <td id=\"T_e9835_row10_col1\" class=\"data row10 col1\" >None</td>\n            </tr>\n            <tr>\n                        <th id=\"T_e9835_level0_row11\" class=\"row_heading level0 row11\" >11</th>\n                        <td id=\"T_e9835_row11_col0\" class=\"data row11 col0\" >Transformed Train Set</td>\n                        <td id=\"T_e9835_row11_col1\" class=\"data row11 col1\" >(4934, 15)</td>\n            </tr>\n            <tr>\n                        <th id=\"T_e9835_level0_row12\" class=\"row_heading level0 row12\" >12</th>\n                        <td id=\"T_e9835_row12_col0\" class=\"data row12 col0\" >Transformed Test Set</td>\n                        <td id=\"T_e9835_row12_col1\" class=\"data row12 col1\" >(2116, 15)</td>\n            </tr>\n            <tr>\n                        <th id=\"T_e9835_level0_row13\" class=\"row_heading level0 row13\" >13</th>\n                        <td id=\"T_e9835_row13_col0\" class=\"data row13 col0\" >Shuffle Train-Test</td>\n                        <td id=\"T_e9835_row13_col1\" class=\"data row13 col1\" >True</td>\n            </tr>\n            <tr>\n                        <th id=\"T_e9835_level0_row14\" class=\"row_heading level0 row14\" >14</th>\n                        <td id=\"T_e9835_row14_col0\" class=\"data row14 col0\" >Stratify Train-Test</td>\n                        <td id=\"T_e9835_row14_col1\" class=\"data row14 col1\" >False</td>\n            </tr>\n            <tr>\n                        <th id=\"T_e9835_level0_row15\" class=\"row_heading level0 row15\" >15</th>\n                        <td id=\"T_e9835_row15_col0\" class=\"data row15 col0\" >Fold Generator</td>\n                        <td id=\"T_e9835_row15_col1\" class=\"data row15 col1\" >StratifiedKFold</td>\n            </tr>\n            <tr>\n                        <th id=\"T_e9835_level0_row16\" class=\"row_heading level0 row16\" >16</th>\n                        <td id=\"T_e9835_row16_col0\" class=\"data row16 col0\" >Fold Number</td>\n                        <td id=\"T_e9835_row16_col1\" class=\"data row16 col1\" >10</td>\n            </tr>\n            <tr>\n                        <th id=\"T_e9835_level0_row17\" class=\"row_heading level0 row17\" >17</th>\n                        <td id=\"T_e9835_row17_col0\" class=\"data row17 col0\" >CPU Jobs</td>\n                        <td id=\"T_e9835_row17_col1\" class=\"data row17 col1\" >-1</td>\n            </tr>\n            <tr>\n                        <th id=\"T_e9835_level0_row18\" class=\"row_heading level0 row18\" >18</th>\n                        <td id=\"T_e9835_row18_col0\" class=\"data row18 col0\" >Use GPU</td>\n                        <td id=\"T_e9835_row18_col1\" class=\"data row18 col1\" >False</td>\n            </tr>\n            <tr>\n                        <th id=\"T_e9835_level0_row19\" class=\"row_heading level0 row19\" >19</th>\n                        <td id=\"T_e9835_row19_col0\" class=\"data row19 col0\" >Log Experiment</td>\n                        <td id=\"T_e9835_row19_col1\" class=\"data row19 col1\" >False</td>\n            </tr>\n            <tr>\n                        <th id=\"T_e9835_level0_row20\" class=\"row_heading level0 row20\" >20</th>\n                        <td id=\"T_e9835_row20_col0\" class=\"data row20 col0\" >Experiment Name</td>\n                        <td id=\"T_e9835_row20_col1\" class=\"data row20 col1\" >clf-default-name</td>\n            </tr>\n            <tr>\n                        <th id=\"T_e9835_level0_row21\" class=\"row_heading level0 row21\" >21</th>\n                        <td id=\"T_e9835_row21_col0\" class=\"data row21 col0\" >USI</td>\n                        <td id=\"T_e9835_row21_col1\" class=\"data row21 col1\" >e583</td>\n            </tr>\n            <tr>\n                        <th id=\"T_e9835_level0_row22\" class=\"row_heading level0 row22\" >22</th>\n                        <td id=\"T_e9835_row22_col0\" class=\"data row22 col0\" >Imputation Type</td>\n                        <td id=\"T_e9835_row22_col1\" class=\"data row22 col1\" >simple</td>\n            </tr>\n            <tr>\n                        <th id=\"T_e9835_level0_row23\" class=\"row_heading level0 row23\" >23</th>\n                        <td id=\"T_e9835_row23_col0\" class=\"data row23 col0\" >Iterative Imputation Iteration</td>\n                        <td id=\"T_e9835_row23_col1\" class=\"data row23 col1\" >None</td>\n            </tr>\n            <tr>\n                        <th id=\"T_e9835_level0_row24\" class=\"row_heading level0 row24\" >24</th>\n                        <td id=\"T_e9835_row24_col0\" class=\"data row24 col0\" >Numeric Imputer</td>\n                        <td id=\"T_e9835_row24_col1\" class=\"data row24 col1\" >mean</td>\n            </tr>\n            <tr>\n                        <th id=\"T_e9835_level0_row25\" class=\"row_heading level0 row25\" >25</th>\n                        <td id=\"T_e9835_row25_col0\" class=\"data row25 col0\" >Iterative Imputation Numeric Model</td>\n                        <td id=\"T_e9835_row25_col1\" class=\"data row25 col1\" >None</td>\n            </tr>\n            <tr>\n                        <th id=\"T_e9835_level0_row26\" class=\"row_heading level0 row26\" >26</th>\n                        <td id=\"T_e9835_row26_col0\" class=\"data row26 col0\" >Categorical Imputer</td>\n                        <td id=\"T_e9835_row26_col1\" class=\"data row26 col1\" >constant</td>\n            </tr>\n            <tr>\n                        <th id=\"T_e9835_level0_row27\" class=\"row_heading level0 row27\" >27</th>\n                        <td id=\"T_e9835_row27_col0\" class=\"data row27 col0\" >Iterative Imputation Categorical Model</td>\n                        <td id=\"T_e9835_row27_col1\" class=\"data row27 col1\" >None</td>\n            </tr>\n            <tr>\n                        <th id=\"T_e9835_level0_row28\" class=\"row_heading level0 row28\" >28</th>\n                        <td id=\"T_e9835_row28_col0\" class=\"data row28 col0\" >Unknown Categoricals Handling</td>\n                        <td id=\"T_e9835_row28_col1\" class=\"data row28 col1\" >least_frequent</td>\n            </tr>\n            <tr>\n                        <th id=\"T_e9835_level0_row29\" class=\"row_heading level0 row29\" >29</th>\n                        <td id=\"T_e9835_row29_col0\" class=\"data row29 col0\" >Normalize</td>\n                        <td id=\"T_e9835_row29_col1\" class=\"data row29 col1\" >False</td>\n            </tr>\n            <tr>\n                        <th id=\"T_e9835_level0_row30\" class=\"row_heading level0 row30\" >30</th>\n                        <td id=\"T_e9835_row30_col0\" class=\"data row30 col0\" >Normalize Method</td>\n                        <td id=\"T_e9835_row30_col1\" class=\"data row30 col1\" >None</td>\n            </tr>\n            <tr>\n                        <th id=\"T_e9835_level0_row31\" class=\"row_heading level0 row31\" >31</th>\n                        <td id=\"T_e9835_row31_col0\" class=\"data row31 col0\" >Transformation</td>\n                        <td id=\"T_e9835_row31_col1\" class=\"data row31 col1\" >False</td>\n            </tr>\n            <tr>\n                        <th id=\"T_e9835_level0_row32\" class=\"row_heading level0 row32\" >32</th>\n                        <td id=\"T_e9835_row32_col0\" class=\"data row32 col0\" >Transformation Method</td>\n                        <td id=\"T_e9835_row32_col1\" class=\"data row32 col1\" >None</td>\n            </tr>\n            <tr>\n                        <th id=\"T_e9835_level0_row33\" class=\"row_heading level0 row33\" >33</th>\n                        <td id=\"T_e9835_row33_col0\" class=\"data row33 col0\" >PCA</td>\n                        <td id=\"T_e9835_row33_col1\" class=\"data row33 col1\" >False</td>\n            </tr>\n            <tr>\n                        <th id=\"T_e9835_level0_row34\" class=\"row_heading level0 row34\" >34</th>\n                        <td id=\"T_e9835_row34_col0\" class=\"data row34 col0\" >PCA Method</td>\n                        <td id=\"T_e9835_row34_col1\" class=\"data row34 col1\" >None</td>\n            </tr>\n            <tr>\n                        <th id=\"T_e9835_level0_row35\" class=\"row_heading level0 row35\" >35</th>\n                        <td id=\"T_e9835_row35_col0\" class=\"data row35 col0\" >PCA Components</td>\n                        <td id=\"T_e9835_row35_col1\" class=\"data row35 col1\" >None</td>\n            </tr>\n            <tr>\n                        <th id=\"T_e9835_level0_row36\" class=\"row_heading level0 row36\" >36</th>\n                        <td id=\"T_e9835_row36_col0\" class=\"data row36 col0\" >Ignore Low Variance</td>\n                        <td id=\"T_e9835_row36_col1\" class=\"data row36 col1\" >False</td>\n            </tr>\n            <tr>\n                        <th id=\"T_e9835_level0_row37\" class=\"row_heading level0 row37\" >37</th>\n                        <td id=\"T_e9835_row37_col0\" class=\"data row37 col0\" >Combine Rare Levels</td>\n                        <td id=\"T_e9835_row37_col1\" class=\"data row37 col1\" >False</td>\n            </tr>\n            <tr>\n                        <th id=\"T_e9835_level0_row38\" class=\"row_heading level0 row38\" >38</th>\n                        <td id=\"T_e9835_row38_col0\" class=\"data row38 col0\" >Rare Level Threshold</td>\n                        <td id=\"T_e9835_row38_col1\" class=\"data row38 col1\" >None</td>\n            </tr>\n            <tr>\n                        <th id=\"T_e9835_level0_row39\" class=\"row_heading level0 row39\" >39</th>\n                        <td id=\"T_e9835_row39_col0\" class=\"data row39 col0\" >Numeric Binning</td>\n                        <td id=\"T_e9835_row39_col1\" class=\"data row39 col1\" >False</td>\n            </tr>\n            <tr>\n                        <th id=\"T_e9835_level0_row40\" class=\"row_heading level0 row40\" >40</th>\n                        <td id=\"T_e9835_row40_col0\" class=\"data row40 col0\" >Remove Outliers</td>\n                        <td id=\"T_e9835_row40_col1\" class=\"data row40 col1\" >False</td>\n            </tr>\n            <tr>\n                        <th id=\"T_e9835_level0_row41\" class=\"row_heading level0 row41\" >41</th>\n                        <td id=\"T_e9835_row41_col0\" class=\"data row41 col0\" >Outliers Threshold</td>\n                        <td id=\"T_e9835_row41_col1\" class=\"data row41 col1\" >None</td>\n            </tr>\n            <tr>\n                        <th id=\"T_e9835_level0_row42\" class=\"row_heading level0 row42\" >42</th>\n                        <td id=\"T_e9835_row42_col0\" class=\"data row42 col0\" >Remove Multicollinearity</td>\n                        <td id=\"T_e9835_row42_col1\" class=\"data row42 col1\" >False</td>\n            </tr>\n            <tr>\n                        <th id=\"T_e9835_level0_row43\" class=\"row_heading level0 row43\" >43</th>\n                        <td id=\"T_e9835_row43_col0\" class=\"data row43 col0\" >Multicollinearity Threshold</td>\n                        <td id=\"T_e9835_row43_col1\" class=\"data row43 col1\" >None</td>\n            </tr>\n            <tr>\n                        <th id=\"T_e9835_level0_row44\" class=\"row_heading level0 row44\" >44</th>\n                        <td id=\"T_e9835_row44_col0\" class=\"data row44 col0\" >Remove Perfect Collinearity</td>\n                        <td id=\"T_e9835_row44_col1\" class=\"data row44 col1\" >True</td>\n            </tr>\n            <tr>\n                        <th id=\"T_e9835_level0_row45\" class=\"row_heading level0 row45\" >45</th>\n                        <td id=\"T_e9835_row45_col0\" class=\"data row45 col0\" >Clustering</td>\n                        <td id=\"T_e9835_row45_col1\" class=\"data row45 col1\" >False</td>\n            </tr>\n            <tr>\n                        <th id=\"T_e9835_level0_row46\" class=\"row_heading level0 row46\" >46</th>\n                        <td id=\"T_e9835_row46_col0\" class=\"data row46 col0\" >Clustering Iteration</td>\n                        <td id=\"T_e9835_row46_col1\" class=\"data row46 col1\" >None</td>\n            </tr>\n            <tr>\n                        <th id=\"T_e9835_level0_row47\" class=\"row_heading level0 row47\" >47</th>\n                        <td id=\"T_e9835_row47_col0\" class=\"data row47 col0\" >Polynomial Features</td>\n                        <td id=\"T_e9835_row47_col1\" class=\"data row47 col1\" >False</td>\n            </tr>\n            <tr>\n                        <th id=\"T_e9835_level0_row48\" class=\"row_heading level0 row48\" >48</th>\n                        <td id=\"T_e9835_row48_col0\" class=\"data row48 col0\" >Polynomial Degree</td>\n                        <td id=\"T_e9835_row48_col1\" class=\"data row48 col1\" >None</td>\n            </tr>\n            <tr>\n                        <th id=\"T_e9835_level0_row49\" class=\"row_heading level0 row49\" >49</th>\n                        <td id=\"T_e9835_row49_col0\" class=\"data row49 col0\" >Trignometry Features</td>\n                        <td id=\"T_e9835_row49_col1\" class=\"data row49 col1\" >False</td>\n            </tr>\n            <tr>\n                        <th id=\"T_e9835_level0_row50\" class=\"row_heading level0 row50\" >50</th>\n                        <td id=\"T_e9835_row50_col0\" class=\"data row50 col0\" >Polynomial Threshold</td>\n                        <td id=\"T_e9835_row50_col1\" class=\"data row50 col1\" >None</td>\n            </tr>\n            <tr>\n                        <th id=\"T_e9835_level0_row51\" class=\"row_heading level0 row51\" >51</th>\n                        <td id=\"T_e9835_row51_col0\" class=\"data row51 col0\" >Group Features</td>\n                        <td id=\"T_e9835_row51_col1\" class=\"data row51 col1\" >False</td>\n            </tr>\n            <tr>\n                        <th id=\"T_e9835_level0_row52\" class=\"row_heading level0 row52\" >52</th>\n                        <td id=\"T_e9835_row52_col0\" class=\"data row52 col0\" >Feature Selection</td>\n                        <td id=\"T_e9835_row52_col1\" class=\"data row52 col1\" >False</td>\n            </tr>\n            <tr>\n                        <th id=\"T_e9835_level0_row53\" class=\"row_heading level0 row53\" >53</th>\n                        <td id=\"T_e9835_row53_col0\" class=\"data row53 col0\" >Feature Selection Method</td>\n                        <td id=\"T_e9835_row53_col1\" class=\"data row53 col1\" >classic</td>\n            </tr>\n            <tr>\n                        <th id=\"T_e9835_level0_row54\" class=\"row_heading level0 row54\" >54</th>\n                        <td id=\"T_e9835_row54_col0\" class=\"data row54 col0\" >Features Selection Threshold</td>\n                        <td id=\"T_e9835_row54_col1\" class=\"data row54 col1\" >None</td>\n            </tr>\n            <tr>\n                        <th id=\"T_e9835_level0_row55\" class=\"row_heading level0 row55\" >55</th>\n                        <td id=\"T_e9835_row55_col0\" class=\"data row55 col0\" >Feature Interaction</td>\n                        <td id=\"T_e9835_row55_col1\" class=\"data row55 col1\" >False</td>\n            </tr>\n            <tr>\n                        <th id=\"T_e9835_level0_row56\" class=\"row_heading level0 row56\" >56</th>\n                        <td id=\"T_e9835_row56_col0\" class=\"data row56 col0\" >Feature Ratio</td>\n                        <td id=\"T_e9835_row56_col1\" class=\"data row56 col1\" >False</td>\n            </tr>\n            <tr>\n                        <th id=\"T_e9835_level0_row57\" class=\"row_heading level0 row57\" >57</th>\n                        <td id=\"T_e9835_row57_col0\" class=\"data row57 col0\" >Interaction Threshold</td>\n                        <td id=\"T_e9835_row57_col1\" class=\"data row57 col1\" >None</td>\n            </tr>\n            <tr>\n                        <th id=\"T_e9835_level0_row58\" class=\"row_heading level0 row58\" >58</th>\n                        <td id=\"T_e9835_row58_col0\" class=\"data row58 col0\" >Fix Imbalance</td>\n                        <td id=\"T_e9835_row58_col1\" class=\"data row58 col1\" >False</td>\n            </tr>\n            <tr>\n                        <th id=\"T_e9835_level0_row59\" class=\"row_heading level0 row59\" >59</th>\n                        <td id=\"T_e9835_row59_col0\" class=\"data row59 col0\" >Fix Imbalance Method</td>\n                        <td id=\"T_e9835_row59_col1\" class=\"data row59 col1\" >SMOTE</td>\n            </tr>\n    </tbody></table>"
     },
     "metadata": {},
     "output_type": "display_data"
    }
   ]
  },
  {
   "cell_type": "code",
   "metadata": {
    "cell_id": "fb923603da154eb68b3bb8e1b2f91986",
    "tags": [],
    "deepnote_to_be_reexecuted": false,
    "source_hash": "df004913",
    "execution_start": 1653063420373,
    "execution_millis": 177770,
    "deepnote_cell_type": "code",
    "deepnote_cell_height": 535,
    "deepnote_output_heights": [
     438,
     112
    ]
   },
   "source": "best = compare_models()",
   "execution_count": null,
   "outputs": [
    {
     "data": {
      "text/plain": "<pandas.io.formats.style.Styler at 0x7f4f3406f1d0>",
      "text/html": "<style  type=\"text/css\" >\n    #T_43727_ th {\n          text-align: left;\n    }#T_43727_row0_col0,#T_43727_row1_col0,#T_43727_row1_col1,#T_43727_row1_col2,#T_43727_row1_col3,#T_43727_row1_col4,#T_43727_row1_col5,#T_43727_row1_col6,#T_43727_row1_col7,#T_43727_row2_col0,#T_43727_row2_col1,#T_43727_row2_col2,#T_43727_row2_col3,#T_43727_row2_col4,#T_43727_row2_col5,#T_43727_row2_col6,#T_43727_row2_col7,#T_43727_row3_col0,#T_43727_row3_col1,#T_43727_row3_col2,#T_43727_row3_col3,#T_43727_row3_col4,#T_43727_row3_col5,#T_43727_row3_col6,#T_43727_row3_col7,#T_43727_row4_col0,#T_43727_row4_col1,#T_43727_row4_col2,#T_43727_row4_col3,#T_43727_row4_col4,#T_43727_row4_col5,#T_43727_row4_col6,#T_43727_row4_col7,#T_43727_row5_col0,#T_43727_row5_col1,#T_43727_row5_col2,#T_43727_row5_col3,#T_43727_row5_col4,#T_43727_row5_col5,#T_43727_row5_col6,#T_43727_row5_col7,#T_43727_row6_col0,#T_43727_row6_col1,#T_43727_row6_col2,#T_43727_row6_col3,#T_43727_row6_col4,#T_43727_row6_col5,#T_43727_row6_col6,#T_43727_row6_col7,#T_43727_row7_col0,#T_43727_row7_col1,#T_43727_row7_col2,#T_43727_row7_col3,#T_43727_row7_col4,#T_43727_row7_col5,#T_43727_row7_col6,#T_43727_row7_col7,#T_43727_row8_col0,#T_43727_row8_col1,#T_43727_row8_col2,#T_43727_row8_col3,#T_43727_row8_col4,#T_43727_row8_col5,#T_43727_row8_col6,#T_43727_row8_col7,#T_43727_row9_col0,#T_43727_row9_col1,#T_43727_row9_col2,#T_43727_row9_col3,#T_43727_row9_col4,#T_43727_row9_col5,#T_43727_row9_col6,#T_43727_row9_col7,#T_43727_row10_col0,#T_43727_row10_col1,#T_43727_row10_col2,#T_43727_row10_col3,#T_43727_row10_col4,#T_43727_row10_col5,#T_43727_row10_col6,#T_43727_row10_col7,#T_43727_row11_col0,#T_43727_row11_col1,#T_43727_row11_col2,#T_43727_row11_col3,#T_43727_row11_col4,#T_43727_row11_col5,#T_43727_row11_col6,#T_43727_row11_col7,#T_43727_row12_col0,#T_43727_row12_col1,#T_43727_row12_col2,#T_43727_row12_col3,#T_43727_row12_col4,#T_43727_row12_col5,#T_43727_row12_col6,#T_43727_row12_col7,#T_43727_row13_col0,#T_43727_row13_col1,#T_43727_row13_col2,#T_43727_row13_col3,#T_43727_row13_col4,#T_43727_row13_col5,#T_43727_row13_col6,#T_43727_row13_col7{\n            text-align:  left;\n            text-align:  left;\n        }#T_43727_row0_col1,#T_43727_row0_col2,#T_43727_row0_col3,#T_43727_row0_col4,#T_43727_row0_col5,#T_43727_row0_col6,#T_43727_row0_col7{\n            text-align:  left;\n            text-align:  left;\n            background-color:  yellow;\n        }#T_43727_row0_col8,#T_43727_row1_col8,#T_43727_row2_col8,#T_43727_row3_col8,#T_43727_row4_col8,#T_43727_row5_col8,#T_43727_row6_col8,#T_43727_row7_col8,#T_43727_row8_col8,#T_43727_row9_col8,#T_43727_row10_col8,#T_43727_row12_col8,#T_43727_row13_col8{\n            text-align:  left;\n            text-align:  left;\n            background-color:  lightgrey;\n        }#T_43727_row11_col8{\n            text-align:  left;\n            text-align:  left;\n            background-color:  yellow;\n            background-color:  lightgrey;\n        }</style><table id=\"T_43727_\" ><thead>    <tr>        <th class=\"blank level0\" ></th>        <th class=\"col_heading level0 col0\" >Model</th>        <th class=\"col_heading level0 col1\" >Accuracy</th>        <th class=\"col_heading level0 col2\" >AUC</th>        <th class=\"col_heading level0 col3\" >Recall</th>        <th class=\"col_heading level0 col4\" >Prec.</th>        <th class=\"col_heading level0 col5\" >F1</th>        <th class=\"col_heading level0 col6\" >Kappa</th>        <th class=\"col_heading level0 col7\" >MCC</th>        <th class=\"col_heading level0 col8\" >TT (Sec)</th>    </tr></thead><tbody>\n                <tr>\n                        <th id=\"T_43727_level0_row0\" class=\"row_heading level0 row0\" >lightgbm</th>\n                        <td id=\"T_43727_row0_col0\" class=\"data row0 col0\" >Light Gradient Boosting Machine</td>\n                        <td id=\"T_43727_row0_col1\" class=\"data row0 col1\" >0.7258</td>\n                        <td id=\"T_43727_row0_col2\" class=\"data row0 col2\" >0.9413</td>\n                        <td id=\"T_43727_row0_col3\" class=\"data row0 col3\" >0.7250</td>\n                        <td id=\"T_43727_row0_col4\" class=\"data row0 col4\" >0.7269</td>\n                        <td id=\"T_43727_row0_col5\" class=\"data row0 col5\" >0.7250</td>\n                        <td id=\"T_43727_row0_col6\" class=\"data row0 col6\" >0.6801</td>\n                        <td id=\"T_43727_row0_col7\" class=\"data row0 col7\" >0.6805</td>\n                        <td id=\"T_43727_row0_col8\" class=\"data row0 col8\" >1.4180</td>\n            </tr>\n            <tr>\n                        <th id=\"T_43727_level0_row1\" class=\"row_heading level0 row1\" >rf</th>\n                        <td id=\"T_43727_row1_col0\" class=\"data row1 col0\" >Random Forest Classifier</td>\n                        <td id=\"T_43727_row1_col1\" class=\"data row1 col1\" >0.7234</td>\n                        <td id=\"T_43727_row1_col2\" class=\"data row1 col2\" >0.9401</td>\n                        <td id=\"T_43727_row1_col3\" class=\"data row1 col3\" >0.7226</td>\n                        <td id=\"T_43727_row1_col4\" class=\"data row1 col4\" >0.7202</td>\n                        <td id=\"T_43727_row1_col5\" class=\"data row1 col5\" >0.7201</td>\n                        <td id=\"T_43727_row1_col6\" class=\"data row1 col6\" >0.6772</td>\n                        <td id=\"T_43727_row1_col7\" class=\"data row1 col7\" >0.6778</td>\n                        <td id=\"T_43727_row1_col8\" class=\"data row1 col8\" >1.3670</td>\n            </tr>\n            <tr>\n                        <th id=\"T_43727_level0_row2\" class=\"row_heading level0 row2\" >et</th>\n                        <td id=\"T_43727_row2_col0\" class=\"data row2 col0\" >Extra Trees Classifier</td>\n                        <td id=\"T_43727_row2_col1\" class=\"data row2 col1\" >0.7146</td>\n                        <td id=\"T_43727_row2_col2\" class=\"data row2 col2\" >0.9342</td>\n                        <td id=\"T_43727_row2_col3\" class=\"data row2 col3\" >0.7137</td>\n                        <td id=\"T_43727_row2_col4\" class=\"data row2 col4\" >0.7102</td>\n                        <td id=\"T_43727_row2_col5\" class=\"data row2 col5\" >0.7088</td>\n                        <td id=\"T_43727_row2_col6\" class=\"data row2 col6\" >0.6670</td>\n                        <td id=\"T_43727_row2_col7\" class=\"data row2 col7\" >0.6682</td>\n                        <td id=\"T_43727_row2_col8\" class=\"data row2 col8\" >0.9540</td>\n            </tr>\n            <tr>\n                        <th id=\"T_43727_level0_row3\" class=\"row_heading level0 row3\" >gbc</th>\n                        <td id=\"T_43727_row3_col0\" class=\"data row3 col0\" >Gradient Boosting Classifier</td>\n                        <td id=\"T_43727_row3_col1\" class=\"data row3 col1\" >0.7102</td>\n                        <td id=\"T_43727_row3_col2\" class=\"data row3 col2\" >0.9361</td>\n                        <td id=\"T_43727_row3_col3\" class=\"data row3 col3\" >0.7096</td>\n                        <td id=\"T_43727_row3_col4\" class=\"data row3 col4\" >0.7104</td>\n                        <td id=\"T_43727_row3_col5\" class=\"data row3 col5\" >0.7089</td>\n                        <td id=\"T_43727_row3_col6\" class=\"data row3 col6\" >0.6619</td>\n                        <td id=\"T_43727_row3_col7\" class=\"data row3 col7\" >0.6624</td>\n                        <td id=\"T_43727_row3_col8\" class=\"data row3 col8\" >10.6280</td>\n            </tr>\n            <tr>\n                        <th id=\"T_43727_level0_row4\" class=\"row_heading level0 row4\" >lda</th>\n                        <td id=\"T_43727_row4_col0\" class=\"data row4 col0\" >Linear Discriminant Analysis</td>\n                        <td id=\"T_43727_row4_col1\" class=\"data row4 col1\" >0.6289</td>\n                        <td id=\"T_43727_row4_col2\" class=\"data row4 col2\" >0.9005</td>\n                        <td id=\"T_43727_row4_col3\" class=\"data row4 col3\" >0.6284</td>\n                        <td id=\"T_43727_row4_col4\" class=\"data row4 col4\" >0.6322</td>\n                        <td id=\"T_43727_row4_col5\" class=\"data row4 col5\" >0.6286</td>\n                        <td id=\"T_43727_row4_col6\" class=\"data row4 col6\" >0.5671</td>\n                        <td id=\"T_43727_row4_col7\" class=\"data row4 col7\" >0.5677</td>\n                        <td id=\"T_43727_row4_col8\" class=\"data row4 col8\" >0.0410</td>\n            </tr>\n            <tr>\n                        <th id=\"T_43727_level0_row5\" class=\"row_heading level0 row5\" >ridge</th>\n                        <td id=\"T_43727_row5_col0\" class=\"data row5 col0\" >Ridge Classifier</td>\n                        <td id=\"T_43727_row5_col1\" class=\"data row5 col1\" >0.6088</td>\n                        <td id=\"T_43727_row5_col2\" class=\"data row5 col2\" >0.0000</td>\n                        <td id=\"T_43727_row5_col3\" class=\"data row5 col3\" >0.6079</td>\n                        <td id=\"T_43727_row5_col4\" class=\"data row5 col4\" >0.5987</td>\n                        <td id=\"T_43727_row5_col5\" class=\"data row5 col5\" >0.5732</td>\n                        <td id=\"T_43727_row5_col6\" class=\"data row5 col6\" >0.5436</td>\n                        <td id=\"T_43727_row5_col7\" class=\"data row5 col7\" >0.5527</td>\n                        <td id=\"T_43727_row5_col8\" class=\"data row5 col8\" >0.0320</td>\n            </tr>\n            <tr>\n                        <th id=\"T_43727_level0_row6\" class=\"row_heading level0 row6\" >dt</th>\n                        <td id=\"T_43727_row6_col0\" class=\"data row6 col0\" >Decision Tree Classifier</td>\n                        <td id=\"T_43727_row6_col1\" class=\"data row6 col1\" >0.5995</td>\n                        <td id=\"T_43727_row6_col2\" class=\"data row6 col2\" >0.7688</td>\n                        <td id=\"T_43727_row6_col3\" class=\"data row6 col3\" >0.5986</td>\n                        <td id=\"T_43727_row6_col4\" class=\"data row6 col4\" >0.6022</td>\n                        <td id=\"T_43727_row6_col5\" class=\"data row6 col5\" >0.5998</td>\n                        <td id=\"T_43727_row6_col6\" class=\"data row6 col6\" >0.5327</td>\n                        <td id=\"T_43727_row6_col7\" class=\"data row6 col7\" >0.5331</td>\n                        <td id=\"T_43727_row6_col8\" class=\"data row6 col8\" >0.0930</td>\n            </tr>\n            <tr>\n                        <th id=\"T_43727_level0_row7\" class=\"row_heading level0 row7\" >nb</th>\n                        <td id=\"T_43727_row7_col0\" class=\"data row7 col0\" >Naive Bayes</td>\n                        <td id=\"T_43727_row7_col1\" class=\"data row7 col1\" >0.4131</td>\n                        <td id=\"T_43727_row7_col2\" class=\"data row7 col2\" >0.7694</td>\n                        <td id=\"T_43727_row7_col3\" class=\"data row7 col3\" >0.4104</td>\n                        <td id=\"T_43727_row7_col4\" class=\"data row7 col4\" >0.4317</td>\n                        <td id=\"T_43727_row7_col5\" class=\"data row7 col5\" >0.3847</td>\n                        <td id=\"T_43727_row7_col6\" class=\"data row7 col6\" >0.3145</td>\n                        <td id=\"T_43727_row7_col7\" class=\"data row7 col7\" >0.3273</td>\n                        <td id=\"T_43727_row7_col8\" class=\"data row7 col8\" >0.0330</td>\n            </tr>\n            <tr>\n                        <th id=\"T_43727_level0_row8\" class=\"row_heading level0 row8\" >ada</th>\n                        <td id=\"T_43727_row8_col0\" class=\"data row8 col0\" >Ada Boost Classifier</td>\n                        <td id=\"T_43727_row8_col1\" class=\"data row8 col1\" >0.3241</td>\n                        <td id=\"T_43727_row8_col2\" class=\"data row8 col2\" >0.6579</td>\n                        <td id=\"T_43727_row8_col3\" class=\"data row8 col3\" >0.3215</td>\n                        <td id=\"T_43727_row8_col4\" class=\"data row8 col4\" >0.3333</td>\n                        <td id=\"T_43727_row8_col5\" class=\"data row8 col5\" >0.2395</td>\n                        <td id=\"T_43727_row8_col6\" class=\"data row8 col6\" >0.2106</td>\n                        <td id=\"T_43727_row8_col7\" class=\"data row8 col7\" >0.3100</td>\n                        <td id=\"T_43727_row8_col8\" class=\"data row8 col8\" >0.5150</td>\n            </tr>\n            <tr>\n                        <th id=\"T_43727_level0_row9\" class=\"row_heading level0 row9\" >knn</th>\n                        <td id=\"T_43727_row9_col0\" class=\"data row9 col0\" >K Neighbors Classifier</td>\n                        <td id=\"T_43727_row9_col1\" class=\"data row9 col1\" >0.3044</td>\n                        <td id=\"T_43727_row9_col2\" class=\"data row9 col2\" >0.6610</td>\n                        <td id=\"T_43727_row9_col3\" class=\"data row9 col3\" >0.3034</td>\n                        <td id=\"T_43727_row9_col4\" class=\"data row9 col4\" >0.3104</td>\n                        <td id=\"T_43727_row9_col5\" class=\"data row9 col5\" >0.3037</td>\n                        <td id=\"T_43727_row9_col6\" class=\"data row9 col6\" >0.1885</td>\n                        <td id=\"T_43727_row9_col7\" class=\"data row9 col7\" >0.1896</td>\n                        <td id=\"T_43727_row9_col8\" class=\"data row9 col8\" >0.1640</td>\n            </tr>\n            <tr>\n                        <th id=\"T_43727_level0_row10\" class=\"row_heading level0 row10\" >lr</th>\n                        <td id=\"T_43727_row10_col0\" class=\"data row10 col0\" >Logistic Regression</td>\n                        <td id=\"T_43727_row10_col1\" class=\"data row10 col1\" >0.2734</td>\n                        <td id=\"T_43727_row10_col2\" class=\"data row10 col2\" >0.6415</td>\n                        <td id=\"T_43727_row10_col3\" class=\"data row10 col3\" >0.2717</td>\n                        <td id=\"T_43727_row10_col4\" class=\"data row10 col4\" >0.2102</td>\n                        <td id=\"T_43727_row10_col5\" class=\"data row10 col5\" >0.2175</td>\n                        <td id=\"T_43727_row10_col6\" class=\"data row10 col6\" >0.1516</td>\n                        <td id=\"T_43727_row10_col7\" class=\"data row10 col7\" >0.1606</td>\n                        <td id=\"T_43727_row10_col8\" class=\"data row10 col8\" >0.8300</td>\n            </tr>\n            <tr>\n                        <th id=\"T_43727_level0_row11\" class=\"row_heading level0 row11\" >dummy</th>\n                        <td id=\"T_43727_row11_col0\" class=\"data row11 col0\" >Dummy Classifier</td>\n                        <td id=\"T_43727_row11_col1\" class=\"data row11 col1\" >0.1465</td>\n                        <td id=\"T_43727_row11_col2\" class=\"data row11 col2\" >0.5000</td>\n                        <td id=\"T_43727_row11_col3\" class=\"data row11 col3\" >0.1429</td>\n                        <td id=\"T_43727_row11_col4\" class=\"data row11 col4\" >0.0215</td>\n                        <td id=\"T_43727_row11_col5\" class=\"data row11 col5\" >0.0375</td>\n                        <td id=\"T_43727_row11_col6\" class=\"data row11 col6\" >0.0000</td>\n                        <td id=\"T_43727_row11_col7\" class=\"data row11 col7\" >0.0000</td>\n                        <td id=\"T_43727_row11_col8\" class=\"data row11 col8\" >0.0210</td>\n            </tr>\n            <tr>\n                        <th id=\"T_43727_level0_row12\" class=\"row_heading level0 row12\" >qda</th>\n                        <td id=\"T_43727_row12_col0\" class=\"data row12 col0\" >Quadratic Discriminant Analysis</td>\n                        <td id=\"T_43727_row12_col1\" class=\"data row12 col1\" >0.1437</td>\n                        <td id=\"T_43727_row12_col2\" class=\"data row12 col2\" >0.0000</td>\n                        <td id=\"T_43727_row12_col3\" class=\"data row12 col3\" >0.1429</td>\n                        <td id=\"T_43727_row12_col4\" class=\"data row12 col4\" >0.0206</td>\n                        <td id=\"T_43727_row12_col5\" class=\"data row12 col5\" >0.0361</td>\n                        <td id=\"T_43727_row12_col6\" class=\"data row12 col6\" >0.0000</td>\n                        <td id=\"T_43727_row12_col7\" class=\"data row12 col7\" >0.0000</td>\n                        <td id=\"T_43727_row12_col8\" class=\"data row12 col8\" >0.0290</td>\n            </tr>\n            <tr>\n                        <th id=\"T_43727_level0_row13\" class=\"row_heading level0 row13\" >svm</th>\n                        <td id=\"T_43727_row13_col0\" class=\"data row13 col0\" >SVM - Linear Kernel</td>\n                        <td id=\"T_43727_row13_col1\" class=\"data row13 col1\" >0.1423</td>\n                        <td id=\"T_43727_row13_col2\" class=\"data row13 col2\" >0.0000</td>\n                        <td id=\"T_43727_row13_col3\" class=\"data row13 col3\" >0.1429</td>\n                        <td id=\"T_43727_row13_col4\" class=\"data row13 col4\" >0.0203</td>\n                        <td id=\"T_43727_row13_col5\" class=\"data row13 col5\" >0.0355</td>\n                        <td id=\"T_43727_row13_col6\" class=\"data row13 col6\" >0.0000</td>\n                        <td id=\"T_43727_row13_col7\" class=\"data row13 col7\" >0.0000</td>\n                        <td id=\"T_43727_row13_col8\" class=\"data row13 col8\" >0.3890</td>\n            </tr>\n    </tbody></table>"
     },
     "metadata": {},
     "output_type": "display_data"
    }
   ]
  },
  {
   "cell_type": "code",
   "metadata": {
    "cell_id": "d320597661b04c45a083379664b40632",
    "tags": [],
    "deepnote_to_be_reexecuted": false,
    "source_hash": "333097c2",
    "execution_start": 1653063796564,
    "execution_millis": 16816,
    "deepnote_cell_type": "code",
    "deepnote_cell_height": 506,
    "deepnote_output_heights": [
     409,
     112
    ]
   },
   "source": "lgbm = create_model('lightgbm')",
   "execution_count": null,
   "outputs": [
    {
     "data": {
      "text/plain": "<pandas.io.formats.style.Styler at 0x7f4f37a0d890>",
      "text/html": "<style  type=\"text/css\" >\n#T_06fe6_row10_col0,#T_06fe6_row10_col1,#T_06fe6_row10_col2,#T_06fe6_row10_col3,#T_06fe6_row10_col4,#T_06fe6_row10_col5,#T_06fe6_row10_col6{\n            background:  yellow;\n        }</style><table id=\"T_06fe6_\" ><thead>    <tr>        <th class=\"blank level0\" ></th>        <th class=\"col_heading level0 col0\" >Accuracy</th>        <th class=\"col_heading level0 col1\" >AUC</th>        <th class=\"col_heading level0 col2\" >Recall</th>        <th class=\"col_heading level0 col3\" >Prec.</th>        <th class=\"col_heading level0 col4\" >F1</th>        <th class=\"col_heading level0 col5\" >Kappa</th>        <th class=\"col_heading level0 col6\" >MCC</th>    </tr>    <tr>        <th class=\"index_name level0\" >Fold</th>        <th class=\"blank\" ></th>        <th class=\"blank\" ></th>        <th class=\"blank\" ></th>        <th class=\"blank\" ></th>        <th class=\"blank\" ></th>        <th class=\"blank\" ></th>        <th class=\"blank\" ></th>    </tr></thead><tbody>\n                <tr>\n                        <th id=\"T_06fe6_level0_row0\" class=\"row_heading level0 row0\" >0</th>\n                        <td id=\"T_06fe6_row0_col0\" class=\"data row0 col0\" >0.6781</td>\n                        <td id=\"T_06fe6_row0_col1\" class=\"data row0 col1\" >0.9260</td>\n                        <td id=\"T_06fe6_row0_col2\" class=\"data row0 col2\" >0.6775</td>\n                        <td id=\"T_06fe6_row0_col3\" class=\"data row0 col3\" >0.6833</td>\n                        <td id=\"T_06fe6_row0_col4\" class=\"data row0 col4\" >0.6780</td>\n                        <td id=\"T_06fe6_row0_col5\" class=\"data row0 col5\" >0.6244</td>\n                        <td id=\"T_06fe6_row0_col6\" class=\"data row0 col6\" >0.6253</td>\n            </tr>\n            <tr>\n                        <th id=\"T_06fe6_level0_row1\" class=\"row_heading level0 row1\" >1</th>\n                        <td id=\"T_06fe6_row1_col0\" class=\"data row1 col0\" >0.7308</td>\n                        <td id=\"T_06fe6_row1_col1\" class=\"data row1 col1\" >0.9471</td>\n                        <td id=\"T_06fe6_row1_col2\" class=\"data row1 col2\" >0.7308</td>\n                        <td id=\"T_06fe6_row1_col3\" class=\"data row1 col3\" >0.7395</td>\n                        <td id=\"T_06fe6_row1_col4\" class=\"data row1 col4\" >0.7339</td>\n                        <td id=\"T_06fe6_row1_col5\" class=\"data row1 col5\" >0.6859</td>\n                        <td id=\"T_06fe6_row1_col6\" class=\"data row1 col6\" >0.6863</td>\n            </tr>\n            <tr>\n                        <th id=\"T_06fe6_level0_row2\" class=\"row_heading level0 row2\" >2</th>\n                        <td id=\"T_06fe6_row2_col0\" class=\"data row2 col0\" >0.7571</td>\n                        <td id=\"T_06fe6_row2_col1\" class=\"data row2 col1\" >0.9507</td>\n                        <td id=\"T_06fe6_row2_col2\" class=\"data row2 col2\" >0.7558</td>\n                        <td id=\"T_06fe6_row2_col3\" class=\"data row2 col3\" >0.7582</td>\n                        <td id=\"T_06fe6_row2_col4\" class=\"data row2 col4\" >0.7572</td>\n                        <td id=\"T_06fe6_row2_col5\" class=\"data row2 col5\" >0.7166</td>\n                        <td id=\"T_06fe6_row2_col6\" class=\"data row2 col6\" >0.7168</td>\n            </tr>\n            <tr>\n                        <th id=\"T_06fe6_level0_row3\" class=\"row_heading level0 row3\" >3</th>\n                        <td id=\"T_06fe6_row3_col0\" class=\"data row3 col0\" >0.6923</td>\n                        <td id=\"T_06fe6_row3_col1\" class=\"data row3 col1\" >0.9317</td>\n                        <td id=\"T_06fe6_row3_col2\" class=\"data row3 col2\" >0.6917</td>\n                        <td id=\"T_06fe6_row3_col3\" class=\"data row3 col3\" >0.6912</td>\n                        <td id=\"T_06fe6_row3_col4\" class=\"data row3 col4\" >0.6908</td>\n                        <td id=\"T_06fe6_row3_col5\" class=\"data row3 col5\" >0.6410</td>\n                        <td id=\"T_06fe6_row3_col6\" class=\"data row3 col6\" >0.6413</td>\n            </tr>\n            <tr>\n                        <th id=\"T_06fe6_level0_row4\" class=\"row_heading level0 row4\" >4</th>\n                        <td id=\"T_06fe6_row4_col0\" class=\"data row4 col0\" >0.7404</td>\n                        <td id=\"T_06fe6_row4_col1\" class=\"data row4 col1\" >0.9479</td>\n                        <td id=\"T_06fe6_row4_col2\" class=\"data row4 col2\" >0.7396</td>\n                        <td id=\"T_06fe6_row4_col3\" class=\"data row4 col3\" >0.7431</td>\n                        <td id=\"T_06fe6_row4_col4\" class=\"data row4 col4\" >0.7412</td>\n                        <td id=\"T_06fe6_row4_col5\" class=\"data row4 col5\" >0.6971</td>\n                        <td id=\"T_06fe6_row4_col6\" class=\"data row4 col6\" >0.6973</td>\n            </tr>\n            <tr>\n                        <th id=\"T_06fe6_level0_row5\" class=\"row_heading level0 row5\" >5</th>\n                        <td id=\"T_06fe6_row5_col0\" class=\"data row5 col0\" >0.7566</td>\n                        <td id=\"T_06fe6_row5_col1\" class=\"data row5 col1\" >0.9491</td>\n                        <td id=\"T_06fe6_row5_col2\" class=\"data row5 col2\" >0.7552</td>\n                        <td id=\"T_06fe6_row5_col3\" class=\"data row5 col3\" >0.7537</td>\n                        <td id=\"T_06fe6_row5_col4\" class=\"data row5 col4\" >0.7532</td>\n                        <td id=\"T_06fe6_row5_col5\" class=\"data row5 col5\" >0.7160</td>\n                        <td id=\"T_06fe6_row5_col6\" class=\"data row5 col6\" >0.7167</td>\n            </tr>\n            <tr>\n                        <th id=\"T_06fe6_level0_row6\" class=\"row_heading level0 row6\" >6</th>\n                        <td id=\"T_06fe6_row6_col0\" class=\"data row6 col0\" >0.7282</td>\n                        <td id=\"T_06fe6_row6_col1\" class=\"data row6 col1\" >0.9338</td>\n                        <td id=\"T_06fe6_row6_col2\" class=\"data row6 col2\" >0.7264</td>\n                        <td id=\"T_06fe6_row6_col3\" class=\"data row6 col3\" >0.7261</td>\n                        <td id=\"T_06fe6_row6_col4\" class=\"data row6 col4\" >0.7253</td>\n                        <td id=\"T_06fe6_row6_col5\" class=\"data row6 col5\" >0.6828</td>\n                        <td id=\"T_06fe6_row6_col6\" class=\"data row6 col6\" >0.6835</td>\n            </tr>\n            <tr>\n                        <th id=\"T_06fe6_level0_row7\" class=\"row_heading level0 row7\" >7</th>\n                        <td id=\"T_06fe6_row7_col0\" class=\"data row7 col0\" >0.7444</td>\n                        <td id=\"T_06fe6_row7_col1\" class=\"data row7 col1\" >0.9482</td>\n                        <td id=\"T_06fe6_row7_col2\" class=\"data row7 col2\" >0.7440</td>\n                        <td id=\"T_06fe6_row7_col3\" class=\"data row7 col3\" >0.7504</td>\n                        <td id=\"T_06fe6_row7_col4\" class=\"data row7 col4\" >0.7460</td>\n                        <td id=\"T_06fe6_row7_col5\" class=\"data row7 col5\" >0.7019</td>\n                        <td id=\"T_06fe6_row7_col6\" class=\"data row7 col6\" >0.7024</td>\n            </tr>\n            <tr>\n                        <th id=\"T_06fe6_level0_row8\" class=\"row_heading level0 row8\" >8</th>\n                        <td id=\"T_06fe6_row8_col0\" class=\"data row8 col0\" >0.7018</td>\n                        <td id=\"T_06fe6_row8_col1\" class=\"data row8 col1\" >0.9342</td>\n                        <td id=\"T_06fe6_row8_col2\" class=\"data row8 col2\" >0.7014</td>\n                        <td id=\"T_06fe6_row8_col3\" class=\"data row8 col3\" >0.6987</td>\n                        <td id=\"T_06fe6_row8_col4\" class=\"data row8 col4\" >0.6993</td>\n                        <td id=\"T_06fe6_row8_col5\" class=\"data row8 col5\" >0.6521</td>\n                        <td id=\"T_06fe6_row8_col6\" class=\"data row8 col6\" >0.6524</td>\n            </tr>\n            <tr>\n                        <th id=\"T_06fe6_level0_row9\" class=\"row_heading level0 row9\" >9</th>\n                        <td id=\"T_06fe6_row9_col0\" class=\"data row9 col0\" >0.7282</td>\n                        <td id=\"T_06fe6_row9_col1\" class=\"data row9 col1\" >0.9439</td>\n                        <td id=\"T_06fe6_row9_col2\" class=\"data row9 col2\" >0.7280</td>\n                        <td id=\"T_06fe6_row9_col3\" class=\"data row9 col3\" >0.7253</td>\n                        <td id=\"T_06fe6_row9_col4\" class=\"data row9 col4\" >0.7255</td>\n                        <td id=\"T_06fe6_row9_col5\" class=\"data row9 col5\" >0.6829</td>\n                        <td id=\"T_06fe6_row9_col6\" class=\"data row9 col6\" >0.6833</td>\n            </tr>\n            <tr>\n                        <th id=\"T_06fe6_level0_row10\" class=\"row_heading level0 row10\" >Mean</th>\n                        <td id=\"T_06fe6_row10_col0\" class=\"data row10 col0\" >0.7258</td>\n                        <td id=\"T_06fe6_row10_col1\" class=\"data row10 col1\" >0.9413</td>\n                        <td id=\"T_06fe6_row10_col2\" class=\"data row10 col2\" >0.7250</td>\n                        <td id=\"T_06fe6_row10_col3\" class=\"data row10 col3\" >0.7269</td>\n                        <td id=\"T_06fe6_row10_col4\" class=\"data row10 col4\" >0.7250</td>\n                        <td id=\"T_06fe6_row10_col5\" class=\"data row10 col5\" >0.6801</td>\n                        <td id=\"T_06fe6_row10_col6\" class=\"data row10 col6\" >0.6805</td>\n            </tr>\n            <tr>\n                        <th id=\"T_06fe6_level0_row11\" class=\"row_heading level0 row11\" >Std</th>\n                        <td id=\"T_06fe6_row11_col0\" class=\"data row11 col0\" >0.0255</td>\n                        <td id=\"T_06fe6_row11_col1\" class=\"data row11 col1\" >0.0085</td>\n                        <td id=\"T_06fe6_row11_col2\" class=\"data row11 col2\" >0.0253</td>\n                        <td id=\"T_06fe6_row11_col3\" class=\"data row11 col3\" >0.0258</td>\n                        <td id=\"T_06fe6_row11_col4\" class=\"data row11 col4\" >0.0258</td>\n                        <td id=\"T_06fe6_row11_col5\" class=\"data row11 col5\" >0.0297</td>\n                        <td id=\"T_06fe6_row11_col6\" class=\"data row11 col6\" >0.0297</td>\n            </tr>\n    </tbody></table>"
     },
     "metadata": {},
     "output_type": "display_data"
    }
   ]
  },
  {
   "cell_type": "code",
   "metadata": {
    "cell_id": "1bf4a9e2a41445e3b980d293e52113de",
    "tags": [],
    "deepnote_to_be_reexecuted": false,
    "source_hash": "5bce84a",
    "execution_start": 1653064386762,
    "execution_millis": 201674,
    "deepnote_cell_type": "code",
    "deepnote_cell_height": 730.875,
    "deepnote_output_heights": [
     409,
     193.875,
     32
    ]
   },
   "source": "tune_model(lgbm, search_library = 'optuna')",
   "execution_count": null,
   "outputs": [
    {
     "data": {
      "text/plain": "<pandas.io.formats.style.Styler at 0x7f4f39ef2410>",
      "text/html": "<style  type=\"text/css\" >\n#T_bb6a8_row10_col0,#T_bb6a8_row10_col1,#T_bb6a8_row10_col2,#T_bb6a8_row10_col3,#T_bb6a8_row10_col4,#T_bb6a8_row10_col5,#T_bb6a8_row10_col6{\n            background:  yellow;\n        }</style><table id=\"T_bb6a8_\" ><thead>    <tr>        <th class=\"blank level0\" ></th>        <th class=\"col_heading level0 col0\" >Accuracy</th>        <th class=\"col_heading level0 col1\" >AUC</th>        <th class=\"col_heading level0 col2\" >Recall</th>        <th class=\"col_heading level0 col3\" >Prec.</th>        <th class=\"col_heading level0 col4\" >F1</th>        <th class=\"col_heading level0 col5\" >Kappa</th>        <th class=\"col_heading level0 col6\" >MCC</th>    </tr>    <tr>        <th class=\"index_name level0\" >Fold</th>        <th class=\"blank\" ></th>        <th class=\"blank\" ></th>        <th class=\"blank\" ></th>        <th class=\"blank\" ></th>        <th class=\"blank\" ></th>        <th class=\"blank\" ></th>        <th class=\"blank\" ></th>    </tr></thead><tbody>\n                <tr>\n                        <th id=\"T_bb6a8_level0_row0\" class=\"row_heading level0 row0\" >0</th>\n                        <td id=\"T_bb6a8_row0_col0\" class=\"data row0 col0\" >0.6802</td>\n                        <td id=\"T_bb6a8_row0_col1\" class=\"data row0 col1\" >0.9271</td>\n                        <td id=\"T_bb6a8_row0_col2\" class=\"data row0 col2\" >0.6799</td>\n                        <td id=\"T_bb6a8_row0_col3\" class=\"data row0 col3\" >0.6751</td>\n                        <td id=\"T_bb6a8_row0_col4\" class=\"data row0 col4\" >0.6757</td>\n                        <td id=\"T_bb6a8_row0_col5\" class=\"data row0 col5\" >0.6268</td>\n                        <td id=\"T_bb6a8_row0_col6\" class=\"data row0 col6\" >0.6275</td>\n            </tr>\n            <tr>\n                        <th id=\"T_bb6a8_level0_row1\" class=\"row_heading level0 row1\" >1</th>\n                        <td id=\"T_bb6a8_row1_col0\" class=\"data row1 col0\" >0.7328</td>\n                        <td id=\"T_bb6a8_row1_col1\" class=\"data row1 col1\" >0.9427</td>\n                        <td id=\"T_bb6a8_row1_col2\" class=\"data row1 col2\" >0.7326</td>\n                        <td id=\"T_bb6a8_row1_col3\" class=\"data row1 col3\" >0.7390</td>\n                        <td id=\"T_bb6a8_row1_col4\" class=\"data row1 col4\" >0.7337</td>\n                        <td id=\"T_bb6a8_row1_col5\" class=\"data row1 col5\" >0.6882</td>\n                        <td id=\"T_bb6a8_row1_col6\" class=\"data row1 col6\" >0.6889</td>\n            </tr>\n            <tr>\n                        <th id=\"T_bb6a8_level0_row2\" class=\"row_heading level0 row2\" >2</th>\n                        <td id=\"T_bb6a8_row2_col0\" class=\"data row2 col0\" >0.7510</td>\n                        <td id=\"T_bb6a8_row2_col1\" class=\"data row2 col1\" >0.9474</td>\n                        <td id=\"T_bb6a8_row2_col2\" class=\"data row2 col2\" >0.7498</td>\n                        <td id=\"T_bb6a8_row2_col3\" class=\"data row2 col3\" >0.7488</td>\n                        <td id=\"T_bb6a8_row2_col4\" class=\"data row2 col4\" >0.7493</td>\n                        <td id=\"T_bb6a8_row2_col5\" class=\"data row2 col5\" >0.7095</td>\n                        <td id=\"T_bb6a8_row2_col6\" class=\"data row2 col6\" >0.7097</td>\n            </tr>\n            <tr>\n                        <th id=\"T_bb6a8_level0_row3\" class=\"row_heading level0 row3\" >3</th>\n                        <td id=\"T_bb6a8_row3_col0\" class=\"data row3 col0\" >0.6943</td>\n                        <td id=\"T_bb6a8_row3_col1\" class=\"data row3 col1\" >0.9296</td>\n                        <td id=\"T_bb6a8_row3_col2\" class=\"data row3 col2\" >0.6936</td>\n                        <td id=\"T_bb6a8_row3_col3\" class=\"data row3 col3\" >0.6928</td>\n                        <td id=\"T_bb6a8_row3_col4\" class=\"data row3 col4\" >0.6924</td>\n                        <td id=\"T_bb6a8_row3_col5\" class=\"data row3 col5\" >0.6434</td>\n                        <td id=\"T_bb6a8_row3_col6\" class=\"data row3 col6\" >0.6438</td>\n            </tr>\n            <tr>\n                        <th id=\"T_bb6a8_level0_row4\" class=\"row_heading level0 row4\" >4</th>\n                        <td id=\"T_bb6a8_row4_col0\" class=\"data row4 col0\" >0.7404</td>\n                        <td id=\"T_bb6a8_row4_col1\" class=\"data row4 col1\" >0.9440</td>\n                        <td id=\"T_bb6a8_row4_col2\" class=\"data row4 col2\" >0.7394</td>\n                        <td id=\"T_bb6a8_row4_col3\" class=\"data row4 col3\" >0.7378</td>\n                        <td id=\"T_bb6a8_row4_col4\" class=\"data row4 col4\" >0.7384</td>\n                        <td id=\"T_bb6a8_row4_col5\" class=\"data row4 col5\" >0.6971</td>\n                        <td id=\"T_bb6a8_row4_col6\" class=\"data row4 col6\" >0.6973</td>\n            </tr>\n            <tr>\n                        <th id=\"T_bb6a8_level0_row5\" class=\"row_heading level0 row5\" >5</th>\n                        <td id=\"T_bb6a8_row5_col0\" class=\"data row5 col0\" >0.7505</td>\n                        <td id=\"T_bb6a8_row5_col1\" class=\"data row5 col1\" >0.9452</td>\n                        <td id=\"T_bb6a8_row5_col2\" class=\"data row5 col2\" >0.7492</td>\n                        <td id=\"T_bb6a8_row5_col3\" class=\"data row5 col3\" >0.7495</td>\n                        <td id=\"T_bb6a8_row5_col4\" class=\"data row5 col4\" >0.7465</td>\n                        <td id=\"T_bb6a8_row5_col5\" class=\"data row5 col5\" >0.7089</td>\n                        <td id=\"T_bb6a8_row5_col6\" class=\"data row5 col6\" >0.7100</td>\n            </tr>\n            <tr>\n                        <th id=\"T_bb6a8_level0_row6\" class=\"row_heading level0 row6\" >6</th>\n                        <td id=\"T_bb6a8_row6_col0\" class=\"data row6 col0\" >0.7262</td>\n                        <td id=\"T_bb6a8_row6_col1\" class=\"data row6 col1\" >0.9361</td>\n                        <td id=\"T_bb6a8_row6_col2\" class=\"data row6 col2\" >0.7247</td>\n                        <td id=\"T_bb6a8_row6_col3\" class=\"data row6 col3\" >0.7274</td>\n                        <td id=\"T_bb6a8_row6_col4\" class=\"data row6 col4\" >0.7237</td>\n                        <td id=\"T_bb6a8_row6_col5\" class=\"data row6 col5\" >0.6805</td>\n                        <td id=\"T_bb6a8_row6_col6\" class=\"data row6 col6\" >0.6815</td>\n            </tr>\n            <tr>\n                        <th id=\"T_bb6a8_level0_row7\" class=\"row_heading level0 row7\" >7</th>\n                        <td id=\"T_bb6a8_row7_col0\" class=\"data row7 col0\" >0.7404</td>\n                        <td id=\"T_bb6a8_row7_col1\" class=\"data row7 col1\" >0.9500</td>\n                        <td id=\"T_bb6a8_row7_col2\" class=\"data row7 col2\" >0.7396</td>\n                        <td id=\"T_bb6a8_row7_col3\" class=\"data row7 col3\" >0.7461</td>\n                        <td id=\"T_bb6a8_row7_col4\" class=\"data row7 col4\" >0.7423</td>\n                        <td id=\"T_bb6a8_row7_col5\" class=\"data row7 col5\" >0.6971</td>\n                        <td id=\"T_bb6a8_row7_col6\" class=\"data row7 col6\" >0.6975</td>\n            </tr>\n            <tr>\n                        <th id=\"T_bb6a8_level0_row8\" class=\"row_heading level0 row8\" >8</th>\n                        <td id=\"T_bb6a8_row8_col0\" class=\"data row8 col0\" >0.7099</td>\n                        <td id=\"T_bb6a8_row8_col1\" class=\"data row8 col1\" >0.9310</td>\n                        <td id=\"T_bb6a8_row8_col2\" class=\"data row8 col2\" >0.7092</td>\n                        <td id=\"T_bb6a8_row8_col3\" class=\"data row8 col3\" >0.7072</td>\n                        <td id=\"T_bb6a8_row8_col4\" class=\"data row8 col4\" >0.7078</td>\n                        <td id=\"T_bb6a8_row8_col5\" class=\"data row8 col5\" >0.6615</td>\n                        <td id=\"T_bb6a8_row8_col6\" class=\"data row8 col6\" >0.6618</td>\n            </tr>\n            <tr>\n                        <th id=\"T_bb6a8_level0_row9\" class=\"row_heading level0 row9\" >9</th>\n                        <td id=\"T_bb6a8_row9_col0\" class=\"data row9 col0\" >0.7282</td>\n                        <td id=\"T_bb6a8_row9_col1\" class=\"data row9 col1\" >0.9446</td>\n                        <td id=\"T_bb6a8_row9_col2\" class=\"data row9 col2\" >0.7285</td>\n                        <td id=\"T_bb6a8_row9_col3\" class=\"data row9 col3\" >0.7263</td>\n                        <td id=\"T_bb6a8_row9_col4\" class=\"data row9 col4\" >0.7266</td>\n                        <td id=\"T_bb6a8_row9_col5\" class=\"data row9 col5\" >0.6829</td>\n                        <td id=\"T_bb6a8_row9_col6\" class=\"data row9 col6\" >0.6831</td>\n            </tr>\n            <tr>\n                        <th id=\"T_bb6a8_level0_row10\" class=\"row_heading level0 row10\" >Mean</th>\n                        <td id=\"T_bb6a8_row10_col0\" class=\"data row10 col0\" >0.7254</td>\n                        <td id=\"T_bb6a8_row10_col1\" class=\"data row10 col1\" >0.9398</td>\n                        <td id=\"T_bb6a8_row10_col2\" class=\"data row10 col2\" >0.7247</td>\n                        <td id=\"T_bb6a8_row10_col3\" class=\"data row10 col3\" >0.7250</td>\n                        <td id=\"T_bb6a8_row10_col4\" class=\"data row10 col4\" >0.7236</td>\n                        <td id=\"T_bb6a8_row10_col5\" class=\"data row10 col5\" >0.6796</td>\n                        <td id=\"T_bb6a8_row10_col6\" class=\"data row10 col6\" >0.6801</td>\n            </tr>\n            <tr>\n                        <th id=\"T_bb6a8_level0_row11\" class=\"row_heading level0 row11\" >Std</th>\n                        <td id=\"T_bb6a8_row11_col0\" class=\"data row11 col0\" >0.0225</td>\n                        <td id=\"T_bb6a8_row11_col1\" class=\"data row11 col1\" >0.0077</td>\n                        <td id=\"T_bb6a8_row11_col2\" class=\"data row11 col2\" >0.0223</td>\n                        <td id=\"T_bb6a8_row11_col3\" class=\"data row11 col3\" >0.0241</td>\n                        <td id=\"T_bb6a8_row11_col4\" class=\"data row11 col4\" >0.0232</td>\n                        <td id=\"T_bb6a8_row11_col5\" class=\"data row11 col5\" >0.0262</td>\n                        <td id=\"T_bb6a8_row11_col6\" class=\"data row11 col6\" >0.0262</td>\n            </tr>\n    </tbody></table>"
     },
     "metadata": {},
     "output_type": "display_data"
    },
    {
     "output_type": "execute_result",
     "execution_count": 17,
     "data": {
      "text/plain": "LGBMClassifier(bagging_fraction=0.5732423222926791, bagging_freq=1,\n               boosting_type='gbdt', class_weight=None, colsample_bytree=1.0,\n               feature_fraction=0.6651002592367573, importance_type='split',\n               learning_rate=0.09423251047626463, max_depth=-1,\n               min_child_samples=100, min_child_weight=0.001,\n               min_split_gain=0.7871763609869431, n_estimators=88, n_jobs=-1,\n               num_leaves=94, objective=None, random_state=6739,\n               reg_alpha=0.0008833277143893839, reg_lambda=0.6147879430089935,\n               silent='warn', subsample=1.0, subsample_for_bin=200000,\n               subsample_freq=0)"
     },
     "metadata": {}
    }
   ]
  },
  {
   "cell_type": "markdown",
   "source": "### Lyrics Supervised Classification Model",
   "metadata": {
    "cell_id": "499529de66564163a819e68a5491a0e5",
    "tags": [],
    "deepnote_cell_type": "markdown",
    "deepnote_cell_height": 62
   }
  },
  {
   "cell_type": "code",
   "metadata": {
    "cell_id": "25aea00af9df4750b6641fd47367028a",
    "tags": [],
    "deepnote_to_be_reexecuted": false,
    "source_hash": "4edae7a2",
    "execution_start": 1653065575069,
    "execution_millis": 8,
    "deepnote_cell_type": "code",
    "deepnote_cell_height": 117
   },
   "source": "# Filter to just the columns we care about\nlyrics = lyrics_df.lyric_raw\ntarget = lyrics_df.genre.values",
   "execution_count": null,
   "outputs": []
  },
  {
   "cell_type": "code",
   "metadata": {
    "cell_id": "951835e7503f4121b6f13a711d4f1689",
    "tags": [],
    "deepnote_to_be_reexecuted": false,
    "source_hash": "9ff8297e",
    "execution_start": 1653065366890,
    "execution_millis": 3,
    "deepnote_cell_type": "code",
    "deepnote_cell_height": 81
   },
   "source": "from sklearn.feature_extraction.text import TfidfVectorizer",
   "execution_count": null,
   "outputs": []
  },
  {
   "cell_type": "code",
   "metadata": {
    "cell_id": "f4ce10bac22e414ab55b1d9c3ddd9f91",
    "tags": [],
    "deepnote_to_be_reexecuted": false,
    "source_hash": "257ec3bb",
    "execution_start": 1653065367630,
    "execution_millis": 5684,
    "deepnote_cell_type": "code",
    "deepnote_cell_height": 117
   },
   "source": "# Vectorize the lyrics data\nvectorizer = TfidfVectorizer(min_df = 100, stop_words='english')\nx = vectorizer.fit_transform(lyrics.fillna(value=' '))",
   "execution_count": null,
   "outputs": []
  },
  {
   "cell_type": "code",
   "metadata": {
    "cell_id": "b52c2afea156493ca398e0613916732d",
    "tags": [],
    "deepnote_to_be_reexecuted": false,
    "source_hash": "7b44a43e",
    "execution_start": 1653065483713,
    "execution_millis": 501,
    "deepnote_cell_type": "code",
    "deepnote_cell_height": 81
   },
   "source": "y = pd.DataFrame.sparse.from_spmatrix(x)",
   "execution_count": null,
   "outputs": []
  },
  {
   "cell_type": "code",
   "metadata": {
    "cell_id": "305c8aa416ac44a480d7d48c9ec65179",
    "tags": [],
    "deepnote_to_be_reexecuted": false,
    "source_hash": "50b86d85",
    "execution_start": 1653065627493,
    "execution_millis": 5,
    "deepnote_cell_type": "code",
    "deepnote_cell_height": 81
   },
   "source": "y['genre'] = target",
   "execution_count": null,
   "outputs": []
  },
  {
   "cell_type": "code",
   "metadata": {
    "cell_id": "7c97ea036b76440595952dd63cc778bf",
    "tags": [],
    "deepnote_to_be_reexecuted": false,
    "source_hash": "ce04b77e",
    "execution_start": 1653065631383,
    "execution_millis": 1078,
    "deepnote_cell_type": "code",
    "deepnote_cell_height": 617
   },
   "source": "y",
   "execution_count": null,
   "outputs": [
    {
     "output_type": "execute_result",
     "execution_count": 51,
     "data": {
      "application/vnd.deepnote.dataframe.v3+json": {
       "column_count": 1069,
       "row_count": 7050,
       "columns": [
        {
         "name": 0,
         "dtype": "Sparse[float64, 0]",
         "stats": {
          "unique_count": 176,
          "nan_count": 0,
          "categories": [
           {
            "name": "0.0",
            "count": 6798
           },
           {
            "name": "0.006887110900293506",
            "count": 9
           },
           {
            "name": "174 others",
            "count": 243
           }
          ]
         }
        },
        {
         "name": 1,
         "dtype": "Sparse[float64, 0]",
         "stats": {
          "unique_count": 142,
          "nan_count": 0,
          "categories": [
           {
            "name": "0.0",
            "count": 6847
           },
           {
            "name": "0.0072297042709189045",
            "count": 9
           },
           {
            "name": "140 others",
            "count": 194
           }
          ]
         }
        },
        {
         "name": 2,
         "dtype": "Sparse[float64, 0]",
         "stats": {
          "unique_count": 148,
          "nan_count": 0,
          "categories": [
           {
            "name": "0.0",
            "count": 6844
           },
           {
            "name": "0.007206470826238374",
            "count": 9
           },
           {
            "name": "146 others",
            "count": 197
           }
          ]
         }
        },
        {
         "name": 3,
         "dtype": "Sparse[float64, 0]",
         "stats": {
          "unique_count": 122,
          "nan_count": 0,
          "categories": [
           {
            "name": "0.0",
            "count": 6881
           },
           {
            "name": "0.020182906043825728",
            "count": 6
           },
           {
            "name": "120 others",
            "count": 163
           }
          ]
         }
        },
        {
         "name": 4,
         "dtype": "Sparse[float64, 0]",
         "stats": {
          "unique_count": 111,
          "nan_count": 0,
          "categories": [
           {
            "name": "0.0",
            "count": 6897
           },
           {
            "name": "0.010302558087653646",
            "count": 6
           },
           {
            "name": "109 others",
            "count": 147
           }
          ]
         }
        },
        {
         "name": 5,
         "dtype": "Sparse[float64, 0]",
         "stats": {
          "unique_count": 124,
          "nan_count": 0,
          "categories": [
           {
            "name": "0.0",
            "count": 6887
           },
           {
            "name": "0.008547472385383939",
            "count": 4
           },
           {
            "name": "122 others",
            "count": 159
           }
          ]
         }
        },
        {
         "name": 6,
         "dtype": "Sparse[float64, 0]",
         "stats": {
          "unique_count": 130,
          "nan_count": 0,
          "categories": [
           {
            "name": "0.0",
            "count": 6859
           },
           {
            "name": "0.0036630930474898385",
            "count": 9
           },
           {
            "name": "128 others",
            "count": 182
           }
          ]
         }
        },
        {
         "name": 7,
         "dtype": "Sparse[float64, 0]",
         "stats": {
          "unique_count": 131,
          "nan_count": 0,
          "categories": [
           {
            "name": "0.0",
            "count": 6876
           },
           {
            "name": "0.00843092308218916",
            "count": 4
           },
           {
            "name": "129 others",
            "count": 170
           }
          ]
         }
        },
        {
         "name": 8,
         "dtype": "Sparse[float64, 0]",
         "stats": {
          "unique_count": 135,
          "nan_count": 0,
          "categories": [
           {
            "name": "0.0",
            "count": 6851
           },
           {
            "name": "0.0036306097067686487",
            "count": 9
           },
           {
            "name": "133 others",
            "count": 190
           }
          ]
         }
        },
        {
         "name": 9,
         "dtype": "Sparse[float64, 0]",
         "stats": {
          "unique_count": 135,
          "nan_count": 0,
          "categories": [
           {
            "name": "0.0",
            "count": 6859
           },
           {
            "name": "0.00983154485731166",
            "count": 6
           },
           {
            "name": "133 others",
            "count": 185
           }
          ]
         }
        },
        {
         "name": 10,
         "dtype": "Sparse[float64, 0]",
         "stats": {
          "unique_count": 97,
          "nan_count": 0,
          "categories": [
           {
            "name": "0.0",
            "count": 6939
           },
           {
            "name": "0.04604045537066228",
            "count": 4
           },
           {
            "name": "95 others",
            "count": 107
           }
          ]
         }
        },
        {
         "name": 11,
         "dtype": "Sparse[float64, 0]",
         "stats": {
          "unique_count": 155,
          "nan_count": 0,
          "categories": [
           {
            "name": "0.0",
            "count": 6843
           },
           {
            "name": "0.014397602223311497",
            "count": 9
           },
           {
            "name": "153 others",
            "count": 198
           }
          ]
         }
        },
        {
         "name": 12,
         "dtype": "Sparse[float64, 0]",
         "stats": {
          "unique_count": 162,
          "nan_count": 0,
          "categories": [
           {
            "name": "0.0",
            "count": 6810
           },
           {
            "name": "0.02785777655696366",
            "count": 9
           },
           {
            "name": "160 others",
            "count": 231
           }
          ]
         }
        },
        {
         "name": 13,
         "dtype": "Sparse[float64, 0]",
         "stats": {
          "unique_count": 120,
          "nan_count": 0,
          "categories": [
           {
            "name": "0.0",
            "count": 6870
           },
           {
            "name": "0.00742007975340955",
            "count": 9
           },
           {
            "name": "118 others",
            "count": 171
           }
          ]
         }
        },
        {
         "name": 14,
         "dtype": "Sparse[float64, 0]"
        },
        {
         "name": 15,
         "dtype": "Sparse[float64, 0]"
        },
        {
         "name": 16,
         "dtype": "Sparse[float64, 0]"
        },
        {
         "name": 17,
         "dtype": "Sparse[float64, 0]"
        },
        {
         "name": 18,
         "dtype": "Sparse[float64, 0]"
        },
        {
         "name": 19,
         "dtype": "Sparse[float64, 0]"
        },
        {
         "name": 20,
         "dtype": "Sparse[float64, 0]"
        },
        {
         "name": 21,
         "dtype": "Sparse[float64, 0]"
        },
        {
         "name": 22,
         "dtype": "Sparse[float64, 0]"
        },
        {
         "name": 23,
         "dtype": "Sparse[float64, 0]"
        },
        {
         "name": 24,
         "dtype": "Sparse[float64, 0]"
        },
        {
         "name": 25,
         "dtype": "Sparse[float64, 0]"
        },
        {
         "name": 26,
         "dtype": "Sparse[float64, 0]"
        },
        {
         "name": 27,
         "dtype": "Sparse[float64, 0]"
        },
        {
         "name": 28,
         "dtype": "Sparse[float64, 0]"
        },
        {
         "name": 29,
         "dtype": "Sparse[float64, 0]"
        },
        {
         "name": 30,
         "dtype": "Sparse[float64, 0]"
        },
        {
         "name": 31,
         "dtype": "Sparse[float64, 0]"
        },
        {
         "name": 32,
         "dtype": "Sparse[float64, 0]"
        },
        {
         "name": 33,
         "dtype": "Sparse[float64, 0]"
        },
        {
         "name": 34,
         "dtype": "Sparse[float64, 0]"
        },
        {
         "name": 35,
         "dtype": "Sparse[float64, 0]"
        },
        {
         "name": 36,
         "dtype": "Sparse[float64, 0]"
        },
        {
         "name": 37,
         "dtype": "Sparse[float64, 0]"
        },
        {
         "name": 38,
         "dtype": "Sparse[float64, 0]"
        },
        {
         "name": 39,
         "dtype": "Sparse[float64, 0]"
        },
        {
         "name": 40,
         "dtype": "Sparse[float64, 0]"
        },
        {
         "name": 41,
         "dtype": "Sparse[float64, 0]"
        },
        {
         "name": 42,
         "dtype": "Sparse[float64, 0]"
        },
        {
         "name": 43,
         "dtype": "Sparse[float64, 0]"
        },
        {
         "name": 44,
         "dtype": "Sparse[float64, 0]"
        },
        {
         "name": 45,
         "dtype": "Sparse[float64, 0]"
        },
        {
         "name": 46,
         "dtype": "Sparse[float64, 0]"
        },
        {
         "name": 47,
         "dtype": "Sparse[float64, 0]"
        },
        {
         "name": 48,
         "dtype": "Sparse[float64, 0]"
        },
        {
         "name": 49,
         "dtype": "Sparse[float64, 0]"
        },
        {
         "name": 50,
         "dtype": "Sparse[float64, 0]"
        },
        {
         "name": 51,
         "dtype": "Sparse[float64, 0]"
        },
        {
         "name": 52,
         "dtype": "Sparse[float64, 0]"
        },
        {
         "name": 53,
         "dtype": "Sparse[float64, 0]"
        },
        {
         "name": 54,
         "dtype": "Sparse[float64, 0]"
        },
        {
         "name": 55,
         "dtype": "Sparse[float64, 0]"
        },
        {
         "name": 56,
         "dtype": "Sparse[float64, 0]"
        },
        {
         "name": 57,
         "dtype": "Sparse[float64, 0]"
        },
        {
         "name": 58,
         "dtype": "Sparse[float64, 0]"
        },
        {
         "name": 59,
         "dtype": "Sparse[float64, 0]"
        },
        {
         "name": 60,
         "dtype": "Sparse[float64, 0]"
        },
        {
         "name": 61,
         "dtype": "Sparse[float64, 0]"
        },
        {
         "name": 62,
         "dtype": "Sparse[float64, 0]"
        },
        {
         "name": 63,
         "dtype": "Sparse[float64, 0]"
        },
        {
         "name": 64,
         "dtype": "Sparse[float64, 0]"
        },
        {
         "name": 65,
         "dtype": "Sparse[float64, 0]"
        },
        {
         "name": 66,
         "dtype": "Sparse[float64, 0]"
        },
        {
         "name": 67,
         "dtype": "Sparse[float64, 0]"
        },
        {
         "name": 68,
         "dtype": "Sparse[float64, 0]"
        },
        {
         "name": 69,
         "dtype": "Sparse[float64, 0]"
        },
        {
         "name": 70,
         "dtype": "Sparse[float64, 0]"
        },
        {
         "name": 71,
         "dtype": "Sparse[float64, 0]"
        },
        {
         "name": 72,
         "dtype": "Sparse[float64, 0]"
        },
        {
         "name": 73,
         "dtype": "Sparse[float64, 0]"
        },
        {
         "name": 74,
         "dtype": "Sparse[float64, 0]"
        },
        {
         "name": 75,
         "dtype": "Sparse[float64, 0]"
        },
        {
         "name": 76,
         "dtype": "Sparse[float64, 0]"
        },
        {
         "name": 77,
         "dtype": "Sparse[float64, 0]"
        },
        {
         "name": 78,
         "dtype": "Sparse[float64, 0]"
        },
        {
         "name": 79,
         "dtype": "Sparse[float64, 0]"
        },
        {
         "name": 80,
         "dtype": "Sparse[float64, 0]"
        },
        {
         "name": 81,
         "dtype": "Sparse[float64, 0]"
        },
        {
         "name": 82,
         "dtype": "Sparse[float64, 0]"
        },
        {
         "name": 83,
         "dtype": "Sparse[float64, 0]"
        },
        {
         "name": 84,
         "dtype": "Sparse[float64, 0]"
        },
        {
         "name": 85,
         "dtype": "Sparse[float64, 0]"
        },
        {
         "name": 86,
         "dtype": "Sparse[float64, 0]"
        },
        {
         "name": 87,
         "dtype": "Sparse[float64, 0]"
        },
        {
         "name": 88,
         "dtype": "Sparse[float64, 0]"
        },
        {
         "name": 89,
         "dtype": "Sparse[float64, 0]"
        },
        {
         "name": 90,
         "dtype": "Sparse[float64, 0]"
        },
        {
         "name": 91,
         "dtype": "Sparse[float64, 0]"
        },
        {
         "name": 92,
         "dtype": "Sparse[float64, 0]"
        },
        {
         "name": 93,
         "dtype": "Sparse[float64, 0]"
        },
        {
         "name": 94,
         "dtype": "Sparse[float64, 0]"
        },
        {
         "name": 95,
         "dtype": "Sparse[float64, 0]"
        },
        {
         "name": 96,
         "dtype": "Sparse[float64, 0]"
        },
        {
         "name": 97,
         "dtype": "Sparse[float64, 0]"
        },
        {
         "name": 98,
         "dtype": "Sparse[float64, 0]"
        },
        {
         "name": 99,
         "dtype": "Sparse[float64, 0]"
        },
        {
         "name": 100,
         "dtype": "Sparse[float64, 0]"
        },
        {
         "name": 101,
         "dtype": "Sparse[float64, 0]"
        },
        {
         "name": 102,
         "dtype": "Sparse[float64, 0]"
        },
        {
         "name": 103,
         "dtype": "Sparse[float64, 0]"
        },
        {
         "name": 104,
         "dtype": "Sparse[float64, 0]"
        },
        {
         "name": 105,
         "dtype": "Sparse[float64, 0]"
        },
        {
         "name": 106,
         "dtype": "Sparse[float64, 0]"
        },
        {
         "name": 107,
         "dtype": "Sparse[float64, 0]"
        },
        {
         "name": 108,
         "dtype": "Sparse[float64, 0]"
        },
        {
         "name": 109,
         "dtype": "Sparse[float64, 0]"
        },
        {
         "name": 110,
         "dtype": "Sparse[float64, 0]"
        },
        {
         "name": 111,
         "dtype": "Sparse[float64, 0]"
        },
        {
         "name": 112,
         "dtype": "Sparse[float64, 0]"
        },
        {
         "name": 113,
         "dtype": "Sparse[float64, 0]"
        },
        {
         "name": 114,
         "dtype": "Sparse[float64, 0]"
        },
        {
         "name": 115,
         "dtype": "Sparse[float64, 0]"
        },
        {
         "name": 116,
         "dtype": "Sparse[float64, 0]"
        },
        {
         "name": 117,
         "dtype": "Sparse[float64, 0]"
        },
        {
         "name": 118,
         "dtype": "Sparse[float64, 0]"
        },
        {
         "name": 119,
         "dtype": "Sparse[float64, 0]"
        },
        {
         "name": 120,
         "dtype": "Sparse[float64, 0]"
        },
        {
         "name": 121,
         "dtype": "Sparse[float64, 0]"
        },
        {
         "name": 122,
         "dtype": "Sparse[float64, 0]"
        },
        {
         "name": 123,
         "dtype": "Sparse[float64, 0]"
        },
        {
         "name": 124,
         "dtype": "Sparse[float64, 0]"
        },
        {
         "name": 125,
         "dtype": "Sparse[float64, 0]"
        },
        {
         "name": 126,
         "dtype": "Sparse[float64, 0]"
        },
        {
         "name": 127,
         "dtype": "Sparse[float64, 0]"
        },
        {
         "name": 128,
         "dtype": "Sparse[float64, 0]"
        },
        {
         "name": 129,
         "dtype": "Sparse[float64, 0]"
        },
        {
         "name": 130,
         "dtype": "Sparse[float64, 0]"
        },
        {
         "name": 131,
         "dtype": "Sparse[float64, 0]"
        },
        {
         "name": 132,
         "dtype": "Sparse[float64, 0]"
        },
        {
         "name": 133,
         "dtype": "Sparse[float64, 0]"
        },
        {
         "name": 134,
         "dtype": "Sparse[float64, 0]"
        },
        {
         "name": 135,
         "dtype": "Sparse[float64, 0]"
        },
        {
         "name": 136,
         "dtype": "Sparse[float64, 0]"
        },
        {
         "name": 137,
         "dtype": "Sparse[float64, 0]"
        },
        {
         "name": 138,
         "dtype": "Sparse[float64, 0]"
        },
        {
         "name": 139,
         "dtype": "Sparse[float64, 0]"
        },
        {
         "name": 140,
         "dtype": "Sparse[float64, 0]"
        },
        {
         "name": 141,
         "dtype": "Sparse[float64, 0]"
        },
        {
         "name": 142,
         "dtype": "Sparse[float64, 0]"
        },
        {
         "name": 143,
         "dtype": "Sparse[float64, 0]"
        },
        {
         "name": 144,
         "dtype": "Sparse[float64, 0]"
        },
        {
         "name": 145,
         "dtype": "Sparse[float64, 0]"
        },
        {
         "name": 146,
         "dtype": "Sparse[float64, 0]"
        },
        {
         "name": 147,
         "dtype": "Sparse[float64, 0]"
        },
        {
         "name": 148,
         "dtype": "Sparse[float64, 0]"
        },
        {
         "name": 149,
         "dtype": "Sparse[float64, 0]"
        },
        {
         "name": 150,
         "dtype": "Sparse[float64, 0]"
        },
        {
         "name": 151,
         "dtype": "Sparse[float64, 0]"
        },
        {
         "name": 152,
         "dtype": "Sparse[float64, 0]"
        },
        {
         "name": 153,
         "dtype": "Sparse[float64, 0]"
        },
        {
         "name": 154,
         "dtype": "Sparse[float64, 0]"
        },
        {
         "name": 155,
         "dtype": "Sparse[float64, 0]"
        },
        {
         "name": 156,
         "dtype": "Sparse[float64, 0]"
        },
        {
         "name": 157,
         "dtype": "Sparse[float64, 0]"
        },
        {
         "name": 158,
         "dtype": "Sparse[float64, 0]"
        },
        {
         "name": 159,
         "dtype": "Sparse[float64, 0]"
        },
        {
         "name": 160,
         "dtype": "Sparse[float64, 0]"
        },
        {
         "name": 161,
         "dtype": "Sparse[float64, 0]"
        },
        {
         "name": 162,
         "dtype": "Sparse[float64, 0]"
        },
        {
         "name": 163,
         "dtype": "Sparse[float64, 0]"
        },
        {
         "name": 164,
         "dtype": "Sparse[float64, 0]"
        },
        {
         "name": 165,
         "dtype": "Sparse[float64, 0]"
        },
        {
         "name": 166,
         "dtype": "Sparse[float64, 0]"
        },
        {
         "name": 167,
         "dtype": "Sparse[float64, 0]"
        },
        {
         "name": 168,
         "dtype": "Sparse[float64, 0]"
        },
        {
         "name": 169,
         "dtype": "Sparse[float64, 0]"
        },
        {
         "name": 170,
         "dtype": "Sparse[float64, 0]"
        },
        {
         "name": 171,
         "dtype": "Sparse[float64, 0]"
        },
        {
         "name": 172,
         "dtype": "Sparse[float64, 0]"
        },
        {
         "name": 173,
         "dtype": "Sparse[float64, 0]"
        },
        {
         "name": 174,
         "dtype": "Sparse[float64, 0]"
        },
        {
         "name": 175,
         "dtype": "Sparse[float64, 0]"
        },
        {
         "name": 176,
         "dtype": "Sparse[float64, 0]"
        },
        {
         "name": 177,
         "dtype": "Sparse[float64, 0]"
        },
        {
         "name": 178,
         "dtype": "Sparse[float64, 0]"
        },
        {
         "name": 179,
         "dtype": "Sparse[float64, 0]"
        },
        {
         "name": 180,
         "dtype": "Sparse[float64, 0]"
        },
        {
         "name": 181,
         "dtype": "Sparse[float64, 0]"
        },
        {
         "name": 182,
         "dtype": "Sparse[float64, 0]"
        },
        {
         "name": 183,
         "dtype": "Sparse[float64, 0]"
        },
        {
         "name": 184,
         "dtype": "Sparse[float64, 0]"
        },
        {
         "name": 185,
         "dtype": "Sparse[float64, 0]"
        },
        {
         "name": 186,
         "dtype": "Sparse[float64, 0]"
        },
        {
         "name": 187,
         "dtype": "Sparse[float64, 0]"
        },
        {
         "name": 188,
         "dtype": "Sparse[float64, 0]"
        },
        {
         "name": 189,
         "dtype": "Sparse[float64, 0]"
        },
        {
         "name": 190,
         "dtype": "Sparse[float64, 0]"
        },
        {
         "name": 191,
         "dtype": "Sparse[float64, 0]"
        },
        {
         "name": 192,
         "dtype": "Sparse[float64, 0]"
        },
        {
         "name": 193,
         "dtype": "Sparse[float64, 0]"
        },
        {
         "name": 194,
         "dtype": "Sparse[float64, 0]"
        },
        {
         "name": 195,
         "dtype": "Sparse[float64, 0]"
        },
        {
         "name": 196,
         "dtype": "Sparse[float64, 0]"
        },
        {
         "name": 197,
         "dtype": "Sparse[float64, 0]"
        },
        {
         "name": 198,
         "dtype": "Sparse[float64, 0]"
        },
        {
         "name": 199,
         "dtype": "Sparse[float64, 0]"
        },
        {
         "name": 200,
         "dtype": "Sparse[float64, 0]"
        },
        {
         "name": 201,
         "dtype": "Sparse[float64, 0]"
        },
        {
         "name": 202,
         "dtype": "Sparse[float64, 0]"
        },
        {
         "name": 203,
         "dtype": "Sparse[float64, 0]"
        },
        {
         "name": 204,
         "dtype": "Sparse[float64, 0]"
        },
        {
         "name": 205,
         "dtype": "Sparse[float64, 0]"
        },
        {
         "name": 206,
         "dtype": "Sparse[float64, 0]"
        },
        {
         "name": 207,
         "dtype": "Sparse[float64, 0]"
        },
        {
         "name": 208,
         "dtype": "Sparse[float64, 0]"
        },
        {
         "name": 209,
         "dtype": "Sparse[float64, 0]"
        },
        {
         "name": 210,
         "dtype": "Sparse[float64, 0]"
        },
        {
         "name": 211,
         "dtype": "Sparse[float64, 0]"
        },
        {
         "name": 212,
         "dtype": "Sparse[float64, 0]"
        },
        {
         "name": 213,
         "dtype": "Sparse[float64, 0]"
        },
        {
         "name": 214,
         "dtype": "Sparse[float64, 0]"
        },
        {
         "name": 215,
         "dtype": "Sparse[float64, 0]"
        },
        {
         "name": 216,
         "dtype": "Sparse[float64, 0]"
        },
        {
         "name": 217,
         "dtype": "Sparse[float64, 0]"
        },
        {
         "name": 218,
         "dtype": "Sparse[float64, 0]"
        },
        {
         "name": 219,
         "dtype": "Sparse[float64, 0]"
        },
        {
         "name": 220,
         "dtype": "Sparse[float64, 0]"
        },
        {
         "name": 221,
         "dtype": "Sparse[float64, 0]"
        },
        {
         "name": 222,
         "dtype": "Sparse[float64, 0]"
        },
        {
         "name": 223,
         "dtype": "Sparse[float64, 0]"
        },
        {
         "name": 224,
         "dtype": "Sparse[float64, 0]"
        },
        {
         "name": 225,
         "dtype": "Sparse[float64, 0]"
        },
        {
         "name": 226,
         "dtype": "Sparse[float64, 0]"
        },
        {
         "name": 227,
         "dtype": "Sparse[float64, 0]"
        },
        {
         "name": 228,
         "dtype": "Sparse[float64, 0]"
        },
        {
         "name": 229,
         "dtype": "Sparse[float64, 0]"
        },
        {
         "name": 230,
         "dtype": "Sparse[float64, 0]"
        },
        {
         "name": 231,
         "dtype": "Sparse[float64, 0]"
        },
        {
         "name": 232,
         "dtype": "Sparse[float64, 0]"
        },
        {
         "name": 233,
         "dtype": "Sparse[float64, 0]"
        },
        {
         "name": 234,
         "dtype": "Sparse[float64, 0]"
        },
        {
         "name": 235,
         "dtype": "Sparse[float64, 0]"
        },
        {
         "name": 236,
         "dtype": "Sparse[float64, 0]"
        },
        {
         "name": 237,
         "dtype": "Sparse[float64, 0]"
        },
        {
         "name": 238,
         "dtype": "Sparse[float64, 0]"
        },
        {
         "name": 239,
         "dtype": "Sparse[float64, 0]"
        },
        {
         "name": 240,
         "dtype": "Sparse[float64, 0]"
        },
        {
         "name": 241,
         "dtype": "Sparse[float64, 0]"
        },
        {
         "name": 242,
         "dtype": "Sparse[float64, 0]"
        },
        {
         "name": 243,
         "dtype": "Sparse[float64, 0]"
        },
        {
         "name": 244,
         "dtype": "Sparse[float64, 0]"
        },
        {
         "name": 245,
         "dtype": "Sparse[float64, 0]"
        },
        {
         "name": 246,
         "dtype": "Sparse[float64, 0]"
        },
        {
         "name": 247,
         "dtype": "Sparse[float64, 0]"
        },
        {
         "name": 248,
         "dtype": "Sparse[float64, 0]"
        },
        {
         "name": 249,
         "dtype": "Sparse[float64, 0]"
        },
        {
         "name": 250,
         "dtype": "Sparse[float64, 0]"
        },
        {
         "name": 251,
         "dtype": "Sparse[float64, 0]"
        },
        {
         "name": 252,
         "dtype": "Sparse[float64, 0]"
        },
        {
         "name": 253,
         "dtype": "Sparse[float64, 0]"
        },
        {
         "name": 254,
         "dtype": "Sparse[float64, 0]"
        },
        {
         "name": 255,
         "dtype": "Sparse[float64, 0]"
        },
        {
         "name": 256,
         "dtype": "Sparse[float64, 0]"
        },
        {
         "name": 257,
         "dtype": "Sparse[float64, 0]"
        },
        {
         "name": 258,
         "dtype": "Sparse[float64, 0]"
        },
        {
         "name": 259,
         "dtype": "Sparse[float64, 0]"
        },
        {
         "name": 260,
         "dtype": "Sparse[float64, 0]"
        },
        {
         "name": 261,
         "dtype": "Sparse[float64, 0]"
        },
        {
         "name": 262,
         "dtype": "Sparse[float64, 0]"
        },
        {
         "name": 263,
         "dtype": "Sparse[float64, 0]"
        },
        {
         "name": 264,
         "dtype": "Sparse[float64, 0]"
        },
        {
         "name": 265,
         "dtype": "Sparse[float64, 0]"
        },
        {
         "name": 266,
         "dtype": "Sparse[float64, 0]"
        },
        {
         "name": 267,
         "dtype": "Sparse[float64, 0]"
        },
        {
         "name": 268,
         "dtype": "Sparse[float64, 0]"
        },
        {
         "name": 269,
         "dtype": "Sparse[float64, 0]"
        },
        {
         "name": 270,
         "dtype": "Sparse[float64, 0]"
        },
        {
         "name": 271,
         "dtype": "Sparse[float64, 0]"
        },
        {
         "name": 272,
         "dtype": "Sparse[float64, 0]"
        },
        {
         "name": 273,
         "dtype": "Sparse[float64, 0]"
        },
        {
         "name": 274,
         "dtype": "Sparse[float64, 0]"
        },
        {
         "name": 275,
         "dtype": "Sparse[float64, 0]"
        },
        {
         "name": 276,
         "dtype": "Sparse[float64, 0]"
        },
        {
         "name": 277,
         "dtype": "Sparse[float64, 0]"
        },
        {
         "name": 278,
         "dtype": "Sparse[float64, 0]"
        },
        {
         "name": 279,
         "dtype": "Sparse[float64, 0]"
        },
        {
         "name": 280,
         "dtype": "Sparse[float64, 0]"
        },
        {
         "name": 281,
         "dtype": "Sparse[float64, 0]"
        },
        {
         "name": 282,
         "dtype": "Sparse[float64, 0]"
        },
        {
         "name": 283,
         "dtype": "Sparse[float64, 0]"
        },
        {
         "name": 284,
         "dtype": "Sparse[float64, 0]"
        },
        {
         "name": 285,
         "dtype": "Sparse[float64, 0]"
        },
        {
         "name": 286,
         "dtype": "Sparse[float64, 0]"
        },
        {
         "name": 287,
         "dtype": "Sparse[float64, 0]"
        },
        {
         "name": 288,
         "dtype": "Sparse[float64, 0]"
        },
        {
         "name": 289,
         "dtype": "Sparse[float64, 0]"
        },
        {
         "name": 290,
         "dtype": "Sparse[float64, 0]"
        },
        {
         "name": 291,
         "dtype": "Sparse[float64, 0]"
        },
        {
         "name": 292,
         "dtype": "Sparse[float64, 0]"
        },
        {
         "name": 293,
         "dtype": "Sparse[float64, 0]"
        },
        {
         "name": 294,
         "dtype": "Sparse[float64, 0]"
        },
        {
         "name": 295,
         "dtype": "Sparse[float64, 0]"
        },
        {
         "name": 296,
         "dtype": "Sparse[float64, 0]"
        },
        {
         "name": 297,
         "dtype": "Sparse[float64, 0]"
        },
        {
         "name": 298,
         "dtype": "Sparse[float64, 0]"
        },
        {
         "name": 299,
         "dtype": "Sparse[float64, 0]"
        },
        {
         "name": 300,
         "dtype": "Sparse[float64, 0]"
        },
        {
         "name": 301,
         "dtype": "Sparse[float64, 0]"
        },
        {
         "name": 302,
         "dtype": "Sparse[float64, 0]"
        },
        {
         "name": 303,
         "dtype": "Sparse[float64, 0]"
        },
        {
         "name": 304,
         "dtype": "Sparse[float64, 0]"
        },
        {
         "name": 305,
         "dtype": "Sparse[float64, 0]"
        },
        {
         "name": 306,
         "dtype": "Sparse[float64, 0]"
        },
        {
         "name": 307,
         "dtype": "Sparse[float64, 0]"
        },
        {
         "name": 308,
         "dtype": "Sparse[float64, 0]"
        },
        {
         "name": 309,
         "dtype": "Sparse[float64, 0]"
        },
        {
         "name": 310,
         "dtype": "Sparse[float64, 0]"
        },
        {
         "name": 311,
         "dtype": "Sparse[float64, 0]"
        },
        {
         "name": 312,
         "dtype": "Sparse[float64, 0]"
        },
        {
         "name": 313,
         "dtype": "Sparse[float64, 0]"
        },
        {
         "name": 314,
         "dtype": "Sparse[float64, 0]"
        },
        {
         "name": 315,
         "dtype": "Sparse[float64, 0]"
        },
        {
         "name": 316,
         "dtype": "Sparse[float64, 0]"
        },
        {
         "name": 317,
         "dtype": "Sparse[float64, 0]"
        },
        {
         "name": 318,
         "dtype": "Sparse[float64, 0]"
        },
        {
         "name": 319,
         "dtype": "Sparse[float64, 0]"
        },
        {
         "name": 320,
         "dtype": "Sparse[float64, 0]"
        },
        {
         "name": 321,
         "dtype": "Sparse[float64, 0]"
        },
        {
         "name": 322,
         "dtype": "Sparse[float64, 0]"
        },
        {
         "name": 323,
         "dtype": "Sparse[float64, 0]"
        },
        {
         "name": 324,
         "dtype": "Sparse[float64, 0]"
        },
        {
         "name": 325,
         "dtype": "Sparse[float64, 0]"
        },
        {
         "name": 326,
         "dtype": "Sparse[float64, 0]"
        },
        {
         "name": 327,
         "dtype": "Sparse[float64, 0]"
        },
        {
         "name": 328,
         "dtype": "Sparse[float64, 0]"
        },
        {
         "name": 329,
         "dtype": "Sparse[float64, 0]"
        },
        {
         "name": 330,
         "dtype": "Sparse[float64, 0]"
        },
        {
         "name": 331,
         "dtype": "Sparse[float64, 0]"
        },
        {
         "name": 332,
         "dtype": "Sparse[float64, 0]"
        },
        {
         "name": 333,
         "dtype": "Sparse[float64, 0]"
        },
        {
         "name": 334,
         "dtype": "Sparse[float64, 0]"
        },
        {
         "name": 335,
         "dtype": "Sparse[float64, 0]"
        },
        {
         "name": 336,
         "dtype": "Sparse[float64, 0]"
        },
        {
         "name": 337,
         "dtype": "Sparse[float64, 0]"
        },
        {
         "name": 338,
         "dtype": "Sparse[float64, 0]"
        },
        {
         "name": 339,
         "dtype": "Sparse[float64, 0]"
        },
        {
         "name": 340,
         "dtype": "Sparse[float64, 0]"
        },
        {
         "name": 341,
         "dtype": "Sparse[float64, 0]"
        },
        {
         "name": 342,
         "dtype": "Sparse[float64, 0]"
        },
        {
         "name": 343,
         "dtype": "Sparse[float64, 0]"
        },
        {
         "name": 344,
         "dtype": "Sparse[float64, 0]"
        },
        {
         "name": 345,
         "dtype": "Sparse[float64, 0]"
        },
        {
         "name": 346,
         "dtype": "Sparse[float64, 0]"
        },
        {
         "name": 347,
         "dtype": "Sparse[float64, 0]"
        },
        {
         "name": 348,
         "dtype": "Sparse[float64, 0]"
        },
        {
         "name": 349,
         "dtype": "Sparse[float64, 0]"
        },
        {
         "name": 350,
         "dtype": "Sparse[float64, 0]"
        },
        {
         "name": 351,
         "dtype": "Sparse[float64, 0]"
        },
        {
         "name": 352,
         "dtype": "Sparse[float64, 0]"
        },
        {
         "name": 353,
         "dtype": "Sparse[float64, 0]"
        },
        {
         "name": 354,
         "dtype": "Sparse[float64, 0]"
        },
        {
         "name": 355,
         "dtype": "Sparse[float64, 0]"
        },
        {
         "name": 356,
         "dtype": "Sparse[float64, 0]"
        },
        {
         "name": 357,
         "dtype": "Sparse[float64, 0]"
        },
        {
         "name": 358,
         "dtype": "Sparse[float64, 0]"
        },
        {
         "name": 359,
         "dtype": "Sparse[float64, 0]"
        },
        {
         "name": 360,
         "dtype": "Sparse[float64, 0]"
        },
        {
         "name": 361,
         "dtype": "Sparse[float64, 0]"
        },
        {
         "name": 362,
         "dtype": "Sparse[float64, 0]"
        },
        {
         "name": 363,
         "dtype": "Sparse[float64, 0]"
        },
        {
         "name": 364,
         "dtype": "Sparse[float64, 0]"
        },
        {
         "name": 365,
         "dtype": "Sparse[float64, 0]"
        },
        {
         "name": 366,
         "dtype": "Sparse[float64, 0]"
        },
        {
         "name": 367,
         "dtype": "Sparse[float64, 0]"
        },
        {
         "name": 368,
         "dtype": "Sparse[float64, 0]"
        },
        {
         "name": 369,
         "dtype": "Sparse[float64, 0]"
        },
        {
         "name": 370,
         "dtype": "Sparse[float64, 0]"
        },
        {
         "name": 371,
         "dtype": "Sparse[float64, 0]"
        },
        {
         "name": 372,
         "dtype": "Sparse[float64, 0]"
        },
        {
         "name": 373,
         "dtype": "Sparse[float64, 0]"
        },
        {
         "name": 374,
         "dtype": "Sparse[float64, 0]"
        },
        {
         "name": 375,
         "dtype": "Sparse[float64, 0]"
        },
        {
         "name": 376,
         "dtype": "Sparse[float64, 0]"
        },
        {
         "name": 377,
         "dtype": "Sparse[float64, 0]"
        },
        {
         "name": 378,
         "dtype": "Sparse[float64, 0]"
        },
        {
         "name": 379,
         "dtype": "Sparse[float64, 0]"
        },
        {
         "name": 380,
         "dtype": "Sparse[float64, 0]"
        },
        {
         "name": 381,
         "dtype": "Sparse[float64, 0]"
        },
        {
         "name": 382,
         "dtype": "Sparse[float64, 0]"
        },
        {
         "name": 383,
         "dtype": "Sparse[float64, 0]"
        },
        {
         "name": 384,
         "dtype": "Sparse[float64, 0]"
        },
        {
         "name": 385,
         "dtype": "Sparse[float64, 0]"
        },
        {
         "name": 386,
         "dtype": "Sparse[float64, 0]"
        },
        {
         "name": 387,
         "dtype": "Sparse[float64, 0]"
        },
        {
         "name": 388,
         "dtype": "Sparse[float64, 0]"
        },
        {
         "name": 389,
         "dtype": "Sparse[float64, 0]"
        },
        {
         "name": 390,
         "dtype": "Sparse[float64, 0]"
        },
        {
         "name": 391,
         "dtype": "Sparse[float64, 0]"
        },
        {
         "name": 392,
         "dtype": "Sparse[float64, 0]"
        },
        {
         "name": 393,
         "dtype": "Sparse[float64, 0]"
        },
        {
         "name": 394,
         "dtype": "Sparse[float64, 0]"
        },
        {
         "name": 395,
         "dtype": "Sparse[float64, 0]"
        },
        {
         "name": 396,
         "dtype": "Sparse[float64, 0]"
        },
        {
         "name": 397,
         "dtype": "Sparse[float64, 0]"
        },
        {
         "name": 398,
         "dtype": "Sparse[float64, 0]"
        },
        {
         "name": 399,
         "dtype": "Sparse[float64, 0]"
        },
        {
         "name": 400,
         "dtype": "Sparse[float64, 0]"
        },
        {
         "name": 401,
         "dtype": "Sparse[float64, 0]"
        },
        {
         "name": 402,
         "dtype": "Sparse[float64, 0]"
        },
        {
         "name": 403,
         "dtype": "Sparse[float64, 0]"
        },
        {
         "name": 404,
         "dtype": "Sparse[float64, 0]"
        },
        {
         "name": 405,
         "dtype": "Sparse[float64, 0]"
        },
        {
         "name": 406,
         "dtype": "Sparse[float64, 0]"
        },
        {
         "name": 407,
         "dtype": "Sparse[float64, 0]"
        },
        {
         "name": 408,
         "dtype": "Sparse[float64, 0]"
        },
        {
         "name": 409,
         "dtype": "Sparse[float64, 0]"
        },
        {
         "name": 410,
         "dtype": "Sparse[float64, 0]"
        },
        {
         "name": 411,
         "dtype": "Sparse[float64, 0]"
        },
        {
         "name": 412,
         "dtype": "Sparse[float64, 0]"
        },
        {
         "name": 413,
         "dtype": "Sparse[float64, 0]"
        },
        {
         "name": 414,
         "dtype": "Sparse[float64, 0]"
        },
        {
         "name": 415,
         "dtype": "Sparse[float64, 0]"
        },
        {
         "name": 416,
         "dtype": "Sparse[float64, 0]"
        },
        {
         "name": 417,
         "dtype": "Sparse[float64, 0]"
        },
        {
         "name": 418,
         "dtype": "Sparse[float64, 0]"
        },
        {
         "name": 419,
         "dtype": "Sparse[float64, 0]"
        },
        {
         "name": 420,
         "dtype": "Sparse[float64, 0]"
        },
        {
         "name": 421,
         "dtype": "Sparse[float64, 0]"
        },
        {
         "name": 422,
         "dtype": "Sparse[float64, 0]"
        },
        {
         "name": 423,
         "dtype": "Sparse[float64, 0]"
        },
        {
         "name": 424,
         "dtype": "Sparse[float64, 0]"
        },
        {
         "name": 425,
         "dtype": "Sparse[float64, 0]"
        },
        {
         "name": 426,
         "dtype": "Sparse[float64, 0]"
        },
        {
         "name": 427,
         "dtype": "Sparse[float64, 0]"
        },
        {
         "name": 428,
         "dtype": "Sparse[float64, 0]"
        },
        {
         "name": 429,
         "dtype": "Sparse[float64, 0]"
        },
        {
         "name": 430,
         "dtype": "Sparse[float64, 0]"
        },
        {
         "name": 431,
         "dtype": "Sparse[float64, 0]"
        },
        {
         "name": 432,
         "dtype": "Sparse[float64, 0]"
        },
        {
         "name": 433,
         "dtype": "Sparse[float64, 0]"
        },
        {
         "name": 434,
         "dtype": "Sparse[float64, 0]"
        },
        {
         "name": 435,
         "dtype": "Sparse[float64, 0]"
        },
        {
         "name": 436,
         "dtype": "Sparse[float64, 0]"
        },
        {
         "name": 437,
         "dtype": "Sparse[float64, 0]"
        },
        {
         "name": 438,
         "dtype": "Sparse[float64, 0]"
        },
        {
         "name": 439,
         "dtype": "Sparse[float64, 0]"
        },
        {
         "name": 440,
         "dtype": "Sparse[float64, 0]"
        },
        {
         "name": 441,
         "dtype": "Sparse[float64, 0]"
        },
        {
         "name": 442,
         "dtype": "Sparse[float64, 0]"
        },
        {
         "name": 443,
         "dtype": "Sparse[float64, 0]"
        },
        {
         "name": 444,
         "dtype": "Sparse[float64, 0]"
        },
        {
         "name": 445,
         "dtype": "Sparse[float64, 0]"
        },
        {
         "name": 446,
         "dtype": "Sparse[float64, 0]"
        },
        {
         "name": 447,
         "dtype": "Sparse[float64, 0]"
        },
        {
         "name": 448,
         "dtype": "Sparse[float64, 0]"
        },
        {
         "name": 449,
         "dtype": "Sparse[float64, 0]"
        },
        {
         "name": 450,
         "dtype": "Sparse[float64, 0]"
        },
        {
         "name": 451,
         "dtype": "Sparse[float64, 0]"
        },
        {
         "name": 452,
         "dtype": "Sparse[float64, 0]"
        },
        {
         "name": 453,
         "dtype": "Sparse[float64, 0]"
        },
        {
         "name": 454,
         "dtype": "Sparse[float64, 0]"
        },
        {
         "name": 455,
         "dtype": "Sparse[float64, 0]"
        },
        {
         "name": 456,
         "dtype": "Sparse[float64, 0]"
        },
        {
         "name": 457,
         "dtype": "Sparse[float64, 0]"
        },
        {
         "name": 458,
         "dtype": "Sparse[float64, 0]"
        },
        {
         "name": 459,
         "dtype": "Sparse[float64, 0]"
        },
        {
         "name": 460,
         "dtype": "Sparse[float64, 0]"
        },
        {
         "name": 461,
         "dtype": "Sparse[float64, 0]"
        },
        {
         "name": 462,
         "dtype": "Sparse[float64, 0]"
        },
        {
         "name": 463,
         "dtype": "Sparse[float64, 0]"
        },
        {
         "name": 464,
         "dtype": "Sparse[float64, 0]"
        },
        {
         "name": 465,
         "dtype": "Sparse[float64, 0]"
        },
        {
         "name": 466,
         "dtype": "Sparse[float64, 0]"
        },
        {
         "name": 467,
         "dtype": "Sparse[float64, 0]"
        },
        {
         "name": 468,
         "dtype": "Sparse[float64, 0]"
        },
        {
         "name": 469,
         "dtype": "Sparse[float64, 0]"
        },
        {
         "name": 470,
         "dtype": "Sparse[float64, 0]"
        },
        {
         "name": 471,
         "dtype": "Sparse[float64, 0]"
        },
        {
         "name": 472,
         "dtype": "Sparse[float64, 0]"
        },
        {
         "name": 473,
         "dtype": "Sparse[float64, 0]"
        },
        {
         "name": 474,
         "dtype": "Sparse[float64, 0]"
        },
        {
         "name": 475,
         "dtype": "Sparse[float64, 0]"
        },
        {
         "name": 476,
         "dtype": "Sparse[float64, 0]"
        },
        {
         "name": 477,
         "dtype": "Sparse[float64, 0]"
        },
        {
         "name": 478,
         "dtype": "Sparse[float64, 0]"
        },
        {
         "name": 479,
         "dtype": "Sparse[float64, 0]"
        },
        {
         "name": 480,
         "dtype": "Sparse[float64, 0]"
        },
        {
         "name": 481,
         "dtype": "Sparse[float64, 0]"
        },
        {
         "name": 482,
         "dtype": "Sparse[float64, 0]"
        },
        {
         "name": 483,
         "dtype": "Sparse[float64, 0]"
        },
        {
         "name": 484,
         "dtype": "Sparse[float64, 0]"
        },
        {
         "name": 485,
         "dtype": "Sparse[float64, 0]"
        },
        {
         "name": 486,
         "dtype": "Sparse[float64, 0]"
        },
        {
         "name": 487,
         "dtype": "Sparse[float64, 0]"
        },
        {
         "name": 488,
         "dtype": "Sparse[float64, 0]"
        },
        {
         "name": 489,
         "dtype": "Sparse[float64, 0]"
        },
        {
         "name": 490,
         "dtype": "Sparse[float64, 0]"
        },
        {
         "name": 491,
         "dtype": "Sparse[float64, 0]"
        },
        {
         "name": 492,
         "dtype": "Sparse[float64, 0]"
        },
        {
         "name": 493,
         "dtype": "Sparse[float64, 0]"
        },
        {
         "name": 494,
         "dtype": "Sparse[float64, 0]"
        },
        {
         "name": 495,
         "dtype": "Sparse[float64, 0]"
        },
        {
         "name": 496,
         "dtype": "Sparse[float64, 0]"
        },
        {
         "name": 497,
         "dtype": "Sparse[float64, 0]"
        },
        {
         "name": 498,
         "dtype": "Sparse[float64, 0]"
        },
        {
         "name": 499,
         "dtype": "Sparse[float64, 0]"
        },
        {
         "name": "_deepnote_index_column",
         "dtype": "int64"
        }
       ],
       "rows": [
        {
         "0": 0,
         "1": 0,
         "2": 0,
         "3": 0,
         "4": 0,
         "5": 0,
         "6": 0,
         "7": 0,
         "8": 0,
         "9": 0,
         "10": 0,
         "11": 0,
         "12": 0,
         "13": 0,
         "14": 0,
         "15": 0,
         "16": 0,
         "17": 0,
         "18": 0,
         "19": 0,
         "20": 0,
         "21": 0,
         "22": 0,
         "23": 0,
         "24": 0,
         "25": 0,
         "26": 0,
         "27": 0,
         "28": 0,
         "29": 0,
         "30": 0,
         "31": 0,
         "32": 0,
         "33": 0,
         "34": 0,
         "35": 0,
         "36": 0,
         "37": 0,
         "38": 0,
         "39": 0,
         "40": 0,
         "41": 0,
         "42": 0,
         "43": 0,
         "44": 0,
         "45": 0,
         "46": 0,
         "47": 0,
         "48": 0,
         "49": 0,
         "50": 0,
         "51": 0,
         "52": 0,
         "53": 0,
         "54": 0,
         "55": 0,
         "56": 0,
         "57": 0,
         "58": 0,
         "59": 0.06454949703682646,
         "60": 0,
         "61": 0,
         "62": 0,
         "63": 0,
         "64": 0,
         "65": 0,
         "66": 0,
         "67": 0,
         "68": 0,
         "69": 0,
         "70": 0,
         "71": 0,
         "72": 0,
         "73": 0.05237905248092617,
         "74": 0,
         "75": 0,
         "76": 0,
         "77": 0,
         "78": 0,
         "79": 0,
         "80": 0,
         "81": 0,
         "82": 0,
         "83": 0,
         "84": 0,
         "85": 0,
         "86": 0,
         "87": 0,
         "88": 0,
         "89": 0,
         "90": 0,
         "91": 0,
         "92": 0,
         "93": 0,
         "94": 0,
         "95": 0,
         "96": 0,
         "97": 0,
         "98": 0,
         "99": 0,
         "100": 0,
         "101": 0,
         "102": 0,
         "103": 0,
         "104": 0,
         "105": 0,
         "106": 0,
         "107": 0,
         "108": 0,
         "109": 0,
         "110": 0,
         "111": 0,
         "112": 0,
         "113": 0,
         "114": 0,
         "115": 0.048234854915843194,
         "116": 0,
         "117": 0,
         "118": 0,
         "119": 0,
         "120": 0,
         "121": 0,
         "122": 0,
         "123": 0,
         "124": 0,
         "125": 0,
         "126": 0,
         "127": 0,
         "128": 0,
         "129": 0,
         "130": 0,
         "131": 0,
         "132": 0,
         "133": 0,
         "134": 0,
         "135": 0,
         "136": 0,
         "137": 0,
         "138": 0,
         "139": 0,
         "140": 0,
         "141": 0,
         "142": 0,
         "143": 0,
         "144": 0,
         "145": 0,
         "146": 0,
         "147": 0,
         "148": 0,
         "149": 0,
         "150": 0.1675172904148852,
         "151": 0,
         "152": 0,
         "153": 0,
         "154": 0,
         "155": 0,
         "156": 0,
         "157": 0,
         "158": 0,
         "159": 0,
         "160": 0,
         "161": 0,
         "162": 0,
         "163": 0,
         "164": 0,
         "165": 0,
         "166": 0,
         "167": 0,
         "168": 0.05135611458328028,
         "169": 0,
         "170": 0.27507751612544334,
         "171": 0,
         "172": 0,
         "173": 0,
         "174": 0,
         "175": 0.05035250872998968,
         "176": 0,
         "177": 0,
         "178": 0,
         "179": 0,
         "180": 0,
         "181": 0,
         "182": 0,
         "183": 0,
         "184": 0,
         "185": 0,
         "186": 0,
         "187": 0,
         "188": 0,
         "189": 0,
         "190": 0,
         "191": 0,
         "192": 0,
         "193": 0,
         "194": 0,
         "195": 0,
         "196": 0,
         "197": 0,
         "198": 0,
         "199": 0,
         "200": 0,
         "201": 0,
         "202": 0,
         "203": 0,
         "204": 0,
         "205": 0,
         "206": 0,
         "207": 0,
         "208": 0,
         "209": 0,
         "210": 0,
         "211": 0,
         "212": 0,
         "213": 0,
         "214": 0,
         "215": 0,
         "216": 0,
         "217": 0,
         "218": 0,
         "219": 0,
         "220": 0,
         "221": 0,
         "222": 0,
         "223": 0,
         "224": 0,
         "225": 0,
         "226": 0,
         "227": 0,
         "228": 0,
         "229": 0,
         "230": 0,
         "231": 0,
         "232": 0,
         "233": 0,
         "234": 0,
         "235": 0,
         "236": 0,
         "237": 0,
         "238": 0,
         "239": 0,
         "240": 0,
         "241": 0,
         "242": 0,
         "243": 0,
         "244": 0,
         "245": 0,
         "246": 0,
         "247": 0.022494150451429884,
         "248": 0,
         "249": 0,
         "250": 0,
         "251": 0,
         "252": 0,
         "253": 0,
         "254": 0,
         "255": 0,
         "256": 0,
         "257": 0,
         "258": 0,
         "259": 0,
         "260": 0,
         "261": 0,
         "262": 0,
         "263": 0,
         "264": 0,
         "265": 0,
         "266": 0,
         "267": 0,
         "268": 0,
         "269": 0,
         "270": 0,
         "271": 0,
         "272": 0,
         "273": 0,
         "274": 0,
         "275": 0,
         "276": 0,
         "277": 0,
         "278": 0,
         "279": 0,
         "280": 0,
         "281": 0,
         "282": 0,
         "283": 0,
         "284": 0,
         "285": 0,
         "286": 0,
         "287": 0,
         "288": 0,
         "289": 0,
         "290": 0,
         "291": 0,
         "292": 0,
         "293": 0,
         "294": 0,
         "295": 0,
         "296": 0,
         "297": 0,
         "298": 0,
         "299": 0,
         "300": 0,
         "301": 0,
         "302": 0,
         "303": 0,
         "304": 0,
         "305": 0,
         "306": 0.03770700205867814,
         "307": 0,
         "308": 0,
         "309": 0,
         "310": 0,
         "311": 0,
         "312": 0,
         "313": 0,
         "314": 0,
         "315": 0.04029090155680368,
         "316": 0,
         "317": 0,
         "318": 0,
         "319": 0,
         "320": 0,
         "321": 0,
         "322": 0,
         "323": 0,
         "324": 0,
         "325": 0,
         "326": 0,
         "327": 0,
         "328": 0,
         "329": 0,
         "330": 0,
         "331": 0,
         "332": 0,
         "333": 0,
         "334": 0,
         "335": 0,
         "336": 0,
         "337": 0,
         "338": 0,
         "339": 0,
         "340": 0,
         "341": 0,
         "342": 0,
         "343": 0,
         "344": 0,
         "345": 0,
         "346": 0,
         "347": 0,
         "348": 0,
         "349": 0,
         "350": 0,
         "351": 0,
         "352": 0,
         "353": 0,
         "354": 0,
         "355": 0,
         "356": 0,
         "357": 0,
         "358": 0,
         "359": 0,
         "360": 0,
         "361": 0,
         "362": 0,
         "363": 0,
         "364": 0,
         "365": 0,
         "366": 0,
         "367": 0,
         "368": 0,
         "369": 0,
         "370": 0,
         "371": 0,
         "372": 0,
         "373": 0,
         "374": 0,
         "375": 0,
         "376": 0,
         "377": 0,
         "378": 0,
         "379": 0,
         "380": 0,
         "381": 0,
         "382": 0,
         "383": 0,
         "384": 0,
         "385": 0,
         "386": 0,
         "387": 0,
         "388": 0,
         "389": 0,
         "390": 0,
         "391": 0,
         "392": 0,
         "393": 0,
         "394": 0,
         "395": 0,
         "396": 0,
         "397": 0,
         "398": 0,
         "399": 0,
         "400": 0,
         "401": 0,
         "402": 0,
         "403": 0,
         "404": 0,
         "405": 0,
         "406": 0,
         "407": 0,
         "408": 0.038715350765326964,
         "409": 0.24478694635984244,
         "410": 0,
         "411": 0,
         "412": 0,
         "413": 0,
         "414": 0,
         "415": 0.04151537150657069,
         "416": 0,
         "417": 0,
         "418": 0.03591131531641794,
         "419": 0,
         "420": 0,
         "421": 0,
         "422": 0.0481160064976133,
         "423": 0,
         "424": 0,
         "425": 0,
         "426": 0,
         "427": 0,
         "428": 0,
         "429": 0,
         "430": 0,
         "431": 0,
         "432": 0.03523602641661666,
         "433": 0,
         "434": 0,
         "435": 0,
         "436": 0,
         "437": 0,
         "438": 0.18259884542037366,
         "439": 0,
         "440": 0,
         "441": 0,
         "442": 0,
         "443": 0,
         "444": 0,
         "445": 0,
         "446": 0,
         "447": 0,
         "448": 0,
         "449": 0,
         "450": 0.0816534754096382,
         "451": 0,
         "452": 0,
         "453": 0,
         "454": 0,
         "455": 0,
         "456": 0,
         "457": 0,
         "458": 0,
         "459": 0,
         "460": 0.03934676781826393,
         "461": 0,
         "462": 0,
         "463": 0,
         "464": 0,
         "465": 0,
         "466": 0,
         "467": 0,
         "468": 0,
         "469": 0,
         "470": 0,
         "471": 0,
         "472": 0,
         "473": 0,
         "474": 0,
         "475": 0.0704222488707013,
         "476": 0,
         "477": 0,
         "478": 0,
         "479": 0,
         "480": 0,
         "481": 0,
         "482": 0,
         "483": 0,
         "484": 0,
         "485": 0,
         "486": 0,
         "487": 0,
         "488": 0,
         "489": 0,
         "490": 0,
         "491": 0,
         "492": 0,
         "493": 0,
         "494": 0,
         "495": 0,
         "496": 0.044517859483404705,
         "497": 0,
         "498": 0,
         "499": 0,
         "_deepnote_index_column": 0
        },
        {
         "0": 0,
         "1": 0,
         "2": 0,
         "3": 0,
         "4": 0,
         "5": 0,
         "6": 0,
         "7": 0,
         "8": 0,
         "9": 0,
         "10": 0,
         "11": 0,
         "12": 0,
         "13": 0,
         "14": 0,
         "15": 0,
         "16": 0,
         "17": 0,
         "18": 0,
         "19": 0,
         "20": 0,
         "21": 0,
         "22": 0,
         "23": 0,
         "24": 0,
         "25": 0,
         "26": 0,
         "27": 0,
         "28": 0,
         "29": 0,
         "30": 0,
         "31": 0,
         "32": 0,
         "33": 0,
         "34": 0,
         "35": 0,
         "36": 0,
         "37": 0,
         "38": 0,
         "39": 0,
         "40": 0,
         "41": 0,
         "42": 0,
         "43": 0,
         "44": 0,
         "45": 0,
         "46": 0,
         "47": 0,
         "48": 0,
         "49": 0,
         "50": 0.18650216413754112,
         "51": 0,
         "52": 0,
         "53": 0,
         "54": 0,
         "55": 0,
         "56": 0,
         "57": 0,
         "58": 0,
         "59": 0.04180205223725854,
         "60": 0,
         "61": 0,
         "62": 0,
         "63": 0.20699221642128302,
         "64": 0,
         "65": 0,
         "66": 0,
         "67": 0,
         "68": 0,
         "69": 0,
         "70": 0,
         "71": 0,
         "72": 0,
         "73": 0,
         "74": 0,
         "75": 0,
         "76": 0,
         "77": 0,
         "78": 0.05677465808791691,
         "79": 0,
         "80": 0,
         "81": 0,
         "82": 0,
         "83": 0,
         "84": 0,
         "85": 0,
         "86": 0,
         "87": 0,
         "88": 0,
         "89": 0,
         "90": 0,
         "91": 0,
         "92": 0,
         "93": 0,
         "94": 0,
         "95": 0,
         "96": 0,
         "97": 0,
         "98": 0,
         "99": 0,
         "100": 0,
         "101": 0,
         "102": 0,
         "103": 0,
         "104": 0,
         "105": 0,
         "106": 0,
         "107": 0,
         "108": 0,
         "109": 0,
         "110": 0,
         "111": 0,
         "112": 0,
         "113": 0.049992240496775954,
         "114": 0.7282508406048186,
         "115": 0,
         "116": 0,
         "117": 0,
         "118": 0,
         "119": 0,
         "120": 0,
         "121": 0,
         "122": 0,
         "123": 0,
         "124": 0,
         "125": 0,
         "126": 0,
         "127": 0,
         "128": 0,
         "129": 0,
         "130": 0,
         "131": 0,
         "132": 0,
         "133": 0,
         "134": 0,
         "135": 0,
         "136": 0,
         "137": 0,
         "138": 0,
         "139": 0,
         "140": 0,
         "141": 0,
         "142": 0,
         "143": 0,
         "144": 0,
         "145": 0,
         "146": 0,
         "147": 0,
         "148": 0,
         "149": 0,
         "150": 0.03616122431117715,
         "151": 0,
         "152": 0,
         "153": 0,
         "154": 0,
         "155": 0,
         "156": 0,
         "157": 0,
         "158": 0,
         "159": 0,
         "160": 0,
         "161": 0,
         "162": 0,
         "163": 0,
         "164": 0,
         "165": 0,
         "166": 0,
         "167": 0,
         "168": 0,
         "169": 0,
         "170": 0,
         "171": 0,
         "172": 0,
         "173": 0,
         "174": 0,
         "175": 0,
         "176": 0,
         "177": 0,
         "178": 0,
         "179": 0,
         "180": 0,
         "181": 0,
         "182": 0,
         "183": 0,
         "184": 0,
         "185": 0,
         "186": 0,
         "187": 0,
         "188": 0,
         "189": 0,
         "190": 0,
         "191": 0,
         "192": 0,
         "193": 0,
         "194": 0,
         "195": 0,
         "196": 0,
         "197": 0,
         "198": 0,
         "199": 0,
         "200": 0,
         "201": 0,
         "202": 0,
         "203": 0,
         "204": 0,
         "205": 0,
         "206": 0,
         "207": 0.05086470539501326,
         "208": 0,
         "209": 0,
         "210": 0,
         "211": 0,
         "212": 0,
         "213": 0,
         "214": 0,
         "215": 0,
         "216": 0,
         "217": 0,
         "218": 0,
         "219": 0,
         "220": 0,
         "221": 0,
         "222": 0,
         "223": 0,
         "224": 0,
         "225": 0,
         "226": 0,
         "227": 0,
         "228": 0,
         "229": 0,
         "230": 0,
         "231": 0,
         "232": 0,
         "233": 0,
         "234": 0,
         "235": 0,
         "236": 0,
         "237": 0,
         "238": 0,
         "239": 0,
         "240": 0,
         "241": 0,
         "242": 0,
         "243": 0,
         "244": 0,
         "245": 0.18365642262533105,
         "246": 0,
         "247": 0.05826856569723345,
         "248": 0,
         "249": 0,
         "250": 0,
         "251": 0,
         "252": 0,
         "253": 0,
         "254": 0,
         "255": 0,
         "256": 0,
         "257": 0,
         "258": 0,
         "259": 0,
         "260": 0,
         "261": 0,
         "262": 0,
         "263": 0,
         "264": 0,
         "265": 0,
         "266": 0,
         "267": 0,
         "268": 0,
         "269": 0,
         "270": 0,
         "271": 0,
         "272": 0,
         "273": 0,
         "274": 0,
         "275": 0,
         "276": 0,
         "277": 0,
         "278": 0,
         "279": 0,
         "280": 0,
         "281": 0,
         "282": 0,
         "283": 0,
         "284": 0,
         "285": 0,
         "286": 0,
         "287": 0,
         "288": 0,
         "289": 0,
         "290": 0,
         "291": 0,
         "292": 0,
         "293": 0,
         "294": 0,
         "295": 0,
         "296": 0,
         "297": 0,
         "298": 0,
         "299": 0,
         "300": 0,
         "301": 0,
         "302": 0,
         "303": 0,
         "304": 0,
         "305": 0,
         "306": 0,
         "307": 0,
         "308": 0,
         "309": 0,
         "310": 0,
         "311": 0,
         "312": 0,
         "313": 0,
         "314": 0,
         "315": 0,
         "316": 0,
         "317": 0,
         "318": 0,
         "319": 0,
         "320": 0,
         "321": 0,
         "322": 0,
         "323": 0,
         "324": 0,
         "325": 0,
         "326": 0.11531850583154976,
         "327": 0,
         "328": 0,
         "329": 0,
         "330": 0,
         "331": 0,
         "332": 0,
         "333": 0,
         "334": 0,
         "335": 0,
         "336": 0,
         "337": 0,
         "338": 0,
         "339": 0,
         "340": 0,
         "341": 0,
         "342": 0,
         "343": 0,
         "344": 0,
         "345": 0,
         "346": 0,
         "347": 0,
         "348": 0,
         "349": 0,
         "350": 0,
         "351": 0,
         "352": 0,
         "353": 0,
         "354": 0,
         "355": 0,
         "356": 0,
         "357": 0,
         "358": 0,
         "359": 0,
         "360": 0,
         "361": 0,
         "362": 0,
         "363": 0,
         "364": 0,
         "365": 0,
         "366": 0,
         "367": 0,
         "368": 0,
         "369": 0,
         "370": 0,
         "371": 0,
         "372": 0,
         "373": 0,
         "374": 0,
         "375": 0,
         "376": 0,
         "377": 0,
         "378": 0,
         "379": 0,
         "380": 0,
         "381": 0,
         "382": 0.04734947981796018,
         "383": 0,
         "384": 0,
         "385": 0,
         "386": 0,
         "387": 0,
         "388": 0,
         "389": 0,
         "390": 0,
         "391": 0,
         "392": 0,
         "393": 0,
         "394": 0,
         "395": 0,
         "396": 0,
         "397": 0,
         "398": 0,
         "399": 0,
         "400": 0,
         "401": 0,
         "402": 0,
         "403": 0,
         "404": 0,
         "405": 0,
         "406": 0,
         "407": 0,
         "408": 0,
         "409": 0,
         "410": 0,
         "411": 0,
         "412": 0,
         "413": 0.047750661409883134,
         "414": 0,
         "415": 0,
         "416": 0,
         "417": 0,
         "418": 0.04651211078869064,
         "419": 0.14153314479717635,
         "420": 0,
         "421": 0.1605614746536948,
         "422": 0,
         "423": 0,
         "424": 0,
         "425": 0,
         "426": 0,
         "427": 0,
         "428": 0,
         "429": 0,
         "430": 0,
         "431": 0,
         "432": 0,
         "433": 0,
         "434": 0,
         "435": 0,
         "436": 0,
         "437": 0,
         "438": 0,
         "439": 0,
         "440": 0,
         "441": 0,
         "442": 0.04516845343866444,
         "443": 0,
         "444": 0,
         "445": 0,
         "446": 0,
         "447": 0,
         "448": 0,
         "449": 0,
         "450": 0,
         "451": 0,
         "452": 0,
         "453": 0,
         "454": 0,
         "455": 0,
         "456": 0,
         "457": 0,
         "458": 0,
         "459": 0,
         "460": 0,
         "461": 0,
         "462": 0,
         "463": 0,
         "464": 0,
         "465": 0,
         "466": 0,
         "467": 0,
         "468": 0,
         "469": 0,
         "470": 0,
         "471": 0,
         "472": 0,
         "473": 0,
         "474": 0,
         "475": 0,
         "476": 0,
         "477": 0,
         "478": 0,
         "479": 0,
         "480": 0,
         "481": 0,
         "482": 0,
         "483": 0,
         "484": 0,
         "485": 0,
         "486": 0,
         "487": 0,
         "488": 0,
         "489": 0,
         "490": 0.16012576911992768,
         "491": 0,
         "492": 0,
         "493": 0,
         "494": 0.12227723065793962,
         "495": 0,
         "496": 0,
         "497": 0,
         "498": 0,
         "499": 0,
         "_deepnote_index_column": 1
        },
        {
         "0": 0,
         "1": 0,
         "2": 0,
         "3": 0,
         "4": 0,
         "5": 0,
         "6": 0,
         "7": 0,
         "8": 0,
         "9": 0,
         "10": 0,
         "11": 0,
         "12": 0,
         "13": 0,
         "14": 0,
         "15": 0,
         "16": 0,
         "17": 0,
         "18": 0,
         "19": 0,
         "20": 0,
         "21": 0,
         "22": 0,
         "23": 0,
         "24": 0,
         "25": 0,
         "26": 0,
         "27": 0,
         "28": 0,
         "29": 0,
         "30": 0,
         "31": 0.0818889231053015,
         "32": 0,
         "33": 0,
         "34": 0,
         "35": 0,
         "36": 0,
         "37": 0,
         "38": 0,
         "39": 0,
         "40": 0,
         "41": 0,
         "42": 0,
         "43": 0,
         "44": 0,
         "45": 0,
         "46": 0,
         "47": 0,
         "48": 0,
         "49": 0,
         "50": 0,
         "51": 0,
         "52": 0,
         "53": 0.10552277825140995,
         "54": 0,
         "55": 0,
         "56": 0,
         "57": 0,
         "58": 0,
         "59": 0.14443880156418626,
         "60": 0,
         "61": 0,
         "62": 0,
         "63": 0,
         "64": 0,
         "65": 0,
         "66": 0,
         "67": 0,
         "68": 0,
         "69": 0,
         "70": 0,
         "71": 0,
         "72": 0,
         "73": 0,
         "74": 0,
         "75": 0,
         "76": 0,
         "77": 0,
         "78": 0,
         "79": 0,
         "80": 0,
         "81": 0,
         "82": 0,
         "83": 0,
         "84": 0,
         "85": 0,
         "86": 0,
         "87": 0,
         "88": 0,
         "89": 0,
         "90": 0,
         "91": 0,
         "92": 0,
         "93": 0,
         "94": 0,
         "95": 0,
         "96": 0,
         "97": 0,
         "98": 0,
         "99": 0,
         "100": 0,
         "101": 0,
         "102": 0,
         "103": 0,
         "104": 0,
         "105": 0,
         "106": 0,
         "107": 0,
         "108": 0,
         "109": 0.04118248040367622,
         "110": 0,
         "111": 0,
         "112": 0,
         "113": 0,
         "114": 0,
         "115": 0,
         "116": 0,
         "117": 0,
         "118": 0,
         "119": 0,
         "120": 0,
         "121": 0,
         "122": 0,
         "123": 0,
         "124": 0,
         "125": 0,
         "126": 0,
         "127": 0,
         "128": 0,
         "129": 0,
         "130": 0,
         "131": 0,
         "132": 0,
         "133": 0,
         "134": 0,
         "135": 0,
         "136": 0,
         "137": 0.04641371311202821,
         "138": 0,
         "139": 0,
         "140": 0,
         "141": 0,
         "142": 0,
         "143": 0,
         "144": 0,
         "145": 0,
         "146": 0,
         "147": 0,
         "148": 0,
         "149": 0,
         "150": 0,
         "151": 0,
         "152": 0,
         "153": 0,
         "154": 0,
         "155": 0,
         "156": 0,
         "157": 0,
         "158": 0,
         "159": 0,
         "160": 0,
         "161": 0,
         "162": 0,
         "163": 0,
         "164": 0,
         "165": 0,
         "166": 0,
         "167": 0,
         "168": 0,
         "169": 0,
         "170": 0,
         "171": 0,
         "172": 0,
         "173": 0,
         "174": 0.0483271696681246,
         "175": 0,
         "176": 0,
         "177": 0,
         "178": 0,
         "179": 0,
         "180": 0,
         "181": 0,
         "182": 0,
         "183": 0,
         "184": 0,
         "185": 0,
         "186": 0,
         "187": 0,
         "188": 0.09077991465228627,
         "189": 0,
         "190": 0,
         "191": 0,
         "192": 0,
         "193": 0,
         "194": 0,
         "195": 0,
         "196": 0,
         "197": 0,
         "198": 0,
         "199": 0,
         "200": 0.5072675059891812,
         "201": 0,
         "202": 0,
         "203": 0,
         "204": 0,
         "205": 0,
         "206": 0,
         "207": 0,
         "208": 0,
         "209": 0,
         "210": 0,
         "211": 0,
         "212": 0,
         "213": 0.04567785448812359,
         "214": 0,
         "215": 0,
         "216": 0,
         "217": 0,
         "218": 0,
         "219": 0,
         "220": 0,
         "221": 0,
         "222": 0,
         "223": 0,
         "224": 0,
         "225": 0,
         "226": 0,
         "227": 0,
         "228": 0.08476004942662416,
         "229": 0.04548511996442524,
         "230": 0,
         "231": 0,
         "232": 0,
         "233": 0,
         "234": 0,
         "235": 0,
         "236": 0,
         "237": 0,
         "238": 0,
         "239": 0,
         "240": 0,
         "241": 0.15792493966419577,
         "242": 0,
         "243": 0,
         "244": 0,
         "245": 0,
         "246": 0,
         "247": 0,
         "248": 0,
         "249": 0,
         "250": 0,
         "251": 0,
         "252": 0,
         "253": 0,
         "254": 0,
         "255": 0,
         "256": 0,
         "257": 0,
         "258": 0,
         "259": 0,
         "260": 0,
         "261": 0,
         "262": 0,
         "263": 0,
         "264": 0,
         "265": 0,
         "266": 0.05830580125411496,
         "267": 0,
         "268": 0,
         "269": 0,
         "270": 0,
         "271": 0,
         "272": 0,
         "273": 0,
         "274": 0,
         "275": 0,
         "276": 0,
         "277": 0,
         "278": 0,
         "279": 0,
         "280": 0,
         "281": 0,
         "282": 0,
         "283": 0,
         "284": 0,
         "285": 0,
         "286": 0,
         "287": 0,
         "288": 0,
         "289": 0,
         "290": 0,
         "291": 0,
         "292": 0,
         "293": 0,
         "294": 0,
         "295": 0,
         "296": 0,
         "297": 0,
         "298": 0,
         "299": 0,
         "300": 0,
         "301": 0,
         "302": 0,
         "303": 0,
         "304": 0,
         "305": 0,
         "306": 0,
         "307": 0,
         "308": 0,
         "309": 0,
         "310": 0,
         "311": 0,
         "312": 0,
         "313": 0,
         "314": 0,
         "315": 0,
         "316": 0,
         "317": 0,
         "318": 0,
         "319": 0,
         "320": 0,
         "321": 0,
         "322": 0,
         "323": 0,
         "324": 0,
         "325": 0,
         "326": 0,
         "327": 0,
         "328": 0,
         "329": 0,
         "330": 0,
         "331": 0,
         "332": 0,
         "333": 0,
         "334": 0,
         "335": 0,
         "336": 0,
         "337": 0,
         "338": 0,
         "339": 0,
         "340": 0,
         "341": 0,
         "342": 0.09731730233709313,
         "343": 0,
         "344": 0,
         "345": 0,
         "346": 0,
         "347": 0,
         "348": 0.09553847793033304,
         "349": 0,
         "350": 0,
         "351": 0,
         "352": 0,
         "353": 0,
         "354": 0,
         "355": 0,
         "356": 0,
         "357": 0,
         "358": 0,
         "359": 0,
         "360": 0,
         "361": 0,
         "362": 0,
         "363": 0,
         "364": 0,
         "365": 0,
         "366": 0,
         "367": 0,
         "368": 0.048124769498720854,
         "369": 0,
         "370": 0.2535575237126645,
         "371": 0,
         "372": 0,
         "373": 0,
         "374": 0,
         "375": 0,
         "376": 0,
         "377": 0,
         "378": 0,
         "379": 0,
         "380": 0,
         "381": 0,
         "382": 0,
         "383": 0,
         "384": 0,
         "385": 0,
         "386": 0.2021423961676786,
         "387": 0.08595617151241411,
         "388": 0,
         "389": 0,
         "390": 0,
         "391": 0,
         "392": 0,
         "393": 0,
         "394": 0,
         "395": 0,
         "396": 0,
         "397": 0,
         "398": 0,
         "399": 0,
         "400": 0,
         "401": 0,
         "402": 0,
         "403": 0,
         "404": 0,
         "405": 0,
         "406": 0,
         "407": 0.05294338730746723,
         "408": 0,
         "409": 0,
         "410": 0,
         "411": 0,
         "412": 0,
         "413": 0,
         "414": 0,
         "415": 0,
         "416": 0,
         "417": 0,
         "418": 0,
         "419": 0,
         "420": 0,
         "421": 0,
         "422": 0,
         "423": 0,
         "424": 0,
         "425": 0,
         "426": 0,
         "427": 0,
         "428": 0,
         "429": 0,
         "430": 0,
         "431": 0.2049677672970092,
         "432": 0,
         "433": 0,
         "434": 0,
         "435": 0,
         "436": 0,
         "437": 0,
         "438": 0,
         "439": 0,
         "440": 0,
         "441": 0,
         "442": 0,
         "443": 0,
         "444": 0,
         "445": 0,
         "446": 0,
         "447": 0,
         "448": 0,
         "449": 0,
         "450": 0,
         "451": 0,
         "452": 0,
         "453": 0,
         "454": 0,
         "455": 0,
         "456": 0,
         "457": 0,
         "458": 0,
         "459": 0,
         "460": 0,
         "461": 0,
         "462": 0,
         "463": 0,
         "464": 0,
         "465": 0,
         "466": 0,
         "467": 0,
         "468": 0,
         "469": 0,
         "470": 0,
         "471": 0,
         "472": 0,
         "473": 0,
         "474": 0,
         "475": 0.026263321681488996,
         "476": 0,
         "477": 0,
         "478": 0,
         "479": 0,
         "480": 0,
         "481": 0,
         "482": 0,
         "483": 0,
         "484": 0,
         "485": 0,
         "486": 0,
         "487": 0,
         "488": 0,
         "489": 0,
         "490": 0,
         "491": 0,
         "492": 0,
         "493": 0,
         "494": 0.3696918870216053,
         "495": 0,
         "496": 0,
         "497": 0,
         "498": 0,
         "499": 0,
         "_deepnote_index_column": 2
        },
        {
         "0": 0,
         "1": 0,
         "2": 0,
         "3": 0,
         "4": 0,
         "5": 0,
         "6": 0,
         "7": 0,
         "8": 0,
         "9": 0,
         "10": 0,
         "11": 0,
         "12": 0,
         "13": 0,
         "14": 0,
         "15": 0,
         "16": 0,
         "17": 0,
         "18": 0,
         "19": 0,
         "20": 0,
         "21": 0,
         "22": 0,
         "23": 0,
         "24": 0,
         "25": 0,
         "26": 0,
         "27": 0,
         "28": 0,
         "29": 0,
         "30": 0,
         "31": 0.19392758426451087,
         "32": 0,
         "33": 0,
         "34": 0,
         "35": 0,
         "36": 0,
         "37": 0,
         "38": 0,
         "39": 0,
         "40": 0,
         "41": 0,
         "42": 0,
         "43": 0,
         "44": 0,
         "45": 0,
         "46": 0,
         "47": 0,
         "48": 0,
         "49": 0,
         "50": 0,
         "51": 0,
         "52": 0,
         "53": 0,
         "54": 0,
         "55": 0,
         "56": 0,
         "57": 0,
         "58": 0,
         "59": 0,
         "60": 0,
         "61": 0,
         "62": 0,
         "63": 0.047049196876785625,
         "64": 0,
         "65": 0,
         "66": 0,
         "67": 0,
         "68": 0,
         "69": 0,
         "70": 0,
         "71": 0,
         "72": 0,
         "73": 0,
         "74": 0,
         "75": 0,
         "76": 0,
         "77": 0,
         "78": 0,
         "79": 0,
         "80": 0,
         "81": 0,
         "82": 0,
         "83": 0,
         "84": 0,
         "85": 0,
         "86": 0,
         "87": 0,
         "88": 0,
         "89": 0,
         "90": 0,
         "91": 0,
         "92": 0,
         "93": 0,
         "94": 0,
         "95": 0,
         "96": 0,
         "97": 0,
         "98": 0,
         "99": 0,
         "100": 0,
         "101": 0,
         "102": 0,
         "103": 0,
         "104": 0,
         "105": 0,
         "106": 0,
         "107": 0,
         "108": 0,
         "109": 0,
         "110": 0,
         "111": 0,
         "112": 0,
         "113": 0,
         "114": 0,
         "115": 0,
         "116": 0,
         "117": 0,
         "118": 0,
         "119": 0,
         "120": 0,
         "121": 0,
         "122": 0,
         "123": 0,
         "124": 0,
         "125": 0,
         "126": 0,
         "127": 0,
         "128": 0,
         "129": 0,
         "130": 0,
         "131": 0,
         "132": 0,
         "133": 0,
         "134": 0,
         "135": 0,
         "136": 0,
         "137": 0,
         "138": 0,
         "139": 0,
         "140": 0,
         "141": 0,
         "142": 0,
         "143": 0,
         "144": 0,
         "145": 0,
         "146": 0,
         "147": 0,
         "148": 0,
         "149": 0,
         "150": 0,
         "151": 0,
         "152": 0,
         "153": 0,
         "154": 0,
         "155": 0,
         "156": 0,
         "157": 0,
         "158": 0,
         "159": 0,
         "160": 0,
         "161": 0,
         "162": 0,
         "163": 0,
         "164": 0,
         "165": 0,
         "166": 0,
         "167": 0,
         "168": 0,
         "169": 0,
         "170": 0,
         "171": 0,
         "172": 0,
         "173": 0,
         "174": 0,
         "175": 0,
         "176": 0,
         "177": 0,
         "178": 0,
         "179": 0,
         "180": 0,
         "181": 0,
         "182": 0,
         "183": 0,
         "184": 0,
         "185": 0,
         "186": 0,
         "187": 0,
         "188": 0,
         "189": 0,
         "190": 0,
         "191": 0,
         "192": 0,
         "193": 0,
         "194": 0,
         "195": 0,
         "196": 0,
         "197": 0,
         "198": 0,
         "199": 0,
         "200": 0,
         "201": 0,
         "202": 0,
         "203": 0,
         "204": 0,
         "205": 0,
         "206": 0,
         "207": 0,
         "208": 0,
         "209": 0,
         "210": 0,
         "211": 0.028114557156645344,
         "212": 0,
         "213": 0,
         "214": 0,
         "215": 0,
         "216": 0,
         "217": 0,
         "218": 0,
         "219": 0,
         "220": 0,
         "221": 0,
         "222": 0,
         "223": 0,
         "224": 0,
         "225": 0,
         "226": 0,
         "227": 0,
         "228": 0,
         "229": 0,
         "230": 0,
         "231": 0,
         "232": 0,
         "233": 0,
         "234": 0,
         "235": 0,
         "236": 0,
         "237": 0,
         "238": 0,
         "239": 0,
         "240": 0,
         "241": 0,
         "242": 0,
         "243": 0,
         "244": 0,
         "245": 0,
         "246": 0,
         "247": 0,
         "248": 0,
         "249": 0,
         "250": 0,
         "251": 0,
         "252": 0,
         "253": 0,
         "254": 0,
         "255": 0,
         "256": 0,
         "257": 0,
         "258": 0,
         "259": 0,
         "260": 0,
         "261": 0,
         "262": 0,
         "263": 0,
         "264": 0,
         "265": 0,
         "266": 0,
         "267": 0,
         "268": 0,
         "269": 0,
         "270": 0,
         "271": 0,
         "272": 0,
         "273": 0,
         "274": 0,
         "275": 0,
         "276": 0,
         "277": 0,
         "278": 0,
         "279": 0,
         "280": 0,
         "281": 0,
         "282": 0,
         "283": 0,
         "284": 0,
         "285": 0,
         "286": 0,
         "287": 0,
         "288": 0,
         "289": 0,
         "290": 0,
         "291": 0,
         "292": 0,
         "293": 0,
         "294": 0,
         "295": 0,
         "296": 0,
         "297": 0,
         "298": 0,
         "299": 0,
         "300": 0.8921347668769259,
         "301": 0,
         "302": 0,
         "303": 0,
         "304": 0,
         "305": 0,
         "306": 0,
         "307": 0,
         "308": 0,
         "309": 0,
         "310": 0,
         "311": 0,
         "312": 0,
         "313": 0,
         "314": 0,
         "315": 0,
         "316": 0,
         "317": 0,
         "318": 0,
         "319": 0,
         "320": 0,
         "321": 0,
         "322": 0,
         "323": 0,
         "324": 0,
         "325": 0,
         "326": 0,
         "327": 0,
         "328": 0,
         "329": 0,
         "330": 0,
         "331": 0,
         "332": 0,
         "333": 0,
         "334": 0,
         "335": 0,
         "336": 0,
         "337": 0,
         "338": 0,
         "339": 0,
         "340": 0,
         "341": 0,
         "342": 0,
         "343": 0,
         "344": 0,
         "345": 0,
         "346": 0,
         "347": 0,
         "348": 0,
         "349": 0,
         "350": 0,
         "351": 0,
         "352": 0,
         "353": 0,
         "354": 0,
         "355": 0,
         "356": 0,
         "357": 0,
         "358": 0,
         "359": 0,
         "360": 0,
         "361": 0,
         "362": 0,
         "363": 0,
         "364": 0,
         "365": 0,
         "366": 0,
         "367": 0,
         "368": 0,
         "369": 0,
         "370": 0,
         "371": 0,
         "372": 0.09236364389784976,
         "373": 0,
         "374": 0,
         "375": 0,
         "376": 0,
         "377": 0,
         "378": 0,
         "379": 0,
         "380": 0,
         "381": 0,
         "382": 0,
         "383": 0,
         "384": 0,
         "385": 0,
         "386": 0.09118271801478675,
         "387": 0.06785318478541681,
         "388": 0,
         "389": 0,
         "390": 0,
         "391": 0,
         "392": 0,
         "393": 0,
         "394": 0,
         "395": 0,
         "396": 0,
         "397": 0,
         "398": 0,
         "399": 0,
         "400": 0,
         "401": 0,
         "402": 0,
         "403": 0,
         "404": 0,
         "405": 0,
         "406": 0,
         "407": 0,
         "408": 0,
         "409": 0,
         "410": 0,
         "411": 0,
         "412": 0,
         "413": 0,
         "414": 0,
         "415": 0,
         "416": 0,
         "417": 0,
         "418": 0,
         "419": 0.09651117673816464,
         "420": 0,
         "421": 0,
         "422": 0,
         "423": 0,
         "424": 0,
         "425": 0,
         "426": 0,
         "427": 0,
         "428": 0,
         "429": 0,
         "430": 0.16873323591331557,
         "431": 0,
         "432": 0,
         "433": 0,
         "434": 0,
         "435": 0,
         "436": 0,
         "437": 0,
         "438": 0,
         "439": 0,
         "440": 0,
         "441": 0,
         "442": 0,
         "443": 0.04360457473094294,
         "444": 0,
         "445": 0,
         "446": 0,
         "447": 0,
         "448": 0,
         "449": 0,
         "450": 0,
         "451": 0,
         "452": 0,
         "453": 0,
         "454": 0.1228906220320823,
         "455": 0,
         "456": 0,
         "457": 0,
         "458": 0,
         "459": 0,
         "460": 0,
         "461": 0,
         "462": 0,
         "463": 0,
         "464": 0,
         "465": 0,
         "466": 0,
         "467": 0,
         "468": 0,
         "469": 0,
         "470": 0,
         "471": 0,
         "472": 0,
         "473": 0,
         "474": 0,
         "475": 0,
         "476": 0,
         "477": 0,
         "478": 0,
         "479": 0,
         "480": 0,
         "481": 0,
         "482": 0,
         "483": 0,
         "484": 0,
         "485": 0,
         "486": 0,
         "487": 0,
         "488": 0,
         "489": 0,
         "490": 0,
         "491": 0,
         "492": 0,
         "493": 0,
         "494": 0,
         "495": 0,
         "496": 0,
         "497": 0,
         "498": 0,
         "499": 0,
         "_deepnote_index_column": 3
        },
        {
         "0": 0,
         "1": 0,
         "2": 0,
         "3": 0,
         "4": 0,
         "5": 0,
         "6": 0,
         "7": 0,
         "8": 0,
         "9": 0,
         "10": 0,
         "11": 0,
         "12": 0,
         "13": 0,
         "14": 0,
         "15": 0,
         "16": 0,
         "17": 0,
         "18": 0,
         "19": 0,
         "20": 0,
         "21": 0,
         "22": 0,
         "23": 0,
         "24": 0,
         "25": 0,
         "26": 0,
         "27": 0,
         "28": 0,
         "29": 0,
         "30": 0,
         "31": 0,
         "32": 0,
         "33": 0,
         "34": 0,
         "35": 0,
         "36": 0,
         "37": 0,
         "38": 0,
         "39": 0,
         "40": 0,
         "41": 0,
         "42": 0,
         "43": 0,
         "44": 0,
         "45": 0,
         "46": 0,
         "47": 0,
         "48": 0,
         "49": 0,
         "50": 0,
         "51": 0,
         "52": 0,
         "53": 0,
         "54": 0,
         "55": 0,
         "56": 0,
         "57": 0,
         "58": 0,
         "59": 0,
         "60": 0,
         "61": 0,
         "62": 0,
         "63": 0,
         "64": 0,
         "65": 0,
         "66": 0,
         "67": 0,
         "68": 0,
         "69": 0,
         "70": 0,
         "71": 0,
         "72": 0,
         "73": 0,
         "74": 0,
         "75": 0,
         "76": 0,
         "77": 0,
         "78": 0,
         "79": 0,
         "80": 0,
         "81": 0,
         "82": 0.055694188506153236,
         "83": 0,
         "84": 0,
         "85": 0,
         "86": 0,
         "87": 0,
         "88": 0,
         "89": 0,
         "90": 0,
         "91": 0,
         "92": 0,
         "93": 0,
         "94": 0,
         "95": 0,
         "96": 0,
         "97": 0,
         "98": 0,
         "99": 0,
         "100": 0,
         "101": 0,
         "102": 0,
         "103": 0,
         "104": 0,
         "105": 0,
         "106": 0,
         "107": 0,
         "108": 0,
         "109": 0,
         "110": 0,
         "111": 0,
         "112": 0,
         "113": 0,
         "114": 0,
         "115": 0,
         "116": 0,
         "117": 0,
         "118": 0,
         "119": 0,
         "120": 0,
         "121": 0,
         "122": 0,
         "123": 0,
         "124": 0,
         "125": 0,
         "126": 0,
         "127": 0,
         "128": 0,
         "129": 0,
         "130": 0,
         "131": 0,
         "132": 0,
         "133": 0,
         "134": 0,
         "135": 0,
         "136": 0,
         "137": 0,
         "138": 0,
         "139": 0,
         "140": 0,
         "141": 0,
         "142": 0,
         "143": 0,
         "144": 0,
         "145": 0,
         "146": 0,
         "147": 0,
         "148": 0,
         "149": 0,
         "150": 0,
         "151": 0,
         "152": 0,
         "153": 0,
         "154": 0,
         "155": 0,
         "156": 0,
         "157": 0,
         "158": 0,
         "159": 0,
         "160": 0,
         "161": 0,
         "162": 0,
         "163": 0,
         "164": 0,
         "165": 0,
         "166": 0,
         "167": 0,
         "168": 0,
         "169": 0,
         "170": 0,
         "171": 0,
         "172": 0,
         "173": 0.25546116725565265,
         "174": 0,
         "175": 0,
         "176": 0,
         "177": 0,
         "178": 0,
         "179": 0,
         "180": 0,
         "181": 0,
         "182": 0,
         "183": 0,
         "184": 0,
         "185": 0,
         "186": 0,
         "187": 0,
         "188": 0,
         "189": 0,
         "190": 0,
         "191": 0,
         "192": 0,
         "193": 0,
         "194": 0,
         "195": 0,
         "196": 0,
         "197": 0,
         "198": 0,
         "199": 0,
         "200": 0,
         "201": 0,
         "202": 0,
         "203": 0,
         "204": 0,
         "205": 0,
         "206": 0,
         "207": 0,
         "208": 0,
         "209": 0,
         "210": 0,
         "211": 0,
         "212": 0,
         "213": 0,
         "214": 0,
         "215": 0,
         "216": 0,
         "217": 0,
         "218": 0,
         "219": 0,
         "220": 0,
         "221": 0,
         "222": 0,
         "223": 0,
         "224": 0,
         "225": 0,
         "226": 0,
         "227": 0,
         "228": 0,
         "229": 0.11753420099861606,
         "230": 0,
         "231": 0,
         "232": 0,
         "233": 0,
         "234": 0,
         "235": 0,
         "236": 0,
         "237": 0,
         "238": 0,
         "239": 0,
         "240": 0,
         "241": 0,
         "242": 0.07257479758355885,
         "243": 0,
         "244": 0,
         "245": 0,
         "246": 0,
         "247": 0.032515881548985784,
         "248": 0,
         "249": 0,
         "250": 0,
         "251": 0,
         "252": 0,
         "253": 0.07508109116227403,
         "254": 0,
         "255": 0,
         "256": 0,
         "257": 0,
         "258": 0,
         "259": 0,
         "260": 0,
         "261": 0,
         "262": 0,
         "263": 0,
         "264": 0,
         "265": 0,
         "266": 0,
         "267": 0,
         "268": 0,
         "269": 0,
         "270": 0,
         "271": 0,
         "272": 0,
         "273": 0,
         "274": 0,
         "275": 0,
         "276": 0,
         "277": 0,
         "278": 0,
         "279": 0,
         "280": 0,
         "281": 0,
         "282": 0,
         "283": 0,
         "284": 0,
         "285": 0,
         "286": 0,
         "287": 0,
         "288": 0,
         "289": 0,
         "290": 0,
         "291": 0,
         "292": 0,
         "293": 0,
         "294": 0,
         "295": 0,
         "296": 0,
         "297": 0,
         "298": 0,
         "299": 0,
         "300": 0,
         "301": 0,
         "302": 0,
         "303": 0,
         "304": 0,
         "305": 0,
         "306": 0,
         "307": 0,
         "308": 0,
         "309": 0,
         "310": 0,
         "311": 0,
         "312": 0,
         "313": 0,
         "314": 0.07679027074308147,
         "315": 0,
         "316": 0,
         "317": 0,
         "318": 0,
         "319": 0,
         "320": 0,
         "321": 0,
         "322": 0,
         "323": 0,
         "324": 0,
         "325": 0,
         "326": 0,
         "327": 0,
         "328": 0,
         "329": 0,
         "330": 0,
         "331": 0,
         "332": 0,
         "333": 0,
         "334": 0,
         "335": 0,
         "336": 0,
         "337": 0,
         "338": 0,
         "339": 0,
         "340": 0,
         "341": 0.0575813438189548,
         "342": 0.06286732552578157,
         "343": 0,
         "344": 0,
         "345": 0,
         "346": 0,
         "347": 0,
         "348": 0.06171819859411192,
         "349": 0,
         "350": 0,
         "351": 0,
         "352": 0,
         "353": 0,
         "354": 0,
         "355": 0,
         "356": 0,
         "357": 0,
         "358": 0,
         "359": 0,
         "360": 0,
         "361": 0,
         "362": 0,
         "363": 0,
         "364": 0,
         "365": 0,
         "366": 0,
         "367": 0,
         "368": 0,
         "369": 0,
         "370": 0,
         "371": 0,
         "372": 0,
         "373": 0,
         "374": 0,
         "375": 0,
         "376": 0,
         "377": 0,
         "378": 0,
         "379": 0,
         "380": 0,
         "381": 0,
         "382": 0,
         "383": 0,
         "384": 0,
         "385": 0,
         "386": 0.037309917491534894,
         "387": 0,
         "388": 0,
         "389": 0,
         "390": 0,
         "391": 0,
         "392": 0,
         "393": 0,
         "394": 0,
         "395": 0,
         "396": 0,
         "397": 0,
         "398": 0,
         "399": 0,
         "400": 0,
         "401": 0,
         "402": 0,
         "403": 0,
         "404": 0,
         "405": 0,
         "406": 0,
         "407": 0,
         "408": 0,
         "409": 0,
         "410": 0,
         "411": 0,
         "412": 0,
         "413": 0,
         "414": 0,
         "415": 0,
         "416": 0,
         "417": 0,
         "418": 0,
         "419": 0.05265360395051956,
         "420": 0,
         "421": 0,
         "422": 0,
         "423": 0,
         "424": 0,
         "425": 0,
         "426": 0,
         "427": 0,
         "428": 0,
         "429": 0,
         "430": 0,
         "431": 0,
         "432": 0.6621497454645388,
         "433": 0,
         "434": 0,
         "435": 0,
         "436": 0,
         "437": 0,
         "438": 0,
         "439": 0,
         "440": 0,
         "441": 0,
         "442": 0,
         "443": 0,
         "444": 0,
         "445": 0.05897431993679802,
         "446": 0,
         "447": 0,
         "448": 0,
         "449": 0,
         "450": 0,
         "451": 0,
         "452": 0,
         "453": 0,
         "454": 0.06704543826322956,
         "455": 0,
         "456": 0,
         "457": 0,
         "458": 0,
         "459": 0,
         "460": 0,
         "461": 0,
         "462": 0,
         "463": 0,
         "464": 0,
         "465": 0,
         "466": 0,
         "467": 0,
         "468": 0,
         "469": 0,
         "470": 0,
         "471": 0,
         "472": 0,
         "473": 0,
         "474": 0,
         "475": 0.10179719868226288,
         "476": 0,
         "477": 0,
         "478": 0,
         "479": 0,
         "480": 0,
         "481": 0,
         "482": 0,
         "483": 0,
         "484": 0,
         "485": 0,
         "486": 0,
         "487": 0,
         "488": 0,
         "489": 0,
         "490": 0,
         "491": 0,
         "492": 0.06270526353123461,
         "493": 0,
         "494": 0.10235240649832109,
         "495": 0,
         "496": 0,
         "497": 0,
         "498": 0,
         "499": 0,
         "_deepnote_index_column": 4
        },
        {
         "0": 0,
         "1": 0,
         "2": 0,
         "3": 0,
         "4": 0,
         "5": 0,
         "6": 0,
         "7": 0,
         "8": 0,
         "9": 0,
         "10": 0,
         "11": 0,
         "12": 0,
         "13": 0,
         "14": 0,
         "15": 0,
         "16": 0,
         "17": 0,
         "18": 0,
         "19": 0,
         "20": 0,
         "21": 0,
         "22": 0,
         "23": 0,
         "24": 0,
         "25": 0,
         "26": 0,
         "27": 0,
         "28": 0,
         "29": 0,
         "30": 0,
         "31": 0,
         "32": 0,
         "33": 0,
         "34": 0,
         "35": 0,
         "36": 0,
         "37": 0,
         "38": 0,
         "39": 0,
         "40": 0,
         "41": 0,
         "42": 0,
         "43": 0,
         "44": 0,
         "45": 0,
         "46": 0,
         "47": 0,
         "48": 0,
         "49": 0,
         "50": 0,
         "51": 0,
         "52": 0,
         "53": 0,
         "54": 0,
         "55": 0,
         "56": 0,
         "57": 0,
         "58": 0,
         "59": 0,
         "60": 0,
         "61": 0,
         "62": 0,
         "63": 0,
         "64": 0,
         "65": 0,
         "66": 0,
         "67": 0,
         "68": 0,
         "69": 0,
         "70": 0,
         "71": 0,
         "72": 0,
         "73": 0,
         "74": 0,
         "75": 0,
         "76": 0,
         "77": 0,
         "78": 0,
         "79": 0,
         "80": 0,
         "81": 0,
         "82": 0.22828811185607395,
         "83": 0,
         "84": 0,
         "85": 0,
         "86": 0,
         "87": 0,
         "88": 0,
         "89": 0,
         "90": 0,
         "91": 0,
         "92": 0,
         "93": 0,
         "94": 0,
         "95": 0,
         "96": 0,
         "97": 0,
         "98": 0,
         "99": 0,
         "100": 0,
         "101": 0,
         "102": 0,
         "103": 0,
         "104": 0,
         "105": 0,
         "106": 0,
         "107": 0,
         "108": 0,
         "109": 0,
         "110": 0,
         "111": 0,
         "112": 0,
         "113": 0.06534301551042174,
         "114": 0,
         "115": 0,
         "116": 0,
         "117": 0,
         "118": 0,
         "119": 0,
         "120": 0,
         "121": 0,
         "122": 0,
         "123": 0,
         "124": 0,
         "125": 0,
         "126": 0,
         "127": 0,
         "128": 0,
         "129": 0,
         "130": 0,
         "131": 0,
         "132": 0,
         "133": 0,
         "134": 0,
         "135": 0,
         "136": 0,
         "137": 0,
         "138": 0,
         "139": 0,
         "140": 0,
         "141": 0,
         "142": 0,
         "143": 0,
         "144": 0,
         "145": 0,
         "146": 0,
         "147": 0,
         "148": 0,
         "149": 0,
         "150": 0,
         "151": 0,
         "152": 0,
         "153": 0,
         "154": 0,
         "155": 0,
         "156": 0,
         "157": 0,
         "158": 0,
         "159": 0,
         "160": 0,
         "161": 0,
         "162": 0,
         "163": 0,
         "164": 0,
         "165": 0,
         "166": 0,
         "167": 0,
         "168": 0,
         "169": 0,
         "170": 0,
         "171": 0,
         "172": 0,
         "173": 0,
         "174": 0,
         "175": 0,
         "176": 0,
         "177": 0,
         "178": 0,
         "179": 0,
         "180": 0,
         "181": 0,
         "182": 0,
         "183": 0,
         "184": 0,
         "185": 0,
         "186": 0,
         "187": 0,
         "188": 0,
         "189": 0,
         "190": 0,
         "191": 0,
         "192": 0,
         "193": 0,
         "194": 0,
         "195": 0,
         "196": 0,
         "197": 0,
         "198": 0,
         "199": 0,
         "200": 0,
         "201": 0,
         "202": 0,
         "203": 0,
         "204": 0,
         "205": 0,
         "206": 0,
         "207": 0,
         "208": 0,
         "209": 0,
         "210": 0,
         "211": 0,
         "212": 0,
         "213": 0,
         "214": 0,
         "215": 0,
         "216": 0,
         "217": 0,
         "218": 0,
         "219": 0,
         "220": 0,
         "221": 0,
         "222": 0,
         "223": 0,
         "224": 0,
         "225": 0,
         "226": 0,
         "227": 0,
         "228": 0,
         "229": 0,
         "230": 0,
         "231": 0,
         "232": 0,
         "233": 0,
         "234": 0,
         "235": 0,
         "236": 0,
         "237": 0,
         "238": 0,
         "239": 0,
         "240": 0,
         "241": 0,
         "242": 0,
         "243": 0,
         "244": 0,
         "245": 0,
         "246": 0,
         "247": 0.4950445189669854,
         "248": 0,
         "249": 0,
         "250": 0,
         "251": 0,
         "252": 0,
         "253": 0,
         "254": 0,
         "255": 0,
         "256": 0,
         "257": 0,
         "258": 0,
         "259": 0,
         "260": 0,
         "261": 0,
         "262": 0,
         "263": 0,
         "264": 0,
         "265": 0,
         "266": 0,
         "267": 0,
         "268": 0,
         "269": 0,
         "270": 0,
         "271": 0,
         "272": 0,
         "273": 0,
         "274": 0,
         "275": 0,
         "276": 0,
         "277": 0,
         "278": 0,
         "279": 0,
         "280": 0,
         "281": 0,
         "282": 0,
         "283": 0,
         "284": 0,
         "285": 0,
         "286": 0,
         "287": 0,
         "288": 0,
         "289": 0,
         "290": 0,
         "291": 0,
         "292": 0,
         "293": 0,
         "294": 0,
         "295": 0,
         "296": 0,
         "297": 0,
         "298": 0,
         "299": 0,
         "300": 0,
         "301": 0,
         "302": 0,
         "303": 0,
         "304": 0,
         "305": 0.05548637895805342,
         "306": 0,
         "307": 0,
         "308": 0,
         "309": 0,
         "310": 0,
         "311": 0,
         "312": 0,
         "313": 0,
         "314": 0,
         "315": 0,
         "316": 0,
         "317": 0,
         "318": 0,
         "319": 0,
         "320": 0,
         "321": 0,
         "322": 0,
         "323": 0,
         "324": 0,
         "325": 0,
         "326": 0,
         "327": 0,
         "328": 0,
         "329": 0,
         "330": 0.03460694844221457,
         "331": 0,
         "332": 0,
         "333": 0,
         "334": 0,
         "335": 0,
         "336": 0,
         "337": 0,
         "338": 0,
         "339": 0,
         "340": 0,
         "341": 0,
         "342": 0,
         "343": 0,
         "344": 0,
         "345": 0,
         "346": 0,
         "347": 0,
         "348": 0.2529802732048311,
         "349": 0,
         "350": 0,
         "351": 0,
         "352": 0,
         "353": 0,
         "354": 0,
         "355": 0,
         "356": 0,
         "357": 0,
         "358": 0,
         "359": 0,
         "360": 0,
         "361": 0,
         "362": 0,
         "363": 0,
         "364": 0,
         "365": 0,
         "366": 0,
         "367": 0,
         "368": 0,
         "369": 0,
         "370": 0,
         "371": 0,
         "372": 0,
         "373": 0,
         "374": 0,
         "375": 0,
         "376": 0,
         "377": 0.07615582264063568,
         "378": 0,
         "379": 0,
         "380": 0,
         "381": 0,
         "382": 0,
         "383": 0,
         "384": 0,
         "385": 0.20073796016612364,
         "386": 0,
         "387": 0,
         "388": 0,
         "389": 0,
         "390": 0,
         "391": 0,
         "392": 0,
         "393": 0,
         "394": 0,
         "395": 0,
         "396": 0,
         "397": 0,
         "398": 0,
         "399": 0,
         "400": 0,
         "401": 0,
         "402": 0,
         "403": 0,
         "404": 0,
         "405": 0,
         "406": 0,
         "407": 0,
         "408": 0,
         "409": 0,
         "410": 0,
         "411": 0,
         "412": 0,
         "413": 0,
         "414": 0,
         "415": 0,
         "416": 0,
         "417": 0,
         "418": 0,
         "419": 0,
         "420": 0,
         "421": 0,
         "422": 0,
         "423": 0,
         "424": 0,
         "425": 0,
         "426": 0,
         "427": 0,
         "428": 0,
         "429": 0,
         "430": 0,
         "431": 0,
         "432": 0.029825534805980162,
         "433": 0,
         "434": 0,
         "435": 0,
         "436": 0,
         "437": 0,
         "438": 0,
         "439": 0,
         "440": 0,
         "441": 0,
         "442": 0,
         "443": 0,
         "444": 0,
         "445": 0,
         "446": 0,
         "447": 0,
         "448": 0,
         "449": 0,
         "450": 0.24190454690396893,
         "451": 0,
         "452": 0,
         "453": 0,
         "454": 0,
         "455": 0,
         "456": 0,
         "457": 0,
         "458": 0,
         "459": 0,
         "460": 0,
         "461": 0,
         "462": 0,
         "463": 0,
         "464": 0,
         "465": 0,
         "466": 0,
         "467": 0,
         "468": 0,
         "469": 0,
         "470": 0,
         "471": 0,
         "472": 0,
         "473": 0,
         "474": 0,
         "475": 0,
         "476": 0,
         "477": 0,
         "478": 0,
         "479": 0,
         "480": 0,
         "481": 0,
         "482": 0,
         "483": 0,
         "484": 0,
         "485": 0,
         "486": 0,
         "487": 0,
         "488": 0,
         "489": 0,
         "490": 0.03488241545504254,
         "491": 0,
         "492": 0,
         "493": 0,
         "494": 0,
         "495": 0,
         "496": 0,
         "497": 0,
         "498": 0,
         "499": 0,
         "_deepnote_index_column": 5
        },
        {
         "0": 0,
         "1": 0,
         "2": 0,
         "3": 0,
         "4": 0,
         "5": 0,
         "6": 0,
         "7": 0,
         "8": 0,
         "9": 0,
         "10": 0,
         "11": 0,
         "12": 0,
         "13": 0,
         "14": 0,
         "15": 0,
         "16": 0,
         "17": 0,
         "18": 0,
         "19": 0,
         "20": 0,
         "21": 0,
         "22": 0,
         "23": 0,
         "24": 0,
         "25": 0,
         "26": 0,
         "27": 0,
         "28": 0,
         "29": 0,
         "30": 0,
         "31": 0,
         "32": 0,
         "33": 0,
         "34": 0,
         "35": 0,
         "36": 0,
         "37": 0,
         "38": 0,
         "39": 0,
         "40": 0,
         "41": 0,
         "42": 0,
         "43": 0,
         "44": 0,
         "45": 0,
         "46": 0,
         "47": 0,
         "48": 0,
         "49": 0,
         "50": 0,
         "51": 0,
         "52": 0,
         "53": 0,
         "54": 0,
         "55": 0,
         "56": 0,
         "57": 0,
         "58": 0,
         "59": 0,
         "60": 0,
         "61": 0,
         "62": 0,
         "63": 0,
         "64": 0,
         "65": 0,
         "66": 0,
         "67": 0,
         "68": 0,
         "69": 0,
         "70": 0,
         "71": 0,
         "72": 0,
         "73": 0,
         "74": 0,
         "75": 0,
         "76": 0,
         "77": 0,
         "78": 0,
         "79": 0,
         "80": 0,
         "81": 0,
         "82": 0,
         "83": 0,
         "84": 0.47607509106654294,
         "85": 0,
         "86": 0,
         "87": 0,
         "88": 0,
         "89": 0,
         "90": 0,
         "91": 0,
         "92": 0,
         "93": 0,
         "94": 0,
         "95": 0,
         "96": 0,
         "97": 0,
         "98": 0,
         "99": 0,
         "100": 0,
         "101": 0,
         "102": 0,
         "103": 0,
         "104": 0,
         "105": 0,
         "106": 0,
         "107": 0,
         "108": 0.025257976357385636,
         "109": 0,
         "110": 0,
         "111": 0,
         "112": 0,
         "113": 0,
         "114": 0,
         "115": 0,
         "116": 0,
         "117": 0,
         "118": 0,
         "119": 0,
         "120": 0,
         "121": 0,
         "122": 0,
         "123": 0,
         "124": 0,
         "125": 0,
         "126": 0,
         "127": 0,
         "128": 0,
         "129": 0,
         "130": 0,
         "131": 0,
         "132": 0,
         "133": 0,
         "134": 0,
         "135": 0,
         "136": 0,
         "137": 0,
         "138": 0,
         "139": 0,
         "140": 0,
         "141": 0,
         "142": 0,
         "143": 0,
         "144": 0,
         "145": 0,
         "146": 0,
         "147": 0,
         "148": 0,
         "149": 0,
         "150": 0.013440124410451981,
         "151": 0,
         "152": 0,
         "153": 0,
         "154": 0,
         "155": 0,
         "156": 0,
         "157": 0,
         "158": 0,
         "159": 0,
         "160": 0,
         "161": 0,
         "162": 0,
         "163": 0,
         "164": 0,
         "165": 0,
         "166": 0,
         "167": 0,
         "168": 0,
         "169": 0,
         "170": 0,
         "171": 0,
         "172": 0,
         "173": 0,
         "174": 0,
         "175": 0,
         "176": 0.07988039179566149,
         "177": 0,
         "178": 0,
         "179": 0,
         "180": 0,
         "181": 0,
         "182": 0,
         "183": 0,
         "184": 0,
         "185": 0,
         "186": 0,
         "187": 0,
         "188": 0,
         "189": 0,
         "190": 0,
         "191": 0,
         "192": 0,
         "193": 0,
         "194": 0,
         "195": 0,
         "196": 0,
         "197": 0,
         "198": 0,
         "199": 0.025666336961117666,
         "200": 0.021825837886434274,
         "201": 0,
         "202": 0,
         "203": 0,
         "204": 0,
         "205": 0,
         "206": 0,
         "207": 0,
         "208": 0,
         "209": 0,
         "210": 0,
         "211": 0.015323993380830726,
         "212": 0,
         "213": 0,
         "214": 0,
         "215": 0,
         "216": 0,
         "217": 0,
         "218": 0,
         "219": 0,
         "220": 0,
         "221": 0,
         "222": 0,
         "223": 0,
         "224": 0,
         "225": 0,
         "226": 0,
         "227": 0,
         "228": 0,
         "229": 0,
         "230": 0,
         "231": 0,
         "232": 0,
         "233": 0,
         "234": 0,
         "235": 0,
         "236": 0,
         "237": 0,
         "238": 0,
         "239": 0,
         "240": 0,
         "241": 0,
         "242": 0,
         "243": 0,
         "244": 0,
         "245": 0,
         "246": 0,
         "247": 0.010828405109438605,
         "248": 0,
         "249": 0,
         "250": 0,
         "251": 0,
         "252": 0,
         "253": 0,
         "254": 0,
         "255": 0,
         "256": 0,
         "257": 0,
         "258": 0,
         "259": 0,
         "260": 0,
         "261": 0,
         "262": 0,
         "263": 0,
         "264": 0,
         "265": 0,
         "266": 0,
         "267": 0,
         "268": 0,
         "269": 0,
         "270": 0,
         "271": 0,
         "272": 0,
         "273": 0,
         "274": 0,
         "275": 0,
         "276": 0,
         "277": 0,
         "278": 0,
         "279": 0,
         "280": 0,
         "281": 0,
         "282": 0,
         "283": 0,
         "284": 0,
         "285": 0,
         "286": 0,
         "287": 0,
         "288": 0,
         "289": 0,
         "290": 0,
         "291": 0,
         "292": 0,
         "293": 0,
         "294": 0,
         "295": 0,
         "296": 0,
         "297": 0,
         "298": 0,
         "299": 0,
         "300": 0,
         "301": 0,
         "302": 0,
         "303": 0,
         "304": 0,
         "305": 0,
         "306": 0,
         "307": 0,
         "308": 0,
         "309": 0,
         "310": 0,
         "311": 0,
         "312": 0,
         "313": 0,
         "314": 0,
         "315": 0,
         "316": 0,
         "317": 0,
         "318": 0,
         "319": 0,
         "320": 0,
         "321": 0,
         "322": 0,
         "323": 0,
         "324": 0,
         "325": 0,
         "326": 0,
         "327": 0,
         "328": 0,
         "329": 0,
         "330": 0,
         "331": 0,
         "332": 0,
         "333": 0,
         "334": 0,
         "335": 0,
         "336": 0,
         "337": 0,
         "338": 0,
         "339": 0,
         "340": 0,
         "341": 0,
         "342": 0,
         "343": 0,
         "344": 0,
         "345": 0,
         "346": 0,
         "347": 0,
         "348": 0,
         "349": 0,
         "350": 0,
         "351": 0,
         "352": 0,
         "353": 0,
         "354": 0,
         "355": 0,
         "356": 0,
         "357": 0.023162448909975052,
         "358": 0,
         "359": 0,
         "360": 0,
         "361": 0,
         "362": 0,
         "363": 0,
         "364": 0,
         "365": 0,
         "366": 0,
         "367": 0,
         "368": 0,
         "369": 0,
         "370": 0,
         "371": 0,
         "372": 0,
         "373": 0,
         "374": 0,
         "375": 0,
         "376": 0,
         "377": 0,
         "378": 0,
         "379": 0,
         "380": 0,
         "381": 0,
         "382": 0,
         "383": 0,
         "384": 0,
         "385": 0,
         "386": 0.024849819961942306,
         "387": 0,
         "388": 0,
         "389": 0,
         "390": 0,
         "391": 0,
         "392": 0,
         "393": 0,
         "394": 0,
         "395": 0,
         "396": 0,
         "397": 0,
         "398": 0.1822365950727585,
         "399": 0,
         "400": 0,
         "401": 0,
         "402": 0,
         "403": 0,
         "404": 0,
         "405": 0,
         "406": 0.022573462996639905,
         "407": 0,
         "408": 0.03727417960915482,
         "409": 0,
         "410": 0,
         "411": 0.025480647381314135,
         "412": 0,
         "413": 0,
         "414": 0,
         "415": 0,
         "416": 0,
         "417": 0,
         "418": 0,
         "419": 0,
         "420": 0,
         "421": 0,
         "422": 0,
         "423": 0,
         "424": 0,
         "425": 0,
         "426": 0,
         "427": 0,
         "428": 0,
         "429": 0,
         "430": 0,
         "431": 0,
         "432": 0,
         "433": 0,
         "434": 0,
         "435": 0,
         "436": 0,
         "437": 0,
         "438": 0,
         "439": 0,
         "440": 0,
         "441": 0,
         "442": 0.03357572345556437,
         "443": 0,
         "444": 0,
         "445": 0,
         "446": 0,
         "447": 0,
         "448": 0,
         "449": 0,
         "450": 0,
         "451": 0,
         "452": 0,
         "453": 0,
         "454": 0,
         "455": 0.02193542348275593,
         "456": 0,
         "457": 0,
         "458": 0,
         "459": 0,
         "460": 0,
         "461": 0,
         "462": 0,
         "463": 0,
         "464": 0,
         "465": 0,
         "466": 0,
         "467": 0,
         "468": 0,
         "469": 0,
         "470": 0,
         "471": 0,
         "472": 0,
         "473": 0,
         "474": 0,
         "475": 0,
         "476": 0,
         "477": 0,
         "478": 0,
         "479": 0,
         "480": 0,
         "481": 0,
         "482": 0.021008904501255272,
         "483": 0.3174561529196222,
         "484": 0,
         "485": 0,
         "486": 0,
         "487": 0,
         "488": 0,
         "489": 0,
         "490": 0,
         "491": 0,
         "492": 0,
         "493": 0,
         "494": 0.011361764043621395,
         "495": 0,
         "496": 0,
         "497": 0,
         "498": 0,
         "499": 0,
         "_deepnote_index_column": 6
        },
        {
         "0": 0,
         "1": 0,
         "2": 0,
         "3": 0,
         "4": 0,
         "5": 0,
         "6": 0,
         "7": 0,
         "8": 0,
         "9": 0,
         "10": 0,
         "11": 0,
         "12": 0,
         "13": 0,
         "14": 0,
         "15": 0,
         "16": 0,
         "17": 0,
         "18": 0,
         "19": 0,
         "20": 0,
         "21": 0,
         "22": 0,
         "23": 0,
         "24": 0,
         "25": 0,
         "26": 0,
         "27": 0,
         "28": 0,
         "29": 0,
         "30": 0,
         "31": 0,
         "32": 0,
         "33": 0,
         "34": 0.07335677311934913,
         "35": 0,
         "36": 0,
         "37": 0,
         "38": 0,
         "39": 0,
         "40": 0,
         "41": 0,
         "42": 0,
         "43": 0,
         "44": 0,
         "45": 0,
         "46": 0,
         "47": 0,
         "48": 0,
         "49": 0,
         "50": 0,
         "51": 0,
         "52": 0,
         "53": 0,
         "54": 0,
         "55": 0,
         "56": 0,
         "57": 0,
         "58": 0,
         "59": 0,
         "60": 0,
         "61": 0,
         "62": 0,
         "63": 0,
         "64": 0,
         "65": 0,
         "66": 0,
         "67": 0,
         "68": 0,
         "69": 0,
         "70": 0,
         "71": 0,
         "72": 0,
         "73": 0,
         "74": 0,
         "75": 0,
         "76": 0,
         "77": 0,
         "78": 0,
         "79": 0,
         "80": 0,
         "81": 0,
         "82": 0,
         "83": 0,
         "84": 0,
         "85": 0,
         "86": 0,
         "87": 0,
         "88": 0,
         "89": 0,
         "90": 0,
         "91": 0,
         "92": 0,
         "93": 0,
         "94": 0.09948572659068222,
         "95": 0,
         "96": 0,
         "97": 0,
         "98": 0,
         "99": 0,
         "100": 0.12484168331378578,
         "101": 0,
         "102": 0,
         "103": 0,
         "104": 0,
         "105": 0,
         "106": 0,
         "107": 0,
         "108": 0,
         "109": 0,
         "110": 0,
         "111": 0,
         "112": 0,
         "113": 0,
         "114": 0,
         "115": 0,
         "116": 0,
         "117": 0,
         "118": 0,
         "119": 0,
         "120": 0,
         "121": 0,
         "122": 0,
         "123": 0,
         "124": 0,
         "125": 0,
         "126": 0,
         "127": 0,
         "128": 0,
         "129": 0,
         "130": 0,
         "131": 0,
         "132": 0,
         "133": 0,
         "134": 0,
         "135": 0,
         "136": 0,
         "137": 0,
         "138": 0,
         "139": 0,
         "140": 0,
         "141": 0,
         "142": 0,
         "143": 0,
         "144": 0,
         "145": 0,
         "146": 0,
         "147": 0,
         "148": 0.117241344739255,
         "149": 0,
         "150": 0,
         "151": 0,
         "152": 0,
         "153": 0,
         "154": 0,
         "155": 0,
         "156": 0,
         "157": 0,
         "158": 0,
         "159": 0,
         "160": 0,
         "161": 0,
         "162": 0,
         "163": 0,
         "164": 0,
         "165": 0,
         "166": 0,
         "167": 0,
         "168": 0,
         "169": 0,
         "170": 0,
         "171": 0,
         "172": 0,
         "173": 0,
         "174": 0,
         "175": 0,
         "176": 0.40776622922150657,
         "177": 0,
         "178": 0,
         "179": 0,
         "180": 0,
         "181": 0,
         "182": 0,
         "183": 0.11562038606900167,
         "184": 0,
         "185": 0,
         "186": 0,
         "187": 0,
         "188": 0,
         "189": 0,
         "190": 0,
         "191": 0,
         "192": 0,
         "193": 0,
         "194": 0,
         "195": 0,
         "196": 0,
         "197": 0,
         "198": 0,
         "199": 0,
         "200": 0,
         "201": 0,
         "202": 0,
         "203": 0,
         "204": 0,
         "205": 0,
         "206": 0,
         "207": 0,
         "208": 0,
         "209": 0,
         "210": 0,
         "211": 0,
         "212": 0,
         "213": 0,
         "214": 0,
         "215": 0,
         "216": 0,
         "217": 0,
         "218": 0,
         "219": 0,
         "220": 0,
         "221": 0,
         "222": 0,
         "223": 0,
         "224": 0,
         "225": 0,
         "226": 0,
         "227": 0,
         "228": 0,
         "229": 0,
         "230": 0,
         "231": 0,
         "232": 0,
         "233": 0,
         "234": 0,
         "235": 0,
         "236": 0,
         "237": 0,
         "238": 0,
         "239": 0,
         "240": 0,
         "241": 0,
         "242": 0,
         "243": 0,
         "244": 0,
         "245": 0,
         "246": 0,
         "247": 0.05527586708955638,
         "248": 0,
         "249": 0,
         "250": 0,
         "251": 0,
         "252": 0,
         "253": 0,
         "254": 0,
         "255": 0,
         "256": 0,
         "257": 0,
         "258": 0,
         "259": 0,
         "260": 0,
         "261": 0,
         "262": 0,
         "263": 0,
         "264": 0,
         "265": 0,
         "266": 0,
         "267": 0,
         "268": 0,
         "269": 0,
         "270": 0,
         "271": 0,
         "272": 0,
         "273": 0,
         "274": 0,
         "275": 0,
         "276": 0,
         "277": 0,
         "278": 0,
         "279": 0.09245021043458669,
         "280": 0,
         "281": 0,
         "282": 0,
         "283": 0,
         "284": 0,
         "285": 0,
         "286": 0,
         "287": 0,
         "288": 0,
         "289": 0,
         "290": 0,
         "291": 0,
         "292": 0,
         "293": 0,
         "294": 0,
         "295": 0,
         "296": 0,
         "297": 0,
         "298": 0,
         "299": 0,
         "300": 0,
         "301": 0,
         "302": 0,
         "303": 0,
         "304": 0,
         "305": 0.08054174661818363,
         "306": 0,
         "307": 0,
         "308": 0,
         "309": 0,
         "310": 0,
         "311": 0,
         "312": 0,
         "313": 0,
         "314": 0,
         "315": 0.0990086077792153,
         "316": 0,
         "317": 0,
         "318": 0,
         "319": 0,
         "320": 0,
         "321": 0,
         "322": 0,
         "323": 0,
         "324": 0.09718591194293844,
         "325": 0,
         "326": 0,
         "327": 0,
         "328": 0,
         "329": 0,
         "330": 0.10046804729386058,
         "331": 0,
         "332": 0,
         "333": 0,
         "334": 0,
         "335": 0,
         "336": 0,
         "337": 0,
         "338": 0,
         "339": 0,
         "340": 0,
         "341": 0,
         "342": 0.10687226562822097,
         "343": 0,
         "344": 0,
         "345": 0,
         "346": 0,
         "347": 0,
         "348": 0,
         "349": 0,
         "350": 0,
         "351": 0,
         "352": 0,
         "353": 0,
         "354": 0,
         "355": 0,
         "356": 0,
         "357": 0,
         "358": 0,
         "359": 0,
         "360": 0,
         "361": 0,
         "362": 0,
         "363": 0,
         "364": 0,
         "365": 0,
         "366": 0,
         "367": 0,
         "368": 0,
         "369": 0,
         "370": 0,
         "371": 0,
         "372": 0,
         "373": 0,
         "374": 0,
         "375": 0,
         "376": 0,
         "377": 0,
         "378": 0.19337709268213218,
         "379": 0,
         "380": 0,
         "381": 0,
         "382": 0,
         "383": 0.42247231515444966,
         "384": 0,
         "385": 0,
         "386": 0.06342556136075987,
         "387": 0,
         "388": 0,
         "389": 0,
         "390": 0,
         "391": 0,
         "392": 0,
         "393": 0,
         "394": 0,
         "395": 0,
         "396": 0,
         "397": 0,
         "398": 0,
         "399": 0,
         "400": 0,
         "401": 0,
         "402": 0,
         "403": 0,
         "404": 0,
         "405": 0,
         "406": 0,
         "407": 0,
         "408": 0,
         "409": 0,
         "410": 0,
         "411": 0,
         "412": 0,
         "413": 0,
         "414": 0,
         "415": 0,
         "416": 0,
         "417": 0,
         "418": 0,
         "419": 0.17901858876994475,
         "420": 0,
         "421": 0,
         "422": 0,
         "423": 0,
         "424": 0,
         "425": 0,
         "426": 0,
         "427": 0.09021287378457742,
         "428": 0,
         "429": 0,
         "430": 0,
         "431": 0,
         "432": 0,
         "433": 0,
         "434": 0,
         "435": 0,
         "436": 0,
         "437": 0,
         "438": 0.08974163778229219,
         "439": 0,
         "440": 0,
         "441": 0,
         "442": 0.17139432893471576,
         "443": 0,
         "444": 0,
         "445": 0,
         "446": 0,
         "447": 0,
         "448": 0,
         "449": 0,
         "450": 0,
         "451": 0,
         "452": 0,
         "453": 0,
         "454": 0,
         "455": 0,
         "456": 0,
         "457": 0,
         "458": 0,
         "459": 0,
         "460": 0,
         "461": 0,
         "462": 0,
         "463": 0,
         "464": 0,
         "465": 0,
         "466": 0,
         "467": 0,
         "468": 0,
         "469": 0,
         "470": 0,
         "471": 0,
         "472": 0,
         "473": 0,
         "474": 0,
         "475": 0,
         "476": 0,
         "477": 0,
         "478": 0,
         "479": 0,
         "480": 0,
         "481": 0,
         "482": 0,
         "483": 0,
         "484": 0,
         "485": 0,
         "486": 0,
         "487": 0,
         "488": 0,
         "489": 0,
         "490": 0,
         "491": 0,
         "492": 0,
         "493": 0,
         "494": 0,
         "495": 0,
         "496": 0.10939569774949214,
         "497": 0,
         "498": 0,
         "499": 0,
         "_deepnote_index_column": 7
        },
        {
         "0": 0,
         "1": 0,
         "2": 0,
         "3": 0,
         "4": 0,
         "5": 0,
         "6": 0,
         "7": 0,
         "8": 0,
         "9": 0,
         "10": 0,
         "11": 0,
         "12": 0,
         "13": 0,
         "14": 0,
         "15": 0,
         "16": 0,
         "17": 0,
         "18": 0,
         "19": 0,
         "20": 0,
         "21": 0,
         "22": 0,
         "23": 0,
         "24": 0,
         "25": 0,
         "26": 0,
         "27": 0,
         "28": 0,
         "29": 0,
         "30": 0,
         "31": 0,
         "32": 0,
         "33": 0,
         "34": 0,
         "35": 0,
         "36": 0,
         "37": 0,
         "38": 0,
         "39": 0,
         "40": 0,
         "41": 0.44828726599628876,
         "42": 0,
         "43": 0,
         "44": 0,
         "45": 0,
         "46": 0,
         "47": 0,
         "48": 0,
         "49": 0,
         "50": 0,
         "51": 0,
         "52": 0,
         "53": 0,
         "54": 0,
         "55": 0,
         "56": 0,
         "57": 0,
         "58": 0,
         "59": 0.03952851993283437,
         "60": 0,
         "61": 0,
         "62": 0,
         "63": 0,
         "64": 0,
         "65": 0,
         "66": 0,
         "67": 0,
         "68": 0,
         "69": 0,
         "70": 0,
         "71": 0,
         "72": 0,
         "73": 0,
         "74": 0,
         "75": 0,
         "76": 0,
         "77": 0,
         "78": 0,
         "79": 0,
         "80": 0,
         "81": 0,
         "82": 0.14156401917740083,
         "83": 0,
         "84": 0.04325837634602873,
         "85": 0,
         "86": 0,
         "87": 0,
         "88": 0,
         "89": 0,
         "90": 0,
         "91": 0,
         "92": 0,
         "93": 0,
         "94": 0,
         "95": 0,
         "96": 0,
         "97": 0,
         "98": 0,
         "99": 0,
         "100": 0,
         "101": 0,
         "102": 0,
         "103": 0,
         "104": 0,
         "105": 0,
         "106": 0,
         "107": 0,
         "108": 0,
         "109": 0,
         "110": 0,
         "111": 0,
         "112": 0,
         "113": 0,
         "114": 0,
         "115": 0,
         "116": 0,
         "117": 0,
         "118": 0,
         "119": 0,
         "120": 0,
         "121": 0,
         "122": 0,
         "123": 0,
         "124": 0,
         "125": 0,
         "126": 0,
         "127": 0,
         "128": 0,
         "129": 0.06404195158761211,
         "130": 0,
         "131": 0,
         "132": 0,
         "133": 0,
         "134": 0,
         "135": 0,
         "136": 0,
         "137": 0,
         "138": 0,
         "139": 0,
         "140": 0,
         "141": 0,
         "142": 0,
         "143": 0,
         "144": 0,
         "145": 0,
         "146": 0,
         "147": 0,
         "148": 0,
         "149": 0,
         "150": 0,
         "151": 0,
         "152": 0,
         "153": 0,
         "154": 0,
         "155": 0,
         "156": 0,
         "157": 0,
         "158": 0,
         "159": 0,
         "160": 0,
         "161": 0,
         "162": 0,
         "163": 0,
         "164": 0,
         "165": 0,
         "166": 0,
         "167": 0,
         "168": 0,
         "169": 0,
         "170": 0,
         "171": 0,
         "172": 0,
         "173": 0,
         "174": 0,
         "175": 0,
         "176": 0,
         "177": 0,
         "178": 0,
         "179": 0,
         "180": 0,
         "181": 0,
         "182": 0,
         "183": 0,
         "184": 0,
         "185": 0,
         "186": 0,
         "187": 0,
         "188": 0,
         "189": 0,
         "190": 0,
         "191": 0,
         "192": 0,
         "193": 0,
         "194": 0,
         "195": 0,
         "196": 0,
         "197": 0,
         "198": 0,
         "199": 0,
         "200": 0,
         "201": 0,
         "202": 0,
         "203": 0,
         "204": 0,
         "205": 0,
         "206": 0,
         "207": 0,
         "208": 0,
         "209": 0,
         "210": 0,
         "211": 0,
         "212": 0,
         "213": 0,
         "214": 0,
         "215": 0,
         "216": 0,
         "217": 0,
         "218": 0,
         "219": 0,
         "220": 0,
         "221": 0,
         "222": 0,
         "223": 0,
         "224": 0,
         "225": 0,
         "226": 0,
         "227": 0,
         "228": 0,
         "229": 0,
         "230": 0,
         "231": 0,
         "232": 0,
         "233": 0,
         "234": 0,
         "235": 0,
         "236": 0,
         "237": 0,
         "238": 0,
         "239": 0,
         "240": 0,
         "241": 0,
         "242": 0.06149043740760501,
         "243": 0,
         "244": 0,
         "245": 0.05788923568739564,
         "246": 0,
         "247": 0.13774862939431456,
         "248": 0,
         "249": 0,
         "250": 0,
         "251": 0,
         "252": 0,
         "253": 0,
         "254": 0,
         "255": 0,
         "256": 0,
         "257": 0,
         "258": 0,
         "259": 0,
         "260": 0,
         "261": 0,
         "262": 0,
         "263": 0,
         "264": 0,
         "265": 0,
         "266": 0,
         "267": 0,
         "268": 0,
         "269": 0,
         "270": 0,
         "271": 0,
         "272": 0,
         "273": 0,
         "274": 0,
         "275": 0,
         "276": 0,
         "277": 0,
         "278": 0,
         "279": 0,
         "280": 0,
         "281": 0,
         "282": 0,
         "283": 0,
         "284": 0,
         "285": 0,
         "286": 0,
         "287": 0,
         "288": 0,
         "289": 0,
         "290": 0,
         "291": 0,
         "292": 0,
         "293": 0,
         "294": 0,
         "295": 0,
         "296": 0,
         "297": 0,
         "298": 0,
         "299": 0,
         "300": 0,
         "301": 0,
         "302": 0,
         "303": 0,
         "304": 0,
         "305": 0,
         "306": 0,
         "307": 0,
         "308": 0,
         "309": 0,
         "310": 0,
         "311": 0,
         "312": 0,
         "313": 0,
         "314": 0,
         "315": 0,
         "316": 0,
         "317": 0,
         "318": 0,
         "319": 0,
         "320": 0,
         "321": 0,
         "322": 0.11243627784375826,
         "323": 0,
         "324": 0,
         "325": 0,
         "326": 0,
         "327": 0,
         "328": 0,
         "329": 0,
         "330": 0,
         "331": 0,
         "332": 0,
         "333": 0.2726163915658294,
         "334": 0,
         "335": 0,
         "336": 0,
         "337": 0,
         "338": 0,
         "339": 0,
         "340": 0,
         "341": 0,
         "342": 0,
         "343": 0,
         "344": 0,
         "345": 0,
         "346": 0,
         "347": 0,
         "348": 0,
         "349": 0,
         "350": 0,
         "351": 0,
         "352": 0,
         "353": 0,
         "354": 0,
         "355": 0,
         "356": 0,
         "357": 0,
         "358": 0,
         "359": 0,
         "360": 0,
         "361": 0,
         "362": 0,
         "363": 0,
         "364": 0,
         "365": 0,
         "366": 0,
         "367": 0,
         "368": 0,
         "369": 0,
         "370": 0.19826001485267167,
         "371": 0,
         "372": 0,
         "373": 0,
         "374": 0,
         "375": 0,
         "376": 0,
         "377": 0,
         "378": 0,
         "379": 0,
         "380": 0,
         "381": 0,
         "382": 0,
         "383": 0.04211239764020888,
         "384": 0.07693757194109793,
         "385": 0,
         "386": 0,
         "387": 0,
         "388": 0,
         "389": 0,
         "390": 0,
         "391": 0,
         "392": 0,
         "393": 0,
         "394": 0,
         "395": 0,
         "396": 0,
         "397": 0,
         "398": 0,
         "399": 0,
         "400": 0,
         "401": 0,
         "402": 0,
         "403": 0,
         "404": 0,
         "405": 0,
         "406": 0,
         "407": 0,
         "408": 0,
         "409": 0,
         "410": 0,
         "411": 0,
         "412": 0,
         "413": 0,
         "414": 0,
         "415": 0,
         "416": 0,
         "417": 0,
         "418": 0.08796481512408802,
         "419": 0,
         "420": 0,
         "421": 0,
         "422": 0.11786022257271511,
         "423": 0,
         "424": 0,
         "425": 0,
         "426": 0,
         "427": 0,
         "428": 0,
         "429": 0,
         "430": 0.1403929763212807,
         "431": 0,
         "432": 0,
         "433": 0,
         "434": 0,
         "435": 0,
         "436": 0,
         "437": 0,
         "438": 0,
         "439": 0,
         "440": 0,
         "441": 0,
         "442": 0,
         "443": 0,
         "444": 0,
         "445": 0,
         "446": 0,
         "447": 0,
         "448": 0,
         "449": 0,
         "450": 0,
         "451": 0,
         "452": 0,
         "453": 0,
         "454": 0,
         "455": 0,
         "456": 0,
         "457": 0,
         "458": 0,
         "459": 0,
         "460": 0,
         "461": 0,
         "462": 0,
         "463": 0,
         "464": 0,
         "465": 0,
         "466": 0,
         "467": 0,
         "468": 0,
         "469": 0,
         "470": 0,
         "471": 0,
         "472": 0,
         "473": 0,
         "474": 0,
         "475": 0.4024985842267539,
         "476": 0,
         "477": 0,
         "478": 0,
         "479": 0,
         "480": 0,
         "481": 0,
         "482": 0,
         "483": 0,
         "484": 0,
         "485": 0,
         "486": 0,
         "487": 0,
         "488": 0,
         "489": 0,
         "490": 0,
         "491": 0,
         "492": 0,
         "493": 0,
         "494": 0.057813404973046593,
         "495": 0,
         "496": 0,
         "497": 0,
         "498": 0,
         "499": 0,
         "_deepnote_index_column": 8
        },
        {
         "0": 0,
         "1": 0,
         "2": 0,
         "3": 0,
         "4": 0,
         "5": 0,
         "6": 0,
         "7": 0,
         "8": 0,
         "9": 0,
         "10": 0,
         "11": 0,
         "12": 0,
         "13": 0,
         "14": 0,
         "15": 0,
         "16": 0,
         "17": 0,
         "18": 0,
         "19": 0,
         "20": 0,
         "21": 0,
         "22": 0,
         "23": 0,
         "24": 0,
         "25": 0,
         "26": 0,
         "27": 0,
         "28": 0,
         "29": 0,
         "30": 0,
         "31": 0,
         "32": 0,
         "33": 0,
         "34": 0,
         "35": 0,
         "36": 0,
         "37": 0,
         "38": 0,
         "39": 0,
         "40": 0,
         "41": 0,
         "42": 0,
         "43": 0,
         "44": 0,
         "45": 0,
         "46": 0,
         "47": 0,
         "48": 0,
         "49": 0,
         "50": 0,
         "51": 0,
         "52": 0,
         "53": 0,
         "54": 0,
         "55": 0,
         "56": 0,
         "57": 0,
         "58": 0,
         "59": 0,
         "60": 0,
         "61": 0,
         "62": 0,
         "63": 0,
         "64": 0,
         "65": 0,
         "66": 0,
         "67": 0,
         "68": 0,
         "69": 0,
         "70": 0,
         "71": 0,
         "72": 0,
         "73": 0,
         "74": 0,
         "75": 0,
         "76": 0,
         "77": 0,
         "78": 0,
         "79": 0,
         "80": 0.0217029779416116,
         "81": 0,
         "82": 0,
         "83": 0,
         "84": 0,
         "85": 0,
         "86": 0,
         "87": 0,
         "88": 0,
         "89": 0,
         "90": 0,
         "91": 0,
         "92": 0,
         "93": 0,
         "94": 0,
         "95": 0,
         "96": 0,
         "97": 0,
         "98": 0,
         "99": 0,
         "100": 0,
         "101": 0,
         "102": 0,
         "103": 0,
         "104": 0,
         "105": 0,
         "106": 0,
         "107": 0,
         "108": 0,
         "109": 0,
         "110": 0,
         "111": 0,
         "112": 0,
         "113": 0,
         "114": 0,
         "115": 0,
         "116": 0,
         "117": 0,
         "118": 0,
         "119": 0,
         "120": 0,
         "121": 0,
         "122": 0,
         "123": 0,
         "124": 0,
         "125": 0,
         "126": 0,
         "127": 0,
         "128": 0,
         "129": 0,
         "130": 0,
         "131": 0,
         "132": 0,
         "133": 0,
         "134": 0,
         "135": 0,
         "136": 0,
         "137": 0,
         "138": 0,
         "139": 0,
         "140": 0,
         "141": 0,
         "142": 0,
         "143": 0,
         "144": 0,
         "145": 0,
         "146": 0,
         "147": 0,
         "148": 0,
         "149": 0,
         "150": 0.030701515320064196,
         "151": 0,
         "152": 0,
         "153": 0,
         "154": 0,
         "155": 0,
         "156": 0,
         "157": 0,
         "158": 0,
         "159": 0,
         "160": 0,
         "161": 0,
         "162": 0,
         "163": 0,
         "164": 0,
         "165": 0,
         "166": 0,
         "167": 0,
         "168": 0,
         "169": 0,
         "170": 0,
         "171": 0,
         "172": 0,
         "173": 0.0053981863934553995,
         "174": 0,
         "175": 0,
         "176": 0,
         "177": 0,
         "178": 0,
         "179": 0,
         "180": 0,
         "181": 0,
         "182": 0,
         "183": 0,
         "184": 0,
         "185": 0,
         "186": 0,
         "187": 0,
         "188": 0,
         "189": 0,
         "190": 0,
         "191": 0,
         "192": 0,
         "193": 0,
         "194": 0,
         "195": 0,
         "196": 0,
         "197": 0,
         "198": 0,
         "199": 0,
         "200": 0,
         "201": 0,
         "202": 0,
         "203": 0,
         "204": 0,
         "205": 0,
         "206": 0,
         "207": 0,
         "208": 0,
         "209": 0,
         "210": 0,
         "211": 0,
         "212": 0.014543770783657874,
         "213": 0,
         "214": 0,
         "215": 0,
         "216": 0,
         "217": 0,
         "218": 0,
         "219": 0,
         "220": 0,
         "221": 0,
         "222": 0,
         "223": 0,
         "224": 0,
         "225": 0,
         "226": 0,
         "227": 0,
         "228": 0,
         "229": 0,
         "230": 0.020313970714736704,
         "231": 0,
         "232": 0,
         "233": 0,
         "234": 0,
         "235": 0,
         "236": 0,
         "237": 0,
         "238": 0,
         "239": 0,
         "240": 0,
         "241": 0,
         "242": 0,
         "243": 0,
         "244": 0,
         "245": 0,
         "246": 0,
         "247": 0.012367759226274555,
         "248": 0,
         "249": 0,
         "250": 0,
         "251": 0,
         "252": 0,
         "253": 0,
         "254": 0,
         "255": 0,
         "256": 0.0884306045287892,
         "257": 0,
         "258": 0,
         "259": 0,
         "260": 0,
         "261": 0,
         "262": 0,
         "263": 0,
         "264": 0,
         "265": 0,
         "266": 0,
         "267": 0,
         "268": 0,
         "269": 0,
         "270": 0,
         "271": 0,
         "272": 0,
         "273": 0,
         "274": 0,
         "275": 0,
         "276": 0,
         "277": 0,
         "278": 0,
         "279": 0,
         "280": 0,
         "281": 0,
         "282": 0,
         "283": 0,
         "284": 0,
         "285": 0,
         "286": 0,
         "287": 0,
         "288": 0,
         "289": 0,
         "290": 0,
         "291": 0,
         "292": 0,
         "293": 0,
         "294": 0,
         "295": 0,
         "296": 0,
         "297": 0,
         "298": 0,
         "299": 0,
         "300": 0,
         "301": 0,
         "302": 0,
         "303": 0,
         "304": 0,
         "305": 0,
         "306": 0,
         "307": 0,
         "308": 0,
         "309": 0,
         "310": 0,
         "311": 0,
         "312": 0,
         "313": 0,
         "314": 0,
         "315": 0,
         "316": 0,
         "317": 0,
         "318": 0,
         "319": 0,
         "320": 0,
         "321": 0,
         "322": 0,
         "323": 0,
         "324": 0,
         "325": 0,
         "326": 0,
         "327": 0,
         "328": 0,
         "329": 0,
         "330": 0,
         "331": 0,
         "332": 0,
         "333": 0,
         "334": 0,
         "335": 0,
         "336": 0,
         "337": 0,
         "338": 0,
         "339": 0,
         "340": 0,
         "341": 0,
         "342": 0,
         "343": 0,
         "344": 0,
         "345": 0,
         "346": 0,
         "347": 0,
         "348": 0,
         "349": 0,
         "350": 0,
         "351": 0,
         "352": 0,
         "353": 0,
         "354": 0,
         "355": 0,
         "356": 0,
         "357": 0,
         "358": 0,
         "359": 0,
         "360": 0,
         "361": 0,
         "362": 0,
         "363": 0,
         "364": 0,
         "365": 0,
         "366": 0,
         "367": 0,
         "368": 0,
         "369": 0,
         "370": 0.01186718221772093,
         "371": 0,
         "372": 0,
         "373": 0,
         "374": 0,
         "375": 0,
         "376": 0,
         "377": 0,
         "378": 0,
         "379": 0,
         "380": 0,
         "381": 0,
         "382": 0,
         "383": 0,
         "384": 0,
         "385": 0,
         "386": 0.014191221467955744,
         "387": 0,
         "388": 0,
         "389": 0,
         "390": 0,
         "391": 0,
         "392": 0,
         "393": 0,
         "394": 0,
         "395": 0,
         "396": 0,
         "397": 0,
         "398": 0,
         "399": 0,
         "400": 0,
         "401": 0,
         "402": 0,
         "403": 0,
         "404": 0,
         "405": 0,
         "406": 0,
         "407": 0,
         "408": 0.0070955059725448305,
         "409": 0,
         "410": 0,
         "411": 0,
         "412": 0,
         "413": 0,
         "414": 0,
         "415": 0,
         "416": 0,
         "417": 0,
         "418": 0,
         "419": 0,
         "420": 0,
         "421": 0,
         "422": 0,
         "423": 0,
         "424": 0,
         "425": 0,
         "426": 0,
         "427": 0,
         "428": 0,
         "429": 0,
         "430": 0,
         "431": 0,
         "432": 0,
         "433": 0,
         "434": 0,
         "435": 0,
         "436": 0,
         "437": 0,
         "438": 0,
         "439": 0,
         "440": 0,
         "441": 0,
         "442": 0,
         "443": 0,
         "444": 0,
         "445": 0,
         "446": 0,
         "447": 0,
         "448": 0,
         "449": 0,
         "450": 0,
         "451": 0,
         "452": 0,
         "453": 0,
         "454": 0,
         "455": 0,
         "456": 0,
         "457": 0,
         "458": 0,
         "459": 0,
         "460": 0,
         "461": 0,
         "462": 0,
         "463": 0,
         "464": 0,
         "465": 0,
         "466": 0,
         "467": 0,
         "468": 0,
         "469": 0,
         "470": 0,
         "471": 0,
         "472": 0,
         "473": 0,
         "474": 0,
         "475": 0.06453273412023543,
         "476": 0,
         "477": 0,
         "478": 0,
         "479": 0,
         "480": 0,
         "481": 0,
         "482": 0,
         "483": 0,
         "484": 0,
         "485": 0,
         "486": 0.024903873158647713,
         "487": 0,
         "488": 0,
         "489": 0,
         "490": 0,
         "491": 0,
         "492": 0,
         "493": 0,
         "494": 0.004325646625921202,
         "495": 0,
         "496": 0,
         "497": 0,
         "498": 0,
         "499": 0,
         "_deepnote_index_column": 9
        }
       ]
      },
      "text/plain": "        0    1    2    3    4    5    6    7    8    9  ...     1059  \\\n0     0.0  0.0  0.0  0.0  0.0  0.0  0.0  0.0  0.0  0.0  ...  0.00000   \n1     0.0  0.0  0.0  0.0  0.0  0.0  0.0  0.0  0.0  0.0  ...  0.00000   \n2     0.0  0.0  0.0  0.0  0.0  0.0  0.0  0.0  0.0  0.0  ...  0.00000   \n3     0.0  0.0  0.0  0.0  0.0  0.0  0.0  0.0  0.0  0.0  ...  0.00000   \n4     0.0  0.0  0.0  0.0  0.0  0.0  0.0  0.0  0.0  0.0  ...  0.00000   \n...   ...  ...  ...  ...  ...  ...  ...  ...  ...  ...  ...      ...   \n7045  0.0  0.0  0.0  0.0  0.0  0.0  0.0  0.0  0.0  0.0  ...  0.00000   \n7046  0.0  0.0  0.0  0.0  0.0  0.0  0.0  0.0  0.0  0.0  ...  0.07352   \n7047  0.0  0.0  0.0  0.0  0.0  0.0  0.0  0.0  0.0  0.0  ...  0.00000   \n7048  0.0  0.0  0.0  0.0  0.0  0.0  0.0  0.0  0.0  0.0  ...  0.00000   \n7049  0.0  0.0  0.0  0.0  0.0  0.0  0.0  0.0  0.0  0.0  ...  0.00000   \n\n          1060  1061  1062  1063      1064      1065  1066  1067     genre  \n0     0.000000   0.0   0.0   0.0  0.000000  0.000000   0.0   0.0  alt-rock  \n1     0.000000   0.0   0.0   0.0  0.000000  0.094551   0.0   0.0  alt-rock  \n2     0.000000   0.0   0.0   0.0  0.000000  0.000000   0.0   0.0  alt-rock  \n3     0.000000   0.0   0.0   0.0  0.000000  0.000000   0.0   0.0  alt-rock  \n4     0.000000   0.0   0.0   0.0  0.000000  0.000000   0.0   0.0  alt-rock  \n...        ...   ...   ...   ...       ...       ...   ...   ...       ...  \n7045  0.000000   0.0   0.0   0.0  0.045228  0.000000   0.0   0.0     latin  \n7046  0.141508   0.0   0.0   0.0  0.000000  0.000000   0.0   0.0     latin  \n7047  0.000000   0.0   0.0   0.0  0.205837  0.000000   0.0   0.0     latin  \n7048  0.000000   0.0   0.0   0.0  0.254618  0.000000   0.0   0.0     latin  \n7049  0.000000   0.0   0.0   0.0  0.208588  0.000000   0.0   0.0     latin  \n\n[7050 rows x 1069 columns]",
      "text/html": "<div>\n<style scoped>\n    .dataframe tbody tr th:only-of-type {\n        vertical-align: middle;\n    }\n\n    .dataframe tbody tr th {\n        vertical-align: top;\n    }\n\n    .dataframe thead th {\n        text-align: right;\n    }\n</style>\n<table border=\"1\" class=\"dataframe\">\n  <thead>\n    <tr style=\"text-align: right;\">\n      <th></th>\n      <th>0</th>\n      <th>1</th>\n      <th>2</th>\n      <th>3</th>\n      <th>4</th>\n      <th>5</th>\n      <th>6</th>\n      <th>7</th>\n      <th>8</th>\n      <th>9</th>\n      <th>...</th>\n      <th>1059</th>\n      <th>1060</th>\n      <th>1061</th>\n      <th>1062</th>\n      <th>1063</th>\n      <th>1064</th>\n      <th>1065</th>\n      <th>1066</th>\n      <th>1067</th>\n      <th>genre</th>\n    </tr>\n  </thead>\n  <tbody>\n    <tr>\n      <th>0</th>\n      <td>0.0</td>\n      <td>0.0</td>\n      <td>0.0</td>\n      <td>0.0</td>\n      <td>0.0</td>\n      <td>0.0</td>\n      <td>0.0</td>\n      <td>0.0</td>\n      <td>0.0</td>\n      <td>0.0</td>\n      <td>...</td>\n      <td>0.00000</td>\n      <td>0.000000</td>\n      <td>0.0</td>\n      <td>0.0</td>\n      <td>0.0</td>\n      <td>0.000000</td>\n      <td>0.000000</td>\n      <td>0.0</td>\n      <td>0.0</td>\n      <td>alt-rock</td>\n    </tr>\n    <tr>\n      <th>1</th>\n      <td>0.0</td>\n      <td>0.0</td>\n      <td>0.0</td>\n      <td>0.0</td>\n      <td>0.0</td>\n      <td>0.0</td>\n      <td>0.0</td>\n      <td>0.0</td>\n      <td>0.0</td>\n      <td>0.0</td>\n      <td>...</td>\n      <td>0.00000</td>\n      <td>0.000000</td>\n      <td>0.0</td>\n      <td>0.0</td>\n      <td>0.0</td>\n      <td>0.000000</td>\n      <td>0.094551</td>\n      <td>0.0</td>\n      <td>0.0</td>\n      <td>alt-rock</td>\n    </tr>\n    <tr>\n      <th>2</th>\n      <td>0.0</td>\n      <td>0.0</td>\n      <td>0.0</td>\n      <td>0.0</td>\n      <td>0.0</td>\n      <td>0.0</td>\n      <td>0.0</td>\n      <td>0.0</td>\n      <td>0.0</td>\n      <td>0.0</td>\n      <td>...</td>\n      <td>0.00000</td>\n      <td>0.000000</td>\n      <td>0.0</td>\n      <td>0.0</td>\n      <td>0.0</td>\n      <td>0.000000</td>\n      <td>0.000000</td>\n      <td>0.0</td>\n      <td>0.0</td>\n      <td>alt-rock</td>\n    </tr>\n    <tr>\n      <th>3</th>\n      <td>0.0</td>\n      <td>0.0</td>\n      <td>0.0</td>\n      <td>0.0</td>\n      <td>0.0</td>\n      <td>0.0</td>\n      <td>0.0</td>\n      <td>0.0</td>\n      <td>0.0</td>\n      <td>0.0</td>\n      <td>...</td>\n      <td>0.00000</td>\n      <td>0.000000</td>\n      <td>0.0</td>\n      <td>0.0</td>\n      <td>0.0</td>\n      <td>0.000000</td>\n      <td>0.000000</td>\n      <td>0.0</td>\n      <td>0.0</td>\n      <td>alt-rock</td>\n    </tr>\n    <tr>\n      <th>4</th>\n      <td>0.0</td>\n      <td>0.0</td>\n      <td>0.0</td>\n      <td>0.0</td>\n      <td>0.0</td>\n      <td>0.0</td>\n      <td>0.0</td>\n      <td>0.0</td>\n      <td>0.0</td>\n      <td>0.0</td>\n      <td>...</td>\n      <td>0.00000</td>\n      <td>0.000000</td>\n      <td>0.0</td>\n      <td>0.0</td>\n      <td>0.0</td>\n      <td>0.000000</td>\n      <td>0.000000</td>\n      <td>0.0</td>\n      <td>0.0</td>\n      <td>alt-rock</td>\n    </tr>\n    <tr>\n      <th>...</th>\n      <td>...</td>\n      <td>...</td>\n      <td>...</td>\n      <td>...</td>\n      <td>...</td>\n      <td>...</td>\n      <td>...</td>\n      <td>...</td>\n      <td>...</td>\n      <td>...</td>\n      <td>...</td>\n      <td>...</td>\n      <td>...</td>\n      <td>...</td>\n      <td>...</td>\n      <td>...</td>\n      <td>...</td>\n      <td>...</td>\n      <td>...</td>\n      <td>...</td>\n      <td>...</td>\n    </tr>\n    <tr>\n      <th>7045</th>\n      <td>0.0</td>\n      <td>0.0</td>\n      <td>0.0</td>\n      <td>0.0</td>\n      <td>0.0</td>\n      <td>0.0</td>\n      <td>0.0</td>\n      <td>0.0</td>\n      <td>0.0</td>\n      <td>0.0</td>\n      <td>...</td>\n      <td>0.00000</td>\n      <td>0.000000</td>\n      <td>0.0</td>\n      <td>0.0</td>\n      <td>0.0</td>\n      <td>0.045228</td>\n      <td>0.000000</td>\n      <td>0.0</td>\n      <td>0.0</td>\n      <td>latin</td>\n    </tr>\n    <tr>\n      <th>7046</th>\n      <td>0.0</td>\n      <td>0.0</td>\n      <td>0.0</td>\n      <td>0.0</td>\n      <td>0.0</td>\n      <td>0.0</td>\n      <td>0.0</td>\n      <td>0.0</td>\n      <td>0.0</td>\n      <td>0.0</td>\n      <td>...</td>\n      <td>0.07352</td>\n      <td>0.141508</td>\n      <td>0.0</td>\n      <td>0.0</td>\n      <td>0.0</td>\n      <td>0.000000</td>\n      <td>0.000000</td>\n      <td>0.0</td>\n      <td>0.0</td>\n      <td>latin</td>\n    </tr>\n    <tr>\n      <th>7047</th>\n      <td>0.0</td>\n      <td>0.0</td>\n      <td>0.0</td>\n      <td>0.0</td>\n      <td>0.0</td>\n      <td>0.0</td>\n      <td>0.0</td>\n      <td>0.0</td>\n      <td>0.0</td>\n      <td>0.0</td>\n      <td>...</td>\n      <td>0.00000</td>\n      <td>0.000000</td>\n      <td>0.0</td>\n      <td>0.0</td>\n      <td>0.0</td>\n      <td>0.205837</td>\n      <td>0.000000</td>\n      <td>0.0</td>\n      <td>0.0</td>\n      <td>latin</td>\n    </tr>\n    <tr>\n      <th>7048</th>\n      <td>0.0</td>\n      <td>0.0</td>\n      <td>0.0</td>\n      <td>0.0</td>\n      <td>0.0</td>\n      <td>0.0</td>\n      <td>0.0</td>\n      <td>0.0</td>\n      <td>0.0</td>\n      <td>0.0</td>\n      <td>...</td>\n      <td>0.00000</td>\n      <td>0.000000</td>\n      <td>0.0</td>\n      <td>0.0</td>\n      <td>0.0</td>\n      <td>0.254618</td>\n      <td>0.000000</td>\n      <td>0.0</td>\n      <td>0.0</td>\n      <td>latin</td>\n    </tr>\n    <tr>\n      <th>7049</th>\n      <td>0.0</td>\n      <td>0.0</td>\n      <td>0.0</td>\n      <td>0.0</td>\n      <td>0.0</td>\n      <td>0.0</td>\n      <td>0.0</td>\n      <td>0.0</td>\n      <td>0.0</td>\n      <td>0.0</td>\n      <td>...</td>\n      <td>0.00000</td>\n      <td>0.000000</td>\n      <td>0.0</td>\n      <td>0.0</td>\n      <td>0.0</td>\n      <td>0.208588</td>\n      <td>0.000000</td>\n      <td>0.0</td>\n      <td>0.0</td>\n      <td>latin</td>\n    </tr>\n  </tbody>\n</table>\n<p>7050 rows × 1069 columns</p>\n</div>"
     },
     "metadata": {}
    }
   ]
  },
  {
   "cell_type": "code",
   "metadata": {
    "cell_id": "02f142fb2056450298d1cc0d9d13e2f6",
    "tags": [],
    "deepnote_to_be_reexecuted": false,
    "source_hash": "a8aa9536",
    "execution_start": 1653065788494,
    "execution_millis": 149708,
    "owner_user_id": "cfcd2942-01a4-4c3a-82bd-b3edb2344fb4",
    "deepnote_cell_type": "code",
    "deepnote_cell_height": 333.1875,
    "deepnote_output_heights": [
     null,
     83
    ]
   },
   "source": "s = setup(y, target = 'genre')",
   "execution_count": null,
   "outputs": [
    {
     "data": {
      "text/plain": "IntProgress(value=0, description='Processing: ', max=3)",
      "application/vnd.jupyter.widget-view+json": {
       "version_major": 2,
       "version_minor": 0,
       "model_id": "7f3208103aa84897930385db5b1629cb"
      }
     },
     "metadata": {},
     "output_type": "display_data"
    },
    {
     "data": {
      "text/plain": "                                                                    \n                                                                    \nInitiated  . . . . . . . . . . . . . . . . . .              16:56:28\nStatus     . . . . . . . . . . . . . . . . . .  Loading Dependencies",
      "text/html": "<div>\n<style scoped>\n    .dataframe tbody tr th:only-of-type {\n        vertical-align: middle;\n    }\n\n    .dataframe tbody tr th {\n        vertical-align: top;\n    }\n\n    .dataframe thead th {\n        text-align: right;\n    }\n</style>\n<table border=\"1\" class=\"dataframe\">\n  <thead>\n    <tr style=\"text-align: right;\">\n      <th></th>\n      <th></th>\n      <th></th>\n    </tr>\n    <tr>\n      <th></th>\n      <th></th>\n      <th></th>\n    </tr>\n  </thead>\n  <tbody>\n    <tr>\n      <th>Initiated</th>\n      <td>. . . . . . . . . . . . . . . . . .</td>\n      <td>16:56:28</td>\n    </tr>\n    <tr>\n      <th>Status</th>\n      <td>. . . . . . . . . . . . . . . . . .</td>\n      <td>Loading Dependencies</td>\n    </tr>\n  </tbody>\n</table>\n</div>"
     },
     "metadata": {},
     "output_type": "display_data"
    },
    {
     "output_type": "error",
     "ename": "AttributeError",
     "evalue": "'numpy.float32' object has no attribute 'is_integer'",
     "traceback": [
      "\u001b[0;31m---------------------------------------------------------------------------\u001b[0m",
      "\u001b[0;31mAttributeError\u001b[0m                            Traceback (most recent call last)",
      "\u001b[0;32m<ipython-input-52-ff2dafad8e8f>\u001b[0m in \u001b[0;36m<module>\u001b[0;34m\u001b[0m\n\u001b[0;32m----> 1\u001b[0;31m \u001b[0ms\u001b[0m \u001b[0;34m=\u001b[0m \u001b[0msetup\u001b[0m\u001b[0;34m(\u001b[0m\u001b[0my\u001b[0m\u001b[0;34m,\u001b[0m \u001b[0mtarget\u001b[0m \u001b[0;34m=\u001b[0m \u001b[0;34m'genre'\u001b[0m\u001b[0;34m)\u001b[0m\u001b[0;34m\u001b[0m\u001b[0;34m\u001b[0m\u001b[0m\n\u001b[0m",
      "\u001b[0;32m~/venv/lib/python3.7/site-packages/pycaret/classification.py\u001b[0m in \u001b[0;36msetup\u001b[0;34m(data, target, train_size, test_data, preprocess, imputation_type, iterative_imputation_iters, categorical_features, categorical_imputation, categorical_iterative_imputer, ordinal_features, high_cardinality_features, high_cardinality_method, numeric_features, numeric_imputation, numeric_iterative_imputer, date_features, ignore_features, normalize, normalize_method, transformation, transformation_method, handle_unknown_categorical, unknown_categorical_method, pca, pca_method, pca_components, ignore_low_variance, combine_rare_levels, rare_level_threshold, bin_numeric_features, remove_outliers, outliers_threshold, remove_multicollinearity, multicollinearity_threshold, remove_perfect_collinearity, create_clusters, cluster_iter, polynomial_features, polynomial_degree, trigonometry_features, polynomial_threshold, group_features, group_names, feature_selection, feature_selection_threshold, feature_selection_method, feature_interaction, feature_ratio, interaction_threshold, fix_imbalance, fix_imbalance_method, data_split_shuffle, data_split_stratify, fold_strategy, fold, fold_shuffle, fold_groups, n_jobs, use_gpu, custom_pipeline, html, session_id, log_experiment, experiment_name, experiment_custom_tags, log_plots, log_profile, log_data, silent, verbose, profile, profile_kwargs)\u001b[0m\n\u001b[1;32m    672\u001b[0m         \u001b[0mverbose\u001b[0m\u001b[0;34m=\u001b[0m\u001b[0mverbose\u001b[0m\u001b[0;34m,\u001b[0m\u001b[0;34m\u001b[0m\u001b[0;34m\u001b[0m\u001b[0m\n\u001b[1;32m    673\u001b[0m         \u001b[0mprofile\u001b[0m\u001b[0;34m=\u001b[0m\u001b[0mprofile\u001b[0m\u001b[0;34m,\u001b[0m\u001b[0;34m\u001b[0m\u001b[0;34m\u001b[0m\u001b[0m\n\u001b[0;32m--> 674\u001b[0;31m         \u001b[0mprofile_kwargs\u001b[0m\u001b[0;34m=\u001b[0m\u001b[0mprofile_kwargs\u001b[0m\u001b[0;34m,\u001b[0m\u001b[0;34m\u001b[0m\u001b[0;34m\u001b[0m\u001b[0m\n\u001b[0m\u001b[1;32m    675\u001b[0m     )\n\u001b[1;32m    676\u001b[0m \u001b[0;34m\u001b[0m\u001b[0m\n",
      "\u001b[0;32m~/venv/lib/python3.7/site-packages/pycaret/internal/tabular.py\u001b[0m in \u001b[0;36msetup\u001b[0;34m(data, target, ml_usecase, available_plots, train_size, test_data, preprocess, imputation_type, iterative_imputation_iters, categorical_features, categorical_imputation, categorical_iterative_imputer, ordinal_features, high_cardinality_features, high_cardinality_method, numeric_features, numeric_imputation, numeric_iterative_imputer, date_features, ignore_features, normalize, normalize_method, transformation, transformation_method, handle_unknown_categorical, unknown_categorical_method, pca, pca_method, pca_components, ignore_low_variance, combine_rare_levels, rare_level_threshold, bin_numeric_features, remove_outliers, outliers_threshold, remove_multicollinearity, multicollinearity_threshold, remove_perfect_collinearity, create_clusters, cluster_iter, polynomial_features, polynomial_degree, trigonometry_features, polynomial_threshold, group_features, group_names, feature_selection, feature_selection_threshold, feature_selection_method, feature_interaction, feature_ratio, interaction_threshold, fix_imbalance, fix_imbalance_method, transform_target, transform_target_method, data_split_shuffle, data_split_stratify, fold_strategy, fold, fold_shuffle, fold_groups, n_jobs, use_gpu, custom_pipeline, html, session_id, log_experiment, experiment_name, experiment_custom_tags, log_plots, log_profile, log_data, silent, verbose, profile, profile_kwargs, display)\u001b[0m\n\u001b[1;32m   1406\u001b[0m             \u001b[0mtest_data\u001b[0m \u001b[0;34m=\u001b[0m \u001b[0mpd\u001b[0m\u001b[0;34m.\u001b[0m\u001b[0mconcat\u001b[0m\u001b[0;34m(\u001b[0m\u001b[0;34m[\u001b[0m\u001b[0mX_test\u001b[0m\u001b[0;34m,\u001b[0m \u001b[0my_test\u001b[0m\u001b[0;34m]\u001b[0m\u001b[0;34m,\u001b[0m \u001b[0maxis\u001b[0m\u001b[0;34m=\u001b[0m\u001b[0;36m1\u001b[0m\u001b[0;34m)\u001b[0m\u001b[0;34m\u001b[0m\u001b[0;34m\u001b[0m\u001b[0m\n\u001b[1;32m   1407\u001b[0m \u001b[0;34m\u001b[0m\u001b[0m\n\u001b[0;32m-> 1408\u001b[0;31m         \u001b[0mtrain_data\u001b[0m \u001b[0;34m=\u001b[0m \u001b[0mprep_pipe\u001b[0m\u001b[0;34m.\u001b[0m\u001b[0mfit_transform\u001b[0m\u001b[0;34m(\u001b[0m\u001b[0mtrain_data\u001b[0m\u001b[0;34m)\u001b[0m\u001b[0;34m\u001b[0m\u001b[0;34m\u001b[0m\u001b[0m\n\u001b[0m\u001b[1;32m   1409\u001b[0m         \u001b[0;31m# workaround to also transform target\u001b[0m\u001b[0;34m\u001b[0m\u001b[0;34m\u001b[0m\u001b[0;34m\u001b[0m\u001b[0m\n\u001b[1;32m   1410\u001b[0m         \u001b[0mdtypes\u001b[0m\u001b[0;34m.\u001b[0m\u001b[0mfinal_training_columns\u001b[0m\u001b[0;34m.\u001b[0m\u001b[0mappend\u001b[0m\u001b[0;34m(\u001b[0m\u001b[0mtarget\u001b[0m\u001b[0;34m)\u001b[0m\u001b[0;34m\u001b[0m\u001b[0;34m\u001b[0m\u001b[0m\n",
      "\u001b[0;32m~/venv/lib/python3.7/site-packages/sklearn/pipeline.py\u001b[0m in \u001b[0;36mfit_transform\u001b[0;34m(self, X, y, **fit_params)\u001b[0m\n\u001b[1;32m    365\u001b[0m         \"\"\"\n\u001b[1;32m    366\u001b[0m         \u001b[0mfit_params_steps\u001b[0m \u001b[0;34m=\u001b[0m \u001b[0mself\u001b[0m\u001b[0;34m.\u001b[0m\u001b[0m_check_fit_params\u001b[0m\u001b[0;34m(\u001b[0m\u001b[0;34m**\u001b[0m\u001b[0mfit_params\u001b[0m\u001b[0;34m)\u001b[0m\u001b[0;34m\u001b[0m\u001b[0;34m\u001b[0m\u001b[0m\n\u001b[0;32m--> 367\u001b[0;31m         \u001b[0mXt\u001b[0m \u001b[0;34m=\u001b[0m \u001b[0mself\u001b[0m\u001b[0;34m.\u001b[0m\u001b[0m_fit\u001b[0m\u001b[0;34m(\u001b[0m\u001b[0mX\u001b[0m\u001b[0;34m,\u001b[0m \u001b[0my\u001b[0m\u001b[0;34m,\u001b[0m \u001b[0;34m**\u001b[0m\u001b[0mfit_params_steps\u001b[0m\u001b[0;34m)\u001b[0m\u001b[0;34m\u001b[0m\u001b[0;34m\u001b[0m\u001b[0m\n\u001b[0m\u001b[1;32m    368\u001b[0m \u001b[0;34m\u001b[0m\u001b[0m\n\u001b[1;32m    369\u001b[0m         \u001b[0mlast_step\u001b[0m \u001b[0;34m=\u001b[0m \u001b[0mself\u001b[0m\u001b[0;34m.\u001b[0m\u001b[0m_final_estimator\u001b[0m\u001b[0;34m\u001b[0m\u001b[0;34m\u001b[0m\u001b[0m\n",
      "\u001b[0;32m~/venv/lib/python3.7/site-packages/sklearn/pipeline.py\u001b[0m in \u001b[0;36m_fit\u001b[0;34m(self, X, y, **fit_params_steps)\u001b[0m\n\u001b[1;32m    294\u001b[0m                 \u001b[0mmessage_clsname\u001b[0m\u001b[0;34m=\u001b[0m\u001b[0;34m'Pipeline'\u001b[0m\u001b[0;34m,\u001b[0m\u001b[0;34m\u001b[0m\u001b[0;34m\u001b[0m\u001b[0m\n\u001b[1;32m    295\u001b[0m                 \u001b[0mmessage\u001b[0m\u001b[0;34m=\u001b[0m\u001b[0mself\u001b[0m\u001b[0;34m.\u001b[0m\u001b[0m_log_message\u001b[0m\u001b[0;34m(\u001b[0m\u001b[0mstep_idx\u001b[0m\u001b[0;34m)\u001b[0m\u001b[0;34m,\u001b[0m\u001b[0;34m\u001b[0m\u001b[0;34m\u001b[0m\u001b[0m\n\u001b[0;32m--> 296\u001b[0;31m                 **fit_params_steps[name])\n\u001b[0m\u001b[1;32m    297\u001b[0m             \u001b[0;31m# Replace the transformer of the step with the fitted\u001b[0m\u001b[0;34m\u001b[0m\u001b[0;34m\u001b[0m\u001b[0;34m\u001b[0m\u001b[0m\n\u001b[1;32m    298\u001b[0m             \u001b[0;31m# transformer. This is necessary when loading the transformer\u001b[0m\u001b[0;34m\u001b[0m\u001b[0;34m\u001b[0m\u001b[0;34m\u001b[0m\u001b[0m\n",
      "\u001b[0;32m/shared-libs/python3.7/py/lib/python3.7/site-packages/joblib/memory.py\u001b[0m in \u001b[0;36m__call__\u001b[0;34m(self, *args, **kwargs)\u001b[0m\n\u001b[1;32m    347\u001b[0m \u001b[0;34m\u001b[0m\u001b[0m\n\u001b[1;32m    348\u001b[0m     \u001b[0;32mdef\u001b[0m \u001b[0m__call__\u001b[0m\u001b[0;34m(\u001b[0m\u001b[0mself\u001b[0m\u001b[0;34m,\u001b[0m \u001b[0;34m*\u001b[0m\u001b[0margs\u001b[0m\u001b[0;34m,\u001b[0m \u001b[0;34m**\u001b[0m\u001b[0mkwargs\u001b[0m\u001b[0;34m)\u001b[0m\u001b[0;34m:\u001b[0m\u001b[0;34m\u001b[0m\u001b[0;34m\u001b[0m\u001b[0m\n\u001b[0;32m--> 349\u001b[0;31m         \u001b[0;32mreturn\u001b[0m \u001b[0mself\u001b[0m\u001b[0;34m.\u001b[0m\u001b[0mfunc\u001b[0m\u001b[0;34m(\u001b[0m\u001b[0;34m*\u001b[0m\u001b[0margs\u001b[0m\u001b[0;34m,\u001b[0m \u001b[0;34m**\u001b[0m\u001b[0mkwargs\u001b[0m\u001b[0;34m)\u001b[0m\u001b[0;34m\u001b[0m\u001b[0;34m\u001b[0m\u001b[0m\n\u001b[0m\u001b[1;32m    350\u001b[0m \u001b[0;34m\u001b[0m\u001b[0m\n\u001b[1;32m    351\u001b[0m     \u001b[0;32mdef\u001b[0m \u001b[0mcall_and_shelve\u001b[0m\u001b[0;34m(\u001b[0m\u001b[0mself\u001b[0m\u001b[0;34m,\u001b[0m \u001b[0;34m*\u001b[0m\u001b[0margs\u001b[0m\u001b[0;34m,\u001b[0m \u001b[0;34m**\u001b[0m\u001b[0mkwargs\u001b[0m\u001b[0;34m)\u001b[0m\u001b[0;34m:\u001b[0m\u001b[0;34m\u001b[0m\u001b[0;34m\u001b[0m\u001b[0m\n",
      "\u001b[0;32m~/venv/lib/python3.7/site-packages/sklearn/pipeline.py\u001b[0m in \u001b[0;36m_fit_transform_one\u001b[0;34m(transformer, X, y, weight, message_clsname, message, **fit_params)\u001b[0m\n\u001b[1;32m    738\u001b[0m     \u001b[0;32mwith\u001b[0m \u001b[0m_print_elapsed_time\u001b[0m\u001b[0;34m(\u001b[0m\u001b[0mmessage_clsname\u001b[0m\u001b[0;34m,\u001b[0m \u001b[0mmessage\u001b[0m\u001b[0;34m)\u001b[0m\u001b[0;34m:\u001b[0m\u001b[0;34m\u001b[0m\u001b[0;34m\u001b[0m\u001b[0m\n\u001b[1;32m    739\u001b[0m         \u001b[0;32mif\u001b[0m \u001b[0mhasattr\u001b[0m\u001b[0;34m(\u001b[0m\u001b[0mtransformer\u001b[0m\u001b[0;34m,\u001b[0m \u001b[0;34m'fit_transform'\u001b[0m\u001b[0;34m)\u001b[0m\u001b[0;34m:\u001b[0m\u001b[0;34m\u001b[0m\u001b[0;34m\u001b[0m\u001b[0m\n\u001b[0;32m--> 740\u001b[0;31m             \u001b[0mres\u001b[0m \u001b[0;34m=\u001b[0m \u001b[0mtransformer\u001b[0m\u001b[0;34m.\u001b[0m\u001b[0mfit_transform\u001b[0m\u001b[0;34m(\u001b[0m\u001b[0mX\u001b[0m\u001b[0;34m,\u001b[0m \u001b[0my\u001b[0m\u001b[0;34m,\u001b[0m \u001b[0;34m**\u001b[0m\u001b[0mfit_params\u001b[0m\u001b[0;34m)\u001b[0m\u001b[0;34m\u001b[0m\u001b[0;34m\u001b[0m\u001b[0m\n\u001b[0m\u001b[1;32m    741\u001b[0m         \u001b[0;32melse\u001b[0m\u001b[0;34m:\u001b[0m\u001b[0;34m\u001b[0m\u001b[0;34m\u001b[0m\u001b[0m\n\u001b[1;32m    742\u001b[0m             \u001b[0mres\u001b[0m \u001b[0;34m=\u001b[0m \u001b[0mtransformer\u001b[0m\u001b[0;34m.\u001b[0m\u001b[0mfit\u001b[0m\u001b[0;34m(\u001b[0m\u001b[0mX\u001b[0m\u001b[0;34m,\u001b[0m \u001b[0my\u001b[0m\u001b[0;34m,\u001b[0m \u001b[0;34m**\u001b[0m\u001b[0mfit_params\u001b[0m\u001b[0;34m)\u001b[0m\u001b[0;34m.\u001b[0m\u001b[0mtransform\u001b[0m\u001b[0;34m(\u001b[0m\u001b[0mX\u001b[0m\u001b[0;34m)\u001b[0m\u001b[0;34m\u001b[0m\u001b[0;34m\u001b[0m\u001b[0m\n",
      "\u001b[0;32m~/venv/lib/python3.7/site-packages/pycaret/internal/preprocess.py\u001b[0m in \u001b[0;36mfit_transform\u001b[0;34m(self, dataset, y)\u001b[0m\n\u001b[1;32m    419\u001b[0m \u001b[0;34m\u001b[0m\u001b[0m\n\u001b[1;32m    420\u001b[0m         \u001b[0;31m# since this is for training , we dont nees any transformation since it has already been transformed in fit\u001b[0m\u001b[0;34m\u001b[0m\u001b[0;34m\u001b[0m\u001b[0;34m\u001b[0m\u001b[0m\n\u001b[0;32m--> 421\u001b[0;31m         \u001b[0mdata\u001b[0m \u001b[0;34m=\u001b[0m \u001b[0mself\u001b[0m\u001b[0;34m.\u001b[0m\u001b[0mfit\u001b[0m\u001b[0;34m(\u001b[0m\u001b[0mdata\u001b[0m\u001b[0;34m)\u001b[0m\u001b[0;34m\u001b[0m\u001b[0;34m\u001b[0m\u001b[0m\n\u001b[0m\u001b[1;32m    422\u001b[0m \u001b[0;34m\u001b[0m\u001b[0m\n\u001b[1;32m    423\u001b[0m         \u001b[0;31m# additionally we just need to treat the target variable\u001b[0m\u001b[0;34m\u001b[0m\u001b[0;34m\u001b[0m\u001b[0;34m\u001b[0m\u001b[0m\n",
      "\u001b[0;32m~/venv/lib/python3.7/site-packages/pycaret/internal/preprocess.py\u001b[0m in \u001b[0;36mfit\u001b[0;34m(self, dataset, y)\u001b[0m\n\u001b[1;32m    192\u001b[0m             \u001b[0;31m# count how many digits are there that have decimiles\u001b[0m\u001b[0;34m\u001b[0m\u001b[0;34m\u001b[0m\u001b[0;34m\u001b[0m\u001b[0m\n\u001b[1;32m    193\u001b[0m             count_float = np.nansum(\n\u001b[0;32m--> 194\u001b[0;31m                 \u001b[0;34m[\u001b[0m\u001b[0;32mFalse\u001b[0m \u001b[0;32mif\u001b[0m \u001b[0mr\u001b[0m\u001b[0;34m.\u001b[0m\u001b[0mis_integer\u001b[0m\u001b[0;34m(\u001b[0m\u001b[0;34m)\u001b[0m \u001b[0;32melse\u001b[0m \u001b[0;32mTrue\u001b[0m \u001b[0;32mfor\u001b[0m \u001b[0mr\u001b[0m \u001b[0;32min\u001b[0m \u001b[0mdata\u001b[0m\u001b[0;34m[\u001b[0m\u001b[0mi\u001b[0m\u001b[0;34m]\u001b[0m\u001b[0;34m]\u001b[0m\u001b[0;34m\u001b[0m\u001b[0;34m\u001b[0m\u001b[0m\n\u001b[0m\u001b[1;32m    195\u001b[0m             )\n\u001b[1;32m    196\u001b[0m             \u001b[0;31m# total decimiels digits\u001b[0m\u001b[0;34m\u001b[0m\u001b[0;34m\u001b[0m\u001b[0;34m\u001b[0m\u001b[0m\n",
      "\u001b[0;32m~/venv/lib/python3.7/site-packages/pycaret/internal/preprocess.py\u001b[0m in \u001b[0;36m<listcomp>\u001b[0;34m(.0)\u001b[0m\n\u001b[1;32m    192\u001b[0m             \u001b[0;31m# count how many digits are there that have decimiles\u001b[0m\u001b[0;34m\u001b[0m\u001b[0;34m\u001b[0m\u001b[0;34m\u001b[0m\u001b[0m\n\u001b[1;32m    193\u001b[0m             count_float = np.nansum(\n\u001b[0;32m--> 194\u001b[0;31m                 \u001b[0;34m[\u001b[0m\u001b[0;32mFalse\u001b[0m \u001b[0;32mif\u001b[0m \u001b[0mr\u001b[0m\u001b[0;34m.\u001b[0m\u001b[0mis_integer\u001b[0m\u001b[0;34m(\u001b[0m\u001b[0;34m)\u001b[0m \u001b[0;32melse\u001b[0m \u001b[0;32mTrue\u001b[0m \u001b[0;32mfor\u001b[0m \u001b[0mr\u001b[0m \u001b[0;32min\u001b[0m \u001b[0mdata\u001b[0m\u001b[0;34m[\u001b[0m\u001b[0mi\u001b[0m\u001b[0;34m]\u001b[0m\u001b[0;34m]\u001b[0m\u001b[0;34m\u001b[0m\u001b[0;34m\u001b[0m\u001b[0m\n\u001b[0m\u001b[1;32m    195\u001b[0m             )\n\u001b[1;32m    196\u001b[0m             \u001b[0;31m# total decimiels digits\u001b[0m\u001b[0;34m\u001b[0m\u001b[0;34m\u001b[0m\u001b[0;34m\u001b[0m\u001b[0m\n",
      "\u001b[0;31mAttributeError\u001b[0m: 'numpy.float32' object has no attribute 'is_integer'"
     ]
    }
   ]
  },
  {
   "cell_type": "code",
   "metadata": {
    "cell_id": "ea2dedd26f31482784c6a2cd484c93c6",
    "tags": [],
    "deepnote_cell_type": "code",
    "deepnote_cell_height": 66
   },
   "source": "",
   "execution_count": null,
   "outputs": []
  },
  {
   "cell_type": "markdown",
   "source": "<a style='text-decoration:none;line-height:16px;display:flex;color:#5B5B62;padding:10px;justify-content:end;' href='https://deepnote.com?utm_source=created-in-deepnote-cell&projectId=659c715d-e2b5-478e-9116-4d32a5174810' target=\"_blank\">\n<img alt='Created in deepnote.com' style='display:inline;max-height:16px;margin:0px;margin-right:7.5px;' src='data:image/svg+xml;base64,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' > </img>\nCreated in <span style='font-weight:600;margin-left:4px;'>Deepnote</span></a>",
   "metadata": {
    "tags": [],
    "created_in_deepnote_cell": true,
    "deepnote_cell_type": "markdown"
   }
  }
 ],
 "nbformat": 4,
 "nbformat_minor": 2,
 "metadata": {
  "orig_nbformat": 2,
  "deepnote": {},
  "deepnote_notebook_id": "a89a75cf-236d-4db3-8e16-86b466c19485",
  "deepnote_execution_queue": []
 }
}